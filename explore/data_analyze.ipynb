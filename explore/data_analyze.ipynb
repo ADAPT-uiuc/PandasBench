{
 "cells": [
  {
   "cell_type": "code",
   "execution_count": 1,
   "id": "8ca98113",
   "metadata": {},
   "outputs": [],
   "source": [
    "import json\n",
    "from collections import defaultdict\n",
    "import pandas as pd\n",
    "import matplotlib.pyplot as plt"
   ]
  },
  {
   "cell_type": "code",
   "execution_count": 2,
   "id": "1c3d0f75",
   "metadata": {},
   "outputs": [],
   "source": [
    "with open('data_stats.json', 'r') as fp:\n",
    "  d = json.load(fp)"
   ]
  },
  {
   "cell_type": "markdown",
   "id": "fc76d881",
   "metadata": {},
   "source": [
    "## Average ratio of rows to cols"
   ]
  },
  {
   "cell_type": "code",
   "execution_count": 3,
   "id": "c2ca22fc",
   "metadata": {},
   "outputs": [
    {
     "name": "stdout",
     "output_type": "stream",
     "text": [
      "user: vinothsuku\n",
      "base: test\n",
      "nrows: 5\n",
      "ncols: 7\n",
      "ratio: 0.7142857142857143\n",
      "---\n",
      "user: seriousran\n",
      "base: Measurement_item_info\n",
      "nrows: 6\n",
      "ncols: 7\n",
      "ratio: 0.8571428571428571\n",
      "---\n",
      "271458.9190213947\n"
     ]
    }
   ],
   "source": [
    "ratios = []\n",
    "  \n",
    "for user in d.keys():\n",
    "  for base in d[user].keys():\n",
    "    nrows = d[user][base]['nrows']\n",
    "    ncols = d[user][base]['ncols']\n",
    "    ratio = nrows / ncols\n",
    "    ratios.append(ratio)\n",
    "    \n",
    "    # Is the ratio ever below 1? I.e., do we ever have more cols than rows?\n",
    "    if ratio < 1:\n",
    "      print('user:', user)\n",
    "      print('base:', base)\n",
    "      print('nrows:', nrows)\n",
    "      print('ncols:', ncols)\n",
    "      print('ratio:', ratio)\n",
    "      print('---')\n",
    "  ### END FOR ###\n",
    "### END FOR ###\n",
    "\n",
    "avg_ratio = sum(ratios) / len(ratios)\n",
    "\n",
    "print(avg_ratio)\n"
   ]
  },
  {
   "cell_type": "markdown",
   "id": "d0892cc6",
   "metadata": {},
   "source": [
    "## Histogram of Column Types"
   ]
  },
  {
   "cell_type": "code",
   "execution_count": null,
   "id": "a901e358",
   "metadata": {},
   "outputs": [
    {
     "data": {
      "image/png": "[encoded data removed]",
      "text/plain": [
       "<Figure size 500x150 with 1 Axes>"
      ]
     },
     "metadata": {},
     "output_type": "display_data"
    }
   ],
   "source": [
    "tys = defaultdict(int)\n",
    "\n",
    "for user in d.keys():\n",
    "  for base in d[user].keys():\n",
    "    types = d[user][base]['types']\n",
    "    for ty in types:\n",
    "      tys[ty] += 1\n",
    "    ### END FOR ###\n",
    "  ### END FOR ###\n",
    "### END FOR ###\n",
    "\n",
    "tys_count = pd.Series(tys)\n",
    "\n",
    "\n",
    "\n",
    "ax = tys_count.plot(kind=\"bar\", legend=False, figsize=(5, 1.5), color=\"#A08963\", alpha=0.9)\n",
    "plt.ylabel(\"Count\", fontsize=11)\n",
    "plt.xlabel(\"Types\", fontsize=11)\n",
    "plt.xticks(rotation=0)\n",
    "ax.set_ylim(0, tys_count.max() * 1.2)  # 20% padding above the highest bar\n",
    "# plt.grid(True, which='both', axis='y', linestyle='--', linewidth=0.7, color='lightgrey')\n",
    "# plt.tick_params(axis='y', which='major', labelsize=12)\n",
    "\n",
    "for bar in ax.patches:\n",
    "  ax.text(bar.get_x() + bar.get_width() / 2, bar.get_height(), \n",
    "          f'{bar.get_height()}', ha='center', va='bottom', fontsize=10)\n",
    "\n",
    "\n",
    "plt.savefig(f'types_count.png', format='png', dpi=200, bbox_inches='tight')"
   ]
  }
 ],
 "metadata": {
  "kernelspec": {
   "display_name": "ds-env",
   "language": "python",
   "name": "python3"
  },
  "language_info": {
   "codemirror_mode": {
    "name": "ipython",
    "version": 3
   },
   "file_extension": ".py",
   "mimetype": "text/x-python",
   "name": "python",
   "nbconvert_exporter": "python",
   "pygments_lexer": "ipython3",
   "version": "3.10.12"
  }
 },
 "nbformat": 4,
 "nbformat_minor": 5
}
