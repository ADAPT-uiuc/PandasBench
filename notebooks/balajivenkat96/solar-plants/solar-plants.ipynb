{
 "cells": [
  {
   "cell_type": "code",
   "execution_count": null,
   "metadata": {},
   "outputs": [],
   "source": [
    "import os\n",
    "\n",
    "def scale_input_data(scale_factor):\n",
    "  file_bases = ['./input/Plant_1_Generation_Data', './input/Plant_1_Weather_Sensor_Data',\n",
    "                './input/Plant_2_Generation_Data', './input/Plant_2_Weather_Sensor_Data']\n",
    "  for file_base in file_bases:\n",
    "    import pandas as pd\n",
    "    import shutil\n",
    "    if scale_factor == 1.0:\n",
    "      shutil.copyfile(file_base + '.csv', file_base + '.scaled.csv')\n",
    "      continue\n",
    "    df_to_scale = pd.read_csv(file_base + '.csv')\n",
    "    new_num_rows = int(scale_factor * len(df_to_scale))\n",
    "    if scale_factor <= 1.0:\n",
    "      df_to_scale = df_to_scale.iloc[:new_num_rows]\n",
    "    else:\n",
    "      while len(df_to_scale) < new_num_rows:\n",
    "        df_to_scale = pd.concat([df_to_scale, df_to_scale[:min(new_num_rows - len(df_to_scale), len(df_to_scale))]])\n",
    "    df_to_scale.to_csv(file_base + '.scaled.csv', index=False)\n",
    "\n",
    "if 'INPUT_SCALE_FACTOR' in os.environ:\n",
    "  scale_input_data(float(os.environ['INPUT_SCALE_FACTOR']))"
   ]
  },
  {
   "cell_type": "code",
   "execution_count": 1,
   "metadata": {
    "_cell_guid": "b1076dfc-b9ad-4769-8c92-a6c4dae69d19",
    "_uuid": "8f2839f25d086af736a60e9eeb907d3b93b6e0e5",
    "execution": {
     "iopub.execute_input": "2020-09-16T04:46:41.065691Z",
     "iopub.status.busy": "2020-09-16T04:46:41.064790Z",
     "iopub.status.idle": "2020-09-16T04:46:42.272459Z",
     "shell.execute_reply": "2020-09-16T04:46:42.271470Z"
    },
    "papermill": {
     "duration": 1.278118,
     "end_time": "2020-09-16T04:46:42.272662",
     "exception": false,
     "start_time": "2020-09-16T04:46:40.994544",
     "status": "completed"
    },
    "tags": []
   },
   "outputs": [],
   "source": [
    "# This Python 3 environment comes with many helpful analytics libraries installed\n",
    "# It is defined by the kaggle/python Docker image: https://github.com/kaggle/docker-python\n",
    "# For example, here's several helpful packages to load\n",
    "\n",
    "import numpy as np # linear algebra\n",
    "# import pandas as pd # data processing, CSV file I/O (e.g. pd.read_csv)\n",
    "exec(os.environ['IREWR_IMPORTS'])\n",
    "# FIRST-AUTHOR: remove plotting\n",
    "# import seaborn as sns\n",
    "# import matplotlib.pyplot as plt\n",
    "# Input data files are available in the read-only \"../input/\" directory\n",
    "# For example, running this (by clicking run or pressing Shift+Enter) will list all files under the input directory\n",
    "\n",
    "# FIRST-AUTHOR: remove path printing\n",
    "# import os\n",
    "# for dirname, _, filenames in os.walk('./input'):\n",
    "#     for filename in filenames:\n",
    "#         print(os.path.join(dirname, filename))\n",
    "\n",
    "# You can write up to 5GB to the current directory (/kaggle/working/) that gets preserved as output when you create a version using \"Save & Run All\" \n",
    "# You can also write temporary files to /kaggle/temp/, but they won't be saved outside of the current session"
   ]
  },
  {
   "cell_type": "code",
   "execution_count": 2,
   "metadata": {
    "execution": {
     "iopub.execute_input": "2020-09-16T04:46:42.405116Z",
     "iopub.status.busy": "2020-09-16T04:46:42.403880Z",
     "iopub.status.idle": "2020-09-16T04:46:42.407839Z",
     "shell.execute_reply": "2020-09-16T04:46:42.407171Z"
    },
    "papermill": {
     "duration": 0.072019,
     "end_time": "2020-09-16T04:46:42.408003",
     "exception": false,
     "start_time": "2020-09-16T04:46:42.335984",
     "status": "completed"
    },
    "tags": []
   },
   "outputs": [],
   "source": [
    "mydateparser = lambda x: pd.datetime.strptime(x, \"%d-%m-%Y %H:%M\")\n"
   ]
  },
  {
   "cell_type": "markdown",
   "metadata": {
    "_cell_guid": "79c7e3d0-c299-4dcb-8224-4455121ee9b0",
    "_uuid": "d629ff2d2480ee46fbb7e2d37f6b5fab8052498a",
    "collapsed": true,
    "papermill": {
     "duration": 0.059896,
     "end_time": "2020-09-16T04:46:42.529245",
     "exception": false,
     "start_time": "2020-09-16T04:46:42.469349",
     "status": "completed"
    },
    "tags": []
   },
   "source": [
    "### Let's concentrate on plant 1 for the time being"
   ]
  },
  {
   "cell_type": "code",
   "execution_count": 3,
   "metadata": {
    "execution": {
     "iopub.execute_input": "2020-09-16T04:46:42.667586Z",
     "iopub.status.busy": "2020-09-16T04:46:42.666668Z",
     "iopub.status.idle": "2020-09-16T04:46:44.471813Z",
     "shell.execute_reply": "2020-09-16T04:46:44.471039Z"
    },
    "papermill": {
     "duration": 1.88245,
     "end_time": "2020-09-16T04:46:44.471970",
     "exception": false,
     "start_time": "2020-09-16T04:46:42.589520",
     "status": "completed"
    },
    "tags": []
   },
   "outputs": [
    {
     "name": "stderr",
     "output_type": "stream",
     "text": [
      "/tmp/ipykernel_384611/357620087.py:1: FutureWarning: The pandas.datetime class is deprecated and will be removed from pandas in a future version. Import from datetime module instead.\n",
      "  mydateparser = lambda x: pd.datetime.strptime(x, \"%d-%m-%Y %H:%M\")\n"
     ]
    }
   ],
   "source": [
    "gen_data = pd.read_csv(\"./input/Plant_1_Generation_Data.scaled.csv\",index_col = \"DATE_TIME\",parse_dates = [\"DATE_TIME\"] , date_parser = mydateparser)"
   ]
  },
  {
   "cell_type": "code",
   "execution_count": 4,
   "metadata": {
    "execution": {
     "iopub.execute_input": "2020-09-16T04:46:44.613426Z",
     "iopub.status.busy": "2020-09-16T04:46:44.612545Z",
     "iopub.status.idle": "2020-09-16T04:46:44.624978Z",
     "shell.execute_reply": "2020-09-16T04:46:44.625690Z"
    },
    "papermill": {
     "duration": 0.092748,
     "end_time": "2020-09-16T04:46:44.625885",
     "exception": false,
     "start_time": "2020-09-16T04:46:44.533137",
     "status": "completed"
    },
    "tags": []
   },
   "outputs": [
    {
     "data": {
      "text/html": [
       "<div>\n",
       "<style scoped>\n",
       "    .dataframe tbody tr th:only-of-type {\n",
       "        vertical-align: middle;\n",
       "    }\n",
       "\n",
       "    .dataframe tbody tr th {\n",
       "        vertical-align: top;\n",
       "    }\n",
       "\n",
       "    .dataframe thead th {\n",
       "        text-align: right;\n",
       "    }\n",
       "</style>\n",
       "<table border=\"1\" class=\"dataframe\">\n",
       "  <thead>\n",
       "    <tr style=\"text-align: right;\">\n",
       "      <th></th>\n",
       "      <th>PLANT_ID</th>\n",
       "      <th>SOURCE_KEY</th>\n",
       "      <th>DC_POWER</th>\n",
       "      <th>AC_POWER</th>\n",
       "      <th>DAILY_YIELD</th>\n",
       "      <th>TOTAL_YIELD</th>\n",
       "    </tr>\n",
       "    <tr>\n",
       "      <th>DATE_TIME</th>\n",
       "      <th></th>\n",
       "      <th></th>\n",
       "      <th></th>\n",
       "      <th></th>\n",
       "      <th></th>\n",
       "      <th></th>\n",
       "    </tr>\n",
       "  </thead>\n",
       "  <tbody>\n",
       "    <tr>\n",
       "      <th>2020-05-15</th>\n",
       "      <td>4135001</td>\n",
       "      <td>1BY6WEcLGh8j5v7</td>\n",
       "      <td>0.0</td>\n",
       "      <td>0.0</td>\n",
       "      <td>0.0</td>\n",
       "      <td>6259559.0</td>\n",
       "    </tr>\n",
       "    <tr>\n",
       "      <th>2020-05-15</th>\n",
       "      <td>4135001</td>\n",
       "      <td>1IF53ai7Xc0U56Y</td>\n",
       "      <td>0.0</td>\n",
       "      <td>0.0</td>\n",
       "      <td>0.0</td>\n",
       "      <td>6183645.0</td>\n",
       "    </tr>\n",
       "    <tr>\n",
       "      <th>2020-05-15</th>\n",
       "      <td>4135001</td>\n",
       "      <td>3PZuoBAID5Wc2HD</td>\n",
       "      <td>0.0</td>\n",
       "      <td>0.0</td>\n",
       "      <td>0.0</td>\n",
       "      <td>6987759.0</td>\n",
       "    </tr>\n",
       "    <tr>\n",
       "      <th>2020-05-15</th>\n",
       "      <td>4135001</td>\n",
       "      <td>7JYdWkrLSPkdwr4</td>\n",
       "      <td>0.0</td>\n",
       "      <td>0.0</td>\n",
       "      <td>0.0</td>\n",
       "      <td>7602960.0</td>\n",
       "    </tr>\n",
       "    <tr>\n",
       "      <th>2020-05-15</th>\n",
       "      <td>4135001</td>\n",
       "      <td>McdE0feGgRqW7Ca</td>\n",
       "      <td>0.0</td>\n",
       "      <td>0.0</td>\n",
       "      <td>0.0</td>\n",
       "      <td>7158964.0</td>\n",
       "    </tr>\n",
       "  </tbody>\n",
       "</table>\n",
       "</div>"
      ],
      "text/plain": [
       "            PLANT_ID       SOURCE_KEY  DC_POWER  AC_POWER  DAILY_YIELD  \\\n",
       "DATE_TIME                                                                \n",
       "2020-05-15   4135001  1BY6WEcLGh8j5v7       0.0       0.0          0.0   \n",
       "2020-05-15   4135001  1IF53ai7Xc0U56Y       0.0       0.0          0.0   \n",
       "2020-05-15   4135001  3PZuoBAID5Wc2HD       0.0       0.0          0.0   \n",
       "2020-05-15   4135001  7JYdWkrLSPkdwr4       0.0       0.0          0.0   \n",
       "2020-05-15   4135001  McdE0feGgRqW7Ca       0.0       0.0          0.0   \n",
       "\n",
       "            TOTAL_YIELD  \n",
       "DATE_TIME                \n",
       "2020-05-15    6259559.0  \n",
       "2020-05-15    6183645.0  \n",
       "2020-05-15    6987759.0  \n",
       "2020-05-15    7602960.0  \n",
       "2020-05-15    7158964.0  "
      ]
     },
     "execution_count": 4,
     "metadata": {},
     "output_type": "execute_result"
    }
   ],
   "source": [
    "gen_data.head()"
   ]
  },
  {
   "cell_type": "code",
   "execution_count": 5,
   "metadata": {
    "execution": {
     "iopub.execute_input": "2020-09-16T04:46:44.790722Z",
     "iopub.status.busy": "2020-09-16T04:46:44.757066Z",
     "iopub.status.idle": "2020-09-16T04:46:46.022036Z",
     "shell.execute_reply": "2020-09-16T04:46:46.021312Z"
    },
    "papermill": {
     "duration": 1.33439,
     "end_time": "2020-09-16T04:46:46.022209",
     "exception": false,
     "start_time": "2020-09-16T04:46:44.687819",
     "status": "completed"
    },
    "tags": []
   },
   "outputs": [],
   "source": [
    "gen_data[\"Date\"] = pd.to_datetime(gen_data.index.map(lambda x : x.date()))\n",
    "gen_data[\"Time\"] = gen_data.index.map(lambda x : x.time())"
   ]
  },
  {
   "cell_type": "code",
   "execution_count": 6,
   "metadata": {
    "execution": {
     "iopub.execute_input": "2020-09-16T04:46:46.156379Z",
     "iopub.status.busy": "2020-09-16T04:46:46.155443Z",
     "iopub.status.idle": "2020-09-16T04:46:46.196516Z",
     "shell.execute_reply": "2020-09-16T04:46:46.195773Z"
    },
    "papermill": {
     "duration": 0.111321,
     "end_time": "2020-09-16T04:46:46.196666",
     "exception": false,
     "start_time": "2020-09-16T04:46:46.085345",
     "status": "completed"
    },
    "tags": []
   },
   "outputs": [
    {
     "data": {
      "text/html": [
       "<div>\n",
       "<style scoped>\n",
       "    .dataframe tbody tr th:only-of-type {\n",
       "        vertical-align: middle;\n",
       "    }\n",
       "\n",
       "    .dataframe tbody tr th {\n",
       "        vertical-align: top;\n",
       "    }\n",
       "\n",
       "    .dataframe thead th {\n",
       "        text-align: right;\n",
       "    }\n",
       "</style>\n",
       "<table border=\"1\" class=\"dataframe\">\n",
       "  <thead>\n",
       "    <tr style=\"text-align: right;\">\n",
       "      <th></th>\n",
       "      <th>PLANT_ID</th>\n",
       "      <th>SOURCE_KEY</th>\n",
       "      <th>DC_POWER</th>\n",
       "      <th>AC_POWER</th>\n",
       "      <th>DAILY_YIELD</th>\n",
       "      <th>TOTAL_YIELD</th>\n",
       "      <th>Date</th>\n",
       "      <th>Time</th>\n",
       "    </tr>\n",
       "    <tr>\n",
       "      <th>DATE_TIME</th>\n",
       "      <th></th>\n",
       "      <th></th>\n",
       "      <th></th>\n",
       "      <th></th>\n",
       "      <th></th>\n",
       "      <th></th>\n",
       "      <th></th>\n",
       "      <th></th>\n",
       "    </tr>\n",
       "  </thead>\n",
       "  <tbody>\n",
       "  </tbody>\n",
       "</table>\n",
       "</div>"
      ],
      "text/plain": [
       "Empty DataFrame\n",
       "Columns: [PLANT_ID, SOURCE_KEY, DC_POWER, AC_POWER, DAILY_YIELD, TOTAL_YIELD, Date, Time]\n",
       "Index: []"
      ]
     },
     "execution_count": 6,
     "metadata": {},
     "output_type": "execute_result"
    }
   ],
   "source": [
    "gen_data.loc[(gen_data[\"DC_POWER\"] == 0) & (gen_data[\"AC_POWER\"] != 0)]"
   ]
  },
  {
   "cell_type": "code",
   "execution_count": 7,
   "metadata": {
    "execution": {
     "iopub.execute_input": "2020-09-16T04:46:46.329683Z",
     "iopub.status.busy": "2020-09-16T04:46:46.328813Z",
     "iopub.status.idle": "2020-09-16T04:46:46.342773Z",
     "shell.execute_reply": "2020-09-16T04:46:46.342064Z"
    },
    "papermill": {
     "duration": 0.083773,
     "end_time": "2020-09-16T04:46:46.342920",
     "exception": false,
     "start_time": "2020-09-16T04:46:46.259147",
     "status": "completed"
    },
    "tags": []
   },
   "outputs": [
    {
     "data": {
      "text/html": [
       "<div>\n",
       "<style scoped>\n",
       "    .dataframe tbody tr th:only-of-type {\n",
       "        vertical-align: middle;\n",
       "    }\n",
       "\n",
       "    .dataframe tbody tr th {\n",
       "        vertical-align: top;\n",
       "    }\n",
       "\n",
       "    .dataframe thead th {\n",
       "        text-align: right;\n",
       "    }\n",
       "</style>\n",
       "<table border=\"1\" class=\"dataframe\">\n",
       "  <thead>\n",
       "    <tr style=\"text-align: right;\">\n",
       "      <th></th>\n",
       "      <th>PLANT_ID</th>\n",
       "      <th>SOURCE_KEY</th>\n",
       "      <th>DC_POWER</th>\n",
       "      <th>AC_POWER</th>\n",
       "      <th>DAILY_YIELD</th>\n",
       "      <th>TOTAL_YIELD</th>\n",
       "      <th>Date</th>\n",
       "      <th>Time</th>\n",
       "    </tr>\n",
       "    <tr>\n",
       "      <th>DATE_TIME</th>\n",
       "      <th></th>\n",
       "      <th></th>\n",
       "      <th></th>\n",
       "      <th></th>\n",
       "      <th></th>\n",
       "      <th></th>\n",
       "      <th></th>\n",
       "      <th></th>\n",
       "    </tr>\n",
       "  </thead>\n",
       "  <tbody>\n",
       "  </tbody>\n",
       "</table>\n",
       "</div>"
      ],
      "text/plain": [
       "Empty DataFrame\n",
       "Columns: [PLANT_ID, SOURCE_KEY, DC_POWER, AC_POWER, DAILY_YIELD, TOTAL_YIELD, Date, Time]\n",
       "Index: []"
      ]
     },
     "execution_count": 7,
     "metadata": {},
     "output_type": "execute_result"
    }
   ],
   "source": [
    "gen_data.loc[(gen_data[\"DC_POWER\"] != 0) & (gen_data[\"AC_POWER\"] == 0)]"
   ]
  },
  {
   "cell_type": "markdown",
   "metadata": {
    "papermill": {
     "duration": 0.063076,
     "end_time": "2020-09-16T04:46:46.469378",
     "exception": false,
     "start_time": "2020-09-16T04:46:46.406302",
     "status": "completed"
    },
    "tags": []
   },
   "source": [
    "### Exploration"
   ]
  },
  {
   "cell_type": "markdown",
   "metadata": {
    "papermill": {
     "duration": 0.062882,
     "end_time": "2020-09-16T04:46:46.597460",
     "exception": false,
     "start_time": "2020-09-16T04:46:46.534578",
     "status": "completed"
    },
    "tags": []
   },
   "source": [
    "Check for NaNs"
   ]
  },
  {
   "cell_type": "code",
   "execution_count": 8,
   "metadata": {
    "execution": {
     "iopub.execute_input": "2020-09-16T04:46:46.759565Z",
     "iopub.status.busy": "2020-09-16T04:46:46.758494Z",
     "iopub.status.idle": "2020-09-16T04:46:46.832463Z",
     "shell.execute_reply": "2020-09-16T04:46:46.831809Z"
    },
    "papermill": {
     "duration": 0.171395,
     "end_time": "2020-09-16T04:46:46.832610",
     "exception": false,
     "start_time": "2020-09-16T04:46:46.661215",
     "status": "completed"
    },
    "tags": []
   },
   "outputs": [
    {
     "data": {
      "text/plain": [
       "[False, False, False, False, False, False, False, False]"
      ]
     },
     "execution_count": 8,
     "metadata": {},
     "output_type": "execute_result"
    }
   ],
   "source": [
    "[any(pd.isnull(gen_data[column])) for column in gen_data.columns]"
   ]
  },
  {
   "cell_type": "code",
   "execution_count": 9,
   "metadata": {
    "execution": {
     "iopub.execute_input": "2020-09-16T04:46:46.968992Z",
     "iopub.status.busy": "2020-09-16T04:46:46.967713Z",
     "iopub.status.idle": "2020-09-16T04:46:46.971452Z",
     "shell.execute_reply": "2020-09-16T04:46:46.970766Z"
    },
    "papermill": {
     "duration": 0.075305,
     "end_time": "2020-09-16T04:46:46.971600",
     "exception": false,
     "start_time": "2020-09-16T04:46:46.896295",
     "status": "completed"
    },
    "tags": []
   },
   "outputs": [],
   "source": [
    "numeric_columns = [column for column in gen_data.columns if gen_data[column].dtype in ['int64','float64']]\n",
    "other_columns = [column for column in gen_data.columns if column not in numeric_columns]"
   ]
  },
  {
   "cell_type": "code",
   "execution_count": 10,
   "metadata": {
    "execution": {
     "iopub.execute_input": "2020-09-16T04:46:47.117391Z",
     "iopub.status.busy": "2020-09-16T04:46:47.116533Z",
     "iopub.status.idle": "2020-09-16T04:46:47.162836Z",
     "shell.execute_reply": "2020-09-16T04:46:47.162102Z"
    },
    "papermill": {
     "duration": 0.126932,
     "end_time": "2020-09-16T04:46:47.162981",
     "exception": false,
     "start_time": "2020-09-16T04:46:47.036049",
     "status": "completed"
    },
    "tags": []
   },
   "outputs": [
    {
     "data": {
      "text/plain": [
       "[False, False, False, False, False]"
      ]
     },
     "execution_count": 10,
     "metadata": {},
     "output_type": "execute_result"
    }
   ],
   "source": [
    "[any(np.isnan(gen_data[column])) for column in numeric_columns]"
   ]
  },
  {
   "cell_type": "code",
   "execution_count": 11,
   "metadata": {
    "execution": {
     "iopub.execute_input": "2020-09-16T04:46:47.302160Z",
     "iopub.status.busy": "2020-09-16T04:46:47.301227Z",
     "iopub.status.idle": "2020-09-16T04:46:47.306020Z",
     "shell.execute_reply": "2020-09-16T04:46:47.305366Z"
    },
    "papermill": {
     "duration": 0.078455,
     "end_time": "2020-09-16T04:46:47.306168",
     "exception": false,
     "start_time": "2020-09-16T04:46:47.227713",
     "status": "completed"
    },
    "tags": []
   },
   "outputs": [
    {
     "data": {
      "text/plain": [
       "DATE_TIME\n",
       "2020-05-15   2020-05-15\n",
       "2020-05-15   2020-05-15\n",
       "2020-05-15   2020-05-15\n",
       "2020-05-15   2020-05-15\n",
       "2020-05-15   2020-05-15\n",
       "Name: Date, dtype: datetime64[ns]"
      ]
     },
     "execution_count": 11,
     "metadata": {},
     "output_type": "execute_result"
    }
   ],
   "source": [
    "gen_data[\"Date\"].head()"
   ]
  },
  {
   "cell_type": "markdown",
   "metadata": {
    "papermill": {
     "duration": 0.06454,
     "end_time": "2020-09-16T04:46:47.435982",
     "exception": false,
     "start_time": "2020-09-16T04:46:47.371442",
     "status": "completed"
    },
    "tags": []
   },
   "source": [
    "Excellent, no NaNs or empty entries"
   ]
  },
  {
   "cell_type": "markdown",
   "metadata": {
    "papermill": {
     "duration": 0.065216,
     "end_time": "2020-09-16T04:46:47.567477",
     "exception": false,
     "start_time": "2020-09-16T04:46:47.502261",
     "status": "completed"
    },
    "tags": []
   },
   "source": [
    "Plot power production as a function of time for a few inverters"
   ]
  },
  {
   "cell_type": "code",
   "execution_count": 12,
   "metadata": {
    "execution": {
     "iopub.execute_input": "2020-09-16T04:46:47.705478Z",
     "iopub.status.busy": "2020-09-16T04:46:47.704372Z",
     "iopub.status.idle": "2020-09-16T04:46:47.709765Z",
     "shell.execute_reply": "2020-09-16T04:46:47.709134Z"
    },
    "papermill": {
     "duration": 0.077561,
     "end_time": "2020-09-16T04:46:47.709911",
     "exception": false,
     "start_time": "2020-09-16T04:46:47.632350",
     "status": "completed"
    },
    "tags": []
   },
   "outputs": [
    {
     "data": {
      "text/plain": [
       "Index(['PLANT_ID', 'SOURCE_KEY', 'DC_POWER', 'AC_POWER', 'DAILY_YIELD',\n",
       "       'TOTAL_YIELD', 'Date', 'Time'],\n",
       "      dtype='object')"
      ]
     },
     "execution_count": 12,
     "metadata": {},
     "output_type": "execute_result"
    }
   ],
   "source": [
    "gen_data.columns"
   ]
  },
  {
   "cell_type": "code",
   "execution_count": 13,
   "metadata": {
    "execution": {
     "iopub.execute_input": "2020-09-16T04:46:47.853733Z",
     "iopub.status.busy": "2020-09-16T04:46:47.852786Z",
     "iopub.status.idle": "2020-09-16T04:46:47.859910Z",
     "shell.execute_reply": "2020-09-16T04:46:47.859071Z"
    },
    "papermill": {
     "duration": 0.084345,
     "end_time": "2020-09-16T04:46:47.860054",
     "exception": false,
     "start_time": "2020-09-16T04:46:47.775709",
     "status": "completed"
    },
    "tags": []
   },
   "outputs": [
    {
     "data": {
      "text/plain": [
       "22"
      ]
     },
     "execution_count": 13,
     "metadata": {},
     "output_type": "execute_result"
    }
   ],
   "source": [
    "len(gen_data[\"SOURCE_KEY\"].unique())"
   ]
  },
  {
   "cell_type": "code",
   "execution_count": 14,
   "metadata": {
    "execution": {
     "iopub.execute_input": "2020-09-16T04:46:48.005816Z",
     "iopub.status.busy": "2020-09-16T04:46:48.004643Z",
     "iopub.status.idle": "2020-09-16T04:46:48.010921Z",
     "shell.execute_reply": "2020-09-16T04:46:48.010230Z"
    },
    "papermill": {
     "duration": 0.084499,
     "end_time": "2020-09-16T04:46:48.011080",
     "exception": false,
     "start_time": "2020-09-16T04:46:47.926581",
     "status": "completed"
    },
    "tags": []
   },
   "outputs": [],
   "source": [
    "inverters = gen_data[\"SOURCE_KEY\"].unique()"
   ]
  },
  {
   "cell_type": "markdown",
   "metadata": {
    "papermill": {
     "duration": 0.066953,
     "end_time": "2020-09-16T04:46:48.144629",
     "exception": false,
     "start_time": "2020-09-16T04:46:48.077676",
     "status": "completed"
    },
    "tags": []
   },
   "source": [
    "Visualizing a time lapse of power production for all inverters on a given day (15/05/2020 in this case)"
   ]
  },
  {
   "cell_type": "code",
   "execution_count": 15,
   "metadata": {
    "execution": {
     "iopub.execute_input": "2020-09-16T04:46:48.288945Z",
     "iopub.status.busy": "2020-09-16T04:46:48.288086Z",
     "iopub.status.idle": "2020-09-16T04:46:59.692981Z",
     "shell.execute_reply": "2020-09-16T04:46:59.693654Z"
    },
    "papermill": {
     "duration": 11.482575,
     "end_time": "2020-09-16T04:46:59.693851",
     "exception": false,
     "start_time": "2020-09-16T04:46:48.211276",
     "status": "completed"
    },
    "tags": []
   },
   "outputs": [],
   "source": [
    "# FIRST-AUTHOR: remove plotting\n",
    "# fig = plt.figure(figsize = (25,16))\n",
    "for i,inverter in enumerate(inverters,1):\n",
    "# FIRST-AUTHOR: remove plotting\n",
    "#     plt.subplot(6,4,i)\n",
    "#     plt.yscale(\"log\")\n",
    "#     gen_data.loc[(gen_data[\"Date\"] == \"2020-05-15\") &  (gen_data[\"SOURCE_KEY\"] == inverter),\"DC_POWER\"].plot(label = inverter + \" DC\")\n",
    "#     gen_data.loc[(gen_data[\"Date\"] == \"2020-05-15\") & (gen_data[\"SOURCE_KEY\"] == inverter),\"AC_POWER\"].plot(label = inverter + \" AC\")\n",
    "#     plt.legend()\n",
    "    gen_data.loc[(gen_data[\"Date\"] == \"2020-05-15\") &  (gen_data[\"SOURCE_KEY\"] == inverter),\"DC_POWER\"]\n",
    "    gen_data.loc[(gen_data[\"Date\"] == \"2020-05-15\") & (gen_data[\"SOURCE_KEY\"] == inverter),\"AC_POWER\"]"
   ]
  },
  {
   "cell_type": "markdown",
   "metadata": {
    "papermill": {
     "duration": 0.073732,
     "end_time": "2020-09-16T04:46:59.842898",
     "exception": false,
     "start_time": "2020-09-16T04:46:59.769166",
     "status": "completed"
    },
    "tags": []
   },
   "source": [
    "* DC and AC seem to follow each other i.e., inverter seems to produce DC and convert it to AC (sanity check)\n",
    "* Inverters run from roughly 6AM to roughly 6PM"
   ]
  },
  {
   "cell_type": "code",
   "execution_count": 16,
   "metadata": {
    "execution": {
     "iopub.execute_input": "2020-09-16T04:47:00.008225Z",
     "iopub.status.busy": "2020-09-16T04:47:00.007274Z",
     "iopub.status.idle": "2020-09-16T04:47:00.047464Z",
     "shell.execute_reply": "2020-09-16T04:47:00.046808Z"
    },
    "papermill": {
     "duration": 0.12979,
     "end_time": "2020-09-16T04:47:00.047615",
     "exception": false,
     "start_time": "2020-09-16T04:46:59.917825",
     "status": "completed"
    },
    "tags": []
   },
   "outputs": [
    {
     "data": {
      "text/html": [
       "<div>\n",
       "<style scoped>\n",
       "    .dataframe tbody tr th:only-of-type {\n",
       "        vertical-align: middle;\n",
       "    }\n",
       "\n",
       "    .dataframe tbody tr th {\n",
       "        vertical-align: top;\n",
       "    }\n",
       "\n",
       "    .dataframe thead th {\n",
       "        text-align: right;\n",
       "    }\n",
       "</style>\n",
       "<table border=\"1\" class=\"dataframe\">\n",
       "  <thead>\n",
       "    <tr style=\"text-align: right;\">\n",
       "      <th></th>\n",
       "      <th>PLANT_ID</th>\n",
       "      <th>DC_POWER</th>\n",
       "      <th>AC_POWER</th>\n",
       "      <th>DAILY_YIELD</th>\n",
       "      <th>TOTAL_YIELD</th>\n",
       "      <th>Date</th>\n",
       "      <th>Time</th>\n",
       "    </tr>\n",
       "    <tr>\n",
       "      <th>SOURCE_KEY</th>\n",
       "      <th></th>\n",
       "      <th></th>\n",
       "      <th></th>\n",
       "      <th></th>\n",
       "      <th></th>\n",
       "      <th></th>\n",
       "      <th></th>\n",
       "    </tr>\n",
       "  </thead>\n",
       "  <tbody>\n",
       "    <tr>\n",
       "      <th>1BY6WEcLGh8j5v7</th>\n",
       "      <td>3154</td>\n",
       "      <td>3154</td>\n",
       "      <td>3154</td>\n",
       "      <td>3154</td>\n",
       "      <td>3154</td>\n",
       "      <td>3154</td>\n",
       "      <td>3154</td>\n",
       "    </tr>\n",
       "    <tr>\n",
       "      <th>1IF53ai7Xc0U56Y</th>\n",
       "      <td>3119</td>\n",
       "      <td>3119</td>\n",
       "      <td>3119</td>\n",
       "      <td>3119</td>\n",
       "      <td>3119</td>\n",
       "      <td>3119</td>\n",
       "      <td>3119</td>\n",
       "    </tr>\n",
       "    <tr>\n",
       "      <th>3PZuoBAID5Wc2HD</th>\n",
       "      <td>3118</td>\n",
       "      <td>3118</td>\n",
       "      <td>3118</td>\n",
       "      <td>3118</td>\n",
       "      <td>3118</td>\n",
       "      <td>3118</td>\n",
       "      <td>3118</td>\n",
       "    </tr>\n",
       "    <tr>\n",
       "      <th>7JYdWkrLSPkdwr4</th>\n",
       "      <td>3133</td>\n",
       "      <td>3133</td>\n",
       "      <td>3133</td>\n",
       "      <td>3133</td>\n",
       "      <td>3133</td>\n",
       "      <td>3133</td>\n",
       "      <td>3133</td>\n",
       "    </tr>\n",
       "    <tr>\n",
       "      <th>McdE0feGgRqW7Ca</th>\n",
       "      <td>3124</td>\n",
       "      <td>3124</td>\n",
       "      <td>3124</td>\n",
       "      <td>3124</td>\n",
       "      <td>3124</td>\n",
       "      <td>3124</td>\n",
       "      <td>3124</td>\n",
       "    </tr>\n",
       "    <tr>\n",
       "      <th>VHMLBKoKgIrUVDU</th>\n",
       "      <td>3133</td>\n",
       "      <td>3133</td>\n",
       "      <td>3133</td>\n",
       "      <td>3133</td>\n",
       "      <td>3133</td>\n",
       "      <td>3133</td>\n",
       "      <td>3133</td>\n",
       "    </tr>\n",
       "    <tr>\n",
       "      <th>WRmjgnKYAwPKWDb</th>\n",
       "      <td>3118</td>\n",
       "      <td>3118</td>\n",
       "      <td>3118</td>\n",
       "      <td>3118</td>\n",
       "      <td>3118</td>\n",
       "      <td>3118</td>\n",
       "      <td>3118</td>\n",
       "    </tr>\n",
       "    <tr>\n",
       "      <th>YxYtjZvoooNbGkE</th>\n",
       "      <td>3104</td>\n",
       "      <td>3104</td>\n",
       "      <td>3104</td>\n",
       "      <td>3104</td>\n",
       "      <td>3104</td>\n",
       "      <td>3104</td>\n",
       "      <td>3104</td>\n",
       "    </tr>\n",
       "    <tr>\n",
       "      <th>ZnxXDlPa8U1GXgE</th>\n",
       "      <td>3130</td>\n",
       "      <td>3130</td>\n",
       "      <td>3130</td>\n",
       "      <td>3130</td>\n",
       "      <td>3130</td>\n",
       "      <td>3130</td>\n",
       "      <td>3130</td>\n",
       "    </tr>\n",
       "    <tr>\n",
       "      <th>ZoEaEvLYb1n2sOq</th>\n",
       "      <td>3123</td>\n",
       "      <td>3123</td>\n",
       "      <td>3123</td>\n",
       "      <td>3123</td>\n",
       "      <td>3123</td>\n",
       "      <td>3123</td>\n",
       "      <td>3123</td>\n",
       "    </tr>\n",
       "    <tr>\n",
       "      <th>adLQvlD726eNBSB</th>\n",
       "      <td>3119</td>\n",
       "      <td>3119</td>\n",
       "      <td>3119</td>\n",
       "      <td>3119</td>\n",
       "      <td>3119</td>\n",
       "      <td>3119</td>\n",
       "      <td>3119</td>\n",
       "    </tr>\n",
       "    <tr>\n",
       "      <th>bvBOhCH3iADSZry</th>\n",
       "      <td>3155</td>\n",
       "      <td>3155</td>\n",
       "      <td>3155</td>\n",
       "      <td>3155</td>\n",
       "      <td>3155</td>\n",
       "      <td>3155</td>\n",
       "      <td>3155</td>\n",
       "    </tr>\n",
       "    <tr>\n",
       "      <th>iCRJl6heRkivqQ3</th>\n",
       "      <td>3125</td>\n",
       "      <td>3125</td>\n",
       "      <td>3125</td>\n",
       "      <td>3125</td>\n",
       "      <td>3125</td>\n",
       "      <td>3125</td>\n",
       "      <td>3125</td>\n",
       "    </tr>\n",
       "    <tr>\n",
       "      <th>ih0vzX44oOqAx2f</th>\n",
       "      <td>3130</td>\n",
       "      <td>3130</td>\n",
       "      <td>3130</td>\n",
       "      <td>3130</td>\n",
       "      <td>3130</td>\n",
       "      <td>3130</td>\n",
       "      <td>3130</td>\n",
       "    </tr>\n",
       "    <tr>\n",
       "      <th>pkci93gMrogZuBj</th>\n",
       "      <td>3125</td>\n",
       "      <td>3125</td>\n",
       "      <td>3125</td>\n",
       "      <td>3125</td>\n",
       "      <td>3125</td>\n",
       "      <td>3125</td>\n",
       "      <td>3125</td>\n",
       "    </tr>\n",
       "    <tr>\n",
       "      <th>rGa61gmuvPhdLxV</th>\n",
       "      <td>3124</td>\n",
       "      <td>3124</td>\n",
       "      <td>3124</td>\n",
       "      <td>3124</td>\n",
       "      <td>3124</td>\n",
       "      <td>3124</td>\n",
       "      <td>3124</td>\n",
       "    </tr>\n",
       "    <tr>\n",
       "      <th>sjndEbLyjtCKgGv</th>\n",
       "      <td>3124</td>\n",
       "      <td>3124</td>\n",
       "      <td>3124</td>\n",
       "      <td>3124</td>\n",
       "      <td>3124</td>\n",
       "      <td>3124</td>\n",
       "      <td>3124</td>\n",
       "    </tr>\n",
       "    <tr>\n",
       "      <th>uHbuxQJl8lW7ozc</th>\n",
       "      <td>3125</td>\n",
       "      <td>3125</td>\n",
       "      <td>3125</td>\n",
       "      <td>3125</td>\n",
       "      <td>3125</td>\n",
       "      <td>3125</td>\n",
       "      <td>3125</td>\n",
       "    </tr>\n",
       "    <tr>\n",
       "      <th>wCURE6d3bPkepu2</th>\n",
       "      <td>3126</td>\n",
       "      <td>3126</td>\n",
       "      <td>3126</td>\n",
       "      <td>3126</td>\n",
       "      <td>3126</td>\n",
       "      <td>3126</td>\n",
       "      <td>3126</td>\n",
       "    </tr>\n",
       "    <tr>\n",
       "      <th>z9Y9gH1T5YWrNuG</th>\n",
       "      <td>3126</td>\n",
       "      <td>3126</td>\n",
       "      <td>3126</td>\n",
       "      <td>3126</td>\n",
       "      <td>3126</td>\n",
       "      <td>3126</td>\n",
       "      <td>3126</td>\n",
       "    </tr>\n",
       "    <tr>\n",
       "      <th>zBIq5rxdHJRwDNY</th>\n",
       "      <td>3119</td>\n",
       "      <td>3119</td>\n",
       "      <td>3119</td>\n",
       "      <td>3119</td>\n",
       "      <td>3119</td>\n",
       "      <td>3119</td>\n",
       "      <td>3119</td>\n",
       "    </tr>\n",
       "    <tr>\n",
       "      <th>zVJPv84UY57bAof</th>\n",
       "      <td>3124</td>\n",
       "      <td>3124</td>\n",
       "      <td>3124</td>\n",
       "      <td>3124</td>\n",
       "      <td>3124</td>\n",
       "      <td>3124</td>\n",
       "      <td>3124</td>\n",
       "    </tr>\n",
       "  </tbody>\n",
       "</table>\n",
       "</div>"
      ],
      "text/plain": [
       "                 PLANT_ID  DC_POWER  AC_POWER  DAILY_YIELD  TOTAL_YIELD  Date  \\\n",
       "SOURCE_KEY                                                                      \n",
       "1BY6WEcLGh8j5v7      3154      3154      3154         3154         3154  3154   \n",
       "1IF53ai7Xc0U56Y      3119      3119      3119         3119         3119  3119   \n",
       "3PZuoBAID5Wc2HD      3118      3118      3118         3118         3118  3118   \n",
       "7JYdWkrLSPkdwr4      3133      3133      3133         3133         3133  3133   \n",
       "McdE0feGgRqW7Ca      3124      3124      3124         3124         3124  3124   \n",
       "VHMLBKoKgIrUVDU      3133      3133      3133         3133         3133  3133   \n",
       "WRmjgnKYAwPKWDb      3118      3118      3118         3118         3118  3118   \n",
       "YxYtjZvoooNbGkE      3104      3104      3104         3104         3104  3104   \n",
       "ZnxXDlPa8U1GXgE      3130      3130      3130         3130         3130  3130   \n",
       "ZoEaEvLYb1n2sOq      3123      3123      3123         3123         3123  3123   \n",
       "adLQvlD726eNBSB      3119      3119      3119         3119         3119  3119   \n",
       "bvBOhCH3iADSZry      3155      3155      3155         3155         3155  3155   \n",
       "iCRJl6heRkivqQ3      3125      3125      3125         3125         3125  3125   \n",
       "ih0vzX44oOqAx2f      3130      3130      3130         3130         3130  3130   \n",
       "pkci93gMrogZuBj      3125      3125      3125         3125         3125  3125   \n",
       "rGa61gmuvPhdLxV      3124      3124      3124         3124         3124  3124   \n",
       "sjndEbLyjtCKgGv      3124      3124      3124         3124         3124  3124   \n",
       "uHbuxQJl8lW7ozc      3125      3125      3125         3125         3125  3125   \n",
       "wCURE6d3bPkepu2      3126      3126      3126         3126         3126  3126   \n",
       "z9Y9gH1T5YWrNuG      3126      3126      3126         3126         3126  3126   \n",
       "zBIq5rxdHJRwDNY      3119      3119      3119         3119         3119  3119   \n",
       "zVJPv84UY57bAof      3124      3124      3124         3124         3124  3124   \n",
       "\n",
       "                 Time  \n",
       "SOURCE_KEY             \n",
       "1BY6WEcLGh8j5v7  3154  \n",
       "1IF53ai7Xc0U56Y  3119  \n",
       "3PZuoBAID5Wc2HD  3118  \n",
       "7JYdWkrLSPkdwr4  3133  \n",
       "McdE0feGgRqW7Ca  3124  \n",
       "VHMLBKoKgIrUVDU  3133  \n",
       "WRmjgnKYAwPKWDb  3118  \n",
       "YxYtjZvoooNbGkE  3104  \n",
       "ZnxXDlPa8U1GXgE  3130  \n",
       "ZoEaEvLYb1n2sOq  3123  \n",
       "adLQvlD726eNBSB  3119  \n",
       "bvBOhCH3iADSZry  3155  \n",
       "iCRJl6heRkivqQ3  3125  \n",
       "ih0vzX44oOqAx2f  3130  \n",
       "pkci93gMrogZuBj  3125  \n",
       "rGa61gmuvPhdLxV  3124  \n",
       "sjndEbLyjtCKgGv  3124  \n",
       "uHbuxQJl8lW7ozc  3125  \n",
       "wCURE6d3bPkepu2  3126  \n",
       "z9Y9gH1T5YWrNuG  3126  \n",
       "zBIq5rxdHJRwDNY  3119  \n",
       "zVJPv84UY57bAof  3124  "
      ]
     },
     "execution_count": 16,
     "metadata": {},
     "output_type": "execute_result"
    }
   ],
   "source": [
    "gen_data.groupby(\"SOURCE_KEY\").count()"
   ]
  },
  {
   "cell_type": "code",
   "execution_count": 17,
   "metadata": {
    "execution": {
     "iopub.execute_input": "2020-09-16T04:47:00.207878Z",
     "iopub.status.busy": "2020-09-16T04:47:00.206966Z",
     "iopub.status.idle": "2020-09-16T04:47:00.212823Z",
     "shell.execute_reply": "2020-09-16T04:47:00.212046Z"
    },
    "papermill": {
     "duration": 0.089064,
     "end_time": "2020-09-16T04:47:00.212975",
     "exception": false,
     "start_time": "2020-09-16T04:47:00.123911",
     "status": "completed"
    },
    "tags": []
   },
   "outputs": [
    {
     "data": {
      "text/plain": [
       "3264"
      ]
     },
     "execution_count": 17,
     "metadata": {},
     "output_type": "execute_result"
    }
   ],
   "source": [
    "34 * 24 * 4 #Number of data points required"
   ]
  },
  {
   "cell_type": "markdown",
   "metadata": {
    "papermill": {
     "duration": 0.075681,
     "end_time": "2020-09-16T04:47:00.364836",
     "exception": false,
     "start_time": "2020-09-16T04:47:00.289155",
     "status": "completed"
    },
    "tags": []
   },
   "source": [
    "So not all plants have data at all points in time within a data taking period. I'm going to assume the plant is compact enough that the inverters are quite close to each other and get the same amount of solar irradiation at any point in time (the distribution plots roughly attest to this). So an imputing strategy will be to use the average for that day and that hour to fill a missing entry. This means the total power produced in a given time interval is given by the average produced multiplied by the total number of inverters"
   ]
  },
  {
   "cell_type": "markdown",
   "metadata": {
    "papermill": {
     "duration": 0.076821,
     "end_time": "2020-09-16T04:47:00.521927",
     "exception": false,
     "start_time": "2020-09-16T04:47:00.445106",
     "status": "completed"
    },
    "tags": []
   },
   "source": [
    "#### Day totals over the entire period of 34 days for each inverter"
   ]
  },
  {
   "cell_type": "code",
   "execution_count": 18,
   "metadata": {
    "execution": {
     "iopub.execute_input": "2020-09-16T04:47:00.685425Z",
     "iopub.status.busy": "2020-09-16T04:47:00.684462Z",
     "iopub.status.idle": "2020-09-16T04:47:00.692292Z",
     "shell.execute_reply": "2020-09-16T04:47:00.691428Z"
    },
    "papermill": {
     "duration": 0.092812,
     "end_time": "2020-09-16T04:47:00.692475",
     "exception": false,
     "start_time": "2020-09-16T04:47:00.599663",
     "status": "completed"
    },
    "tags": []
   },
   "outputs": [
    {
     "data": {
      "text/plain": [
       "array(['2020-05-15T00:00:00.000000000', '2020-05-16T00:00:00.000000000',\n",
       "       '2020-05-17T00:00:00.000000000', '2020-05-18T00:00:00.000000000',\n",
       "       '2020-05-19T00:00:00.000000000', '2020-05-20T00:00:00.000000000',\n",
       "       '2020-05-21T00:00:00.000000000', '2020-05-22T00:00:00.000000000',\n",
       "       '2020-05-23T00:00:00.000000000', '2020-05-24T00:00:00.000000000',\n",
       "       '2020-05-25T00:00:00.000000000', '2020-05-26T00:00:00.000000000',\n",
       "       '2020-05-27T00:00:00.000000000', '2020-05-28T00:00:00.000000000',\n",
       "       '2020-05-29T00:00:00.000000000', '2020-05-30T00:00:00.000000000',\n",
       "       '2020-05-31T00:00:00.000000000', '2020-06-01T00:00:00.000000000',\n",
       "       '2020-06-02T00:00:00.000000000', '2020-06-03T00:00:00.000000000',\n",
       "       '2020-06-04T00:00:00.000000000', '2020-06-05T00:00:00.000000000',\n",
       "       '2020-06-06T00:00:00.000000000', '2020-06-07T00:00:00.000000000',\n",
       "       '2020-06-08T00:00:00.000000000', '2020-06-09T00:00:00.000000000',\n",
       "       '2020-06-10T00:00:00.000000000', '2020-06-11T00:00:00.000000000',\n",
       "       '2020-06-12T00:00:00.000000000', '2020-06-13T00:00:00.000000000',\n",
       "       '2020-06-14T00:00:00.000000000', '2020-06-15T00:00:00.000000000',\n",
       "       '2020-06-16T00:00:00.000000000', '2020-06-17T00:00:00.000000000'],\n",
       "      dtype='datetime64[ns]')"
      ]
     },
     "execution_count": 18,
     "metadata": {},
     "output_type": "execute_result"
    }
   ],
   "source": [
    "gen_data[\"Date\"].unique()"
   ]
  },
  {
   "cell_type": "code",
   "execution_count": 19,
   "metadata": {
    "execution": {
     "iopub.execute_input": "2020-09-16T04:47:00.859564Z",
     "iopub.status.busy": "2020-09-16T04:47:00.858128Z",
     "iopub.status.idle": "2020-09-16T04:47:00.883813Z",
     "shell.execute_reply": "2020-09-16T04:47:00.882910Z"
    },
    "papermill": {
     "duration": 0.114019,
     "end_time": "2020-09-16T04:47:00.883968",
     "exception": false,
     "start_time": "2020-09-16T04:47:00.769949",
     "status": "completed"
    },
    "tags": []
   },
   "outputs": [
    {
     "name": "stderr",
     "output_type": "stream",
     "text": [
      "/tmp/ipykernel_384611/3272333678.py:1: FutureWarning: The default value of numeric_only in DataFrameGroupBy.sum is deprecated. In a future version, numeric_only will default to False. Either specify numeric_only or select only columns which should be valid for the function.\n",
      "  gen_data.groupby(\"SOURCE_KEY\").sum()[\"DC_POWER\"]\n"
     ]
    },
    {
     "data": {
      "text/plain": [
       "SOURCE_KEY\n",
       "1BY6WEcLGh8j5v7    9.063716e+06\n",
       "1IF53ai7Xc0U56Y    1.006294e+07\n",
       "3PZuoBAID5Wc2HD    1.004313e+07\n",
       "7JYdWkrLSPkdwr4    9.815350e+06\n",
       "McdE0feGgRqW7Ca    1.003212e+07\n",
       "VHMLBKoKgIrUVDU    1.005725e+07\n",
       "WRmjgnKYAwPKWDb    9.838489e+06\n",
       "YxYtjZvoooNbGkE    9.869145e+06\n",
       "ZnxXDlPa8U1GXgE    9.997405e+06\n",
       "ZoEaEvLYb1n2sOq    9.803128e+06\n",
       "adLQvlD726eNBSB    1.019778e+07\n",
       "bvBOhCH3iADSZry    8.925490e+06\n",
       "iCRJl6heRkivqQ3    9.987733e+06\n",
       "ih0vzX44oOqAx2f    9.695845e+06\n",
       "pkci93gMrogZuBj    9.895623e+06\n",
       "rGa61gmuvPhdLxV    9.881965e+06\n",
       "sjndEbLyjtCKgGv    9.835197e+06\n",
       "uHbuxQJl8lW7ozc    9.985363e+06\n",
       "wCURE6d3bPkepu2    9.911622e+06\n",
       "z9Y9gH1T5YWrNuG    9.797002e+06\n",
       "zBIq5rxdHJRwDNY    9.820452e+06\n",
       "zVJPv84UY57bAof    9.956927e+06\n",
       "Name: DC_POWER, dtype: float64"
      ]
     },
     "execution_count": 19,
     "metadata": {},
     "output_type": "execute_result"
    }
   ],
   "source": [
    "gen_data.groupby(\"SOURCE_KEY\").sum()[\"DC_POWER\"]"
   ]
  },
  {
   "cell_type": "code",
   "execution_count": 20,
   "metadata": {
    "execution": {
     "iopub.execute_input": "2020-09-16T04:47:01.074007Z",
     "iopub.status.busy": "2020-09-16T04:47:01.059508Z",
     "iopub.status.idle": "2020-09-16T04:47:01.378639Z",
     "shell.execute_reply": "2020-09-16T04:47:01.377888Z"
    },
    "papermill": {
     "duration": 0.416597,
     "end_time": "2020-09-16T04:47:01.378803",
     "exception": false,
     "start_time": "2020-09-16T04:47:00.962206",
     "status": "completed"
    },
    "tags": []
   },
   "outputs": [],
   "source": [
    "#split the dataframes by inverter IDs first\n",
    "split_by_inverters = {}\n",
    "for inverter in inverters:\n",
    "    split_by_inverters[inverter] = gen_data.loc[gen_data[\"SOURCE_KEY\"] == inverter]"
   ]
  },
  {
   "cell_type": "code",
   "execution_count": 21,
   "metadata": {
    "execution": {
     "iopub.execute_input": "2020-09-16T04:47:01.604051Z",
     "iopub.status.busy": "2020-09-16T04:47:01.588390Z",
     "iopub.status.idle": "2020-09-16T04:47:02.302373Z",
     "shell.execute_reply": "2020-09-16T04:47:02.301530Z"
    },
    "papermill": {
     "duration": 0.846061,
     "end_time": "2020-09-16T04:47:02.302523",
     "exception": false,
     "start_time": "2020-09-16T04:47:01.456462",
     "status": "completed"
    },
    "tags": []
   },
   "outputs": [],
   "source": [
    "unique_dates = gen_data.index.map(lambda x : x.date()).unique()"
   ]
  },
  {
   "cell_type": "code",
   "execution_count": 22,
   "metadata": {
    "execution": {
     "iopub.execute_input": "2020-09-16T04:47:02.464578Z",
     "iopub.status.busy": "2020-09-16T04:47:02.463530Z",
     "iopub.status.idle": "2020-09-16T04:47:02.467158Z",
     "shell.execute_reply": "2020-09-16T04:47:02.466493Z"
    },
    "papermill": {
     "duration": 0.086936,
     "end_time": "2020-09-16T04:47:02.467319",
     "exception": false,
     "start_time": "2020-09-16T04:47:02.380383",
     "status": "completed"
    },
    "tags": []
   },
   "outputs": [],
   "source": [
    "temp = split_by_inverters['1BY6WEcLGh8j5v7']"
   ]
  },
  {
   "cell_type": "code",
   "execution_count": 23,
   "metadata": {
    "execution": {
     "iopub.execute_input": "2020-09-16T04:47:02.642913Z",
     "iopub.status.busy": "2020-09-16T04:47:02.641983Z",
     "iopub.status.idle": "2020-09-16T04:47:09.174686Z",
     "shell.execute_reply": "2020-09-16T04:47:09.175373Z"
    },
    "papermill": {
     "duration": 6.628468,
     "end_time": "2020-09-16T04:47:09.175590",
     "exception": false,
     "start_time": "2020-09-16T04:47:02.547122",
     "status": "completed"
    },
    "tags": []
   },
   "outputs": [
    {
     "name": "stderr",
     "output_type": "stream",
     "text": [
      "/tmp/ipykernel_384611/4216888842.py:7: FutureWarning: The default value of numeric_only in DataFrameGroupBy.sum is deprecated. In a future version, numeric_only will default to False. Either specify numeric_only or select only columns which should be valid for the function.\n",
      "  inverter_daily_power[inverter] = data.groupby(\"Date\").sum()[\"DC_POWER\"]\n",
      "/tmp/ipykernel_384611/4216888842.py:7: FutureWarning: The default value of numeric_only in DataFrameGroupBy.sum is deprecated. In a future version, numeric_only will default to False. Either specify numeric_only or select only columns which should be valid for the function.\n",
      "  inverter_daily_power[inverter] = data.groupby(\"Date\").sum()[\"DC_POWER\"]\n",
      "/tmp/ipykernel_384611/4216888842.py:7: FutureWarning: The default value of numeric_only in DataFrameGroupBy.sum is deprecated. In a future version, numeric_only will default to False. Either specify numeric_only or select only columns which should be valid for the function.\n",
      "  inverter_daily_power[inverter] = data.groupby(\"Date\").sum()[\"DC_POWER\"]\n",
      "/tmp/ipykernel_384611/4216888842.py:7: FutureWarning: The default value of numeric_only in DataFrameGroupBy.sum is deprecated. In a future version, numeric_only will default to False. Either specify numeric_only or select only columns which should be valid for the function.\n",
      "  inverter_daily_power[inverter] = data.groupby(\"Date\").sum()[\"DC_POWER\"]\n",
      "/tmp/ipykernel_384611/4216888842.py:7: FutureWarning: The default value of numeric_only in DataFrameGroupBy.sum is deprecated. In a future version, numeric_only will default to False. Either specify numeric_only or select only columns which should be valid for the function.\n",
      "  inverter_daily_power[inverter] = data.groupby(\"Date\").sum()[\"DC_POWER\"]\n",
      "/tmp/ipykernel_384611/4216888842.py:7: FutureWarning: The default value of numeric_only in DataFrameGroupBy.sum is deprecated. In a future version, numeric_only will default to False. Either specify numeric_only or select only columns which should be valid for the function.\n",
      "  inverter_daily_power[inverter] = data.groupby(\"Date\").sum()[\"DC_POWER\"]\n",
      "/tmp/ipykernel_384611/4216888842.py:7: FutureWarning: The default value of numeric_only in DataFrameGroupBy.sum is deprecated. In a future version, numeric_only will default to False. Either specify numeric_only or select only columns which should be valid for the function.\n",
      "  inverter_daily_power[inverter] = data.groupby(\"Date\").sum()[\"DC_POWER\"]\n",
      "/tmp/ipykernel_384611/4216888842.py:7: FutureWarning: The default value of numeric_only in DataFrameGroupBy.sum is deprecated. In a future version, numeric_only will default to False. Either specify numeric_only or select only columns which should be valid for the function.\n",
      "  inverter_daily_power[inverter] = data.groupby(\"Date\").sum()[\"DC_POWER\"]\n",
      "/tmp/ipykernel_384611/4216888842.py:7: FutureWarning: The default value of numeric_only in DataFrameGroupBy.sum is deprecated. In a future version, numeric_only will default to False. Either specify numeric_only or select only columns which should be valid for the function.\n",
      "  inverter_daily_power[inverter] = data.groupby(\"Date\").sum()[\"DC_POWER\"]\n",
      "/tmp/ipykernel_384611/4216888842.py:7: FutureWarning: The default value of numeric_only in DataFrameGroupBy.sum is deprecated. In a future version, numeric_only will default to False. Either specify numeric_only or select only columns which should be valid for the function.\n",
      "  inverter_daily_power[inverter] = data.groupby(\"Date\").sum()[\"DC_POWER\"]\n",
      "/tmp/ipykernel_384611/4216888842.py:7: FutureWarning: The default value of numeric_only in DataFrameGroupBy.sum is deprecated. In a future version, numeric_only will default to False. Either specify numeric_only or select only columns which should be valid for the function.\n",
      "  inverter_daily_power[inverter] = data.groupby(\"Date\").sum()[\"DC_POWER\"]\n",
      "/tmp/ipykernel_384611/4216888842.py:7: FutureWarning: The default value of numeric_only in DataFrameGroupBy.sum is deprecated. In a future version, numeric_only will default to False. Either specify numeric_only or select only columns which should be valid for the function.\n",
      "  inverter_daily_power[inverter] = data.groupby(\"Date\").sum()[\"DC_POWER\"]\n",
      "/tmp/ipykernel_384611/4216888842.py:7: FutureWarning: The default value of numeric_only in DataFrameGroupBy.sum is deprecated. In a future version, numeric_only will default to False. Either specify numeric_only or select only columns which should be valid for the function.\n",
      "  inverter_daily_power[inverter] = data.groupby(\"Date\").sum()[\"DC_POWER\"]\n",
      "/tmp/ipykernel_384611/4216888842.py:7: FutureWarning: The default value of numeric_only in DataFrameGroupBy.sum is deprecated. In a future version, numeric_only will default to False. Either specify numeric_only or select only columns which should be valid for the function.\n",
      "  inverter_daily_power[inverter] = data.groupby(\"Date\").sum()[\"DC_POWER\"]\n",
      "/tmp/ipykernel_384611/4216888842.py:7: FutureWarning: The default value of numeric_only in DataFrameGroupBy.sum is deprecated. In a future version, numeric_only will default to False. Either specify numeric_only or select only columns which should be valid for the function.\n",
      "  inverter_daily_power[inverter] = data.groupby(\"Date\").sum()[\"DC_POWER\"]\n",
      "/tmp/ipykernel_384611/4216888842.py:7: FutureWarning: The default value of numeric_only in DataFrameGroupBy.sum is deprecated. In a future version, numeric_only will default to False. Either specify numeric_only or select only columns which should be valid for the function.\n",
      "  inverter_daily_power[inverter] = data.groupby(\"Date\").sum()[\"DC_POWER\"]\n",
      "/tmp/ipykernel_384611/4216888842.py:7: FutureWarning: The default value of numeric_only in DataFrameGroupBy.sum is deprecated. In a future version, numeric_only will default to False. Either specify numeric_only or select only columns which should be valid for the function.\n",
      "  inverter_daily_power[inverter] = data.groupby(\"Date\").sum()[\"DC_POWER\"]\n",
      "/tmp/ipykernel_384611/4216888842.py:7: FutureWarning: The default value of numeric_only in DataFrameGroupBy.sum is deprecated. In a future version, numeric_only will default to False. Either specify numeric_only or select only columns which should be valid for the function.\n",
      "  inverter_daily_power[inverter] = data.groupby(\"Date\").sum()[\"DC_POWER\"]\n",
      "/tmp/ipykernel_384611/4216888842.py:7: FutureWarning: The default value of numeric_only in DataFrameGroupBy.sum is deprecated. In a future version, numeric_only will default to False. Either specify numeric_only or select only columns which should be valid for the function.\n",
      "  inverter_daily_power[inverter] = data.groupby(\"Date\").sum()[\"DC_POWER\"]\n",
      "/tmp/ipykernel_384611/4216888842.py:7: FutureWarning: The default value of numeric_only in DataFrameGroupBy.sum is deprecated. In a future version, numeric_only will default to False. Either specify numeric_only or select only columns which should be valid for the function.\n",
      "  inverter_daily_power[inverter] = data.groupby(\"Date\").sum()[\"DC_POWER\"]\n",
      "/tmp/ipykernel_384611/4216888842.py:7: FutureWarning: The default value of numeric_only in DataFrameGroupBy.sum is deprecated. In a future version, numeric_only will default to False. Either specify numeric_only or select only columns which should be valid for the function.\n",
      "  inverter_daily_power[inverter] = data.groupby(\"Date\").sum()[\"DC_POWER\"]\n",
      "/tmp/ipykernel_384611/4216888842.py:7: FutureWarning: The default value of numeric_only in DataFrameGroupBy.sum is deprecated. In a future version, numeric_only will default to False. Either specify numeric_only or select only columns which should be valid for the function.\n",
      "  inverter_daily_power[inverter] = data.groupby(\"Date\").sum()[\"DC_POWER\"]\n"
     ]
    }
   ],
   "source": [
    "# FIRST-AUTHOR: remove plotting\n",
    "# fig = plt.figure(figsize = (30,25))\n",
    "inverter_daily_power = {}\n",
    "for i,(inverter,data) in enumerate(split_by_inverters.items(),1):\n",
    "# FIRST-AUTHOR: remove plotting\n",
    "#     plt.subplot(6,4,i)\n",
    "    inverter_daily_power[inverter] = data.groupby(\"Date\").sum()[\"DC_POWER\"]\n",
    "# FIRST-AUTHOR: remove plotting\n",
    "#     inverter_daily_power[inverter].plot(label = inverter)\n",
    "#     plt.legend()\n",
    "    inverter_daily_power[inverter]"
   ]
  },
  {
   "cell_type": "markdown",
   "metadata": {
    "papermill": {
     "duration": 0.090923,
     "end_time": "2020-09-16T04:47:09.357976",
     "exception": false,
     "start_time": "2020-09-16T04:47:09.267053",
     "status": "completed"
    },
    "tags": []
   },
   "source": [
    "We see a very rough pattern in the daily power production. Let us try to correlate this with the weather data we have"
   ]
  },
  {
   "cell_type": "code",
   "execution_count": 24,
   "metadata": {
    "execution": {
     "iopub.execute_input": "2020-09-16T04:47:09.550151Z",
     "iopub.status.busy": "2020-09-16T04:47:09.549291Z",
     "iopub.status.idle": "2020-09-16T04:47:09.568708Z",
     "shell.execute_reply": "2020-09-16T04:47:09.567792Z"
    },
    "papermill": {
     "duration": 0.12008,
     "end_time": "2020-09-16T04:47:09.568861",
     "exception": false,
     "start_time": "2020-09-16T04:47:09.448781",
     "status": "completed"
    },
    "tags": []
   },
   "outputs": [],
   "source": [
    "weather_data = pd.read_csv(\"./input/Plant_1_Weather_Sensor_Data.scaled.csv\",index_col = \"DATE_TIME\",parse_dates = True)"
   ]
  },
  {
   "cell_type": "code",
   "execution_count": 25,
   "metadata": {
    "execution": {
     "iopub.execute_input": "2020-09-16T04:47:09.815495Z",
     "iopub.status.busy": "2020-09-16T04:47:09.793260Z",
     "iopub.status.idle": "2020-09-16T04:47:09.847003Z",
     "shell.execute_reply": "2020-09-16T04:47:09.846138Z"
    },
    "papermill": {
     "duration": 0.187086,
     "end_time": "2020-09-16T04:47:09.847149",
     "exception": false,
     "start_time": "2020-09-16T04:47:09.660063",
     "status": "completed"
    },
    "tags": []
   },
   "outputs": [],
   "source": [
    "weather_data[\"Date\"] = pd.to_datetime(weather_data.index.map(lambda x : x.date()))\n",
    "weather_data[\"Time\"] = weather_data.index.map(lambda x : x.time())"
   ]
  },
  {
   "cell_type": "code",
   "execution_count": 26,
   "metadata": {
    "execution": {
     "iopub.execute_input": "2020-09-16T04:47:10.053723Z",
     "iopub.status.busy": "2020-09-16T04:47:10.052583Z",
     "iopub.status.idle": "2020-09-16T04:47:10.060099Z",
     "shell.execute_reply": "2020-09-16T04:47:10.058818Z"
    },
    "papermill": {
     "duration": 0.118828,
     "end_time": "2020-09-16T04:47:10.060402",
     "exception": false,
     "start_time": "2020-09-16T04:47:09.941574",
     "status": "completed"
    },
    "tags": []
   },
   "outputs": [
    {
     "data": {
      "text/html": [
       "<div>\n",
       "<style scoped>\n",
       "    .dataframe tbody tr th:only-of-type {\n",
       "        vertical-align: middle;\n",
       "    }\n",
       "\n",
       "    .dataframe tbody tr th {\n",
       "        vertical-align: top;\n",
       "    }\n",
       "\n",
       "    .dataframe thead th {\n",
       "        text-align: right;\n",
       "    }\n",
       "</style>\n",
       "<table border=\"1\" class=\"dataframe\">\n",
       "  <thead>\n",
       "    <tr style=\"text-align: right;\">\n",
       "      <th></th>\n",
       "      <th>PLANT_ID</th>\n",
       "      <th>SOURCE_KEY</th>\n",
       "      <th>AMBIENT_TEMPERATURE</th>\n",
       "      <th>MODULE_TEMPERATURE</th>\n",
       "      <th>IRRADIATION</th>\n",
       "      <th>Date</th>\n",
       "      <th>Time</th>\n",
       "    </tr>\n",
       "    <tr>\n",
       "      <th>DATE_TIME</th>\n",
       "      <th></th>\n",
       "      <th></th>\n",
       "      <th></th>\n",
       "      <th></th>\n",
       "      <th></th>\n",
       "      <th></th>\n",
       "      <th></th>\n",
       "    </tr>\n",
       "  </thead>\n",
       "  <tbody>\n",
       "    <tr>\n",
       "      <th>2020-05-15 00:00:00</th>\n",
       "      <td>4135001</td>\n",
       "      <td>HmiyD2TTLFNqkNe</td>\n",
       "      <td>25.184316</td>\n",
       "      <td>22.857507</td>\n",
       "      <td>0.0</td>\n",
       "      <td>2020-05-15</td>\n",
       "      <td>00:00:00</td>\n",
       "    </tr>\n",
       "    <tr>\n",
       "      <th>2020-05-15 00:15:00</th>\n",
       "      <td>4135001</td>\n",
       "      <td>HmiyD2TTLFNqkNe</td>\n",
       "      <td>25.084589</td>\n",
       "      <td>22.761668</td>\n",
       "      <td>0.0</td>\n",
       "      <td>2020-05-15</td>\n",
       "      <td>00:15:00</td>\n",
       "    </tr>\n",
       "    <tr>\n",
       "      <th>2020-05-15 00:30:00</th>\n",
       "      <td>4135001</td>\n",
       "      <td>HmiyD2TTLFNqkNe</td>\n",
       "      <td>24.935753</td>\n",
       "      <td>22.592306</td>\n",
       "      <td>0.0</td>\n",
       "      <td>2020-05-15</td>\n",
       "      <td>00:30:00</td>\n",
       "    </tr>\n",
       "    <tr>\n",
       "      <th>2020-05-15 00:45:00</th>\n",
       "      <td>4135001</td>\n",
       "      <td>HmiyD2TTLFNqkNe</td>\n",
       "      <td>24.846130</td>\n",
       "      <td>22.360852</td>\n",
       "      <td>0.0</td>\n",
       "      <td>2020-05-15</td>\n",
       "      <td>00:45:00</td>\n",
       "    </tr>\n",
       "    <tr>\n",
       "      <th>2020-05-15 01:00:00</th>\n",
       "      <td>4135001</td>\n",
       "      <td>HmiyD2TTLFNqkNe</td>\n",
       "      <td>24.621525</td>\n",
       "      <td>22.165423</td>\n",
       "      <td>0.0</td>\n",
       "      <td>2020-05-15</td>\n",
       "      <td>01:00:00</td>\n",
       "    </tr>\n",
       "  </tbody>\n",
       "</table>\n",
       "</div>"
      ],
      "text/plain": [
       "                     PLANT_ID       SOURCE_KEY  AMBIENT_TEMPERATURE  \\\n",
       "DATE_TIME                                                             \n",
       "2020-05-15 00:00:00   4135001  HmiyD2TTLFNqkNe            25.184316   \n",
       "2020-05-15 00:15:00   4135001  HmiyD2TTLFNqkNe            25.084589   \n",
       "2020-05-15 00:30:00   4135001  HmiyD2TTLFNqkNe            24.935753   \n",
       "2020-05-15 00:45:00   4135001  HmiyD2TTLFNqkNe            24.846130   \n",
       "2020-05-15 01:00:00   4135001  HmiyD2TTLFNqkNe            24.621525   \n",
       "\n",
       "                     MODULE_TEMPERATURE  IRRADIATION       Date      Time  \n",
       "DATE_TIME                                                                  \n",
       "2020-05-15 00:00:00           22.857507          0.0 2020-05-15  00:00:00  \n",
       "2020-05-15 00:15:00           22.761668          0.0 2020-05-15  00:15:00  \n",
       "2020-05-15 00:30:00           22.592306          0.0 2020-05-15  00:30:00  \n",
       "2020-05-15 00:45:00           22.360852          0.0 2020-05-15  00:45:00  \n",
       "2020-05-15 01:00:00           22.165423          0.0 2020-05-15  01:00:00  "
      ]
     },
     "execution_count": 26,
     "metadata": {},
     "output_type": "execute_result"
    }
   ],
   "source": [
    "weather_data.head()"
   ]
  },
  {
   "cell_type": "markdown",
   "metadata": {
    "papermill": {
     "duration": 0.091576,
     "end_time": "2020-09-16T04:47:10.322166",
     "exception": false,
     "start_time": "2020-09-16T04:47:10.230590",
     "status": "completed"
    },
    "tags": []
   },
   "source": [
    "Temperature and irradiation profile in a given day (15-05-2020)"
   ]
  },
  {
   "cell_type": "code",
   "execution_count": 27,
   "metadata": {
    "execution": {
     "iopub.execute_input": "2020-09-16T04:47:10.532826Z",
     "iopub.status.busy": "2020-09-16T04:47:10.528839Z",
     "iopub.status.idle": "2020-09-16T04:47:11.105863Z",
     "shell.execute_reply": "2020-09-16T04:47:11.106536Z"
    },
    "papermill": {
     "duration": 0.692297,
     "end_time": "2020-09-16T04:47:11.106721",
     "exception": false,
     "start_time": "2020-09-16T04:47:10.414424",
     "status": "completed"
    },
    "tags": []
   },
   "outputs": [
    {
     "data": {
      "text/plain": [
       "DATE_TIME\n",
       "2020-05-15 00:00:00    22.857507\n",
       "2020-05-15 00:15:00    22.761668\n",
       "2020-05-15 00:30:00    22.592306\n",
       "2020-05-15 00:45:00    22.360852\n",
       "2020-05-15 01:00:00    22.165423\n",
       "                         ...    \n",
       "2020-05-15 22:00:00    20.895704\n",
       "2020-05-15 22:15:00    20.732186\n",
       "2020-05-15 22:30:00    20.829852\n",
       "2020-05-15 22:45:00    21.072276\n",
       "2020-05-15 23:00:00    21.241317\n",
       "Name: MODULE_TEMPERATURE, Length: 93, dtype: float64"
      ]
     },
     "execution_count": 27,
     "metadata": {},
     "output_type": "execute_result"
    }
   ],
   "source": [
    "# FIRST-AUTHOR: remove plotting\n",
    "# fig = plt.figure(figsize = (18,4))\n",
    "# plt.subplot(131)\n",
    "# weather_data.loc[(weather_data[\"Date\"] == \"2020-05-15\"), \"IRRADIATION\"].plot(legend = True)\n",
    "# #plt.legend()\n",
    "# plt.subplot(132)\n",
    "# weather_data.loc[(weather_data[\"Date\"] == \"2020-05-15\"),\"AMBIENT_TEMPERATURE\"].plot(legend = True)\n",
    "# plt.subplot(133)\n",
    "# weather_data.loc[(weather_data[\"Date\"] == \"2020-05-15 00:00:00\"),\"MODULE_TEMPERATURE\"].plot(legend = True)\n",
    "weather_data.loc[(weather_data[\"Date\"] == \"2020-05-15\"), \"IRRADIATION\"]\n",
    "weather_data.loc[(weather_data[\"Date\"] == \"2020-05-15\"),\"AMBIENT_TEMPERATURE\"]\n",
    "weather_data.loc[(weather_data[\"Date\"] == \"2020-05-15 00:00:00\"),\"MODULE_TEMPERATURE\"]"
   ]
  },
  {
   "cell_type": "code",
   "execution_count": 28,
   "metadata": {
    "execution": {
     "iopub.execute_input": "2020-09-16T04:47:11.316002Z",
     "iopub.status.busy": "2020-09-16T04:47:11.310324Z",
     "iopub.status.idle": "2020-09-16T04:47:11.534796Z",
     "shell.execute_reply": "2020-09-16T04:47:11.533996Z"
    },
    "papermill": {
     "duration": 0.333843,
     "end_time": "2020-09-16T04:47:11.534951",
     "exception": false,
     "start_time": "2020-09-16T04:47:11.201108",
     "status": "completed"
    },
    "tags": []
   },
   "outputs": [],
   "source": [
    "# FIRST-AUTHOR: remove plotting\n",
    "# sns.scatterplot(x = weather_data.loc[(weather_data[\"Date\"] == \"2020-05-15\"),\"AMBIENT_TEMPERATURE\"], y =weather_data.loc[(weather_data[\"Date\"] == \"2020-05-15\"),\"MODULE_TEMPERATURE\"])\n",
    "_ = weather_data.loc[(weather_data[\"Date\"] == \"2020-05-15\"),\"AMBIENT_TEMPERATURE\"]\n",
    "_ = weather_data.loc[(weather_data[\"Date\"] == \"2020-05-15\"),\"MODULE_TEMPERATURE\"]"
   ]
  },
  {
   "cell_type": "markdown",
   "metadata": {
    "papermill": {
     "duration": 0.104522,
     "end_time": "2020-09-16T04:47:11.737927",
     "exception": false,
     "start_time": "2020-09-16T04:47:11.633405",
     "status": "completed"
    },
    "tags": []
   },
   "source": [
    "The thing with temperatures is that they're not instantaneous (i.e., a change in ambient temperature or irradiation will not immediately change the module temperature). The ambient temperature for example is sort of a delayed response to solar irradiation (because ground takes some time to heat up, and a lot of time to cool down). The module temperature gets complicated because it's influenced by the sun during the day and the cooling ground at night"
   ]
  },
  {
   "cell_type": "code",
   "execution_count": 29,
   "metadata": {
    "execution": {
     "iopub.execute_input": "2020-09-16T04:47:11.968559Z",
     "iopub.status.busy": "2020-09-16T04:47:11.967301Z",
     "iopub.status.idle": "2020-09-16T04:47:11.973336Z",
     "shell.execute_reply": "2020-09-16T04:47:11.972480Z"
    },
    "papermill": {
     "duration": 0.12606,
     "end_time": "2020-09-16T04:47:11.973525",
     "exception": false,
     "start_time": "2020-09-16T04:47:11.847465",
     "status": "completed"
    },
    "tags": []
   },
   "outputs": [
    {
     "data": {
      "text/plain": [
       "Timestamp('2020-05-15 14:15:00')"
      ]
     },
     "execution_count": 29,
     "metadata": {},
     "output_type": "execute_result"
    }
   ],
   "source": [
    "#Timestamp of maximum irradiation on the 15th of May\n",
    "weather_data.loc[(weather_data[\"Date\"] == \"2020-05-15\"),\"IRRADIATION\"].idxmax()"
   ]
  },
  {
   "cell_type": "code",
   "execution_count": 30,
   "metadata": {
    "execution": {
     "iopub.execute_input": "2020-09-16T04:47:12.189474Z",
     "iopub.status.busy": "2020-09-16T04:47:12.188280Z",
     "iopub.status.idle": "2020-09-16T04:47:12.192986Z",
     "shell.execute_reply": "2020-09-16T04:47:12.192211Z"
    },
    "papermill": {
     "duration": 0.115061,
     "end_time": "2020-09-16T04:47:12.193142",
     "exception": false,
     "start_time": "2020-09-16T04:47:12.078081",
     "status": "completed"
    },
    "tags": []
   },
   "outputs": [
    {
     "data": {
      "text/plain": [
       "Timestamp('2020-05-15 15:45:00')"
      ]
     },
     "execution_count": 30,
     "metadata": {},
     "output_type": "execute_result"
    }
   ],
   "source": [
    "#Timestamp of maximum ambient temperature on the 15th of May\n",
    "weather_data.loc[(weather_data[\"Date\"] == \"2020-05-15\"),\"AMBIENT_TEMPERATURE\"].idxmax()"
   ]
  },
  {
   "cell_type": "code",
   "execution_count": 31,
   "metadata": {
    "execution": {
     "iopub.execute_input": "2020-09-16T04:47:12.399913Z",
     "iopub.status.busy": "2020-09-16T04:47:12.398890Z",
     "iopub.status.idle": "2020-09-16T04:47:12.403967Z",
     "shell.execute_reply": "2020-09-16T04:47:12.403344Z"
    },
    "papermill": {
     "duration": 0.111697,
     "end_time": "2020-09-16T04:47:12.404109",
     "exception": false,
     "start_time": "2020-09-16T04:47:12.292412",
     "status": "completed"
    },
    "tags": []
   },
   "outputs": [
    {
     "data": {
      "text/plain": [
       "Timestamp('2020-05-15 14:15:00')"
      ]
     },
     "execution_count": 31,
     "metadata": {},
     "output_type": "execute_result"
    }
   ],
   "source": [
    "weather_data.loc[(weather_data[\"Date\"] == \"2020-05-15\"),\"MODULE_TEMPERATURE\"].idxmax()"
   ]
  },
  {
   "cell_type": "markdown",
   "metadata": {
    "papermill": {
     "duration": 0.101544,
     "end_time": "2020-09-16T04:47:12.603647",
     "exception": false,
     "start_time": "2020-09-16T04:47:12.502103",
     "status": "completed"
    },
    "tags": []
   },
   "source": [
    "Checking the above assertion that the ambient temperature peaks a while after maximum irradiation/module temperature for all days"
   ]
  },
  {
   "cell_type": "code",
   "execution_count": null,
   "metadata": {
    "papermill": {
     "duration": 0.099824,
     "end_time": "2020-09-16T04:47:12.803505",
     "exception": false,
     "start_time": "2020-09-16T04:47:12.703681",
     "status": "completed"
    },
    "tags": []
   },
   "outputs": [],
   "source": []
  },
  {
   "cell_type": "code",
   "execution_count": 32,
   "metadata": {
    "execution": {
     "iopub.execute_input": "2020-09-16T04:47:13.015876Z",
     "iopub.status.busy": "2020-09-16T04:47:13.015054Z",
     "iopub.status.idle": "2020-09-16T04:47:13.022040Z",
     "shell.execute_reply": "2020-09-16T04:47:13.022647Z"
    },
    "papermill": {
     "duration": 0.114336,
     "end_time": "2020-09-16T04:47:13.022853",
     "exception": false,
     "start_time": "2020-09-16T04:47:12.908517",
     "status": "completed"
    },
    "tags": []
   },
   "outputs": [
    {
     "data": {
      "text/plain": [
       "dict_keys(['1BY6WEcLGh8j5v7', '1IF53ai7Xc0U56Y', '3PZuoBAID5Wc2HD', '7JYdWkrLSPkdwr4', 'McdE0feGgRqW7Ca', 'VHMLBKoKgIrUVDU', 'WRmjgnKYAwPKWDb', 'ZnxXDlPa8U1GXgE', 'ZoEaEvLYb1n2sOq', 'adLQvlD726eNBSB', 'bvBOhCH3iADSZry', 'iCRJl6heRkivqQ3', 'ih0vzX44oOqAx2f', 'pkci93gMrogZuBj', 'rGa61gmuvPhdLxV', 'sjndEbLyjtCKgGv', 'uHbuxQJl8lW7ozc', 'wCURE6d3bPkepu2', 'z9Y9gH1T5YWrNuG', 'zBIq5rxdHJRwDNY', 'zVJPv84UY57bAof', 'YxYtjZvoooNbGkE'])"
      ]
     },
     "execution_count": 32,
     "metadata": {},
     "output_type": "execute_result"
    }
   ],
   "source": [
    "inverter_daily_power.keys()"
   ]
  },
  {
   "cell_type": "markdown",
   "metadata": {
    "papermill": {
     "duration": 0.099239,
     "end_time": "2020-09-16T04:47:13.221138",
     "exception": false,
     "start_time": "2020-09-16T04:47:13.121899",
     "status": "completed"
    },
    "tags": []
   },
   "source": [
    "Rough plot of net solar irradiation vs Power produced in a given inverter over the data taking period"
   ]
  },
  {
   "cell_type": "code",
   "execution_count": 33,
   "metadata": {
    "execution": {
     "iopub.execute_input": "2020-09-16T04:47:13.455365Z",
     "iopub.status.busy": "2020-09-16T04:47:13.451619Z",
     "iopub.status.idle": "2020-09-16T04:47:13.657170Z",
     "shell.execute_reply": "2020-09-16T04:47:13.656343Z"
    },
    "papermill": {
     "duration": 0.33761,
     "end_time": "2020-09-16T04:47:13.657340",
     "exception": false,
     "start_time": "2020-09-16T04:47:13.319730",
     "status": "completed"
    },
    "tags": []
   },
   "outputs": [
    {
     "name": "stderr",
     "output_type": "stream",
     "text": [
      "/tmp/ipykernel_384611/1160022674.py:2: FutureWarning: The default value of numeric_only in DataFrameGroupBy.sum is deprecated. In a future version, numeric_only will default to False. Either specify numeric_only or select only columns which should be valid for the function.\n",
      "  daily_irradiation = weather_data.groupby(\"date\").sum()[\"IRRADIATION\"]\n"
     ]
    }
   ],
   "source": [
    "weather_data[\"date\"] = weather_data.index.map(lambda x : x.date())\n",
    "daily_irradiation = weather_data.groupby(\"date\").sum()[\"IRRADIATION\"]\n",
    "# FIRST-AUTHOR: remove plotting\n",
    "# sns.scatterplot(x = daily_irradiation, y = inverter_daily_power[\"1BY6WEcLGh8j5v7\"])\n",
    "_ = inverter_daily_power[\"1BY6WEcLGh8j5v7\"]"
   ]
  },
  {
   "cell_type": "markdown",
   "metadata": {
    "papermill": {
     "duration": 0.099964,
     "end_time": "2020-09-16T04:47:13.863696",
     "exception": false,
     "start_time": "2020-09-16T04:47:13.763732",
     "status": "completed"
    },
    "tags": []
   },
   "source": [
    "The above plot is only an estimate because we have issues with data taking over the course of days (i.e., some intervals don't have data). We need to take the intersection of timestamps of the inverter output data and the irradiation data to get a better estimate"
   ]
  },
  {
   "cell_type": "markdown",
   "metadata": {
    "papermill": {
     "duration": 0.099898,
     "end_time": "2020-09-16T04:47:14.071952",
     "exception": false,
     "start_time": "2020-09-16T04:47:13.972054",
     "status": "completed"
    },
    "tags": []
   },
   "source": [
    " #### Irradiation vs Different temperature metrics "
   ]
  },
  {
   "cell_type": "markdown",
   "metadata": {
    "papermill": {
     "duration": 0.102491,
     "end_time": "2020-09-16T04:47:14.276051",
     "exception": false,
     "start_time": "2020-09-16T04:47:14.173560",
     "status": "completed"
    },
    "tags": []
   },
   "source": [
    "#### Max and Min temperature vs data taking period"
   ]
  },
  {
   "cell_type": "code",
   "execution_count": 34,
   "metadata": {
    "execution": {
     "iopub.execute_input": "2020-09-16T04:47:14.538164Z",
     "iopub.status.busy": "2020-09-16T04:47:14.536927Z",
     "iopub.status.idle": "2020-09-16T04:47:14.598871Z",
     "shell.execute_reply": "2020-09-16T04:47:14.597943Z"
    },
    "papermill": {
     "duration": 0.176103,
     "end_time": "2020-09-16T04:47:14.599024",
     "exception": false,
     "start_time": "2020-09-16T04:47:14.422921",
     "status": "completed"
    },
    "tags": []
   },
   "outputs": [],
   "source": [
    "max_temps = weather_data.groupby(\"date\").max()[\"AMBIENT_TEMPERATURE\"]\n",
    "min_temps = weather_data.groupby(\"date\").min()[\"AMBIENT_TEMPERATURE\"]"
   ]
  },
  {
   "cell_type": "code",
   "execution_count": 35,
   "metadata": {
    "execution": {
     "iopub.execute_input": "2020-09-16T04:47:14.818389Z",
     "iopub.status.busy": "2020-09-16T04:47:14.817011Z",
     "iopub.status.idle": "2020-09-16T04:47:15.077973Z",
     "shell.execute_reply": "2020-09-16T04:47:15.077065Z"
    },
    "papermill": {
     "duration": 0.376181,
     "end_time": "2020-09-16T04:47:15.078130",
     "exception": false,
     "start_time": "2020-09-16T04:47:14.701949",
     "status": "completed"
    },
    "tags": []
   },
   "outputs": [],
   "source": [
    "# FIRST-AUTHOR: remove plotting\n",
    "# plt.figure(figsize = (12,6))\n",
    "# max_temps.plot(label = \"Maximum Temperature\")\n",
    "# min_temps.plot(label = \"Minimum Temperature\")\n",
    "# plt.legend()"
   ]
  },
  {
   "cell_type": "code",
   "execution_count": 36,
   "metadata": {
    "execution": {
     "iopub.execute_input": "2020-09-16T04:47:15.296663Z",
     "iopub.status.busy": "2020-09-16T04:47:15.295740Z",
     "iopub.status.idle": "2020-09-16T04:47:15.359100Z",
     "shell.execute_reply": "2020-09-16T04:47:15.358307Z"
    },
    "papermill": {
     "duration": 0.175826,
     "end_time": "2020-09-16T04:47:15.359296",
     "exception": false,
     "start_time": "2020-09-16T04:47:15.183470",
     "status": "completed"
    },
    "tags": []
   },
   "outputs": [
    {
     "name": "stderr",
     "output_type": "stream",
     "text": [
      "/tmp/ipykernel_384611/289364936.py:4: FutureWarning: The default value of numeric_only in DataFrameGroupBy.sum is deprecated. In a future version, numeric_only will default to False. Either specify numeric_only or select only columns which should be valid for the function.\n",
      "  daily_irradiation = weather_data.groupby(\"date\").sum()[\"IRRADIATION\"]\n"
     ]
    }
   ],
   "source": [
    "max_temps = weather_data.groupby(\"date\").max()[\"AMBIENT_TEMPERATURE\"]\n",
    "min_temps = weather_data.groupby(\"date\").min()[\"AMBIENT_TEMPERATURE\"]\n",
    "diff_temps = max_temps - min_temps\n",
    "daily_irradiation = weather_data.groupby(\"date\").sum()[\"IRRADIATION\"]"
   ]
  },
  {
   "cell_type": "markdown",
   "metadata": {
    "papermill": {
     "duration": 0.101871,
     "end_time": "2020-09-16T04:47:15.562938",
     "exception": false,
     "start_time": "2020-09-16T04:47:15.461067",
     "status": "completed"
    },
    "tags": []
   },
   "source": [
    "Irradiation vs (Maximum - Minimum) temperature"
   ]
  },
  {
   "cell_type": "code",
   "execution_count": 37,
   "metadata": {
    "execution": {
     "iopub.execute_input": "2020-09-16T04:47:15.850990Z",
     "iopub.status.busy": "2020-09-16T04:47:15.845515Z",
     "iopub.status.idle": "2020-09-16T04:47:16.069809Z",
     "shell.execute_reply": "2020-09-16T04:47:16.068527Z"
    },
    "papermill": {
     "duration": 0.395513,
     "end_time": "2020-09-16T04:47:16.070038",
     "exception": false,
     "start_time": "2020-09-16T04:47:15.674525",
     "status": "completed"
    },
    "tags": []
   },
   "outputs": [],
   "source": [
    "# FIRST-AUTHOR: remove plotting\n",
    "# sns.scatterplot(daily_irradiation,diff_temps)"
   ]
  },
  {
   "cell_type": "markdown",
   "metadata": {
    "papermill": {
     "duration": 0.105492,
     "end_time": "2020-09-16T04:47:16.296505",
     "exception": false,
     "start_time": "2020-09-16T04:47:16.191013",
     "status": "completed"
    },
    "tags": []
   },
   "source": [
    "The first hint of nonzero radiation is when the sun appears in Line of Sight of the solar panels. The temperature at this point is our \"baseline\" temperature before any solar irradiation, and the maximum temperature is, well, the maximum. The difference between these two temperatures should tell us a measure of irradiation"
   ]
  },
  {
   "cell_type": "code",
   "execution_count": 38,
   "metadata": {
    "execution": {
     "iopub.execute_input": "2020-09-16T04:47:16.520412Z",
     "iopub.status.busy": "2020-09-16T04:47:16.519536Z",
     "iopub.status.idle": "2020-09-16T04:47:16.522918Z",
     "shell.execute_reply": "2020-09-16T04:47:16.522110Z"
    },
    "papermill": {
     "duration": 0.120366,
     "end_time": "2020-09-16T04:47:16.523066",
     "exception": false,
     "start_time": "2020-09-16T04:47:16.402700",
     "status": "completed"
    },
    "tags": []
   },
   "outputs": [],
   "source": [
    "temp_before_sunrise = weather_data.loc[(weather_data[\"Time\"] < pd.to_datetime(\"07:00\").time()) & (weather_data[\"IRRADIATION\"] > 0)].groupby(\"date\")[\"AMBIENT_TEMPERATURE\"].min()"
   ]
  },
  {
   "cell_type": "code",
   "execution_count": 39,
   "metadata": {
    "execution": {
     "iopub.execute_input": "2020-09-16T04:47:16.748442Z",
     "iopub.status.busy": "2020-09-16T04:47:16.747265Z",
     "iopub.status.idle": "2020-09-16T04:47:16.750897Z",
     "shell.execute_reply": "2020-09-16T04:47:16.750238Z"
    },
    "papermill": {
     "duration": 0.120041,
     "end_time": "2020-09-16T04:47:16.751049",
     "exception": false,
     "start_time": "2020-09-16T04:47:16.631008",
     "status": "completed"
    },
    "tags": []
   },
   "outputs": [],
   "source": [
    "diff_temps = max_temps - temp_before_sunrise"
   ]
  },
  {
   "cell_type": "code",
   "execution_count": 40,
   "metadata": {
    "execution": {
     "iopub.execute_input": "2020-09-16T04:47:16.977830Z",
     "iopub.status.busy": "2020-09-16T04:47:16.970218Z",
     "iopub.status.idle": "2020-09-16T04:47:17.166594Z",
     "shell.execute_reply": "2020-09-16T04:47:17.165738Z"
    },
    "papermill": {
     "duration": 0.311181,
     "end_time": "2020-09-16T04:47:17.166745",
     "exception": false,
     "start_time": "2020-09-16T04:47:16.855564",
     "status": "completed"
    },
    "tags": []
   },
   "outputs": [],
   "source": [
    "# FIRST-AUTHOR: remove plotting\n",
    "# sns.scatterplot(daily_irradiation,diff_temps)"
   ]
  },
  {
   "cell_type": "markdown",
   "metadata": {
    "papermill": {
     "duration": 0.104983,
     "end_time": "2020-09-16T04:47:17.386892",
     "exception": false,
     "start_time": "2020-09-16T04:47:17.281909",
     "status": "completed"
    },
    "tags": []
   },
   "source": [
    "The above temperature metric doesn't seem to be a very good indicator of irradiation. Temperature and irradiation seem to have a complicated relationship that could not be modelled linearly"
   ]
  },
  {
   "cell_type": "code",
   "execution_count": null,
   "metadata": {
    "papermill": {
     "duration": 0.106708,
     "end_time": "2020-09-16T04:47:17.598587",
     "exception": false,
     "start_time": "2020-09-16T04:47:17.491879",
     "status": "completed"
    },
    "tags": []
   },
   "outputs": [],
   "source": []
  },
  {
   "cell_type": "markdown",
   "metadata": {
    "papermill": {
     "duration": 0.110719,
     "end_time": "2020-09-16T04:47:17.821064",
     "exception": false,
     "start_time": "2020-09-16T04:47:17.710345",
     "status": "completed"
    },
    "tags": []
   },
   "source": [
    "Since not all inverters have readings for all intervals of time, we \"impute\" entries for the inverters (and subsequently calculate the total power produced in any instance of time) by using the average DC/AC power produced in that time period as the power produced by an inverter with a missing reading. This implies the total power produced in an interval of time is just the average for that time interval multiplied by the total number of inverters. "
   ]
  },
  {
   "cell_type": "markdown",
   "metadata": {
    "papermill": {
     "duration": 0.105468,
     "end_time": "2020-09-16T04:47:18.032098",
     "exception": false,
     "start_time": "2020-09-16T04:47:17.926630",
     "status": "completed"
    },
    "tags": []
   },
   "source": [
    "Calculate the average DC and AC power produced for a given timestamp"
   ]
  },
  {
   "cell_type": "code",
   "execution_count": 41,
   "metadata": {
    "execution": {
     "iopub.execute_input": "2020-09-16T04:47:18.251429Z",
     "iopub.status.busy": "2020-09-16T04:47:18.250557Z",
     "iopub.status.idle": "2020-09-16T04:47:18.277843Z",
     "shell.execute_reply": "2020-09-16T04:47:18.278468Z"
    },
    "papermill": {
     "duration": 0.140092,
     "end_time": "2020-09-16T04:47:18.278684",
     "exception": false,
     "start_time": "2020-09-16T04:47:18.138592",
     "status": "completed"
    },
    "tags": []
   },
   "outputs": [
    {
     "name": "stderr",
     "output_type": "stream",
     "text": [
      "/tmp/ipykernel_384611/3838162071.py:1: FutureWarning: The default value of numeric_only in DataFrameGroupBy.mean is deprecated. In a future version, numeric_only will default to False. Either specify numeric_only or select only columns which should be valid for the function.\n",
      "  average_power = gen_data.reset_index().groupby(\"DATE_TIME\").mean()[[\"DC_POWER\",\"AC_POWER\"]]\n"
     ]
    }
   ],
   "source": [
    "average_power = gen_data.reset_index().groupby(\"DATE_TIME\").mean()[[\"DC_POWER\",\"AC_POWER\"]]"
   ]
  },
  {
   "cell_type": "code",
   "execution_count": 42,
   "metadata": {
    "execution": {
     "iopub.execute_input": "2020-09-16T04:47:18.497355Z",
     "iopub.status.busy": "2020-09-16T04:47:18.496223Z",
     "iopub.status.idle": "2020-09-16T04:47:18.501077Z",
     "shell.execute_reply": "2020-09-16T04:47:18.500355Z"
    },
    "papermill": {
     "duration": 0.116965,
     "end_time": "2020-09-16T04:47:18.501242",
     "exception": false,
     "start_time": "2020-09-16T04:47:18.384277",
     "status": "completed"
    },
    "tags": []
   },
   "outputs": [],
   "source": [
    "total_power = average_power * gen_data[\"PLANT_ID\"].nunique()"
   ]
  },
  {
   "cell_type": "code",
   "execution_count": 43,
   "metadata": {
    "execution": {
     "iopub.execute_input": "2020-09-16T04:47:18.743132Z",
     "iopub.status.busy": "2020-09-16T04:47:18.737975Z",
     "iopub.status.idle": "2020-09-16T04:47:19.132072Z",
     "shell.execute_reply": "2020-09-16T04:47:19.131195Z"
    },
    "papermill": {
     "duration": 0.522519,
     "end_time": "2020-09-16T04:47:19.132258",
     "exception": false,
     "start_time": "2020-09-16T04:47:18.609739",
     "status": "completed"
    },
    "tags": []
   },
   "outputs": [
    {
     "data": {
      "text/html": [
       "<div>\n",
       "<style scoped>\n",
       "    .dataframe tbody tr th:only-of-type {\n",
       "        vertical-align: middle;\n",
       "    }\n",
       "\n",
       "    .dataframe tbody tr th {\n",
       "        vertical-align: top;\n",
       "    }\n",
       "\n",
       "    .dataframe thead th {\n",
       "        text-align: right;\n",
       "    }\n",
       "</style>\n",
       "<table border=\"1\" class=\"dataframe\">\n",
       "  <thead>\n",
       "    <tr style=\"text-align: right;\">\n",
       "      <th></th>\n",
       "      <th>DC_POWER</th>\n",
       "      <th>AC_POWER</th>\n",
       "    </tr>\n",
       "    <tr>\n",
       "      <th>Date</th>\n",
       "      <th></th>\n",
       "      <th></th>\n",
       "    </tr>\n",
       "  </thead>\n",
       "  <tbody>\n",
       "    <tr>\n",
       "      <th>2020-05-15</th>\n",
       "      <td>255798.931278</td>\n",
       "      <td>25039.251981</td>\n",
       "    </tr>\n",
       "    <tr>\n",
       "      <th>2020-05-16</th>\n",
       "      <td>263915.341722</td>\n",
       "      <td>25834.537338</td>\n",
       "    </tr>\n",
       "    <tr>\n",
       "      <th>2020-05-17</th>\n",
       "      <td>307254.297619</td>\n",
       "      <td>30044.335877</td>\n",
       "    </tr>\n",
       "    <tr>\n",
       "      <th>2020-05-18</th>\n",
       "      <td>218752.206168</td>\n",
       "      <td>21407.714042</td>\n",
       "    </tr>\n",
       "    <tr>\n",
       "      <th>2020-05-19</th>\n",
       "      <td>249834.902688</td>\n",
       "      <td>24453.503003</td>\n",
       "    </tr>\n",
       "    <tr>\n",
       "      <th>2020-05-20</th>\n",
       "      <td>244344.807736</td>\n",
       "      <td>23867.480336</td>\n",
       "    </tr>\n",
       "    <tr>\n",
       "      <th>2020-05-21</th>\n",
       "      <td>308260.988439</td>\n",
       "      <td>30127.611073</td>\n",
       "    </tr>\n",
       "    <tr>\n",
       "      <th>2020-05-22</th>\n",
       "      <td>291849.295510</td>\n",
       "      <td>28537.732181</td>\n",
       "    </tr>\n",
       "    <tr>\n",
       "      <th>2020-05-23</th>\n",
       "      <td>346828.053734</td>\n",
       "      <td>33903.831272</td>\n",
       "    </tr>\n",
       "    <tr>\n",
       "      <th>2020-05-24</th>\n",
       "      <td>325470.631493</td>\n",
       "      <td>31809.900487</td>\n",
       "    </tr>\n",
       "    <tr>\n",
       "      <th>2020-05-25</th>\n",
       "      <td>359043.868775</td>\n",
       "      <td>35071.643696</td>\n",
       "    </tr>\n",
       "    <tr>\n",
       "      <th>2020-05-26</th>\n",
       "      <td>320590.802974</td>\n",
       "      <td>31341.456754</td>\n",
       "    </tr>\n",
       "    <tr>\n",
       "      <th>2020-05-27</th>\n",
       "      <td>272144.557955</td>\n",
       "      <td>26630.331883</td>\n",
       "    </tr>\n",
       "    <tr>\n",
       "      <th>2020-05-28</th>\n",
       "      <td>340972.507684</td>\n",
       "      <td>33323.611623</td>\n",
       "    </tr>\n",
       "    <tr>\n",
       "      <th>2020-05-29</th>\n",
       "      <td>331598.962014</td>\n",
       "      <td>32414.326028</td>\n",
       "    </tr>\n",
       "    <tr>\n",
       "      <th>2020-05-30</th>\n",
       "      <td>295559.676948</td>\n",
       "      <td>28911.054302</td>\n",
       "    </tr>\n",
       "    <tr>\n",
       "      <th>2020-05-31</th>\n",
       "      <td>244479.659091</td>\n",
       "      <td>23906.326136</td>\n",
       "    </tr>\n",
       "    <tr>\n",
       "      <th>2020-06-01</th>\n",
       "      <td>236824.274243</td>\n",
       "      <td>23167.795454</td>\n",
       "    </tr>\n",
       "    <tr>\n",
       "      <th>2020-06-02</th>\n",
       "      <td>301577.364719</td>\n",
       "      <td>29497.578034</td>\n",
       "    </tr>\n",
       "    <tr>\n",
       "      <th>2020-06-03</th>\n",
       "      <td>312101.466721</td>\n",
       "      <td>30526.956927</td>\n",
       "    </tr>\n",
       "    <tr>\n",
       "      <th>2020-06-04</th>\n",
       "      <td>332774.157195</td>\n",
       "      <td>32535.235850</td>\n",
       "    </tr>\n",
       "    <tr>\n",
       "      <th>2020-06-05</th>\n",
       "      <td>313566.992428</td>\n",
       "      <td>30662.461634</td>\n",
       "    </tr>\n",
       "    <tr>\n",
       "      <th>2020-06-06</th>\n",
       "      <td>260555.816560</td>\n",
       "      <td>25475.313279</td>\n",
       "    </tr>\n",
       "    <tr>\n",
       "      <th>2020-06-07</th>\n",
       "      <td>312565.643667</td>\n",
       "      <td>30551.795211</td>\n",
       "    </tr>\n",
       "    <tr>\n",
       "      <th>2020-06-08</th>\n",
       "      <td>339550.684686</td>\n",
       "      <td>33185.793852</td>\n",
       "    </tr>\n",
       "    <tr>\n",
       "      <th>2020-06-09</th>\n",
       "      <td>328818.586043</td>\n",
       "      <td>32147.158360</td>\n",
       "    </tr>\n",
       "    <tr>\n",
       "      <th>2020-06-10</th>\n",
       "      <td>262910.887338</td>\n",
       "      <td>25724.431412</td>\n",
       "    </tr>\n",
       "    <tr>\n",
       "      <th>2020-06-11</th>\n",
       "      <td>229349.025974</td>\n",
       "      <td>22462.493750</td>\n",
       "    </tr>\n",
       "    <tr>\n",
       "      <th>2020-06-12</th>\n",
       "      <td>237379.723214</td>\n",
       "      <td>23240.440666</td>\n",
       "    </tr>\n",
       "    <tr>\n",
       "      <th>2020-06-13</th>\n",
       "      <td>345171.648538</td>\n",
       "      <td>33728.756980</td>\n",
       "    </tr>\n",
       "    <tr>\n",
       "      <th>2020-06-14</th>\n",
       "      <td>288658.844969</td>\n",
       "      <td>28250.422484</td>\n",
       "    </tr>\n",
       "    <tr>\n",
       "      <th>2020-06-15</th>\n",
       "      <td>275251.632307</td>\n",
       "      <td>26931.084740</td>\n",
       "    </tr>\n",
       "    <tr>\n",
       "      <th>2020-06-16</th>\n",
       "      <td>253295.511995</td>\n",
       "      <td>24795.758126</td>\n",
       "    </tr>\n",
       "    <tr>\n",
       "      <th>2020-06-17</th>\n",
       "      <td>241717.264612</td>\n",
       "      <td>23653.797110</td>\n",
       "    </tr>\n",
       "  </tbody>\n",
       "</table>\n",
       "</div>"
      ],
      "text/plain": [
       "                 DC_POWER      AC_POWER\n",
       "Date                                   \n",
       "2020-05-15  255798.931278  25039.251981\n",
       "2020-05-16  263915.341722  25834.537338\n",
       "2020-05-17  307254.297619  30044.335877\n",
       "2020-05-18  218752.206168  21407.714042\n",
       "2020-05-19  249834.902688  24453.503003\n",
       "2020-05-20  244344.807736  23867.480336\n",
       "2020-05-21  308260.988439  30127.611073\n",
       "2020-05-22  291849.295510  28537.732181\n",
       "2020-05-23  346828.053734  33903.831272\n",
       "2020-05-24  325470.631493  31809.900487\n",
       "2020-05-25  359043.868775  35071.643696\n",
       "2020-05-26  320590.802974  31341.456754\n",
       "2020-05-27  272144.557955  26630.331883\n",
       "2020-05-28  340972.507684  33323.611623\n",
       "2020-05-29  331598.962014  32414.326028\n",
       "2020-05-30  295559.676948  28911.054302\n",
       "2020-05-31  244479.659091  23906.326136\n",
       "2020-06-01  236824.274243  23167.795454\n",
       "2020-06-02  301577.364719  29497.578034\n",
       "2020-06-03  312101.466721  30526.956927\n",
       "2020-06-04  332774.157195  32535.235850\n",
       "2020-06-05  313566.992428  30662.461634\n",
       "2020-06-06  260555.816560  25475.313279\n",
       "2020-06-07  312565.643667  30551.795211\n",
       "2020-06-08  339550.684686  33185.793852\n",
       "2020-06-09  328818.586043  32147.158360\n",
       "2020-06-10  262910.887338  25724.431412\n",
       "2020-06-11  229349.025974  22462.493750\n",
       "2020-06-12  237379.723214  23240.440666\n",
       "2020-06-13  345171.648538  33728.756980\n",
       "2020-06-14  288658.844969  28250.422484\n",
       "2020-06-15  275251.632307  26931.084740\n",
       "2020-06-16  253295.511995  24795.758126\n",
       "2020-06-17  241717.264612  23653.797110"
      ]
     },
     "execution_count": 43,
     "metadata": {},
     "output_type": "execute_result"
    }
   ],
   "source": [
    "total_power[\"Date\"] = total_power.index.map(lambda x : x.date())\n",
    "# FIRST-AUTHOR: remove plotting\n",
    "# fig = plt.figure()\n",
    "# total_power.groupby(\"Date\").sum().plot()\n",
    "# plt.yscale(\"log\")\n",
    "total_power.groupby(\"Date\").sum()"
   ]
  },
  {
   "cell_type": "code",
   "execution_count": 44,
   "metadata": {
    "execution": {
     "iopub.execute_input": "2020-09-16T04:47:19.372897Z",
     "iopub.status.busy": "2020-09-16T04:47:19.372031Z",
     "iopub.status.idle": "2020-09-16T04:47:19.747508Z",
     "shell.execute_reply": "2020-09-16T04:47:19.748093Z"
    },
    "papermill": {
     "duration": 0.505202,
     "end_time": "2020-09-16T04:47:19.748313",
     "exception": false,
     "start_time": "2020-09-16T04:47:19.243111",
     "status": "completed"
    },
    "tags": []
   },
   "outputs": [],
   "source": [
    "# FIRST-AUTHOR: remove plotting\n",
    "# sns.regplot(x = weather_data.groupby(\"Date\")[\"IRRADIATION\"].sum(), y = total_power.groupby(\"Date\")[\"DC_POWER\"].sum())\n",
    "_ = weather_data.groupby(\"Date\")[\"IRRADIATION\"].sum()\n",
    "_ = total_power.groupby(\"Date\")[\"DC_POWER\"].sum()"
   ]
  },
  {
   "cell_type": "code",
   "execution_count": 45,
   "metadata": {
    "execution": {
     "iopub.execute_input": "2020-09-16T04:47:19.980063Z",
     "iopub.status.busy": "2020-09-16T04:47:19.978989Z",
     "iopub.status.idle": "2020-09-16T04:47:20.227230Z",
     "shell.execute_reply": "2020-09-16T04:47:20.226480Z"
    },
    "papermill": {
     "duration": 0.368003,
     "end_time": "2020-09-16T04:47:20.227378",
     "exception": false,
     "start_time": "2020-09-16T04:47:19.859375",
     "status": "completed"
    },
    "tags": []
   },
   "outputs": [],
   "source": [
    "# FIRST-AUTHOR: remove ML code\n",
    "# from sklearn.linear_model import LinearRegression\n",
    "# model = LinearRegression()\n",
    "# model.fit(weather_data.groupby(\"Date\")[\"IRRADIATION\"].sum().values.reshape(-1,1),total_power.groupby(\"Date\")[\"DC_POWER\"].sum())\n",
    "# model.intercept_,model.coef_\n",
    "_ = weather_data.groupby(\"Date\")[\"IRRADIATION\"].sum().values.reshape(-1,1)\n",
    "_ = total_power.groupby(\"Date\")[\"DC_POWER\"].sum()"
   ]
  },
  {
   "cell_type": "code",
   "execution_count": 46,
   "metadata": {
    "execution": {
     "iopub.execute_input": "2020-09-16T04:47:20.471027Z",
     "iopub.status.busy": "2020-09-16T04:47:20.462469Z",
     "iopub.status.idle": "2020-09-16T04:47:20.806116Z",
     "shell.execute_reply": "2020-09-16T04:47:20.805279Z"
    },
    "papermill": {
     "duration": 0.468876,
     "end_time": "2020-09-16T04:47:20.806291",
     "exception": false,
     "start_time": "2020-09-16T04:47:20.337415",
     "status": "completed"
    },
    "tags": []
   },
   "outputs": [],
   "source": [
    "# FIRST-AUTHOR: remove plotting\n",
    "# sns.regplot(x = total_power.groupby(\"Date\")[\"DC_POWER\"].sum(),y = total_power.groupby(\"Date\")[\"AC_POWER\"].sum())\n",
    "_ = total_power.groupby(\"Date\")[\"DC_POWER\"].sum()\n",
    "_ = total_power.groupby(\"Date\")[\"AC_POWER\"].sum()"
   ]
  },
  {
   "cell_type": "code",
   "execution_count": 47,
   "metadata": {
    "execution": {
     "iopub.execute_input": "2020-09-16T04:47:21.040782Z",
     "iopub.status.busy": "2020-09-16T04:47:21.039433Z",
     "iopub.status.idle": "2020-09-16T04:47:21.043030Z",
     "shell.execute_reply": "2020-09-16T04:47:21.042219Z"
    },
    "papermill": {
     "duration": 0.124173,
     "end_time": "2020-09-16T04:47:21.043202",
     "exception": false,
     "start_time": "2020-09-16T04:47:20.919029",
     "status": "completed"
    },
    "tags": []
   },
   "outputs": [],
   "source": [
    "# FIRST-AUTHOR: remove ML code\n",
    "# from sklearn.linear_model import LinearRegression"
   ]
  },
  {
   "cell_type": "code",
   "execution_count": 48,
   "metadata": {
    "execution": {
     "iopub.execute_input": "2020-09-16T04:47:21.281889Z",
     "iopub.status.busy": "2020-09-16T04:47:21.280947Z",
     "iopub.status.idle": "2020-09-16T04:47:21.289565Z",
     "shell.execute_reply": "2020-09-16T04:47:21.288805Z"
    },
    "papermill": {
     "duration": 0.133477,
     "end_time": "2020-09-16T04:47:21.289714",
     "exception": false,
     "start_time": "2020-09-16T04:47:21.156237",
     "status": "completed"
    },
    "tags": []
   },
   "outputs": [],
   "source": [
    "# FIRST-AUTHOR: remove ML code\n",
    "# a = LinearRegression()\n",
    "# a.fit(total_power.groupby(\"Date\")[\"DC_POWER\"].sum().values.reshape(-1,1),total_power.groupby(\"Date\")[\"AC_POWER\"].sum())\n",
    "# a.intercept_,a.coef_\n",
    "_ = total_power.groupby(\"Date\")[\"DC_POWER\"].sum().values.reshape(-1,1)\n",
    "_ = total_power.groupby(\"Date\")[\"AC_POWER\"].sum()"
   ]
  },
  {
   "cell_type": "markdown",
   "metadata": {
    "papermill": {
     "duration": 0.112516,
     "end_time": "2020-09-16T04:47:21.516520",
     "exception": false,
     "start_time": "2020-09-16T04:47:21.404004",
     "status": "completed"
    },
    "tags": []
   },
   "source": [
    "The first plant has an efficiency of 9.74%"
   ]
  },
  {
   "cell_type": "markdown",
   "metadata": {
    "papermill": {
     "duration": 0.112705,
     "end_time": "2020-09-16T04:47:21.744348",
     "exception": false,
     "start_time": "2020-09-16T04:47:21.631643",
     "status": "completed"
    },
    "tags": []
   },
   "source": [
    "### Repeating these with plant 2 and cross-checking the plants"
   ]
  },
  {
   "cell_type": "code",
   "execution_count": 49,
   "metadata": {
    "execution": {
     "iopub.execute_input": "2020-09-16T04:47:21.980448Z",
     "iopub.status.busy": "2020-09-16T04:47:21.979609Z",
     "iopub.status.idle": "2020-09-16T04:47:22.131166Z",
     "shell.execute_reply": "2020-09-16T04:47:22.131948Z"
    },
    "papermill": {
     "duration": 0.274727,
     "end_time": "2020-09-16T04:47:22.132139",
     "exception": false,
     "start_time": "2020-09-16T04:47:21.857412",
     "status": "completed"
    },
    "tags": []
   },
   "outputs": [],
   "source": [
    "gen_data_2 = pd.read_csv(\"./input/Plant_2_Generation_Data.scaled.csv\",index_col = \"DATE_TIME\",parse_dates = [\"DATE_TIME\"])"
   ]
  },
  {
   "cell_type": "code",
   "execution_count": 50,
   "metadata": {
    "execution": {
     "iopub.execute_input": "2020-09-16T04:47:22.771455Z",
     "iopub.status.busy": "2020-09-16T04:47:22.734817Z",
     "iopub.status.idle": "2020-09-16T04:47:23.799001Z",
     "shell.execute_reply": "2020-09-16T04:47:23.798103Z"
    },
    "papermill": {
     "duration": 1.553929,
     "end_time": "2020-09-16T04:47:23.799157",
     "exception": false,
     "start_time": "2020-09-16T04:47:22.245228",
     "status": "completed"
    },
    "tags": []
   },
   "outputs": [],
   "source": [
    "gen_data_2[\"Date\"] = gen_data_2.index.map(lambda x : x.date())\n",
    "gen_data_2[\"Time\"] = gen_data_2.index.map(lambda x : x.time())"
   ]
  },
  {
   "cell_type": "code",
   "execution_count": 51,
   "metadata": {
    "execution": {
     "iopub.execute_input": "2020-09-16T04:47:24.037055Z",
     "iopub.status.busy": "2020-09-16T04:47:24.035634Z",
     "iopub.status.idle": "2020-09-16T04:47:24.090568Z",
     "shell.execute_reply": "2020-09-16T04:47:24.089686Z"
    },
    "papermill": {
     "duration": 0.176931,
     "end_time": "2020-09-16T04:47:24.090722",
     "exception": false,
     "start_time": "2020-09-16T04:47:23.913791",
     "status": "completed"
    },
    "tags": []
   },
   "outputs": [
    {
     "data": {
      "text/html": [
       "<div>\n",
       "<style scoped>\n",
       "    .dataframe tbody tr th:only-of-type {\n",
       "        vertical-align: middle;\n",
       "    }\n",
       "\n",
       "    .dataframe tbody tr th {\n",
       "        vertical-align: top;\n",
       "    }\n",
       "\n",
       "    .dataframe thead th {\n",
       "        text-align: right;\n",
       "    }\n",
       "</style>\n",
       "<table border=\"1\" class=\"dataframe\">\n",
       "  <thead>\n",
       "    <tr style=\"text-align: right;\">\n",
       "      <th></th>\n",
       "      <th>PLANT_ID</th>\n",
       "      <th>DC_POWER</th>\n",
       "      <th>AC_POWER</th>\n",
       "      <th>DAILY_YIELD</th>\n",
       "      <th>TOTAL_YIELD</th>\n",
       "      <th>Date</th>\n",
       "      <th>Time</th>\n",
       "    </tr>\n",
       "    <tr>\n",
       "      <th>SOURCE_KEY</th>\n",
       "      <th></th>\n",
       "      <th></th>\n",
       "      <th></th>\n",
       "      <th></th>\n",
       "      <th></th>\n",
       "      <th></th>\n",
       "      <th></th>\n",
       "    </tr>\n",
       "  </thead>\n",
       "  <tbody>\n",
       "    <tr>\n",
       "      <th>4UPUqMRk7TRMgml</th>\n",
       "      <td>3195</td>\n",
       "      <td>3195</td>\n",
       "      <td>3195</td>\n",
       "      <td>3195</td>\n",
       "      <td>3195</td>\n",
       "      <td>3195</td>\n",
       "      <td>3195</td>\n",
       "    </tr>\n",
       "    <tr>\n",
       "      <th>81aHJ1q11NBPMrL</th>\n",
       "      <td>3259</td>\n",
       "      <td>3259</td>\n",
       "      <td>3259</td>\n",
       "      <td>3259</td>\n",
       "      <td>3259</td>\n",
       "      <td>3259</td>\n",
       "      <td>3259</td>\n",
       "    </tr>\n",
       "    <tr>\n",
       "      <th>9kRcWv60rDACzjR</th>\n",
       "      <td>3259</td>\n",
       "      <td>3259</td>\n",
       "      <td>3259</td>\n",
       "      <td>3259</td>\n",
       "      <td>3259</td>\n",
       "      <td>3259</td>\n",
       "      <td>3259</td>\n",
       "    </tr>\n",
       "    <tr>\n",
       "      <th>Et9kgGMDl729KT4</th>\n",
       "      <td>3195</td>\n",
       "      <td>3195</td>\n",
       "      <td>3195</td>\n",
       "      <td>3195</td>\n",
       "      <td>3195</td>\n",
       "      <td>3195</td>\n",
       "      <td>3195</td>\n",
       "    </tr>\n",
       "    <tr>\n",
       "      <th>IQ2d7wF4YD8zU1Q</th>\n",
       "      <td>2355</td>\n",
       "      <td>2355</td>\n",
       "      <td>2355</td>\n",
       "      <td>2355</td>\n",
       "      <td>2355</td>\n",
       "      <td>2355</td>\n",
       "      <td>2355</td>\n",
       "    </tr>\n",
       "    <tr>\n",
       "      <th>LYwnQax7tkwH5Cb</th>\n",
       "      <td>3259</td>\n",
       "      <td>3259</td>\n",
       "      <td>3259</td>\n",
       "      <td>3259</td>\n",
       "      <td>3259</td>\n",
       "      <td>3259</td>\n",
       "      <td>3259</td>\n",
       "    </tr>\n",
       "    <tr>\n",
       "      <th>LlT2YUhhzqhg5Sw</th>\n",
       "      <td>3259</td>\n",
       "      <td>3259</td>\n",
       "      <td>3259</td>\n",
       "      <td>3259</td>\n",
       "      <td>3259</td>\n",
       "      <td>3259</td>\n",
       "      <td>3259</td>\n",
       "    </tr>\n",
       "    <tr>\n",
       "      <th>Mx2yZCDsyf6DPfv</th>\n",
       "      <td>3195</td>\n",
       "      <td>3195</td>\n",
       "      <td>3195</td>\n",
       "      <td>3195</td>\n",
       "      <td>3195</td>\n",
       "      <td>3195</td>\n",
       "      <td>3195</td>\n",
       "    </tr>\n",
       "    <tr>\n",
       "      <th>NgDl19wMapZy17u</th>\n",
       "      <td>2355</td>\n",
       "      <td>2355</td>\n",
       "      <td>2355</td>\n",
       "      <td>2355</td>\n",
       "      <td>2355</td>\n",
       "      <td>2355</td>\n",
       "      <td>2355</td>\n",
       "    </tr>\n",
       "    <tr>\n",
       "      <th>PeE6FRyGXUgsRhN</th>\n",
       "      <td>3259</td>\n",
       "      <td>3259</td>\n",
       "      <td>3259</td>\n",
       "      <td>3259</td>\n",
       "      <td>3259</td>\n",
       "      <td>3259</td>\n",
       "      <td>3259</td>\n",
       "    </tr>\n",
       "    <tr>\n",
       "      <th>Qf4GUc1pJu5T6c6</th>\n",
       "      <td>3195</td>\n",
       "      <td>3195</td>\n",
       "      <td>3195</td>\n",
       "      <td>3195</td>\n",
       "      <td>3195</td>\n",
       "      <td>3195</td>\n",
       "      <td>3195</td>\n",
       "    </tr>\n",
       "    <tr>\n",
       "      <th>Quc1TzYxW2pYoWX</th>\n",
       "      <td>3195</td>\n",
       "      <td>3195</td>\n",
       "      <td>3195</td>\n",
       "      <td>3195</td>\n",
       "      <td>3195</td>\n",
       "      <td>3195</td>\n",
       "      <td>3195</td>\n",
       "    </tr>\n",
       "    <tr>\n",
       "      <th>V94E5Ben1TlhnDV</th>\n",
       "      <td>3259</td>\n",
       "      <td>3259</td>\n",
       "      <td>3259</td>\n",
       "      <td>3259</td>\n",
       "      <td>3259</td>\n",
       "      <td>3259</td>\n",
       "      <td>3259</td>\n",
       "    </tr>\n",
       "    <tr>\n",
       "      <th>WcxssY2VbP4hApt</th>\n",
       "      <td>3259</td>\n",
       "      <td>3259</td>\n",
       "      <td>3259</td>\n",
       "      <td>3259</td>\n",
       "      <td>3259</td>\n",
       "      <td>3259</td>\n",
       "      <td>3259</td>\n",
       "    </tr>\n",
       "    <tr>\n",
       "      <th>mqwcsP2rE7J0TFp</th>\n",
       "      <td>2355</td>\n",
       "      <td>2355</td>\n",
       "      <td>2355</td>\n",
       "      <td>2355</td>\n",
       "      <td>2355</td>\n",
       "      <td>2355</td>\n",
       "      <td>2355</td>\n",
       "    </tr>\n",
       "    <tr>\n",
       "      <th>oZ35aAeoifZaQzV</th>\n",
       "      <td>3195</td>\n",
       "      <td>3195</td>\n",
       "      <td>3195</td>\n",
       "      <td>3195</td>\n",
       "      <td>3195</td>\n",
       "      <td>3195</td>\n",
       "      <td>3195</td>\n",
       "    </tr>\n",
       "    <tr>\n",
       "      <th>oZZkBaNadn6DNKz</th>\n",
       "      <td>3259</td>\n",
       "      <td>3259</td>\n",
       "      <td>3259</td>\n",
       "      <td>3259</td>\n",
       "      <td>3259</td>\n",
       "      <td>3259</td>\n",
       "      <td>3259</td>\n",
       "    </tr>\n",
       "    <tr>\n",
       "      <th>q49J1IKaHRwDQnt</th>\n",
       "      <td>3259</td>\n",
       "      <td>3259</td>\n",
       "      <td>3259</td>\n",
       "      <td>3259</td>\n",
       "      <td>3259</td>\n",
       "      <td>3259</td>\n",
       "      <td>3259</td>\n",
       "    </tr>\n",
       "    <tr>\n",
       "      <th>rrq4fwE8jgrTyWY</th>\n",
       "      <td>3259</td>\n",
       "      <td>3259</td>\n",
       "      <td>3259</td>\n",
       "      <td>3259</td>\n",
       "      <td>3259</td>\n",
       "      <td>3259</td>\n",
       "      <td>3259</td>\n",
       "    </tr>\n",
       "    <tr>\n",
       "      <th>vOuJvMaM2sgwLmb</th>\n",
       "      <td>3259</td>\n",
       "      <td>3259</td>\n",
       "      <td>3259</td>\n",
       "      <td>3259</td>\n",
       "      <td>3259</td>\n",
       "      <td>3259</td>\n",
       "      <td>3259</td>\n",
       "    </tr>\n",
       "    <tr>\n",
       "      <th>xMbIugepa2P7lBB</th>\n",
       "      <td>2355</td>\n",
       "      <td>2355</td>\n",
       "      <td>2355</td>\n",
       "      <td>2355</td>\n",
       "      <td>2355</td>\n",
       "      <td>2355</td>\n",
       "      <td>2355</td>\n",
       "    </tr>\n",
       "    <tr>\n",
       "      <th>xoJJ8DcxJEcupym</th>\n",
       "      <td>3259</td>\n",
       "      <td>3259</td>\n",
       "      <td>3259</td>\n",
       "      <td>3259</td>\n",
       "      <td>3259</td>\n",
       "      <td>3259</td>\n",
       "      <td>3259</td>\n",
       "    </tr>\n",
       "  </tbody>\n",
       "</table>\n",
       "</div>"
      ],
      "text/plain": [
       "                 PLANT_ID  DC_POWER  AC_POWER  DAILY_YIELD  TOTAL_YIELD  Date  \\\n",
       "SOURCE_KEY                                                                      \n",
       "4UPUqMRk7TRMgml      3195      3195      3195         3195         3195  3195   \n",
       "81aHJ1q11NBPMrL      3259      3259      3259         3259         3259  3259   \n",
       "9kRcWv60rDACzjR      3259      3259      3259         3259         3259  3259   \n",
       "Et9kgGMDl729KT4      3195      3195      3195         3195         3195  3195   \n",
       "IQ2d7wF4YD8zU1Q      2355      2355      2355         2355         2355  2355   \n",
       "LYwnQax7tkwH5Cb      3259      3259      3259         3259         3259  3259   \n",
       "LlT2YUhhzqhg5Sw      3259      3259      3259         3259         3259  3259   \n",
       "Mx2yZCDsyf6DPfv      3195      3195      3195         3195         3195  3195   \n",
       "NgDl19wMapZy17u      2355      2355      2355         2355         2355  2355   \n",
       "PeE6FRyGXUgsRhN      3259      3259      3259         3259         3259  3259   \n",
       "Qf4GUc1pJu5T6c6      3195      3195      3195         3195         3195  3195   \n",
       "Quc1TzYxW2pYoWX      3195      3195      3195         3195         3195  3195   \n",
       "V94E5Ben1TlhnDV      3259      3259      3259         3259         3259  3259   \n",
       "WcxssY2VbP4hApt      3259      3259      3259         3259         3259  3259   \n",
       "mqwcsP2rE7J0TFp      2355      2355      2355         2355         2355  2355   \n",
       "oZ35aAeoifZaQzV      3195      3195      3195         3195         3195  3195   \n",
       "oZZkBaNadn6DNKz      3259      3259      3259         3259         3259  3259   \n",
       "q49J1IKaHRwDQnt      3259      3259      3259         3259         3259  3259   \n",
       "rrq4fwE8jgrTyWY      3259      3259      3259         3259         3259  3259   \n",
       "vOuJvMaM2sgwLmb      3259      3259      3259         3259         3259  3259   \n",
       "xMbIugepa2P7lBB      2355      2355      2355         2355         2355  2355   \n",
       "xoJJ8DcxJEcupym      3259      3259      3259         3259         3259  3259   \n",
       "\n",
       "                 Time  \n",
       "SOURCE_KEY             \n",
       "4UPUqMRk7TRMgml  3195  \n",
       "81aHJ1q11NBPMrL  3259  \n",
       "9kRcWv60rDACzjR  3259  \n",
       "Et9kgGMDl729KT4  3195  \n",
       "IQ2d7wF4YD8zU1Q  2355  \n",
       "LYwnQax7tkwH5Cb  3259  \n",
       "LlT2YUhhzqhg5Sw  3259  \n",
       "Mx2yZCDsyf6DPfv  3195  \n",
       "NgDl19wMapZy17u  2355  \n",
       "PeE6FRyGXUgsRhN  3259  \n",
       "Qf4GUc1pJu5T6c6  3195  \n",
       "Quc1TzYxW2pYoWX  3195  \n",
       "V94E5Ben1TlhnDV  3259  \n",
       "WcxssY2VbP4hApt  3259  \n",
       "mqwcsP2rE7J0TFp  2355  \n",
       "oZ35aAeoifZaQzV  3195  \n",
       "oZZkBaNadn6DNKz  3259  \n",
       "q49J1IKaHRwDQnt  3259  \n",
       "rrq4fwE8jgrTyWY  3259  \n",
       "vOuJvMaM2sgwLmb  3259  \n",
       "xMbIugepa2P7lBB  2355  \n",
       "xoJJ8DcxJEcupym  3259  "
      ]
     },
     "execution_count": 51,
     "metadata": {},
     "output_type": "execute_result"
    }
   ],
   "source": [
    "gen_data_2.groupby(\"SOURCE_KEY\").count()"
   ]
  },
  {
   "cell_type": "code",
   "execution_count": 52,
   "metadata": {
    "execution": {
     "iopub.execute_input": "2020-09-16T04:47:24.354691Z",
     "iopub.status.busy": "2020-09-16T04:47:24.344610Z",
     "iopub.status.idle": "2020-09-16T04:47:24.437440Z",
     "shell.execute_reply": "2020-09-16T04:47:24.436642Z"
    },
    "papermill": {
     "duration": 0.231815,
     "end_time": "2020-09-16T04:47:24.437615",
     "exception": false,
     "start_time": "2020-09-16T04:47:24.205800",
     "status": "completed"
    },
    "tags": []
   },
   "outputs": [
    {
     "data": {
      "text/plain": [
       "[False, False, False, False, False, False, False, False]"
      ]
     },
     "execution_count": 52,
     "metadata": {},
     "output_type": "execute_result"
    }
   ],
   "source": [
    "[any(pd.isnull(gen_data_2[column])) for column in gen_data_2.columns]"
   ]
  },
  {
   "cell_type": "code",
   "execution_count": 53,
   "metadata": {
    "execution": {
     "iopub.execute_input": "2020-09-16T04:47:24.691886Z",
     "iopub.status.busy": "2020-09-16T04:47:24.690697Z",
     "iopub.status.idle": "2020-09-16T04:47:35.864349Z",
     "shell.execute_reply": "2020-09-16T04:47:35.865004Z"
    },
    "papermill": {
     "duration": 11.311719,
     "end_time": "2020-09-16T04:47:35.865206",
     "exception": false,
     "start_time": "2020-09-16T04:47:24.553487",
     "status": "completed"
    },
    "tags": []
   },
   "outputs": [
    {
     "name": "stderr",
     "output_type": "stream",
     "text": [
      "/tmp/ipykernel_384611/1594156743.py:11: FutureWarning: Comparison of Timestamp with datetime.date is deprecated in order to match the standard library behavior. In a future version these will be considered non-comparable. Use 'ts == pd.Timestamp(date)' or 'ts.date() == date' instead.\n",
      "  gen_data_2.loc[(gen_data_2[\"Date\"] == pd.to_datetime(\"2020-05-15\")) &  (gen_data_2[\"SOURCE_KEY\"] == inverter),\"DC_POWER\"]\n",
      "/tmp/ipykernel_384611/1594156743.py:12: FutureWarning: Comparison of Timestamp with datetime.date is deprecated in order to match the standard library behavior. In a future version these will be considered non-comparable. Use 'ts == pd.Timestamp(date)' or 'ts.date() == date' instead.\n",
      "  gen_data_2.loc[(gen_data_2[\"Date\"] == pd.to_datetime(\"2020-05-15\")) & (gen_data_2[\"SOURCE_KEY\"] == inverter),\"AC_POWER\"]\n"
     ]
    }
   ],
   "source": [
    "inverters = gen_data_2[\"SOURCE_KEY\"].unique()\n",
    "# FIRST-AUTHOR: remove plotting\n",
    "# fig = plt.figure(figsize = (25,16))\n",
    "for i,inverter in enumerate(inverters,1):\n",
    "# FIRST-AUTHOR: remove plotting\n",
    "#     plt.subplot(6,4,i)\n",
    "#     plt.yscale(\"log\")\n",
    "#     gen_data_2.loc[(gen_data_2[\"Date\"] == pd.to_datetime(\"2020-05-15\")) &  (gen_data_2[\"SOURCE_KEY\"] == inverter),\"DC_POWER\"].plot(label = inverter + \" DC\")\n",
    "#     gen_data_2.loc[(gen_data_2[\"Date\"] == pd.to_datetime(\"2020-05-15\")) & (gen_data_2[\"SOURCE_KEY\"] == inverter),\"AC_POWER\"].plot(label = inverter + \" AC\")\n",
    "#     plt.legend()\n",
    "    gen_data_2.loc[(gen_data_2[\"Date\"] == pd.to_datetime(\"2020-05-15\")) &  (gen_data_2[\"SOURCE_KEY\"] == inverter),\"DC_POWER\"]\n",
    "    gen_data_2.loc[(gen_data_2[\"Date\"] == pd.to_datetime(\"2020-05-15\")) & (gen_data_2[\"SOURCE_KEY\"] == inverter),\"AC_POWER\"]"
   ]
  },
  {
   "cell_type": "code",
   "execution_count": 54,
   "metadata": {
    "execution": {
     "iopub.execute_input": "2020-09-16T04:47:36.117225Z",
     "iopub.status.busy": "2020-09-16T04:47:36.116224Z",
     "iopub.status.idle": "2020-09-16T04:47:36.121300Z",
     "shell.execute_reply": "2020-09-16T04:47:36.120490Z"
    },
    "papermill": {
     "duration": 0.133683,
     "end_time": "2020-09-16T04:47:36.121445",
     "exception": false,
     "start_time": "2020-09-16T04:47:35.987762",
     "status": "completed"
    },
    "tags": []
   },
   "outputs": [
    {
     "data": {
      "text/plain": [
       "array(['4UPUqMRk7TRMgml', '81aHJ1q11NBPMrL', '9kRcWv60rDACzjR',\n",
       "       'Et9kgGMDl729KT4', 'IQ2d7wF4YD8zU1Q', 'LYwnQax7tkwH5Cb',\n",
       "       'LlT2YUhhzqhg5Sw', 'Mx2yZCDsyf6DPfv', 'NgDl19wMapZy17u',\n",
       "       'PeE6FRyGXUgsRhN', 'Qf4GUc1pJu5T6c6', 'Quc1TzYxW2pYoWX',\n",
       "       'V94E5Ben1TlhnDV', 'WcxssY2VbP4hApt', 'mqwcsP2rE7J0TFp',\n",
       "       'oZ35aAeoifZaQzV', 'oZZkBaNadn6DNKz', 'q49J1IKaHRwDQnt',\n",
       "       'rrq4fwE8jgrTyWY', 'vOuJvMaM2sgwLmb', 'xMbIugepa2P7lBB',\n",
       "       'xoJJ8DcxJEcupym'], dtype=object)"
      ]
     },
     "execution_count": 54,
     "metadata": {},
     "output_type": "execute_result"
    }
   ],
   "source": [
    "inverters"
   ]
  },
  {
   "cell_type": "code",
   "execution_count": 55,
   "metadata": {
    "execution": {
     "iopub.execute_input": "2020-09-16T04:47:36.378974Z",
     "iopub.status.busy": "2020-09-16T04:47:36.377380Z",
     "iopub.status.idle": "2020-09-16T04:47:36.434076Z",
     "shell.execute_reply": "2020-09-16T04:47:36.433392Z"
    },
    "papermill": {
     "duration": 0.188329,
     "end_time": "2020-09-16T04:47:36.434260",
     "exception": false,
     "start_time": "2020-09-16T04:47:36.245931",
     "status": "completed"
    },
    "tags": []
   },
   "outputs": [
    {
     "name": "stderr",
     "output_type": "stream",
     "text": [
      "/tmp/ipykernel_384611/2666288287.py:1: FutureWarning: The default value of numeric_only in DataFrameGroupBy.mean is deprecated. In a future version, numeric_only will default to False. Either specify numeric_only or select only columns which should be valid for the function.\n",
      "  average_power_2 = gen_data_2.reset_index().groupby(\"DATE_TIME\").mean()[[\"DC_POWER\",\"AC_POWER\"]]\n"
     ]
    }
   ],
   "source": [
    "average_power_2 = gen_data_2.reset_index().groupby(\"DATE_TIME\").mean()[[\"DC_POWER\",\"AC_POWER\"]]\n",
    "total_power_2 = average_power_2 * gen_data_2[\"SOURCE_KEY\"].nunique()\n",
    "total_power_2[\"Date\"] = total_power_2.index.map(lambda x : x.date())"
   ]
  },
  {
   "cell_type": "code",
   "execution_count": 56,
   "metadata": {
    "execution": {
     "iopub.execute_input": "2020-09-16T04:47:36.694077Z",
     "iopub.status.busy": "2020-09-16T04:47:36.693204Z",
     "iopub.status.idle": "2020-09-16T04:47:36.766292Z",
     "shell.execute_reply": "2020-09-16T04:47:36.765437Z"
    },
    "papermill": {
     "duration": 0.208444,
     "end_time": "2020-09-16T04:47:36.766445",
     "exception": false,
     "start_time": "2020-09-16T04:47:36.558001",
     "status": "completed"
    },
    "tags": []
   },
   "outputs": [],
   "source": [
    "weather_data_2 = pd.read_csv(\"./input/Plant_2_Weather_Sensor_Data.scaled.csv\",index_col = \"DATE_TIME\",parse_dates = True)\n",
    "weather_data_2[\"Date\"] = weather_data_2.index.map(lambda x : x.date())\n",
    "weather_data_2[\"Time\"] = weather_data_2.index.map(lambda x : x.time())"
   ]
  },
  {
   "cell_type": "code",
   "execution_count": 57,
   "metadata": {
    "execution": {
     "iopub.execute_input": "2020-09-16T04:47:37.039238Z",
     "iopub.status.busy": "2020-09-16T04:47:37.031957Z",
     "iopub.status.idle": "2020-09-16T04:47:37.381280Z",
     "shell.execute_reply": "2020-09-16T04:47:37.380439Z"
    },
    "papermill": {
     "duration": 0.490356,
     "end_time": "2020-09-16T04:47:37.381436",
     "exception": false,
     "start_time": "2020-09-16T04:47:36.891080",
     "status": "completed"
    },
    "tags": []
   },
   "outputs": [],
   "source": [
    "# FIRST-AUTHOR: remove plotting\n",
    "# sns.regplot(x = weather_data_2.groupby(\"Date\")[\"IRRADIATION\"].sum(),y = total_power_2.groupby(\"Date\").sum()[\"DC_POWER\"])\n",
    "_ = weather_data_2.groupby(\"Date\")[\"IRRADIATION\"].sum()\n",
    "_ = total_power_2.groupby(\"Date\").sum()[\"DC_POWER\"]"
   ]
  },
  {
   "cell_type": "markdown",
   "metadata": {
    "papermill": {
     "duration": 0.125025,
     "end_time": "2020-09-16T04:47:37.632365",
     "exception": false,
     "start_time": "2020-09-16T04:47:37.507340",
     "status": "completed"
    },
    "tags": []
   },
   "source": [
    "The fit is not as good as the first power plant. Maybe the nonlinearities play a bigger role here, but hey, we have 100% efficiency!"
   ]
  },
  {
   "cell_type": "code",
   "execution_count": 58,
   "metadata": {
    "execution": {
     "iopub.execute_input": "2020-09-16T04:47:37.945477Z",
     "iopub.status.busy": "2020-09-16T04:47:37.932871Z",
     "iopub.status.idle": "2020-09-16T04:47:38.275740Z",
     "shell.execute_reply": "2020-09-16T04:47:38.274976Z"
    },
    "papermill": {
     "duration": 0.508207,
     "end_time": "2020-09-16T04:47:38.275918",
     "exception": false,
     "start_time": "2020-09-16T04:47:37.767711",
     "status": "completed"
    },
    "tags": []
   },
   "outputs": [],
   "source": [
    "# FIRST-AUTHOR: remove plotting\n",
    "# sns.regplot(x = total_power_2.groupby(\"Date\").sum()[\"DC_POWER\"], y = total_power_2.groupby(\"Date\").sum()[\"AC_POWER\"])\n",
    "_ = total_power_2.groupby(\"Date\").sum()[\"DC_POWER\"]\n",
    "_ = total_power_2.groupby(\"Date\").sum()[\"AC_POWER\"]"
   ]
  },
  {
   "cell_type": "code",
   "execution_count": 59,
   "metadata": {
    "execution": {
     "iopub.execute_input": "2020-09-16T04:47:38.546844Z",
     "iopub.status.busy": "2020-09-16T04:47:38.543205Z",
     "iopub.status.idle": "2020-09-16T04:47:38.556980Z",
     "shell.execute_reply": "2020-09-16T04:47:38.556107Z"
    },
    "papermill": {
     "duration": 0.152808,
     "end_time": "2020-09-16T04:47:38.557131",
     "exception": false,
     "start_time": "2020-09-16T04:47:38.404323",
     "status": "completed"
    },
    "tags": []
   },
   "outputs": [],
   "source": [
    "# FIRST-AUTHOR: remove ML code\n",
    "# model_2 = LinearRegression()\n",
    "# model_2.fit(total_power_2.groupby(\"Date\").sum()[\"DC_POWER\"].values.reshape(-1,1), y = total_power_2.groupby(\"Date\").sum()[\"AC_POWER\"])\n",
    "# model_2.coef_,model_2.intercept_\n",
    "_ = total_power_2.groupby(\"Date\").sum()[\"DC_POWER\"].values.reshape(-1,1)\n",
    "_ = total_power_2.groupby(\"Date\").sum()[\"AC_POWER\"]"
   ]
  },
  {
   "cell_type": "markdown",
   "metadata": {
    "papermill": {
     "duration": 0.128163,
     "end_time": "2020-09-16T04:47:38.819569",
     "exception": false,
     "start_time": "2020-09-16T04:47:38.691406",
     "status": "completed"
    },
    "tags": []
   },
   "source": [
    "97% efficiency! (too good to be true!), compared to 10% in case of the other plant"
   ]
  },
  {
   "cell_type": "code",
   "execution_count": null,
   "metadata": {
    "papermill": {
     "duration": 0.127412,
     "end_time": "2020-09-16T04:47:39.075346",
     "exception": false,
     "start_time": "2020-09-16T04:47:38.947934",
     "status": "completed"
    },
    "tags": []
   },
   "outputs": [],
   "source": []
  }
 ],
 "metadata": {
  "kernelspec": {
   "display_name": "Python 3 (ipykernel)",
   "language": "python",
   "name": "python3"
  },
  "language_info": {
   "codemirror_mode": {
    "name": "ipython",
    "version": 3
   },
   "file_extension": ".py",
   "mimetype": "text/x-python",
   "name": "python",
   "nbconvert_exporter": "python",
   "pygments_lexer": "ipython3",
   "version": "3.10.16"
  },
  "papermill": {
   "duration": 63.984222,
   "end_time": "2020-09-16T04:47:39.313412",
   "environment_variables": {},
   "exception": null,
   "input_path": "__notebook__.ipynb",
   "output_path": "__notebook__.ipynb",
   "parameters": {},
   "start_time": "2020-09-16T04:46:35.329190",
   "version": "2.1.0"
  }
 },
 "nbformat": 4,
 "nbformat_minor": 4
}