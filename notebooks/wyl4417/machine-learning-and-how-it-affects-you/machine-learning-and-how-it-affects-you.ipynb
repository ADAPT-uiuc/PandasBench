{
 "cells": [
  {
   "cell_type": "code",
   "execution_count": null,
   "metadata": {},
   "outputs": [],
   "source": [
    "import os\n",
    "\n",
    "def scale_input_data(scale_factor):\n",
    "  file_bases = ['./input/multiple_choice_responses']\n",
    "  for file_base in file_bases:\n",
    "    import pandas as pd\n",
    "    import shutil\n",
    "    if scale_factor == 1.0:\n",
    "      shutil.copyfile(file_base + '.csv', file_base + '.scaled.csv')\n",
    "      continue\n",
    "    df_to_scale = pd.read_csv(file_base + '.csv')\n",
    "    new_num_rows = int(scale_factor * len(df_to_scale))\n",
    "    if scale_factor <= 1.0:\n",
    "      df_to_scale = df_to_scale.iloc[:new_num_rows]\n",
    "    else:\n",
    "      while len(df_to_scale) < new_num_rows:\n",
    "        df_to_scale = pd.concat([df_to_scale, df_to_scale[1:min(new_num_rows + 1 - len(df_to_scale), len(df_to_scale))]])\n",
    "    df_to_scale.to_csv(file_base + '.scaled.csv', index=False)\n",
    "\n",
    "if 'INPUT_SCALE_FACTOR' in os.environ:\n",
    "  scale_input_data(float(os.environ['INPUT_SCALE_FACTOR']))"
   ]
  },
  {
   "cell_type": "code",
   "execution_count": 1,
   "metadata": {
    "_cell_guid": "b1076dfc-b9ad-4769-8c92-a6c4dae69d19",
    "_kg_hide-input": true,
    "_kg_hide-output": true,
    "_uuid": "8f2839f25d086af736a60e9eeb907d3b93b6e0e5"
   },
   "outputs": [],
   "source": [
    "# This Python 3 environment comes with many helpful analytics libraries installed\n",
    "# It is defined by the kaggle/python docker image: https://github.com/kaggle/docker-python\n",
    "# For example, here's several helpful packages to load in \n",
    "\n",
    "import numpy as np # linear algebra\n",
    "# import pandas as pd # data processing, CSV file I/O (e.g. pd.read_csv)\n",
    "exec(os.environ['IREWR_IMPORTS'])\n",
    "\n",
    "# Input data files are available in the \"../input/\" directory.\n",
    "# For example, running this (by clicking run or pressing Shift+Enter) will list all files under the input directory\n",
    "\n",
    "# FIRST-AUTHOR: remove path printing\n",
    "# import os\n",
    "# for dirname, _, filenames in os.walk('./input'):\n",
    "#     for filename in filenames:\n",
    "#         print(os.path.join(dirname, filename))\n",
    "\n",
    "# Any results you write to the current directory are saved as output."
   ]
  },
  {
   "cell_type": "code",
   "execution_count": 2,
   "metadata": {
    "_cell_guid": "79c7e3d0-c299-4dcb-8224-4455121ee9b0",
    "_kg_hide-input": true,
    "_kg_hide-output": true,
    "_uuid": "d629ff2d2480ee46fbb7e2d37f6b5fab8052498a"
   },
   "outputs": [],
   "source": [
    "# FIRST-AUTHOR: remove plotting\n",
    "# import seaborn as sns\n",
    "# import numpy as np\n",
    "# import matplotlib.pyplot as plt\n",
    "# import cufflinks as cf\n",
    "# import seaborn.apionly as sns\n",
    "# import scipy as sp\n",
    "# import matplotlib.patches as mpatches\n",
    "# %matplotlib inline"
   ]
  },
  {
   "cell_type": "code",
   "execution_count": 3,
   "metadata": {
    "_cell_guid": "",
    "_kg_hide-input": true,
    "_kg_hide-output": true,
    "_uuid": ""
   },
   "outputs": [
    {
     "name": "stderr",
     "output_type": "stream",
     "text": [
      "/tmp/ipykernel_354143/3770484130.py:2: DtypeWarning: Columns (0,3,7,19,32,34,45,47,49,50,51,52,53,54,66,68,79,81,92,94,96,107,109,115,128,130,137,139,145,147,152,154,165,167,178,180,191,193,204,206,217,219,230,232,243,245) have mixed types. Specify dtype option on import or set low_memory=False.\n",
      "  multi = pd.read_csv(\"./input/multiple_choice_responses.csv\")\n",
      "/tmp/ipykernel_354143/3770484130.py:3: DtypeWarning: Columns (0,3,7,19,32,34,45,47,49,50,51,52,53,54,66,68,79,81,92,94,96,107,109,115,128,130,137,139,145,147,152,154,165,167,178,180,191,193,204,206,217,219,230,232,243,245) have mixed types. Specify dtype option on import or set low_memory=False.\n",
      "  multi_2= pd.read_csv(\"./input/multiple_choice_responses.csv\")\n",
      "/tmp/ipykernel_354143/3770484130.py:4: DtypeWarning: Columns (0,3,7,19,32,34,45,47,49,50,51,52,53,54,66,68,79,81,92,94,96,107,109,115,128,130,137,139,145,147,152,154,165,167,178,180,191,193,204,206,217,219,230,232,243,245) have mixed types. Specify dtype option on import or set low_memory=False.\n",
      "  multi_3= pd.read_csv(\"./input/multiple_choice_responses.csv\")\n"
     ]
    }
   ],
   "source": [
    "# import pandas as pd\n",
    "multi = pd.read_csv(\"./input/multiple_choice_responses.scaled.csv\")\n",
    "multi_2= pd.read_csv(\"./input/multiple_choice_responses.scaled.csv\")\n",
    "multi_3= pd.read_csv(\"./input/multiple_choice_responses.scaled.csv\")"
   ]
  },
  {
   "cell_type": "markdown",
   "metadata": {},
   "source": [
    ">**Introduction**\n",
    "\n",
    "\u201cThe development of full artificial intelligence could spell the end of the human race\u2026\u201d. A truly grim warning by Stephen Hawking in an interview with the BBC back in December 2014. Five years have passed and now more than ever we rely on some form of artificial intelligence in our lives, either directly or indirectly. Use Google Maps to travel? AI. Use Amazon\u2019s Alexa? AI. Browse the internet? AI. However, most people don\u2019t care about those examples as much as one singular issue, \u2018Will I lose my job to AI?\u2019. This article aims to explore how AI will affect jobs in both the short and long term.\n",
    "\n",
    "To begin with, AI is a term many would say is too broad and overused. Therefore, let us focus on a subset of AI, namely Data Science (DS) and Machine Learning (ML). Data science is a broad term, referring to the processing and analysis of data to generate insights. The role of analysing data and making predictions and decisions that would affect a business has traditionally fallen to humans. After all, since humans can do it, why change something that works? That all changed in the past decade as the world became more connected and big data became a thing. Businesses are now able to obtain huge amounts of data (whether useful or not) for a relatively low cost. Processing this data could give new insights. The only issue? Humans were just too slow to process all that data. \n",
    "\n",
    "Enter machine learning, a subset of data science and refers to the ability of a system to process data autonomously without human intervention using algorithms. Machine learning processes the data significantly faster than a human and seems like the ideal solution to our problem. However, there are side effects, notably, the lack of human involvement raises the issue of job security for those who are currently analysing data. Is that a legitimate concern and are they the only people who should be concerned about the introduction of ML?\n",
    "\n",
    "A general assumption is made here in which the data collected in this survey can represent the population as a whole in this particular field of study.\n"
   ]
  },
  {
   "cell_type": "code",
   "execution_count": 4,
   "metadata": {
    "_kg_hide-input": true,
    "_kg_hide-output": true
   },
   "outputs": [
    {
     "data": {
      "text/plain": [
       "Index(['number', 'Q1', 'Q2', 'Q2_OTHER_TEXT', 'Q3', 'Q4', 'Q5',\n",
       "       'Q5_OTHER_TEXT', 'Q6', 'Q7',\n",
       "       ...\n",
       "       'Q34_Part_4', 'Q34_Part_5', 'Q34_Part_6', 'Q34_Part_7', 'Q34_Part_8',\n",
       "       'Q34_Part_9', 'Q34_Part_10', 'Q34_Part_11', 'Q34_Part_12',\n",
       "       'Q34_OTHER_TEXT'],\n",
       "      dtype='object', length=246)"
      ]
     },
     "execution_count": 4,
     "metadata": {},
     "output_type": "execute_result"
    }
   ],
   "source": [
    "#multiple ans question\n",
    "mulans= {'Q9' : range(11,19),'Q12' : range(22,34),'Q13' :range(35,47),'Q16':range(56,68),'Q17':range(69,81),'Q18':range(82,94),'Q20':range(97,109),'Q21':range(110,115),'Q24':range(118,130),'Q25':range(131,139),'Q26':range(140,147),'Q27':range(148,154),'Q28':range(155,167),'Q29':range(168,180),'Q30':range(181,193),'Q31':range(194,206),'Q32':range(207,219),'Q33':range(220,232),'Q34':range(233,245)}\n",
    "#one answer question\n",
    "oneans= list(multi.columns[1:11])+list(multi.columns[20:22])+list(multi.columns[48:49])+list(multi.columns[55:56])+list(multi.columns[95:96])+list(multi.columns[116:117])+list(multi.columns[117:118])\n",
    "\n",
    "multi.rename(columns ={'Time from Start to Finish (seconds)':'number'},inplace = True)\n",
    "multi_2.rename(columns ={'Time from Start to Finish (seconds)':'number'},inplace = True)\n",
    "multi_3.rename(columns ={'Time from Start to Finish (seconds)':'number'},inplace = True)\n",
    "multi.columns"
   ]
  },
  {
   "cell_type": "code",
   "execution_count": 5,
   "metadata": {
    "_kg_hide-input": true,
    "_kg_hide-output": true
   },
   "outputs": [
    {
     "name": "stderr",
     "output_type": "stream",
     "text": [
      "/tmp/ipykernel_354143/1676395697.py:21: SettingWithCopyWarning: \n",
      "A value is trying to be set on a copy of a slice from a DataFrame\n",
      "\n",
      "See the caveats in the documentation: https://pandas.pydata.org/pandas-docs/stable/user_guide/indexing.html#returning-a-view-versus-a-copy\n",
      "  q_1.rename(columns={col: j},inplace = True)\n"
     ]
    }
   ],
   "source": [
    "def convert(s): \n",
    "    str1 = \"\" \n",
    "    return(str1.join(s)) \n",
    "\n",
    "def item_name(x):\n",
    "    languages = []\n",
    "    for col in multi.iloc[0,mulans[x]]:\n",
    "        lal = col.split(\"-\")\n",
    "        doom = lal[2]\n",
    "        doom_2 = list(doom)\n",
    "        del doom_2[0]\n",
    "        doom_3 = convert(doom_2)\n",
    "        languages.append(doom_3)\n",
    "    return languages\n",
    "\n",
    "def perfect(j):\n",
    "    nice = []\n",
    "    for col in list(multi.columns[mulans[j]]):\n",
    "        for col2 in item_name(j):\n",
    "            q_1 =multi.loc[multi[col] == col2]\n",
    "            q_1.rename(columns={col: j},inplace = True)\n",
    "            nice.append(q_1)\n",
    "    nice = pd.concat(nice)\n",
    "    return nice\n",
    "duit = perfect('Q9')"
   ]
  },
  {
   "cell_type": "code",
   "execution_count": 6,
   "metadata": {
    "_kg_hide-input": true
   },
   "outputs": [],
   "source": [
    "q9_2_d = multi.loc[multi['Q9_Part_2'] != 'Build and/or run the data infrastructure that my business uses for storing, analyzing, and operationalizing data']\n",
    "q9_3_d = q9_2_d.loc[q9_2_d['Q9_Part_3'] != 'Build prototypes to explore applying machine learning to new areas']\n",
    "q9_4_d = q9_3_d.loc[q9_3_d['Q9_Part_4'] != 'Build and/or run a machine learning service that operationally improves my product or workflows']\n",
    "q9_5_d = q9_4_d.loc[q9_4_d['Q9_Part_5'] != 'Experimentation and iteration to improve existing ML models']\n",
    "q9_6_d = q9_5_d.loc[q9_5_d['Q9_Part_6'] != 'Do research that advances the state of the art of machine learning']\n",
    "q9_7_d = q9_6_d.loc[q9_6_d['Q9_Part_7'] != 'None of these activities are an important part of my role at work']\n",
    "q9_8_d = q9_7_d.loc[q9_7_d['Q9_Part_8'] != 'Other']\n",
    "q9_9_d = q9_8_d.loc[q9_7_d['Q9_Part_1'] == 'Analyze and understand data to influence product or business decisions']\n",
    "\n",
    "we = pd.pivot_table(q9_9_d,values=['number'], index=['Q8'],aggfunc= lambda x :len(x))\n",
    "we_t = pd.pivot_table(duit,values=['number'], index=['Q8','Q9'],aggfunc= lambda x :len(x))\n",
    "\n",
    "\n",
    "we_r = we_t.reset_index()\n",
    "we_a = we_r.loc[we_r['Q9'] != 'Other']\n",
    "we_b = we_a.set_index('Q8')\n",
    "we_group = we_b.groupby('Q8').sum()\n",
    "\n",
    "data = we['number']/we_group['number']\n",
    "data_1 = data.reset_index()\n",
    "data_2 = data_1.sort_values('number', ascending = False)\n",
    "# FIRST-AUTHOR: remove plotting\n",
    "# plt.figure(figsize =(10,7))\n",
    "# axf = sns.barplot(x='Q8',y = 'number', data = data_2, palette = 'Spectral')\n",
    "# x_axis=range(4)\n",
    "labels = data_2['Q8']\n",
    "# FIRST-AUTHOR: remove plotting\n",
    "# import textwrap\n",
    "# from  textwrap import fill\n",
    "# plt.xticks(x_axis, [textwrap.fill(label, 20) for label in labels], \n",
    "#            rotation = 0, fontsize=12, horizontalalignment=\"center\")\n",
    "# plt.title('Percentage of workers who analyse data only, for different companies with different levels of machine learning involvement', size = 10)\n",
    "# plt.ylabel(' % Number of Respondents',size = 10)\n",
    "# plt.xlabel('Figure 1',size = 10)\n",
    "_ = [label for label in labels]"
   ]
  },
  {
   "cell_type": "markdown",
   "metadata": {},
   "source": [
    "Figure 1 shows the trend where the more established the ML methods are the lower the percentage of employees that does analysing and understanding data to improve products only. This trend suggests that ML has the ability to replace the task of understanding and analysing data, and thus would allow employees to focus on more important tasks. Although the percentage of employees who just analyse data as their job is low yet we have to take into account the number of people who work in the data industry; Kaggle alone has already millions of users which equates to around at least 50,000 people doing the jobs that are replaceable by ML. Let us explore how different groups of people are affected by ML."
   ]
  },
  {
   "cell_type": "markdown",
   "metadata": {},
   "source": [
    "**Working-class Data Analysers**\n",
    "\n",
    "The group most directly affected by the introduction of ML is the working-class data analysers. ML aims to replace their jobs completely, making their role redundant and thus the highly likely possibility of them being retrenched.\n",
    "\n",
    "From the figure above, a majority of those currently performing data analysis tasks at the workplace possess an academic (Bachelor\u2019s, Master\u2019s, Doctor\u2019s) or professional qualification (Professional degree). Due to the relatively field-specific nature of these qualifications, this group of people is likely to have invested significant resources into becoming an expert in the area of data analysis and switching to another field would likely affect their career path and financial situation negatively.\n",
    "\n",
    "The alternative to switching to a vastly different field would be to expand their skill set to include the necessary skills to remain relevant in the data science field. Traditionally, people would complete a university course and get a certificate. However, we now live in the digital age and as a result have more options, namely Massive Open Online Courses (MOOCs). MOOCs are not online university degrees but in recent years MOOC companies like Coursera, Udacity, and edX have partnered with top universities, lending credibility to their courses and certification. The advantages of MOOCs include being able to offer courses that a local university may not be offering, more flexibility depending on course, and generally a lower cost than the equivalent university course. \n",
    "\n"
   ]
  },
  {
   "cell_type": "code",
   "execution_count": 7,
   "metadata": {
    "_kg_hide-input": true
   },
   "outputs": [
    {
     "name": "stderr",
     "output_type": "stream",
     "text": [
      "/tmp/ipykernel_354143/3730592909.py:1: FutureWarning: A value is trying to be set on a copy of a DataFrame or Series through chained assignment using an inplace method.\n",
      "The behavior will change in pandas 3.0. This inplace method will never work because the intermediate object on which we are setting values always behaves as a copy.\n",
      "\n",
      "For example, when doing 'df[col].method(value, inplace=True)', try using 'df.method({col: value}, inplace=True)' or df[col] = df[col].method(value) instead, to perform the operation inplace on the original object.\n",
      "\n",
      "\n",
      "  multi['Q4'].replace({'Bachelor\u2019s degree':'University degree'\n"
     ]
    }
   ],
   "source": [
    "multi['Q4'].replace({'Bachelor\u2019s degree':'University degree'\n",
    "                              ,'Doctoral degree':'University degree'\n",
    "                              ,'Master\u2019s degree':'University degree'\n",
    "                              ,'Professional degree':'University degree'\n",
    "                              ,'I prefer not to answer':'Without University degree'\n",
    "                              ,'No formal education past high school':'Without University degree'\n",
    "                             , 'Some college/university study without earning a bachelor\u2019s degree':'Without University degree'},inplace = True)\n",
    "plp = pd.pivot_table(multi[1:],values=['number'], index=['Q4','Q10'],aggfunc= lambda x :len(x))\n",
    "plp_1 = plp.unstack()\n",
    "plp_1.columns = plp_1.columns.droplevel()\n",
    "plp_2 = plp_1.transpose()\n",
    "plp_2 = plp_2.div(plp_2.sum())*100\n",
    "xaxis1 = [\"0 -1K\", \"1 - 2K\", \"2 - 3K\", \"3 - 4K\", \"4 - 5K\", \"5 - 7.5K\", \"7.5 - 10K\", \"10 - 15K\", \"15 - 20K\", \"20 - 25K\", \"25 - 30K\", \"30 - 40K\", \"40 - 50K\", \"50 - 60K\", \"60 - 70K\", \"70 - 80K\", \"80 - 90K\", \"90 - 100K\", \"100 - 125K\", \"125 - 150K\", \"150 - 200K\", \"200 - 250K\", \"250 - 300K\", \"300 - 500K\", \"> $500K\"]\n",
    "plp_3 = plp_2.rename(index = {'$0-999':'0-999','> $500,000':'greater than 500,000'})\n",
    "plp_4 = plp_3.reset_index()\n",
    "plp_4['length'] = plp_4['Q10'].str.len()\n",
    "plp_5 = plp_4.sort_values(['length','Q10'])\n",
    "plp_5['money'] = xaxis1\n",
    "plp_a = plp_5.set_index('money')\n",
    "plp_b = plp_a.drop(['Q10'],axis = 1)\n",
    "plp_6= plp_b.drop(columns=['length'])\n",
    "# FIRST-AUTHOR: remove plotting\n",
    "# axa = plp_6.plot(kind ='bar',stacked = False,figsize = (13,7),cmap = \"Set3\",alpha = 0.85, width = 0.85)\n",
    "# axa.legend(loc = 'center left',bbox_to_anchor =(1, 0.5))\n",
    "# axa.set_xticklabels(axa.get_xticklabels(), rotation=45)\n",
    "# plt.title('Compensation of respondents who graduated with / without a university degree ', size = 15)\n",
    "# plt.ylabel('% Number of Respondents',size = 13)\n",
    "# plt.xlabel('Figure 2',size = 10)"
   ]
  },
  {
   "cell_type": "markdown",
   "metadata": {},
   "source": [
    "However, comparing the cost differences between a MOOCs and university degrees is thinking short term and in the long term the real difference is in the salary one earns. As seen in the figure above comparing the compensation of those with a degree and those without, we can establish that there is no significant difference in the amount they earn. In some compensation amount categories those there tend to be more of university degree holders and in other the opposite. Therefore, there is no advantage in taking a university degree compared to MOOCs when it comes to the compensation received at work."
   ]
  },
  {
   "cell_type": "markdown",
   "metadata": {},
   "source": [
    "**Students**"
   ]
  },
  {
   "cell_type": "code",
   "execution_count": 8,
   "metadata": {
    "_kg_hide-input": true
   },
   "outputs": [],
   "source": [
    "indx = 'Q5' #Approximately how much money have you spent on machine learning and/or cloud computing products at your work in the past 5 years?\n",
    "def convert(s): \n",
    "    str1 = \"\" \n",
    "    return(str1.join(s)) \n",
    "\n",
    "if indx in oneans:\n",
    "    bob = pd.pivot_table(multi[1:],values=['number'], index=indx,aggfunc= lambda x :len(x))\n",
    "else:\n",
    "    win=[]\n",
    "    for col in multi.iloc[0,mulans[indx]]:\n",
    "        lal = col.split(\"-\")\n",
    "        doom = lal[2]\n",
    "        doom_2 = list(doom)\n",
    "        del doom_2[0]\n",
    "        doom_3 = convert(doom_2)\n",
    "        win.append(doom_3)\n",
    "    \n",
    "    result = []\n",
    "    for col in mulans[indx]:\n",
    "        we =[]\n",
    "        for row in range(1,19718):\n",
    "            lal = multi.iloc[row,col]\n",
    "            we.append(lal)\n",
    "        withoutna = [x for x in we if str(x) != 'nan']\n",
    "        result.append(len(withoutna))\n",
    "    bob=pd.DataFrame(data=result,index=win) \n",
    "bob_1 = bob.reset_index()\n",
    "bob_2 = bob_1.sort_values('number')\n",
    "# FIRST-AUTHOR: remove plotting\n",
    "# plt.figure(figsize = (13,8))\n",
    "# axs = sns.barplot(x='Q5',y = 'number', data = bob_2, palette = 'Spectral')\n",
    "# for p in axs.patches:\n",
    "#     axs.annotate(format(p.get_height(), '.0f'), (p.get_x() + p.get_width() / 2., p.get_height()), ha = 'center', va = 'top', xytext = (0, 10), textcoords = 'offset points')\n",
    "# plt.title('Jobs of respondents of the survey',size = 15)\n",
    "# plt.ylabel('Number of respondents',size = 13)\n",
    "# x_axis = range(12)\n",
    "labels = bob_2['Q5']\n",
    "# FIRST-AUTHOR: remove plotting\n",
    "# import textwrap\n",
    "# from  textwrap import fill\n",
    "# plt.xticks(x_axis, [textwrap.fill(label, 13) for label in labels], \n",
    "#            rotation = 0, fontsize=12, horizontalalignment=\"center\")\n",
    "# axs.set_xticklabels(axs.get_xticklabels(), rotation = 50)\n",
    "# plt.xlabel('Figure 3',size = 10)\n",
    "_ = [label for label in labels]"
   ]
  },
  {
   "cell_type": "markdown",
   "metadata": {},
   "source": [
    "In figure 3, we can see students is one of the major respondents of this survey. This translates to a significant interest in data analysis amongst the student population. Thus, the increased usage of machine learning in the industry over the next few years will impact their potential jobs in the future. So how exactly will machine learning affect current students in the short and long-term?\n",
    "\n",
    " \n",
    "In the short term, the use of machine learning in business will decrease the importance of possessing coding knowledge in the data science field. Before the introduction of machine learning, raw data was processed and analysed by people. Machine learning effectively means that, for the most part, data is processed using software and insights generated without human intervention. Therefore, the skill of coding the algorithms used to analyse data are less relevant than they used to be.\n"
   ]
  },
  {
   "cell_type": "code",
   "execution_count": 9,
   "metadata": {
    "_kg_hide-input": true
   },
   "outputs": [],
   "source": [
    "student_compare = pd.pivot_table(multi_2[1:],values=['number'], index=['Q5','Q15'],aggfunc= lambda x :len(x))\n",
    "sc = student_compare.loc['Student']\n",
    "sc_1 = sc.loc['I have never written code']\n",
    "sc_2 = sc.iloc[0:6]\n",
    "sc_3 = sc_2.sum()\n",
    "sc_4 = pd.concat([sc_1,sc_3],axis =1)\n",
    "sc_4.rename(columns={0: \"Students who have written code\",'I have never written code':'Students who never written code'},inplace = True)\n",
    "sc_4.rename(index={'number': \"student\"},inplace = True)\n",
    "sc_5 = sc_4.transpose()\n",
    "pie_label = sc_5['student'].sort_values().index\n",
    "pie_counts = sc_5['student'].sort_values()\n",
    "# FIRST-AUTHOR: remove plotting\n",
    "# cmap = plt.get_cmap('Set3')\n",
    "# colors = [cmap(i) for i in np.linspace(0, 1, 8)]\n",
    "# student_pit = plt.pie(pie_counts, labels = pie_label, autopct='%1.1f%%', shadow=True, colors=colors)\n",
    "# plt.title('Percentage of students who have written code / never written code before',size = 13)\n",
    "# plt.xlabel('Figure 4',size = 10)"
   ]
  },
  {
   "cell_type": "markdown",
   "metadata": {},
   "source": [
    "Many jobs such as banking, consulting, and business analysts rely heavily on analysing data to predict a future outcome and most companies value coding knowledge amongst their employees. As seen in figure 4, this has driven a huge portion of students to gain some experience in writing code in hopes of appearing more appealing to potential employers. While no doubt having coding experience remains preferable to employers, machine learning has reduced the importance of this particular skill. \n"
   ]
  },
  {
   "cell_type": "code",
   "execution_count": 10,
   "metadata": {
    "_kg_hide-input": true
   },
   "outputs": [
    {
     "name": "stderr",
     "output_type": "stream",
     "text": [
      "/tmp/ipykernel_354143/1676395697.py:21: SettingWithCopyWarning: \n",
      "A value is trying to be set on a copy of a slice from a DataFrame\n",
      "\n",
      "See the caveats in the documentation: https://pandas.pydata.org/pandas-docs/stable/user_guide/indexing.html#returning-a-view-versus-a-copy\n",
      "  q_1.rename(columns={col: j},inplace = True)\n"
     ]
    }
   ],
   "source": [
    "duit = perfect('Q9')\n",
    "business_duit =  pd.pivot_table(duit,values=['number'], index=['Q5','Q9'],aggfunc= lambda x :len(x))\n",
    "\n",
    "st = business_duit.loc['Business Analyst']\n",
    "st_1 = st.reset_index()\n",
    "# FIRST-AUTHOR: remove plotting\n",
    "# plt.figure(figsize = (13,8))\n",
    "# axy = sns.barplot(x='Q9',y = 'number', data = st_1, palette = 'Spectral')\n",
    "# for p in axy.patches:\n",
    "#     axy.annotate(format(p.get_height(), '.0f'), (p.get_x() + p.get_width() / 2., p.get_height()), ha = 'center', va = 'top', xytext = (0, 10), textcoords = 'offset points')\n",
    "# plt.title('Job scope of respondents who are business analysts' , size = 15)\n",
    "# plt.xlabel('Figure 5',size = 13)\n",
    "# plt.ylabel('Number of respondents',size = 13)\n",
    "# x_axis = range(8)\n",
    "labels = st_1['Q9']\n",
    "# FIRST-AUTHOR: remove plotting\n",
    "# import textwrap\n",
    "# from  textwrap import fill\n",
    "# plt.xticks(x_axis, [textwrap.fill(label, 13) for label in labels], \n",
    "#            rotation = 0, fontsize=12, horizontalalignment=\"center\")\n",
    "\n",
    "# plt.xlabel('Figure 5',size = 10)\n",
    "_ = [label for label in labels]\n"
   ]
  },
  {
   "cell_type": "markdown",
   "metadata": {},
   "source": [
    "In figure 5, the majority of business analyst requires analysing data as part of their role, when machine learning starts to take over this aspect of the job to generate graphs and insights, there is no longer such a great need to analyse data manually. Employees could focus more time on other tasks that provide the business with real value, such as coming up with innovative strategies and the means to improve processes; and the same is expected for other jobs such as banking, consulting, etc.\n",
    "\n",
    "Secondly, as explained above jobs would become more competitive with machine learning. Students would find it harder to find roles in machine learning and data analysing related jobs as they would be competition from the existing working professionals as well. This would force them to seek roles that might not be data related, again making their coding skills almost redundant.\n",
    "\n",
    "The long term impact of machine learning, on the other hand, is still rather unclear. It is suggested that in the long run it might have a positive impact on job creation, especially in the field of cybersecurity. Increasing use of machine learning, would allow already-pervasive criminal enterprises \u2013 hackers, malware, and other threats \u2013 to grow exponentially, requiring developers, testers, and security experts to mitigate threats to vital public infrastructure and meet increasing individual identity concerns. (Appen, 2019)"
   ]
  },
  {
   "cell_type": "markdown",
   "metadata": {},
   "source": [
    "**Researchers**"
   ]
  },
  {
   "cell_type": "code",
   "execution_count": 11,
   "metadata": {
    "_kg_hide-input": true
   },
   "outputs": [],
   "source": [
    "research = pd.pivot_table(multi_3[1:],values=['number'], index=['Q9_Part_6','Q4'],aggfunc= lambda x :len(x))\n",
    "research_1 = research.reset_index()\n",
    "research_2 = research_1.sort_values('number')\n",
    "# FIRST-AUTHOR: remove plotting\n",
    "# plt.figure(figsize = (12,8))\n",
    "# re = sns.barplot(x='Q4',y = 'number', data = research_2, palette = 'Spectral')\n",
    "# for p in re.patches:\n",
    "#     re.annotate(format(p.get_height(), '.1f'), (p.get_x() + p.get_width() / 2., p.get_height()), ha = 'center', va = 'center', xytext = (0, 10), textcoords = 'offset points')\n",
    "labels = research_2['Q4']\n",
    "# FIRST-AUTHOR: remove plotting\n",
    "# x_axis=range(8)\n",
    "# import textwrap\n",
    "# from  textwrap import fill\n",
    "# plt.xticks(x_axis, [textwrap.fill(label, 13) for label in labels], \n",
    "#            rotation = 0, fontsize=12, horizontalalignment=\"center\")\n",
    "# plt.title('Education level of respondents who does research in state of art machine learning' , size = 15)\n",
    "# plt.ylabel('Number of respondents',size = 13)\n",
    "# plt.xlabel('Figure 6',size = 10)\n",
    "_ = [label for label in labels]"
   ]
  },
  {
   "cell_type": "markdown",
   "metadata": {},
   "source": [
    "The direct impact of machine learning to those who are researching in the state of art of machine learning is likely to be negligible. Mainly because machine learning would not be able to replace their role at the moment; the majority of people who do research also have a Master or PhD level of education making it hard for other workers with a lower educational background to replace their role as people would need to spend years furthering their studies in order to do research. \n",
    "\n",
    "The implications of the increased usage in machine learning would instead create more jobs in research, as people are needed to continually improve and upgrade the existing AI intelligence to make it even better. But overall, the effect on this group of people would not be as significant as the other groups.\n"
   ]
  },
  {
   "cell_type": "markdown",
   "metadata": {},
   "source": [
    "**Top Earners**"
   ]
  },
  {
   "cell_type": "code",
   "execution_count": 12,
   "metadata": {
    "_kg_hide-input": true,
    "_kg_hide-output": false
   },
   "outputs": [],
   "source": [
    "toom = pd.pivot_table(multi[1:],values=['number'], index=['Q23','Q10'],aggfunc= lambda x :len(x))\n",
    "toom_1 = toom.unstack()\n",
    "toom_1.columns = toom_1.columns.droplevel()\n",
    "toom_1 = toom_1.reindex(index = ['< 1 years',\n",
    " '1-2 years',\n",
    "'2-3 years',\n",
    " '3-4 years',\n",
    "'4-5 years',\n",
    " '5-10 years',\n",
    " '10-15 years',\n",
    " '20+ years'])\n",
    "\n",
    "toom_1 = toom_1[['$0-999',\n",
    " '1,000-1,999',\n",
    " '2,000-2,999',\n",
    " '3,000-3,999',\n",
    " '4,000-4,999',\n",
    " '5,000-7,499',\n",
    " '7,500-9,999',\n",
    " '10,000-14,999',\n",
    " '15,000-19,999',\n",
    " '20,000-24,999',\n",
    " '25,000-29,999',\n",
    " '30,000-39,999',\n",
    " '40,000-49,999',\n",
    " '50,000-59,999',\n",
    " '60,000-69,999',\n",
    " '70,000-79,999',\n",
    " '80,000-89,999',\n",
    " '90,000-99,999',\n",
    " '100,000-124,999',\n",
    " '125,000-149,999',\n",
    " '150,000-199,999',\n",
    " '200,000-249,999',\n",
    " '250,000-299,999',\n",
    " '300,000-500,000','> $500,000']]\n",
    "\n",
    "toom_1 = toom_1.div(toom_1.sum())\n",
    "toom_2 = toom_1.transpose()\n",
    "toom_3 = toom_2.reset_index()\n",
    "xaxis1 = [\"0 -1K\", \"1 - 2K\", \"2 - 3K\", \"3 - 4K\", \"4 - 5K\", \"5 - 7.5K\", \"7.5 - 10K\", \"10 - 15K\", \"15 - 20K\", \"20 - 25K\", \"25 - 30K\", \"30 - 40K\", \"40 - 50K\", \"50 - 60K\", \"60 - 70K\", \"70 - 80K\", \"80 - 90K\", \"90 - 100K\", \"100 - 125K\", \"125 - 150K\", \"150 - 200K\", \"200 - 250K\", \"250 - 300K\", \"300 - 500K\", \"> $500K\"]\n",
    "toom_3['money'] = xaxis1\n",
    "toom_4 = toom_3.set_index('money')\n",
    "toom_4 = toom_4.drop(['Q10'],axis = 1)\n",
    "\n",
    "# FIRST-AUTHOR: remove plotting\n",
    "# axm = toom_4.plot(kind ='bar',stacked =True,figsize = (13,7),cmap = \"Set3\",alpha = 0.85, width = 0.85)\n",
    "# axm.legend(loc = 'center left',bbox_to_anchor =(1, 0.5))\n",
    "# axm.set_xticklabels(axm.get_xticklabels(), rotation=45)\n",
    "# plt.title('Correlation between machine learning experience, number of respondents and yearly income', size = 15)\n",
    "# plt.ylabel(' % Number of Respondents',size = 13)\n",
    "# plt.xlabel('Figure 7',size = 10)"
   ]
  },
  {
   "cell_type": "code",
   "execution_count": 13,
   "metadata": {
    "_kg_hide-input": true
   },
   "outputs": [],
   "source": [
    "boom = pd.pivot_table(multi[1:],values=['number'], index=['Q10','Q15'],aggfunc= lambda x :len(x))\n",
    "boom_1 = boom.unstack()\n",
    "boom_1.columns = boom_1.columns.droplevel()\n",
    "boom_2 = boom_1.rename(index = {'$0-999':'0-999','> $500,000':'greater than 500,000'})\n",
    "boom_3 = boom_2.reset_index()\n",
    "xaxis1 = [\"0 -1K\", \"1 - 2K\", \"2 - 3K\", \"3 - 4K\", \"4 - 5K\", \"5 - 7.5K\", \"7.5 - 10K\", \"10 - 15K\", \"15 - 20K\", \"20 - 25K\", \"25 - 30K\", \"30 - 40K\", \"40 - 50K\", \"50 - 60K\", \"60 - 70K\", \"70 - 80K\", \"80 - 90K\", \"90 - 100K\", \"100 - 125K\", \"125 - 150K\", \"150 - 200K\", \"200 - 250K\", \"250 - 300K\", \"300 - 500K\", \"> $500K\"]\n",
    "boom_3['length'] = boom_3['Q10'].str.len()\n",
    "boom_4 = boom_3.sort_values(['length','Q10'])\n",
    "boom_5= boom_4.drop(columns=['length'])\n",
    "boom_5['money'] = xaxis1\n",
    "boom_6 = boom_5.set_index('money')\n",
    "boom_6 = boom_6[['I have never written code', '< 1 years','1-2 years','3-5 years','5-10 years','10-20 years','20+ years']]\n",
    "boom_7 = boom_6.transpose()\n",
    "boom_7 = boom_7.div(boom_7.sum())\n",
    "toom_3['money'] = xaxis1\n",
    "boom_8=boom_7.transpose()\n",
    "# FIRST-AUTHOR: remove plotting\n",
    "# axn = boom_8.plot(kind ='bar',stacked =True,figsize = (13,7),cmap = \"Set3\",alpha = 0.85, width = 0.85)\n",
    "# axn.legend(loc = 'center left',bbox_to_anchor =(1, 0.5))\n",
    "# axn.set_xticklabels(axn.get_xticklabels(), rotation=45)\n",
    "# plt.title('Correlation between coding experience, number of respondents and yearly income', size = 15)\n",
    "# plt.ylabel(' % Number of Respondents',size = 13)\n",
    "# plt.xlabel('Figure 8',size = 10)"
   ]
  },
  {
   "cell_type": "markdown",
   "metadata": {},
   "source": [
    "The trend is globally the same as for both topics, although the answer \"I have never written code\" provides some extra information, regarding people who do not do data analysis. Even though it seems like an important skill to master, it is not mandatory depending on the job you do. The same applies for Machine Learning but the data does not tell people who do not do ML and people who did a few apart.\n",
    "\n",
    "\n",
    "Before we dive into analysing the effect of machine learning on top earners(>100,00), I will like to explain my reasoning on why these people earn so much. The main reason is because they are doing tasks that cannot be done by others, showing that their skills are rare and in high demand. Figure 7 shows that these \u2018top skills\u2019 can be gained by experience as is evident with the increase median salary with age. \n"
   ]
  },
  {
   "cell_type": "code",
   "execution_count": 14,
   "metadata": {
    "_kg_hide-input": true
   },
   "outputs": [],
   "source": [
    "q9_2_d = multi.loc[multi['Q9_Part_2'] != 'Build and/or run the data infrastructure that my business uses for storing, analyzing, and operationalizing data']\n",
    "q9_3_d = q9_2_d.loc[q9_2_d['Q9_Part_3'] != 'Build prototypes to explore applying machine learning to new areas']\n",
    "q9_4_d = q9_3_d.loc[q9_3_d['Q9_Part_4'] != 'Build and/or run a machine learning service that operationally improves my product or workflows']\n",
    "q9_5_d = q9_4_d.loc[q9_4_d['Q9_Part_5'] != 'Experimentation and iteration to improve existing ML models']\n",
    "q9_6_d = q9_5_d.loc[q9_5_d['Q9_Part_6'] != 'Do research that advances the state of the art of machine learning']\n",
    "q9_7_d = q9_6_d.loc[q9_6_d['Q9_Part_7'] != 'None of these activities are an important part of my role at work']\n",
    "q9_8_d = q9_7_d.loc[q9_7_d['Q9_Part_8'] != 'Other']\n",
    "q9_9_d = q9_8_d.loc[q9_7_d['Q9_Part_1'] == 'Analyze and understand data to influence product or business decisions']\n",
    "\n",
    "year = pd.pivot_table(q9_9_d[1:],values=['number'], index=['Q10'],aggfunc= lambda x :len(x))\n",
    "year.rename(columns={\"number\": \"analyze data only\"},inplace = True)\n",
    "year_1 = year.rename(index = {'$0-999':'0-999','> $500,000':'greater than 500,000'})\n",
    "year_1.reset_index(inplace= True)\n",
    "year_1['length'] = year_1['Q10'].str.len()\n",
    "year_2 = year_1.sort_values(['length','Q10'])\n",
    "year_3= year_2.drop(columns=['length'])\n",
    "year_3.set_index('Q10',inplace=True)\n",
    "\n",
    "year_tot = pd.pivot_table(multi[1:],values=['number'], index=['Q10'],aggfunc= lambda x :len(x))\n",
    "year_tot.rename(columns={\"number\": \"all\"},inplace = True)\n",
    "\n",
    "year_tot_1 = year_tot.rename(index = {'$0-999':'0-999','> $500,000':'greater than 500,000'})\n",
    "year_tot_1.reset_index(inplace= True)\n",
    "year_tot_1['length'] = year_tot_1['Q10'].str.len()\n",
    "year_tot_2 = year_tot_1.sort_values(['length','Q10'])\n",
    "year_tot_3= year_tot_2.drop(columns=['length'])\n",
    "year_tot_3.set_index('Q10',inplace=True)\n",
    "\n",
    "tgt = pd.concat([year_tot_3,year_3],axis = 1)\n",
    "tgt_1 = tgt.reset_index()\n",
    "tgt_1['total'] = tgt_1['all'] + tgt_1['analyze data only']\n",
    "tgt_1['% all'] = tgt_1['all']/tgt_1['total']\n",
    "tgt_1['% analyze data only'] = tgt_1['analyze data only']/tgt_1['total']\n",
    "tgt_2 = tgt_1.drop(columns=['all', 'analyze data only','total'])\n",
    "tgt_3 = tgt_2.set_index('Q10')\n",
    "# FIRST-AUTHOR: remove plotting\n",
    "# ax4 = tgt_3.plot(kind ='bar',stacked = True,figsize = (13,7),rot = 1,cmap = \"Set3\",alpha = 0.85, width = 0.85,label = xaxis1)\n",
    "# ax4.legend(loc = 'center left',bbox_to_anchor =(1, 0.5)) \n",
    "labels = research_2['Q4']\n",
    "# FIRST-AUTHOR: remove plotting\n",
    "# x_axis=range(8)\n",
    "# ax4.set_xticklabels(axn.get_xticklabels(), rotation=45)\n",
    "# plt.xlabel('Figure 9',size = 10)\n"
   ]
  },
  {
   "cell_type": "markdown",
   "metadata": {},
   "source": [
    "Firstly, because the task they are doing is not replaceable by machine learning at the moment. Figure 9 shows the percentage of tasks that are just analysing compared to other tasks. The decreasing trend indicates that the higher the compensation of the person, the more varied their task are; there is an exception for the >500,000 catogary because of the small number of respondents in that catogary,however, we would predict the similar trend if there were more data."
   ]
  },
  {
   "cell_type": "code",
   "execution_count": 15,
   "metadata": {
    "_kg_hide-input": true
   },
   "outputs": [],
   "source": [
    "indx = 'Q15' #Approximately how much money have you spent on machine learning and/or cloud computing products at your work in the past 5 years?\n",
    "def convert(s): \n",
    "    str1 = \"\" \n",
    "    return(str1.join(s)) \n",
    "\n",
    "if indx in oneans:\n",
    "    tob = pd.pivot_table(multi_3[1:],values=['number'], index=indx,aggfunc= lambda x :len(x))\n",
    "else:\n",
    "    win=[]\n",
    "    for col in multi_3.iloc[0,mulans[indx]]:\n",
    "        lal = col.split(\"-\")\n",
    "        doom = lal[2]\n",
    "        doom_2 = list(doom)\n",
    "        del doom_2[0]\n",
    "        doom_3 = convert(doom_2)\n",
    "        win.append(doom_3)\n",
    "    \n",
    "    result = []\n",
    "    for col in mulans[indx]:\n",
    "        we =[]\n",
    "        for row in range(1,19718):\n",
    "            lal = multi_3.iloc[row,col]\n",
    "            we.append(lal)\n",
    "        withoutna = [x for x in we if str(x) != 'nan']\n",
    "        result.append(len(withoutna))\n",
    "    tob=pd.DataFrame(data=result,index=win) \n",
    "\n",
    "tob_1= tob.reindex (index = ['I have never written code', '< 1 years','1-2 years','3-5 years','5-10 years','10-20 years','20+ years'])\n",
    "tob_2 = tob_1.reset_index()\n",
    "# FIRST-AUTHOR: remove plotting\n",
    "# plt.figure(figsize = (12,8))\n",
    "# axc = sns.barplot(x='Q15',y = 'number', data = tob_2, palette = 'Spectral')\n",
    "# for p in axc.patches:\n",
    "#     axc.annotate(format(p.get_height(), '.1f'), (p.get_x() + p.get_width() / 2., p.get_height()), ha = 'center', va = 'center', xytext = (0, 10), textcoords = 'offset points')\n",
    "    \n",
    "# plt.title('Coding experience', size = 15)\n",
    "# plt.ylabel('Number of respondents',size = 13)\n",
    "# plt.xlabel('Figure 10',size = 10)\n"
   ]
  },
  {
   "cell_type": "markdown",
   "metadata": {},
   "source": [
    "Secondly, the majority of the population have coding experience of below 5 years. This means that they would not have the experience required to earn top dollars. However, there is a possibility that a domino effect might occur. Where young people replace the age group above them, and the effect goes on all the way to the people with the most experience. In the long run( after 5 years), however, I would predict the compensation of top earners to start decreasing because of the number of young coders; when they gain experience there would no longer be a skill deficiency at the top level, which we lead to a lower skills shortage at the top level and thus lower salaries for the top earners."
   ]
  },
  {
   "cell_type": "markdown",
   "metadata": {},
   "source": [
    "**US vs India**\n",
    "\n",
    "A comparison between countries was made to see the significance of the effect of machine learning on these four groups of people in both of these countries. A comparison was made between  only two countries the USA and India, because most of the respondents of the Kaggle survey are from these two countries, a meaningful comparison could not be drawn from the rest of the countries because of the limited amount of data available. \n",
    "\n",
    "\n",
    "As an overview, these are the effects of an advancement in machine learning for these 4 categories of people. Researchers and top earners are least affected, whereas students and working-class data analysts are greater affected. A comparison was made between the two countries the USA and India, because most of the respondents of the Kaggle survey are from these two countries, a meaningful comparisons could not be drawn from the rest of the countries because of the limited amount of data available. \n",
    "\n"
   ]
  },
  {
   "cell_type": "code",
   "execution_count": 16,
   "metadata": {
    "_kg_hide-input": true
   },
   "outputs": [
    {
     "name": "stderr",
     "output_type": "stream",
     "text": [
      "/tmp/ipykernel_354143/1676395697.py:21: SettingWithCopyWarning: \n",
      "A value is trying to be set on a copy of a slice from a DataFrame\n",
      "\n",
      "See the caveats in the documentation: https://pandas.pydata.org/pandas-docs/stable/user_guide/indexing.html#returning-a-view-versus-a-copy\n",
      "  q_1.rename(columns={col: j},inplace = True)\n"
     ]
    }
   ],
   "source": [
    "w = perfect('Q9')\n",
    "count_q9 = pd.pivot_table(w[1:],values=['number'], index=['Q3','Q9'],aggfunc= lambda x :len(x))\n",
    "q9_india = count_q9.iloc[150:158]\n",
    "q9_india_1 = q9_india.unstack(level = -1)\n",
    "q9_usa = count_q9.iloc[435:443]\n",
    "q9_usa_1 = q9_usa.unstack(level = -1)\n",
    "q9_tpt = pd.concat([q9_india_1,q9_usa_1])\n",
    "q9_tpt.columns = q9_tpt.columns.droplevel()\n",
    "q9_tot = q9_tpt.transpose()\n",
    "q9_tot = q9_tot.div(q9_tot.sum())*100\n",
    "q9_tot_1 = q9_tot.reset_index()\n",
    "# FIRST-AUTHOR: remove plotting\n",
    "# plt.figure(figsize = (13,8))\n",
    "# axr = q9_tot_1.plot(kind ='bar',stacked = False,figsize = (13,7),cmap = \"Set3\",alpha = 0.85, width = 0.70)\n",
    "# axr.legend(loc = 'center left',bbox_to_anchor =(1, 0.5))\n",
    "labels = q9_tot.index\n",
    "# FIRST-AUTHOR: remove plotting\n",
    "# x_axis=range(8)\n",
    "# import textwrap\n",
    "# from  textwrap import fill\n",
    "# plt.xticks(x_axis, [textwrap.fill(label, 13) for label in labels], \n",
    "#            rotation = 0, fontsize=12, horizontalalignment=\"center\")\n",
    "# for p in axr.patches:\n",
    "#     axr.annotate(format(p.get_height(), '.1f'), (p.get_x() + p.get_width() / 2., p.get_height()), ha = 'center', va = 'center', xytext = (0, 10), textcoords = 'offset points')\n",
    "# plt.title('India and USA', size = 15)\n",
    "# plt.ylabel(' % Number of Respondents',size = 13)\n",
    "# plt.xlabel('Figure 11',size = 10)\n",
    "_ = [label for label in labels]"
   ]
  },
  {
   "cell_type": "markdown",
   "metadata": {},
   "source": [
    "India and US has roughly equal number of people who analyses data .The graph also indicates that India has a larger majority of students,which means that this group would be the largest hit. This is because the replacement of jobs with machine learning is predicted to be a faster changing process, than that of people changing their skillset/degree. "
   ]
  },
  {
   "cell_type": "code",
   "execution_count": 17,
   "metadata": {
    "_kg_hide-input": true
   },
   "outputs": [],
   "source": [
    "count_q5 = pd.pivot_table(multi[1:],values=['number'], index=['Q3','Q5'],aggfunc= lambda x :len(x))\n",
    "\n",
    "q5_india = count_q5.iloc[222:234]\n",
    "q5_usa = count_q5.iloc[635:647]\n",
    "q5_india_1 = q5_india.unstack(level = -1)\n",
    "q5_usa_1 = q5_usa.unstack(level = -1)\n",
    "q5_tpt = pd.concat([q5_india_1,q5_usa_1])\n",
    "q5_tpt.columns = q5_tpt.columns.droplevel()\n",
    "q5_tot = q5_tpt.transpose()\n",
    "q5_tot = q5_tot.div(q5_tot.sum())*100\n",
    "q5_tot_1 = q5_tot.reset_index()\n",
    "# FIRST-AUTHOR: remove plotting\n",
    "# plt.figure(figsize = (13,8))\n",
    "# axr = q5_tot_1.plot(kind ='bar',stacked = False,figsize = (13,7),cmap = \"Set3\",alpha = 0.85, width = 0.70)\n",
    "# axr.legend(loc = 'center left',bbox_to_anchor =(1, 0.5))\n",
    "labels = q5_tot.index\n",
    "# FIRST-AUTHOR: remove plotting\n",
    "# x_axis=range(12)\n",
    "# import textwrap\n",
    "# from  textwrap import fill\n",
    "# plt.xticks(x_axis, [textwrap.fill(label, 13) for label in labels], \n",
    "#            rotation = 0, fontsize=12, horizontalalignment=\"center\")\n",
    "# for p in axr.patches:\n",
    "#     axr.annotate(format(p.get_height(), '.1f'), (p.get_x() + p.get_width() / 2., p.get_height()), ha = 'center', va = 'center', xytext = (0, 10), textcoords = 'offset points')\n",
    "# plt.title('India and USA', size = 15)\n",
    "# plt.ylabel(' % Number of Respondents',size = 13)\n",
    "# axr.set_xticklabels(axr.get_xticklabels(), rotation=45)\n",
    "# plt.xlabel('Figure 12',size = 10)\n",
    "_ = [label for label in labels]\n"
   ]
  },
  {
   "cell_type": "markdown",
   "metadata": {},
   "source": [
    "India would be greater affected by this change because in the short term because the majority of the population are either students/ working class data scientist. US would undergo a change as well, however, because the 4 different categories ( researchers, students, top earners, working class analyst) are more spread out the effect would be less than that of India."
   ]
  },
  {
   "cell_type": "markdown",
   "metadata": {},
   "source": [
    "**Conclusion**\n",
    "\n",
    "The analysis presented in this notebook highlights many interesting points.\n",
    "Students who study basic coding as part of their degree would not find such a skill to be as useful as it used to be because of the impact of machine learning. There is an exception however for students who studied degrees such as computer science because the increased usage of machine learning would lead to an increase in jobs in more technical roles such as cybersecurity.\n",
    "The impact of machine learning researchers is likely to be minimal because the majority of researchers requires a high education level, which makes their job rather secure. Predicted increase in the number of jobs in the near future because of the continued advancement of machine learning which would lead to more research\n",
    "For top earners, there would be hardly any impact in the short term is minimal because most people do not have the required experience to replace them. However, in the long term, the top earner\u2019s salary is likely to decrease because more people would be able to have sufficient experience\n",
    "India would be more affected by the increased usage of machine learning compared to the US, this is mainly because the majority of the population are relatively new to coding and they also have a huge majority of students who are seeking to go into the data field making it even more competitive.\n"
   ]
  },
  {
   "cell_type": "markdown",
   "metadata": {},
   "source": [
    "**REFERENCES **\n",
    "\n",
    "* Aravind Sekar. What is the difference between Data Science and Machine Learning?. Analytics Training. Available at: https://analyticstraining.com/what-is-the-difference-between-data-science-and-machine-learning/ [Accessed 30th November 2019]\n",
    "* Sterling Osborne. April 2019. Was it worth studying a data science masters?, Medium. Available at: https://towardsdatascience.com/was-it-worth-studying-a-data-science-masters-c469e5b3e020 [Accessed 30th November 2019]\n",
    "* Appen. (2019). What New Jobs Will AI Create? | Appen. [online] Available at: https://appen.com/blog/what-new-jobs-will-ai-create/ [Accessed 1 Dec. 2019].\n",
    "* TIOBE Index for November 2019. TIOBE. Available at: https://www.tiobe.com/tiobe-index/ [Accessed 30th November 2019]"
   ]
  }
 ],
 "metadata": {
  "kernelspec": {
   "display_name": "Python 3 (ipykernel)",
   "language": "python",
   "name": "python3"
  },
  "language_info": {
   "codemirror_mode": {
    "name": "ipython",
    "version": 3
   },
   "file_extension": ".py",
   "mimetype": "text/x-python",
   "name": "python",
   "nbconvert_exporter": "python",
   "pygments_lexer": "ipython3",
   "version": "3.10.16"
  }
 },
 "nbformat": 4,
 "nbformat_minor": 1
}