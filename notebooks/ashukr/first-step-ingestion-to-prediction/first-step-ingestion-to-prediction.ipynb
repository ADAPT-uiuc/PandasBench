{
 "cells": [
  {
   "cell_type": "code",
   "execution_count": null,
   "metadata": {},
   "outputs": [],
   "source": [
    "import os\n",
    "\n",
    "def scale_input_data(scale_factor):\n",
    "  file_bases = ['./input/train']\n",
    "  for file_base in file_bases:\n",
    "    import pandas as pd\n",
    "    import shutil\n",
    "    if scale_factor == 1.0:\n",
    "      shutil.copyfile(file_base + '.csv', file_base + '.scaled.csv')\n",
    "      continue\n",
    "    df_to_scale = pd.read_csv(file_base + '.csv')\n",
    "    new_num_rows = int(scale_factor * len(df_to_scale))\n",
    "    if scale_factor <= 1.0:\n",
    "      df_to_scale = df_to_scale.iloc[:new_num_rows]\n",
    "    else:\n",
    "      while len(df_to_scale) < new_num_rows:\n",
    "        df_to_scale = pd.concat([df_to_scale, df_to_scale[:min(new_num_rows - len(df_to_scale), len(df_to_scale))]])\n",
    "    df_to_scale.to_csv(file_base + '.scaled.csv', index=False)\n",
    "\n",
    "if 'INPUT_SCALE_FACTOR' in os.environ:\n",
    "  scale_input_data(float(os.environ['INPUT_SCALE_FACTOR']))"
   ]
  },
  {
   "cell_type": "markdown",
   "metadata": {
    "_cell_guid": "7321bcc5-7a41-4a10-ae7a-a0250c83d3e6",
    "_uuid": "6f8a1108f78c1fbbefb2968149310a491c90c96c"
   },
   "source": [
    "# **This notebook showcases the knowledge that I have gained after taking the Python4DataScience course by UCSD**\n",
    "\n",
    "*I have used the data about residential homes in  Ames, Iowa*\n",
    "\n",
    "## I have the following approach to present my work\n",
    " - Explore the dataset\n",
    " - Categorise the features in 3 types\n",
    "    - building(features related to the building)\n",
    "    - the space(the features related to the space around the house)\n",
    "    - neighbourhood(the features about the surrounding of the house)\n",
    " - Then i will find the correlation between the features and the sale-price of the house\n",
    " - For a feature in the \"building\" category I will consider them if their correlation is more than 66%\n",
    " - For the features in the \"space\" and the \"neighbourhood\" category, i will consider only when they are more than 33%\n",
    "     - if two features are in the category and have almost same correlation then i will drop one of the features\n",
    " - i will scale the features if required"
   ]
  },
  {
   "cell_type": "markdown",
   "metadata": {
    "_cell_guid": "eb264eab-2708-4aa4-ab5c-dfb4d0dfcba5",
    "_uuid": "c4f296d0aafe91e80491beb3006ddc55728aa0c7"
   },
   "source": [
    "### started with importing all the necessary libraries"
   ]
  },
  {
   "cell_type": "code",
   "execution_count": 1,
   "metadata": {
    "_cell_guid": "1d25cd4e-fd0d-4af6-8ca3-33eef81cbc0a",
    "_uuid": "64488ef695b72e288cc68e1dec5e709e3ae33ab4"
   },
   "outputs": [],
   "source": [
    "import numpy as np\n",
    "# import pandas as pd\n",
    "exec(os.environ['IREWR_IMPORTS'])\n",
    "# FIRST-AUTHOR: remove plotting, ML code\n",
    "# import matplotlib.pyplot as plt\n",
    "# import seaborn as sns\n",
    "# from sklearn.tree import DecisionTreeRegressor\n",
    "# from sklearn.model_selection import train_test_split\n",
    "# from sklearn.linear_model import LinearRegression\n",
    "# from sklearn.metrics import mean_squared_error\n",
    "# from sklearn.preprocessing import scale\n",
    "# from math import sqrt"
   ]
  },
  {
   "cell_type": "code",
   "execution_count": 2,
   "metadata": {
    "_cell_guid": "fd602afe-f3cb-42df-8aa3-d5db692d92c7",
    "_uuid": "79ea50ead17bb2455dfe842e1c8a2df1328437f1"
   },
   "outputs": [],
   "source": [
    "train_data = pd.read_csv(\"./input/train.scaled.csv\")"
   ]
  },
  {
   "cell_type": "code",
   "execution_count": 3,
   "metadata": {
    "_cell_guid": "dab2a640-6eed-435f-ae80-933d1ffaf78e",
    "_uuid": "fa87dc85f09e8770eab220383fc46a129a2cb207"
   },
   "outputs": [
    {
     "data": {
      "text/html": [
       "<div>\n",
       "<style scoped>\n",
       "    .dataframe tbody tr th:only-of-type {\n",
       "        vertical-align: middle;\n",
       "    }\n",
       "\n",
       "    .dataframe tbody tr th {\n",
       "        vertical-align: top;\n",
       "    }\n",
       "\n",
       "    .dataframe thead th {\n",
       "        text-align: right;\n",
       "    }\n",
       "</style>\n",
       "<table border=\"1\" class=\"dataframe\">\n",
       "  <thead>\n",
       "    <tr style=\"text-align: right;\">\n",
       "      <th></th>\n",
       "      <th>Id</th>\n",
       "      <th>MSSubClass</th>\n",
       "      <th>MSZoning</th>\n",
       "      <th>LotFrontage</th>\n",
       "      <th>LotArea</th>\n",
       "      <th>Street</th>\n",
       "      <th>Alley</th>\n",
       "      <th>LotShape</th>\n",
       "      <th>LandContour</th>\n",
       "      <th>Utilities</th>\n",
       "      <th>...</th>\n",
       "      <th>PoolArea</th>\n",
       "      <th>PoolQC</th>\n",
       "      <th>Fence</th>\n",
       "      <th>MiscFeature</th>\n",
       "      <th>MiscVal</th>\n",
       "      <th>MoSold</th>\n",
       "      <th>YrSold</th>\n",
       "      <th>SaleType</th>\n",
       "      <th>SaleCondition</th>\n",
       "      <th>SalePrice</th>\n",
       "    </tr>\n",
       "  </thead>\n",
       "  <tbody>\n",
       "    <tr>\n",
       "      <th>0</th>\n",
       "      <td>1</td>\n",
       "      <td>60</td>\n",
       "      <td>RL</td>\n",
       "      <td>65.0</td>\n",
       "      <td>8450</td>\n",
       "      <td>Pave</td>\n",
       "      <td>NaN</td>\n",
       "      <td>Reg</td>\n",
       "      <td>Lvl</td>\n",
       "      <td>AllPub</td>\n",
       "      <td>...</td>\n",
       "      <td>0</td>\n",
       "      <td>NaN</td>\n",
       "      <td>NaN</td>\n",
       "      <td>NaN</td>\n",
       "      <td>0</td>\n",
       "      <td>2</td>\n",
       "      <td>2008</td>\n",
       "      <td>WD</td>\n",
       "      <td>Normal</td>\n",
       "      <td>208500</td>\n",
       "    </tr>\n",
       "    <tr>\n",
       "      <th>1</th>\n",
       "      <td>2</td>\n",
       "      <td>20</td>\n",
       "      <td>RL</td>\n",
       "      <td>80.0</td>\n",
       "      <td>9600</td>\n",
       "      <td>Pave</td>\n",
       "      <td>NaN</td>\n",
       "      <td>Reg</td>\n",
       "      <td>Lvl</td>\n",
       "      <td>AllPub</td>\n",
       "      <td>...</td>\n",
       "      <td>0</td>\n",
       "      <td>NaN</td>\n",
       "      <td>NaN</td>\n",
       "      <td>NaN</td>\n",
       "      <td>0</td>\n",
       "      <td>5</td>\n",
       "      <td>2007</td>\n",
       "      <td>WD</td>\n",
       "      <td>Normal</td>\n",
       "      <td>181500</td>\n",
       "    </tr>\n",
       "    <tr>\n",
       "      <th>2</th>\n",
       "      <td>3</td>\n",
       "      <td>60</td>\n",
       "      <td>RL</td>\n",
       "      <td>68.0</td>\n",
       "      <td>11250</td>\n",
       "      <td>Pave</td>\n",
       "      <td>NaN</td>\n",
       "      <td>IR1</td>\n",
       "      <td>Lvl</td>\n",
       "      <td>AllPub</td>\n",
       "      <td>...</td>\n",
       "      <td>0</td>\n",
       "      <td>NaN</td>\n",
       "      <td>NaN</td>\n",
       "      <td>NaN</td>\n",
       "      <td>0</td>\n",
       "      <td>9</td>\n",
       "      <td>2008</td>\n",
       "      <td>WD</td>\n",
       "      <td>Normal</td>\n",
       "      <td>223500</td>\n",
       "    </tr>\n",
       "    <tr>\n",
       "      <th>3</th>\n",
       "      <td>4</td>\n",
       "      <td>70</td>\n",
       "      <td>RL</td>\n",
       "      <td>60.0</td>\n",
       "      <td>9550</td>\n",
       "      <td>Pave</td>\n",
       "      <td>NaN</td>\n",
       "      <td>IR1</td>\n",
       "      <td>Lvl</td>\n",
       "      <td>AllPub</td>\n",
       "      <td>...</td>\n",
       "      <td>0</td>\n",
       "      <td>NaN</td>\n",
       "      <td>NaN</td>\n",
       "      <td>NaN</td>\n",
       "      <td>0</td>\n",
       "      <td>2</td>\n",
       "      <td>2006</td>\n",
       "      <td>WD</td>\n",
       "      <td>Abnorml</td>\n",
       "      <td>140000</td>\n",
       "    </tr>\n",
       "    <tr>\n",
       "      <th>4</th>\n",
       "      <td>5</td>\n",
       "      <td>60</td>\n",
       "      <td>RL</td>\n",
       "      <td>84.0</td>\n",
       "      <td>14260</td>\n",
       "      <td>Pave</td>\n",
       "      <td>NaN</td>\n",
       "      <td>IR1</td>\n",
       "      <td>Lvl</td>\n",
       "      <td>AllPub</td>\n",
       "      <td>...</td>\n",
       "      <td>0</td>\n",
       "      <td>NaN</td>\n",
       "      <td>NaN</td>\n",
       "      <td>NaN</td>\n",
       "      <td>0</td>\n",
       "      <td>12</td>\n",
       "      <td>2008</td>\n",
       "      <td>WD</td>\n",
       "      <td>Normal</td>\n",
       "      <td>250000</td>\n",
       "    </tr>\n",
       "  </tbody>\n",
       "</table>\n",
       "<p>5 rows \u00d7 81 columns</p>\n",
       "</div>"
      ],
      "text/plain": [
       "   Id  MSSubClass MSZoning  LotFrontage  LotArea Street Alley LotShape  \\\n",
       "0   1          60       RL         65.0     8450   Pave   NaN      Reg   \n",
       "1   2          20       RL         80.0     9600   Pave   NaN      Reg   \n",
       "2   3          60       RL         68.0    11250   Pave   NaN      IR1   \n",
       "3   4          70       RL         60.0     9550   Pave   NaN      IR1   \n",
       "4   5          60       RL         84.0    14260   Pave   NaN      IR1   \n",
       "\n",
       "  LandContour Utilities  ... PoolArea PoolQC Fence MiscFeature MiscVal MoSold  \\\n",
       "0         Lvl    AllPub  ...        0    NaN   NaN         NaN       0      2   \n",
       "1         Lvl    AllPub  ...        0    NaN   NaN         NaN       0      5   \n",
       "2         Lvl    AllPub  ...        0    NaN   NaN         NaN       0      9   \n",
       "3         Lvl    AllPub  ...        0    NaN   NaN         NaN       0      2   \n",
       "4         Lvl    AllPub  ...        0    NaN   NaN         NaN       0     12   \n",
       "\n",
       "  YrSold  SaleType  SaleCondition  SalePrice  \n",
       "0   2008        WD         Normal     208500  \n",
       "1   2007        WD         Normal     181500  \n",
       "2   2008        WD         Normal     223500  \n",
       "3   2006        WD        Abnorml     140000  \n",
       "4   2008        WD         Normal     250000  \n",
       "\n",
       "[5 rows x 81 columns]"
      ]
     },
     "execution_count": 3,
     "metadata": {},
     "output_type": "execute_result"
    }
   ],
   "source": [
    "train_data.head()"
   ]
  },
  {
   "cell_type": "code",
   "execution_count": 4,
   "metadata": {
    "_cell_guid": "c8d2028c-3019-43fb-9307-86b9aa5e21e0",
    "_uuid": "456025a0b2e9cfab3f26388b13fb21b47dad6dd9"
   },
   "outputs": [
    {
     "data": {
      "text/html": [
       "<div>\n",
       "<style scoped>\n",
       "    .dataframe tbody tr th:only-of-type {\n",
       "        vertical-align: middle;\n",
       "    }\n",
       "\n",
       "    .dataframe tbody tr th {\n",
       "        vertical-align: top;\n",
       "    }\n",
       "\n",
       "    .dataframe thead th {\n",
       "        text-align: right;\n",
       "    }\n",
       "</style>\n",
       "<table border=\"1\" class=\"dataframe\">\n",
       "  <thead>\n",
       "    <tr style=\"text-align: right;\">\n",
       "      <th></th>\n",
       "      <th>0</th>\n",
       "      <th>1</th>\n",
       "      <th>2</th>\n",
       "      <th>3</th>\n",
       "      <th>4</th>\n",
       "    </tr>\n",
       "  </thead>\n",
       "  <tbody>\n",
       "    <tr>\n",
       "      <th>Id</th>\n",
       "      <td>1</td>\n",
       "      <td>2</td>\n",
       "      <td>3</td>\n",
       "      <td>4</td>\n",
       "      <td>5</td>\n",
       "    </tr>\n",
       "    <tr>\n",
       "      <th>MSSubClass</th>\n",
       "      <td>60</td>\n",
       "      <td>20</td>\n",
       "      <td>60</td>\n",
       "      <td>70</td>\n",
       "      <td>60</td>\n",
       "    </tr>\n",
       "    <tr>\n",
       "      <th>MSZoning</th>\n",
       "      <td>RL</td>\n",
       "      <td>RL</td>\n",
       "      <td>RL</td>\n",
       "      <td>RL</td>\n",
       "      <td>RL</td>\n",
       "    </tr>\n",
       "    <tr>\n",
       "      <th>LotFrontage</th>\n",
       "      <td>65.0</td>\n",
       "      <td>80.0</td>\n",
       "      <td>68.0</td>\n",
       "      <td>60.0</td>\n",
       "      <td>84.0</td>\n",
       "    </tr>\n",
       "    <tr>\n",
       "      <th>LotArea</th>\n",
       "      <td>8450</td>\n",
       "      <td>9600</td>\n",
       "      <td>11250</td>\n",
       "      <td>9550</td>\n",
       "      <td>14260</td>\n",
       "    </tr>\n",
       "    <tr>\n",
       "      <th>...</th>\n",
       "      <td>...</td>\n",
       "      <td>...</td>\n",
       "      <td>...</td>\n",
       "      <td>...</td>\n",
       "      <td>...</td>\n",
       "    </tr>\n",
       "    <tr>\n",
       "      <th>MoSold</th>\n",
       "      <td>2</td>\n",
       "      <td>5</td>\n",
       "      <td>9</td>\n",
       "      <td>2</td>\n",
       "      <td>12</td>\n",
       "    </tr>\n",
       "    <tr>\n",
       "      <th>YrSold</th>\n",
       "      <td>2008</td>\n",
       "      <td>2007</td>\n",
       "      <td>2008</td>\n",
       "      <td>2006</td>\n",
       "      <td>2008</td>\n",
       "    </tr>\n",
       "    <tr>\n",
       "      <th>SaleType</th>\n",
       "      <td>WD</td>\n",
       "      <td>WD</td>\n",
       "      <td>WD</td>\n",
       "      <td>WD</td>\n",
       "      <td>WD</td>\n",
       "    </tr>\n",
       "    <tr>\n",
       "      <th>SaleCondition</th>\n",
       "      <td>Normal</td>\n",
       "      <td>Normal</td>\n",
       "      <td>Normal</td>\n",
       "      <td>Abnorml</td>\n",
       "      <td>Normal</td>\n",
       "    </tr>\n",
       "    <tr>\n",
       "      <th>SalePrice</th>\n",
       "      <td>208500</td>\n",
       "      <td>181500</td>\n",
       "      <td>223500</td>\n",
       "      <td>140000</td>\n",
       "      <td>250000</td>\n",
       "    </tr>\n",
       "  </tbody>\n",
       "</table>\n",
       "<p>81 rows \u00d7 5 columns</p>\n",
       "</div>"
      ],
      "text/plain": [
       "                    0       1       2        3       4\n",
       "Id                  1       2       3        4       5\n",
       "MSSubClass         60      20      60       70      60\n",
       "MSZoning           RL      RL      RL       RL      RL\n",
       "LotFrontage      65.0    80.0    68.0     60.0    84.0\n",
       "LotArea          8450    9600   11250     9550   14260\n",
       "...               ...     ...     ...      ...     ...\n",
       "MoSold              2       5       9        2      12\n",
       "YrSold           2008    2007    2008     2006    2008\n",
       "SaleType           WD      WD      WD       WD      WD\n",
       "SaleCondition  Normal  Normal  Normal  Abnorml  Normal\n",
       "SalePrice      208500  181500  223500   140000  250000\n",
       "\n",
       "[81 rows x 5 columns]"
      ]
     },
     "execution_count": 4,
     "metadata": {},
     "output_type": "execute_result"
    }
   ],
   "source": [
    "train_data.head().transpose()"
   ]
  },
  {
   "cell_type": "code",
   "execution_count": 5,
   "metadata": {
    "_cell_guid": "24f08dc1-2551-4ce1-a7ea-378151fa15f3",
    "_uuid": "83f4520d9d153ad42f012df9f6f5bc71141babf8"
   },
   "outputs": [
    {
     "data": {
      "text/plain": [
       "(1460, 81)"
      ]
     },
     "execution_count": 5,
     "metadata": {},
     "output_type": "execute_result"
    }
   ],
   "source": [
    "train_data.shape"
   ]
  },
  {
   "cell_type": "code",
   "execution_count": 6,
   "metadata": {
    "_cell_guid": "e810fc83-b9ce-48a3-9909-4ae03fd48b15",
    "_uuid": "89f5052ce2326e25b22b728c86e55b5a9be8198c",
    "scrolled": true
   },
   "outputs": [
    {
     "data": {
      "text/plain": [
       "Index(['Id', 'MSSubClass', 'MSZoning', 'LotFrontage', 'LotArea', 'Street',\n",
       "       'Alley', 'LotShape', 'LandContour', 'Utilities', 'LotConfig',\n",
       "       'LandSlope', 'Neighborhood', 'Condition1', 'Condition2', 'BldgType',\n",
       "       'HouseStyle', 'OverallQual', 'OverallCond', 'YearBuilt', 'YearRemodAdd',\n",
       "       'RoofStyle', 'RoofMatl', 'Exterior1st', 'Exterior2nd', 'MasVnrType',\n",
       "       'MasVnrArea', 'ExterQual', 'ExterCond', 'Foundation', 'BsmtQual',\n",
       "       'BsmtCond', 'BsmtExposure', 'BsmtFinType1', 'BsmtFinSF1',\n",
       "       'BsmtFinType2', 'BsmtFinSF2', 'BsmtUnfSF', 'TotalBsmtSF', 'Heating',\n",
       "       'HeatingQC', 'CentralAir', 'Electrical', '1stFlrSF', '2ndFlrSF',\n",
       "       'LowQualFinSF', 'GrLivArea', 'BsmtFullBath', 'BsmtHalfBath', 'FullBath',\n",
       "       'HalfBath', 'BedroomAbvGr', 'KitchenAbvGr', 'KitchenQual',\n",
       "       'TotRmsAbvGrd', 'Functional', 'Fireplaces', 'FireplaceQu', 'GarageType',\n",
       "       'GarageYrBlt', 'GarageFinish', 'GarageCars', 'GarageArea', 'GarageQual',\n",
       "       'GarageCond', 'PavedDrive', 'WoodDeckSF', 'OpenPorchSF',\n",
       "       'EnclosedPorch', '3SsnPorch', 'ScreenPorch', 'PoolArea', 'PoolQC',\n",
       "       'Fence', 'MiscFeature', 'MiscVal', 'MoSold', 'YrSold', 'SaleType',\n",
       "       'SaleCondition', 'SalePrice'],\n",
       "      dtype='object')"
      ]
     },
     "execution_count": 6,
     "metadata": {},
     "output_type": "execute_result"
    }
   ],
   "source": [
    "train_data.columns"
   ]
  },
  {
   "cell_type": "markdown",
   "metadata": {
    "_cell_guid": "d8fd9008-9171-405d-8c36-f2cdfe5f3bef",
    "_uuid": "aeaebe60069340974c5cef5d16f8a7b67e2db9d5"
   },
   "source": [
    "### the data has got 81 features and 1460 samples, out of the 81 features some are numerical where as some are categorical\n",
    "- i will drop the categorical features as i am not very confident how to handle them "
   ]
  },
  {
   "cell_type": "code",
   "execution_count": 7,
   "metadata": {
    "_cell_guid": "6d5a5f28-93f0-4f72-ad9e-20d4e537e855",
    "_uuid": "201474b0a1301a0b22fbf600395fb7b6dd860b6a"
   },
   "outputs": [],
   "source": [
    "# the numerical features related to the space in the building\n",
    "space_feat_num=['LotArea','MasVnrArea','BsmtFinSF1','BsmtFinSF2','BsmtUnfSF','GarageYrBlt','GarageCars','GarageArea','WoodDeckSF','OpenPorchSF','EnclosedPorch','3SsnPorch','ScreenPorch','PoolArea','SalePrice']"
   ]
  },
  {
   "cell_type": "code",
   "execution_count": 8,
   "metadata": {
    "_cell_guid": "3f100348-057d-429e-903e-e34f070448d8",
    "_uuid": "88cbbd1e4360dcddb46ce4db229e85cb66d0facb"
   },
   "outputs": [],
   "source": [
    "#the data about space of the building\n",
    "train_data_num_space = train_data[space_feat_num]"
   ]
  },
  {
   "cell_type": "code",
   "execution_count": 9,
   "metadata": {
    "_cell_guid": "08be1264-8a14-4122-b79d-1e5a2d188b3a",
    "_uuid": "01cb8adb0e5f2a722c0233d00f55f8d7fc7727ae"
   },
   "outputs": [],
   "source": [
    "#the numerical feature about the neighbourhood of the building\n",
    "neighbourhood_feat_num = [\"LotFrontage\",'SalePrice']"
   ]
  },
  {
   "cell_type": "code",
   "execution_count": 10,
   "metadata": {
    "_cell_guid": "b7df826f-950c-4baf-99b7-b4fb8f5184dd",
    "_uuid": "e243045b85b587be2f0a25c4909e562ab1641fe1"
   },
   "outputs": [],
   "source": [
    "#the data about neighbourhood of the building\n",
    "train_data_num_neighbourhood = train_data[neighbourhood_feat_num]"
   ]
  },
  {
   "cell_type": "code",
   "execution_count": 11,
   "metadata": {
    "_cell_guid": "e1887e15-9c0e-44ab-a14f-06b3d59e8af6",
    "_uuid": "1d005600448811a12484fe60c493e3318d0345e8"
   },
   "outputs": [
    {
     "data": {
      "text/plain": [
       "Index(['Id', 'MSSubClass', 'MSZoning', 'LotFrontage', 'LotArea', 'Street',\n",
       "       'Alley', 'LotShape', 'LandContour', 'Utilities', 'LotConfig',\n",
       "       'LandSlope', 'Neighborhood', 'Condition1', 'Condition2', 'BldgType',\n",
       "       'HouseStyle', 'OverallQual', 'OverallCond', 'YearBuilt', 'YearRemodAdd',\n",
       "       'RoofStyle', 'RoofMatl', 'Exterior1st', 'Exterior2nd', 'MasVnrType',\n",
       "       'MasVnrArea', 'ExterQual', 'ExterCond', 'Foundation', 'BsmtQual',\n",
       "       'BsmtCond', 'BsmtExposure', 'BsmtFinType1', 'BsmtFinSF1',\n",
       "       'BsmtFinType2', 'BsmtFinSF2', 'BsmtUnfSF', 'TotalBsmtSF', 'Heating',\n",
       "       'HeatingQC', 'CentralAir', 'Electrical', '1stFlrSF', '2ndFlrSF',\n",
       "       'LowQualFinSF', 'GrLivArea', 'BsmtFullBath', 'BsmtHalfBath', 'FullBath',\n",
       "       'HalfBath', 'BedroomAbvGr', 'KitchenAbvGr', 'KitchenQual',\n",
       "       'TotRmsAbvGrd', 'Functional', 'Fireplaces', 'FireplaceQu', 'GarageType',\n",
       "       'GarageYrBlt', 'GarageFinish', 'GarageCars', 'GarageArea', 'GarageQual',\n",
       "       'GarageCond', 'PavedDrive', 'WoodDeckSF', 'OpenPorchSF',\n",
       "       'EnclosedPorch', '3SsnPorch', 'ScreenPorch', 'PoolArea', 'PoolQC',\n",
       "       'Fence', 'MiscFeature', 'MiscVal', 'MoSold', 'YrSold', 'SaleType',\n",
       "       'SaleCondition', 'SalePrice'],\n",
       "      dtype='object')"
      ]
     },
     "execution_count": 11,
     "metadata": {},
     "output_type": "execute_result"
    }
   ],
   "source": [
    "train_data.columns"
   ]
  },
  {
   "cell_type": "code",
   "execution_count": 12,
   "metadata": {
    "_cell_guid": "21727b32-5ed8-4cc0-86b6-502ee7610c63",
    "_uuid": "c63349a2821ab8b2b956d336635e2d60822bb4ee"
   },
   "outputs": [],
   "source": [
    "#the numerical features of the building\n",
    "building_feat_num = ['OverallQual','OverallCond','YearBuilt','YearRemodAdd','TotalBsmtSF','1stFlrSF','2ndFlrSF','LowQualFinSF','GrLivArea','BsmtFullBath','BsmtHalfBath','FullBath','HalfBath','BedroomAbvGr',\n",
    "                     'KitchenAbvGr','TotRmsAbvGrd','Fireplaces','MiscVal','MoSold','YrSold','SalePrice']"
   ]
  },
  {
   "cell_type": "code",
   "execution_count": 13,
   "metadata": {
    "_cell_guid": "b116e7fa-42e9-402e-9f2e-11d79f374d57",
    "_uuid": "6e11667de32fab0f9fdbb078897f2153a5ab4060"
   },
   "outputs": [],
   "source": [
    "#data about the building\n",
    "train_data_num_building = train_data[building_feat_num]"
   ]
  },
  {
   "cell_type": "markdown",
   "metadata": {
    "_cell_guid": "91ff975d-7cb2-42a1-8cca-bcd78b4c7635",
    "_uuid": "6b6c4b61964874d53f961e6774f6b8092d6ffc10"
   },
   "source": [
    "### i tried to find the number of null values for each and then the fraction which is nulll for a given column\n",
    "- if the significant fraction is null then i will drop the feature **after looking at their correlation** or else i will try and fill in the null values"
   ]
  },
  {
   "cell_type": "code",
   "execution_count": 14,
   "metadata": {
    "_cell_guid": "70201ce9-37b9-477f-a381-68a9c710fd95",
    "_uuid": "e89d0ecbd186cd887ab67fbee81188c3a2e728c2"
   },
   "outputs": [
    {
     "data": {
      "text/html": [
       "<div>\n",
       "<style scoped>\n",
       "    .dataframe tbody tr th:only-of-type {\n",
       "        vertical-align: middle;\n",
       "    }\n",
       "\n",
       "    .dataframe tbody tr th {\n",
       "        vertical-align: top;\n",
       "    }\n",
       "\n",
       "    .dataframe thead th {\n",
       "        text-align: right;\n",
       "    }\n",
       "</style>\n",
       "<table border=\"1\" class=\"dataframe\">\n",
       "  <thead>\n",
       "    <tr style=\"text-align: right;\">\n",
       "      <th></th>\n",
       "      <th>Total</th>\n",
       "      <th>Percent</th>\n",
       "    </tr>\n",
       "  </thead>\n",
       "  <tbody>\n",
       "    <tr>\n",
       "      <th>GarageYrBlt</th>\n",
       "      <td>81</td>\n",
       "      <td>0.055479</td>\n",
       "    </tr>\n",
       "    <tr>\n",
       "      <th>MasVnrArea</th>\n",
       "      <td>8</td>\n",
       "      <td>0.005479</td>\n",
       "    </tr>\n",
       "    <tr>\n",
       "      <th>LotArea</th>\n",
       "      <td>0</td>\n",
       "      <td>0.000000</td>\n",
       "    </tr>\n",
       "    <tr>\n",
       "      <th>BsmtFinSF1</th>\n",
       "      <td>0</td>\n",
       "      <td>0.000000</td>\n",
       "    </tr>\n",
       "    <tr>\n",
       "      <th>BsmtFinSF2</th>\n",
       "      <td>0</td>\n",
       "      <td>0.000000</td>\n",
       "    </tr>\n",
       "    <tr>\n",
       "      <th>BsmtUnfSF</th>\n",
       "      <td>0</td>\n",
       "      <td>0.000000</td>\n",
       "    </tr>\n",
       "    <tr>\n",
       "      <th>GarageCars</th>\n",
       "      <td>0</td>\n",
       "      <td>0.000000</td>\n",
       "    </tr>\n",
       "    <tr>\n",
       "      <th>GarageArea</th>\n",
       "      <td>0</td>\n",
       "      <td>0.000000</td>\n",
       "    </tr>\n",
       "    <tr>\n",
       "      <th>WoodDeckSF</th>\n",
       "      <td>0</td>\n",
       "      <td>0.000000</td>\n",
       "    </tr>\n",
       "    <tr>\n",
       "      <th>OpenPorchSF</th>\n",
       "      <td>0</td>\n",
       "      <td>0.000000</td>\n",
       "    </tr>\n",
       "    <tr>\n",
       "      <th>EnclosedPorch</th>\n",
       "      <td>0</td>\n",
       "      <td>0.000000</td>\n",
       "    </tr>\n",
       "    <tr>\n",
       "      <th>3SsnPorch</th>\n",
       "      <td>0</td>\n",
       "      <td>0.000000</td>\n",
       "    </tr>\n",
       "    <tr>\n",
       "      <th>ScreenPorch</th>\n",
       "      <td>0</td>\n",
       "      <td>0.000000</td>\n",
       "    </tr>\n",
       "    <tr>\n",
       "      <th>PoolArea</th>\n",
       "      <td>0</td>\n",
       "      <td>0.000000</td>\n",
       "    </tr>\n",
       "    <tr>\n",
       "      <th>SalePrice</th>\n",
       "      <td>0</td>\n",
       "      <td>0.000000</td>\n",
       "    </tr>\n",
       "  </tbody>\n",
       "</table>\n",
       "</div>"
      ],
      "text/plain": [
       "               Total   Percent\n",
       "GarageYrBlt       81  0.055479\n",
       "MasVnrArea         8  0.005479\n",
       "LotArea            0  0.000000\n",
       "BsmtFinSF1         0  0.000000\n",
       "BsmtFinSF2         0  0.000000\n",
       "BsmtUnfSF          0  0.000000\n",
       "GarageCars         0  0.000000\n",
       "GarageArea         0  0.000000\n",
       "WoodDeckSF         0  0.000000\n",
       "OpenPorchSF        0  0.000000\n",
       "EnclosedPorch      0  0.000000\n",
       "3SsnPorch          0  0.000000\n",
       "ScreenPorch        0  0.000000\n",
       "PoolArea           0  0.000000\n",
       "SalePrice          0  0.000000"
      ]
     },
     "execution_count": 14,
     "metadata": {},
     "output_type": "execute_result"
    }
   ],
   "source": [
    "total = train_data_num_space.isnull().sum().sort_values(ascending=False)\n",
    "#percentage of null in a given feature and arranging them in ascending order \n",
    "percent = (train_data_num_space.isnull().sum()/train_data_num_space.isnull().count()).sort_values(ascending=False)\n",
    "#creating a dataframe to visualize the number of missing values and the percentage of the missing values\n",
    "missing_data = pd.concat([total, percent], axis=1, keys=['Total', 'Percent'])\n",
    "# printing the head values\n",
    "missing_data.head(20)"
   ]
  },
  {
   "cell_type": "markdown",
   "metadata": {
    "_cell_guid": "9e1bc8ef-a8e6-431e-8c4a-f136c7f93daf",
    "_uuid": "ce511a8487b5e7416556998745848983b95e063a",
    "collapsed": true
   },
   "source": [
    "### visualising the correlation between different space features and the sale price of the house"
   ]
  },
  {
   "cell_type": "code",
   "execution_count": 15,
   "metadata": {
    "_cell_guid": "900dab1d-bf41-4790-baae-8f2fffd3fff8",
    "_uuid": "903289d2041b67644b18ef88fb14f10088235088"
   },
   "outputs": [],
   "source": [
    "#saleprice correlation matrix\n",
    "corrmat = train_data_num_space.corr()\n",
    "k = 15 #number of variables for heatmap\n",
    "# FIRST-AUTHOR: remove plotting\n",
    "# f, ax = plt.subplots(figsize=(12, 9))\n",
    "cols = corrmat.nlargest(k, 'SalePrice')['SalePrice'].index\n",
    "cm = np.corrcoef(train_data_num_space[cols].values.T)\n",
    "# FIRST-AUTHOR: remove plotting\n",
    "# sns.set(font_scale=1.25)\n",
    "# hm = sns.heatmap(cm, cbar=True, annot=True, square=True, fmt='.2f', annot_kws={'size': 10}, yticklabels=cols.values, xticklabels=cols.values)\n",
    "# plt.show()\n",
    "_ = cols.values\n",
    "_ = cols.values\n"
   ]
  },
  {
   "cell_type": "markdown",
   "metadata": {
    "_cell_guid": "73cbe285-d780-4218-bb06-cf30d422bc4d",
    "_uuid": "4c1f4ca2f2f8c6fa0cf0f72a8071f606033a518c",
    "collapsed": true
   },
   "source": [
    "- we can drop GarageYrBlt and MasVnrArea as we can not get any correlation\n",
    "- we will consider the features that have a correlation greater than 33% and we will chose only one of the many similarly related features\n",
    "    - we will drop the WoodenDeckSF and will select the OpenPorcSF instead\n",
    "    - we will chose the BsmtFinSF1,\n",
    "    - we will drop the GarageCars and choose the GarageArea"
   ]
  },
  {
   "cell_type": "markdown",
   "metadata": {
    "_cell_guid": "9b5ba9ef-7cb3-4700-a571-e2a236bd8665",
    "_uuid": "d246b718121b6adb8dd923bf99d9c1e36cb405a8"
   },
   "source": [
    "### we repeat the feature selection process and the data cleaning process for the building features of the house"
   ]
  },
  {
   "cell_type": "code",
   "execution_count": 16,
   "metadata": {
    "_cell_guid": "2d14a034-5a21-447b-a46a-0e953d7e4f83",
    "_uuid": "1cd029d38bbc1648f1c01e7d1d6109a7e64c187f"
   },
   "outputs": [
    {
     "data": {
      "text/html": [
       "<div>\n",
       "<style scoped>\n",
       "    .dataframe tbody tr th:only-of-type {\n",
       "        vertical-align: middle;\n",
       "    }\n",
       "\n",
       "    .dataframe tbody tr th {\n",
       "        vertical-align: top;\n",
       "    }\n",
       "\n",
       "    .dataframe thead th {\n",
       "        text-align: right;\n",
       "    }\n",
       "</style>\n",
       "<table border=\"1\" class=\"dataframe\">\n",
       "  <thead>\n",
       "    <tr style=\"text-align: right;\">\n",
       "      <th></th>\n",
       "      <th>Total</th>\n",
       "      <th>Percent</th>\n",
       "    </tr>\n",
       "  </thead>\n",
       "  <tbody>\n",
       "    <tr>\n",
       "      <th>OverallQual</th>\n",
       "      <td>0</td>\n",
       "      <td>0.0</td>\n",
       "    </tr>\n",
       "    <tr>\n",
       "      <th>FullBath</th>\n",
       "      <td>0</td>\n",
       "      <td>0.0</td>\n",
       "    </tr>\n",
       "    <tr>\n",
       "      <th>YrSold</th>\n",
       "      <td>0</td>\n",
       "      <td>0.0</td>\n",
       "    </tr>\n",
       "    <tr>\n",
       "      <th>MoSold</th>\n",
       "      <td>0</td>\n",
       "      <td>0.0</td>\n",
       "    </tr>\n",
       "    <tr>\n",
       "      <th>MiscVal</th>\n",
       "      <td>0</td>\n",
       "      <td>0.0</td>\n",
       "    </tr>\n",
       "    <tr>\n",
       "      <th>Fireplaces</th>\n",
       "      <td>0</td>\n",
       "      <td>0.0</td>\n",
       "    </tr>\n",
       "    <tr>\n",
       "      <th>TotRmsAbvGrd</th>\n",
       "      <td>0</td>\n",
       "      <td>0.0</td>\n",
       "    </tr>\n",
       "    <tr>\n",
       "      <th>KitchenAbvGr</th>\n",
       "      <td>0</td>\n",
       "      <td>0.0</td>\n",
       "    </tr>\n",
       "    <tr>\n",
       "      <th>BedroomAbvGr</th>\n",
       "      <td>0</td>\n",
       "      <td>0.0</td>\n",
       "    </tr>\n",
       "    <tr>\n",
       "      <th>HalfBath</th>\n",
       "      <td>0</td>\n",
       "      <td>0.0</td>\n",
       "    </tr>\n",
       "    <tr>\n",
       "      <th>BsmtHalfBath</th>\n",
       "      <td>0</td>\n",
       "      <td>0.0</td>\n",
       "    </tr>\n",
       "    <tr>\n",
       "      <th>OverallCond</th>\n",
       "      <td>0</td>\n",
       "      <td>0.0</td>\n",
       "    </tr>\n",
       "    <tr>\n",
       "      <th>BsmtFullBath</th>\n",
       "      <td>0</td>\n",
       "      <td>0.0</td>\n",
       "    </tr>\n",
       "    <tr>\n",
       "      <th>GrLivArea</th>\n",
       "      <td>0</td>\n",
       "      <td>0.0</td>\n",
       "    </tr>\n",
       "    <tr>\n",
       "      <th>LowQualFinSF</th>\n",
       "      <td>0</td>\n",
       "      <td>0.0</td>\n",
       "    </tr>\n",
       "    <tr>\n",
       "      <th>2ndFlrSF</th>\n",
       "      <td>0</td>\n",
       "      <td>0.0</td>\n",
       "    </tr>\n",
       "    <tr>\n",
       "      <th>1stFlrSF</th>\n",
       "      <td>0</td>\n",
       "      <td>0.0</td>\n",
       "    </tr>\n",
       "    <tr>\n",
       "      <th>TotalBsmtSF</th>\n",
       "      <td>0</td>\n",
       "      <td>0.0</td>\n",
       "    </tr>\n",
       "    <tr>\n",
       "      <th>YearRemodAdd</th>\n",
       "      <td>0</td>\n",
       "      <td>0.0</td>\n",
       "    </tr>\n",
       "    <tr>\n",
       "      <th>YearBuilt</th>\n",
       "      <td>0</td>\n",
       "      <td>0.0</td>\n",
       "    </tr>\n",
       "  </tbody>\n",
       "</table>\n",
       "</div>"
      ],
      "text/plain": [
       "              Total  Percent\n",
       "OverallQual       0      0.0\n",
       "FullBath          0      0.0\n",
       "YrSold            0      0.0\n",
       "MoSold            0      0.0\n",
       "MiscVal           0      0.0\n",
       "Fireplaces        0      0.0\n",
       "TotRmsAbvGrd      0      0.0\n",
       "KitchenAbvGr      0      0.0\n",
       "BedroomAbvGr      0      0.0\n",
       "HalfBath          0      0.0\n",
       "BsmtHalfBath      0      0.0\n",
       "OverallCond       0      0.0\n",
       "BsmtFullBath      0      0.0\n",
       "GrLivArea         0      0.0\n",
       "LowQualFinSF      0      0.0\n",
       "2ndFlrSF          0      0.0\n",
       "1stFlrSF          0      0.0\n",
       "TotalBsmtSF       0      0.0\n",
       "YearRemodAdd      0      0.0\n",
       "YearBuilt         0      0.0"
      ]
     },
     "execution_count": 16,
     "metadata": {},
     "output_type": "execute_result"
    }
   ],
   "source": [
    "#total number of samples with the given features\n",
    "total = train_data_num_building.isnull().sum().sort_values(ascending=False)\n",
    "#percentage of null in a given feature and arranging them in ascending order \n",
    "percent = (train_data_num_building.isnull().sum()/train_data_num_building.isnull().count()).sort_values(ascending=False)\n",
    "#creating a dataframe to visualize the number of missing values and the percentage of the missing values\n",
    "missing_data = pd.concat([total, percent], axis=1, keys=['Total', 'Percent'])\n",
    "# printing the head values\n",
    "missing_data.head(20)"
   ]
  },
  {
   "cell_type": "code",
   "execution_count": 17,
   "metadata": {
    "_cell_guid": "a4cd2715-ad7d-4b07-aa31-74ab614f023e",
    "_uuid": "08259a33db8d9fe9b8d2ecd96ce26aece77c4d32"
   },
   "outputs": [],
   "source": [
    "# great there is\n",
    "# now we will look at the correlation\n",
    "corrmat = train_data_num_building.corr()\n",
    "k = 15 #number of variables for heatmap\n",
    "# FIRST-AUTHOR: remove plotting\n",
    "# f, ax = plt.subplots(figsize=(12, 9))\n",
    "cols = corrmat.nlargest(k, 'SalePrice')['SalePrice'].index\n",
    "cm = np.corrcoef(train_data_num_building[cols].values.T)\n",
    "# FIRST-AUTHOR: remove plotting\n",
    "# sns.set(font_scale=1.25)\n",
    "# hm = sns.heatmap(cm, cbar=True, annot=True, square=True, fmt='.2f', annot_kws={'size': 10}, yticklabels=cols.values, xticklabels=cols.values)\n",
    "# plt.show()\n",
    "_ = cols.values\n",
    "_ = cols.values\n"
   ]
  },
  {
   "cell_type": "markdown",
   "metadata": {
    "_cell_guid": "9bf544e4-84cf-4c4a-9e72-10a97d3c59e4",
    "_uuid": "afc1759cce65174078e0df3c2309e84129937368",
    "collapsed": true
   },
   "source": [
    "-  we consider the features with correlations greater than 56%\n",
    "-  we consider the feature full bath\n",
    "- drop the 1stfloorSF as it similar to the TotalBsmtSF, keep theTotalBsmtSF\n",
    "- we keep the GrlivArea and  OverallQual"
   ]
  },
  {
   "cell_type": "markdown",
   "metadata": {
    "_cell_guid": "f17030f1-9f17-46da-a522-bbd09ea2209e",
    "_uuid": "575bc6b0421219fc80ef83fdbcb93e3578e9b618"
   },
   "source": [
    "### we try to celan the data  for the features that describe the neighbourhood of the building "
   ]
  },
  {
   "cell_type": "code",
   "execution_count": 18,
   "metadata": {
    "_cell_guid": "32373742-a940-409c-8516-056cc0519621",
    "_uuid": "eae282040b4d0e2c1c093db04663224df3a9e590"
   },
   "outputs": [
    {
     "data": {
      "text/html": [
       "<div>\n",
       "<style scoped>\n",
       "    .dataframe tbody tr th:only-of-type {\n",
       "        vertical-align: middle;\n",
       "    }\n",
       "\n",
       "    .dataframe tbody tr th {\n",
       "        vertical-align: top;\n",
       "    }\n",
       "\n",
       "    .dataframe thead th {\n",
       "        text-align: right;\n",
       "    }\n",
       "</style>\n",
       "<table border=\"1\" class=\"dataframe\">\n",
       "  <thead>\n",
       "    <tr style=\"text-align: right;\">\n",
       "      <th></th>\n",
       "      <th>Total</th>\n",
       "      <th>Percent</th>\n",
       "    </tr>\n",
       "  </thead>\n",
       "  <tbody>\n",
       "    <tr>\n",
       "      <th>LotFrontage</th>\n",
       "      <td>259</td>\n",
       "      <td>0.177397</td>\n",
       "    </tr>\n",
       "    <tr>\n",
       "      <th>SalePrice</th>\n",
       "      <td>0</td>\n",
       "      <td>0.000000</td>\n",
       "    </tr>\n",
       "  </tbody>\n",
       "</table>\n",
       "</div>"
      ],
      "text/plain": [
       "             Total   Percent\n",
       "LotFrontage    259  0.177397\n",
       "SalePrice        0  0.000000"
      ]
     },
     "execution_count": 18,
     "metadata": {},
     "output_type": "execute_result"
    }
   ],
   "source": [
    "#data cleaning\n",
    "# total number of null values\n",
    "total = train_data_num_neighbourhood.isnull().sum().sort_values(ascending=False)\n",
    "#percentage of null in a given feature and arranging them in ascending order \n",
    "percent = (train_data_num_neighbourhood.isnull().sum()/train_data_num_neighbourhood.isnull().count()).sort_values(ascending=False)\n",
    "#creating a dataframe to visualize the number of missing values and the percentage of the missing values\n",
    "missing_data = pd.concat([total, percent], axis=1, keys=['Total', 'Percent'])\n",
    "# printing the head values\n",
    "missing_data.head(20)"
   ]
  },
  {
   "cell_type": "code",
   "execution_count": 19,
   "metadata": {
    "_cell_guid": "df820e36-7679-4ec2-8279-09545db50caa",
    "_uuid": "20ff5d54d376a562e074969f8dcd0e1a0091483d"
   },
   "outputs": [],
   "source": [
    "# great there is no null value\n",
    "# now we will look at the correlation\n",
    "corrmat = train_data_num_neighbourhood.corr()\n",
    "k = 15 #number of variables for heatmap\n",
    "# FIRST-AUTHOR: remove plotting\n",
    "# f, ax = plt.subplots(figsize=(12, 9))\n",
    "cols = corrmat.nlargest(k, 'SalePrice')['SalePrice'].index\n",
    "cm = np.corrcoef(train_data_num_neighbourhood[cols].values.T)\n",
    "# FIRST-AUTHOR: remove plotting\n",
    "# sns.set(font_scale=1.25)\n",
    "# hm = sns.heatmap(cm, cbar=True, annot=True, square=True, fmt='.2f', annot_kws={'size': 10}, yticklabels=cols.values, xticklabels=cols.values)\n",
    "# plt.show()\n",
    "_ = cols.values\n",
    "_ = cols.values\n"
   ]
  },
  {
   "cell_type": "markdown",
   "metadata": {
    "_cell_guid": "dfb83390-4860-4053-ba81-3338a0f1d4e8",
    "_uuid": "536cf5c877b0624b90a3f58afe592ad3f4cd33d5",
    "collapsed": true
   },
   "source": [
    "### from the above corelation matrix we can conclude that there is no special feature that we have to consider for the neighbourhood and we drop the features describing the neighbourhood of the buildings"
   ]
  },
  {
   "cell_type": "markdown",
   "metadata": {
    "_cell_guid": "4c0352a6-7eed-4996-b428-b6184a664e51",
    "_uuid": "a4d41b9642a4345ea8b1871808168a6e9afac059"
   },
   "source": [
    "## hence finally, we have the following features under consideration"
   ]
  },
  {
   "cell_type": "code",
   "execution_count": 20,
   "metadata": {
    "_cell_guid": "0cecd833-434e-4c2a-925c-c2cbb76d4d93",
    "_uuid": "1a96328f64aafe1193c7a102c52457905b35a14a"
   },
   "outputs": [],
   "source": [
    "selected_features = ['OpenPorchSF','BsmtFinSF1','GarageArea','GrLivArea','OverallQual','TotalBsmtSF','FullBath','SalePrice']"
   ]
  },
  {
   "cell_type": "markdown",
   "metadata": {
    "_cell_guid": "20d13545-6227-4ef1-ade8-98694ba7b424",
    "_uuid": "0f539dc00d65c2e2a171b78a7b092d2157e8c5a7"
   },
   "source": [
    "### the data for furthur exploration is reduced to the **selected_train_data**"
   ]
  },
  {
   "cell_type": "code",
   "execution_count": 21,
   "metadata": {
    "_cell_guid": "8d59475c-1727-4618-97b9-b98c612035a3",
    "_uuid": "5596fb7e460bd58b382e10c81f99f69bef1eddb2"
   },
   "outputs": [],
   "source": [
    "selected_train_data = train_data[selected_features]"
   ]
  },
  {
   "cell_type": "markdown",
   "metadata": {
    "_cell_guid": "ebbd9959-833c-43f9-803c-220526f6e5a6",
    "_uuid": "80c55cefbe2a355e16732ce02651b72da0f1dfa0",
    "collapsed": true
   },
   "source": [
    "### i have tried to find the correlation between the selected features and the \"sale price\""
   ]
  },
  {
   "cell_type": "code",
   "execution_count": 22,
   "metadata": {
    "_cell_guid": "80a95258-e6e3-4b4d-8317-777fa4cf8aa6",
    "_uuid": "30756e819d1e1e8dbe44831eca473432a3d21ec9"
   },
   "outputs": [],
   "source": [
    "#scatterplot\n",
    "# FIRST-AUTHOR: remove plotting\n",
    "# sns.set()\n",
    "cols = ['SalePrice', 'OverallQual', 'GrLivArea', 'GarageArea', 'TotalBsmtSF', 'FullBath', 'OpenPorchSF','BsmtFinSF1']\n",
    "# FIRST-AUTHOR: remove plotting\n",
    "# sns.pairplot(selected_train_data[cols], size = 2.5)\n",
    "# plt.show();\n",
    "_ = selected_train_data[cols]"
   ]
  },
  {
   "cell_type": "markdown",
   "metadata": {
    "_cell_guid": "d428cc79-6fb8-473a-8d3e-ae9ed9a882ba",
    "_uuid": "8889125e1c0f5bf528da0ed706def19401e51392"
   },
   "source": [
    "## we can see that some of the features are linearly dependent while the others are not linearly dependent\n",
    "- with advance knowledge of data presentation and conversion of scale we can get a lot of insights from the above plots\n",
    "- **as i have the limit knowledge of data interpretation and statistics as of now, i could not get more insight from this visualisation** "
   ]
  },
  {
   "cell_type": "code",
   "execution_count": 23,
   "metadata": {
    "_cell_guid": "a272f049-d203-408a-94da-b782e7e0ec8e",
    "_uuid": "4e2a4320c1a71461b2926ba1fb2626cf8f2d48c3"
   },
   "outputs": [
    {
     "data": {
      "text/html": [
       "<div>\n",
       "<style scoped>\n",
       "    .dataframe tbody tr th:only-of-type {\n",
       "        vertical-align: middle;\n",
       "    }\n",
       "\n",
       "    .dataframe tbody tr th {\n",
       "        vertical-align: top;\n",
       "    }\n",
       "\n",
       "    .dataframe thead th {\n",
       "        text-align: right;\n",
       "    }\n",
       "</style>\n",
       "<table border=\"1\" class=\"dataframe\">\n",
       "  <thead>\n",
       "    <tr style=\"text-align: right;\">\n",
       "      <th></th>\n",
       "      <th>OpenPorchSF</th>\n",
       "      <th>BsmtFinSF1</th>\n",
       "      <th>GarageArea</th>\n",
       "      <th>GrLivArea</th>\n",
       "      <th>OverallQual</th>\n",
       "      <th>TotalBsmtSF</th>\n",
       "      <th>FullBath</th>\n",
       "      <th>SalePrice</th>\n",
       "    </tr>\n",
       "  </thead>\n",
       "  <tbody>\n",
       "    <tr>\n",
       "      <th>0</th>\n",
       "      <td>61</td>\n",
       "      <td>706</td>\n",
       "      <td>548</td>\n",
       "      <td>1710</td>\n",
       "      <td>7</td>\n",
       "      <td>856</td>\n",
       "      <td>2</td>\n",
       "      <td>208500</td>\n",
       "    </tr>\n",
       "    <tr>\n",
       "      <th>1</th>\n",
       "      <td>0</td>\n",
       "      <td>978</td>\n",
       "      <td>460</td>\n",
       "      <td>1262</td>\n",
       "      <td>6</td>\n",
       "      <td>1262</td>\n",
       "      <td>2</td>\n",
       "      <td>181500</td>\n",
       "    </tr>\n",
       "    <tr>\n",
       "      <th>2</th>\n",
       "      <td>42</td>\n",
       "      <td>486</td>\n",
       "      <td>608</td>\n",
       "      <td>1786</td>\n",
       "      <td>7</td>\n",
       "      <td>920</td>\n",
       "      <td>2</td>\n",
       "      <td>223500</td>\n",
       "    </tr>\n",
       "    <tr>\n",
       "      <th>3</th>\n",
       "      <td>35</td>\n",
       "      <td>216</td>\n",
       "      <td>642</td>\n",
       "      <td>1717</td>\n",
       "      <td>7</td>\n",
       "      <td>756</td>\n",
       "      <td>1</td>\n",
       "      <td>140000</td>\n",
       "    </tr>\n",
       "    <tr>\n",
       "      <th>4</th>\n",
       "      <td>84</td>\n",
       "      <td>655</td>\n",
       "      <td>836</td>\n",
       "      <td>2198</td>\n",
       "      <td>8</td>\n",
       "      <td>1145</td>\n",
       "      <td>2</td>\n",
       "      <td>250000</td>\n",
       "    </tr>\n",
       "  </tbody>\n",
       "</table>\n",
       "</div>"
      ],
      "text/plain": [
       "   OpenPorchSF  BsmtFinSF1  GarageArea  GrLivArea  OverallQual  TotalBsmtSF  \\\n",
       "0           61         706         548       1710            7          856   \n",
       "1            0         978         460       1262            6         1262   \n",
       "2           42         486         608       1786            7          920   \n",
       "3           35         216         642       1717            7          756   \n",
       "4           84         655         836       2198            8         1145   \n",
       "\n",
       "   FullBath  SalePrice  \n",
       "0         2     208500  \n",
       "1         2     181500  \n",
       "2         2     223500  \n",
       "3         1     140000  \n",
       "4         2     250000  "
      ]
     },
     "execution_count": 23,
     "metadata": {},
     "output_type": "execute_result"
    }
   ],
   "source": [
    "selected_train_data.head()"
   ]
  },
  {
   "cell_type": "markdown",
   "metadata": {
    "_cell_guid": "f3e1045a-3a23-4113-b7d0-8a5e8ce1962d",
    "_uuid": "3580a8dd08db43a99bc2be549e4e11befbb6ed16"
   },
   "source": [
    "### i have scaled the data so that the magnitude of one feature should not dominate the others while training our model"
   ]
  },
  {
   "cell_type": "code",
   "execution_count": 24,
   "metadata": {
    "_cell_guid": "f20f2b88-7350-46d9-b4b4-0caf606e1790",
    "_uuid": "1755b302e2fede366a2cb6332a367dfe7938fba5"
   },
   "outputs": [],
   "source": [
    "# FIRST-AUTHOR: remove ML code\n",
    "# Scaled_selected_train_data  = scale(selected_train_data)"
   ]
  },
  {
   "cell_type": "code",
   "execution_count": 25,
   "metadata": {
    "_cell_guid": "3299078f-5b87-4d20-a8d4-c12f8fe8fcc3",
    "_uuid": "5cb8a0109f8b3274effa1172ed1767fb83e74654"
   },
   "outputs": [],
   "source": [
    "# FIRST-AUTHOR: remove ML code\n",
    "# Scaled_selected_train_data[:5,:]"
   ]
  },
  {
   "cell_type": "markdown",
   "metadata": {
    "_cell_guid": "e8de9b3f-50a8-47e3-b32c-927151f82bb1",
    "_uuid": "9a5c88d8406bc01edc9cedb711462a4b5395245d"
   },
   "source": [
    "### to train our model we have to separate the sale-price and the other features"
   ]
  },
  {
   "cell_type": "code",
   "execution_count": 26,
   "metadata": {
    "_cell_guid": "c168d54c-2533-48bb-bddb-381b18fea668",
    "_uuid": "b28d6ab0d762a2445ca138a1a05f87b22834ed6c"
   },
   "outputs": [],
   "source": [
    "X = selected_train_data[['OpenPorchSF','BsmtFinSF1','GarageArea','GrLivArea','OverallQual','TotalBsmtSF','FullBath']]\n",
    "# FIRST-AUTHOR: remove ML code\n",
    "# X=scale(X)"
   ]
  },
  {
   "cell_type": "code",
   "execution_count": 27,
   "metadata": {
    "_cell_guid": "9adc9728-348c-4ab4-832f-d03a46ecd5da",
    "_uuid": "866a4591d905404fa85a6062ad7008ecc723926f"
   },
   "outputs": [
    {
     "data": {
      "text/plain": [
       "0    208500\n",
       "1    181500\n",
       "2    223500\n",
       "3    140000\n",
       "4    250000\n",
       "Name: SalePrice, dtype: int64"
      ]
     },
     "execution_count": 27,
     "metadata": {},
     "output_type": "execute_result"
    }
   ],
   "source": [
    "Y=selected_train_data['SalePrice']\n",
    "Y.head()"
   ]
  },
  {
   "cell_type": "markdown",
   "metadata": {
    "_cell_guid": "efbbcd3b-c18c-4315-b411-12aad73d3c52",
    "_uuid": "b671e457b8c2fb71cf92d348b6d9b0b3c7da55a8",
    "collapsed": true
   },
   "source": [
    "### we split our data into **training and test data**"
   ]
  },
  {
   "cell_type": "code",
   "execution_count": 28,
   "metadata": {
    "_cell_guid": "2af08b96-8137-4d0e-b1ca-5f70a2bb585e",
    "_uuid": "7f127dccfd7f8a171ef56f238377bfc7678ab51c"
   },
   "outputs": [],
   "source": [
    "# FIRST-AUTHOR: remove ML code\n",
    "# X_train, X_test, y_train, y_test = train_test_split(X, Y, test_size=0.33, random_state=324)"
   ]
  },
  {
   "cell_type": "markdown",
   "metadata": {
    "_cell_guid": "9e13a24b-b5fb-4ff6-96f8-c3918853bfe8",
    "_uuid": "fe0e5af127db49e9eea50dd387889222216a898d"
   },
   "source": [
    "### we choose the linear regression model without normalization to make our model"
   ]
  },
  {
   "cell_type": "code",
   "execution_count": 29,
   "metadata": {
    "_cell_guid": "7d6566d0-16f9-4db8-a8e3-52e84fb54b70",
    "_uuid": "297b5a2e3b717a1ceaa4d1ee03a739e5b4621836"
   },
   "outputs": [],
   "source": [
    "# FIRST-AUTHOR: remove ML code\n",
    "# regressor = LinearRegression(normalize=False)\n",
    "# regressor.fit(X_train, y_train)"
   ]
  },
  {
   "cell_type": "markdown",
   "metadata": {
    "_cell_guid": "6a7177fe-4e03-41e8-9ae3-d58295a5ca17",
    "_uuid": "922857a2a2511c707654f46d898b88c0ddbb3da6"
   },
   "source": [
    "### we make the prediction on hte test set so that it can be validated afterwards"
   ]
  },
  {
   "cell_type": "code",
   "execution_count": 30,
   "metadata": {
    "_cell_guid": "cd19dd9f-d3cb-44ed-b0d2-77566195bb0d",
    "_uuid": "b773c1dee61843b3a1a6c9bbcf649c81bd25a51c"
   },
   "outputs": [],
   "source": [
    "# FIRST-AUTHOR: remove ML code\n",
    "# y_prediction = regressor.predict(X_test)\n",
    "# y_prediction"
   ]
  },
  {
   "cell_type": "markdown",
   "metadata": {
    "_cell_guid": "39b2a8a4-15ee-466a-90eb-7d285e95e61f",
    "_uuid": "c9b8b056029854111f4a72b2780bc63b79dee6b9"
   },
   "source": [
    "### we calculate the RMSE value of our prediction and the test data"
   ]
  },
  {
   "cell_type": "code",
   "execution_count": 31,
   "metadata": {
    "_cell_guid": "168fa8b2-9463-425e-a93a-bc97330c9c88",
    "_uuid": "527eb8caf4cded779824611433d66d7c686c4c7c"
   },
   "outputs": [],
   "source": [
    "# FIRST-AUTHOR: remove ML code\n",
    "# RMSE = sqrt(mean_squared_error(y_true = y_test, y_pred = y_prediction))"
   ]
  },
  {
   "cell_type": "code",
   "execution_count": 32,
   "metadata": {
    "_cell_guid": "551b486c-2bb1-44d1-a250-26fbbf8f174c",
    "_uuid": "4dc66025c19f9d1e4bdc6615447e598c80753a47"
   },
   "outputs": [],
   "source": [
    "# FIRST-AUTHOR: remove ML code\n",
    "# print(RMSE)\n",
    "# y_test.shape"
   ]
  },
  {
   "cell_type": "markdown",
   "metadata": {
    "_cell_guid": "30198be4-e420-4bc2-a03f-a88fa3a506d8",
    "_uuid": "26fbd73964cbc3518ae61156a04b6ba167161eaf"
   },
   "source": [
    "### **though the prediction have very large error which is because of limited knowledge of Machine Learning algorithms and i will improve upon this prediction as i grow with the upcoming courses of this MicroMasters**"
   ]
  },
  {
   "cell_type": "markdown",
   "metadata": {
    "_cell_guid": "bb9e6160-720d-417b-9252-a7739d860899",
    "_uuid": "e31a85abb7c0e04819ee2b22d8d392ea79c48f68"
   },
   "source": [
    "### i try the next learning algorithm the **decision Tree**"
   ]
  },
  {
   "cell_type": "code",
   "execution_count": 33,
   "metadata": {
    "_cell_guid": "f8ccc341-9316-48fd-ba3c-16d99da6a6ff",
    "_uuid": "d3f1c681dccfe0b8c948ada326fba88251158a59"
   },
   "outputs": [],
   "source": [
    "\n",
    "# FIRST-AUTHOR: remove ML code\n",
    "# regressor = DecisionTreeRegressor()\n",
    "# regressor.fit(X_train, y_train)"
   ]
  },
  {
   "cell_type": "code",
   "execution_count": 34,
   "metadata": {
    "_cell_guid": "464357c3-3485-438d-9a41-2895c6034e01",
    "_uuid": "d7d2c3bb4330212e06e2e71f6c4ed683c83d752d"
   },
   "outputs": [],
   "source": [
    "# FIRST-AUTHOR: remove ML code\n",
    "# y_prediction = regressor.predict(X_test)\n",
    "# y_prediction"
   ]
  },
  {
   "cell_type": "code",
   "execution_count": 35,
   "metadata": {
    "_cell_guid": "abf179b7-06ee-42c6-a236-d503ba3f9dd6",
    "_uuid": "fe29f14ff99bc82b41de5e9d8c191d61eef653ee"
   },
   "outputs": [],
   "source": [
    "# FIRST-AUTHOR: remove ML code\n",
    "# RMSE = sqrt(mean_squared_error(y_true = y_test, y_pred = y_prediction))"
   ]
  },
  {
   "cell_type": "code",
   "execution_count": 36,
   "metadata": {
    "_cell_guid": "c3861413-d36a-4ae4-8371-f32b105e6904",
    "_uuid": "46bcfa1a7fe967f0ac81c14c76bed79a320abc41"
   },
   "outputs": [],
   "source": [
    "# FIRST-AUTHOR: remove ML code\n",
    "# RMSE"
   ]
  },
  {
   "cell_type": "markdown",
   "metadata": {
    "_cell_guid": "452f88ab-b5a1-4bdf-a481-bfebd7e8c2d7",
    "_uuid": "2be9be77b664ae2a86eb560eac22d341bcdb3d1e",
    "collapsed": true
   },
   "source": [
    "### **the output of the prediction is limited by my knowledge of machine Learning algorithms, the resluts can be further improved** "
   ]
  },
  {
   "cell_type": "markdown",
   "metadata": {
    "_cell_guid": "1633ee3f-5e52-4f26-a934-b07b6d3155b6",
    "_uuid": "6004c2b349b57d35d20521bf2640a24436449499"
   },
   "source": [
    "## finally we can say that the features that have greatest influence on the selling price of the house are"
   ]
  },
  {
   "cell_type": "code",
   "execution_count": 37,
   "metadata": {
    "_cell_guid": "064d03a2-92f3-4994-a182-e9536dc0bef5",
    "_uuid": "8dee4f444573ec3df837cc2215ebde435ed84ffa"
   },
   "outputs": [
    {
     "data": {
      "text/plain": [
       "Index(['OpenPorchSF', 'BsmtFinSF1', 'GarageArea', 'GrLivArea', 'OverallQual',\n",
       "       'TotalBsmtSF', 'FullBath', 'SalePrice'],\n",
       "      dtype='object')"
      ]
     },
     "execution_count": 37,
     "metadata": {},
     "output_type": "execute_result"
    }
   ],
   "source": [
    "selected_train_data.columns"
   ]
  },
  {
   "cell_type": "markdown",
   "metadata": {
    "_cell_guid": "2685f40c-9ac1-42ed-828e-3efd050e9453",
    "_uuid": "1fa8336ddf0ee8ee03145772e97cb1bd5d6910a5"
   },
   "source": [
    "- OpenPorchSF\n",
    "- BsmtFinSF1\n",
    "- GarageArea\n",
    "- GrLivArea\n",
    "- OverallQual\n",
    "- TotslBsmtSF\n",
    "- FullBath\n",
    "\n",
    "## my conclusions do not include the categorical features"
   ]
  },
  {
   "cell_type": "markdown",
   "metadata": {
    "_cell_guid": "307eb5ac-c9f1-4252-b808-eeab8bd5231e",
    "_uuid": "d677755886f0c2015e74a51ca43064c032fc7548"
   },
   "source": [
    "## i have successfully predicted the sale price of house form the given fetures **though with a lot of errors**"
   ]
  },
  {
   "cell_type": "markdown",
   "metadata": {
    "_cell_guid": "a5f51e06-0e27-4975-8704-b1d4d19ba3cd",
    "_uuid": "009478d2854766e6a3df4eee9b8fe8413c900d93"
   },
   "source": [
    "# I thank the lecturers of UCSD and the Kaggle community for helping me to learn all that i could "
   ]
  },
  {
   "cell_type": "code",
   "execution_count": null,
   "metadata": {
    "_cell_guid": "7311531e-65f3-4139-897c-c0f2b58c58c5",
    "_uuid": "d2a601641199be2a409f969e22608b918c51eb4d"
   },
   "outputs": [],
   "source": []
  }
 ],
 "metadata": {
  "kernelspec": {
   "display_name": "Python 3 (ipykernel)",
   "language": "python",
   "name": "python3"
  },
  "language_info": {
   "codemirror_mode": {
    "name": "ipython",
    "version": 3
   },
   "file_extension": ".py",
   "mimetype": "text/x-python",
   "name": "python",
   "nbconvert_exporter": "python",
   "pygments_lexer": "ipython3",
   "version": "3.10.16"
  }
 },
 "nbformat": 4,
 "nbformat_minor": 1
}