{
 "cells": [
  {
   "cell_type": "code",
   "execution_count": null,
   "metadata": {},
   "outputs": [],
   "source": [
    "import os\n",
    "\n",
    "def scale_input_data(scale_factor):\n",
    "  file_bases = ['./input/train_photo_to_biz_ids', './input/train']\n",
    "  for file_base in file_bases:\n",
    "    import pandas as pd\n",
    "    import shutil\n",
    "    if scale_factor == 1.0:\n",
    "      shutil.copyfile(file_base + '.csv', file_base + '.scaled.csv')\n",
    "      continue\n",
    "    df_to_scale = pd.read_csv(file_base + '.csv')\n",
    "    new_num_rows = int(scale_factor * len(df_to_scale))\n",
    "    if scale_factor <= 1.0:\n",
    "      df_to_scale = df_to_scale.iloc[:new_num_rows]\n",
    "    else:\n",
    "      while len(df_to_scale) < new_num_rows:\n",
    "        df_to_scale = pd.concat([df_to_scale, df_to_scale[:min(new_num_rows - len(df_to_scale), len(df_to_scale))]])\n",
    "    df_to_scale.to_csv(file_base + '.scaled.csv', index=False)\n",
    "\n",
    "if 'INPUT_SCALE_FACTOR' in os.environ:\n",
    "  scale_input_data(float(os.environ['INPUT_SCALE_FACTOR']))"
   ]
  },
  {
   "cell_type": "code",
   "execution_count": 1,
   "metadata": {
    "_cell_guid": "352f92f0-4f83-e252-dd4b-f3215e0b1626"
   },
   "outputs": [],
   "source": [
    "# This Python 3 environment comes with many helpful analytics libraries installed\n",
    "# It is defined by the kaggle/python docker image: https://github.com/kaggle/docker-python\n",
    "# For example, here's several helpful packages to load in \n",
    "\n",
    "import numpy as np # linear algebra\n",
    "# import pandas as pd # data processing, CSV file I/O (e.g. pd.read_csv)\n",
    "exec(os.environ['IREWR_IMPORTS'])\n",
    "\n",
    "# Input data files are available in the \"../input/\" directory.\n",
    "# For example, running this (by clicking run or pressing Shift+Enter) will list the files in the input directory\n",
    "\n",
    "# ALEX: remove path printing\n",
    "# from subprocess import check_output\n",
    "# print(check_output([\"ls\", \"../input\"]).decode(\"utf8\"))\n",
    "\n",
    "# Any results you write to the current directory are saved as output.\n",
    "\n"
   ]
  },
  {
   "cell_type": "code",
   "execution_count": 2,
   "metadata": {
    "_cell_guid": "f9bd48e1-52c0-2e39-d700-58c6dab42f05"
   },
   "outputs": [],
   "source": [
    "# ALEX: remove plotting\n",
    "# import matplotlib.pyplot as plt\n",
    "# %matplotlib inline\n",
    "# plt.rcParams['figure.figsize'] = (10.0, 8.0) # set default size of plots"
   ]
  },
  {
   "cell_type": "code",
   "execution_count": 3,
   "metadata": {
    "_cell_guid": "017fb0db-0735-e911-d7e5-c3dd4cb1d95e"
   },
   "outputs": [],
   "source": [
    "train_photos = pd.read_csv('./input/train_photo_to_biz_ids.scaled.csv')\n"
   ]
  },
  {
   "cell_type": "code",
   "execution_count": 4,
   "metadata": {
    "_cell_guid": "708f445f-76f8-9632-e5b8-00fdc7393963"
   },
   "outputs": [
    {
     "name": "stdout",
     "output_type": "stream",
     "text": [
      "204149.jpg\n"
     ]
    }
   ],
   "source": [
    "# ALEX: remove images\n",
    "# import os\n",
    "print(''.join([str(train_photos.photo_id[0]),'.jpg']))\n",
    "\n",
    "# ALEX: remove images\n",
    "# from PIL import Image\n",
    "# im = Image.open(os.path.join('./input/','train_photos',''.join([str(train_photos.photo_id[5]),'.jpg'])))\n",
    "# plt.imshow(im)\n",
    "_ = str(train_photos.photo_id[5])\n",
    "\n",
    "\n",
    "#0: good_for_lunch\n",
    "#1: good_for_dinner\n",
    "#2: takes_reservations\n",
    "#3: outdoor_seating\n",
    "#4: restaurant_is_expensive\n",
    "#5: has_alcohol\n",
    "#6: has_table_service\n",
    "#7: ambience_is_classy\n",
    "#8: good_for_kids"
   ]
  },
  {
   "cell_type": "code",
   "execution_count": 5,
   "metadata": {
    "_cell_guid": "c7411f48-24b8-5085-f65c-54a8551f7c52"
   },
   "outputs": [
    {
     "data": {
      "text/plain": [
       "['business_id', 'labels']"
      ]
     },
     "execution_count": 5,
     "metadata": {},
     "output_type": "execute_result"
    }
   ],
   "source": [
    "train_attributes = pd.read_csv('./input/train.scaled.csv')\n",
    "\n",
    "list(train_attributes)"
   ]
  },
  {
   "cell_type": "code",
   "execution_count": 6,
   "metadata": {
    "_cell_guid": "3f39a59e-7ee5-d9fb-b9de-5dc90ed894fd"
   },
   "outputs": [],
   "source": [
    "train_attributes['labels_list'] = train_attributes['labels'].str.split(' ')\n",
    "train_attributes['outdoor'] = train_attributes['labels'].str.contains('3')\n",
    "outdoor_businesses = train_attributes[train_attributes.outdoor==True].business_id.tolist()\n",
    "outdoor_photos = train_photos[train_photos.business_id.isin(outdoor_businesses)].photo_id.tolist()"
   ]
  },
  {
   "cell_type": "code",
   "execution_count": 7,
   "metadata": {
    "_cell_guid": "806585dc-5bab-0edd-fd5b-fc5d74e15201"
   },
   "outputs": [],
   "source": [
    "num_images_for_show = 5\n",
    "\n",
    "photos_to_show = np.random.choice(outdoor_photos,num_images_for_show**2)\n",
    "\n",
    "for x in range(num_images_for_show ** 2):\n",
    "        \n",
    "# ALEX: remove images\n",
    "#         plt.subplot(num_images_for_show, num_images_for_show, x+1)\n",
    "#         im = Image.open(os.path.join('./input/','train_photos',''.join([str(photos_to_show[x]),'.jpg'])))\n",
    "#         plt.imshow(im)\n",
    "#         plt.axis('off')\n",
    "    _ = str(photos_to_show[x])"
   ]
  },
  {
   "cell_type": "code",
   "execution_count": 8,
   "metadata": {
    "_cell_guid": "acd6dd76-6b67-8239-5c9d-33b310900ce8"
   },
   "outputs": [],
   "source": [
    "#0: good_for_lunch\n",
    "#1: good_for_dinner\n",
    "#2: takes_reservations\n",
    "#3: outdoor_seating\n",
    "#4: restaurant_is_expensive\n",
    "#5: has_alcohol\n",
    "#6: has_table_service\n",
    "#7: ambience_is_classy\n",
    "#8: good_for_kids\n",
    "\n",
    "train_attributes['labels_list'] = train_attributes['labels'].str.split(' ')\n",
    "train_attributes['kids'] = train_attributes['labels'].str.contains('8')\n",
    "kids_businesses = train_attributes[train_attributes.kids==True].business_id.tolist()\n",
    "kidsRes_photos = train_photos[train_photos.business_id.isin(kids_businesses)].photo_id.tolist()"
   ]
  },
  {
   "cell_type": "code",
   "execution_count": 9,
   "metadata": {
    "_cell_guid": "1bc33182-7969-73b7-b1a7-03b4e8224161"
   },
   "outputs": [],
   "source": [
    "num_images_for_show = 5\n",
    "\n",
    "photos_to_show = np.random.choice(kidsRes_photos,num_images_for_show**2)\n",
    "\n",
    "for x in range(num_images_for_show ** 2):\n",
    "        \n",
    "# ALEX: remove images\n",
    "#         plt.subplot(num_images_for_show, num_images_for_show, x+1)\n",
    "#         im = Image.open(os.path.join('./input/','train_photos',''.join([str(photos_to_show[x]),'.jpg'])))\n",
    "#         plt.imshow(im)\n",
    "#         plt.axis('off')\n",
    "    _ = str(photos_to_show[x])"
   ]
  },
  {
   "cell_type": "code",
   "execution_count": 10,
   "metadata": {
    "_cell_guid": "fbecdae1-dd60-4efa-82b4-6a868204bf26"
   },
   "outputs": [],
   "source": [
    "#create a new dataset\n"
   ]
  }
 ],
 "metadata": {
  "_change_revision": 4,
  "_is_fork": false,
  "kernelspec": {
   "display_name": "Python 3 (ipykernel)",
   "language": "python",
   "name": "python3"
  },
  "language_info": {
   "codemirror_mode": {
    "name": "ipython",
    "version": 3
   },
   "file_extension": ".py",
   "mimetype": "text/x-python",
   "name": "python",
   "nbconvert_exporter": "python",
   "pygments_lexer": "ipython3",
   "version": "3.10.16"
  }
 },
 "nbformat": 4,
 "nbformat_minor": 1
}
