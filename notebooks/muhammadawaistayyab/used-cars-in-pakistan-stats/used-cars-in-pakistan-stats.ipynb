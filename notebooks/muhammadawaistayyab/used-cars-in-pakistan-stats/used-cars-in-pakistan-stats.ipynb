{
 "cells": [
  {
   "cell_type": "code",
   "execution_count": null,
   "id": "04eb40cb",
   "metadata": {},
   "outputs": [],
   "source": [
    "import os\n",
    "\n",
    "def scale_input_data(scale_factor):\n",
    "  file_bases = ['./input/used_cars_Pakistan']\n",
    "  for file_base in file_bases:\n",
    "    import pandas as pd\n",
    "    import shutil\n",
    "    if scale_factor == 1.0:\n",
    "      shutil.copyfile(file_base + '.csv', file_base + '.scaled.csv')\n",
    "      continue\n",
    "    df_to_scale = pd.read_csv(file_base + '.csv')\n",
    "    new_num_rows = int(scale_factor * len(df_to_scale))\n",
    "    if scale_factor <= 1.0:\n",
    "      df_to_scale = df_to_scale.iloc[:new_num_rows]\n",
    "    else:\n",
    "      while len(df_to_scale) < new_num_rows:\n",
    "        df_to_scale = pd.concat([df_to_scale, df_to_scale[:min(new_num_rows - len(df_to_scale), len(df_to_scale))]])\n",
    "    df_to_scale.to_csv(file_base + '.scaled.csv', index=False)\n",
    "\n",
    "if 'INPUT_SCALE_FACTOR' in os.environ:\n",
    "  scale_input_data(float(os.environ['INPUT_SCALE_FACTOR']))"
   ]
  },
  {
   "cell_type": "code",
   "execution_count": 1,
   "id": "8f4d1ef7",
   "metadata": {
    "_cell_guid": "b1076dfc-b9ad-4769-8c92-a6c4dae69d19",
    "_uuid": "8f2839f25d086af736a60e9eeb907d3b93b6e0e5",
    "execution": {
     "iopub.execute_input": "2023-09-23T17:18:33.686173Z",
     "iopub.status.busy": "2023-09-23T17:18:33.685717Z",
     "iopub.status.idle": "2023-09-23T17:18:35.521912Z",
     "shell.execute_reply": "2023-09-23T17:18:35.520737Z"
    },
    "papermill": {
     "duration": 1.845455,
     "end_time": "2023-09-23T17:18:35.524600",
     "exception": false,
     "start_time": "2023-09-23T17:18:33.679145",
     "status": "completed"
    },
    "tags": []
   },
   "outputs": [],
   "source": [
    "# import pandas as pd\n",
    "exec(os.environ['IREWR_IMPORTS'])\n",
    "import numpy as np\n",
    "\n",
    "# FIRST-AUTHOR: remove plotting code\n",
    "# pd.plotting.register_matplotlib_converters()\n",
    "# import matplotlib.pyplot as plt\n",
    "# %matplotlib inline\n",
    "# import seaborn as sns"
   ]
  },
  {
   "cell_type": "code",
   "execution_count": 2,
   "id": "8fbe9c23",
   "metadata": {
    "execution": {
     "iopub.execute_input": "2023-09-23T17:18:35.536527Z",
     "iopub.status.busy": "2023-09-23T17:18:35.535972Z",
     "iopub.status.idle": "2023-09-23T17:18:35.734855Z",
     "shell.execute_reply": "2023-09-23T17:18:35.733561Z"
    },
    "papermill": {
     "duration": 0.20649,
     "end_time": "2023-09-23T17:18:35.737141",
     "exception": false,
     "start_time": "2023-09-23T17:18:35.530651",
     "status": "completed"
    },
    "tags": []
   },
   "outputs": [
    {
     "data": {
      "text/html": [
       "<div>\n",
       "<style scoped>\n",
       "    .dataframe tbody tr th:only-of-type {\n",
       "        vertical-align: middle;\n",
       "    }\n",
       "\n",
       "    .dataframe tbody tr th {\n",
       "        vertical-align: top;\n",
       "    }\n",
       "\n",
       "    .dataframe thead th {\n",
       "        text-align: right;\n",
       "    }\n",
       "</style>\n",
       "<table border=\"1\" class=\"dataframe\">\n",
       "  <thead>\n",
       "    <tr style=\"text-align: right;\">\n",
       "      <th></th>\n",
       "      <th>make</th>\n",
       "      <th>model</th>\n",
       "      <th>city</th>\n",
       "      <th>year</th>\n",
       "      <th>mileage</th>\n",
       "      <th>Engine_displacement</th>\n",
       "      <th>Battery</th>\n",
       "      <th>Price_Rs</th>\n",
       "    </tr>\n",
       "  </thead>\n",
       "  <tbody>\n",
       "    <tr>\n",
       "      <th>0</th>\n",
       "      <td>Suzuki</td>\n",
       "      <td>Alto</td>\n",
       "      <td>Lahore</td>\n",
       "      <td>2019</td>\n",
       "      <td>45744</td>\n",
       "      <td>660.0</td>\n",
       "      <td>NaN</td>\n",
       "      <td>3550000</td>\n",
       "    </tr>\n",
       "    <tr>\n",
       "      <th>1</th>\n",
       "      <td>Suzuki</td>\n",
       "      <td>Wagon</td>\n",
       "      <td>Lahore</td>\n",
       "      <td>2019</td>\n",
       "      <td>17583</td>\n",
       "      <td>660.0</td>\n",
       "      <td>NaN</td>\n",
       "      <td>3850000</td>\n",
       "    </tr>\n",
       "    <tr>\n",
       "      <th>2</th>\n",
       "      <td>Suzuki</td>\n",
       "      <td>Wagon</td>\n",
       "      <td>Lahore</td>\n",
       "      <td>2019</td>\n",
       "      <td>64085</td>\n",
       "      <td>660.0</td>\n",
       "      <td>NaN</td>\n",
       "      <td>3890000</td>\n",
       "    </tr>\n",
       "    <tr>\n",
       "      <th>3</th>\n",
       "      <td>Suzuki</td>\n",
       "      <td>Wagon</td>\n",
       "      <td>Lahore</td>\n",
       "      <td>2019</td>\n",
       "      <td>71281</td>\n",
       "      <td>660.0</td>\n",
       "      <td>NaN</td>\n",
       "      <td>3990000</td>\n",
       "    </tr>\n",
       "    <tr>\n",
       "      <th>4</th>\n",
       "      <td>Toyota</td>\n",
       "      <td>Aqua</td>\n",
       "      <td>Lahore</td>\n",
       "      <td>2020</td>\n",
       "      <td>19950</td>\n",
       "      <td>1500.0</td>\n",
       "      <td>NaN</td>\n",
       "      <td>3990000</td>\n",
       "    </tr>\n",
       "    <tr>\n",
       "      <th>...</th>\n",
       "      <td>...</td>\n",
       "      <td>...</td>\n",
       "      <td>...</td>\n",
       "      <td>...</td>\n",
       "      <td>...</td>\n",
       "      <td>...</td>\n",
       "      <td>...</td>\n",
       "      <td>...</td>\n",
       "    </tr>\n",
       "    <tr>\n",
       "      <th>86115</th>\n",
       "      <td>Suzuki</td>\n",
       "      <td>Bolan</td>\n",
       "      <td>Rawalpindi</td>\n",
       "      <td>2011</td>\n",
       "      <td>60000</td>\n",
       "      <td>800.0</td>\n",
       "      <td>NaN</td>\n",
       "      <td>985000</td>\n",
       "    </tr>\n",
       "    <tr>\n",
       "      <th>86116</th>\n",
       "      <td>Toyota</td>\n",
       "      <td>Hiace</td>\n",
       "      <td>Lahore</td>\n",
       "      <td>2009</td>\n",
       "      <td>300000</td>\n",
       "      <td>2700.0</td>\n",
       "      <td>NaN</td>\n",
       "      <td>3200000</td>\n",
       "    </tr>\n",
       "    <tr>\n",
       "      <th>86117</th>\n",
       "      <td>Suzuki</td>\n",
       "      <td>Bolan</td>\n",
       "      <td>Islamabad</td>\n",
       "      <td>2017</td>\n",
       "      <td>44740</td>\n",
       "      <td>800.0</td>\n",
       "      <td>NaN</td>\n",
       "      <td>1750000</td>\n",
       "    </tr>\n",
       "    <tr>\n",
       "      <th>86118</th>\n",
       "      <td>Toyota</td>\n",
       "      <td>Passo</td>\n",
       "      <td>Karachi</td>\n",
       "      <td>2010</td>\n",
       "      <td>94890</td>\n",
       "      <td>1000.0</td>\n",
       "      <td>NaN</td>\n",
       "      <td>2300000</td>\n",
       "    </tr>\n",
       "    <tr>\n",
       "      <th>86119</th>\n",
       "      <td>Suzuki</td>\n",
       "      <td>Cultus</td>\n",
       "      <td>Lahore</td>\n",
       "      <td>2008</td>\n",
       "      <td>60800</td>\n",
       "      <td>1000.0</td>\n",
       "      <td>NaN</td>\n",
       "      <td>990000</td>\n",
       "    </tr>\n",
       "  </tbody>\n",
       "</table>\n",
       "<p>86120 rows \u00d7 8 columns</p>\n",
       "</div>"
      ],
      "text/plain": [
       "         make   model        city  year  mileage  Engine_displacement  \\\n",
       "0      Suzuki    Alto      Lahore  2019    45744                660.0   \n",
       "1      Suzuki   Wagon      Lahore  2019    17583                660.0   \n",
       "2      Suzuki   Wagon      Lahore  2019    64085                660.0   \n",
       "3      Suzuki   Wagon      Lahore  2019    71281                660.0   \n",
       "4      Toyota    Aqua      Lahore  2020    19950               1500.0   \n",
       "...       ...     ...         ...   ...      ...                  ...   \n",
       "86115  Suzuki   Bolan  Rawalpindi  2011    60000                800.0   \n",
       "86116  Toyota   Hiace      Lahore  2009   300000               2700.0   \n",
       "86117  Suzuki   Bolan   Islamabad  2017    44740                800.0   \n",
       "86118  Toyota   Passo     Karachi  2010    94890               1000.0   \n",
       "86119  Suzuki  Cultus      Lahore  2008    60800               1000.0   \n",
       "\n",
       "       Battery  Price_Rs  \n",
       "0          NaN   3550000  \n",
       "1          NaN   3850000  \n",
       "2          NaN   3890000  \n",
       "3          NaN   3990000  \n",
       "4          NaN   3990000  \n",
       "...        ...       ...  \n",
       "86115      NaN    985000  \n",
       "86116      NaN   3200000  \n",
       "86117      NaN   1750000  \n",
       "86118      NaN   2300000  \n",
       "86119      NaN    990000  \n",
       "\n",
       "[86120 rows x 8 columns]"
      ]
     },
     "execution_count": 2,
     "metadata": {},
     "output_type": "execute_result"
    }
   ],
   "source": [
    "data =  pd.read_csv('./input/used_cars_Pakistan.scaled.csv',index_col=0)\n",
    "data"
   ]
  },
  {
   "cell_type": "code",
   "execution_count": 3,
   "id": "c91fc060",
   "metadata": {
    "execution": {
     "iopub.execute_input": "2023-09-23T17:18:35.747408Z",
     "iopub.status.busy": "2023-09-23T17:18:35.746664Z",
     "iopub.status.idle": "2023-09-23T17:18:35.760823Z",
     "shell.execute_reply": "2023-09-23T17:18:35.759655Z"
    },
    "papermill": {
     "duration": 0.021637,
     "end_time": "2023-09-23T17:18:35.762972",
     "exception": false,
     "start_time": "2023-09-23T17:18:35.741335",
     "status": "completed"
    },
    "tags": []
   },
   "outputs": [
    {
     "data": {
      "text/plain": [
       "Toyota        28109\n",
       "Suzuki        23672\n",
       "Honda         18190\n",
       "Daihatsu       3538\n",
       "KIA            1992\n",
       "Nissan         1750\n",
       "Hyundai        1662\n",
       "Mitsubishi     1179\n",
       "Changan        1028\n",
       "Mercedes        762\n",
       "Name: make, dtype: int64"
      ]
     },
     "execution_count": 3,
     "metadata": {},
     "output_type": "execute_result"
    }
   ],
   "source": [
    "data.make.value_counts().head(10)"
   ]
  },
  {
   "cell_type": "code",
   "execution_count": 4,
   "id": "6ada8b38",
   "metadata": {
    "execution": {
     "iopub.execute_input": "2023-09-23T17:18:35.773307Z",
     "iopub.status.busy": "2023-09-23T17:18:35.772966Z",
     "iopub.status.idle": "2023-09-23T17:18:35.787687Z",
     "shell.execute_reply": "2023-09-23T17:18:35.786702Z"
    },
    "papermill": {
     "duration": 0.022461,
     "end_time": "2023-09-23T17:18:35.789794",
     "exception": false,
     "start_time": "2023-09-23T17:18:35.767333",
     "status": "completed"
    },
    "tags": []
   },
   "outputs": [
    {
     "data": {
      "text/plain": [
       "Corolla    13912\n",
       "Civic       9179\n",
       "City        5653\n",
       "Mehran      4855\n",
       "Cultus      4721\n",
       "Alto        4668\n",
       "Wagon       2530\n",
       "Vitz        2115\n",
       "Swift       1625\n",
       "Yaris       1499\n",
       "Name: model, dtype: int64"
      ]
     },
     "execution_count": 4,
     "metadata": {},
     "output_type": "execute_result"
    }
   ],
   "source": [
    "data.model.value_counts().head(10)"
   ]
  },
  {
   "cell_type": "code",
   "execution_count": 5,
   "id": "f0977059",
   "metadata": {
    "execution": {
     "iopub.execute_input": "2023-09-23T17:18:35.800369Z",
     "iopub.status.busy": "2023-09-23T17:18:35.800017Z",
     "iopub.status.idle": "2023-09-23T17:18:35.814576Z",
     "shell.execute_reply": "2023-09-23T17:18:35.813588Z"
    },
    "papermill": {
     "duration": 0.022491,
     "end_time": "2023-09-23T17:18:35.816741",
     "exception": false,
     "start_time": "2023-09-23T17:18:35.794250",
     "status": "completed"
    },
    "tags": []
   },
   "outputs": [
    {
     "data": {
      "text/plain": [
       "Lahore        19354\n",
       "Karachi       16278\n",
       "Islamabad     13105\n",
       "Rawalpindi     6021\n",
       "Peshawar       3835\n",
       "Faisalabad     3167\n",
       "Multan         2554\n",
       "Gujranwala     2204\n",
       "Sialkot        1419\n",
       "Sargodha        935\n",
       "Name: city, dtype: int64"
      ]
     },
     "execution_count": 5,
     "metadata": {},
     "output_type": "execute_result"
    }
   ],
   "source": [
    "data.city.value_counts().head(10)"
   ]
  },
  {
   "cell_type": "code",
   "execution_count": 6,
   "id": "af393f16",
   "metadata": {
    "execution": {
     "iopub.execute_input": "2023-09-23T17:18:35.827695Z",
     "iopub.status.busy": "2023-09-23T17:18:35.827291Z",
     "iopub.status.idle": "2023-09-23T17:18:35.838164Z",
     "shell.execute_reply": "2023-09-23T17:18:35.836926Z"
    },
    "papermill": {
     "duration": 0.018705,
     "end_time": "2023-09-23T17:18:35.840287",
     "exception": false,
     "start_time": "2023-09-23T17:18:35.821582",
     "status": "completed"
    },
    "tags": []
   },
   "outputs": [
    {
     "data": {
      "text/plain": [
       "2021    7097\n",
       "2022    6814\n",
       "2018    6079\n",
       "2017    5135\n",
       "2019    4624\n",
       "2020    4499\n",
       "2016    3865\n",
       "2015    3861\n",
       "2014    3574\n",
       "2007    3452\n",
       "Name: year, dtype: int64"
      ]
     },
     "execution_count": 6,
     "metadata": {},
     "output_type": "execute_result"
    }
   ],
   "source": [
    "data.year.value_counts().head(10)"
   ]
  },
  {
   "cell_type": "code",
   "execution_count": 7,
   "id": "19dcd4a3",
   "metadata": {
    "execution": {
     "iopub.execute_input": "2023-09-23T17:18:35.851368Z",
     "iopub.status.busy": "2023-09-23T17:18:35.851013Z",
     "iopub.status.idle": "2023-09-23T17:18:35.860488Z",
     "shell.execute_reply": "2023-09-23T17:18:35.859733Z"
    },
    "papermill": {
     "duration": 0.017524,
     "end_time": "2023-09-23T17:18:35.862436",
     "exception": false,
     "start_time": "2023-09-23T17:18:35.844912",
     "status": "completed"
    },
    "tags": []
   },
   "outputs": [
    {
     "data": {
      "text/plain": [
       "1300.0    14399\n",
       "1000.0    13431\n",
       "1500.0     9657\n",
       "1800.0     8759\n",
       "660.0      8529\n",
       "Name: Engine_displacement, dtype: int64"
      ]
     },
     "execution_count": 7,
     "metadata": {},
     "output_type": "execute_result"
    }
   ],
   "source": [
    "data.Engine_displacement.value_counts().head(5)"
   ]
  },
  {
   "cell_type": "code",
   "execution_count": 8,
   "id": "cb42b71a",
   "metadata": {
    "execution": {
     "iopub.execute_input": "2023-09-23T17:18:35.873910Z",
     "iopub.status.busy": "2023-09-23T17:18:35.873538Z",
     "iopub.status.idle": "2023-09-23T17:18:35.882452Z",
     "shell.execute_reply": "2023-09-23T17:18:35.881233Z"
    },
    "papermill": {
     "duration": 0.017142,
     "end_time": "2023-09-23T17:18:35.884456",
     "exception": false,
     "start_time": "2023-09-23T17:18:35.867314",
     "status": "completed"
    },
    "tags": []
   },
   "outputs": [
    {
     "data": {
      "text/plain": [
       "60.0     35\n",
       "80.0     15\n",
       "75.0     15\n",
       "101.0    14\n",
       "120.0    13\n",
       "Name: Battery, dtype: int64"
      ]
     },
     "execution_count": 8,
     "metadata": {},
     "output_type": "execute_result"
    }
   ],
   "source": [
    "data.Battery.value_counts().head()"
   ]
  },
  {
   "cell_type": "code",
   "execution_count": 9,
   "id": "72bae290",
   "metadata": {
    "execution": {
     "iopub.execute_input": "2023-09-23T17:18:35.895969Z",
     "iopub.status.busy": "2023-09-23T17:18:35.895613Z",
     "iopub.status.idle": "2023-09-23T17:18:35.902676Z",
     "shell.execute_reply": "2023-09-23T17:18:35.901623Z"
    },
    "papermill": {
     "duration": 0.015418,
     "end_time": "2023-09-23T17:18:35.904819",
     "exception": false,
     "start_time": "2023-09-23T17:18:35.889401",
     "status": "completed"
    },
    "tags": []
   },
   "outputs": [
    {
     "data": {
      "text/plain": [
       "0.2194612169066419"
      ]
     },
     "execution_count": 9,
     "metadata": {},
     "output_type": "execute_result"
    }
   ],
   "source": [
    "100*(len(data)-data.Battery.isnull().sum())/len(data)"
   ]
  },
  {
   "cell_type": "markdown",
   "id": "bceaecbb",
   "metadata": {
    "papermill": {
     "duration": 0.004598,
     "end_time": "2023-09-23T17:18:35.914408",
     "exception": false,
     "start_time": "2023-09-23T17:18:35.909810",
     "status": "completed"
    },
    "tags": []
   },
   "source": [
    "percent of electric vehicles is only 0.21%"
   ]
  },
  {
   "cell_type": "code",
   "execution_count": 10,
   "id": "b94545ac",
   "metadata": {
    "execution": {
     "iopub.execute_input": "2023-09-23T17:18:35.925788Z",
     "iopub.status.busy": "2023-09-23T17:18:35.925321Z",
     "iopub.status.idle": "2023-09-23T17:18:35.931465Z",
     "shell.execute_reply": "2023-09-23T17:18:35.930741Z"
    },
    "papermill": {
     "duration": 0.014097,
     "end_time": "2023-09-23T17:18:35.933344",
     "exception": false,
     "start_time": "2023-09-23T17:18:35.919247",
     "status": "completed"
    },
    "tags": []
   },
   "outputs": [
    {
     "data": {
      "text/plain": [
       "4173561.160961449"
      ]
     },
     "execution_count": 10,
     "metadata": {},
     "output_type": "execute_result"
    }
   ],
   "source": [
    "data.Price_Rs.mean()"
   ]
  },
  {
   "cell_type": "markdown",
   "id": "78beea77",
   "metadata": {
    "papermill": {
     "duration": 0.004786,
     "end_time": "2023-09-23T17:18:35.943248",
     "exception": false,
     "start_time": "2023-09-23T17:18:35.938462",
     "status": "completed"
    },
    "tags": []
   },
   "source": [
    "average price of car is 41 lakh"
   ]
  },
  {
   "cell_type": "code",
   "execution_count": 11,
   "id": "7c6404a2",
   "metadata": {
    "execution": {
     "iopub.execute_input": "2023-09-23T17:18:35.955139Z",
     "iopub.status.busy": "2023-09-23T17:18:35.954571Z",
     "iopub.status.idle": "2023-09-23T17:18:35.964314Z",
     "shell.execute_reply": "2023-09-23T17:18:35.963204Z"
    },
    "papermill": {
     "duration": 0.018556,
     "end_time": "2023-09-23T17:18:35.966736",
     "exception": false,
     "start_time": "2023-09-23T17:18:35.948180",
     "status": "completed"
    },
    "tags": []
   },
   "outputs": [
    {
     "data": {
      "text/plain": [
       "2800000.0"
      ]
     },
     "execution_count": 11,
     "metadata": {},
     "output_type": "execute_result"
    }
   ],
   "source": [
    "data.Price_Rs.median()"
   ]
  },
  {
   "cell_type": "markdown",
   "id": "6b23f013",
   "metadata": {
    "papermill": {
     "duration": 0.004797,
     "end_time": "2023-09-23T17:18:35.976781",
     "exception": false,
     "start_time": "2023-09-23T17:18:35.971984",
     "status": "completed"
    },
    "tags": []
   },
   "source": [
    "median value of car is 28 lakh"
   ]
  },
  {
   "cell_type": "code",
   "execution_count": null,
   "id": "41e33e08",
   "metadata": {
    "papermill": {
     "duration": 0.004749,
     "end_time": "2023-09-23T17:18:35.986468",
     "exception": false,
     "start_time": "2023-09-23T17:18:35.981719",
     "status": "completed"
    },
    "tags": []
   },
   "outputs": [],
   "source": []
  }
 ],
 "metadata": {
  "kernelspec": {
   "display_name": "Python 3 (ipykernel)",
   "language": "python",
   "name": "python3"
  },
  "language_info": {
   "codemirror_mode": {
    "name": "ipython",
    "version": 3
   },
   "file_extension": ".py",
   "mimetype": "text/x-python",
   "name": "python",
   "nbconvert_exporter": "python",
   "pygments_lexer": "ipython3",
   "version": "3.10.16"
  },
  "papermill": {
   "default_parameters": {},
   "duration": 6.106153,
   "end_time": "2023-09-23T17:18:36.613043",
   "environment_variables": {},
   "exception": null,
   "input_path": "__notebook__.ipynb",
   "output_path": "__notebook__.ipynb",
   "parameters": {},
   "start_time": "2023-09-23T17:18:30.506890",
   "version": "2.4.0"
  }
 },
 "nbformat": 4,
 "nbformat_minor": 5
}