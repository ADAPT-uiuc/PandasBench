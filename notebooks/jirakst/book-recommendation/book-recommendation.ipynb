{
 "cells": [
  {
   "cell_type": "code",
   "execution_count": null,
   "metadata": {},
   "outputs": [],
   "source": [
    "import os\n",
    "\n",
    "def scale_input_data(scale_factor):\n",
    "  file_bases = ['./input/BX-Users', './input/BX-Books', './input/BX-Book-Ratings']\n",
    "  for file_base in file_bases:\n",
    "    import pandas as pd\n",
    "    import shutil\n",
    "    if scale_factor == 1.0:\n",
    "      shutil.copyfile(file_base + '.csv', file_base + '.scaled.csv')\n",
    "      continue\n",
    "    df_to_scale = pd.read_csv(file_base + '.csv', error_bad_lines=False, delimiter=';', encoding = 'ISO-8859-1')\n",
    "    new_num_rows = int(scale_factor * len(df_to_scale))\n",
    "    if scale_factor <= 1.0:\n",
    "      df_to_scale = df_to_scale.iloc[:new_num_rows]\n",
    "    else:\n",
    "      while len(df_to_scale) < new_num_rows:\n",
    "        df_to_scale = pd.concat([df_to_scale, df_to_scale[:min(new_num_rows - len(df_to_scale), len(df_to_scale))]])\n",
    "    df_to_scale.to_csv(file_base + '.scaled.csv', index=False, sep=';', encoding = 'ISO-8859-1')\n",
    "\n",
    "if 'INPUT_SCALE_FACTOR' in os.environ:\n",
    "  scale_input_data(float(os.environ['INPUT_SCALE_FACTOR']))"
   ]
  },
  {
   "cell_type": "markdown",
   "metadata": {},
   "source": [
    "# Introduction"
   ]
  },
  {
   "cell_type": "markdown",
   "metadata": {},
   "source": [
    "**Problem: Book recommendations - \u201eI like Lord of the Rings, what else should I read?\u201c**\n",
    "\n",
    "Goal:\n",
    "\n",
    "- take some data, try some approaches, produce some code, get some results\n",
    "\n",
    "- then come and show us your solution and have a chat around it - show how you think about a specific problem, how you are able to explain what approach you used and why, think about the limitations of the approach and how things could be improved if there was more time, what you think of the results and if they make sense, etc.\n",
    "\n",
    "Philosophy:\n",
    "\n",
    "- the actual result and code are not that important \u2013 the journey there and potential future paths are more important\n",
    "\n",
    "- if you are able to follow-through with some ideas then great, if you just start something and have a clear idea on how to proceed that is also useful\n",
    "\n",
    "- the expectation is that you will spend an evening or two with the task (but there are no bounds to proactivity if you enjoy playing with the problem)\n",
    "\n",
    "Data: - available open dataset: http://www2.informatik.uni-freiburg.de/~cziegler/BX/\n",
    "\n",
    "- alternatively feel free to grab any other relevant data set\n",
    "\n",
    "Tools:\n",
    "\n",
    "- use whatever you are comfortable in (R, Python, Matlab, Java, SQL,\u2026) or feel free to use it as an opportunity to try out a new language\n",
    "\n",
    "- it is not a contest in finding the best black-box library and blindly using it \u2013 own solutions are preferred even if they are simple\n",
    "\n",
    "- how to present: up to you \u2013 slides, walking through code, drawing, \u2026 "
   ]
  },
  {
   "cell_type": "markdown",
   "metadata": {},
   "source": [
    "# Load libraries"
   ]
  },
  {
   "cell_type": "code",
   "execution_count": 1,
   "metadata": {},
   "outputs": [],
   "source": [
    "# Basic\n",
    "import numpy as np \n",
    "# import pandas as pd \n",
    "exec(os.environ['IREWR_IMPORTS'])\n",
    "# ALEX: remove plotting\n",
    "# import seaborn as sns\n",
    "# import matplotlib.pyplot as plt \n",
    "\n",
    "# # System\n",
    "# import warnings\n",
    "# import os\n",
    "# warnings.filterwarnings(\"ignore\")\n",
    "# %matplotlib inline\n",
    "\n",
    "# ALEX: remove path printing\n",
    "# for dirname, _, filenames in os.walk('/kaggle/input'):\n",
    "#     for filename in filenames:\n",
    "#         print(os.path.join(dirname, filename))"
   ]
  },
  {
   "cell_type": "markdown",
   "metadata": {},
   "source": [
    "# Load data"
   ]
  },
  {
   "cell_type": "code",
   "execution_count": 2,
   "metadata": {},
   "outputs": [
    {
     "name": "stderr",
     "output_type": "stream",
     "text": [
      "/tmp/ipykernel_49938/2678319865.py:1: FutureWarning: The error_bad_lines argument has been deprecated and will be removed in a future version. Use on_bad_lines in the future.\n",
      "\n",
      "\n",
      "  users = pd.read_csv('./input/BX-Users.csv', error_bad_lines=False, delimiter=';', encoding = 'ISO-8859-1') #encoding = \"latin-1\"\n"
     ]
    }
   ],
   "source": [
    "users = pd.read_csv('./input/BX-Users.scaled.csv', error_bad_lines=False, delimiter=';', encoding = 'ISO-8859-1') #encoding = \"latin-1\""
   ]
  },
  {
   "cell_type": "code",
   "execution_count": 3,
   "metadata": {},
   "outputs": [
    {
     "name": "stderr",
     "output_type": "stream",
     "text": [
      "/tmp/ipykernel_49938/1260802686.py:1: FutureWarning: The error_bad_lines argument has been deprecated and will be removed in a future version. Use on_bad_lines in the future.\n",
      "\n",
      "\n",
      "  books = pd.read_csv('./input/BX-Books.csv', error_bad_lines=False, delimiter=';', encoding = 'ISO-8859-1') #encoding = \"latin-1\n",
      "Skipping line 6452: expected 8 fields, saw 9\n",
      "Skipping line 43667: expected 8 fields, saw 10\n",
      "Skipping line 51751: expected 8 fields, saw 9\n",
      "\n",
      "Skipping line 92038: expected 8 fields, saw 9\n",
      "Skipping line 104319: expected 8 fields, saw 9\n",
      "Skipping line 121768: expected 8 fields, saw 9\n",
      "\n",
      "Skipping line 144058: expected 8 fields, saw 9\n",
      "Skipping line 150789: expected 8 fields, saw 9\n",
      "Skipping line 157128: expected 8 fields, saw 9\n",
      "Skipping line 180189: expected 8 fields, saw 9\n",
      "Skipping line 185738: expected 8 fields, saw 9\n",
      "\n",
      "Skipping line 209388: expected 8 fields, saw 9\n",
      "Skipping line 220626: expected 8 fields, saw 9\n",
      "Skipping line 227933: expected 8 fields, saw 11\n",
      "Skipping line 228957: expected 8 fields, saw 10\n",
      "Skipping line 245933: expected 8 fields, saw 9\n",
      "Skipping line 251296: expected 8 fields, saw 9\n",
      "Skipping line 259941: expected 8 fields, saw 9\n",
      "Skipping line 261529: expected 8 fields, saw 9\n",
      "\n",
      "/tmp/ipykernel_49938/1260802686.py:1: DtypeWarning: Columns (3) have mixed types. Specify dtype option on import or set low_memory=False.\n",
      "  books = pd.read_csv('./input/BX-Books.csv', error_bad_lines=False, delimiter=';', encoding = 'ISO-8859-1') #encoding = \"latin-1\n"
     ]
    }
   ],
   "source": [
    "books = pd.read_csv('./input/BX-Books.scaled.csv', error_bad_lines=False, delimiter=';', encoding = 'ISO-8859-1') #encoding = \"latin-1"
   ]
  },
  {
   "cell_type": "code",
   "execution_count": 4,
   "metadata": {},
   "outputs": [
    {
     "name": "stderr",
     "output_type": "stream",
     "text": [
      "/tmp/ipykernel_49938/1518381852.py:1: FutureWarning: The error_bad_lines argument has been deprecated and will be removed in a future version. Use on_bad_lines in the future.\n",
      "\n",
      "\n",
      "  ratings = pd.read_csv('./input/BX-Book-Ratings.csv', error_bad_lines=False, delimiter=';', encoding = 'ISO-8859-1')\n"
     ]
    }
   ],
   "source": [
    "ratings = pd.read_csv('./input/BX-Book-Ratings.scaled.csv', error_bad_lines=False, delimiter=';', encoding = 'ISO-8859-1')"
   ]
  },
  {
   "cell_type": "code",
   "execution_count": 5,
   "metadata": {},
   "outputs": [
    {
     "data": {
      "text/plain": [
       "(278858, 3)"
      ]
     },
     "execution_count": 5,
     "metadata": {},
     "output_type": "execute_result"
    }
   ],
   "source": [
    "users.shape"
   ]
  },
  {
   "cell_type": "code",
   "execution_count": 6,
   "metadata": {},
   "outputs": [
    {
     "data": {
      "text/plain": [
       "(271360, 8)"
      ]
     },
     "execution_count": 6,
     "metadata": {},
     "output_type": "execute_result"
    }
   ],
   "source": [
    "books.shape"
   ]
  },
  {
   "cell_type": "code",
   "execution_count": 7,
   "metadata": {},
   "outputs": [
    {
     "data": {
      "text/plain": [
       "(1149780, 3)"
      ]
     },
     "execution_count": 7,
     "metadata": {},
     "output_type": "execute_result"
    }
   ],
   "source": [
    "ratings.shape"
   ]
  },
  {
   "cell_type": "code",
   "execution_count": 8,
   "metadata": {},
   "outputs": [
    {
     "data": {
      "text/plain": [
       "Index(['User-ID', 'Location', 'Age'], dtype='object')"
      ]
     },
     "execution_count": 8,
     "metadata": {},
     "output_type": "execute_result"
    }
   ],
   "source": [
    "users.columns"
   ]
  },
  {
   "cell_type": "code",
   "execution_count": 9,
   "metadata": {},
   "outputs": [
    {
     "data": {
      "text/plain": [
       "Index(['User-ID', 'ISBN', 'Book-Rating'], dtype='object')"
      ]
     },
     "execution_count": 9,
     "metadata": {},
     "output_type": "execute_result"
    }
   ],
   "source": [
    "ratings.columns"
   ]
  },
  {
   "cell_type": "code",
   "execution_count": 10,
   "metadata": {},
   "outputs": [
    {
     "data": {
      "text/plain": [
       "Index(['ISBN', 'Book-Title', 'Book-Author', 'Year-Of-Publication', 'Publisher',\n",
       "       'Image-URL-S', 'Image-URL-M', 'Image-URL-L'],\n",
       "      dtype='object')"
      ]
     },
     "execution_count": 10,
     "metadata": {},
     "output_type": "execute_result"
    }
   ],
   "source": [
    "books.columns"
   ]
  },
  {
   "cell_type": "code",
   "execution_count": 11,
   "metadata": {},
   "outputs": [],
   "source": [
    "data = pd.merge(ratings, users, on='User-ID', how='inner')"
   ]
  },
  {
   "cell_type": "code",
   "execution_count": 12,
   "metadata": {},
   "outputs": [],
   "source": [
    "data = pd.merge(data, books, on='ISBN', how='inner')"
   ]
  },
  {
   "cell_type": "code",
   "execution_count": 13,
   "metadata": {},
   "outputs": [
    {
     "data": {
      "text/plain": [
       "Index(['User-ID', 'ISBN', 'Book-Rating', 'Location', 'Age', 'Book-Title',\n",
       "       'Book-Author', 'Year-Of-Publication', 'Publisher', 'Image-URL-S',\n",
       "       'Image-URL-M', 'Image-URL-L'],\n",
       "      dtype='object')"
      ]
     },
     "execution_count": 13,
     "metadata": {},
     "output_type": "execute_result"
    }
   ],
   "source": [
    "# Check\n",
    "data.columns"
   ]
  },
  {
   "cell_type": "code",
   "execution_count": 14,
   "metadata": {},
   "outputs": [],
   "source": [
    "#data.rename(columns={'Book-Rating':'BookRating', 'User-ID':'UserID'},inplace=True)"
   ]
  },
  {
   "cell_type": "code",
   "execution_count": 15,
   "metadata": {},
   "outputs": [
    {
     "data": {
      "text/plain": [
       "\"to_drop = ['Image-URL-S', 'Image-URL-M', 'Image-URL-L']\\n\\ndata = data.drop(to_drop, axis=1, inplace=False)\""
      ]
     },
     "execution_count": 15,
     "metadata": {},
     "output_type": "execute_result"
    }
   ],
   "source": [
    "# Drop (TODO: image analysis?)\n",
    "'''to_drop = ['Image-URL-S', 'Image-URL-M', 'Image-URL-L']\n",
    "\n",
    "data = data.drop(to_drop, axis=1, inplace=False)'''"
   ]
  },
  {
   "cell_type": "code",
   "execution_count": 16,
   "metadata": {},
   "outputs": [
    {
     "data": {
      "text/plain": [
       "(1031136, 12)"
      ]
     },
     "execution_count": 16,
     "metadata": {},
     "output_type": "execute_result"
    }
   ],
   "source": [
    "data.shape"
   ]
  },
  {
   "cell_type": "code",
   "execution_count": 17,
   "metadata": {},
   "outputs": [
    {
     "name": "stdout",
     "output_type": "stream",
     "text": [
      "Size of the dataset is:  102.270263671875  MB\n"
     ]
    }
   ],
   "source": [
    "print('Size of the dataset is: ', data.memory_usage().sum() / 1024**2, ' MB')"
   ]
  },
  {
   "cell_type": "markdown",
   "metadata": {},
   "source": [
    "# EDA"
   ]
  },
  {
   "cell_type": "code",
   "execution_count": 18,
   "metadata": {},
   "outputs": [],
   "source": [
    "# TODO: EDA in Power BI"
   ]
  },
  {
   "cell_type": "code",
   "execution_count": 19,
   "metadata": {},
   "outputs": [
    {
     "data": {
      "text/plain": [
       "(1031136, 12)"
      ]
     },
     "execution_count": 19,
     "metadata": {},
     "output_type": "execute_result"
    }
   ],
   "source": [
    "data.shape"
   ]
  },
  {
   "cell_type": "code",
   "execution_count": 20,
   "metadata": {},
   "outputs": [
    {
     "data": {
      "text/html": [
       "<div>\n",
       "<style scoped>\n",
       "    .dataframe tbody tr th:only-of-type {\n",
       "        vertical-align: middle;\n",
       "    }\n",
       "\n",
       "    .dataframe tbody tr th {\n",
       "        vertical-align: top;\n",
       "    }\n",
       "\n",
       "    .dataframe thead th {\n",
       "        text-align: right;\n",
       "    }\n",
       "</style>\n",
       "<table border=\"1\" class=\"dataframe\">\n",
       "  <thead>\n",
       "    <tr style=\"text-align: right;\">\n",
       "      <th></th>\n",
       "      <th>User-ID</th>\n",
       "      <th>ISBN</th>\n",
       "      <th>Book-Rating</th>\n",
       "      <th>Location</th>\n",
       "      <th>Age</th>\n",
       "      <th>Book-Title</th>\n",
       "      <th>Book-Author</th>\n",
       "      <th>Year-Of-Publication</th>\n",
       "      <th>Publisher</th>\n",
       "      <th>Image-URL-S</th>\n",
       "      <th>Image-URL-M</th>\n",
       "      <th>Image-URL-L</th>\n",
       "    </tr>\n",
       "  </thead>\n",
       "  <tbody>\n",
       "    <tr>\n",
       "      <th>0</th>\n",
       "      <td>276725</td>\n",
       "      <td>034545104X</td>\n",
       "      <td>0</td>\n",
       "      <td>tyler, texas, usa</td>\n",
       "      <td>NaN</td>\n",
       "      <td>Flesh Tones: A Novel</td>\n",
       "      <td>M. J. Rose</td>\n",
       "      <td>2002</td>\n",
       "      <td>Ballantine Books</td>\n",
       "      <td>http://images.amazon.com/images/P/034545104X.0...</td>\n",
       "      <td>http://images.amazon.com/images/P/034545104X.0...</td>\n",
       "      <td>http://images.amazon.com/images/P/034545104X.0...</td>\n",
       "    </tr>\n",
       "    <tr>\n",
       "      <th>1</th>\n",
       "      <td>2313</td>\n",
       "      <td>034545104X</td>\n",
       "      <td>5</td>\n",
       "      <td>cincinnati, ohio, usa</td>\n",
       "      <td>23.0</td>\n",
       "      <td>Flesh Tones: A Novel</td>\n",
       "      <td>M. J. Rose</td>\n",
       "      <td>2002</td>\n",
       "      <td>Ballantine Books</td>\n",
       "      <td>http://images.amazon.com/images/P/034545104X.0...</td>\n",
       "      <td>http://images.amazon.com/images/P/034545104X.0...</td>\n",
       "      <td>http://images.amazon.com/images/P/034545104X.0...</td>\n",
       "    </tr>\n",
       "    <tr>\n",
       "      <th>2</th>\n",
       "      <td>6543</td>\n",
       "      <td>034545104X</td>\n",
       "      <td>0</td>\n",
       "      <td>strafford, missouri, usa</td>\n",
       "      <td>34.0</td>\n",
       "      <td>Flesh Tones: A Novel</td>\n",
       "      <td>M. J. Rose</td>\n",
       "      <td>2002</td>\n",
       "      <td>Ballantine Books</td>\n",
       "      <td>http://images.amazon.com/images/P/034545104X.0...</td>\n",
       "      <td>http://images.amazon.com/images/P/034545104X.0...</td>\n",
       "      <td>http://images.amazon.com/images/P/034545104X.0...</td>\n",
       "    </tr>\n",
       "    <tr>\n",
       "      <th>3</th>\n",
       "      <td>8680</td>\n",
       "      <td>034545104X</td>\n",
       "      <td>5</td>\n",
       "      <td>st. charles county, missouri, usa</td>\n",
       "      <td>2.0</td>\n",
       "      <td>Flesh Tones: A Novel</td>\n",
       "      <td>M. J. Rose</td>\n",
       "      <td>2002</td>\n",
       "      <td>Ballantine Books</td>\n",
       "      <td>http://images.amazon.com/images/P/034545104X.0...</td>\n",
       "      <td>http://images.amazon.com/images/P/034545104X.0...</td>\n",
       "      <td>http://images.amazon.com/images/P/034545104X.0...</td>\n",
       "    </tr>\n",
       "    <tr>\n",
       "      <th>4</th>\n",
       "      <td>10314</td>\n",
       "      <td>034545104X</td>\n",
       "      <td>9</td>\n",
       "      <td>beaverton, oregon, usa</td>\n",
       "      <td>NaN</td>\n",
       "      <td>Flesh Tones: A Novel</td>\n",
       "      <td>M. J. Rose</td>\n",
       "      <td>2002</td>\n",
       "      <td>Ballantine Books</td>\n",
       "      <td>http://images.amazon.com/images/P/034545104X.0...</td>\n",
       "      <td>http://images.amazon.com/images/P/034545104X.0...</td>\n",
       "      <td>http://images.amazon.com/images/P/034545104X.0...</td>\n",
       "    </tr>\n",
       "  </tbody>\n",
       "</table>\n",
       "</div>"
      ],
      "text/plain": [
       "   User-ID        ISBN  Book-Rating                           Location   Age  \\\n",
       "0   276725  034545104X            0                  tyler, texas, usa   NaN   \n",
       "1     2313  034545104X            5              cincinnati, ohio, usa  23.0   \n",
       "2     6543  034545104X            0           strafford, missouri, usa  34.0   \n",
       "3     8680  034545104X            5  st. charles county, missouri, usa   2.0   \n",
       "4    10314  034545104X            9             beaverton, oregon, usa   NaN   \n",
       "\n",
       "             Book-Title Book-Author Year-Of-Publication         Publisher  \\\n",
       "0  Flesh Tones: A Novel  M. J. Rose                2002  Ballantine Books   \n",
       "1  Flesh Tones: A Novel  M. J. Rose                2002  Ballantine Books   \n",
       "2  Flesh Tones: A Novel  M. J. Rose                2002  Ballantine Books   \n",
       "3  Flesh Tones: A Novel  M. J. Rose                2002  Ballantine Books   \n",
       "4  Flesh Tones: A Novel  M. J. Rose                2002  Ballantine Books   \n",
       "\n",
       "                                         Image-URL-S  \\\n",
       "0  http://images.amazon.com/images/P/034545104X.0...   \n",
       "1  http://images.amazon.com/images/P/034545104X.0...   \n",
       "2  http://images.amazon.com/images/P/034545104X.0...   \n",
       "3  http://images.amazon.com/images/P/034545104X.0...   \n",
       "4  http://images.amazon.com/images/P/034545104X.0...   \n",
       "\n",
       "                                         Image-URL-M  \\\n",
       "0  http://images.amazon.com/images/P/034545104X.0...   \n",
       "1  http://images.amazon.com/images/P/034545104X.0...   \n",
       "2  http://images.amazon.com/images/P/034545104X.0...   \n",
       "3  http://images.amazon.com/images/P/034545104X.0...   \n",
       "4  http://images.amazon.com/images/P/034545104X.0...   \n",
       "\n",
       "                                         Image-URL-L  \n",
       "0  http://images.amazon.com/images/P/034545104X.0...  \n",
       "1  http://images.amazon.com/images/P/034545104X.0...  \n",
       "2  http://images.amazon.com/images/P/034545104X.0...  \n",
       "3  http://images.amazon.com/images/P/034545104X.0...  \n",
       "4  http://images.amazon.com/images/P/034545104X.0...  "
      ]
     },
     "execution_count": 20,
     "metadata": {},
     "output_type": "execute_result"
    }
   ],
   "source": [
    "data.head(5)"
   ]
  },
  {
   "cell_type": "code",
   "execution_count": 21,
   "metadata": {},
   "outputs": [
    {
     "name": "stdout",
     "output_type": "stream",
     "text": [
      "<class 'pandas.core.frame.DataFrame'>\n",
      "Int64Index: 1031136 entries, 0 to 1031135\n",
      "Data columns (total 12 columns):\n",
      " #   Column               Non-Null Count    Dtype  \n",
      "---  ------               --------------    -----  \n",
      " 0   User-ID              1031136 non-null  int64  \n",
      " 1   ISBN                 1031136 non-null  object \n",
      " 2   Book-Rating          1031136 non-null  int64  \n",
      " 3   Location             1031136 non-null  object \n",
      " 4   Age                  753301 non-null   float64\n",
      " 5   Book-Title           1031136 non-null  object \n",
      " 6   Book-Author          1031135 non-null  object \n",
      " 7   Year-Of-Publication  1031136 non-null  object \n",
      " 8   Publisher            1031134 non-null  object \n",
      " 9   Image-URL-S          1031136 non-null  object \n",
      " 10  Image-URL-M          1031136 non-null  object \n",
      " 11  Image-URL-L          1031132 non-null  object \n",
      "dtypes: float64(1), int64(2), object(9)\n",
      "memory usage: 102.3+ MB\n"
     ]
    }
   ],
   "source": [
    "data.info()"
   ]
  },
  {
   "cell_type": "code",
   "execution_count": 22,
   "metadata": {
    "scrolled": true
   },
   "outputs": [
    {
     "name": "stdout",
     "output_type": "stream",
     "text": [
      "Number of books:  270151\n"
     ]
    }
   ],
   "source": [
    "print('Number of books: ', data['ISBN'].nunique())"
   ]
  },
  {
   "cell_type": "code",
   "execution_count": 23,
   "metadata": {},
   "outputs": [
    {
     "name": "stdout",
     "output_type": "stream",
     "text": [
      "Number of users:  92106\n"
     ]
    }
   ],
   "source": [
    "print('Number of users: ',data['User-ID'].nunique())"
   ]
  },
  {
   "cell_type": "code",
   "execution_count": 24,
   "metadata": {},
   "outputs": [
    {
     "name": "stdout",
     "output_type": "stream",
     "text": [
      "Missing data [%]\n"
     ]
    },
    {
     "data": {
      "text/plain": [
       "User-ID                 0.0000\n",
       "ISBN                    0.0000\n",
       "Book-Rating             0.0000\n",
       "Location                0.0000\n",
       "Age                    26.9446\n",
       "Book-Title              0.0000\n",
       "Book-Author             0.0001\n",
       "Year-Of-Publication     0.0000\n",
       "Publisher               0.0002\n",
       "Image-URL-S             0.0000\n",
       "Image-URL-M             0.0000\n",
       "Image-URL-L             0.0004\n",
       "dtype: float64"
      ]
     },
     "execution_count": 24,
     "metadata": {},
     "output_type": "execute_result"
    }
   ],
   "source": [
    "print('Missing data [%]')\n",
    "round(data.isnull().sum() / len(data) * 100, 4)"
   ]
  },
  {
   "cell_type": "code",
   "execution_count": 25,
   "metadata": {},
   "outputs": [],
   "source": [
    "# ALEX: remove plotting\n",
    "# sns.distplot(data['Age'].dropna(), kde=False)\n",
    "_ = data['Age'].dropna()"
   ]
  },
  {
   "cell_type": "code",
   "execution_count": 26,
   "metadata": {},
   "outputs": [
    {
     "name": "stdout",
     "output_type": "stream",
     "text": [
      "Number of outliers:  2910\n"
     ]
    }
   ],
   "source": [
    "print('Number of outliers: ', sum(data['Age'] > 100))"
   ]
  },
  {
   "cell_type": "code",
   "execution_count": 27,
   "metadata": {},
   "outputs": [],
   "source": [
    "# data['Book-Rating'] = data['Book-Rating'].replace(0, None)\n",
    "data['Book-Rating'] = data['Book-Rating'].replace([0], None)"
   ]
  },
  {
   "cell_type": "code",
   "execution_count": 28,
   "metadata": {},
   "outputs": [],
   "source": [
    "# ALEX: remove plotting\n",
    "# sns.countplot(x='Book-Rating', data=data)"
   ]
  },
  {
   "cell_type": "code",
   "execution_count": 29,
   "metadata": {},
   "outputs": [
    {
     "name": "stdout",
     "output_type": "stream",
     "text": [
      "Average book rating:  7.63\n"
     ]
    }
   ],
   "source": [
    "print('Average book rating: ', round(data['Book-Rating'].mean(), 2))"
   ]
  },
  {
   "cell_type": "code",
   "execution_count": 30,
   "metadata": {},
   "outputs": [],
   "source": [
    "# Publication by Year\n",
    "year = pd.to_numeric(data['Year-Of-Publication'], 'coerce').fillna(2099, downcast = 'infer')\n",
    "# ALEX: remove plotting\n",
    "# sns.distplot(year, kde=False, hist_kws={\"range\": [1945,2020]})"
   ]
  },
  {
   "cell_type": "code",
   "execution_count": 31,
   "metadata": {},
   "outputs": [
    {
     "data": {
      "text/plain": [
       "Location\n",
       " usa               262464\n",
       " canada             35574\n",
       " united kingdom     14794\n",
       " germany            12151\n",
       "                    10509\n",
       " spain               7197\n",
       " australia           6991\n",
       " n/a                 6955\n",
       " france              4636\n",
       " portugal            3445\n",
       "Name: Book-Rating, dtype: int64"
      ]
     },
     "execution_count": 31,
     "metadata": {},
     "output_type": "execute_result"
    }
   ],
   "source": [
    "country = data['Location'].apply(lambda row: str(row).split(',')[-1])\n",
    "data.groupby(country)['Book-Rating'].count().sort_values(ascending=False).head(10)"
   ]
  },
  {
   "cell_type": "markdown",
   "metadata": {},
   "source": [
    "# Feature Engineering"
   ]
  },
  {
   "cell_type": "markdown",
   "metadata": {},
   "source": [
    "## Change data-type"
   ]
  },
  {
   "cell_type": "code",
   "execution_count": 32,
   "metadata": {},
   "outputs": [],
   "source": [
    "# Cast to numeric\n",
    "data['Year-Of-Publication'] = pd.to_numeric(data['Year-Of-Publication'], 'coerce').fillna(2099, downcast = 'infer')"
   ]
  },
  {
   "cell_type": "code",
   "execution_count": 33,
   "metadata": {},
   "outputs": [],
   "source": [
    "data['Book-Rating'] = data['Book-Rating'].replace(0, None)"
   ]
  },
  {
   "cell_type": "markdown",
   "metadata": {},
   "source": [
    "## Handle outliers"
   ]
  },
  {
   "cell_type": "code",
   "execution_count": 34,
   "metadata": {},
   "outputs": [],
   "source": [
    "data['Age'] = np.where(data['Age']>90, None, data['Age'])"
   ]
  },
  {
   "cell_type": "markdown",
   "metadata": {},
   "source": [
    "## Impute nulls"
   ]
  },
  {
   "cell_type": "code",
   "execution_count": 35,
   "metadata": {},
   "outputs": [],
   "source": [
    "# Categorical feautes\n",
    "data[['Book-Author', 'Publisher']] = data[['Book-Author', 'Publisher']].fillna('Unknown')"
   ]
  },
  {
   "cell_type": "code",
   "execution_count": 36,
   "metadata": {},
   "outputs": [
    {
     "data": {
      "text/plain": [
       "Book-Author    0\n",
       "Publisher      0\n",
       "dtype: int64"
      ]
     },
     "execution_count": 36,
     "metadata": {},
     "output_type": "execute_result"
    }
   ],
   "source": [
    "# Check cat features\n",
    "data[['Book-Author', 'Publisher']].isnull().sum()"
   ]
  },
  {
   "cell_type": "code",
   "execution_count": 37,
   "metadata": {},
   "outputs": [],
   "source": [
    "# Age\n",
    "median = data[\"Age\"].median()\n",
    "std = data[\"Age\"].std()\n",
    "is_null = data[\"Age\"].isnull().sum()\n",
    "rand_age = np.random.randint(median - std, median + std, size = is_null)\n",
    "age_slice = data[\"Age\"].copy()\n",
    "age_slice[pd.isnull(age_slice)] = rand_age\n",
    "data[\"Age\"] = age_slice\n",
    "data[\"Age\"] = data[\"Age\"].astype(int)"
   ]
  },
  {
   "cell_type": "code",
   "execution_count": 38,
   "metadata": {},
   "outputs": [
    {
     "data": {
      "text/plain": [
       "0"
      ]
     },
     "execution_count": 38,
     "metadata": {},
     "output_type": "execute_result"
    }
   ],
   "source": [
    "# Check Age\n",
    "data['Age'].isnull().sum()"
   ]
  },
  {
   "cell_type": "markdown",
   "metadata": {},
   "source": [
    "## Extract features"
   ]
  },
  {
   "cell_type": "code",
   "execution_count": 39,
   "metadata": {},
   "outputs": [],
   "source": [
    "data['Country'] = data['Location'].apply(lambda row: str(row).split(',')[-1])"
   ]
  },
  {
   "cell_type": "code",
   "execution_count": 40,
   "metadata": {},
   "outputs": [],
   "source": [
    "# Drop irelevant\n",
    "data = data.drop('Location', axis=1)"
   ]
  },
  {
   "cell_type": "code",
   "execution_count": 41,
   "metadata": {},
   "outputs": [
    {
     "data": {
      "text/plain": [
       "0     usa\n",
       "1     usa\n",
       "2     usa\n",
       "3     usa\n",
       "4     usa\n",
       "Name: Country, dtype: object"
      ]
     },
     "execution_count": 41,
     "metadata": {},
     "output_type": "execute_result"
    }
   ],
   "source": [
    "data['Country'].head()"
   ]
  },
  {
   "cell_type": "markdown",
   "metadata": {},
   "source": [
    "### Select English speaking countries "
   ]
  },
  {
   "cell_type": "code",
   "execution_count": 42,
   "metadata": {},
   "outputs": [],
   "source": [
    "#TODO: country/language analysis (Babel lib?)"
   ]
  },
  {
   "cell_type": "code",
   "execution_count": 43,
   "metadata": {},
   "outputs": [],
   "source": [
    "#en_list = ['usa', 'canada', 'united kingdom', 'australia']"
   ]
  },
  {
   "cell_type": "code",
   "execution_count": 44,
   "metadata": {},
   "outputs": [],
   "source": [
    "#data[data['Country'].isin(en_list)]"
   ]
  },
  {
   "cell_type": "markdown",
   "metadata": {},
   "source": [
    "# Prepeare dataset"
   ]
  },
  {
   "cell_type": "code",
   "execution_count": 45,
   "metadata": {},
   "outputs": [],
   "source": [
    "df = data"
   ]
  },
  {
   "cell_type": "code",
   "execution_count": 46,
   "metadata": {},
   "outputs": [],
   "source": [
    "# Relevant score\n",
    "df = df[df['Book-Rating'] >= 6]"
   ]
  },
  {
   "cell_type": "code",
   "execution_count": 47,
   "metadata": {},
   "outputs": [
    {
     "data": {
      "text/plain": [
       "count    129014.000000\n",
       "mean          2.495047\n",
       "std           7.023557\n",
       "min           1.000000\n",
       "25%           1.000000\n",
       "50%           1.000000\n",
       "75%           2.000000\n",
       "max         663.000000\n",
       "Name: User-ID, dtype: float64"
      ]
     },
     "execution_count": 47,
     "metadata": {},
     "output_type": "execute_result"
    }
   ],
   "source": [
    "# Check\n",
    "df.groupby('ISBN')['User-ID'].count().describe()"
   ]
  },
  {
   "cell_type": "code",
   "execution_count": 48,
   "metadata": {},
   "outputs": [],
   "source": [
    "df = df.groupby('ISBN').filter(lambda x: len(x) >= 5)"
   ]
  },
  {
   "cell_type": "code",
   "execution_count": 49,
   "metadata": {},
   "outputs": [
    {
     "data": {
      "text/plain": [
       "count    41859.000000\n",
       "mean         3.765642\n",
       "std         16.091125\n",
       "min          1.000000\n",
       "25%          1.000000\n",
       "50%          1.000000\n",
       "75%          3.000000\n",
       "max       2450.000000\n",
       "Name: ISBN, dtype: float64"
      ]
     },
     "execution_count": 49,
     "metadata": {},
     "output_type": "execute_result"
    }
   ],
   "source": [
    "df.groupby('User-ID')['ISBN'].count().describe()"
   ]
  },
  {
   "cell_type": "code",
   "execution_count": 50,
   "metadata": {},
   "outputs": [],
   "source": [
    "df = df.groupby('User-ID').filter(lambda x: len(x) >= 5)"
   ]
  },
  {
   "cell_type": "code",
   "execution_count": 51,
   "metadata": {},
   "outputs": [
    {
     "data": {
      "text/plain": [
       "(105350, 12)"
      ]
     },
     "execution_count": 51,
     "metadata": {},
     "output_type": "execute_result"
    }
   ],
   "source": [
    "df.shape"
   ]
  },
  {
   "cell_type": "markdown",
   "metadata": {},
   "source": [
    "# Simple recommendation"
   ]
  },
  {
   "cell_type": "code",
   "execution_count": 52,
   "metadata": {},
   "outputs": [],
   "source": [
    "df_p = df.pivot_table(index='ISBN', columns='User-ID', values='Book-Rating')"
   ]
  },
  {
   "cell_type": "code",
   "execution_count": 53,
   "metadata": {},
   "outputs": [],
   "source": [
    "# Select users who liked LOTR\n",
    "lotr = df_p.loc['0345339703'] # Lord of the Rings Part 1\n",
    "like_lotr = lotr[lotr == 10].to_frame().reset_index()\n",
    "users = like_lotr['User-ID'].to_frame()"
   ]
  },
  {
   "cell_type": "code",
   "execution_count": 54,
   "metadata": {},
   "outputs": [],
   "source": [
    "# Trim original dataset\n",
    "liked = pd.merge(users, df, on='User-ID', how='inner')"
   ]
  },
  {
   "cell_type": "markdown",
   "metadata": {},
   "source": [
    "## Add measures (aggregate) "
   ]
  },
  {
   "cell_type": "code",
   "execution_count": 55,
   "metadata": {},
   "outputs": [],
   "source": [
    "rating_count = liked.groupby('ISBN')['Book-Rating'].count().to_frame()"
   ]
  },
  {
   "cell_type": "code",
   "execution_count": 56,
   "metadata": {},
   "outputs": [],
   "source": [
    "rating_mean = liked.groupby('ISBN')['Book-Rating'].mean().to_frame()"
   ]
  },
  {
   "cell_type": "code",
   "execution_count": 57,
   "metadata": {},
   "outputs": [],
   "source": [
    "rating_count.rename(columns={'Book-Rating':'Rating-Count'}, inplace=True)"
   ]
  },
  {
   "cell_type": "code",
   "execution_count": 58,
   "metadata": {},
   "outputs": [],
   "source": [
    "rating_mean.rename(columns={'Book-Rating':'Rating-Mean'}, inplace=True)"
   ]
  },
  {
   "cell_type": "code",
   "execution_count": 59,
   "metadata": {},
   "outputs": [],
   "source": [
    "liked = pd.merge(liked, rating_count, on='ISBN', how='inner')"
   ]
  },
  {
   "cell_type": "code",
   "execution_count": 60,
   "metadata": {},
   "outputs": [],
   "source": [
    "liked = pd.merge(liked, rating_mean, on='ISBN', how='inner')"
   ]
  },
  {
   "cell_type": "code",
   "execution_count": 61,
   "metadata": {},
   "outputs": [],
   "source": [
    "liked['Rating-Mean'] = liked['Rating-Mean'].round(2)"
   ]
  },
  {
   "cell_type": "code",
   "execution_count": 62,
   "metadata": {},
   "outputs": [
    {
     "data": {
      "text/plain": [
       "0        1\n",
       "1        1\n",
       "2        2\n",
       "3        2\n",
       "4       45\n",
       "        ..\n",
       "1561     1\n",
       "1562     1\n",
       "1563     1\n",
       "1564     1\n",
       "1565     1\n",
       "Name: Rating-Count, Length: 1566, dtype: int64"
      ]
     },
     "execution_count": 62,
     "metadata": {},
     "output_type": "execute_result"
    }
   ],
   "source": [
    "# ALEX: remove plotting\n",
    "# liked['Rating-Count'].hist()\n",
    "liked['Rating-Count']"
   ]
  },
  {
   "cell_type": "code",
   "execution_count": 63,
   "metadata": {},
   "outputs": [
    {
     "data": {
      "text/plain": [
       "8.89911238825032"
      ]
     },
     "execution_count": 63,
     "metadata": {},
     "output_type": "execute_result"
    }
   ],
   "source": [
    "C = liked['Rating-Mean'].mean()\n",
    "C"
   ]
  },
  {
   "cell_type": "code",
   "execution_count": 64,
   "metadata": {},
   "outputs": [
    {
     "data": {
      "text/plain": [
       "6.0"
      ]
     },
     "execution_count": 64,
     "metadata": {},
     "output_type": "execute_result"
    }
   ],
   "source": [
    "m = rating_count.quantile(.995)[0] # .9\n",
    "m"
   ]
  },
  {
   "cell_type": "code",
   "execution_count": 65,
   "metadata": {},
   "outputs": [],
   "source": [
    "# IMDB formula; source: http://trailerpark.weebly.com/imdb-rating.html?source=post_page---------------------------\n",
    "def weighted_rating(x, m=m, C=C):\n",
    "    v = x['Rating-Count']\n",
    "    R = x['Rating-Mean']\n",
    "\n",
    "    return (v/(v+m) * R) + (m/(m+v) * C)"
   ]
  },
  {
   "cell_type": "code",
   "execution_count": 66,
   "metadata": {},
   "outputs": [
    {
     "data": {
      "text/plain": [
       "(134, 14)"
      ]
     },
     "execution_count": 66,
     "metadata": {},
     "output_type": "execute_result"
    }
   ],
   "source": [
    "# Create relevant sub-dataset\n",
    "liked_q = liked.copy().loc[liked['Rating-Count'] >= m]\n",
    "liked_q.shape"
   ]
  },
  {
   "cell_type": "code",
   "execution_count": 67,
   "metadata": {},
   "outputs": [],
   "source": [
    "liked_q['Score'] = liked_q.apply(weighted_rating, axis=1)"
   ]
  },
  {
   "cell_type": "markdown",
   "metadata": {},
   "source": [
    "## Best rated (TOP 10)"
   ]
  },
  {
   "cell_type": "code",
   "execution_count": 68,
   "metadata": {},
   "outputs": [],
   "source": [
    "top_r = liked_q[['Book-Title', 'Rating-Mean']]"
   ]
  },
  {
   "cell_type": "code",
   "execution_count": 69,
   "metadata": {},
   "outputs": [],
   "source": [
    "top_r = top_r.groupby(['Book-Title'])['Rating-Mean'].mean().to_frame()"
   ]
  },
  {
   "cell_type": "code",
   "execution_count": 70,
   "metadata": {},
   "outputs": [
    {
     "data": {
      "text/html": [
       "<div>\n",
       "<style scoped>\n",
       "    .dataframe tbody tr th:only-of-type {\n",
       "        vertical-align: middle;\n",
       "    }\n",
       "\n",
       "    .dataframe tbody tr th {\n",
       "        vertical-align: top;\n",
       "    }\n",
       "\n",
       "    .dataframe thead th {\n",
       "        text-align: right;\n",
       "    }\n",
       "</style>\n",
       "<table border=\"1\" class=\"dataframe\">\n",
       "  <thead>\n",
       "    <tr style=\"text-align: right;\">\n",
       "      <th></th>\n",
       "      <th>Rating-Mean</th>\n",
       "    </tr>\n",
       "    <tr>\n",
       "      <th>Book-Title</th>\n",
       "      <th></th>\n",
       "    </tr>\n",
       "  </thead>\n",
       "  <tbody>\n",
       "    <tr>\n",
       "      <th>The Fellowship of the Ring (The Lord of the Rings, Part 1)</th>\n",
       "      <td>10.00</td>\n",
       "    </tr>\n",
       "    <tr>\n",
       "      <th>The Return of the King (The Lord of the Rings, Part 3)</th>\n",
       "      <td>10.00</td>\n",
       "    </tr>\n",
       "    <tr>\n",
       "      <th>The Hobbit : The Enchanting Prelude to The Lord of the Rings</th>\n",
       "      <td>9.93</td>\n",
       "    </tr>\n",
       "    <tr>\n",
       "      <th>The Two Towers (The Lord of the Rings, Part 2)</th>\n",
       "      <td>9.81</td>\n",
       "    </tr>\n",
       "    <tr>\n",
       "      <th>Ender's Game (Ender Wiggins Saga (Paperback))</th>\n",
       "      <td>9.67</td>\n",
       "    </tr>\n",
       "    <tr>\n",
       "      <th>Harry Potter and the Goblet of Fire (Book 4)</th>\n",
       "      <td>9.67</td>\n",
       "    </tr>\n",
       "    <tr>\n",
       "      <th>Harry Potter and the Order of the Phoenix (Book 5)</th>\n",
       "      <td>9.67</td>\n",
       "    </tr>\n",
       "    <tr>\n",
       "      <th>Harry Potter and the Chamber of Secrets (Book 2)</th>\n",
       "      <td>9.29</td>\n",
       "    </tr>\n",
       "    <tr>\n",
       "      <th>Harry Potter and the Sorcerer's Stone (Harry Potter (Paperback))</th>\n",
       "      <td>9.17</td>\n",
       "    </tr>\n",
       "  </tbody>\n",
       "</table>\n",
       "</div>"
      ],
      "text/plain": [
       "                                                    Rating-Mean\n",
       "Book-Title                                                     \n",
       "The Fellowship of the Ring (The Lord of the Rin...        10.00\n",
       "The Return of the King (The Lord of the Rings, ...        10.00\n",
       "The Hobbit : The Enchanting Prelude to The Lord...         9.93\n",
       "The Two Towers (The Lord of the Rings, Part 2)             9.81\n",
       "Ender's Game (Ender Wiggins Saga (Paperback))              9.67\n",
       "Harry Potter and the Goblet of Fire (Book 4)               9.67\n",
       "Harry Potter and the Order of the Phoenix (Book 5)         9.67\n",
       "Harry Potter and the Chamber of Secrets (Book 2)           9.29\n",
       "Harry Potter and the Sorcerer's Stone (Harry Po...         9.17"
      ]
     },
     "execution_count": 70,
     "metadata": {},
     "output_type": "execute_result"
    }
   ],
   "source": [
    "top_r.sort_values(by='Rating-Mean', ascending=False).head(10)"
   ]
  },
  {
   "cell_type": "markdown",
   "metadata": {},
   "source": [
    "## Most popular (TOP 10)"
   ]
  },
  {
   "cell_type": "code",
   "execution_count": 71,
   "metadata": {},
   "outputs": [],
   "source": [
    "top_p = liked[['Book-Title', 'Rating-Count']]"
   ]
  },
  {
   "cell_type": "code",
   "execution_count": 72,
   "metadata": {},
   "outputs": [],
   "source": [
    "top_p = top_p.groupby(['Book-Title'])['Rating-Count'].mean().to_frame()"
   ]
  },
  {
   "cell_type": "code",
   "execution_count": 73,
   "metadata": {},
   "outputs": [
    {
     "data": {
      "text/html": [
       "<div>\n",
       "<style scoped>\n",
       "    .dataframe tbody tr th:only-of-type {\n",
       "        vertical-align: middle;\n",
       "    }\n",
       "\n",
       "    .dataframe tbody tr th {\n",
       "        vertical-align: top;\n",
       "    }\n",
       "\n",
       "    .dataframe thead th {\n",
       "        text-align: right;\n",
       "    }\n",
       "</style>\n",
       "<table border=\"1\" class=\"dataframe\">\n",
       "  <thead>\n",
       "    <tr style=\"text-align: right;\">\n",
       "      <th></th>\n",
       "      <th>Rating-Count</th>\n",
       "    </tr>\n",
       "    <tr>\n",
       "      <th>Book-Title</th>\n",
       "      <th></th>\n",
       "    </tr>\n",
       "  </thead>\n",
       "  <tbody>\n",
       "    <tr>\n",
       "      <th>The Fellowship of the Ring (The Lord of the Rings, Part 1)</th>\n",
       "      <td>45.000000</td>\n",
       "    </tr>\n",
       "    <tr>\n",
       "      <th>The Return of the King (The Lord of the Rings, Part 3)</th>\n",
       "      <td>22.000000</td>\n",
       "    </tr>\n",
       "    <tr>\n",
       "      <th>The Two Towers (The Lord of the Rings, Part 2)</th>\n",
       "      <td>20.090909</td>\n",
       "    </tr>\n",
       "    <tr>\n",
       "      <th>The Hobbit : The Enchanting Prelude to The Lord of the Rings</th>\n",
       "      <td>15.000000</td>\n",
       "    </tr>\n",
       "    <tr>\n",
       "      <th>Harry Potter and the Sorcerer's Stone (Harry Potter (Paperback))</th>\n",
       "      <td>6.000000</td>\n",
       "    </tr>\n",
       "    <tr>\n",
       "      <th>Ender's Game (Ender Wiggins Saga (Paperback))</th>\n",
       "      <td>6.000000</td>\n",
       "    </tr>\n",
       "    <tr>\n",
       "      <th>Harry Potter and the Order of the Phoenix (Book 5)</th>\n",
       "      <td>6.000000</td>\n",
       "    </tr>\n",
       "    <tr>\n",
       "      <th>Harry Potter and the Chamber of Secrets (Book 2)</th>\n",
       "      <td>5.800000</td>\n",
       "    </tr>\n",
       "    <tr>\n",
       "      <th>Harry Potter and the Goblet of Fire (Book 4)</th>\n",
       "      <td>5.000000</td>\n",
       "    </tr>\n",
       "    <tr>\n",
       "      <th>The Da Vinci Code</th>\n",
       "      <td>4.000000</td>\n",
       "    </tr>\n",
       "  </tbody>\n",
       "</table>\n",
       "</div>"
      ],
      "text/plain": [
       "                                                    Rating-Count\n",
       "Book-Title                                                      \n",
       "The Fellowship of the Ring (The Lord of the Rin...     45.000000\n",
       "The Return of the King (The Lord of the Rings, ...     22.000000\n",
       "The Two Towers (The Lord of the Rings, Part 2)         20.090909\n",
       "The Hobbit : The Enchanting Prelude to The Lord...     15.000000\n",
       "Harry Potter and the Sorcerer's Stone (Harry Po...      6.000000\n",
       "Ender's Game (Ender Wiggins Saga (Paperback))           6.000000\n",
       "Harry Potter and the Order of the Phoenix (Book 5)      6.000000\n",
       "Harry Potter and the Chamber of Secrets (Book 2)        5.800000\n",
       "Harry Potter and the Goblet of Fire (Book 4)            5.000000\n",
       "The Da Vinci Code                                       4.000000"
      ]
     },
     "execution_count": 73,
     "metadata": {},
     "output_type": "execute_result"
    }
   ],
   "source": [
    "top_p.sort_values(by='Rating-Count', ascending=False).head(10)#.plot(kind='barh')"
   ]
  },
  {
   "cell_type": "markdown",
   "metadata": {},
   "source": [
    "# Embedings (word2vec)"
   ]
  },
  {
   "cell_type": "markdown",
   "metadata": {},
   "source": [
    "The idea behind this is that different movies are connected via the same user and thus will have high cosine similarity. What this truely shows is how books \"travels\" - remeber, this is book crossing project. For more information about word2vec see: http://www.bicorner.net/?p=194&preview=true"
   ]
  },
  {
   "cell_type": "code",
   "execution_count": 74,
   "metadata": {},
   "outputs": [],
   "source": [
    "# ALEX: remove plotting\n",
    "# from tqdm import tqdm\n",
    "# from gensim.models import Word2Vec \n",
    "import random"
   ]
  },
  {
   "cell_type": "code",
   "execution_count": 75,
   "metadata": {},
   "outputs": [
    {
     "data": {
      "text/plain": [
       "6310"
      ]
     },
     "execution_count": 75,
     "metadata": {},
     "output_type": "execute_result"
    }
   ],
   "source": [
    "users = df[\"User-ID\"].unique().tolist()\n",
    "len(users)"
   ]
  },
  {
   "cell_type": "code",
   "execution_count": 76,
   "metadata": {},
   "outputs": [],
   "source": [
    "# shuffle users ID's\n",
    "random.shuffle(users)\n",
    "\n",
    "# extract 90% of customer ID's\n",
    "users_train = [users[i] for i in range(round(0.9*len(users)))]\n",
    "\n",
    "# split data into train and validation set\n",
    "train_df = df[df['User-ID'].isin(users_train)]\n",
    "validation_df = df[~df['User-ID'].isin(users_train)]"
   ]
  },
  {
   "cell_type": "code",
   "execution_count": 77,
   "metadata": {},
   "outputs": [],
   "source": [
    "# list to capture purchase history of the customers\n",
    "reads_train = []\n",
    "\n",
    "# populate the list with the product codes\n",
    "# ALEX: remove extra display code\n",
    "# for i in tqdm(users_train):\n",
    "for i in users_train:\n",
    "    temp = train_df[train_df[\"User-ID\"] == i][\"ISBN\"].tolist()\n",
    "    reads_train.append(temp)"
   ]
  },
  {
   "cell_type": "code",
   "execution_count": 78,
   "metadata": {},
   "outputs": [],
   "source": [
    "# list to capture purchase history of the customers\n",
    "reads_val = []\n",
    "\n",
    "# populate the list with the product codes\n",
    "# ALEX: remove extra display code\n",
    "# for i in tqdm(validation_df['User-ID'].unique()):\n",
    "for i in validation_df['User-ID'].unique():\n",
    "    temp = validation_df[validation_df[\"User-ID\"] == i][\"ISBN\"].tolist()\n",
    "    reads_val.append(temp)"
   ]
  },
  {
   "cell_type": "code",
   "execution_count": 79,
   "metadata": {},
   "outputs": [],
   "source": [
    "# train word2vec model\n",
    "# ALEX: remove ML code\n",
    "# model = Word2Vec(window = 10, sg = 1, hs = 0,\n",
    "#                  negative = 10, # for negative sampling\n",
    "#                  alpha=0.03, min_alpha=0.0007,\n",
    "#                  seed = 14)\n",
    "\n",
    "# model.build_vocab(reads_train, progress_per=200)\n",
    "\n",
    "# model.train(reads_train, total_examples = model.corpus_count, \n",
    "#             epochs=10, report_delay=1)"
   ]
  },
  {
   "cell_type": "code",
   "execution_count": 80,
   "metadata": {},
   "outputs": [],
   "source": [
    "# ALEX: remove ML code\n",
    "# model.init_sims(replace=True)"
   ]
  },
  {
   "cell_type": "code",
   "execution_count": 81,
   "metadata": {},
   "outputs": [],
   "source": [
    "# ALEX: remove ML code\n",
    "# print(model)"
   ]
  },
  {
   "cell_type": "code",
   "execution_count": 82,
   "metadata": {},
   "outputs": [],
   "source": [
    "# extract all vectors\n",
    "# ALEX: remove ML code\n",
    "# X = model[model.wv.vocab]\n",
    "\n",
    "# X.shape"
   ]
  },
  {
   "cell_type": "code",
   "execution_count": 83,
   "metadata": {},
   "outputs": [],
   "source": [
    "# ALEX: remove ML code, plotting\n",
    "# import umap\n",
    "\n",
    "# cluster_embedding = umap.UMAP(n_neighbors=30, min_dist=0.0,\n",
    "#                               n_components=2, random_state=42).fit_transform(X)\n",
    "\n",
    "# plt.figure(figsize=(10,9))\n",
    "# plt.scatter(cluster_embedding[:, 0], cluster_embedding[:, 1], s=3, cmap='Spectral')"
   ]
  },
  {
   "cell_type": "code",
   "execution_count": 84,
   "metadata": {},
   "outputs": [
    {
     "name": "stderr",
     "output_type": "stream",
     "text": [
      "/tmp/ipykernel_49938/2480998896.py:4: SettingWithCopyWarning: \n",
      "A value is trying to be set on a copy of a slice from a DataFrame\n",
      "\n",
      "See the caveats in the documentation: https://pandas.pydata.org/pandas-docs/stable/user_guide/indexing.html#returning-a-view-versus-a-copy\n",
      "  books.drop_duplicates(inplace=True, subset='ISBN', keep=\"last\")\n"
     ]
    }
   ],
   "source": [
    "books = train_df[[\"ISBN\", \"Book-Title\"]]\n",
    "\n",
    "# remove duplicates\n",
    "books.drop_duplicates(inplace=True, subset='ISBN', keep=\"last\")\n",
    "\n",
    "# create product-ID and product-description dictionary\n",
    "books_dict = books.groupby('ISBN')['Book-Title'].apply(list).to_dict()"
   ]
  },
  {
   "cell_type": "code",
   "execution_count": 85,
   "metadata": {},
   "outputs": [
    {
     "data": {
      "text/html": [
       "<div>\n",
       "<style scoped>\n",
       "    .dataframe tbody tr th:only-of-type {\n",
       "        vertical-align: middle;\n",
       "    }\n",
       "\n",
       "    .dataframe tbody tr th {\n",
       "        vertical-align: top;\n",
       "    }\n",
       "\n",
       "    .dataframe thead th {\n",
       "        text-align: right;\n",
       "    }\n",
       "</style>\n",
       "<table border=\"1\" class=\"dataframe\">\n",
       "  <thead>\n",
       "    <tr style=\"text-align: right;\">\n",
       "      <th></th>\n",
       "      <th>User-ID</th>\n",
       "      <th>ISBN</th>\n",
       "      <th>Book-Rating</th>\n",
       "      <th>Age</th>\n",
       "      <th>Book-Title</th>\n",
       "      <th>Book-Author</th>\n",
       "      <th>Year-Of-Publication</th>\n",
       "      <th>Publisher</th>\n",
       "      <th>Image-URL-S</th>\n",
       "      <th>Image-URL-M</th>\n",
       "      <th>Image-URL-L</th>\n",
       "      <th>Country</th>\n",
       "    </tr>\n",
       "  </thead>\n",
       "  <tbody>\n",
       "    <tr>\n",
       "      <th>196974</th>\n",
       "      <td>142672</td>\n",
       "      <td>0618002227</td>\n",
       "      <td>10</td>\n",
       "      <td>30</td>\n",
       "      <td>The Fellowship of the Ring (The Lord of the Ri...</td>\n",
       "      <td>J. R. R. Tolkien</td>\n",
       "      <td>1999</td>\n",
       "      <td>Houghton Mifflin Company</td>\n",
       "      <td>http://images.amazon.com/images/P/0618002227.0...</td>\n",
       "      <td>http://images.amazon.com/images/P/0618002227.0...</td>\n",
       "      <td>http://images.amazon.com/images/P/0618002227.0...</td>\n",
       "      <td>canada</td>\n",
       "    </tr>\n",
       "  </tbody>\n",
       "</table>\n",
       "</div>"
      ],
      "text/plain": [
       "        User-ID        ISBN Book-Rating  Age  \\\n",
       "196974   142672  0618002227          10   30   \n",
       "\n",
       "                                               Book-Title       Book-Author  \\\n",
       "196974  The Fellowship of the Ring (The Lord of the Ri...  J. R. R. Tolkien   \n",
       "\n",
       "        Year-Of-Publication                 Publisher  \\\n",
       "196974                 1999  Houghton Mifflin Company   \n",
       "\n",
       "                                              Image-URL-S  \\\n",
       "196974  http://images.amazon.com/images/P/0618002227.0...   \n",
       "\n",
       "                                              Image-URL-M  \\\n",
       "196974  http://images.amazon.com/images/P/0618002227.0...   \n",
       "\n",
       "                                              Image-URL-L  Country  \n",
       "196974  http://images.amazon.com/images/P/0618002227.0...   canada  "
      ]
     },
     "execution_count": 85,
     "metadata": {},
     "output_type": "execute_result"
    }
   ],
   "source": [
    "# Find LOTR\n",
    "df[df['Book-Title'].str.contains('Lord of the Rings')].sample()"
   ]
  },
  {
   "cell_type": "code",
   "execution_count": 86,
   "metadata": {},
   "outputs": [
    {
     "data": {
      "text/plain": [
       "['The Fellowship of the Ring (The Lord of the Rings, Part 1)']"
      ]
     },
     "execution_count": 86,
     "metadata": {},
     "output_type": "execute_result"
    }
   ],
   "source": [
    "# Check\n",
    "books_dict['0345339703']"
   ]
  },
  {
   "cell_type": "code",
   "execution_count": 87,
   "metadata": {},
   "outputs": [],
   "source": [
    "# ALEX: remove ML code\n",
    "# def similar_books(v, n = 15):\n",
    "    \n",
    "#     # extract most similar products for the input vector\n",
    "#     ms = model.similar_by_vector(v, topn= n+1)[1:]\n",
    "    \n",
    "#     # extract name and similarity score of the similar products\n",
    "#     new_ms = []\n",
    "#     for j in ms:\n",
    "#         pair = (books_dict[j[0]][0], j[1])\n",
    "#         new_ms.append(pair)\n",
    "        \n",
    "#     return new_ms "
   ]
  },
  {
   "cell_type": "code",
   "execution_count": 88,
   "metadata": {},
   "outputs": [],
   "source": [
    "# Recommend\n",
    "# ALEX: remove ML code\n",
    "# similar_books(model['0345339703'])"
   ]
  }
 ],
 "metadata": {
  "kernelspec": {
   "display_name": "Python 3 (ipykernel)",
   "language": "python",
   "name": "python3"
  },
  "language_info": {
   "codemirror_mode": {
    "name": "ipython",
    "version": 3
   },
   "file_extension": ".py",
   "mimetype": "text/x-python",
   "name": "python",
   "nbconvert_exporter": "python",
   "pygments_lexer": "ipython3",
   "version": "3.10.16"
  }
 },
 "nbformat": 4,
 "nbformat_minor": 1
}