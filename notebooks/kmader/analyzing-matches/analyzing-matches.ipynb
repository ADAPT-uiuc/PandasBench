{
 "cells": [
  {
   "cell_type": "code",
   "execution_count": null,
   "metadata": {},
   "outputs": [],
   "source": [
    "import os\n",
    "\n",
    "def scale_input_data(scale_factor):\n",
    "  file_bases = ['./input/matching_results', './input/CrowdsCureCancer2017Annotations']\n",
    "  for file_base in file_bases:\n",
    "    import pandas as pd\n",
    "    import shutil\n",
    "    if scale_factor == 1.0:\n",
    "      shutil.copyfile(file_base + '.csv', file_base + '.scaled.csv')\n",
    "      continue\n",
    "    df_to_scale = pd.read_csv(file_base + '.csv')\n",
    "    new_num_rows = int(scale_factor * len(df_to_scale))\n",
    "    if scale_factor <= 1.0:\n",
    "      df_to_scale = df_to_scale.iloc[:new_num_rows]\n",
    "    else:\n",
    "      while len(df_to_scale) < new_num_rows:\n",
    "        df_to_scale = pd.concat([df_to_scale, df_to_scale[:min(new_num_rows - len(df_to_scale), len(df_to_scale))]])\n",
    "    df_to_scale.to_csv(file_base + '.scaled.csv', index=False)\n",
    "\n",
    "if 'INPUT_SCALE_FACTOR' in os.environ:\n",
    "  scale_input_data(float(os.environ['INPUT_SCALE_FACTOR']))"
   ]
  },
  {
   "cell_type": "code",
   "execution_count": 1,
   "metadata": {
    "_cell_guid": "b1076dfc-b9ad-4769-8c92-a6c4dae69d19",
    "_uuid": "8f2839f25d086af736a60e9eeb907d3b93b6e0e5"
   },
   "outputs": [],
   "source": [
    "import os\n",
    "# import pandas as pd\n",
    "exec(os.environ['IREWR_IMPORTS'])\n",
    "# FIRST-AUTHOR: remove plotting\n",
    "# import seaborn as sns\n",
    "# import matplotlib.pyplot as plt\n",
    "import numpy as np\n",
    "# FIRST-AUTHOR: remove extra dependencies\n",
    "# from pydicom import read_file\n",
    "# from matplotlib.collections import PatchCollection\n",
    "# from matplotlib.patches import Rectangle, Circle\n",
    "from IPython.display import display\n",
    "# FIRST-AUTHOR: remove extra dependencies\n",
    "# import networkx as nx\n",
    "def create_graph_from_df(in_df, ):\n",
    "# FIRST-AUTHOR: remove extra dependencies\n",
    "#     g = nx.Graph()\n",
    "    for _, c_row in in_df.iterrows():\n",
    "#         g.add_edge(c_row['annotator_x'], c_row['annotator_y'], \n",
    "#                    weight = c_row['iou'], \n",
    "#                    label = '{:2.0f}%'.format(100*c_row['iou']))\n",
    "        _ = c_row['annotator_x']\n",
    "        _ = c_row['annotator_y'], \n",
    "        _ = c_row['iou'], \n",
    "        _ = 100*c_row['iou']\n",
    "# FIRST-AUTHOR: remove extra dependencies\n",
    "#     return g\n",
    "# def show_graph(g, figsize = (20, 20)):\n",
    "#     fig, ax1 = plt.subplots(1, 1, figsize = figsize)\n",
    "#     ax1.axis('off')\n",
    "#     edge_labels = nx.get_edge_attributes(g,'label')\n",
    "#     n_pos = nx.spring_layout(g)\n",
    "#     nx.draw_networkx(g, \n",
    "#                      pos=n_pos, \n",
    "#                      ax = ax1);\n",
    "#     nx.draw_networkx_edge_labels(g, \n",
    "#                      pos=n_pos, \n",
    "#                      edge_labels = edge_labels,\n",
    "#                      ax = ax1);\n",
    "#     return fig\n",
    "base_csv_dir = './input/'\n",
    "base_dcm_dir = './input/'"
   ]
  },
  {
   "cell_type": "code",
   "execution_count": 2,
   "metadata": {
    "_cell_guid": "79c7e3d0-c299-4dcb-8224-4455121ee9b0",
    "_uuid": "d629ff2d2480ee46fbb7e2d37f6b5fab8052498a"
   },
   "outputs": [
    {
     "name": "stdout",
     "output_type": "stream",
     "text": [
      "5210 10420\n"
     ]
    },
    {
     "data": {
      "text/html": [
       "<div>\n",
       "<style scoped>\n",
       "    .dataframe tbody tr th:only-of-type {\n",
       "        vertical-align: middle;\n",
       "    }\n",
       "\n",
       "    .dataframe tbody tr th {\n",
       "        vertical-align: top;\n",
       "    }\n",
       "\n",
       "    .dataframe thead th {\n",
       "        text-align: right;\n",
       "    }\n",
       "</style>\n",
       "<table border=\"1\" class=\"dataframe\">\n",
       "  <thead>\n",
       "    <tr style=\"text-align: right;\">\n",
       "      <th></th>\n",
       "      <th>anatomy</th>\n",
       "      <th>seriesUID</th>\n",
       "      <th>annotator_x</th>\n",
       "      <th>annotator_y</th>\n",
       "      <th>iou</th>\n",
       "    </tr>\n",
       "  </thead>\n",
       "  <tbody>\n",
       "    <tr>\n",
       "      <th>425</th>\n",
       "      <td>Renal</td>\n",
       "      <td>1.3.6.1.4.1.14519.5.2.1.8421.4004.187310743962...</td>\n",
       "      <td>competent_hawk</td>\n",
       "      <td>immaculate_oyster</td>\n",
       "      <td>0.522557</td>\n",
       "    </tr>\n",
       "    <tr>\n",
       "      <th>11284</th>\n",
       "      <td>Ovarian</td>\n",
       "      <td>1.3.6.1.4.1.14519.5.2.1.6450.4007.336565074650...</td>\n",
       "      <td>novel_hummingbird</td>\n",
       "      <td>impish_cat</td>\n",
       "      <td>0.000000</td>\n",
       "    </tr>\n",
       "    <tr>\n",
       "      <th>9734</th>\n",
       "      <td>Renal</td>\n",
       "      <td>1.3.6.1.4.1.14519.5.2.1.1357.4004.116304079630...</td>\n",
       "      <td>flippant_beaver</td>\n",
       "      <td>rubbery_hamster</td>\n",
       "      <td>0.521273</td>\n",
       "    </tr>\n",
       "  </tbody>\n",
       "</table>\n",
       "</div>"
      ],
      "text/plain": [
       "       anatomy                                          seriesUID  \\\n",
       "425      Renal  1.3.6.1.4.1.14519.5.2.1.8421.4004.187310743962...   \n",
       "11284  Ovarian  1.3.6.1.4.1.14519.5.2.1.6450.4007.336565074650...   \n",
       "9734     Renal  1.3.6.1.4.1.14519.5.2.1.1357.4004.116304079630...   \n",
       "\n",
       "             annotator_x        annotator_y       iou  \n",
       "425       competent_hawk  immaculate_oyster  0.522557  \n",
       "11284  novel_hummingbird         impish_cat  0.000000  \n",
       "9734     flippant_beaver    rubbery_hamster  0.521273  "
      ]
     },
     "execution_count": 2,
     "metadata": {},
     "output_type": "execute_result"
    }
   ],
   "source": [
    "annot_df = pd.read_csv(os.path.join(base_csv_dir, 'matching_results.scaled.csv'), index_col = 0)\n",
    "# remove duplicates\n",
    "single_annot_df = annot_df[annot_df['annotator_x']<annot_df['annotator_y']].copy()\n",
    "print(single_annot_df.shape[0], annot_df.shape[0])\n",
    "annot_df.sample(3)"
   ]
  },
  {
   "cell_type": "markdown",
   "metadata": {
    "_uuid": "ae3479afb7c3ff7a8ed9863a573c4a6607bad240"
   },
   "source": [
    "# Overview\n",
    "We could make a simple rule for filtering cases by selecting only annotations where two readers have an IOU of over 0.8. \n",
    "We want to look at the agreement on lesions and how many lesions overlap well."
   ]
  },
  {
   "cell_type": "code",
   "execution_count": 3,
   "metadata": {
    "_uuid": "5a1443541bd0956cd869ca10988513e151b82c86"
   },
   "outputs": [
    {
     "name": "stdout",
     "output_type": "stream",
     "text": [
      "('Liver', '1.3.6.1.4.1.14519.5.2.1.1079.4008.114832936145958292789896133590')\n"
     ]
    },
    {
     "data": {
      "text/html": [
       "<div>\n",
       "<style scoped>\n",
       "    .dataframe tbody tr th:only-of-type {\n",
       "        vertical-align: middle;\n",
       "    }\n",
       "\n",
       "    .dataframe tbody tr th {\n",
       "        vertical-align: top;\n",
       "    }\n",
       "\n",
       "    .dataframe thead th {\n",
       "        text-align: right;\n",
       "    }\n",
       "</style>\n",
       "<table border=\"1\" class=\"dataframe\">\n",
       "  <thead>\n",
       "    <tr style=\"text-align: right;\">\n",
       "      <th></th>\n",
       "      <th>anatomy</th>\n",
       "      <th>seriesUID</th>\n",
       "      <th>annotator_x</th>\n",
       "      <th>annotator_y</th>\n",
       "      <th>iou</th>\n",
       "    </tr>\n",
       "  </thead>\n",
       "  <tbody>\n",
       "    <tr>\n",
       "      <th>4103</th>\n",
       "      <td>Liver</td>\n",
       "      <td>1.3.6.1.4.1.14519.5.2.1.1079.4008.114832936145...</td>\n",
       "      <td>canine_bear</td>\n",
       "      <td>flippant_beaver</td>\n",
       "      <td>0.543232</td>\n",
       "    </tr>\n",
       "    <tr>\n",
       "      <th>4104</th>\n",
       "      <td>Liver</td>\n",
       "      <td>1.3.6.1.4.1.14519.5.2.1.1079.4008.114832936145...</td>\n",
       "      <td>canine_bear</td>\n",
       "      <td>fresh_alligator</td>\n",
       "      <td>0.000000</td>\n",
       "    </tr>\n",
       "    <tr>\n",
       "      <th>4105</th>\n",
       "      <td>Liver</td>\n",
       "      <td>1.3.6.1.4.1.14519.5.2.1.1079.4008.114832936145...</td>\n",
       "      <td>canine_bear</td>\n",
       "      <td>misty_mandrill</td>\n",
       "      <td>0.190447</td>\n",
       "    </tr>\n",
       "    <tr>\n",
       "      <th>4106</th>\n",
       "      <td>Liver</td>\n",
       "      <td>1.3.6.1.4.1.14519.5.2.1.1079.4008.114832936145...</td>\n",
       "      <td>canine_bear</td>\n",
       "      <td>tepid_dunlin</td>\n",
       "      <td>0.000000</td>\n",
       "    </tr>\n",
       "    <tr>\n",
       "      <th>4107</th>\n",
       "      <td>Liver</td>\n",
       "      <td>1.3.6.1.4.1.14519.5.2.1.1079.4008.114832936145...</td>\n",
       "      <td>canine_bear</td>\n",
       "      <td>urban_dunlin</td>\n",
       "      <td>0.000000</td>\n",
       "    </tr>\n",
       "    <tr>\n",
       "      <th>4108</th>\n",
       "      <td>Liver</td>\n",
       "      <td>1.3.6.1.4.1.14519.5.2.1.1079.4008.114832936145...</td>\n",
       "      <td>canine_bear</td>\n",
       "      <td>wee_bear</td>\n",
       "      <td>0.615047</td>\n",
       "    </tr>\n",
       "    <tr>\n",
       "      <th>4111</th>\n",
       "      <td>Liver</td>\n",
       "      <td>1.3.6.1.4.1.14519.5.2.1.1079.4008.114832936145...</td>\n",
       "      <td>flippant_beaver</td>\n",
       "      <td>fresh_alligator</td>\n",
       "      <td>0.000000</td>\n",
       "    </tr>\n",
       "    <tr>\n",
       "      <th>4112</th>\n",
       "      <td>Liver</td>\n",
       "      <td>1.3.6.1.4.1.14519.5.2.1.1079.4008.114832936145...</td>\n",
       "      <td>flippant_beaver</td>\n",
       "      <td>misty_mandrill</td>\n",
       "      <td>0.240169</td>\n",
       "    </tr>\n",
       "    <tr>\n",
       "      <th>4113</th>\n",
       "      <td>Liver</td>\n",
       "      <td>1.3.6.1.4.1.14519.5.2.1.1079.4008.114832936145...</td>\n",
       "      <td>flippant_beaver</td>\n",
       "      <td>tepid_dunlin</td>\n",
       "      <td>0.000000</td>\n",
       "    </tr>\n",
       "    <tr>\n",
       "      <th>4114</th>\n",
       "      <td>Liver</td>\n",
       "      <td>1.3.6.1.4.1.14519.5.2.1.1079.4008.114832936145...</td>\n",
       "      <td>flippant_beaver</td>\n",
       "      <td>urban_dunlin</td>\n",
       "      <td>0.000000</td>\n",
       "    </tr>\n",
       "    <tr>\n",
       "      <th>4115</th>\n",
       "      <td>Liver</td>\n",
       "      <td>1.3.6.1.4.1.14519.5.2.1.1079.4008.114832936145...</td>\n",
       "      <td>flippant_beaver</td>\n",
       "      <td>wee_bear</td>\n",
       "      <td>0.573934</td>\n",
       "    </tr>\n",
       "    <tr>\n",
       "      <th>4119</th>\n",
       "      <td>Liver</td>\n",
       "      <td>1.3.6.1.4.1.14519.5.2.1.1079.4008.114832936145...</td>\n",
       "      <td>fresh_alligator</td>\n",
       "      <td>misty_mandrill</td>\n",
       "      <td>0.000000</td>\n",
       "    </tr>\n",
       "    <tr>\n",
       "      <th>4120</th>\n",
       "      <td>Liver</td>\n",
       "      <td>1.3.6.1.4.1.14519.5.2.1.1079.4008.114832936145...</td>\n",
       "      <td>fresh_alligator</td>\n",
       "      <td>tepid_dunlin</td>\n",
       "      <td>0.000000</td>\n",
       "    </tr>\n",
       "    <tr>\n",
       "      <th>4121</th>\n",
       "      <td>Liver</td>\n",
       "      <td>1.3.6.1.4.1.14519.5.2.1.1079.4008.114832936145...</td>\n",
       "      <td>fresh_alligator</td>\n",
       "      <td>urban_dunlin</td>\n",
       "      <td>0.000000</td>\n",
       "    </tr>\n",
       "    <tr>\n",
       "      <th>4122</th>\n",
       "      <td>Liver</td>\n",
       "      <td>1.3.6.1.4.1.14519.5.2.1.1079.4008.114832936145...</td>\n",
       "      <td>fresh_alligator</td>\n",
       "      <td>wee_bear</td>\n",
       "      <td>0.000000</td>\n",
       "    </tr>\n",
       "    <tr>\n",
       "      <th>4127</th>\n",
       "      <td>Liver</td>\n",
       "      <td>1.3.6.1.4.1.14519.5.2.1.1079.4008.114832936145...</td>\n",
       "      <td>misty_mandrill</td>\n",
       "      <td>tepid_dunlin</td>\n",
       "      <td>0.000000</td>\n",
       "    </tr>\n",
       "    <tr>\n",
       "      <th>4128</th>\n",
       "      <td>Liver</td>\n",
       "      <td>1.3.6.1.4.1.14519.5.2.1.1079.4008.114832936145...</td>\n",
       "      <td>misty_mandrill</td>\n",
       "      <td>urban_dunlin</td>\n",
       "      <td>0.000000</td>\n",
       "    </tr>\n",
       "    <tr>\n",
       "      <th>4129</th>\n",
       "      <td>Liver</td>\n",
       "      <td>1.3.6.1.4.1.14519.5.2.1.1079.4008.114832936145...</td>\n",
       "      <td>misty_mandrill</td>\n",
       "      <td>wee_bear</td>\n",
       "      <td>0.193044</td>\n",
       "    </tr>\n",
       "    <tr>\n",
       "      <th>4135</th>\n",
       "      <td>Liver</td>\n",
       "      <td>1.3.6.1.4.1.14519.5.2.1.1079.4008.114832936145...</td>\n",
       "      <td>tepid_dunlin</td>\n",
       "      <td>urban_dunlin</td>\n",
       "      <td>0.696662</td>\n",
       "    </tr>\n",
       "    <tr>\n",
       "      <th>4136</th>\n",
       "      <td>Liver</td>\n",
       "      <td>1.3.6.1.4.1.14519.5.2.1.1079.4008.114832936145...</td>\n",
       "      <td>tepid_dunlin</td>\n",
       "      <td>wee_bear</td>\n",
       "      <td>0.000000</td>\n",
       "    </tr>\n",
       "    <tr>\n",
       "      <th>4143</th>\n",
       "      <td>Liver</td>\n",
       "      <td>1.3.6.1.4.1.14519.5.2.1.1079.4008.114832936145...</td>\n",
       "      <td>urban_dunlin</td>\n",
       "      <td>wee_bear</td>\n",
       "      <td>0.000000</td>\n",
       "    </tr>\n",
       "  </tbody>\n",
       "</table>\n",
       "</div>"
      ],
      "text/plain": [
       "     anatomy                                          seriesUID  \\\n",
       "4103   Liver  1.3.6.1.4.1.14519.5.2.1.1079.4008.114832936145...   \n",
       "4104   Liver  1.3.6.1.4.1.14519.5.2.1.1079.4008.114832936145...   \n",
       "4105   Liver  1.3.6.1.4.1.14519.5.2.1.1079.4008.114832936145...   \n",
       "4106   Liver  1.3.6.1.4.1.14519.5.2.1.1079.4008.114832936145...   \n",
       "4107   Liver  1.3.6.1.4.1.14519.5.2.1.1079.4008.114832936145...   \n",
       "4108   Liver  1.3.6.1.4.1.14519.5.2.1.1079.4008.114832936145...   \n",
       "4111   Liver  1.3.6.1.4.1.14519.5.2.1.1079.4008.114832936145...   \n",
       "4112   Liver  1.3.6.1.4.1.14519.5.2.1.1079.4008.114832936145...   \n",
       "4113   Liver  1.3.6.1.4.1.14519.5.2.1.1079.4008.114832936145...   \n",
       "4114   Liver  1.3.6.1.4.1.14519.5.2.1.1079.4008.114832936145...   \n",
       "4115   Liver  1.3.6.1.4.1.14519.5.2.1.1079.4008.114832936145...   \n",
       "4119   Liver  1.3.6.1.4.1.14519.5.2.1.1079.4008.114832936145...   \n",
       "4120   Liver  1.3.6.1.4.1.14519.5.2.1.1079.4008.114832936145...   \n",
       "4121   Liver  1.3.6.1.4.1.14519.5.2.1.1079.4008.114832936145...   \n",
       "4122   Liver  1.3.6.1.4.1.14519.5.2.1.1079.4008.114832936145...   \n",
       "4127   Liver  1.3.6.1.4.1.14519.5.2.1.1079.4008.114832936145...   \n",
       "4128   Liver  1.3.6.1.4.1.14519.5.2.1.1079.4008.114832936145...   \n",
       "4129   Liver  1.3.6.1.4.1.14519.5.2.1.1079.4008.114832936145...   \n",
       "4135   Liver  1.3.6.1.4.1.14519.5.2.1.1079.4008.114832936145...   \n",
       "4136   Liver  1.3.6.1.4.1.14519.5.2.1.1079.4008.114832936145...   \n",
       "4143   Liver  1.3.6.1.4.1.14519.5.2.1.1079.4008.114832936145...   \n",
       "\n",
       "          annotator_x      annotator_y       iou  \n",
       "4103      canine_bear  flippant_beaver  0.543232  \n",
       "4104      canine_bear  fresh_alligator  0.000000  \n",
       "4105      canine_bear   misty_mandrill  0.190447  \n",
       "4106      canine_bear     tepid_dunlin  0.000000  \n",
       "4107      canine_bear     urban_dunlin  0.000000  \n",
       "4108      canine_bear         wee_bear  0.615047  \n",
       "4111  flippant_beaver  fresh_alligator  0.000000  \n",
       "4112  flippant_beaver   misty_mandrill  0.240169  \n",
       "4113  flippant_beaver     tepid_dunlin  0.000000  \n",
       "4114  flippant_beaver     urban_dunlin  0.000000  \n",
       "4115  flippant_beaver         wee_bear  0.573934  \n",
       "4119  fresh_alligator   misty_mandrill  0.000000  \n",
       "4120  fresh_alligator     tepid_dunlin  0.000000  \n",
       "4121  fresh_alligator     urban_dunlin  0.000000  \n",
       "4122  fresh_alligator         wee_bear  0.000000  \n",
       "4127   misty_mandrill     tepid_dunlin  0.000000  \n",
       "4128   misty_mandrill     urban_dunlin  0.000000  \n",
       "4129   misty_mandrill         wee_bear  0.193044  \n",
       "4135     tepid_dunlin     urban_dunlin  0.696662  \n",
       "4136     tepid_dunlin         wee_bear  0.000000  \n",
       "4143     urban_dunlin         wee_bear  0.000000  "
      ]
     },
     "metadata": {},
     "output_type": "display_data"
    }
   ],
   "source": [
    "grp_df = single_annot_df.groupby(['anatomy', 'seriesUID'])\n",
    "for _, (c_group, c_df) in zip(range(1), grp_df):\n",
    "    # get the first group\n",
    "    print(c_group)\n",
    "    display(c_df)\n",
    "    pass"
   ]
  },
  {
   "cell_type": "markdown",
   "metadata": {
    "_uuid": "38e741cf49b4b246aa73e1bfccf74eb524e54341"
   },
   "source": [
    "# Graphs\n",
    "We can make a graph of the various annotators for this case and the scores showing their comparative similarity. The more similar ones are closer together and the intersection over union is shown as a percentage"
   ]
  },
  {
   "cell_type": "code",
   "execution_count": 4,
   "metadata": {
    "_uuid": "31989342fb2c19f957925b445955d95c71a5e590"
   },
   "outputs": [],
   "source": [
    "g = create_graph_from_df(c_df)\n",
    "# FIRST-AUTHOR: remove extra dependencies\n",
    "# show_graph(g);"
   ]
  },
  {
   "cell_type": "markdown",
   "metadata": {
    "_uuid": "5a879f017912c2058abd7fc93c1d1cb3840d39be"
   },
   "source": [
    "# Show Graph for an Organ\n",
    "Here we can show the graphs for all annotations for a specific organ like liver"
   ]
  },
  {
   "cell_type": "code",
   "execution_count": 5,
   "metadata": {
    "_uuid": "5b2859deb89f039222aab078c41388b94e0ec729"
   },
   "outputs": [],
   "source": [
    "g = create_graph_from_df(single_annot_df.query('anatomy == \"Liver\"'))\n",
    "# FIRST-AUTHOR: remove extra dependencies\n",
    "# show_graph(g, figsize = (40, 40));"
   ]
  },
  {
   "cell_type": "code",
   "execution_count": 6,
   "metadata": {
    "_uuid": "1829ff1caa285c55bafcf34af39958147f22deb1"
   },
   "outputs": [],
   "source": [
    "g = create_graph_from_df(single_annot_df.query('anatomy == \"Ovarian\"'))\n",
    "# FIRST-AUTHOR: remove extra dependencies\n",
    "# show_graph(g, figsize = (40, 40));"
   ]
  },
  {
   "cell_type": "markdown",
   "metadata": {
    "_uuid": "7e838211055c4192e2d1f33de900bf08727a9539"
   },
   "source": [
    "# Show a Summary for All Annotators\n",
    "We make it easier by aggregating over multiple organs/annotations"
   ]
  },
  {
   "cell_type": "code",
   "execution_count": 7,
   "metadata": {
    "_uuid": "2612fcbe56d652c04e189bba32d3b2bd7f622c4c"
   },
   "outputs": [
    {
     "data": {
      "text/html": [
       "<div>\n",
       "<style scoped>\n",
       "    .dataframe tbody tr th:only-of-type {\n",
       "        vertical-align: middle;\n",
       "    }\n",
       "\n",
       "    .dataframe tbody tr th {\n",
       "        vertical-align: top;\n",
       "    }\n",
       "\n",
       "    .dataframe thead th {\n",
       "        text-align: right;\n",
       "    }\n",
       "</style>\n",
       "<table border=\"1\" class=\"dataframe\">\n",
       "  <thead>\n",
       "    <tr style=\"text-align: right;\">\n",
       "      <th></th>\n",
       "      <th>annotator_x</th>\n",
       "      <th>annotator_y</th>\n",
       "      <th>iou</th>\n",
       "      <th>seriesUID</th>\n",
       "    </tr>\n",
       "  </thead>\n",
       "  <tbody>\n",
       "    <tr>\n",
       "      <th>683</th>\n",
       "      <td>informal_panther</td>\n",
       "      <td>pink_mole</td>\n",
       "      <td>0.147872</td>\n",
       "      <td>8</td>\n",
       "    </tr>\n",
       "    <tr>\n",
       "      <th>1006</th>\n",
       "      <td>poised_vulture</td>\n",
       "      <td>taut_ostrich</td>\n",
       "      <td>0.000000</td>\n",
       "      <td>1</td>\n",
       "    </tr>\n",
       "  </tbody>\n",
       "</table>\n",
       "</div>"
      ],
      "text/plain": [
       "           annotator_x   annotator_y       iou  seriesUID\n",
       "683   informal_panther     pink_mole  0.147872          8\n",
       "1006    poised_vulture  taut_ostrich  0.000000          1"
      ]
     },
     "execution_count": 7,
     "metadata": {},
     "output_type": "execute_result"
    }
   ],
   "source": [
    "avg_annot_df = single_annot_df.groupby(['annotator_x', 'annotator_y']).agg({'iou': 'mean', 'seriesUID': 'count'}).reset_index()\n",
    "avg_annot_df.sample(2)"
   ]
  },
  {
   "cell_type": "code",
   "execution_count": 8,
   "metadata": {
    "_uuid": "932ac775fab3926be8305f94817300c1d54baa19"
   },
   "outputs": [],
   "source": [
    "g = create_graph_from_df(avg_annot_df)\n",
    "# FIRST-AUTHOR: remove extra dependencies\n",
    "# show_graph(g, figsize = (40, 40));"
   ]
  },
  {
   "cell_type": "markdown",
   "metadata": {
    "_uuid": "e48ba99bd984f71baa287f4e9222565d52db1e4c"
   },
   "source": [
    "# Remove the Worst\n",
    "The very worst are easy to remove, those who never have any overlap with anyone, since there is no way we could trust their results (we have nothing to compare them to)."
   ]
  },
  {
   "cell_type": "code",
   "execution_count": 9,
   "metadata": {
    "_uuid": "19cb761520099fa556db86f0be47c4435583f618"
   },
   "outputs": [
    {
     "name": "stdout",
     "output_type": "stream",
     "text": [
      "25\n"
     ]
    },
    {
     "data": {
      "text/html": [
       "<div>\n",
       "<style scoped>\n",
       "    .dataframe tbody tr th:only-of-type {\n",
       "        vertical-align: middle;\n",
       "    }\n",
       "\n",
       "    .dataframe tbody tr th {\n",
       "        vertical-align: top;\n",
       "    }\n",
       "\n",
       "    .dataframe thead th {\n",
       "        text-align: right;\n",
       "    }\n",
       "</style>\n",
       "<table border=\"1\" class=\"dataframe\">\n",
       "  <thead>\n",
       "    <tr style=\"text-align: right;\">\n",
       "      <th></th>\n",
       "      <th>annotator_x</th>\n",
       "      <th>iou</th>\n",
       "      <th>seriesUID</th>\n",
       "    </tr>\n",
       "  </thead>\n",
       "  <tbody>\n",
       "    <tr>\n",
       "      <th>69</th>\n",
       "      <td>intentional_rhinoceros</td>\n",
       "      <td>0.000000e+00</td>\n",
       "      <td>4</td>\n",
       "    </tr>\n",
       "    <tr>\n",
       "      <th>31</th>\n",
       "      <td>defenseless_starling</td>\n",
       "      <td>0.000000e+00</td>\n",
       "      <td>5</td>\n",
       "    </tr>\n",
       "    <tr>\n",
       "      <th>152</th>\n",
       "      <td>tame_coyote</td>\n",
       "      <td>0.000000e+00</td>\n",
       "      <td>20</td>\n",
       "    </tr>\n",
       "    <tr>\n",
       "      <th>155</th>\n",
       "      <td>taut_ostrich</td>\n",
       "      <td>0.000000e+00</td>\n",
       "      <td>6</td>\n",
       "    </tr>\n",
       "    <tr>\n",
       "      <th>85</th>\n",
       "      <td>miserable_kookabura</td>\n",
       "      <td>0.000000e+00</td>\n",
       "      <td>9</td>\n",
       "    </tr>\n",
       "    <tr>\n",
       "      <th>10</th>\n",
       "      <td>beneficial_stingray</td>\n",
       "      <td>0.000000e+00</td>\n",
       "      <td>3</td>\n",
       "    </tr>\n",
       "    <tr>\n",
       "      <th>87</th>\n",
       "      <td>misty_snail</td>\n",
       "      <td>0.000000e+00</td>\n",
       "      <td>4</td>\n",
       "    </tr>\n",
       "    <tr>\n",
       "      <th>25</th>\n",
       "      <td>constant_cockroach</td>\n",
       "      <td>0.000000e+00</td>\n",
       "      <td>4</td>\n",
       "    </tr>\n",
       "    <tr>\n",
       "      <th>163</th>\n",
       "      <td>uncommon_shark</td>\n",
       "      <td>0.000000e+00</td>\n",
       "      <td>10</td>\n",
       "    </tr>\n",
       "    <tr>\n",
       "      <th>53</th>\n",
       "      <td>grubby_seahorse</td>\n",
       "      <td>0.000000e+00</td>\n",
       "      <td>3</td>\n",
       "    </tr>\n",
       "    <tr>\n",
       "      <th>89</th>\n",
       "      <td>moral_goldfish</td>\n",
       "      <td>0.000000e+00</td>\n",
       "      <td>4</td>\n",
       "    </tr>\n",
       "    <tr>\n",
       "      <th>47</th>\n",
       "      <td>fresh_alligator</td>\n",
       "      <td>0.000000e+00</td>\n",
       "      <td>6</td>\n",
       "    </tr>\n",
       "    <tr>\n",
       "      <th>173</th>\n",
       "      <td>warped_opossum</td>\n",
       "      <td>0.000000e+00</td>\n",
       "      <td>8</td>\n",
       "    </tr>\n",
       "    <tr>\n",
       "      <th>65</th>\n",
       "      <td>immense_coyote</td>\n",
       "      <td>0.000000e+00</td>\n",
       "      <td>5</td>\n",
       "    </tr>\n",
       "    <tr>\n",
       "      <th>174</th>\n",
       "      <td>watery_anteater</td>\n",
       "      <td>0.000000e+00</td>\n",
       "      <td>3</td>\n",
       "    </tr>\n",
       "    <tr>\n",
       "      <th>105</th>\n",
       "      <td>passionate_cormorant</td>\n",
       "      <td>0.000000e+00</td>\n",
       "      <td>5</td>\n",
       "    </tr>\n",
       "    <tr>\n",
       "      <th>145</th>\n",
       "      <td>spiteful_armadillo</td>\n",
       "      <td>0.000000e+00</td>\n",
       "      <td>3</td>\n",
       "    </tr>\n",
       "    <tr>\n",
       "      <th>49</th>\n",
       "      <td>green_ibex</td>\n",
       "      <td>6.241337e-13</td>\n",
       "      <td>5</td>\n",
       "    </tr>\n",
       "    <tr>\n",
       "      <th>140</th>\n",
       "      <td>soft_salmon</td>\n",
       "      <td>1.583595e-10</td>\n",
       "      <td>10</td>\n",
       "    </tr>\n",
       "    <tr>\n",
       "      <th>57</th>\n",
       "      <td>honorable_eland</td>\n",
       "      <td>1.014959e-07</td>\n",
       "      <td>5</td>\n",
       "    </tr>\n",
       "    <tr>\n",
       "      <th>147</th>\n",
       "      <td>steel_lapwing</td>\n",
       "      <td>3.175355e-07</td>\n",
       "      <td>20</td>\n",
       "    </tr>\n",
       "    <tr>\n",
       "      <th>5</th>\n",
       "      <td>alarmed_alligator</td>\n",
       "      <td>1.483175e-05</td>\n",
       "      <td>3</td>\n",
       "    </tr>\n",
       "    <tr>\n",
       "      <th>34</th>\n",
       "      <td>delirious_fox</td>\n",
       "      <td>1.143742e-04</td>\n",
       "      <td>8</td>\n",
       "    </tr>\n",
       "    <tr>\n",
       "      <th>21</th>\n",
       "      <td>colorful_kangaroo</td>\n",
       "      <td>5.153686e-04</td>\n",
       "      <td>5</td>\n",
       "    </tr>\n",
       "    <tr>\n",
       "      <th>88</th>\n",
       "      <td>modern_squirrel</td>\n",
       "      <td>9.471175e-04</td>\n",
       "      <td>7</td>\n",
       "    </tr>\n",
       "  </tbody>\n",
       "</table>\n",
       "</div>"
      ],
      "text/plain": [
       "                annotator_x           iou  seriesUID\n",
       "69   intentional_rhinoceros  0.000000e+00          4\n",
       "31     defenseless_starling  0.000000e+00          5\n",
       "152             tame_coyote  0.000000e+00         20\n",
       "155            taut_ostrich  0.000000e+00          6\n",
       "85      miserable_kookabura  0.000000e+00          9\n",
       "10      beneficial_stingray  0.000000e+00          3\n",
       "87              misty_snail  0.000000e+00          4\n",
       "25       constant_cockroach  0.000000e+00          4\n",
       "163          uncommon_shark  0.000000e+00         10\n",
       "53          grubby_seahorse  0.000000e+00          3\n",
       "89           moral_goldfish  0.000000e+00          4\n",
       "47          fresh_alligator  0.000000e+00          6\n",
       "173          warped_opossum  0.000000e+00          8\n",
       "65           immense_coyote  0.000000e+00          5\n",
       "174         watery_anteater  0.000000e+00          3\n",
       "105    passionate_cormorant  0.000000e+00          5\n",
       "145      spiteful_armadillo  0.000000e+00          3\n",
       "49               green_ibex  6.241337e-13          5\n",
       "140             soft_salmon  1.583595e-10         10\n",
       "57          honorable_eland  1.014959e-07          5\n",
       "147           steel_lapwing  3.175355e-07         20\n",
       "5         alarmed_alligator  1.483175e-05          3\n",
       "34            delirious_fox  1.143742e-04          8\n",
       "21        colorful_kangaroo  5.153686e-04          5\n",
       "88          modern_squirrel  9.471175e-04          7"
      ]
     },
     "execution_count": 9,
     "metadata": {},
     "output_type": "execute_result"
    }
   ],
   "source": [
    "worst_annot_df = annot_df.groupby('annotator_x').agg({'iou': 'max', 'seriesUID': 'count'}).reset_index().sort_values('iou').query('iou<1e-3')\n",
    "worst_annot = worst_annot_df['annotator_x'].values\n",
    "print(worst_annot.shape[0])\n",
    "worst_annot_df"
   ]
  },
  {
   "cell_type": "code",
   "execution_count": 10,
   "metadata": {
    "_uuid": "16b25dd225f5f773a96359dee897fdf82a1805a6"
   },
   "outputs": [
    {
     "name": "stdout",
     "output_type": "stream",
     "text": [
      "5210 -> 5147\n"
     ]
    }
   ],
   "source": [
    "clean_annot_df = single_annot_df[~(single_annot_df['annotator_x'].isin(worst_annot) | (single_annot_df['annotator_x'].isin(worst_annot)))]\n",
    "clean_full_annot_df = annot_df[~(annot_df['annotator_x'].isin(worst_annot) | (annot_df['annotator_x'].isin(worst_annot)))]\n",
    "print(single_annot_df.shape[0], '->', clean_annot_df.shape[0])"
   ]
  },
  {
   "cell_type": "markdown",
   "metadata": {
    "_uuid": "113f4478ee79a78bc35d7e5fa43d3777fd8f4a09"
   },
   "source": [
    "# How many annotations per patient?\n",
    "Here we calculate the number of annotations per patient"
   ]
  },
  {
   "cell_type": "code",
   "execution_count": 11,
   "metadata": {
    "_uuid": "49742e8baa6ff59f424f6c9fa3af5fa8233ef186"
   },
   "outputs": [
    {
     "data": {
      "text/plain": [
       "64     42\n",
       "61     42\n",
       "45     42\n",
       "46     42\n",
       "47     42\n",
       "       ..\n",
       "173     9\n",
       "143     9\n",
       "157     9\n",
       "125     9\n",
       "105     1\n",
       "Name: annotator_x, Length: 443, dtype: int64"
      ]
     },
     "execution_count": 11,
     "metadata": {},
     "output_type": "execute_result"
    }
   ],
   "source": [
    "# FIRST-AUTHOR: remove plotting\n",
    "# clean_full_annot_df.groupby(\n",
    "#     ['anatomy', 'seriesUID']).agg(\n",
    "#     {'iou': 'mean', 'annotator_x': 'count'}).reset_index().sort_values(\n",
    "#     'annotator_x', ascending = False)['annotator_x'].hist()\n",
    "clean_full_annot_df.groupby(\n",
    "    ['anatomy', 'seriesUID']).agg(\n",
    "    {'iou': 'mean', 'annotator_x': 'count'}).reset_index().sort_values(\n",
    "    'annotator_x', ascending = False)['annotator_x']"
   ]
  },
  {
   "cell_type": "markdown",
   "metadata": {
    "_uuid": "75141baec5df8e7144e4de9606932c1bea50568b",
    "collapsed": true
   },
   "source": [
    "# Agreeing Annotations\n",
    "We can define a certain threshold for agreement"
   ]
  },
  {
   "cell_type": "code",
   "execution_count": 12,
   "metadata": {
    "_uuid": "d2b02edd94cbb6062e29d00e4ee51931f65a771a"
   },
   "outputs": [],
   "source": [
    "filt_annot = lambda cut_off: clean_full_annot_df.query('iou>{}'.format(cut_off)).groupby(['anatomy', 'seriesUID']).agg({'iou': 'mean', 'annotator_x': 'count'}).reset_index().sort_values('annotator_x', ascending = False)\n",
    "cut_off = np.linspace(15, 100, 10, dtype = int)[:-1]\n",
    "out_df_list = []\n",
    "for n_cut_off in cut_off:\n",
    "    c_df = filt_annot(n_cut_off/100.0)\n",
    "    c_df['cutoff'] = n_cut_off\n",
    "    out_df_list += [c_df]\n",
    "out_df = pd.concat(out_df_list)"
   ]
  },
  {
   "cell_type": "code",
   "execution_count": 13,
   "metadata": {
    "_uuid": "55fe96b6421811adb818dda859434e9b31d3c216"
   },
   "outputs": [],
   "source": [
    "# FIRST-AUTHOR: remove plotting\n",
    "# import seaborn as sns\n",
    "# sns.factorplot(x = 'cutoff', \n",
    "#                y = 'annotator_x', \n",
    "#                hue = 'anatomy', \n",
    "#                data = out_df,\n",
    "#                kind = 'swarm',\n",
    "#               size = 6)"
   ]
  },
  {
   "cell_type": "code",
   "execution_count": 14,
   "metadata": {
    "_uuid": "ccc331fe7657dc57fb786eb2a773ffdec815653d"
   },
   "outputs": [],
   "source": [
    "# FIRST-AUTHOR: remove plotting\n",
    "# sns.factorplot(x = 'cutoff', \n",
    "#                y = 'annotator_x', \n",
    "#                hue = 'anatomy', \n",
    "#                data = out_df,\n",
    "#                kind = 'violin',\n",
    "#                col = 'anatomy',\n",
    "#                col_wrap = 2,\n",
    "#               size = 8)"
   ]
  },
  {
   "cell_type": "code",
   "execution_count": 15,
   "metadata": {
    "_uuid": "5e8576555e789c264005f2970d2ae0fb4eaca5c3"
   },
   "outputs": [
    {
     "name": "stderr",
     "output_type": "stream",
     "text": [
      "/tmp/ipykernel_1139578/2317318479.py:3: DeprecationWarning: DataFrameGroupBy.apply operated on the grouping columns. This behavior is deprecated, and in a future version of pandas the grouping columns will be excluded from the operation. Either pass `include_groups=False` to exclude the groupings or explicitly select the grouping columns after groupby to silence this warning.\n",
      "  c_df = out_df.query('annotator_x>={}'.format(annot_per_case)).groupby(['cutoff','anatomy']).apply(lambda c_rows: pd.Series({'total_annotations': np.sum(c_rows['annotator_x']),\n",
      "/tmp/ipykernel_1139578/2317318479.py:3: DeprecationWarning: DataFrameGroupBy.apply operated on the grouping columns. This behavior is deprecated, and in a future version of pandas the grouping columns will be excluded from the operation. Either pass `include_groups=False` to exclude the groupings or explicitly select the grouping columns after groupby to silence this warning.\n",
      "  c_df = out_df.query('annotator_x>={}'.format(annot_per_case)).groupby(['cutoff','anatomy']).apply(lambda c_rows: pd.Series({'total_annotations': np.sum(c_rows['annotator_x']),\n",
      "/tmp/ipykernel_1139578/2317318479.py:3: DeprecationWarning: DataFrameGroupBy.apply operated on the grouping columns. This behavior is deprecated, and in a future version of pandas the grouping columns will be excluded from the operation. Either pass `include_groups=False` to exclude the groupings or explicitly select the grouping columns after groupby to silence this warning.\n",
      "  c_df = out_df.query('annotator_x>={}'.format(annot_per_case)).groupby(['cutoff','anatomy']).apply(lambda c_rows: pd.Series({'total_annotations': np.sum(c_rows['annotator_x']),\n",
      "/tmp/ipykernel_1139578/2317318479.py:3: DeprecationWarning: DataFrameGroupBy.apply operated on the grouping columns. This behavior is deprecated, and in a future version of pandas the grouping columns will be excluded from the operation. Either pass `include_groups=False` to exclude the groupings or explicitly select the grouping columns after groupby to silence this warning.\n",
      "  c_df = out_df.query('annotator_x>={}'.format(annot_per_case)).groupby(['cutoff','anatomy']).apply(lambda c_rows: pd.Series({'total_annotations': np.sum(c_rows['annotator_x']),\n",
      "/tmp/ipykernel_1139578/2317318479.py:3: DeprecationWarning: DataFrameGroupBy.apply operated on the grouping columns. This behavior is deprecated, and in a future version of pandas the grouping columns will be excluded from the operation. Either pass `include_groups=False` to exclude the groupings or explicitly select the grouping columns after groupby to silence this warning.\n",
      "  c_df = out_df.query('annotator_x>={}'.format(annot_per_case)).groupby(['cutoff','anatomy']).apply(lambda c_rows: pd.Series({'total_annotations': np.sum(c_rows['annotator_x']),\n",
      "/tmp/ipykernel_1139578/2317318479.py:3: DeprecationWarning: DataFrameGroupBy.apply operated on the grouping columns. This behavior is deprecated, and in a future version of pandas the grouping columns will be excluded from the operation. Either pass `include_groups=False` to exclude the groupings or explicitly select the grouping columns after groupby to silence this warning.\n",
      "  c_df = out_df.query('annotator_x>={}'.format(annot_per_case)).groupby(['cutoff','anatomy']).apply(lambda c_rows: pd.Series({'total_annotations': np.sum(c_rows['annotator_x']),\n",
      "/tmp/ipykernel_1139578/2317318479.py:3: DeprecationWarning: DataFrameGroupBy.apply operated on the grouping columns. This behavior is deprecated, and in a future version of pandas the grouping columns will be excluded from the operation. Either pass `include_groups=False` to exclude the groupings or explicitly select the grouping columns after groupby to silence this warning.\n",
      "  c_df = out_df.query('annotator_x>={}'.format(annot_per_case)).groupby(['cutoff','anatomy']).apply(lambda c_rows: pd.Series({'total_annotations': np.sum(c_rows['annotator_x']),\n",
      "/tmp/ipykernel_1139578/2317318479.py:3: DeprecationWarning: DataFrameGroupBy.apply operated on the grouping columns. This behavior is deprecated, and in a future version of pandas the grouping columns will be excluded from the operation. Either pass `include_groups=False` to exclude the groupings or explicitly select the grouping columns after groupby to silence this warning.\n",
      "  c_df = out_df.query('annotator_x>={}'.format(annot_per_case)).groupby(['cutoff','anatomy']).apply(lambda c_rows: pd.Series({'total_annotations': np.sum(c_rows['annotator_x']),\n"
     ]
    }
   ],
   "source": [
    "all_df_out = []\n",
    "for annot_per_case in range(2, 10):\n",
    "    c_df = out_df.query('annotator_x>={}'.format(annot_per_case)).groupby(['cutoff','anatomy']).apply(lambda c_rows: pd.Series({'total_annotations': np.sum(c_rows['annotator_x']),\n",
    "                                                                     'total_cases': np.unique(c_rows['seriesUID']).shape[0]\n",
    "                                                                                   })).reset_index()\n",
    "    c_df['annot_per_case_cutoff'] = annot_per_case\n",
    "    all_df_out += [c_df]\n",
    "all_df = pd.concat(all_df_out)"
   ]
  },
  {
   "cell_type": "code",
   "execution_count": 16,
   "metadata": {
    "_uuid": "1d248074560a3f81c190536083187a27d656d4bc"
   },
   "outputs": [],
   "source": [
    "# FIRST-AUTHOR: remove plotting\n",
    "# sns.factorplot(x = 'annot_per_case_cutoff', \n",
    "#                y = 'total_cases', \n",
    "#                hue = 'cutoff', \n",
    "#                data = all_df,\n",
    "#                col = 'anatomy',\n",
    "#                col_wrap = 2,\n",
    "#                sharey = False,\n",
    "#               size = 8)"
   ]
  },
  {
   "cell_type": "code",
   "execution_count": 17,
   "metadata": {
    "_uuid": "3f36fc545c859ada2f8437f4dd050f4ee98491a4"
   },
   "outputs": [],
   "source": [
    "# FIRST-AUTHOR: remove plotting\n",
    "# sns.factorplot(x = 'annot_per_case_cutoff', \n",
    "#                y = 'total_cases', \n",
    "#                hue = 'anatomy', \n",
    "#                data = all_df,\n",
    "#                col = 'cutoff',\n",
    "#                col_wrap = 3,\n",
    "#                sharey = False,\n",
    "#               size = 8)"
   ]
  },
  {
   "cell_type": "code",
   "execution_count": 18,
   "metadata": {
    "_uuid": "cf760968c9f18b3228202276e8fa82c37e535782"
   },
   "outputs": [
    {
     "name": "stderr",
     "output_type": "stream",
     "text": [
      "/tmp/ipykernel_1139578/1602357311.py:3: DeprecationWarning: DataFrameGroupBy.apply operated on the grouping columns. This behavior is deprecated, and in a future version of pandas the grouping columns will be excluded from the operation. Either pass `include_groups=False` to exclude the groupings or explicitly select the grouping columns after groupby to silence this warning.\n",
      "  'anatomy').apply(lambda x: pd.Series(\n"
     ]
    },
    {
     "data": {
      "text/plain": [
       "{'Liver': (258, 44),\n",
       " 'Lung': (368, 56),\n",
       " 'Ovarian': (437, 106),\n",
       " 'Renal': (1282, 237)}"
      ]
     },
     "execution_count": 18,
     "metadata": {},
     "output_type": "execute_result"
    }
   ],
   "source": [
    "total_annotation_count = {k['anatomy']: (k['count'], k['cases'])\n",
    "                                         for k in pd.read_csv('./input/CrowdsCureCancer2017Annotations.scaled.csv').groupby(\n",
    "    'anatomy').apply(lambda x: pd.Series(\n",
    "    {'count': x.shape[0], 'cases': np.unique(x['seriesUID']).shape[0]})).reset_index().T.to_dict().values()}\n",
    "total_annotation_count"
   ]
  },
  {
   "cell_type": "code",
   "execution_count": 19,
   "metadata": {
    "_uuid": "bbbcf3b8ae49e350eb61a4ebde7217c67f3d892a"
   },
   "outputs": [],
   "source": [
    "# FIRST-AUTHOR: remove plotting\n",
    "# fig, m_axs = plt.subplots(2, 2, figsize = (20, 20))\n",
    "# for (c_organ, c_df), ax1 in zip(all_df.groupby('anatomy'), m_axs.flatten()):\n",
    "for c_organ, c_df in all_df.groupby('anatomy'):\n",
    "    X, x_vals = c_df['annot_per_case_cutoff'].factorize()\n",
    "    Y, y_vals = c_df['cutoff'].factorize()\n",
    "    c_mat = np.zeros((X.max()+1, Y.max()+1), dtype = 'int')\n",
    "    c_mat[X, Y] = c_df['total_cases'].values.astype(int)\n",
    "# FIRST-AUTHOR: remove plotting\n",
    "#     ax1 = sns.heatmap(c_mat.T, annot = True, fmt = 'd', ax = ax1)\n",
    "#     ax1.set_xticklabels(x_vals)\n",
    "#     ax1.set_yticklabels(y_vals)\n",
    "#     ax1.set_xlabel('Annotations Per Case')\n",
    "#     ax1.set_ylabel('Minimum Agreement (DICE %)')\n",
    "#     ax1.set_title('{0}: Patients: {2}, Annotations: {1}'.format(c_organ, *total_annotation_count[c_organ]))\n",
    "    _ = c_mat.T\n",
    "    _ = total_annotation_count[c_organ]"
   ]
  },
  {
   "cell_type": "code",
   "execution_count": null,
   "metadata": {
    "_uuid": "df0250352f5ee63e3c09f5531c8ce85e7d002882"
   },
   "outputs": [],
   "source": []
  }
 ],
 "metadata": {
  "kernelspec": {
   "display_name": "Python 3 (ipykernel)",
   "language": "python",
   "name": "python3"
  },
  "language_info": {
   "codemirror_mode": {
    "name": "ipython",
    "version": 3
   },
   "file_extension": ".py",
   "mimetype": "text/x-python",
   "name": "python",
   "nbconvert_exporter": "python",
   "pygments_lexer": "ipython3",
   "version": "3.10.16"
  }
 },
 "nbformat": 4,
 "nbformat_minor": 1
}