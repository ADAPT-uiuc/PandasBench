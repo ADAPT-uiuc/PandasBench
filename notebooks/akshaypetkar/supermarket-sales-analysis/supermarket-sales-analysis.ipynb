{
 "cells": [
  {
   "cell_type": "code",
   "execution_count": 1,
   "id": "96db3d0b",
   "metadata": {},
   "outputs": [],
   "source": [
    "import os\n",
    "\n",
    "def scale_input_data(scale_factor):\n",
    "  file_bases = ['./input/annex1', './input/annex2']\n",
    "  for file_base in file_bases:\n",
    "    import pandas as pd\n",
    "    import shutil\n",
    "    if scale_factor == 1.0:\n",
    "      shutil.copyfile(file_base + '.csv', file_base + '.scaled.csv')\n",
    "      continue\n",
    "    df_to_scale = pd.read_csv(file_base + '.csv')\n",
    "    new_num_rows = int(scale_factor * len(df_to_scale))\n",
    "    if scale_factor <= 1.0:\n",
    "      df_to_scale = df_to_scale.iloc[:new_num_rows]\n",
    "    else:\n",
    "      while len(df_to_scale) < new_num_rows:\n",
    "        df_to_scale = pd.concat([df_to_scale, df_to_scale[:min(new_num_rows - len(df_to_scale), len(df_to_scale))]])\n",
    "    df_to_scale.to_csv(file_base + '.scaled.csv', index=False)\n",
    "\n",
    "if 'INPUT_SCALE_FACTOR' in os.environ:\n",
    "  scale_input_data(float(os.environ['INPUT_SCALE_FACTOR']))"
   ]
  },
  {
   "cell_type": "code",
   "execution_count": 2,
   "id": "753b6445",
   "metadata": {
    "_cell_guid": "b1076dfc-b9ad-4769-8c92-a6c4dae69d19",
    "_uuid": "8f2839f25d086af736a60e9eeb907d3b93b6e0e5",
    "execution": {
     "iopub.execute_input": "2024-02-13T05:40:43.209895Z",
     "iopub.status.busy": "2024-02-13T05:40:43.208997Z",
     "iopub.status.idle": "2024-02-13T05:40:45.946761Z",
     "shell.execute_reply": "2024-02-13T05:40:45.945504Z"
    },
    "papermill": {
     "duration": 2.757248,
     "end_time": "2024-02-13T05:40:45.949902",
     "exception": false,
     "start_time": "2024-02-13T05:40:43.192654",
     "status": "completed"
    },
    "tags": []
   },
   "outputs": [
    {
     "name": "stderr",
     "output_type": "stream",
     "text": [
      "/home/alex/Programs/python/dias/.venv/lib64/python3.10/site-packages/pyspark/pandas/__init__.py:50: UserWarning: 'PYARROW_IGNORE_TIMEZONE' environment variable was not set. It is required to set this environment variable to '1' in both driver and executor sides if you use pyarrow>=2.0.0. pandas-on-Spark will set it for you but it does not work if there is a Spark context already launched.\n",
      "  warnings.warn(\n"
     ]
    }
   ],
   "source": [
    "# import pandas as pd\n",
    "exec(os.environ['IREWR_IMPORTS'])\n",
    "import numpy as np\n",
    "# ALEX: remove plotting\n",
    "# import matplotlib.pyplot as plt\n",
    "# import seaborn as sns"
   ]
  },
  {
   "cell_type": "code",
   "execution_count": 3,
   "id": "ac043ec5",
   "metadata": {
    "execution": {
     "iopub.execute_input": "2024-02-13T05:40:45.978777Z",
     "iopub.status.busy": "2024-02-13T05:40:45.978191Z",
     "iopub.status.idle": "2024-02-13T05:40:46.029529Z",
     "shell.execute_reply": "2024-02-13T05:40:46.028224Z"
    },
    "papermill": {
     "duration": 0.068615,
     "end_time": "2024-02-13T05:40:46.032523",
     "exception": false,
     "start_time": "2024-02-13T05:40:45.963908",
     "status": "completed"
    },
    "tags": []
   },
   "outputs": [
    {
     "name": "stderr",
     "output_type": "stream",
     "text": [
      "Setting default log level to \"WARN\".\n",
      "To adjust logging level use sc.setLogLevel(newLevel). For SparkR, use setLogLevel(newLevel).\n",
      "25/01/26 22:06:42 WARN NativeCodeLoader: Unable to load native-hadoop library for your platform... using builtin-java classes where applicable\n",
      "25/01/26 22:06:42 WARN Utils: Service 'SparkUI' could not bind on port 4040. Attempting port 4041.\n",
      "25/01/26 22:06:42 WARN Utils: Service 'SparkUI' could not bind on port 4041. Attempting port 4042.\n",
      "/home/alex/Programs/python/dias/.venv/lib64/python3.10/site-packages/pyspark/pandas/utils.py:1016: PandasAPIOnSparkAdviceWarning: If `index_col` is not specified for `read_csv`, the default index is attached which can cause additional overhead.\n",
      "  warnings.warn(message, PandasAPIOnSparkAdviceWarning)\n"
     ]
    },
    {
     "data": {
      "text/html": [
       "<div>\n",
       "<style scoped>\n",
       "    .dataframe tbody tr th:only-of-type {\n",
       "        vertical-align: middle;\n",
       "    }\n",
       "\n",
       "    .dataframe tbody tr th {\n",
       "        vertical-align: top;\n",
       "    }\n",
       "\n",
       "    .dataframe thead th {\n",
       "        text-align: right;\n",
       "    }\n",
       "</style>\n",
       "<table border=\"1\" class=\"dataframe\">\n",
       "  <thead>\n",
       "    <tr style=\"text-align: right;\">\n",
       "      <th></th>\n",
       "      <th>Item Code</th>\n",
       "      <th>Item Name</th>\n",
       "      <th>Category Code</th>\n",
       "      <th>Category Name</th>\n",
       "    </tr>\n",
       "  </thead>\n",
       "  <tbody>\n",
       "    <tr>\n",
       "      <th>0</th>\n",
       "      <td>102900005115168</td>\n",
       "      <td>Niushou Shengcai</td>\n",
       "      <td>1011010101</td>\n",
       "      <td>Flower/Leaf Vegetables</td>\n",
       "    </tr>\n",
       "    <tr>\n",
       "      <th>1</th>\n",
       "      <td>102900005115199</td>\n",
       "      <td>Sichuan Red Cedar</td>\n",
       "      <td>1011010101</td>\n",
       "      <td>Flower/Leaf Vegetables</td>\n",
       "    </tr>\n",
       "    <tr>\n",
       "      <th>2</th>\n",
       "      <td>102900005115625</td>\n",
       "      <td>Local Xiaomao Cabbage</td>\n",
       "      <td>1011010101</td>\n",
       "      <td>Flower/Leaf Vegetables</td>\n",
       "    </tr>\n",
       "    <tr>\n",
       "      <th>3</th>\n",
       "      <td>102900005115748</td>\n",
       "      <td>White Caitai</td>\n",
       "      <td>1011010101</td>\n",
       "      <td>Flower/Leaf Vegetables</td>\n",
       "    </tr>\n",
       "    <tr>\n",
       "      <th>4</th>\n",
       "      <td>102900005115762</td>\n",
       "      <td>Amaranth</td>\n",
       "      <td>1011010101</td>\n",
       "      <td>Flower/Leaf Vegetables</td>\n",
       "    </tr>\n",
       "  </tbody>\n",
       "</table>\n",
       "</div>"
      ],
      "text/plain": [
       "         Item Code              Item Name  Category Code           Category Name\n",
       "0  102900005115168       Niushou Shengcai     1011010101  Flower/Leaf Vegetables\n",
       "1  102900005115199      Sichuan Red Cedar     1011010101  Flower/Leaf Vegetables\n",
       "2  102900005115625  Local Xiaomao Cabbage     1011010101  Flower/Leaf Vegetables\n",
       "3  102900005115748           White Caitai     1011010101  Flower/Leaf Vegetables\n",
       "4  102900005115762               Amaranth     1011010101  Flower/Leaf Vegetables"
      ]
     },
     "execution_count": 3,
     "metadata": {},
     "output_type": "execute_result"
    }
   ],
   "source": [
    "df = pd.read_csv('./input/annex1.scaled.csv')\n",
    "df.head()"
   ]
  },
  {
   "cell_type": "code",
   "execution_count": 4,
   "id": "f166b8ae",
   "metadata": {
    "execution": {
     "iopub.execute_input": "2024-02-13T05:40:46.062354Z",
     "iopub.status.busy": "2024-02-13T05:40:46.061641Z",
     "iopub.status.idle": "2024-02-13T05:40:48.264069Z",
     "shell.execute_reply": "2024-02-13T05:40:48.262857Z"
    },
    "papermill": {
     "duration": 2.220164,
     "end_time": "2024-02-13T05:40:48.266548",
     "exception": false,
     "start_time": "2024-02-13T05:40:46.046384",
     "status": "completed"
    },
    "tags": []
   },
   "outputs": [
    {
     "name": "stderr",
     "output_type": "stream",
     "text": [
      "/home/alex/Programs/python/dias/.venv/lib64/python3.10/site-packages/pyspark/pandas/utils.py:1016: PandasAPIOnSparkAdviceWarning: If `index_col` is not specified for `read_csv`, the default index is attached which can cause additional overhead.\n",
      "  warnings.warn(message, PandasAPIOnSparkAdviceWarning)\n",
      "                                                                                \r"
     ]
    },
    {
     "data": {
      "text/html": [
       "<div>\n",
       "<style scoped>\n",
       "    .dataframe tbody tr th:only-of-type {\n",
       "        vertical-align: middle;\n",
       "    }\n",
       "\n",
       "    .dataframe tbody tr th {\n",
       "        vertical-align: top;\n",
       "    }\n",
       "\n",
       "    .dataframe thead th {\n",
       "        text-align: right;\n",
       "    }\n",
       "</style>\n",
       "<table border=\"1\" class=\"dataframe\">\n",
       "  <thead>\n",
       "    <tr style=\"text-align: right;\">\n",
       "      <th></th>\n",
       "      <th>Date</th>\n",
       "      <th>Time</th>\n",
       "      <th>Item Code</th>\n",
       "      <th>Quantity Sold (kilo)</th>\n",
       "      <th>Unit Selling Price (RMB/kg)</th>\n",
       "      <th>Sale or Return</th>\n",
       "      <th>Discount (Yes/No)</th>\n",
       "    </tr>\n",
       "  </thead>\n",
       "  <tbody>\n",
       "    <tr>\n",
       "      <th>0</th>\n",
       "      <td>2020-07-01</td>\n",
       "      <td>2025-01-26 09:15:07.924</td>\n",
       "      <td>102900005117056</td>\n",
       "      <td>0.396</td>\n",
       "      <td>7.6</td>\n",
       "      <td>sale</td>\n",
       "      <td>No</td>\n",
       "    </tr>\n",
       "    <tr>\n",
       "      <th>1</th>\n",
       "      <td>2020-07-01</td>\n",
       "      <td>2025-01-26 09:17:27.295</td>\n",
       "      <td>102900005115960</td>\n",
       "      <td>0.849</td>\n",
       "      <td>3.2</td>\n",
       "      <td>sale</td>\n",
       "      <td>No</td>\n",
       "    </tr>\n",
       "    <tr>\n",
       "      <th>2</th>\n",
       "      <td>2020-07-01</td>\n",
       "      <td>2025-01-26 09:17:33.905</td>\n",
       "      <td>102900005117056</td>\n",
       "      <td>0.409</td>\n",
       "      <td>7.6</td>\n",
       "      <td>sale</td>\n",
       "      <td>No</td>\n",
       "    </tr>\n",
       "    <tr>\n",
       "      <th>3</th>\n",
       "      <td>2020-07-01</td>\n",
       "      <td>2025-01-26 09:19:45.450</td>\n",
       "      <td>102900005115823</td>\n",
       "      <td>0.421</td>\n",
       "      <td>10.0</td>\n",
       "      <td>sale</td>\n",
       "      <td>No</td>\n",
       "    </tr>\n",
       "    <tr>\n",
       "      <th>4</th>\n",
       "      <td>2020-07-01</td>\n",
       "      <td>2025-01-26 09:20:23.686</td>\n",
       "      <td>102900005115908</td>\n",
       "      <td>0.539</td>\n",
       "      <td>8.0</td>\n",
       "      <td>sale</td>\n",
       "      <td>No</td>\n",
       "    </tr>\n",
       "  </tbody>\n",
       "</table>\n",
       "</div>"
      ],
      "text/plain": [
       "         Date                    Time        Item Code  Quantity Sold (kilo)  Unit Selling Price (RMB/kg) Sale or Return Discount (Yes/No)\n",
       "0  2020-07-01 2025-01-26 09:15:07.924  102900005117056                 0.396                          7.6           sale                No\n",
       "1  2020-07-01 2025-01-26 09:17:27.295  102900005115960                 0.849                          3.2           sale                No\n",
       "2  2020-07-01 2025-01-26 09:17:33.905  102900005117056                 0.409                          7.6           sale                No\n",
       "3  2020-07-01 2025-01-26 09:19:45.450  102900005115823                 0.421                         10.0           sale                No\n",
       "4  2020-07-01 2025-01-26 09:20:23.686  102900005115908                 0.539                          8.0           sale                No"
      ]
     },
     "execution_count": 4,
     "metadata": {},
     "output_type": "execute_result"
    }
   ],
   "source": [
    "df1 = pd.read_csv('./input/annex2.scaled.csv')\n",
    "df1.head()"
   ]
  },
  {
   "cell_type": "code",
   "execution_count": 5,
   "id": "b76a6fe2",
   "metadata": {
    "execution": {
     "iopub.execute_input": "2024-02-13T05:40:48.296386Z",
     "iopub.status.busy": "2024-02-13T05:40:48.295690Z",
     "iopub.status.idle": "2024-02-13T05:40:48.862348Z",
     "shell.execute_reply": "2024-02-13T05:40:48.861079Z"
    },
    "papermill": {
     "duration": 0.584636,
     "end_time": "2024-02-13T05:40:48.865045",
     "exception": false,
     "start_time": "2024-02-13T05:40:48.280409",
     "status": "completed"
    },
    "tags": []
   },
   "outputs": [
    {
     "name": "stderr",
     "output_type": "stream",
     "text": [
      "\r",
      "[Stage 8:>                                                          (0 + 7) / 7]\r",
      "\r",
      "                                                                                \r"
     ]
    },
    {
     "data": {
      "text/html": [
       "<div>\n",
       "<style scoped>\n",
       "    .dataframe tbody tr th:only-of-type {\n",
       "        vertical-align: middle;\n",
       "    }\n",
       "\n",
       "    .dataframe tbody tr th {\n",
       "        vertical-align: top;\n",
       "    }\n",
       "\n",
       "    .dataframe thead th {\n",
       "        text-align: right;\n",
       "    }\n",
       "</style>\n",
       "<table border=\"1\" class=\"dataframe\">\n",
       "  <thead>\n",
       "    <tr style=\"text-align: right;\">\n",
       "      <th></th>\n",
       "      <th>Item Code</th>\n",
       "      <th>Item Name</th>\n",
       "      <th>Category Code</th>\n",
       "      <th>Category Name</th>\n",
       "      <th>Date</th>\n",
       "      <th>Time</th>\n",
       "      <th>Quantity Sold (kilo)</th>\n",
       "      <th>Unit Selling Price (RMB/kg)</th>\n",
       "      <th>Sale or Return</th>\n",
       "      <th>Discount (Yes/No)</th>\n",
       "    </tr>\n",
       "  </thead>\n",
       "  <tbody>\n",
       "    <tr>\n",
       "      <th>0</th>\n",
       "      <td>102900005117056</td>\n",
       "      <td>Paopaojiao (Jingpin)</td>\n",
       "      <td>1011010504</td>\n",
       "      <td>Capsicum</td>\n",
       "      <td>2020-07-01</td>\n",
       "      <td>2025-01-26 09:15:07.924</td>\n",
       "      <td>0.396</td>\n",
       "      <td>7.6</td>\n",
       "      <td>sale</td>\n",
       "      <td>No</td>\n",
       "    </tr>\n",
       "    <tr>\n",
       "      <th>1</th>\n",
       "      <td>102900005115960</td>\n",
       "      <td>Chinese Cabbage</td>\n",
       "      <td>1011010101</td>\n",
       "      <td>Flower/Leaf Vegetables</td>\n",
       "      <td>2020-07-01</td>\n",
       "      <td>2025-01-26 09:17:27.295</td>\n",
       "      <td>0.849</td>\n",
       "      <td>3.2</td>\n",
       "      <td>sale</td>\n",
       "      <td>No</td>\n",
       "    </tr>\n",
       "    <tr>\n",
       "      <th>2</th>\n",
       "      <td>102900005117056</td>\n",
       "      <td>Paopaojiao (Jingpin)</td>\n",
       "      <td>1011010504</td>\n",
       "      <td>Capsicum</td>\n",
       "      <td>2020-07-01</td>\n",
       "      <td>2025-01-26 09:17:33.905</td>\n",
       "      <td>0.409</td>\n",
       "      <td>7.6</td>\n",
       "      <td>sale</td>\n",
       "      <td>No</td>\n",
       "    </tr>\n",
       "    <tr>\n",
       "      <th>3</th>\n",
       "      <td>102900005115823</td>\n",
       "      <td>Shanghaiqing</td>\n",
       "      <td>1011010101</td>\n",
       "      <td>Flower/Leaf Vegetables</td>\n",
       "      <td>2020-07-01</td>\n",
       "      <td>2025-01-26 09:19:45.450</td>\n",
       "      <td>0.421</td>\n",
       "      <td>10.0</td>\n",
       "      <td>sale</td>\n",
       "      <td>No</td>\n",
       "    </tr>\n",
       "    <tr>\n",
       "      <th>4</th>\n",
       "      <td>102900005115908</td>\n",
       "      <td>Caixin</td>\n",
       "      <td>1011010101</td>\n",
       "      <td>Flower/Leaf Vegetables</td>\n",
       "      <td>2020-07-01</td>\n",
       "      <td>2025-01-26 09:20:23.686</td>\n",
       "      <td>0.539</td>\n",
       "      <td>8.0</td>\n",
       "      <td>sale</td>\n",
       "      <td>No</td>\n",
       "    </tr>\n",
       "  </tbody>\n",
       "</table>\n",
       "</div>"
      ],
      "text/plain": [
       "         Item Code             Item Name  Category Code           Category Name        Date                    Time  Quantity Sold (kilo)  Unit Selling Price (RMB/kg) Sale or Return Discount (Yes/No)\n",
       "0  102900005117056  Paopaojiao (Jingpin)     1011010504                Capsicum  2020-07-01 2025-01-26 09:15:07.924                 0.396                          7.6           sale                No\n",
       "1  102900005115960       Chinese Cabbage     1011010101  Flower/Leaf Vegetables  2020-07-01 2025-01-26 09:17:27.295                 0.849                          3.2           sale                No\n",
       "2  102900005117056  Paopaojiao (Jingpin)     1011010504                Capsicum  2020-07-01 2025-01-26 09:17:33.905                 0.409                          7.6           sale                No\n",
       "3  102900005115823          Shanghaiqing     1011010101  Flower/Leaf Vegetables  2020-07-01 2025-01-26 09:19:45.450                 0.421                         10.0           sale                No\n",
       "4  102900005115908                Caixin     1011010101  Flower/Leaf Vegetables  2020-07-01 2025-01-26 09:20:23.686                 0.539                          8.0           sale                No"
      ]
     },
     "execution_count": 5,
     "metadata": {},
     "output_type": "execute_result"
    }
   ],
   "source": [
    "# Join the both DataFrames\n",
    "\n",
    "merge = pd.merge(df, df1, on ='Item Code')\n",
    "merge.head()"
   ]
  },
  {
   "cell_type": "markdown",
   "id": "1d55a31d",
   "metadata": {
    "papermill": {
     "duration": 0.013609,
     "end_time": "2024-02-13T05:40:48.892805",
     "exception": false,
     "start_time": "2024-02-13T05:40:48.879196",
     "status": "completed"
    },
    "tags": []
   },
   "source": [
    "# Data Preparation"
   ]
  },
  {
   "cell_type": "code",
   "execution_count": 6,
   "id": "9b1b16d1",
   "metadata": {
    "execution": {
     "iopub.execute_input": "2024-02-13T05:40:48.923115Z",
     "iopub.status.busy": "2024-02-13T05:40:48.922717Z",
     "iopub.status.idle": "2024-02-13T05:40:49.158698Z",
     "shell.execute_reply": "2024-02-13T05:40:49.157654Z"
    },
    "papermill": {
     "duration": 0.254907,
     "end_time": "2024-02-13T05:40:49.161690",
     "exception": false,
     "start_time": "2024-02-13T05:40:48.906783",
     "status": "completed"
    },
    "tags": []
   },
   "outputs": [],
   "source": [
    "# Rename Columns\n",
    "merge =merge.rename(columns={'Quantity Sold (kilo)':'Quantity Sold', 'Unit Selling Price (RMB/kg)':'Unit Selling Price','Discount (Yes/No)':'Discount'})"
   ]
  },
  {
   "cell_type": "code",
   "execution_count": 7,
   "id": "ff5ed5b8",
   "metadata": {
    "execution": {
     "iopub.execute_input": "2024-02-13T05:40:49.191585Z",
     "iopub.status.busy": "2024-02-13T05:40:49.191196Z",
     "iopub.status.idle": "2024-02-13T05:40:49.348691Z",
     "shell.execute_reply": "2024-02-13T05:40:49.347517Z"
    },
    "papermill": {
     "duration": 0.176178,
     "end_time": "2024-02-13T05:40:49.351774",
     "exception": false,
     "start_time": "2024-02-13T05:40:49.175596",
     "status": "completed"
    },
    "tags": []
   },
   "outputs": [],
   "source": [
    "#Change datatype of date column.\n",
    "\n",
    "merge['Date']=pd.to_datetime(merge['Date'])"
   ]
  },
  {
   "cell_type": "code",
   "execution_count": 8,
   "id": "7a1c0ce7",
   "metadata": {
    "execution": {
     "iopub.execute_input": "2024-02-13T05:40:49.381700Z",
     "iopub.status.busy": "2024-02-13T05:40:49.381216Z",
     "iopub.status.idle": "2024-02-13T05:40:49.891153Z",
     "shell.execute_reply": "2024-02-13T05:40:49.889925Z"
    },
    "papermill": {
     "duration": 0.528265,
     "end_time": "2024-02-13T05:40:49.894060",
     "exception": false,
     "start_time": "2024-02-13T05:40:49.365795",
     "status": "completed"
    },
    "tags": []
   },
   "outputs": [
    {
     "name": "stderr",
     "output_type": "stream",
     "text": [
      "25/01/26 22:06:53 WARN AttachDistributedSequenceExec: clean up cached RDD(52) in AttachDistributedSequenceExec(333)\n",
      "                                                                                \r"
     ]
    },
    {
     "data": {
      "text/plain": [
       "Item Code             0\n",
       "Item Name             0\n",
       "Category Code         0\n",
       "Category Name         0\n",
       "Date                  0\n",
       "Time                  0\n",
       "Quantity Sold         0\n",
       "Unit Selling Price    0\n",
       "Sale or Return        0\n",
       "Discount              0\n",
       "dtype: int64"
      ]
     },
     "execution_count": 8,
     "metadata": {},
     "output_type": "execute_result"
    }
   ],
   "source": [
    "evaluate_lazy(merge.isnull().sum())"
   ]
  },
  {
   "cell_type": "markdown",
   "id": "5e39f591",
   "metadata": {
    "papermill": {
     "duration": 0.013953,
     "end_time": "2024-02-13T05:40:49.923286",
     "exception": false,
     "start_time": "2024-02-13T05:40:49.909333",
     "status": "completed"
    },
    "tags": []
   },
   "source": [
    "# Exploratory Data Analysis"
   ]
  },
  {
   "cell_type": "code",
   "execution_count": 9,
   "id": "6ba62932",
   "metadata": {
    "execution": {
     "iopub.execute_input": "2024-02-13T05:40:49.953491Z",
     "iopub.status.busy": "2024-02-13T05:40:49.953050Z",
     "iopub.status.idle": "2024-02-13T05:40:50.071935Z",
     "shell.execute_reply": "2024-02-13T05:40:50.070775Z"
    },
    "papermill": {
     "duration": 0.137608,
     "end_time": "2024-02-13T05:40:50.075033",
     "exception": false,
     "start_time": "2024-02-13T05:40:49.937425",
     "status": "completed"
    },
    "tags": []
   },
   "outputs": [
    {
     "name": "stderr",
     "output_type": "stream",
     "text": [
      "/home/alex/Programs/python/dias/.venv/lib64/python3.10/site-packages/pyspark/pandas/base.py:1437: FutureWarning: The resulting Series will have a fixed name of 'count' from 4.0.0.\n",
      "  warnings.warn(\n"
     ]
    },
    {
     "data": {
      "text/plain": [
       "Flower/Leaf Vegetables         331968\n",
       "Capsicum                       207996\n",
       "Edible Mushroom                148424\n",
       "Cabbage                         86570\n",
       "Aquatic Tuberous Vegetables     58647\n",
       "Solanum                         44898\n",
       "Name: Category Name, dtype: int64"
      ]
     },
     "execution_count": 9,
     "metadata": {},
     "output_type": "execute_result"
    }
   ],
   "source": [
    "Category_count=merge['Category Name'].value_counts()\n",
    "evaluate_lazy(Category_count)"
   ]
  },
  {
   "cell_type": "code",
   "execution_count": 10,
   "id": "d1930734",
   "metadata": {
    "execution": {
     "iopub.execute_input": "2024-02-13T05:40:50.106756Z",
     "iopub.status.busy": "2024-02-13T05:40:50.106306Z",
     "iopub.status.idle": "2024-02-13T05:40:50.447694Z",
     "shell.execute_reply": "2024-02-13T05:40:50.446164Z"
    },
    "papermill": {
     "duration": 0.361462,
     "end_time": "2024-02-13T05:40:50.450935",
     "exception": false,
     "start_time": "2024-02-13T05:40:50.089473",
     "status": "completed"
    },
    "tags": []
   },
   "outputs": [
    {
     "name": "stderr",
     "output_type": "stream",
     "text": [
      "/home/alex/Programs/python/dias/.venv/lib64/python3.10/site-packages/pyspark/pandas/generic.py:647: UserWarning: We recommend using `Series.to_numpy()` instead.\n",
      "  warnings.warn(\"We recommend using `{}.to_numpy()` instead.\".format(type(self).__name__))\n",
      "/home/alex/Programs/python/dias/.venv/lib64/python3.10/site-packages/pyspark/pandas/utils.py:1016: PandasAPIOnSparkAdviceWarning: `to_numpy` loads all data into the driver's memory. It should only be used if the resulting NumPy ndarray is expected to be small.\n",
      "  warnings.warn(message, PandasAPIOnSparkAdviceWarning)\n"
     ]
    },
    {
     "data": {
      "text/plain": [
       "array([331968, 207996, 148424,  86570,  58647,  44898])"
      ]
     },
     "execution_count": 10,
     "metadata": {},
     "output_type": "execute_result"
    }
   ],
   "source": [
    "# ALEX: remove plotting\n",
    "# plt.figure(figsize=(8,6))\n",
    "# colors = ['blue', 'green', 'red', 'purple', 'orange', 'yellow']\n",
    "# plt.bar(Category_count.index, Category_count.values, color = colors)\n",
    "# plt.title(\"Category wise Order Count\")\n",
    "# plt.xticks(rotation=90)\n",
    "# plt.show()\n",
    "Category_count.index\n",
    "Category_count.values"
   ]
  },
  {
   "cell_type": "code",
   "execution_count": 11,
   "id": "1200fe73",
   "metadata": {
    "execution": {
     "iopub.execute_input": "2024-02-13T05:40:50.483592Z",
     "iopub.status.busy": "2024-02-13T05:40:50.483141Z",
     "iopub.status.idle": "2024-02-13T05:40:50.601962Z",
     "shell.execute_reply": "2024-02-13T05:40:50.600768Z"
    },
    "papermill": {
     "duration": 0.138234,
     "end_time": "2024-02-13T05:40:50.604421",
     "exception": false,
     "start_time": "2024-02-13T05:40:50.466187",
     "status": "completed"
    },
    "tags": []
   },
   "outputs": [
    {
     "name": "stderr",
     "output_type": "stream",
     "text": [
      "/home/alex/Programs/python/dias/.venv/lib64/python3.10/site-packages/pyspark/pandas/base.py:1437: FutureWarning: The resulting Series will have a fixed name of 'count' from 4.0.0.\n",
      "  warnings.warn(\n"
     ]
    },
    {
     "data": {
      "text/plain": [
       "Wuhu Green Pepper (1)    69945\n",
       "Broccoli                 58906\n",
       "Xixia Mushroom (1)       47509\n",
       "Yunnan Shengcai          39887\n",
       "Net Lotus Root (1)       39285\n",
       "Eggplant (2)             27455\n",
       "Paopaojiao (Jingpin)     25338\n",
       "Yunnan Lettuces          23265\n",
       "Luosi Pepper             22678\n",
       "Chinese Cabbage          19148\n",
       "Name: Item Name, dtype: int64"
      ]
     },
     "execution_count": 11,
     "metadata": {},
     "output_type": "execute_result"
    }
   ],
   "source": [
    "top_10_products =merge['Item Name'].value_counts()[:10]\n",
    "evaluate_lazy(top_10_products)"
   ]
  },
  {
   "cell_type": "code",
   "execution_count": 12,
   "id": "28481029",
   "metadata": {
    "execution": {
     "iopub.execute_input": "2024-02-13T05:40:50.637112Z",
     "iopub.status.busy": "2024-02-13T05:40:50.636632Z",
     "iopub.status.idle": "2024-02-13T05:40:50.993395Z",
     "shell.execute_reply": "2024-02-13T05:40:50.992185Z"
    },
    "papermill": {
     "duration": 0.376836,
     "end_time": "2024-02-13T05:40:50.996218",
     "exception": false,
     "start_time": "2024-02-13T05:40:50.619382",
     "status": "completed"
    },
    "tags": []
   },
   "outputs": [
    {
     "name": "stderr",
     "output_type": "stream",
     "text": [
      "/home/alex/Programs/python/dias/.venv/lib64/python3.10/site-packages/pyspark/pandas/generic.py:647: UserWarning: We recommend using `Series.to_numpy()` instead.\n",
      "  warnings.warn(\"We recommend using `{}.to_numpy()` instead.\".format(type(self).__name__))\n",
      "/home/alex/Programs/python/dias/.venv/lib64/python3.10/site-packages/pyspark/pandas/utils.py:1016: PandasAPIOnSparkAdviceWarning: `to_numpy` loads all data into the driver's memory. It should only be used if the resulting NumPy ndarray is expected to be small.\n",
      "  warnings.warn(message, PandasAPIOnSparkAdviceWarning)\n"
     ]
    },
    {
     "data": {
      "text/plain": [
       "array([69945, 58906, 47509, 39887, 39285, 27455, 25338, 23265, 22678,\n",
       "       19148])"
      ]
     },
     "execution_count": 12,
     "metadata": {},
     "output_type": "execute_result"
    }
   ],
   "source": [
    "# ALEX: remove plotting\n",
    "# plt.figure(figsize=(10,6))\n",
    "# colors = ['red', 'green', 'blue', 'yellow', 'purple', 'orange', 'pink', 'teal', 'brown', 'gray']\n",
    "\n",
    "# plt.bar(top_10_products.index, top_10_products.values, color = colors)\n",
    "# plt.title(\"Top 10 Products by its Order count\")\n",
    "# plt.xticks(rotation=90)\n",
    "# plt.show()\n",
    "top_10_products.index\n",
    "top_10_products.values"
   ]
  },
  {
   "cell_type": "code",
   "execution_count": 13,
   "id": "b7213b94",
   "metadata": {
    "execution": {
     "iopub.execute_input": "2024-02-13T05:40:51.030890Z",
     "iopub.status.busy": "2024-02-13T05:40:51.030479Z",
     "iopub.status.idle": "2024-02-13T05:40:51.040975Z",
     "shell.execute_reply": "2024-02-13T05:40:51.039672Z"
    },
    "papermill": {
     "duration": 0.03174,
     "end_time": "2024-02-13T05:40:51.044464",
     "exception": false,
     "start_time": "2024-02-13T05:40:51.012724",
     "status": "completed"
    },
    "tags": []
   },
   "outputs": [],
   "source": [
    "# Creating sales column\n",
    "\n",
    "merge['Sales']= merge['Unit Selling Price'] * merge['Quantity Sold']"
   ]
  },
  {
   "cell_type": "code",
   "execution_count": 14,
   "id": "c4d53705",
   "metadata": {
    "execution": {
     "iopub.execute_input": "2024-02-13T05:40:51.082376Z",
     "iopub.status.busy": "2024-02-13T05:40:51.081622Z",
     "iopub.status.idle": "2024-02-13T05:40:51.194381Z",
     "shell.execute_reply": "2024-02-13T05:40:51.193338Z"
    },
    "papermill": {
     "duration": 0.134011,
     "end_time": "2024-02-13T05:40:51.196893",
     "exception": false,
     "start_time": "2024-02-13T05:40:51.062882",
     "status": "completed"
    },
    "tags": []
   },
   "outputs": [
    {
     "name": "stderr",
     "output_type": "stream",
     "text": [
      "/home/alex/Programs/python/dias/.venv/lib64/python3.10/site-packages/pyspark/pandas/groupby.py:893: FutureWarning: Default value of `numeric_only` will be changed to `False` instead of `True` in 4.0.0.\n",
      "  warnings.warn(\n",
      "/home/alex/Programs/python/dias/.venv/lib64/python3.10/site-packages/pyspark/pandas/utils.py:1016: PandasAPIOnSparkAdviceWarning: If `index_col` is not specified for `to_spark`, the existing index is lost when converting to Spark DataFrame.\n",
      "  warnings.warn(message, PandasAPIOnSparkAdviceWarning)\n"
     ]
    },
    {
     "data": {
      "text/html": [
       "<div>\n",
       "<style scoped>\n",
       "    .dataframe tbody tr th:only-of-type {\n",
       "        vertical-align: middle;\n",
       "    }\n",
       "\n",
       "    .dataframe tbody tr th {\n",
       "        vertical-align: top;\n",
       "    }\n",
       "\n",
       "    .dataframe thead th {\n",
       "        text-align: right;\n",
       "    }\n",
       "</style>\n",
       "<table border=\"1\" class=\"dataframe\">\n",
       "  <thead>\n",
       "    <tr style=\"text-align: right;\">\n",
       "      <th></th>\n",
       "      <th>Item Name</th>\n",
       "      <th>Sales</th>\n",
       "    </tr>\n",
       "  </thead>\n",
       "  <tbody>\n",
       "    <tr>\n",
       "      <th>8</th>\n",
       "      <td>Broccoli</td>\n",
       "      <td>269880.9572</td>\n",
       "    </tr>\n",
       "    <tr>\n",
       "      <th>58</th>\n",
       "      <td>Net Lotus Root (1)</td>\n",
       "      <td>211652.1013</td>\n",
       "    </tr>\n",
       "    <tr>\n",
       "      <th>17</th>\n",
       "      <td>Xixia Mushroom (1)</td>\n",
       "      <td>211198.3864</td>\n",
       "    </tr>\n",
       "    <tr>\n",
       "      <th>15</th>\n",
       "      <td>Wuhu Green Pepper (1)</td>\n",
       "      <td>205113.6991</td>\n",
       "    </tr>\n",
       "    <tr>\n",
       "      <th>26</th>\n",
       "      <td>Yunnan Shengcai</td>\n",
       "      <td>129756.9615</td>\n",
       "    </tr>\n",
       "    <tr>\n",
       "      <th>42</th>\n",
       "      <td>Eggplant (2)</td>\n",
       "      <td>117729.4239</td>\n",
       "    </tr>\n",
       "    <tr>\n",
       "      <th>39</th>\n",
       "      <td>Paopaojiao (Jingpin)</td>\n",
       "      <td>95568.6339</td>\n",
       "    </tr>\n",
       "    <tr>\n",
       "      <th>4</th>\n",
       "      <td>Luosi Pepper</td>\n",
       "      <td>82009.3451</td>\n",
       "    </tr>\n",
       "    <tr>\n",
       "      <th>20</th>\n",
       "      <td>Yunnan Lettuces</td>\n",
       "      <td>70665.1061</td>\n",
       "    </tr>\n",
       "    <tr>\n",
       "      <th>61</th>\n",
       "      <td>Chinese Cabbage</td>\n",
       "      <td>65675.4366</td>\n",
       "    </tr>\n",
       "  </tbody>\n",
       "</table>\n",
       "</div>"
      ],
      "text/plain": [
       "                Item Name        Sales\n",
       "8                Broccoli  269880.9572\n",
       "58     Net Lotus Root (1)  211652.1013\n",
       "17     Xixia Mushroom (1)  211198.3864\n",
       "15  Wuhu Green Pepper (1)  205113.6991\n",
       "26        Yunnan Shengcai  129756.9615\n",
       "42           Eggplant (2)  117729.4239\n",
       "39   Paopaojiao (Jingpin)   95568.6339\n",
       "4            Luosi Pepper   82009.3451\n",
       "20        Yunnan Lettuces   70665.1061\n",
       "61        Chinese Cabbage   65675.4366"
      ]
     },
     "execution_count": 14,
     "metadata": {},
     "output_type": "execute_result"
    }
   ],
   "source": [
    "Item_sales = merge.groupby('Item Name',as_index=False)['Sales'].sum().sort_values(by='Sales',ascending=False).head(10)\n",
    "evaluate_lazy(Item_sales)"
   ]
  },
  {
   "cell_type": "code",
   "execution_count": 15,
   "id": "a6569274",
   "metadata": {
    "execution": {
     "iopub.execute_input": "2024-02-13T05:40:51.231432Z",
     "iopub.status.busy": "2024-02-13T05:40:51.230985Z",
     "iopub.status.idle": "2024-02-13T05:40:51.675801Z",
     "shell.execute_reply": "2024-02-13T05:40:51.674566Z"
    },
    "papermill": {
     "duration": 0.465663,
     "end_time": "2024-02-13T05:40:51.678555",
     "exception": false,
     "start_time": "2024-02-13T05:40:51.212892",
     "status": "completed"
    },
    "tags": []
   },
   "outputs": [],
   "source": [
    "# ALEX: remove plotting\n",
    "# plt.figure(figsize=(10,8))\n",
    "# ab=sns.barplot(x='Item Name',y='Sales',data=Item_sales)\n",
    "# ab.bar_label(ab.containers[0])\n",
    "# plt.title('Top 10 Products by its Sales')\n",
    "# plt.xlabel('Product Name')\n",
    "# plt.ylabel('Sales')\n",
    "# plt.xticks(rotation=90)\n",
    "# plt.show()"
   ]
  },
  {
   "cell_type": "code",
   "execution_count": 16,
   "id": "c6e22310",
   "metadata": {
    "execution": {
     "iopub.execute_input": "2024-02-13T05:40:51.715805Z",
     "iopub.status.busy": "2024-02-13T05:40:51.714551Z",
     "iopub.status.idle": "2024-02-13T05:40:51.803379Z",
     "shell.execute_reply": "2024-02-13T05:40:51.802169Z"
    },
    "papermill": {
     "duration": 0.11042,
     "end_time": "2024-02-13T05:40:51.806248",
     "exception": false,
     "start_time": "2024-02-13T05:40:51.695828",
     "status": "completed"
    },
    "tags": []
   },
   "outputs": [],
   "source": [
    "#Add year column in dataframe\n",
    "merge['Year'] = merge['Date'].dt.year"
   ]
  },
  {
   "cell_type": "code",
   "execution_count": 17,
   "id": "e14eae54",
   "metadata": {
    "execution": {
     "iopub.execute_input": "2024-02-13T05:40:51.843975Z",
     "iopub.status.busy": "2024-02-13T05:40:51.843520Z",
     "iopub.status.idle": "2024-02-13T05:40:51.871271Z",
     "shell.execute_reply": "2024-02-13T05:40:51.869981Z"
    },
    "papermill": {
     "duration": 0.04948,
     "end_time": "2024-02-13T05:40:51.874047",
     "exception": false,
     "start_time": "2024-02-13T05:40:51.824567",
     "status": "completed"
    },
    "tags": []
   },
   "outputs": [
    {
     "name": "stderr",
     "output_type": "stream",
     "text": [
      "/home/alex/Programs/python/dias/.venv/lib64/python3.10/site-packages/pyspark/pandas/groupby.py:893: FutureWarning: Default value of `numeric_only` will be changed to `False` instead of `True` in 4.0.0.\n",
      "  warnings.warn(\n",
      "25/01/26 22:07:02 WARN AttachDistributedSequenceExec: clean up cached RDD(157) in AttachDistributedSequenceExec(1608)\n",
      "                                                                                \r"
     ]
    },
    {
     "data": {
      "text/plain": [
       "Year\n",
       "2020    6.695293e+05\n",
       "2021    1.100363e+06\n",
       "2022    1.036772e+06\n",
       "2023    5.631021e+05\n",
       "Name: Sales, dtype: float64"
      ]
     },
     "execution_count": 17,
     "metadata": {},
     "output_type": "execute_result"
    }
   ],
   "source": [
    "Year_wise_sales=merge.groupby('Year')['Sales'].sum()\n",
    "evaluate_lazy(Year_wise_sales)"
   ]
  },
  {
   "cell_type": "code",
   "execution_count": 18,
   "id": "3166cd03",
   "metadata": {
    "execution": {
     "iopub.execute_input": "2024-02-13T05:40:51.978076Z",
     "iopub.status.busy": "2024-02-13T05:40:51.977563Z",
     "iopub.status.idle": "2024-02-13T05:40:52.165535Z",
     "shell.execute_reply": "2024-02-13T05:40:52.163786Z"
    },
    "papermill": {
     "duration": 0.21112,
     "end_time": "2024-02-13T05:40:52.169934",
     "exception": false,
     "start_time": "2024-02-13T05:40:51.958814",
     "status": "completed"
    },
    "tags": []
   },
   "outputs": [
    {
     "data": {
      "text/plain": [
       "Int64Index([2020, 2021, 2022, 2023], dtype='int64', name='Year')"
      ]
     },
     "execution_count": 18,
     "metadata": {},
     "output_type": "execute_result"
    }
   ],
   "source": [
    "# ALEX: remove plotting\n",
    "# plt.figure(figsize=(6,6))\n",
    "# plt.pie(Year_wise_sales,autopct ='%.2f%%',labels =Year_wise_sales.index)\n",
    "# plt.title('Year Wise Sales')\n",
    "# plt.show()\n",
    "evaluate_lazy(Year_wise_sales.index)"
   ]
  },
  {
   "cell_type": "code",
   "execution_count": 19,
   "id": "def2a5fd",
   "metadata": {
    "execution": {
     "iopub.execute_input": "2024-02-13T05:40:52.224299Z",
     "iopub.status.busy": "2024-02-13T05:40:52.223498Z",
     "iopub.status.idle": "2024-02-13T05:40:52.378777Z",
     "shell.execute_reply": "2024-02-13T05:40:52.377649Z"
    },
    "papermill": {
     "duration": 0.177957,
     "end_time": "2024-02-13T05:40:52.381724",
     "exception": false,
     "start_time": "2024-02-13T05:40:52.203767",
     "status": "completed"
    },
    "tags": []
   },
   "outputs": [
    {
     "name": "stderr",
     "output_type": "stream",
     "text": [
      "/home/alex/Programs/python/dias/.venv/lib64/python3.10/site-packages/pyspark/pandas/base.py:1437: FutureWarning: The resulting Series will have a fixed name of 'count' from 4.0.0.\n",
      "  warnings.warn(\n",
      "/home/alex/Programs/python/dias/.venv/lib64/python3.10/site-packages/pyspark/pandas/utils.py:1016: PandasAPIOnSparkAdviceWarning: If `index_col` is not specified for `to_spark`, the existing index is lost when converting to Spark DataFrame.\n",
      "  warnings.warn(message, PandasAPIOnSparkAdviceWarning)\n"
     ]
    },
    {
     "data": {
      "text/html": [
       "<div>\n",
       "<style scoped>\n",
       "    .dataframe tbody tr th:only-of-type {\n",
       "        vertical-align: middle;\n",
       "    }\n",
       "\n",
       "    .dataframe tbody tr th {\n",
       "        vertical-align: top;\n",
       "    }\n",
       "\n",
       "    .dataframe thead th {\n",
       "        text-align: right;\n",
       "    }\n",
       "</style>\n",
       "<table border=\"1\" class=\"dataframe\">\n",
       "  <thead>\n",
       "    <tr style=\"text-align: right;\">\n",
       "      <th></th>\n",
       "      <th>Sale or Return</th>\n",
       "    </tr>\n",
       "  </thead>\n",
       "  <tbody>\n",
       "    <tr>\n",
       "      <th>sale</th>\n",
       "      <td>878042</td>\n",
       "    </tr>\n",
       "    <tr>\n",
       "      <th>return</th>\n",
       "      <td>461</td>\n",
       "    </tr>\n",
       "  </tbody>\n",
       "</table>\n",
       "</div>"
      ],
      "text/plain": [
       "        Sale or Return\n",
       "sale            878042\n",
       "return             461"
      ]
     },
     "execution_count": 19,
     "metadata": {},
     "output_type": "execute_result"
    }
   ],
   "source": [
    "Sale_Or_Return =merge['Sale or Return'].value_counts()\n",
    "Sale_Or_Return= pd.DataFrame(Sale_Or_Return)\n",
    "evaluate_lazy(Sale_Or_Return)"
   ]
  },
  {
   "cell_type": "code",
   "execution_count": 20,
   "id": "f94e2549",
   "metadata": {
    "execution": {
     "iopub.execute_input": "2024-02-13T05:40:52.422332Z",
     "iopub.status.busy": "2024-02-13T05:40:52.421582Z",
     "iopub.status.idle": "2024-02-13T05:40:52.574856Z",
     "shell.execute_reply": "2024-02-13T05:40:52.573569Z"
    },
    "papermill": {
     "duration": 0.176223,
     "end_time": "2024-02-13T05:40:52.577581",
     "exception": false,
     "start_time": "2024-02-13T05:40:52.401358",
     "status": "completed"
    },
    "tags": []
   },
   "outputs": [
    {
     "name": "stderr",
     "output_type": "stream",
     "text": [
      "/home/alex/Programs/python/dias/.venv/lib64/python3.10/site-packages/pyspark/pandas/base.py:1437: FutureWarning: The resulting Series will have a fixed name of 'count' from 4.0.0.\n",
      "  warnings.warn(\n",
      "/home/alex/Programs/python/dias/.venv/lib64/python3.10/site-packages/pyspark/pandas/utils.py:1016: PandasAPIOnSparkAdviceWarning: If `index_col` is not specified for `to_spark`, the existing index is lost when converting to Spark DataFrame.\n",
      "  warnings.warn(message, PandasAPIOnSparkAdviceWarning)\n"
     ]
    },
    {
     "data": {
      "text/html": [
       "<div>\n",
       "<style scoped>\n",
       "    .dataframe tbody tr th:only-of-type {\n",
       "        vertical-align: middle;\n",
       "    }\n",
       "\n",
       "    .dataframe tbody tr th {\n",
       "        vertical-align: top;\n",
       "    }\n",
       "\n",
       "    .dataframe thead th {\n",
       "        text-align: right;\n",
       "    }\n",
       "</style>\n",
       "<table border=\"1\" class=\"dataframe\">\n",
       "  <thead>\n",
       "    <tr style=\"text-align: right;\">\n",
       "      <th></th>\n",
       "      <th>Discount</th>\n",
       "    </tr>\n",
       "  </thead>\n",
       "  <tbody>\n",
       "    <tr>\n",
       "      <th>No</th>\n",
       "      <td>831137</td>\n",
       "    </tr>\n",
       "    <tr>\n",
       "      <th>Yes</th>\n",
       "      <td>47366</td>\n",
       "    </tr>\n",
       "  </tbody>\n",
       "</table>\n",
       "</div>"
      ],
      "text/plain": [
       "     Discount\n",
       "No     831137\n",
       "Yes     47366"
      ]
     },
     "execution_count": 20,
     "metadata": {},
     "output_type": "execute_result"
    }
   ],
   "source": [
    "Discount =merge['Discount'].value_counts()\n",
    "Discount = pd.DataFrame(Discount)\n",
    "evaluate_lazy(Discount)"
   ]
  },
  {
   "cell_type": "markdown",
   "id": "a3db293e",
   "metadata": {
    "papermill": {
     "duration": 0.018472,
     "end_time": "2024-02-13T05:40:52.615067",
     "exception": false,
     "start_time": "2024-02-13T05:40:52.596595",
     "status": "completed"
    },
    "tags": []
   },
   "source": [
    "# Conclusion :\n",
    "#### 1. Most of the people prefer to purchase flower/leaf vegetables from supermarket.\n",
    "#### 2. Top 10 Products are : Wuhu Green Pepper, Broccoli                , Xixia Mushroom (1)      , Yunnan Shengcai          , Net Lotus Root (1)       , Eggplant (2)            , Paopaojiao (Jingpin)    , Yunnan Lettuces          , Luosi Pepper             , Chinese Cabbage. \n",
    "#### 3. Top 10 products by Sales Generation are : Broccoli, , Net Lotus Root (1), Xixia Mushroom (1), Wuhu Green Pepper (1), Yunnan Shengcai, Eggplant (2), Paopaojiao (Jingpin), Luosi Pepper, Yunnan Lettuces, Chinese Cabbage.\n",
    "#### 4. The year 2021 has higest sales around 32%.\n",
    "#### 5. From 9 lakh products only 461 products are return.\n",
    "#### 6. Out of 900,000 orders, only 47,000 received discounts."
   ]
  },
  {
   "cell_type": "markdown",
   "id": "762e85b7",
   "metadata": {
    "papermill": {
     "duration": 0.01834,
     "end_time": "2024-02-13T05:40:52.653084",
     "exception": false,
     "start_time": "2024-02-13T05:40:52.634744",
     "status": "completed"
    },
    "tags": []
   },
   "source": [
    "# Model Training"
   ]
  },
  {
   "cell_type": "code",
   "execution_count": 21,
   "id": "df8a9e3d",
   "metadata": {
    "execution": {
     "iopub.execute_input": "2024-02-13T05:40:52.692639Z",
     "iopub.status.busy": "2024-02-13T05:40:52.692062Z",
     "iopub.status.idle": "2024-02-13T05:40:52.711727Z",
     "shell.execute_reply": "2024-02-13T05:40:52.710524Z"
    },
    "papermill": {
     "duration": 0.042688,
     "end_time": "2024-02-13T05:40:52.714336",
     "exception": false,
     "start_time": "2024-02-13T05:40:52.671648",
     "status": "completed"
    },
    "tags": []
   },
   "outputs": [
    {
     "name": "stderr",
     "output_type": "stream",
     "text": [
      "\r",
      "[Stage 67:>                                                         (0 + 7) / 7]\r",
      "\r",
      "                                                                                \r"
     ]
    },
    {
     "data": {
      "text/html": [
       "<div>\n",
       "<style scoped>\n",
       "    .dataframe tbody tr th:only-of-type {\n",
       "        vertical-align: middle;\n",
       "    }\n",
       "\n",
       "    .dataframe tbody tr th {\n",
       "        vertical-align: top;\n",
       "    }\n",
       "\n",
       "    .dataframe thead th {\n",
       "        text-align: right;\n",
       "    }\n",
       "</style>\n",
       "<table border=\"1\" class=\"dataframe\">\n",
       "  <thead>\n",
       "    <tr style=\"text-align: right;\">\n",
       "      <th></th>\n",
       "      <th>Item Code</th>\n",
       "      <th>Item Name</th>\n",
       "      <th>Category Code</th>\n",
       "      <th>Category Name</th>\n",
       "      <th>Date</th>\n",
       "      <th>Time</th>\n",
       "      <th>Quantity Sold</th>\n",
       "      <th>Unit Selling Price</th>\n",
       "      <th>Sale or Return</th>\n",
       "      <th>Discount</th>\n",
       "      <th>Sales</th>\n",
       "      <th>Year</th>\n",
       "    </tr>\n",
       "  </thead>\n",
       "  <tbody>\n",
       "    <tr>\n",
       "      <th>0</th>\n",
       "      <td>102900005117056</td>\n",
       "      <td>Paopaojiao (Jingpin)</td>\n",
       "      <td>1011010504</td>\n",
       "      <td>Capsicum</td>\n",
       "      <td>2020-07-01</td>\n",
       "      <td>2025-01-26 09:15:07.924</td>\n",
       "      <td>0.396</td>\n",
       "      <td>7.6</td>\n",
       "      <td>sale</td>\n",
       "      <td>No</td>\n",
       "      <td>3.0096</td>\n",
       "      <td>2020</td>\n",
       "    </tr>\n",
       "    <tr>\n",
       "      <th>1</th>\n",
       "      <td>102900005115960</td>\n",
       "      <td>Chinese Cabbage</td>\n",
       "      <td>1011010101</td>\n",
       "      <td>Flower/Leaf Vegetables</td>\n",
       "      <td>2020-07-01</td>\n",
       "      <td>2025-01-26 09:17:27.295</td>\n",
       "      <td>0.849</td>\n",
       "      <td>3.2</td>\n",
       "      <td>sale</td>\n",
       "      <td>No</td>\n",
       "      <td>2.7168</td>\n",
       "      <td>2020</td>\n",
       "    </tr>\n",
       "    <tr>\n",
       "      <th>2</th>\n",
       "      <td>102900005117056</td>\n",
       "      <td>Paopaojiao (Jingpin)</td>\n",
       "      <td>1011010504</td>\n",
       "      <td>Capsicum</td>\n",
       "      <td>2020-07-01</td>\n",
       "      <td>2025-01-26 09:17:33.905</td>\n",
       "      <td>0.409</td>\n",
       "      <td>7.6</td>\n",
       "      <td>sale</td>\n",
       "      <td>No</td>\n",
       "      <td>3.1084</td>\n",
       "      <td>2020</td>\n",
       "    </tr>\n",
       "    <tr>\n",
       "      <th>3</th>\n",
       "      <td>102900005115823</td>\n",
       "      <td>Shanghaiqing</td>\n",
       "      <td>1011010101</td>\n",
       "      <td>Flower/Leaf Vegetables</td>\n",
       "      <td>2020-07-01</td>\n",
       "      <td>2025-01-26 09:19:45.450</td>\n",
       "      <td>0.421</td>\n",
       "      <td>10.0</td>\n",
       "      <td>sale</td>\n",
       "      <td>No</td>\n",
       "      <td>4.2100</td>\n",
       "      <td>2020</td>\n",
       "    </tr>\n",
       "    <tr>\n",
       "      <th>4</th>\n",
       "      <td>102900005115908</td>\n",
       "      <td>Caixin</td>\n",
       "      <td>1011010101</td>\n",
       "      <td>Flower/Leaf Vegetables</td>\n",
       "      <td>2020-07-01</td>\n",
       "      <td>2025-01-26 09:20:23.686</td>\n",
       "      <td>0.539</td>\n",
       "      <td>8.0</td>\n",
       "      <td>sale</td>\n",
       "      <td>No</td>\n",
       "      <td>4.3120</td>\n",
       "      <td>2020</td>\n",
       "    </tr>\n",
       "  </tbody>\n",
       "</table>\n",
       "</div>"
      ],
      "text/plain": [
       "         Item Code             Item Name  Category Code           Category Name       Date                    Time  Quantity Sold  Unit Selling Price Sale or Return Discount   Sales  Year\n",
       "0  102900005117056  Paopaojiao (Jingpin)     1011010504                Capsicum 2020-07-01 2025-01-26 09:15:07.924          0.396                 7.6           sale       No  3.0096  2020\n",
       "1  102900005115960       Chinese Cabbage     1011010101  Flower/Leaf Vegetables 2020-07-01 2025-01-26 09:17:27.295          0.849                 3.2           sale       No  2.7168  2020\n",
       "2  102900005117056  Paopaojiao (Jingpin)     1011010504                Capsicum 2020-07-01 2025-01-26 09:17:33.905          0.409                 7.6           sale       No  3.1084  2020\n",
       "3  102900005115823          Shanghaiqing     1011010101  Flower/Leaf Vegetables 2020-07-01 2025-01-26 09:19:45.450          0.421                10.0           sale       No  4.2100  2020\n",
       "4  102900005115908                Caixin     1011010101  Flower/Leaf Vegetables 2020-07-01 2025-01-26 09:20:23.686          0.539                 8.0           sale       No  4.3120  2020"
      ]
     },
     "execution_count": 21,
     "metadata": {},
     "output_type": "execute_result"
    }
   ],
   "source": [
    "merge.head()"
   ]
  },
  {
   "cell_type": "code",
   "execution_count": 22,
   "id": "302ef80f",
   "metadata": {
    "execution": {
     "iopub.execute_input": "2024-02-13T05:40:52.754928Z",
     "iopub.status.busy": "2024-02-13T05:40:52.754087Z",
     "iopub.status.idle": "2024-02-13T05:40:52.828012Z",
     "shell.execute_reply": "2024-02-13T05:40:52.826782Z"
    },
    "papermill": {
     "duration": 0.097537,
     "end_time": "2024-02-13T05:40:52.830896",
     "exception": false,
     "start_time": "2024-02-13T05:40:52.733359",
     "status": "completed"
    },
    "tags": []
   },
   "outputs": [],
   "source": [
    "merge = merge.drop(['Date'],axis=1)"
   ]
  },
  {
   "cell_type": "code",
   "execution_count": 23,
   "id": "f69dec25",
   "metadata": {
    "execution": {
     "iopub.execute_input": "2024-02-13T05:40:52.873063Z",
     "iopub.status.busy": "2024-02-13T05:40:52.872641Z",
     "iopub.status.idle": "2024-02-13T05:40:53.057208Z",
     "shell.execute_reply": "2024-02-13T05:40:53.055980Z"
    },
    "papermill": {
     "duration": 0.209593,
     "end_time": "2024-02-13T05:40:53.060335",
     "exception": false,
     "start_time": "2024-02-13T05:40:52.850742",
     "status": "completed"
    },
    "tags": []
   },
   "outputs": [],
   "source": [
    "# ALEX: remove ML code\n",
    "# from sklearn.preprocessing import LabelEncoder\n",
    "# le =LabelEncoder()"
   ]
  },
  {
   "cell_type": "code",
   "execution_count": 24,
   "id": "967222cb",
   "metadata": {
    "execution": {
     "iopub.execute_input": "2024-02-13T05:40:53.102102Z",
     "iopub.status.busy": "2024-02-13T05:40:53.101637Z",
     "iopub.status.idle": "2024-02-13T05:40:53.438853Z",
     "shell.execute_reply": "2024-02-13T05:40:53.437634Z"
    },
    "papermill": {
     "duration": 0.362043,
     "end_time": "2024-02-13T05:40:53.441875",
     "exception": false,
     "start_time": "2024-02-13T05:40:53.079832",
     "status": "completed"
    },
    "tags": []
   },
   "outputs": [],
   "source": [
    "#Store all categorical columns\n",
    "categorical_columns = merge.select_dtypes(include=['object']).columns"
   ]
  },
  {
   "cell_type": "code",
   "execution_count": 25,
   "id": "b1425a66",
   "metadata": {
    "execution": {
     "iopub.execute_input": "2024-02-13T05:40:53.481910Z",
     "iopub.status.busy": "2024-02-13T05:40:53.481444Z",
     "iopub.status.idle": "2024-02-13T05:40:58.836767Z",
     "shell.execute_reply": "2024-02-13T05:40:58.835398Z"
    },
    "papermill": {
     "duration": 5.378573,
     "end_time": "2024-02-13T05:40:58.839378",
     "exception": false,
     "start_time": "2024-02-13T05:40:53.460805",
     "status": "completed"
    },
    "tags": []
   },
   "outputs": [
    {
     "name": "stderr",
     "output_type": "stream",
     "text": [
      "\r",
      "[Stage 70:=========================================>                (5 + 2) / 7]\r",
      "\r",
      "                                                                                \r"
     ]
    },
    {
     "data": {
      "text/html": [
       "<div>\n",
       "<style scoped>\n",
       "    .dataframe tbody tr th:only-of-type {\n",
       "        vertical-align: middle;\n",
       "    }\n",
       "\n",
       "    .dataframe tbody tr th {\n",
       "        vertical-align: top;\n",
       "    }\n",
       "\n",
       "    .dataframe thead th {\n",
       "        text-align: right;\n",
       "    }\n",
       "</style>\n",
       "<table border=\"1\" class=\"dataframe\">\n",
       "  <thead>\n",
       "    <tr style=\"text-align: right;\">\n",
       "      <th></th>\n",
       "      <th>Item Code</th>\n",
       "      <th>Item Name</th>\n",
       "      <th>Category Code</th>\n",
       "      <th>Category Name</th>\n",
       "      <th>Time</th>\n",
       "      <th>Quantity Sold</th>\n",
       "      <th>Unit Selling Price</th>\n",
       "      <th>Sale or Return</th>\n",
       "      <th>Discount</th>\n",
       "      <th>Sales</th>\n",
       "      <th>Year</th>\n",
       "    </tr>\n",
       "  </thead>\n",
       "  <tbody>\n",
       "    <tr>\n",
       "      <th>0</th>\n",
       "      <td>102900005117056</td>\n",
       "      <td>Paopaojiao (Jingpin)</td>\n",
       "      <td>1011010504</td>\n",
       "      <td>Capsicum</td>\n",
       "      <td>2025-01-26 09:15:07.924</td>\n",
       "      <td>0.396</td>\n",
       "      <td>7.6</td>\n",
       "      <td>sale</td>\n",
       "      <td>No</td>\n",
       "      <td>3.0096</td>\n",
       "      <td>2020</td>\n",
       "    </tr>\n",
       "    <tr>\n",
       "      <th>1</th>\n",
       "      <td>102900005115960</td>\n",
       "      <td>Chinese Cabbage</td>\n",
       "      <td>1011010101</td>\n",
       "      <td>Flower/Leaf Vegetables</td>\n",
       "      <td>2025-01-26 09:17:27.295</td>\n",
       "      <td>0.849</td>\n",
       "      <td>3.2</td>\n",
       "      <td>sale</td>\n",
       "      <td>No</td>\n",
       "      <td>2.7168</td>\n",
       "      <td>2020</td>\n",
       "    </tr>\n",
       "    <tr>\n",
       "      <th>2</th>\n",
       "      <td>102900005117056</td>\n",
       "      <td>Paopaojiao (Jingpin)</td>\n",
       "      <td>1011010504</td>\n",
       "      <td>Capsicum</td>\n",
       "      <td>2025-01-26 09:17:33.905</td>\n",
       "      <td>0.409</td>\n",
       "      <td>7.6</td>\n",
       "      <td>sale</td>\n",
       "      <td>No</td>\n",
       "      <td>3.1084</td>\n",
       "      <td>2020</td>\n",
       "    </tr>\n",
       "    <tr>\n",
       "      <th>3</th>\n",
       "      <td>102900005115823</td>\n",
       "      <td>Shanghaiqing</td>\n",
       "      <td>1011010101</td>\n",
       "      <td>Flower/Leaf Vegetables</td>\n",
       "      <td>2025-01-26 09:19:45.450</td>\n",
       "      <td>0.421</td>\n",
       "      <td>10.0</td>\n",
       "      <td>sale</td>\n",
       "      <td>No</td>\n",
       "      <td>4.2100</td>\n",
       "      <td>2020</td>\n",
       "    </tr>\n",
       "    <tr>\n",
       "      <th>4</th>\n",
       "      <td>102900005115908</td>\n",
       "      <td>Caixin</td>\n",
       "      <td>1011010101</td>\n",
       "      <td>Flower/Leaf Vegetables</td>\n",
       "      <td>2025-01-26 09:20:23.686</td>\n",
       "      <td>0.539</td>\n",
       "      <td>8.0</td>\n",
       "      <td>sale</td>\n",
       "      <td>No</td>\n",
       "      <td>4.3120</td>\n",
       "      <td>2020</td>\n",
       "    </tr>\n",
       "  </tbody>\n",
       "</table>\n",
       "</div>"
      ],
      "text/plain": [
       "         Item Code             Item Name  Category Code           Category Name                    Time  Quantity Sold  Unit Selling Price Sale or Return Discount   Sales  Year\n",
       "0  102900005117056  Paopaojiao (Jingpin)     1011010504                Capsicum 2025-01-26 09:15:07.924          0.396                 7.6           sale       No  3.0096  2020\n",
       "1  102900005115960       Chinese Cabbage     1011010101  Flower/Leaf Vegetables 2025-01-26 09:17:27.295          0.849                 3.2           sale       No  2.7168  2020\n",
       "2  102900005117056  Paopaojiao (Jingpin)     1011010504                Capsicum 2025-01-26 09:17:33.905          0.409                 7.6           sale       No  3.1084  2020\n",
       "3  102900005115823          Shanghaiqing     1011010101  Flower/Leaf Vegetables 2025-01-26 09:19:45.450          0.421                10.0           sale       No  4.2100  2020\n",
       "4  102900005115908                Caixin     1011010101  Flower/Leaf Vegetables 2025-01-26 09:20:23.686          0.539                 8.0           sale       No  4.3120  2020"
      ]
     },
     "execution_count": 25,
     "metadata": {},
     "output_type": "execute_result"
    }
   ],
   "source": [
    "# Converting all categorical columns into numeric\n",
    "for col in categorical_columns:\n",
    "# ALEX: remove ML code\n",
    "#     merge[col] = le.fit_transform(merge[col])\n",
    "    merge[col] = merge[col]\n",
    "    \n",
    "merge.head()"
   ]
  },
  {
   "cell_type": "code",
   "execution_count": 26,
   "id": "cb125417",
   "metadata": {
    "execution": {
     "iopub.execute_input": "2024-02-13T05:40:58.880200Z",
     "iopub.status.busy": "2024-02-13T05:40:58.879729Z",
     "iopub.status.idle": "2024-02-13T05:40:58.917824Z",
     "shell.execute_reply": "2024-02-13T05:40:58.916817Z"
    },
    "papermill": {
     "duration": 0.061669,
     "end_time": "2024-02-13T05:40:58.920599",
     "exception": false,
     "start_time": "2024-02-13T05:40:58.858930",
     "status": "completed"
    },
    "tags": []
   },
   "outputs": [],
   "source": [
    "# Define x variables (independents variable)\n",
    "x= merge.drop(['Sale or Return'],axis=1)"
   ]
  },
  {
   "cell_type": "code",
   "execution_count": 27,
   "id": "114c331a",
   "metadata": {
    "execution": {
     "iopub.execute_input": "2024-02-13T05:40:58.960455Z",
     "iopub.status.busy": "2024-02-13T05:40:58.960024Z",
     "iopub.status.idle": "2024-02-13T05:40:58.965708Z",
     "shell.execute_reply": "2024-02-13T05:40:58.964466Z"
    },
    "papermill": {
     "duration": 0.028375,
     "end_time": "2024-02-13T05:40:58.968115",
     "exception": false,
     "start_time": "2024-02-13T05:40:58.939740",
     "status": "completed"
    },
    "tags": []
   },
   "outputs": [],
   "source": [
    "# Define y variable (dependent variable)\n",
    "y = merge['Sale or Return']"
   ]
  },
  {
   "cell_type": "code",
   "execution_count": 28,
   "id": "f75be5d6",
   "metadata": {
    "execution": {
     "iopub.execute_input": "2024-02-13T05:40:59.008623Z",
     "iopub.status.busy": "2024-02-13T05:40:59.008205Z",
     "iopub.status.idle": "2024-02-13T05:40:59.115334Z",
     "shell.execute_reply": "2024-02-13T05:40:59.114096Z"
    },
    "papermill": {
     "duration": 0.130452,
     "end_time": "2024-02-13T05:40:59.118367",
     "exception": false,
     "start_time": "2024-02-13T05:40:58.987915",
     "status": "completed"
    },
    "tags": []
   },
   "outputs": [],
   "source": [
    "# ALEX: remove ML code\n",
    "# from sklearn.model_selection import train_test_split"
   ]
  },
  {
   "cell_type": "code",
   "execution_count": 29,
   "id": "53c1776c",
   "metadata": {
    "execution": {
     "iopub.execute_input": "2024-02-13T05:40:59.159359Z",
     "iopub.status.busy": "2024-02-13T05:40:59.158083Z",
     "iopub.status.idle": "2024-02-13T05:40:59.421353Z",
     "shell.execute_reply": "2024-02-13T05:40:59.420322Z"
    },
    "papermill": {
     "duration": 0.286678,
     "end_time": "2024-02-13T05:40:59.424212",
     "exception": false,
     "start_time": "2024-02-13T05:40:59.137534",
     "status": "completed"
    },
    "tags": []
   },
   "outputs": [],
   "source": [
    "# Split data into train and test datasets\n",
    "# ALEX: remove ML code\n",
    "# x_train, x_test, y_train, y_test = train_test_split(x, y, test_size=0.2)"
   ]
  },
  {
   "cell_type": "code",
   "execution_count": 30,
   "id": "80747d55",
   "metadata": {
    "execution": {
     "iopub.execute_input": "2024-02-13T05:40:59.464958Z",
     "iopub.status.busy": "2024-02-13T05:40:59.464557Z",
     "iopub.status.idle": "2024-02-13T05:40:59.471829Z",
     "shell.execute_reply": "2024-02-13T05:40:59.470694Z"
    },
    "papermill": {
     "duration": 0.030343,
     "end_time": "2024-02-13T05:40:59.474406",
     "exception": false,
     "start_time": "2024-02-13T05:40:59.444063",
     "status": "completed"
    },
    "tags": []
   },
   "outputs": [],
   "source": [
    "# ALEX: remove ML code\n",
    "# len(x_train)"
   ]
  },
  {
   "cell_type": "code",
   "execution_count": 31,
   "id": "8a7ea934",
   "metadata": {
    "execution": {
     "iopub.execute_input": "2024-02-13T05:40:59.515761Z",
     "iopub.status.busy": "2024-02-13T05:40:59.515358Z",
     "iopub.status.idle": "2024-02-13T05:40:59.522802Z",
     "shell.execute_reply": "2024-02-13T05:40:59.521568Z"
    },
    "papermill": {
     "duration": 0.031517,
     "end_time": "2024-02-13T05:40:59.525658",
     "exception": false,
     "start_time": "2024-02-13T05:40:59.494141",
     "status": "completed"
    },
    "tags": []
   },
   "outputs": [],
   "source": [
    "# ALEX: remove ML code\n",
    "# len(x_test)"
   ]
  },
  {
   "cell_type": "code",
   "execution_count": 32,
   "id": "942b2ffd",
   "metadata": {
    "execution": {
     "iopub.execute_input": "2024-02-13T05:40:59.566542Z",
     "iopub.status.busy": "2024-02-13T05:40:59.566143Z",
     "iopub.status.idle": "2024-02-13T05:40:59.951351Z",
     "shell.execute_reply": "2024-02-13T05:40:59.950148Z"
    },
    "papermill": {
     "duration": 0.409135,
     "end_time": "2024-02-13T05:40:59.954237",
     "exception": false,
     "start_time": "2024-02-13T05:40:59.545102",
     "status": "completed"
    },
    "tags": []
   },
   "outputs": [],
   "source": [
    "# ALEX: remove ML code\n",
    "# from sklearn.ensemble import RandomForestClassifier\n",
    "# model =RandomForestClassifier()"
   ]
  },
  {
   "cell_type": "code",
   "execution_count": 33,
   "id": "12797ed4",
   "metadata": {
    "execution": {
     "iopub.execute_input": "2024-02-13T05:40:59.995848Z",
     "iopub.status.busy": "2024-02-13T05:40:59.995420Z",
     "iopub.status.idle": "2024-02-13T05:41:45.538644Z",
     "shell.execute_reply": "2024-02-13T05:41:45.537326Z"
    },
    "papermill": {
     "duration": 45.583487,
     "end_time": "2024-02-13T05:41:45.557547",
     "exception": false,
     "start_time": "2024-02-13T05:40:59.974060",
     "status": "completed"
    },
    "tags": []
   },
   "outputs": [],
   "source": [
    "# ALEX: remove ML code\n",
    "# model.fit(x_train,y_train)"
   ]
  },
  {
   "cell_type": "code",
   "execution_count": 34,
   "id": "4810b08a",
   "metadata": {
    "execution": {
     "iopub.execute_input": "2024-02-13T05:41:45.600028Z",
     "iopub.status.busy": "2024-02-13T05:41:45.599321Z",
     "iopub.status.idle": "2024-02-13T05:41:46.444629Z",
     "shell.execute_reply": "2024-02-13T05:41:46.443113Z"
    },
    "papermill": {
     "duration": 0.869745,
     "end_time": "2024-02-13T05:41:46.447457",
     "exception": false,
     "start_time": "2024-02-13T05:41:45.577712",
     "status": "completed"
    },
    "tags": []
   },
   "outputs": [],
   "source": [
    "# ALEX: remove ML code\n",
    "# model.predict(x_test)"
   ]
  },
  {
   "cell_type": "code",
   "execution_count": 35,
   "id": "0c8c98ee",
   "metadata": {
    "execution": {
     "iopub.execute_input": "2024-02-13T05:41:46.491428Z",
     "iopub.status.busy": "2024-02-13T05:41:46.490678Z",
     "iopub.status.idle": "2024-02-13T05:41:46.496370Z",
     "shell.execute_reply": "2024-02-13T05:41:46.495234Z"
    },
    "papermill": {
     "duration": 0.03095,
     "end_time": "2024-02-13T05:41:46.499141",
     "exception": false,
     "start_time": "2024-02-13T05:41:46.468191",
     "status": "completed"
    },
    "tags": []
   },
   "outputs": [],
   "source": [
    "# ALEX: remove ML code\n",
    "# from sklearn.model_selection import cross_val_score"
   ]
  },
  {
   "cell_type": "code",
   "execution_count": 36,
   "id": "8ee30e6c",
   "metadata": {
    "execution": {
     "iopub.execute_input": "2024-02-13T05:41:46.542832Z",
     "iopub.status.busy": "2024-02-13T05:41:46.542096Z",
     "iopub.status.idle": "2024-02-13T05:44:32.791600Z",
     "shell.execute_reply": "2024-02-13T05:44:32.790679Z"
    },
    "papermill": {
     "duration": 166.293752,
     "end_time": "2024-02-13T05:44:32.813523",
     "exception": false,
     "start_time": "2024-02-13T05:41:46.519771",
     "status": "completed"
    },
    "tags": []
   },
   "outputs": [],
   "source": [
    "# ALEX: remove ML code\n",
    "# score =cross_val_score(RandomForestClassifier(),x,y)\n",
    "# score"
   ]
  },
  {
   "cell_type": "code",
   "execution_count": 37,
   "id": "f010ee0d",
   "metadata": {
    "execution": {
     "iopub.execute_input": "2024-02-13T05:44:32.857137Z",
     "iopub.status.busy": "2024-02-13T05:44:32.856250Z",
     "iopub.status.idle": "2024-02-13T05:44:32.863384Z",
     "shell.execute_reply": "2024-02-13T05:44:32.862212Z"
    },
    "papermill": {
     "duration": 0.031592,
     "end_time": "2024-02-13T05:44:32.866080",
     "exception": false,
     "start_time": "2024-02-13T05:44:32.834488",
     "status": "completed"
    },
    "tags": []
   },
   "outputs": [],
   "source": [
    "# ALEX: remove ML code\n",
    "# score.mean()"
   ]
  },
  {
   "cell_type": "markdown",
   "id": "a7af4afb",
   "metadata": {
    "papermill": {
     "duration": 0.020127,
     "end_time": "2024-02-13T05:44:32.907641",
     "exception": false,
     "start_time": "2024-02-13T05:44:32.887514",
     "status": "completed"
    },
    "tags": []
   },
   "source": [
    "#### Our model score is almost 99%."
   ]
  },
  {
   "cell_type": "code",
   "execution_count": null,
   "id": "a41b8d52",
   "metadata": {
    "papermill": {
     "duration": 0.019862,
     "end_time": "2024-02-13T05:44:32.947835",
     "exception": false,
     "start_time": "2024-02-13T05:44:32.927973",
     "status": "completed"
    },
    "tags": []
   },
   "outputs": [],
   "source": []
  }
 ],
 "metadata": {
  "kaggle": {
   "accelerator": "none",
   "dataSources": [
    {
     "datasetId": 3720698,
     "sourceId": 6515671,
     "sourceType": "datasetVersion"
    }
   ],
   "dockerImageVersionId": 30558,
   "isGpuEnabled": false,
   "isInternetEnabled": true,
   "language": "python",
   "sourceType": "notebook"
  },
  "kernelspec": {
   "display_name": "Python 3 (ipykernel)",
   "language": "python",
   "name": "python3"
  },
  "language_info": {
   "codemirror_mode": {
    "name": "ipython",
    "version": 3
   },
   "file_extension": ".py",
   "mimetype": "text/x-python",
   "name": "python",
   "nbconvert_exporter": "python",
   "pygments_lexer": "ipython3",
   "version": "3.10.16"
  },
  "papermill": {
   "default_parameters": {},
   "duration": 235.11249,
   "end_time": "2024-02-13T05:44:33.793966",
   "environment_variables": {},
   "exception": null,
   "input_path": "__notebook__.ipynb",
   "output_path": "__notebook__.ipynb",
   "parameters": {},
   "start_time": "2024-02-13T05:40:38.681476",
   "version": "2.4.0"
  }
 },
 "nbformat": 4,
 "nbformat_minor": 5
}
