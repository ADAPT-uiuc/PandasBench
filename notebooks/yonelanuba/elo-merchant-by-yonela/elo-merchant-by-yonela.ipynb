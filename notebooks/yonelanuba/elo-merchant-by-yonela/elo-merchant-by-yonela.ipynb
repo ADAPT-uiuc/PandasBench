{
 "cells": [
  {
   "cell_type": "code",
   "execution_count": null,
   "metadata": {},
   "outputs": [],
   "source": [
    "import os\n",
    "\n",
    "def scale_input_data(scale_factor):\n",
    "  file_bases = ['./input/train', './input/test', './input/merchants',\n",
    "                './input/historical_transactions', './input/new_merchant_transactions',\n",
    "                './input/Data_Dictionary']\n",
    "  for file_base in file_bases:\n",
    "    import pandas as pd\n",
    "    import shutil\n",
    "    if scale_factor == 1.0:\n",
    "      if file_base == './input/Data_Dictionary':\n",
    "        shutil.copyfile(file_base + '.xlsx', file_base + '.scaled.xlsx')\n",
    "      else:\n",
    "        shutil.copyfile(file_base + '.csv', file_base + '.scaled.csv')\n",
    "      continue\n",
    "    if file_base =='./input/Data_Dictionary':\n",
    "      df_to_scale = pd.read_excel(file_base + '.xlsx')\n",
    "    else:\n",
    "      df_to_scale = pd.read_csv(file_base + '.csv')\n",
    "    new_num_rows = int(scale_factor * len(df_to_scale))\n",
    "    if scale_factor <= 1.0:\n",
    "      df_to_scale = df_to_scale.iloc[:new_num_rows]\n",
    "    else:\n",
    "      while len(df_to_scale) < new_num_rows:\n",
    "        df_to_scale = pd.concat([df_to_scale, df_to_scale[:min(new_num_rows - len(df_to_scale), len(df_to_scale))]])\n",
    "    if file_base == './input/Data_Dictionary':\n",
    "      df_to_scale.to_excel(file_base + '.scaled.xlsx')\n",
    "    else:\n",
    "      df_to_scale.to_csv(file_base + '.scaled.csv')\n",
    "\n",
    "if 'INPUT_SCALE_FACTOR' in os.environ:\n",
    "  scale_input_data(float(os.environ['INPUT_SCALE_FACTOR']))"
   ]
  },
  {
   "cell_type": "markdown",
   "metadata": {
    "_uuid": "e091775361969f39c91b9647f2e6b3cf94ae3c3c"
   },
   "source": [
    "# Elo Merchant Category Recommendation | Kaggle\n",
    "## By Yonela Nuba\n",
    "\n",
    "\n",
    "### What files do I need?\n",
    "You will need, at a minimum, the train.csv and test.csv files. These contain the card_ids that we'll be using for training and prediction.\n",
    "\n",
    "The historical_transactions.csv and new_merchant_transactions.csv files contain information about each card's transactions. historical_transactions.csv contains up to 3 months' worth of transactions for every card at any of the provided merchant_ids. new_merchant_transactions.csv contains the transactions at new merchants (merchant_ids that this particular card_id has not yet visited) over a period of two months.\n",
    "\n",
    "merchants.csv contains aggregate information for each merchant_id represented in the data set.\n",
    "\n",
    "### What should I expect the data format to be?\n",
    "The data is formatted as follows:\n",
    "\n",
    "train.csv and test.csv contain card_ids and information about the card itself - the first month the card was active, etc. train.csv also contains the target.\n",
    "\n",
    "historical_transactions.csv and new_merchant_transactions.csv are designed to be joined with train.csv, test.csv, and merchants.csv. They contain information about transactions for each card, as described above.\n",
    "\n",
    "merchants can be joined with the transaction sets to provide additional merchant-level information.\n",
    "\n",
    "### What am I predicting?\n",
    "You are predicting a loyalty score for each card_id represented in test.csv and sample_submission.csv.\n",
    "\n",
    "\n",
    "# This what we are going to do:\n",
    "\n",
    "1. Import Libraries and Data\n",
    "2. Data Visualization\n",
    "3. Data Cleaning\n",
    "4. Feature Engineering\n",
    "5. More Data Cleaning\n",
    "6. Models\n",
    "7. Predictions\n",
    "8. Output Data"
   ]
  },
  {
   "cell_type": "markdown",
   "metadata": {
    "_uuid": "869d7fd85d5299df8931e79fb65eaec1147cc4ad"
   },
   "source": [
    "# 1. Import libraries and Data"
   ]
  },
  {
   "cell_type": "code",
   "execution_count": 1,
   "metadata": {
    "_cell_guid": "b1076dfc-b9ad-4769-8c92-a6c4dae69d19",
    "_uuid": "8f2839f25d086af736a60e9eeb907d3b93b6e0e5"
   },
   "outputs": [],
   "source": [
    "# This Python 3 environment comes with many helpful analytics libraries installed\n",
    "# It is defined by the kaggle/python docker image: https://github.com/kaggle/docker-python\n",
    "# For example, here's several helpful packages to load in \n",
    "\n",
    "import numpy as np # linear algebra\n",
    "# import pandas as pd # data processing, CSV file I/O (e.g. pd.read_csv)\n",
    "exec(os.environ['IREWR_IMPORTS'])\n",
    "# ALEX: remove plotting\n",
    "# import matplotlib.pyplot as plt\n",
    "# import seaborn as sns\n",
    "# plt.style.use('fivethirtyeight') \n",
    "# %matplotlib inline\n",
    "\n",
    "\n",
    "# import warnings\n",
    "import datetime\n",
    "import calendar\n",
    "# ALEX: remove additional imports\n",
    "# from datetime import time\n",
    "# from dateutil.relativedelta import relativedelta\n",
    "\n",
    "# # to ignore future warnings\n",
    "# warnings.simplefilter(action = 'ignore', category = FutureWarning)\n",
    "# Input data files are available in the \"../input/\" directory.\n",
    "# For example, running this (by clicking run or pressing Shift+Enter) will list the files in the input directory\n",
    "\n",
    "# ALEX: remove path printing\n",
    "# import os\n",
    "# print(os.listdir(\"./input\"))\n",
    "train = pd.read_csv('./input/train.scaled.csv')\n",
    "test = pd.read_csv('./input/test.scaled.csv')\n",
    "# Any results you write to the current directory are saved as output."
   ]
  },
  {
   "cell_type": "code",
   "execution_count": 2,
   "metadata": {
    "_cell_guid": "79c7e3d0-c299-4dcb-8224-4455121ee9b0",
    "_uuid": "d629ff2d2480ee46fbb7e2d37f6b5fab8052498a"
   },
   "outputs": [],
   "source": [
    "merchants = pd.read_csv('./input/merchants.scaled.csv')\n",
    "historical_trans = pd.read_csv('./input/historical_transactions.scaled.csv')\n",
    "new_merchants = pd.read_csv('./input/new_merchant_transactions.scaled.csv')\n",
    "data_dict = pd.read_excel('./input/Data_Dictionary.scaled.xlsx')"
   ]
  },
  {
   "cell_type": "markdown",
   "metadata": {
    "_uuid": "1080ba13d1c1bcfe2d4dcdb087681105166f1044"
   },
   "source": [
    "# 2. Data visualization "
   ]
  },
  {
   "cell_type": "code",
   "execution_count": 3,
   "metadata": {
    "_uuid": "8194d9ce44292a60949ffa878d9d15318741cb2e"
   },
   "outputs": [
    {
     "data": {
      "text/html": [
       "<div>\n",
       "<style scoped>\n",
       "    .dataframe tbody tr th:only-of-type {\n",
       "        vertical-align: middle;\n",
       "    }\n",
       "\n",
       "    .dataframe tbody tr th {\n",
       "        vertical-align: top;\n",
       "    }\n",
       "\n",
       "    .dataframe thead th {\n",
       "        text-align: right;\n",
       "    }\n",
       "</style>\n",
       "<table border=\"1\" class=\"dataframe\">\n",
       "  <thead>\n",
       "    <tr style=\"text-align: right;\">\n",
       "      <th></th>\n",
       "      <th>first_active_month</th>\n",
       "      <th>card_id</th>\n",
       "      <th>feature_1</th>\n",
       "      <th>feature_2</th>\n",
       "      <th>feature_3</th>\n",
       "      <th>target</th>\n",
       "    </tr>\n",
       "  </thead>\n",
       "  <tbody>\n",
       "    <tr>\n",
       "      <th>0</th>\n",
       "      <td>2017-06</td>\n",
       "      <td>C_ID_92a2005557</td>\n",
       "      <td>5</td>\n",
       "      <td>2</td>\n",
       "      <td>1</td>\n",
       "      <td>-0.820283</td>\n",
       "    </tr>\n",
       "    <tr>\n",
       "      <th>1</th>\n",
       "      <td>2017-01</td>\n",
       "      <td>C_ID_3d0044924f</td>\n",
       "      <td>4</td>\n",
       "      <td>1</td>\n",
       "      <td>0</td>\n",
       "      <td>0.392913</td>\n",
       "    </tr>\n",
       "    <tr>\n",
       "      <th>2</th>\n",
       "      <td>2016-08</td>\n",
       "      <td>C_ID_d639edf6cd</td>\n",
       "      <td>2</td>\n",
       "      <td>2</td>\n",
       "      <td>0</td>\n",
       "      <td>0.688056</td>\n",
       "    </tr>\n",
       "    <tr>\n",
       "      <th>3</th>\n",
       "      <td>2017-09</td>\n",
       "      <td>C_ID_186d6a6901</td>\n",
       "      <td>4</td>\n",
       "      <td>3</td>\n",
       "      <td>0</td>\n",
       "      <td>0.142495</td>\n",
       "    </tr>\n",
       "    <tr>\n",
       "      <th>4</th>\n",
       "      <td>2017-11</td>\n",
       "      <td>C_ID_cdbd2c0db2</td>\n",
       "      <td>1</td>\n",
       "      <td>3</td>\n",
       "      <td>0</td>\n",
       "      <td>-0.159749</td>\n",
       "    </tr>\n",
       "  </tbody>\n",
       "</table>\n",
       "</div>"
      ],
      "text/plain": [
       "  first_active_month          card_id  feature_1  feature_2  feature_3  \\\n",
       "0            2017-06  C_ID_92a2005557          5          2          1   \n",
       "1            2017-01  C_ID_3d0044924f          4          1          0   \n",
       "2            2016-08  C_ID_d639edf6cd          2          2          0   \n",
       "3            2017-09  C_ID_186d6a6901          4          3          0   \n",
       "4            2017-11  C_ID_cdbd2c0db2          1          3          0   \n",
       "\n",
       "     target  \n",
       "0 -0.820283  \n",
       "1  0.392913  \n",
       "2  0.688056  \n",
       "3  0.142495  \n",
       "4 -0.159749  "
      ]
     },
     "execution_count": 3,
     "metadata": {},
     "output_type": "execute_result"
    }
   ],
   "source": [
    "train.head()"
   ]
  },
  {
   "cell_type": "code",
   "execution_count": 4,
   "metadata": {
    "_uuid": "ac416a68c4eedb4b4c03c090163d410804859dd1"
   },
   "outputs": [
    {
     "data": {
      "text/html": [
       "<div>\n",
       "<style scoped>\n",
       "    .dataframe tbody tr th:only-of-type {\n",
       "        vertical-align: middle;\n",
       "    }\n",
       "\n",
       "    .dataframe tbody tr th {\n",
       "        vertical-align: top;\n",
       "    }\n",
       "\n",
       "    .dataframe thead th {\n",
       "        text-align: right;\n",
       "    }\n",
       "</style>\n",
       "<table border=\"1\" class=\"dataframe\">\n",
       "  <thead>\n",
       "    <tr style=\"text-align: right;\">\n",
       "      <th></th>\n",
       "      <th>first_active_month</th>\n",
       "      <th>card_id</th>\n",
       "      <th>feature_1</th>\n",
       "      <th>feature_2</th>\n",
       "      <th>feature_3</th>\n",
       "    </tr>\n",
       "  </thead>\n",
       "  <tbody>\n",
       "    <tr>\n",
       "      <th>0</th>\n",
       "      <td>2017-04</td>\n",
       "      <td>C_ID_0ab67a22ab</td>\n",
       "      <td>3</td>\n",
       "      <td>3</td>\n",
       "      <td>1</td>\n",
       "    </tr>\n",
       "    <tr>\n",
       "      <th>1</th>\n",
       "      <td>2017-01</td>\n",
       "      <td>C_ID_130fd0cbdd</td>\n",
       "      <td>2</td>\n",
       "      <td>3</td>\n",
       "      <td>0</td>\n",
       "    </tr>\n",
       "    <tr>\n",
       "      <th>2</th>\n",
       "      <td>2017-08</td>\n",
       "      <td>C_ID_b709037bc5</td>\n",
       "      <td>5</td>\n",
       "      <td>1</td>\n",
       "      <td>1</td>\n",
       "    </tr>\n",
       "    <tr>\n",
       "      <th>3</th>\n",
       "      <td>2017-12</td>\n",
       "      <td>C_ID_d27d835a9f</td>\n",
       "      <td>2</td>\n",
       "      <td>1</td>\n",
       "      <td>0</td>\n",
       "    </tr>\n",
       "    <tr>\n",
       "      <th>4</th>\n",
       "      <td>2015-12</td>\n",
       "      <td>C_ID_2b5e3df5c2</td>\n",
       "      <td>5</td>\n",
       "      <td>1</td>\n",
       "      <td>1</td>\n",
       "    </tr>\n",
       "  </tbody>\n",
       "</table>\n",
       "</div>"
      ],
      "text/plain": [
       "  first_active_month          card_id  feature_1  feature_2  feature_3\n",
       "0            2017-04  C_ID_0ab67a22ab          3          3          1\n",
       "1            2017-01  C_ID_130fd0cbdd          2          3          0\n",
       "2            2017-08  C_ID_b709037bc5          5          1          1\n",
       "3            2017-12  C_ID_d27d835a9f          2          1          0\n",
       "4            2015-12  C_ID_2b5e3df5c2          5          1          1"
      ]
     },
     "execution_count": 4,
     "metadata": {},
     "output_type": "execute_result"
    }
   ],
   "source": [
    "test.head()"
   ]
  },
  {
   "cell_type": "code",
   "execution_count": 5,
   "metadata": {
    "_uuid": "f9f182dbe57f2eae875bd3d6555cf4ba8bc8c7d9"
   },
   "outputs": [
    {
     "data": {
      "text/html": [
       "<div>\n",
       "<style scoped>\n",
       "    .dataframe tbody tr th:only-of-type {\n",
       "        vertical-align: middle;\n",
       "    }\n",
       "\n",
       "    .dataframe tbody tr th {\n",
       "        vertical-align: top;\n",
       "    }\n",
       "\n",
       "    .dataframe thead th {\n",
       "        text-align: right;\n",
       "    }\n",
       "</style>\n",
       "<table border=\"1\" class=\"dataframe\">\n",
       "  <thead>\n",
       "    <tr style=\"text-align: right;\">\n",
       "      <th></th>\n",
       "      <th>merchant_id</th>\n",
       "      <th>merchant_group_id</th>\n",
       "      <th>merchant_category_id</th>\n",
       "      <th>subsector_id</th>\n",
       "      <th>numerical_1</th>\n",
       "      <th>numerical_2</th>\n",
       "      <th>category_1</th>\n",
       "      <th>most_recent_sales_range</th>\n",
       "      <th>most_recent_purchases_range</th>\n",
       "      <th>avg_sales_lag3</th>\n",
       "      <th>...</th>\n",
       "      <th>avg_sales_lag6</th>\n",
       "      <th>avg_purchases_lag6</th>\n",
       "      <th>active_months_lag6</th>\n",
       "      <th>avg_sales_lag12</th>\n",
       "      <th>avg_purchases_lag12</th>\n",
       "      <th>active_months_lag12</th>\n",
       "      <th>category_4</th>\n",
       "      <th>city_id</th>\n",
       "      <th>state_id</th>\n",
       "      <th>category_2</th>\n",
       "    </tr>\n",
       "  </thead>\n",
       "  <tbody>\n",
       "    <tr>\n",
       "      <th>0</th>\n",
       "      <td>M_ID_838061e48c</td>\n",
       "      <td>8353</td>\n",
       "      <td>792</td>\n",
       "      <td>9</td>\n",
       "      <td>-0.057471</td>\n",
       "      <td>-0.057471</td>\n",
       "      <td>N</td>\n",
       "      <td>E</td>\n",
       "      <td>E</td>\n",
       "      <td>-0.40</td>\n",
       "      <td>...</td>\n",
       "      <td>-2.25</td>\n",
       "      <td>18.666667</td>\n",
       "      <td>6</td>\n",
       "      <td>-2.32</td>\n",
       "      <td>13.916667</td>\n",
       "      <td>12</td>\n",
       "      <td>N</td>\n",
       "      <td>242</td>\n",
       "      <td>9</td>\n",
       "      <td>1.0</td>\n",
       "    </tr>\n",
       "    <tr>\n",
       "      <th>1</th>\n",
       "      <td>M_ID_9339d880ad</td>\n",
       "      <td>3184</td>\n",
       "      <td>840</td>\n",
       "      <td>20</td>\n",
       "      <td>-0.057471</td>\n",
       "      <td>-0.057471</td>\n",
       "      <td>N</td>\n",
       "      <td>E</td>\n",
       "      <td>E</td>\n",
       "      <td>-0.72</td>\n",
       "      <td>...</td>\n",
       "      <td>-0.74</td>\n",
       "      <td>1.291667</td>\n",
       "      <td>6</td>\n",
       "      <td>-0.57</td>\n",
       "      <td>1.687500</td>\n",
       "      <td>12</td>\n",
       "      <td>N</td>\n",
       "      <td>22</td>\n",
       "      <td>16</td>\n",
       "      <td>1.0</td>\n",
       "    </tr>\n",
       "    <tr>\n",
       "      <th>2</th>\n",
       "      <td>M_ID_e726bbae1e</td>\n",
       "      <td>447</td>\n",
       "      <td>690</td>\n",
       "      <td>1</td>\n",
       "      <td>-0.057471</td>\n",
       "      <td>-0.057471</td>\n",
       "      <td>N</td>\n",
       "      <td>E</td>\n",
       "      <td>E</td>\n",
       "      <td>-82.13</td>\n",
       "      <td>...</td>\n",
       "      <td>-82.13</td>\n",
       "      <td>260.000000</td>\n",
       "      <td>2</td>\n",
       "      <td>-82.13</td>\n",
       "      <td>260.000000</td>\n",
       "      <td>2</td>\n",
       "      <td>N</td>\n",
       "      <td>-1</td>\n",
       "      <td>5</td>\n",
       "      <td>5.0</td>\n",
       "    </tr>\n",
       "    <tr>\n",
       "      <th>3</th>\n",
       "      <td>M_ID_a70e9c5f81</td>\n",
       "      <td>5026</td>\n",
       "      <td>792</td>\n",
       "      <td>9</td>\n",
       "      <td>-0.057471</td>\n",
       "      <td>-0.057471</td>\n",
       "      <td>Y</td>\n",
       "      <td>E</td>\n",
       "      <td>E</td>\n",
       "      <td>NaN</td>\n",
       "      <td>...</td>\n",
       "      <td>NaN</td>\n",
       "      <td>4.666667</td>\n",
       "      <td>6</td>\n",
       "      <td>NaN</td>\n",
       "      <td>3.833333</td>\n",
       "      <td>12</td>\n",
       "      <td>Y</td>\n",
       "      <td>-1</td>\n",
       "      <td>-1</td>\n",
       "      <td>NaN</td>\n",
       "    </tr>\n",
       "    <tr>\n",
       "      <th>4</th>\n",
       "      <td>M_ID_64456c37ce</td>\n",
       "      <td>2228</td>\n",
       "      <td>222</td>\n",
       "      <td>21</td>\n",
       "      <td>-0.057471</td>\n",
       "      <td>-0.057471</td>\n",
       "      <td>Y</td>\n",
       "      <td>E</td>\n",
       "      <td>E</td>\n",
       "      <td>NaN</td>\n",
       "      <td>...</td>\n",
       "      <td>NaN</td>\n",
       "      <td>0.361111</td>\n",
       "      <td>6</td>\n",
       "      <td>NaN</td>\n",
       "      <td>0.347222</td>\n",
       "      <td>12</td>\n",
       "      <td>Y</td>\n",
       "      <td>-1</td>\n",
       "      <td>-1</td>\n",
       "      <td>NaN</td>\n",
       "    </tr>\n",
       "  </tbody>\n",
       "</table>\n",
       "<p>5 rows × 22 columns</p>\n",
       "</div>"
      ],
      "text/plain": [
       "       merchant_id  merchant_group_id  merchant_category_id  subsector_id  \\\n",
       "0  M_ID_838061e48c               8353                   792             9   \n",
       "1  M_ID_9339d880ad               3184                   840            20   \n",
       "2  M_ID_e726bbae1e                447                   690             1   \n",
       "3  M_ID_a70e9c5f81               5026                   792             9   \n",
       "4  M_ID_64456c37ce               2228                   222            21   \n",
       "\n",
       "   numerical_1  numerical_2 category_1 most_recent_sales_range  \\\n",
       "0    -0.057471    -0.057471          N                       E   \n",
       "1    -0.057471    -0.057471          N                       E   \n",
       "2    -0.057471    -0.057471          N                       E   \n",
       "3    -0.057471    -0.057471          Y                       E   \n",
       "4    -0.057471    -0.057471          Y                       E   \n",
       "\n",
       "  most_recent_purchases_range  avg_sales_lag3  ...  avg_sales_lag6  \\\n",
       "0                           E           -0.40  ...           -2.25   \n",
       "1                           E           -0.72  ...           -0.74   \n",
       "2                           E          -82.13  ...          -82.13   \n",
       "3                           E             NaN  ...             NaN   \n",
       "4                           E             NaN  ...             NaN   \n",
       "\n",
       "   avg_purchases_lag6  active_months_lag6  avg_sales_lag12  \\\n",
       "0           18.666667                   6            -2.32   \n",
       "1            1.291667                   6            -0.57   \n",
       "2          260.000000                   2           -82.13   \n",
       "3            4.666667                   6              NaN   \n",
       "4            0.361111                   6              NaN   \n",
       "\n",
       "   avg_purchases_lag12  active_months_lag12  category_4  city_id state_id  \\\n",
       "0            13.916667                   12           N      242        9   \n",
       "1             1.687500                   12           N       22       16   \n",
       "2           260.000000                    2           N       -1        5   \n",
       "3             3.833333                   12           Y       -1       -1   \n",
       "4             0.347222                   12           Y       -1       -1   \n",
       "\n",
       "   category_2  \n",
       "0         1.0  \n",
       "1         1.0  \n",
       "2         5.0  \n",
       "3         NaN  \n",
       "4         NaN  \n",
       "\n",
       "[5 rows x 22 columns]"
      ]
     },
     "execution_count": 5,
     "metadata": {},
     "output_type": "execute_result"
    }
   ],
   "source": [
    "merchants.head()"
   ]
  },
  {
   "cell_type": "code",
   "execution_count": 6,
   "metadata": {
    "_uuid": "5b283ed364e8deb8f68fcdc044d0861fa9181356"
   },
   "outputs": [
    {
     "data": {
      "text/html": [
       "<div>\n",
       "<style scoped>\n",
       "    .dataframe tbody tr th:only-of-type {\n",
       "        vertical-align: middle;\n",
       "    }\n",
       "\n",
       "    .dataframe tbody tr th {\n",
       "        vertical-align: top;\n",
       "    }\n",
       "\n",
       "    .dataframe thead th {\n",
       "        text-align: right;\n",
       "    }\n",
       "</style>\n",
       "<table border=\"1\" class=\"dataframe\">\n",
       "  <thead>\n",
       "    <tr style=\"text-align: right;\">\n",
       "      <th></th>\n",
       "      <th>authorized_flag</th>\n",
       "      <th>card_id</th>\n",
       "      <th>city_id</th>\n",
       "      <th>category_1</th>\n",
       "      <th>installments</th>\n",
       "      <th>category_3</th>\n",
       "      <th>merchant_category_id</th>\n",
       "      <th>merchant_id</th>\n",
       "      <th>month_lag</th>\n",
       "      <th>purchase_amount</th>\n",
       "      <th>purchase_date</th>\n",
       "      <th>category_2</th>\n",
       "      <th>state_id</th>\n",
       "      <th>subsector_id</th>\n",
       "    </tr>\n",
       "  </thead>\n",
       "  <tbody>\n",
       "    <tr>\n",
       "      <th>0</th>\n",
       "      <td>Y</td>\n",
       "      <td>C_ID_415bb3a509</td>\n",
       "      <td>107</td>\n",
       "      <td>N</td>\n",
       "      <td>1</td>\n",
       "      <td>B</td>\n",
       "      <td>307</td>\n",
       "      <td>M_ID_b0c793002c</td>\n",
       "      <td>1</td>\n",
       "      <td>-0.557574</td>\n",
       "      <td>2018-03-11 14:57:36</td>\n",
       "      <td>1.0</td>\n",
       "      <td>9</td>\n",
       "      <td>19</td>\n",
       "    </tr>\n",
       "    <tr>\n",
       "      <th>1</th>\n",
       "      <td>Y</td>\n",
       "      <td>C_ID_415bb3a509</td>\n",
       "      <td>140</td>\n",
       "      <td>N</td>\n",
       "      <td>1</td>\n",
       "      <td>B</td>\n",
       "      <td>307</td>\n",
       "      <td>M_ID_88920c89e8</td>\n",
       "      <td>1</td>\n",
       "      <td>-0.569580</td>\n",
       "      <td>2018-03-19 18:53:37</td>\n",
       "      <td>1.0</td>\n",
       "      <td>9</td>\n",
       "      <td>19</td>\n",
       "    </tr>\n",
       "    <tr>\n",
       "      <th>2</th>\n",
       "      <td>Y</td>\n",
       "      <td>C_ID_415bb3a509</td>\n",
       "      <td>330</td>\n",
       "      <td>N</td>\n",
       "      <td>1</td>\n",
       "      <td>B</td>\n",
       "      <td>507</td>\n",
       "      <td>M_ID_ad5237ef6b</td>\n",
       "      <td>2</td>\n",
       "      <td>-0.551037</td>\n",
       "      <td>2018-04-26 14:08:44</td>\n",
       "      <td>1.0</td>\n",
       "      <td>9</td>\n",
       "      <td>14</td>\n",
       "    </tr>\n",
       "    <tr>\n",
       "      <th>3</th>\n",
       "      <td>Y</td>\n",
       "      <td>C_ID_415bb3a509</td>\n",
       "      <td>-1</td>\n",
       "      <td>Y</td>\n",
       "      <td>1</td>\n",
       "      <td>B</td>\n",
       "      <td>661</td>\n",
       "      <td>M_ID_9e84cda3b1</td>\n",
       "      <td>1</td>\n",
       "      <td>-0.671925</td>\n",
       "      <td>2018-03-07 09:43:21</td>\n",
       "      <td>NaN</td>\n",
       "      <td>-1</td>\n",
       "      <td>8</td>\n",
       "    </tr>\n",
       "    <tr>\n",
       "      <th>4</th>\n",
       "      <td>Y</td>\n",
       "      <td>C_ID_ef55cf8d4b</td>\n",
       "      <td>-1</td>\n",
       "      <td>Y</td>\n",
       "      <td>1</td>\n",
       "      <td>B</td>\n",
       "      <td>166</td>\n",
       "      <td>M_ID_3c86fa3831</td>\n",
       "      <td>1</td>\n",
       "      <td>-0.659904</td>\n",
       "      <td>2018-03-22 21:07:53</td>\n",
       "      <td>NaN</td>\n",
       "      <td>-1</td>\n",
       "      <td>29</td>\n",
       "    </tr>\n",
       "  </tbody>\n",
       "</table>\n",
       "</div>"
      ],
      "text/plain": [
       "  authorized_flag          card_id  city_id category_1  installments  \\\n",
       "0               Y  C_ID_415bb3a509      107          N             1   \n",
       "1               Y  C_ID_415bb3a509      140          N             1   \n",
       "2               Y  C_ID_415bb3a509      330          N             1   \n",
       "3               Y  C_ID_415bb3a509       -1          Y             1   \n",
       "4               Y  C_ID_ef55cf8d4b       -1          Y             1   \n",
       "\n",
       "  category_3  merchant_category_id      merchant_id  month_lag  \\\n",
       "0          B                   307  M_ID_b0c793002c          1   \n",
       "1          B                   307  M_ID_88920c89e8          1   \n",
       "2          B                   507  M_ID_ad5237ef6b          2   \n",
       "3          B                   661  M_ID_9e84cda3b1          1   \n",
       "4          B                   166  M_ID_3c86fa3831          1   \n",
       "\n",
       "   purchase_amount        purchase_date  category_2  state_id  subsector_id  \n",
       "0        -0.557574  2018-03-11 14:57:36         1.0         9            19  \n",
       "1        -0.569580  2018-03-19 18:53:37         1.0         9            19  \n",
       "2        -0.551037  2018-04-26 14:08:44         1.0         9            14  \n",
       "3        -0.671925  2018-03-07 09:43:21         NaN        -1             8  \n",
       "4        -0.659904  2018-03-22 21:07:53         NaN        -1            29  "
      ]
     },
     "execution_count": 6,
     "metadata": {},
     "output_type": "execute_result"
    }
   ],
   "source": [
    "new_merchants.head()"
   ]
  },
  {
   "cell_type": "code",
   "execution_count": 7,
   "metadata": {
    "_uuid": "edd9619cf3d0ffbe0b7e260e36c13767c9aed9df"
   },
   "outputs": [
    {
     "data": {
      "text/html": [
       "<div>\n",
       "<style scoped>\n",
       "    .dataframe tbody tr th:only-of-type {\n",
       "        vertical-align: middle;\n",
       "    }\n",
       "\n",
       "    .dataframe tbody tr th {\n",
       "        vertical-align: top;\n",
       "    }\n",
       "\n",
       "    .dataframe thead th {\n",
       "        text-align: right;\n",
       "    }\n",
       "</style>\n",
       "<table border=\"1\" class=\"dataframe\">\n",
       "  <thead>\n",
       "    <tr style=\"text-align: right;\">\n",
       "      <th></th>\n",
       "      <th>train.csv</th>\n",
       "      <th>Unnamed: 1</th>\n",
       "    </tr>\n",
       "  </thead>\n",
       "  <tbody>\n",
       "    <tr>\n",
       "      <th>0</th>\n",
       "      <td>NaN</td>\n",
       "      <td>NaN</td>\n",
       "    </tr>\n",
       "    <tr>\n",
       "      <th>1</th>\n",
       "      <td>Columns</td>\n",
       "      <td>Description</td>\n",
       "    </tr>\n",
       "    <tr>\n",
       "      <th>2</th>\n",
       "      <td>card_id</td>\n",
       "      <td>Unique card identifier</td>\n",
       "    </tr>\n",
       "    <tr>\n",
       "      <th>3</th>\n",
       "      <td>first_active_month</td>\n",
       "      <td>'YYYY-MM', month of first purchase</td>\n",
       "    </tr>\n",
       "    <tr>\n",
       "      <th>4</th>\n",
       "      <td>feature_1</td>\n",
       "      <td>Anonymized card categorical feature</td>\n",
       "    </tr>\n",
       "    <tr>\n",
       "      <th>5</th>\n",
       "      <td>feature_2</td>\n",
       "      <td>Anonymized card categorical feature</td>\n",
       "    </tr>\n",
       "    <tr>\n",
       "      <th>6</th>\n",
       "      <td>feature_3</td>\n",
       "      <td>Anonymized card categorical feature</td>\n",
       "    </tr>\n",
       "    <tr>\n",
       "      <th>7</th>\n",
       "      <td>target</td>\n",
       "      <td>Loyalty numerical score calculated 2 months af...</td>\n",
       "    </tr>\n",
       "  </tbody>\n",
       "</table>\n",
       "</div>"
      ],
      "text/plain": [
       "            train.csv                                         Unnamed: 1\n",
       "0                 NaN                                                NaN\n",
       "1             Columns                                        Description\n",
       "2             card_id                             Unique card identifier\n",
       "3  first_active_month                 'YYYY-MM', month of first purchase\n",
       "4           feature_1                Anonymized card categorical feature\n",
       "5           feature_2                Anonymized card categorical feature\n",
       "6           feature_3                Anonymized card categorical feature\n",
       "7              target  Loyalty numerical score calculated 2 months af..."
      ]
     },
     "execution_count": 7,
     "metadata": {},
     "output_type": "execute_result"
    }
   ],
   "source": [
    "data_dict.head(10)"
   ]
  },
  {
   "cell_type": "code",
   "execution_count": 8,
   "metadata": {
    "_uuid": "cdae606555511c4b8a9e1ac6cdedabecb4c757a6"
   },
   "outputs": [
    {
     "data": {
      "text/html": [
       "<div>\n",
       "<style scoped>\n",
       "    .dataframe tbody tr th:only-of-type {\n",
       "        vertical-align: middle;\n",
       "    }\n",
       "\n",
       "    .dataframe tbody tr th {\n",
       "        vertical-align: top;\n",
       "    }\n",
       "\n",
       "    .dataframe thead th {\n",
       "        text-align: right;\n",
       "    }\n",
       "</style>\n",
       "<table border=\"1\" class=\"dataframe\">\n",
       "  <thead>\n",
       "    <tr style=\"text-align: right;\">\n",
       "      <th></th>\n",
       "      <th>authorized_flag</th>\n",
       "      <th>card_id</th>\n",
       "      <th>city_id</th>\n",
       "      <th>category_1</th>\n",
       "      <th>installments</th>\n",
       "      <th>category_3</th>\n",
       "      <th>merchant_category_id</th>\n",
       "      <th>merchant_id</th>\n",
       "      <th>month_lag</th>\n",
       "      <th>purchase_amount</th>\n",
       "      <th>purchase_date</th>\n",
       "      <th>category_2</th>\n",
       "      <th>state_id</th>\n",
       "      <th>subsector_id</th>\n",
       "    </tr>\n",
       "  </thead>\n",
       "  <tbody>\n",
       "    <tr>\n",
       "      <th>0</th>\n",
       "      <td>Y</td>\n",
       "      <td>C_ID_4e6213e9bc</td>\n",
       "      <td>88</td>\n",
       "      <td>N</td>\n",
       "      <td>0</td>\n",
       "      <td>A</td>\n",
       "      <td>80</td>\n",
       "      <td>M_ID_e020e9b302</td>\n",
       "      <td>-8</td>\n",
       "      <td>-0.703331</td>\n",
       "      <td>2017-06-25 15:33:07</td>\n",
       "      <td>1.0</td>\n",
       "      <td>16</td>\n",
       "      <td>37</td>\n",
       "    </tr>\n",
       "    <tr>\n",
       "      <th>1</th>\n",
       "      <td>Y</td>\n",
       "      <td>C_ID_4e6213e9bc</td>\n",
       "      <td>88</td>\n",
       "      <td>N</td>\n",
       "      <td>0</td>\n",
       "      <td>A</td>\n",
       "      <td>367</td>\n",
       "      <td>M_ID_86ec983688</td>\n",
       "      <td>-7</td>\n",
       "      <td>-0.733128</td>\n",
       "      <td>2017-07-15 12:10:45</td>\n",
       "      <td>1.0</td>\n",
       "      <td>16</td>\n",
       "      <td>16</td>\n",
       "    </tr>\n",
       "    <tr>\n",
       "      <th>2</th>\n",
       "      <td>Y</td>\n",
       "      <td>C_ID_4e6213e9bc</td>\n",
       "      <td>88</td>\n",
       "      <td>N</td>\n",
       "      <td>0</td>\n",
       "      <td>A</td>\n",
       "      <td>80</td>\n",
       "      <td>M_ID_979ed661fc</td>\n",
       "      <td>-6</td>\n",
       "      <td>-0.720386</td>\n",
       "      <td>2017-08-09 22:04:29</td>\n",
       "      <td>1.0</td>\n",
       "      <td>16</td>\n",
       "      <td>37</td>\n",
       "    </tr>\n",
       "    <tr>\n",
       "      <th>3</th>\n",
       "      <td>Y</td>\n",
       "      <td>C_ID_4e6213e9bc</td>\n",
       "      <td>88</td>\n",
       "      <td>N</td>\n",
       "      <td>0</td>\n",
       "      <td>A</td>\n",
       "      <td>560</td>\n",
       "      <td>M_ID_e6d5ae8ea6</td>\n",
       "      <td>-5</td>\n",
       "      <td>-0.735352</td>\n",
       "      <td>2017-09-02 10:06:26</td>\n",
       "      <td>1.0</td>\n",
       "      <td>16</td>\n",
       "      <td>34</td>\n",
       "    </tr>\n",
       "    <tr>\n",
       "      <th>4</th>\n",
       "      <td>Y</td>\n",
       "      <td>C_ID_4e6213e9bc</td>\n",
       "      <td>88</td>\n",
       "      <td>N</td>\n",
       "      <td>0</td>\n",
       "      <td>A</td>\n",
       "      <td>80</td>\n",
       "      <td>M_ID_e020e9b302</td>\n",
       "      <td>-11</td>\n",
       "      <td>-0.722865</td>\n",
       "      <td>2017-03-10 01:14:19</td>\n",
       "      <td>1.0</td>\n",
       "      <td>16</td>\n",
       "      <td>37</td>\n",
       "    </tr>\n",
       "  </tbody>\n",
       "</table>\n",
       "</div>"
      ],
      "text/plain": [
       "  authorized_flag          card_id  city_id category_1  installments  \\\n",
       "0               Y  C_ID_4e6213e9bc       88          N             0   \n",
       "1               Y  C_ID_4e6213e9bc       88          N             0   \n",
       "2               Y  C_ID_4e6213e9bc       88          N             0   \n",
       "3               Y  C_ID_4e6213e9bc       88          N             0   \n",
       "4               Y  C_ID_4e6213e9bc       88          N             0   \n",
       "\n",
       "  category_3  merchant_category_id      merchant_id  month_lag  \\\n",
       "0          A                    80  M_ID_e020e9b302         -8   \n",
       "1          A                   367  M_ID_86ec983688         -7   \n",
       "2          A                    80  M_ID_979ed661fc         -6   \n",
       "3          A                   560  M_ID_e6d5ae8ea6         -5   \n",
       "4          A                    80  M_ID_e020e9b302        -11   \n",
       "\n",
       "   purchase_amount        purchase_date  category_2  state_id  subsector_id  \n",
       "0        -0.703331  2017-06-25 15:33:07         1.0        16            37  \n",
       "1        -0.733128  2017-07-15 12:10:45         1.0        16            16  \n",
       "2        -0.720386  2017-08-09 22:04:29         1.0        16            37  \n",
       "3        -0.735352  2017-09-02 10:06:26         1.0        16            34  \n",
       "4        -0.722865  2017-03-10 01:14:19         1.0        16            37  "
      ]
     },
     "execution_count": 8,
     "metadata": {},
     "output_type": "execute_result"
    }
   ],
   "source": [
    "historical_trans.head()"
   ]
  },
  {
   "cell_type": "markdown",
   "metadata": {
    "_uuid": "3998fb3594a3bf7d63dbdbf7c06f8304e3dae070"
   },
   "source": [
    "## SHAPE OF THE DATASETS"
   ]
  },
  {
   "cell_type": "code",
   "execution_count": 9,
   "metadata": {
    "_uuid": "ef4bd9a49e7050379cd973ddad8193243a4e2c56"
   },
   "outputs": [
    {
     "name": "stdout",
     "output_type": "stream",
     "text": [
      "train Data shape: (201917, 6)\n",
      "test Data shape: (123623, 5)\n",
      "merchants data shape: (334696, 22)\n",
      "New merchants data shape: (1963031, 14)\n",
      "historical data shape: (1000000, 14)\n",
      "Data dictionary data shape: (8, 2)\n"
     ]
    }
   ],
   "source": [
    "print('train Data shape: {}'.format(train.shape))\n",
    "print('test Data shape: {}'.format(test.shape))\n",
    "print('merchants data shape: {}'.format(merchants.shape))\n",
    "print('New merchants data shape: {}'.format(new_merchants.shape))\n",
    "print('historical data shape: {}'.format(historical_trans.shape))\n",
    "print('Data dictionary data shape: {}'.format(data_dict.shape))"
   ]
  },
  {
   "cell_type": "code",
   "execution_count": 10,
   "metadata": {
    "_uuid": "aa531d187bb2f9736b49e90b01bdf0088b9ab78c"
   },
   "outputs": [],
   "source": [
    "# ALEX: remove plotting\n",
    "# sns.distplot(train.target.values, kde = False)\n",
    "_ = train.target.values"
   ]
  },
  {
   "cell_type": "code",
   "execution_count": 11,
   "metadata": {
    "_uuid": "3044e142daa87429b4a8923740c9c5c296518ec3",
    "scrolled": true
   },
   "outputs": [],
   "source": [
    "# ALEX: remove plotting\n",
    "# sns.violinplot(x = \"target\", data=train)"
   ]
  },
  {
   "cell_type": "code",
   "execution_count": 12,
   "metadata": {
    "_uuid": "5fe6aaec38204678b150854c4194f04c5e2aed50"
   },
   "outputs": [
    {
     "name": "stdout",
     "output_type": "stream",
     "text": [
      "There are: 2264 outliers\n"
     ]
    }
   ],
   "source": [
    "# Target value outliers\n",
    "print(f'There are: {train[train.target <- 10].target.shape[0]} outliers')"
   ]
  },
  {
   "cell_type": "code",
   "execution_count": 13,
   "metadata": {
    "_uuid": "ed51ac1e19760f2d7c2807680324e05636c0202c"
   },
   "outputs": [
    {
     "data": {
      "text/html": [
       "<div>\n",
       "<style scoped>\n",
       "    .dataframe tbody tr th:only-of-type {\n",
       "        vertical-align: middle;\n",
       "    }\n",
       "\n",
       "    .dataframe tbody tr th {\n",
       "        vertical-align: top;\n",
       "    }\n",
       "\n",
       "    .dataframe thead th {\n",
       "        text-align: right;\n",
       "    }\n",
       "</style>\n",
       "<table border=\"1\" class=\"dataframe\">\n",
       "  <thead>\n",
       "    <tr style=\"text-align: right;\">\n",
       "      <th></th>\n",
       "      <th>feature_1</th>\n",
       "      <th>feature_2</th>\n",
       "      <th>feature_3</th>\n",
       "      <th>target</th>\n",
       "    </tr>\n",
       "  </thead>\n",
       "  <tbody>\n",
       "    <tr>\n",
       "      <th>count</th>\n",
       "      <td>201917.000000</td>\n",
       "      <td>201917.000000</td>\n",
       "      <td>201917.000000</td>\n",
       "      <td>201917.000000</td>\n",
       "    </tr>\n",
       "    <tr>\n",
       "      <th>mean</th>\n",
       "      <td>3.105311</td>\n",
       "      <td>1.745410</td>\n",
       "      <td>0.565569</td>\n",
       "      <td>-0.393636</td>\n",
       "    </tr>\n",
       "    <tr>\n",
       "      <th>std</th>\n",
       "      <td>1.186160</td>\n",
       "      <td>0.751362</td>\n",
       "      <td>0.495683</td>\n",
       "      <td>3.850500</td>\n",
       "    </tr>\n",
       "    <tr>\n",
       "      <th>min</th>\n",
       "      <td>1.000000</td>\n",
       "      <td>1.000000</td>\n",
       "      <td>0.000000</td>\n",
       "      <td>-33.219281</td>\n",
       "    </tr>\n",
       "    <tr>\n",
       "      <th>25%</th>\n",
       "      <td>2.000000</td>\n",
       "      <td>1.000000</td>\n",
       "      <td>0.000000</td>\n",
       "      <td>-0.883110</td>\n",
       "    </tr>\n",
       "    <tr>\n",
       "      <th>50%</th>\n",
       "      <td>3.000000</td>\n",
       "      <td>2.000000</td>\n",
       "      <td>1.000000</td>\n",
       "      <td>-0.023437</td>\n",
       "    </tr>\n",
       "    <tr>\n",
       "      <th>75%</th>\n",
       "      <td>4.000000</td>\n",
       "      <td>2.000000</td>\n",
       "      <td>1.000000</td>\n",
       "      <td>0.765453</td>\n",
       "    </tr>\n",
       "    <tr>\n",
       "      <th>max</th>\n",
       "      <td>5.000000</td>\n",
       "      <td>3.000000</td>\n",
       "      <td>1.000000</td>\n",
       "      <td>17.965068</td>\n",
       "    </tr>\n",
       "  </tbody>\n",
       "</table>\n",
       "</div>"
      ],
      "text/plain": [
       "           feature_1      feature_2      feature_3         target\n",
       "count  201917.000000  201917.000000  201917.000000  201917.000000\n",
       "mean        3.105311       1.745410       0.565569      -0.393636\n",
       "std         1.186160       0.751362       0.495683       3.850500\n",
       "min         1.000000       1.000000       0.000000     -33.219281\n",
       "25%         2.000000       1.000000       0.000000      -0.883110\n",
       "50%         3.000000       2.000000       1.000000      -0.023437\n",
       "75%         4.000000       2.000000       1.000000       0.765453\n",
       "max         5.000000       3.000000       1.000000      17.965068"
      ]
     },
     "execution_count": 13,
     "metadata": {},
     "output_type": "execute_result"
    }
   ],
   "source": [
    "train.describe()"
   ]
  },
  {
   "cell_type": "code",
   "execution_count": 14,
   "metadata": {
    "_uuid": "2ac4287dee7ee7bbcdce4d4226ea187c86e35ccc"
   },
   "outputs": [
    {
     "name": "stdout",
     "output_type": "stream",
     "text": [
      "<class 'pandas.core.frame.DataFrame'>\n",
      "RangeIndex: 201917 entries, 0 to 201916\n",
      "Data columns (total 6 columns):\n",
      " #   Column              Non-Null Count   Dtype  \n",
      "---  ------              --------------   -----  \n",
      " 0   first_active_month  201917 non-null  object \n",
      " 1   card_id             201917 non-null  object \n",
      " 2   feature_1           201917 non-null  int64  \n",
      " 3   feature_2           201917 non-null  int64  \n",
      " 4   feature_3           201917 non-null  int64  \n",
      " 5   target              201917 non-null  float64\n",
      "dtypes: float64(1), int64(3), object(2)\n",
      "memory usage: 9.2+ MB\n"
     ]
    }
   ],
   "source": [
    "train.info()"
   ]
  },
  {
   "cell_type": "code",
   "execution_count": 15,
   "metadata": {
    "_uuid": "2df295740cd5e227540c09e383aa13efdbac4064"
   },
   "outputs": [],
   "source": [
    "# Lets change the First_active_month column from string to date.\n",
    "\n",
    "train['first_active_month'] = pd.to_datetime(train['first_active_month'])\n",
    "\n",
    "# Also do this to the test dataset\n",
    "\n",
    "test['first_active_month'] = pd.to_datetime(test['first_active_month'])"
   ]
  },
  {
   "cell_type": "code",
   "execution_count": 16,
   "metadata": {
    "_uuid": "bafe66a606d21718aec2f2816ffc2f726e93a447"
   },
   "outputs": [],
   "source": [
    "train_cat_feats = train.dtypes[train.dtypes == 'object'].index\n",
    "train_num_feats = train.dtypes[train.dtypes != 'object'].index"
   ]
  },
  {
   "cell_type": "code",
   "execution_count": 17,
   "metadata": {
    "_uuid": "0065e802520dbfcf8edc1ada3d44272064db6a99"
   },
   "outputs": [
    {
     "name": "stdout",
     "output_type": "stream",
     "text": [
      "train Categorical features 1\n",
      "train Numerical features 5\n"
     ]
    }
   ],
   "source": [
    "print('train Categorical features {}'.format(len(train_cat_feats)))\n",
    "print('train Numerical features {}'.format(len(train_num_feats)))"
   ]
  },
  {
   "cell_type": "code",
   "execution_count": 18,
   "metadata": {
    "_uuid": "6a5eb8e6767507a57fdb862c16956b015761fc1f"
   },
   "outputs": [],
   "source": [
    "# ALEX: remove plotting\n",
    "# sns.set()\n",
    "# sns.pairplot(train, kind='scatter', size = 2, diag_kind='kde')\n",
    "# plt.show()"
   ]
  },
  {
   "cell_type": "code",
   "execution_count": 19,
   "metadata": {
    "_uuid": "72109b2c1b605fbeaf951517777721d79302f454",
    "scrolled": true
   },
   "outputs": [],
   "source": [
    "# ALEX: remove plotting\n",
    "# plt.figure(figsize = (7,5))\n",
    "# plt.scatter(x= train.feature_1, y = train.target)\n",
    "# plt.title('Feature_1', size = 15)\n",
    "\n",
    "# plt.figure(figsize = (7,5))\n",
    "# plt.scatter(x = train.feature_2, y = train.target)\n",
    "# plt.title('Feature_2')\n",
    "\n",
    "# plt.figure(figsize = (7,5))\n",
    "# plt.scatter(x = train.feature_3, y = train.target)\n",
    "# plt.title('Feature_3')\n",
    "_ = train.feature_1\n",
    "_ = train.target\n",
    "_ = train.feature_2\n",
    "_ = train.target\n",
    "_ = train.feature_3\n",
    "_ = train.target"
   ]
  },
  {
   "cell_type": "code",
   "execution_count": 20,
   "metadata": {
    "_uuid": "907989db2237c418e518caa3b97f71b628d72be2"
   },
   "outputs": [],
   "source": [
    "train.drop(train[train['target'] < -10].index, inplace = True)\n",
    "# train.drop(train[train['feature_2'] < -10].index, inplace = True)\n",
    "# train.drop(train[train['feature_3'] < -10].index, inplace = True)"
   ]
  },
  {
   "cell_type": "code",
   "execution_count": 21,
   "metadata": {
    "_uuid": "6af0ca158196e22b5575309f3a6e06e38f82ec6c"
   },
   "outputs": [],
   "source": [
    "# ALEX: remove plotting\n",
    "# plt.figure(figsize = (7,5))\n",
    "# plt.scatter(x= train.feature_1, y = train.target)\n",
    "# plt.title('Feature_1', size = 15)\n",
    "\n",
    "# plt.figure(figsize = (7,5))\n",
    "# plt.scatter(x = train.feature_2, y = train.target)\n",
    "# plt.title('Feature_2')\n",
    "\n",
    "# plt.figure(figsize = (7,5))\n",
    "# plt.scatter(x = train.feature_3, y = train.target)\n",
    "# plt.title('Feature_3')\n",
    "_ = train.feature_1\n",
    "_ = train.target\n",
    "_ = train.feature_2\n",
    "_ = train.target\n",
    "_ = train.feature_3\n",
    "_ = train.target"
   ]
  },
  {
   "cell_type": "code",
   "execution_count": 22,
   "metadata": {
    "_uuid": "a2ac2f975a4a3e8ac2cd54cc46b370169a990b08"
   },
   "outputs": [],
   "source": [
    "# ALEX: make notebook run\n",
    "# correlation = train.corr()\n",
    "correlation = train.corr(numeric_only=True)"
   ]
  },
  {
   "cell_type": "code",
   "execution_count": 23,
   "metadata": {
    "_uuid": "33d7312677368ab013051f82cac7a6e41ec5e5ca"
   },
   "outputs": [
    {
     "data": {
      "text/html": [
       "<div>\n",
       "<style scoped>\n",
       "    .dataframe tbody tr th:only-of-type {\n",
       "        vertical-align: middle;\n",
       "    }\n",
       "\n",
       "    .dataframe tbody tr th {\n",
       "        vertical-align: top;\n",
       "    }\n",
       "\n",
       "    .dataframe thead th {\n",
       "        text-align: right;\n",
       "    }\n",
       "</style>\n",
       "<table border=\"1\" class=\"dataframe\">\n",
       "  <thead>\n",
       "    <tr style=\"text-align: right;\">\n",
       "      <th></th>\n",
       "      <th>feature_1</th>\n",
       "      <th>feature_2</th>\n",
       "      <th>feature_3</th>\n",
       "      <th>target</th>\n",
       "    </tr>\n",
       "  </thead>\n",
       "  <tbody>\n",
       "    <tr>\n",
       "      <th>feature_1</th>\n",
       "      <td>1.000000</td>\n",
       "      <td>-0.130188</td>\n",
       "      <td>0.582984</td>\n",
       "      <td>-0.011285</td>\n",
       "    </tr>\n",
       "    <tr>\n",
       "      <th>feature_2</th>\n",
       "      <td>-0.130188</td>\n",
       "      <td>1.000000</td>\n",
       "      <td>0.059843</td>\n",
       "      <td>-0.003951</td>\n",
       "    </tr>\n",
       "    <tr>\n",
       "      <th>feature_3</th>\n",
       "      <td>0.582984</td>\n",
       "      <td>0.059843</td>\n",
       "      <td>1.000000</td>\n",
       "      <td>-0.007297</td>\n",
       "    </tr>\n",
       "    <tr>\n",
       "      <th>target</th>\n",
       "      <td>-0.011285</td>\n",
       "      <td>-0.003951</td>\n",
       "      <td>-0.007297</td>\n",
       "      <td>1.000000</td>\n",
       "    </tr>\n",
       "  </tbody>\n",
       "</table>\n",
       "</div>"
      ],
      "text/plain": [
       "           feature_1  feature_2  feature_3    target\n",
       "feature_1   1.000000  -0.130188   0.582984 -0.011285\n",
       "feature_2  -0.130188   1.000000   0.059843 -0.003951\n",
       "feature_3   0.582984   0.059843   1.000000 -0.007297\n",
       "target     -0.011285  -0.003951  -0.007297  1.000000"
      ]
     },
     "execution_count": 23,
     "metadata": {},
     "output_type": "execute_result"
    }
   ],
   "source": [
    "correlation"
   ]
  },
  {
   "cell_type": "code",
   "execution_count": 24,
   "metadata": {
    "_uuid": "5ddfc8850ca3afb2aa057fb14a4c817a59b3d421"
   },
   "outputs": [],
   "source": [
    "def missing_values(df):\n",
    "    total_miss = df.isnull().sum()\n",
    "    perc_miss = 100 * total_miss / len(df)\n",
    "    table_miss = pd.concat([total_miss, perc_miss], axis = 1)\n",
    "    ren_table = table_miss.rename(columns = {0:'Total Miss Values', 1: '% of miss values'})\n",
    "    ren_table = ren_table[ren_table.iloc[:,1]!=0].sort_values('% of miss values', ascending = False).round(2)\n",
    "    \n",
    "    print('You data contains {}'.format(df.shape[1]) + ' columns and has {}'.format(ren_table.shape[0]) + ' colums with missing values' )\n",
    "    \n",
    "    return ren_table"
   ]
  },
  {
   "cell_type": "code",
   "execution_count": 25,
   "metadata": {
    "_uuid": "38fef8850cc8c92e222e4721c4e61867c152c062"
   },
   "outputs": [
    {
     "name": "stdout",
     "output_type": "stream",
     "text": [
      "You data contains 6 columns and has 0 colums with missing values\n"
     ]
    },
    {
     "data": {
      "text/html": [
       "<div>\n",
       "<style scoped>\n",
       "    .dataframe tbody tr th:only-of-type {\n",
       "        vertical-align: middle;\n",
       "    }\n",
       "\n",
       "    .dataframe tbody tr th {\n",
       "        vertical-align: top;\n",
       "    }\n",
       "\n",
       "    .dataframe thead th {\n",
       "        text-align: right;\n",
       "    }\n",
       "</style>\n",
       "<table border=\"1\" class=\"dataframe\">\n",
       "  <thead>\n",
       "    <tr style=\"text-align: right;\">\n",
       "      <th></th>\n",
       "      <th>Total Miss Values</th>\n",
       "      <th>% of miss values</th>\n",
       "    </tr>\n",
       "  </thead>\n",
       "  <tbody>\n",
       "  </tbody>\n",
       "</table>\n",
       "</div>"
      ],
      "text/plain": [
       "Empty DataFrame\n",
       "Columns: [Total Miss Values, % of miss values]\n",
       "Index: []"
      ]
     },
     "execution_count": 25,
     "metadata": {},
     "output_type": "execute_result"
    }
   ],
   "source": [
    "missing_values(train)"
   ]
  },
  {
   "cell_type": "code",
   "execution_count": 26,
   "metadata": {
    "_uuid": "b23ce5c975421c322da3c9ffefe9fe1df4d98c62"
   },
   "outputs": [],
   "source": [
    "train = train[train.target > -10]\n",
    "# ALEX: remove plotting\n",
    "# sns.pairplot(train[['feature_1', 'feature_2', 'feature_3', 'target']])\n",
    "_ = train[['feature_1', 'feature_2', 'feature_3', 'target']]"
   ]
  },
  {
   "cell_type": "markdown",
   "metadata": {
    "_uuid": "13d08fce495650c799bd3733e1fc7a9c9a845d80"
   },
   "source": [
    "### Lets check the distribution of our training datasets"
   ]
  },
  {
   "cell_type": "code",
   "execution_count": 27,
   "metadata": {
    "_uuid": "51d15fb77895b5fcdd2832db5ba9b40afe8d1111"
   },
   "outputs": [],
   "source": [
    "# ALEX: remove plotting\n",
    "# f, axes = plt.subplots(1,figsize = (12,6))\n",
    "# sns.distplot(train.feature_1, ax = axes, kde = False, color = 'green', bins = 10).set_title('Train data')\n",
    "# axes.set(ylabel = 'Card Counts')\n",
    "# axes.set_xticks(np.arange(1,6,1))\n",
    "# plt.show()\n",
    "_ = train.feature_1"
   ]
  },
  {
   "cell_type": "code",
   "execution_count": 28,
   "metadata": {
    "_uuid": "181d8e56d035b0e452502f22e47137ca6dbbd21c"
   },
   "outputs": [],
   "source": [
    "# ALEX: remove plotting\n",
    "# f, axes = plt.subplots(1,figsize = (12,6))\n",
    "# sns.distplot(train.feature_2, ax = axes, kde = False, color = 'green', bins = 10).set_title('Train data')\n",
    "# axes.set(ylabel = 'Card Counts')\n",
    "# axes.set_xticks(np.arange(1,6,1))\n",
    "# plt.show()\n",
    "_ = train.feature_2"
   ]
  },
  {
   "cell_type": "code",
   "execution_count": 29,
   "metadata": {
    "_uuid": "c7a0ad6e8d027d186cccd4e063e4bd40c840933e"
   },
   "outputs": [],
   "source": [
    "# ALEX: remove plotting\n",
    "# f, axes = plt.subplots(1,figsize = (12,6))\n",
    "# sns.distplot(train.feature_3, ax = axes, kde = False, color = 'green', bins = 10).set_title('Train data')\n",
    "# axes.set(ylabel = 'Card Counts')\n",
    "# axes.set_xticks(np.arange(1,6,1))\n",
    "# plt.show()\n",
    "_ = train.feature_3"
   ]
  },
  {
   "cell_type": "code",
   "execution_count": 30,
   "metadata": {
    "_uuid": "2a7cf26db68f68fbdadcf3bbbc0ea602d0457deb"
   },
   "outputs": [],
   "source": [
    "# f, axes = plt.subplots(1,figsize = (12,6))\n",
    "# sns.distplot(train.first_active_month, ax = axes, color = 'green', kde = False, bins = 10).set_title('Train data')\n",
    "# axes.set(ylabel = 'Card Counts')\n",
    "# axes.set_xticks(np.arange(1,6,1))\n",
    "# plt.show()"
   ]
  },
  {
   "cell_type": "code",
   "execution_count": 31,
   "metadata": {
    "_uuid": "1597d864ff75a2d25820fc9b470bfee3d150a9cd"
   },
   "outputs": [
    {
     "data": {
      "text/plain": [
       "first_active_month\n",
       "2011-11-01        8\n",
       "2011-12-01        2\n",
       "2012-02-01        7\n",
       "2012-03-01       10\n",
       "2012-04-01       15\n",
       "              ...  \n",
       "2017-10-01    13681\n",
       "2017-11-01    12929\n",
       "2017-12-01    10170\n",
       "2018-01-01       34\n",
       "2018-02-01        1\n",
       "Name: card_id, Length: 75, dtype: int64"
      ]
     },
     "execution_count": 31,
     "metadata": {},
     "output_type": "execute_result"
    }
   ],
   "source": [
    "# ALEX: remove plotting\n",
    "# train.groupby('first_active_month').count()['card_id'].plot(figsize = (15,5), title = 'Count of First Active Month in Train set', color = 'r')\n",
    "# plt.show()\n",
    "train.groupby('first_active_month').count()['card_id']"
   ]
  },
  {
   "cell_type": "code",
   "execution_count": 32,
   "metadata": {
    "_uuid": "066ef4f94b8ff80110f97c9fd939ab1ff9e63311"
   },
   "outputs": [
    {
     "name": "stdout",
     "output_type": "stream",
     "text": [
      "Train categories: 1\n",
      "Train Numerical values: 5\n"
     ]
    }
   ],
   "source": [
    "train_cat_feats = train.dtypes[train.dtypes == 'object'].index\n",
    "train_num_feats = train.dtypes[train.dtypes != 'object'].index\n",
    "\n",
    "print('Train categories: {}'.format(len(train_cat_feats)))\n",
    "print('Train Numerical values: {}'.format(len(train_num_feats)))"
   ]
  },
  {
   "cell_type": "code",
   "execution_count": 33,
   "metadata": {
    "_uuid": "f7b8bf1ed0091d2d3d298ab567cb5d23e796ada1"
   },
   "outputs": [
    {
     "name": "stdout",
     "output_type": "stream",
     "text": [
      "199653 \t unique values in \t card_id\n"
     ]
    }
   ],
   "source": [
    "for col in train_cat_feats:\n",
    "    cols = train[col].value_counts().index.shape[0]\n",
    "    print(f'{cols} \\t unique values in \\t {col}')"
   ]
  },
  {
   "cell_type": "code",
   "execution_count": 34,
   "metadata": {
    "_uuid": "ec992367706ff5f3e255d544c225459cfdf44a36"
   },
   "outputs": [
    {
     "name": "stdout",
     "output_type": "stream",
     "text": [
      "75 \t unique values in \t first_active_month\n",
      "5 \t unique values in \t feature_1\n",
      "3 \t unique values in \t feature_2\n",
      "2 \t unique values in \t feature_3\n",
      "197052 \t unique values in \t target\n"
     ]
    }
   ],
   "source": [
    "for col in train_num_feats:\n",
    "    cols = train[col].value_counts().index.shape[0]\n",
    "    print(f'{cols} \\t unique values in \\t {col}')"
   ]
  },
  {
   "cell_type": "code",
   "execution_count": 35,
   "metadata": {
    "_uuid": "a6548ec1c6fc39b22840a84b928f15fe534ff53b"
   },
   "outputs": [
    {
     "data": {
      "text/plain": [
       "0   -0.820283\n",
       "1    0.392913\n",
       "2    0.688056\n",
       "3    0.142495\n",
       "4   -0.159749\n",
       "Name: target, dtype: float64"
      ]
     },
     "execution_count": 35,
     "metadata": {},
     "output_type": "execute_result"
    }
   ],
   "source": [
    "target = train.target\n",
    "target.head()"
   ]
  },
  {
   "cell_type": "markdown",
   "metadata": {
    "_uuid": "d0f5fa0fd037b9964791ab884299715fb9c1b854"
   },
   "source": [
    "## Now lets see how other datasets look like\n",
    "\n",
    "### Lets start with merchants dataset"
   ]
  },
  {
   "cell_type": "code",
   "execution_count": 36,
   "metadata": {
    "_uuid": "df1a3d3d1d018741c171a39666eee6a05a0d41bb"
   },
   "outputs": [
    {
     "name": "stderr",
     "output_type": "stream",
     "text": [
      "/home/alex/Programs/python/dias/.venv/lib64/python3.10/site-packages/pandas/core/nanops.py:1016: RuntimeWarning: invalid value encountered in subtract\n",
      "  sqr = _ensure_numeric((avg - values) ** 2)\n",
      "/home/alex/Programs/python/dias/.venv/lib64/python3.10/site-packages/pandas/core/nanops.py:1016: RuntimeWarning: invalid value encountered in subtract\n",
      "  sqr = _ensure_numeric((avg - values) ** 2)\n",
      "/home/alex/Programs/python/dias/.venv/lib64/python3.10/site-packages/pandas/core/nanops.py:1016: RuntimeWarning: invalid value encountered in subtract\n",
      "  sqr = _ensure_numeric((avg - values) ** 2)\n"
     ]
    },
    {
     "data": {
      "text/html": [
       "<div>\n",
       "<style scoped>\n",
       "    .dataframe tbody tr th:only-of-type {\n",
       "        vertical-align: middle;\n",
       "    }\n",
       "\n",
       "    .dataframe tbody tr th {\n",
       "        vertical-align: top;\n",
       "    }\n",
       "\n",
       "    .dataframe thead th {\n",
       "        text-align: right;\n",
       "    }\n",
       "</style>\n",
       "<table border=\"1\" class=\"dataframe\">\n",
       "  <thead>\n",
       "    <tr style=\"text-align: right;\">\n",
       "      <th></th>\n",
       "      <th>merchant_group_id</th>\n",
       "      <th>merchant_category_id</th>\n",
       "      <th>subsector_id</th>\n",
       "      <th>numerical_1</th>\n",
       "      <th>numerical_2</th>\n",
       "      <th>avg_sales_lag3</th>\n",
       "      <th>avg_purchases_lag3</th>\n",
       "      <th>active_months_lag3</th>\n",
       "      <th>avg_sales_lag6</th>\n",
       "      <th>avg_purchases_lag6</th>\n",
       "      <th>active_months_lag6</th>\n",
       "      <th>avg_sales_lag12</th>\n",
       "      <th>avg_purchases_lag12</th>\n",
       "      <th>active_months_lag12</th>\n",
       "      <th>city_id</th>\n",
       "      <th>state_id</th>\n",
       "      <th>category_2</th>\n",
       "    </tr>\n",
       "  </thead>\n",
       "  <tbody>\n",
       "    <tr>\n",
       "      <th>count</th>\n",
       "      <td>334696.000000</td>\n",
       "      <td>334696.000000</td>\n",
       "      <td>334696.000000</td>\n",
       "      <td>334696.000000</td>\n",
       "      <td>334696.000000</td>\n",
       "      <td>334683.000000</td>\n",
       "      <td>3.346960e+05</td>\n",
       "      <td>334696.000000</td>\n",
       "      <td>3.346830e+05</td>\n",
       "      <td>3.346960e+05</td>\n",
       "      <td>334696.000000</td>\n",
       "      <td>3.346830e+05</td>\n",
       "      <td>3.346960e+05</td>\n",
       "      <td>334696.000000</td>\n",
       "      <td>334696.000000</td>\n",
       "      <td>334696.000000</td>\n",
       "      <td>322809.000000</td>\n",
       "    </tr>\n",
       "    <tr>\n",
       "      <th>mean</th>\n",
       "      <td>31028.736143</td>\n",
       "      <td>423.131663</td>\n",
       "      <td>25.116404</td>\n",
       "      <td>0.011476</td>\n",
       "      <td>0.008103</td>\n",
       "      <td>13.832993</td>\n",
       "      <td>inf</td>\n",
       "      <td>2.994108</td>\n",
       "      <td>2.165079e+01</td>\n",
       "      <td>inf</td>\n",
       "      <td>5.947397</td>\n",
       "      <td>2.522771e+01</td>\n",
       "      <td>inf</td>\n",
       "      <td>11.599335</td>\n",
       "      <td>102.917926</td>\n",
       "      <td>11.860942</td>\n",
       "      <td>2.380002</td>\n",
       "    </tr>\n",
       "    <tr>\n",
       "      <th>std</th>\n",
       "      <td>31623.043426</td>\n",
       "      <td>252.898046</td>\n",
       "      <td>9.807371</td>\n",
       "      <td>1.098154</td>\n",
       "      <td>1.070497</td>\n",
       "      <td>2395.489999</td>\n",
       "      <td>NaN</td>\n",
       "      <td>0.095247</td>\n",
       "      <td>3.947108e+03</td>\n",
       "      <td>NaN</td>\n",
       "      <td>0.394936</td>\n",
       "      <td>5.251842e+03</td>\n",
       "      <td>NaN</td>\n",
       "      <td>1.520138</td>\n",
       "      <td>107.090673</td>\n",
       "      <td>6.176889</td>\n",
       "      <td>1.562661</td>\n",
       "    </tr>\n",
       "    <tr>\n",
       "      <th>min</th>\n",
       "      <td>1.000000</td>\n",
       "      <td>-1.000000</td>\n",
       "      <td>-1.000000</td>\n",
       "      <td>-0.057471</td>\n",
       "      <td>-0.057471</td>\n",
       "      <td>-82.130000</td>\n",
       "      <td>3.334953e-01</td>\n",
       "      <td>1.000000</td>\n",
       "      <td>-8.213000e+01</td>\n",
       "      <td>1.670447e-01</td>\n",
       "      <td>1.000000</td>\n",
       "      <td>-8.213000e+01</td>\n",
       "      <td>9.832954e-02</td>\n",
       "      <td>1.000000</td>\n",
       "      <td>-1.000000</td>\n",
       "      <td>-1.000000</td>\n",
       "      <td>1.000000</td>\n",
       "    </tr>\n",
       "    <tr>\n",
       "      <th>25%</th>\n",
       "      <td>3612.000000</td>\n",
       "      <td>222.000000</td>\n",
       "      <td>19.000000</td>\n",
       "      <td>-0.057471</td>\n",
       "      <td>-0.057471</td>\n",
       "      <td>0.880000</td>\n",
       "      <td>9.236499e-01</td>\n",
       "      <td>3.000000</td>\n",
       "      <td>8.500000e-01</td>\n",
       "      <td>9.022475e-01</td>\n",
       "      <td>6.000000</td>\n",
       "      <td>8.500000e-01</td>\n",
       "      <td>8.983333e-01</td>\n",
       "      <td>12.000000</td>\n",
       "      <td>-1.000000</td>\n",
       "      <td>9.000000</td>\n",
       "      <td>1.000000</td>\n",
       "    </tr>\n",
       "    <tr>\n",
       "      <th>50%</th>\n",
       "      <td>19900.000000</td>\n",
       "      <td>373.000000</td>\n",
       "      <td>27.000000</td>\n",
       "      <td>-0.057471</td>\n",
       "      <td>-0.057471</td>\n",
       "      <td>1.000000</td>\n",
       "      <td>1.016667e+00</td>\n",
       "      <td>3.000000</td>\n",
       "      <td>1.010000e+00</td>\n",
       "      <td>1.026961e+00</td>\n",
       "      <td>6.000000</td>\n",
       "      <td>1.020000e+00</td>\n",
       "      <td>1.043361e+00</td>\n",
       "      <td>12.000000</td>\n",
       "      <td>69.000000</td>\n",
       "      <td>9.000000</td>\n",
       "      <td>2.000000</td>\n",
       "    </tr>\n",
       "    <tr>\n",
       "      <th>75%</th>\n",
       "      <td>51707.250000</td>\n",
       "      <td>683.000000</td>\n",
       "      <td>33.000000</td>\n",
       "      <td>-0.047556</td>\n",
       "      <td>-0.047556</td>\n",
       "      <td>1.160000</td>\n",
       "      <td>1.146522e+00</td>\n",
       "      <td>3.000000</td>\n",
       "      <td>1.230000e+00</td>\n",
       "      <td>1.215575e+00</td>\n",
       "      <td>6.000000</td>\n",
       "      <td>1.290000e+00</td>\n",
       "      <td>1.266480e+00</td>\n",
       "      <td>12.000000</td>\n",
       "      <td>182.000000</td>\n",
       "      <td>16.000000</td>\n",
       "      <td>4.000000</td>\n",
       "    </tr>\n",
       "    <tr>\n",
       "      <th>max</th>\n",
       "      <td>112586.000000</td>\n",
       "      <td>891.000000</td>\n",
       "      <td>41.000000</td>\n",
       "      <td>183.735111</td>\n",
       "      <td>182.079322</td>\n",
       "      <td>851844.640000</td>\n",
       "      <td>inf</td>\n",
       "      <td>3.000000</td>\n",
       "      <td>1.513959e+06</td>\n",
       "      <td>inf</td>\n",
       "      <td>6.000000</td>\n",
       "      <td>2.567408e+06</td>\n",
       "      <td>inf</td>\n",
       "      <td>12.000000</td>\n",
       "      <td>347.000000</td>\n",
       "      <td>24.000000</td>\n",
       "      <td>5.000000</td>\n",
       "    </tr>\n",
       "  </tbody>\n",
       "</table>\n",
       "</div>"
      ],
      "text/plain": [
       "       merchant_group_id  merchant_category_id   subsector_id    numerical_1  \\\n",
       "count      334696.000000         334696.000000  334696.000000  334696.000000   \n",
       "mean        31028.736143            423.131663      25.116404       0.011476   \n",
       "std         31623.043426            252.898046       9.807371       1.098154   \n",
       "min             1.000000             -1.000000      -1.000000      -0.057471   \n",
       "25%          3612.000000            222.000000      19.000000      -0.057471   \n",
       "50%         19900.000000            373.000000      27.000000      -0.057471   \n",
       "75%         51707.250000            683.000000      33.000000      -0.047556   \n",
       "max        112586.000000            891.000000      41.000000     183.735111   \n",
       "\n",
       "         numerical_2  avg_sales_lag3  avg_purchases_lag3  active_months_lag3  \\\n",
       "count  334696.000000   334683.000000        3.346960e+05       334696.000000   \n",
       "mean        0.008103       13.832993                 inf            2.994108   \n",
       "std         1.070497     2395.489999                 NaN            0.095247   \n",
       "min        -0.057471      -82.130000        3.334953e-01            1.000000   \n",
       "25%        -0.057471        0.880000        9.236499e-01            3.000000   \n",
       "50%        -0.057471        1.000000        1.016667e+00            3.000000   \n",
       "75%        -0.047556        1.160000        1.146522e+00            3.000000   \n",
       "max       182.079322   851844.640000                 inf            3.000000   \n",
       "\n",
       "       avg_sales_lag6  avg_purchases_lag6  active_months_lag6  \\\n",
       "count    3.346830e+05        3.346960e+05       334696.000000   \n",
       "mean     2.165079e+01                 inf            5.947397   \n",
       "std      3.947108e+03                 NaN            0.394936   \n",
       "min     -8.213000e+01        1.670447e-01            1.000000   \n",
       "25%      8.500000e-01        9.022475e-01            6.000000   \n",
       "50%      1.010000e+00        1.026961e+00            6.000000   \n",
       "75%      1.230000e+00        1.215575e+00            6.000000   \n",
       "max      1.513959e+06                 inf            6.000000   \n",
       "\n",
       "       avg_sales_lag12  avg_purchases_lag12  active_months_lag12  \\\n",
       "count     3.346830e+05         3.346960e+05        334696.000000   \n",
       "mean      2.522771e+01                  inf            11.599335   \n",
       "std       5.251842e+03                  NaN             1.520138   \n",
       "min      -8.213000e+01         9.832954e-02             1.000000   \n",
       "25%       8.500000e-01         8.983333e-01            12.000000   \n",
       "50%       1.020000e+00         1.043361e+00            12.000000   \n",
       "75%       1.290000e+00         1.266480e+00            12.000000   \n",
       "max       2.567408e+06                  inf            12.000000   \n",
       "\n",
       "             city_id       state_id     category_2  \n",
       "count  334696.000000  334696.000000  322809.000000  \n",
       "mean      102.917926      11.860942       2.380002  \n",
       "std       107.090673       6.176889       1.562661  \n",
       "min        -1.000000      -1.000000       1.000000  \n",
       "25%        -1.000000       9.000000       1.000000  \n",
       "50%        69.000000       9.000000       2.000000  \n",
       "75%       182.000000      16.000000       4.000000  \n",
       "max       347.000000      24.000000       5.000000  "
      ]
     },
     "execution_count": 36,
     "metadata": {},
     "output_type": "execute_result"
    }
   ],
   "source": [
    "merchants.describe()"
   ]
  },
  {
   "cell_type": "code",
   "execution_count": 37,
   "metadata": {
    "_uuid": "40c4efc885f83dc7e4afae53528a9ab9581e5871"
   },
   "outputs": [
    {
     "name": "stdout",
     "output_type": "stream",
     "text": [
      "You data contains 22 columns and has 4 colums with missing values\n"
     ]
    },
    {
     "data": {
      "text/html": [
       "<div>\n",
       "<style scoped>\n",
       "    .dataframe tbody tr th:only-of-type {\n",
       "        vertical-align: middle;\n",
       "    }\n",
       "\n",
       "    .dataframe tbody tr th {\n",
       "        vertical-align: top;\n",
       "    }\n",
       "\n",
       "    .dataframe thead th {\n",
       "        text-align: right;\n",
       "    }\n",
       "</style>\n",
       "<table border=\"1\" class=\"dataframe\">\n",
       "  <thead>\n",
       "    <tr style=\"text-align: right;\">\n",
       "      <th></th>\n",
       "      <th>Total Miss Values</th>\n",
       "      <th>% of miss values</th>\n",
       "    </tr>\n",
       "  </thead>\n",
       "  <tbody>\n",
       "    <tr>\n",
       "      <th>category_2</th>\n",
       "      <td>11887</td>\n",
       "      <td>3.55</td>\n",
       "    </tr>\n",
       "    <tr>\n",
       "      <th>avg_sales_lag3</th>\n",
       "      <td>13</td>\n",
       "      <td>0.00</td>\n",
       "    </tr>\n",
       "    <tr>\n",
       "      <th>avg_sales_lag6</th>\n",
       "      <td>13</td>\n",
       "      <td>0.00</td>\n",
       "    </tr>\n",
       "    <tr>\n",
       "      <th>avg_sales_lag12</th>\n",
       "      <td>13</td>\n",
       "      <td>0.00</td>\n",
       "    </tr>\n",
       "  </tbody>\n",
       "</table>\n",
       "</div>"
      ],
      "text/plain": [
       "                 Total Miss Values  % of miss values\n",
       "category_2                   11887              3.55\n",
       "avg_sales_lag3                  13              0.00\n",
       "avg_sales_lag6                  13              0.00\n",
       "avg_sales_lag12                 13              0.00"
      ]
     },
     "execution_count": 37,
     "metadata": {},
     "output_type": "execute_result"
    }
   ],
   "source": [
    "missing_values(merchants)"
   ]
  },
  {
   "cell_type": "code",
   "execution_count": 38,
   "metadata": {
    "_uuid": "4db12b4cecce1199cb9a138e187b44bd9743b5e3"
   },
   "outputs": [
    {
     "name": "stdout",
     "output_type": "stream",
     "text": [
      "<class 'pandas.core.frame.DataFrame'>\n",
      "RangeIndex: 334696 entries, 0 to 334695\n",
      "Data columns (total 22 columns):\n",
      " #   Column                       Non-Null Count   Dtype  \n",
      "---  ------                       --------------   -----  \n",
      " 0   merchant_id                  334696 non-null  object \n",
      " 1   merchant_group_id            334696 non-null  int64  \n",
      " 2   merchant_category_id         334696 non-null  int64  \n",
      " 3   subsector_id                 334696 non-null  int64  \n",
      " 4   numerical_1                  334696 non-null  float64\n",
      " 5   numerical_2                  334696 non-null  float64\n",
      " 6   category_1                   334696 non-null  object \n",
      " 7   most_recent_sales_range      334696 non-null  object \n",
      " 8   most_recent_purchases_range  334696 non-null  object \n",
      " 9   avg_sales_lag3               334683 non-null  float64\n",
      " 10  avg_purchases_lag3           334696 non-null  float64\n",
      " 11  active_months_lag3           334696 non-null  int64  \n",
      " 12  avg_sales_lag6               334683 non-null  float64\n",
      " 13  avg_purchases_lag6           334696 non-null  float64\n",
      " 14  active_months_lag6           334696 non-null  int64  \n",
      " 15  avg_sales_lag12              334683 non-null  float64\n",
      " 16  avg_purchases_lag12          334696 non-null  float64\n",
      " 17  active_months_lag12          334696 non-null  int64  \n",
      " 18  category_4                   334696 non-null  object \n",
      " 19  city_id                      334696 non-null  int64  \n",
      " 20  state_id                     334696 non-null  int64  \n",
      " 21  category_2                   322809 non-null  float64\n",
      "dtypes: float64(9), int64(8), object(5)\n",
      "memory usage: 56.2+ MB\n"
     ]
    }
   ],
   "source": [
    "merchants.info()"
   ]
  },
  {
   "cell_type": "code",
   "execution_count": 39,
   "metadata": {
    "_uuid": "8cb7f6820c5b406fe6bbb36a3d1bac14bf040fb9"
   },
   "outputs": [
    {
     "data": {
      "text/plain": [
       "Index(['merchant_id', 'category_1', 'most_recent_sales_range',\n",
       "       'most_recent_purchases_range', 'category_4'],\n",
       "      dtype='object')"
      ]
     },
     "execution_count": 39,
     "metadata": {},
     "output_type": "execute_result"
    }
   ],
   "source": [
    "merchant_cat_feats = merchants.dtypes[merchants.dtypes == 'object'].index\n",
    "merchant_cat_feats"
   ]
  },
  {
   "cell_type": "code",
   "execution_count": 40,
   "metadata": {
    "_uuid": "de6ad5909a1e7292e50eedea64fdd09cc8ea04e1"
   },
   "outputs": [
    {
     "data": {
      "text/plain": [
       "Index(['merchant_group_id', 'merchant_category_id', 'subsector_id',\n",
       "       'numerical_1', 'numerical_2', 'avg_sales_lag3', 'avg_purchases_lag3',\n",
       "       'active_months_lag3', 'avg_sales_lag6', 'avg_purchases_lag6',\n",
       "       'active_months_lag6', 'avg_sales_lag12', 'avg_purchases_lag12',\n",
       "       'active_months_lag12', 'city_id', 'state_id', 'category_2'],\n",
       "      dtype='object')"
      ]
     },
     "execution_count": 40,
     "metadata": {},
     "output_type": "execute_result"
    }
   ],
   "source": [
    "merchant_num_feats = merchants.dtypes[merchants.dtypes != 'object'].index\n",
    "merchant_num_feats"
   ]
  },
  {
   "cell_type": "code",
   "execution_count": 41,
   "metadata": {
    "_uuid": "cc903c312fb4b8cc4c26e8898272c59489700919"
   },
   "outputs": [
    {
     "name": "stdout",
     "output_type": "stream",
     "text": [
      "Merchant categorical features 5\n",
      "Merchant Numerical features 17\n"
     ]
    }
   ],
   "source": [
    "print('Merchant categorical features {}'.format(len(merchant_cat_feats)))\n",
    "print('Merchant Numerical features {}'.format(len(merchant_num_feats)))"
   ]
  },
  {
   "cell_type": "code",
   "execution_count": 42,
   "metadata": {
    "_uuid": "ba65761af241dbdb87dd40cf9422cbe0a93afdc6"
   },
   "outputs": [
    {
     "name": "stdout",
     "output_type": "stream",
     "text": [
      "334633 \t unique values in \t merchant_id\n",
      "2 \t unique values in \t category_1\n",
      "5 \t unique values in \t most_recent_sales_range\n",
      "5 \t unique values in \t most_recent_purchases_range\n",
      "2 \t unique values in \t category_4\n"
     ]
    }
   ],
   "source": [
    "for col in merchant_cat_feats:\n",
    "    cols = merchants[col].value_counts().index.shape[0]\n",
    "    print(f'{cols} \\t unique values in \\t {col}')"
   ]
  },
  {
   "cell_type": "code",
   "execution_count": 43,
   "metadata": {
    "_uuid": "08dbd93e7ed1b001ddacc91152fb3bcea8a34701"
   },
   "outputs": [
    {
     "name": "stdout",
     "output_type": "stream",
     "text": [
      "109391 \t unique values in \t merchant_group_id\n",
      "324 \t unique values in \t merchant_category_id\n",
      "41 \t unique values in \t subsector_id\n",
      "954 \t unique values in \t numerical_1\n",
      "947 \t unique values in \t numerical_2\n",
      "3372 \t unique values in \t avg_sales_lag3\n",
      "100003 \t unique values in \t avg_purchases_lag3\n",
      "3 \t unique values in \t active_months_lag3\n",
      "4507 \t unique values in \t avg_sales_lag6\n",
      "135202 \t unique values in \t avg_purchases_lag6\n",
      "6 \t unique values in \t active_months_lag6\n",
      "5009 \t unique values in \t avg_sales_lag12\n",
      "172917 \t unique values in \t avg_purchases_lag12\n",
      "12 \t unique values in \t active_months_lag12\n",
      "271 \t unique values in \t city_id\n",
      "25 \t unique values in \t state_id\n",
      "5 \t unique values in \t category_2\n"
     ]
    }
   ],
   "source": [
    "for col in merchant_num_feats:\n",
    "    cols = merchants[col].value_counts().index.shape[0]\n",
    "    print(f'{cols} \\t unique values in \\t {col}')"
   ]
  },
  {
   "cell_type": "code",
   "execution_count": null,
   "metadata": {
    "_uuid": "b662e1751578fcce586754d1affbf4a2240051dc"
   },
   "outputs": [],
   "source": []
  },
  {
   "cell_type": "markdown",
   "metadata": {
    "_uuid": "13ee3d192c8859e3e7fc2842eb7c676a5f747e9c"
   },
   "source": [
    "## Now lets observe Historical transactions"
   ]
  },
  {
   "cell_type": "code",
   "execution_count": 44,
   "metadata": {
    "_uuid": "20e272872a748c757b26c4621a251673ea0435af"
   },
   "outputs": [
    {
     "data": {
      "text/html": [
       "<div>\n",
       "<style scoped>\n",
       "    .dataframe tbody tr th:only-of-type {\n",
       "        vertical-align: middle;\n",
       "    }\n",
       "\n",
       "    .dataframe tbody tr th {\n",
       "        vertical-align: top;\n",
       "    }\n",
       "\n",
       "    .dataframe thead th {\n",
       "        text-align: right;\n",
       "    }\n",
       "</style>\n",
       "<table border=\"1\" class=\"dataframe\">\n",
       "  <thead>\n",
       "    <tr style=\"text-align: right;\">\n",
       "      <th></th>\n",
       "      <th>authorized_flag</th>\n",
       "      <th>card_id</th>\n",
       "      <th>city_id</th>\n",
       "      <th>category_1</th>\n",
       "      <th>installments</th>\n",
       "      <th>category_3</th>\n",
       "      <th>merchant_category_id</th>\n",
       "      <th>merchant_id</th>\n",
       "      <th>month_lag</th>\n",
       "      <th>purchase_amount</th>\n",
       "      <th>purchase_date</th>\n",
       "      <th>category_2</th>\n",
       "      <th>state_id</th>\n",
       "      <th>subsector_id</th>\n",
       "    </tr>\n",
       "  </thead>\n",
       "  <tbody>\n",
       "    <tr>\n",
       "      <th>0</th>\n",
       "      <td>Y</td>\n",
       "      <td>C_ID_4e6213e9bc</td>\n",
       "      <td>88</td>\n",
       "      <td>N</td>\n",
       "      <td>0</td>\n",
       "      <td>A</td>\n",
       "      <td>80</td>\n",
       "      <td>M_ID_e020e9b302</td>\n",
       "      <td>-8</td>\n",
       "      <td>-0.703331</td>\n",
       "      <td>2017-06-25 15:33:07</td>\n",
       "      <td>1.0</td>\n",
       "      <td>16</td>\n",
       "      <td>37</td>\n",
       "    </tr>\n",
       "    <tr>\n",
       "      <th>1</th>\n",
       "      <td>Y</td>\n",
       "      <td>C_ID_4e6213e9bc</td>\n",
       "      <td>88</td>\n",
       "      <td>N</td>\n",
       "      <td>0</td>\n",
       "      <td>A</td>\n",
       "      <td>367</td>\n",
       "      <td>M_ID_86ec983688</td>\n",
       "      <td>-7</td>\n",
       "      <td>-0.733128</td>\n",
       "      <td>2017-07-15 12:10:45</td>\n",
       "      <td>1.0</td>\n",
       "      <td>16</td>\n",
       "      <td>16</td>\n",
       "    </tr>\n",
       "    <tr>\n",
       "      <th>2</th>\n",
       "      <td>Y</td>\n",
       "      <td>C_ID_4e6213e9bc</td>\n",
       "      <td>88</td>\n",
       "      <td>N</td>\n",
       "      <td>0</td>\n",
       "      <td>A</td>\n",
       "      <td>80</td>\n",
       "      <td>M_ID_979ed661fc</td>\n",
       "      <td>-6</td>\n",
       "      <td>-0.720386</td>\n",
       "      <td>2017-08-09 22:04:29</td>\n",
       "      <td>1.0</td>\n",
       "      <td>16</td>\n",
       "      <td>37</td>\n",
       "    </tr>\n",
       "    <tr>\n",
       "      <th>3</th>\n",
       "      <td>Y</td>\n",
       "      <td>C_ID_4e6213e9bc</td>\n",
       "      <td>88</td>\n",
       "      <td>N</td>\n",
       "      <td>0</td>\n",
       "      <td>A</td>\n",
       "      <td>560</td>\n",
       "      <td>M_ID_e6d5ae8ea6</td>\n",
       "      <td>-5</td>\n",
       "      <td>-0.735352</td>\n",
       "      <td>2017-09-02 10:06:26</td>\n",
       "      <td>1.0</td>\n",
       "      <td>16</td>\n",
       "      <td>34</td>\n",
       "    </tr>\n",
       "    <tr>\n",
       "      <th>4</th>\n",
       "      <td>Y</td>\n",
       "      <td>C_ID_4e6213e9bc</td>\n",
       "      <td>88</td>\n",
       "      <td>N</td>\n",
       "      <td>0</td>\n",
       "      <td>A</td>\n",
       "      <td>80</td>\n",
       "      <td>M_ID_e020e9b302</td>\n",
       "      <td>-11</td>\n",
       "      <td>-0.722865</td>\n",
       "      <td>2017-03-10 01:14:19</td>\n",
       "      <td>1.0</td>\n",
       "      <td>16</td>\n",
       "      <td>37</td>\n",
       "    </tr>\n",
       "  </tbody>\n",
       "</table>\n",
       "</div>"
      ],
      "text/plain": [
       "  authorized_flag          card_id  city_id category_1  installments  \\\n",
       "0               Y  C_ID_4e6213e9bc       88          N             0   \n",
       "1               Y  C_ID_4e6213e9bc       88          N             0   \n",
       "2               Y  C_ID_4e6213e9bc       88          N             0   \n",
       "3               Y  C_ID_4e6213e9bc       88          N             0   \n",
       "4               Y  C_ID_4e6213e9bc       88          N             0   \n",
       "\n",
       "  category_3  merchant_category_id      merchant_id  month_lag  \\\n",
       "0          A                    80  M_ID_e020e9b302         -8   \n",
       "1          A                   367  M_ID_86ec983688         -7   \n",
       "2          A                    80  M_ID_979ed661fc         -6   \n",
       "3          A                   560  M_ID_e6d5ae8ea6         -5   \n",
       "4          A                    80  M_ID_e020e9b302        -11   \n",
       "\n",
       "   purchase_amount        purchase_date  category_2  state_id  subsector_id  \n",
       "0        -0.703331  2017-06-25 15:33:07         1.0        16            37  \n",
       "1        -0.733128  2017-07-15 12:10:45         1.0        16            16  \n",
       "2        -0.720386  2017-08-09 22:04:29         1.0        16            37  \n",
       "3        -0.735352  2017-09-02 10:06:26         1.0        16            34  \n",
       "4        -0.722865  2017-03-10 01:14:19         1.0        16            37  "
      ]
     },
     "execution_count": 44,
     "metadata": {},
     "output_type": "execute_result"
    }
   ],
   "source": [
    "historical_trans.head()"
   ]
  },
  {
   "cell_type": "code",
   "execution_count": 45,
   "metadata": {
    "_uuid": "1923d13b7f2b4b286ad859db7be4b0e9a8876544"
   },
   "outputs": [
    {
     "data": {
      "text/html": [
       "<div>\n",
       "<style scoped>\n",
       "    .dataframe tbody tr th:only-of-type {\n",
       "        vertical-align: middle;\n",
       "    }\n",
       "\n",
       "    .dataframe tbody tr th {\n",
       "        vertical-align: top;\n",
       "    }\n",
       "\n",
       "    .dataframe thead th {\n",
       "        text-align: right;\n",
       "    }\n",
       "</style>\n",
       "<table border=\"1\" class=\"dataframe\">\n",
       "  <thead>\n",
       "    <tr style=\"text-align: right;\">\n",
       "      <th></th>\n",
       "      <th>city_id</th>\n",
       "      <th>installments</th>\n",
       "      <th>merchant_category_id</th>\n",
       "      <th>month_lag</th>\n",
       "      <th>purchase_amount</th>\n",
       "      <th>category_2</th>\n",
       "      <th>state_id</th>\n",
       "      <th>subsector_id</th>\n",
       "    </tr>\n",
       "  </thead>\n",
       "  <tbody>\n",
       "    <tr>\n",
       "      <th>count</th>\n",
       "      <td>1000000.000000</td>\n",
       "      <td>1000000.000000</td>\n",
       "      <td>1000000.000000</td>\n",
       "      <td>1000000.000000</td>\n",
       "      <td>1000000.000000</td>\n",
       "      <td>924639.000000</td>\n",
       "      <td>1000000.000000</td>\n",
       "      <td>1000000.000000</td>\n",
       "    </tr>\n",
       "    <tr>\n",
       "      <th>mean</th>\n",
       "      <td>127.939636</td>\n",
       "      <td>0.501833</td>\n",
       "      <td>470.369678</td>\n",
       "      <td>-5.028485</td>\n",
       "      <td>-0.235407</td>\n",
       "      <td>2.186192</td>\n",
       "      <td>10.844769</td>\n",
       "      <td>27.506362</td>\n",
       "    </tr>\n",
       "    <tr>\n",
       "      <th>std</th>\n",
       "      <td>103.040829</td>\n",
       "      <td>1.968149</td>\n",
       "      <td>247.741753</td>\n",
       "      <td>3.684319</td>\n",
       "      <td>114.412911</td>\n",
       "      <td>1.540223</td>\n",
       "      <td>6.244131</td>\n",
       "      <td>9.527308</td>\n",
       "    </tr>\n",
       "    <tr>\n",
       "      <th>min</th>\n",
       "      <td>-1.000000</td>\n",
       "      <td>-1.000000</td>\n",
       "      <td>-1.000000</td>\n",
       "      <td>-13.000000</td>\n",
       "      <td>-0.746908</td>\n",
       "      <td>1.000000</td>\n",
       "      <td>-1.000000</td>\n",
       "      <td>-1.000000</td>\n",
       "    </tr>\n",
       "    <tr>\n",
       "      <th>25%</th>\n",
       "      <td>53.000000</td>\n",
       "      <td>0.000000</td>\n",
       "      <td>278.000000</td>\n",
       "      <td>-8.000000</td>\n",
       "      <td>-0.722024</td>\n",
       "      <td>1.000000</td>\n",
       "      <td>9.000000</td>\n",
       "      <td>19.000000</td>\n",
       "    </tr>\n",
       "    <tr>\n",
       "      <th>50%</th>\n",
       "      <td>88.000000</td>\n",
       "      <td>0.000000</td>\n",
       "      <td>437.000000</td>\n",
       "      <td>-4.000000</td>\n",
       "      <td>-0.693579</td>\n",
       "      <td>1.000000</td>\n",
       "      <td>9.000000</td>\n",
       "      <td>33.000000</td>\n",
       "    </tr>\n",
       "    <tr>\n",
       "      <th>75%</th>\n",
       "      <td>209.000000</td>\n",
       "      <td>1.000000</td>\n",
       "      <td>705.000000</td>\n",
       "      <td>-2.000000</td>\n",
       "      <td>-0.619633</td>\n",
       "      <td>3.000000</td>\n",
       "      <td>16.000000</td>\n",
       "      <td>34.000000</td>\n",
       "    </tr>\n",
       "    <tr>\n",
       "      <th>max</th>\n",
       "      <td>347.000000</td>\n",
       "      <td>999.000000</td>\n",
       "      <td>891.000000</td>\n",
       "      <td>0.000000</td>\n",
       "      <td>87155.460339</td>\n",
       "      <td>5.000000</td>\n",
       "      <td>24.000000</td>\n",
       "      <td>41.000000</td>\n",
       "    </tr>\n",
       "  </tbody>\n",
       "</table>\n",
       "</div>"
      ],
      "text/plain": [
       "              city_id    installments  merchant_category_id       month_lag  \\\n",
       "count  1000000.000000  1000000.000000        1000000.000000  1000000.000000   \n",
       "mean       127.939636        0.501833            470.369678       -5.028485   \n",
       "std        103.040829        1.968149            247.741753        3.684319   \n",
       "min         -1.000000       -1.000000             -1.000000      -13.000000   \n",
       "25%         53.000000        0.000000            278.000000       -8.000000   \n",
       "50%         88.000000        0.000000            437.000000       -4.000000   \n",
       "75%        209.000000        1.000000            705.000000       -2.000000   \n",
       "max        347.000000      999.000000            891.000000        0.000000   \n",
       "\n",
       "       purchase_amount     category_2        state_id    subsector_id  \n",
       "count   1000000.000000  924639.000000  1000000.000000  1000000.000000  \n",
       "mean         -0.235407       2.186192       10.844769       27.506362  \n",
       "std         114.412911       1.540223        6.244131        9.527308  \n",
       "min          -0.746908       1.000000       -1.000000       -1.000000  \n",
       "25%          -0.722024       1.000000        9.000000       19.000000  \n",
       "50%          -0.693579       1.000000        9.000000       33.000000  \n",
       "75%          -0.619633       3.000000       16.000000       34.000000  \n",
       "max       87155.460339       5.000000       24.000000       41.000000  "
      ]
     },
     "execution_count": 45,
     "metadata": {},
     "output_type": "execute_result"
    }
   ],
   "source": [
    "historical_trans.describe()"
   ]
  },
  {
   "cell_type": "code",
   "execution_count": 46,
   "metadata": {
    "_uuid": "d28459a7756de08dbbea182f301c209e7e076c11"
   },
   "outputs": [
    {
     "name": "stdout",
     "output_type": "stream",
     "text": [
      "<class 'pandas.core.frame.DataFrame'>\n",
      "RangeIndex: 1000000 entries, 0 to 999999\n",
      "Data columns (total 14 columns):\n",
      " #   Column                Non-Null Count    Dtype  \n",
      "---  ------                --------------    -----  \n",
      " 0   authorized_flag       1000000 non-null  object \n",
      " 1   card_id               1000000 non-null  object \n",
      " 2   city_id               1000000 non-null  int64  \n",
      " 3   category_1            1000000 non-null  object \n",
      " 4   installments          1000000 non-null  int64  \n",
      " 5   category_3            996845 non-null   object \n",
      " 6   merchant_category_id  1000000 non-null  int64  \n",
      " 7   merchant_id           995889 non-null   object \n",
      " 8   month_lag             1000000 non-null  int64  \n",
      " 9   purchase_amount       1000000 non-null  float64\n",
      " 10  purchase_date         1000000 non-null  object \n",
      " 11  category_2            924639 non-null   float64\n",
      " 12  state_id              1000000 non-null  int64  \n",
      " 13  subsector_id          1000000 non-null  int64  \n",
      "dtypes: float64(2), int64(6), object(6)\n",
      "memory usage: 106.8+ MB\n"
     ]
    }
   ],
   "source": [
    "historical_trans.info()"
   ]
  },
  {
   "cell_type": "code",
   "execution_count": 47,
   "metadata": {
    "_uuid": "d2ddf55f94058e5edd855dffedd9c8670efbf754"
   },
   "outputs": [
    {
     "name": "stdout",
     "output_type": "stream",
     "text": [
      "You data contains 14 columns and has 3 colums with missing values\n"
     ]
    },
    {
     "data": {
      "text/html": [
       "<div>\n",
       "<style scoped>\n",
       "    .dataframe tbody tr th:only-of-type {\n",
       "        vertical-align: middle;\n",
       "    }\n",
       "\n",
       "    .dataframe tbody tr th {\n",
       "        vertical-align: top;\n",
       "    }\n",
       "\n",
       "    .dataframe thead th {\n",
       "        text-align: right;\n",
       "    }\n",
       "</style>\n",
       "<table border=\"1\" class=\"dataframe\">\n",
       "  <thead>\n",
       "    <tr style=\"text-align: right;\">\n",
       "      <th></th>\n",
       "      <th>Total Miss Values</th>\n",
       "      <th>% of miss values</th>\n",
       "    </tr>\n",
       "  </thead>\n",
       "  <tbody>\n",
       "    <tr>\n",
       "      <th>category_2</th>\n",
       "      <td>75361</td>\n",
       "      <td>7.54</td>\n",
       "    </tr>\n",
       "    <tr>\n",
       "      <th>merchant_id</th>\n",
       "      <td>4111</td>\n",
       "      <td>0.41</td>\n",
       "    </tr>\n",
       "    <tr>\n",
       "      <th>category_3</th>\n",
       "      <td>3155</td>\n",
       "      <td>0.32</td>\n",
       "    </tr>\n",
       "  </tbody>\n",
       "</table>\n",
       "</div>"
      ],
      "text/plain": [
       "             Total Miss Values  % of miss values\n",
       "category_2               75361              7.54\n",
       "merchant_id               4111              0.41\n",
       "category_3                3155              0.32"
      ]
     },
     "execution_count": 47,
     "metadata": {},
     "output_type": "execute_result"
    }
   ],
   "source": [
    "missing_values(historical_trans)"
   ]
  },
  {
   "cell_type": "code",
   "execution_count": 48,
   "metadata": {
    "_uuid": "c707b84eb0070706294979e82da4db8726691dd7"
   },
   "outputs": [
    {
     "name": "stdout",
     "output_type": "stream",
     "text": [
      "Historical Transactions categorical features 6\n",
      "Historical Transactions Numerical features 8\n"
     ]
    }
   ],
   "source": [
    "hist_cat_feats = historical_trans.dtypes[historical_trans.dtypes == 'object'].index\n",
    "hist_num_feats = historical_trans.dtypes[historical_trans.dtypes != 'object'].index\n",
    "\n",
    "print('Historical Transactions categorical features {}'.format(len(hist_cat_feats)))\n",
    "print('Historical Transactions Numerical features {}'.format(len(hist_num_feats)))"
   ]
  },
  {
   "cell_type": "code",
   "execution_count": 49,
   "metadata": {
    "_uuid": "cdbf567dc2b52af16036a3c88ef23bd7a2d148da"
   },
   "outputs": [
    {
     "name": "stdout",
     "output_type": "stream",
     "text": [
      "2 \t unique values in \t authorized_flag\n",
      "4792 \t unique values in \t card_id\n",
      "2 \t unique values in \t category_1\n",
      "3 \t unique values in \t category_3\n",
      "100057 \t unique values in \t merchant_id\n",
      "950453 \t unique values in \t purchase_date\n"
     ]
    }
   ],
   "source": [
    "for col in hist_cat_feats:\n",
    "    cols = historical_trans[col].value_counts().index.shape[0]\n",
    "    print(f'{cols} \\t unique values in \\t {col}')"
   ]
  },
  {
   "cell_type": "code",
   "execution_count": 50,
   "metadata": {
    "_uuid": "9248378d7b5764e72e4f899da17fd5517615c5e4"
   },
   "outputs": [
    {
     "name": "stdout",
     "output_type": "stream",
     "text": [
      "307 \t unique values in \t city_id\n",
      "15 \t unique values in \t installments\n",
      "290 \t unique values in \t merchant_category_id\n",
      "14 \t unique values in \t month_lag\n",
      "51593 \t unique values in \t purchase_amount\n",
      "5 \t unique values in \t category_2\n",
      "25 \t unique values in \t state_id\n",
      "41 \t unique values in \t subsector_id\n"
     ]
    }
   ],
   "source": [
    "for col in hist_num_feats:\n",
    "    cols = historical_trans[col].value_counts().index.shape[0]\n",
    "    print(f'{cols} \\t unique values in \\t {col}')"
   ]
  },
  {
   "cell_type": "code",
   "execution_count": null,
   "metadata": {
    "_uuid": "5936f6c76278265ec7037d429165f80ab4274729"
   },
   "outputs": [],
   "source": []
  },
  {
   "cell_type": "markdown",
   "metadata": {
    "_uuid": "cbf6c631dddef2d947ccbecdb2552ac43f32e110"
   },
   "source": [
    "## Now lets check how does the New Merchant dataset looks like"
   ]
  },
  {
   "cell_type": "code",
   "execution_count": 51,
   "metadata": {
    "_uuid": "74cb5cc0cea26cd3564446e8439720f97b949fb7",
    "scrolled": true
   },
   "outputs": [
    {
     "data": {
      "text/html": [
       "<div>\n",
       "<style scoped>\n",
       "    .dataframe tbody tr th:only-of-type {\n",
       "        vertical-align: middle;\n",
       "    }\n",
       "\n",
       "    .dataframe tbody tr th {\n",
       "        vertical-align: top;\n",
       "    }\n",
       "\n",
       "    .dataframe thead th {\n",
       "        text-align: right;\n",
       "    }\n",
       "</style>\n",
       "<table border=\"1\" class=\"dataframe\">\n",
       "  <thead>\n",
       "    <tr style=\"text-align: right;\">\n",
       "      <th></th>\n",
       "      <th>authorized_flag</th>\n",
       "      <th>card_id</th>\n",
       "      <th>city_id</th>\n",
       "      <th>category_1</th>\n",
       "      <th>installments</th>\n",
       "      <th>category_3</th>\n",
       "      <th>merchant_category_id</th>\n",
       "      <th>merchant_id</th>\n",
       "      <th>month_lag</th>\n",
       "      <th>purchase_amount</th>\n",
       "      <th>purchase_date</th>\n",
       "      <th>category_2</th>\n",
       "      <th>state_id</th>\n",
       "      <th>subsector_id</th>\n",
       "    </tr>\n",
       "  </thead>\n",
       "  <tbody>\n",
       "    <tr>\n",
       "      <th>0</th>\n",
       "      <td>Y</td>\n",
       "      <td>C_ID_415bb3a509</td>\n",
       "      <td>107</td>\n",
       "      <td>N</td>\n",
       "      <td>1</td>\n",
       "      <td>B</td>\n",
       "      <td>307</td>\n",
       "      <td>M_ID_b0c793002c</td>\n",
       "      <td>1</td>\n",
       "      <td>-0.557574</td>\n",
       "      <td>2018-03-11 14:57:36</td>\n",
       "      <td>1.0</td>\n",
       "      <td>9</td>\n",
       "      <td>19</td>\n",
       "    </tr>\n",
       "    <tr>\n",
       "      <th>1</th>\n",
       "      <td>Y</td>\n",
       "      <td>C_ID_415bb3a509</td>\n",
       "      <td>140</td>\n",
       "      <td>N</td>\n",
       "      <td>1</td>\n",
       "      <td>B</td>\n",
       "      <td>307</td>\n",
       "      <td>M_ID_88920c89e8</td>\n",
       "      <td>1</td>\n",
       "      <td>-0.569580</td>\n",
       "      <td>2018-03-19 18:53:37</td>\n",
       "      <td>1.0</td>\n",
       "      <td>9</td>\n",
       "      <td>19</td>\n",
       "    </tr>\n",
       "    <tr>\n",
       "      <th>2</th>\n",
       "      <td>Y</td>\n",
       "      <td>C_ID_415bb3a509</td>\n",
       "      <td>330</td>\n",
       "      <td>N</td>\n",
       "      <td>1</td>\n",
       "      <td>B</td>\n",
       "      <td>507</td>\n",
       "      <td>M_ID_ad5237ef6b</td>\n",
       "      <td>2</td>\n",
       "      <td>-0.551037</td>\n",
       "      <td>2018-04-26 14:08:44</td>\n",
       "      <td>1.0</td>\n",
       "      <td>9</td>\n",
       "      <td>14</td>\n",
       "    </tr>\n",
       "    <tr>\n",
       "      <th>3</th>\n",
       "      <td>Y</td>\n",
       "      <td>C_ID_415bb3a509</td>\n",
       "      <td>-1</td>\n",
       "      <td>Y</td>\n",
       "      <td>1</td>\n",
       "      <td>B</td>\n",
       "      <td>661</td>\n",
       "      <td>M_ID_9e84cda3b1</td>\n",
       "      <td>1</td>\n",
       "      <td>-0.671925</td>\n",
       "      <td>2018-03-07 09:43:21</td>\n",
       "      <td>NaN</td>\n",
       "      <td>-1</td>\n",
       "      <td>8</td>\n",
       "    </tr>\n",
       "    <tr>\n",
       "      <th>4</th>\n",
       "      <td>Y</td>\n",
       "      <td>C_ID_ef55cf8d4b</td>\n",
       "      <td>-1</td>\n",
       "      <td>Y</td>\n",
       "      <td>1</td>\n",
       "      <td>B</td>\n",
       "      <td>166</td>\n",
       "      <td>M_ID_3c86fa3831</td>\n",
       "      <td>1</td>\n",
       "      <td>-0.659904</td>\n",
       "      <td>2018-03-22 21:07:53</td>\n",
       "      <td>NaN</td>\n",
       "      <td>-1</td>\n",
       "      <td>29</td>\n",
       "    </tr>\n",
       "  </tbody>\n",
       "</table>\n",
       "</div>"
      ],
      "text/plain": [
       "  authorized_flag          card_id  city_id category_1  installments  \\\n",
       "0               Y  C_ID_415bb3a509      107          N             1   \n",
       "1               Y  C_ID_415bb3a509      140          N             1   \n",
       "2               Y  C_ID_415bb3a509      330          N             1   \n",
       "3               Y  C_ID_415bb3a509       -1          Y             1   \n",
       "4               Y  C_ID_ef55cf8d4b       -1          Y             1   \n",
       "\n",
       "  category_3  merchant_category_id      merchant_id  month_lag  \\\n",
       "0          B                   307  M_ID_b0c793002c          1   \n",
       "1          B                   307  M_ID_88920c89e8          1   \n",
       "2          B                   507  M_ID_ad5237ef6b          2   \n",
       "3          B                   661  M_ID_9e84cda3b1          1   \n",
       "4          B                   166  M_ID_3c86fa3831          1   \n",
       "\n",
       "   purchase_amount        purchase_date  category_2  state_id  subsector_id  \n",
       "0        -0.557574  2018-03-11 14:57:36         1.0         9            19  \n",
       "1        -0.569580  2018-03-19 18:53:37         1.0         9            19  \n",
       "2        -0.551037  2018-04-26 14:08:44         1.0         9            14  \n",
       "3        -0.671925  2018-03-07 09:43:21         NaN        -1             8  \n",
       "4        -0.659904  2018-03-22 21:07:53         NaN        -1            29  "
      ]
     },
     "execution_count": 51,
     "metadata": {},
     "output_type": "execute_result"
    }
   ],
   "source": [
    "new_merchants.head()"
   ]
  },
  {
   "cell_type": "code",
   "execution_count": 52,
   "metadata": {
    "_uuid": "e7ad510a8fa80594b95299810aaaf1b316879dd5",
    "scrolled": true
   },
   "outputs": [
    {
     "data": {
      "text/html": [
       "<div>\n",
       "<style scoped>\n",
       "    .dataframe tbody tr th:only-of-type {\n",
       "        vertical-align: middle;\n",
       "    }\n",
       "\n",
       "    .dataframe tbody tr th {\n",
       "        vertical-align: top;\n",
       "    }\n",
       "\n",
       "    .dataframe thead th {\n",
       "        text-align: right;\n",
       "    }\n",
       "</style>\n",
       "<table border=\"1\" class=\"dataframe\">\n",
       "  <thead>\n",
       "    <tr style=\"text-align: right;\">\n",
       "      <th></th>\n",
       "      <th>city_id</th>\n",
       "      <th>installments</th>\n",
       "      <th>merchant_category_id</th>\n",
       "      <th>month_lag</th>\n",
       "      <th>purchase_amount</th>\n",
       "      <th>category_2</th>\n",
       "      <th>state_id</th>\n",
       "      <th>subsector_id</th>\n",
       "    </tr>\n",
       "  </thead>\n",
       "  <tbody>\n",
       "    <tr>\n",
       "      <th>count</th>\n",
       "      <td>1.963031e+06</td>\n",
       "      <td>1.963031e+06</td>\n",
       "      <td>1.963031e+06</td>\n",
       "      <td>1.963031e+06</td>\n",
       "      <td>1.963031e+06</td>\n",
       "      <td>1.851286e+06</td>\n",
       "      <td>1.963031e+06</td>\n",
       "      <td>1.963031e+06</td>\n",
       "    </tr>\n",
       "    <tr>\n",
       "      <th>mean</th>\n",
       "      <td>1.343867e+02</td>\n",
       "      <td>6.829643e-01</td>\n",
       "      <td>4.309701e+02</td>\n",
       "      <td>1.476515e+00</td>\n",
       "      <td>-5.509690e-01</td>\n",
       "      <td>2.197841e+00</td>\n",
       "      <td>1.088067e+01</td>\n",
       "      <td>2.597624e+01</td>\n",
       "    </tr>\n",
       "    <tr>\n",
       "      <th>std</th>\n",
       "      <td>1.015152e+02</td>\n",
       "      <td>1.584069e+00</td>\n",
       "      <td>2.463385e+02</td>\n",
       "      <td>4.994483e-01</td>\n",
       "      <td>6.940043e-01</td>\n",
       "      <td>1.528125e+00</td>\n",
       "      <td>6.038542e+00</td>\n",
       "      <td>1.012908e+01</td>\n",
       "    </tr>\n",
       "    <tr>\n",
       "      <th>min</th>\n",
       "      <td>-1.000000e+00</td>\n",
       "      <td>-1.000000e+00</td>\n",
       "      <td>-1.000000e+00</td>\n",
       "      <td>1.000000e+00</td>\n",
       "      <td>-7.468928e-01</td>\n",
       "      <td>1.000000e+00</td>\n",
       "      <td>-1.000000e+00</td>\n",
       "      <td>-1.000000e+00</td>\n",
       "    </tr>\n",
       "    <tr>\n",
       "      <th>25%</th>\n",
       "      <td>6.900000e+01</td>\n",
       "      <td>0.000000e+00</td>\n",
       "      <td>2.780000e+02</td>\n",
       "      <td>1.000000e+00</td>\n",
       "      <td>-7.166294e-01</td>\n",
       "      <td>1.000000e+00</td>\n",
       "      <td>9.000000e+00</td>\n",
       "      <td>1.900000e+01</td>\n",
       "    </tr>\n",
       "    <tr>\n",
       "      <th>50%</th>\n",
       "      <td>1.100000e+02</td>\n",
       "      <td>1.000000e+00</td>\n",
       "      <td>3.670000e+02</td>\n",
       "      <td>1.000000e+00</td>\n",
       "      <td>-6.748406e-01</td>\n",
       "      <td>1.000000e+00</td>\n",
       "      <td>9.000000e+00</td>\n",
       "      <td>2.900000e+01</td>\n",
       "    </tr>\n",
       "    <tr>\n",
       "      <th>75%</th>\n",
       "      <td>2.120000e+02</td>\n",
       "      <td>1.000000e+00</td>\n",
       "      <td>6.830000e+02</td>\n",
       "      <td>2.000000e+00</td>\n",
       "      <td>-5.816162e-01</td>\n",
       "      <td>3.000000e+00</td>\n",
       "      <td>1.500000e+01</td>\n",
       "      <td>3.400000e+01</td>\n",
       "    </tr>\n",
       "    <tr>\n",
       "      <th>max</th>\n",
       "      <td>3.470000e+02</td>\n",
       "      <td>9.990000e+02</td>\n",
       "      <td>8.910000e+02</td>\n",
       "      <td>2.000000e+00</td>\n",
       "      <td>2.631575e+02</td>\n",
       "      <td>5.000000e+00</td>\n",
       "      <td>2.400000e+01</td>\n",
       "      <td>4.100000e+01</td>\n",
       "    </tr>\n",
       "  </tbody>\n",
       "</table>\n",
       "</div>"
      ],
      "text/plain": [
       "            city_id  installments  merchant_category_id     month_lag  \\\n",
       "count  1.963031e+06  1.963031e+06          1.963031e+06  1.963031e+06   \n",
       "mean   1.343867e+02  6.829643e-01          4.309701e+02  1.476515e+00   \n",
       "std    1.015152e+02  1.584069e+00          2.463385e+02  4.994483e-01   \n",
       "min   -1.000000e+00 -1.000000e+00         -1.000000e+00  1.000000e+00   \n",
       "25%    6.900000e+01  0.000000e+00          2.780000e+02  1.000000e+00   \n",
       "50%    1.100000e+02  1.000000e+00          3.670000e+02  1.000000e+00   \n",
       "75%    2.120000e+02  1.000000e+00          6.830000e+02  2.000000e+00   \n",
       "max    3.470000e+02  9.990000e+02          8.910000e+02  2.000000e+00   \n",
       "\n",
       "       purchase_amount    category_2      state_id  subsector_id  \n",
       "count     1.963031e+06  1.851286e+06  1.963031e+06  1.963031e+06  \n",
       "mean     -5.509690e-01  2.197841e+00  1.088067e+01  2.597624e+01  \n",
       "std       6.940043e-01  1.528125e+00  6.038542e+00  1.012908e+01  \n",
       "min      -7.468928e-01  1.000000e+00 -1.000000e+00 -1.000000e+00  \n",
       "25%      -7.166294e-01  1.000000e+00  9.000000e+00  1.900000e+01  \n",
       "50%      -6.748406e-01  1.000000e+00  9.000000e+00  2.900000e+01  \n",
       "75%      -5.816162e-01  3.000000e+00  1.500000e+01  3.400000e+01  \n",
       "max       2.631575e+02  5.000000e+00  2.400000e+01  4.100000e+01  "
      ]
     },
     "execution_count": 52,
     "metadata": {},
     "output_type": "execute_result"
    }
   ],
   "source": [
    "new_merchants.describe()"
   ]
  },
  {
   "cell_type": "code",
   "execution_count": 53,
   "metadata": {
    "_uuid": "cdd71c3107872ca3900b7861876d546dd769faa6"
   },
   "outputs": [
    {
     "name": "stdout",
     "output_type": "stream",
     "text": [
      "<class 'pandas.core.frame.DataFrame'>\n",
      "RangeIndex: 1963031 entries, 0 to 1963030\n",
      "Data columns (total 14 columns):\n",
      " #   Column                Dtype  \n",
      "---  ------                -----  \n",
      " 0   authorized_flag       object \n",
      " 1   card_id               object \n",
      " 2   city_id               int64  \n",
      " 3   category_1            object \n",
      " 4   installments          int64  \n",
      " 5   category_3            object \n",
      " 6   merchant_category_id  int64  \n",
      " 7   merchant_id           object \n",
      " 8   month_lag             int64  \n",
      " 9   purchase_amount       float64\n",
      " 10  purchase_date         object \n",
      " 11  category_2            float64\n",
      " 12  state_id              int64  \n",
      " 13  subsector_id          int64  \n",
      "dtypes: float64(2), int64(6), object(6)\n",
      "memory usage: 209.7+ MB\n"
     ]
    }
   ],
   "source": [
    "new_merchants.info()"
   ]
  },
  {
   "cell_type": "code",
   "execution_count": 54,
   "metadata": {
    "_uuid": "283fe80a51e6390ac6469f662d09c57575ad43a4"
   },
   "outputs": [
    {
     "name": "stdout",
     "output_type": "stream",
     "text": [
      "You data contains 14 columns and has 3 colums with missing values\n"
     ]
    },
    {
     "data": {
      "text/html": [
       "<div>\n",
       "<style scoped>\n",
       "    .dataframe tbody tr th:only-of-type {\n",
       "        vertical-align: middle;\n",
       "    }\n",
       "\n",
       "    .dataframe tbody tr th {\n",
       "        vertical-align: top;\n",
       "    }\n",
       "\n",
       "    .dataframe thead th {\n",
       "        text-align: right;\n",
       "    }\n",
       "</style>\n",
       "<table border=\"1\" class=\"dataframe\">\n",
       "  <thead>\n",
       "    <tr style=\"text-align: right;\">\n",
       "      <th></th>\n",
       "      <th>Total Miss Values</th>\n",
       "      <th>% of miss values</th>\n",
       "    </tr>\n",
       "  </thead>\n",
       "  <tbody>\n",
       "    <tr>\n",
       "      <th>category_2</th>\n",
       "      <td>111745</td>\n",
       "      <td>5.69</td>\n",
       "    </tr>\n",
       "    <tr>\n",
       "      <th>category_3</th>\n",
       "      <td>55922</td>\n",
       "      <td>2.85</td>\n",
       "    </tr>\n",
       "    <tr>\n",
       "      <th>merchant_id</th>\n",
       "      <td>26216</td>\n",
       "      <td>1.34</td>\n",
       "    </tr>\n",
       "  </tbody>\n",
       "</table>\n",
       "</div>"
      ],
      "text/plain": [
       "             Total Miss Values  % of miss values\n",
       "category_2              111745              5.69\n",
       "category_3               55922              2.85\n",
       "merchant_id              26216              1.34"
      ]
     },
     "execution_count": 54,
     "metadata": {},
     "output_type": "execute_result"
    }
   ],
   "source": [
    "missing_values(new_merchants)"
   ]
  },
  {
   "cell_type": "code",
   "execution_count": 55,
   "metadata": {
    "_uuid": "2e753e1d2efbdd8d7990b3c7ca2faecfd1df3a17"
   },
   "outputs": [
    {
     "name": "stdout",
     "output_type": "stream",
     "text": [
      "New Merchant categorical features 6\n",
      "New Merchant numerical features 8\n"
     ]
    }
   ],
   "source": [
    "new_merch_cat_feats = new_merchants.dtypes[new_merchants.dtypes == 'object'].index\n",
    "new_merch_num_feats = new_merchants.dtypes[new_merchants.dtypes != 'object'].index\n",
    "\n",
    "print('New Merchant categorical features {}'.format(len(new_merch_cat_feats)))\n",
    "print('New Merchant numerical features {}'.format(len(new_merch_num_feats)))"
   ]
  },
  {
   "cell_type": "code",
   "execution_count": 56,
   "metadata": {
    "_uuid": "ec9c1947a9aab10334310ecc70bb79fa9e99d0e6"
   },
   "outputs": [
    {
     "name": "stdout",
     "output_type": "stream",
     "text": [
      "1 \t unique values in \t authorized_flag\n",
      "290001 \t unique values in \t card_id\n",
      "2 \t unique values in \t category_1\n",
      "3 \t unique values in \t category_3\n",
      "226129 \t unique values in \t merchant_id\n",
      "1667025 \t unique values in \t purchase_date\n"
     ]
    }
   ],
   "source": [
    "for col in new_merch_cat_feats:\n",
    "    cols = new_merchants[col].value_counts().index.shape[0]\n",
    "    print(f'{cols} \\t unique values in \\t {col}')"
   ]
  },
  {
   "cell_type": "code",
   "execution_count": 57,
   "metadata": {
    "_uuid": "c445f0a357892f971a19e36400a52e8cd0d0d708"
   },
   "outputs": [
    {
     "name": "stdout",
     "output_type": "stream",
     "text": [
      "308 \t unique values in \t city_id\n",
      "15 \t unique values in \t installments\n",
      "314 \t unique values in \t merchant_category_id\n",
      "2 \t unique values in \t month_lag\n",
      "75190 \t unique values in \t purchase_amount\n",
      "5 \t unique values in \t category_2\n",
      "25 \t unique values in \t state_id\n",
      "41 \t unique values in \t subsector_id\n"
     ]
    }
   ],
   "source": [
    "for col in new_merch_num_feats:\n",
    "    cols = new_merchants[col].value_counts().index.shape[0]\n",
    "    print(f'{cols} \\t unique values in \\t {col}')"
   ]
  },
  {
   "cell_type": "code",
   "execution_count": null,
   "metadata": {
    "_uuid": "04a0bc73b40f9679f352e99361f77c27025bc822"
   },
   "outputs": [],
   "source": []
  },
  {
   "cell_type": "markdown",
   "metadata": {
    "_uuid": "b69f9bea68d4d13abe03fb9743aaf15bc5989292"
   },
   "source": [
    "# 3. Feature Engineering"
   ]
  },
  {
   "cell_type": "code",
   "execution_count": null,
   "metadata": {
    "_uuid": "fe7fb54ba2f629cb785bcb7260d288bb8dff5b82"
   },
   "outputs": [],
   "source": []
  },
  {
   "cell_type": "markdown",
   "metadata": {
    "_uuid": "23c44599d5fc2bff95980af606029e0ec8c10cfd"
   },
   "source": [
    "### Let's work with the Merchants datasets (both merchants and new_merchants data)\n",
    "\n",
    "for more info on this check this kernel out [By Robin Denz](https://www.kaggle.com/denzo123/a-closer-look-at-date-variables)"
   ]
  },
  {
   "cell_type": "code",
   "execution_count": 58,
   "metadata": {
    "_uuid": "de24860d1a2d23a8ef25c2fd25e1c7392c495913"
   },
   "outputs": [
    {
     "name": "stdout",
     "output_type": "stream",
     "text": [
      "Merchants data shape: (334696, 22), new merchants data shape: (1963031, 14)\n"
     ]
    }
   ],
   "source": [
    "print(f'Merchants data shape: {merchants.shape}, new merchants data shape: {new_merchants.shape}')"
   ]
  },
  {
   "cell_type": "code",
   "execution_count": 59,
   "metadata": {
    "_uuid": "d51ad06d58a1e09e3ae4b4ee42452b645602f8b4"
   },
   "outputs": [
    {
     "name": "stdout",
     "output_type": "stream",
     "text": [
      "Index(['merchant_id', 'merchant_group_id', 'merchant_category_id',\n",
      "       'subsector_id', 'numerical_1', 'numerical_2', 'category_1',\n",
      "       'most_recent_sales_range', 'most_recent_purchases_range',\n",
      "       'avg_sales_lag3', 'avg_purchases_lag3', 'active_months_lag3',\n",
      "       'avg_sales_lag6', 'avg_purchases_lag6', 'active_months_lag6',\n",
      "       'avg_sales_lag12', 'avg_purchases_lag12', 'active_months_lag12',\n",
      "       'category_4', 'city_id', 'state_id', 'category_2'],\n",
      "      dtype='object')\n",
      "====================================\n",
      "Index(['authorized_flag', 'card_id', 'city_id', 'category_1', 'installments',\n",
      "       'category_3', 'merchant_category_id', 'merchant_id', 'month_lag',\n",
      "       'purchase_amount', 'purchase_date', 'category_2', 'state_id',\n",
      "       'subsector_id'],\n",
      "      dtype='object')\n"
     ]
    }
   ],
   "source": [
    "print(merchants.columns)\n",
    "print('=='*18)\n",
    "print(new_merchants.columns)"
   ]
  },
  {
   "cell_type": "code",
   "execution_count": 60,
   "metadata": {
    "_uuid": "74ddbb0527a53261984c3ce0ebb512e9e5701df0"
   },
   "outputs": [
    {
     "data": {
      "text/html": [
       "<div>\n",
       "<style scoped>\n",
       "    .dataframe tbody tr th:only-of-type {\n",
       "        vertical-align: middle;\n",
       "    }\n",
       "\n",
       "    .dataframe tbody tr th {\n",
       "        vertical-align: top;\n",
       "    }\n",
       "\n",
       "    .dataframe thead th {\n",
       "        text-align: right;\n",
       "    }\n",
       "</style>\n",
       "<table border=\"1\" class=\"dataframe\">\n",
       "  <thead>\n",
       "    <tr style=\"text-align: right;\">\n",
       "      <th></th>\n",
       "      <th>merchant_id</th>\n",
       "      <th>merchant_group_id</th>\n",
       "      <th>numerical_1</th>\n",
       "      <th>numerical_2</th>\n",
       "      <th>most_recent_sales_range</th>\n",
       "      <th>most_recent_purchases_range</th>\n",
       "      <th>avg_sales_lag3</th>\n",
       "      <th>avg_purchases_lag3</th>\n",
       "      <th>active_months_lag3</th>\n",
       "      <th>avg_sales_lag6</th>\n",
       "      <th>...</th>\n",
       "      <th>category_1</th>\n",
       "      <th>installments</th>\n",
       "      <th>category_3</th>\n",
       "      <th>merchant_category_id</th>\n",
       "      <th>month_lag</th>\n",
       "      <th>purchase_amount</th>\n",
       "      <th>purchase_date</th>\n",
       "      <th>category_2</th>\n",
       "      <th>state_id</th>\n",
       "      <th>subsector_id</th>\n",
       "    </tr>\n",
       "  </thead>\n",
       "  <tbody>\n",
       "    <tr>\n",
       "      <th>0</th>\n",
       "      <td>M_ID_a70e9c5f81</td>\n",
       "      <td>5026</td>\n",
       "      <td>-0.057471</td>\n",
       "      <td>-0.057471</td>\n",
       "      <td>E</td>\n",
       "      <td>E</td>\n",
       "      <td>NaN</td>\n",
       "      <td>1.666667</td>\n",
       "      <td>3</td>\n",
       "      <td>NaN</td>\n",
       "      <td>...</td>\n",
       "      <td>Y</td>\n",
       "      <td>2</td>\n",
       "      <td>C</td>\n",
       "      <td>792</td>\n",
       "      <td>1</td>\n",
       "      <td>-0.622007</td>\n",
       "      <td>2018-03-05 14:51:53</td>\n",
       "      <td>NaN</td>\n",
       "      <td>-1</td>\n",
       "      <td>9</td>\n",
       "    </tr>\n",
       "    <tr>\n",
       "      <th>1</th>\n",
       "      <td>M_ID_d8ff08219e</td>\n",
       "      <td>16430</td>\n",
       "      <td>-0.057471</td>\n",
       "      <td>-0.057471</td>\n",
       "      <td>E</td>\n",
       "      <td>E</td>\n",
       "      <td>NaN</td>\n",
       "      <td>1.000000</td>\n",
       "      <td>3</td>\n",
       "      <td>NaN</td>\n",
       "      <td>...</td>\n",
       "      <td>Y</td>\n",
       "      <td>10</td>\n",
       "      <td>C</td>\n",
       "      <td>529</td>\n",
       "      <td>1</td>\n",
       "      <td>1.146703</td>\n",
       "      <td>2018-03-08 22:19:58</td>\n",
       "      <td>NaN</td>\n",
       "      <td>-1</td>\n",
       "      <td>20</td>\n",
       "    </tr>\n",
       "    <tr>\n",
       "      <th>2</th>\n",
       "      <td>M_ID_c9eb20f6f5</td>\n",
       "      <td>25449</td>\n",
       "      <td>-0.057471</td>\n",
       "      <td>-0.057471</td>\n",
       "      <td>E</td>\n",
       "      <td>E</td>\n",
       "      <td>NaN</td>\n",
       "      <td>1.666667</td>\n",
       "      <td>3</td>\n",
       "      <td>NaN</td>\n",
       "      <td>...</td>\n",
       "      <td>N</td>\n",
       "      <td>0</td>\n",
       "      <td>A</td>\n",
       "      <td>45</td>\n",
       "      <td>2</td>\n",
       "      <td>-0.596643</td>\n",
       "      <td>2018-04-11 11:45:08</td>\n",
       "      <td>1.0</td>\n",
       "      <td>16</td>\n",
       "      <td>18</td>\n",
       "    </tr>\n",
       "    <tr>\n",
       "      <th>3</th>\n",
       "      <td>M_ID_c9855bf3e3</td>\n",
       "      <td>321</td>\n",
       "      <td>-0.057471</td>\n",
       "      <td>-0.057471</td>\n",
       "      <td>E</td>\n",
       "      <td>E</td>\n",
       "      <td>NaN</td>\n",
       "      <td>1084.000000</td>\n",
       "      <td>3</td>\n",
       "      <td>NaN</td>\n",
       "      <td>...</td>\n",
       "      <td>Y</td>\n",
       "      <td>5</td>\n",
       "      <td>C</td>\n",
       "      <td>690</td>\n",
       "      <td>2</td>\n",
       "      <td>-0.326180</td>\n",
       "      <td>2018-04-23 17:19:42</td>\n",
       "      <td>NaN</td>\n",
       "      <td>-1</td>\n",
       "      <td>1</td>\n",
       "    </tr>\n",
       "    <tr>\n",
       "      <th>4</th>\n",
       "      <td>M_ID_c9855bf3e3</td>\n",
       "      <td>321</td>\n",
       "      <td>-0.057471</td>\n",
       "      <td>-0.057471</td>\n",
       "      <td>E</td>\n",
       "      <td>E</td>\n",
       "      <td>NaN</td>\n",
       "      <td>1084.000000</td>\n",
       "      <td>3</td>\n",
       "      <td>NaN</td>\n",
       "      <td>...</td>\n",
       "      <td>Y</td>\n",
       "      <td>1</td>\n",
       "      <td>B</td>\n",
       "      <td>690</td>\n",
       "      <td>1</td>\n",
       "      <td>-0.652391</td>\n",
       "      <td>2018-03-19 23:24:49</td>\n",
       "      <td>NaN</td>\n",
       "      <td>-1</td>\n",
       "      <td>1</td>\n",
       "    </tr>\n",
       "  </tbody>\n",
       "</table>\n",
       "<p>5 rows × 29 columns</p>\n",
       "</div>"
      ],
      "text/plain": [
       "       merchant_id  merchant_group_id  numerical_1  numerical_2  \\\n",
       "0  M_ID_a70e9c5f81               5026    -0.057471    -0.057471   \n",
       "1  M_ID_d8ff08219e              16430    -0.057471    -0.057471   \n",
       "2  M_ID_c9eb20f6f5              25449    -0.057471    -0.057471   \n",
       "3  M_ID_c9855bf3e3                321    -0.057471    -0.057471   \n",
       "4  M_ID_c9855bf3e3                321    -0.057471    -0.057471   \n",
       "\n",
       "  most_recent_sales_range most_recent_purchases_range  avg_sales_lag3  \\\n",
       "0                       E                           E             NaN   \n",
       "1                       E                           E             NaN   \n",
       "2                       E                           E             NaN   \n",
       "3                       E                           E             NaN   \n",
       "4                       E                           E             NaN   \n",
       "\n",
       "   avg_purchases_lag3  active_months_lag3  avg_sales_lag6  ...  category_1  \\\n",
       "0            1.666667                   3             NaN  ...           Y   \n",
       "1            1.000000                   3             NaN  ...           Y   \n",
       "2            1.666667                   3             NaN  ...           N   \n",
       "3         1084.000000                   3             NaN  ...           Y   \n",
       "4         1084.000000                   3             NaN  ...           Y   \n",
       "\n",
       "   installments  category_3  merchant_category_id  month_lag purchase_amount  \\\n",
       "0             2           C                   792          1       -0.622007   \n",
       "1            10           C                   529          1        1.146703   \n",
       "2             0           A                    45          2       -0.596643   \n",
       "3             5           C                   690          2       -0.326180   \n",
       "4             1           B                   690          1       -0.652391   \n",
       "\n",
       "         purchase_date category_2  state_id subsector_id  \n",
       "0  2018-03-05 14:51:53        NaN        -1            9  \n",
       "1  2018-03-08 22:19:58        NaN        -1           20  \n",
       "2  2018-04-11 11:45:08        1.0        16           18  \n",
       "3  2018-04-23 17:19:42        NaN        -1            1  \n",
       "4  2018-03-19 23:24:49        NaN        -1            1  \n",
       "\n",
       "[5 rows x 29 columns]"
      ]
     },
     "execution_count": 60,
     "metadata": {},
     "output_type": "execute_result"
    }
   ],
   "source": [
    "# Lets merge our datasets\n",
    "# But first we need to delete duplicate columns\n",
    "todrop = ['merchant_category_id', 'subsector_id', 'city_id', 'state_id', 'category_2', 'category_1']\n",
    "\n",
    "for col in todrop:\n",
    "    merchants = merchants.drop(col, axis = 1)\n",
    "    \n",
    "merchants_data = pd.merge(merchants, new_merchants, on = 'merchant_id')\n",
    "merchants_data[:5]"
   ]
  },
  {
   "cell_type": "code",
   "execution_count": 61,
   "metadata": {
    "_uuid": "e9144f4c9f821f637a902f85b7f6f1b63b1cba4c"
   },
   "outputs": [],
   "source": [
    "# Lets merge our merchant data with the training data.\n",
    "\n",
    "data = pd.merge(merchants_data, train, on = 'card_id')"
   ]
  },
  {
   "cell_type": "code",
   "execution_count": 62,
   "metadata": {
    "_uuid": "64e6092d16cfef018556114f133d59e7cd8d091b"
   },
   "outputs": [
    {
     "data": {
      "text/plain": [
       "(1215489, 34)"
      ]
     },
     "execution_count": 62,
     "metadata": {},
     "output_type": "execute_result"
    }
   ],
   "source": [
    "data.shape"
   ]
  },
  {
   "cell_type": "code",
   "execution_count": 63,
   "metadata": {
    "_uuid": "776f394190100a79e5474f0b1a99e492c56d5dfa"
   },
   "outputs": [
    {
     "data": {
      "text/html": [
       "<div>\n",
       "<style scoped>\n",
       "    .dataframe tbody tr th:only-of-type {\n",
       "        vertical-align: middle;\n",
       "    }\n",
       "\n",
       "    .dataframe tbody tr th {\n",
       "        vertical-align: top;\n",
       "    }\n",
       "\n",
       "    .dataframe thead th {\n",
       "        text-align: right;\n",
       "    }\n",
       "</style>\n",
       "<table border=\"1\" class=\"dataframe\">\n",
       "  <thead>\n",
       "    <tr style=\"text-align: right;\">\n",
       "      <th></th>\n",
       "      <th>merchant_id</th>\n",
       "      <th>merchant_group_id</th>\n",
       "      <th>numerical_1</th>\n",
       "      <th>numerical_2</th>\n",
       "      <th>most_recent_sales_range</th>\n",
       "      <th>most_recent_purchases_range</th>\n",
       "      <th>avg_sales_lag3</th>\n",
       "      <th>avg_purchases_lag3</th>\n",
       "      <th>active_months_lag3</th>\n",
       "      <th>avg_sales_lag6</th>\n",
       "      <th>...</th>\n",
       "      <th>purchase_amount</th>\n",
       "      <th>purchase_date</th>\n",
       "      <th>category_2</th>\n",
       "      <th>state_id</th>\n",
       "      <th>subsector_id</th>\n",
       "      <th>first_active_month</th>\n",
       "      <th>feature_1</th>\n",
       "      <th>feature_2</th>\n",
       "      <th>feature_3</th>\n",
       "      <th>target</th>\n",
       "    </tr>\n",
       "  </thead>\n",
       "  <tbody>\n",
       "    <tr>\n",
       "      <th>0</th>\n",
       "      <td>M_ID_c9eb20f6f5</td>\n",
       "      <td>25449</td>\n",
       "      <td>-0.057471</td>\n",
       "      <td>-0.057471</td>\n",
       "      <td>E</td>\n",
       "      <td>E</td>\n",
       "      <td>NaN</td>\n",
       "      <td>1.666667</td>\n",
       "      <td>3</td>\n",
       "      <td>NaN</td>\n",
       "      <td>...</td>\n",
       "      <td>-0.596643</td>\n",
       "      <td>2018-04-11 11:45:08</td>\n",
       "      <td>1.0</td>\n",
       "      <td>16</td>\n",
       "      <td>18</td>\n",
       "      <td>2013-11-01</td>\n",
       "      <td>3</td>\n",
       "      <td>3</td>\n",
       "      <td>1</td>\n",
       "      <td>-0.242904</td>\n",
       "    </tr>\n",
       "    <tr>\n",
       "      <th>1</th>\n",
       "      <td>M_ID_c9855bf3e3</td>\n",
       "      <td>321</td>\n",
       "      <td>-0.057471</td>\n",
       "      <td>-0.057471</td>\n",
       "      <td>E</td>\n",
       "      <td>E</td>\n",
       "      <td>NaN</td>\n",
       "      <td>1084.000000</td>\n",
       "      <td>3</td>\n",
       "      <td>NaN</td>\n",
       "      <td>...</td>\n",
       "      <td>0.755593</td>\n",
       "      <td>2017-11-05 23:30:27</td>\n",
       "      <td>NaN</td>\n",
       "      <td>-1</td>\n",
       "      <td>1</td>\n",
       "      <td>2017-03-01</td>\n",
       "      <td>1</td>\n",
       "      <td>1</td>\n",
       "      <td>0</td>\n",
       "      <td>-1.197832</td>\n",
       "    </tr>\n",
       "    <tr>\n",
       "      <th>2</th>\n",
       "      <td>M_ID_c9855bf3e3</td>\n",
       "      <td>321</td>\n",
       "      <td>-0.057471</td>\n",
       "      <td>-0.057471</td>\n",
       "      <td>E</td>\n",
       "      <td>E</td>\n",
       "      <td>NaN</td>\n",
       "      <td>1084.000000</td>\n",
       "      <td>3</td>\n",
       "      <td>NaN</td>\n",
       "      <td>...</td>\n",
       "      <td>-0.593788</td>\n",
       "      <td>2017-11-28 18:56:03</td>\n",
       "      <td>NaN</td>\n",
       "      <td>-1</td>\n",
       "      <td>1</td>\n",
       "      <td>2017-09-01</td>\n",
       "      <td>2</td>\n",
       "      <td>3</td>\n",
       "      <td>0</td>\n",
       "      <td>-0.376280</td>\n",
       "    </tr>\n",
       "    <tr>\n",
       "      <th>3</th>\n",
       "      <td>M_ID_c9855bf3e3</td>\n",
       "      <td>321</td>\n",
       "      <td>-0.057471</td>\n",
       "      <td>-0.057471</td>\n",
       "      <td>E</td>\n",
       "      <td>E</td>\n",
       "      <td>NaN</td>\n",
       "      <td>1084.000000</td>\n",
       "      <td>3</td>\n",
       "      <td>NaN</td>\n",
       "      <td>...</td>\n",
       "      <td>-0.445025</td>\n",
       "      <td>2017-11-05 01:02:17</td>\n",
       "      <td>NaN</td>\n",
       "      <td>-1</td>\n",
       "      <td>1</td>\n",
       "      <td>2015-08-01</td>\n",
       "      <td>3</td>\n",
       "      <td>3</td>\n",
       "      <td>1</td>\n",
       "      <td>-0.259445</td>\n",
       "    </tr>\n",
       "    <tr>\n",
       "      <th>4</th>\n",
       "      <td>M_ID_c9855bf3e3</td>\n",
       "      <td>321</td>\n",
       "      <td>-0.057471</td>\n",
       "      <td>-0.057471</td>\n",
       "      <td>E</td>\n",
       "      <td>E</td>\n",
       "      <td>NaN</td>\n",
       "      <td>1084.000000</td>\n",
       "      <td>3</td>\n",
       "      <td>NaN</td>\n",
       "      <td>...</td>\n",
       "      <td>3.385233</td>\n",
       "      <td>2017-12-22 15:27:47</td>\n",
       "      <td>NaN</td>\n",
       "      <td>-1</td>\n",
       "      <td>1</td>\n",
       "      <td>2017-06-01</td>\n",
       "      <td>5</td>\n",
       "      <td>2</td>\n",
       "      <td>1</td>\n",
       "      <td>-2.570895</td>\n",
       "    </tr>\n",
       "  </tbody>\n",
       "</table>\n",
       "<p>5 rows × 34 columns</p>\n",
       "</div>"
      ],
      "text/plain": [
       "       merchant_id  merchant_group_id  numerical_1  numerical_2  \\\n",
       "0  M_ID_c9eb20f6f5              25449    -0.057471    -0.057471   \n",
       "1  M_ID_c9855bf3e3                321    -0.057471    -0.057471   \n",
       "2  M_ID_c9855bf3e3                321    -0.057471    -0.057471   \n",
       "3  M_ID_c9855bf3e3                321    -0.057471    -0.057471   \n",
       "4  M_ID_c9855bf3e3                321    -0.057471    -0.057471   \n",
       "\n",
       "  most_recent_sales_range most_recent_purchases_range  avg_sales_lag3  \\\n",
       "0                       E                           E             NaN   \n",
       "1                       E                           E             NaN   \n",
       "2                       E                           E             NaN   \n",
       "3                       E                           E             NaN   \n",
       "4                       E                           E             NaN   \n",
       "\n",
       "   avg_purchases_lag3  active_months_lag3  avg_sales_lag6  ...  \\\n",
       "0            1.666667                   3             NaN  ...   \n",
       "1         1084.000000                   3             NaN  ...   \n",
       "2         1084.000000                   3             NaN  ...   \n",
       "3         1084.000000                   3             NaN  ...   \n",
       "4         1084.000000                   3             NaN  ...   \n",
       "\n",
       "   purchase_amount        purchase_date  category_2  state_id  subsector_id  \\\n",
       "0        -0.596643  2018-04-11 11:45:08         1.0        16            18   \n",
       "1         0.755593  2017-11-05 23:30:27         NaN        -1             1   \n",
       "2        -0.593788  2017-11-28 18:56:03         NaN        -1             1   \n",
       "3        -0.445025  2017-11-05 01:02:17         NaN        -1             1   \n",
       "4         3.385233  2017-12-22 15:27:47         NaN        -1             1   \n",
       "\n",
       "  first_active_month feature_1 feature_2  feature_3    target  \n",
       "0         2013-11-01         3         3          1 -0.242904  \n",
       "1         2017-03-01         1         1          0 -1.197832  \n",
       "2         2017-09-01         2         3          0 -0.376280  \n",
       "3         2015-08-01         3         3          1 -0.259445  \n",
       "4         2017-06-01         5         2          1 -2.570895  \n",
       "\n",
       "[5 rows x 34 columns]"
      ]
     },
     "execution_count": 63,
     "metadata": {},
     "output_type": "execute_result"
    }
   ],
   "source": [
    "data[:5]"
   ]
  },
  {
   "cell_type": "markdown",
   "metadata": {
    "_uuid": "e7a30fe3c5d5a74143b7fda421b18a461719b741"
   },
   "source": [
    "If you look at our data column - purchase_date, it had date and time. To better work with this data we need to split the two to two columns. "
   ]
  },
  {
   "cell_type": "code",
   "execution_count": 64,
   "metadata": {
    "_uuid": "c5059897a515b06529416bd97a6f018ce0f29ba5"
   },
   "outputs": [],
   "source": [
    "data['purchase_time'] = data['purchase_date'].str.split(' ')\n",
    "data['purchase_date'] = data['purchase_time'].str[0]\n",
    "data['purchase_time'] = data['purchase_time'].str[1]"
   ]
  },
  {
   "cell_type": "code",
   "execution_count": 65,
   "metadata": {
    "_uuid": "5ac39aeda278db4ebacbcb9726f3e21039d55676"
   },
   "outputs": [],
   "source": [
    "# Let's also do what we have done to the testing dataset\n",
    "test_data = pd.merge(merchants_data, test, on = 'card_id')"
   ]
  },
  {
   "cell_type": "code",
   "execution_count": 66,
   "metadata": {
    "_uuid": "bfd60d4967a69e99497e9698afcf955384032138"
   },
   "outputs": [],
   "source": [
    "test_data['purchase_time'] = test_data['purchase_date'].str.split(' ')\n",
    "test_data['purchase_date'] = test_data['purchase_time'].str[0]\n",
    "test_data['purchase_time'] = test_data['purchase_time'].str[1]"
   ]
  },
  {
   "cell_type": "code",
   "execution_count": 67,
   "metadata": {
    "_uuid": "959ae9075f6fc57c9b77b33ce8183eab29bb2547"
   },
   "outputs": [
    {
     "name": "stdout",
     "output_type": "stream",
     "text": [
      "Train data shape: (1215489, 35) Test data shape: (745364, 34)\n"
     ]
    }
   ],
   "source": [
    "print(f'Train data shape: {data.shape} Test data shape: {test_data.shape}')"
   ]
  },
  {
   "cell_type": "code",
   "execution_count": 68,
   "metadata": {
    "_uuid": "5792f7745d9096dbb10dcb1519d35381e56f73a4"
   },
   "outputs": [
    {
     "data": {
      "text/html": [
       "<div>\n",
       "<style scoped>\n",
       "    .dataframe tbody tr th:only-of-type {\n",
       "        vertical-align: middle;\n",
       "    }\n",
       "\n",
       "    .dataframe tbody tr th {\n",
       "        vertical-align: top;\n",
       "    }\n",
       "\n",
       "    .dataframe thead th {\n",
       "        text-align: right;\n",
       "    }\n",
       "</style>\n",
       "<table border=\"1\" class=\"dataframe\">\n",
       "  <thead>\n",
       "    <tr style=\"text-align: right;\">\n",
       "      <th></th>\n",
       "      <th>merchant_id</th>\n",
       "      <th>merchant_group_id</th>\n",
       "      <th>numerical_1</th>\n",
       "      <th>numerical_2</th>\n",
       "      <th>most_recent_sales_range</th>\n",
       "      <th>most_recent_purchases_range</th>\n",
       "      <th>avg_sales_lag3</th>\n",
       "      <th>avg_purchases_lag3</th>\n",
       "      <th>active_months_lag3</th>\n",
       "      <th>avg_sales_lag6</th>\n",
       "      <th>...</th>\n",
       "      <th>purchase_amount</th>\n",
       "      <th>purchase_date</th>\n",
       "      <th>category_2</th>\n",
       "      <th>state_id</th>\n",
       "      <th>subsector_id</th>\n",
       "      <th>first_active_month</th>\n",
       "      <th>feature_1</th>\n",
       "      <th>feature_2</th>\n",
       "      <th>feature_3</th>\n",
       "      <th>purchase_time</th>\n",
       "    </tr>\n",
       "  </thead>\n",
       "  <tbody>\n",
       "    <tr>\n",
       "      <th>0</th>\n",
       "      <td>M_ID_a70e9c5f81</td>\n",
       "      <td>5026</td>\n",
       "      <td>-0.057471</td>\n",
       "      <td>-0.057471</td>\n",
       "      <td>E</td>\n",
       "      <td>E</td>\n",
       "      <td>NaN</td>\n",
       "      <td>1.666667</td>\n",
       "      <td>3</td>\n",
       "      <td>NaN</td>\n",
       "      <td>...</td>\n",
       "      <td>-0.622007</td>\n",
       "      <td>2018-03-05</td>\n",
       "      <td>NaN</td>\n",
       "      <td>-1</td>\n",
       "      <td>9</td>\n",
       "      <td>2017-10-01</td>\n",
       "      <td>2</td>\n",
       "      <td>3</td>\n",
       "      <td>0</td>\n",
       "      <td>14:51:53</td>\n",
       "    </tr>\n",
       "    <tr>\n",
       "      <th>1</th>\n",
       "      <td>M_ID_d8ff08219e</td>\n",
       "      <td>16430</td>\n",
       "      <td>-0.057471</td>\n",
       "      <td>-0.057471</td>\n",
       "      <td>E</td>\n",
       "      <td>E</td>\n",
       "      <td>NaN</td>\n",
       "      <td>1.000000</td>\n",
       "      <td>3</td>\n",
       "      <td>NaN</td>\n",
       "      <td>...</td>\n",
       "      <td>1.146703</td>\n",
       "      <td>2018-03-08</td>\n",
       "      <td>NaN</td>\n",
       "      <td>-1</td>\n",
       "      <td>20</td>\n",
       "      <td>2016-07-01</td>\n",
       "      <td>5</td>\n",
       "      <td>1</td>\n",
       "      <td>1</td>\n",
       "      <td>22:19:58</td>\n",
       "    </tr>\n",
       "    <tr>\n",
       "      <th>2</th>\n",
       "      <td>M_ID_c9855bf3e3</td>\n",
       "      <td>321</td>\n",
       "      <td>-0.057471</td>\n",
       "      <td>-0.057471</td>\n",
       "      <td>E</td>\n",
       "      <td>E</td>\n",
       "      <td>NaN</td>\n",
       "      <td>1084.000000</td>\n",
       "      <td>3</td>\n",
       "      <td>NaN</td>\n",
       "      <td>...</td>\n",
       "      <td>-0.326180</td>\n",
       "      <td>2018-04-23</td>\n",
       "      <td>NaN</td>\n",
       "      <td>-1</td>\n",
       "      <td>1</td>\n",
       "      <td>2017-08-01</td>\n",
       "      <td>1</td>\n",
       "      <td>1</td>\n",
       "      <td>0</td>\n",
       "      <td>17:19:42</td>\n",
       "    </tr>\n",
       "    <tr>\n",
       "      <th>3</th>\n",
       "      <td>M_ID_c9855bf3e3</td>\n",
       "      <td>321</td>\n",
       "      <td>-0.057471</td>\n",
       "      <td>-0.057471</td>\n",
       "      <td>E</td>\n",
       "      <td>E</td>\n",
       "      <td>NaN</td>\n",
       "      <td>1084.000000</td>\n",
       "      <td>3</td>\n",
       "      <td>NaN</td>\n",
       "      <td>...</td>\n",
       "      <td>-0.652391</td>\n",
       "      <td>2018-03-19</td>\n",
       "      <td>NaN</td>\n",
       "      <td>-1</td>\n",
       "      <td>1</td>\n",
       "      <td>2017-11-01</td>\n",
       "      <td>1</td>\n",
       "      <td>1</td>\n",
       "      <td>0</td>\n",
       "      <td>23:24:49</td>\n",
       "    </tr>\n",
       "    <tr>\n",
       "      <th>4</th>\n",
       "      <td>M_ID_c9855bf3e3</td>\n",
       "      <td>321</td>\n",
       "      <td>-0.057471</td>\n",
       "      <td>-0.057471</td>\n",
       "      <td>E</td>\n",
       "      <td>E</td>\n",
       "      <td>NaN</td>\n",
       "      <td>1084.000000</td>\n",
       "      <td>3</td>\n",
       "      <td>NaN</td>\n",
       "      <td>...</td>\n",
       "      <td>0.940089</td>\n",
       "      <td>2018-01-10</td>\n",
       "      <td>NaN</td>\n",
       "      <td>-1</td>\n",
       "      <td>1</td>\n",
       "      <td>2017-02-01</td>\n",
       "      <td>1</td>\n",
       "      <td>1</td>\n",
       "      <td>0</td>\n",
       "      <td>15:07:04</td>\n",
       "    </tr>\n",
       "  </tbody>\n",
       "</table>\n",
       "<p>5 rows × 34 columns</p>\n",
       "</div>"
      ],
      "text/plain": [
       "       merchant_id  merchant_group_id  numerical_1  numerical_2  \\\n",
       "0  M_ID_a70e9c5f81               5026    -0.057471    -0.057471   \n",
       "1  M_ID_d8ff08219e              16430    -0.057471    -0.057471   \n",
       "2  M_ID_c9855bf3e3                321    -0.057471    -0.057471   \n",
       "3  M_ID_c9855bf3e3                321    -0.057471    -0.057471   \n",
       "4  M_ID_c9855bf3e3                321    -0.057471    -0.057471   \n",
       "\n",
       "  most_recent_sales_range most_recent_purchases_range  avg_sales_lag3  \\\n",
       "0                       E                           E             NaN   \n",
       "1                       E                           E             NaN   \n",
       "2                       E                           E             NaN   \n",
       "3                       E                           E             NaN   \n",
       "4                       E                           E             NaN   \n",
       "\n",
       "   avg_purchases_lag3  active_months_lag3  avg_sales_lag6  ...  \\\n",
       "0            1.666667                   3             NaN  ...   \n",
       "1            1.000000                   3             NaN  ...   \n",
       "2         1084.000000                   3             NaN  ...   \n",
       "3         1084.000000                   3             NaN  ...   \n",
       "4         1084.000000                   3             NaN  ...   \n",
       "\n",
       "   purchase_amount  purchase_date  category_2  state_id  subsector_id  \\\n",
       "0        -0.622007     2018-03-05         NaN        -1             9   \n",
       "1         1.146703     2018-03-08         NaN        -1            20   \n",
       "2        -0.326180     2018-04-23         NaN        -1             1   \n",
       "3        -0.652391     2018-03-19         NaN        -1             1   \n",
       "4         0.940089     2018-01-10         NaN        -1             1   \n",
       "\n",
       "  first_active_month feature_1 feature_2  feature_3 purchase_time  \n",
       "0         2017-10-01         2         3          0      14:51:53  \n",
       "1         2016-07-01         5         1          1      22:19:58  \n",
       "2         2017-08-01         1         1          0      17:19:42  \n",
       "3         2017-11-01         1         1          0      23:24:49  \n",
       "4         2017-02-01         1         1          0      15:07:04  \n",
       "\n",
       "[5 rows x 34 columns]"
      ]
     },
     "execution_count": 68,
     "metadata": {},
     "output_type": "execute_result"
    }
   ],
   "source": [
    "test_data[:5]"
   ]
  },
  {
   "cell_type": "code",
   "execution_count": 69,
   "metadata": {
    "_uuid": "7ac5b9bfe0f1b0ecf409194f44388d06b9107441"
   },
   "outputs": [],
   "source": [
    "#We were not suppose to have converted these to date at first But now we fix that so that we can easily manipulate them\n",
    "data['first_active_month'] = data['first_active_month'].astype(str)\n",
    "test_data['first_active_month'] = test_data['first_active_month'].astype(str)"
   ]
  },
  {
   "cell_type": "code",
   "execution_count": 70,
   "metadata": {
    "_uuid": "38190b8f4d24451c74840c35f1b20a3c0fd5c435"
   },
   "outputs": [
    {
     "name": "stdout",
     "output_type": "stream",
     "text": [
      "<class 'pandas.core.frame.DataFrame'>\n",
      "RangeIndex: 1215489 entries, 0 to 1215488\n",
      "Data columns (total 35 columns):\n",
      " #   Column                       Non-Null Count    Dtype  \n",
      "---  ------                       --------------    -----  \n",
      " 0   merchant_id                  1215489 non-null  object \n",
      " 1   merchant_group_id            1215489 non-null  int64  \n",
      " 2   numerical_1                  1215489 non-null  float64\n",
      " 3   numerical_2                  1215489 non-null  float64\n",
      " 4   most_recent_sales_range      1215489 non-null  object \n",
      " 5   most_recent_purchases_range  1215489 non-null  object \n",
      " 6   avg_sales_lag3               1215295 non-null  float64\n",
      " 7   avg_purchases_lag3           1215489 non-null  float64\n",
      " 8   active_months_lag3           1215489 non-null  int64  \n",
      " 9   avg_sales_lag6               1215295 non-null  float64\n",
      " 10  avg_purchases_lag6           1215489 non-null  float64\n",
      " 11  active_months_lag6           1215489 non-null  int64  \n",
      " 12  avg_sales_lag12              1215295 non-null  float64\n",
      " 13  avg_purchases_lag12          1215489 non-null  float64\n",
      " 14  active_months_lag12          1215489 non-null  int64  \n",
      " 15  category_4                   1215489 non-null  object \n",
      " 16  authorized_flag              1215489 non-null  object \n",
      " 17  card_id                      1215489 non-null  object \n",
      " 18  city_id                      1215489 non-null  int64  \n",
      " 19  category_1                   1215489 non-null  object \n",
      " 20  installments                 1215489 non-null  int64  \n",
      " 21  category_3                   1182346 non-null  object \n",
      " 22  merchant_category_id         1215489 non-null  int64  \n",
      " 23  month_lag                    1215489 non-null  int64  \n",
      " 24  purchase_amount              1215489 non-null  float64\n",
      " 25  purchase_date                1215489 non-null  object \n",
      " 26  category_2                   1146299 non-null  float64\n",
      " 27  state_id                     1215489 non-null  int64  \n",
      " 28  subsector_id                 1215489 non-null  int64  \n",
      " 29  first_active_month           1215489 non-null  object \n",
      " 30  feature_1                    1215489 non-null  int64  \n",
      " 31  feature_2                    1215489 non-null  int64  \n",
      " 32  feature_3                    1215489 non-null  int64  \n",
      " 33  target                       1215489 non-null  float64\n",
      " 34  purchase_time                1215489 non-null  object \n",
      "dtypes: float64(11), int64(13), object(11)\n",
      "memory usage: 324.6+ MB\n"
     ]
    }
   ],
   "source": [
    "data.info()"
   ]
  },
  {
   "cell_type": "code",
   "execution_count": 71,
   "metadata": {
    "_uuid": "cdef3bf5b2694184b55ade7899e5790756493257"
   },
   "outputs": [],
   "source": [
    "# The main business with the purchase_date and purchase_time. Lets see if we can't generate more columns out of them\n",
    "def get_weekday(date_string):\n",
    "    date = datetime.datetime.strptime(date_string, '%Y-%m-%d')\n",
    "    return calendar.day_name[date.weekday()]\n",
    "\n",
    "# get weekday for date variable\n",
    "data['purchase_weekday'] = data['purchase_date'].apply(lambda x: get_weekday(x))\n",
    "\n",
    "# for plotting recode to ordered categorical\n",
    "day_labels = ['Monday', 'Tuesday', 'Wednesday', 'Thursday', 'Friday', 'Saturday', 'Sunday']\n",
    "data['purchase_weekday'] = pd.Categorical(data['purchase_weekday'], categories = day_labels, \n",
    "                                          ordered = True)\n",
    "\n",
    "def get_month(date_string, kind = 'month'):\n",
    "    if kind == 'month':\n",
    "        date = datetime.datetime.strptime(date_string, '%Y-%m-%d')\n",
    "    elif kind == 'day':\n",
    "        date = datetime.datetime.strptime(date_string, '%Y-%m-%d')\n",
    "    return date.strftime(\"%B\")\n",
    "\n",
    "# Creating new columns and their values\n",
    "\n",
    "data['purchase_month'] = data['purchase_date'].apply(lambda x: get_month(x, kind = 'day'))\n",
    "data['first_active_month2'] = data['first_active_month'].apply(lambda x: get_month(x))\n",
    "data['first_active_year'] = data['first_active_month'].str[:4]\n",
    "\n",
    "month_labels = ['January', 'February', 'March', 'April', 'May', 'June', 'July', 'August',\n",
    "                'September', 'October', 'November', 'December']\n",
    "data['purchase_month'] = pd.Categorical(data['purchase_month'], categories = month_labels, \n",
    "                                          ordered = True)\n",
    "data['first_active_month2'] = pd.Categorical(data['first_active_month2'], categories = month_labels, \n",
    "                                          ordered = True)\n",
    "\n",
    "year_labels = ['2011', '2012', '2013', '2014', '2015', '2016', '2017', '2018']\n",
    "data['first_active_year'] = pd.Categorical(data['first_active_year'], categories = year_labels, \n",
    "                                          ordered = True)\n",
    "\n",
    "# get time of the day\n",
    "data['temp'] = data['purchase_time'].str.split(':')\n",
    "\n",
    "def get_session(time_list):\n",
    "    time_list[0] = int(time_list[0])\n",
    "    if time_list[0] > 4 and time_list[0] < 12:\n",
    "        return 'Morning'\n",
    "    elif time_list[0] >= 12 and time_list[0] < 17:\n",
    "        return 'Afternoon'\n",
    "    elif time_list[0] >= 17 and time_list[0] < 21:\n",
    "        return 'Evening'\n",
    "    else:\n",
    "        return 'Night'\n",
    "    \n",
    "data['purchase_session'] = data['temp'].apply(lambda x: get_session(x))\n",
    "\n",
    "session_labels = ['Morning', 'Afternoon', 'Evening', 'Night']\n",
    "data['purchase_session'] = pd.Categorical(data['purchase_session'], categories = session_labels, \n",
    "                                          ordered = True)"
   ]
  },
  {
   "cell_type": "code",
   "execution_count": 72,
   "metadata": {
    "_uuid": "ec71bb10cf84f60ec4cfa92c3afaffe01cc4d9e2"
   },
   "outputs": [],
   "source": [
    "## time of month\n",
    "# as categorical variable, thressholds are arbitrary and could be different\n",
    "def get_time_of_month_cat(date):\n",
    "    date_temp = date.split('-')\n",
    "    if int(date_temp[2]) < 10:\n",
    "        time_of_month = 'Beginning'\n",
    "    elif int(date_temp[2]) >= 10 and int(date_temp[2]) < 20:\n",
    "        time_of_month = 'Middle'\n",
    "    else:\n",
    "        time_of_month = 'End'\n",
    "    return time_of_month\n",
    "\n",
    "data['time_of_month_cat'] = data['purchase_date'].apply(lambda x: get_time_of_month_cat(x))\n",
    "\n",
    "tof_labels = ['Beginning', 'Middle', 'End']\n",
    "data['time_of_month_cat'] = pd.Categorical(data['time_of_month_cat'], categories = tof_labels, \n",
    "                                           ordered = True)\n",
    "\n",
    "data['time_of_month_num'] = data['purchase_date'].str[8:].astype(int)"
   ]
  },
  {
   "cell_type": "code",
   "execution_count": 73,
   "metadata": {
    "_uuid": "b9d403136c62cd77db9cfdb58355ac5d5b4b23f4"
   },
   "outputs": [],
   "source": [
    "# ALEX: remove plotting\n",
    "# ax = sns.lineplot(x = \"purchase_month\", y = \"target\", \n",
    "#                   markers = True, dashes = False, data = data)\n",
    "# plt.xticks(rotation = 45)\n",
    "# ax.set_title('Target Variable Changes over Purchase Month')\n",
    "# ax.set_xlabel('Purchase Month')"
   ]
  },
  {
   "cell_type": "code",
   "execution_count": 74,
   "metadata": {
    "_uuid": "ec33086ae1564d46ab3105e98018b17fcd2acd57"
   },
   "outputs": [],
   "source": [
    "# ALEX: remove plotting\n",
    "# ax = sns.lineplot(x = \"first_active_month2\", y = \"target\", \n",
    "#                   markers = True, dashes = False, data = data)\n",
    "# plt.xticks(rotation = 45)\n",
    "# ax.set_title('Target Variable Changes over the First Active Month')\n",
    "# ax.set_xlabel('First Active Month')"
   ]
  },
  {
   "cell_type": "code",
   "execution_count": 75,
   "metadata": {
    "_uuid": "b269e9e2b397090144bd106b3e594bc01f08924b"
   },
   "outputs": [
    {
     "name": "stdout",
     "output_type": "stream",
     "text": [
      "Train data shape: (1215489, 43) , Test data shape: (745364, 34)\n"
     ]
    }
   ],
   "source": [
    "print(f'Train data shape: {data.shape} , Test data shape: {test_data.shape}')"
   ]
  },
  {
   "cell_type": "markdown",
   "metadata": {
    "_uuid": "3b0d21f3e52138692145b5ada3b7dae021dc7533"
   },
   "source": [
    "## Now let's repeat what we have done on Training data to the Testing dataset"
   ]
  },
  {
   "cell_type": "code",
   "execution_count": 76,
   "metadata": {
    "_uuid": "b1e5581ca0c86bc468a17c94e6d39ba449ceadad"
   },
   "outputs": [],
   "source": [
    "# The main business with the purchase_date and purchase_time. Lets see if we can't generate more columns out of them\n",
    "def get_weekday(date_string):\n",
    "    date = datetime.datetime.strptime(date_string, '%Y-%m-%d')\n",
    "    return calendar.day_name[date.weekday()]\n",
    "\n",
    "# get weekday for date variable\n",
    "test_data['purchase_weekday'] = test_data['purchase_date'].apply(lambda x: get_weekday(x))\n",
    "\n",
    "# for plotting recode to ordered categorical\n",
    "day_labels = ['Monday', 'Tuesday', 'Wednesday', 'Thursday', 'Friday', 'Saturday', 'Sunday']\n",
    "test_data['purchase_weekday'] = pd.Categorical(test_data['purchase_weekday'], categories = day_labels, ordered = True)\n",
    "\n",
    "def get_month(date_string, kind = 'month'):\n",
    "    if kind == 'month':\n",
    "        date = datetime.datetime.strptime(date_string, '%Y-%m-%d')\n",
    "    elif kind == 'day':\n",
    "        date = datetime.datetime.strptime(date_string, '%Y-%m-%d')\n",
    "    return date.strftime(\"%B\")\n",
    "\n",
    "test_data['purchase_month'] = test_data['purchase_date'].apply(lambda x: get_month(x, kind = 'day'))\n",
    "test_data['first_active_month2'] = test_data['first_active_month'].apply(lambda x: get_month(x))\n",
    "test_data['first_active_year'] = test_data['first_active_month'].str[:4]\n",
    "\n",
    "month_labels = ['January', 'February', 'March', 'April', 'May', 'June', 'July', 'August',\n",
    "                'September', 'October', 'November', 'December']\n",
    "test_data['purchase_month'] = pd.Categorical(test_data['purchase_month'], categories = month_labels, ordered = True)\n",
    "test_data['first_active_month2'] = pd.Categorical(test_data['first_active_month2'], categories = month_labels, ordered = True)\n",
    "\n",
    "year_labels = ['2011', '2012', '2013', '2014', '2015', '2016', '2017', '2018']\n",
    "test_data['first_active_year'] = pd.Categorical(test_data['first_active_year'], categories = year_labels, ordered = True)\n",
    "\n",
    "# get time of the day\n",
    "test_data['temp'] = test_data['purchase_time'].str.split(':')\n",
    "\n",
    "def get_session(time_list):\n",
    "    time_list[0] = int(time_list[0])\n",
    "    if time_list[0] > 4 and time_list[0] < 12:\n",
    "        return 'Morning'\n",
    "    elif time_list[0] >= 12 and time_list[0] < 17:\n",
    "        return 'Afternoon'\n",
    "    elif time_list[0] >= 17 and time_list[0] < 21:\n",
    "        return 'Evening'\n",
    "    else:\n",
    "        return 'Night'\n",
    "    \n",
    "test_data['purchase_session'] = test_data['temp'].apply(lambda x: get_session(x))\n",
    "\n",
    "session_labels = ['Morning', 'Afternoon', 'Evening', 'Night']\n",
    "test_data['purchase_session'] = pd.Categorical(test_data['purchase_session'], categories = session_labels, ordered = True)"
   ]
  },
  {
   "cell_type": "code",
   "execution_count": 77,
   "metadata": {
    "_uuid": "5fcf75410e2a3b1273f93667ccdfac49a83169a7"
   },
   "outputs": [],
   "source": [
    "## time of month\n",
    "# as categorical variable, thressholds are arbitrary and could be different\n",
    "def get_time_of_month_cat(date):\n",
    "    date_temp = date.split('-')\n",
    "    if int(date_temp[2]) < 10:\n",
    "        time_of_month = 'Beginning'\n",
    "    elif int(date_temp[2]) >= 10 and int(date_temp[2]) < 20:\n",
    "        time_of_month = 'Middle'\n",
    "    else:\n",
    "        time_of_month = 'End'\n",
    "    return time_of_month\n",
    "\n",
    "test_data['time_of_month_cat'] = test_data['purchase_date'].apply(lambda x: get_time_of_month_cat(x))\n",
    "\n",
    "tof_labels = ['Beginning', 'Middle', 'End']\n",
    "test_data['time_of_month_cat'] = pd.Categorical(test_data['time_of_month_cat'], categories = tof_labels, ordered = True)\n",
    "\n",
    "test_data['time_of_month_num'] = test_data['purchase_date'].str[8:].astype(int)"
   ]
  },
  {
   "cell_type": "code",
   "execution_count": 78,
   "metadata": {
    "_uuid": "698dcefd30c908219b9528ab3974135c9530e631"
   },
   "outputs": [
    {
     "name": "stdout",
     "output_type": "stream",
     "text": [
      "Train data shape: (1215489, 43) , Test data shape: (745364, 42)\n"
     ]
    }
   ],
   "source": [
    "# Now the shape should be the same in terms of columns except that Train data will have one extra column because of the target value\n",
    "print(f'Train data shape: {data.shape} , Test data shape: {test_data.shape}')"
   ]
  },
  {
   "cell_type": "code",
   "execution_count": 79,
   "metadata": {
    "_uuid": "69f4888b0f83d5abfbb830a44750921803730b62"
   },
   "outputs": [],
   "source": [
    "def get_end_of_month(date):\n",
    "    date_temp = date.split('-')\n",
    "    if int(date_temp[2]) >= 25:\n",
    "        end_of_month = 'Y'\n",
    "    else:\n",
    "        end_of_month = 'N'\n",
    "    return end_of_month\n",
    "data['end_of_month'] = data['purchase_date'].apply(lambda x: get_end_of_month(x))\n",
    "test_data['end_of_month'] = test_data['purchase_date'].apply(lambda x: get_end_of_month(x))"
   ]
  },
  {
   "cell_type": "code",
   "execution_count": 80,
   "metadata": {
    "_uuid": "f2b0c75a20cd98803828ee5635e220770019aff0"
   },
   "outputs": [
    {
     "name": "stdout",
     "output_type": "stream",
     "text": [
      "Train data shape: (1215489, 44) , Test data shape: (745364, 43)\n"
     ]
    }
   ],
   "source": [
    "print(f'Train data shape: {data.shape} , Test data shape: {test_data.shape}')"
   ]
  },
  {
   "cell_type": "code",
   "execution_count": 81,
   "metadata": {
    "_uuid": "fd0a1b45f758153988b5dae0e0c2a778d9a5c755"
   },
   "outputs": [
    {
     "data": {
      "text/html": [
       "<div>\n",
       "<style scoped>\n",
       "    .dataframe tbody tr th:only-of-type {\n",
       "        vertical-align: middle;\n",
       "    }\n",
       "\n",
       "    .dataframe tbody tr th {\n",
       "        vertical-align: top;\n",
       "    }\n",
       "\n",
       "    .dataframe thead th {\n",
       "        text-align: right;\n",
       "    }\n",
       "</style>\n",
       "<table border=\"1\" class=\"dataframe\">\n",
       "  <thead>\n",
       "    <tr style=\"text-align: right;\">\n",
       "      <th></th>\n",
       "      <th>merchant_id</th>\n",
       "      <th>merchant_group_id</th>\n",
       "      <th>numerical_1</th>\n",
       "      <th>numerical_2</th>\n",
       "      <th>most_recent_sales_range</th>\n",
       "      <th>most_recent_purchases_range</th>\n",
       "      <th>avg_sales_lag3</th>\n",
       "      <th>avg_purchases_lag3</th>\n",
       "      <th>active_months_lag3</th>\n",
       "      <th>avg_sales_lag6</th>\n",
       "      <th>...</th>\n",
       "      <th>purchase_time</th>\n",
       "      <th>purchase_weekday</th>\n",
       "      <th>purchase_month</th>\n",
       "      <th>first_active_month2</th>\n",
       "      <th>first_active_year</th>\n",
       "      <th>temp</th>\n",
       "      <th>purchase_session</th>\n",
       "      <th>time_of_month_cat</th>\n",
       "      <th>time_of_month_num</th>\n",
       "      <th>end_of_month</th>\n",
       "    </tr>\n",
       "  </thead>\n",
       "  <tbody>\n",
       "    <tr>\n",
       "      <th>0</th>\n",
       "      <td>M_ID_c9eb20f6f5</td>\n",
       "      <td>25449</td>\n",
       "      <td>-0.057471</td>\n",
       "      <td>-0.057471</td>\n",
       "      <td>E</td>\n",
       "      <td>E</td>\n",
       "      <td>NaN</td>\n",
       "      <td>1.666667</td>\n",
       "      <td>3</td>\n",
       "      <td>NaN</td>\n",
       "      <td>...</td>\n",
       "      <td>11:45:08</td>\n",
       "      <td>Wednesday</td>\n",
       "      <td>April</td>\n",
       "      <td>November</td>\n",
       "      <td>2013</td>\n",
       "      <td>[11, 45, 08]</td>\n",
       "      <td>Morning</td>\n",
       "      <td>Middle</td>\n",
       "      <td>11</td>\n",
       "      <td>N</td>\n",
       "    </tr>\n",
       "    <tr>\n",
       "      <th>1</th>\n",
       "      <td>M_ID_c9855bf3e3</td>\n",
       "      <td>321</td>\n",
       "      <td>-0.057471</td>\n",
       "      <td>-0.057471</td>\n",
       "      <td>E</td>\n",
       "      <td>E</td>\n",
       "      <td>NaN</td>\n",
       "      <td>1084.000000</td>\n",
       "      <td>3</td>\n",
       "      <td>NaN</td>\n",
       "      <td>...</td>\n",
       "      <td>23:30:27</td>\n",
       "      <td>Sunday</td>\n",
       "      <td>November</td>\n",
       "      <td>March</td>\n",
       "      <td>2017</td>\n",
       "      <td>[23, 30, 27]</td>\n",
       "      <td>Night</td>\n",
       "      <td>Beginning</td>\n",
       "      <td>5</td>\n",
       "      <td>N</td>\n",
       "    </tr>\n",
       "    <tr>\n",
       "      <th>2</th>\n",
       "      <td>M_ID_c9855bf3e3</td>\n",
       "      <td>321</td>\n",
       "      <td>-0.057471</td>\n",
       "      <td>-0.057471</td>\n",
       "      <td>E</td>\n",
       "      <td>E</td>\n",
       "      <td>NaN</td>\n",
       "      <td>1084.000000</td>\n",
       "      <td>3</td>\n",
       "      <td>NaN</td>\n",
       "      <td>...</td>\n",
       "      <td>18:56:03</td>\n",
       "      <td>Tuesday</td>\n",
       "      <td>November</td>\n",
       "      <td>September</td>\n",
       "      <td>2017</td>\n",
       "      <td>[18, 56, 03]</td>\n",
       "      <td>Evening</td>\n",
       "      <td>End</td>\n",
       "      <td>28</td>\n",
       "      <td>Y</td>\n",
       "    </tr>\n",
       "    <tr>\n",
       "      <th>3</th>\n",
       "      <td>M_ID_c9855bf3e3</td>\n",
       "      <td>321</td>\n",
       "      <td>-0.057471</td>\n",
       "      <td>-0.057471</td>\n",
       "      <td>E</td>\n",
       "      <td>E</td>\n",
       "      <td>NaN</td>\n",
       "      <td>1084.000000</td>\n",
       "      <td>3</td>\n",
       "      <td>NaN</td>\n",
       "      <td>...</td>\n",
       "      <td>01:02:17</td>\n",
       "      <td>Sunday</td>\n",
       "      <td>November</td>\n",
       "      <td>August</td>\n",
       "      <td>2015</td>\n",
       "      <td>[1, 02, 17]</td>\n",
       "      <td>Night</td>\n",
       "      <td>Beginning</td>\n",
       "      <td>5</td>\n",
       "      <td>N</td>\n",
       "    </tr>\n",
       "    <tr>\n",
       "      <th>4</th>\n",
       "      <td>M_ID_c9855bf3e3</td>\n",
       "      <td>321</td>\n",
       "      <td>-0.057471</td>\n",
       "      <td>-0.057471</td>\n",
       "      <td>E</td>\n",
       "      <td>E</td>\n",
       "      <td>NaN</td>\n",
       "      <td>1084.000000</td>\n",
       "      <td>3</td>\n",
       "      <td>NaN</td>\n",
       "      <td>...</td>\n",
       "      <td>15:27:47</td>\n",
       "      <td>Friday</td>\n",
       "      <td>December</td>\n",
       "      <td>June</td>\n",
       "      <td>2017</td>\n",
       "      <td>[15, 27, 47]</td>\n",
       "      <td>Afternoon</td>\n",
       "      <td>End</td>\n",
       "      <td>22</td>\n",
       "      <td>N</td>\n",
       "    </tr>\n",
       "  </tbody>\n",
       "</table>\n",
       "<p>5 rows × 44 columns</p>\n",
       "</div>"
      ],
      "text/plain": [
       "       merchant_id  merchant_group_id  numerical_1  numerical_2  \\\n",
       "0  M_ID_c9eb20f6f5              25449    -0.057471    -0.057471   \n",
       "1  M_ID_c9855bf3e3                321    -0.057471    -0.057471   \n",
       "2  M_ID_c9855bf3e3                321    -0.057471    -0.057471   \n",
       "3  M_ID_c9855bf3e3                321    -0.057471    -0.057471   \n",
       "4  M_ID_c9855bf3e3                321    -0.057471    -0.057471   \n",
       "\n",
       "  most_recent_sales_range most_recent_purchases_range  avg_sales_lag3  \\\n",
       "0                       E                           E             NaN   \n",
       "1                       E                           E             NaN   \n",
       "2                       E                           E             NaN   \n",
       "3                       E                           E             NaN   \n",
       "4                       E                           E             NaN   \n",
       "\n",
       "   avg_purchases_lag3  active_months_lag3  avg_sales_lag6  ...  purchase_time  \\\n",
       "0            1.666667                   3             NaN  ...       11:45:08   \n",
       "1         1084.000000                   3             NaN  ...       23:30:27   \n",
       "2         1084.000000                   3             NaN  ...       18:56:03   \n",
       "3         1084.000000                   3             NaN  ...       01:02:17   \n",
       "4         1084.000000                   3             NaN  ...       15:27:47   \n",
       "\n",
       "   purchase_weekday  purchase_month  first_active_month2  first_active_year  \\\n",
       "0         Wednesday           April             November               2013   \n",
       "1            Sunday        November                March               2017   \n",
       "2           Tuesday        November            September               2017   \n",
       "3            Sunday        November               August               2015   \n",
       "4            Friday        December                 June               2017   \n",
       "\n",
       "           temp purchase_session time_of_month_cat  time_of_month_num  \\\n",
       "0  [11, 45, 08]          Morning            Middle                 11   \n",
       "1  [23, 30, 27]            Night         Beginning                  5   \n",
       "2  [18, 56, 03]          Evening               End                 28   \n",
       "3   [1, 02, 17]            Night         Beginning                  5   \n",
       "4  [15, 27, 47]        Afternoon               End                 22   \n",
       "\n",
       "  end_of_month  \n",
       "0            N  \n",
       "1            N  \n",
       "2            Y  \n",
       "3            N  \n",
       "4            N  \n",
       "\n",
       "[5 rows x 44 columns]"
      ]
     },
     "execution_count": 81,
     "metadata": {},
     "output_type": "execute_result"
    }
   ],
   "source": [
    "data[:5]"
   ]
  },
  {
   "cell_type": "code",
   "execution_count": null,
   "metadata": {
    "_uuid": "1eee79548f5442fa5519f4c39c7deaaeb2aad5da"
   },
   "outputs": [],
   "source": []
  },
  {
   "cell_type": "markdown",
   "metadata": {
    "_uuid": "78afea22dbd40454c513164dbf08ef1d07a17ae4"
   },
   "source": [
    "# 4. Data Cleaning"
   ]
  },
  {
   "cell_type": "code",
   "execution_count": 82,
   "metadata": {
    "_uuid": "3487e6b68c18cffc683dbbf569a082f91048c860"
   },
   "outputs": [],
   "source": [
    "# ALEX: make notebook run\n",
    "# correlation_data = data.corr()\n",
    "correlation_data = data.corr(numeric_only=True)"
   ]
  },
  {
   "cell_type": "code",
   "execution_count": 83,
   "metadata": {
    "_uuid": "ab3eee3091a515262aff52fb51369a8be6850fc1",
    "scrolled": true
   },
   "outputs": [
    {
     "data": {
      "text/html": [
       "<div>\n",
       "<style scoped>\n",
       "    .dataframe tbody tr th:only-of-type {\n",
       "        vertical-align: middle;\n",
       "    }\n",
       "\n",
       "    .dataframe tbody tr th {\n",
       "        vertical-align: top;\n",
       "    }\n",
       "\n",
       "    .dataframe thead th {\n",
       "        text-align: right;\n",
       "    }\n",
       "</style>\n",
       "<table border=\"1\" class=\"dataframe\">\n",
       "  <thead>\n",
       "    <tr style=\"text-align: right;\">\n",
       "      <th></th>\n",
       "      <th>merchant_group_id</th>\n",
       "      <th>numerical_1</th>\n",
       "      <th>numerical_2</th>\n",
       "      <th>avg_sales_lag3</th>\n",
       "      <th>avg_purchases_lag3</th>\n",
       "      <th>active_months_lag3</th>\n",
       "      <th>avg_sales_lag6</th>\n",
       "      <th>avg_purchases_lag6</th>\n",
       "      <th>active_months_lag6</th>\n",
       "      <th>avg_sales_lag12</th>\n",
       "      <th>...</th>\n",
       "      <th>month_lag</th>\n",
       "      <th>purchase_amount</th>\n",
       "      <th>category_2</th>\n",
       "      <th>state_id</th>\n",
       "      <th>subsector_id</th>\n",
       "      <th>feature_1</th>\n",
       "      <th>feature_2</th>\n",
       "      <th>feature_3</th>\n",
       "      <th>target</th>\n",
       "      <th>time_of_month_num</th>\n",
       "    </tr>\n",
       "  </thead>\n",
       "  <tbody>\n",
       "    <tr>\n",
       "      <th>merchant_group_id</th>\n",
       "      <td>1.000000</td>\n",
       "      <td>-0.156547</td>\n",
       "      <td>-0.155307</td>\n",
       "      <td>-0.005135</td>\n",
       "      <td>-0.005697</td>\n",
       "      <td>0.001023</td>\n",
       "      <td>-0.004724</td>\n",
       "      <td>-0.012769</td>\n",
       "      <td>-0.037370</td>\n",
       "      <td>-0.004048</td>\n",
       "      <td>...</td>\n",
       "      <td>0.009785</td>\n",
       "      <td>-0.009891</td>\n",
       "      <td>0.042531</td>\n",
       "      <td>0.000390</td>\n",
       "      <td>0.058488</td>\n",
       "      <td>0.010781</td>\n",
       "      <td>-0.001144</td>\n",
       "      <td>0.004122</td>\n",
       "      <td>0.002870</td>\n",
       "      <td>0.002069</td>\n",
       "    </tr>\n",
       "    <tr>\n",
       "      <th>numerical_1</th>\n",
       "      <td>-0.156547</td>\n",
       "      <td>1.000000</td>\n",
       "      <td>0.999430</td>\n",
       "      <td>-0.001557</td>\n",
       "      <td>-0.001730</td>\n",
       "      <td>0.002518</td>\n",
       "      <td>-0.001594</td>\n",
       "      <td>-0.003839</td>\n",
       "      <td>0.013528</td>\n",
       "      <td>-0.001493</td>\n",
       "      <td>...</td>\n",
       "      <td>-0.001076</td>\n",
       "      <td>-0.025117</td>\n",
       "      <td>-0.104358</td>\n",
       "      <td>-0.018447</td>\n",
       "      <td>0.112249</td>\n",
       "      <td>-0.004285</td>\n",
       "      <td>-0.018507</td>\n",
       "      <td>0.005145</td>\n",
       "      <td>0.003202</td>\n",
       "      <td>-0.000207</td>\n",
       "    </tr>\n",
       "    <tr>\n",
       "      <th>numerical_2</th>\n",
       "      <td>-0.155307</td>\n",
       "      <td>0.999430</td>\n",
       "      <td>1.000000</td>\n",
       "      <td>-0.001539</td>\n",
       "      <td>-0.001711</td>\n",
       "      <td>0.002490</td>\n",
       "      <td>-0.001576</td>\n",
       "      <td>-0.003795</td>\n",
       "      <td>0.013379</td>\n",
       "      <td>-0.001476</td>\n",
       "      <td>...</td>\n",
       "      <td>-0.001014</td>\n",
       "      <td>-0.024973</td>\n",
       "      <td>-0.103228</td>\n",
       "      <td>-0.018445</td>\n",
       "      <td>0.114747</td>\n",
       "      <td>-0.003999</td>\n",
       "      <td>-0.018186</td>\n",
       "      <td>0.005386</td>\n",
       "      <td>0.003222</td>\n",
       "      <td>-0.000198</td>\n",
       "    </tr>\n",
       "    <tr>\n",
       "      <th>avg_sales_lag3</th>\n",
       "      <td>-0.005135</td>\n",
       "      <td>-0.001557</td>\n",
       "      <td>-0.001539</td>\n",
       "      <td>1.000000</td>\n",
       "      <td>0.990371</td>\n",
       "      <td>0.000081</td>\n",
       "      <td>0.955149</td>\n",
       "      <td>0.984672</td>\n",
       "      <td>0.000396</td>\n",
       "      <td>0.855365</td>\n",
       "      <td>...</td>\n",
       "      <td>0.000200</td>\n",
       "      <td>0.000694</td>\n",
       "      <td>-0.005772</td>\n",
       "      <td>-0.002057</td>\n",
       "      <td>0.003539</td>\n",
       "      <td>-0.000164</td>\n",
       "      <td>0.002008</td>\n",
       "      <td>0.000683</td>\n",
       "      <td>-0.000141</td>\n",
       "      <td>0.000408</td>\n",
       "    </tr>\n",
       "    <tr>\n",
       "      <th>avg_purchases_lag3</th>\n",
       "      <td>-0.005697</td>\n",
       "      <td>-0.001730</td>\n",
       "      <td>-0.001711</td>\n",
       "      <td>0.990371</td>\n",
       "      <td>1.000000</td>\n",
       "      <td>0.000075</td>\n",
       "      <td>0.924859</td>\n",
       "      <td>0.991625</td>\n",
       "      <td>0.000331</td>\n",
       "      <td>0.816898</td>\n",
       "      <td>...</td>\n",
       "      <td>-0.000126</td>\n",
       "      <td>0.000752</td>\n",
       "      <td>-0.006063</td>\n",
       "      <td>-0.003159</td>\n",
       "      <td>0.002420</td>\n",
       "      <td>0.000058</td>\n",
       "      <td>0.001795</td>\n",
       "      <td>0.000765</td>\n",
       "      <td>-0.000243</td>\n",
       "      <td>0.000061</td>\n",
       "    </tr>\n",
       "    <tr>\n",
       "      <th>active_months_lag3</th>\n",
       "      <td>0.001023</td>\n",
       "      <td>0.002518</td>\n",
       "      <td>0.002490</td>\n",
       "      <td>0.000081</td>\n",
       "      <td>0.000075</td>\n",
       "      <td>1.000000</td>\n",
       "      <td>0.000083</td>\n",
       "      <td>0.000191</td>\n",
       "      <td>0.380161</td>\n",
       "      <td>0.000077</td>\n",
       "      <td>...</td>\n",
       "      <td>0.000779</td>\n",
       "      <td>-0.025401</td>\n",
       "      <td>-0.000469</td>\n",
       "      <td>0.000414</td>\n",
       "      <td>0.004913</td>\n",
       "      <td>0.003225</td>\n",
       "      <td>0.003531</td>\n",
       "      <td>0.003989</td>\n",
       "      <td>0.000736</td>\n",
       "      <td>0.002393</td>\n",
       "    </tr>\n",
       "    <tr>\n",
       "      <th>avg_sales_lag6</th>\n",
       "      <td>-0.004724</td>\n",
       "      <td>-0.001594</td>\n",
       "      <td>-0.001576</td>\n",
       "      <td>0.955149</td>\n",
       "      <td>0.924859</td>\n",
       "      <td>0.000083</td>\n",
       "      <td>1.000000</td>\n",
       "      <td>0.919799</td>\n",
       "      <td>0.000413</td>\n",
       "      <td>0.969351</td>\n",
       "      <td>...</td>\n",
       "      <td>0.000562</td>\n",
       "      <td>0.001380</td>\n",
       "      <td>-0.005893</td>\n",
       "      <td>-0.002013</td>\n",
       "      <td>0.002588</td>\n",
       "      <td>-0.000123</td>\n",
       "      <td>0.002102</td>\n",
       "      <td>0.000557</td>\n",
       "      <td>-0.000275</td>\n",
       "      <td>0.001028</td>\n",
       "    </tr>\n",
       "    <tr>\n",
       "      <th>avg_purchases_lag6</th>\n",
       "      <td>-0.012769</td>\n",
       "      <td>-0.003839</td>\n",
       "      <td>-0.003795</td>\n",
       "      <td>0.984672</td>\n",
       "      <td>0.991625</td>\n",
       "      <td>0.000191</td>\n",
       "      <td>0.919799</td>\n",
       "      <td>1.000000</td>\n",
       "      <td>0.000981</td>\n",
       "      <td>0.812505</td>\n",
       "      <td>...</td>\n",
       "      <td>-0.004713</td>\n",
       "      <td>0.001657</td>\n",
       "      <td>-0.013081</td>\n",
       "      <td>-0.007721</td>\n",
       "      <td>-0.016242</td>\n",
       "      <td>0.000163</td>\n",
       "      <td>0.002029</td>\n",
       "      <td>0.001083</td>\n",
       "      <td>-0.001029</td>\n",
       "      <td>-0.001319</td>\n",
       "    </tr>\n",
       "    <tr>\n",
       "      <th>active_months_lag6</th>\n",
       "      <td>-0.037370</td>\n",
       "      <td>0.013528</td>\n",
       "      <td>0.013379</td>\n",
       "      <td>0.000396</td>\n",
       "      <td>0.000331</td>\n",
       "      <td>0.380161</td>\n",
       "      <td>0.000413</td>\n",
       "      <td>0.000981</td>\n",
       "      <td>1.000000</td>\n",
       "      <td>0.000384</td>\n",
       "      <td>...</td>\n",
       "      <td>-0.025011</td>\n",
       "      <td>-0.019347</td>\n",
       "      <td>-0.005036</td>\n",
       "      <td>0.003722</td>\n",
       "      <td>-0.005908</td>\n",
       "      <td>0.004298</td>\n",
       "      <td>0.001851</td>\n",
       "      <td>0.006052</td>\n",
       "      <td>-0.005682</td>\n",
       "      <td>-0.012735</td>\n",
       "    </tr>\n",
       "    <tr>\n",
       "      <th>avg_sales_lag12</th>\n",
       "      <td>-0.004048</td>\n",
       "      <td>-0.001493</td>\n",
       "      <td>-0.001476</td>\n",
       "      <td>0.855365</td>\n",
       "      <td>0.816898</td>\n",
       "      <td>0.000077</td>\n",
       "      <td>0.969351</td>\n",
       "      <td>0.812505</td>\n",
       "      <td>0.000384</td>\n",
       "      <td>1.000000</td>\n",
       "      <td>...</td>\n",
       "      <td>0.000820</td>\n",
       "      <td>0.001784</td>\n",
       "      <td>-0.005502</td>\n",
       "      <td>-0.001882</td>\n",
       "      <td>0.001849</td>\n",
       "      <td>-0.000009</td>\n",
       "      <td>0.002003</td>\n",
       "      <td>0.000480</td>\n",
       "      <td>-0.000380</td>\n",
       "      <td>0.001405</td>\n",
       "    </tr>\n",
       "    <tr>\n",
       "      <th>avg_purchases_lag12</th>\n",
       "      <td>-0.014763</td>\n",
       "      <td>-0.004449</td>\n",
       "      <td>-0.004398</td>\n",
       "      <td>0.981661</td>\n",
       "      <td>0.980447</td>\n",
       "      <td>0.000224</td>\n",
       "      <td>0.917069</td>\n",
       "      <td>0.996940</td>\n",
       "      <td>0.001152</td>\n",
       "      <td>0.810138</td>\n",
       "      <td>...</td>\n",
       "      <td>-0.005768</td>\n",
       "      <td>0.002810</td>\n",
       "      <td>-0.014712</td>\n",
       "      <td>-0.010078</td>\n",
       "      <td>-0.022045</td>\n",
       "      <td>0.000195</td>\n",
       "      <td>0.002009</td>\n",
       "      <td>0.000918</td>\n",
       "      <td>-0.001361</td>\n",
       "      <td>-0.001629</td>\n",
       "    </tr>\n",
       "    <tr>\n",
       "      <th>active_months_lag12</th>\n",
       "      <td>0.001521</td>\n",
       "      <td>0.046291</td>\n",
       "      <td>0.045819</td>\n",
       "      <td>-0.019714</td>\n",
       "      <td>-0.021299</td>\n",
       "      <td>0.123393</td>\n",
       "      <td>-0.018344</td>\n",
       "      <td>-0.019536</td>\n",
       "      <td>0.512180</td>\n",
       "      <td>-0.016147</td>\n",
       "      <td>...</td>\n",
       "      <td>-0.011562</td>\n",
       "      <td>-0.006652</td>\n",
       "      <td>0.043722</td>\n",
       "      <td>0.036626</td>\n",
       "      <td>0.004566</td>\n",
       "      <td>0.005092</td>\n",
       "      <td>0.002474</td>\n",
       "      <td>0.001067</td>\n",
       "      <td>-0.011031</td>\n",
       "      <td>-0.004451</td>\n",
       "    </tr>\n",
       "    <tr>\n",
       "      <th>city_id</th>\n",
       "      <td>-0.008831</td>\n",
       "      <td>-0.046176</td>\n",
       "      <td>-0.045032</td>\n",
       "      <td>-0.004307</td>\n",
       "      <td>-0.005381</td>\n",
       "      <td>0.000166</td>\n",
       "      <td>-0.003603</td>\n",
       "      <td>-0.012200</td>\n",
       "      <td>0.004050</td>\n",
       "      <td>-0.002738</td>\n",
       "      <td>...</td>\n",
       "      <td>-0.000957</td>\n",
       "      <td>-0.025738</td>\n",
       "      <td>0.088591</td>\n",
       "      <td>0.114039</td>\n",
       "      <td>0.011256</td>\n",
       "      <td>0.017852</td>\n",
       "      <td>0.003455</td>\n",
       "      <td>0.040995</td>\n",
       "      <td>-0.004305</td>\n",
       "      <td>0.002615</td>\n",
       "    </tr>\n",
       "    <tr>\n",
       "      <th>installments</th>\n",
       "      <td>-0.023180</td>\n",
       "      <td>-0.023487</td>\n",
       "      <td>-0.023633</td>\n",
       "      <td>-0.000319</td>\n",
       "      <td>0.000967</td>\n",
       "      <td>-0.001098</td>\n",
       "      <td>-0.000533</td>\n",
       "      <td>0.003398</td>\n",
       "      <td>0.000334</td>\n",
       "      <td>-0.000634</td>\n",
       "      <td>...</td>\n",
       "      <td>-0.003536</td>\n",
       "      <td>0.236698</td>\n",
       "      <td>-0.003397</td>\n",
       "      <td>-0.082493</td>\n",
       "      <td>-0.070507</td>\n",
       "      <td>-0.031374</td>\n",
       "      <td>-0.089211</td>\n",
       "      <td>-0.170675</td>\n",
       "      <td>0.003297</td>\n",
       "      <td>0.009911</td>\n",
       "    </tr>\n",
       "    <tr>\n",
       "      <th>merchant_category_id</th>\n",
       "      <td>-0.098661</td>\n",
       "      <td>-0.062776</td>\n",
       "      <td>-0.063206</td>\n",
       "      <td>0.004350</td>\n",
       "      <td>0.005360</td>\n",
       "      <td>-0.001327</td>\n",
       "      <td>0.004202</td>\n",
       "      <td>0.010904</td>\n",
       "      <td>-0.007799</td>\n",
       "      <td>0.003736</td>\n",
       "      <td>...</td>\n",
       "      <td>-0.005448</td>\n",
       "      <td>0.013578</td>\n",
       "      <td>-0.038471</td>\n",
       "      <td>-0.064985</td>\n",
       "      <td>-0.101105</td>\n",
       "      <td>-0.016690</td>\n",
       "      <td>0.004592</td>\n",
       "      <td>-0.007453</td>\n",
       "      <td>0.002061</td>\n",
       "      <td>0.001410</td>\n",
       "    </tr>\n",
       "    <tr>\n",
       "      <th>month_lag</th>\n",
       "      <td>0.009785</td>\n",
       "      <td>-0.001076</td>\n",
       "      <td>-0.001014</td>\n",
       "      <td>0.000200</td>\n",
       "      <td>-0.000126</td>\n",
       "      <td>0.000779</td>\n",
       "      <td>0.000562</td>\n",
       "      <td>-0.004713</td>\n",
       "      <td>-0.025011</td>\n",
       "      <td>0.000820</td>\n",
       "      <td>...</td>\n",
       "      <td>1.000000</td>\n",
       "      <td>0.002026</td>\n",
       "      <td>0.006457</td>\n",
       "      <td>-0.006651</td>\n",
       "      <td>0.005708</td>\n",
       "      <td>0.003569</td>\n",
       "      <td>0.004318</td>\n",
       "      <td>-0.001556</td>\n",
       "      <td>0.038046</td>\n",
       "      <td>-0.000651</td>\n",
       "    </tr>\n",
       "    <tr>\n",
       "      <th>purchase_amount</th>\n",
       "      <td>-0.009891</td>\n",
       "      <td>-0.025117</td>\n",
       "      <td>-0.024973</td>\n",
       "      <td>0.000694</td>\n",
       "      <td>0.000752</td>\n",
       "      <td>-0.025401</td>\n",
       "      <td>0.001380</td>\n",
       "      <td>0.001657</td>\n",
       "      <td>-0.019347</td>\n",
       "      <td>0.001784</td>\n",
       "      <td>...</td>\n",
       "      <td>0.002026</td>\n",
       "      <td>1.000000</td>\n",
       "      <td>0.010418</td>\n",
       "      <td>-0.037489</td>\n",
       "      <td>-0.100224</td>\n",
       "      <td>0.006405</td>\n",
       "      <td>-0.050558</td>\n",
       "      <td>-0.051872</td>\n",
       "      <td>-0.058869</td>\n",
       "      <td>-0.001473</td>\n",
       "    </tr>\n",
       "    <tr>\n",
       "      <th>category_2</th>\n",
       "      <td>0.042531</td>\n",
       "      <td>-0.104358</td>\n",
       "      <td>-0.103228</td>\n",
       "      <td>-0.005772</td>\n",
       "      <td>-0.006063</td>\n",
       "      <td>-0.000469</td>\n",
       "      <td>-0.005893</td>\n",
       "      <td>-0.013081</td>\n",
       "      <td>-0.005036</td>\n",
       "      <td>-0.005502</td>\n",
       "      <td>...</td>\n",
       "      <td>0.006457</td>\n",
       "      <td>0.010418</td>\n",
       "      <td>1.000000</td>\n",
       "      <td>0.147773</td>\n",
       "      <td>0.008967</td>\n",
       "      <td>-0.011643</td>\n",
       "      <td>0.093899</td>\n",
       "      <td>-0.012205</td>\n",
       "      <td>-0.003124</td>\n",
       "      <td>-0.001206</td>\n",
       "    </tr>\n",
       "    <tr>\n",
       "      <th>state_id</th>\n",
       "      <td>0.000390</td>\n",
       "      <td>-0.018447</td>\n",
       "      <td>-0.018445</td>\n",
       "      <td>-0.002057</td>\n",
       "      <td>-0.003159</td>\n",
       "      <td>0.000414</td>\n",
       "      <td>-0.002013</td>\n",
       "      <td>-0.007721</td>\n",
       "      <td>0.003722</td>\n",
       "      <td>-0.001882</td>\n",
       "      <td>...</td>\n",
       "      <td>-0.006651</td>\n",
       "      <td>-0.037489</td>\n",
       "      <td>0.147773</td>\n",
       "      <td>1.000000</td>\n",
       "      <td>0.050549</td>\n",
       "      <td>-0.011554</td>\n",
       "      <td>0.040897</td>\n",
       "      <td>0.011854</td>\n",
       "      <td>-0.008991</td>\n",
       "      <td>0.002091</td>\n",
       "    </tr>\n",
       "    <tr>\n",
       "      <th>subsector_id</th>\n",
       "      <td>0.058488</td>\n",
       "      <td>0.112249</td>\n",
       "      <td>0.114747</td>\n",
       "      <td>0.003539</td>\n",
       "      <td>0.002420</td>\n",
       "      <td>0.004913</td>\n",
       "      <td>0.002588</td>\n",
       "      <td>-0.016242</td>\n",
       "      <td>-0.005908</td>\n",
       "      <td>0.001849</td>\n",
       "      <td>...</td>\n",
       "      <td>0.005708</td>\n",
       "      <td>-0.100224</td>\n",
       "      <td>0.008967</td>\n",
       "      <td>0.050549</td>\n",
       "      <td>1.000000</td>\n",
       "      <td>-0.034446</td>\n",
       "      <td>-0.005989</td>\n",
       "      <td>-0.021963</td>\n",
       "      <td>0.011933</td>\n",
       "      <td>0.013109</td>\n",
       "    </tr>\n",
       "    <tr>\n",
       "      <th>feature_1</th>\n",
       "      <td>0.010781</td>\n",
       "      <td>-0.004285</td>\n",
       "      <td>-0.003999</td>\n",
       "      <td>-0.000164</td>\n",
       "      <td>0.000058</td>\n",
       "      <td>0.003225</td>\n",
       "      <td>-0.000123</td>\n",
       "      <td>0.000163</td>\n",
       "      <td>0.004298</td>\n",
       "      <td>-0.000009</td>\n",
       "      <td>...</td>\n",
       "      <td>0.003569</td>\n",
       "      <td>0.006405</td>\n",
       "      <td>-0.011643</td>\n",
       "      <td>-0.011554</td>\n",
       "      <td>-0.034446</td>\n",
       "      <td>1.000000</td>\n",
       "      <td>-0.095826</td>\n",
       "      <td>0.577137</td>\n",
       "      <td>-0.019548</td>\n",
       "      <td>0.002016</td>\n",
       "    </tr>\n",
       "    <tr>\n",
       "      <th>feature_2</th>\n",
       "      <td>-0.001144</td>\n",
       "      <td>-0.018507</td>\n",
       "      <td>-0.018186</td>\n",
       "      <td>0.002008</td>\n",
       "      <td>0.001795</td>\n",
       "      <td>0.003531</td>\n",
       "      <td>0.002102</td>\n",
       "      <td>0.002029</td>\n",
       "      <td>0.001851</td>\n",
       "      <td>0.002003</td>\n",
       "      <td>...</td>\n",
       "      <td>0.004318</td>\n",
       "      <td>-0.050558</td>\n",
       "      <td>0.093899</td>\n",
       "      <td>0.040897</td>\n",
       "      <td>-0.005989</td>\n",
       "      <td>-0.095826</td>\n",
       "      <td>1.000000</td>\n",
       "      <td>0.018616</td>\n",
       "      <td>-0.029319</td>\n",
       "      <td>0.001857</td>\n",
       "    </tr>\n",
       "    <tr>\n",
       "      <th>feature_3</th>\n",
       "      <td>0.004122</td>\n",
       "      <td>0.005145</td>\n",
       "      <td>0.005386</td>\n",
       "      <td>0.000683</td>\n",
       "      <td>0.000765</td>\n",
       "      <td>0.003989</td>\n",
       "      <td>0.000557</td>\n",
       "      <td>0.001083</td>\n",
       "      <td>0.006052</td>\n",
       "      <td>0.000480</td>\n",
       "      <td>...</td>\n",
       "      <td>-0.001556</td>\n",
       "      <td>-0.051872</td>\n",
       "      <td>-0.012205</td>\n",
       "      <td>0.011854</td>\n",
       "      <td>-0.021963</td>\n",
       "      <td>0.577137</td>\n",
       "      <td>0.018616</td>\n",
       "      <td>1.000000</td>\n",
       "      <td>-0.040984</td>\n",
       "      <td>-0.019917</td>\n",
       "    </tr>\n",
       "    <tr>\n",
       "      <th>target</th>\n",
       "      <td>0.002870</td>\n",
       "      <td>0.003202</td>\n",
       "      <td>0.003222</td>\n",
       "      <td>-0.000141</td>\n",
       "      <td>-0.000243</td>\n",
       "      <td>0.000736</td>\n",
       "      <td>-0.000275</td>\n",
       "      <td>-0.001029</td>\n",
       "      <td>-0.005682</td>\n",
       "      <td>-0.000380</td>\n",
       "      <td>...</td>\n",
       "      <td>0.038046</td>\n",
       "      <td>-0.058869</td>\n",
       "      <td>-0.003124</td>\n",
       "      <td>-0.008991</td>\n",
       "      <td>0.011933</td>\n",
       "      <td>-0.019548</td>\n",
       "      <td>-0.029319</td>\n",
       "      <td>-0.040984</td>\n",
       "      <td>1.000000</td>\n",
       "      <td>0.023520</td>\n",
       "    </tr>\n",
       "    <tr>\n",
       "      <th>time_of_month_num</th>\n",
       "      <td>0.002069</td>\n",
       "      <td>-0.000207</td>\n",
       "      <td>-0.000198</td>\n",
       "      <td>0.000408</td>\n",
       "      <td>0.000061</td>\n",
       "      <td>0.002393</td>\n",
       "      <td>0.001028</td>\n",
       "      <td>-0.001319</td>\n",
       "      <td>-0.012735</td>\n",
       "      <td>0.001405</td>\n",
       "      <td>...</td>\n",
       "      <td>-0.000651</td>\n",
       "      <td>-0.001473</td>\n",
       "      <td>-0.001206</td>\n",
       "      <td>0.002091</td>\n",
       "      <td>0.013109</td>\n",
       "      <td>0.002016</td>\n",
       "      <td>0.001857</td>\n",
       "      <td>-0.019917</td>\n",
       "      <td>0.023520</td>\n",
       "      <td>1.000000</td>\n",
       "    </tr>\n",
       "  </tbody>\n",
       "</table>\n",
       "<p>25 rows × 25 columns</p>\n",
       "</div>"
      ],
      "text/plain": [
       "                      merchant_group_id  numerical_1  numerical_2  \\\n",
       "merchant_group_id              1.000000    -0.156547    -0.155307   \n",
       "numerical_1                   -0.156547     1.000000     0.999430   \n",
       "numerical_2                   -0.155307     0.999430     1.000000   \n",
       "avg_sales_lag3                -0.005135    -0.001557    -0.001539   \n",
       "avg_purchases_lag3            -0.005697    -0.001730    -0.001711   \n",
       "active_months_lag3             0.001023     0.002518     0.002490   \n",
       "avg_sales_lag6                -0.004724    -0.001594    -0.001576   \n",
       "avg_purchases_lag6            -0.012769    -0.003839    -0.003795   \n",
       "active_months_lag6            -0.037370     0.013528     0.013379   \n",
       "avg_sales_lag12               -0.004048    -0.001493    -0.001476   \n",
       "avg_purchases_lag12           -0.014763    -0.004449    -0.004398   \n",
       "active_months_lag12            0.001521     0.046291     0.045819   \n",
       "city_id                       -0.008831    -0.046176    -0.045032   \n",
       "installments                  -0.023180    -0.023487    -0.023633   \n",
       "merchant_category_id          -0.098661    -0.062776    -0.063206   \n",
       "month_lag                      0.009785    -0.001076    -0.001014   \n",
       "purchase_amount               -0.009891    -0.025117    -0.024973   \n",
       "category_2                     0.042531    -0.104358    -0.103228   \n",
       "state_id                       0.000390    -0.018447    -0.018445   \n",
       "subsector_id                   0.058488     0.112249     0.114747   \n",
       "feature_1                      0.010781    -0.004285    -0.003999   \n",
       "feature_2                     -0.001144    -0.018507    -0.018186   \n",
       "feature_3                      0.004122     0.005145     0.005386   \n",
       "target                         0.002870     0.003202     0.003222   \n",
       "time_of_month_num              0.002069    -0.000207    -0.000198   \n",
       "\n",
       "                      avg_sales_lag3  avg_purchases_lag3  active_months_lag3  \\\n",
       "merchant_group_id          -0.005135           -0.005697            0.001023   \n",
       "numerical_1                -0.001557           -0.001730            0.002518   \n",
       "numerical_2                -0.001539           -0.001711            0.002490   \n",
       "avg_sales_lag3              1.000000            0.990371            0.000081   \n",
       "avg_purchases_lag3          0.990371            1.000000            0.000075   \n",
       "active_months_lag3          0.000081            0.000075            1.000000   \n",
       "avg_sales_lag6              0.955149            0.924859            0.000083   \n",
       "avg_purchases_lag6          0.984672            0.991625            0.000191   \n",
       "active_months_lag6          0.000396            0.000331            0.380161   \n",
       "avg_sales_lag12             0.855365            0.816898            0.000077   \n",
       "avg_purchases_lag12         0.981661            0.980447            0.000224   \n",
       "active_months_lag12        -0.019714           -0.021299            0.123393   \n",
       "city_id                    -0.004307           -0.005381            0.000166   \n",
       "installments               -0.000319            0.000967           -0.001098   \n",
       "merchant_category_id        0.004350            0.005360           -0.001327   \n",
       "month_lag                   0.000200           -0.000126            0.000779   \n",
       "purchase_amount             0.000694            0.000752           -0.025401   \n",
       "category_2                 -0.005772           -0.006063           -0.000469   \n",
       "state_id                   -0.002057           -0.003159            0.000414   \n",
       "subsector_id                0.003539            0.002420            0.004913   \n",
       "feature_1                  -0.000164            0.000058            0.003225   \n",
       "feature_2                   0.002008            0.001795            0.003531   \n",
       "feature_3                   0.000683            0.000765            0.003989   \n",
       "target                     -0.000141           -0.000243            0.000736   \n",
       "time_of_month_num           0.000408            0.000061            0.002393   \n",
       "\n",
       "                      avg_sales_lag6  avg_purchases_lag6  active_months_lag6  \\\n",
       "merchant_group_id          -0.004724           -0.012769           -0.037370   \n",
       "numerical_1                -0.001594           -0.003839            0.013528   \n",
       "numerical_2                -0.001576           -0.003795            0.013379   \n",
       "avg_sales_lag3              0.955149            0.984672            0.000396   \n",
       "avg_purchases_lag3          0.924859            0.991625            0.000331   \n",
       "active_months_lag3          0.000083            0.000191            0.380161   \n",
       "avg_sales_lag6              1.000000            0.919799            0.000413   \n",
       "avg_purchases_lag6          0.919799            1.000000            0.000981   \n",
       "active_months_lag6          0.000413            0.000981            1.000000   \n",
       "avg_sales_lag12             0.969351            0.812505            0.000384   \n",
       "avg_purchases_lag12         0.917069            0.996940            0.001152   \n",
       "active_months_lag12        -0.018344           -0.019536            0.512180   \n",
       "city_id                    -0.003603           -0.012200            0.004050   \n",
       "installments               -0.000533            0.003398            0.000334   \n",
       "merchant_category_id        0.004202            0.010904           -0.007799   \n",
       "month_lag                   0.000562           -0.004713           -0.025011   \n",
       "purchase_amount             0.001380            0.001657           -0.019347   \n",
       "category_2                 -0.005893           -0.013081           -0.005036   \n",
       "state_id                   -0.002013           -0.007721            0.003722   \n",
       "subsector_id                0.002588           -0.016242           -0.005908   \n",
       "feature_1                  -0.000123            0.000163            0.004298   \n",
       "feature_2                   0.002102            0.002029            0.001851   \n",
       "feature_3                   0.000557            0.001083            0.006052   \n",
       "target                     -0.000275           -0.001029           -0.005682   \n",
       "time_of_month_num           0.001028           -0.001319           -0.012735   \n",
       "\n",
       "                      avg_sales_lag12  ...  month_lag  purchase_amount  \\\n",
       "merchant_group_id           -0.004048  ...   0.009785        -0.009891   \n",
       "numerical_1                 -0.001493  ...  -0.001076        -0.025117   \n",
       "numerical_2                 -0.001476  ...  -0.001014        -0.024973   \n",
       "avg_sales_lag3               0.855365  ...   0.000200         0.000694   \n",
       "avg_purchases_lag3           0.816898  ...  -0.000126         0.000752   \n",
       "active_months_lag3           0.000077  ...   0.000779        -0.025401   \n",
       "avg_sales_lag6               0.969351  ...   0.000562         0.001380   \n",
       "avg_purchases_lag6           0.812505  ...  -0.004713         0.001657   \n",
       "active_months_lag6           0.000384  ...  -0.025011        -0.019347   \n",
       "avg_sales_lag12              1.000000  ...   0.000820         0.001784   \n",
       "avg_purchases_lag12          0.810138  ...  -0.005768         0.002810   \n",
       "active_months_lag12         -0.016147  ...  -0.011562        -0.006652   \n",
       "city_id                     -0.002738  ...  -0.000957        -0.025738   \n",
       "installments                -0.000634  ...  -0.003536         0.236698   \n",
       "merchant_category_id         0.003736  ...  -0.005448         0.013578   \n",
       "month_lag                    0.000820  ...   1.000000         0.002026   \n",
       "purchase_amount              0.001784  ...   0.002026         1.000000   \n",
       "category_2                  -0.005502  ...   0.006457         0.010418   \n",
       "state_id                    -0.001882  ...  -0.006651        -0.037489   \n",
       "subsector_id                 0.001849  ...   0.005708        -0.100224   \n",
       "feature_1                   -0.000009  ...   0.003569         0.006405   \n",
       "feature_2                    0.002003  ...   0.004318        -0.050558   \n",
       "feature_3                    0.000480  ...  -0.001556        -0.051872   \n",
       "target                      -0.000380  ...   0.038046        -0.058869   \n",
       "time_of_month_num            0.001405  ...  -0.000651        -0.001473   \n",
       "\n",
       "                      category_2  state_id  subsector_id  feature_1  \\\n",
       "merchant_group_id       0.042531  0.000390      0.058488   0.010781   \n",
       "numerical_1            -0.104358 -0.018447      0.112249  -0.004285   \n",
       "numerical_2            -0.103228 -0.018445      0.114747  -0.003999   \n",
       "avg_sales_lag3         -0.005772 -0.002057      0.003539  -0.000164   \n",
       "avg_purchases_lag3     -0.006063 -0.003159      0.002420   0.000058   \n",
       "active_months_lag3     -0.000469  0.000414      0.004913   0.003225   \n",
       "avg_sales_lag6         -0.005893 -0.002013      0.002588  -0.000123   \n",
       "avg_purchases_lag6     -0.013081 -0.007721     -0.016242   0.000163   \n",
       "active_months_lag6     -0.005036  0.003722     -0.005908   0.004298   \n",
       "avg_sales_lag12        -0.005502 -0.001882      0.001849  -0.000009   \n",
       "avg_purchases_lag12    -0.014712 -0.010078     -0.022045   0.000195   \n",
       "active_months_lag12     0.043722  0.036626      0.004566   0.005092   \n",
       "city_id                 0.088591  0.114039      0.011256   0.017852   \n",
       "installments           -0.003397 -0.082493     -0.070507  -0.031374   \n",
       "merchant_category_id   -0.038471 -0.064985     -0.101105  -0.016690   \n",
       "month_lag               0.006457 -0.006651      0.005708   0.003569   \n",
       "purchase_amount         0.010418 -0.037489     -0.100224   0.006405   \n",
       "category_2              1.000000  0.147773      0.008967  -0.011643   \n",
       "state_id                0.147773  1.000000      0.050549  -0.011554   \n",
       "subsector_id            0.008967  0.050549      1.000000  -0.034446   \n",
       "feature_1              -0.011643 -0.011554     -0.034446   1.000000   \n",
       "feature_2               0.093899  0.040897     -0.005989  -0.095826   \n",
       "feature_3              -0.012205  0.011854     -0.021963   0.577137   \n",
       "target                 -0.003124 -0.008991      0.011933  -0.019548   \n",
       "time_of_month_num      -0.001206  0.002091      0.013109   0.002016   \n",
       "\n",
       "                      feature_2  feature_3    target  time_of_month_num  \n",
       "merchant_group_id     -0.001144   0.004122  0.002870           0.002069  \n",
       "numerical_1           -0.018507   0.005145  0.003202          -0.000207  \n",
       "numerical_2           -0.018186   0.005386  0.003222          -0.000198  \n",
       "avg_sales_lag3         0.002008   0.000683 -0.000141           0.000408  \n",
       "avg_purchases_lag3     0.001795   0.000765 -0.000243           0.000061  \n",
       "active_months_lag3     0.003531   0.003989  0.000736           0.002393  \n",
       "avg_sales_lag6         0.002102   0.000557 -0.000275           0.001028  \n",
       "avg_purchases_lag6     0.002029   0.001083 -0.001029          -0.001319  \n",
       "active_months_lag6     0.001851   0.006052 -0.005682          -0.012735  \n",
       "avg_sales_lag12        0.002003   0.000480 -0.000380           0.001405  \n",
       "avg_purchases_lag12    0.002009   0.000918 -0.001361          -0.001629  \n",
       "active_months_lag12    0.002474   0.001067 -0.011031          -0.004451  \n",
       "city_id                0.003455   0.040995 -0.004305           0.002615  \n",
       "installments          -0.089211  -0.170675  0.003297           0.009911  \n",
       "merchant_category_id   0.004592  -0.007453  0.002061           0.001410  \n",
       "month_lag              0.004318  -0.001556  0.038046          -0.000651  \n",
       "purchase_amount       -0.050558  -0.051872 -0.058869          -0.001473  \n",
       "category_2             0.093899  -0.012205 -0.003124          -0.001206  \n",
       "state_id               0.040897   0.011854 -0.008991           0.002091  \n",
       "subsector_id          -0.005989  -0.021963  0.011933           0.013109  \n",
       "feature_1             -0.095826   0.577137 -0.019548           0.002016  \n",
       "feature_2              1.000000   0.018616 -0.029319           0.001857  \n",
       "feature_3              0.018616   1.000000 -0.040984          -0.019917  \n",
       "target                -0.029319  -0.040984  1.000000           0.023520  \n",
       "time_of_month_num      0.001857  -0.019917  0.023520           1.000000  \n",
       "\n",
       "[25 rows x 25 columns]"
      ]
     },
     "execution_count": 83,
     "metadata": {},
     "output_type": "execute_result"
    }
   ],
   "source": [
    "correlation_data"
   ]
  },
  {
   "cell_type": "code",
   "execution_count": 84,
   "metadata": {
    "_uuid": "238674e1a24fa6e772cb6790a050b14a7de316c7"
   },
   "outputs": [
    {
     "name": "stdout",
     "output_type": "stream",
     "text": [
      "target                  1.000000\n",
      "month_lag               0.038046\n",
      "time_of_month_num       0.023520\n",
      "subsector_id            0.011933\n",
      "installments            0.003297\n",
      "numerical_2             0.003222\n",
      "numerical_1             0.003202\n",
      "merchant_group_id       0.002870\n",
      "merchant_category_id    0.002061\n",
      "active_months_lag3      0.000736\n",
      "avg_sales_lag3         -0.000141\n",
      "avg_purchases_lag3     -0.000243\n",
      "avg_sales_lag6         -0.000275\n",
      "avg_sales_lag12        -0.000380\n",
      "avg_purchases_lag6     -0.001029\n",
      "avg_purchases_lag12    -0.001361\n",
      "category_2             -0.003124\n",
      "city_id                -0.004305\n",
      "active_months_lag6     -0.005682\n",
      "state_id               -0.008991\n",
      "active_months_lag12    -0.011031\n",
      "feature_1              -0.019548\n",
      "feature_2              -0.029319\n",
      "feature_3              -0.040984\n",
      "purchase_amount        -0.058869\n",
      "Name: target, dtype: float64\n"
     ]
    }
   ],
   "source": [
    "print(correlation_data['target'].sort_values(ascending = False))"
   ]
  },
  {
   "cell_type": "code",
   "execution_count": 85,
   "metadata": {
    "_uuid": "2a4764e37814d54450c675833c0d7c7ed4eee79b"
   },
   "outputs": [
    {
     "name": "stdout",
     "output_type": "stream",
     "text": [
      "Data categrical: 13\n",
      "Data Numerical: 31\n"
     ]
    }
   ],
   "source": [
    "data_cat_feats = data.dtypes[data.dtypes == 'object'].index\n",
    "data_num_feats = data.dtypes[data.dtypes != 'object'].index\n",
    "\n",
    "print(f'Data categrical: {len(data_cat_feats)}')\n",
    "print(f'Data Numerical: {len(data_num_feats)}')"
   ]
  },
  {
   "cell_type": "code",
   "execution_count": 86,
   "metadata": {
    "_uuid": "c3406cec709ebda8e624bd1b7528a969cd44dea0"
   },
   "outputs": [],
   "source": [
    "# for col in data_cat_feats:\n",
    "#     cols = data[col].value_counts().index.shape[0]\n",
    "#     print(f'{cols} \\t unique values in \\t {col}')"
   ]
  },
  {
   "cell_type": "code",
   "execution_count": 87,
   "metadata": {
    "_uuid": "92a1a9020e478090f99431825fc2cecbcd015d9c"
   },
   "outputs": [],
   "source": [
    "# for col in data_num_feats:\n",
    "#     cols = data[col].value_counts().index.shape[0]\n",
    "#     print(f'{cols} \\t unique values in \\t {col}')"
   ]
  },
  {
   "cell_type": "code",
   "execution_count": 88,
   "metadata": {
    "_uuid": "1d5efb414ece141feb6e714640e6b86083bec6c6"
   },
   "outputs": [
    {
     "name": "stdout",
     "output_type": "stream",
     "text": [
      "You data contains 13 columns and has 1 colums with missing values\n"
     ]
    },
    {
     "data": {
      "text/html": [
       "<div>\n",
       "<style scoped>\n",
       "    .dataframe tbody tr th:only-of-type {\n",
       "        vertical-align: middle;\n",
       "    }\n",
       "\n",
       "    .dataframe tbody tr th {\n",
       "        vertical-align: top;\n",
       "    }\n",
       "\n",
       "    .dataframe thead th {\n",
       "        text-align: right;\n",
       "    }\n",
       "</style>\n",
       "<table border=\"1\" class=\"dataframe\">\n",
       "  <thead>\n",
       "    <tr style=\"text-align: right;\">\n",
       "      <th></th>\n",
       "      <th>Total Miss Values</th>\n",
       "      <th>% of miss values</th>\n",
       "    </tr>\n",
       "  </thead>\n",
       "  <tbody>\n",
       "    <tr>\n",
       "      <th>category_3</th>\n",
       "      <td>33143</td>\n",
       "      <td>2.73</td>\n",
       "    </tr>\n",
       "  </tbody>\n",
       "</table>\n",
       "</div>"
      ],
      "text/plain": [
       "            Total Miss Values  % of miss values\n",
       "category_3              33143              2.73"
      ]
     },
     "execution_count": 88,
     "metadata": {},
     "output_type": "execute_result"
    }
   ],
   "source": [
    "missing_values(data.select_dtypes(['object']))"
   ]
  },
  {
   "cell_type": "code",
   "execution_count": 89,
   "metadata": {
    "_uuid": "c1b0b259dc8cfc44594d1954aa483943a3f1193d"
   },
   "outputs": [
    {
     "name": "stdout",
     "output_type": "stream",
     "text": [
      "You data contains 25 columns and has 4 colums with missing values\n"
     ]
    },
    {
     "data": {
      "text/html": [
       "<div>\n",
       "<style scoped>\n",
       "    .dataframe tbody tr th:only-of-type {\n",
       "        vertical-align: middle;\n",
       "    }\n",
       "\n",
       "    .dataframe tbody tr th {\n",
       "        vertical-align: top;\n",
       "    }\n",
       "\n",
       "    .dataframe thead th {\n",
       "        text-align: right;\n",
       "    }\n",
       "</style>\n",
       "<table border=\"1\" class=\"dataframe\">\n",
       "  <thead>\n",
       "    <tr style=\"text-align: right;\">\n",
       "      <th></th>\n",
       "      <th>Total Miss Values</th>\n",
       "      <th>% of miss values</th>\n",
       "    </tr>\n",
       "  </thead>\n",
       "  <tbody>\n",
       "    <tr>\n",
       "      <th>category_2</th>\n",
       "      <td>69190</td>\n",
       "      <td>5.69</td>\n",
       "    </tr>\n",
       "    <tr>\n",
       "      <th>avg_sales_lag3</th>\n",
       "      <td>194</td>\n",
       "      <td>0.02</td>\n",
       "    </tr>\n",
       "    <tr>\n",
       "      <th>avg_sales_lag6</th>\n",
       "      <td>194</td>\n",
       "      <td>0.02</td>\n",
       "    </tr>\n",
       "    <tr>\n",
       "      <th>avg_sales_lag12</th>\n",
       "      <td>194</td>\n",
       "      <td>0.02</td>\n",
       "    </tr>\n",
       "  </tbody>\n",
       "</table>\n",
       "</div>"
      ],
      "text/plain": [
       "                 Total Miss Values  % of miss values\n",
       "category_2                   69190              5.69\n",
       "avg_sales_lag3                 194              0.02\n",
       "avg_sales_lag6                 194              0.02\n",
       "avg_sales_lag12                194              0.02"
      ]
     },
     "execution_count": 89,
     "metadata": {},
     "output_type": "execute_result"
    }
   ],
   "source": [
    "missing_values(data.select_dtypes(include = [np.number]))"
   ]
  },
  {
   "cell_type": "code",
   "execution_count": 90,
   "metadata": {
    "_uuid": "1216a8a825d960b6c7c704aae1a9297fb07deae2"
   },
   "outputs": [
    {
     "name": "stdout",
     "output_type": "stream",
     "text": [
      "You data contains 44 columns and has 5 colums with missing values\n"
     ]
    },
    {
     "data": {
      "text/html": [
       "<div>\n",
       "<style scoped>\n",
       "    .dataframe tbody tr th:only-of-type {\n",
       "        vertical-align: middle;\n",
       "    }\n",
       "\n",
       "    .dataframe tbody tr th {\n",
       "        vertical-align: top;\n",
       "    }\n",
       "\n",
       "    .dataframe thead th {\n",
       "        text-align: right;\n",
       "    }\n",
       "</style>\n",
       "<table border=\"1\" class=\"dataframe\">\n",
       "  <thead>\n",
       "    <tr style=\"text-align: right;\">\n",
       "      <th></th>\n",
       "      <th>Total Miss Values</th>\n",
       "      <th>% of miss values</th>\n",
       "    </tr>\n",
       "  </thead>\n",
       "  <tbody>\n",
       "    <tr>\n",
       "      <th>category_2</th>\n",
       "      <td>69190</td>\n",
       "      <td>5.69</td>\n",
       "    </tr>\n",
       "    <tr>\n",
       "      <th>category_3</th>\n",
       "      <td>33143</td>\n",
       "      <td>2.73</td>\n",
       "    </tr>\n",
       "    <tr>\n",
       "      <th>avg_sales_lag3</th>\n",
       "      <td>194</td>\n",
       "      <td>0.02</td>\n",
       "    </tr>\n",
       "    <tr>\n",
       "      <th>avg_sales_lag6</th>\n",
       "      <td>194</td>\n",
       "      <td>0.02</td>\n",
       "    </tr>\n",
       "    <tr>\n",
       "      <th>avg_sales_lag12</th>\n",
       "      <td>194</td>\n",
       "      <td>0.02</td>\n",
       "    </tr>\n",
       "  </tbody>\n",
       "</table>\n",
       "</div>"
      ],
      "text/plain": [
       "                 Total Miss Values  % of miss values\n",
       "category_2                   69190              5.69\n",
       "category_3                   33143              2.73\n",
       "avg_sales_lag3                 194              0.02\n",
       "avg_sales_lag6                 194              0.02\n",
       "avg_sales_lag12                194              0.02"
      ]
     },
     "execution_count": 90,
     "metadata": {},
     "output_type": "execute_result"
    }
   ],
   "source": [
    "missing_values(data)"
   ]
  },
  {
   "cell_type": "code",
   "execution_count": 91,
   "metadata": {
    "_uuid": "5c80cdbe280841f375dfc64694ed18ff2b84c81f"
   },
   "outputs": [
    {
     "data": {
      "text/plain": [
       "category_3\n",
       "A    570483\n",
       "B    517052\n",
       "C     94811\n",
       "Name: count, dtype: int64"
      ]
     },
     "execution_count": 91,
     "metadata": {},
     "output_type": "execute_result"
    }
   ],
   "source": [
    "data['category_3'].value_counts()"
   ]
  },
  {
   "cell_type": "code",
   "execution_count": 92,
   "metadata": {
    "_uuid": "d5263dcc78b408e7e30c6ca9d57de43a5a574c5f"
   },
   "outputs": [],
   "source": [
    "data['category_3'] = data['category_3'].fillna(data['category_3'].mode()[0])"
   ]
  },
  {
   "cell_type": "code",
   "execution_count": 93,
   "metadata": {
    "_uuid": "fee0ccf2fdb064d8e0f14d1049772ed6e3e97e2f"
   },
   "outputs": [
    {
     "name": "stdout",
     "output_type": "stream",
     "text": [
      "You data contains 13 columns and has 0 colums with missing values\n"
     ]
    },
    {
     "data": {
      "text/html": [
       "<div>\n",
       "<style scoped>\n",
       "    .dataframe tbody tr th:only-of-type {\n",
       "        vertical-align: middle;\n",
       "    }\n",
       "\n",
       "    .dataframe tbody tr th {\n",
       "        vertical-align: top;\n",
       "    }\n",
       "\n",
       "    .dataframe thead th {\n",
       "        text-align: right;\n",
       "    }\n",
       "</style>\n",
       "<table border=\"1\" class=\"dataframe\">\n",
       "  <thead>\n",
       "    <tr style=\"text-align: right;\">\n",
       "      <th></th>\n",
       "      <th>Total Miss Values</th>\n",
       "      <th>% of miss values</th>\n",
       "    </tr>\n",
       "  </thead>\n",
       "  <tbody>\n",
       "  </tbody>\n",
       "</table>\n",
       "</div>"
      ],
      "text/plain": [
       "Empty DataFrame\n",
       "Columns: [Total Miss Values, % of miss values]\n",
       "Index: []"
      ]
     },
     "execution_count": 93,
     "metadata": {},
     "output_type": "execute_result"
    }
   ],
   "source": [
    "missing_values(data.select_dtypes(['object']))"
   ]
  },
  {
   "cell_type": "code",
   "execution_count": 94,
   "metadata": {
    "_uuid": "84527ed17e8eb41922e5f49dea840f80d690d7f0"
   },
   "outputs": [
    {
     "data": {
      "text/plain": [
       "category_3\n",
       "A    603626\n",
       "B    517052\n",
       "C     94811\n",
       "Name: count, dtype: int64"
      ]
     },
     "execution_count": 94,
     "metadata": {},
     "output_type": "execute_result"
    }
   ],
   "source": [
    "data['category_3'].value_counts()"
   ]
  },
  {
   "cell_type": "code",
   "execution_count": 95,
   "metadata": {
    "_uuid": "f60c92ee59a59a44ab5ac8328261afe37e76ccff"
   },
   "outputs": [],
   "source": [
    "cols = ['category_2', 'avg_sales_lag3', 'avg_sales_lag6', 'avg_sales_lag12']\n",
    "\n",
    "for col in cols:\n",
    "    data[col] = data[col].fillna(data[col].mean())"
   ]
  },
  {
   "cell_type": "code",
   "execution_count": 96,
   "metadata": {
    "_uuid": "0168c019b8f0013cff86dc4b3f2ee8fe1354152d"
   },
   "outputs": [
    {
     "name": "stdout",
     "output_type": "stream",
     "text": [
      "You data contains 44 columns and has 0 colums with missing values\n"
     ]
    },
    {
     "data": {
      "text/html": [
       "<div>\n",
       "<style scoped>\n",
       "    .dataframe tbody tr th:only-of-type {\n",
       "        vertical-align: middle;\n",
       "    }\n",
       "\n",
       "    .dataframe tbody tr th {\n",
       "        vertical-align: top;\n",
       "    }\n",
       "\n",
       "    .dataframe thead th {\n",
       "        text-align: right;\n",
       "    }\n",
       "</style>\n",
       "<table border=\"1\" class=\"dataframe\">\n",
       "  <thead>\n",
       "    <tr style=\"text-align: right;\">\n",
       "      <th></th>\n",
       "      <th>Total Miss Values</th>\n",
       "      <th>% of miss values</th>\n",
       "    </tr>\n",
       "  </thead>\n",
       "  <tbody>\n",
       "  </tbody>\n",
       "</table>\n",
       "</div>"
      ],
      "text/plain": [
       "Empty DataFrame\n",
       "Columns: [Total Miss Values, % of miss values]\n",
       "Index: []"
      ]
     },
     "execution_count": 96,
     "metadata": {},
     "output_type": "execute_result"
    }
   ],
   "source": [
    "missing_values(data)"
   ]
  },
  {
   "cell_type": "markdown",
   "metadata": {
    "_uuid": "a16c10cfb139b1b666ebfc3d329ef0d80f04bd45"
   },
   "source": [
    "# Now lets look at the Test data"
   ]
  },
  {
   "cell_type": "code",
   "execution_count": 97,
   "metadata": {
    "_uuid": "cc8e877d589ca5114009f6b67708648af5d7681c"
   },
   "outputs": [
    {
     "name": "stdout",
     "output_type": "stream",
     "text": [
      "You data contains 13 columns and has 1 colums with missing values\n"
     ]
    },
    {
     "data": {
      "text/html": [
       "<div>\n",
       "<style scoped>\n",
       "    .dataframe tbody tr th:only-of-type {\n",
       "        vertical-align: middle;\n",
       "    }\n",
       "\n",
       "    .dataframe tbody tr th {\n",
       "        vertical-align: top;\n",
       "    }\n",
       "\n",
       "    .dataframe thead th {\n",
       "        text-align: right;\n",
       "    }\n",
       "</style>\n",
       "<table border=\"1\" class=\"dataframe\">\n",
       "  <thead>\n",
       "    <tr style=\"text-align: right;\">\n",
       "      <th></th>\n",
       "      <th>Total Miss Values</th>\n",
       "      <th>% of miss values</th>\n",
       "    </tr>\n",
       "  </thead>\n",
       "  <tbody>\n",
       "    <tr>\n",
       "      <th>category_3</th>\n",
       "      <td>20459</td>\n",
       "      <td>2.74</td>\n",
       "    </tr>\n",
       "  </tbody>\n",
       "</table>\n",
       "</div>"
      ],
      "text/plain": [
       "            Total Miss Values  % of miss values\n",
       "category_3              20459              2.74"
      ]
     },
     "execution_count": 97,
     "metadata": {},
     "output_type": "execute_result"
    }
   ],
   "source": [
    "missing_values(test_data.select_dtypes(['object']))"
   ]
  },
  {
   "cell_type": "code",
   "execution_count": 98,
   "metadata": {
    "_uuid": "b1770abeb27a30b3502477f5f7cfa4cc00907a93"
   },
   "outputs": [],
   "source": [
    "test_data['category_3'] = test_data['category_3'].fillna(test_data['category_3'].mode()[0])"
   ]
  },
  {
   "cell_type": "code",
   "execution_count": 99,
   "metadata": {
    "_uuid": "8b5cc6e1fc8ac89416fafe433e6c1cbe769042a3"
   },
   "outputs": [
    {
     "name": "stdout",
     "output_type": "stream",
     "text": [
      "You data contains 43 columns and has 4 colums with missing values\n"
     ]
    },
    {
     "data": {
      "text/html": [
       "<div>\n",
       "<style scoped>\n",
       "    .dataframe tbody tr th:only-of-type {\n",
       "        vertical-align: middle;\n",
       "    }\n",
       "\n",
       "    .dataframe tbody tr th {\n",
       "        vertical-align: top;\n",
       "    }\n",
       "\n",
       "    .dataframe thead th {\n",
       "        text-align: right;\n",
       "    }\n",
       "</style>\n",
       "<table border=\"1\" class=\"dataframe\">\n",
       "  <thead>\n",
       "    <tr style=\"text-align: right;\">\n",
       "      <th></th>\n",
       "      <th>Total Miss Values</th>\n",
       "      <th>% of miss values</th>\n",
       "    </tr>\n",
       "  </thead>\n",
       "  <tbody>\n",
       "    <tr>\n",
       "      <th>category_2</th>\n",
       "      <td>43321</td>\n",
       "      <td>5.81</td>\n",
       "    </tr>\n",
       "    <tr>\n",
       "      <th>avg_sales_lag3</th>\n",
       "      <td>129</td>\n",
       "      <td>0.02</td>\n",
       "    </tr>\n",
       "    <tr>\n",
       "      <th>avg_sales_lag6</th>\n",
       "      <td>129</td>\n",
       "      <td>0.02</td>\n",
       "    </tr>\n",
       "    <tr>\n",
       "      <th>avg_sales_lag12</th>\n",
       "      <td>129</td>\n",
       "      <td>0.02</td>\n",
       "    </tr>\n",
       "  </tbody>\n",
       "</table>\n",
       "</div>"
      ],
      "text/plain": [
       "                 Total Miss Values  % of miss values\n",
       "category_2                   43321              5.81\n",
       "avg_sales_lag3                 129              0.02\n",
       "avg_sales_lag6                 129              0.02\n",
       "avg_sales_lag12                129              0.02"
      ]
     },
     "execution_count": 99,
     "metadata": {},
     "output_type": "execute_result"
    }
   ],
   "source": [
    "missing_values(test_data)"
   ]
  },
  {
   "cell_type": "code",
   "execution_count": 100,
   "metadata": {
    "_uuid": "ce34a2cc779f148ac50be8d1658a7db3cdac0ef9"
   },
   "outputs": [],
   "source": [
    "cols = ['category_2', 'avg_sales_lag3', 'avg_sales_lag6', 'avg_sales_lag12']\n",
    "\n",
    "for col in cols:\n",
    "    test_data[col] = test_data[col].fillna(test_data[col].mean())"
   ]
  },
  {
   "cell_type": "code",
   "execution_count": 101,
   "metadata": {
    "_uuid": "fe305d8f8c9146921a35f282a0f266998e36012b"
   },
   "outputs": [
    {
     "name": "stdout",
     "output_type": "stream",
     "text": [
      "You data contains 43 columns and has 0 colums with missing values\n"
     ]
    },
    {
     "data": {
      "text/html": [
       "<div>\n",
       "<style scoped>\n",
       "    .dataframe tbody tr th:only-of-type {\n",
       "        vertical-align: middle;\n",
       "    }\n",
       "\n",
       "    .dataframe tbody tr th {\n",
       "        vertical-align: top;\n",
       "    }\n",
       "\n",
       "    .dataframe thead th {\n",
       "        text-align: right;\n",
       "    }\n",
       "</style>\n",
       "<table border=\"1\" class=\"dataframe\">\n",
       "  <thead>\n",
       "    <tr style=\"text-align: right;\">\n",
       "      <th></th>\n",
       "      <th>Total Miss Values</th>\n",
       "      <th>% of miss values</th>\n",
       "    </tr>\n",
       "  </thead>\n",
       "  <tbody>\n",
       "  </tbody>\n",
       "</table>\n",
       "</div>"
      ],
      "text/plain": [
       "Empty DataFrame\n",
       "Columns: [Total Miss Values, % of miss values]\n",
       "Index: []"
      ]
     },
     "execution_count": 101,
     "metadata": {},
     "output_type": "execute_result"
    }
   ],
   "source": [
    "missing_values(test_data)"
   ]
  },
  {
   "cell_type": "markdown",
   "metadata": {
    "_uuid": "c32c430097488517e13cf26cd4d9aedcb499dbd0"
   },
   "source": [
    "Now that we have filled all the nulls both in training data and testing dataset, we can then work with categorical features, map the ones that have few categorical features and create dummy features for those that have lots of uniques categorical features"
   ]
  },
  {
   "cell_type": "code",
   "execution_count": 102,
   "metadata": {
    "_uuid": "844e260b54176f576a56586dc6229ca5803bc429",
    "scrolled": true
   },
   "outputs": [],
   "source": [
    "# Lets change the First_active_month column from string to date.\n",
    "\n",
    "data['first_active_month'] = pd.to_datetime(data['first_active_month'])\n",
    "\n",
    "# Also do this to the test dataset\n",
    "\n",
    "test_data['first_active_month'] = pd.to_datetime(test_data['first_active_month'])\n",
    "\n",
    "data['purchase_date'] = pd.to_datetime(data['purchase_date'])\n",
    "test_data['purchase_date'] = pd.to_datetime(test_data['purchase_date'])"
   ]
  },
  {
   "cell_type": "code",
   "execution_count": 103,
   "metadata": {
    "_uuid": "2540ec11f445dbe1341208f49bb9f33dc0093879"
   },
   "outputs": [],
   "source": [
    "data['purchase_time'] = pd.to_timedelta(data['purchase_time'])\n",
    "test_data['purchase_time'] = pd.to_timedelta(test_data['purchase_time'])"
   ]
  },
  {
   "cell_type": "code",
   "execution_count": 104,
   "metadata": {
    "_uuid": "0cc86d8122409f41774f9627b2b85be2c8e626a0"
   },
   "outputs": [
    {
     "data": {
      "text/html": [
       "<div>\n",
       "<style scoped>\n",
       "    .dataframe tbody tr th:only-of-type {\n",
       "        vertical-align: middle;\n",
       "    }\n",
       "\n",
       "    .dataframe tbody tr th {\n",
       "        vertical-align: top;\n",
       "    }\n",
       "\n",
       "    .dataframe thead th {\n",
       "        text-align: right;\n",
       "    }\n",
       "</style>\n",
       "<table border=\"1\" class=\"dataframe\">\n",
       "  <thead>\n",
       "    <tr style=\"text-align: right;\">\n",
       "      <th></th>\n",
       "      <th>merchant_id</th>\n",
       "      <th>merchant_group_id</th>\n",
       "      <th>numerical_1</th>\n",
       "      <th>numerical_2</th>\n",
       "      <th>most_recent_sales_range</th>\n",
       "      <th>most_recent_purchases_range</th>\n",
       "      <th>avg_sales_lag3</th>\n",
       "      <th>avg_purchases_lag3</th>\n",
       "      <th>active_months_lag3</th>\n",
       "      <th>avg_sales_lag6</th>\n",
       "      <th>...</th>\n",
       "      <th>purchase_time</th>\n",
       "      <th>purchase_weekday</th>\n",
       "      <th>purchase_month</th>\n",
       "      <th>first_active_month2</th>\n",
       "      <th>first_active_year</th>\n",
       "      <th>temp</th>\n",
       "      <th>purchase_session</th>\n",
       "      <th>time_of_month_cat</th>\n",
       "      <th>time_of_month_num</th>\n",
       "      <th>end_of_month</th>\n",
       "    </tr>\n",
       "  </thead>\n",
       "  <tbody>\n",
       "    <tr>\n",
       "      <th>0</th>\n",
       "      <td>M_ID_c9eb20f6f5</td>\n",
       "      <td>25449</td>\n",
       "      <td>-0.057471</td>\n",
       "      <td>-0.057471</td>\n",
       "      <td>E</td>\n",
       "      <td>E</td>\n",
       "      <td>45.534707</td>\n",
       "      <td>1.666667</td>\n",
       "      <td>3</td>\n",
       "      <td>45.211503</td>\n",
       "      <td>...</td>\n",
       "      <td>0 days 11:45:08</td>\n",
       "      <td>Wednesday</td>\n",
       "      <td>April</td>\n",
       "      <td>November</td>\n",
       "      <td>2013</td>\n",
       "      <td>[11, 45, 08]</td>\n",
       "      <td>Morning</td>\n",
       "      <td>Middle</td>\n",
       "      <td>11</td>\n",
       "      <td>N</td>\n",
       "    </tr>\n",
       "    <tr>\n",
       "      <th>1</th>\n",
       "      <td>M_ID_c9855bf3e3</td>\n",
       "      <td>321</td>\n",
       "      <td>-0.057471</td>\n",
       "      <td>-0.057471</td>\n",
       "      <td>E</td>\n",
       "      <td>E</td>\n",
       "      <td>45.534707</td>\n",
       "      <td>1084.000000</td>\n",
       "      <td>3</td>\n",
       "      <td>45.211503</td>\n",
       "      <td>...</td>\n",
       "      <td>0 days 23:30:27</td>\n",
       "      <td>Sunday</td>\n",
       "      <td>November</td>\n",
       "      <td>March</td>\n",
       "      <td>2017</td>\n",
       "      <td>[23, 30, 27]</td>\n",
       "      <td>Night</td>\n",
       "      <td>Beginning</td>\n",
       "      <td>5</td>\n",
       "      <td>N</td>\n",
       "    </tr>\n",
       "    <tr>\n",
       "      <th>2</th>\n",
       "      <td>M_ID_c9855bf3e3</td>\n",
       "      <td>321</td>\n",
       "      <td>-0.057471</td>\n",
       "      <td>-0.057471</td>\n",
       "      <td>E</td>\n",
       "      <td>E</td>\n",
       "      <td>45.534707</td>\n",
       "      <td>1084.000000</td>\n",
       "      <td>3</td>\n",
       "      <td>45.211503</td>\n",
       "      <td>...</td>\n",
       "      <td>0 days 18:56:03</td>\n",
       "      <td>Tuesday</td>\n",
       "      <td>November</td>\n",
       "      <td>September</td>\n",
       "      <td>2017</td>\n",
       "      <td>[18, 56, 03]</td>\n",
       "      <td>Evening</td>\n",
       "      <td>End</td>\n",
       "      <td>28</td>\n",
       "      <td>Y</td>\n",
       "    </tr>\n",
       "    <tr>\n",
       "      <th>3</th>\n",
       "      <td>M_ID_c9855bf3e3</td>\n",
       "      <td>321</td>\n",
       "      <td>-0.057471</td>\n",
       "      <td>-0.057471</td>\n",
       "      <td>E</td>\n",
       "      <td>E</td>\n",
       "      <td>45.534707</td>\n",
       "      <td>1084.000000</td>\n",
       "      <td>3</td>\n",
       "      <td>45.211503</td>\n",
       "      <td>...</td>\n",
       "      <td>0 days 01:02:17</td>\n",
       "      <td>Sunday</td>\n",
       "      <td>November</td>\n",
       "      <td>August</td>\n",
       "      <td>2015</td>\n",
       "      <td>[1, 02, 17]</td>\n",
       "      <td>Night</td>\n",
       "      <td>Beginning</td>\n",
       "      <td>5</td>\n",
       "      <td>N</td>\n",
       "    </tr>\n",
       "    <tr>\n",
       "      <th>4</th>\n",
       "      <td>M_ID_c9855bf3e3</td>\n",
       "      <td>321</td>\n",
       "      <td>-0.057471</td>\n",
       "      <td>-0.057471</td>\n",
       "      <td>E</td>\n",
       "      <td>E</td>\n",
       "      <td>45.534707</td>\n",
       "      <td>1084.000000</td>\n",
       "      <td>3</td>\n",
       "      <td>45.211503</td>\n",
       "      <td>...</td>\n",
       "      <td>0 days 15:27:47</td>\n",
       "      <td>Friday</td>\n",
       "      <td>December</td>\n",
       "      <td>June</td>\n",
       "      <td>2017</td>\n",
       "      <td>[15, 27, 47]</td>\n",
       "      <td>Afternoon</td>\n",
       "      <td>End</td>\n",
       "      <td>22</td>\n",
       "      <td>N</td>\n",
       "    </tr>\n",
       "  </tbody>\n",
       "</table>\n",
       "<p>5 rows × 44 columns</p>\n",
       "</div>"
      ],
      "text/plain": [
       "       merchant_id  merchant_group_id  numerical_1  numerical_2  \\\n",
       "0  M_ID_c9eb20f6f5              25449    -0.057471    -0.057471   \n",
       "1  M_ID_c9855bf3e3                321    -0.057471    -0.057471   \n",
       "2  M_ID_c9855bf3e3                321    -0.057471    -0.057471   \n",
       "3  M_ID_c9855bf3e3                321    -0.057471    -0.057471   \n",
       "4  M_ID_c9855bf3e3                321    -0.057471    -0.057471   \n",
       "\n",
       "  most_recent_sales_range most_recent_purchases_range  avg_sales_lag3  \\\n",
       "0                       E                           E       45.534707   \n",
       "1                       E                           E       45.534707   \n",
       "2                       E                           E       45.534707   \n",
       "3                       E                           E       45.534707   \n",
       "4                       E                           E       45.534707   \n",
       "\n",
       "   avg_purchases_lag3  active_months_lag3  avg_sales_lag6  ...  \\\n",
       "0            1.666667                   3       45.211503  ...   \n",
       "1         1084.000000                   3       45.211503  ...   \n",
       "2         1084.000000                   3       45.211503  ...   \n",
       "3         1084.000000                   3       45.211503  ...   \n",
       "4         1084.000000                   3       45.211503  ...   \n",
       "\n",
       "    purchase_time  purchase_weekday  purchase_month  first_active_month2  \\\n",
       "0 0 days 11:45:08         Wednesday           April             November   \n",
       "1 0 days 23:30:27            Sunday        November                March   \n",
       "2 0 days 18:56:03           Tuesday        November            September   \n",
       "3 0 days 01:02:17            Sunday        November               August   \n",
       "4 0 days 15:27:47            Friday        December                 June   \n",
       "\n",
       "   first_active_year          temp purchase_session time_of_month_cat  \\\n",
       "0               2013  [11, 45, 08]          Morning            Middle   \n",
       "1               2017  [23, 30, 27]            Night         Beginning   \n",
       "2               2017  [18, 56, 03]          Evening               End   \n",
       "3               2015   [1, 02, 17]            Night         Beginning   \n",
       "4               2017  [15, 27, 47]        Afternoon               End   \n",
       "\n",
       "   time_of_month_num end_of_month  \n",
       "0                 11            N  \n",
       "1                  5            N  \n",
       "2                 28            Y  \n",
       "3                  5            N  \n",
       "4                 22            N  \n",
       "\n",
       "[5 rows x 44 columns]"
      ]
     },
     "execution_count": 104,
     "metadata": {},
     "output_type": "execute_result"
    }
   ],
   "source": [
    "data[:5]"
   ]
  },
  {
   "cell_type": "code",
   "execution_count": 105,
   "metadata": {
    "_uuid": "07bc404d4b97de37faf010d125701c407e0e897b"
   },
   "outputs": [
    {
     "data": {
      "text/html": [
       "<div>\n",
       "<style scoped>\n",
       "    .dataframe tbody tr th:only-of-type {\n",
       "        vertical-align: middle;\n",
       "    }\n",
       "\n",
       "    .dataframe tbody tr th {\n",
       "        vertical-align: top;\n",
       "    }\n",
       "\n",
       "    .dataframe thead th {\n",
       "        text-align: right;\n",
       "    }\n",
       "</style>\n",
       "<table border=\"1\" class=\"dataframe\">\n",
       "  <thead>\n",
       "    <tr style=\"text-align: right;\">\n",
       "      <th></th>\n",
       "      <th>merchant_id</th>\n",
       "      <th>merchant_group_id</th>\n",
       "      <th>numerical_1</th>\n",
       "      <th>numerical_2</th>\n",
       "      <th>most_recent_sales_range</th>\n",
       "      <th>most_recent_purchases_range</th>\n",
       "      <th>avg_sales_lag3</th>\n",
       "      <th>avg_purchases_lag3</th>\n",
       "      <th>active_months_lag3</th>\n",
       "      <th>avg_sales_lag6</th>\n",
       "      <th>...</th>\n",
       "      <th>purchase_time</th>\n",
       "      <th>purchase_weekday</th>\n",
       "      <th>purchase_month</th>\n",
       "      <th>first_active_month2</th>\n",
       "      <th>first_active_year</th>\n",
       "      <th>temp</th>\n",
       "      <th>purchase_session</th>\n",
       "      <th>time_of_month_cat</th>\n",
       "      <th>time_of_month_num</th>\n",
       "      <th>end_of_month</th>\n",
       "    </tr>\n",
       "  </thead>\n",
       "  <tbody>\n",
       "    <tr>\n",
       "      <th>0</th>\n",
       "      <td>M_ID_a70e9c5f81</td>\n",
       "      <td>5026</td>\n",
       "      <td>-0.057471</td>\n",
       "      <td>-0.057471</td>\n",
       "      <td>E</td>\n",
       "      <td>E</td>\n",
       "      <td>38.47594</td>\n",
       "      <td>1.666667</td>\n",
       "      <td>3</td>\n",
       "      <td>36.517076</td>\n",
       "      <td>...</td>\n",
       "      <td>0 days 14:51:53</td>\n",
       "      <td>Monday</td>\n",
       "      <td>March</td>\n",
       "      <td>October</td>\n",
       "      <td>2017</td>\n",
       "      <td>[14, 51, 53]</td>\n",
       "      <td>Afternoon</td>\n",
       "      <td>Beginning</td>\n",
       "      <td>5</td>\n",
       "      <td>N</td>\n",
       "    </tr>\n",
       "    <tr>\n",
       "      <th>1</th>\n",
       "      <td>M_ID_d8ff08219e</td>\n",
       "      <td>16430</td>\n",
       "      <td>-0.057471</td>\n",
       "      <td>-0.057471</td>\n",
       "      <td>E</td>\n",
       "      <td>E</td>\n",
       "      <td>38.47594</td>\n",
       "      <td>1.000000</td>\n",
       "      <td>3</td>\n",
       "      <td>36.517076</td>\n",
       "      <td>...</td>\n",
       "      <td>0 days 22:19:58</td>\n",
       "      <td>Thursday</td>\n",
       "      <td>March</td>\n",
       "      <td>July</td>\n",
       "      <td>2016</td>\n",
       "      <td>[22, 19, 58]</td>\n",
       "      <td>Night</td>\n",
       "      <td>Beginning</td>\n",
       "      <td>8</td>\n",
       "      <td>N</td>\n",
       "    </tr>\n",
       "    <tr>\n",
       "      <th>2</th>\n",
       "      <td>M_ID_c9855bf3e3</td>\n",
       "      <td>321</td>\n",
       "      <td>-0.057471</td>\n",
       "      <td>-0.057471</td>\n",
       "      <td>E</td>\n",
       "      <td>E</td>\n",
       "      <td>38.47594</td>\n",
       "      <td>1084.000000</td>\n",
       "      <td>3</td>\n",
       "      <td>36.517076</td>\n",
       "      <td>...</td>\n",
       "      <td>0 days 17:19:42</td>\n",
       "      <td>Monday</td>\n",
       "      <td>April</td>\n",
       "      <td>August</td>\n",
       "      <td>2017</td>\n",
       "      <td>[17, 19, 42]</td>\n",
       "      <td>Evening</td>\n",
       "      <td>End</td>\n",
       "      <td>23</td>\n",
       "      <td>N</td>\n",
       "    </tr>\n",
       "    <tr>\n",
       "      <th>3</th>\n",
       "      <td>M_ID_c9855bf3e3</td>\n",
       "      <td>321</td>\n",
       "      <td>-0.057471</td>\n",
       "      <td>-0.057471</td>\n",
       "      <td>E</td>\n",
       "      <td>E</td>\n",
       "      <td>38.47594</td>\n",
       "      <td>1084.000000</td>\n",
       "      <td>3</td>\n",
       "      <td>36.517076</td>\n",
       "      <td>...</td>\n",
       "      <td>0 days 23:24:49</td>\n",
       "      <td>Monday</td>\n",
       "      <td>March</td>\n",
       "      <td>November</td>\n",
       "      <td>2017</td>\n",
       "      <td>[23, 24, 49]</td>\n",
       "      <td>Night</td>\n",
       "      <td>Middle</td>\n",
       "      <td>19</td>\n",
       "      <td>N</td>\n",
       "    </tr>\n",
       "    <tr>\n",
       "      <th>4</th>\n",
       "      <td>M_ID_c9855bf3e3</td>\n",
       "      <td>321</td>\n",
       "      <td>-0.057471</td>\n",
       "      <td>-0.057471</td>\n",
       "      <td>E</td>\n",
       "      <td>E</td>\n",
       "      <td>38.47594</td>\n",
       "      <td>1084.000000</td>\n",
       "      <td>3</td>\n",
       "      <td>36.517076</td>\n",
       "      <td>...</td>\n",
       "      <td>0 days 15:07:04</td>\n",
       "      <td>Wednesday</td>\n",
       "      <td>January</td>\n",
       "      <td>February</td>\n",
       "      <td>2017</td>\n",
       "      <td>[15, 07, 04]</td>\n",
       "      <td>Afternoon</td>\n",
       "      <td>Middle</td>\n",
       "      <td>10</td>\n",
       "      <td>N</td>\n",
       "    </tr>\n",
       "  </tbody>\n",
       "</table>\n",
       "<p>5 rows × 43 columns</p>\n",
       "</div>"
      ],
      "text/plain": [
       "       merchant_id  merchant_group_id  numerical_1  numerical_2  \\\n",
       "0  M_ID_a70e9c5f81               5026    -0.057471    -0.057471   \n",
       "1  M_ID_d8ff08219e              16430    -0.057471    -0.057471   \n",
       "2  M_ID_c9855bf3e3                321    -0.057471    -0.057471   \n",
       "3  M_ID_c9855bf3e3                321    -0.057471    -0.057471   \n",
       "4  M_ID_c9855bf3e3                321    -0.057471    -0.057471   \n",
       "\n",
       "  most_recent_sales_range most_recent_purchases_range  avg_sales_lag3  \\\n",
       "0                       E                           E        38.47594   \n",
       "1                       E                           E        38.47594   \n",
       "2                       E                           E        38.47594   \n",
       "3                       E                           E        38.47594   \n",
       "4                       E                           E        38.47594   \n",
       "\n",
       "   avg_purchases_lag3  active_months_lag3  avg_sales_lag6  ...  \\\n",
       "0            1.666667                   3       36.517076  ...   \n",
       "1            1.000000                   3       36.517076  ...   \n",
       "2         1084.000000                   3       36.517076  ...   \n",
       "3         1084.000000                   3       36.517076  ...   \n",
       "4         1084.000000                   3       36.517076  ...   \n",
       "\n",
       "    purchase_time  purchase_weekday  purchase_month  first_active_month2  \\\n",
       "0 0 days 14:51:53            Monday           March              October   \n",
       "1 0 days 22:19:58          Thursday           March                 July   \n",
       "2 0 days 17:19:42            Monday           April               August   \n",
       "3 0 days 23:24:49            Monday           March             November   \n",
       "4 0 days 15:07:04         Wednesday         January             February   \n",
       "\n",
       "   first_active_year          temp purchase_session time_of_month_cat  \\\n",
       "0               2017  [14, 51, 53]        Afternoon         Beginning   \n",
       "1               2016  [22, 19, 58]            Night         Beginning   \n",
       "2               2017  [17, 19, 42]          Evening               End   \n",
       "3               2017  [23, 24, 49]            Night            Middle   \n",
       "4               2017  [15, 07, 04]        Afternoon            Middle   \n",
       "\n",
       "   time_of_month_num end_of_month  \n",
       "0                  5            N  \n",
       "1                  8            N  \n",
       "2                 23            N  \n",
       "3                 19            N  \n",
       "4                 10            N  \n",
       "\n",
       "[5 rows x 43 columns]"
      ]
     },
     "execution_count": 105,
     "metadata": {},
     "output_type": "execute_result"
    }
   ],
   "source": [
    "test_data[:5]"
   ]
  },
  {
   "cell_type": "code",
   "execution_count": 106,
   "metadata": {
    "_uuid": "93ab668167c7a76dc95b8320ee6f7ef489626ee3"
   },
   "outputs": [
    {
     "name": "stdout",
     "output_type": "stream",
     "text": [
      "train: (1215489, 44), Test: (745364, 43)\n",
      "train: (1215489, 41), test: (745364, 40)\n"
     ]
    }
   ],
   "source": [
    "print(f'train: {data.shape}, Test: {test_data.shape}')\n",
    "\n",
    "cols = ['merchant_id', 'card_id', 'temp']\n",
    "\n",
    "for col in cols:\n",
    "    data.drop([col], axis = 1, inplace = True)\n",
    "    test_data.drop([col], axis = 1, inplace = True)\n",
    "    \n",
    "print(f'train: {data.shape}, test: {test_data.shape}')"
   ]
  },
  {
   "cell_type": "code",
   "execution_count": 107,
   "metadata": {
    "_uuid": "72aa8944cbc1511169d3883d06bab11d65544511"
   },
   "outputs": [
    {
     "name": "stdout",
     "output_type": "stream",
     "text": [
      "most_recent_sales_range\n",
      "most_recent_sales_range\n",
      "C    326322\n",
      "D    308003\n",
      "A    235539\n",
      "B    201442\n",
      "E    144183\n",
      "Name: count, dtype: int64\n",
      "========================================\n",
      "most_recent_purchases_range\n",
      "most_recent_purchases_range\n",
      "C    335820\n",
      "D    323135\n",
      "A    245636\n",
      "B    191056\n",
      "E    119842\n",
      "Name: count, dtype: int64\n",
      "========================================\n",
      "category_4\n",
      "category_4\n",
      "Y    614329\n",
      "N    601160\n",
      "Name: count, dtype: int64\n",
      "========================================\n",
      "authorized_flag\n",
      "authorized_flag\n",
      "Y    1215489\n",
      "Name: count, dtype: int64\n",
      "========================================\n",
      "category_1\n",
      "category_1\n",
      "N    1175278\n",
      "Y      40211\n",
      "Name: count, dtype: int64\n",
      "========================================\n",
      "category_3\n",
      "category_3\n",
      "A    603626\n",
      "B    517052\n",
      "C     94811\n",
      "Name: count, dtype: int64\n",
      "========================================\n",
      "end_of_month\n",
      "end_of_month\n",
      "N    961171\n",
      "Y    254318\n",
      "Name: count, dtype: int64\n",
      "========================================\n"
     ]
    }
   ],
   "source": [
    "catcols = data.select_dtypes(['object'])\n",
    "\n",
    "for col in catcols:\n",
    "    print(col)\n",
    "    print(data[col].value_counts())\n",
    "    print('==' * 20)"
   ]
  },
  {
   "cell_type": "code",
   "execution_count": 108,
   "metadata": {
    "_uuid": "2124fbae5b2db16b95995ea8eb8baf6609045f90"
   },
   "outputs": [],
   "source": [
    "data['most_recent_sales_range'] = data['most_recent_sales_range'].map({'A':0, 'B':1, 'C':2, 'D':3, 'E':4})\n",
    "data['most_recent_purchases_range'] = data['most_recent_purchases_range'].map({'A':0, 'B':1, 'C':2, 'D':3, 'E':4})\n",
    "data['category_4'] = data['category_4'].map({'Y':1, 'N':0})\n",
    "data['authorized_flag'] = data['authorized_flag'].map({'Y':0})\n",
    "data['category_1'] = data['category_1'].map({'Y':1, 'N':0})\n",
    "data['category_3'] = data['category_3'].map({'A':0, 'B':1, 'C':2})\n",
    "data['end_of_month'] = data['end_of_month'].map({'Y':1, 'N':0})\n",
    "\n",
    "\n",
    "test_data['most_recent_sales_range'] = test_data['most_recent_sales_range'].map({'A':0, 'B':1, 'C':2, 'D':3, 'E':4})\n",
    "test_data['most_recent_purchases_range'] = test_data['most_recent_purchases_range'].map({'A':0, 'B':1, 'C':2, 'D':3, 'E':4})\n",
    "test_data['category_4'] = test_data['category_4'].map({'Y':1, 'N':0})\n",
    "test_data['authorized_flag'] = test_data['authorized_flag'].map({'Y':0})\n",
    "test_data['category_1'] = test_data['category_1'].map({'Y':1, 'N':0})\n",
    "test_data['category_3'] = test_data['category_3'].map({'A':0, 'B':1, 'C':2})\n",
    "test_data['end_of_month'] = test_data['end_of_month'].map({'Y':1, 'N':0})"
   ]
  },
  {
   "cell_type": "code",
   "execution_count": 109,
   "metadata": {
    "_uuid": "65b868ef288d2bc6b80459d499a5a04f60b373a2"
   },
   "outputs": [],
   "source": [
    "catcols = data.select_dtypes(['object'])\n",
    "\n",
    "for col in catcols:\n",
    "    print(col)\n",
    "    print(data[col].value_counts())\n",
    "    print('==' * 20)"
   ]
  },
  {
   "cell_type": "code",
   "execution_count": 110,
   "metadata": {
    "_uuid": "48acbb696ab45767463c7dd7dc7eb112b693dbfa"
   },
   "outputs": [
    {
     "data": {
      "text/html": [
       "<div>\n",
       "<style scoped>\n",
       "    .dataframe tbody tr th:only-of-type {\n",
       "        vertical-align: middle;\n",
       "    }\n",
       "\n",
       "    .dataframe tbody tr th {\n",
       "        vertical-align: top;\n",
       "    }\n",
       "\n",
       "    .dataframe thead th {\n",
       "        text-align: right;\n",
       "    }\n",
       "</style>\n",
       "<table border=\"1\" class=\"dataframe\">\n",
       "  <thead>\n",
       "    <tr style=\"text-align: right;\">\n",
       "      <th></th>\n",
       "      <th>merchant_group_id</th>\n",
       "      <th>numerical_1</th>\n",
       "      <th>numerical_2</th>\n",
       "      <th>most_recent_sales_range</th>\n",
       "      <th>most_recent_purchases_range</th>\n",
       "      <th>avg_sales_lag3</th>\n",
       "      <th>avg_purchases_lag3</th>\n",
       "      <th>active_months_lag3</th>\n",
       "      <th>avg_sales_lag6</th>\n",
       "      <th>avg_purchases_lag6</th>\n",
       "      <th>...</th>\n",
       "      <th>target</th>\n",
       "      <th>purchase_time</th>\n",
       "      <th>purchase_weekday</th>\n",
       "      <th>purchase_month</th>\n",
       "      <th>first_active_month2</th>\n",
       "      <th>first_active_year</th>\n",
       "      <th>purchase_session</th>\n",
       "      <th>time_of_month_cat</th>\n",
       "      <th>time_of_month_num</th>\n",
       "      <th>end_of_month</th>\n",
       "    </tr>\n",
       "  </thead>\n",
       "  <tbody>\n",
       "    <tr>\n",
       "      <th>0</th>\n",
       "      <td>25449</td>\n",
       "      <td>-0.057471</td>\n",
       "      <td>-0.057471</td>\n",
       "      <td>4</td>\n",
       "      <td>4</td>\n",
       "      <td>45.534707</td>\n",
       "      <td>1.666667</td>\n",
       "      <td>3</td>\n",
       "      <td>45.211503</td>\n",
       "      <td>1.666667</td>\n",
       "      <td>...</td>\n",
       "      <td>-0.242904</td>\n",
       "      <td>0 days 11:45:08</td>\n",
       "      <td>Wednesday</td>\n",
       "      <td>April</td>\n",
       "      <td>November</td>\n",
       "      <td>2013</td>\n",
       "      <td>Morning</td>\n",
       "      <td>Middle</td>\n",
       "      <td>11</td>\n",
       "      <td>0</td>\n",
       "    </tr>\n",
       "    <tr>\n",
       "      <th>1</th>\n",
       "      <td>321</td>\n",
       "      <td>-0.057471</td>\n",
       "      <td>-0.057471</td>\n",
       "      <td>4</td>\n",
       "      <td>4</td>\n",
       "      <td>45.534707</td>\n",
       "      <td>1084.000000</td>\n",
       "      <td>3</td>\n",
       "      <td>45.211503</td>\n",
       "      <td>3432.666667</td>\n",
       "      <td>...</td>\n",
       "      <td>-1.197832</td>\n",
       "      <td>0 days 23:30:27</td>\n",
       "      <td>Sunday</td>\n",
       "      <td>November</td>\n",
       "      <td>March</td>\n",
       "      <td>2017</td>\n",
       "      <td>Night</td>\n",
       "      <td>Beginning</td>\n",
       "      <td>5</td>\n",
       "      <td>0</td>\n",
       "    </tr>\n",
       "    <tr>\n",
       "      <th>2</th>\n",
       "      <td>321</td>\n",
       "      <td>-0.057471</td>\n",
       "      <td>-0.057471</td>\n",
       "      <td>4</td>\n",
       "      <td>4</td>\n",
       "      <td>45.534707</td>\n",
       "      <td>1084.000000</td>\n",
       "      <td>3</td>\n",
       "      <td>45.211503</td>\n",
       "      <td>3432.666667</td>\n",
       "      <td>...</td>\n",
       "      <td>-0.376280</td>\n",
       "      <td>0 days 18:56:03</td>\n",
       "      <td>Tuesday</td>\n",
       "      <td>November</td>\n",
       "      <td>September</td>\n",
       "      <td>2017</td>\n",
       "      <td>Evening</td>\n",
       "      <td>End</td>\n",
       "      <td>28</td>\n",
       "      <td>1</td>\n",
       "    </tr>\n",
       "    <tr>\n",
       "      <th>3</th>\n",
       "      <td>321</td>\n",
       "      <td>-0.057471</td>\n",
       "      <td>-0.057471</td>\n",
       "      <td>4</td>\n",
       "      <td>4</td>\n",
       "      <td>45.534707</td>\n",
       "      <td>1084.000000</td>\n",
       "      <td>3</td>\n",
       "      <td>45.211503</td>\n",
       "      <td>3432.666667</td>\n",
       "      <td>...</td>\n",
       "      <td>-0.259445</td>\n",
       "      <td>0 days 01:02:17</td>\n",
       "      <td>Sunday</td>\n",
       "      <td>November</td>\n",
       "      <td>August</td>\n",
       "      <td>2015</td>\n",
       "      <td>Night</td>\n",
       "      <td>Beginning</td>\n",
       "      <td>5</td>\n",
       "      <td>0</td>\n",
       "    </tr>\n",
       "    <tr>\n",
       "      <th>4</th>\n",
       "      <td>321</td>\n",
       "      <td>-0.057471</td>\n",
       "      <td>-0.057471</td>\n",
       "      <td>4</td>\n",
       "      <td>4</td>\n",
       "      <td>45.534707</td>\n",
       "      <td>1084.000000</td>\n",
       "      <td>3</td>\n",
       "      <td>45.211503</td>\n",
       "      <td>3432.666667</td>\n",
       "      <td>...</td>\n",
       "      <td>-2.570895</td>\n",
       "      <td>0 days 15:27:47</td>\n",
       "      <td>Friday</td>\n",
       "      <td>December</td>\n",
       "      <td>June</td>\n",
       "      <td>2017</td>\n",
       "      <td>Afternoon</td>\n",
       "      <td>End</td>\n",
       "      <td>22</td>\n",
       "      <td>0</td>\n",
       "    </tr>\n",
       "  </tbody>\n",
       "</table>\n",
       "<p>5 rows × 41 columns</p>\n",
       "</div>"
      ],
      "text/plain": [
       "   merchant_group_id  numerical_1  numerical_2  most_recent_sales_range  \\\n",
       "0              25449    -0.057471    -0.057471                        4   \n",
       "1                321    -0.057471    -0.057471                        4   \n",
       "2                321    -0.057471    -0.057471                        4   \n",
       "3                321    -0.057471    -0.057471                        4   \n",
       "4                321    -0.057471    -0.057471                        4   \n",
       "\n",
       "   most_recent_purchases_range  avg_sales_lag3  avg_purchases_lag3  \\\n",
       "0                            4       45.534707            1.666667   \n",
       "1                            4       45.534707         1084.000000   \n",
       "2                            4       45.534707         1084.000000   \n",
       "3                            4       45.534707         1084.000000   \n",
       "4                            4       45.534707         1084.000000   \n",
       "\n",
       "   active_months_lag3  avg_sales_lag6  avg_purchases_lag6  ...    target  \\\n",
       "0                   3       45.211503            1.666667  ... -0.242904   \n",
       "1                   3       45.211503         3432.666667  ... -1.197832   \n",
       "2                   3       45.211503         3432.666667  ... -0.376280   \n",
       "3                   3       45.211503         3432.666667  ... -0.259445   \n",
       "4                   3       45.211503         3432.666667  ... -2.570895   \n",
       "\n",
       "    purchase_time  purchase_weekday  purchase_month  first_active_month2  \\\n",
       "0 0 days 11:45:08         Wednesday           April             November   \n",
       "1 0 days 23:30:27            Sunday        November                March   \n",
       "2 0 days 18:56:03           Tuesday        November            September   \n",
       "3 0 days 01:02:17            Sunday        November               August   \n",
       "4 0 days 15:27:47            Friday        December                 June   \n",
       "\n",
       "   first_active_year  purchase_session  time_of_month_cat  time_of_month_num  \\\n",
       "0               2013           Morning             Middle                 11   \n",
       "1               2017             Night          Beginning                  5   \n",
       "2               2017           Evening                End                 28   \n",
       "3               2015             Night          Beginning                  5   \n",
       "4               2017         Afternoon                End                 22   \n",
       "\n",
       "   end_of_month  \n",
       "0             0  \n",
       "1             0  \n",
       "2             1  \n",
       "3             0  \n",
       "4             0  \n",
       "\n",
       "[5 rows x 41 columns]"
      ]
     },
     "execution_count": 110,
     "metadata": {},
     "output_type": "execute_result"
    }
   ],
   "source": [
    "data[:5]"
   ]
  },
  {
   "cell_type": "code",
   "execution_count": 111,
   "metadata": {
    "_uuid": "dd08b79e0a7a53f17ed83ffb40af28718f9735a1"
   },
   "outputs": [
    {
     "name": "stdout",
     "output_type": "stream",
     "text": [
      "<class 'pandas.core.frame.DataFrame'>\n",
      "RangeIndex: 1215489 entries, 0 to 1215488\n",
      "Data columns (total 41 columns):\n",
      " #   Column                       Non-Null Count    Dtype          \n",
      "---  ------                       --------------    -----          \n",
      " 0   merchant_group_id            1215489 non-null  int64          \n",
      " 1   numerical_1                  1215489 non-null  float64        \n",
      " 2   numerical_2                  1215489 non-null  float64        \n",
      " 3   most_recent_sales_range      1215489 non-null  int64          \n",
      " 4   most_recent_purchases_range  1215489 non-null  int64          \n",
      " 5   avg_sales_lag3               1215489 non-null  float64        \n",
      " 6   avg_purchases_lag3           1215489 non-null  float64        \n",
      " 7   active_months_lag3           1215489 non-null  int64          \n",
      " 8   avg_sales_lag6               1215489 non-null  float64        \n",
      " 9   avg_purchases_lag6           1215489 non-null  float64        \n",
      " 10  active_months_lag6           1215489 non-null  int64          \n",
      " 11  avg_sales_lag12              1215489 non-null  float64        \n",
      " 12  avg_purchases_lag12          1215489 non-null  float64        \n",
      " 13  active_months_lag12          1215489 non-null  int64          \n",
      " 14  category_4                   1215489 non-null  int64          \n",
      " 15  authorized_flag              1215489 non-null  int64          \n",
      " 16  city_id                      1215489 non-null  int64          \n",
      " 17  category_1                   1215489 non-null  int64          \n",
      " 18  installments                 1215489 non-null  int64          \n",
      " 19  category_3                   1215489 non-null  int64          \n",
      " 20  merchant_category_id         1215489 non-null  int64          \n",
      " 21  month_lag                    1215489 non-null  int64          \n",
      " 22  purchase_amount              1215489 non-null  float64        \n",
      " 23  purchase_date                1215489 non-null  datetime64[ns] \n",
      " 24  category_2                   1215489 non-null  float64        \n",
      " 25  state_id                     1215489 non-null  int64          \n",
      " 26  subsector_id                 1215489 non-null  int64          \n",
      " 27  first_active_month           1215489 non-null  datetime64[ns] \n",
      " 28  feature_1                    1215489 non-null  int64          \n",
      " 29  feature_2                    1215489 non-null  int64          \n",
      " 30  feature_3                    1215489 non-null  int64          \n",
      " 31  target                       1215489 non-null  float64        \n",
      " 32  purchase_time                1215489 non-null  timedelta64[ns]\n",
      " 33  purchase_weekday             1215489 non-null  category       \n",
      " 34  purchase_month               1215489 non-null  category       \n",
      " 35  first_active_month2          1215489 non-null  category       \n",
      " 36  first_active_year            1215489 non-null  category       \n",
      " 37  purchase_session             1215489 non-null  category       \n",
      " 38  time_of_month_cat            1215489 non-null  category       \n",
      " 39  time_of_month_num            1215489 non-null  int64          \n",
      " 40  end_of_month                 1215489 non-null  int64          \n",
      "dtypes: category(6), datetime64[ns](2), float64(11), int64(21), timedelta64[ns](1)\n",
      "memory usage: 331.5 MB\n"
     ]
    }
   ],
   "source": [
    "data.info()"
   ]
  },
  {
   "cell_type": "code",
   "execution_count": 112,
   "metadata": {
    "_uuid": "102bcb3217422ee5ca59e2c6878518c22fae7f69"
   },
   "outputs": [],
   "source": [
    "data_app = pd.get_dummies(data)\n",
    "test_app = pd.get_dummies(test_data)"
   ]
  },
  {
   "cell_type": "code",
   "execution_count": 113,
   "metadata": {
    "_uuid": "fc8c1ce35d6a69247aeb71ad4744800f50fdda4e"
   },
   "outputs": [
    {
     "data": {
      "text/html": [
       "<div>\n",
       "<style scoped>\n",
       "    .dataframe tbody tr th:only-of-type {\n",
       "        vertical-align: middle;\n",
       "    }\n",
       "\n",
       "    .dataframe tbody tr th {\n",
       "        vertical-align: top;\n",
       "    }\n",
       "\n",
       "    .dataframe thead th {\n",
       "        text-align: right;\n",
       "    }\n",
       "</style>\n",
       "<table border=\"1\" class=\"dataframe\">\n",
       "  <thead>\n",
       "    <tr style=\"text-align: right;\">\n",
       "      <th></th>\n",
       "      <th>merchant_group_id</th>\n",
       "      <th>numerical_1</th>\n",
       "      <th>numerical_2</th>\n",
       "      <th>most_recent_sales_range</th>\n",
       "      <th>most_recent_purchases_range</th>\n",
       "      <th>avg_sales_lag3</th>\n",
       "      <th>avg_purchases_lag3</th>\n",
       "      <th>active_months_lag3</th>\n",
       "      <th>avg_sales_lag6</th>\n",
       "      <th>avg_purchases_lag6</th>\n",
       "      <th>...</th>\n",
       "      <th>first_active_year_2016</th>\n",
       "      <th>first_active_year_2017</th>\n",
       "      <th>first_active_year_2018</th>\n",
       "      <th>purchase_session_Morning</th>\n",
       "      <th>purchase_session_Afternoon</th>\n",
       "      <th>purchase_session_Evening</th>\n",
       "      <th>purchase_session_Night</th>\n",
       "      <th>time_of_month_cat_Beginning</th>\n",
       "      <th>time_of_month_cat_Middle</th>\n",
       "      <th>time_of_month_cat_End</th>\n",
       "    </tr>\n",
       "  </thead>\n",
       "  <tbody>\n",
       "    <tr>\n",
       "      <th>0</th>\n",
       "      <td>25449</td>\n",
       "      <td>-0.057471</td>\n",
       "      <td>-0.057471</td>\n",
       "      <td>4</td>\n",
       "      <td>4</td>\n",
       "      <td>45.534707</td>\n",
       "      <td>1.666667</td>\n",
       "      <td>3</td>\n",
       "      <td>45.211503</td>\n",
       "      <td>1.666667</td>\n",
       "      <td>...</td>\n",
       "      <td>False</td>\n",
       "      <td>False</td>\n",
       "      <td>False</td>\n",
       "      <td>True</td>\n",
       "      <td>False</td>\n",
       "      <td>False</td>\n",
       "      <td>False</td>\n",
       "      <td>False</td>\n",
       "      <td>True</td>\n",
       "      <td>False</td>\n",
       "    </tr>\n",
       "    <tr>\n",
       "      <th>1</th>\n",
       "      <td>321</td>\n",
       "      <td>-0.057471</td>\n",
       "      <td>-0.057471</td>\n",
       "      <td>4</td>\n",
       "      <td>4</td>\n",
       "      <td>45.534707</td>\n",
       "      <td>1084.000000</td>\n",
       "      <td>3</td>\n",
       "      <td>45.211503</td>\n",
       "      <td>3432.666667</td>\n",
       "      <td>...</td>\n",
       "      <td>False</td>\n",
       "      <td>True</td>\n",
       "      <td>False</td>\n",
       "      <td>False</td>\n",
       "      <td>False</td>\n",
       "      <td>False</td>\n",
       "      <td>True</td>\n",
       "      <td>True</td>\n",
       "      <td>False</td>\n",
       "      <td>False</td>\n",
       "    </tr>\n",
       "    <tr>\n",
       "      <th>2</th>\n",
       "      <td>321</td>\n",
       "      <td>-0.057471</td>\n",
       "      <td>-0.057471</td>\n",
       "      <td>4</td>\n",
       "      <td>4</td>\n",
       "      <td>45.534707</td>\n",
       "      <td>1084.000000</td>\n",
       "      <td>3</td>\n",
       "      <td>45.211503</td>\n",
       "      <td>3432.666667</td>\n",
       "      <td>...</td>\n",
       "      <td>False</td>\n",
       "      <td>True</td>\n",
       "      <td>False</td>\n",
       "      <td>False</td>\n",
       "      <td>False</td>\n",
       "      <td>True</td>\n",
       "      <td>False</td>\n",
       "      <td>False</td>\n",
       "      <td>False</td>\n",
       "      <td>True</td>\n",
       "    </tr>\n",
       "    <tr>\n",
       "      <th>3</th>\n",
       "      <td>321</td>\n",
       "      <td>-0.057471</td>\n",
       "      <td>-0.057471</td>\n",
       "      <td>4</td>\n",
       "      <td>4</td>\n",
       "      <td>45.534707</td>\n",
       "      <td>1084.000000</td>\n",
       "      <td>3</td>\n",
       "      <td>45.211503</td>\n",
       "      <td>3432.666667</td>\n",
       "      <td>...</td>\n",
       "      <td>False</td>\n",
       "      <td>False</td>\n",
       "      <td>False</td>\n",
       "      <td>False</td>\n",
       "      <td>False</td>\n",
       "      <td>False</td>\n",
       "      <td>True</td>\n",
       "      <td>True</td>\n",
       "      <td>False</td>\n",
       "      <td>False</td>\n",
       "    </tr>\n",
       "    <tr>\n",
       "      <th>4</th>\n",
       "      <td>321</td>\n",
       "      <td>-0.057471</td>\n",
       "      <td>-0.057471</td>\n",
       "      <td>4</td>\n",
       "      <td>4</td>\n",
       "      <td>45.534707</td>\n",
       "      <td>1084.000000</td>\n",
       "      <td>3</td>\n",
       "      <td>45.211503</td>\n",
       "      <td>3432.666667</td>\n",
       "      <td>...</td>\n",
       "      <td>False</td>\n",
       "      <td>True</td>\n",
       "      <td>False</td>\n",
       "      <td>False</td>\n",
       "      <td>True</td>\n",
       "      <td>False</td>\n",
       "      <td>False</td>\n",
       "      <td>False</td>\n",
       "      <td>False</td>\n",
       "      <td>True</td>\n",
       "    </tr>\n",
       "  </tbody>\n",
       "</table>\n",
       "<p>5 rows × 81 columns</p>\n",
       "</div>"
      ],
      "text/plain": [
       "   merchant_group_id  numerical_1  numerical_2  most_recent_sales_range  \\\n",
       "0              25449    -0.057471    -0.057471                        4   \n",
       "1                321    -0.057471    -0.057471                        4   \n",
       "2                321    -0.057471    -0.057471                        4   \n",
       "3                321    -0.057471    -0.057471                        4   \n",
       "4                321    -0.057471    -0.057471                        4   \n",
       "\n",
       "   most_recent_purchases_range  avg_sales_lag3  avg_purchases_lag3  \\\n",
       "0                            4       45.534707            1.666667   \n",
       "1                            4       45.534707         1084.000000   \n",
       "2                            4       45.534707         1084.000000   \n",
       "3                            4       45.534707         1084.000000   \n",
       "4                            4       45.534707         1084.000000   \n",
       "\n",
       "   active_months_lag3  avg_sales_lag6  avg_purchases_lag6  ...  \\\n",
       "0                   3       45.211503            1.666667  ...   \n",
       "1                   3       45.211503         3432.666667  ...   \n",
       "2                   3       45.211503         3432.666667  ...   \n",
       "3                   3       45.211503         3432.666667  ...   \n",
       "4                   3       45.211503         3432.666667  ...   \n",
       "\n",
       "   first_active_year_2016  first_active_year_2017  first_active_year_2018  \\\n",
       "0                   False                   False                   False   \n",
       "1                   False                    True                   False   \n",
       "2                   False                    True                   False   \n",
       "3                   False                   False                   False   \n",
       "4                   False                    True                   False   \n",
       "\n",
       "   purchase_session_Morning  purchase_session_Afternoon  \\\n",
       "0                      True                       False   \n",
       "1                     False                       False   \n",
       "2                     False                       False   \n",
       "3                     False                       False   \n",
       "4                     False                        True   \n",
       "\n",
       "   purchase_session_Evening  purchase_session_Night  \\\n",
       "0                     False                   False   \n",
       "1                     False                    True   \n",
       "2                      True                   False   \n",
       "3                     False                    True   \n",
       "4                     False                   False   \n",
       "\n",
       "   time_of_month_cat_Beginning  time_of_month_cat_Middle  \\\n",
       "0                        False                      True   \n",
       "1                         True                     False   \n",
       "2                        False                     False   \n",
       "3                         True                     False   \n",
       "4                        False                     False   \n",
       "\n",
       "   time_of_month_cat_End  \n",
       "0                  False  \n",
       "1                  False  \n",
       "2                   True  \n",
       "3                  False  \n",
       "4                   True  \n",
       "\n",
       "[5 rows x 81 columns]"
      ]
     },
     "execution_count": 113,
     "metadata": {},
     "output_type": "execute_result"
    }
   ],
   "source": [
    "data_app[:5]"
   ]
  },
  {
   "cell_type": "code",
   "execution_count": 114,
   "metadata": {
    "_uuid": "245fc5aa210a6ffb9e469db3fa35e5ca55bc8364"
   },
   "outputs": [
    {
     "name": "stdout",
     "output_type": "stream",
     "text": [
      "You data contains 80 columns and has 0 colums with missing values\n"
     ]
    },
    {
     "data": {
      "text/html": [
       "<div>\n",
       "<style scoped>\n",
       "    .dataframe tbody tr th:only-of-type {\n",
       "        vertical-align: middle;\n",
       "    }\n",
       "\n",
       "    .dataframe tbody tr th {\n",
       "        vertical-align: top;\n",
       "    }\n",
       "\n",
       "    .dataframe thead th {\n",
       "        text-align: right;\n",
       "    }\n",
       "</style>\n",
       "<table border=\"1\" class=\"dataframe\">\n",
       "  <thead>\n",
       "    <tr style=\"text-align: right;\">\n",
       "      <th></th>\n",
       "      <th>Total Miss Values</th>\n",
       "      <th>% of miss values</th>\n",
       "    </tr>\n",
       "  </thead>\n",
       "  <tbody>\n",
       "  </tbody>\n",
       "</table>\n",
       "</div>"
      ],
      "text/plain": [
       "Empty DataFrame\n",
       "Columns: [Total Miss Values, % of miss values]\n",
       "Index: []"
      ]
     },
     "execution_count": 114,
     "metadata": {},
     "output_type": "execute_result"
    }
   ],
   "source": [
    "missing_values(test_app)"
   ]
  },
  {
   "cell_type": "code",
   "execution_count": null,
   "metadata": {
    "_uuid": "472c10c2e5082422e0afa5d78995c49b617581b2"
   },
   "outputs": [],
   "source": []
  },
  {
   "cell_type": "code",
   "execution_count": null,
   "metadata": {
    "_uuid": "bb3f2b842175de1e4bbc4788a8007bd8eeb5ee9c"
   },
   "outputs": [],
   "source": []
  },
  {
   "cell_type": "code",
   "execution_count": null,
   "metadata": {
    "_uuid": "78c284f570eebd4943849ce531ce30cb20492dbc"
   },
   "outputs": [],
   "source": []
  },
  {
   "cell_type": "code",
   "execution_count": null,
   "metadata": {
    "_uuid": "85a7f15f3c1274b1641ea4eae346b44f0cad3b1b"
   },
   "outputs": [],
   "source": []
  },
  {
   "cell_type": "code",
   "execution_count": null,
   "metadata": {
    "_uuid": "6da6d5f14e7dc02825a104cabbeeadb70edf5164"
   },
   "outputs": [],
   "source": []
  },
  {
   "cell_type": "code",
   "execution_count": null,
   "metadata": {
    "_uuid": "dfc7ec4d1dbb4a82ae76143d646cb181f0c95a72"
   },
   "outputs": [],
   "source": []
  },
  {
   "cell_type": "code",
   "execution_count": null,
   "metadata": {
    "_uuid": "66afe5ec411bb789721b1734714ca9047649a98e"
   },
   "outputs": [],
   "source": []
  },
  {
   "cell_type": "code",
   "execution_count": null,
   "metadata": {
    "_uuid": "5b59430e78ab85c087c1e5274d114a2d9e822ac5"
   },
   "outputs": [],
   "source": []
  },
  {
   "cell_type": "code",
   "execution_count": null,
   "metadata": {
    "_uuid": "8a1b819bd13b7cad5fecb4cb9c64702eea4ddd36"
   },
   "outputs": [],
   "source": []
  },
  {
   "cell_type": "code",
   "execution_count": null,
   "metadata": {
    "_uuid": "84cf024f5243860f2921682e5d2027b72c152b99"
   },
   "outputs": [],
   "source": []
  },
  {
   "cell_type": "code",
   "execution_count": null,
   "metadata": {
    "_uuid": "3362fac8502b987bd5fc43adae5aae03cfe45ed6"
   },
   "outputs": [],
   "source": []
  },
  {
   "cell_type": "code",
   "execution_count": null,
   "metadata": {
    "_uuid": "c7258f9777453cb4a29bca6feb582c5fe8be7d84"
   },
   "outputs": [],
   "source": []
  },
  {
   "cell_type": "code",
   "execution_count": null,
   "metadata": {
    "_uuid": "d71124dd08e98f39ca1144f8c7f52bad95a35fe4"
   },
   "outputs": [],
   "source": []
  },
  {
   "cell_type": "markdown",
   "metadata": {
    "_uuid": "81b76609158f33a949a48b93a339e802301b3929"
   },
   "source": [
    "# Models"
   ]
  },
  {
   "cell_type": "code",
   "execution_count": 115,
   "metadata": {
    "_uuid": "23f402ad80f0f5eb93b7bb0c4bfff75555d3290f"
   },
   "outputs": [],
   "source": [
    "# ALEX: remove ML code\n",
    "# from xgboost import XGBRegressor"
   ]
  },
  {
   "cell_type": "code",
   "execution_count": 116,
   "metadata": {
    "_uuid": "570ffb9bfb328d86637e48944588748dc46fe6af"
   },
   "outputs": [],
   "source": [
    "y = data_app.target\n",
    "X = data_app.drop(['target'], axis = 1)"
   ]
  },
  {
   "cell_type": "code",
   "execution_count": 117,
   "metadata": {
    "_uuid": "7ed67420932076e2862c3dfbdef7b4a4600231e6"
   },
   "outputs": [
    {
     "data": {
      "text/plain": [
       "((1215489, 80), (745364, 80))"
      ]
     },
     "execution_count": 117,
     "metadata": {},
     "output_type": "execute_result"
    }
   ],
   "source": [
    "X.shape, test_app.shape"
   ]
  },
  {
   "cell_type": "code",
   "execution_count": 118,
   "metadata": {
    "_uuid": "5f128cee20d186ddd31b546dbc356e68a4eb1198"
   },
   "outputs": [
    {
     "data": {
      "text/plain": [
       "0   -0.242904\n",
       "1   -1.197832\n",
       "2   -0.376280\n",
       "3   -0.259445\n",
       "4   -2.570895\n",
       "Name: target, dtype: float64"
      ]
     },
     "execution_count": 118,
     "metadata": {},
     "output_type": "execute_result"
    }
   ],
   "source": [
    "y[:5]"
   ]
  },
  {
   "cell_type": "code",
   "execution_count": 119,
   "metadata": {
    "_uuid": "acaa5005353104bff1b453adb1fdac33dd1f1274"
   },
   "outputs": [],
   "source": [
    "# ALEX: remove ML code\n",
    "# xgb = XGBRegressor()"
   ]
  },
  {
   "cell_type": "code",
   "execution_count": 120,
   "metadata": {
    "_uuid": "c4684eceda303dc422410294ce0c433a4f11bd46"
   },
   "outputs": [],
   "source": [
    "X['purchase_date'] = X['purchase_date'].astype(int)\n",
    "X['first_active_month'] = X['first_active_month'].astype(int)\n",
    "X['purchase_time'] = X['purchase_time'].astype(int)"
   ]
  },
  {
   "cell_type": "code",
   "execution_count": 121,
   "metadata": {
    "_uuid": "cc030c82dacc9b0fac8ec951bd937201399fe997"
   },
   "outputs": [],
   "source": [
    "test_app['purchase_date'] = test_app['purchase_date'].astype(int)\n",
    "test_app['first_active_month'] = test_app['first_active_month'].astype(int)\n",
    "test_app['purchase_time'] = test_app['purchase_time'].astype(int)"
   ]
  },
  {
   "cell_type": "code",
   "execution_count": 122,
   "metadata": {
    "_uuid": "1fd89a460ba6457d646d4f0431ad8c4c8579194f"
   },
   "outputs": [],
   "source": [
    "# xgb_model = xgb.fit(X,y)"
   ]
  },
  {
   "cell_type": "code",
   "execution_count": 123,
   "metadata": {
    "_uuid": "3a5a37ee9838d0ea676e01f6ca9955b03de0ee9d"
   },
   "outputs": [],
   "source": [
    "# test, X = test.align(X, join = 'inner', axis = 1)"
   ]
  },
  {
   "cell_type": "code",
   "execution_count": 124,
   "metadata": {
    "_uuid": "dd311eb554d8bb9123f12ecf7d3e0d2eec80020c"
   },
   "outputs": [],
   "source": [
    "test, X = test.align(X, join = 'left', axis = 0)\n",
    "X, test_app = X.align(test_app, join = 'left', axis = 0)\n",
    "X, y = X.align(y, join = 'left', axis = 0)"
   ]
  },
  {
   "cell_type": "code",
   "execution_count": 125,
   "metadata": {
    "_uuid": "388dd727aed3f54a7096652e8310627201922ef0"
   },
   "outputs": [
    {
     "data": {
      "text/plain": [
       "((123623, 5), (123623, 80), (123623, 80), (123623,))"
      ]
     },
     "execution_count": 125,
     "metadata": {},
     "output_type": "execute_result"
    }
   ],
   "source": [
    "test.shape, X.shape, test_app.shape, y.shape"
   ]
  },
  {
   "cell_type": "code",
   "execution_count": null,
   "metadata": {
    "_uuid": "9f255a03b4a66b4754f48764c52f55680ad618fa"
   },
   "outputs": [],
   "source": []
  },
  {
   "cell_type": "code",
   "execution_count": 126,
   "metadata": {
    "_uuid": "c925e6c94f68a578070d4ed0d0736c822b06ff21"
   },
   "outputs": [],
   "source": [
    "# ALEX: remove ML code\n",
    "# from sklearn.linear_model import Lasso"
   ]
  },
  {
   "cell_type": "code",
   "execution_count": 127,
   "metadata": {
    "_uuid": "cc2d313d00d23e072bd5a58c7213ca0b76d25954"
   },
   "outputs": [],
   "source": [
    "# ALEX: remove ML code\n",
    "# lassoreg = Lasso(alpha = 1.0, normalize = True, max_iter=1e5)"
   ]
  },
  {
   "cell_type": "code",
   "execution_count": 128,
   "metadata": {
    "_uuid": "f099f97cb339eaf0082030c8c977e503a5f31bf1"
   },
   "outputs": [],
   "source": [
    "# ALEX: remove ML code\n",
    "# model_lasso = lassoreg.fit(X,y)"
   ]
  },
  {
   "cell_type": "code",
   "execution_count": 129,
   "metadata": {
    "_uuid": "9aaa05de501a7da1cfa6cfc876b3b7c63f7f6968"
   },
   "outputs": [],
   "source": [
    "# ALEX:  remove ML code\n",
    "# pred_lasso = model_lasso.predict(test_app)\n",
    "pred_lasso = y"
   ]
  },
  {
   "cell_type": "code",
   "execution_count": 130,
   "metadata": {
    "_uuid": "c3759ffdcb3351d605b2bf6c600da5e904a15362"
   },
   "outputs": [
    {
     "data": {
      "text/plain": [
       "(123623,)"
      ]
     },
     "execution_count": 130,
     "metadata": {},
     "output_type": "execute_result"
    }
   ],
   "source": [
    "test['card_id'].shape"
   ]
  },
  {
   "cell_type": "code",
   "execution_count": 131,
   "metadata": {
    "_uuid": "5125adbd32f1edcdedad0127c73a4dca58ac2e95"
   },
   "outputs": [
    {
     "data": {
      "text/plain": [
       "(123623,)"
      ]
     },
     "execution_count": 131,
     "metadata": {},
     "output_type": "execute_result"
    }
   ],
   "source": [
    "pred_lasso.shape"
   ]
  },
  {
   "cell_type": "code",
   "execution_count": 132,
   "metadata": {
    "_uuid": "517d41754100646cc0b754f667d00445a95b0941"
   },
   "outputs": [],
   "source": [
    "# pred_lasso, test['card_id'] = pred_lasso.align(test['card_id'], join = 'inner', axis = 1)"
   ]
  },
  {
   "cell_type": "code",
   "execution_count": null,
   "metadata": {
    "_uuid": "2449c35f788ab6856dbfbb173da2290fd43ce6db"
   },
   "outputs": [],
   "source": []
  },
  {
   "cell_type": "code",
   "execution_count": null,
   "metadata": {
    "_uuid": "072e3681388c23deea732fcf310bda0ebc9a65c8"
   },
   "outputs": [],
   "source": []
  },
  {
   "cell_type": "code",
   "execution_count": 133,
   "metadata": {
    "_uuid": "c7b9004e3e318938d969e5f5321a0239ee217a4a"
   },
   "outputs": [
    {
     "data": {
      "text/html": [
       "<div>\n",
       "<style scoped>\n",
       "    .dataframe tbody tr th:only-of-type {\n",
       "        vertical-align: middle;\n",
       "    }\n",
       "\n",
       "    .dataframe tbody tr th {\n",
       "        vertical-align: top;\n",
       "    }\n",
       "\n",
       "    .dataframe thead th {\n",
       "        text-align: right;\n",
       "    }\n",
       "</style>\n",
       "<table border=\"1\" class=\"dataframe\">\n",
       "  <thead>\n",
       "    <tr style=\"text-align: right;\">\n",
       "      <th></th>\n",
       "      <th>card_id</th>\n",
       "      <th>target</th>\n",
       "    </tr>\n",
       "  </thead>\n",
       "  <tbody>\n",
       "    <tr>\n",
       "      <th>0</th>\n",
       "      <td>C_ID_0ab67a22ab</td>\n",
       "      <td>-0.242904</td>\n",
       "    </tr>\n",
       "    <tr>\n",
       "      <th>1</th>\n",
       "      <td>C_ID_130fd0cbdd</td>\n",
       "      <td>-1.197832</td>\n",
       "    </tr>\n",
       "    <tr>\n",
       "      <th>2</th>\n",
       "      <td>C_ID_b709037bc5</td>\n",
       "      <td>-0.376280</td>\n",
       "    </tr>\n",
       "    <tr>\n",
       "      <th>3</th>\n",
       "      <td>C_ID_d27d835a9f</td>\n",
       "      <td>-0.259445</td>\n",
       "    </tr>\n",
       "    <tr>\n",
       "      <th>4</th>\n",
       "      <td>C_ID_2b5e3df5c2</td>\n",
       "      <td>-2.570895</td>\n",
       "    </tr>\n",
       "  </tbody>\n",
       "</table>\n",
       "</div>"
      ],
      "text/plain": [
       "           card_id    target\n",
       "0  C_ID_0ab67a22ab -0.242904\n",
       "1  C_ID_130fd0cbdd -1.197832\n",
       "2  C_ID_b709037bc5 -0.376280\n",
       "3  C_ID_d27d835a9f -0.259445\n",
       "4  C_ID_2b5e3df5c2 -2.570895"
      ]
     },
     "execution_count": 133,
     "metadata": {},
     "output_type": "execute_result"
    }
   ],
   "source": [
    "sub_lasso = pd.DataFrame({'card_id': test['card_id'], 'target': pred_lasso})\n",
    "sub_lasso.to_csv('Lasso_submission.csv', index = False)\n",
    "sub_lasso.head()"
   ]
  },
  {
   "cell_type": "markdown",
   "metadata": {
    "_uuid": "ad9987fb4d628afd206105a0f9c8435f35c32c7f"
   },
   "source": [
    "Score : 3.933"
   ]
  },
  {
   "cell_type": "code",
   "execution_count": 134,
   "metadata": {
    "_uuid": "7fc2416f0f0c01cebb7b4b5377296dae583f88c1"
   },
   "outputs": [],
   "source": [
    "# ALEX: remove ML code\n",
    "# import lightgbm as lgb"
   ]
  },
  {
   "cell_type": "code",
   "execution_count": 135,
   "metadata": {
    "_uuid": "a3836d73ef324fb8474eecefe5d0009dd7560e45"
   },
   "outputs": [],
   "source": [
    "# ALEX: remove ML code\n",
    "# params = {\n",
    "#         \"objective\" : \"regression\",\n",
    "#         \"metric\" : \"rmse\",\n",
    "#         \"num_leaves\" : 30,\n",
    "#         \"min_child_weight\" : 50,\n",
    "#         \"learning_rate\" : 0.05,\n",
    "#         \"bagging_fraction\" : 0.7,\n",
    "#         \"feature_fraction\" : 0.7,\n",
    "#         \"bagging_seed\" : 2018,\n",
    "#         \"verbosity\" : -1\n",
    "#     }"
   ]
  },
  {
   "cell_type": "code",
   "execution_count": 136,
   "metadata": {
    "_uuid": "fa85fe9376ec466baca368ba7c2f2fd344ab1cd1"
   },
   "outputs": [],
   "source": [
    "# ALEX: remove ML code\n",
    "# train_set = lgb.Dataset(X, label = y.values)\n",
    "_ = y.values"
   ]
  },
  {
   "cell_type": "code",
   "execution_count": 137,
   "metadata": {
    "_uuid": "4ed6727d9975761248b953bdb1236f0414b6b762"
   },
   "outputs": [],
   "source": [
    "# ALEX: remove ML code\n",
    "# val_set = lgb.Dataset(X)"
   ]
  },
  {
   "cell_type": "code",
   "execution_count": 138,
   "metadata": {
    "_uuid": "003a329270d28d4d8ab0fc029fd349824dc24ae8"
   },
   "outputs": [],
   "source": [
    "# ALEX: remove ML code\n",
    "# lgb_model = lgb.train(params, train_set,valid_sets= val_set, early_stopping_rounds=1000,verbose_eval=1000, num_boost_round=1000)"
   ]
  },
  {
   "cell_type": "code",
   "execution_count": 139,
   "metadata": {
    "_uuid": "03274a887394a662cb1e50f7db9c38cf77222bdb"
   },
   "outputs": [],
   "source": [
    "# ALEX: remove ML code\n",
    "# lgb_pred = lgb_model.predict(test_app)\n",
    "lgb_pred = y.values"
   ]
  },
  {
   "cell_type": "code",
   "execution_count": 140,
   "metadata": {
    "_uuid": "cc046401ecbb01a4c3697853ee53c8368cd1b837"
   },
   "outputs": [
    {
     "data": {
      "text/plain": [
       "array([-0.24290435, -1.19783221, -0.37628   , ..., -0.65566056,\n",
       "       -2.46528826, -2.30065316])"
      ]
     },
     "execution_count": 140,
     "metadata": {},
     "output_type": "execute_result"
    }
   ],
   "source": [
    "lgb_pred"
   ]
  },
  {
   "cell_type": "code",
   "execution_count": 141,
   "metadata": {
    "_uuid": "090eedffd720b4c2aabd3bb23938f3ca162dda92"
   },
   "outputs": [
    {
     "data": {
      "text/html": [
       "<div>\n",
       "<style scoped>\n",
       "    .dataframe tbody tr th:only-of-type {\n",
       "        vertical-align: middle;\n",
       "    }\n",
       "\n",
       "    .dataframe tbody tr th {\n",
       "        vertical-align: top;\n",
       "    }\n",
       "\n",
       "    .dataframe thead th {\n",
       "        text-align: right;\n",
       "    }\n",
       "</style>\n",
       "<table border=\"1\" class=\"dataframe\">\n",
       "  <thead>\n",
       "    <tr style=\"text-align: right;\">\n",
       "      <th></th>\n",
       "      <th>card_id</th>\n",
       "      <th>target</th>\n",
       "    </tr>\n",
       "  </thead>\n",
       "  <tbody>\n",
       "    <tr>\n",
       "      <th>0</th>\n",
       "      <td>C_ID_0ab67a22ab</td>\n",
       "      <td>-0.242904</td>\n",
       "    </tr>\n",
       "    <tr>\n",
       "      <th>1</th>\n",
       "      <td>C_ID_130fd0cbdd</td>\n",
       "      <td>-1.197832</td>\n",
       "    </tr>\n",
       "    <tr>\n",
       "      <th>2</th>\n",
       "      <td>C_ID_b709037bc5</td>\n",
       "      <td>-0.376280</td>\n",
       "    </tr>\n",
       "    <tr>\n",
       "      <th>3</th>\n",
       "      <td>C_ID_d27d835a9f</td>\n",
       "      <td>-0.259445</td>\n",
       "    </tr>\n",
       "    <tr>\n",
       "      <th>4</th>\n",
       "      <td>C_ID_2b5e3df5c2</td>\n",
       "      <td>-2.570895</td>\n",
       "    </tr>\n",
       "  </tbody>\n",
       "</table>\n",
       "</div>"
      ],
      "text/plain": [
       "           card_id    target\n",
       "0  C_ID_0ab67a22ab -0.242904\n",
       "1  C_ID_130fd0cbdd -1.197832\n",
       "2  C_ID_b709037bc5 -0.376280\n",
       "3  C_ID_d27d835a9f -0.259445\n",
       "4  C_ID_2b5e3df5c2 -2.570895"
      ]
     },
     "execution_count": 141,
     "metadata": {},
     "output_type": "execute_result"
    }
   ],
   "source": [
    "sub_lgb = pd.DataFrame({'card_id':test['card_id'], 'target': lgb_pred})\n",
    "sub_lgb.to_csv('lgb_submission.csv', index = False)\n",
    "sub_lgb.head()"
   ]
  },
  {
   "cell_type": "code",
   "execution_count": 142,
   "metadata": {
    "_uuid": "d43bf84dcb44cda6707144ff3a031c5b9195d931"
   },
   "outputs": [],
   "source": [
    "# ALEX: remove ML code\n",
    "# import xgboost as xgb"
   ]
  },
  {
   "cell_type": "code",
   "execution_count": 143,
   "metadata": {
    "_uuid": "d10a5bedcfc4bf8ff9fa6d9f0fafc5ee10c130ae"
   },
   "outputs": [],
   "source": [
    "# ALEX: remove ML code\n",
    "# dtrain = xgb.DMatrix(X, label = y.values)\n",
    "# dtest = xgb.DMatrix(test_app)\n",
    "_ = y.values"
   ]
  },
  {
   "cell_type": "code",
   "execution_count": 144,
   "metadata": {
    "_uuid": "2406524bf014ca75b600e0d3d8ed09aa97179bbd"
   },
   "outputs": [],
   "source": [
    "# ALEX: remove ML code\n",
    "# xgb_params = {'learning_rate':0.001, \n",
    "#               'n_estimators':1000,\n",
    "#               'max_depth':4,\n",
    "#               'min_child_weight':6,\n",
    "#               'gamma':0,\n",
    "#               'subsample':0.8,\n",
    "#               'colsample_bytree':0.8,\n",
    "#               'objective':'binary:logistic',\n",
    "#               'nthread':4,\n",
    "#               'scale_pos_weight':1,\n",
    "#               'seed':27,\n",
    "#               'silent':1\n",
    "#               }"
   ]
  },
  {
   "cell_type": "code",
   "execution_count": 145,
   "metadata": {
    "_uuid": "481bb0a6ea4a7437abd3082c75bee1278b8d45db"
   },
   "outputs": [],
   "source": [
    "# ALEX: remove ML code\n",
    "# xgb_model = xgb.train(params = {'silent':1, 'learning_rate':0.1, 'n_estimators':1000, 'min_child_weight':5},dtrain=dtrain, verbose_eval = False, num_boost_round=100)"
   ]
  },
  {
   "cell_type": "code",
   "execution_count": 146,
   "metadata": {
    "_uuid": "9dad63584661324fb15eab3b4f93c3840bd99fc9"
   },
   "outputs": [],
   "source": [
    "# ALEX: remove ML code\n",
    "# xgb_pred = xgb_model.predict(dtest)\n",
    "xgb_pred = y.values"
   ]
  },
  {
   "cell_type": "code",
   "execution_count": 147,
   "metadata": {
    "_uuid": "6c8690b9db4c1e27d982d577b1236b8b6d64972c"
   },
   "outputs": [
    {
     "data": {
      "text/plain": [
       "array([-0.24290435, -1.19783221, -0.37628   , ..., -0.65566056,\n",
       "       -2.46528826, -2.30065316])"
      ]
     },
     "execution_count": 147,
     "metadata": {},
     "output_type": "execute_result"
    }
   ],
   "source": [
    "xgb_pred"
   ]
  },
  {
   "cell_type": "code",
   "execution_count": 148,
   "metadata": {
    "_uuid": "2c1d0e2cf4479d45d4b90da6837904d6f08cf4c7"
   },
   "outputs": [
    {
     "data": {
      "text/html": [
       "<div>\n",
       "<style scoped>\n",
       "    .dataframe tbody tr th:only-of-type {\n",
       "        vertical-align: middle;\n",
       "    }\n",
       "\n",
       "    .dataframe tbody tr th {\n",
       "        vertical-align: top;\n",
       "    }\n",
       "\n",
       "    .dataframe thead th {\n",
       "        text-align: right;\n",
       "    }\n",
       "</style>\n",
       "<table border=\"1\" class=\"dataframe\">\n",
       "  <thead>\n",
       "    <tr style=\"text-align: right;\">\n",
       "      <th></th>\n",
       "      <th>card_id</th>\n",
       "      <th>target</th>\n",
       "    </tr>\n",
       "  </thead>\n",
       "  <tbody>\n",
       "    <tr>\n",
       "      <th>123603</th>\n",
       "      <td>C_ID_c3e88ef62d</td>\n",
       "      <td>3.126852</td>\n",
       "    </tr>\n",
       "    <tr>\n",
       "      <th>123604</th>\n",
       "      <td>C_ID_650557248c</td>\n",
       "      <td>-1.087230</td>\n",
       "    </tr>\n",
       "    <tr>\n",
       "      <th>123605</th>\n",
       "      <td>C_ID_f14af9cb56</td>\n",
       "      <td>-4.101944</td>\n",
       "    </tr>\n",
       "    <tr>\n",
       "      <th>123606</th>\n",
       "      <td>C_ID_068dcf31e8</td>\n",
       "      <td>0.187264</td>\n",
       "    </tr>\n",
       "    <tr>\n",
       "      <th>123607</th>\n",
       "      <td>C_ID_6659f4625a</td>\n",
       "      <td>0.293828</td>\n",
       "    </tr>\n",
       "    <tr>\n",
       "      <th>123608</th>\n",
       "      <td>C_ID_dc842bba27</td>\n",
       "      <td>-3.101826</td>\n",
       "    </tr>\n",
       "    <tr>\n",
       "      <th>123609</th>\n",
       "      <td>C_ID_bd625edce0</td>\n",
       "      <td>-0.155908</td>\n",
       "    </tr>\n",
       "    <tr>\n",
       "      <th>123610</th>\n",
       "      <td>C_ID_278446cc2f</td>\n",
       "      <td>-0.033640</td>\n",
       "    </tr>\n",
       "    <tr>\n",
       "      <th>123611</th>\n",
       "      <td>C_ID_ad358eb92e</td>\n",
       "      <td>-0.661580</td>\n",
       "    </tr>\n",
       "    <tr>\n",
       "      <th>123612</th>\n",
       "      <td>C_ID_7d9bcec574</td>\n",
       "      <td>0.038790</td>\n",
       "    </tr>\n",
       "    <tr>\n",
       "      <th>123613</th>\n",
       "      <td>C_ID_b588b35e15</td>\n",
       "      <td>-2.286523</td>\n",
       "    </tr>\n",
       "    <tr>\n",
       "      <th>123614</th>\n",
       "      <td>C_ID_7147e348c3</td>\n",
       "      <td>1.807511</td>\n",
       "    </tr>\n",
       "    <tr>\n",
       "      <th>123615</th>\n",
       "      <td>C_ID_727d3ec5da</td>\n",
       "      <td>-0.065328</td>\n",
       "    </tr>\n",
       "    <tr>\n",
       "      <th>123616</th>\n",
       "      <td>C_ID_107d93e20c</td>\n",
       "      <td>-2.855646</td>\n",
       "    </tr>\n",
       "    <tr>\n",
       "      <th>123617</th>\n",
       "      <td>C_ID_0e74bd4966</td>\n",
       "      <td>-3.898246</td>\n",
       "    </tr>\n",
       "    <tr>\n",
       "      <th>123618</th>\n",
       "      <td>C_ID_7a239d2eda</td>\n",
       "      <td>0.931708</td>\n",
       "    </tr>\n",
       "    <tr>\n",
       "      <th>123619</th>\n",
       "      <td>C_ID_75ace375ae</td>\n",
       "      <td>-0.050254</td>\n",
       "    </tr>\n",
       "    <tr>\n",
       "      <th>123620</th>\n",
       "      <td>C_ID_21d56d950c</td>\n",
       "      <td>-0.655661</td>\n",
       "    </tr>\n",
       "    <tr>\n",
       "      <th>123621</th>\n",
       "      <td>C_ID_6c46fc5a9d</td>\n",
       "      <td>-2.465288</td>\n",
       "    </tr>\n",
       "    <tr>\n",
       "      <th>123622</th>\n",
       "      <td>C_ID_87e7979a5f</td>\n",
       "      <td>-2.300653</td>\n",
       "    </tr>\n",
       "  </tbody>\n",
       "</table>\n",
       "</div>"
      ],
      "text/plain": [
       "                card_id    target\n",
       "123603  C_ID_c3e88ef62d  3.126852\n",
       "123604  C_ID_650557248c -1.087230\n",
       "123605  C_ID_f14af9cb56 -4.101944\n",
       "123606  C_ID_068dcf31e8  0.187264\n",
       "123607  C_ID_6659f4625a  0.293828\n",
       "123608  C_ID_dc842bba27 -3.101826\n",
       "123609  C_ID_bd625edce0 -0.155908\n",
       "123610  C_ID_278446cc2f -0.033640\n",
       "123611  C_ID_ad358eb92e -0.661580\n",
       "123612  C_ID_7d9bcec574  0.038790\n",
       "123613  C_ID_b588b35e15 -2.286523\n",
       "123614  C_ID_7147e348c3  1.807511\n",
       "123615  C_ID_727d3ec5da -0.065328\n",
       "123616  C_ID_107d93e20c -2.855646\n",
       "123617  C_ID_0e74bd4966 -3.898246\n",
       "123618  C_ID_7a239d2eda  0.931708\n",
       "123619  C_ID_75ace375ae -0.050254\n",
       "123620  C_ID_21d56d950c -0.655661\n",
       "123621  C_ID_6c46fc5a9d -2.465288\n",
       "123622  C_ID_87e7979a5f -2.300653"
      ]
     },
     "execution_count": 148,
     "metadata": {},
     "output_type": "execute_result"
    }
   ],
   "source": [
    "xgb_sub = pd.DataFrame({'card_id':test['card_id'], 'target':xgb_pred})\n",
    "xgb_sub.to_csv('xgb_submission.csv', index = False)\n",
    "xgb_sub.tail(20)"
   ]
  },
  {
   "cell_type": "code",
   "execution_count": null,
   "metadata": {
    "_uuid": "e20510834f80c020f59050e6ea5111e254237376"
   },
   "outputs": [],
   "source": []
  }
 ],
 "metadata": {
  "kernelspec": {
   "display_name": "Python 3 (ipykernel)",
   "language": "python",
   "name": "python3"
  },
  "language_info": {
   "codemirror_mode": {
    "name": "ipython",
    "version": 3
   },
   "file_extension": ".py",
   "mimetype": "text/x-python",
   "name": "python",
   "nbconvert_exporter": "python",
   "pygments_lexer": "ipython3",
   "version": "3.10.16"
  }
 },
 "nbformat": 4,
 "nbformat_minor": 1
}
