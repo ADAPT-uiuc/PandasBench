{
 "cells": [
  {
   "cell_type": "code",
   "execution_count": null,
   "metadata": {},
   "outputs": [],
   "source": [
    "import os\n",
    "\n",
    "def scale_input_data(scale_factor):\n",
    "  file_bases = ['./input/train', './input/test']\n",
    "  for file_base in file_bases:\n",
    "    import pandas as pd\n",
    "    import shutil\n",
    "    if scale_factor == 1.0:\n",
    "      shutil.copyfile(file_base + '.csv', file_base + '.scaled.csv')\n",
    "      continue\n",
    "    df_to_scale = pd.read_csv(file_base + '.csv')\n",
    "    new_num_rows = int(scale_factor * len(df_to_scale))\n",
    "    if scale_factor <= 1.0:\n",
    "      df_to_scale = df_to_scale.iloc[:new_num_rows]\n",
    "    else:\n",
    "      while len(df_to_scale) < new_num_rows:\n",
    "        df_to_scale = pd.concat([df_to_scale, df_to_scale[:min(new_num_rows - len(df_to_scale), len(df_to_scale))]])\n",
    "    df_to_scale.to_csv(file_base + '.scaled.csv', index=False)\n",
    "\n",
    "if 'INPUT_SCALE_FACTOR' in os.environ:\n",
    "  scale_input_data(float(os.environ['INPUT_SCALE_FACTOR']))"
   ]
  },
  {
   "cell_type": "markdown",
   "metadata": {
    "_cell_guid": "409bf183-1ec7-4587-9867-b72794aaf670",
    "_uuid": "96d8069f-ff0a-458c-93aa-b7a3d6deb9b0"
   },
   "source": [
    "# House Prices Advanced Regression\n",
    "\n",
    "I am a beginner in thie field, and actually struggled at this regression problem for a while. When I finally found a way to reach a quite satisfactory result, I would like to share it.\n",
    "\n",
    "For this reason, I only use the simplest model (scikit-leanr RidgeCV), and the least modules (Pandas, Numpy, Seaborn, Matplotlib) to address my understanding.\n",
    "\n",
    "Many of the ideas are from these notebooks and many other great discussions on the forum.\n",
    "* [#1 House Prices Solution [top 1%]](https://www.kaggle.com/jesucristo/1-house-prices-solution-top-1) by Nanashi\n",
    "* [Regularized Linear Models](https://www.kaggle.com/apapiu/regularized-linear-models) by Alexandru Papiu \n",
    "* [An Introduction to Statistical Learning with Applications in R](http://faculty.marshall.usc.edu/gareth-james/ISL/) by Gareth James, Daniela Witten, Trevor Hastie and Robert Tibshirani"
   ]
  },
  {
   "cell_type": "markdown",
   "metadata": {
    "_cell_guid": "34611b67-c082-46e0-8534-03a7a49e2c65",
    "_uuid": "9ae17949-212b-4040-bada-35c7c24ae6cf"
   },
   "source": [
    "# Overview\n",
    "1. [Setup links](#1)\n",
    "2. [Exploratory Data Analyses](#2)\n",
    "3. [Data Preprocessing](#3)\n",
    "    * 3-1. [Missing Values](#31)\n",
    "    * 3-2. [Outliers](#32)\n",
    "    * 3-3. [Column Modification](#33)\n",
    "    * 3-4. [Non-linearity](#34)\n",
    "    * 3-5. [Collinearity](#35)\n",
    "    * 3-6. [Encoding](#36)\n",
    "4. [Modeling and Evaluation](#4)\n",
    "5. [Effectiveness of Preprocessing](#5)"
   ]
  },
  {
   "cell_type": "markdown",
   "metadata": {
    "_cell_guid": "59454833-59c5-4470-ad8d-81f4d3d24f8b",
    "_uuid": "600f1602-f8c6-4c0c-ad31-c8c588e0d920"
   },
   "source": [
    "### 1. Setup \n",
    "<div id=\"1\"> </div>"
   ]
  },
  {
   "cell_type": "code",
   "execution_count": 1,
   "metadata": {
    "_cell_guid": "888d84d6-f0a7-4e06-83c3-2874e28a888b",
    "_uuid": "b3bede2a-8a59-4951-a8a7-73f8c929fd4a"
   },
   "outputs": [],
   "source": [
    "# import pandas as pd\n",
    "exec(os.environ['IREWR_IMPORTS'])\n",
    "import numpy as np\n",
    "# FIRST-AUTHOR: remove plotting\n",
    "# import seaborn as sns\n",
    "# import matplotlib.pyplot as plt\n",
    "# %matplotlib inline"
   ]
  },
  {
   "cell_type": "code",
   "execution_count": 2,
   "metadata": {
    "_cell_guid": "1a01360c-7301-4e02-8622-2fabf1620a61",
    "_uuid": "1d1307c2-5570-4c76-962b-6be90272e2ff"
   },
   "outputs": [],
   "source": [
    "df = pd.read_csv('./input/train.scaled.csv')\n",
    "df_test = pd.read_csv('./input/test.scaled.csv')"
   ]
  },
  {
   "cell_type": "code",
   "execution_count": 3,
   "metadata": {
    "_cell_guid": "c4c7d0bf-b336-42f4-b3e2-8cd3809f98d7",
    "_uuid": "9de74617-c56b-42e5-9ac1-2ee98e7756bd"
   },
   "outputs": [],
   "source": [
    "train_size = len(df)"
   ]
  },
  {
   "cell_type": "markdown",
   "metadata": {
    "_cell_guid": "85af70ec-d079-4890-9fd6-f1c373c88471",
    "_uuid": "3ed8ceab-c894-4fb0-ae68-f7e94abbaf1b"
   },
   "source": [
    "**Data Frames**\n",
    "* df : original training dataset for EDA use\n",
    "* df-test : original test dataset\n",
    "* features : merging traing and test datasets feature columns for pre-processing, and will be split when modeling\n",
    "* target :merging traing and test datasets target (SalePrice)"
   ]
  },
  {
   "cell_type": "code",
   "execution_count": 4,
   "metadata": {
    "_cell_guid": "bbbe7774-2ed6-47a5-84ce-b9842fe83a4e",
    "_uuid": "da6a4614-128d-4254-92c9-f09ee79aa3d9"
   },
   "outputs": [],
   "source": [
    "features = pd.concat([df.drop('SalePrice',axis=1),df_test],sort=False).reset_index(drop=True)\n",
    "target = df['SalePrice'].copy()"
   ]
  },
  {
   "cell_type": "markdown",
   "metadata": {
    "_cell_guid": "22404b86-f5d2-41fb-9bc7-b808641e1491",
    "_uuid": "7f480fd6-449e-49ed-8515-1f31de9e5719"
   },
   "source": [
    "<div id=\"2\"> </div>\n",
    "### 2. Exploratory Data Analyse\n",
    "Only cover part of EDA to save some space"
   ]
  },
  {
   "cell_type": "code",
   "execution_count": 5,
   "metadata": {
    "_cell_guid": "e3d340aa-7443-4f03-85aa-d20fa3997909",
    "_uuid": "353b1366-7e6e-4ca8-af8d-20ffe33b796d"
   },
   "outputs": [
    {
     "data": {
      "text/html": [
       "<div>\n",
       "<style scoped>\n",
       "    .dataframe tbody tr th:only-of-type {\n",
       "        vertical-align: middle;\n",
       "    }\n",
       "\n",
       "    .dataframe tbody tr th {\n",
       "        vertical-align: top;\n",
       "    }\n",
       "\n",
       "    .dataframe thead th {\n",
       "        text-align: right;\n",
       "    }\n",
       "</style>\n",
       "<table border=\"1\" class=\"dataframe\">\n",
       "  <thead>\n",
       "    <tr style=\"text-align: right;\">\n",
       "      <th></th>\n",
       "      <th>Id</th>\n",
       "      <th>MSSubClass</th>\n",
       "      <th>MSZoning</th>\n",
       "      <th>LotFrontage</th>\n",
       "      <th>LotArea</th>\n",
       "      <th>Street</th>\n",
       "      <th>Alley</th>\n",
       "      <th>LotShape</th>\n",
       "      <th>LandContour</th>\n",
       "      <th>Utilities</th>\n",
       "      <th>...</th>\n",
       "      <th>PoolArea</th>\n",
       "      <th>PoolQC</th>\n",
       "      <th>Fence</th>\n",
       "      <th>MiscFeature</th>\n",
       "      <th>MiscVal</th>\n",
       "      <th>MoSold</th>\n",
       "      <th>YrSold</th>\n",
       "      <th>SaleType</th>\n",
       "      <th>SaleCondition</th>\n",
       "      <th>SalePrice</th>\n",
       "    </tr>\n",
       "  </thead>\n",
       "  <tbody>\n",
       "    <tr>\n",
       "      <th>0</th>\n",
       "      <td>1</td>\n",
       "      <td>60</td>\n",
       "      <td>RL</td>\n",
       "      <td>65.0</td>\n",
       "      <td>8450</td>\n",
       "      <td>Pave</td>\n",
       "      <td>NaN</td>\n",
       "      <td>Reg</td>\n",
       "      <td>Lvl</td>\n",
       "      <td>AllPub</td>\n",
       "      <td>...</td>\n",
       "      <td>0</td>\n",
       "      <td>NaN</td>\n",
       "      <td>NaN</td>\n",
       "      <td>NaN</td>\n",
       "      <td>0</td>\n",
       "      <td>2</td>\n",
       "      <td>2008</td>\n",
       "      <td>WD</td>\n",
       "      <td>Normal</td>\n",
       "      <td>208500</td>\n",
       "    </tr>\n",
       "    <tr>\n",
       "      <th>1</th>\n",
       "      <td>2</td>\n",
       "      <td>20</td>\n",
       "      <td>RL</td>\n",
       "      <td>80.0</td>\n",
       "      <td>9600</td>\n",
       "      <td>Pave</td>\n",
       "      <td>NaN</td>\n",
       "      <td>Reg</td>\n",
       "      <td>Lvl</td>\n",
       "      <td>AllPub</td>\n",
       "      <td>...</td>\n",
       "      <td>0</td>\n",
       "      <td>NaN</td>\n",
       "      <td>NaN</td>\n",
       "      <td>NaN</td>\n",
       "      <td>0</td>\n",
       "      <td>5</td>\n",
       "      <td>2007</td>\n",
       "      <td>WD</td>\n",
       "      <td>Normal</td>\n",
       "      <td>181500</td>\n",
       "    </tr>\n",
       "    <tr>\n",
       "      <th>2</th>\n",
       "      <td>3</td>\n",
       "      <td>60</td>\n",
       "      <td>RL</td>\n",
       "      <td>68.0</td>\n",
       "      <td>11250</td>\n",
       "      <td>Pave</td>\n",
       "      <td>NaN</td>\n",
       "      <td>IR1</td>\n",
       "      <td>Lvl</td>\n",
       "      <td>AllPub</td>\n",
       "      <td>...</td>\n",
       "      <td>0</td>\n",
       "      <td>NaN</td>\n",
       "      <td>NaN</td>\n",
       "      <td>NaN</td>\n",
       "      <td>0</td>\n",
       "      <td>9</td>\n",
       "      <td>2008</td>\n",
       "      <td>WD</td>\n",
       "      <td>Normal</td>\n",
       "      <td>223500</td>\n",
       "    </tr>\n",
       "    <tr>\n",
       "      <th>3</th>\n",
       "      <td>4</td>\n",
       "      <td>70</td>\n",
       "      <td>RL</td>\n",
       "      <td>60.0</td>\n",
       "      <td>9550</td>\n",
       "      <td>Pave</td>\n",
       "      <td>NaN</td>\n",
       "      <td>IR1</td>\n",
       "      <td>Lvl</td>\n",
       "      <td>AllPub</td>\n",
       "      <td>...</td>\n",
       "      <td>0</td>\n",
       "      <td>NaN</td>\n",
       "      <td>NaN</td>\n",
       "      <td>NaN</td>\n",
       "      <td>0</td>\n",
       "      <td>2</td>\n",
       "      <td>2006</td>\n",
       "      <td>WD</td>\n",
       "      <td>Abnorml</td>\n",
       "      <td>140000</td>\n",
       "    </tr>\n",
       "    <tr>\n",
       "      <th>4</th>\n",
       "      <td>5</td>\n",
       "      <td>60</td>\n",
       "      <td>RL</td>\n",
       "      <td>84.0</td>\n",
       "      <td>14260</td>\n",
       "      <td>Pave</td>\n",
       "      <td>NaN</td>\n",
       "      <td>IR1</td>\n",
       "      <td>Lvl</td>\n",
       "      <td>AllPub</td>\n",
       "      <td>...</td>\n",
       "      <td>0</td>\n",
       "      <td>NaN</td>\n",
       "      <td>NaN</td>\n",
       "      <td>NaN</td>\n",
       "      <td>0</td>\n",
       "      <td>12</td>\n",
       "      <td>2008</td>\n",
       "      <td>WD</td>\n",
       "      <td>Normal</td>\n",
       "      <td>250000</td>\n",
       "    </tr>\n",
       "  </tbody>\n",
       "</table>\n",
       "<p>5 rows \u00d7 81 columns</p>\n",
       "</div>"
      ],
      "text/plain": [
       "   Id  MSSubClass MSZoning  LotFrontage  LotArea Street Alley LotShape  \\\n",
       "0   1          60       RL         65.0     8450   Pave   NaN      Reg   \n",
       "1   2          20       RL         80.0     9600   Pave   NaN      Reg   \n",
       "2   3          60       RL         68.0    11250   Pave   NaN      IR1   \n",
       "3   4          70       RL         60.0     9550   Pave   NaN      IR1   \n",
       "4   5          60       RL         84.0    14260   Pave   NaN      IR1   \n",
       "\n",
       "  LandContour Utilities  ... PoolArea PoolQC Fence MiscFeature MiscVal MoSold  \\\n",
       "0         Lvl    AllPub  ...        0    NaN   NaN         NaN       0      2   \n",
       "1         Lvl    AllPub  ...        0    NaN   NaN         NaN       0      5   \n",
       "2         Lvl    AllPub  ...        0    NaN   NaN         NaN       0      9   \n",
       "3         Lvl    AllPub  ...        0    NaN   NaN         NaN       0      2   \n",
       "4         Lvl    AllPub  ...        0    NaN   NaN         NaN       0     12   \n",
       "\n",
       "  YrSold  SaleType  SaleCondition  SalePrice  \n",
       "0   2008        WD         Normal     208500  \n",
       "1   2007        WD         Normal     181500  \n",
       "2   2008        WD         Normal     223500  \n",
       "3   2006        WD        Abnorml     140000  \n",
       "4   2008        WD         Normal     250000  \n",
       "\n",
       "[5 rows x 81 columns]"
      ]
     },
     "execution_count": 5,
     "metadata": {},
     "output_type": "execute_result"
    }
   ],
   "source": [
    "df.head()"
   ]
  },
  {
   "cell_type": "code",
   "execution_count": 6,
   "metadata": {
    "_cell_guid": "758850c4-fd80-4379-8dfb-9d51d4d2b6b4",
    "_uuid": "ccb11061-af86-4b6e-ad92-4ded6eff5f32"
   },
   "outputs": [
    {
     "name": "stdout",
     "output_type": "stream",
     "text": [
      "number of numeric columns: 38\n",
      "number of categorical columns: 43\n"
     ]
    }
   ],
   "source": [
    "print('number of numeric columns: ' + str(len(df.select_dtypes(['int64','float64']).columns)))\n",
    "print('number of categorical columns: ' + str(len(df.select_dtypes(['object']).columns)))"
   ]
  },
  {
   "cell_type": "code",
   "execution_count": 7,
   "metadata": {
    "_cell_guid": "8bd4b870-5019-405d-bb62-31413b5a2345",
    "_uuid": "9f1be66b-207a-48f5-a224-293a2094b761"
   },
   "outputs": [
    {
     "name": "stderr",
     "output_type": "stream",
     "text": [
      "/tmp/ipykernel_295620/3119975646.py:5: FutureWarning: The default value of numeric_only in DataFrame.corr is deprecated. In a future version, it will default to False. Select only valid columns or specify the value of numeric_only to silence this warning.\n",
      "  df.corr()['SalePrice'].drop('SalePrice').sort_values()\n"
     ]
    },
    {
     "data": {
      "text/plain": [
       "KitchenAbvGr    -0.135907\n",
       "EnclosedPorch   -0.128578\n",
       "MSSubClass      -0.084284\n",
       "OverallCond     -0.077856\n",
       "YrSold          -0.028923\n",
       "LowQualFinSF    -0.025606\n",
       "Id              -0.021917\n",
       "MiscVal         -0.021190\n",
       "BsmtHalfBath    -0.016844\n",
       "BsmtFinSF2      -0.011378\n",
       "3SsnPorch        0.044584\n",
       "MoSold           0.046432\n",
       "PoolArea         0.092404\n",
       "ScreenPorch      0.111447\n",
       "BedroomAbvGr     0.168213\n",
       "BsmtUnfSF        0.214479\n",
       "BsmtFullBath     0.227122\n",
       "LotArea          0.263843\n",
       "HalfBath         0.284108\n",
       "OpenPorchSF      0.315856\n",
       "2ndFlrSF         0.319334\n",
       "WoodDeckSF       0.324413\n",
       "LotFrontage      0.351799\n",
       "BsmtFinSF1       0.386420\n",
       "Fireplaces       0.466929\n",
       "MasVnrArea       0.477493\n",
       "GarageYrBlt      0.486362\n",
       "YearRemodAdd     0.507101\n",
       "YearBuilt        0.522897\n",
       "TotRmsAbvGrd     0.533723\n",
       "FullBath         0.560664\n",
       "1stFlrSF         0.605852\n",
       "TotalBsmtSF      0.613581\n",
       "GarageArea       0.623431\n",
       "GarageCars       0.640409\n",
       "GrLivArea        0.708624\n",
       "OverallQual      0.790982\n",
       "Name: SalePrice, dtype: float64"
      ]
     },
     "execution_count": 7,
     "metadata": {},
     "output_type": "execute_result"
    }
   ],
   "source": [
    "#correlation to SalePrice\n",
    "# FIRST-AUTHOR: remove plotting\n",
    "# plt.figure(figsize=(12,6))\n",
    "# df.corr()['SalePrice'].drop('SalePrice').sort_values().plot(kind='bar')\n",
    "df.corr()['SalePrice'].drop('SalePrice').sort_values()"
   ]
  },
  {
   "cell_type": "markdown",
   "metadata": {
    "_cell_guid": "90aed2cd-99c6-45f2-b72d-af2f7814fabe",
    "_uuid": "88a8ce8b-283c-424c-8521-fcf44347071a"
   },
   "source": [
    "'OverallQual' and 'GrLivArea' are the strongest predictors for 'SalePrice'"
   ]
  },
  {
   "cell_type": "code",
   "execution_count": 8,
   "metadata": {
    "_cell_guid": "27e9294f-6881-408a-9ecb-d49beb623e6b",
    "_uuid": "2c8c9ec0-b63c-488a-aa3b-eeb856ebc3e4"
   },
   "outputs": [],
   "source": [
    "# FIRST-AUTHOR: remove plotting\n",
    "# sns.jointplot(x='OverallQual', y='SalePrice', data=df)\n",
    "\n",
    "# sns.jointplot(x='GrLivArea', y='SalePrice', data=df)"
   ]
  },
  {
   "cell_type": "markdown",
   "metadata": {
    "_cell_guid": "e36b6d98-4675-4b96-9568-0542752ae2f3",
    "_uuid": "a03f8fca-ca91-497f-aa8c-fafba4c4a8e2"
   },
   "source": [
    "<div id=\"3\"> </div>\n",
    "### 3. Data Preprocessing"
   ]
  },
  {
   "cell_type": "markdown",
   "metadata": {
    "_cell_guid": "45331685-1138-4cb4-b9d2-d06137b89750",
    "_uuid": "64b80cc7-87c1-43e3-8a32-9d1cc4a707b6"
   },
   "source": [
    "<div id=\"31\"> </div>\n",
    "#### 3-1. Missing Values\n",
    "* Categorical column with missing values : 23 \n",
    "* Numerical column with missing values : 11"
   ]
  },
  {
   "cell_type": "code",
   "execution_count": 9,
   "metadata": {
    "_cell_guid": "0873cbf4-3c92-4dad-83a5-1adbbbacc99d",
    "_uuid": "9855b62b-80dc-4b3a-85c2-9418ce87d6b9"
   },
   "outputs": [
    {
     "data": {
      "text/plain": [
       "PoolQC          2909\n",
       "MiscFeature     2814\n",
       "Alley           2721\n",
       "Fence           2348\n",
       "FireplaceQu     1420\n",
       "GarageCond       159\n",
       "GarageQual       159\n",
       "GarageFinish     159\n",
       "GarageType       157\n",
       "BsmtExposure      82\n",
       "BsmtCond          82\n",
       "BsmtQual          81\n",
       "BsmtFinType2      80\n",
       "BsmtFinType1      79\n",
       "MasVnrType        24\n",
       "MSZoning           4\n",
       "Utilities          2\n",
       "Functional         2\n",
       "Exterior2nd        1\n",
       "Exterior1st        1\n",
       "SaleType           1\n",
       "KitchenQual        1\n",
       "Electrical         1\n",
       "dtype: int64"
      ]
     },
     "execution_count": 9,
     "metadata": {},
     "output_type": "execute_result"
    }
   ],
   "source": [
    "#23 catergorical columns with missing values\n",
    "missing_str = features.select_dtypes('object').isnull().sum().sort_values(ascending=False)\n",
    "missing_str[missing_str>0]"
   ]
  },
  {
   "cell_type": "markdown",
   "metadata": {
    "_cell_guid": "31fbab19-38d5-459b-aae7-bac0562f0ad7",
    "_uuid": "343d6727-cedc-475c-ac3c-60b097cc39af"
   },
   "source": [
    "**Categorical missing filling with 'None':**\n",
    "\n",
    "From description text file, we know NA represents the properties does not have these facilities like basement, garage, etc."
   ]
  },
  {
   "cell_type": "code",
   "execution_count": 10,
   "metadata": {
    "_cell_guid": "c5d528ac-3657-43d1-a4aa-f76670ab3f1b",
    "_uuid": "168c5d99-780d-4c64-b193-b3e202967389"
   },
   "outputs": [],
   "source": [
    "fill_none = ['MiscFeature','Alley','Fence','FireplaceQu','GarageType','GarageCond', 'GarageQual','GarageFinish','BsmtCond','BsmtFinType1', 'BsmtFinType2', 'BsmtExposure', 'BsmtQual','MasVnrType']\n",
    "features[fill_none] = features[fill_none].fillna('None',inplace=False)"
   ]
  },
  {
   "cell_type": "markdown",
   "metadata": {
    "_cell_guid": "4fad9089-5e3d-4cd5-a03e-a36cd10e6612",
    "_uuid": "aea81341-09e2-4e3e-b6db-a32c3b57e191"
   },
   "source": [
    "**Categorical missing filling with 'N' and making it binary:**\n",
    "\n",
    "'PoolQC' stands for those properties with 'PoolArea'>0. There are only seven properties with pool regions, so drop 'PoolArea' and represented by 'PoolQC'. Futhermore, 'PoolQC' quality seems to have no effects on final price, so turn it into binary coding."
   ]
  },
  {
   "cell_type": "code",
   "execution_count": 11,
   "metadata": {
    "_cell_guid": "df2257a8-50a4-4a80-a44d-f71c1712199c",
    "_uuid": "c95c5bc2-0e28-4745-bb1c-804ba86bec53"
   },
   "outputs": [],
   "source": [
    "# FIRST-AUTHOR: remove plotting\n",
    "# sns.scatterplot(x='PoolArea',y='SalePrice',data=df.fillna('Missing'),hue='PoolQC')\n",
    "_ = df.fillna('Missing')"
   ]
  },
  {
   "cell_type": "code",
   "execution_count": 12,
   "metadata": {
    "_cell_guid": "a6ba4759-8b67-4bdf-b8fe-4c14abced122",
    "_uuid": "d17012c7-15c1-41f4-b152-73432d0ca36f"
   },
   "outputs": [],
   "source": [
    "features['PoolQC'].fillna('N',inplace=True)\n",
    "features['PoolQC'].replace({'Ex':'Y','Fa':'Y','Gd':'Y'},inplace=True)\n",
    "features.drop('PoolArea',axis=1,inplace=True)"
   ]
  },
  {
   "cell_type": "markdown",
   "metadata": {
    "_cell_guid": "1816ba43-fd46-4909-ac6c-a3836b8b99d7",
    "_uuid": "e98b54dd-ed6a-40c4-b8f9-4201693a889c"
   },
   "source": [
    "**Categorical missing filling with 'mode':**\n",
    "\n",
    "The remained categorical columns with only few missing value, and does not represent the facilities are not available in the houses. As a result, the strategy is to fill them with it mode (most occurring value)."
   ]
  },
  {
   "cell_type": "code",
   "execution_count": 13,
   "metadata": {
    "_cell_guid": "bc7d5489-9507-4564-a621-06fe41bf1933",
    "_uuid": "31edc898-8a45-4bef-8607-fac100258c49"
   },
   "outputs": [],
   "source": [
    "otr_cate = ['MSZoning', 'Utilities', 'Functional', 'Electrical', 'SaleType', 'Exterior2nd', 'Exterior1st', 'KitchenQual']\n",
    "for c in otr_cate:\n",
    "    features[c] = features[c].fillna(features[c].mode()[0],inplace=False)"
   ]
  },
  {
   "cell_type": "code",
   "execution_count": 14,
   "metadata": {
    "_cell_guid": "08231435-2417-4543-bedb-38bf344e3b0b",
    "_uuid": "0570eae0-671a-44ce-a433-df2f63d21d30"
   },
   "outputs": [
    {
     "data": {
      "text/plain": [
       "LotFrontage     486\n",
       "GarageYrBlt     159\n",
       "MasVnrArea       23\n",
       "BsmtHalfBath      2\n",
       "BsmtFullBath      2\n",
       "BsmtUnfSF         1\n",
       "GarageCars        1\n",
       "GarageArea        1\n",
       "TotalBsmtSF       1\n",
       "BsmtFinSF2        1\n",
       "BsmtFinSF1        1\n",
       "dtype: int64"
      ]
     },
     "execution_count": 14,
     "metadata": {},
     "output_type": "execute_result"
    }
   ],
   "source": [
    "#11 catergorical columns with missing values\n",
    "missing_num = features.select_dtypes(['int64','float64']).isnull().sum().sort_values(ascending=False)\n",
    "missing_num[missing_num>0]"
   ]
  },
  {
   "cell_type": "markdown",
   "metadata": {
    "_cell_guid": "7f7e9d8d-fc3c-468b-b2c0-10099db08026",
    "_uuid": "0e262ca3-ca04-4724-a91b-5dcdf2181a0a"
   },
   "source": [
    "**Numerical missing filling with meidan:**\n",
    "\n",
    "'LotFrontage' is correlated with 'LotArea', so it may not suitable to fill missing value with 'None'."
   ]
  },
  {
   "cell_type": "code",
   "execution_count": 15,
   "metadata": {
    "_cell_guid": "101cf0d6-5d73-4017-9559-c4602ccb572f",
    "_uuid": "fbadf595-5c87-4269-877b-2bb1db959775"
   },
   "outputs": [],
   "source": [
    "# FIRST-AUTHOR: remove plotting\n",
    "# df.plot(x='LotFrontage',y='LotArea',kind='scatter')"
   ]
  },
  {
   "cell_type": "code",
   "execution_count": 16,
   "metadata": {
    "_cell_guid": "ade1107b-7014-415e-b58e-6977433b974a",
    "_uuid": "7c7afbaf-a5de-4a03-b756-8ae641766bf1"
   },
   "outputs": [],
   "source": [
    "features['LotFrontage'].fillna(features['LotFrontage'].median(),inplace=True)"
   ]
  },
  {
   "cell_type": "markdown",
   "metadata": {
    "_cell_guid": "304056c6-4d3a-4170-b396-8a51f7fc7935",
    "_uuid": "cd0b4b03-4e81-4c9f-b8f8-c6bb1318b1cf"
   },
   "source": [
    "**Numerical missing filling with '0':**\n",
    "\n",
    "Missing 'GarageYrBlt' means garages are not available in the properties, and other missing value counts are relatively small for other columns, so fill them all with 0 for simplicity."
   ]
  },
  {
   "cell_type": "code",
   "execution_count": 17,
   "metadata": {
    "_cell_guid": "fd20c925-ad6c-4fee-8036-c68cff67ce07",
    "_uuid": "7e5b56ae-b6af-4616-b24a-425c68641063"
   },
   "outputs": [
    {
     "data": {
      "text/plain": [
       "159"
      ]
     },
     "execution_count": 17,
     "metadata": {},
     "output_type": "execute_result"
    }
   ],
   "source": [
    "features[features['GarageCond']=='None']['GarageYrBlt'].isnull().sum()"
   ]
  },
  {
   "cell_type": "code",
   "execution_count": 18,
   "metadata": {
    "_cell_guid": "c13c0c72-61ce-431b-a30e-8ae007c3c403",
    "_uuid": "d2a6c409-b319-4c0d-87ac-8427f0d470c6"
   },
   "outputs": [],
   "source": [
    "features['GarageYrBlt'].fillna(0,inplace=True)"
   ]
  },
  {
   "cell_type": "code",
   "execution_count": 19,
   "metadata": {
    "_cell_guid": "96761049-a1b6-4f88-82d2-134db6a9307c",
    "_uuid": "dfbe1f98-82b2-46bf-9e15-90b8b7612833"
   },
   "outputs": [],
   "source": [
    "fill_zero = ['GarageArea','GarageCars','MasVnrArea','BsmtFullBath','BsmtHalfBath','BsmtFinSF1','BsmtFinSF2','BsmtUnfSF','TotalBsmtSF']\n",
    "features[fill_zero] = features[fill_zero].fillna(0)"
   ]
  },
  {
   "cell_type": "markdown",
   "metadata": {
    "_cell_guid": "cb6f662b-206d-4e2f-a554-2e4f20c6bb36",
    "_uuid": "a549ec87-9873-4240-bdb8-c43786d1abf0"
   },
   "source": [
    "<div id=\"32\"> </div>\n",
    "#### 3-2. Outliers\n",
    "\n",
    "Outliers or high leverage points could significantly alter our linear regression, so we have to identify and remove these points from our training set."
   ]
  },
  {
   "cell_type": "code",
   "execution_count": 20,
   "metadata": {
    "_cell_guid": "bc0d6a75-06fb-495d-912d-31269164a69c",
    "_uuid": "85de561c-3f72-47d9-867e-e8b884b4e196"
   },
   "outputs": [],
   "source": [
    "# focusing on first row, and found some point does not follow the trend\n",
    "# FIRST-AUTHOR: remove plotting\n",
    "# sns.pairplot(df[['SalePrice','GrLivArea','1stFlrSF','TotalBsmtSF','LotFrontage','LotArea']].dropna())\n",
    "_ = df[['SalePrice','GrLivArea','1stFlrSF','TotalBsmtSF','LotFrontage','LotArea']].dropna()"
   ]
  },
  {
   "cell_type": "markdown",
   "metadata": {
    "_cell_guid": "50752b3e-21db-4e20-900b-f3e9873f136c",
    "_uuid": "d618d086-25fc-4928-b82d-7d2ac7462cfa"
   },
   "source": [
    "Since there are some duplicated outliers, first collect them all and then remove duplicated before drop from dataframe."
   ]
  },
  {
   "cell_type": "code",
   "execution_count": 21,
   "metadata": {
    "_cell_guid": "8f29a2f0-e23e-4f1c-8fde-8a411c3da21c",
    "_uuid": "adb04620-e603-4eab-acf8-9d5a93e6bd3d"
   },
   "outputs": [],
   "source": [
    "drop_index = [] # list to contain all rows should be excluded\n",
    "drop_index.append(df[(df['GrLivArea']>4500) & (df['SalePrice']<400000)].loc[:train_size].index)\n",
    "drop_index.append(df[(df['1stFlrSF']>4000) & (df['SalePrice']<400000)].loc[:train_size].index)\n",
    "drop_index.append(df[(df['TotalBsmtSF']>6000) & (df['SalePrice']<400000)].loc[:train_size].index)\n",
    "drop_index.append(df[df['LotArea']>100000].index)\n",
    "drop_index.append(df[df['LotFrontage']>300].index)\n",
    "\n",
    "drop_index = list(map(list,drop_index)) # IndexObject -> python list\n",
    "tmp = []\n",
    "for sublist in drop_index:\n",
    "    for item in sublist:\n",
    "        tmp.append(item)\n",
    "drop_index = list(set(tmp))  # merge into single list and take set() to remove the duplicated\n",
    "\n",
    "features.drop(drop_index,inplace=True)\n",
    "target.drop(drop_index,inplace=True)"
   ]
  },
  {
   "cell_type": "markdown",
   "metadata": {
    "_cell_guid": "b321985a-151e-4b8b-a4e4-2eed4e009f61",
    "_uuid": "e93241c8-7e39-4f79-9924-2a378446611a"
   },
   "source": [
    "<div id=\"33\"> </div>\n",
    "#### 3-3. Column Modification"
   ]
  },
  {
   "cell_type": "markdown",
   "metadata": {
    "_cell_guid": "616ec37d-686d-4378-ad82-189a5bee8782",
    "_uuid": "f11a2ec4-e3d2-4e02-842a-d66bb5eb5e95"
   },
   "source": [
    "**'MSSubClass'**: Identifies the type of dwelling involved in the sale.\n",
    "* 20 : 1-STORY 1946 & NEWER ALL STYLES\n",
    "* 30 : 1-STORY 1945 & OLDER\n",
    "* ...\n",
    "\n",
    "This should be a categorical column, instead of numerical one."
   ]
  },
  {
   "cell_type": "code",
   "execution_count": 22,
   "metadata": {
    "_cell_guid": "44bcbf3e-ddfe-44c6-b66d-833e2cc097d1",
    "_uuid": "fcafb676-7651-4bba-be8b-41df56183f7f"
   },
   "outputs": [],
   "source": [
    "features['MSSubClass'] = features['MSSubClass'].astype('object')"
   ]
  },
  {
   "cell_type": "markdown",
   "metadata": {
    "_cell_guid": "72315cfe-eccd-4caa-90c7-5151cf971836",
    "_uuid": "fa556a90-3c93-4c49-8e2d-27dca26cad97"
   },
   "source": [
    "**'Utilities'**: only one row with different value, so remove this column"
   ]
  },
  {
   "cell_type": "code",
   "execution_count": 23,
   "metadata": {
    "_cell_guid": "77140f5f-77b9-46ed-ba93-748ca783a7d9",
    "_uuid": "3e2b39ef-5946-434e-89ec-e74b05876cd1"
   },
   "outputs": [
    {
     "data": {
      "text/plain": [
       "AllPub    2911\n",
       "NoSeWa       1\n",
       "Name: Utilities, dtype: int64"
      ]
     },
     "execution_count": 23,
     "metadata": {},
     "output_type": "execute_result"
    }
   ],
   "source": [
    "features['Utilities'].value_counts()"
   ]
  },
  {
   "cell_type": "code",
   "execution_count": 24,
   "metadata": {
    "_cell_guid": "631d9216-872a-43ac-b1c0-fb97cdf557e3",
    "_uuid": "15f99531-541d-4498-92ae-61ef6fd2765a"
   },
   "outputs": [],
   "source": [
    "features.drop('Utilities',axis=1,inplace=True)"
   ]
  },
  {
   "cell_type": "markdown",
   "metadata": {
    "_cell_guid": "ab0dcd5c-a64a-454c-9d36-f1d9aadeccd2",
    "_uuid": "e1edd603-f98c-4f0d-a937-07f77baf73d6"
   },
   "source": [
    "**'Id**: remove it, because it contains no useful information for price prediction."
   ]
  },
  {
   "cell_type": "code",
   "execution_count": 25,
   "metadata": {
    "_cell_guid": "a2219abe-43a7-4832-9878-939f5c12f503",
    "_uuid": "a51766c4-fbff-4c4f-8217-c8defe6c4699"
   },
   "outputs": [],
   "source": [
    "features.drop('Id',axis=1,inplace=True)"
   ]
  },
  {
   "cell_type": "markdown",
   "metadata": {
    "_cell_guid": "64dc5efe-679e-41ee-ab36-866dfaaf3585",
    "_uuid": "30bdb4d1-cffd-4768-909b-18db39d3f127"
   },
   "source": [
    "**'LowQualFinSF'**: transforming into binary variable, since only few observations with value >0, and not sensitive to 'SalePrice'"
   ]
  },
  {
   "cell_type": "code",
   "execution_count": 26,
   "metadata": {
    "_cell_guid": "afc9df73-b56f-4027-97b3-a5570ce8d5e0",
    "_uuid": "8ad2c73d-3d13-410e-9216-892105c0789e"
   },
   "outputs": [],
   "source": [
    "# FIRST-AUTHOR: remove plotting\n",
    "# df.plot(x='LowQualFinSF',y='SalePrice',kind='scatter')"
   ]
  },
  {
   "cell_type": "code",
   "execution_count": 27,
   "metadata": {
    "_cell_guid": "f9d8cc9d-db0c-40b6-a5f3-67f1efbaab59",
    "_uuid": "6fa9fd7e-f638-49f0-862d-b8ae2233195e"
   },
   "outputs": [],
   "source": [
    "features['LowQualFinSF'] = features['LowQualFinSF'].apply(lambda x: 'Y' if x>0 else 'N')"
   ]
  },
  {
   "cell_type": "markdown",
   "metadata": {
    "_cell_guid": "779c4219-9847-48f4-8f44-d3fe8c2e6cc8",
    "_uuid": "47a18e2c-42df-4e8a-b0c6-060c81b13d1b"
   },
   "source": [
    "<div id=\"34\"> </div>\n",
    "#### 3-4. Non-linearity\n",
    "\n",
    "One of the fundamental assumptions of linear model is that every predictor X is linearly correlated to response Y. Since our response Y will take log transformation to improve the problem that residue variance is related to Y."
   ]
  },
  {
   "cell_type": "markdown",
   "metadata": {
    "_cell_guid": "ea16a88d-aff9-4da8-95db-2cccebaa9701",
    "_uuid": "91acbf07-cc62-412b-8350-b5b5ad5a58ee"
   },
   "source": [
    "**'GrLivArea'** is the strongest predictor but the linear relationship with 'SalePrice' could be further imporved, by taking square root of 'GrLivArea'."
   ]
  },
  {
   "cell_type": "code",
   "execution_count": 28,
   "metadata": {
    "_cell_guid": "1197ed08-d265-42fa-8a40-5e825f228764",
    "_uuid": "9a7aeac4-c13a-43e4-ac1b-0ee15da2b7b4"
   },
   "outputs": [],
   "source": [
    "#before take square root\n",
    "# FIRST-AUTHOR: remove plotting\n",
    "# sns.jointplot(x=df['GrLivArea'],y=df['SalePrice'].apply(np.log1p),data=df,kind='reg')\n",
    "_ = df['GrLivArea']\n",
    "_ = df['SalePrice'].apply(np.log1p)"
   ]
  },
  {
   "cell_type": "code",
   "execution_count": 29,
   "metadata": {
    "_cell_guid": "4aab7656-676c-4558-bb66-bb22f6bddb0b",
    "_uuid": "ca001af4-3769-4a28-bbe9-3a62a16a34f3"
   },
   "outputs": [],
   "source": [
    "#after take square root\n",
    "# FIRST-AUTHOR: remove plotting\n",
    "# sns.jointplot(x=df['GrLivArea']**0.5,y=df['SalePrice'].apply(np.log1p),data=df,kind='reg')\n",
    "_ = df['GrLivArea']**0.5\n",
    "_ = df['SalePrice'].apply(np.log1p)"
   ]
  },
  {
   "cell_type": "code",
   "execution_count": 30,
   "metadata": {
    "_cell_guid": "827120a2-d2d0-43aa-9a3a-9f1535c8994a",
    "_uuid": "97e8a199-c234-43fb-952f-07512fe14092"
   },
   "outputs": [],
   "source": [
    "features['GrLivArea'] = features['GrLivArea']**0.5"
   ]
  },
  {
   "cell_type": "markdown",
   "metadata": {
    "_cell_guid": "75a0fead-139d-49bb-8c07-f8410daa1a40",
    "_uuid": "bc6afb96-f0f8-4beb-9833-5671119fa6d2"
   },
   "source": [
    "<div id=\"35\"> </div>\n",
    "#### 3-5. Collinearity\n",
    "\n",
    "Collinearity means any two of the predictors are correlated with each other. This could lead to lower accuracy of the model, because it will be hard to determine the coefficients of each predictor."
   ]
  },
  {
   "cell_type": "code",
   "execution_count": 31,
   "metadata": {
    "_cell_guid": "9e2399a0-d93b-40a7-a005-c0bb96998ad0",
    "_uuid": "4bd12b93-eb18-42a3-a55d-e96035957b09"
   },
   "outputs": [
    {
     "name": "stderr",
     "output_type": "stream",
     "text": [
      "/tmp/ipykernel_295620/2846870584.py:2: FutureWarning: The default value of numeric_only in DataFrame.corr is deprecated. In a future version, it will default to False. Select only valid columns or specify the value of numeric_only to silence this warning.\n",
      "  corr_matrix = features.corr()\n"
     ]
    },
    {
     "data": {
      "text/plain": [
       "{'OverallQual GarageCars': 0.600900282521989,\n",
       " 'YearBuilt YearRemodAdd': 0.6125783823934615,\n",
       " 'BsmtFinSF1 BsmtFullBath': 0.6424797159573682,\n",
       " 'TotalBsmtSF 1stFlrSF': 0.7943481673831029,\n",
       " '2ndFlrSF GrLivArea': 0.6518476994140551,\n",
       " '2ndFlrSF HalfBath': 0.6110213798223366,\n",
       " 'GrLivArea FullBath': 0.6485037726715477,\n",
       " 'GrLivArea TotRmsAbvGrd': 0.812767178728357,\n",
       " 'BedroomAbvGr TotRmsAbvGrd': 0.6715492244041656,\n",
       " 'GarageCars GarageArea': 0.8924862023253122}"
      ]
     },
     "execution_count": 31,
     "metadata": {},
     "output_type": "execute_result"
    }
   ],
   "source": [
    "#predictor pairwise correlation check\n",
    "corr_matrix = features.corr()\n",
    "colinearity = {}\n",
    "for column in corr_matrix.columns:\n",
    "    index = corr_matrix[corr_matrix[column]>0.6].index\n",
    "    for indice in index:\n",
    "        if not column == indice:\n",
    "            if not indice+' '+column in colinearity.keys():\n",
    "                colinearity[column+' '+indice]=corr_matrix.loc[indice,column]\n",
    "colinearity"
   ]
  },
  {
   "cell_type": "code",
   "execution_count": 32,
   "metadata": {
    "_cell_guid": "62891963-6638-4520-8390-60d42252bc2d",
    "_uuid": "4832f9a0-f2e1-4799-ac85-e862cc63275e"
   },
   "outputs": [],
   "source": [
    "high_collinerarity = ['GarageArea','TotRmsAbvGrd','1stFlrSF','2ndFlrSF','BsmtFinSF1','BsmtFinSF2','FullBath']\n",
    "features = features.drop(high_collinerarity,axis=1)"
   ]
  },
  {
   "cell_type": "markdown",
   "metadata": {
    "_cell_guid": "0ee5669d-4b5f-4b6d-84fc-4fd7b4d5c8ce",
    "_uuid": "8d4f0a6e-4301-4d04-b598-90ba136cd8b6"
   },
   "source": [
    "<div id=\"36\"> </div>\n",
    "#### 3-6. Encoding\n",
    "Need to encode categorical variables to dummy variable before model fitting."
   ]
  },
  {
   "cell_type": "code",
   "execution_count": 33,
   "metadata": {
    "_cell_guid": "4f6b6572-4c72-4c87-9292-6d378fd56c1c",
    "_uuid": "32e0f83b-dcf3-4501-ba82-46b812be2a9d"
   },
   "outputs": [
    {
     "name": "stderr",
     "output_type": "stream",
     "text": [
      "/tmp/ipykernel_295620/2329592888.py:2: FutureWarning: In a future version, the Index constructor will not infer numeric dtypes when passed object-dtype sequences (matching Series behavior)\n",
      "  dummies = pd.get_dummies(features[categorical_cols],drop_first=True)\n"
     ]
    }
   ],
   "source": [
    "categorical_cols = list(features.select_dtypes('object').columns)\n",
    "dummies = pd.get_dummies(features[categorical_cols],drop_first=True)\n",
    "features = pd.concat([features.drop(categorical_cols,axis=1),dummies],axis=1)"
   ]
  },
  {
   "cell_type": "markdown",
   "metadata": {
    "_cell_guid": "0e1d41d8-0d5d-4d7a-ac87-1e0c2b61af56",
    "_uuid": "f0091b40-b1ea-4667-ae1c-d7b30b07d472"
   },
   "source": [
    "<div id=\"4\"> </div>\n",
    "### 4. Modeling and Evaluation"
   ]
  },
  {
   "cell_type": "code",
   "execution_count": 34,
   "metadata": {
    "_cell_guid": "df7ba8e6-d782-4889-bb95-73ea17f2c036",
    "_uuid": "8fa04631-4ee8-4ff9-9ff7-96ca0a576d04"
   },
   "outputs": [],
   "source": [
    "X_train = features.loc[0:train_size-1]\n",
    "y_train = target\n",
    "X_test = features.loc[train_size:]"
   ]
  },
  {
   "cell_type": "code",
   "execution_count": 35,
   "metadata": {
    "_cell_guid": "e171c962-be4d-4965-83e8-35e31c086145",
    "_uuid": "c2b531dd-0740-4f93-bcc6-b001c86142ac"
   },
   "outputs": [
    {
     "data": {
      "text/plain": [
       "(1453, 261)"
      ]
     },
     "execution_count": 35,
     "metadata": {},
     "output_type": "execute_result"
    }
   ],
   "source": [
    "X_train.shape"
   ]
  },
  {
   "cell_type": "markdown",
   "metadata": {
    "_cell_guid": "5a44949a-da89-41ef-91d2-786b6ca18e2e",
    "_uuid": "eb5ff860-5945-4c31-a02f-833caf937459"
   },
   "source": [
    "For Linear Regression, we assume that response Y and p predictors $X_i$ followed this form,\n",
    "$$Y = \\beta_0 + \\beta_1 X_1 + ... + \\beta_1 X_P  + \\epsilon$$\n",
    "\n",
    "and estimate coefficients by using least square method, i.e. minimizing RSS.\n",
    "$$RSS = \\sum_{i=1}^n{(y_i-\\hat y_i)^2} = \\sum_{i=1}^n{(y_i-\\beta_0 - \\sum_{j=1}^p{\\beta_i x_{ij}})}$$\n",
    "\n",
    "For Ridge Regression, shrinkage penalty is applied to punish large coefficient by a parameter $\\lambda$, resulting in reducing the variance.\n",
    "$$RSS + \\lambda \\sum_{i=1}^p{\\beta_i^2}$$\n",
    "\n",
    "This seems to work well, as number of observations n is not significantly large than that of predictors p.\n",
    "\n",
    "In this database we have only 1453 observations in training dataset, but there are 261 predictors. This may be one of the reasons why it works."
   ]
  },
  {
   "cell_type": "code",
   "execution_count": 36,
   "metadata": {
    "_cell_guid": "7e9a5821-b433-4273-9156-ad68f16185e3",
    "_uuid": "d5532434-cdf7-4e1e-8117-6ee4da95bce0"
   },
   "outputs": [],
   "source": [
    "# FIRST-AUTHOR: remove ML code\n",
    "# from sklearn.linear_model import RidgeCV\n",
    "# reg = RidgeCV()\n",
    "# reg.fit(X_train,np.log1p(y_train))\n",
    "_ = np.log1p(y_train)\n",
    "#reg.fit(X_train,y_train)"
   ]
  },
  {
   "cell_type": "code",
   "execution_count": 37,
   "metadata": {
    "_cell_guid": "254873a7-f678-4c17-8deb-aa1f4fa0d378",
    "_uuid": "438907f1-8055-44b3-a7ae-896aefc46f80"
   },
   "outputs": [],
   "source": [
    "# FIRST-AUTHOR: remove ML code\n",
    "# from sklearn.model_selection import cross_val_score\n",
    "# log_rms = np.sqrt(-np.mean(cross_val_score(reg, X_train,np.log1p(y_train), cv=5,scoring='neg_mean_squared_error')))\n",
    "# #log_rms = np.sqrt(-np.mean(cross_val_score(reg, X_train,y_train, cv=5,scoring='neg_mean_squared_log_error')))\n",
    "# print(f'RMLS : {log_rms}')\n",
    "_ = np.log1p(y_train)"
   ]
  },
  {
   "cell_type": "code",
   "execution_count": 38,
   "metadata": {
    "_cell_guid": "e476d8c9-c654-49a5-a4b8-acd48d440c38",
    "_uuid": "03db541c-0261-4557-b22a-836381be2f9a"
   },
   "outputs": [
    {
     "name": "stderr",
     "output_type": "stream",
     "text": [
      "/tmp/ipykernel_295620/4246421132.py:3: RuntimeWarning: overflow encountered in expm1\n",
      "  pred = np.expm1(y_train.to_numpy())\n"
     ]
    }
   ],
   "source": [
    "# FIRST-AUTHOR: remove ML code\n",
    "# pred = np.expm1(reg.predict(X_train))\n",
    "pred = np.expm1(y_train.to_numpy())\n",
    "#pred = reg.predict(X_train)"
   ]
  },
  {
   "cell_type": "code",
   "execution_count": 39,
   "metadata": {
    "_cell_guid": "2c0526ec-1f04-4a79-9986-4e32d4767d83",
    "_uuid": "8b4ab564-823f-4d99-b32c-00c982e4d7bf"
   },
   "outputs": [],
   "source": [
    "comparison = pd.DataFrame({'prediction':pred.reshape(pred.shape[0],),'actual':y_train,'error':pred.reshape(pred.shape[0],)-y_train})\n",
    "# FIRST-AUTHOR: remove plotting\n",
    "# sns.distplot(comparison['error'])\n",
    "_ = comparison['error']"
   ]
  },
  {
   "cell_type": "code",
   "execution_count": 40,
   "metadata": {
    "_cell_guid": "af93c0f5-0451-44c0-bff4-c2538a771b28",
    "_uuid": "84bb46a4-23aa-43d8-addb-6d8777a7283b"
   },
   "outputs": [],
   "source": [
    "# FIRST-AUTHOR: remove plotting\n",
    "# comparison.plot(x='prediction',y='error',kind='scatter')"
   ]
  },
  {
   "cell_type": "code",
   "execution_count": 41,
   "metadata": {
    "_cell_guid": "843719a3-df52-47b6-ac94-9409180d3f48",
    "_uuid": "fdd08138-8cef-4a34-aa52-c13b7a6d1f71"
   },
   "outputs": [],
   "source": [
    "# FIRST-AUTHOR: remove plotting\n",
    "# comparison.plot(x='prediction',y='actual',kind='scatter')"
   ]
  },
  {
   "cell_type": "code",
   "execution_count": 42,
   "metadata": {
    "_cell_guid": "b1f30e2e-5221-4bc6-828c-7c26940930da",
    "_uuid": "c994bd5d-1dc9-4068-92f8-cce4e0379441"
   },
   "outputs": [
    {
     "name": "stderr",
     "output_type": "stream",
     "text": [
      "/tmp/ipykernel_295620/2755181196.py:4: RuntimeWarning: overflow encountered in expm1\n",
      "  pred = np.expm1(y_train.to_numpy())\n"
     ]
    }
   ],
   "source": [
    "# output result for submission\n",
    "# FIRST-AUTHOR: remove ML code\n",
    "# pred = np.expm1(reg.predict(X_test))\n",
    "pred = np.expm1(y_train.to_numpy())\n",
    "# FIRST-AUTHOR: make notebook run\n",
    "# pred = pd.DataFrame(pred.reshape(1459, ))\n",
    "pred = pd.DataFrame(pred.reshape(pred.shape[0], ))\n",
    "output = pd.concat([df_test['Id'],pred],axis=1).rename(columns={0:'SalePrice'})\n",
    "output.to_csv('submission.csv',index=False)"
   ]
  },
  {
   "cell_type": "markdown",
   "metadata": {
    "_cell_guid": "76919250-ddcd-47e0-9d88-fd4bbbd708cc",
    "_uuid": "755edfe9-3218-4fdc-954d-250e8b4f7403"
   },
   "source": [
    "<div id=\"5\"> </div>\n",
    "### 5. Effectiveness of Preprocessing"
   ]
  },
  {
   "cell_type": "markdown",
   "metadata": {
    "_cell_guid": "56feaa70-8566-426a-b250-cdb4a1092a41",
    "_uuid": "cc7630c1-37c3-4980-9b91-b2c1f0c7b088"
   },
   "source": [
    "* cotrol : steps including only handle missing values and encoding (= comment out 3-2~3-5, and log transformation of y)\n",
    "* Outliers : 3-2\n",
    "* Log_y : take log transformation of response y\n",
    "* Modification : 3-3 column modification\n",
    "* Non-linearity : 3-4 non-linearity\n",
    "* Collinearity : 3-5 collinearity"
   ]
  },
  {
   "cell_type": "code",
   "execution_count": 43,
   "metadata": {
    "_cell_guid": "f8ac393e-f061-4220-8eeb-677a4686d589",
    "_uuid": "37d003b4-63c9-4820-a90e-2692f3e9ee92"
   },
   "outputs": [],
   "source": [
    "steps = ['Control','Outliers','Log_y','Modification','Non-linearity','Collinearity']\n",
    "rmls = [0.15494899171649665,0.14154336306738766,0.11543537404168344,0.11479554199015254,0.11394995795225088,0.11326714995779572]\n",
    "scores = pd.DataFrame({'steps':steps,'rmls':rmls})\n",
    "\n",
    "# FIRST-AUTHOR: remove plotting\n",
    "# scores.plot(x='steps',y='rmls',marker='o',rot=90)\n",
    "# plt.xlabel('Preprocessing Actions',fontsize=14)\n",
    "# plt.ylabel('RMLS',fontsize=14)\n",
    "# plt.title('RMLS Changing wrt to Preprocessing Actions',fontsize=16)"
   ]
  }
 ],
 "metadata": {
  "kernelspec": {
   "display_name": "Python 3 (ipykernel)",
   "language": "python",
   "name": "python3"
  },
  "language_info": {
   "codemirror_mode": {
    "name": "ipython",
    "version": 3
   },
   "file_extension": ".py",
   "mimetype": "text/x-python",
   "name": "python",
   "nbconvert_exporter": "python",
   "pygments_lexer": "ipython3",
   "version": "3.10.16"
  }
 },
 "nbformat": 4,
 "nbformat_minor": 4
}