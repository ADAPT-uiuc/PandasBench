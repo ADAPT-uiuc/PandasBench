{
 "cells": [
  {
   "cell_type": "code",
   "execution_count": null,
   "metadata": {},
   "outputs": [],
   "source": [
    "import os\n",
    "\n",
    "def scale_input_data(scale_factor):\n",
    "  file_bases = ['./input/summer-products-with-rating-and-performance_2020-08']\n",
    "  for file_base in file_bases:\n",
    "    import pandas as pd\n",
    "    import shutil\n",
    "    if scale_factor == 1.0:\n",
    "      shutil.copyfile(file_base + '.csv', file_base + '.scaled.csv')\n",
    "      continue\n",
    "    df_to_scale = pd.read_csv(file_base + '.csv')\n",
    "    new_num_rows = int(scale_factor * len(df_to_scale))\n",
    "    if scale_factor <= 1.0:\n",
    "      df_to_scale = df_to_scale.iloc[:new_num_rows]\n",
    "    else:\n",
    "      while len(df_to_scale) < new_num_rows:\n",
    "        df_to_scale = pd.concat([df_to_scale, df_to_scale[:min(new_num_rows - len(df_to_scale), len(df_to_scale))]])\n",
    "    df_to_scale.to_csv(file_base + '.scaled.csv', index=False)\n",
    "\n",
    "if 'INPUT_SCALE_FACTOR' in os.environ:\n",
    "  scale_input_data(float(os.environ['INPUT_SCALE_FACTOR']))"
   ]
  },
  {
   "attachments": {
    "image.png": {
     "image/png": "[encoded data removed]"
    }
   },
   "cell_type": "markdown",
   "metadata": {},
   "source": [
    "![image.png](attachment:image.png)"
   ]
  },
  {
   "cell_type": "markdown",
   "metadata": {},
   "source": [
    "# Extracting the most useful data\n",
    "*  the strcuture of the dataset have alot of columns and quiet small number of raws  I have to understand this data carefully so I will assess,clean this data , i will choose the most useful columns and i will ignore the remaining I want to extract the most usefull data to my model"
   ]
  },
  {
   "cell_type": "code",
   "execution_count": 1,
   "metadata": {
    "_cell_guid": "b1076dfc-b9ad-4769-8c92-a6c4dae69d19",
    "_uuid": "8f2839f25d086af736a60e9eeb907d3b93b6e0e5"
   },
   "outputs": [],
   "source": [
    "# This Python 3 environment comes with many helpful analytics libraries installed\n",
    "# It is defined by the kaggle/python Docker image: https://github.com/kaggle/docker-python\n",
    "# For example, here's several helpful packages to load\n",
    "\n",
    "import numpy as np # linear algebra\n",
    "# import pandas as pd # data processing, CSV file I/O (e.g. pd.read_csv)\n",
    "exec(os.environ['IREWR_IMPORTS'])\n",
    "\n",
    "# Input data files are available in the read-only \"../input/\" directory\n",
    "# For example, running this (by clicking run or pressing Shift+Enter) will list all files under the input directory\n",
    "\n",
    "# FIRST-AUTHOR: remove path printing\n",
    "# import os\n",
    "# for dirname, _, filenames in os.walk('/kaggle/input'):\n",
    "#     for filename in filenames:\n",
    "#         print(os.path.join(dirname, filename))\n",
    "\n",
    "# You can write up to 5GB to the current directory (/kaggle/working/) that gets preserved as output when you create a version using \"Save & Run All\" \n",
    "# You can also write temporary files to /kaggle/temp/, but they won't be saved outside of the current session"
   ]
  },
  {
   "cell_type": "markdown",
   "metadata": {},
   "source": [
    "#  Reading my dataset to my notebook"
   ]
  },
  {
   "cell_type": "code",
   "execution_count": 2,
   "metadata": {
    "_cell_guid": "79c7e3d0-c299-4dcb-8224-4455121ee9b0",
    "_uuid": "d629ff2d2480ee46fbb7e2d37f6b5fab8052498a"
   },
   "outputs": [
    {
     "data": {
      "text/html": [
       "<div>\n",
       "<style scoped>\n",
       "    .dataframe tbody tr th:only-of-type {\n",
       "        vertical-align: middle;\n",
       "    }\n",
       "\n",
       "    .dataframe tbody tr th {\n",
       "        vertical-align: top;\n",
       "    }\n",
       "\n",
       "    .dataframe thead th {\n",
       "        text-align: right;\n",
       "    }\n",
       "</style>\n",
       "<table border=\"1\" class=\"dataframe\">\n",
       "  <thead>\n",
       "    <tr style=\"text-align: right;\">\n",
       "      <th></th>\n",
       "      <th>title</th>\n",
       "      <th>title_orig</th>\n",
       "      <th>price</th>\n",
       "      <th>retail_price</th>\n",
       "      <th>currency_buyer</th>\n",
       "      <th>units_sold</th>\n",
       "      <th>uses_ad_boosts</th>\n",
       "      <th>rating</th>\n",
       "      <th>rating_count</th>\n",
       "      <th>rating_five_count</th>\n",
       "      <th>...</th>\n",
       "      <th>merchant_rating_count</th>\n",
       "      <th>merchant_rating</th>\n",
       "      <th>merchant_id</th>\n",
       "      <th>merchant_has_profile_picture</th>\n",
       "      <th>merchant_profile_picture</th>\n",
       "      <th>product_url</th>\n",
       "      <th>product_picture</th>\n",
       "      <th>product_id</th>\n",
       "      <th>theme</th>\n",
       "      <th>crawl_month</th>\n",
       "    </tr>\n",
       "  </thead>\n",
       "  <tbody>\n",
       "    <tr>\n",
       "      <th>0</th>\n",
       "      <td>2020 Summer Vintage Flamingo Print  Pajamas Se...</td>\n",
       "      <td>2020 Summer Vintage Flamingo Print  Pajamas Se...</td>\n",
       "      <td>16.00</td>\n",
       "      <td>14</td>\n",
       "      <td>EUR</td>\n",
       "      <td>100</td>\n",
       "      <td>0</td>\n",
       "      <td>3.76</td>\n",
       "      <td>54</td>\n",
       "      <td>26.0</td>\n",
       "      <td>...</td>\n",
       "      <td>568</td>\n",
       "      <td>4.128521</td>\n",
       "      <td>595097d6a26f6e070cb878d1</td>\n",
       "      <td>0</td>\n",
       "      <td>NaN</td>\n",
       "      <td>https://www.wish.com/c/5e9ae51d43d6a96e303acdb0</td>\n",
       "      <td>https://contestimg.wish.com/api/webimage/5e9ae...</td>\n",
       "      <td>5e9ae51d43d6a96e303acdb0</td>\n",
       "      <td>summer</td>\n",
       "      <td>2020-08</td>\n",
       "    </tr>\n",
       "    <tr>\n",
       "      <th>1</th>\n",
       "      <td>SSHOUSE Summer Casual Sleeveless Soir\u00e9e Party ...</td>\n",
       "      <td>Women's Casual Summer Sleeveless Sexy Mini Dress</td>\n",
       "      <td>8.00</td>\n",
       "      <td>22</td>\n",
       "      <td>EUR</td>\n",
       "      <td>20000</td>\n",
       "      <td>1</td>\n",
       "      <td>3.45</td>\n",
       "      <td>6135</td>\n",
       "      <td>2269.0</td>\n",
       "      <td>...</td>\n",
       "      <td>17752</td>\n",
       "      <td>3.899673</td>\n",
       "      <td>56458aa03a698c35c9050988</td>\n",
       "      <td>0</td>\n",
       "      <td>NaN</td>\n",
       "      <td>https://www.wish.com/c/58940d436a0d3d5da4e95a38</td>\n",
       "      <td>https://contestimg.wish.com/api/webimage/58940...</td>\n",
       "      <td>58940d436a0d3d5da4e95a38</td>\n",
       "      <td>summer</td>\n",
       "      <td>2020-08</td>\n",
       "    </tr>\n",
       "    <tr>\n",
       "      <th>2</th>\n",
       "      <td>2020 Nouvelle Arriv\u00e9e Femmes Printemps et \u00c9t\u00e9 ...</td>\n",
       "      <td>2020 New Arrival Women Spring and Summer Beach...</td>\n",
       "      <td>8.00</td>\n",
       "      <td>43</td>\n",
       "      <td>EUR</td>\n",
       "      <td>100</td>\n",
       "      <td>0</td>\n",
       "      <td>3.57</td>\n",
       "      <td>14</td>\n",
       "      <td>5.0</td>\n",
       "      <td>...</td>\n",
       "      <td>295</td>\n",
       "      <td>3.989831</td>\n",
       "      <td>5d464a1ffdf7bc44ee933c65</td>\n",
       "      <td>0</td>\n",
       "      <td>NaN</td>\n",
       "      <td>https://www.wish.com/c/5ea10e2c617580260d55310a</td>\n",
       "      <td>https://contestimg.wish.com/api/webimage/5ea10...</td>\n",
       "      <td>5ea10e2c617580260d55310a</td>\n",
       "      <td>summer</td>\n",
       "      <td>2020-08</td>\n",
       "    </tr>\n",
       "    <tr>\n",
       "      <th>3</th>\n",
       "      <td>Hot Summer Cool T-shirt pour les femmes Mode T...</td>\n",
       "      <td>Hot Summer Cool T Shirt for Women Fashion Tops...</td>\n",
       "      <td>8.00</td>\n",
       "      <td>8</td>\n",
       "      <td>EUR</td>\n",
       "      <td>5000</td>\n",
       "      <td>1</td>\n",
       "      <td>4.03</td>\n",
       "      <td>579</td>\n",
       "      <td>295.0</td>\n",
       "      <td>...</td>\n",
       "      <td>23832</td>\n",
       "      <td>4.020435</td>\n",
       "      <td>58cfdefdacb37b556efdff7c</td>\n",
       "      <td>0</td>\n",
       "      <td>NaN</td>\n",
       "      <td>https://www.wish.com/c/5cedf17ad1d44c52c59e4aca</td>\n",
       "      <td>https://contestimg.wish.com/api/webimage/5cedf...</td>\n",
       "      <td>5cedf17ad1d44c52c59e4aca</td>\n",
       "      <td>summer</td>\n",
       "      <td>2020-08</td>\n",
       "    </tr>\n",
       "    <tr>\n",
       "      <th>4</th>\n",
       "      <td>Femmes Shorts d'\u00e9t\u00e9 \u00e0 lacets taille \u00e9lastique ...</td>\n",
       "      <td>Women Summer Shorts Lace Up Elastic Waistband ...</td>\n",
       "      <td>2.72</td>\n",
       "      <td>3</td>\n",
       "      <td>EUR</td>\n",
       "      <td>100</td>\n",
       "      <td>1</td>\n",
       "      <td>3.10</td>\n",
       "      <td>20</td>\n",
       "      <td>6.0</td>\n",
       "      <td>...</td>\n",
       "      <td>14482</td>\n",
       "      <td>4.001588</td>\n",
       "      <td>5ab3b592c3911a095ad5dadb</td>\n",
       "      <td>0</td>\n",
       "      <td>NaN</td>\n",
       "      <td>https://www.wish.com/c/5ebf5819ebac372b070b0e70</td>\n",
       "      <td>https://contestimg.wish.com/api/webimage/5ebf5...</td>\n",
       "      <td>5ebf5819ebac372b070b0e70</td>\n",
       "      <td>summer</td>\n",
       "      <td>2020-08</td>\n",
       "    </tr>\n",
       "  </tbody>\n",
       "</table>\n",
       "<p>5 rows \u00d7 43 columns</p>\n",
       "</div>"
      ],
      "text/plain": [
       "                                               title  \\\n",
       "0  2020 Summer Vintage Flamingo Print  Pajamas Se...   \n",
       "1  SSHOUSE Summer Casual Sleeveless Soir\u00e9e Party ...   \n",
       "2  2020 Nouvelle Arriv\u00e9e Femmes Printemps et \u00c9t\u00e9 ...   \n",
       "3  Hot Summer Cool T-shirt pour les femmes Mode T...   \n",
       "4  Femmes Shorts d'\u00e9t\u00e9 \u00e0 lacets taille \u00e9lastique ...   \n",
       "\n",
       "                                          title_orig  price  retail_price  \\\n",
       "0  2020 Summer Vintage Flamingo Print  Pajamas Se...  16.00            14   \n",
       "1   Women's Casual Summer Sleeveless Sexy Mini Dress   8.00            22   \n",
       "2  2020 New Arrival Women Spring and Summer Beach...   8.00            43   \n",
       "3  Hot Summer Cool T Shirt for Women Fashion Tops...   8.00             8   \n",
       "4  Women Summer Shorts Lace Up Elastic Waistband ...   2.72             3   \n",
       "\n",
       "  currency_buyer  units_sold  uses_ad_boosts  rating  rating_count  \\\n",
       "0            EUR         100               0    3.76            54   \n",
       "1            EUR       20000               1    3.45          6135   \n",
       "2            EUR         100               0    3.57            14   \n",
       "3            EUR        5000               1    4.03           579   \n",
       "4            EUR         100               1    3.10            20   \n",
       "\n",
       "   rating_five_count  ...  merchant_rating_count  merchant_rating  \\\n",
       "0               26.0  ...                    568         4.128521   \n",
       "1             2269.0  ...                  17752         3.899673   \n",
       "2                5.0  ...                    295         3.989831   \n",
       "3              295.0  ...                  23832         4.020435   \n",
       "4                6.0  ...                  14482         4.001588   \n",
       "\n",
       "                merchant_id  merchant_has_profile_picture  \\\n",
       "0  595097d6a26f6e070cb878d1                             0   \n",
       "1  56458aa03a698c35c9050988                             0   \n",
       "2  5d464a1ffdf7bc44ee933c65                             0   \n",
       "3  58cfdefdacb37b556efdff7c                             0   \n",
       "4  5ab3b592c3911a095ad5dadb                             0   \n",
       "\n",
       "   merchant_profile_picture                                      product_url  \\\n",
       "0                       NaN  https://www.wish.com/c/5e9ae51d43d6a96e303acdb0   \n",
       "1                       NaN  https://www.wish.com/c/58940d436a0d3d5da4e95a38   \n",
       "2                       NaN  https://www.wish.com/c/5ea10e2c617580260d55310a   \n",
       "3                       NaN  https://www.wish.com/c/5cedf17ad1d44c52c59e4aca   \n",
       "4                       NaN  https://www.wish.com/c/5ebf5819ebac372b070b0e70   \n",
       "\n",
       "                                     product_picture  \\\n",
       "0  https://contestimg.wish.com/api/webimage/5e9ae...   \n",
       "1  https://contestimg.wish.com/api/webimage/58940...   \n",
       "2  https://contestimg.wish.com/api/webimage/5ea10...   \n",
       "3  https://contestimg.wish.com/api/webimage/5cedf...   \n",
       "4  https://contestimg.wish.com/api/webimage/5ebf5...   \n",
       "\n",
       "                 product_id   theme crawl_month  \n",
       "0  5e9ae51d43d6a96e303acdb0  summer     2020-08  \n",
       "1  58940d436a0d3d5da4e95a38  summer     2020-08  \n",
       "2  5ea10e2c617580260d55310a  summer     2020-08  \n",
       "3  5cedf17ad1d44c52c59e4aca  summer     2020-08  \n",
       "4  5ebf5819ebac372b070b0e70  summer     2020-08  \n",
       "\n",
       "[5 rows x 43 columns]"
      ]
     },
     "execution_count": 2,
     "metadata": {},
     "output_type": "execute_result"
    }
   ],
   "source": [
    "df_products=pd.read_csv(\"./input/summer-products-with-rating-and-performance_2020-08.scaled.csv\")\n",
    "df_products.head()"
   ]
  },
  {
   "cell_type": "markdown",
   "metadata": {},
   "source": [
    "# Starting my assessment process \n",
    "1. visual assessment \n",
    "2. programmatic assessment\n",
    "# #  visual assessment\n",
    "I have used microsoft excel to visual assessment process \n",
    "currency_buyer , inventory_total , shipping_is_express ,theme and crawl_month columns has only one value I don't think that is useful for my model\n",
    "urgency_text ,avis positifs has alot of missing data \n",
    "merchant_info_subtitle not well structued column becasue some values have avis positifs but another havn't \n",
    "product_url and product_picture are links so I think we can't extract useful information for my analysis "
   ]
  },
  {
   "cell_type": "markdown",
   "metadata": {},
   "source": [
    "# # Programmatic assessment"
   ]
  },
  {
   "cell_type": "code",
   "execution_count": 3,
   "metadata": {},
   "outputs": [
    {
     "data": {
      "text/plain": [
       "Index(['title', 'title_orig', 'price', 'retail_price', 'currency_buyer',\n",
       "       'units_sold', 'uses_ad_boosts', 'rating', 'rating_count',\n",
       "       'rating_five_count', 'rating_four_count', 'rating_three_count',\n",
       "       'rating_two_count', 'rating_one_count', 'badges_count',\n",
       "       'badge_local_product', 'badge_product_quality', 'badge_fast_shipping',\n",
       "       'tags', 'product_color', 'product_variation_size_id',\n",
       "       'product_variation_inventory', 'shipping_option_name',\n",
       "       'shipping_option_price', 'shipping_is_express', 'countries_shipped_to',\n",
       "       'inventory_total', 'has_urgency_banner', 'urgency_text',\n",
       "       'origin_country', 'merchant_title', 'merchant_name',\n",
       "       'merchant_info_subtitle', 'merchant_rating_count', 'merchant_rating',\n",
       "       'merchant_id', 'merchant_has_profile_picture',\n",
       "       'merchant_profile_picture', 'product_url', 'product_picture',\n",
       "       'product_id', 'theme', 'crawl_month'],\n",
       "      dtype='object')"
      ]
     },
     "execution_count": 3,
     "metadata": {},
     "output_type": "execute_result"
    }
   ],
   "source": [
    "df_products.columns"
   ]
  },
  {
   "cell_type": "code",
   "execution_count": 4,
   "metadata": {},
   "outputs": [
    {
     "name": "stdout",
     "output_type": "stream",
     "text": [
      "<class 'pandas.core.frame.DataFrame'>\n",
      "RangeIndex: 1573 entries, 0 to 1572\n",
      "Data columns (total 43 columns):\n",
      " #   Column                        Non-Null Count  Dtype  \n",
      "---  ------                        --------------  -----  \n",
      " 0   title                         1573 non-null   object \n",
      " 1   title_orig                    1573 non-null   object \n",
      " 2   price                         1573 non-null   float64\n",
      " 3   retail_price                  1573 non-null   int64  \n",
      " 4   currency_buyer                1573 non-null   object \n",
      " 5   units_sold                    1573 non-null   int64  \n",
      " 6   uses_ad_boosts                1573 non-null   int64  \n",
      " 7   rating                        1573 non-null   float64\n",
      " 8   rating_count                  1573 non-null   int64  \n",
      " 9   rating_five_count             1528 non-null   float64\n",
      " 10  rating_four_count             1528 non-null   float64\n",
      " 11  rating_three_count            1528 non-null   float64\n",
      " 12  rating_two_count              1528 non-null   float64\n",
      " 13  rating_one_count              1528 non-null   float64\n",
      " 14  badges_count                  1573 non-null   int64  \n",
      " 15  badge_local_product           1573 non-null   int64  \n",
      " 16  badge_product_quality         1573 non-null   int64  \n",
      " 17  badge_fast_shipping           1573 non-null   int64  \n",
      " 18  tags                          1573 non-null   object \n",
      " 19  product_color                 1532 non-null   object \n",
      " 20  product_variation_size_id     1559 non-null   object \n",
      " 21  product_variation_inventory   1573 non-null   int64  \n",
      " 22  shipping_option_name          1573 non-null   object \n",
      " 23  shipping_option_price         1573 non-null   int64  \n",
      " 24  shipping_is_express           1573 non-null   int64  \n",
      " 25  countries_shipped_to          1573 non-null   int64  \n",
      " 26  inventory_total               1573 non-null   int64  \n",
      " 27  has_urgency_banner            473 non-null    float64\n",
      " 28  urgency_text                  473 non-null    object \n",
      " 29  origin_country                1556 non-null   object \n",
      " 30  merchant_title                1573 non-null   object \n",
      " 31  merchant_name                 1569 non-null   object \n",
      " 32  merchant_info_subtitle        1572 non-null   object \n",
      " 33  merchant_rating_count         1573 non-null   int64  \n",
      " 34  merchant_rating               1573 non-null   float64\n",
      " 35  merchant_id                   1573 non-null   object \n",
      " 36  merchant_has_profile_picture  1573 non-null   int64  \n",
      " 37  merchant_profile_picture      226 non-null    object \n",
      " 38  product_url                   1573 non-null   object \n",
      " 39  product_picture               1573 non-null   object \n",
      " 40  product_id                    1573 non-null   object \n",
      " 41  theme                         1573 non-null   object \n",
      " 42  crawl_month                   1573 non-null   object \n",
      "dtypes: float64(9), int64(15), object(19)\n",
      "memory usage: 528.6+ KB\n"
     ]
    }
   ],
   "source": [
    "df_products.info()"
   ]
  },
  {
   "cell_type": "markdown",
   "metadata": {},
   "source": [
    "1-retail_price is int data type \n",
    "2-"
   ]
  },
  {
   "cell_type": "code",
   "execution_count": 5,
   "metadata": {},
   "outputs": [
    {
     "name": "stdout",
     "output_type": "stream",
     "text": [
      "black                  302\n",
      "white                  254\n",
      "yellow                 105\n",
      "blue                    99\n",
      "pink                    99\n",
      "red                     93\n",
      "green                   90\n",
      "grey                    71\n",
      "purple                  53\n",
      "armygreen               31\n",
      "navyblue                28\n",
      "winered                 28\n",
      "orange                  27\n",
      "multicolor              20\n",
      "beige                   14\n",
      "lightblue               12\n",
      "khaki                   12\n",
      "gray                    11\n",
      "white & green           10\n",
      "rosered                  8\n",
      "skyblue                  8\n",
      "brown                    7\n",
      "coffee                   7\n",
      "darkblue                 6\n",
      "floral                   5\n",
      "rose                     5\n",
      "lightpink                4\n",
      "navy                     4\n",
      "leopard                  4\n",
      "black & green            4\n",
      "fluorescentgreen         4\n",
      "lightgreen               3\n",
      "White                    3\n",
      "orange-red               3\n",
      "black & white            3\n",
      "camouflage               3\n",
      "Black                    3\n",
      "watermelonred            2\n",
      "whitefloral              2\n",
      "applegreen               2\n",
      "camel                    2\n",
      "burgundy                 2\n",
      "lakeblue                 2\n",
      "coralred                 2\n",
      "wine                     2\n",
      "black & yellow           2\n",
      "Pink                     2\n",
      "black & blue             2\n",
      "lightred                 2\n",
      "navy blue                2\n",
      "pink & white             2\n",
      "pink & blue              2\n",
      "Army green               2\n",
      "coolblack                2\n",
      "pink & grey              2\n",
      "apricot                  2\n",
      "white & black            2\n",
      "pink & black             2\n",
      "dustypink                2\n",
      "silver                   2\n",
      "mintgreen                2\n",
      "lightyellow              2\n",
      "navyblue & white         1\n",
      "prussianblue             1\n",
      "claret                   1\n",
      "lightgrey                1\n",
      "white & red              1\n",
      "whitestripe              1\n",
      "rainbow                  1\n",
      "jasper                   1\n",
      "ivory                    1\n",
      "winered & yellow         1\n",
      "lightkhaki               1\n",
      "offblack                 1\n",
      "violet                   1\n",
      "blackwhite               1\n",
      "darkgreen                1\n",
      "rosegold                 1\n",
      "army green               1\n",
      "lightgray                1\n",
      "brown & yellow           1\n",
      "nude                     1\n",
      "leopardprint             1\n",
      "tan                      1\n",
      "wine red                 1\n",
      "star                     1\n",
      "orange & camouflage      1\n",
      "RED                      1\n",
      "light green              1\n",
      "blue & pink              1\n",
      "Blue                     1\n",
      "gray & white             1\n",
      "lightpurple              1\n",
      "army                     1\n",
      "black & stripe           1\n",
      "Rose red                 1\n",
      "greysnakeskinprint       1\n",
      "denimblue                1\n",
      "red & blue               1\n",
      "offwhite                 1\n",
      "gold                     1\n"
     ]
    }
   ],
   "source": [
    "product_color=df_products['product_color'].value_counts()\n",
    "print(product_color.to_string())"
   ]
  },
  {
   "cell_type": "code",
   "execution_count": 6,
   "metadata": {},
   "outputs": [],
   "source": [
    "#for index,item in df_products['product_color'].items() :\n",
    "   # item=str(item).lower()"
   ]
  },
  {
   "cell_type": "code",
   "execution_count": 7,
   "metadata": {},
   "outputs": [
    {
     "name": "stdout",
     "output_type": "stream",
     "text": [
      "black                  305\n",
      "white                  257\n",
      "yellow                 105\n",
      "pink                   101\n",
      "blue                   100\n",
      "red                     94\n",
      "green                   90\n",
      "grey                    71\n",
      "purple                  53\n",
      "armygreen               31\n",
      "winered                 28\n",
      "navyblue                28\n",
      "orange                  27\n",
      "multicolor              20\n",
      "beige                   14\n",
      "lightblue               12\n",
      "khaki                   12\n",
      "gray                    11\n",
      "white & green           10\n",
      "rosered                  8\n",
      "skyblue                  8\n",
      "brown                    7\n",
      "coffee                   7\n",
      "darkblue                 6\n",
      "floral                   5\n",
      "rose                     5\n",
      "black & green            4\n",
      "lightpink                4\n",
      "navy                     4\n",
      "leopard                  4\n",
      "fluorescentgreen         4\n",
      "camouflage               3\n",
      "army green               3\n",
      "lightgreen               3\n",
      "orange-red               3\n",
      "black & white            3\n",
      "coralred                 2\n",
      "lightred                 2\n",
      "whitefloral              2\n",
      "applegreen               2\n",
      "camel                    2\n",
      "pink & blue              2\n",
      "pink & white             2\n",
      "watermelonred            2\n",
      "wine                     2\n",
      "black & yellow           2\n",
      "black & blue             2\n",
      "navy blue                2\n",
      "lakeblue                 2\n",
      "silver                   2\n",
      "coolblack                2\n",
      "burgundy                 2\n",
      "pink & black             2\n",
      "apricot                  2\n",
      "white & black            2\n",
      "mintgreen                2\n",
      "dustypink                2\n",
      "pink & grey              2\n",
      "lightyellow              2\n",
      "rainbow                  1\n",
      "lightgrey                1\n",
      "prussianblue             1\n",
      "navyblue & white         1\n",
      "white & red              1\n",
      "jasper                   1\n",
      "ivory                    1\n",
      "winered & yellow         1\n",
      "lightkhaki               1\n",
      "offblack                 1\n",
      "violet                   1\n",
      "orange & camouflage      1\n",
      "blackwhite               1\n",
      "darkgreen                1\n",
      "rosegold                 1\n",
      "whitestripe              1\n",
      "claret                   1\n",
      "brown & yellow           1\n",
      "nude                     1\n",
      "leopardprint             1\n",
      "tan                      1\n",
      "red & blue               1\n",
      "wine red                 1\n",
      "star                     1\n",
      "light green              1\n",
      "blue & pink              1\n",
      "lightpurple              1\n",
      "gray & white             1\n",
      "army                     1\n",
      "black & stripe           1\n",
      "rose red                 1\n",
      "greysnakeskinprint       1\n",
      "denimblue                1\n",
      "offwhite                 1\n",
      "lightgray                1\n",
      "gold                     1\n"
     ]
    }
   ],
   "source": [
    "df_products['product_color']=df_products['product_color'].str.lower()\n",
    "print(df_products['product_color'].value_counts().to_string())"
   ]
  },
  {
   "cell_type": "code",
   "execution_count": 8,
   "metadata": {},
   "outputs": [],
   "source": [
    "df_products['product_color'].replace('grey','gray',inplace=True)"
   ]
  },
  {
   "cell_type": "code",
   "execution_count": 9,
   "metadata": {},
   "outputs": [
    {
     "name": "stdout",
     "output_type": "stream",
     "text": [
      "0              [white]\n",
      "1              [green]\n",
      "2       [leopardprint]\n",
      "3              [black]\n",
      "4             [yellow]\n",
      "             ...      \n",
      "1568        [navyblue]\n",
      "1569       [lightblue]\n",
      "1570           [white]\n",
      "1571           [white]\n",
      "1572             [red]\n",
      "Name: product_color, Length: 1573, dtype: object\n"
     ]
    }
   ],
   "source": [
    "df_products['product_color']=df_products['product_color'].str.split('&')\n",
    "print(df_products['product_color'])"
   ]
  },
  {
   "cell_type": "code",
   "execution_count": 10,
   "metadata": {},
   "outputs": [],
   "source": [
    "df_products['product_color']=df_products['product_color'].str[0]"
   ]
  },
  {
   "cell_type": "code",
   "execution_count": 11,
   "metadata": {},
   "outputs": [
    {
     "name": "stdout",
     "output_type": "stream",
     "text": [
      "black                 305\n",
      "white                 257\n",
      "yellow                105\n",
      "pink                  101\n",
      "blue                  100\n",
      "red                    94\n",
      "green                  90\n",
      "gray                   82\n",
      "purple                 53\n",
      "armygreen              31\n",
      "navyblue               28\n",
      "winered                28\n",
      "orange                 27\n",
      "multicolor             20\n",
      "beige                  14\n",
      "white                  13\n",
      "lightblue              12\n",
      "khaki                  12\n",
      "black                  12\n",
      "rosered                 8\n",
      "pink                    8\n",
      "skyblue                 8\n",
      "coffee                  7\n",
      "brown                   7\n",
      "darkblue                6\n",
      "floral                  5\n",
      "rose                    5\n",
      "fluorescentgreen        4\n",
      "leopard                 4\n",
      "lightpink               4\n",
      "navy                    4\n",
      "orange-red              3\n",
      "lightgreen              3\n",
      "army green              3\n",
      "camouflage              3\n",
      "coralred                2\n",
      "applegreen              2\n",
      "lightred                2\n",
      "lakeblue                2\n",
      "camel                   2\n",
      "navy blue               2\n",
      "watermelonred           2\n",
      "wine                    2\n",
      "burgundy                2\n",
      "apricot                 2\n",
      "dustypink               2\n",
      "mintgreen               2\n",
      "silver                  2\n",
      "coolblack               2\n",
      "lightyellow             2\n",
      "whitefloral             2\n",
      "claret                  1\n",
      "ivory                   1\n",
      "rainbow                 1\n",
      "lightgrey               1\n",
      "red                     1\n",
      "prussianblue            1\n",
      "navyblue                1\n",
      "leopardprint            1\n",
      "offblack                1\n",
      "jasper                  1\n",
      "lightkhaki              1\n",
      "winered                 1\n",
      "violet                  1\n",
      "blackwhite              1\n",
      "darkgreen               1\n",
      "rosegold                1\n",
      "whitestripe             1\n",
      "blue                    1\n",
      "brown                   1\n",
      "gray                    1\n",
      "star                    1\n",
      "lightgray               1\n",
      "offwhite                1\n",
      "denimblue               1\n",
      "greysnakeskinprint      1\n",
      "rose red                1\n",
      "army                    1\n",
      "lightpurple             1\n",
      "nude                    1\n",
      "orange                  1\n",
      "light green             1\n",
      "wine red                1\n",
      "tan                     1\n",
      "gold                    1\n"
     ]
    }
   ],
   "source": [
    "print(df_products['product_color'].value_counts().to_string())"
   ]
  },
  {
   "cell_type": "code",
   "execution_count": 12,
   "metadata": {},
   "outputs": [
    {
     "name": "stdout",
     "output_type": "stream",
     "text": [
      "black                 317\n",
      "white                 270\n",
      "pink                  109\n",
      "yellow                105\n",
      "blue                  101\n",
      "red                    95\n",
      "green                  90\n",
      "gray                   83\n",
      "purple                 53\n",
      "armygreen              31\n",
      "navyblue               29\n",
      "winered                29\n",
      "orange                 28\n",
      "multicolor             20\n",
      "beige                  14\n",
      "lightblue              12\n",
      "khaki                  12\n",
      "brown                   8\n",
      "rosered                 8\n",
      "skyblue                 8\n",
      "coffee                  7\n",
      "rose                    6\n",
      "navy                    6\n",
      "darkblue                6\n",
      "floral                  5\n",
      "lightpink               4\n",
      "army                    4\n",
      "fluorescentgreen        4\n",
      "leopard                 4\n",
      "camouflage              3\n",
      "lightgreen              3\n",
      "wine                    3\n",
      "orange-red              3\n",
      "lightred                2\n",
      "coolblack               2\n",
      "coralred                2\n",
      "whitefloral             2\n",
      "lakeblue                2\n",
      "camel                   2\n",
      "applegreen              2\n",
      "apricot                 2\n",
      "lightyellow             2\n",
      "burgundy                2\n",
      "dustypink               2\n",
      "watermelonred           2\n",
      "mintgreen               2\n",
      "silver                  2\n",
      "lightkhaki              1\n",
      "prussianblue            1\n",
      "ivory                   1\n",
      "jasper                  1\n",
      "blackwhite              1\n",
      "offblack                1\n",
      "rosegold                1\n",
      "violet                  1\n",
      "darkgreen               1\n",
      "rainbow                 1\n",
      "lightgrey               1\n",
      "star                    1\n",
      "whitestripe             1\n",
      "lightgray               1\n",
      "offwhite                1\n",
      "denimblue               1\n",
      "greysnakeskinprint      1\n",
      "lightpurple             1\n",
      "nude                    1\n",
      "tan                     1\n",
      "claret                  1\n",
      "light                   1\n",
      "leopardprint            1\n",
      "gold                    1\n"
     ]
    }
   ],
   "source": [
    "df_products['product_color']=df_products['product_color'].str.split(' ')\n",
    "df_products['product_color']=df_products['product_color'].str[0]\n",
    "print(df_products['product_color'].value_counts().to_string())"
   ]
  },
  {
   "cell_type": "code",
   "execution_count": 13,
   "metadata": {},
   "outputs": [
    {
     "name": "stdout",
     "output_type": "stream",
     "text": [
      "black                 317\n",
      "white                 270\n",
      "pink                  109\n",
      "yellow                105\n",
      "blue                  101\n",
      "red                    95\n",
      "green                  90\n",
      "gray                   83\n",
      "purple                 53\n",
      "orange                 31\n",
      "armygreen              31\n",
      "navyblue               29\n",
      "winered                29\n",
      "multicolor             20\n",
      "beige                  14\n",
      "lightblue              12\n",
      "khaki                  12\n",
      "skyblue                 8\n",
      "rosered                 8\n",
      "brown                   8\n",
      "coffee                  7\n",
      "rose                    6\n",
      "navy                    6\n",
      "darkblue                6\n",
      "floral                  5\n",
      "lightpink               4\n",
      "army                    4\n",
      "leopard                 4\n",
      "fluorescentgreen        4\n",
      "camouflage              3\n",
      "lightgreen              3\n",
      "wine                    3\n",
      "lakeblue                2\n",
      "camel                   2\n",
      "coralred                2\n",
      "lightred                2\n",
      "applegreen              2\n",
      "watermelonred           2\n",
      "apricot                 2\n",
      "lightyellow             2\n",
      "burgundy                2\n",
      "dustypink               2\n",
      "mintgreen               2\n",
      "silver                  2\n",
      "coolblack               2\n",
      "whitefloral             2\n",
      "offblack                1\n",
      "prussianblue            1\n",
      "ivory                   1\n",
      "jasper                  1\n",
      "lightkhaki              1\n",
      "claret                  1\n",
      "violet                  1\n",
      "blackwhite              1\n",
      "lightgrey               1\n",
      "darkgreen               1\n",
      "rosegold                1\n",
      "leopardprint            1\n",
      "offwhite                1\n",
      "rainbow                 1\n",
      "whitestripe             1\n",
      "lightgray               1\n",
      "tan                     1\n",
      "denimblue               1\n",
      "greysnakeskinprint      1\n",
      "lightpurple             1\n",
      "nude                    1\n",
      "light                   1\n",
      "star                    1\n",
      "gold                    1\n"
     ]
    }
   ],
   "source": [
    "df_products['product_color']=df_products['product_color'].str.split('-')\n",
    "df_products['product_color']=df_products['product_color'].str[0]\n",
    "print(df_products['product_color'].value_counts().to_string())"
   ]
  },
  {
   "cell_type": "code",
   "execution_count": 14,
   "metadata": {},
   "outputs": [],
   "source": [
    "df_products['product_color'].replace({'applegreen':'green','blackwhite':'black',\n",
    "                                     'lightgreen':'green','lightblue':'blue','navyblue':'blue',\n",
    "                                     'denimblue':'blue','prussianblue':'blue','lakeblue':'blue',\n",
    "                                     'darkblue':'blue','skyblue':'blue','lightblue':'blue'\n",
    "                                     ,'navyblue':'blue','armygreen':'green','darkgreen':'green',\n",
    "                                     'applegreen':'green','lightgreen':'green','mintgreen':'green',\n",
    "                                      'winered':'red','coralred':'red','lightred':'red',\n",
    "                                     'watermelonred':'red','fluorescentgreen':'green',\n",
    "                                     'rosered':'rose','rosegold':'rose','greysnakeskinprint':'gray',\n",
    "                                     'lightgray':'gray','lightgrey':'gray','whitefloral':'white'\n",
    "                                     ,'whitestripe':'white','lightpink':'pink','dustypink':'pink',\n",
    "                                     'lightkhaki':'khaki','lightpurple':'purple','lightyellow':'yellow',\n",
    "                                     'tan':'brown','coffee':'brown','offwhite':'white',\n",
    "                                     'offblack':'black','coolblack':'black','leopardprint':\n",
    "                                     'leopard','claret':'red','violet':'blue','apricot':'pink',\n",
    "                                     'nude':'pink','gold':'brown','ivory':'beige','burgundy':'red',\n",
    "                                     'navy':'blue','wine':'red','camel':'brown','khaki':'brown','light':'white'},inplace=True)"
   ]
  },
  {
   "cell_type": "markdown",
   "metadata": {},
   "source": [
    "![](http://)I Will change colors like floral ,leopard , army ,camouflage , silver ,star , khaki , rainbow ,jasper to multicolor to reduce the values "
   ]
  },
  {
   "cell_type": "code",
   "execution_count": 15,
   "metadata": {},
   "outputs": [],
   "source": [
    "df_products['product_color'].replace({'floral':'multicolor','leopard':'multicolor',\n",
    "                                     'army':'multicolor','camouflage':'multicolor',\n",
    "                                     'silver':'multicolor','star':'multicolor',\n",
    "                                     'khaki':'multicolor','rainbow':'multicolor',\n",
    "                                     'jasper':'multicolor',} ,inplace=True)"
   ]
  },
  {
   "cell_type": "code",
   "execution_count": 16,
   "metadata": {},
   "outputs": [
    {
     "data": {
      "text/plain": [
       "EUR    1573\n",
       "Name: currency_buyer, dtype: int64"
      ]
     },
     "execution_count": 16,
     "metadata": {},
     "output_type": "execute_result"
    }
   ],
   "source": [
    "df_products['currency_buyer'].value_counts()"
   ]
  },
  {
   "cell_type": "code",
   "execution_count": 17,
   "metadata": {},
   "outputs": [
    {
     "name": "stdout",
     "output_type": "stream",
     "text": [
      "black         321\n",
      "white         275\n",
      "blue          167\n",
      "red           136\n",
      "green         133\n",
      "pink          118\n",
      "yellow        107\n",
      "gray           86\n",
      "purple         54\n",
      "multicolor     43\n",
      "orange         31\n",
      "brown          31\n",
      "beige          15\n",
      "rose           15\n"
     ]
    }
   ],
   "source": [
    "print(df_products['product_color'].value_counts().to_string())"
   ]
  },
  {
   "cell_type": "markdown",
   "metadata": {},
   "source": [
    "there are 1573 value are the same and no more category so this column will be useless for me so i will drop it "
   ]
  },
  {
   "cell_type": "code",
   "execution_count": 18,
   "metadata": {},
   "outputs": [],
   "source": [
    "df_products.drop('currency_buyer',axis=1,inplace=True)"
   ]
  },
  {
   "cell_type": "code",
   "execution_count": 19,
   "metadata": {},
   "outputs": [
    {
     "data": {
      "text/plain": [
       "558c2cdc89d53c4005ea2920    15\n",
       "5acaf29d5ebcfd72403106a8    12\n",
       "583138b06339b410ab9663ec     9\n",
       "5533c83986ff95173dc017d0     8\n",
       "564d8a9ac0f55a1276cd96f8     8\n",
       "                            ..\n",
       "58b81d56e3f66d59b36812ac     1\n",
       "5e4f81dc968c88593150e98e     1\n",
       "582ff94e0d44631042fe7c41     1\n",
       "5aad329608a224392d805720     1\n",
       "5a409cf87b584e7951b2e25f     1\n",
       "Name: merchant_id, Length: 958, dtype: int64"
      ]
     },
     "execution_count": 19,
     "metadata": {},
     "output_type": "execute_result"
    }
   ],
   "source": [
    "df_products['merchant_id'].value_counts()"
   ]
  },
  {
   "cell_type": "markdown",
   "metadata": {},
   "source": [
    "From result above there are 958 merchant in this dataset 15 times is the max selling  "
   ]
  },
  {
   "cell_type": "markdown",
   "metadata": {},
   "source": [
    "df_products"
   ]
  },
  {
   "cell_type": "code",
   "execution_count": 20,
   "metadata": {},
   "outputs": [
    {
     "data": {
      "text/html": [
       "<div>\n",
       "<style scoped>\n",
       "    .dataframe tbody tr th:only-of-type {\n",
       "        vertical-align: middle;\n",
       "    }\n",
       "\n",
       "    .dataframe tbody tr th {\n",
       "        vertical-align: top;\n",
       "    }\n",
       "\n",
       "    .dataframe thead th {\n",
       "        text-align: right;\n",
       "    }\n",
       "</style>\n",
       "<table border=\"1\" class=\"dataframe\">\n",
       "  <thead>\n",
       "    <tr style=\"text-align: right;\">\n",
       "      <th></th>\n",
       "      <th>title</th>\n",
       "      <th>title_orig</th>\n",
       "      <th>price</th>\n",
       "      <th>retail_price</th>\n",
       "      <th>units_sold</th>\n",
       "      <th>uses_ad_boosts</th>\n",
       "      <th>rating</th>\n",
       "      <th>rating_count</th>\n",
       "      <th>rating_five_count</th>\n",
       "      <th>rating_four_count</th>\n",
       "      <th>...</th>\n",
       "      <th>merchant_rating_count</th>\n",
       "      <th>merchant_rating</th>\n",
       "      <th>merchant_id</th>\n",
       "      <th>merchant_has_profile_picture</th>\n",
       "      <th>merchant_profile_picture</th>\n",
       "      <th>product_url</th>\n",
       "      <th>product_picture</th>\n",
       "      <th>product_id</th>\n",
       "      <th>theme</th>\n",
       "      <th>crawl_month</th>\n",
       "    </tr>\n",
       "  </thead>\n",
       "  <tbody>\n",
       "    <tr>\n",
       "      <th>311</th>\n",
       "      <td>Women's Summer Fashion Spaghetti Strap Dress F...</td>\n",
       "      <td>Women's Summer Fashion Spaghetti Strap Dress F...</td>\n",
       "      <td>8.00</td>\n",
       "      <td>7</td>\n",
       "      <td>50</td>\n",
       "      <td>0</td>\n",
       "      <td>3.88</td>\n",
       "      <td>8</td>\n",
       "      <td>5.0</td>\n",
       "      <td>1.0</td>\n",
       "      <td>...</td>\n",
       "      <td>334</td>\n",
       "      <td>3.736527</td>\n",
       "      <td>5dda40561fead208515f98e2</td>\n",
       "      <td>0</td>\n",
       "      <td>NaN</td>\n",
       "      <td>https://www.wish.com/c/5ea91e4d29b81241e1d43b27</td>\n",
       "      <td>https://contestimg.wish.com/api/webimage/5ea91...</td>\n",
       "      <td>5ea91e4d29b81241e1d43b27</td>\n",
       "      <td>summer</td>\n",
       "      <td>2020-08</td>\n",
       "    </tr>\n",
       "    <tr>\n",
       "      <th>411</th>\n",
       "      <td>New Women Ladies Fashion Summer Skinny High Wa...</td>\n",
       "      <td>New Women Ladies Fashion Summer Skinny High Wa...</td>\n",
       "      <td>14.00</td>\n",
       "      <td>12</td>\n",
       "      <td>5000</td>\n",
       "      <td>1</td>\n",
       "      <td>4.06</td>\n",
       "      <td>643</td>\n",
       "      <td>365.0</td>\n",
       "      <td>109.0</td>\n",
       "      <td>...</td>\n",
       "      <td>80093</td>\n",
       "      <td>4.006692</td>\n",
       "      <td>583138b06339b410ab9663ec</td>\n",
       "      <td>0</td>\n",
       "      <td>NaN</td>\n",
       "      <td>https://www.wish.com/c/5c80e8a150c63d28c67b8f14</td>\n",
       "      <td>https://contestimg.wish.com/api/webimage/5c80e...</td>\n",
       "      <td>5c80e8a150c63d28c67b8f14</td>\n",
       "      <td>summer</td>\n",
       "      <td>2020-08</td>\n",
       "    </tr>\n",
       "    <tr>\n",
       "      <th>447</th>\n",
       "      <td>Womens Summer Fashion Lip Print 2pc Set Ladies...</td>\n",
       "      <td>Womens Summer Fashion Lip Print 2pc Set Ladies...</td>\n",
       "      <td>5.00</td>\n",
       "      <td>51</td>\n",
       "      <td>10</td>\n",
       "      <td>0</td>\n",
       "      <td>5.00</td>\n",
       "      <td>0</td>\n",
       "      <td>NaN</td>\n",
       "      <td>NaN</td>\n",
       "      <td>...</td>\n",
       "      <td>295</td>\n",
       "      <td>3.989831</td>\n",
       "      <td>5d464a1ffdf7bc44ee933c65</td>\n",
       "      <td>0</td>\n",
       "      <td>NaN</td>\n",
       "      <td>https://www.wish.com/c/5eb90ab5ad67f63678d15ed9</td>\n",
       "      <td>https://contestimg.wish.com/api/webimage/5eb90...</td>\n",
       "      <td>5eb90ab5ad67f63678d15ed9</td>\n",
       "      <td>summer</td>\n",
       "      <td>2020-08</td>\n",
       "    </tr>\n",
       "    <tr>\n",
       "      <th>505</th>\n",
       "      <td>Plus la taille des femmes de la mode l\u00e2che d\u00e9c...</td>\n",
       "      <td>Plus Size Women's Fashion Loose Casual sleevel...</td>\n",
       "      <td>5.83</td>\n",
       "      <td>5</td>\n",
       "      <td>100</td>\n",
       "      <td>0</td>\n",
       "      <td>4.36</td>\n",
       "      <td>22</td>\n",
       "      <td>13.0</td>\n",
       "      <td>5.0</td>\n",
       "      <td>...</td>\n",
       "      <td>17471</td>\n",
       "      <td>3.952836</td>\n",
       "      <td>5aab3c8ea6bf7a704caec65c</td>\n",
       "      <td>0</td>\n",
       "      <td>NaN</td>\n",
       "      <td>https://www.wish.com/c/5e9932cab3eafb25c00ba79f</td>\n",
       "      <td>https://contestimg.wish.com/api/webimage/5e993...</td>\n",
       "      <td>5e9932cab3eafb25c00ba79f</td>\n",
       "      <td>summer</td>\n",
       "      <td>2020-08</td>\n",
       "    </tr>\n",
       "    <tr>\n",
       "      <th>571</th>\n",
       "      <td>Summer Women Fashion Fashion Robe courte sans ...</td>\n",
       "      <td>Summer Women Fashion Short Dress Sleeveless Wa...</td>\n",
       "      <td>8.00</td>\n",
       "      <td>51</td>\n",
       "      <td>100</td>\n",
       "      <td>0</td>\n",
       "      <td>4.29</td>\n",
       "      <td>31</td>\n",
       "      <td>19.0</td>\n",
       "      <td>5.0</td>\n",
       "      <td>...</td>\n",
       "      <td>5846</td>\n",
       "      <td>3.832535</td>\n",
       "      <td>5a792e56a71fbf471cf1fc99</td>\n",
       "      <td>0</td>\n",
       "      <td>NaN</td>\n",
       "      <td>https://www.wish.com/c/5d78eb19cc404c03393c83b5</td>\n",
       "      <td>https://contestimg.wish.com/api/webimage/5d78e...</td>\n",
       "      <td>5d78eb19cc404c03393c83b5</td>\n",
       "      <td>summer</td>\n",
       "      <td>2020-08</td>\n",
       "    </tr>\n",
       "    <tr>\n",
       "      <th>684</th>\n",
       "      <td>Femmes d'\u00e9t\u00e9 Boho Maxi Polka Dot Robe Irr\u00e9guli...</td>\n",
       "      <td>Summer Women Boho Maxi Polka Dot Dress Irregul...</td>\n",
       "      <td>6.00</td>\n",
       "      <td>6</td>\n",
       "      <td>100</td>\n",
       "      <td>1</td>\n",
       "      <td>3.67</td>\n",
       "      <td>27</td>\n",
       "      <td>9.0</td>\n",
       "      <td>8.0</td>\n",
       "      <td>...</td>\n",
       "      <td>4705</td>\n",
       "      <td>4.040595</td>\n",
       "      <td>580c7d0a8b67fa197454a2d1</td>\n",
       "      <td>0</td>\n",
       "      <td>NaN</td>\n",
       "      <td>https://www.wish.com/c/5e142dee04c3e579e89576a3</td>\n",
       "      <td>https://contestimg.wish.com/api/webimage/5e142...</td>\n",
       "      <td>5e142dee04c3e579e89576a3</td>\n",
       "      <td>summer</td>\n",
       "      <td>2020-08</td>\n",
       "    </tr>\n",
       "    <tr>\n",
       "      <th>689</th>\n",
       "      <td>Femmes d'\u00e9t\u00e9 Mode Shorts de sport double couch...</td>\n",
       "      <td>Summer Women Fashion Double-Layer Sports Short...</td>\n",
       "      <td>3.76</td>\n",
       "      <td>7</td>\n",
       "      <td>50</td>\n",
       "      <td>0</td>\n",
       "      <td>3.50</td>\n",
       "      <td>8</td>\n",
       "      <td>4.0</td>\n",
       "      <td>1.0</td>\n",
       "      <td>...</td>\n",
       "      <td>3730</td>\n",
       "      <td>3.880429</td>\n",
       "      <td>58d8e8ebd929c652b9c04c05</td>\n",
       "      <td>0</td>\n",
       "      <td>NaN</td>\n",
       "      <td>https://www.wish.com/c/5ebe625c3cdb6c40b7b9231e</td>\n",
       "      <td>https://contestimg.wish.com/api/webimage/5ebe6...</td>\n",
       "      <td>5ebe625c3cdb6c40b7b9231e</td>\n",
       "      <td>summer</td>\n",
       "      <td>2020-08</td>\n",
       "    </tr>\n",
       "    <tr>\n",
       "      <th>698</th>\n",
       "      <td>D\u00e9bardeur en coton sans manches pour femmes</td>\n",
       "      <td>Women's Summer Sleeveless Tank Cotton Vest Pri...</td>\n",
       "      <td>6.00</td>\n",
       "      <td>7</td>\n",
       "      <td>50</td>\n",
       "      <td>0</td>\n",
       "      <td>2.67</td>\n",
       "      <td>3</td>\n",
       "      <td>1.0</td>\n",
       "      <td>0.0</td>\n",
       "      <td>...</td>\n",
       "      <td>1374</td>\n",
       "      <td>4.058952</td>\n",
       "      <td>5a2fa9ce6ea4a770c66f5599</td>\n",
       "      <td>0</td>\n",
       "      <td>NaN</td>\n",
       "      <td>https://www.wish.com/c/5eb4f323b67a8d189a8f8380</td>\n",
       "      <td>https://contestimg.wish.com/api/webimage/5eb4f...</td>\n",
       "      <td>5eb4f323b67a8d189a8f8380</td>\n",
       "      <td>summer</td>\n",
       "      <td>2020-08</td>\n",
       "    </tr>\n",
       "    <tr>\n",
       "      <th>770</th>\n",
       "      <td>Nouvelle mode d'\u00e9t\u00e9 femmes robe d\u00e9contract\u00e9e c...</td>\n",
       "      <td>New Fashion Summer Women Casual Dress Round Ne...</td>\n",
       "      <td>2.00</td>\n",
       "      <td>9</td>\n",
       "      <td>100</td>\n",
       "      <td>0</td>\n",
       "      <td>3.47</td>\n",
       "      <td>32</td>\n",
       "      <td>11.0</td>\n",
       "      <td>6.0</td>\n",
       "      <td>...</td>\n",
       "      <td>4856</td>\n",
       "      <td>4.167628</td>\n",
       "      <td>5710ac98b2d43a5925da8dd8</td>\n",
       "      <td>0</td>\n",
       "      <td>NaN</td>\n",
       "      <td>https://www.wish.com/c/5e940265ea3640c9ca0353aa</td>\n",
       "      <td>https://contestimg.wish.com/api/webimage/5e940...</td>\n",
       "      <td>5e940265ea3640c9ca0353aa</td>\n",
       "      <td>summer</td>\n",
       "      <td>2020-08</td>\n",
       "    </tr>\n",
       "    <tr>\n",
       "      <th>991</th>\n",
       "      <td>2020 Shorts classiques pour hommes d'\u00e9t\u00e9 Panta...</td>\n",
       "      <td>2020 Summer Men's Classic Shorts Multi-pocket ...</td>\n",
       "      <td>7.00</td>\n",
       "      <td>17</td>\n",
       "      <td>10</td>\n",
       "      <td>0</td>\n",
       "      <td>5.00</td>\n",
       "      <td>2</td>\n",
       "      <td>2.0</td>\n",
       "      <td>0.0</td>\n",
       "      <td>...</td>\n",
       "      <td>46</td>\n",
       "      <td>3.608696</td>\n",
       "      <td>5e2ecb9deed5087a7ba2f5f7</td>\n",
       "      <td>0</td>\n",
       "      <td>NaN</td>\n",
       "      <td>https://www.wish.com/c/5eeef4c4066647a9388a8ac2</td>\n",
       "      <td>https://contestimg.wish.com/api/webimage/5eeef...</td>\n",
       "      <td>5eeef4c4066647a9388a8ac2</td>\n",
       "      <td>summer</td>\n",
       "      <td>2020-08</td>\n",
       "    </tr>\n",
       "    <tr>\n",
       "      <th>997</th>\n",
       "      <td>S-5XL Nouvelle Mode Femmes Tops Blouse Sans Ma...</td>\n",
       "      <td>S-5XL New Fashion Women Tops Blouse Sleeveless...</td>\n",
       "      <td>4.83</td>\n",
       "      <td>51</td>\n",
       "      <td>50</td>\n",
       "      <td>1</td>\n",
       "      <td>2.00</td>\n",
       "      <td>1</td>\n",
       "      <td>0.0</td>\n",
       "      <td>0.0</td>\n",
       "      <td>...</td>\n",
       "      <td>57</td>\n",
       "      <td>3.824561</td>\n",
       "      <td>5e3c5fbfe217d492138970c1</td>\n",
       "      <td>0</td>\n",
       "      <td>NaN</td>\n",
       "      <td>https://www.wish.com/c/5ee8875404718a4bba2d6348</td>\n",
       "      <td>https://contestimg.wish.com/api/webimage/5ee88...</td>\n",
       "      <td>5ee8875404718a4bba2d6348</td>\n",
       "      <td>summer</td>\n",
       "      <td>2020-08</td>\n",
       "    </tr>\n",
       "    <tr>\n",
       "      <th>1003</th>\n",
       "      <td>6 Couleurs Automne \u00c9t\u00e9 Dames Casual L\u00e2che Soli...</td>\n",
       "      <td>6 Colors Autumn Summer Ladies Casual Loose Sol...</td>\n",
       "      <td>9.00</td>\n",
       "      <td>8</td>\n",
       "      <td>100</td>\n",
       "      <td>1</td>\n",
       "      <td>3.18</td>\n",
       "      <td>72</td>\n",
       "      <td>17.0</td>\n",
       "      <td>19.0</td>\n",
       "      <td>...</td>\n",
       "      <td>288</td>\n",
       "      <td>3.729167</td>\n",
       "      <td>5de0981739adf2a3406bed18</td>\n",
       "      <td>0</td>\n",
       "      <td>NaN</td>\n",
       "      <td>https://www.wish.com/c/5eaa6d9c8d99eb3ec06709f4</td>\n",
       "      <td>https://contestimg.wish.com/api/webimage/5eaa6...</td>\n",
       "      <td>5eaa6d9c8d99eb3ec06709f4</td>\n",
       "      <td>summer</td>\n",
       "      <td>2020-08</td>\n",
       "    </tr>\n",
       "    <tr>\n",
       "      <th>1050</th>\n",
       "      <td>D\u00e9bardeur pour femme D\u00e9bardeur Bandage Plume I...</td>\n",
       "      <td>Women Tops Tank Bandage Feather Print Sleevele...</td>\n",
       "      <td>3.00</td>\n",
       "      <td>3</td>\n",
       "      <td>100</td>\n",
       "      <td>1</td>\n",
       "      <td>4.29</td>\n",
       "      <td>58</td>\n",
       "      <td>36.0</td>\n",
       "      <td>13.0</td>\n",
       "      <td>...</td>\n",
       "      <td>1050</td>\n",
       "      <td>3.883810</td>\n",
       "      <td>5a698cef028bbd27227d3d12</td>\n",
       "      <td>0</td>\n",
       "      <td>NaN</td>\n",
       "      <td>https://www.wish.com/c/5cde56ea6bbbd86b1cbab4a8</td>\n",
       "      <td>https://contestimg.wish.com/api/webimage/5cde5...</td>\n",
       "      <td>5cde56ea6bbbd86b1cbab4a8</td>\n",
       "      <td>summer</td>\n",
       "      <td>2020-08</td>\n",
       "    </tr>\n",
       "    <tr>\n",
       "      <th>1074</th>\n",
       "      <td>Femmes d'\u00e9t\u00e9 Mode D\u00e9bardeurs Sexy Sans Manches...</td>\n",
       "      <td>Women Summer Fashion Tank Tops Sexy Sleeveless...</td>\n",
       "      <td>2.00</td>\n",
       "      <td>2</td>\n",
       "      <td>1000</td>\n",
       "      <td>0</td>\n",
       "      <td>4.19</td>\n",
       "      <td>81</td>\n",
       "      <td>50.0</td>\n",
       "      <td>14.0</td>\n",
       "      <td>...</td>\n",
       "      <td>126370</td>\n",
       "      <td>4.146957</td>\n",
       "      <td>58ad449708de0c6dc59d9e06</td>\n",
       "      <td>1</td>\n",
       "      <td>https://s3-us-west-1.amazonaws.com/sweeper-pro...</td>\n",
       "      <td>https://www.wish.com/c/5e16cb87e6dd7c03be24b28a</td>\n",
       "      <td>https://contestimg.wish.com/api/webimage/5e16c...</td>\n",
       "      <td>5e16cb87e6dd7c03be24b28a</td>\n",
       "      <td>summer</td>\n",
       "      <td>2020-08</td>\n",
       "    </tr>\n",
       "    <tr>\n",
       "      <th>1109</th>\n",
       "      <td>Robe \u00e0 bretelles l\u00e2che col en v pour femmes d'...</td>\n",
       "      <td>Summer Women's Loose V-neck Sling Dress Sleeve...</td>\n",
       "      <td>7.00</td>\n",
       "      <td>26</td>\n",
       "      <td>100</td>\n",
       "      <td>0</td>\n",
       "      <td>2.90</td>\n",
       "      <td>10</td>\n",
       "      <td>4.0</td>\n",
       "      <td>0.0</td>\n",
       "      <td>...</td>\n",
       "      <td>32</td>\n",
       "      <td>3.187500</td>\n",
       "      <td>5e54a05c207f9d3e6cee7040</td>\n",
       "      <td>0</td>\n",
       "      <td>NaN</td>\n",
       "      <td>https://www.wish.com/c/5e68ffbbe97f758d0698e049</td>\n",
       "      <td>https://contestimg.wish.com/api/webimage/5e68f...</td>\n",
       "      <td>5e68ffbbe97f758d0698e049</td>\n",
       "      <td>summer</td>\n",
       "      <td>2020-08</td>\n",
       "    </tr>\n",
       "    <tr>\n",
       "      <th>1138</th>\n",
       "      <td>NOUVELLES femmes manches courtes Baggy Summer ...</td>\n",
       "      <td>NEW Womens Short Sleeve Baggy Summer Beach Mid...</td>\n",
       "      <td>11.00</td>\n",
       "      <td>84</td>\n",
       "      <td>100</td>\n",
       "      <td>1</td>\n",
       "      <td>3.61</td>\n",
       "      <td>18</td>\n",
       "      <td>6.0</td>\n",
       "      <td>5.0</td>\n",
       "      <td>...</td>\n",
       "      <td>435</td>\n",
       "      <td>3.855172</td>\n",
       "      <td>5ac82ff62c49567ffa616535</td>\n",
       "      <td>0</td>\n",
       "      <td>NaN</td>\n",
       "      <td>https://www.wish.com/c/5e65d0ea5dc348884032a14e</td>\n",
       "      <td>https://contestimg.wish.com/api/webimage/5e65d...</td>\n",
       "      <td>5e65d0ea5dc348884032a14e</td>\n",
       "      <td>summer</td>\n",
       "      <td>2020-08</td>\n",
       "    </tr>\n",
       "    <tr>\n",
       "      <th>1173</th>\n",
       "      <td>Costume de sport cool pour hommes d'\u00e9t\u00e9 V\u00eateme...</td>\n",
       "      <td>Summer mens cool sport suit Sports Wear Casual...</td>\n",
       "      <td>16.00</td>\n",
       "      <td>14</td>\n",
       "      <td>10</td>\n",
       "      <td>0</td>\n",
       "      <td>3.00</td>\n",
       "      <td>3</td>\n",
       "      <td>0.0</td>\n",
       "      <td>2.0</td>\n",
       "      <td>...</td>\n",
       "      <td>31</td>\n",
       "      <td>3.548387</td>\n",
       "      <td>5e61c817039ce2184a0ed392</td>\n",
       "      <td>0</td>\n",
       "      <td>NaN</td>\n",
       "      <td>https://www.wish.com/c/5e9a74e447f7d92c8db8d14b</td>\n",
       "      <td>https://contestimg.wish.com/api/webimage/5e9a7...</td>\n",
       "      <td>5e9a74e447f7d92c8db8d14b</td>\n",
       "      <td>summer</td>\n",
       "      <td>2020-08</td>\n",
       "    </tr>\n",
       "    <tr>\n",
       "      <th>1229</th>\n",
       "      <td>New Summer Women's New Fashion Sleeveless Polk...</td>\n",
       "      <td>New Summer Women's New Fashion Sleeveless Polk...</td>\n",
       "      <td>3.68</td>\n",
       "      <td>4</td>\n",
       "      <td>100</td>\n",
       "      <td>0</td>\n",
       "      <td>3.71</td>\n",
       "      <td>42</td>\n",
       "      <td>18.0</td>\n",
       "      <td>7.0</td>\n",
       "      <td>...</td>\n",
       "      <td>105015</td>\n",
       "      <td>3.789601</td>\n",
       "      <td>5177b0b63feb620dd802a197</td>\n",
       "      <td>0</td>\n",
       "      <td>NaN</td>\n",
       "      <td>https://www.wish.com/c/5d82f19340367911da1b9ee7</td>\n",
       "      <td>https://contestimg.wish.com/api/webimage/5d82f...</td>\n",
       "      <td>5d82f19340367911da1b9ee7</td>\n",
       "      <td>summer</td>\n",
       "      <td>2020-08</td>\n",
       "    </tr>\n",
       "    <tr>\n",
       "      <th>1251</th>\n",
       "      <td>Mini robe de soir\u00e9e d\u00e9contract\u00e9e sans manches ...</td>\n",
       "      <td>Sexy Women's Summer Casual Sleeveless Evening ...</td>\n",
       "      <td>2.89</td>\n",
       "      <td>7</td>\n",
       "      <td>50</td>\n",
       "      <td>0</td>\n",
       "      <td>5.00</td>\n",
       "      <td>1</td>\n",
       "      <td>1.0</td>\n",
       "      <td>0.0</td>\n",
       "      <td>...</td>\n",
       "      <td>30</td>\n",
       "      <td>3.733333</td>\n",
       "      <td>5e535f1b397cba44cf1118d8</td>\n",
       "      <td>0</td>\n",
       "      <td>NaN</td>\n",
       "      <td>https://www.wish.com/c/5eba5b1c29367c77b5c0eb35</td>\n",
       "      <td>https://contestimg.wish.com/api/webimage/5eba5...</td>\n",
       "      <td>5eba5b1c29367c77b5c0eb35</td>\n",
       "      <td>summer</td>\n",
       "      <td>2020-08</td>\n",
       "    </tr>\n",
       "    <tr>\n",
       "      <th>1254</th>\n",
       "      <td>2020 \u00c9t\u00e9 Sexy Femmes Halter Tops Plage De Nata...</td>\n",
       "      <td>2020 Summer Sexy Women Halter Tops Beach Swimm...</td>\n",
       "      <td>7.00</td>\n",
       "      <td>6</td>\n",
       "      <td>100</td>\n",
       "      <td>0</td>\n",
       "      <td>3.60</td>\n",
       "      <td>25</td>\n",
       "      <td>10.0</td>\n",
       "      <td>4.0</td>\n",
       "      <td>...</td>\n",
       "      <td>483</td>\n",
       "      <td>4.155280</td>\n",
       "      <td>5d8b2f16ddac8e198fc7c8b7</td>\n",
       "      <td>0</td>\n",
       "      <td>NaN</td>\n",
       "      <td>https://www.wish.com/c/5dea1d9cec016f062ce8aab1</td>\n",
       "      <td>https://contestimg.wish.com/api/webimage/5dea1...</td>\n",
       "      <td>5dea1d9cec016f062ce8aab1</td>\n",
       "      <td>summer</td>\n",
       "      <td>2020-08</td>\n",
       "    </tr>\n",
       "    <tr>\n",
       "      <th>1262</th>\n",
       "      <td>Mode f\u00e9minine d'\u00e9t\u00e9 T-shirt \u00e0 manches courtes ...</td>\n",
       "      <td>Summer Women's Fashion Short Sleeve T Shirt La...</td>\n",
       "      <td>1.72</td>\n",
       "      <td>2</td>\n",
       "      <td>100</td>\n",
       "      <td>1</td>\n",
       "      <td>3.77</td>\n",
       "      <td>30</td>\n",
       "      <td>15.0</td>\n",
       "      <td>3.0</td>\n",
       "      <td>...</td>\n",
       "      <td>32168</td>\n",
       "      <td>3.884544</td>\n",
       "      <td>558c2cdc89d53c4005ea2920</td>\n",
       "      <td>0</td>\n",
       "      <td>NaN</td>\n",
       "      <td>https://www.wish.com/c/5ebe0ead593b960eb1c82d0b</td>\n",
       "      <td>https://contestimg.wish.com/api/webimage/5ebe0...</td>\n",
       "      <td>5ebe0ead593b960eb1c82d0b</td>\n",
       "      <td>summer</td>\n",
       "      <td>2020-08</td>\n",
       "    </tr>\n",
       "    <tr>\n",
       "      <th>1271</th>\n",
       "      <td>2019 \u00e9t\u00e9 nouvelle mode f\u00e9minine \"Let It ~\" Bee...</td>\n",
       "      <td>2019 Summer New Women Fashion \u201c Let It ~\u201c Bee ...</td>\n",
       "      <td>11.00</td>\n",
       "      <td>10</td>\n",
       "      <td>10000</td>\n",
       "      <td>1</td>\n",
       "      <td>4.05</td>\n",
       "      <td>1479</td>\n",
       "      <td>754.0</td>\n",
       "      <td>329.0</td>\n",
       "      <td>...</td>\n",
       "      <td>5816</td>\n",
       "      <td>3.936382</td>\n",
       "      <td>58330d7def56284f7634e5e5</td>\n",
       "      <td>0</td>\n",
       "      <td>NaN</td>\n",
       "      <td>https://www.wish.com/c/5cedf93ac0baab7389f4ccd7</td>\n",
       "      <td>https://contestimg.wish.com/api/webimage/5cedf...</td>\n",
       "      <td>5cedf93ac0baab7389f4ccd7</td>\n",
       "      <td>summer</td>\n",
       "      <td>2020-08</td>\n",
       "    </tr>\n",
       "    <tr>\n",
       "      <th>1316</th>\n",
       "      <td>Femmes \u00e9t\u00e9 d\u00e9contract\u00e9 l\u00e2che couleur unie salo...</td>\n",
       "      <td>Women Summer Casual Loose Solid Color Vintage ...</td>\n",
       "      <td>11.00</td>\n",
       "      <td>11</td>\n",
       "      <td>1000</td>\n",
       "      <td>0</td>\n",
       "      <td>2.99</td>\n",
       "      <td>228</td>\n",
       "      <td>59.0</td>\n",
       "      <td>38.0</td>\n",
       "      <td>...</td>\n",
       "      <td>5264</td>\n",
       "      <td>4.032865</td>\n",
       "      <td>5aa78a0c75599a5bd049d682</td>\n",
       "      <td>0</td>\n",
       "      <td>NaN</td>\n",
       "      <td>https://www.wish.com/c/5d410e4a11512c51311ad3d3</td>\n",
       "      <td>https://contestimg.wish.com/api/webimage/5d410...</td>\n",
       "      <td>5d410e4a11512c51311ad3d3</td>\n",
       "      <td>summer</td>\n",
       "      <td>2020-08</td>\n",
       "    </tr>\n",
       "    <tr>\n",
       "      <th>1331</th>\n",
       "      <td>Femmes D'\u00e9t\u00e9 Nouvelle Mode Shorts De Sport Cou...</td>\n",
       "      <td>Women's Summer New Fashion Sports Shorts Solid...</td>\n",
       "      <td>7.00</td>\n",
       "      <td>6</td>\n",
       "      <td>50</td>\n",
       "      <td>0</td>\n",
       "      <td>4.00</td>\n",
       "      <td>4</td>\n",
       "      <td>3.0</td>\n",
       "      <td>0.0</td>\n",
       "      <td>...</td>\n",
       "      <td>34</td>\n",
       "      <td>4.352941</td>\n",
       "      <td>5d4bbed57ad242352a46d910</td>\n",
       "      <td>0</td>\n",
       "      <td>NaN</td>\n",
       "      <td>https://www.wish.com/c/5ebff6d34a4cf4438dba5d80</td>\n",
       "      <td>https://contestimg.wish.com/api/webimage/5ebff...</td>\n",
       "      <td>5ebff6d34a4cf4438dba5d80</td>\n",
       "      <td>summer</td>\n",
       "      <td>2020-08</td>\n",
       "    </tr>\n",
       "    <tr>\n",
       "      <th>1346</th>\n",
       "      <td>Nouvelle mode d'\u00e9t\u00e9 femmes robe d\u00e9contract\u00e9e c...</td>\n",
       "      <td>New Fashion Summer Women Casual Dress Round Ne...</td>\n",
       "      <td>1.68</td>\n",
       "      <td>2</td>\n",
       "      <td>100</td>\n",
       "      <td>1</td>\n",
       "      <td>3.67</td>\n",
       "      <td>12</td>\n",
       "      <td>6.0</td>\n",
       "      <td>2.0</td>\n",
       "      <td>...</td>\n",
       "      <td>1047</td>\n",
       "      <td>3.956065</td>\n",
       "      <td>56cd50871e15ff78c21de8a9</td>\n",
       "      <td>0</td>\n",
       "      <td>NaN</td>\n",
       "      <td>https://www.wish.com/c/5e93d60ebc5446aedde50c50</td>\n",
       "      <td>https://contestimg.wish.com/api/webimage/5e93d...</td>\n",
       "      <td>5e93d60ebc5446aedde50c50</td>\n",
       "      <td>summer</td>\n",
       "      <td>2020-08</td>\n",
       "    </tr>\n",
       "    <tr>\n",
       "      <th>1387</th>\n",
       "      <td>Mode d'\u00e9t\u00e9 femme papillon r\u00e9servoir gilet sans...</td>\n",
       "      <td>Summer fashion female butterfly tank vest slee...</td>\n",
       "      <td>6.00</td>\n",
       "      <td>33</td>\n",
       "      <td>10</td>\n",
       "      <td>0</td>\n",
       "      <td>2.33</td>\n",
       "      <td>3</td>\n",
       "      <td>1.0</td>\n",
       "      <td>0.0</td>\n",
       "      <td>...</td>\n",
       "      <td>32394</td>\n",
       "      <td>3.924677</td>\n",
       "      <td>57864d704d669274929898fb</td>\n",
       "      <td>0</td>\n",
       "      <td>NaN</td>\n",
       "      <td>https://www.wish.com/c/5eb4dd1bba09581b242c01b0</td>\n",
       "      <td>https://contestimg.wish.com/api/webimage/5eb4d...</td>\n",
       "      <td>5eb4dd1bba09581b242c01b0</td>\n",
       "      <td>summer</td>\n",
       "      <td>2020-08</td>\n",
       "    </tr>\n",
       "    <tr>\n",
       "      <th>1433</th>\n",
       "      <td>Robe de plage \u00e0 manches courtes Femmes Robe d'...</td>\n",
       "      <td>Short Sleeve Beach Dress Women Summer Print V ...</td>\n",
       "      <td>8.00</td>\n",
       "      <td>10</td>\n",
       "      <td>50</td>\n",
       "      <td>0</td>\n",
       "      <td>5.00</td>\n",
       "      <td>2</td>\n",
       "      <td>2.0</td>\n",
       "      <td>0.0</td>\n",
       "      <td>...</td>\n",
       "      <td>127</td>\n",
       "      <td>3.874016</td>\n",
       "      <td>5eb51ed929e7865dc268a561</td>\n",
       "      <td>0</td>\n",
       "      <td>NaN</td>\n",
       "      <td>https://www.wish.com/c/5ec1e63f7abee20ab93c68f2</td>\n",
       "      <td>https://contestimg.wish.com/api/webimage/5ec1e...</td>\n",
       "      <td>5ec1e63f7abee20ab93c68f2</td>\n",
       "      <td>summer</td>\n",
       "      <td>2020-08</td>\n",
       "    </tr>\n",
       "    <tr>\n",
       "      <th>1436</th>\n",
       "      <td>Casual Boho Beach Robes Womens O-Neck Party Su...</td>\n",
       "      <td>Casual Boho Beach Dresses Womens O-Neck Party ...</td>\n",
       "      <td>8.00</td>\n",
       "      <td>7</td>\n",
       "      <td>100</td>\n",
       "      <td>1</td>\n",
       "      <td>3.00</td>\n",
       "      <td>11</td>\n",
       "      <td>3.0</td>\n",
       "      <td>1.0</td>\n",
       "      <td>...</td>\n",
       "      <td>5768</td>\n",
       "      <td>4.484397</td>\n",
       "      <td>58ff6866e17bc0302f540b50</td>\n",
       "      <td>0</td>\n",
       "      <td>NaN</td>\n",
       "      <td>https://www.wish.com/c/5ebf9b2a6e0bd84bbf5edb18</td>\n",
       "      <td>https://contestimg.wish.com/api/webimage/5ebf9...</td>\n",
       "      <td>5ebf9b2a6e0bd84bbf5edb18</td>\n",
       "      <td>summer</td>\n",
       "      <td>2020-08</td>\n",
       "    </tr>\n",
       "    <tr>\n",
       "      <th>1444</th>\n",
       "      <td>2019 Mode f\u00e9minine Hot Summer Fashion Flare Sl...</td>\n",
       "      <td>2019 Women's Fashion Hot Summer Fashion Flare ...</td>\n",
       "      <td>11.00</td>\n",
       "      <td>10</td>\n",
       "      <td>100</td>\n",
       "      <td>0</td>\n",
       "      <td>3.96</td>\n",
       "      <td>98</td>\n",
       "      <td>46.0</td>\n",
       "      <td>24.0</td>\n",
       "      <td>...</td>\n",
       "      <td>5070</td>\n",
       "      <td>4.276726</td>\n",
       "      <td>5ae2d62f2c49564f1df9bbd1</td>\n",
       "      <td>0</td>\n",
       "      <td>NaN</td>\n",
       "      <td>https://www.wish.com/c/5cbdabea787e5828c3059a6c</td>\n",
       "      <td>https://contestimg.wish.com/api/webimage/5cbda...</td>\n",
       "      <td>5cbdabea787e5828c3059a6c</td>\n",
       "      <td>summer</td>\n",
       "      <td>2020-08</td>\n",
       "    </tr>\n",
       "    <tr>\n",
       "      <th>1479</th>\n",
       "      <td>Mode d'\u00e9t\u00e9 femme papillon r\u00e9servoir gilet sans...</td>\n",
       "      <td>Summer fashion female butterfly tank vest slee...</td>\n",
       "      <td>7.00</td>\n",
       "      <td>33</td>\n",
       "      <td>50</td>\n",
       "      <td>0</td>\n",
       "      <td>3.00</td>\n",
       "      <td>2</td>\n",
       "      <td>0.0</td>\n",
       "      <td>1.0</td>\n",
       "      <td>...</td>\n",
       "      <td>25222</td>\n",
       "      <td>4.001546</td>\n",
       "      <td>566a47bfe9fa8a31b3ef5141</td>\n",
       "      <td>0</td>\n",
       "      <td>NaN</td>\n",
       "      <td>https://www.wish.com/c/5eb4dd169263020a42be1a88</td>\n",
       "      <td>https://contestimg.wish.com/api/webimage/5eb4d...</td>\n",
       "      <td>5eb4dd169263020a42be1a88</td>\n",
       "      <td>summer</td>\n",
       "      <td>2020-08</td>\n",
       "    </tr>\n",
       "    <tr>\n",
       "      <th>1481</th>\n",
       "      <td>Mode f\u00e9minine \u00e9t\u00e9 bretelles spaghetti imprim\u00e9 ...</td>\n",
       "      <td>Women's Summer Fashion Spaghetti Strap Floral ...</td>\n",
       "      <td>8.00</td>\n",
       "      <td>68</td>\n",
       "      <td>8</td>\n",
       "      <td>0</td>\n",
       "      <td>5.00</td>\n",
       "      <td>0</td>\n",
       "      <td>NaN</td>\n",
       "      <td>NaN</td>\n",
       "      <td>...</td>\n",
       "      <td>626</td>\n",
       "      <td>3.916933</td>\n",
       "      <td>5d3aa36072b0c915fe6b8fbd</td>\n",
       "      <td>0</td>\n",
       "      <td>NaN</td>\n",
       "      <td>https://www.wish.com/c/5eb2200b989caa081980b812</td>\n",
       "      <td>https://contestimg.wish.com/api/webimage/5eb22...</td>\n",
       "      <td>5eb2200b989caa081980b812</td>\n",
       "      <td>summer</td>\n",
       "      <td>2020-08</td>\n",
       "    </tr>\n",
       "    <tr>\n",
       "      <th>1491</th>\n",
       "      <td>Costume de sport cool pour hommes d'\u00e9t\u00e9 V\u00eateme...</td>\n",
       "      <td>Summer mens cool sport suit Sports Wear Casual...</td>\n",
       "      <td>11.00</td>\n",
       "      <td>168</td>\n",
       "      <td>10</td>\n",
       "      <td>0</td>\n",
       "      <td>3.33</td>\n",
       "      <td>3</td>\n",
       "      <td>0.0</td>\n",
       "      <td>2.0</td>\n",
       "      <td>...</td>\n",
       "      <td>47</td>\n",
       "      <td>3.914894</td>\n",
       "      <td>5e71bc2ff2bef60050bd3a86</td>\n",
       "      <td>0</td>\n",
       "      <td>NaN</td>\n",
       "      <td>https://www.wish.com/c/5e9dad8cbc19c300417e1733</td>\n",
       "      <td>https://contestimg.wish.com/api/webimage/5e9da...</td>\n",
       "      <td>5e9dad8cbc19c300417e1733</td>\n",
       "      <td>summer</td>\n",
       "      <td>2020-08</td>\n",
       "    </tr>\n",
       "    <tr>\n",
       "      <th>1512</th>\n",
       "      <td>Mode f\u00e9minine sans manches asym\u00e9trique Hippie ...</td>\n",
       "      <td>Women's Fashion Sleeveless Asymmetric Hippie S...</td>\n",
       "      <td>5.84</td>\n",
       "      <td>5</td>\n",
       "      <td>100</td>\n",
       "      <td>0</td>\n",
       "      <td>4.04</td>\n",
       "      <td>24</td>\n",
       "      <td>12.0</td>\n",
       "      <td>7.0</td>\n",
       "      <td>...</td>\n",
       "      <td>9470</td>\n",
       "      <td>3.956811</td>\n",
       "      <td>5952a218e81e8a4c30b5bbbc</td>\n",
       "      <td>0</td>\n",
       "      <td>NaN</td>\n",
       "      <td>https://www.wish.com/c/5eb10d32f12bf74120b0fd1e</td>\n",
       "      <td>https://contestimg.wish.com/api/webimage/5eb10...</td>\n",
       "      <td>5eb10d32f12bf74120b0fd1e</td>\n",
       "      <td>summer</td>\n",
       "      <td>2020-08</td>\n",
       "    </tr>\n",
       "    <tr>\n",
       "      <th>1553</th>\n",
       "      <td>Chemisiers sans manches d'\u00e9t\u00e9 pour femmes Casu...</td>\n",
       "      <td>Women's Summer Sleeveless Blouses Casual Sling...</td>\n",
       "      <td>6.00</td>\n",
       "      <td>6</td>\n",
       "      <td>100</td>\n",
       "      <td>0</td>\n",
       "      <td>3.40</td>\n",
       "      <td>5</td>\n",
       "      <td>2.0</td>\n",
       "      <td>0.0</td>\n",
       "      <td>...</td>\n",
       "      <td>112</td>\n",
       "      <td>3.625000</td>\n",
       "      <td>5dc40e313710b91b0f04fcc5</td>\n",
       "      <td>0</td>\n",
       "      <td>NaN</td>\n",
       "      <td>https://www.wish.com/c/5eba05b08c884a0bddd0ad96</td>\n",
       "      <td>https://contestimg.wish.com/api/webimage/5eba0...</td>\n",
       "      <td>5eba05b08c884a0bddd0ad96</td>\n",
       "      <td>summer</td>\n",
       "      <td>2020-08</td>\n",
       "    </tr>\n",
       "  </tbody>\n",
       "</table>\n",
       "<p>34 rows \u00d7 42 columns</p>\n",
       "</div>"
      ],
      "text/plain": [
       "                                                  title  \\\n",
       "311   Women's Summer Fashion Spaghetti Strap Dress F...   \n",
       "411   New Women Ladies Fashion Summer Skinny High Wa...   \n",
       "447   Womens Summer Fashion Lip Print 2pc Set Ladies...   \n",
       "505   Plus la taille des femmes de la mode l\u00e2che d\u00e9c...   \n",
       "571   Summer Women Fashion Fashion Robe courte sans ...   \n",
       "684   Femmes d'\u00e9t\u00e9 Boho Maxi Polka Dot Robe Irr\u00e9guli...   \n",
       "689   Femmes d'\u00e9t\u00e9 Mode Shorts de sport double couch...   \n",
       "698         D\u00e9bardeur en coton sans manches pour femmes   \n",
       "770   Nouvelle mode d'\u00e9t\u00e9 femmes robe d\u00e9contract\u00e9e c...   \n",
       "991   2020 Shorts classiques pour hommes d'\u00e9t\u00e9 Panta...   \n",
       "997   S-5XL Nouvelle Mode Femmes Tops Blouse Sans Ma...   \n",
       "1003  6 Couleurs Automne \u00c9t\u00e9 Dames Casual L\u00e2che Soli...   \n",
       "1050  D\u00e9bardeur pour femme D\u00e9bardeur Bandage Plume I...   \n",
       "1074  Femmes d'\u00e9t\u00e9 Mode D\u00e9bardeurs Sexy Sans Manches...   \n",
       "1109  Robe \u00e0 bretelles l\u00e2che col en v pour femmes d'...   \n",
       "1138  NOUVELLES femmes manches courtes Baggy Summer ...   \n",
       "1173  Costume de sport cool pour hommes d'\u00e9t\u00e9 V\u00eateme...   \n",
       "1229  New Summer Women's New Fashion Sleeveless Polk...   \n",
       "1251  Mini robe de soir\u00e9e d\u00e9contract\u00e9e sans manches ...   \n",
       "1254  2020 \u00c9t\u00e9 Sexy Femmes Halter Tops Plage De Nata...   \n",
       "1262  Mode f\u00e9minine d'\u00e9t\u00e9 T-shirt \u00e0 manches courtes ...   \n",
       "1271  2019 \u00e9t\u00e9 nouvelle mode f\u00e9minine \"Let It ~\" Bee...   \n",
       "1316  Femmes \u00e9t\u00e9 d\u00e9contract\u00e9 l\u00e2che couleur unie salo...   \n",
       "1331  Femmes D'\u00e9t\u00e9 Nouvelle Mode Shorts De Sport Cou...   \n",
       "1346  Nouvelle mode d'\u00e9t\u00e9 femmes robe d\u00e9contract\u00e9e c...   \n",
       "1387  Mode d'\u00e9t\u00e9 femme papillon r\u00e9servoir gilet sans...   \n",
       "1433  Robe de plage \u00e0 manches courtes Femmes Robe d'...   \n",
       "1436  Casual Boho Beach Robes Womens O-Neck Party Su...   \n",
       "1444  2019 Mode f\u00e9minine Hot Summer Fashion Flare Sl...   \n",
       "1479  Mode d'\u00e9t\u00e9 femme papillon r\u00e9servoir gilet sans...   \n",
       "1481  Mode f\u00e9minine \u00e9t\u00e9 bretelles spaghetti imprim\u00e9 ...   \n",
       "1491  Costume de sport cool pour hommes d'\u00e9t\u00e9 V\u00eateme...   \n",
       "1512  Mode f\u00e9minine sans manches asym\u00e9trique Hippie ...   \n",
       "1553  Chemisiers sans manches d'\u00e9t\u00e9 pour femmes Casu...   \n",
       "\n",
       "                                             title_orig  price  retail_price  \\\n",
       "311   Women's Summer Fashion Spaghetti Strap Dress F...   8.00             7   \n",
       "411   New Women Ladies Fashion Summer Skinny High Wa...  14.00            12   \n",
       "447   Womens Summer Fashion Lip Print 2pc Set Ladies...   5.00            51   \n",
       "505   Plus Size Women's Fashion Loose Casual sleevel...   5.83             5   \n",
       "571   Summer Women Fashion Short Dress Sleeveless Wa...   8.00            51   \n",
       "684   Summer Women Boho Maxi Polka Dot Dress Irregul...   6.00             6   \n",
       "689   Summer Women Fashion Double-Layer Sports Short...   3.76             7   \n",
       "698   Women's Summer Sleeveless Tank Cotton Vest Pri...   6.00             7   \n",
       "770   New Fashion Summer Women Casual Dress Round Ne...   2.00             9   \n",
       "991   2020 Summer Men's Classic Shorts Multi-pocket ...   7.00            17   \n",
       "997   S-5XL New Fashion Women Tops Blouse Sleeveless...   4.83            51   \n",
       "1003  6 Colors Autumn Summer Ladies Casual Loose Sol...   9.00             8   \n",
       "1050  Women Tops Tank Bandage Feather Print Sleevele...   3.00             3   \n",
       "1074  Women Summer Fashion Tank Tops Sexy Sleeveless...   2.00             2   \n",
       "1109  Summer Women's Loose V-neck Sling Dress Sleeve...   7.00            26   \n",
       "1138  NEW Womens Short Sleeve Baggy Summer Beach Mid...  11.00            84   \n",
       "1173  Summer mens cool sport suit Sports Wear Casual...  16.00            14   \n",
       "1229  New Summer Women's New Fashion Sleeveless Polk...   3.68             4   \n",
       "1251  Sexy Women's Summer Casual Sleeveless Evening ...   2.89             7   \n",
       "1254  2020 Summer Sexy Women Halter Tops Beach Swimm...   7.00             6   \n",
       "1262  Summer Women's Fashion Short Sleeve T Shirt La...   1.72             2   \n",
       "1271  2019 Summer New Women Fashion \u201c Let It ~\u201c Bee ...  11.00            10   \n",
       "1316  Women Summer Casual Loose Solid Color Vintage ...  11.00            11   \n",
       "1331  Women's Summer New Fashion Sports Shorts Solid...   7.00             6   \n",
       "1346  New Fashion Summer Women Casual Dress Round Ne...   1.68             2   \n",
       "1387  Summer fashion female butterfly tank vest slee...   6.00            33   \n",
       "1433  Short Sleeve Beach Dress Women Summer Print V ...   8.00            10   \n",
       "1436  Casual Boho Beach Dresses Womens O-Neck Party ...   8.00             7   \n",
       "1444  2019 Women's Fashion Hot Summer Fashion Flare ...  11.00            10   \n",
       "1479  Summer fashion female butterfly tank vest slee...   7.00            33   \n",
       "1481  Women's Summer Fashion Spaghetti Strap Floral ...   8.00            68   \n",
       "1491  Summer mens cool sport suit Sports Wear Casual...  11.00           168   \n",
       "1512  Women's Fashion Sleeveless Asymmetric Hippie S...   5.84             5   \n",
       "1553  Women's Summer Sleeveless Blouses Casual Sling...   6.00             6   \n",
       "\n",
       "      units_sold  uses_ad_boosts  rating  rating_count  rating_five_count  \\\n",
       "311           50               0    3.88             8                5.0   \n",
       "411         5000               1    4.06           643              365.0   \n",
       "447           10               0    5.00             0                NaN   \n",
       "505          100               0    4.36            22               13.0   \n",
       "571          100               0    4.29            31               19.0   \n",
       "684          100               1    3.67            27                9.0   \n",
       "689           50               0    3.50             8                4.0   \n",
       "698           50               0    2.67             3                1.0   \n",
       "770          100               0    3.47            32               11.0   \n",
       "991           10               0    5.00             2                2.0   \n",
       "997           50               1    2.00             1                0.0   \n",
       "1003         100               1    3.18            72               17.0   \n",
       "1050         100               1    4.29            58               36.0   \n",
       "1074        1000               0    4.19            81               50.0   \n",
       "1109         100               0    2.90            10                4.0   \n",
       "1138         100               1    3.61            18                6.0   \n",
       "1173          10               0    3.00             3                0.0   \n",
       "1229         100               0    3.71            42               18.0   \n",
       "1251          50               0    5.00             1                1.0   \n",
       "1254         100               0    3.60            25               10.0   \n",
       "1262         100               1    3.77            30               15.0   \n",
       "1271       10000               1    4.05          1479              754.0   \n",
       "1316        1000               0    2.99           228               59.0   \n",
       "1331          50               0    4.00             4                3.0   \n",
       "1346         100               1    3.67            12                6.0   \n",
       "1387          10               0    2.33             3                1.0   \n",
       "1433          50               0    5.00             2                2.0   \n",
       "1436         100               1    3.00            11                3.0   \n",
       "1444         100               0    3.96            98               46.0   \n",
       "1479          50               0    3.00             2                0.0   \n",
       "1481           8               0    5.00             0                NaN   \n",
       "1491          10               0    3.33             3                0.0   \n",
       "1512         100               0    4.04            24               12.0   \n",
       "1553         100               0    3.40             5                2.0   \n",
       "\n",
       "      rating_four_count  ...  merchant_rating_count  merchant_rating  \\\n",
       "311                 1.0  ...                    334         3.736527   \n",
       "411               109.0  ...                  80093         4.006692   \n",
       "447                 NaN  ...                    295         3.989831   \n",
       "505                 5.0  ...                  17471         3.952836   \n",
       "571                 5.0  ...                   5846         3.832535   \n",
       "684                 8.0  ...                   4705         4.040595   \n",
       "689                 1.0  ...                   3730         3.880429   \n",
       "698                 0.0  ...                   1374         4.058952   \n",
       "770                 6.0  ...                   4856         4.167628   \n",
       "991                 0.0  ...                     46         3.608696   \n",
       "997                 0.0  ...                     57         3.824561   \n",
       "1003               19.0  ...                    288         3.729167   \n",
       "1050               13.0  ...                   1050         3.883810   \n",
       "1074               14.0  ...                 126370         4.146957   \n",
       "1109                0.0  ...                     32         3.187500   \n",
       "1138                5.0  ...                    435         3.855172   \n",
       "1173                2.0  ...                     31         3.548387   \n",
       "1229                7.0  ...                 105015         3.789601   \n",
       "1251                0.0  ...                     30         3.733333   \n",
       "1254                4.0  ...                    483         4.155280   \n",
       "1262                3.0  ...                  32168         3.884544   \n",
       "1271              329.0  ...                   5816         3.936382   \n",
       "1316               38.0  ...                   5264         4.032865   \n",
       "1331                0.0  ...                     34         4.352941   \n",
       "1346                2.0  ...                   1047         3.956065   \n",
       "1387                0.0  ...                  32394         3.924677   \n",
       "1433                0.0  ...                    127         3.874016   \n",
       "1436                1.0  ...                   5768         4.484397   \n",
       "1444               24.0  ...                   5070         4.276726   \n",
       "1479                1.0  ...                  25222         4.001546   \n",
       "1481                NaN  ...                    626         3.916933   \n",
       "1491                2.0  ...                     47         3.914894   \n",
       "1512                7.0  ...                   9470         3.956811   \n",
       "1553                0.0  ...                    112         3.625000   \n",
       "\n",
       "                   merchant_id  merchant_has_profile_picture  \\\n",
       "311   5dda40561fead208515f98e2                             0   \n",
       "411   583138b06339b410ab9663ec                             0   \n",
       "447   5d464a1ffdf7bc44ee933c65                             0   \n",
       "505   5aab3c8ea6bf7a704caec65c                             0   \n",
       "571   5a792e56a71fbf471cf1fc99                             0   \n",
       "684   580c7d0a8b67fa197454a2d1                             0   \n",
       "689   58d8e8ebd929c652b9c04c05                             0   \n",
       "698   5a2fa9ce6ea4a770c66f5599                             0   \n",
       "770   5710ac98b2d43a5925da8dd8                             0   \n",
       "991   5e2ecb9deed5087a7ba2f5f7                             0   \n",
       "997   5e3c5fbfe217d492138970c1                             0   \n",
       "1003  5de0981739adf2a3406bed18                             0   \n",
       "1050  5a698cef028bbd27227d3d12                             0   \n",
       "1074  58ad449708de0c6dc59d9e06                             1   \n",
       "1109  5e54a05c207f9d3e6cee7040                             0   \n",
       "1138  5ac82ff62c49567ffa616535                             0   \n",
       "1173  5e61c817039ce2184a0ed392                             0   \n",
       "1229  5177b0b63feb620dd802a197                             0   \n",
       "1251  5e535f1b397cba44cf1118d8                             0   \n",
       "1254  5d8b2f16ddac8e198fc7c8b7                             0   \n",
       "1262  558c2cdc89d53c4005ea2920                             0   \n",
       "1271  58330d7def56284f7634e5e5                             0   \n",
       "1316  5aa78a0c75599a5bd049d682                             0   \n",
       "1331  5d4bbed57ad242352a46d910                             0   \n",
       "1346  56cd50871e15ff78c21de8a9                             0   \n",
       "1387  57864d704d669274929898fb                             0   \n",
       "1433  5eb51ed929e7865dc268a561                             0   \n",
       "1436  58ff6866e17bc0302f540b50                             0   \n",
       "1444  5ae2d62f2c49564f1df9bbd1                             0   \n",
       "1479  566a47bfe9fa8a31b3ef5141                             0   \n",
       "1481  5d3aa36072b0c915fe6b8fbd                             0   \n",
       "1491  5e71bc2ff2bef60050bd3a86                             0   \n",
       "1512  5952a218e81e8a4c30b5bbbc                             0   \n",
       "1553  5dc40e313710b91b0f04fcc5                             0   \n",
       "\n",
       "                               merchant_profile_picture  \\\n",
       "311                                                 NaN   \n",
       "411                                                 NaN   \n",
       "447                                                 NaN   \n",
       "505                                                 NaN   \n",
       "571                                                 NaN   \n",
       "684                                                 NaN   \n",
       "689                                                 NaN   \n",
       "698                                                 NaN   \n",
       "770                                                 NaN   \n",
       "991                                                 NaN   \n",
       "997                                                 NaN   \n",
       "1003                                                NaN   \n",
       "1050                                                NaN   \n",
       "1074  https://s3-us-west-1.amazonaws.com/sweeper-pro...   \n",
       "1109                                                NaN   \n",
       "1138                                                NaN   \n",
       "1173                                                NaN   \n",
       "1229                                                NaN   \n",
       "1251                                                NaN   \n",
       "1254                                                NaN   \n",
       "1262                                                NaN   \n",
       "1271                                                NaN   \n",
       "1316                                                NaN   \n",
       "1331                                                NaN   \n",
       "1346                                                NaN   \n",
       "1387                                                NaN   \n",
       "1433                                                NaN   \n",
       "1436                                                NaN   \n",
       "1444                                                NaN   \n",
       "1479                                                NaN   \n",
       "1481                                                NaN   \n",
       "1491                                                NaN   \n",
       "1512                                                NaN   \n",
       "1553                                                NaN   \n",
       "\n",
       "                                          product_url  \\\n",
       "311   https://www.wish.com/c/5ea91e4d29b81241e1d43b27   \n",
       "411   https://www.wish.com/c/5c80e8a150c63d28c67b8f14   \n",
       "447   https://www.wish.com/c/5eb90ab5ad67f63678d15ed9   \n",
       "505   https://www.wish.com/c/5e9932cab3eafb25c00ba79f   \n",
       "571   https://www.wish.com/c/5d78eb19cc404c03393c83b5   \n",
       "684   https://www.wish.com/c/5e142dee04c3e579e89576a3   \n",
       "689   https://www.wish.com/c/5ebe625c3cdb6c40b7b9231e   \n",
       "698   https://www.wish.com/c/5eb4f323b67a8d189a8f8380   \n",
       "770   https://www.wish.com/c/5e940265ea3640c9ca0353aa   \n",
       "991   https://www.wish.com/c/5eeef4c4066647a9388a8ac2   \n",
       "997   https://www.wish.com/c/5ee8875404718a4bba2d6348   \n",
       "1003  https://www.wish.com/c/5eaa6d9c8d99eb3ec06709f4   \n",
       "1050  https://www.wish.com/c/5cde56ea6bbbd86b1cbab4a8   \n",
       "1074  https://www.wish.com/c/5e16cb87e6dd7c03be24b28a   \n",
       "1109  https://www.wish.com/c/5e68ffbbe97f758d0698e049   \n",
       "1138  https://www.wish.com/c/5e65d0ea5dc348884032a14e   \n",
       "1173  https://www.wish.com/c/5e9a74e447f7d92c8db8d14b   \n",
       "1229  https://www.wish.com/c/5d82f19340367911da1b9ee7   \n",
       "1251  https://www.wish.com/c/5eba5b1c29367c77b5c0eb35   \n",
       "1254  https://www.wish.com/c/5dea1d9cec016f062ce8aab1   \n",
       "1262  https://www.wish.com/c/5ebe0ead593b960eb1c82d0b   \n",
       "1271  https://www.wish.com/c/5cedf93ac0baab7389f4ccd7   \n",
       "1316  https://www.wish.com/c/5d410e4a11512c51311ad3d3   \n",
       "1331  https://www.wish.com/c/5ebff6d34a4cf4438dba5d80   \n",
       "1346  https://www.wish.com/c/5e93d60ebc5446aedde50c50   \n",
       "1387  https://www.wish.com/c/5eb4dd1bba09581b242c01b0   \n",
       "1433  https://www.wish.com/c/5ec1e63f7abee20ab93c68f2   \n",
       "1436  https://www.wish.com/c/5ebf9b2a6e0bd84bbf5edb18   \n",
       "1444  https://www.wish.com/c/5cbdabea787e5828c3059a6c   \n",
       "1479  https://www.wish.com/c/5eb4dd169263020a42be1a88   \n",
       "1481  https://www.wish.com/c/5eb2200b989caa081980b812   \n",
       "1491  https://www.wish.com/c/5e9dad8cbc19c300417e1733   \n",
       "1512  https://www.wish.com/c/5eb10d32f12bf74120b0fd1e   \n",
       "1553  https://www.wish.com/c/5eba05b08c884a0bddd0ad96   \n",
       "\n",
       "                                        product_picture  \\\n",
       "311   https://contestimg.wish.com/api/webimage/5ea91...   \n",
       "411   https://contestimg.wish.com/api/webimage/5c80e...   \n",
       "447   https://contestimg.wish.com/api/webimage/5eb90...   \n",
       "505   https://contestimg.wish.com/api/webimage/5e993...   \n",
       "571   https://contestimg.wish.com/api/webimage/5d78e...   \n",
       "684   https://contestimg.wish.com/api/webimage/5e142...   \n",
       "689   https://contestimg.wish.com/api/webimage/5ebe6...   \n",
       "698   https://contestimg.wish.com/api/webimage/5eb4f...   \n",
       "770   https://contestimg.wish.com/api/webimage/5e940...   \n",
       "991   https://contestimg.wish.com/api/webimage/5eeef...   \n",
       "997   https://contestimg.wish.com/api/webimage/5ee88...   \n",
       "1003  https://contestimg.wish.com/api/webimage/5eaa6...   \n",
       "1050  https://contestimg.wish.com/api/webimage/5cde5...   \n",
       "1074  https://contestimg.wish.com/api/webimage/5e16c...   \n",
       "1109  https://contestimg.wish.com/api/webimage/5e68f...   \n",
       "1138  https://contestimg.wish.com/api/webimage/5e65d...   \n",
       "1173  https://contestimg.wish.com/api/webimage/5e9a7...   \n",
       "1229  https://contestimg.wish.com/api/webimage/5d82f...   \n",
       "1251  https://contestimg.wish.com/api/webimage/5eba5...   \n",
       "1254  https://contestimg.wish.com/api/webimage/5dea1...   \n",
       "1262  https://contestimg.wish.com/api/webimage/5ebe0...   \n",
       "1271  https://contestimg.wish.com/api/webimage/5cedf...   \n",
       "1316  https://contestimg.wish.com/api/webimage/5d410...   \n",
       "1331  https://contestimg.wish.com/api/webimage/5ebff...   \n",
       "1346  https://contestimg.wish.com/api/webimage/5e93d...   \n",
       "1387  https://contestimg.wish.com/api/webimage/5eb4d...   \n",
       "1433  https://contestimg.wish.com/api/webimage/5ec1e...   \n",
       "1436  https://contestimg.wish.com/api/webimage/5ebf9...   \n",
       "1444  https://contestimg.wish.com/api/webimage/5cbda...   \n",
       "1479  https://contestimg.wish.com/api/webimage/5eb4d...   \n",
       "1481  https://contestimg.wish.com/api/webimage/5eb22...   \n",
       "1491  https://contestimg.wish.com/api/webimage/5e9da...   \n",
       "1512  https://contestimg.wish.com/api/webimage/5eb10...   \n",
       "1553  https://contestimg.wish.com/api/webimage/5eba0...   \n",
       "\n",
       "                    product_id   theme crawl_month  \n",
       "311   5ea91e4d29b81241e1d43b27  summer     2020-08  \n",
       "411   5c80e8a150c63d28c67b8f14  summer     2020-08  \n",
       "447   5eb90ab5ad67f63678d15ed9  summer     2020-08  \n",
       "505   5e9932cab3eafb25c00ba79f  summer     2020-08  \n",
       "571   5d78eb19cc404c03393c83b5  summer     2020-08  \n",
       "684   5e142dee04c3e579e89576a3  summer     2020-08  \n",
       "689   5ebe625c3cdb6c40b7b9231e  summer     2020-08  \n",
       "698   5eb4f323b67a8d189a8f8380  summer     2020-08  \n",
       "770   5e940265ea3640c9ca0353aa  summer     2020-08  \n",
       "991   5eeef4c4066647a9388a8ac2  summer     2020-08  \n",
       "997   5ee8875404718a4bba2d6348  summer     2020-08  \n",
       "1003  5eaa6d9c8d99eb3ec06709f4  summer     2020-08  \n",
       "1050  5cde56ea6bbbd86b1cbab4a8  summer     2020-08  \n",
       "1074  5e16cb87e6dd7c03be24b28a  summer     2020-08  \n",
       "1109  5e68ffbbe97f758d0698e049  summer     2020-08  \n",
       "1138  5e65d0ea5dc348884032a14e  summer     2020-08  \n",
       "1173  5e9a74e447f7d92c8db8d14b  summer     2020-08  \n",
       "1229  5d82f19340367911da1b9ee7  summer     2020-08  \n",
       "1251  5eba5b1c29367c77b5c0eb35  summer     2020-08  \n",
       "1254  5dea1d9cec016f062ce8aab1  summer     2020-08  \n",
       "1262  5ebe0ead593b960eb1c82d0b  summer     2020-08  \n",
       "1271  5cedf93ac0baab7389f4ccd7  summer     2020-08  \n",
       "1316  5d410e4a11512c51311ad3d3  summer     2020-08  \n",
       "1331  5ebff6d34a4cf4438dba5d80  summer     2020-08  \n",
       "1346  5e93d60ebc5446aedde50c50  summer     2020-08  \n",
       "1387  5eb4dd1bba09581b242c01b0  summer     2020-08  \n",
       "1433  5ec1e63f7abee20ab93c68f2  summer     2020-08  \n",
       "1436  5ebf9b2a6e0bd84bbf5edb18  summer     2020-08  \n",
       "1444  5cbdabea787e5828c3059a6c  summer     2020-08  \n",
       "1479  5eb4dd169263020a42be1a88  summer     2020-08  \n",
       "1481  5eb2200b989caa081980b812  summer     2020-08  \n",
       "1491  5e9dad8cbc19c300417e1733  summer     2020-08  \n",
       "1512  5eb10d32f12bf74120b0fd1e  summer     2020-08  \n",
       "1553  5eba05b08c884a0bddd0ad96  summer     2020-08  \n",
       "\n",
       "[34 rows x 42 columns]"
      ]
     },
     "execution_count": 20,
     "metadata": {},
     "output_type": "execute_result"
    }
   ],
   "source": [
    "df_products[df_products.duplicated()]"
   ]
  },
  {
   "cell_type": "code",
   "execution_count": 21,
   "metadata": {},
   "outputs": [],
   "source": [
    "df_products.drop('merchant_title',axis=1,inplace=True)"
   ]
  },
  {
   "cell_type": "code",
   "execution_count": 22,
   "metadata": {},
   "outputs": [],
   "source": [
    "df_products.drop('merchant_name',axis=1,inplace=True)"
   ]
  },
  {
   "cell_type": "code",
   "execution_count": 23,
   "metadata": {},
   "outputs": [
    {
     "data": {
      "text/plain": [
       "CN    1516\n",
       "US      31\n",
       "VE       5\n",
       "SG       2\n",
       "AT       1\n",
       "GB       1\n",
       "Name: origin_country, dtype: int64"
      ]
     },
     "execution_count": 23,
     "metadata": {},
     "output_type": "execute_result"
    }
   ],
   "source": [
    "df_products['origin_country'].value_counts()"
   ]
  },
  {
   "cell_type": "code",
   "execution_count": 24,
   "metadata": {},
   "outputs": [],
   "source": [
    "df_products.drop('merchant_profile_picture',axis=1,inplace=True)"
   ]
  },
  {
   "cell_type": "code",
   "execution_count": 25,
   "metadata": {},
   "outputs": [
    {
     "data": {
      "text/plain": [
       "2020-08    1573\n",
       "Name: crawl_month, dtype: int64"
      ]
     },
     "execution_count": 25,
     "metadata": {},
     "output_type": "execute_result"
    }
   ],
   "source": [
    "df_products['crawl_month'].value_counts()"
   ]
  },
  {
   "cell_type": "code",
   "execution_count": 26,
   "metadata": {},
   "outputs": [],
   "source": [
    "df_products.drop('crawl_month',axis=1,inplace=True)"
   ]
  },
  {
   "cell_type": "code",
   "execution_count": 27,
   "metadata": {},
   "outputs": [
    {
     "data": {
      "text/plain": [
       "Quantit\u00e9 limit\u00e9e !                  472\n",
       "R\u00e9duction sur les achats en gros      1\n",
       "Name: urgency_text, dtype: int64"
      ]
     },
     "execution_count": 27,
     "metadata": {},
     "output_type": "execute_result"
    }
   ],
   "source": [
    "df_products['urgency_text'].value_counts()"
   ]
  },
  {
   "cell_type": "code",
   "execution_count": 28,
   "metadata": {},
   "outputs": [
    {
     "data": {
      "text/plain": [
       "1100"
      ]
     },
     "execution_count": 28,
     "metadata": {},
     "output_type": "execute_result"
    }
   ],
   "source": [
    "df_products['urgency_text'].isnull().sum()"
   ]
  },
  {
   "cell_type": "markdown",
   "metadata": {},
   "source": [
    "there are two reasones to drop this column </br>\n",
    "1-nearby all the values are similar </br>\n",
    "2-that column has 1100 values NaN </br>\n",
    "so this won't be useful"
   ]
  },
  {
   "cell_type": "code",
   "execution_count": 29,
   "metadata": {},
   "outputs": [],
   "source": [
    "df_products.drop('urgency_text',axis=1,inplace=True)"
   ]
  },
  {
   "cell_type": "code",
   "execution_count": 30,
   "metadata": {},
   "outputs": [],
   "source": [
    "df_products.drop('merchant_info_subtitle',axis=1,inplace=True)"
   ]
  },
  {
   "cell_type": "code",
   "execution_count": 31,
   "metadata": {},
   "outputs": [],
   "source": [
    "df_products.drop('product_picture',axis=1,inplace=True)"
   ]
  },
  {
   "cell_type": "code",
   "execution_count": 32,
   "metadata": {},
   "outputs": [],
   "source": [
    "df_products.drop('product_url',axis=1,inplace=True)"
   ]
  },
  {
   "cell_type": "code",
   "execution_count": 33,
   "metadata": {},
   "outputs": [
    {
     "data": {
      "text/plain": [
       "summer    1573\n",
       "Name: theme, dtype: int64"
      ]
     },
     "execution_count": 33,
     "metadata": {},
     "output_type": "execute_result"
    }
   ],
   "source": [
    "df_products['theme'].value_counts()"
   ]
  },
  {
   "cell_type": "code",
   "execution_count": 34,
   "metadata": {},
   "outputs": [],
   "source": [
    "df_products.drop('theme',axis=1,inplace=True)"
   ]
  },
  {
   "cell_type": "code",
   "execution_count": 35,
   "metadata": {},
   "outputs": [
    {
     "data": {
      "text/html": [
       "<div>\n",
       "<style scoped>\n",
       "    .dataframe tbody tr th:only-of-type {\n",
       "        vertical-align: middle;\n",
       "    }\n",
       "\n",
       "    .dataframe tbody tr th {\n",
       "        vertical-align: top;\n",
       "    }\n",
       "\n",
       "    .dataframe thead th {\n",
       "        text-align: right;\n",
       "    }\n",
       "</style>\n",
       "<table border=\"1\" class=\"dataframe\">\n",
       "  <thead>\n",
       "    <tr style=\"text-align: right;\">\n",
       "      <th></th>\n",
       "      <th>title</th>\n",
       "      <th>title_orig</th>\n",
       "      <th>price</th>\n",
       "      <th>retail_price</th>\n",
       "      <th>units_sold</th>\n",
       "      <th>uses_ad_boosts</th>\n",
       "      <th>rating</th>\n",
       "      <th>rating_count</th>\n",
       "      <th>rating_five_count</th>\n",
       "      <th>rating_four_count</th>\n",
       "      <th>...</th>\n",
       "      <th>shipping_is_express</th>\n",
       "      <th>countries_shipped_to</th>\n",
       "      <th>inventory_total</th>\n",
       "      <th>has_urgency_banner</th>\n",
       "      <th>origin_country</th>\n",
       "      <th>merchant_rating_count</th>\n",
       "      <th>merchant_rating</th>\n",
       "      <th>merchant_id</th>\n",
       "      <th>merchant_has_profile_picture</th>\n",
       "      <th>product_id</th>\n",
       "    </tr>\n",
       "  </thead>\n",
       "  <tbody>\n",
       "    <tr>\n",
       "      <th>0</th>\n",
       "      <td>2020 Summer Vintage Flamingo Print  Pajamas Se...</td>\n",
       "      <td>2020 Summer Vintage Flamingo Print  Pajamas Se...</td>\n",
       "      <td>16.00</td>\n",
       "      <td>14</td>\n",
       "      <td>100</td>\n",
       "      <td>0</td>\n",
       "      <td>3.76</td>\n",
       "      <td>54</td>\n",
       "      <td>26.0</td>\n",
       "      <td>8.0</td>\n",
       "      <td>...</td>\n",
       "      <td>0</td>\n",
       "      <td>34</td>\n",
       "      <td>50</td>\n",
       "      <td>1.0</td>\n",
       "      <td>CN</td>\n",
       "      <td>568</td>\n",
       "      <td>4.128521</td>\n",
       "      <td>595097d6a26f6e070cb878d1</td>\n",
       "      <td>0</td>\n",
       "      <td>5e9ae51d43d6a96e303acdb0</td>\n",
       "    </tr>\n",
       "    <tr>\n",
       "      <th>1</th>\n",
       "      <td>SSHOUSE Summer Casual Sleeveless Soir\u00e9e Party ...</td>\n",
       "      <td>Women's Casual Summer Sleeveless Sexy Mini Dress</td>\n",
       "      <td>8.00</td>\n",
       "      <td>22</td>\n",
       "      <td>20000</td>\n",
       "      <td>1</td>\n",
       "      <td>3.45</td>\n",
       "      <td>6135</td>\n",
       "      <td>2269.0</td>\n",
       "      <td>1027.0</td>\n",
       "      <td>...</td>\n",
       "      <td>0</td>\n",
       "      <td>41</td>\n",
       "      <td>50</td>\n",
       "      <td>1.0</td>\n",
       "      <td>CN</td>\n",
       "      <td>17752</td>\n",
       "      <td>3.899673</td>\n",
       "      <td>56458aa03a698c35c9050988</td>\n",
       "      <td>0</td>\n",
       "      <td>58940d436a0d3d5da4e95a38</td>\n",
       "    </tr>\n",
       "    <tr>\n",
       "      <th>2</th>\n",
       "      <td>2020 Nouvelle Arriv\u00e9e Femmes Printemps et \u00c9t\u00e9 ...</td>\n",
       "      <td>2020 New Arrival Women Spring and Summer Beach...</td>\n",
       "      <td>8.00</td>\n",
       "      <td>43</td>\n",
       "      <td>100</td>\n",
       "      <td>0</td>\n",
       "      <td>3.57</td>\n",
       "      <td>14</td>\n",
       "      <td>5.0</td>\n",
       "      <td>4.0</td>\n",
       "      <td>...</td>\n",
       "      <td>0</td>\n",
       "      <td>36</td>\n",
       "      <td>50</td>\n",
       "      <td>1.0</td>\n",
       "      <td>CN</td>\n",
       "      <td>295</td>\n",
       "      <td>3.989831</td>\n",
       "      <td>5d464a1ffdf7bc44ee933c65</td>\n",
       "      <td>0</td>\n",
       "      <td>5ea10e2c617580260d55310a</td>\n",
       "    </tr>\n",
       "    <tr>\n",
       "      <th>3</th>\n",
       "      <td>Hot Summer Cool T-shirt pour les femmes Mode T...</td>\n",
       "      <td>Hot Summer Cool T Shirt for Women Fashion Tops...</td>\n",
       "      <td>8.00</td>\n",
       "      <td>8</td>\n",
       "      <td>5000</td>\n",
       "      <td>1</td>\n",
       "      <td>4.03</td>\n",
       "      <td>579</td>\n",
       "      <td>295.0</td>\n",
       "      <td>119.0</td>\n",
       "      <td>...</td>\n",
       "      <td>0</td>\n",
       "      <td>41</td>\n",
       "      <td>50</td>\n",
       "      <td>NaN</td>\n",
       "      <td>CN</td>\n",
       "      <td>23832</td>\n",
       "      <td>4.020435</td>\n",
       "      <td>58cfdefdacb37b556efdff7c</td>\n",
       "      <td>0</td>\n",
       "      <td>5cedf17ad1d44c52c59e4aca</td>\n",
       "    </tr>\n",
       "    <tr>\n",
       "      <th>4</th>\n",
       "      <td>Femmes Shorts d'\u00e9t\u00e9 \u00e0 lacets taille \u00e9lastique ...</td>\n",
       "      <td>Women Summer Shorts Lace Up Elastic Waistband ...</td>\n",
       "      <td>2.72</td>\n",
       "      <td>3</td>\n",
       "      <td>100</td>\n",
       "      <td>1</td>\n",
       "      <td>3.10</td>\n",
       "      <td>20</td>\n",
       "      <td>6.0</td>\n",
       "      <td>4.0</td>\n",
       "      <td>...</td>\n",
       "      <td>0</td>\n",
       "      <td>35</td>\n",
       "      <td>50</td>\n",
       "      <td>1.0</td>\n",
       "      <td>CN</td>\n",
       "      <td>14482</td>\n",
       "      <td>4.001588</td>\n",
       "      <td>5ab3b592c3911a095ad5dadb</td>\n",
       "      <td>0</td>\n",
       "      <td>5ebf5819ebac372b070b0e70</td>\n",
       "    </tr>\n",
       "  </tbody>\n",
       "</table>\n",
       "<p>5 rows \u00d7 33 columns</p>\n",
       "</div>"
      ],
      "text/plain": [
       "                                               title  \\\n",
       "0  2020 Summer Vintage Flamingo Print  Pajamas Se...   \n",
       "1  SSHOUSE Summer Casual Sleeveless Soir\u00e9e Party ...   \n",
       "2  2020 Nouvelle Arriv\u00e9e Femmes Printemps et \u00c9t\u00e9 ...   \n",
       "3  Hot Summer Cool T-shirt pour les femmes Mode T...   \n",
       "4  Femmes Shorts d'\u00e9t\u00e9 \u00e0 lacets taille \u00e9lastique ...   \n",
       "\n",
       "                                          title_orig  price  retail_price  \\\n",
       "0  2020 Summer Vintage Flamingo Print  Pajamas Se...  16.00            14   \n",
       "1   Women's Casual Summer Sleeveless Sexy Mini Dress   8.00            22   \n",
       "2  2020 New Arrival Women Spring and Summer Beach...   8.00            43   \n",
       "3  Hot Summer Cool T Shirt for Women Fashion Tops...   8.00             8   \n",
       "4  Women Summer Shorts Lace Up Elastic Waistband ...   2.72             3   \n",
       "\n",
       "   units_sold  uses_ad_boosts  rating  rating_count  rating_five_count  \\\n",
       "0         100               0    3.76            54               26.0   \n",
       "1       20000               1    3.45          6135             2269.0   \n",
       "2         100               0    3.57            14                5.0   \n",
       "3        5000               1    4.03           579              295.0   \n",
       "4         100               1    3.10            20                6.0   \n",
       "\n",
       "   rating_four_count  ...  shipping_is_express  countries_shipped_to  \\\n",
       "0                8.0  ...                    0                    34   \n",
       "1             1027.0  ...                    0                    41   \n",
       "2                4.0  ...                    0                    36   \n",
       "3              119.0  ...                    0                    41   \n",
       "4                4.0  ...                    0                    35   \n",
       "\n",
       "   inventory_total  has_urgency_banner  origin_country  merchant_rating_count  \\\n",
       "0               50                 1.0              CN                    568   \n",
       "1               50                 1.0              CN                  17752   \n",
       "2               50                 1.0              CN                    295   \n",
       "3               50                 NaN              CN                  23832   \n",
       "4               50                 1.0              CN                  14482   \n",
       "\n",
       "   merchant_rating               merchant_id merchant_has_profile_picture  \\\n",
       "0         4.128521  595097d6a26f6e070cb878d1                            0   \n",
       "1         3.899673  56458aa03a698c35c9050988                            0   \n",
       "2         3.989831  5d464a1ffdf7bc44ee933c65                            0   \n",
       "3         4.020435  58cfdefdacb37b556efdff7c                            0   \n",
       "4         4.001588  5ab3b592c3911a095ad5dadb                            0   \n",
       "\n",
       "                 product_id  \n",
       "0  5e9ae51d43d6a96e303acdb0  \n",
       "1  58940d436a0d3d5da4e95a38  \n",
       "2  5ea10e2c617580260d55310a  \n",
       "3  5cedf17ad1d44c52c59e4aca  \n",
       "4  5ebf5819ebac372b070b0e70  \n",
       "\n",
       "[5 rows x 33 columns]"
      ]
     },
     "execution_count": 35,
     "metadata": {},
     "output_type": "execute_result"
    }
   ],
   "source": [
    "df_products.head()"
   ]
  },
  {
   "cell_type": "code",
   "execution_count": 36,
   "metadata": {},
   "outputs": [
    {
     "data": {
      "text/plain": [
       "Index(['title', 'title_orig', 'price', 'retail_price', 'units_sold',\n",
       "       'uses_ad_boosts', 'rating', 'rating_count', 'rating_five_count',\n",
       "       'rating_four_count', 'rating_three_count', 'rating_two_count',\n",
       "       'rating_one_count', 'badges_count', 'badge_local_product',\n",
       "       'badge_product_quality', 'badge_fast_shipping', 'tags', 'product_color',\n",
       "       'product_variation_size_id', 'product_variation_inventory',\n",
       "       'shipping_option_name', 'shipping_option_price', 'shipping_is_express',\n",
       "       'countries_shipped_to', 'inventory_total', 'has_urgency_banner',\n",
       "       'origin_country', 'merchant_rating_count', 'merchant_rating',\n",
       "       'merchant_id', 'merchant_has_profile_picture', 'product_id'],\n",
       "      dtype='object')"
      ]
     },
     "execution_count": 36,
     "metadata": {},
     "output_type": "execute_result"
    }
   ],
   "source": [
    "df_products.columns"
   ]
  },
  {
   "cell_type": "markdown",
   "metadata": {},
   "source": [
    "I will see what is null values in the remaining columns "
   ]
  },
  {
   "cell_type": "code",
   "execution_count": 37,
   "metadata": {},
   "outputs": [
    {
     "name": "stdout",
     "output_type": "stream",
     "text": [
      "<class 'pandas.core.frame.DataFrame'>\n",
      "RangeIndex: 1573 entries, 0 to 1572\n",
      "Data columns (total 33 columns):\n",
      " #   Column                        Non-Null Count  Dtype  \n",
      "---  ------                        --------------  -----  \n",
      " 0   title                         1573 non-null   object \n",
      " 1   title_orig                    1573 non-null   object \n",
      " 2   price                         1573 non-null   float64\n",
      " 3   retail_price                  1573 non-null   int64  \n",
      " 4   units_sold                    1573 non-null   int64  \n",
      " 5   uses_ad_boosts                1573 non-null   int64  \n",
      " 6   rating                        1573 non-null   float64\n",
      " 7   rating_count                  1573 non-null   int64  \n",
      " 8   rating_five_count             1528 non-null   float64\n",
      " 9   rating_four_count             1528 non-null   float64\n",
      " 10  rating_three_count            1528 non-null   float64\n",
      " 11  rating_two_count              1528 non-null   float64\n",
      " 12  rating_one_count              1528 non-null   float64\n",
      " 13  badges_count                  1573 non-null   int64  \n",
      " 14  badge_local_product           1573 non-null   int64  \n",
      " 15  badge_product_quality         1573 non-null   int64  \n",
      " 16  badge_fast_shipping           1573 non-null   int64  \n",
      " 17  tags                          1573 non-null   object \n",
      " 18  product_color                 1532 non-null   object \n",
      " 19  product_variation_size_id     1559 non-null   object \n",
      " 20  product_variation_inventory   1573 non-null   int64  \n",
      " 21  shipping_option_name          1573 non-null   object \n",
      " 22  shipping_option_price         1573 non-null   int64  \n",
      " 23  shipping_is_express           1573 non-null   int64  \n",
      " 24  countries_shipped_to          1573 non-null   int64  \n",
      " 25  inventory_total               1573 non-null   int64  \n",
      " 26  has_urgency_banner            473 non-null    float64\n",
      " 27  origin_country                1556 non-null   object \n",
      " 28  merchant_rating_count         1573 non-null   int64  \n",
      " 29  merchant_rating               1573 non-null   float64\n",
      " 30  merchant_id                   1573 non-null   object \n",
      " 31  merchant_has_profile_picture  1573 non-null   int64  \n",
      " 32  product_id                    1573 non-null   object \n",
      "dtypes: float64(9), int64(15), object(9)\n",
      "memory usage: 405.7+ KB\n"
     ]
    }
   ],
   "source": [
    "df_products.info()"
   ]
  },
  {
   "cell_type": "markdown",
   "metadata": {},
   "source": [
    "has_urgency_banner has alot of missing data so i will drop it "
   ]
  },
  {
   "cell_type": "code",
   "execution_count": 38,
   "metadata": {},
   "outputs": [],
   "source": [
    "df_products.drop('has_urgency_banner',axis=1,inplace=True)"
   ]
  },
  {
   "cell_type": "code",
   "execution_count": 39,
   "metadata": {},
   "outputs": [
    {
     "data": {
      "text/plain": [
       "Series([], Name: origin_country, dtype: object)"
      ]
     },
     "execution_count": 39,
     "metadata": {},
     "output_type": "execute_result"
    }
   ],
   "source": [
    "df_products['origin_country'][df_products['origin_country']==\"NaN\"]"
   ]
  },
  {
   "cell_type": "code",
   "execution_count": 40,
   "metadata": {},
   "outputs": [
    {
     "data": {
      "text/plain": [
       "CN    1516\n",
       "US      31\n",
       "VE       5\n",
       "SG       2\n",
       "AT       1\n",
       "GB       1\n",
       "Name: origin_country, dtype: int64"
      ]
     },
     "execution_count": 40,
     "metadata": {},
     "output_type": "execute_result"
    }
   ],
   "source": [
    "df_products['origin_country'].value_counts()"
   ]
  },
  {
   "cell_type": "code",
   "execution_count": 41,
   "metadata": {},
   "outputs": [
    {
     "name": "stdout",
     "output_type": "stream",
     "text": [
      "0    CN\n",
      "Name: origin_country, dtype: object\n"
     ]
    }
   ],
   "source": [
    "mode=df_products['origin_country'].mode()\n",
    "print(mode)\n",
    "df_products['origin_country']=df_products['origin_country'].replace(np.nan,\"CN\")"
   ]
  },
  {
   "cell_type": "code",
   "execution_count": 42,
   "metadata": {},
   "outputs": [
    {
     "data": {
      "text/plain": [
       "0"
      ]
     },
     "execution_count": 42,
     "metadata": {},
     "output_type": "execute_result"
    }
   ],
   "source": [
    "df_products['origin_country'].isnull().sum()"
   ]
  },
  {
   "cell_type": "code",
   "execution_count": 43,
   "metadata": {},
   "outputs": [
    {
     "name": "stdout",
     "output_type": "stream",
     "text": [
      "<class 'pandas.core.frame.DataFrame'>\n",
      "RangeIndex: 1573 entries, 0 to 1572\n",
      "Data columns (total 32 columns):\n",
      " #   Column                        Non-Null Count  Dtype  \n",
      "---  ------                        --------------  -----  \n",
      " 0   title                         1573 non-null   object \n",
      " 1   title_orig                    1573 non-null   object \n",
      " 2   price                         1573 non-null   float64\n",
      " 3   retail_price                  1573 non-null   int64  \n",
      " 4   units_sold                    1573 non-null   int64  \n",
      " 5   uses_ad_boosts                1573 non-null   int64  \n",
      " 6   rating                        1573 non-null   float64\n",
      " 7   rating_count                  1573 non-null   int64  \n",
      " 8   rating_five_count             1528 non-null   float64\n",
      " 9   rating_four_count             1528 non-null   float64\n",
      " 10  rating_three_count            1528 non-null   float64\n",
      " 11  rating_two_count              1528 non-null   float64\n",
      " 12  rating_one_count              1528 non-null   float64\n",
      " 13  badges_count                  1573 non-null   int64  \n",
      " 14  badge_local_product           1573 non-null   int64  \n",
      " 15  badge_product_quality         1573 non-null   int64  \n",
      " 16  badge_fast_shipping           1573 non-null   int64  \n",
      " 17  tags                          1573 non-null   object \n",
      " 18  product_color                 1532 non-null   object \n",
      " 19  product_variation_size_id     1559 non-null   object \n",
      " 20  product_variation_inventory   1573 non-null   int64  \n",
      " 21  shipping_option_name          1573 non-null   object \n",
      " 22  shipping_option_price         1573 non-null   int64  \n",
      " 23  shipping_is_express           1573 non-null   int64  \n",
      " 24  countries_shipped_to          1573 non-null   int64  \n",
      " 25  inventory_total               1573 non-null   int64  \n",
      " 26  origin_country                1573 non-null   object \n",
      " 27  merchant_rating_count         1573 non-null   int64  \n",
      " 28  merchant_rating               1573 non-null   float64\n",
      " 29  merchant_id                   1573 non-null   object \n",
      " 30  merchant_has_profile_picture  1573 non-null   int64  \n",
      " 31  product_id                    1573 non-null   object \n",
      "dtypes: float64(8), int64(15), object(9)\n",
      "memory usage: 393.4+ KB\n"
     ]
    }
   ],
   "source": [
    "df_products.info()"
   ]
  },
  {
   "cell_type": "code",
   "execution_count": 44,
   "metadata": {},
   "outputs": [
    {
     "name": "stdout",
     "output_type": "stream",
     "text": [
      "0    black\n",
      "Name: product_color, dtype: object\n"
     ]
    }
   ],
   "source": [
    "mode=df_products['product_color'].mode()\n",
    "print(mode)\n",
    "df_products['product_color']=df_products['product_color'].replace(np.nan,\"black\")"
   ]
  },
  {
   "cell_type": "code",
   "execution_count": 45,
   "metadata": {},
   "outputs": [
    {
     "data": {
      "text/plain": [
       "0"
      ]
     },
     "execution_count": 45,
     "metadata": {},
     "output_type": "execute_result"
    }
   ],
   "source": [
    "df_products['origin_country'].isnull().sum()"
   ]
  },
  {
   "cell_type": "code",
   "execution_count": 46,
   "metadata": {},
   "outputs": [
    {
     "data": {
      "text/plain": [
       "5e16cb87e6dd7c03be24b28a    3\n",
       "5e9932cab3eafb25c00ba79f    3\n",
       "5e93d60ebc5446aedde50c50    3\n",
       "5ea91e4d29b81241e1d43b27    3\n",
       "5cde56ea6bbbd86b1cbab4a8    3\n",
       "                           ..\n",
       "53c8f05046188e57778ac77c    1\n",
       "5a6f52aef718e05afa275acd    1\n",
       "5da95c1665eaf90d411b3bd0    1\n",
       "5763e16461221c639c5ec734    1\n",
       "5e857321f53c3d2d8f25e7ed    1\n",
       "Name: product_id, Length: 1341, dtype: int64"
      ]
     },
     "execution_count": 46,
     "metadata": {},
     "output_type": "execute_result"
    }
   ],
   "source": [
    "df_products['product_id'].value_counts()"
   ]
  },
  {
   "cell_type": "markdown",
   "metadata": {},
   "source": [
    "accutlly I have 1341 products so I want to know how many items sold for each product ?"
   ]
  },
  {
   "cell_type": "code",
   "execution_count": 47,
   "metadata": {},
   "outputs": [
    {
     "name": "stderr",
     "output_type": "stream",
     "text": [
      "/tmp/ipykernel_696984/2127797219.py:1: FutureWarning: The default value of numeric_only in DataFrameGroupBy.mean is deprecated. In a future version, numeric_only will default to False. Either specify numeric_only or select only columns which should be valid for the function.\n",
      "  averagefeatur=df_products.groupby(df_products['product_id']).mean()[['price','retail_price','merchant_rating',\n"
     ]
    },
    {
     "data": {
      "text/html": [
       "<div>\n",
       "<style scoped>\n",
       "    .dataframe tbody tr th:only-of-type {\n",
       "        vertical-align: middle;\n",
       "    }\n",
       "\n",
       "    .dataframe tbody tr th {\n",
       "        vertical-align: top;\n",
       "    }\n",
       "\n",
       "    .dataframe thead th {\n",
       "        text-align: right;\n",
       "    }\n",
       "</style>\n",
       "<table border=\"1\" class=\"dataframe\">\n",
       "  <thead>\n",
       "    <tr style=\"text-align: right;\">\n",
       "      <th></th>\n",
       "      <th>price</th>\n",
       "      <th>retail_price</th>\n",
       "      <th>merchant_rating</th>\n",
       "      <th>rating</th>\n",
       "    </tr>\n",
       "    <tr>\n",
       "      <th>product_id</th>\n",
       "      <th></th>\n",
       "      <th></th>\n",
       "      <th></th>\n",
       "      <th></th>\n",
       "    </tr>\n",
       "  </thead>\n",
       "  <tbody>\n",
       "    <tr>\n",
       "      <th>535530635aefb0555ba4351f</th>\n",
       "      <td>19.00</td>\n",
       "      <td>21.0</td>\n",
       "      <td>4.092914</td>\n",
       "      <td>4.09</td>\n",
       "    </tr>\n",
       "    <tr>\n",
       "      <th>53897eeeafddf70c91af1cda</th>\n",
       "      <td>5.00</td>\n",
       "      <td>33.0</td>\n",
       "      <td>4.036081</td>\n",
       "      <td>3.98</td>\n",
       "    </tr>\n",
       "    <tr>\n",
       "      <th>53c8f05046188e57778ac77c</th>\n",
       "      <td>12.00</td>\n",
       "      <td>81.0</td>\n",
       "      <td>4.127921</td>\n",
       "      <td>4.08</td>\n",
       "    </tr>\n",
       "    <tr>\n",
       "      <th>544b079d1280fa28eee9b380</th>\n",
       "      <td>5.77</td>\n",
       "      <td>48.0</td>\n",
       "      <td>4.067348</td>\n",
       "      <td>4.10</td>\n",
       "    </tr>\n",
       "    <tr>\n",
       "      <th>54ab85ff509baf3e966f7f2a</th>\n",
       "      <td>19.00</td>\n",
       "      <td>105.0</td>\n",
       "      <td>4.329949</td>\n",
       "      <td>4.40</td>\n",
       "    </tr>\n",
       "    <tr>\n",
       "      <th>...</th>\n",
       "      <td>...</td>\n",
       "      <td>...</td>\n",
       "      <td>...</td>\n",
       "      <td>...</td>\n",
       "    </tr>\n",
       "    <tr>\n",
       "      <th>5f03643cc00703c46d6745f0</th>\n",
       "      <td>12.00</td>\n",
       "      <td>11.0</td>\n",
       "      <td>4.500000</td>\n",
       "      <td>5.00</td>\n",
       "    </tr>\n",
       "    <tr>\n",
       "      <th>5f046ac0980447385a1a28e4</th>\n",
       "      <td>12.00</td>\n",
       "      <td>11.0</td>\n",
       "      <td>3.000000</td>\n",
       "      <td>1.00</td>\n",
       "    </tr>\n",
       "    <tr>\n",
       "      <th>5f095371d25f1d274c028031</th>\n",
       "      <td>5.00</td>\n",
       "      <td>5.0</td>\n",
       "      <td>4.122867</td>\n",
       "      <td>5.00</td>\n",
       "    </tr>\n",
       "    <tr>\n",
       "      <th>5f0e6c204e43471f765df4f0</th>\n",
       "      <td>16.00</td>\n",
       "      <td>14.0</td>\n",
       "      <td>4.466019</td>\n",
       "      <td>5.00</td>\n",
       "    </tr>\n",
       "    <tr>\n",
       "      <th>5f11698e9a44cd5ecd1909db</th>\n",
       "      <td>16.00</td>\n",
       "      <td>16.0</td>\n",
       "      <td>4.303030</td>\n",
       "      <td>5.00</td>\n",
       "    </tr>\n",
       "  </tbody>\n",
       "</table>\n",
       "<p>1341 rows \u00d7 4 columns</p>\n",
       "</div>"
      ],
      "text/plain": [
       "                          price  retail_price  merchant_rating  rating\n",
       "product_id                                                            \n",
       "535530635aefb0555ba4351f  19.00          21.0         4.092914    4.09\n",
       "53897eeeafddf70c91af1cda   5.00          33.0         4.036081    3.98\n",
       "53c8f05046188e57778ac77c  12.00          81.0         4.127921    4.08\n",
       "544b079d1280fa28eee9b380   5.77          48.0         4.067348    4.10\n",
       "54ab85ff509baf3e966f7f2a  19.00         105.0         4.329949    4.40\n",
       "...                         ...           ...              ...     ...\n",
       "5f03643cc00703c46d6745f0  12.00          11.0         4.500000    5.00\n",
       "5f046ac0980447385a1a28e4  12.00          11.0         3.000000    1.00\n",
       "5f095371d25f1d274c028031   5.00           5.0         4.122867    5.00\n",
       "5f0e6c204e43471f765df4f0  16.00          14.0         4.466019    5.00\n",
       "5f11698e9a44cd5ecd1909db  16.00          16.0         4.303030    5.00\n",
       "\n",
       "[1341 rows x 4 columns]"
      ]
     },
     "execution_count": 47,
     "metadata": {},
     "output_type": "execute_result"
    }
   ],
   "source": [
    "averagefeatur=df_products.groupby(df_products['product_id']).mean()[['price','retail_price','merchant_rating',\n",
    "                                                                 'rating']]\n",
    "averagefeatur"
   ]
  },
  {
   "cell_type": "code",
   "execution_count": 48,
   "metadata": {},
   "outputs": [],
   "source": [
    "df_products.to_csv(\"df_products.csv\")"
   ]
  },
  {
   "cell_type": "markdown",
   "metadata": {},
   "source": [
    "we just cleaned our data and we want to build first model to know "
   ]
  },
  {
   "cell_type": "markdown",
   "metadata": {},
   "source": [
    "There some problems in the data we will rediscover this issues"
   ]
  },
  {
   "cell_type": "code",
   "execution_count": 49,
   "metadata": {},
   "outputs": [],
   "source": [
    "df_products['diffrencebetprices']=df_products['retail_price']-df_products['price']"
   ]
  },
  {
   "cell_type": "code",
   "execution_count": 50,
   "metadata": {},
   "outputs": [
    {
     "data": {
      "text/plain": [
       "0      -2.00\n",
       "3       0.00\n",
       "6      -1.00\n",
       "7      -1.00\n",
       "10     -0.79\n",
       "        ... \n",
       "1559   -2.00\n",
       "1564   -0.91\n",
       "1567   -1.00\n",
       "1571   -2.00\n",
       "1572   -1.00\n",
       "Name: diffrencebetprices, Length: 752, dtype: float64"
      ]
     },
     "execution_count": 50,
     "metadata": {},
     "output_type": "execute_result"
    }
   ],
   "source": [
    "df_products['diffrencebetprices'].loc[df_products['diffrencebetprices']<=0]"
   ]
  },
  {
   "cell_type": "markdown",
   "metadata": {},
   "source": [
    "there are 752 product bought in price which less than or equal the original price so I think these prices not correct I can't fed this values in my model"
   ]
  },
  {
   "cell_type": "code",
   "execution_count": 51,
   "metadata": {},
   "outputs": [
    {
     "name": "stdout",
     "output_type": "stream",
     "text": [
      "S                               641\n",
      "XS                              356\n",
      "M                               200\n",
      "XXS                             100\n",
      "L                                49\n",
      "S.                               18\n",
      "XL                               17\n",
      "XXL                              15\n",
      "XXXS                              6\n",
      "s                                 5\n",
      "Size S                            5\n",
      "XS.                               5\n",
      "4XL                               5\n",
      "2XL                               4\n",
      "SIZE XS                           4\n",
      "M.                                4\n",
      "Size-XS                           4\n",
      "Size-S                            3\n",
      "2pcs                              3\n",
      "SizeL                             3\n",
      "10 ml                             3\n",
      "33                                3\n",
      "34                                3\n",
      "size S                            2\n",
      "XXXXL                             2\n",
      "Size M                            2\n",
      "Size -XXS                         2\n",
      "35                                2\n",
      "S(bust 88cm)                      2\n",
      "25                                2\n",
      "1 pc.                             2\n",
      "S Pink                            2\n",
      "Size4XL                           2\n",
      "5XL                               2\n",
      "SIZE-XXS                          2\n",
      "Suit-S                            2\n",
      "One Size                          2\n",
      "Size S.                           2\n",
      "3XL                               2\n",
      "EU 35                             2\n",
      "29                                2\n",
      "XXXXXL                            2\n",
      "1                                 2\n",
      "60                                1\n",
      "Size-L                            1\n",
      "US5.5-EU35                        1\n",
      "choose a size                     1\n",
      "32/L                              1\n",
      "10pcs                             1\n",
      "17                                1\n",
      "Size-XXS                          1\n",
      "Women Size 37                     1\n",
      "3 layered anklet                  1\n",
      "Baby Float Boat                   1\n",
      "2                                 1\n",
      "4-5 Years                         1\n",
      "S/M(child)                        1\n",
      "first  generation                 1\n",
      "20PCS-10PAIRS                     1\n",
      "40 cm                             1\n",
      "H01                               1\n",
      "1 PC - XL                         1\n",
      "5                                 1\n",
      "Size--S                           1\n",
      "B                                 1\n",
      "Floating Chair for Kid            1\n",
      "80 X 200 CM                       1\n",
      "pants-S                           1\n",
      "04-3XL                            1\n",
      "36                                1\n",
      "Base Coat                         1\n",
      "L.                                1\n",
      "daughter 24M                      1\n",
      "EU39(US8)                         1\n",
      "5PAIRS                            1\n",
      "Size-5XL                          1\n",
      "1m by 3m                          1\n",
      "S..                               1\n",
      "30 cm                             1\n",
      "SIZE-4XL                          1\n",
      "100 x 100cm(39.3 x 39.3inch)      1\n",
      "100pcs                            1\n",
      "100 cm                            1\n",
      "1pc                               1\n",
      "SIZE XXS                          1\n",
      "Size XXS                          1\n",
      "Base & Top & Matte Top Coat       1\n",
      "26(Waist 72cm 28inch)             1\n",
      "US 6.5 (EU 37)                    1\n",
      "Women Size 36                     1\n",
      "S (waist58-62cm)                  1\n",
      "Size/S                            1\n",
      "S(Pink & Black)                   1\n",
      "20pcs                             1\n",
      "US-S                              1\n",
      "X   L                             1\n",
      "White                             1\n",
      "4                                 1\n",
      "Round                             1\n",
      "Pack of 1                         1\n",
      "S Diameter 30cm                   1\n",
      "6XL                               1\n",
      "AU plug Low quality               1\n",
      "XXXL                              1\n",
      "25-S                              1\n",
      "SIZE S                            1\n"
     ]
    }
   ],
   "source": [
    "print(df_products['product_variation_size_id'].value_counts().to_string())"
   ]
  },
  {
   "cell_type": "code",
   "execution_count": 52,
   "metadata": {},
   "outputs": [],
   "source": [
    "df_products['product_variation_size_id']=df_products['product_variation_size_id'].str.lower()"
   ]
  },
  {
   "cell_type": "code",
   "execution_count": 53,
   "metadata": {},
   "outputs": [
    {
     "name": "stdout",
     "output_type": "stream",
     "text": [
      "s                               646\n",
      "xs                              356\n",
      "m                               200\n",
      "xxs                             100\n",
      "l                                49\n",
      "s.                               18\n",
      "xl                               17\n",
      "xxl                              15\n",
      "size s                            8\n",
      "xxxs                              6\n",
      "4xl                               5\n",
      "xs.                               5\n",
      "2xl                               4\n",
      "size xs                           4\n",
      "m.                                4\n",
      "size-xs                           4\n",
      "sizel                             3\n",
      "34                                3\n",
      "10 ml                             3\n",
      "33                                3\n",
      "2pcs                              3\n",
      "size-s                            3\n",
      "size-xxs                          3\n",
      "s pink                            2\n",
      "1 pc.                             2\n",
      "size -xxs                         2\n",
      "s(bust 88cm)                      2\n",
      "suit-s                            2\n",
      "xxxxxl                            2\n",
      "35                                2\n",
      "xxxxl                             2\n",
      "eu 35                             2\n",
      "size s.                           2\n",
      "25                                2\n",
      "size m                            2\n",
      "size4xl                           2\n",
      "5xl                               2\n",
      "3xl                               2\n",
      "size xxs                          2\n",
      "29                                2\n",
      "1                                 2\n",
      "one size                          2\n",
      "us5.5-eu35                        1\n",
      "3 layered anklet                  1\n",
      "daughter 24m                      1\n",
      "2                                 1\n",
      "baby float boat                   1\n",
      "choose a size                     1\n",
      "size-l                            1\n",
      "women size 37                     1\n",
      "60                                1\n",
      "17                                1\n",
      "10pcs                             1\n",
      "4-5 years                         1\n",
      "us 6.5 (eu 37)                    1\n",
      "first  generation                 1\n",
      "80 x 200 cm                       1\n",
      "size-5xl                          1\n",
      "l.                                1\n",
      "base coat                         1\n",
      "36                                1\n",
      "04-3xl                            1\n",
      "pants-s                           1\n",
      "floating chair for kid            1\n",
      "20pcs-10pairs                     1\n",
      "b                                 1\n",
      "size--s                           1\n",
      "5                                 1\n",
      "1 pc - xl                         1\n",
      "h01                               1\n",
      "eu39(us8)                         1\n",
      "pack of 1                         1\n",
      "size/s                            1\n",
      "base & top & matte top coat       1\n",
      "26(waist 72cm 28inch)             1\n",
      "1pc                               1\n",
      "100 cm                            1\n",
      "size-4xl                          1\n",
      "s/m(child)                        1\n",
      "xxxl                              1\n",
      "s..                               1\n",
      "30 cm                             1\n",
      "1m by 3m                          1\n",
      "100 x 100cm(39.3 x 39.3inch)      1\n",
      "100pcs                            1\n",
      "4                                 1\n",
      "s (waist58-62cm)                  1\n",
      "25-s                              1\n",
      "s(pink & black)                   1\n",
      "20pcs                             1\n",
      "us-s                              1\n",
      "x   l                             1\n",
      "white                             1\n",
      "32/l                              1\n",
      "round                             1\n",
      "women size 36                     1\n",
      "s diameter 30cm                   1\n",
      "6xl                               1\n",
      "au plug low quality               1\n",
      "5pairs                            1\n",
      "40 cm                             1\n"
     ]
    }
   ],
   "source": [
    "print(df_products['product_variation_size_id'].value_counts().to_string())"
   ]
  },
  {
   "cell_type": "code",
   "execution_count": 54,
   "metadata": {},
   "outputs": [],
   "source": [
    "df_products['product_variation_size_id'].replace({\"s.\":\"s\",\"size s\":\"s\",\"size-s\":\"s\",\"size s.\":\"s\",\n",
    "                                                \"s(bust 88cm)\":\"s\",\"suit-s\":\"s\",\n",
    "                                                \"size--s\":\"s\",\"size/s\":\"s\",\"25-s\":\"s\",\n",
    "                                                \"s(pink & black)\":\"s\",\"us-s\":\"s\",\n",
    "                                                \"pants-s\":\"s\",\"s diameter 30cm\":\"s\",\"s..\":\"s\",\"s (waist58-62cm)\":\"s\"\n",
    "                                                , \"s pink\":\"s\",\"m.\":\"m\",\"size m\":\"m\",\"sizel\":\"l\",\"32/l\":\"l\"\n",
    "                                                 ,\"size-l\":\"l\",\"x   l\":\"xl\",\"xs.\":\"xs\",\"size-xs\":\"xs\",\"size xs\":\"xs\"\n",
    "                                                 ,\"size-xxs\":\"xxs\",\"size -xxs\":\"xxs\",\"size xxs\":\"xxs\"\n",
    "                                                 ,\"2xl\":\"xxl\",\"xxxxxl\":\"5xl\",\"size-5xl\":\"5xl\",\"xxxxl\":\"4xl\",\n",
    "                                                 \"xxxl\":\"3xl\",\"size-4xl\":\"4xl\",\"l.\":\"l\",\n",
    "                                                 \"1 pc - xl\":\"xl\",\"04-3xl\":\"3xl\",\"size4xl\":\"4xl\",\n",
    "                                                  \"us 6.5 (eu 37)\":\"m\",\"us5.5-eu35\":\"s\",\"26(waist 72cm 28inch)\":\n",
    "                                                  \"3x\",\"women size 36\":\"s\",\"36\":\"s\",\"women size 37\":\"m\",\"eu 35\":\"s\",\n",
    "                                                  \"3x\":\"3xl\",\"eu39(us8)\":\"m\",\"choose a size\":\"s\",\n",
    "                                                  \"base & top & matte top coat\":\"s\",\"4-5 years\":\"s\",\n",
    "                                                  \"daughter 24m\":\"s\",\"2\":\"s\",\"5\":\"s\",\n",
    "                                                  \"30 cm\":\"s\",\"white\":\"s\",\"round\":\"s\",\"40 cm\":\"s\",\"17\":\"l\",\n",
    "                                                  \"60\":\"l\",\"floating chair for kid\":\"s\",\"au plug low quality\":\"s\",\n",
    "                                                  \"baby float boat\":\"s\",\"4\":\"xs\",\"s/m(child)\":\"s\",\"1pc\":\"s\"\n",
    "                                                  ,\"3 layered anklet\":\"s\",\"base coat\":\"s\",\"20pcs-10pairs\":\"s\",\n",
    "                                                  \"pack of 1\":\"s\",\"100 x 100cm(39.3 x 39.3inch)\":\"s\",\"b\":\"s\",\n",
    "                                                  \"first  generation\":\"s\",\"3x\":\"3xl\",\"100 cm\":\"s\",\"2pcs\":\"s\",\n",
    "                                                  \"5pairs\":\"s\",\"10pcs\":\"s\",\"20pcs\":\"s\",\"100pcs\":\"s\",\n",
    "                                                  \"1m by 3m\":\"s\",\"h01\":\"s\",\"80 x 200 cm\":\"s\",\"1\":\"xxxs\",\n",
    "                                                  \"33\":\"xs\",\"34\":\"xs\",\"29\":\"4xl\",\"25\":\"xxl\",\"35\":\"s\",\"1 pc.\":\"s\",\n",
    "                                                  \"one size\":\"s\",\"10 ml\":\"s\"\n",
    "                                                 },inplace=True)"
   ]
  },
  {
   "cell_type": "code",
   "execution_count": 55,
   "metadata": {},
   "outputs": [],
   "source": [
    "# FIRST-AUTHOR: remove plotting\n",
    "# import matplotlib.pyplot as plt\n",
    "# fig, ax = plt.subplots()\n",
    "x=df_products['product_variation_size_id'].value_counts().index\n",
    "y=df_products['product_variation_size_id'].value_counts()\n",
    "# FIRST-AUTHOR: remove plotting\n",
    "# ax.bar(x, y, align='center')\n",
    "# ax.set_xticks(x)\n",
    "# ax.set_xlabel('Size')\n",
    "# ax.set_title('size counts')\n",
    "# plt.show()"
   ]
  },
  {
   "cell_type": "markdown",
   "metadata": {},
   "source": [
    "we can see that in the graph above small sizes between l and xxs have the large values "
   ]
  },
  {
   "cell_type": "code",
   "execution_count": 56,
   "metadata": {},
   "outputs": [],
   "source": [
    "df_products.to_csv(\"df_products.csv\")"
   ]
  },
  {
   "cell_type": "code",
   "execution_count": 57,
   "metadata": {},
   "outputs": [
    {
     "data": {
      "text/plain": [
       "Livraison standard         1508\n",
       "Standard Shipping            21\n",
       "Envio Padr\u00e3o                  9\n",
       "Expediere Standard            6\n",
       "Env\u00edo normal                  5\n",
       "\u0627\u0644\u0634\u062d\u0646 \u0627\u0644\u0642\u064a\u0627\u0633\u064a                 4\n",
       "Standardversand               3\n",
       "Standardowa wysy\u0142ka           3\n",
       "Livraison Express             3\n",
       "\u0421\u0442\u0430\u043d\u0434\u0430\u0440\u0442\u043d\u0430\u044f \u0434\u043e\u0441\u0442\u0430\u0432\u043a\u0430          3\n",
       "Standart G\u00f6nderi              2\n",
       "\u0e01\u0e32\u0e23\u0e2a\u0e48\u0e07\u0e2a\u0e34\u0e19\u0e04\u0e49\u0e32\u0e21\u0e32\u0e15\u0e23\u0e10\u0e32\u0e19           2\n",
       "Spedizione standard           2\n",
       "\u1780\u17b6\u179a\u178a\u17b9\u1780\u1787\u1789\u17d2\u1787\u17bc\u1793\u178f\u17b6\u1798\u179f\u17d2\u178f\u1784\u17cb\u178a\u17b6\u179a       1\n",
       "Ekspresowa wysy\u0142ka            1\n",
       "Name: shipping_option_name, dtype: int64"
      ]
     },
     "execution_count": 57,
     "metadata": {},
     "output_type": "execute_result"
    }
   ],
   "source": [
    "df_products['shipping_option_name'].value_counts()"
   ]
  },
  {
   "cell_type": "code",
   "execution_count": 58,
   "metadata": {},
   "outputs": [],
   "source": [
    "standardshippinglist=[\"Livraison standard\",\"Envio Padr\u00e3o\",\"Expediere Standard\",\"Env\u00edo normal\",\n",
    "                     \"\u0627\u0644\u0634\u062d\u0646 \u0627\u0644\u0642\u064a\u0627\u0633\u064a\",\"Standardversand\",\"Standardowa wysy\u0142ka\",\"\u0421\u0442\u0430\u043d\u0434\u0430\u0440\u0442\u043d\u0430\u044f \u0434\u043e\u0441\u0442\u0430\u0432\u043a\u0430\",\n",
    "                     \"Standart G\u00f6nderi\",\"Spedizione standard\",\"\u0e01\u0e32\u0e23\u0e2a\u0e48\u0e07\u0e2a\u0e34\u0e19\u0e04\u0e49\u0e32\u0e21\u0e32\u0e15\u0e23\u0e10\u0e32\u0e19\",\"\u1780\u17b6\u179a\u178a\u17b9\u1780\u1787\u1789\u17d2\u1787\u17bc\u1793\u178f\u17b6\u1798\u179f\u17d2\u178f\u1784\u17cb\u178a\u17b6\u179a\"]"
   ]
  },
  {
   "cell_type": "code",
   "execution_count": 59,
   "metadata": {},
   "outputs": [],
   "source": [
    "df_products.loc[df_products['shipping_option_name'] == \"Livraison standard\", \"buymentlang\"] = \"French\""
   ]
  },
  {
   "cell_type": "code",
   "execution_count": 60,
   "metadata": {},
   "outputs": [],
   "source": [
    "df_products.loc[df_products['shipping_option_name'] == \"\u0627\u0644\u0634\u062d\u0646 \u0627\u0644\u0642\u064a\u0627\u0633\u064a\", \"buymentlang\"] = \"Arabic\""
   ]
  },
  {
   "cell_type": "code",
   "execution_count": 61,
   "metadata": {},
   "outputs": [],
   "source": [
    "df_products.loc[df_products['shipping_option_name'] == \"Standard Shipping\", \"buymentlang\"] = \"English\""
   ]
  },
  {
   "cell_type": "code",
   "execution_count": 62,
   "metadata": {},
   "outputs": [],
   "source": [
    "df_products.loc[df_products['shipping_option_name'] == \"Envio Padr\u00e3o\", \"buymentlang\"] = \"Portuguese\""
   ]
  },
  {
   "cell_type": "code",
   "execution_count": 63,
   "metadata": {},
   "outputs": [],
   "source": [
    "df_products.loc[df_products['shipping_option_name'] == \"Expediere Standard\", \"buymentlang\"] = \"Romanian\""
   ]
  },
  {
   "cell_type": "code",
   "execution_count": 64,
   "metadata": {},
   "outputs": [],
   "source": [
    "df_products.loc[df_products['shipping_option_name'] == \"Env\u00edo normal\", \"buymentlang\"] = \"Spanish\""
   ]
  },
  {
   "cell_type": "code",
   "execution_count": 65,
   "metadata": {},
   "outputs": [],
   "source": [
    "df_products.loc[df_products['shipping_option_name'] == \"Standardversand\", \"buymentlang\"] = \"German\""
   ]
  },
  {
   "cell_type": "code",
   "execution_count": 66,
   "metadata": {},
   "outputs": [],
   "source": [
    "df_products.loc[df_products['shipping_option_name'] == \"Livraison Express\", \"buymentlang\"] = \"French\""
   ]
  },
  {
   "cell_type": "code",
   "execution_count": 67,
   "metadata": {},
   "outputs": [],
   "source": [
    "df_products.loc[df_products['shipping_option_name'] == \"Standardowa wysy\u0142ka\", \"buymentlang\"] = \"Polish\""
   ]
  },
  {
   "cell_type": "code",
   "execution_count": 68,
   "metadata": {},
   "outputs": [],
   "source": [
    "df_products.loc[df_products['shipping_option_name'] == \"\u0421\u0442\u0430\u043d\u0434\u0430\u0440\u0442\u043d\u0430\u044f \u0434\u043e\u0441\u0442\u0430\u0432\u043a\u0430\", \"buymentlang\"] = \"Russian\""
   ]
  },
  {
   "cell_type": "code",
   "execution_count": 69,
   "metadata": {},
   "outputs": [],
   "source": [
    "df_products.loc[df_products['shipping_option_name'] == \"Standart G\u00f6nderi\", \"buymentlang\"] = \"Turkish\""
   ]
  },
  {
   "cell_type": "code",
   "execution_count": 70,
   "metadata": {},
   "outputs": [],
   "source": [
    "df_products.loc[df_products['shipping_option_name'] == \"Spedizione standard\", \"buymentlang\"] = \"Italian\""
   ]
  },
  {
   "cell_type": "code",
   "execution_count": 71,
   "metadata": {},
   "outputs": [],
   "source": [
    "df_products.loc[df_products['shipping_option_name'] == \"\u0e01\u0e32\u0e23\u0e2a\u0e48\u0e07\u0e2a\u0e34\u0e19\u0e04\u0e49\u0e32\u0e21\u0e32\u0e15\u0e23\u0e10\u0e32\u0e19\", \"buymentlang\"] = \"Thailand\""
   ]
  },
  {
   "cell_type": "code",
   "execution_count": 72,
   "metadata": {},
   "outputs": [],
   "source": [
    "df_products.loc[df_products['shipping_option_name'] == \"\u1780\u17b6\u179a\u178a\u17b9\u1780\u1787\u1789\u17d2\u1787\u17bc\u1793\u178f\u17b6\u1798\u179f\u17d2\u178f\u1784\u17cb\u178a\u17b6\u179a\", \"buymentlang\"] = \"Khmer\""
   ]
  },
  {
   "cell_type": "code",
   "execution_count": 73,
   "metadata": {},
   "outputs": [],
   "source": [
    "df_products.loc[df_products['shipping_option_name'] == \"Ekspresowa wysy\u0142ka\", \"buymentlang\"] = \"Polish\""
   ]
  },
  {
   "cell_type": "code",
   "execution_count": 74,
   "metadata": {},
   "outputs": [
    {
     "data": {
      "text/plain": [
       "French        1511\n",
       "English         21\n",
       "Portuguese       9\n",
       "Romanian         6\n",
       "Spanish          5\n",
       "Polish           4\n",
       "Arabic           4\n",
       "German           3\n",
       "Russian          3\n",
       "Turkish          2\n",
       "Thailand         2\n",
       "Italian          2\n",
       "Khmer            1\n",
       "Name: buymentlang, dtype: int64"
      ]
     },
     "execution_count": 74,
     "metadata": {},
     "output_type": "execute_result"
    }
   ],
   "source": [
    "df_products['buymentlang'].value_counts()"
   ]
  },
  {
   "cell_type": "code",
   "execution_count": 75,
   "metadata": {},
   "outputs": [
    {
     "data": {
      "text/plain": [
       "0"
      ]
     },
     "execution_count": 75,
     "metadata": {},
     "output_type": "execute_result"
    }
   ],
   "source": [
    "df_products['buymentlang'].isnull().sum()"
   ]
  },
  {
   "cell_type": "code",
   "execution_count": 76,
   "metadata": {},
   "outputs": [],
   "source": [
    "#standardshippinglist\n",
    "df_products['shipping_option_name'].replace(standardshippinglist,\"Standard Shipping\",inplace=True)"
   ]
  },
  {
   "cell_type": "code",
   "execution_count": 77,
   "metadata": {},
   "outputs": [
    {
     "data": {
      "text/plain": [
       "Standard Shipping     1569\n",
       "Livraison Express        3\n",
       "Ekspresowa wysy\u0142ka       1\n",
       "Name: shipping_option_name, dtype: int64"
      ]
     },
     "execution_count": 77,
     "metadata": {},
     "output_type": "execute_result"
    }
   ],
   "source": [
    "df_products['shipping_option_name'].value_counts()"
   ]
  },
  {
   "cell_type": "code",
   "execution_count": 78,
   "metadata": {},
   "outputs": [],
   "source": [
    "Expresslist=[\"Livraison Express\",\"Ekspresowa wysy\u0142ka\"]"
   ]
  },
  {
   "cell_type": "code",
   "execution_count": 79,
   "metadata": {},
   "outputs": [],
   "source": [
    "df_products['shipping_option_name'].replace(Expresslist,\"Express Shipping\",inplace=True)"
   ]
  },
  {
   "cell_type": "code",
   "execution_count": 80,
   "metadata": {},
   "outputs": [
    {
     "data": {
      "text/plain": [
       "count    1573.000000\n",
       "mean        2.345200\n",
       "std         1.024371\n",
       "min         1.000000\n",
       "25%         2.000000\n",
       "50%         2.000000\n",
       "75%         3.000000\n",
       "max        12.000000\n",
       "Name: shipping_option_price, dtype: float64"
      ]
     },
     "execution_count": 80,
     "metadata": {},
     "output_type": "execute_result"
    }
   ],
   "source": [
    "df_products['shipping_option_price'].describe()"
   ]
  },
  {
   "cell_type": "code",
   "execution_count": 81,
   "metadata": {},
   "outputs": [],
   "source": [
    "# FIRST-AUTHOR: remove plotting\n",
    "# fig, ax = plt.subplots()\n",
    "x=df_products['shipping_option_price'].value_counts().index\n",
    "y=df_products['shipping_option_price'].value_counts()\n",
    "# FIRST-AUTHOR: remove plotting\n",
    "# ax.bar(x, y, align='center')\n",
    "# ax.set_xticks(x)\n",
    "# ax.set_xlabel('price shipping')\n",
    "# ax.set_title('price shipping counts')\n",
    "# plt.show()"
   ]
  },
  {
   "cell_type": "code",
   "execution_count": 82,
   "metadata": {},
   "outputs": [
    {
     "data": {
      "text/plain": [
       "758    Express Shipping\n",
       "Name: shipping_option_name, dtype: object"
      ]
     },
     "execution_count": 82,
     "metadata": {},
     "output_type": "execute_result"
    }
   ],
   "source": [
    "df_products.loc[df_products['shipping_option_price']==12]['shipping_option_name']"
   ]
  },
  {
   "cell_type": "code",
   "execution_count": 83,
   "metadata": {},
   "outputs": [
    {
     "data": {
      "text/plain": [
       "661      Express Shipping\n",
       "985     Standard Shipping\n",
       "1061     Express Shipping\n",
       "1200    Standard Shipping\n",
       "1531    Standard Shipping\n",
       "Name: shipping_option_name, dtype: object"
      ]
     },
     "execution_count": 83,
     "metadata": {},
     "output_type": "execute_result"
    }
   ],
   "source": [
    "df_products.loc[df_products['shipping_option_price']==7]['shipping_option_name']"
   ]
  },
  {
   "cell_type": "code",
   "execution_count": 84,
   "metadata": {},
   "outputs": [
    {
     "name": "stderr",
     "output_type": "stream",
     "text": [
      "/tmp/ipykernel_696984/1572931023.py:1: FutureWarning: The behavior of `series[i:j]` with an integer-dtype index is deprecated. In a future version, this will be treated as *label-based* indexing, consistent with e.g. `series[i]` lookups. To retain the old behavior, use `series.iloc[i:j]`. To get the future behavior, use `series.loc[i:j]`.\n",
      "  df_products['countries_shipped_to'].value_counts()[:20]\n"
     ]
    },
    {
     "data": {
      "text/plain": [
       "41    171\n",
       "43    170\n",
       "40    106\n",
       "38     76\n",
       "36     64\n",
       "35     61\n",
       "42     57\n",
       "39     43\n",
       "25     39\n",
       "37     38\n",
       "33     35\n",
       "20     34\n",
       "45     34\n",
       "23     34\n",
       "31     34\n",
       "27     31\n",
       "26     31\n",
       "48     29\n",
       "44     25\n",
       "32     25\n",
       "Name: countries_shipped_to, dtype: int64"
      ]
     },
     "execution_count": 84,
     "metadata": {},
     "output_type": "execute_result"
    }
   ],
   "source": [
    "df_products['countries_shipped_to'].value_counts()[:20]"
   ]
  },
  {
   "cell_type": "code",
   "execution_count": 85,
   "metadata": {},
   "outputs": [
    {
     "name": "stderr",
     "output_type": "stream",
     "text": [
      "/tmp/ipykernel_696984/2145427192.py:4: FutureWarning: The behavior of `series[i:j]` with an integer-dtype index is deprecated. In a future version, this will be treated as *label-based* indexing, consistent with e.g. `series[i]` lookups. To retain the old behavior, use `series.iloc[i:j]`. To get the future behavior, use `series.loc[i:j]`.\n",
      "  _ = df_products['countries_shipped_to'].value_counts()[:20]\n"
     ]
    }
   ],
   "source": [
    "# FIRST-AUTHOR: remove plotting\n",
    "# import seaborn as sns \n",
    "# sns.countplot(df_products['countries_shipped_to'].value_counts()[:20])\n",
    "_ = df_products['countries_shipped_to'].value_counts()[:20]"
   ]
  },
  {
   "cell_type": "code",
   "execution_count": 86,
   "metadata": {},
   "outputs": [
    {
     "data": {
      "text/plain": [
       "0    1544\n",
       "1      29\n",
       "Name: badge_local_product, dtype: int64"
      ]
     },
     "execution_count": 86,
     "metadata": {},
     "output_type": "execute_result"
    }
   ],
   "source": [
    "df_products[\"badge_local_product\"].value_counts()"
   ]
  },
  {
   "cell_type": "code",
   "execution_count": 87,
   "metadata": {},
   "outputs": [
    {
     "data": {
      "text/plain": [
       "0    1456\n",
       "1     117\n",
       "Name: badge_product_quality, dtype: int64"
      ]
     },
     "execution_count": 87,
     "metadata": {},
     "output_type": "execute_result"
    }
   ],
   "source": [
    "df_products[\"badge_product_quality\"].value_counts()"
   ]
  },
  {
   "cell_type": "code",
   "execution_count": 88,
   "metadata": {},
   "outputs": [
    {
     "data": {
      "text/plain": [
       "0    1553\n",
       "1      20\n",
       "Name: badge_fast_shipping, dtype: int64"
      ]
     },
     "execution_count": 88,
     "metadata": {},
     "output_type": "execute_result"
    }
   ],
   "source": [
    "df_products[\"badge_fast_shipping\"].value_counts()"
   ]
  },
  {
   "cell_type": "code",
   "execution_count": 89,
   "metadata": {},
   "outputs": [
    {
     "data": {
      "text/plain": [
       "50    1563\n",
       "2        2\n",
       "40       1\n",
       "36       1\n",
       "1        1\n",
       "30       1\n",
       "9        1\n",
       "24       1\n",
       "37       1\n",
       "38       1\n",
       "Name: inventory_total, dtype: int64"
      ]
     },
     "execution_count": 89,
     "metadata": {},
     "output_type": "execute_result"
    }
   ],
   "source": [
    "df_products[\"inventory_total\"].value_counts()"
   ]
  },
  {
   "cell_type": "code",
   "execution_count": 90,
   "metadata": {},
   "outputs": [],
   "source": [
    "df_products.to_csv(\"df_products.csv\")"
   ]
  },
  {
   "cell_type": "code",
   "execution_count": 91,
   "metadata": {},
   "outputs": [],
   "source": [
    "df_products=pd.get_dummies(df_products,columns=['product_color','shipping_option_name','origin_country','buymentlang'])"
   ]
  },
  {
   "cell_type": "code",
   "execution_count": 92,
   "metadata": {},
   "outputs": [
    {
     "name": "stdout",
     "output_type": "stream",
     "text": [
      "Int64Index([2, 3, 1, 4, 5, 6, 7, 12], dtype='int64')\n"
     ]
    }
   ],
   "source": [
    "df_products.to_csv(\"df_products.csv\")\n",
    "print(x)"
   ]
  },
  {
   "cell_type": "code",
   "execution_count": 93,
   "metadata": {},
   "outputs": [],
   "source": [
    "# FIRST-AUTHOR: remove plotting\n",
    "# from wordcloud import WordCloud\n",
    "text=list(df_products['title'])\n",
    "# FIRST-AUTHOR: remove plotting\n",
    "# textcol=''\n",
    "# for a in text :\n",
    "#     textcol=textcol+a\n",
    "# wordcloudmodel=WordCloud().generate(textcol)\n",
    "# plt.imshow(wordcloudmodel,interpolation='bilinear')\n",
    "# #plt.axis(\"on\")\n",
    "# plt.show()"
   ]
  },
  {
   "cell_type": "code",
   "execution_count": 94,
   "metadata": {},
   "outputs": [],
   "source": [
    "text=list(df_products['title'])\n",
    "# FIRST-AUTHOR: remove plotting\n",
    "# textcol=''\n",
    "# for a in text :\n",
    "#     textcol=textcol+a\n",
    "# wordcloudmodel=WordCloud().generate(textcol)\n",
    "# plt.imshow(wordcloudmodel,interpolation='bilinear')\n",
    "# plt.show()"
   ]
  },
  {
   "cell_type": "code",
   "execution_count": 95,
   "metadata": {},
   "outputs": [
    {
     "data": {
      "text/plain": [
       "s       739\n",
       "xs      376\n",
       "m       209\n",
       "xxs     107\n",
       "l        57\n",
       "xxl      21\n",
       "xl       19\n",
       "4xl      12\n",
       "xxxs      8\n",
       "5xl       5\n",
       "3xl       4\n",
       "3x        1\n",
       "6xl       1\n",
       "Name: product_variation_size_id, dtype: int64"
      ]
     },
     "execution_count": 95,
     "metadata": {},
     "output_type": "execute_result"
    }
   ],
   "source": [
    "df_products['product_variation_size_id'].value_counts()"
   ]
  },
  {
   "cell_type": "code",
   "execution_count": 96,
   "metadata": {},
   "outputs": [],
   "source": [
    "#from sklearn import preprocessing \n",
    "#le =preprocessing.LabelEncoder()\n",
    "#le.fit_transform(df_products['product_variation_size_id'].astype(str))\n",
    "df_products=pd.get_dummies(df_products,columns=['product_variation_size_id'])"
   ]
  },
  {
   "cell_type": "code",
   "execution_count": 97,
   "metadata": {},
   "outputs": [],
   "source": [
    "df_products['rating']=df_products['rating'].apply(round)"
   ]
  },
  {
   "cell_type": "code",
   "execution_count": 98,
   "metadata": {},
   "outputs": [],
   "source": [
    "# FIRST-AUTHOR: remove plotting\n",
    "# sns.barplot(df_products['rating'].value_counts().index,df_products['rating'].value_counts())\n",
    "_ = df_products['rating'].value_counts().index,df_products['rating'].value_counts()"
   ]
  },
  {
   "cell_type": "code",
   "execution_count": 99,
   "metadata": {},
   "outputs": [],
   "source": [
    "df_products['merchant_rating']=df_products['merchant_rating'].apply(round)"
   ]
  },
  {
   "cell_type": "code",
   "execution_count": 100,
   "metadata": {},
   "outputs": [],
   "source": [
    "# FIRST-AUTHOR: remove plotting\n",
    "# sns.barplot(df_products['merchant_rating'].value_counts().index ,df_products['merchant_rating'].value_counts())\n",
    "_ = df_products['merchant_rating'].value_counts().index ,df_products['merchant_rating'].value_counts()"
   ]
  },
  {
   "cell_type": "code",
   "execution_count": 101,
   "metadata": {},
   "outputs": [
    {
     "data": {
      "text/plain": [
       "50    907\n",
       "1     152\n",
       "2      81\n",
       "5      74\n",
       "3      52\n",
       "10     40\n",
       "4      25\n",
       "9      22\n",
       "7      18\n",
       "6      18\n",
       "20     16\n",
       "15     13\n",
       "17     11\n",
       "18     10\n",
       "49      9\n",
       "13      8\n",
       "25      7\n",
       "19      7\n",
       "29      7\n",
       "46      6\n",
       "30      6\n",
       "8       6\n",
       "44      6\n",
       "11      6\n",
       "14      5\n",
       "12      5\n",
       "43      4\n",
       "36      4\n",
       "34      4\n",
       "35      4\n",
       "41      4\n",
       "48      4\n",
       "47      4\n",
       "27      3\n",
       "45      3\n",
       "39      2\n",
       "23      2\n",
       "31      2\n",
       "26      2\n",
       "28      2\n",
       "40      2\n",
       "38      2\n",
       "37      2\n",
       "21      2\n",
       "16      1\n",
       "22      1\n",
       "33      1\n",
       "24      1\n",
       "Name: product_variation_inventory, dtype: int64"
      ]
     },
     "execution_count": 101,
     "metadata": {},
     "output_type": "execute_result"
    }
   ],
   "source": [
    "df_products['product_variation_inventory'].value_counts()"
   ]
  },
  {
   "cell_type": "code",
   "execution_count": 102,
   "metadata": {},
   "outputs": [
    {
     "data": {
      "text/plain": [
       "50    1563\n",
       "2        2\n",
       "40       1\n",
       "36       1\n",
       "1        1\n",
       "30       1\n",
       "9        1\n",
       "24       1\n",
       "37       1\n",
       "38       1\n",
       "Name: inventory_total, dtype: int64"
      ]
     },
     "execution_count": 102,
     "metadata": {},
     "output_type": "execute_result"
    }
   ],
   "source": [
    "df_products['inventory_total'].value_counts()"
   ]
  },
  {
   "cell_type": "code",
   "execution_count": 103,
   "metadata": {},
   "outputs": [
    {
     "data": {
      "text/plain": [
       "100       509\n",
       "1000      405\n",
       "5000      217\n",
       "10000     177\n",
       "20000     103\n",
       "50         76\n",
       "10         49\n",
       "50000      17\n",
       "100000      6\n",
       "8           4\n",
       "1           3\n",
       "7           2\n",
       "2           2\n",
       "3           2\n",
       "6           1\n",
       "Name: units_sold, dtype: int64"
      ]
     },
     "execution_count": 103,
     "metadata": {},
     "output_type": "execute_result"
    }
   ],
   "source": [
    "df_products['units_sold'].value_counts()"
   ]
  },
  {
   "cell_type": "code",
   "execution_count": 104,
   "metadata": {},
   "outputs": [],
   "source": [
    "dropval=df_products.loc[df_products['units_sold']>60000]"
   ]
  },
  {
   "cell_type": "code",
   "execution_count": 105,
   "metadata": {},
   "outputs": [
    {
     "data": {
      "text/plain": [
       "(6, 77)"
      ]
     },
     "execution_count": 105,
     "metadata": {},
     "output_type": "execute_result"
    }
   ],
   "source": [
    "dropval.shape"
   ]
  },
  {
   "cell_type": "code",
   "execution_count": 106,
   "metadata": {},
   "outputs": [],
   "source": [
    "df_products=df_products.loc[df_products['units_sold']<=60000]"
   ]
  },
  {
   "cell_type": "code",
   "execution_count": 107,
   "metadata": {},
   "outputs": [],
   "source": [
    "#df_products.drop(df_products[df_products['units_sold']>60000].index,axis=0,inplace=True)#"
   ]
  },
  {
   "cell_type": "code",
   "execution_count": 108,
   "metadata": {},
   "outputs": [],
   "source": [
    "#print(,)"
   ]
  },
  {
   "cell_type": "code",
   "execution_count": 109,
   "metadata": {},
   "outputs": [
    {
     "data": {
      "text/plain": [
       "Index(['title', 'title_orig', 'price', 'retail_price', 'units_sold',\n",
       "       'uses_ad_boosts', 'rating', 'rating_count', 'rating_five_count',\n",
       "       'rating_four_count', 'rating_three_count', 'rating_two_count',\n",
       "       'rating_one_count', 'badges_count', 'badge_local_product',\n",
       "       'badge_product_quality', 'badge_fast_shipping', 'tags',\n",
       "       'product_variation_inventory', 'shipping_option_price',\n",
       "       'shipping_is_express', 'countries_shipped_to', 'inventory_total',\n",
       "       'merchant_rating_count', 'merchant_rating', 'merchant_id',\n",
       "       'merchant_has_profile_picture', 'product_id', 'diffrencebetprices',\n",
       "       'product_color_beige', 'product_color_black', 'product_color_blue',\n",
       "       'product_color_brown', 'product_color_gray', 'product_color_green',\n",
       "       'product_color_multicolor', 'product_color_orange',\n",
       "       'product_color_pink', 'product_color_purple', 'product_color_red',\n",
       "       'product_color_rose', 'product_color_white', 'product_color_yellow',\n",
       "       'shipping_option_name_Express Shipping',\n",
       "       'shipping_option_name_Standard Shipping', 'origin_country_AT',\n",
       "       'origin_country_CN', 'origin_country_GB', 'origin_country_SG',\n",
       "       'origin_country_US', 'origin_country_VE', 'buymentlang_Arabic',\n",
       "       'buymentlang_English', 'buymentlang_French', 'buymentlang_German',\n",
       "       'buymentlang_Italian', 'buymentlang_Khmer', 'buymentlang_Polish',\n",
       "       'buymentlang_Portuguese', 'buymentlang_Romanian', 'buymentlang_Russian',\n",
       "       'buymentlang_Spanish', 'buymentlang_Thailand', 'buymentlang_Turkish',\n",
       "       'product_variation_size_id_3x', 'product_variation_size_id_3xl',\n",
       "       'product_variation_size_id_4xl', 'product_variation_size_id_5xl',\n",
       "       'product_variation_size_id_6xl', 'product_variation_size_id_l',\n",
       "       'product_variation_size_id_m', 'product_variation_size_id_s',\n",
       "       'product_variation_size_id_xl', 'product_variation_size_id_xs',\n",
       "       'product_variation_size_id_xxl', 'product_variation_size_id_xxs',\n",
       "       'product_variation_size_id_xxxs'],\n",
       "      dtype='object')"
      ]
     },
     "execution_count": 109,
     "metadata": {},
     "output_type": "execute_result"
    }
   ],
   "source": [
    "df_products.columns"
   ]
  },
  {
   "cell_type": "code",
   "execution_count": 110,
   "metadata": {},
   "outputs": [],
   "source": [
    "X=[ 'price','uses_ad_boosts', 'rating', 'badges_count', 'badge_local_product','badge_product_quality',\n",
    "   'badge_fast_shipping', 'shipping_option_price',\n",
    "       'shipping_is_express', 'countries_shipped_to','merchant_rating',\n",
    "       'merchant_has_profile_picture',\n",
    "       'product_color_beige', 'product_color_black', 'product_color_blue',\n",
    "       'product_color_brown', 'product_color_gray', 'product_color_green',\n",
    "       'product_color_multicolor', 'product_color_orange',\n",
    "       'product_color_pink', 'product_color_purple', 'product_color_red',\n",
    "       'product_color_rose', 'product_color_white', 'product_color_yellow',\n",
    "       'shipping_option_name_Express Shipping',\n",
    "       'shipping_option_name_Standard Shipping', 'origin_country_AT',\n",
    "       'origin_country_CN', 'origin_country_GB', 'origin_country_SG',\n",
    "       'origin_country_US', 'origin_country_VE', 'buymentlang_Arabic',\n",
    "       'buymentlang_English', 'buymentlang_French', 'buymentlang_German',\n",
    "       'buymentlang_Italian', 'buymentlang_Khmer', 'buymentlang_Polish',\n",
    "       'buymentlang_Portuguese', 'buymentlang_Romanian', 'buymentlang_Russian',\n",
    "       'buymentlang_Spanish', 'buymentlang_Thailand', 'buymentlang_Turkish',\n",
    "       'product_variation_size_id_3x', 'product_variation_size_id_3xl',\n",
    "       'product_variation_size_id_4xl', 'product_variation_size_id_5xl',\n",
    "       'product_variation_size_id_6xl', 'product_variation_size_id_l',\n",
    "       'product_variation_size_id_m', 'product_variation_size_id_s',\n",
    "       'product_variation_size_id_xl', 'product_variation_size_id_xs',\n",
    "       'product_variation_size_id_xxl', 'product_variation_size_id_xxs',\n",
    "       'product_variation_size_id_xxxs'\n",
    "       ]\n",
    "# FIRST-AUTHOR: make notebook run with input scaling\n",
    "_idx = set(df_products.index)\n",
    "X = [x for x in X if x in _idx]\n",
    "X=df_products[X]\n",
    "Y=df_products['units_sold']"
   ]
  },
  {
   "cell_type": "code",
   "execution_count": 111,
   "metadata": {},
   "outputs": [],
   "source": [
    "#X['product_variation_size_id']"
   ]
  },
  {
   "cell_type": "code",
   "execution_count": 112,
   "metadata": {},
   "outputs": [
    {
     "data": {
      "text/plain": [
       "(1567, 60)"
      ]
     },
     "execution_count": 112,
     "metadata": {},
     "output_type": "execute_result"
    }
   ],
   "source": [
    "X.shape"
   ]
  },
  {
   "cell_type": "code",
   "execution_count": 113,
   "metadata": {},
   "outputs": [
    {
     "data": {
      "text/plain": [
       "(1567,)"
      ]
     },
     "execution_count": 113,
     "metadata": {},
     "output_type": "execute_result"
    }
   ],
   "source": [
    "Y.shape"
   ]
  },
  {
   "cell_type": "code",
   "execution_count": 114,
   "metadata": {},
   "outputs": [],
   "source": [
    "X.to_csv(\"X.csv\")"
   ]
  },
  {
   "cell_type": "code",
   "execution_count": 115,
   "metadata": {},
   "outputs": [],
   "source": [
    "# FIRST-AUTHOR: remove ML code\n",
    "# from sklearn.linear_model import LinearRegression \n",
    "# from sklearn.preprocessing import StandardScaler\n",
    "# from sklearn.preprocessing import normalize\n",
    "# from sklearn.model_selection import train_test_split\n",
    "# from sklearn.metrics import mean_absolute_error\n",
    "# from sklearn.metrics import r2_score\n",
    "# scaler = StandardScaler()\n",
    "# lin = LinearRegression()"
   ]
  },
  {
   "cell_type": "code",
   "execution_count": 116,
   "metadata": {},
   "outputs": [],
   "source": [
    "# FIRST-AUTHOR: remove ML code\n",
    "# def modelfit(X,Y,scaler,modelalgorithm,train_test_split):\n",
    "#     #scaler.fit_transform(X,Y)\n",
    "#     normalize(X, norm='l2', axis=1, copy=True, return_norm=False)\n",
    "#     scaler.fit_transform(X,Y)\n",
    "#     #scaler.fit_transform()\n",
    "#     X_train, X_test, y_train, y_test=train_test_split(X,Y,test_size=.2,random_state=42)\n",
    "#     modelalgorithm.fit(X_train,y_train)\n",
    "#     prediction =modelalgorithm.predict(X_test)\n",
    "#     #print(mean_absolute_error(y_test,prediction))\n",
    "#     return r2_score(y_test,prediction)"
   ]
  },
  {
   "cell_type": "code",
   "execution_count": 117,
   "metadata": {},
   "outputs": [],
   "source": [
    "# FIRST-AUTHOR: remove ML code\n",
    "# modelfit(X,Y,scaler,lin,train_test_split)"
   ]
  },
  {
   "cell_type": "code",
   "execution_count": null,
   "metadata": {},
   "outputs": [],
   "source": []
  },
  {
   "cell_type": "code",
   "execution_count": 118,
   "metadata": {},
   "outputs": [],
   "source": [
    "#accuracy=[]\n",
    "#for i in range(X.shape[1]):\n",
    "#    X_model=X.iloc[:,i:-1]\n",
    " ##   print(\"this model use all data without first\",i,\"columns\")\n",
    "  #  ac=modelfit(X_model,Y,scaler,lin,train_test_split)\n",
    "  #  accuracy.append(ac)"
   ]
  },
  {
   "cell_type": "code",
   "execution_count": 119,
   "metadata": {},
   "outputs": [],
   "source": [
    "# FIRST-AUTHOR: remove ML code\n",
    "# accuracy=[]\n",
    "# Start=[]\n",
    "# End=[]\n",
    "# maxac=modelfit(X.iloc[:,0:1],Y,scaler,lin,train_test_split)\n",
    "# index_i=0\n",
    "# index_j=0\n",
    "for i in range(1,X.shape[1]):\n",
    "    for j in range(1,X.shape[1]):\n",
    "        if (i>j):\n",
    "            X_model=X.iloc[:,j:i]\n",
    "# FIRST-AUTHOR: remove ML code\n",
    "#             print(\"this model use data start from\",j,\"column to\",i ,\"column\")\n",
    "#             try :\n",
    "#                 ac=modelfit(X_model,Y,scaler,lin,train_test_split)\n",
    "#                 accuracy.append(ac)\n",
    "#                 Start.append(j)\n",
    "#                 End.append(i)\n",
    "#                 if ac>=maxac:\n",
    "#                     maxac=ac\n",
    "#                     index_i=i\n",
    "#                     index_j=j\n",
    "#                 print(ac)\n",
    "#             except ValueError :\n",
    "#                 print(\"error\")\n",
    "            "
   ]
  },
  {
   "cell_type": "code",
   "execution_count": 120,
   "metadata": {},
   "outputs": [],
   "source": [
    "# FIRST-AUTHOR: remove plotting\n",
    "# from mpl_toolkits.mplot3d import Axes3D\n",
    "# fig = plt.figure()\n",
    "# ax = fig.add_subplot(111, projection='3d')\n",
    "# ax.plot(Start,End,accuracy)\n",
    "# plt.xlabel(\"x\")\n",
    "# plt.ylabel(\"y\")\n",
    "# plt.show()"
   ]
  },
  {
   "cell_type": "code",
   "execution_count": 121,
   "metadata": {},
   "outputs": [],
   "source": [
    "# FIRST-AUTHOR: remove ML code\n",
    "# index_i"
   ]
  },
  {
   "cell_type": "code",
   "execution_count": 122,
   "metadata": {},
   "outputs": [],
   "source": [
    "# FIRST-AUTHOR: remove ML code\n",
    "# index_j"
   ]
  },
  {
   "cell_type": "code",
   "execution_count": 123,
   "metadata": {},
   "outputs": [],
   "source": [
    "# FIRST-AUTHOR: remove ML code\n",
    "# max(accuracy)"
   ]
  },
  {
   "cell_type": "code",
   "execution_count": 124,
   "metadata": {},
   "outputs": [],
   "source": [
    "# FIRST-AUTHOR: remove ML code\n",
    "# min(accuracy)"
   ]
  },
  {
   "cell_type": "code",
   "execution_count": 125,
   "metadata": {},
   "outputs": [],
   "source": [
    "X_predict=X.iloc[:,49:59]\n",
    "y_result=Y.iloc[:]\n",
    "#print(X.iloc[25,7:12])\n",
    "# FIRST-AUTHOR: remove ML code\n",
    "# scaler.fit_transform(X_predict,Y)\n",
    "# X_train, X_test, y_train, y_test=train_test_split(X_predict,Y,test_size=.2,random_state=42)\n",
    "# lin.fit(X_train,y_train)\n",
    "# prediction =lin.predict(X.iloc[:,49:59])\n",
    "# #print(mean_absolute_error(y_test,prediction))\n",
    "# print(prediction,y_result)"
   ]
  },
  {
   "cell_type": "code",
   "execution_count": 126,
   "metadata": {},
   "outputs": [],
   "source": [
    "# FIRST-AUTHOR: remove plotting\n",
    "# plt.plot(prediction)\n",
    "# plt.show()\n",
    "# plt.plot(y_result)\n",
    "# plt.show()"
   ]
  },
  {
   "cell_type": "code",
   "execution_count": 127,
   "metadata": {},
   "outputs": [],
   "source": [
    "# FIRST-AUTHOR: remove ML code\n",
    "# prediction.mean()"
   ]
  },
  {
   "cell_type": "code",
   "execution_count": 128,
   "metadata": {},
   "outputs": [
    {
     "data": {
      "text/plain": [
       "3972.721761327377"
      ]
     },
     "execution_count": 128,
     "metadata": {},
     "output_type": "execute_result"
    }
   ],
   "source": [
    "y_result.mean()"
   ]
  },
  {
   "cell_type": "code",
   "execution_count": 129,
   "metadata": {},
   "outputs": [],
   "source": [
    "# FIRST-AUTHOR: remove ML code\n",
    "# col=[]\n",
    "# accuracy=[]\n",
    "for j in range(1,X.shape[1]):\n",
    "    X_model=X.iloc[:,j:j+1]\n",
    "# FIRST-AUTHOR: remove ML code\n",
    "#     print(\"this model use data start from\",j,\"column to\")\n",
    "#     ac=modelfit(X_model,Y,scaler,lin,train_test_split)\n",
    "#     print(ac)\n",
    "#     accuracy.append(ac)\n",
    "#     col.append(j)"
   ]
  },
  {
   "cell_type": "code",
   "execution_count": 130,
   "metadata": {},
   "outputs": [],
   "source": [
    "# FIRST-AUTHOR: remove plotting\n",
    "# plt.plot(col,accuracy)\n",
    "# plt.show()"
   ]
  }
 ],
 "metadata": {
  "kernelspec": {
   "display_name": "Python 3 (ipykernel)",
   "language": "python",
   "name": "python3"
  },
  "language_info": {
   "codemirror_mode": {
    "name": "ipython",
    "version": 3
   },
   "file_extension": ".py",
   "mimetype": "text/x-python",
   "name": "python",
   "nbconvert_exporter": "python",
   "pygments_lexer": "ipython3",
   "version": "3.10.16"
  }
 },
 "nbformat": 4,
 "nbformat_minor": 4
}