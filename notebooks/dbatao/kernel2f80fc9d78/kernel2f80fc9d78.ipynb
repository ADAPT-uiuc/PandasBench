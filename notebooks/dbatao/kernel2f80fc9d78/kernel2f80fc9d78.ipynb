{
 "cells": [
  {
   "cell_type": "code",
   "execution_count": null,
   "metadata": {},
   "outputs": [],
   "source": [
    "import os\n",
    "\n",
    "def scale_input_data(scale_factor):\n",
    "  file_bases = ['./input/train', './input/test']\n",
    "  for file_base in file_bases:\n",
    "    import pandas as pd\n",
    "    import shutil\n",
    "    if scale_factor == 1.0:\n",
    "      shutil.copyfile(file_base + '.csv', file_base + '.scaled.csv')\n",
    "      continue\n",
    "    df_to_scale = pd.read_csv(file_base + '.csv')\n",
    "    new_num_rows = int(scale_factor * len(df_to_scale))\n",
    "    if scale_factor <= 1.0:\n",
    "      df_to_scale = df_to_scale.iloc[:new_num_rows]\n",
    "    else:\n",
    "      while len(df_to_scale) < new_num_rows:\n",
    "        df_to_scale = pd.concat([df_to_scale, df_to_scale[:min(new_num_rows - len(df_to_scale), len(df_to_scale))]])\n",
    "    df_to_scale.to_csv(file_base + '.scaled.csv', index=False)\n",
    "\n",
    "if 'INPUT_SCALE_FACTOR' in os.environ:\n",
    "  scale_input_data(float(os.environ['INPUT_SCALE_FACTOR']))"
   ]
  },
  {
   "cell_type": "code",
   "execution_count": 1,
   "metadata": {
    "_cell_guid": "b1076dfc-b9ad-4769-8c92-a6c4dae69d19",
    "_uuid": "8f2839f25d086af736a60e9eeb907d3b93b6e0e5"
   },
   "outputs": [],
   "source": [
    "# This Python 3 environment comes with many helpful analytics libraries installed\n",
    "# It is defined by the kaggle/python Docker image: https://github.com/kaggle/docker-python\n",
    "# For example, here's several helpful packages to load\n",
    "\n",
    "import numpy as np # linear algebra\n",
    "# import pandas as pd # data processing, CSV file I/O (e.g. pd.read_csv)\n",
    "exec(os.environ['IREWR_IMPORTS'])\n",
    "\n",
    "# Input data files are available in the read-only \"../input/\" directory\n",
    "# For example, running this (by clicking run or pressing Shift+Enter) will list all files under the input directory\n",
    "\n",
    "# FIRST-AUTHOR: remove path printing\n",
    "# import os\n",
    "# for dirname, _, filenames in os.walk('/kaggle/input'):\n",
    "#     for filename in filenames:\n",
    "#         print(os.path.join(dirname, filename))\n",
    "\n",
    "# You can write up to 5GB to the current directory (/kaggle/working/) that gets preserved as output when you create a version using \"Save & Run All\" \n",
    "# You can also write temporary files to /kaggle/temp/, but they won't be saved outside of the current session"
   ]
  },
  {
   "cell_type": "code",
   "execution_count": 2,
   "metadata": {
    "_cell_guid": "79c7e3d0-c299-4dcb-8224-4455121ee9b0",
    "_uuid": "d629ff2d2480ee46fbb7e2d37f6b5fab8052498a"
   },
   "outputs": [],
   "source": [
    "# import numpy as np\n",
    "# import pandas as pd\n",
    "# FIRST-AUTHOR: remove plotting, ML code\n",
    "# from matplotlib import pyplot as plt\n",
    "# import seaborn as sns\n",
    "# from sklearn.preprocessing import PowerTransformer"
   ]
  },
  {
   "cell_type": "code",
   "execution_count": 3,
   "metadata": {},
   "outputs": [
    {
     "data": {
      "text/plain": [
       "Index(['Id', 'MSSubClass', 'MSZoning', 'LotFrontage', 'LotArea', 'Street',\n",
       "       'Alley', 'LotShape', 'LandContour', 'Utilities', 'LotConfig',\n",
       "       'LandSlope', 'Neighborhood', 'Condition1', 'Condition2', 'BldgType',\n",
       "       'HouseStyle', 'OverallQual', 'OverallCond', 'YearBuilt', 'YearRemodAdd',\n",
       "       'RoofStyle', 'RoofMatl', 'Exterior1st', 'Exterior2nd', 'MasVnrType',\n",
       "       'MasVnrArea', 'ExterQual', 'ExterCond', 'Foundation', 'BsmtQual',\n",
       "       'BsmtCond', 'BsmtExposure', 'BsmtFinType1', 'BsmtFinSF1',\n",
       "       'BsmtFinType2', 'BsmtFinSF2', 'BsmtUnfSF', 'TotalBsmtSF', 'Heating',\n",
       "       'HeatingQC', 'CentralAir', 'Electrical', '1stFlrSF', '2ndFlrSF',\n",
       "       'LowQualFinSF', 'GrLivArea', 'BsmtFullBath', 'BsmtHalfBath', 'FullBath',\n",
       "       'HalfBath', 'BedroomAbvGr', 'KitchenAbvGr', 'KitchenQual',\n",
       "       'TotRmsAbvGrd', 'Functional', 'Fireplaces', 'FireplaceQu', 'GarageType',\n",
       "       'GarageYrBlt', 'GarageFinish', 'GarageCars', 'GarageArea', 'GarageQual',\n",
       "       'GarageCond', 'PavedDrive', 'WoodDeckSF', 'OpenPorchSF',\n",
       "       'EnclosedPorch', '3SsnPorch', 'ScreenPorch', 'PoolArea', 'PoolQC',\n",
       "       'Fence', 'MiscFeature', 'MiscVal', 'MoSold', 'YrSold', 'SaleType',\n",
       "       'SaleCondition', 'SalePrice'],\n",
       "      dtype='object')"
      ]
     },
     "execution_count": 3,
     "metadata": {},
     "output_type": "execute_result"
    }
   ],
   "source": [
    "#\u30c7\u30fc\u30bf\u306e\u8aad\u307f\u8fbc\u307f\n",
    "\n",
    "train = pd.read_csv('./input/train.scaled.csv') #\u8a13\u7df4\u30c7\u30fc\u30bf\n",
    "test_x = pd.read_csv('./input/test.scaled.csv') #\u30c6\u30b9\u30c8\u30c7\u30fc\u30bf\n",
    "\n",
    "#\u5b66\u7fd2\u30c7\u30fc\u30bf\u306e\u5909\u6570\u3092\u78ba\u8a8d\n",
    "train.columns"
   ]
  },
  {
   "cell_type": "code",
   "execution_count": 4,
   "metadata": {},
   "outputs": [
    {
     "data": {
      "text/plain": [
       "count      1460.000000\n",
       "mean     180921.195890\n",
       "std       79442.502883\n",
       "min       34900.000000\n",
       "25%      129975.000000\n",
       "50%      163000.000000\n",
       "75%      214000.000000\n",
       "max      755000.000000\n",
       "Name: SalePrice, dtype: float64"
      ]
     },
     "execution_count": 4,
     "metadata": {},
     "output_type": "execute_result"
    }
   ],
   "source": [
    "#\u76ee\u7684\u5909\u6570\u3067\u3042\u308b\u5bb6\u306e\u4fa1\u683c\u306e\u8981\u7d04\u7d71\u8a08\u91cf\u3092\u8868\u793a\u3059\u308b\n",
    "train[\"SalePrice\"].describe()"
   ]
  },
  {
   "cell_type": "code",
   "execution_count": 5,
   "metadata": {},
   "outputs": [],
   "source": [
    "#50\u30d1\u30fc\u30bb\u30f3\u30c8\u30bf\u30a4\u30eb\u304c16\u4e07\u306a\u306e\u306b\u5bfe\u3057\u3066\u5e73\u5747\u304c18\u4e07\u3068\u306a\u3063\u3066\u3044\u308b\u3001\u304b\u3064MAX\u304c75\u4e07\u3068\u5927\u304d\u3044\u306e\u3067\u6b63\u898f\u5206\u5e03\u306b\u306f\u306a\u3063\u3066\u306a\u3044\u6c17\u304c\u3057\u307e\u3059\u3002\u30d2\u30b9\u30c8\u30b0\u30e9\u30e0\u3092\u898b\u3066\u307f\u307e\u3059\u3002"
   ]
  },
  {
   "cell_type": "code",
   "execution_count": 6,
   "metadata": {},
   "outputs": [],
   "source": [
    "#\u76ee\u7684\u5909\u6570\u3067\u3042\u308b\u5bb6\u306e\u4fa1\u683c\u306e\u30d2\u30b9\u30c8\u30b0\u30e9\u30e0\u3092\u8868\u793a\u3059\u308b\n",
    "# FIRST-AUTHOR: remove plotting\n",
    "# plt.figure(figsize=(20, 10))\n",
    "# sns.distplot(train['SalePrice'])\n",
    "_ = train['SalePrice']"
   ]
  },
  {
   "cell_type": "code",
   "execution_count": 7,
   "metadata": {},
   "outputs": [],
   "source": [
    "#\u3084\u306f\u308a\u6b63\u898f\u5206\u5e03\u306b\u306a\u3063\u3066\u3044\u307e\u305b\u3093\u306d\u3002\u76ee\u7684\u5909\u6570\u306e\u5206\u5e03\u306f\u6b63\u898f\u5206\u5e03\u306b\u306a\u3063\u3066\u3044\u306a\u3044\u3068\u30e2\u30c7\u30eb\u306e\u4e88\u6e2c\u7cbe\u5ea6\u306b\u5f71\u97ff\u304c\u51fa\u3066\u3057\u307e\u3046\u306e\u3067\u3001\u3053\u308c\u306f\u3042\u3068\u3067\u5bfe\u6570\u5909\u63db\u3059\u308b\u5fc5\u8981\u304c\u3042\u308a\u305d\u3046\u3067\u3059\u3002"
   ]
  },
  {
   "cell_type": "code",
   "execution_count": 8,
   "metadata": {},
   "outputs": [
    {
     "name": "stdout",
     "output_type": "stream",
     "text": [
      "\u6b6a\u5ea6: 1.882876\n",
      "\u5c16\u5ea6: 6.536282\n"
     ]
    }
   ],
   "source": [
    "#\u6b6a\u5ea6\u3068\u5c16\u5ea6\u3092\u8a08\u7b97\n",
    "print(\"\u6b6a\u5ea6: %f\" % train['SalePrice'].skew())\n",
    "print(\"\u5c16\u5ea6: %f\" % train['SalePrice'].kurt())"
   ]
  },
  {
   "cell_type": "code",
   "execution_count": 9,
   "metadata": {},
   "outputs": [],
   "source": [
    "#\u6b6a\u5ea6\u304c\u6b63\u306e\u5024\u306a\u306e\u3067\u3001\u53f3\u88fe\u304c\u9577\u3044\uff08\u2252\u5de6\u306b\u504f\u3063\u3066\u3044\u308b\uff09\u5206\u5e03\u3067\u3042\u308b\u3053\u3068\u3001\u3055\u3089\u306b\u5c16\u5ea6\u304c\u6b63\u306e\u5024\u306e\u305f\u3081\u6b63\u898f\u5206\u5e03\u3088\u308a\u3082\u3060\u3044\u3076\u5c16\u3063\u305f\uff08\u5e73\u5747\u4ed8\u8fd1\u306b\u30c7\u30fc\u30bf\u304c\u96c6\u4e2d\u3057\u3066\u3044\u308b\uff09\u5206\u5e03\u3067\u3042\u308b\u3053\u3068\u304c\u308f\u304b\u308a\u307e\u3059\u3002"
   ]
  },
  {
   "cell_type": "code",
   "execution_count": 10,
   "metadata": {},
   "outputs": [],
   "source": [
    "#\u3053\u3053\u3067\u4e0e\u3048\u3089\u308c\u305f\u7279\u5fb4\u91cf\u3092\u307f\u308b\u3068\n",
    "\n",
    "#\u7269\u4ef6\u306e\u5927\u304d\u3055\uff08\u5e83\u3055\uff09\n",
    "#\u7bc9\u5e74\u6570\n",
    "#\u5bb6\u306e\u6750\u8cea\u3068\u5b8c\u6210\u5ea6\n",
    "#\u3042\u305f\u308a\u304c\u3071\u3063\u3068\u307f\u3067\u7269\u4ef6\u306e\u4fa1\u683c\u306b\u5f71\u97ff\u3057\u305d\u3046\u306a\u306e\u3067\u3001\u76ee\u7684\u5909\u6570\u3068\u306e\u95a2\u4fc2\u3092\u898b\u3066\u307f\u307e\u3059\u3002"
   ]
  },
  {
   "cell_type": "code",
   "execution_count": 11,
   "metadata": {},
   "outputs": [],
   "source": [
    "#\u7269\u4ef6\u306e\u5e83\u3055\u3092\u5408\u8a08\u3057\u305f\u5909\u6570\u3092\u4f5c\u6210\n",
    "train[\"TotalSF\"] = train[\"1stFlrSF\"] + train[\"2ndFlrSF\"] + train[\"TotalBsmtSF\"]\n",
    "test_x[\"TotalSF\"] = test_x[\"1stFlrSF\"] + test_x[\"2ndFlrSF\"] + test_x[\"TotalBsmtSF\"]\n",
    "\n",
    "#\u7269\u4ef6\u306e\u5e83\u3055\u3068\u7269\u4ef6\u4fa1\u683c\u306e\u6563\u5e03\u56f3\u3092\u4f5c\u6210\n",
    "# FIRST-AUTHOR: remove plotting\n",
    "# plt.figure(figsize=(20, 10))\n",
    "# plt.scatter(train[\"TotalSF\"],train[\"SalePrice\"])\n",
    "# plt.xlabel(\"TotalSF\")\n",
    "# plt.ylabel(\"SalePrice\")\n",
    "_ = train[\"TotalSF\"]\n",
    "_ = train[\"SalePrice\"]"
   ]
  },
  {
   "cell_type": "code",
   "execution_count": 12,
   "metadata": {},
   "outputs": [],
   "source": [
    "#\u82e5\u5e72\u5916\u308c\u5024\u304c\u3042\u308a\u307e\u3059\u304c\u3001\u76f8\u95a2\u3057\u3066\u3044\u308b\u3088\u3046\u306b\u898b\u3048\u307e\u3059\u3002\u3084\u306f\u308a\u7269\u4ef6\u304c\u5927\u304d\u304f\u306a\u308b\u307b\u3069\u7269\u4ef6\u4fa1\u683c\u3082\u9ad8\u304f\u306a\u308b\u3053\u3068\u304c\u308f\u304b\u308a\u307e\u3059\u3002"
   ]
  },
  {
   "cell_type": "code",
   "execution_count": 13,
   "metadata": {},
   "outputs": [],
   "source": [
    "#\u5916\u308c\u5024\u3092\u9664\u5916\u3059\u308b\n",
    "train = train.drop(train[(train['TotalSF']>7500) & (train['SalePrice']<300000)].index)\n",
    "\n",
    "#\u7269\u4ef6\u306e\u5e83\u3055\u3068\u7269\u4ef6\u4fa1\u683c\u306e\u6563\u5e03\u56f3\u3092\u4f5c\u6210\n",
    "# FIRST-AUTHOR: remove plotting\n",
    "# plt.figure(figsize=(20, 10))\n",
    "# plt.scatter(train[\"TotalSF\"],train[\"SalePrice\"])\n",
    "# plt.xlabel(\"TotalSF\")\n",
    "# plt.ylabel(\"SalePrice\")\n",
    "_ = train[\"TotalSF\"]\n",
    "_ = train[\"SalePrice\"]"
   ]
  },
  {
   "cell_type": "code",
   "execution_count": 14,
   "metadata": {},
   "outputs": [],
   "source": [
    "#\u7bc9\u5e74\u6570\u3068\u7269\u4ef6\u4fa1\u683c\u306e\u6563\u5e03\u56f3\u3092\u4f5c\u6210\n",
    "#plt.scatter(train[\"YearBuilt\"],train[\"SalePrice\"],color = \"#e41a1c\")\n",
    "#plt.xlabel(\"YearBuilt\")\n",
    "#plt.ylabel(\"SalePrice\")\n",
    "\n",
    "data = pd.concat([train[\"YearBuilt\"],train[\"SalePrice\"]],axis=1)\n",
    "\n",
    "# FIRST-AUTHOR: remove plotting\n",
    "# plt.figure(figsize=(20, 10))\n",
    "# plt.xticks(rotation='90')\n",
    "# sns.boxplot(x=\"YearBuilt\",y=\"SalePrice\",data=data)"
   ]
  },
  {
   "cell_type": "code",
   "execution_count": 15,
   "metadata": {},
   "outputs": [],
   "source": [
    "#\u5fae\u5999\u3067\u3059\u304c\u7bc9\u5e74\u6570\u304c\u65b0\u3057\u3044\u307b\u3069\u7269\u4ef6\u4fa1\u683c\u304c\u9ad8\u304f\u306a\u308b\u50be\u5411\u306f\u3042\u308a\u305d\u3046\u3067\u3059\u3002\n",
    "#\u3053\u3061\u3089\u3082\u5916\u308c\u5024\u304c\u3042\u308b\u306e\u3067\u9664\u5916\u3057\u307e\u3059\u3002"
   ]
  },
  {
   "cell_type": "code",
   "execution_count": 16,
   "metadata": {},
   "outputs": [],
   "source": [
    "#\u5916\u308c\u5024\u3092\u9664\u5916\u3059\u308b\n",
    "train = train.drop(train[(train['YearBuilt']<2000) & (train['SalePrice']>600000)].index)\n",
    "\n",
    "#\u30b0\u30e9\u30d5\u3092\u63cf\u753b\u3059\u308b\n",
    "data = pd.concat([train[\"YearBuilt\"],train[\"SalePrice\"]],axis=1)\n",
    "\n",
    "# FIRST-AUTHOR: remove plotting\n",
    "# plt.figure(figsize=(20, 10))\n",
    "# plt.xticks(rotation='90')\n",
    "# sns.boxplot(x=\"YearBuilt\",y=\"SalePrice\",data=data)"
   ]
  },
  {
   "cell_type": "code",
   "execution_count": 17,
   "metadata": {},
   "outputs": [],
   "source": [
    "#\u3055\u3089\u306b\u4ee5\u4e0b\u306e\u3088\u3046\u306a\u7279\u5fb4\u91cf\u304c\u3042\u308a\u307e\u3059\u3002\u3053\u308c\u3092\u5bb6\u306e\u6750\u8cea\u3068\u5b8c\u6210\u5ea6\u3068\u8a33\u3059\u306e\u304c\u3088\u3044\u306e\u304b\u308f\u304b\u308a\u307e\u305b\u3093\u304c\u4fa1\u683c\u306b\u306f\u5f71\u97ff\u4e0e\u3048\u305d\u3046\u306a\u306e\u3067\u53ef\u8996\u5316\u3057\u3066\u307f\u307e\u3059\u3002"
   ]
  },
  {
   "cell_type": "code",
   "execution_count": 18,
   "metadata": {},
   "outputs": [],
   "source": [
    "#\u5bb6\u306e\u6750\u8cea\u30fb\u5b8c\u6210\u5ea6\u3068\u7269\u4ef6\u4fa1\u683c\u306e\u6563\u5e03\u56f3\u3092\u4f5c\u6210\n",
    "# FIRST-AUTHOR: remove plotting\n",
    "# plt.figure(figsize=(20, 10))\n",
    "# plt.scatter(train[\"OverallQual\"],train[\"SalePrice\"])\n",
    "# plt.xlabel(\"OverallQual\")\n",
    "# plt.ylabel(\"SalePrice\")\n",
    "_ = train[\"OverallQual\"]\n",
    "_ = train[\"SalePrice\"]"
   ]
  },
  {
   "cell_type": "code",
   "execution_count": 19,
   "metadata": {},
   "outputs": [],
   "source": [
    "#\u30af\u30aa\u30ea\u30c6\u30a3\u304c\u4e0a\u304c\u308b\u307b\u3069\u4fa1\u683c\u304c\u4e0a\u304c\u3063\u3066\u3044\u308b\u3088\u3046\u306b\u898b\u3048\u307e\u3059\u3002"
   ]
  },
  {
   "cell_type": "code",
   "execution_count": 20,
   "metadata": {},
   "outputs": [],
   "source": [
    "#\u5916\u308c\u5024\u3092\u9664\u5916\u3059\u308b\n",
    "train = train.drop(train[(train['OverallQual']<5) & (train['SalePrice']>200000)].index)\n",
    "train = train.drop(train[(train['OverallQual']<10) & (train['SalePrice']>500000)].index)\n",
    "\n",
    "#\u30b0\u30e9\u30d5\u3092\u63cf\u753b\u3059\u308b\n",
    "# FIRST-AUTHOR: remove plotting\n",
    "# plt.figure(figsize=(20, 10))\n",
    "# plt.scatter(train[\"OverallQual\"],train[\"SalePrice\"])\n",
    "# plt.xlabel(\"OverallQual\")\n",
    "# plt.ylabel(\"SalePrice\")\n",
    "_ = train[\"OverallQual\"]\n",
    "_ = train[\"SalePrice\"]"
   ]
  },
  {
   "cell_type": "code",
   "execution_count": 21,
   "metadata": {},
   "outputs": [],
   "source": [
    "#\u524d\u51e6\u7406\u3092\u3044\u3063\u307a\u3093\u306b\u884c\u3046\u305f\u3081\u306b\u3001\u5b66\u7fd2\u30c7\u30fc\u30bf\u3068\u30c6\u30b9\u30c8\u30c7\u30fc\u30bf\u3092\u30de\u30fc\u30b8\u3057\u307e\u3059\u3002 \u3055\u3089\u306b\u5b66\u7fd2\u30c7\u30fc\u30bf\u306b\u95a2\u3057\u3066\u306f\u76ee\u7684\u5909\u6570\u3067\u3042\u308b\u300cSalesPrice\u300d\u304c\u542b\u307e\u308c\u3066\u3044\u308b\u306e\u3067\u3053\u3061\u3089\u306f\u5207\u308a\u51fa\u3057\u3066\u304a\u304d\u307e\u3059\u3002"
   ]
  },
  {
   "cell_type": "code",
   "execution_count": 22,
   "metadata": {},
   "outputs": [
    {
     "name": "stdout",
     "output_type": "stream",
     "text": [
      "train_x: (1449, 81)\n",
      "train_y: (1449,)\n",
      "test_x: (1459, 81)\n",
      "all_data: (2908, 80)\n"
     ]
    }
   ],
   "source": [
    "#\u5b66\u7fd2\u30c7\u30fc\u30bf\u3092\u76ee\u7684\u5909\u6570\u3068\u305d\u308c\u4ee5\u5916\u306b\u5206\u3051\u308b\n",
    "train_x = train.drop(\"SalePrice\",axis=1)\n",
    "train_y = train[\"SalePrice\"]\n",
    "\n",
    "#\u5b66\u7fd2\u30c7\u30fc\u30bf\u3068\u30c6\u30b9\u30c8\u30c7\u30fc\u30bf\u3092\u7d71\u5408\n",
    "all_data = pd.concat([train_x,test_x],axis=0,sort=True)\n",
    "\n",
    "#ID\u306e\u30ab\u30e9\u30e0\u306f\u4e0d\u5fc5\u8981\u306a\u306e\u3067\u5225\u306e\u5909\u6570\u306b\u683c\u7d0d\n",
    "train_ID = train['Id']\n",
    "test_ID = test_x['Id']\n",
    "\n",
    "all_data.drop(\"Id\", axis = 1, inplace = True)\n",
    "\n",
    "#\u305d\u308c\u305e\u308c\u306e\u30c7\u30fc\u30bf\u306e\u30b5\u30a4\u30ba\u3092\u78ba\u8a8d\n",
    "print(\"train_x: \"+str(train_x.shape))\n",
    "print(\"train_y: \"+str(train_y.shape))\n",
    "print(\"test_x: \"+str(test_x.shape))\n",
    "print(\"all_data: \"+str(all_data.shape))"
   ]
  },
  {
   "cell_type": "code",
   "execution_count": 23,
   "metadata": {},
   "outputs": [],
   "source": [
    "#\u7d9a\u3044\u3066\u6b20\u640d\u5024\u3092\u51e6\u7406\u3057\u3066\u3044\u304d\u305f\u3044\u3068\u601d\u3044\u307e\u3059\u3002\u307e\u305a\u306f\u3069\u306e\u304f\u3089\u3044\u6b20\u640d\u5024\u304c\u3042\u308b\u306e\u304b\u3092\u78ba\u8a8d\u3057\u307e\u3059\u3002"
   ]
  },
  {
   "cell_type": "code",
   "execution_count": 24,
   "metadata": {},
   "outputs": [
    {
     "data": {
      "text/plain": [
       "PoolQC          2900\n",
       "MiscFeature     2803\n",
       "Alley           2710\n",
       "Fence           2338\n",
       "FireplaceQu     1420\n",
       "LotFrontage      485\n",
       "GarageCond       159\n",
       "GarageQual       159\n",
       "GarageYrBlt      159\n",
       "GarageFinish     159\n",
       "GarageType       157\n",
       "BsmtExposure      82\n",
       "BsmtCond          82\n",
       "BsmtQual          81\n",
       "BsmtFinType2      80\n",
       "BsmtFinType1      79\n",
       "MasVnrType        24\n",
       "MasVnrArea        23\n",
       "MSZoning           4\n",
       "Utilities          2\n",
       "Functional         2\n",
       "BsmtHalfBath       2\n",
       "BsmtFullBath       2\n",
       "GarageCars         1\n",
       "Exterior2nd        1\n",
       "Exterior1st        1\n",
       "KitchenQual        1\n",
       "Electrical         1\n",
       "BsmtUnfSF          1\n",
       "BsmtFinSF2         1\n",
       "BsmtFinSF1         1\n",
       "SaleType           1\n",
       "TotalBsmtSF        1\n",
       "TotalSF            1\n",
       "GarageArea         1\n",
       "dtype: int64"
      ]
     },
     "execution_count": 24,
     "metadata": {},
     "output_type": "execute_result"
    }
   ],
   "source": [
    "#\u30c7\u30fc\u30bf\u306e\u6b20\u640d\u5024\u3092\u78ba\u8a8d\u3059\u308b\n",
    "all_data_na = all_data.isnull().sum()[all_data.isnull().sum()>0].sort_values(ascending=False)\n",
    "all_data_na"
   ]
  },
  {
   "cell_type": "code",
   "execution_count": 25,
   "metadata": {},
   "outputs": [],
   "source": [
    "#\u3081\u3061\u3083\u304f\u3061\u3083\u3042\u308a\u307e\u3059\u306d\u3001\u3001\u3001\u30b0\u30e9\u30d5\u5316\u3057\u3066\u307f\u307e\u3059\u3002"
   ]
  },
  {
   "cell_type": "code",
   "execution_count": 26,
   "metadata": {},
   "outputs": [],
   "source": [
    "#\u6b20\u640d\u5024\u306e\u6570\u3092\u30b0\u30e9\u30d5\u5316\n",
    "# FIRST-AUTHOR: remove plotting\n",
    "# plt.figure(figsize=(20,10))\n",
    "# plt.xticks(rotation='90')\n",
    "# sns.barplot(x=all_data_na.index, y=all_data_na)\n",
    "_ = all_data_na.index"
   ]
  },
  {
   "cell_type": "code",
   "execution_count": 27,
   "metadata": {},
   "outputs": [],
   "source": [
    "#\u6b20\u640d\u5024\u306b\u3064\u3044\u3066\u306f\u4e00\u62ec\u3067\u524a\u9664\u3059\u308b\u304b\u3001\u5e73\u5747\u5024\u3067\u7f6e\u63db\u3057\u3066\u3057\u307e\u3044\u305f\u304f\u306a\u3063\u3066\u3057\u307e\u3044\u307e\u3059\u304c\u3001\n",
    "#\u304d\u3061\u3093\u3068\u6b20\u640d\u5024\u304c\u591a\u3044\u5909\u6570\u304c\u4f55\u3092\u8868\u3059\u3082\u306e\u304b\u898b\u3066\u307f\u307e\u3059\u3002\n",
    "\n",
    "#PoolQC: Pool quality\n",
    "#\u5099\u3048\u4ed8\u3051\u3089\u308c\u3066\u3044\u308b\u30d7\u30fc\u30eb\u306e\u8cea\u3092\u8868\u3059\u3002\u30d7\u30fc\u30eb\u304c\u306a\u3044\u5834\u5408\u306b\u306fNA\u3068\u306a\u308b\u3002\n",
    "#MiscFeature: Miscellaneous feature not covered in other categories\n",
    "#\u305d\u306e\u4ed6\u306e\u5099\u3048\u4ed8\u3051\u3089\u308c\u3066\u3044\u308b\u8a2d\u5099\u3092\u8868\u3059\u3002\u30a8\u30ec\u30d9\u30fc\u30bf\u3084\u30c6\u30cb\u30b9\u30b3\u30fc\u30c8\u306a\u3069\u3002\u7279\u306b\u306a\u3044\u5834\u5408\u306fNA\u3068\u306a\u308b\u3002\n",
    "#Alley: Type of alley access to property\n",
    "#\u7269\u4ef6\u306b\u30a2\u30af\u30bb\u30b9\u3059\u308b\u305f\u3081\u306e\u9053\u306e\u7a2e\u985e\uff08\u7802\u5229\u306a\u306e\u304b\u8217\u88c5\u3055\u308c\u3066\u3044\u308b\u306e\u304b\uff09\u3092\u8868\u3059\u3002\u8a72\u5f53\u3057\u306a\u3044\u5834\u5408\u306fNA\u3068\u306a\u308b\n",
    "#Fence: Fence quality\n",
    "#\u30d5\u30a7\u30f3\u30b9\u306e\u8cea\u3092\u8868\u3059\u3002\u30d5\u30a7\u30f3\u30b9\u304c\u306a\u3044\u5834\u5408\u306fNA\u3068\u306a\u308b\u3002\n",
    "#FireplaceQu: Fireplace quality\n",
    "#\u6696\u7089\u306e\u54c1\u8cea\u3092\u8868\u3059\u3002\u6696\u7089\u304c\u306a\u3044\u5834\u5408\u306fNA\u3068\u306a\u308b\u3002\n",
    "#LotFrontage: Linear feet of street connected to property\n",
    "#\u7269\u4ef6\u306b\u96a3\u63a5\u3057\u305f\u9053\u8def\u306e\u9577\u3055\u3002\n",
    "#\u6b20\u640d\u5024\u304c\u591a\u3044\u5909\u6570\u306b\u95a2\u3057\u3066\u306f\u3001\u30c7\u30fc\u30bf\u304c\u6b20\u640d\u3057\u3066\u3044\u308b\u3068\u3044\u3046\u308f\u3051\u3067\u306f\u306a\u304f\u3001\u6b20\u640d\uff1d\u305d\u3082\u305d\u3082\u305d\u306e\u8a2d\u5099\u304c\u306a\u3044\u3053\u3068\u3092\u8868\u3057\u3066\u3044\u308b\u3088\u3046\u3067\u3059\u306d\u3002\n",
    "#\u6b21\u306b\u6b20\u640d\u5024\u304c\u3042\u308b\u5909\u6570\u306e\u30c7\u30fc\u30bf\u578b\u3092\u78ba\u8a8d\u3057\u307e\u3059\u3002"
   ]
  },
  {
   "cell_type": "code",
   "execution_count": 28,
   "metadata": {},
   "outputs": [
    {
     "data": {
      "text/plain": [
       "GarageArea      float64\n",
       "TotalBsmtSF     float64\n",
       "TotalSF         float64\n",
       "BsmtFinSF1      float64\n",
       "BsmtFinSF2      float64\n",
       "GarageYrBlt     float64\n",
       "BsmtFullBath    float64\n",
       "BsmtHalfBath    float64\n",
       "GarageCars      float64\n",
       "BsmtUnfSF       float64\n",
       "MasVnrArea      float64\n",
       "LotFrontage     float64\n",
       "GarageType       object\n",
       "KitchenQual      object\n",
       "MasVnrType       object\n",
       "MiscFeature      object\n",
       "PoolQC           object\n",
       "SaleType         object\n",
       "MSZoning         object\n",
       "GarageQual       object\n",
       "Alley            object\n",
       "GarageCond       object\n",
       "Functional       object\n",
       "FireplaceQu      object\n",
       "Fence            object\n",
       "Exterior2nd      object\n",
       "Exterior1st      object\n",
       "Electrical       object\n",
       "BsmtQual         object\n",
       "BsmtFinType2     object\n",
       "BsmtFinType1     object\n",
       "BsmtExposure     object\n",
       "BsmtCond         object\n",
       "GarageFinish     object\n",
       "Utilities        object\n",
       "dtype: object"
      ]
     },
     "execution_count": 28,
     "metadata": {},
     "output_type": "execute_result"
    }
   ],
   "source": [
    "# \u6b20\u640d\u5024\u304c\u3042\u308b\u30ab\u30e9\u30e0\u3092\u30ea\u30b9\u30c8\u5316\n",
    "na_col_list = all_data.isnull().sum()[all_data.isnull().sum()>0].index.tolist()\n",
    "\n",
    "#\u6b20\u640d\u304c\u3042\u308b\u30ab\u30e9\u30e0\u306e\u30c7\u30fc\u30bf\u578b\u3092\u78ba\u8a8d\n",
    "all_data[na_col_list].dtypes.sort_values()"
   ]
  },
  {
   "cell_type": "code",
   "execution_count": 29,
   "metadata": {},
   "outputs": [],
   "source": [
    "#float\u3068object\u3067\u3059\u306d\u3002float\u578b\u306e\u5834\u5408\u306f0\u3001object\u306e\u5834\u5408\u306f\u201dNone\u201d\u3067\u7f6e\u63db\u3059\u308b\u3053\u3068\u306b\u3057\u307e\u3057\u3087\u3046\u3002\n",
    "#\u305f\u3060\u3057\u3001\u96a3\u63a5\u3057\u305f\u9053\u8def\u306e\u9577\u3055\uff08LotFrontage\uff09\u306b\u95a2\u3057\u3066\u306f\u540c\u3058\u5730\u533a\u3068\u4ed6\u306e\u7269\u4ef6\u3068\u540c\u3058\u3068\u601d\u308f\u308c\u308b\u306e\u3067\u3001\u540c\u3058\u5730\u533a\u306e\u4e2d\u592e\u5024\u3092\u3068\u308b\u3053\u3068\u306b\u3057\u307e\u3059\u3002"
   ]
  },
  {
   "cell_type": "code",
   "execution_count": 30,
   "metadata": {},
   "outputs": [
    {
     "data": {
      "text/plain": [
       "Series([], dtype: int64)"
      ]
     },
     "execution_count": 30,
     "metadata": {},
     "output_type": "execute_result"
    }
   ],
   "source": [
    "#\u96a3\u63a5\u3057\u305f\u9053\u8def\u306e\u9577\u3055\uff08LotFrontage\uff09\u306e\u6b20\u640d\u5024\u306e\u88dc\u5b8c\n",
    "all_data['LotFrontage'] = all_data.groupby('Neighborhood')['LotFrontage'].transform(lambda x: x.fillna(x.median()))\n",
    "\n",
    "#\u6b20\u640d\u5024\u304c\u5b58\u5728\u3059\u308b\u304b\u3064float\u578b\u306e\u30ea\u30b9\u30c8\u3092\u4f5c\u6210\n",
    "float_list = all_data[na_col_list].dtypes[all_data[na_col_list].dtypes == \"float64\"].index.tolist()\n",
    "\n",
    "#\u6b20\u640d\u5024\u304c\u5b58\u5728\u3059\u308b\u304b\u3064object\u578b\u306e\u30ea\u30b9\u30c8\u3092\u4f5c\u6210\n",
    "obj_list = all_data[na_col_list].dtypes[all_data[na_col_list].dtypes == \"object\"].index.tolist()\n",
    "\n",
    "#float\u578b\u306e\u5834\u5408\u306f\u6b20\u640d\u5024\u30920\u3067\u7f6e\u63db\n",
    "all_data[float_list] = all_data[float_list].fillna(0)\n",
    "\n",
    "#object\u578b\u306e\u5834\u5408\u306f\u6b20\u640d\u5024\u3092\"None\"\u3067\u7f6e\u63db\n",
    "all_data[obj_list] = all_data[obj_list].fillna(\"None\")\n",
    "\n",
    "#\u6b20\u640d\u5024\u304c\u5168\u3066\u7f6e\u63db\u3067\u304d\u3066\u3044\u308b\u304b\u78ba\u8a8d\n",
    "all_data.isnull().sum()[all_data.isnull().sum() > 0]"
   ]
  },
  {
   "cell_type": "code",
   "execution_count": 31,
   "metadata": {},
   "outputs": [],
   "source": [
    "#\u3055\u304d\u307b\u3069\u306f\u30ab\u30c6\u30b4\u30ea\u5909\u6570\u3092\u51e6\u7406\u3057\u307e\u3057\u305f\u304c\u3001\u7d9a\u3044\u3066\u306f\u6570\u5024\u5909\u6570\u3067\u3059\u3002\n",
    "#\u6570\u5024\u5909\u6570\u306f\u57fa\u672c\u306f\u305d\u306e\u307e\u307e\u30e2\u30c7\u30eb\u306e\u5165\u529b\u306b\u4f7f\u3048\u307e\u3059\u304c\u3001\u30c7\u30fc\u30bf\u4e0a\u306f\u6570\u5024\u3067\u3042\u3063\u3066\u3082\u5024\u306e\u5927\u304d\u3055\u3084\u9806\u756a\u306b\u610f\u5473\u306e\u306a\u3044\u3082\u306e\u306f\u30ab\u30c6\u30b4\u30ea\u5909\u6570\u3068\u3057\u3066\u6271\u3046\u3079\u304d\u3067\u3059\u3002\n",
    "#\u3082\u3046\u4e00\u5ea6\u30c7\u30fc\u30bf\u306e\u5b9a\u7fa9\u3092\u898b\u3066\u307f\u308b\u3068\u3001\u4ee5\u4e0b\u306e\u5909\u6570\u306f\u6570\u5024\u5909\u6570\u3067\u306f\u306a\u304f\u30ab\u30c6\u30b4\u30ea\u5909\u6570\u3068\u3057\u3066\u6271\u3063\u305f\u307b\u3046\u304c\u826f\u3055\u305d\u3046\u3067\u3059\u3002\n",
    "\n",
    "#MSSubClass: Identifies the type of dwelling involved in the sale\n",
    "#\u4f4f\u5b85\u306e\u7a2e\u985e\u3092\u8868\u3059\u3002\u6570\u5024\u306f\u3069\u306e\u7a2e\u985e\u306b\u5f53\u3066\u306f\u307e\u308b\u304b\u3092\u8868\u3059\u3060\u3051\u3067\u5927\u304d\u3055\u3084\u9806\u5e8f\u306b\u610f\u5473\u306f\u306a\u3044\u3002\n",
    "#YrSold: Year Sold (YYYY)\n",
    "#\u8ca9\u58f2\u5e74\n",
    "#MoSold: Month Sold (MM)\n",
    "#\u8ca9\u58f2\u6708"
   ]
  },
  {
   "cell_type": "code",
   "execution_count": 32,
   "metadata": {},
   "outputs": [],
   "source": [
    "# \u30ab\u30c6\u30b4\u30ea\u5909\u6570\u306b\u5909\u63db\u3059\u308b\n",
    "all_data['MSSubClass'] = all_data['MSSubClass'].apply(str)\n",
    "all_data['YrSold'] = all_data['YrSold'].astype(str)\n",
    "all_data['MoSold'] = all_data['MoSold'].astype(str)"
   ]
  },
  {
   "cell_type": "code",
   "execution_count": 33,
   "metadata": {},
   "outputs": [],
   "source": [
    "#\u63a2\u7d22\u7684\u30c7\u30fc\u30bf\u5206\u6790\u306e\u30d5\u30a7\u30fc\u30ba\u3067\u76ee\u7684\u5909\u6570\u3067\u3042\u308bSalesPrice\u304c\u6b63\u898f\u5206\u5e03\u306b\u306a\u3063\u3066\u3044\u306a\u3044\u3053\u3068\u304c\u308f\u304b\u308a\u307e\u3057\u305f\u3002\n",
    "#\u3053\u3061\u3089\u3092\u6b63\u898f\u5206\u5e03\u306b\u5909\u63db\u3057\u307e\u3059\u3002"
   ]
  },
  {
   "cell_type": "code",
   "execution_count": 34,
   "metadata": {},
   "outputs": [],
   "source": [
    "#\u76ee\u7684\u5909\u6570\u306e\u5bfe\u6570log(x+1)\u3092\u3068\u308b\n",
    "train_y = np.log1p(train_y)\n",
    "\n",
    "#\u5206\u5e03\u3092\u53ef\u8996\u5316\n",
    "# FIRST-AUTHOR: remove plotting\n",
    "# plt.figure(figsize=(20, 10))\n",
    "# sns.distplot(train_y)"
   ]
  },
  {
   "cell_type": "code",
   "execution_count": 35,
   "metadata": {},
   "outputs": [],
   "source": [
    "#\u540c\u69d8\u306b\u8aac\u660e\u5909\u6570\u306b\u95a2\u3057\u3066\u3082\u6b63\u898f\u5206\u5e03\u306b\u3057\u305f\u304c\u3063\u3066\u3044\u306a\u3044\u3082\u306e\u306f\u5bfe\u6570\u5909\u63db\u3057\u3066\u3044\u304d\u307e\u3059\u3002\n",
    "#\u5404\u8aac\u660e\u5909\u6570\u306b\u5bfe\u3057\u3066\u6b6a\u5ea6\u3092\u8a08\u7b97\u3057\u30010.5\u3088\u308a\u3082\u5927\u304d\u3044\u5834\u5408\u306f\u5bfe\u6570\u5909\u63db\u3059\u308b\u3053\u3068\u306b\u3057\u307e\u3059\u3002"
   ]
  },
  {
   "cell_type": "code",
   "execution_count": 36,
   "metadata": {},
   "outputs": [],
   "source": [
    "#\u6570\u5024\u306e\u8aac\u660e\u5909\u6570\u306e\u30ea\u30b9\u30c8\u3092\u4f5c\u6210\n",
    "num_feats = all_data.dtypes[all_data.dtypes != \"object\" ].index\n",
    "\n",
    "#\u5404\u8aac\u660e\u5909\u6570\u306e\u6b6a\u5ea6\u3092\u8a08\u7b97\n",
    "skewed_feats = all_data[num_feats].apply(lambda x: x.skew()).sort_values(ascending = False)\n",
    "\n",
    "#\u30b0\u30e9\u30d5\u5316\n",
    "# FIRST-AUTHOR: remove plotting\n",
    "# plt.figure(figsize=(20,10))\n",
    "# plt.xticks(rotation='90')\n",
    "# sns.barplot(x=skewed_feats.index, y=skewed_feats)\n",
    "_ = skewed_feats.index"
   ]
  },
  {
   "cell_type": "code",
   "execution_count": 37,
   "metadata": {},
   "outputs": [],
   "source": [
    "#\u3061\u306a\u307f\u306bBox-Cox\u5909\u63db\u306f0\u4ee5\u4e0b\u306e\u5024\u3092\u3068\u308b\u5909\u6570\u306b\u306f\u4f7f\u7528\u3067\u304d\u306a\u3044\u305f\u3081\u3001\u5404\u5909\u6570\u306e\u6700\u5c0f\u5024\u3092\u898b\u3066\u307f\u307e\u3059\u3002"
   ]
  },
  {
   "cell_type": "code",
   "execution_count": 38,
   "metadata": {},
   "outputs": [
    {
     "name": "stdout",
     "output_type": "stream",
     "text": [
      "0\n",
      "0\n",
      "1300\n",
      "0\n",
      "0\n",
      "0\n",
      "0.0\n",
      "0\n",
      "0\n",
      "0.0\n",
      "0.0\n",
      "0\n",
      "0\n",
      "334\n",
      "21.0\n",
      "0.0\n",
      "334\n",
      "0.0\n",
      "0.0\n",
      "0\n",
      "2\n",
      "0\n",
      "0\n",
      "0.0\n",
      "0.0\n",
      "1\n",
      "1872\n",
      "0.0\n"
     ]
    }
   ],
   "source": [
    "#\u6b6a\u5ea6\u306e\u7d76\u5bfe\u5024\u304c0.5\u3088\u308a\u5927\u304d\u3044\u5909\u6570\u3060\u3051\u306b\u7d5e\u308b\n",
    "skewed_feats_over = skewed_feats[abs(skewed_feats) > 0.5].index\n",
    "\n",
    "#\u5404\u5909\u6570\u306e\u6700\u5c0f\u5024\u3092\u8868\u793a\n",
    "for i in skewed_feats_over:\n",
    "    print(min(all_data[i]))"
   ]
  },
  {
   "cell_type": "code",
   "execution_count": 39,
   "metadata": {},
   "outputs": [],
   "source": [
    "#\u8ca0\u306e\u5024\u306f\u306a\u3044\u3067\u3059\u304c\u30010\u304c\u542b\u307e\u308c\u308b\u5909\u6570\u304c\u3042\u308a\u307e\u3059\u306d\u3001\u3001\u3001\n",
    "#\u4eca\u56de\u306fBox-Cox\u5909\u63db\u3067\u306f\u306a\u304f\u3001\uff10\u4ee5\u4e0b\u306e\u5024\u3092\u6301\u3064\u5909\u6570\u306b\u3082\u9069\u7528\u53ef\u80fd\u306aYeo-Johnson\u5909\u63db\u3092\u4f7f\u3044\u305f\u3044\u3068\u601d\u3044\u307e\u3059\u3002"
   ]
  },
  {
   "cell_type": "code",
   "execution_count": 40,
   "metadata": {},
   "outputs": [],
   "source": [
    "#Yeo-Johnson\u5909\u63db\n",
    "# FIRST-AUTHOR: remove ML code\n",
    "# pt = PowerTransformer()\n",
    "# pt.fit(all_data[skewed_feats_over])\n",
    "\n",
    "# #\u5909\u63db\u5f8c\u306e\u30c7\u30fc\u30bf\u3067\u5404\u5217\u3092\u7f6e\u63db\n",
    "# all_data[skewed_feats_over] = pt.transform(all_data[skewed_feats_over])\n",
    "_ = all_data[skewed_feats_over]\n",
    "all_data[skewed_feats_over] = all_data[skewed_feats_over]\n",
    "\n",
    "#\u5404\u8aac\u660e\u5909\u6570\u306e\u6b6a\u5ea6\u3092\u8a08\u7b97\n",
    "skewed_feats_fixed = all_data[skewed_feats_over].apply(lambda x: x.skew()).sort_values(ascending = False)\n",
    "\n",
    "#\u30b0\u30e9\u30d5\u5316\n",
    "# FIRST-AUTHOR: remove plotting\n",
    "# plt.figure(figsize=(20,10))\n",
    "# plt.xticks(rotation='90')\n",
    "# sns.barplot(x=skewed_feats_fixed.index, y=skewed_feats_fixed)\n",
    "_ = skewed_feats_fixed.index"
   ]
  },
  {
   "cell_type": "code",
   "execution_count": 41,
   "metadata": {},
   "outputs": [],
   "source": [
    "#\u540c\u3058\u304fSalesPrice\u3092\u4e88\u6e2c\u3059\u308b\u300cZillow Prize: Zillow\u2019s Home Value Prediction\u300d\u3067\u3001\u7269\u4ef6\u306e\u9762\u7a4d\u3092\u90e8\u5c4b\u6570\u3067\u5272\u3063\u305f\uff11\u90e8\u5c4b\u5f53\u305f\u308a\u306e\u9762\u7a4d\u3068\u3044\u3046\u7279\u5fb4\u91cf\u3092\u8ffd\u52a0\u3057\u305f\u3053\u3068\u3067\u7cbe\u5ea6\u304c\u4e0a\u304c\u3063\u305f\u3001\u3068\u3044\u3046\u3053\u3068\u304c\u3042\u3063\u305f\u305d\u3046\u306a\u306e\u3067\u4eca\u56de\u3082\u8ffd\u52a0\u3057\u3066\u307f\u307e\u3059\u3002"
   ]
  },
  {
   "cell_type": "code",
   "execution_count": 42,
   "metadata": {},
   "outputs": [],
   "source": [
    "#\u7279\u5fb4\u91cf\u306b1\u90e8\u5c4b\u3042\u305f\u308a\u306e\u9762\u7a4d\u3092\u8ffd\u52a0\n",
    "all_data[\"FeetPerRoom\"] =  all_data[\"TotalSF\"]/all_data[\"TotRmsAbvGrd\"]\n",
    "\n",
    "#\u305d\u306e\u4ed6\u6709\u52b9\u305d\u3046\u306a\u3082\u306e\u3092\u8ffd\u52a0\u3059\u308b\n",
    "\n",
    "#\u5efa\u7bc9\u3057\u305f\u5e74\u3068\u30ea\u30d5\u30a9\u30fc\u30e0\u3057\u305f\u5e74\u306e\u5408\u8a08\n",
    "all_data['YearBuiltAndRemod']=all_data['YearBuilt']+all_data['YearRemodAdd']\n",
    "\n",
    "#\u30d0\u30b9\u30eb\u30fc\u30e0\u306e\u5408\u8a08\u9762\u7a4d\n",
    "all_data['Total_Bathrooms'] = (all_data['FullBath'] + (0.5 * all_data['HalfBath']) +\n",
    "                               all_data['BsmtFullBath'] + (0.5 * all_data['BsmtHalfBath']))\n",
    "\n",
    "#\u7e01\u5074\u306e\u5408\u8a08\u9762\u7a4d\n",
    "all_data['Total_porch_sf'] = (all_data['OpenPorchSF'] + all_data['3SsnPorch'] +\n",
    "                              all_data['EnclosedPorch'] + all_data['ScreenPorch'] +\n",
    "                              all_data['WoodDeckSF'])\n",
    "\n",
    "#\u30d7\u30fc\u30eb\u306e\u6709\u7121\n",
    "all_data['haspool'] = all_data['PoolArea'].apply(lambda x: 1 if x > 0 else 0)\n",
    "\n",
    "#2\u968e\u306e\u6709\u7121\n",
    "all_data['has2ndfloor'] = all_data['2ndFlrSF'].apply(lambda x: 1 if x > 0 else 0)\n",
    "\n",
    "#\u30ac\u30ec\u30fc\u30b8\u306e\u6709\u7121\n",
    "all_data['hasgarage'] = all_data['GarageArea'].apply(lambda x: 1 if x > 0 else 0)\n",
    "\n",
    "#\u5730\u4e0b\u5ba4\u306e\u6709\u7121\n",
    "all_data['hasbsmt'] = all_data['TotalBsmtSF'].apply(lambda x: 1 if x > 0 else 0)\n",
    "\n",
    "#\u6696\u7089\u306e\u6709\u7121\n",
    "all_data['hasfireplace'] = all_data['Fireplaces'].apply(lambda x: 1 if x > 0 else 0)"
   ]
  },
  {
   "cell_type": "code",
   "execution_count": 43,
   "metadata": {},
   "outputs": [
    {
     "data": {
      "text/plain": [
       "object     46\n",
       "int64      29\n",
       "float64    14\n",
       "dtype: int64"
      ]
     },
     "execution_count": 43,
     "metadata": {},
     "output_type": "execute_result"
    }
   ],
   "source": [
    "#\u5404\u30ab\u30e9\u30e0\u306e\u30c7\u30fc\u30bf\u578b\u3092\u78ba\u8a8d\n",
    "all_data.dtypes.value_counts()"
   ]
  },
  {
   "cell_type": "code",
   "execution_count": 44,
   "metadata": {},
   "outputs": [],
   "source": [
    "#\u30ab\u30c6\u30b4\u30ea\u5909\u6570\u306f46\u3064\u3042\u308a\u307e\u3059\u3002\n",
    "\n",
    "#\u5b66\u7fd2\u30c7\u30fc\u30bf\u306b\u306f\u5b58\u5728\u305b\u305a\u3001\u30c6\u30b9\u30c8\u30c7\u30fc\u30bf\u306e\u307f\u306b\u5b58\u5728\u3059\u308b\u30ab\u30c6\u30b4\u30ea\u5909\u6570\u304c\u5b58\u5728\u3059\u308b\u3068\u30e2\u30c7\u30eb\u304c\u305d\u306e\u30ab\u30c6\u30b4\u30ea\u3092\u5b66\u7fd2\u3067\u304d\u305a\u3001\u4e88\u6e2c\u5024\u304c\u304a\u304b\u3057\u304f\u306a\u308b\u53ef\u80fd\u6027\u304c\u3042\u308a\u307e\u3059\u3002\n",
    "#\u30c6\u30b9\u30c8\u30c7\u30fc\u30bf\u306e\u307f\u306b\u5b58\u5728\u3059\u308b\u30ab\u30c6\u30b4\u30ea\u5909\u6570\u304c\u5b58\u5728\u3057\u306a\u3044\u304b\u3092\u78ba\u8a8d\u3057\u307e\u3057\u3087\u3046\u3002"
   ]
  },
  {
   "cell_type": "code",
   "execution_count": 45,
   "metadata": {},
   "outputs": [
    {
     "name": "stdout",
     "output_type": "stream",
     "text": [
      "<class 'pandas.core.frame.DataFrame'>\n",
      "Int64Index: 1449 entries, 0 to 1459\n",
      "Data columns (total 46 columns):\n",
      " #   Column         Non-Null Count  Dtype \n",
      "---  ------         --------------  ----- \n",
      " 0   Alley          91 non-null     object\n",
      " 1   BldgType       1449 non-null   object\n",
      " 2   BsmtCond       1412 non-null   object\n",
      " 3   BsmtExposure   1411 non-null   object\n",
      " 4   BsmtFinType1   1412 non-null   object\n",
      " 5   BsmtFinType2   1411 non-null   object\n",
      " 6   BsmtQual       1412 non-null   object\n",
      " 7   CentralAir     1449 non-null   object\n",
      " 8   Condition1     1449 non-null   object\n",
      " 9   Condition2     1449 non-null   object\n",
      " 10  Electrical     1448 non-null   object\n",
      " 11  ExterCond      1449 non-null   object\n",
      " 12  ExterQual      1449 non-null   object\n",
      " 13  Exterior1st    1449 non-null   object\n",
      " 14  Exterior2nd    1449 non-null   object\n",
      " 15  Fence          280 non-null    object\n",
      " 16  FireplaceQu    759 non-null    object\n",
      " 17  Foundation     1449 non-null   object\n",
      " 18  Functional     1449 non-null   object\n",
      " 19  GarageCond     1368 non-null   object\n",
      " 20  GarageFinish   1368 non-null   object\n",
      " 21  GarageQual     1368 non-null   object\n",
      " 22  GarageType     1368 non-null   object\n",
      " 23  Heating        1449 non-null   object\n",
      " 24  HeatingQC      1449 non-null   object\n",
      " 25  HouseStyle     1449 non-null   object\n",
      " 26  KitchenQual    1449 non-null   object\n",
      " 27  LandContour    1449 non-null   object\n",
      " 28  LandSlope      1449 non-null   object\n",
      " 29  LotConfig      1449 non-null   object\n",
      " 30  LotShape       1449 non-null   object\n",
      " 31  MSSubClass     1449 non-null   int64 \n",
      " 32  MSZoning       1449 non-null   object\n",
      " 33  MasVnrType     1441 non-null   object\n",
      " 34  MiscFeature    54 non-null     object\n",
      " 35  MoSold         1449 non-null   int64 \n",
      " 36  Neighborhood   1449 non-null   object\n",
      " 37  PavedDrive     1449 non-null   object\n",
      " 38  PoolQC         5 non-null      object\n",
      " 39  RoofMatl       1449 non-null   object\n",
      " 40  RoofStyle      1449 non-null   object\n",
      " 41  SaleCondition  1449 non-null   object\n",
      " 42  SaleType       1449 non-null   object\n",
      " 43  Street         1449 non-null   object\n",
      " 44  Utilities      1449 non-null   object\n",
      " 45  YrSold         1449 non-null   int64 \n",
      "dtypes: int64(3), object(43)\n",
      "memory usage: 532.1+ KB\n"
     ]
    }
   ],
   "source": [
    "#\u30ab\u30c6\u30b4\u30ea\u5909\u6570\u3068\u306a\u3063\u3066\u3044\u308b\u30ab\u30e9\u30e0\u3092\u53d6\u308a\u51fa\u3059\n",
    "cal_list = all_data.dtypes[all_data.dtypes==\"object\"].index.tolist()\n",
    "\n",
    "#\u5b66\u7fd2\u30c7\u30fc\u30bf\u306b\u304a\u3051\u308b\u30ab\u30c6\u30b4\u30ea\u5909\u6570\u306e\u30c7\u30fc\u30bf\u6570\u3092\u78ba\u8a8d\n",
    "train_x[cal_list].info()"
   ]
  },
  {
   "cell_type": "code",
   "execution_count": 46,
   "metadata": {},
   "outputs": [],
   "source": [
    "#\u5b66\u7fd2\u30c7\u30fc\u30bf\u306e\u4e2d\u306b\u6570\u304c0\u3068\u306a\u3063\u3066\u3044\u308b\u30ab\u30c6\u30b4\u30ea\u5909\u6570\u306f\u306a\u3044\u3088\u3046\u3067\u3059\u306e\u3067\u305d\u306e\u307e\u307e\u9032\u3081\u3066\u3044\u304d\u307e\u3059\u3002"
   ]
  },
  {
   "cell_type": "code",
   "execution_count": 47,
   "metadata": {},
   "outputs": [],
   "source": [
    "#\u30ab\u30c6\u30b4\u30ea\u5909\u6570\u306e\u30a8\u30f3\u30b3\u30fc\u30c7\u30a3\u30f3\u30b0\u65b9\u6cd5\u306f\u3055\u307e\u3056\u307e\u3042\u308a\u307e\u3059\u306e\u304c\u3001\u4eca\u56de\u306fone-hot-encoding\u306b\u3088\u3063\u3066\u30cf\u30f3\u30c9\u30ea\u30f3\u30b0\u3057\u307e\u3059\u3002\n",
    "#one-hot-encoding\u3067\u306f\u3001\u5404\u30ab\u30c6\u30b4\u30ea\u5909\u6570\u3092\uff080,1\uff09\u306e\u4e8c\u5024\u5909\u6570\u3092\u305d\u308c\u305e\u308c\u4f5c\u6210\u3057\u307e\u3059\u3002\u3053\u308c\u3089\u306e\u4e8c\u5024\u5909\u6570\u306f\u300c\u30c0\u30df\u30fc\u5909\u6570\u300d\u3068\u547c\u3070\u308c\u307e\u3059\u3002\n",
    "\n",
    "#pandas\u306eget_dummies\u95a2\u6570\u3067one-hot-encoding\u3092\u884c\u3044\u307e\u3059\u3002"
   ]
  },
  {
   "cell_type": "code",
   "execution_count": 48,
   "metadata": {},
   "outputs": [
    {
     "data": {
      "text/plain": [
       "(2908, 349)"
      ]
     },
     "execution_count": 48,
     "metadata": {},
     "output_type": "execute_result"
    }
   ],
   "source": [
    "#\u30ab\u30c6\u30b4\u30ea\u5909\u6570\u3092get_dummies\u306b\u3088\u308bone-hot-encoding\u3092\u884c\u3046\n",
    "all_data = pd.get_dummies(all_data,columns=cal_list)\n",
    "\n",
    "#\u30b5\u30a4\u30ba\u3092\u78ba\u8a8d\n",
    "all_data.shape"
   ]
  },
  {
   "cell_type": "code",
   "execution_count": 49,
   "metadata": {},
   "outputs": [],
   "source": [
    "#\u524d\u51e6\u7406\u3068\u30a8\u30f3\u30b3\u30fc\u30c7\u30a3\u30f3\u30b0\u304c\u7d42\u308f\u3063\u305f\u306e\u3067\u30c7\u30fc\u30bf\u3092\u5b66\u7fd2\u30c7\u30fc\u30bf\u3068\u30c6\u30b9\u30c8\u30c7\u30fc\u30bf\u306b\u5206\u5272\u3057\u3066\u304a\u304d\u307e\u3059\u3002"
   ]
  },
  {
   "cell_type": "code",
   "execution_count": 50,
   "metadata": {},
   "outputs": [
    {
     "name": "stdout",
     "output_type": "stream",
     "text": [
      "train_x: (1449, 349)\n",
      "test_x: (1459, 349)\n"
     ]
    }
   ],
   "source": [
    "#\u5b66\u7fd2\u30c7\u30fc\u30bf\u3068\u30c6\u30b9\u30c8\u30c7\u30fc\u30bf\u306b\u518d\u5206\u5272\n",
    "train_x = all_data.iloc[:train_x.shape[0],:].reset_index(drop=True)\n",
    "test_x = all_data.iloc[train_x.shape[0]:,:].reset_index(drop=True)\n",
    "\n",
    "#\u30b5\u30a4\u30ba\u3092\u78ba\u8a8d\n",
    "print(\"train_x: \"+str(train_x.shape))\n",
    "print(\"test_x: \"+str(test_x.shape))"
   ]
  },
  {
   "cell_type": "code",
   "execution_count": 51,
   "metadata": {},
   "outputs": [],
   "source": [
    "# FIRST-AUTHOR: remove ML code\n",
    "# from sklearn.ensemble import RandomForestRegressor,  GradientBoostingRegressor\n",
    "# from sklearn.model_selection import KFold, cross_val_score, train_test_split\n",
    "# from sklearn.metrics import mean_squared_error\n",
    "# import xgboost as xgb\n",
    "# from sklearn.model_selection import GridSearchCV\n",
    "# import lightgbm as lgb"
   ]
  },
  {
   "cell_type": "code",
   "execution_count": 52,
   "metadata": {},
   "outputs": [],
   "source": [
    "#\u30e2\u30c7\u30eb\u306e\u8a55\u4fa1\u7528\u306b\u5b66\u7fd2\u30c7\u30fc\u30bf\u3092\u5b66\u7fd2\u306b\u4f7f\u7528\u3059\u308b\u30c7\u30fc\u30bf\u3068\u8a55\u4fa1\u7528\u30c7\u30fc\u30bf\uff08\u30d0\u30ea\u30c7\u30fc\u30b7\u30e7\u30f3\u30c7\u30fc\u30bf\uff09\u306b\u5206\u5272\u3057\u307e\u3059\u3002"
   ]
  },
  {
   "cell_type": "code",
   "execution_count": 53,
   "metadata": {},
   "outputs": [],
   "source": [
    "# \u30c7\u30fc\u30bf\u306e\u5206\u5272\n",
    "# FIRST-AUTHOR: remove ML code\n",
    "# train_x, valid_x, train_y, valid_y = train_test_split(\n",
    "#         train_x,\n",
    "#         train_y,\n",
    "#         test_size=0.3,\n",
    "#         random_state=0)"
   ]
  },
  {
   "cell_type": "code",
   "execution_count": 54,
   "metadata": {},
   "outputs": [],
   "source": [
    "#\u6700\u8fd1\u3001kaggle\u3067\u4eba\u6c17\u3060\u3068\u8a00\u308f\u308c\u3066\u3044\u308bGBDT\uff08\u52fe\u914d\u30d6\u30fc\u30b9\u30c6\u30a3\u30f3\u30b0\u6728\uff09\u3067\u30e2\u30c7\u30eb\u3092\u4f5c\u6210\u3057\u307e\u3059\u3002GBDT\u306f\u30e9\u30f3\u30c0\u30e0\u30d5\u30a9\u30ec\u30b9\u30c8\u3068\u52fe\u914d\u30d6\u30fc\u30b9\u30c6\u30a3\u30f3\u30b0\uff08Gradient Boosting\uff09\u3092\u7d44\u307f\u5408\u308f\u305b\u305f\u30a2\u30f3\u30b5\u30f3\u30d6\u30eb\u3067\u3059\u3002GBDT\u306b\u306f\u4ee5\u4e0b\u306e\u7279\u5fb4\u304c\u3042\u308a\u307e\u3059\u3002\n",
    "\n",
    "#\u7279\u5fb4\u91cf\u306f\u6570\u5024\u3067\u3042\u308b\u5fc5\u8981\u304c\u3042\u308b\n",
    "#\u6b20\u640d\u5024\u306e\u88dc\u5b8c\u304c\u4e0d\u8981"
   ]
  },
  {
   "cell_type": "code",
   "execution_count": 55,
   "metadata": {},
   "outputs": [],
   "source": [
    "#\u7279\u5fb4\u91cf\u3068\u76ee\u7684\u5909\u6570\u3092xgboost\u306e\u30c7\u30fc\u30bf\u69cb\u9020\u306b\u5909\u63db\u3059\u308b\n",
    "# FIRST-AUTHOR: remove ML code\n",
    "# dtrain = xgb.DMatrix(train_x, label=train_y)\n",
    "# dvalid = xgb.DMatrix(valid_x,label=valid_y)\n",
    "\n",
    "# #\u30d1\u30e9\u30e1\u30fc\u30bf\u3092\u6307\u5b9a\u3057\u3066GBDT\n",
    "# num_round = 5000\n",
    "# evallist = [(dvalid, 'eval'), (dtrain, 'train')]\n",
    "\n",
    "# evals_result = {}\n",
    "\n",
    "# #\u30d1\u30e9\u30e1\u30fc\u30bf\n",
    "# param = {\n",
    "#             'max_depth': 3,\n",
    "#             'eta': 0.01,\n",
    "#             'objective': 'reg:squarederror',\n",
    "# }\n",
    "\n",
    "# #\u5b66\u7fd2\u306e\u5b9f\u884c\n",
    "# bst = xgb.train(\n",
    "#                         param, dtrain,\n",
    "#                         num_round,\n",
    "#                         evallist,\n",
    "#                         evals_result=evals_result,\n",
    "#                         # \u4e00\u5b9a\u30e9\u30a6\u30f3\u30c9\u56de\u3057\u3066\u3082\u6539\u5584\u304c\u898b\u8fbc\u3081\u306a\u3044\u5834\u5408\u306f\u5b66\u7fd2\u3092\u6253\u3061\u5207\u308b\n",
    "#                         early_stopping_rounds=1000\n",
    "# )"
   ]
  },
  {
   "cell_type": "code",
   "execution_count": 56,
   "metadata": {},
   "outputs": [],
   "source": [
    "#\u5b66\u7fd2\u66f2\u7dda\u3092\u53ef\u8996\u5316\u3059\u308b\n",
    "# FIRST-AUTHOR: remove plotting, ML code\n",
    "# plt.figure(figsize=(20, 10))\n",
    "# train_metric = evals_result['train']['rmse']\n",
    "# plt.plot(train_metric, label='train rmse')\n",
    "# eval_metric = evals_result['eval']['rmse']\n",
    "# plt.plot(eval_metric, label='eval rmse')\n",
    "# plt.grid()\n",
    "# plt.legend()\n",
    "# plt.xlabel('rounds')\n",
    "# plt.ylabel('rmse')\n",
    "# plt.ylim(0, 0.3)\n",
    "# plt.show()"
   ]
  },
  {
   "cell_type": "code",
   "execution_count": 57,
   "metadata": {},
   "outputs": [],
   "source": [
    "#\u7279\u5fb4\u91cf\u3054\u3068\u306e\u91cd\u8981\u5ea6\u3092\u53ef\u8996\u5316\u3059\u308b\n",
    "# FIRST-AUTHOR: remove plotting\n",
    "# ax = xgb.plot_importance(bst)\n",
    "# fig = ax.figure\n",
    "# fig.set_size_inches(10, 30)"
   ]
  },
  {
   "cell_type": "code",
   "execution_count": 58,
   "metadata": {},
   "outputs": [],
   "source": [
    "# FIRST-AUTHOR: remove ML code\n",
    "# dtest = xgb.DMatrix(test_x)\n",
    "my_submission = pd.DataFrame()\n",
    "my_submission[\"Id\"] = test_ID\n",
    "# FIRST-AUTHOR: remove ML code\n",
    "# my_submission[\"SalePrice\"] = np.exp(bst.predict(dtest))\n",
    "# you could use any filename. We choose submission here\n",
    "my_submission.to_csv('submission.csv', index=False)"
   ]
  }
 ],
 "metadata": {
  "kernelspec": {
   "display_name": "Python 3 (ipykernel)",
   "language": "python",
   "name": "python3"
  },
  "language_info": {
   "codemirror_mode": {
    "name": "ipython",
    "version": 3
   },
   "file_extension": ".py",
   "mimetype": "text/x-python",
   "name": "python",
   "nbconvert_exporter": "python",
   "pygments_lexer": "ipython3",
   "version": "3.10.16"
  }
 },
 "nbformat": 4,
 "nbformat_minor": 4
}