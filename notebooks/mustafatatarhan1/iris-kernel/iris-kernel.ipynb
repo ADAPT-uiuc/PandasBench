{
 "cells": [
  {
   "cell_type": "code",
   "execution_count": null,
   "metadata": {},
   "outputs": [],
   "source": [
    "import os\n",
    "\n",
    "def scale_input_data(scale_factor):\n",
    "  file_bases = ['./input/iris']\n",
    "  for file_base in file_bases:\n",
    "    import pandas as pd\n",
    "    import shutil\n",
    "    if scale_factor == 1.0:\n",
    "      shutil.copyfile(file_base + '.csv', file_base + '.scaled.csv')\n",
    "      continue\n",
    "    df_to_scale = pd.read_csv(file_base + '.csv')\n",
    "    new_num_rows = int(scale_factor * len(df_to_scale))\n",
    "    if scale_factor <= 1.0:\n",
    "      df_to_scale = df_to_scale.iloc[:new_num_rows]\n",
    "    else:\n",
    "      while len(df_to_scale) < new_num_rows:\n",
    "        df_to_scale = pd.concat([df_to_scale, df_to_scale[:min(new_num_rows - len(df_to_scale), len(df_to_scale))]])\n",
    "    df_to_scale.to_csv(file_base + '.scaled.csv', index=False)\n",
    "\n",
    "if 'INPUT_SCALE_FACTOR' in os.environ:\n",
    "  scale_input_data(float(os.environ['INPUT_SCALE_FACTOR']))"
   ]
  },
  {
   "cell_type": "markdown",
   "metadata": {},
   "source": [
    "## Ke\u015fif\u00e7i Veri Analizi | Becerileri Peki\u015ftirme"
   ]
  },
  {
   "cell_type": "markdown",
   "metadata": {},
   "source": [
    "A\u015fa\u011f\u0131da ihtiyac\u0131m\u0131z do\u011frultusunda kullanaca\u011f\u0131m\u0131z k\u00fct\u00fcphaneleri y\u00fckleyelim."
   ]
  },
  {
   "cell_type": "code",
   "execution_count": 1,
   "metadata": {},
   "outputs": [],
   "source": [
    "import numpy as np\n",
    "# FIRST-AUTHOR: remove plotting\n",
    "# import seaborn as sns\n",
    "# import pandas as pd\n",
    "exec(os.environ['IREWR_IMPORTS'])"
   ]
  },
  {
   "cell_type": "markdown",
   "metadata": {},
   "source": [
    "Veri \u00e7er\u00e7evemizi bulundu\u011fumuz dizinden y\u00fckleyelim ve bir veri \u00e7er\u00e7evesi haline getirerek df de\u011fi\u015fkenine atayal\u0131m. (pd.read_csv(...csv))"
   ]
  },
  {
   "cell_type": "code",
   "execution_count": 2,
   "metadata": {},
   "outputs": [],
   "source": [
    "df = pd.read_csv(\"./input/iris.scaled.csv\")"
   ]
  },
  {
   "cell_type": "markdown",
   "metadata": {},
   "source": [
    "Veri \u00e7er\u00e7evesinin ilk 5 g\u00f6zlemini g\u00f6r\u00fcnt\u00fcleyelim."
   ]
  },
  {
   "cell_type": "code",
   "execution_count": 3,
   "metadata": {},
   "outputs": [
    {
     "data": {
      "text/html": [
       "<div>\n",
       "<style scoped>\n",
       "    .dataframe tbody tr th:only-of-type {\n",
       "        vertical-align: middle;\n",
       "    }\n",
       "\n",
       "    .dataframe tbody tr th {\n",
       "        vertical-align: top;\n",
       "    }\n",
       "\n",
       "    .dataframe thead th {\n",
       "        text-align: right;\n",
       "    }\n",
       "</style>\n",
       "<table border=\"1\" class=\"dataframe\">\n",
       "  <thead>\n",
       "    <tr style=\"text-align: right;\">\n",
       "      <th></th>\n",
       "      <th>sepal.length</th>\n",
       "      <th>sepal.width</th>\n",
       "      <th>petal.length</th>\n",
       "      <th>petal.width</th>\n",
       "      <th>variety</th>\n",
       "    </tr>\n",
       "  </thead>\n",
       "  <tbody>\n",
       "    <tr>\n",
       "      <th>0</th>\n",
       "      <td>5.1</td>\n",
       "      <td>3.5</td>\n",
       "      <td>1.4</td>\n",
       "      <td>0.2</td>\n",
       "      <td>Setosa</td>\n",
       "    </tr>\n",
       "    <tr>\n",
       "      <th>1</th>\n",
       "      <td>4.9</td>\n",
       "      <td>3.0</td>\n",
       "      <td>1.4</td>\n",
       "      <td>0.2</td>\n",
       "      <td>Setosa</td>\n",
       "    </tr>\n",
       "    <tr>\n",
       "      <th>2</th>\n",
       "      <td>4.7</td>\n",
       "      <td>3.2</td>\n",
       "      <td>1.3</td>\n",
       "      <td>0.2</td>\n",
       "      <td>Setosa</td>\n",
       "    </tr>\n",
       "    <tr>\n",
       "      <th>3</th>\n",
       "      <td>4.6</td>\n",
       "      <td>3.1</td>\n",
       "      <td>1.5</td>\n",
       "      <td>0.2</td>\n",
       "      <td>Setosa</td>\n",
       "    </tr>\n",
       "    <tr>\n",
       "      <th>4</th>\n",
       "      <td>5.0</td>\n",
       "      <td>3.6</td>\n",
       "      <td>1.4</td>\n",
       "      <td>0.2</td>\n",
       "      <td>Setosa</td>\n",
       "    </tr>\n",
       "  </tbody>\n",
       "</table>\n",
       "</div>"
      ],
      "text/plain": [
       "   sepal.length  sepal.width  petal.length  petal.width variety\n",
       "0           5.1          3.5           1.4          0.2  Setosa\n",
       "1           4.9          3.0           1.4          0.2  Setosa\n",
       "2           4.7          3.2           1.3          0.2  Setosa\n",
       "3           4.6          3.1           1.5          0.2  Setosa\n",
       "4           5.0          3.6           1.4          0.2  Setosa"
      ]
     },
     "execution_count": 3,
     "metadata": {},
     "output_type": "execute_result"
    }
   ],
   "source": [
    "df.head()"
   ]
  },
  {
   "cell_type": "markdown",
   "metadata": {},
   "source": [
    "Veri \u00e7er\u00e7evesinin ka\u00e7 \u00f6znitelik ve ka\u00e7 g\u00f6zlemden olu\u015ftu\u011funu g\u00f6r\u00fcnt\u00fcleyelim."
   ]
  },
  {
   "cell_type": "code",
   "execution_count": 4,
   "metadata": {},
   "outputs": [
    {
     "data": {
      "text/plain": [
       "sepal.length    150\n",
       "sepal.width     150\n",
       "petal.length    150\n",
       "petal.width     150\n",
       "variety         150\n",
       "dtype: int64"
      ]
     },
     "execution_count": 4,
     "metadata": {},
     "output_type": "execute_result"
    }
   ],
   "source": [
    "df.count()"
   ]
  },
  {
   "cell_type": "markdown",
   "metadata": {},
   "source": [
    "Veri \u00e7er\u00e7evesindeki de\u011fi\u015fkenlerin hangi tipte oldu\u011funu ve bellek kullan\u0131m\u0131n\u0131 g\u00f6r\u00fcnt\u00fcleyelim."
   ]
  },
  {
   "cell_type": "code",
   "execution_count": 5,
   "metadata": {},
   "outputs": [
    {
     "name": "stdout",
     "output_type": "stream",
     "text": [
      "<class 'pandas.core.frame.DataFrame'>\n",
      "RangeIndex: 150 entries, 0 to 149\n",
      "Data columns (total 5 columns):\n",
      " #   Column        Non-Null Count  Dtype  \n",
      "---  ------        --------------  -----  \n",
      " 0   sepal.length  150 non-null    float64\n",
      " 1   sepal.width   150 non-null    float64\n",
      " 2   petal.length  150 non-null    float64\n",
      " 3   petal.width   150 non-null    float64\n",
      " 4   variety       150 non-null    object \n",
      "dtypes: float64(4), object(1)\n",
      "memory usage: 6.0+ KB\n"
     ]
    }
   ],
   "source": [
    "df.info()"
   ]
  },
  {
   "cell_type": "markdown",
   "metadata": {},
   "source": [
    "Veri \u00e7er\u00e7evesindeki say\u0131sal de\u011fi\u015fkenler i\u00e7in temel istatistik de\u011ferlerini g\u00f6r\u00fcnt\u00fcleyelim.\n",
    "\n",
    "Standart sapma ve ortalama de\u011ferlerden \u00e7\u0131kar\u0131mda bulunarak hangi de\u011fi\u015fkenlerin ne kadar varyansa sahip oldu\u011fu hakk\u0131nda fikir y\u00fcr\u00fctelim."
   ]
  },
  {
   "cell_type": "code",
   "execution_count": 6,
   "metadata": {},
   "outputs": [
    {
     "data": {
      "text/plain": [
       "sepal.length    5.843333\n",
       "sepal.width     3.057333\n",
       "petal.length    3.758000\n",
       "petal.width     1.199333\n",
       "dtype: float64"
      ]
     },
     "execution_count": 6,
     "metadata": {},
     "output_type": "execute_result"
    }
   ],
   "source": [
    "# FIRST-AUTHOR: make notebook run\n",
    "# df.mean()\n",
    "df.mean(numeric_only=True)"
   ]
  },
  {
   "cell_type": "markdown",
   "metadata": {},
   "source": [
    "Veri \u00e7er\u00e7evesinde hangi \u00f6znitelikte ka\u00e7 adet eksik de\u011fer oldu\u011funu g\u00f6zlemleyelim."
   ]
  },
  {
   "cell_type": "code",
   "execution_count": 7,
   "metadata": {},
   "outputs": [
    {
     "data": {
      "text/plain": [
       "sepal.length    0.828066\n",
       "sepal.width     0.435866\n",
       "petal.length    1.765298\n",
       "petal.width     0.762238\n",
       "dtype: float64"
      ]
     },
     "execution_count": 7,
     "metadata": {},
     "output_type": "execute_result"
    }
   ],
   "source": [
    "# FIRST-AUTHOR: make notebook run\n",
    "# df.std()\n",
    "df.std(numeric_only=True)"
   ]
  },
  {
   "cell_type": "markdown",
   "metadata": {},
   "source": [
    "Say\u0131sal de\u011fi\u015fkenler aras\u0131nda korelasyon olup olmad\u0131\u011f\u0131n\u0131 g\u00f6stermek i\u00e7in korelasyon matrisi \u00e7izdirelim. Korelasyon katsay\u0131lar\u0131 hakk\u0131nda fikir y\u00fcr\u00fctelim.\n",
    "\n",
    "En g\u00fc\u00e7l\u00fc pozitif ili\u015fki hangi iki de\u011fi\u015fken aras\u0131ndad\u0131r?"
   ]
  },
  {
   "cell_type": "code",
   "execution_count": 8,
   "metadata": {},
   "outputs": [
    {
     "data": {
      "text/plain": [
       "sepal.length    0\n",
       "sepal.width     0\n",
       "petal.length    0\n",
       "petal.width     0\n",
       "variety         0\n",
       "dtype: int64"
      ]
     },
     "execution_count": 8,
     "metadata": {},
     "output_type": "execute_result"
    }
   ],
   "source": [
    "df.isna().sum()"
   ]
  },
  {
   "cell_type": "markdown",
   "metadata": {},
   "source": [
    "Korelasyon katsay\u0131lar\u0131n\u0131 daha iyi okuyabilmek i\u00e7in \u0131s\u0131 haritas\u0131 \u00e7izdirelim."
   ]
  },
  {
   "cell_type": "code",
   "execution_count": 9,
   "metadata": {},
   "outputs": [
    {
     "data": {
      "text/html": [
       "<div>\n",
       "<style scoped>\n",
       "    .dataframe tbody tr th:only-of-type {\n",
       "        vertical-align: middle;\n",
       "    }\n",
       "\n",
       "    .dataframe tbody tr th {\n",
       "        vertical-align: top;\n",
       "    }\n",
       "\n",
       "    .dataframe thead th {\n",
       "        text-align: right;\n",
       "    }\n",
       "</style>\n",
       "<table border=\"1\" class=\"dataframe\">\n",
       "  <thead>\n",
       "    <tr style=\"text-align: right;\">\n",
       "      <th></th>\n",
       "      <th>sepal.length</th>\n",
       "      <th>sepal.width</th>\n",
       "      <th>petal.length</th>\n",
       "      <th>petal.width</th>\n",
       "    </tr>\n",
       "  </thead>\n",
       "  <tbody>\n",
       "    <tr>\n",
       "      <th>sepal.length</th>\n",
       "      <td>1.000000</td>\n",
       "      <td>-0.117570</td>\n",
       "      <td>0.871754</td>\n",
       "      <td>0.817941</td>\n",
       "    </tr>\n",
       "    <tr>\n",
       "      <th>sepal.width</th>\n",
       "      <td>-0.117570</td>\n",
       "      <td>1.000000</td>\n",
       "      <td>-0.428440</td>\n",
       "      <td>-0.366126</td>\n",
       "    </tr>\n",
       "    <tr>\n",
       "      <th>petal.length</th>\n",
       "      <td>0.871754</td>\n",
       "      <td>-0.428440</td>\n",
       "      <td>1.000000</td>\n",
       "      <td>0.962865</td>\n",
       "    </tr>\n",
       "    <tr>\n",
       "      <th>petal.width</th>\n",
       "      <td>0.817941</td>\n",
       "      <td>-0.366126</td>\n",
       "      <td>0.962865</td>\n",
       "      <td>1.000000</td>\n",
       "    </tr>\n",
       "  </tbody>\n",
       "</table>\n",
       "</div>"
      ],
      "text/plain": [
       "              sepal.length  sepal.width  petal.length  petal.width\n",
       "sepal.length      1.000000    -0.117570      0.871754     0.817941\n",
       "sepal.width      -0.117570     1.000000     -0.428440    -0.366126\n",
       "petal.length      0.871754    -0.428440      1.000000     0.962865\n",
       "petal.width       0.817941    -0.366126      0.962865     1.000000"
      ]
     },
     "execution_count": 9,
     "metadata": {},
     "output_type": "execute_result"
    }
   ],
   "source": [
    "# FIRST-AUTHOR: make notebook run\n",
    "# df.corr()\n",
    "df.corr(numeric_only=True)"
   ]
  },
  {
   "cell_type": "markdown",
   "metadata": {},
   "source": [
    "Veri \u00e7er\u00e7evemizin hedef de\u011fi\u015fkeninin \"variety\" benzersiz de\u011ferlerini g\u00f6r\u00fcnt\u00fcleyelim."
   ]
  },
  {
   "cell_type": "code",
   "execution_count": 10,
   "metadata": {},
   "outputs": [],
   "source": [
    "# FIRST-AUTHOR: make notebook run\n",
    "# corr = df.corr()\n",
    "corr = df.corr(numeric_only=True)\n",
    "# FIRST-AUTHOR: remove plotting\n",
    "# sns.heatmap(corr, \n",
    "#             xticklabels=corr.columns.values,\n",
    "#             yticklabels=corr.columns.values);\n",
    "_ = corr.columns.values\n",
    "_ = corr.columns.values"
   ]
  },
  {
   "cell_type": "markdown",
   "metadata": {},
   "source": [
    "Veri \u00e7er\u00e7evemizin hedef de\u011fi\u015fkeninin \"variety\" benzersiz ka\u00e7 adet de\u011fer i\u00e7erdi\u011fini g\u00f6r\u00fcnt\u00fcleyelim."
   ]
  },
  {
   "cell_type": "code",
   "execution_count": 11,
   "metadata": {},
   "outputs": [
    {
     "data": {
      "text/plain": [
       "array(['Setosa', 'Versicolor', 'Virginica'], dtype=object)"
      ]
     },
     "execution_count": 11,
     "metadata": {},
     "output_type": "execute_result"
    }
   ],
   "source": [
    "df[\"variety\"].unique()"
   ]
  },
  {
   "cell_type": "markdown",
   "metadata": {},
   "source": [
    "Veri \u00e7er\u00e7evesindeki sepal.width ve sepal.length de\u011fi\u015fkenlerinin s\u00fcrekli oldu\u011funu g\u00f6r\u00fcyoruz. Bu iki s\u00fcrekli veriyi g\u00f6rselle\u015ftirmek i\u00e7in \u00f6nce scatterplot kullanal\u0131m."
   ]
  },
  {
   "cell_type": "code",
   "execution_count": 12,
   "metadata": {},
   "outputs": [
    {
     "data": {
      "text/plain": [
       "3"
      ]
     },
     "execution_count": 12,
     "metadata": {},
     "output_type": "execute_result"
    }
   ],
   "source": [
    "df[\"variety\"].nunique()"
   ]
  },
  {
   "cell_type": "markdown",
   "metadata": {},
   "source": [
    "Ayn\u0131 iki veriyi daha farkl\u0131 bir a\u00e7\u0131dan frekanslar\u0131yla incelemek i\u00e7in jointplot kullanarak g\u00f6rselle\u015ftirelim. "
   ]
  },
  {
   "cell_type": "code",
   "execution_count": 13,
   "metadata": {},
   "outputs": [],
   "source": [
    "# FIRST-AUTHOR: remove plotting\n",
    "# sns.scatterplot(x=\"sepal.width\", y=\"sepal.length\", data=df, color=\"magenta\");"
   ]
  },
  {
   "cell_type": "markdown",
   "metadata": {},
   "source": [
    "Ayn\u0131 iki veriyi scatterplot ile tekrardan g\u00f6rselle\u015ftirelim fakat bu sefer \"variety\" parametresi ile hedef de\u011fi\u015fkenine g\u00f6re k\u0131rd\u0131ral\u0131m. \n",
    "\n",
    "3 farkl\u0131 renk aras\u0131nda sepal de\u011fi\u015fkenleriyle bir k\u00fcmeleme yap\u0131labilir mi? Ne kadar ay\u0131rt edilebilir bunun \u00fczerine d\u00fc\u015f\u00fcnelim."
   ]
  },
  {
   "cell_type": "code",
   "execution_count": 14,
   "metadata": {},
   "outputs": [],
   "source": [
    "# FIRST-AUTHOR: remove plotting\n",
    "# sns.jointplot(x=\"sepal.width\", y=\"sepal.length\", data=df, color=\"magenta\");"
   ]
  },
  {
   "cell_type": "markdown",
   "metadata": {},
   "source": [
    "value_counts() fonksiyonu ile veri \u00e7er\u00e7evemizin ne kadar dengeli da\u011f\u0131ld\u0131\u011f\u0131n\u0131 sorgulayal\u0131m. "
   ]
  },
  {
   "cell_type": "code",
   "execution_count": 15,
   "metadata": {},
   "outputs": [],
   "source": [
    "# FIRST-AUTHOR: remove plotting\n",
    "# sns.scatterplot(x=\"sepal.width\", y=\"sepal.length\", hue=\"variety\", data=df);"
   ]
  },
  {
   "cell_type": "markdown",
   "metadata": {},
   "source": [
    "Keman grafi\u011fi \u00e7izdirerek sepal.width de\u011fi\u015fkeninin da\u011f\u0131l\u0131m\u0131n\u0131 inceleyin. \n",
    "\n",
    "S\u00f6z konusu da\u011f\u0131l\u0131m bizim i\u00e7in ne ifade ediyor, normal bir da\u011f\u0131l\u0131m oldu\u011funu s\u00f6yleyebilir miyiz?"
   ]
  },
  {
   "cell_type": "code",
   "execution_count": 16,
   "metadata": {},
   "outputs": [
    {
     "name": "stderr",
     "output_type": "stream",
     "text": [
      "/tmp/ipykernel_1156775/1709959354.py:1: FutureWarning: pandas.value_counts is deprecated and will be removed in a future version. Use pd.Series(obj).value_counts() instead.\n",
      "  pd.value_counts(df.values.flatten())\n"
     ]
    },
    {
     "data": {
      "text/plain": [
       "Versicolor    50\n",
       "Setosa        50\n",
       "Virginica     50\n",
       "0.2           29\n",
       "3.0           27\n",
       "              ..\n",
       "7.6            1\n",
       "7.3            1\n",
       "7.0            1\n",
       "7.4            1\n",
       "7.9            1\n",
       "Name: count, Length: 77, dtype: int64"
      ]
     },
     "execution_count": 16,
     "metadata": {},
     "output_type": "execute_result"
    }
   ],
   "source": [
    "pd.value_counts(df.values.flatten())"
   ]
  },
  {
   "cell_type": "markdown",
   "metadata": {},
   "source": [
    "Daha iyi anlayabilmek i\u00e7in sepal.width \u00fczerine bir distplot \u00e7izdirelim."
   ]
  },
  {
   "cell_type": "code",
   "execution_count": 17,
   "metadata": {},
   "outputs": [],
   "source": [
    "# FIRST-AUTHOR: remove plotting\n",
    "# sns.violinplot(y = \"sepal.width\", data = df);"
   ]
  },
  {
   "cell_type": "markdown",
   "metadata": {},
   "source": [
    "\u00dc\u00e7 \u00e7i\u00e7ek t\u00fcr\u00fc i\u00e7in \u00fc\u00e7 farkl\u0131 keman grafi\u011fini sepal.length de\u011fi\u015fkeninin da\u011f\u0131l\u0131m\u0131 \u00fczerine tek bir sat\u0131r ile g\u00f6rselle\u015ftirelim."
   ]
  },
  {
   "cell_type": "code",
   "execution_count": 18,
   "metadata": {},
   "outputs": [],
   "source": [
    "# FIRST-AUTHOR: remove plotting\n",
    "# sns.distplot(df[\"sepal.width\"], bins=16, color=\"blue\");\n",
    "_ = df[\"sepal.width\"]"
   ]
  },
  {
   "cell_type": "markdown",
   "metadata": {},
   "source": [
    "Hangi \u00e7i\u00e7ek t\u00fcr\u00fcnden ka\u00e7ar adet g\u00f6zlem bar\u0131nd\u0131r\u0131yor veri \u00e7er\u00e7evemiz?\n",
    "\n",
    "50 x 3 oldu\u011funu ve dengeli oldu\u011funu value_counts ile zaten g\u00f6rm\u00fc\u015ft\u00fck, ancak bunu g\u00f6rsel olarak ifade etmek i\u00e7in sns.countplot() fonksiyonuna variety parametresini vereilm."
   ]
  },
  {
   "cell_type": "code",
   "execution_count": 19,
   "metadata": {},
   "outputs": [],
   "source": [
    "# FIRST-AUTHOR: remove plotting\n",
    "# sns.violinplot(x = \"variety\", y = \"sepal.length\", data = df);"
   ]
  },
  {
   "cell_type": "markdown",
   "metadata": {},
   "source": [
    "sepal.length ve sepal.width de\u011fi\u015fkenlerini sns.jointplot ile g\u00f6rselle\u015ftirelim, da\u011f\u0131l\u0131m\u0131 ve da\u011f\u0131l\u0131m\u0131n frekans\u0131 y\u00fcksek oldu\u011fu b\u00f6lgelerini inceleyelim."
   ]
  },
  {
   "cell_type": "code",
   "execution_count": 20,
   "metadata": {},
   "outputs": [],
   "source": [
    "# FIRST-AUTHOR: remove plotting\n",
    "# sns.countplot(x = \"variety\", data = df);"
   ]
  },
  {
   "cell_type": "markdown",
   "metadata": {},
   "source": [
    "Bir \u00f6nceki h\u00fccrede yapm\u0131\u015f oldu\u011fumuz g\u00f6rselle\u015ftirmeye kind = \"kde\" parametresini ekleyelim. B\u00f6ylelikle da\u011f\u0131l\u0131m\u0131n noktal\u0131 g\u00f6sterimden \u00e7\u0131k\u0131p yo\u011funluk odakl\u0131 bir g\u00f6rselle\u015ftirmeye d\u00f6n\u00fc\u015ft\u00fc\u011f\u00fcn\u00fc g\u00f6rm\u00fc\u015f olaca\u011f\u0131z."
   ]
  },
  {
   "cell_type": "code",
   "execution_count": 21,
   "metadata": {},
   "outputs": [],
   "source": [
    "# FIRST-AUTHOR: remove plotting\n",
    "# sns.jointplot(x = df[\"sepal.width\"], y = df[\"sepal.length\"], color = \"purple\");\n",
    "_ = df[\"sepal.width\"]\n",
    "_ = df[\"sepal.length\"]"
   ]
  },
  {
   "cell_type": "markdown",
   "metadata": {},
   "source": [
    "scatterplot ile petal.length ve petal.width de\u011fi\u015fkenlerinin da\u011f\u0131l\u0131mlar\u0131n\u0131 \u00e7izdirelim."
   ]
  },
  {
   "cell_type": "code",
   "execution_count": 22,
   "metadata": {},
   "outputs": [],
   "source": [
    "# FIRST-AUTHOR: remove plotting\n",
    "# sns.jointplot(x = df[\"sepal.width\"], y = df[\"sepal.length\"],kind=\"kde\", color = \"purple\");\n",
    "_ = df[\"sepal.width\"]\n",
    "_ = df[\"sepal.length\"]"
   ]
  },
  {
   "cell_type": "markdown",
   "metadata": {},
   "source": [
    "Ayn\u0131 g\u00f6rselle\u015ftirmeye hue = \"variety\" parametresini ekleyerek 3. bir boyut verelim."
   ]
  },
  {
   "cell_type": "code",
   "execution_count": 23,
   "metadata": {},
   "outputs": [],
   "source": [
    "# FIRST-AUTHOR: remove plotting\n",
    "# sns.scatterplot(x=\"petal.width\", y=\"petal.length\", data=df);"
   ]
  },
  {
   "cell_type": "markdown",
   "metadata": {},
   "source": [
    "sns.lmplot() g\u00f6rselle\u015ftirmesini petal.length ve petal.width de\u011fi\u015fkenleriyle implemente edelim. Petal length ile petal width aras\u0131nda ne t\u00fcr bir ili\u015fki var ve bu ili\u015fki g\u00fc\u00e7l\u00fc m\u00fcd\u00fcr? sorusunu yan\u0131tlayal\u0131m."
   ]
  },
  {
   "cell_type": "code",
   "execution_count": 24,
   "metadata": {},
   "outputs": [],
   "source": [
    "# FIRST-AUTHOR: remove plotting\n",
    "# sns.scatterplot(x=\"petal.width\", y=\"petal.length\",hue=\"variety\", data=df);"
   ]
  },
  {
   "cell_type": "markdown",
   "metadata": {},
   "source": [
    "Bu sorunun yan\u0131t\u0131n\u0131 peki\u015ftirmek i\u00e7in iki de\u011fi\u015fken aras\u0131nda korelasyon katsay\u0131s\u0131n\u0131 yazd\u0131ral\u0131m. "
   ]
  },
  {
   "cell_type": "code",
   "execution_count": 25,
   "metadata": {},
   "outputs": [],
   "source": [
    "# FIRST-AUTHOR: remove plotting\n",
    "# sns.lmplot(x=\"petal.width\", y=\"petal.length\", data=df);"
   ]
  },
  {
   "cell_type": "markdown",
   "metadata": {},
   "source": [
    "Petal Length ile Sepal Length de\u011ferlerini toplayarak yeni bir total length \u00f6zniteli\u011fi olu\u015ftural\u0131m."
   ]
  },
  {
   "cell_type": "code",
   "execution_count": 26,
   "metadata": {},
   "outputs": [
    {
     "data": {
      "text/html": [
       "<div>\n",
       "<style scoped>\n",
       "    .dataframe tbody tr th:only-of-type {\n",
       "        vertical-align: middle;\n",
       "    }\n",
       "\n",
       "    .dataframe tbody tr th {\n",
       "        vertical-align: top;\n",
       "    }\n",
       "\n",
       "    .dataframe thead th {\n",
       "        text-align: right;\n",
       "    }\n",
       "</style>\n",
       "<table border=\"1\" class=\"dataframe\">\n",
       "  <thead>\n",
       "    <tr style=\"text-align: right;\">\n",
       "      <th></th>\n",
       "      <th>petal.length</th>\n",
       "      <th>petal.width</th>\n",
       "    </tr>\n",
       "  </thead>\n",
       "  <tbody>\n",
       "    <tr>\n",
       "      <th>petal.length</th>\n",
       "      <td>1.000000</td>\n",
       "      <td>0.962865</td>\n",
       "    </tr>\n",
       "    <tr>\n",
       "      <th>petal.width</th>\n",
       "      <td>0.962865</td>\n",
       "      <td>1.000000</td>\n",
       "    </tr>\n",
       "  </tbody>\n",
       "</table>\n",
       "</div>"
      ],
      "text/plain": [
       "              petal.length  petal.width\n",
       "petal.length      1.000000     0.962865\n",
       "petal.width       0.962865     1.000000"
      ]
     },
     "execution_count": 26,
     "metadata": {},
     "output_type": "execute_result"
    }
   ],
   "source": [
    "df[['petal.length', 'petal.width']].corr()"
   ]
  },
  {
   "cell_type": "markdown",
   "metadata": {},
   "source": [
    "total.length'in ortalama de\u011ferini yazd\u0131ral\u0131m. "
   ]
  },
  {
   "cell_type": "code",
   "execution_count": 27,
   "metadata": {},
   "outputs": [],
   "source": [
    "df['total.length'] = df['petal.length'] + df['sepal.length']"
   ]
  },
  {
   "cell_type": "markdown",
   "metadata": {},
   "source": [
    "total.length'in standart sapma de\u011ferini yazd\u0131ral\u0131m."
   ]
  },
  {
   "cell_type": "code",
   "execution_count": 28,
   "metadata": {},
   "outputs": [
    {
     "data": {
      "text/plain": [
       "9.601333333333333"
      ]
     },
     "execution_count": 28,
     "metadata": {},
     "output_type": "execute_result"
    }
   ],
   "source": [
    "df['total.length'].mean()"
   ]
  },
  {
   "cell_type": "markdown",
   "metadata": {},
   "source": [
    "sepal.length'in maksimum de\u011ferini yazd\u0131ral\u0131m."
   ]
  },
  {
   "cell_type": "code",
   "execution_count": 29,
   "metadata": {},
   "outputs": [
    {
     "data": {
      "text/plain": [
       "2.5200401260965"
      ]
     },
     "execution_count": 29,
     "metadata": {},
     "output_type": "execute_result"
    }
   ],
   "source": [
    "df['total.length'].std()"
   ]
  },
  {
   "cell_type": "markdown",
   "metadata": {},
   "source": [
    "sepal.length'i 5.5'den b\u00fcy\u00fck ve t\u00fcr\u00fc setosa olan g\u00f6zlemleri yazd\u0131ral\u0131m."
   ]
  },
  {
   "cell_type": "code",
   "execution_count": 30,
   "metadata": {},
   "outputs": [
    {
     "data": {
      "text/plain": [
       "7.9"
      ]
     },
     "execution_count": 30,
     "metadata": {},
     "output_type": "execute_result"
    }
   ],
   "source": [
    "df['sepal.length'].max()"
   ]
  },
  {
   "cell_type": "markdown",
   "metadata": {},
   "source": [
    "petal.length'i 5'den k\u00fc\u00e7\u00fck ve t\u00fcr\u00fc virginica olan g\u00f6zlemlerin sadece sepal.length ve sepal.width de\u011fi\u015fkenlerini ve de\u011ferlerini yazd\u0131ral\u0131m."
   ]
  },
  {
   "cell_type": "code",
   "execution_count": 31,
   "metadata": {},
   "outputs": [
    {
     "data": {
      "text/html": [
       "<div>\n",
       "<style scoped>\n",
       "    .dataframe tbody tr th:only-of-type {\n",
       "        vertical-align: middle;\n",
       "    }\n",
       "\n",
       "    .dataframe tbody tr th {\n",
       "        vertical-align: top;\n",
       "    }\n",
       "\n",
       "    .dataframe thead th {\n",
       "        text-align: right;\n",
       "    }\n",
       "</style>\n",
       "<table border=\"1\" class=\"dataframe\">\n",
       "  <thead>\n",
       "    <tr style=\"text-align: right;\">\n",
       "      <th></th>\n",
       "      <th>sepal.length</th>\n",
       "      <th>sepal.width</th>\n",
       "      <th>petal.length</th>\n",
       "      <th>petal.width</th>\n",
       "      <th>variety</th>\n",
       "      <th>total.length</th>\n",
       "    </tr>\n",
       "  </thead>\n",
       "  <tbody>\n",
       "    <tr>\n",
       "      <th>14</th>\n",
       "      <td>5.8</td>\n",
       "      <td>4.0</td>\n",
       "      <td>1.2</td>\n",
       "      <td>0.2</td>\n",
       "      <td>Setosa</td>\n",
       "      <td>7.0</td>\n",
       "    </tr>\n",
       "    <tr>\n",
       "      <th>15</th>\n",
       "      <td>5.7</td>\n",
       "      <td>4.4</td>\n",
       "      <td>1.5</td>\n",
       "      <td>0.4</td>\n",
       "      <td>Setosa</td>\n",
       "      <td>7.2</td>\n",
       "    </tr>\n",
       "    <tr>\n",
       "      <th>18</th>\n",
       "      <td>5.7</td>\n",
       "      <td>3.8</td>\n",
       "      <td>1.7</td>\n",
       "      <td>0.3</td>\n",
       "      <td>Setosa</td>\n",
       "      <td>7.4</td>\n",
       "    </tr>\n",
       "  </tbody>\n",
       "</table>\n",
       "</div>"
      ],
      "text/plain": [
       "    sepal.length  sepal.width  petal.length  petal.width variety  total.length\n",
       "14           5.8          4.0           1.2          0.2  Setosa           7.0\n",
       "15           5.7          4.4           1.5          0.4  Setosa           7.2\n",
       "18           5.7          3.8           1.7          0.3  Setosa           7.4"
      ]
     },
     "execution_count": 31,
     "metadata": {},
     "output_type": "execute_result"
    }
   ],
   "source": [
    "df[(df['variety']=='Setosa') & (df['sepal.length']>5.5)]"
   ]
  },
  {
   "cell_type": "markdown",
   "metadata": {},
   "source": [
    "Hedef de\u011fi\u015fkenimiz variety'e g\u00f6re bir gruplama i\u015flemi yapal\u0131m de\u011fi\u015fken de\u011ferlerimizin ortalamas\u0131n\u0131 g\u00f6r\u00fcnt\u00fcleyelim."
   ]
  },
  {
   "cell_type": "code",
   "execution_count": 32,
   "metadata": {},
   "outputs": [
    {
     "data": {
      "text/html": [
       "<div>\n",
       "<style scoped>\n",
       "    .dataframe tbody tr th:only-of-type {\n",
       "        vertical-align: middle;\n",
       "    }\n",
       "\n",
       "    .dataframe tbody tr th {\n",
       "        vertical-align: top;\n",
       "    }\n",
       "\n",
       "    .dataframe thead th {\n",
       "        text-align: right;\n",
       "    }\n",
       "</style>\n",
       "<table border=\"1\" class=\"dataframe\">\n",
       "  <thead>\n",
       "    <tr style=\"text-align: right;\">\n",
       "      <th></th>\n",
       "      <th>sepal.length</th>\n",
       "      <th>sepal.width</th>\n",
       "    </tr>\n",
       "  </thead>\n",
       "  <tbody>\n",
       "    <tr>\n",
       "      <th>106</th>\n",
       "      <td>4.9</td>\n",
       "      <td>2.5</td>\n",
       "    </tr>\n",
       "    <tr>\n",
       "      <th>121</th>\n",
       "      <td>5.6</td>\n",
       "      <td>2.8</td>\n",
       "    </tr>\n",
       "    <tr>\n",
       "      <th>123</th>\n",
       "      <td>6.3</td>\n",
       "      <td>2.7</td>\n",
       "    </tr>\n",
       "    <tr>\n",
       "      <th>126</th>\n",
       "      <td>6.2</td>\n",
       "      <td>2.8</td>\n",
       "    </tr>\n",
       "    <tr>\n",
       "      <th>127</th>\n",
       "      <td>6.1</td>\n",
       "      <td>3.0</td>\n",
       "    </tr>\n",
       "    <tr>\n",
       "      <th>138</th>\n",
       "      <td>6.0</td>\n",
       "      <td>3.0</td>\n",
       "    </tr>\n",
       "  </tbody>\n",
       "</table>\n",
       "</div>"
      ],
      "text/plain": [
       "     sepal.length  sepal.width\n",
       "106           4.9          2.5\n",
       "121           5.6          2.8\n",
       "123           6.3          2.7\n",
       "126           6.2          2.8\n",
       "127           6.1          3.0\n",
       "138           6.0          3.0"
      ]
     },
     "execution_count": 32,
     "metadata": {},
     "output_type": "execute_result"
    }
   ],
   "source": [
    "df[(df['variety']=='Virginica') & (df['petal.length']<5)][['sepal.length','sepal.width']]"
   ]
  },
  {
   "cell_type": "markdown",
   "metadata": {},
   "source": [
    "Hedef de\u011fi\u015fkenimiz variety'e g\u00f6re gruplama i\u015flemi yaparak sadece petal.length de\u011fi\u015fkenimizin standart sapma de\u011ferlerini yazd\u0131ral\u0131m. "
   ]
  },
  {
   "cell_type": "code",
   "execution_count": 33,
   "metadata": {},
   "outputs": [
    {
     "data": {
      "text/html": [
       "<div>\n",
       "<style scoped>\n",
       "    .dataframe tbody tr th:only-of-type {\n",
       "        vertical-align: middle;\n",
       "    }\n",
       "\n",
       "    .dataframe tbody tr th {\n",
       "        vertical-align: top;\n",
       "    }\n",
       "\n",
       "    .dataframe thead th {\n",
       "        text-align: right;\n",
       "    }\n",
       "</style>\n",
       "<table border=\"1\" class=\"dataframe\">\n",
       "  <thead>\n",
       "    <tr style=\"text-align: right;\">\n",
       "      <th></th>\n",
       "      <th>sepal.length</th>\n",
       "      <th>sepal.width</th>\n",
       "      <th>petal.length</th>\n",
       "      <th>petal.width</th>\n",
       "      <th>total.length</th>\n",
       "    </tr>\n",
       "    <tr>\n",
       "      <th>variety</th>\n",
       "      <th></th>\n",
       "      <th></th>\n",
       "      <th></th>\n",
       "      <th></th>\n",
       "      <th></th>\n",
       "    </tr>\n",
       "  </thead>\n",
       "  <tbody>\n",
       "    <tr>\n",
       "      <th>Setosa</th>\n",
       "      <td>5.006</td>\n",
       "      <td>3.428</td>\n",
       "      <td>1.462</td>\n",
       "      <td>0.246</td>\n",
       "      <td>6.468</td>\n",
       "    </tr>\n",
       "    <tr>\n",
       "      <th>Versicolor</th>\n",
       "      <td>5.936</td>\n",
       "      <td>2.770</td>\n",
       "      <td>4.260</td>\n",
       "      <td>1.326</td>\n",
       "      <td>10.196</td>\n",
       "    </tr>\n",
       "    <tr>\n",
       "      <th>Virginica</th>\n",
       "      <td>6.588</td>\n",
       "      <td>2.974</td>\n",
       "      <td>5.552</td>\n",
       "      <td>2.026</td>\n",
       "      <td>12.140</td>\n",
       "    </tr>\n",
       "  </tbody>\n",
       "</table>\n",
       "</div>"
      ],
      "text/plain": [
       "            sepal.length  sepal.width  petal.length  petal.width  total.length\n",
       "variety                                                                       \n",
       "Setosa             5.006        3.428         1.462        0.246         6.468\n",
       "Versicolor         5.936        2.770         4.260        1.326        10.196\n",
       "Virginica          6.588        2.974         5.552        2.026        12.140"
      ]
     },
     "execution_count": 33,
     "metadata": {},
     "output_type": "execute_result"
    }
   ],
   "source": [
    "df.groupby([\"variety\"]).mean()"
   ]
  },
  {
   "cell_type": "markdown",
   "metadata": {},
   "source": [
    "Eme\u011finiz, ay\u0131rd\u0131\u011f\u0131n\u0131z vakit ve ilginiz i\u00e7in te\u015fekk\u00fcrler."
   ]
  }
 ],
 "metadata": {
  "kernelspec": {
   "display_name": "Python 3 (ipykernel)",
   "language": "python",
   "name": "python3"
  },
  "language_info": {
   "codemirror_mode": {
    "name": "ipython",
    "version": 3
   },
   "file_extension": ".py",
   "mimetype": "text/x-python",
   "name": "python",
   "nbconvert_exporter": "python",
   "pygments_lexer": "ipython3",
   "version": "3.10.16"
  }
 },
 "nbformat": 4,
 "nbformat_minor": 4
}