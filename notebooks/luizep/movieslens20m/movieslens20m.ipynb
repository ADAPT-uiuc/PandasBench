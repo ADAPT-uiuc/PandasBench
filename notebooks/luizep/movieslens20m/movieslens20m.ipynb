{
 "cells": [
  {
   "cell_type": "code",
   "execution_count": null,
   "metadata": {},
   "outputs": [],
   "source": [
    "import os\n",
    "\n",
    "def scale_input_data(scale_factor):\n",
    "  file_bases = ['./input/movie', './input/rating']\n",
    "  for file_base in file_bases:\n",
    "    import pandas as pd\n",
    "    import shutil\n",
    "    if scale_factor == 1.0:\n",
    "      shutil.copyfile(file_base + '.csv', file_base + '.scaled.csv')\n",
    "      continue\n",
    "    df_to_scale = pd.read_csv(file_base + '.csv')\n",
    "    new_num_rows = int(scale_factor * len(df_to_scale))\n",
    "    if scale_factor <= 1.0:\n",
    "      df_to_scale = df_to_scale.iloc[:new_num_rows]\n",
    "    else:\n",
    "      while len(df_to_scale) < new_num_rows:\n",
    "        df_to_scale = pd.concat([df_to_scale, df_to_scale[:min(new_num_rows - len(df_to_scale), len(df_to_scale))]])\n",
    "    df_to_scale.to_csv(file_base + '.scaled.csv', index=False)\n",
    "\n",
    "if 'INPUT_SCALE_FACTOR' in os.environ:\n",
    "  scale_input_data(float(os.environ['INPUT_SCALE_FACTOR']))"
   ]
  },
  {
   "cell_type": "markdown",
   "metadata": {
    "_uuid": "adfb3ae388e25d818acafe91f504ec57600309a9"
   },
   "source": [
    "## ** An\u00e1lise explor\u00e1toria dos dados obtidos em ratings de filmes**\n",
    "![Iesb](https://logo.clearbit.com/iesb.br)\n",
    "\n",
    "> Stable benchmark dataset. 20 million ratings and 465,000 tag applications applied to 27,000 movies by 138,000 users. Includes tag genome data with 12 million relevance scores across 1,100 tags. Released 4/2015; updated 10/2016 to update links.csv and add tag genome data.  [MovieLens 20m Dataset Oficial](https://grouplens.org/datasets/movielens/20m/)\n",
    " \n",
    " \n",
    " ## ** Objetivo**\n",
    " > Realizar an\u00e1lise descritiva e explor\u00e1toria dos dados \n",
    " \n",
    " ## **Etapas**\n",
    "1. Conhecendo as vari\u00e1veis\n",
    "1. An\u00e1lise explorat\u00f3ria\n",
    "1. Visualizando e tratando valores nulos (Data Cleaning)\n",
    "1. One hot encoding (tratando tipo de dados)\n",
    "1. Criando um modelo de machine learning\n",
    "1. Conclus\u00e3o"
   ]
  },
  {
   "cell_type": "markdown",
   "metadata": {
    "_uuid": "b379a0e5f5e567ae376e2348456b31d9b0254d32"
   },
   "source": [
    "# Importando bibiliotecas"
   ]
  },
  {
   "cell_type": "code",
   "execution_count": 1,
   "metadata": {
    "_cell_guid": "b1076dfc-b9ad-4769-8c92-a6c4dae69d19",
    "_uuid": "8f2839f25d086af736a60e9eeb907d3b93b6e0e5",
    "scrolled": true
   },
   "outputs": [],
   "source": [
    "# FIRST-AUTHOR: remove plotting\n",
    "# import matplotlib.pyplot as plt # Bibilioteca util para criar gr\u00e1ficos\n",
    "# import pandas as pd # Bibilioteca para auxiliar a importar e maniular nossos dataframes\n",
    "exec(os.environ['IREWR_IMPORTS'])\n",
    "# FIRST-AUTHOR: remove ML code\n",
    "# from sklearn.tree import DecisionTreeClassifier #respons\u00e1vel pela gera\u00e7\u00e3o do modelo \n",
    "# from sklearn.ensemble import RandomForestRegressor\n",
    "# from sklearn.ensemble import RandomForestClassifier\n",
    "import numpy as np # Bibilioteca \u00fatil para realizar opera\u00e7\u00f5es matem\u00e1ticas\n",
    "# FIRST-AUTHOR: remove plotting, ML code\n",
    "# import seaborn as sns # Bibilioteca utilizada para dar um toque especial nos gr\u00e1ficos\n",
    "# #import chardet   #Trabalha com leitura de arquivos, acredito que n ser\u00e1 necess\u00e1rio utiliza=l\u00e1\n",
    "# plt.style.use('ggplot') #Customiza\u00e7\u00e3o de gr\u00e1ficos\n",
    "# plt.style.use(\"seaborn-white\")\n",
    "# import os\n",
    "# from mpl_toolkits.mplot3d import Axes3D\n",
    "\n",
    "# import random\n",
    "# from sklearn.model_selection import train_test_split\n",
    "# from sklearn.metrics import accuracy_score\n",
    "# Input data files are available in the \"../input/\" directory.\n",
    "# For example, running this (by clicking run or pressing Shift+Enter) will list the files in the input directory\n",
    "\n",
    "# FIRST-AUTHOR: remove path printing\n",
    "# import os\n",
    "# print(os.listdir(\"./input\"))\n",
    "\n",
    "# Any results you write to the current directory are saved as output."
   ]
  },
  {
   "cell_type": "markdown",
   "metadata": {
    "_uuid": "effc2c006b1d8a47d97dab76d78be17e4f4dd481"
   },
   "source": [
    "# Informa\u00e7\u00f5es a respeito das vari\u00e1veis\n",
    "[Content and Use of Files](http://files.grouplens.org/datasets/movielens/ml-20m-README.html)"
   ]
  },
  {
   "cell_type": "markdown",
   "metadata": {
    "_uuid": "d6ab4227eaafbca441f1007e5b9bcea1e6a357ab"
   },
   "source": [
    "# Importando os dados"
   ]
  },
  {
   "cell_type": "code",
   "execution_count": 2,
   "metadata": {
    "_uuid": "373c0c80f7e24e47890fa5e1d76a7bd905fa947b"
   },
   "outputs": [],
   "source": [
    "movies = pd.read_csv('./input/movie.scaled.csv')\n",
    "ratings = pd.read_csv('./input/rating.scaled.csv')\n",
    "\n",
    "movies.sort_values(by='movieId', inplace=True)\n",
    "movies.reset_index(inplace=True, drop=True)\n",
    "ratings.sort_values(by='movieId', inplace=True)\n",
    "ratings.reset_index(inplace=True, drop=True)"
   ]
  },
  {
   "cell_type": "markdown",
   "metadata": {
    "_uuid": "6ef72c61059e82a053b607663ac95844bee519de"
   },
   "source": [
    "\n"
   ]
  },
  {
   "cell_type": "markdown",
   "metadata": {
    "_uuid": "458192c2c7989f56ddc10553088469e44ac8eb99"
   },
   "source": [
    "# **1. Conhecendo as vari\u00e1veis**"
   ]
  },
  {
   "cell_type": "code",
   "execution_count": 3,
   "metadata": {
    "_uuid": "fcf7d57c474f7884ec6bd46b5671bc4e56a9930b",
    "scrolled": true
   },
   "outputs": [
    {
     "name": "stdout",
     "output_type": "stream",
     "text": [
      "Dimens\u00e3o  dataset de movies\n",
      "Colunas: 3 \n",
      "Linhas: 27278\n",
      "-\n",
      "Dimens\u00e3o  dataset de ratings\n",
      "Colunas: 4 \n",
      "Linhas: 20000263\n"
     ]
    }
   ],
   "source": [
    "#Dimens\u00e3o  datasets\n",
    "print(\"Dimens\u00e3o  dataset de movies\")\n",
    "print(\"Colunas:\", movies.shape[1],\"\\nLinhas:\", movies.shape[0])\n",
    "print(\"-\")\n",
    "print(\"Dimens\u00e3o  dataset de ratings\")\n",
    "print(\"Colunas:\", ratings.shape[1],\"\\nLinhas:\", ratings.shape[0])"
   ]
  },
  {
   "cell_type": "code",
   "execution_count": 4,
   "metadata": {
    "_uuid": "eb0f16b7a882099475af48908204cc5207eca00b"
   },
   "outputs": [
    {
     "data": {
      "text/html": [
       "<div>\n",
       "<style scoped>\n",
       "    .dataframe tbody tr th:only-of-type {\n",
       "        vertical-align: middle;\n",
       "    }\n",
       "\n",
       "    .dataframe tbody tr th {\n",
       "        vertical-align: top;\n",
       "    }\n",
       "\n",
       "    .dataframe thead th {\n",
       "        text-align: right;\n",
       "    }\n",
       "</style>\n",
       "<table border=\"1\" class=\"dataframe\">\n",
       "  <thead>\n",
       "    <tr style=\"text-align: right;\">\n",
       "      <th></th>\n",
       "      <th>movieId</th>\n",
       "      <th>title</th>\n",
       "      <th>genres</th>\n",
       "    </tr>\n",
       "  </thead>\n",
       "  <tbody>\n",
       "    <tr>\n",
       "      <th>0</th>\n",
       "      <td>1</td>\n",
       "      <td>Toy Story (1995)</td>\n",
       "      <td>Adventure|Animation|Children|Comedy|Fantasy</td>\n",
       "    </tr>\n",
       "    <tr>\n",
       "      <th>1</th>\n",
       "      <td>2</td>\n",
       "      <td>Jumanji (1995)</td>\n",
       "      <td>Adventure|Children|Fantasy</td>\n",
       "    </tr>\n",
       "    <tr>\n",
       "      <th>2</th>\n",
       "      <td>3</td>\n",
       "      <td>Grumpier Old Men (1995)</td>\n",
       "      <td>Comedy|Romance</td>\n",
       "    </tr>\n",
       "    <tr>\n",
       "      <th>3</th>\n",
       "      <td>4</td>\n",
       "      <td>Waiting to Exhale (1995)</td>\n",
       "      <td>Comedy|Drama|Romance</td>\n",
       "    </tr>\n",
       "    <tr>\n",
       "      <th>4</th>\n",
       "      <td>5</td>\n",
       "      <td>Father of the Bride Part II (1995)</td>\n",
       "      <td>Comedy</td>\n",
       "    </tr>\n",
       "  </tbody>\n",
       "</table>\n",
       "</div>"
      ],
      "text/plain": [
       "   movieId                               title  \\\n",
       "0        1                    Toy Story (1995)   \n",
       "1        2                      Jumanji (1995)   \n",
       "2        3             Grumpier Old Men (1995)   \n",
       "3        4            Waiting to Exhale (1995)   \n",
       "4        5  Father of the Bride Part II (1995)   \n",
       "\n",
       "                                        genres  \n",
       "0  Adventure|Animation|Children|Comedy|Fantasy  \n",
       "1                   Adventure|Children|Fantasy  \n",
       "2                               Comedy|Romance  \n",
       "3                         Comedy|Drama|Romance  \n",
       "4                                       Comedy  "
      ]
     },
     "execution_count": 4,
     "metadata": {},
     "output_type": "execute_result"
    }
   ],
   "source": [
    "#Verificando os primeiros registros do conjunto de dados\n",
    "movies.head()"
   ]
  },
  {
   "cell_type": "code",
   "execution_count": 5,
   "metadata": {
    "_uuid": "46009a9420248835c99b3a7915d8d3b76339dc18"
   },
   "outputs": [
    {
     "data": {
      "text/html": [
       "<div>\n",
       "<style scoped>\n",
       "    .dataframe tbody tr th:only-of-type {\n",
       "        vertical-align: middle;\n",
       "    }\n",
       "\n",
       "    .dataframe tbody tr th {\n",
       "        vertical-align: top;\n",
       "    }\n",
       "\n",
       "    .dataframe thead th {\n",
       "        text-align: right;\n",
       "    }\n",
       "</style>\n",
       "<table border=\"1\" class=\"dataframe\">\n",
       "  <thead>\n",
       "    <tr style=\"text-align: right;\">\n",
       "      <th></th>\n",
       "      <th>userId</th>\n",
       "      <th>movieId</th>\n",
       "      <th>rating</th>\n",
       "      <th>timestamp</th>\n",
       "    </tr>\n",
       "  </thead>\n",
       "  <tbody>\n",
       "    <tr>\n",
       "      <th>0</th>\n",
       "      <td>97809</td>\n",
       "      <td>1</td>\n",
       "      <td>3.0</td>\n",
       "      <td>2008-06-11 04:47:11</td>\n",
       "    </tr>\n",
       "    <tr>\n",
       "      <th>1</th>\n",
       "      <td>106140</td>\n",
       "      <td>1</td>\n",
       "      <td>5.0</td>\n",
       "      <td>2013-01-29 03:33:49</td>\n",
       "    </tr>\n",
       "    <tr>\n",
       "      <th>2</th>\n",
       "      <td>106138</td>\n",
       "      <td>1</td>\n",
       "      <td>3.0</td>\n",
       "      <td>2002-07-31 15:48:53</td>\n",
       "    </tr>\n",
       "    <tr>\n",
       "      <th>3</th>\n",
       "      <td>70354</td>\n",
       "      <td>1</td>\n",
       "      <td>4.5</td>\n",
       "      <td>2011-02-13 18:55:40</td>\n",
       "    </tr>\n",
       "    <tr>\n",
       "      <th>4</th>\n",
       "      <td>70355</td>\n",
       "      <td>1</td>\n",
       "      <td>3.5</td>\n",
       "      <td>2008-01-26 16:56:54</td>\n",
       "    </tr>\n",
       "  </tbody>\n",
       "</table>\n",
       "</div>"
      ],
      "text/plain": [
       "   userId  movieId  rating            timestamp\n",
       "0   97809        1     3.0  2008-06-11 04:47:11\n",
       "1  106140        1     5.0  2013-01-29 03:33:49\n",
       "2  106138        1     3.0  2002-07-31 15:48:53\n",
       "3   70354        1     4.5  2011-02-13 18:55:40\n",
       "4   70355        1     3.5  2008-01-26 16:56:54"
      ]
     },
     "execution_count": 5,
     "metadata": {},
     "output_type": "execute_result"
    }
   ],
   "source": [
    "ratings.head()"
   ]
  },
  {
   "cell_type": "code",
   "execution_count": 6,
   "metadata": {
    "_uuid": "1a928434079a1c16dd3884c874ba87cc31f126bb"
   },
   "outputs": [
    {
     "data": {
      "text/plain": [
       "userId         int64\n",
       "movieId        int64\n",
       "rating       float64\n",
       "timestamp     object\n",
       "dtype: object"
      ]
     },
     "execution_count": 6,
     "metadata": {},
     "output_type": "execute_result"
    }
   ],
   "source": [
    "ratings.dtypes"
   ]
  },
  {
   "cell_type": "code",
   "execution_count": 7,
   "metadata": {
    "_uuid": "f2917d11d83a325bed73d3a7167e383534572840",
    "scrolled": true
   },
   "outputs": [
    {
     "data": {
      "text/plain": [
       "movieId     int64\n",
       "title      object\n",
       "genres     object\n",
       "dtype: object"
      ]
     },
     "execution_count": 7,
     "metadata": {},
     "output_type": "execute_result"
    }
   ],
   "source": [
    "movies.dtypes"
   ]
  },
  {
   "cell_type": "code",
   "execution_count": 8,
   "metadata": {
    "_uuid": "18f00decd859df2419b0c33b1255528e6eeb96b1"
   },
   "outputs": [
    {
     "name": "stdout",
     "output_type": "stream",
     "text": [
      "<class 'pandas.core.frame.DataFrame'>\n",
      "RangeIndex: 20000263 entries, 0 to 20000262\n",
      "Data columns (total 4 columns):\n",
      " #   Column     Dtype  \n",
      "---  ------     -----  \n",
      " 0   userId     int64  \n",
      " 1   movieId    int64  \n",
      " 2   rating     float64\n",
      " 3   timestamp  object \n",
      "dtypes: float64(1), int64(2), object(1)\n",
      "memory usage: 610.4+ MB\n"
     ]
    }
   ],
   "source": [
    "ratings.info()"
   ]
  },
  {
   "cell_type": "markdown",
   "metadata": {
    "_uuid": "0da0158c82dd8226f194308e88cb8b5e2bffd16e"
   },
   "source": [
    "## Calculando a simetria dos dados\n",
    "> Um valor zero indica uma distribui\u00e7\u00e3o sim\u00e9trica, um valor maior que zero ou menor indica uma distribui\u00e7\u00e3o assim\u00e9trica."
   ]
  },
  {
   "cell_type": "code",
   "execution_count": 9,
   "metadata": {
    "_uuid": "87738adeb01fcce28dc0f192fc6c41be7ebda191"
   },
   "outputs": [
    {
     "data": {
      "text/plain": [
       "userId     0.001475\n",
       "movieId    3.025376\n",
       "rating    -0.655311\n",
       "dtype: float64"
      ]
     },
     "execution_count": 9,
     "metadata": {},
     "output_type": "execute_result"
    }
   ],
   "source": [
    "# FIRST-AUTHOR: make notebook run\n",
    "# ratings.skew()\n",
    "ratings.skew(numeric_only=True)"
   ]
  },
  {
   "cell_type": "code",
   "execution_count": 10,
   "metadata": {
    "_uuid": "ca87718e30d42e38d1876754cf37f5906cf8b926"
   },
   "outputs": [
    {
     "data": {
      "text/plain": [
       "movieId   -0.066547\n",
       "dtype: float64"
      ]
     },
     "execution_count": 10,
     "metadata": {},
     "output_type": "execute_result"
    }
   ],
   "source": [
    "# FIRST-AUTHOR: make notebook run\n",
    "# movies.skew()\n",
    "movies.skew(numeric_only=True)"
   ]
  },
  {
   "cell_type": "markdown",
   "metadata": {
    "_uuid": "5d447b895d06e4dfb1308d7730e45d8041b55278"
   },
   "source": [
    "## **2. Visualizando e tratando valores nulos (Data Cleaning)**"
   ]
  },
  {
   "cell_type": "code",
   "execution_count": 11,
   "metadata": {
    "_uuid": "8335dc6b5a75b45b345238f02cb9f8605b75efcb"
   },
   "outputs": [],
   "source": [
    "# Dividindo o t\u00edtulo e o ano de lan\u00e7amento em colunas separadas no dataframe de filmes\n",
    "#Convertertendo ano para timestamp.\n",
    "\n",
    "movies['year'] = movies.title.str.extract(\"\\((\\d{4})\\)\", expand=True)\n",
    "movies.year = pd.to_datetime(movies.year, format='%Y')\n",
    "movies.year = movies.year.dt.year\n",
    "movies.title = movies.title.str[:-7]"
   ]
  },
  {
   "cell_type": "code",
   "execution_count": 12,
   "metadata": {
    "_uuid": "44e9491268c48827f86f2578b056e2aaf8ec5f8f"
   },
   "outputs": [],
   "source": [
    "#f,ax = plt.subplots(figsize=(10,8))\n",
    "#sns.heatmap(ratings.corr(), annot=True, linewidths=.7, fmt= '.2f',ax=ax)\n",
    "#plt.show()"
   ]
  },
  {
   "cell_type": "code",
   "execution_count": 13,
   "metadata": {
    "_uuid": "19646b3a486bd193493ead9ee357f4e7ae293e7b"
   },
   "outputs": [],
   "source": [
    "#categorizando os g\u00eaneros de filmes corretamente. \n",
    "#Trabalhar mais tarde com + 20MM de linhas de strings consome muito recurso\n",
    "genres_unique = pd.DataFrame(movies.genres.str.split('|').tolist()).stack().unique()\n",
    "genres_unique = pd.DataFrame(genres_unique, columns=['genre']) \n",
    "movies = movies.join(movies.genres.str.get_dummies().astype(bool))\n",
    "movies.drop('genres', inplace=True, axis=1)"
   ]
  },
  {
   "cell_type": "code",
   "execution_count": 14,
   "metadata": {
    "_uuid": "2cd8cd7c26a4c1bb5e4a04bd2f6f460d1073c166"
   },
   "outputs": [
    {
     "data": {
      "text/html": [
       "<div>\n",
       "<style scoped>\n",
       "    .dataframe tbody tr th:only-of-type {\n",
       "        vertical-align: middle;\n",
       "    }\n",
       "\n",
       "    .dataframe tbody tr th {\n",
       "        vertical-align: top;\n",
       "    }\n",
       "\n",
       "    .dataframe thead th {\n",
       "        text-align: right;\n",
       "    }\n",
       "</style>\n",
       "<table border=\"1\" class=\"dataframe\">\n",
       "  <thead>\n",
       "    <tr style=\"text-align: right;\">\n",
       "      <th></th>\n",
       "      <th>genre</th>\n",
       "    </tr>\n",
       "  </thead>\n",
       "  <tbody>\n",
       "    <tr>\n",
       "      <th>0</th>\n",
       "      <td>Adventure</td>\n",
       "    </tr>\n",
       "    <tr>\n",
       "      <th>1</th>\n",
       "      <td>Animation</td>\n",
       "    </tr>\n",
       "    <tr>\n",
       "      <th>2</th>\n",
       "      <td>Children</td>\n",
       "    </tr>\n",
       "    <tr>\n",
       "      <th>3</th>\n",
       "      <td>Comedy</td>\n",
       "    </tr>\n",
       "    <tr>\n",
       "      <th>4</th>\n",
       "      <td>Fantasy</td>\n",
       "    </tr>\n",
       "    <tr>\n",
       "      <th>5</th>\n",
       "      <td>Romance</td>\n",
       "    </tr>\n",
       "    <tr>\n",
       "      <th>6</th>\n",
       "      <td>Drama</td>\n",
       "    </tr>\n",
       "    <tr>\n",
       "      <th>7</th>\n",
       "      <td>Action</td>\n",
       "    </tr>\n",
       "    <tr>\n",
       "      <th>8</th>\n",
       "      <td>Crime</td>\n",
       "    </tr>\n",
       "    <tr>\n",
       "      <th>9</th>\n",
       "      <td>Thriller</td>\n",
       "    </tr>\n",
       "    <tr>\n",
       "      <th>10</th>\n",
       "      <td>Horror</td>\n",
       "    </tr>\n",
       "    <tr>\n",
       "      <th>11</th>\n",
       "      <td>Mystery</td>\n",
       "    </tr>\n",
       "    <tr>\n",
       "      <th>12</th>\n",
       "      <td>Sci-Fi</td>\n",
       "    </tr>\n",
       "    <tr>\n",
       "      <th>13</th>\n",
       "      <td>IMAX</td>\n",
       "    </tr>\n",
       "    <tr>\n",
       "      <th>14</th>\n",
       "      <td>Documentary</td>\n",
       "    </tr>\n",
       "    <tr>\n",
       "      <th>15</th>\n",
       "      <td>War</td>\n",
       "    </tr>\n",
       "    <tr>\n",
       "      <th>16</th>\n",
       "      <td>Musical</td>\n",
       "    </tr>\n",
       "    <tr>\n",
       "      <th>17</th>\n",
       "      <td>Western</td>\n",
       "    </tr>\n",
       "    <tr>\n",
       "      <th>18</th>\n",
       "      <td>Film-Noir</td>\n",
       "    </tr>\n",
       "    <tr>\n",
       "      <th>19</th>\n",
       "      <td>(no genres listed)</td>\n",
       "    </tr>\n",
       "  </tbody>\n",
       "</table>\n",
       "</div>"
      ],
      "text/plain": [
       "                 genre\n",
       "0            Adventure\n",
       "1            Animation\n",
       "2             Children\n",
       "3               Comedy\n",
       "4              Fantasy\n",
       "5              Romance\n",
       "6                Drama\n",
       "7               Action\n",
       "8                Crime\n",
       "9             Thriller\n",
       "10              Horror\n",
       "11             Mystery\n",
       "12              Sci-Fi\n",
       "13                IMAX\n",
       "14         Documentary\n",
       "15                 War\n",
       "16             Musical\n",
       "17             Western\n",
       "18           Film-Noir\n",
       "19  (no genres listed)"
      ]
     },
     "execution_count": 14,
     "metadata": {},
     "output_type": "execute_result"
    }
   ],
   "source": [
    "genres_unique"
   ]
  },
  {
   "cell_type": "code",
   "execution_count": 15,
   "metadata": {
    "_uuid": "dac197b15d5f3a2d6c6438f0336a9d99e8636828"
   },
   "outputs": [
    {
     "data": {
      "text/html": [
       "<div>\n",
       "<style scoped>\n",
       "    .dataframe tbody tr th:only-of-type {\n",
       "        vertical-align: middle;\n",
       "    }\n",
       "\n",
       "    .dataframe tbody tr th {\n",
       "        vertical-align: top;\n",
       "    }\n",
       "\n",
       "    .dataframe thead th {\n",
       "        text-align: right;\n",
       "    }\n",
       "</style>\n",
       "<table border=\"1\" class=\"dataframe\">\n",
       "  <thead>\n",
       "    <tr style=\"text-align: right;\">\n",
       "      <th></th>\n",
       "      <th>movieId</th>\n",
       "      <th>title</th>\n",
       "      <th>year</th>\n",
       "      <th>(no genres listed)</th>\n",
       "      <th>Action</th>\n",
       "      <th>Adventure</th>\n",
       "      <th>Animation</th>\n",
       "      <th>Children</th>\n",
       "      <th>Comedy</th>\n",
       "      <th>Crime</th>\n",
       "      <th>...</th>\n",
       "      <th>Film-Noir</th>\n",
       "      <th>Horror</th>\n",
       "      <th>IMAX</th>\n",
       "      <th>Musical</th>\n",
       "      <th>Mystery</th>\n",
       "      <th>Romance</th>\n",
       "      <th>Sci-Fi</th>\n",
       "      <th>Thriller</th>\n",
       "      <th>War</th>\n",
       "      <th>Western</th>\n",
       "    </tr>\n",
       "  </thead>\n",
       "  <tbody>\n",
       "    <tr>\n",
       "      <th>0</th>\n",
       "      <td>1</td>\n",
       "      <td>Toy Story</td>\n",
       "      <td>1995.0</td>\n",
       "      <td>False</td>\n",
       "      <td>False</td>\n",
       "      <td>True</td>\n",
       "      <td>True</td>\n",
       "      <td>True</td>\n",
       "      <td>True</td>\n",
       "      <td>False</td>\n",
       "      <td>...</td>\n",
       "      <td>False</td>\n",
       "      <td>False</td>\n",
       "      <td>False</td>\n",
       "      <td>False</td>\n",
       "      <td>False</td>\n",
       "      <td>False</td>\n",
       "      <td>False</td>\n",
       "      <td>False</td>\n",
       "      <td>False</td>\n",
       "      <td>False</td>\n",
       "    </tr>\n",
       "    <tr>\n",
       "      <th>1</th>\n",
       "      <td>2</td>\n",
       "      <td>Jumanji</td>\n",
       "      <td>1995.0</td>\n",
       "      <td>False</td>\n",
       "      <td>False</td>\n",
       "      <td>True</td>\n",
       "      <td>False</td>\n",
       "      <td>True</td>\n",
       "      <td>False</td>\n",
       "      <td>False</td>\n",
       "      <td>...</td>\n",
       "      <td>False</td>\n",
       "      <td>False</td>\n",
       "      <td>False</td>\n",
       "      <td>False</td>\n",
       "      <td>False</td>\n",
       "      <td>False</td>\n",
       "      <td>False</td>\n",
       "      <td>False</td>\n",
       "      <td>False</td>\n",
       "      <td>False</td>\n",
       "    </tr>\n",
       "    <tr>\n",
       "      <th>2</th>\n",
       "      <td>3</td>\n",
       "      <td>Grumpier Old Men</td>\n",
       "      <td>1995.0</td>\n",
       "      <td>False</td>\n",
       "      <td>False</td>\n",
       "      <td>False</td>\n",
       "      <td>False</td>\n",
       "      <td>False</td>\n",
       "      <td>True</td>\n",
       "      <td>False</td>\n",
       "      <td>...</td>\n",
       "      <td>False</td>\n",
       "      <td>False</td>\n",
       "      <td>False</td>\n",
       "      <td>False</td>\n",
       "      <td>False</td>\n",
       "      <td>True</td>\n",
       "      <td>False</td>\n",
       "      <td>False</td>\n",
       "      <td>False</td>\n",
       "      <td>False</td>\n",
       "    </tr>\n",
       "    <tr>\n",
       "      <th>3</th>\n",
       "      <td>4</td>\n",
       "      <td>Waiting to Exhale</td>\n",
       "      <td>1995.0</td>\n",
       "      <td>False</td>\n",
       "      <td>False</td>\n",
       "      <td>False</td>\n",
       "      <td>False</td>\n",
       "      <td>False</td>\n",
       "      <td>True</td>\n",
       "      <td>False</td>\n",
       "      <td>...</td>\n",
       "      <td>False</td>\n",
       "      <td>False</td>\n",
       "      <td>False</td>\n",
       "      <td>False</td>\n",
       "      <td>False</td>\n",
       "      <td>True</td>\n",
       "      <td>False</td>\n",
       "      <td>False</td>\n",
       "      <td>False</td>\n",
       "      <td>False</td>\n",
       "    </tr>\n",
       "    <tr>\n",
       "      <th>4</th>\n",
       "      <td>5</td>\n",
       "      <td>Father of the Bride Part II</td>\n",
       "      <td>1995.0</td>\n",
       "      <td>False</td>\n",
       "      <td>False</td>\n",
       "      <td>False</td>\n",
       "      <td>False</td>\n",
       "      <td>False</td>\n",
       "      <td>True</td>\n",
       "      <td>False</td>\n",
       "      <td>...</td>\n",
       "      <td>False</td>\n",
       "      <td>False</td>\n",
       "      <td>False</td>\n",
       "      <td>False</td>\n",
       "      <td>False</td>\n",
       "      <td>False</td>\n",
       "      <td>False</td>\n",
       "      <td>False</td>\n",
       "      <td>False</td>\n",
       "      <td>False</td>\n",
       "    </tr>\n",
       "  </tbody>\n",
       "</table>\n",
       "<p>5 rows \u00d7 23 columns</p>\n",
       "</div>"
      ],
      "text/plain": [
       "   movieId                        title    year  (no genres listed)  Action  \\\n",
       "0        1                    Toy Story  1995.0               False   False   \n",
       "1        2                      Jumanji  1995.0               False   False   \n",
       "2        3             Grumpier Old Men  1995.0               False   False   \n",
       "3        4            Waiting to Exhale  1995.0               False   False   \n",
       "4        5  Father of the Bride Part II  1995.0               False   False   \n",
       "\n",
       "   Adventure  Animation  Children  Comedy  Crime  ...  Film-Noir  Horror  \\\n",
       "0       True       True      True    True  False  ...      False   False   \n",
       "1       True      False      True   False  False  ...      False   False   \n",
       "2      False      False     False    True  False  ...      False   False   \n",
       "3      False      False     False    True  False  ...      False   False   \n",
       "4      False      False     False    True  False  ...      False   False   \n",
       "\n",
       "    IMAX  Musical  Mystery  Romance  Sci-Fi  Thriller    War  Western  \n",
       "0  False    False    False    False   False     False  False    False  \n",
       "1  False    False    False    False   False     False  False    False  \n",
       "2  False    False    False     True   False     False  False    False  \n",
       "3  False    False    False     True   False     False  False    False  \n",
       "4  False    False    False    False   False     False  False    False  \n",
       "\n",
       "[5 rows x 23 columns]"
      ]
     },
     "execution_count": 15,
     "metadata": {},
     "output_type": "execute_result"
    }
   ],
   "source": [
    "movies.head()"
   ]
  },
  {
   "cell_type": "code",
   "execution_count": 16,
   "metadata": {
    "_uuid": "81381405ff3aac71386a7a655077cd29c900c04c"
   },
   "outputs": [
    {
     "name": "stderr",
     "output_type": "stream",
     "text": [
      "/tmp/ipykernel_1336073/1815208427.py:2: UserWarning: The argument 'infer_datetime_format' is deprecated and will be removed in a future version. A strict version of it is now the default, see https://pandas.pydata.org/pdeps/0004-consistent-to-datetime-parsing.html. You can safely remove this argument.\n",
      "  ratings.timestamp = pd.to_datetime(ratings.timestamp, infer_datetime_format=True)\n"
     ]
    }
   ],
   "source": [
    "# Modificando o formato do registro de data e hora da avalia\u00e7\u00e3o\n",
    "ratings.timestamp = pd.to_datetime(ratings.timestamp, infer_datetime_format=True)\n",
    "ratings.timestamp = ratings.timestamp.dt.year"
   ]
  },
  {
   "cell_type": "code",
   "execution_count": 17,
   "metadata": {
    "_uuid": "72b38918bed8ad362ed5ad3c9032384edbe55353"
   },
   "outputs": [
    {
     "data": {
      "text/plain": [
       "array([2008, 2013, 2002, 2011, 2012, 1999, 2001, 2007, 1997, 2009, 2006,\n",
       "       1998, 2010, 2014, 2003, 1996, 2000, 2005, 2004, 2015, 1995],\n",
       "      dtype=int32)"
      ]
     },
     "execution_count": 17,
     "metadata": {},
     "output_type": "execute_result"
    }
   ],
   "source": [
    "ratings['timestamp'].unique()"
   ]
  },
  {
   "cell_type": "markdown",
   "metadata": {
    "_uuid": "eae6665948a39489b92ed02a29a81908355c067c"
   },
   "source": [
    "## Limpando registros vazios"
   ]
  },
  {
   "cell_type": "code",
   "execution_count": 18,
   "metadata": {
    "_uuid": "59f094ae3d4b810abe040a255f54b0a16d2ec4d4"
   },
   "outputs": [],
   "source": [
    "# FIRST-AUTHOR: remove plotting\n",
    "# sns.heatmap(movies.isnull(),yticklabels=False,cbar=False,cmap='viridis')\n",
    "# plt.show()\n",
    "_ = movies.isnull()"
   ]
  },
  {
   "cell_type": "code",
   "execution_count": 19,
   "metadata": {
    "_uuid": "ca10a64faca155a903cfa380a712dcdea0d8a386"
   },
   "outputs": [
    {
     "data": {
      "text/plain": [
       "year        22\n",
       "movieId      0\n",
       "Fantasy      0\n",
       "War          0\n",
       "Thriller     0\n",
       "Sci-Fi       0\n",
       "Romance      0\n",
       "Mystery      0\n",
       "Musical      0\n",
       "IMAX         0\n",
       "dtype: int64"
      ]
     },
     "execution_count": 19,
     "metadata": {},
     "output_type": "execute_result"
    }
   ],
   "source": [
    "#Contando valores nulos\n",
    "movies.isnull().sum().sort_values(ascending=False).head(10)"
   ]
  },
  {
   "cell_type": "code",
   "execution_count": 20,
   "metadata": {
    "_uuid": "98d5e45b17c6e90b32a505b125fe963f2bafb9ae"
   },
   "outputs": [],
   "source": [
    "# FIRST-AUTHOR: remove plotting\n",
    "# sns.heatmap(ratings.isnull(),yticklabels=False,cbar=False,cmap='viridis')\n",
    "# plt.show()\n",
    "_ = ratings.isnull()"
   ]
  },
  {
   "cell_type": "code",
   "execution_count": 21,
   "metadata": {
    "_uuid": "7ae88aaba59f919d11554e258e285c602fb022f0"
   },
   "outputs": [
    {
     "data": {
      "text/plain": [
       "userId       0\n",
       "movieId      0\n",
       "rating       0\n",
       "timestamp    0\n",
       "dtype: int64"
      ]
     },
     "execution_count": 21,
     "metadata": {},
     "output_type": "execute_result"
    }
   ],
   "source": [
    "#contando valores nulos\n",
    "ratings.isnull().sum().sort_values(ascending=False).head(10)"
   ]
  },
  {
   "cell_type": "code",
   "execution_count": 22,
   "metadata": {
    "_uuid": "30e5e926a80f63ec2e40ce5da9c06f87231ba702"
   },
   "outputs": [],
   "source": [
    "# Removendo valores nulos do datasets movies\n",
    "movies.dropna(inplace=True)"
   ]
  },
  {
   "cell_type": "code",
   "execution_count": 23,
   "metadata": {
    "_uuid": "2b8ed937d0dcc646692f8daeeb53b1d71368805f"
   },
   "outputs": [
    {
     "data": {
      "text/plain": [
       "movieId     0\n",
       "Fantasy     0\n",
       "War         0\n",
       "Thriller    0\n",
       "Sci-Fi      0\n",
       "Romance     0\n",
       "Mystery     0\n",
       "Musical     0\n",
       "IMAX        0\n",
       "Horror      0\n",
       "dtype: int64"
      ]
     },
     "execution_count": 23,
     "metadata": {},
     "output_type": "execute_result"
    }
   ],
   "source": [
    "movies.isnull().sum().sort_values(ascending=False).head(10)"
   ]
  },
  {
   "cell_type": "markdown",
   "metadata": {
    "_uuid": "2c5432a6a2f79f68d01d7934a4a1b4fc8cd3d09b"
   },
   "source": [
    "# **3. An\u00e1lise explor\u00e1toria**"
   ]
  },
  {
   "cell_type": "markdown",
   "metadata": {
    "_uuid": "c290cc57c25fb78abd7d63ba97309afb2207de9c"
   },
   "source": [
    "# N\u00famero de filmes e classifica\u00e7\u00f5es por ano\n",
    "\n",
    "> N\u00famero de filmes lan\u00e7ados por ano aumentou  quase exponencialmente at\u00e9 2009, depois diminuiu significativamente em 2014 (os dados de 2015 est\u00e3o incompletos).  Nenhuma avalia\u00e7\u00e3o antes de 1995, provavelmente relacionada \u00e0 disponibilidade da Internet para o p\u00fablico em geral."
   ]
  },
  {
   "cell_type": "code",
   "execution_count": 24,
   "metadata": {
    "_uuid": "39d891d84554d7abdb4883258d0c6c4e8c0e4ae7"
   },
   "outputs": [],
   "source": [
    "#df_mv_year = movies.groupby('movieId')['year']"
   ]
  },
  {
   "cell_type": "code",
   "execution_count": 25,
   "metadata": {
    "_uuid": "19dc835b7093a40da6e902bc0dacf336218b0511"
   },
   "outputs": [],
   "source": [
    "dftmp = movies[['movieId', 'year']].groupby('year')\n",
    "\n",
    "# FIRST-AUTHOR: remove plotting\n",
    "# fig, ax1 = plt.subplots(figsize=(15,8))\n",
    "# ax1.plot(dftmp.year.first(), dftmp.movieId.nunique(), \"b\")\n",
    "# ax1.grid(False)\n",
    "_ = dftmp.year.first()\n",
    "_ = dftmp.movieId.nunique()\n",
    "\n",
    "dftmp = ratings[['rating', 'timestamp']].groupby('timestamp')\n",
    "# FIRST-AUTHOR: remove plotting\n",
    "# ax2 = ax1.twinx() #Plotando os dados de avalia\u00e7\u00f5es no eixo\n",
    "# ax2.plot(dftmp.timestamp.first(), dftmp.rating.count(), \"r\")\n",
    "# ax2.grid(False)\n",
    "\n",
    "# ax1.set_xlabel('Ano')\n",
    "# ax1.set_ylabel('N\u00famero de filmes liberados'); ax2.set_ylabel('N\u00famero de avalia\u00e7\u00f5es')\n",
    "# plt.title('Filmes por ano')\n",
    "# plt.show()\n",
    "_ = dftmp.timestamp.first()\n",
    "_ = dftmp.rating.count()"
   ]
  },
  {
   "cell_type": "code",
   "execution_count": 26,
   "metadata": {
    "_kg_hide-input": true,
    "_kg_hide-output": true,
    "_uuid": "6128837a9d65c47dbaf028b829c36806533cfe8d"
   },
   "outputs": [],
   "source": [
    "# Distribution graphs (histogram/bar graph) of column data\n",
    "def plotPerColumnDistribution(df, nGraphShown, nGraphPerRow):\n",
    "    nunique = df.nunique()\n",
    "    df = df[[col for col in df if nunique[col] > 1 and nunique[col] < 50]] # For displaying purposes, pick columns that have between 1 and 50 unique values\n",
    "    nRow, nCol = df.shape\n",
    "    columnNames = list(df)\n",
    "# FIRST-AUTHOR: remove plotting\n",
    "#     nGraphRow = (nCol + nGraphPerRow - 1) / nGraphPerRow\n",
    "#     plt.figure(num = None, figsize = (6 * nGraphPerRow, 8 * nGraphRow), dpi = 80, facecolor = 'w', edgecolor = 'k')\n",
    "    for i in range(min(nCol, nGraphShown)):\n",
    "# FIRST-AUTHOR: remove plotting\n",
    "#         plt.subplot(nGraphRow, nGraphPerRow, i + 1)\n",
    "        columnDf = df.iloc[:, i]\n",
    "        if (not np.issubdtype(type(columnDf.iloc[0]), np.number)):\n",
    "            valueCounts = columnDf.value_counts()\n",
    "# FIRST-AUTHOR: remove plotting\n",
    "#             valueCounts.plot.bar()\n",
    "#         else:\n",
    "#             columnDf.hist()\n",
    "#         plt.ylabel('counts')\n",
    "#         plt.xticks(rotation = 90)\n",
    "#         plt.title(f'{columnNames[i]} (column {i})')\n",
    "#     plt.tight_layout(pad = 1.0, w_pad = 1.0, h_pad = 1.0)\n",
    "#     plt.show()"
   ]
  },
  {
   "cell_type": "code",
   "execution_count": 27,
   "metadata": {
    "_uuid": "aacebcbb94b9eeefc74ec9ba089182c94dcf8f6c"
   },
   "outputs": [],
   "source": [
    "# Scatter and density plots\n",
    "# FIRST-AUTHOR: remove unused code\n",
    "# def plotScatterMatrix(df, plotSize, textSize):\n",
    "#     df = df.select_dtypes(include =[np.number]) # keep only numerical columns\n",
    "#     # Remove rows and columns that would lead to df being singular\n",
    "#     df = df.dropna('columns')\n",
    "#     df = df[[col for col in df if df[col].nunique() > 1]] # keep columns where there are more than 1 unique values\n",
    "#     columnNames = list(df)\n",
    "#     if len(columnNames) > 10: # reduce the number of columns for matrix inversion of kernel density plots\n",
    "#         columnNames = columnNames[:10]\n",
    "#     df = df[columnNames]\n",
    "#     ax = pd.plotting.scatter_matrix(df, alpha=0.75, figsize=[plotSize, plotSize], diagonal='kde')\n",
    "#     corrs = df.corr().values\n",
    "#     for i, j in zip(*plt.np.triu_indices_from(ax, k = 1)):\n",
    "#         ax[i, j].annotate('Corr. coef = %.3f' % corrs[i, j], (0.8, 0.2), xycoords='axes fraction', ha='center', va='center', size=textSize)\n",
    "#     plt.suptitle('Scatter and Density Plot')\n",
    "#     plt.show()"
   ]
  },
  {
   "cell_type": "code",
   "execution_count": 28,
   "metadata": {
    "_uuid": "4e2b0aa708db2b54cf9b2f7e595d8d46ab715bc5"
   },
   "outputs": [],
   "source": [
    "#Distribui\u00e7\u00e3o dos dados de avalia\u00e7\u00e3o e ano\n",
    "plotPerColumnDistribution(ratings, 10, 5)"
   ]
  },
  {
   "cell_type": "code",
   "execution_count": 29,
   "metadata": {
    "_uuid": "0582d2ec7f7c3a45a238f518656cb2dd405278b4"
   },
   "outputs": [
    {
     "data": {
      "text/plain": [
       "Index(['userId', 'movieId', 'rating', 'timestamp'], dtype='object')"
      ]
     },
     "execution_count": 29,
     "metadata": {},
     "output_type": "execute_result"
    }
   ],
   "source": [
    "ratings.columns"
   ]
  },
  {
   "cell_type": "code",
   "execution_count": 30,
   "metadata": {
    "_uuid": "f5b53ab6a69adc499ca49383abce6e5554ae1b8e"
   },
   "outputs": [
    {
     "data": {
      "text/plain": [
       "20000263"
      ]
     },
     "execution_count": 30,
     "metadata": {},
     "output_type": "execute_result"
    }
   ],
   "source": [
    "#Quantidade de usu\u00e1rios\n",
    "ratings['userId'].count()"
   ]
  },
  {
   "cell_type": "code",
   "execution_count": 31,
   "metadata": {
    "_uuid": "976346aa38db8ffa2a4d85b490f44b25efbf3fd7"
   },
   "outputs": [
    {
     "data": {
      "text/plain": [
       "timestamp\n",
       "1995          4\n",
       "1996    1612609\n",
       "1997     700982\n",
       "1998     308070\n",
       "1999    1198384\n",
       "2000    1953659\n",
       "2001    1186125\n",
       "2002     869719\n",
       "2003    1035878\n",
       "2004    1170049\n",
       "2005    1803158\n",
       "2006    1171836\n",
       "2007    1053430\n",
       "2008    1158777\n",
       "2009     930036\n",
       "2010     903691\n",
       "2011     766366\n",
       "2012     731389\n",
       "2013     599327\n",
       "2014     562888\n",
       "2015     283886\n",
       "Name: userId, dtype: int64"
      ]
     },
     "execution_count": 31,
     "metadata": {},
     "output_type": "execute_result"
    }
   ],
   "source": [
    "ratings.groupby('timestamp')['userId'].count()"
   ]
  },
  {
   "cell_type": "code",
   "execution_count": 32,
   "metadata": {
    "_uuid": "07027467d75f145f6787de38b1f346183db90405"
   },
   "outputs": [
    {
     "data": {
      "text/plain": [
       "timestamp\n",
       "1995          4\n",
       "1996    1612609\n",
       "1997     700982\n",
       "1998     308070\n",
       "1999    1198384\n",
       "2000    1953659\n",
       "2001    1186125\n",
       "2002     869719\n",
       "2003    1035878\n",
       "2004    1170049\n",
       "2005    1803158\n",
       "2006    1171836\n",
       "2007    1053430\n",
       "2008    1158777\n",
       "2009     930036\n",
       "2010     903691\n",
       "2011     766366\n",
       "2012     731389\n",
       "2013     599327\n",
       "2014     562888\n",
       "2015     283886\n",
       "Name: userId, dtype: int64"
      ]
     },
     "execution_count": 32,
     "metadata": {},
     "output_type": "execute_result"
    }
   ],
   "source": [
    "#Quantidade de usu\u00e1rios registrados por ano\n",
    "# FIRST-AUTHOR: remove plotting\n",
    "# ratings.groupby('timestamp')['userId'].count().plot(figsize=(15,8), color=\"g\")\n",
    "# plt.ylabel(\"Qtd de usu\u00e1rios\")\n",
    "# plt.xlabel(\"Ano\")\n",
    "# plt.title(\"Contagem de usu\u00e1rios por ano\")\n",
    "# plt.show()\n",
    "ratings.groupby('timestamp')['userId'].count()"
   ]
  },
  {
   "cell_type": "markdown",
   "metadata": {
    "_uuid": "8842bcfc6d6ba161cedc33f732bffe57114bf88f"
   },
   "source": [
    "# N\u00famero acumulado de filmes, no total e por g\u00eanero.\n",
    "> Em m\u00e9dia, os filmes s\u00e3o categorizados em 2 g\u00eaneros (ou seja, o n\u00famero de filmes-g\u00eaneros  dobra o n\u00famero de filmes). Com\u00e9dia e Drama  s\u00e3o os principais g\u00eaneros."
   ]
  },
  {
   "cell_type": "code",
   "execution_count": 33,
   "metadata": {
    "_uuid": "c2c145e4b6474d6b72d54251933732825951681d"
   },
   "outputs": [
    {
     "name": "stderr",
     "output_type": "stream",
     "text": [
      "/tmp/ipykernel_1336073/897554533.py:10: FutureWarning: DataFrame.fillna with 'method' is deprecated and will raise in a future version. Use obj.ffill() or obj.bfill() instead.\n",
      "  df.fillna(method='ffill', inplace=True)\n"
     ]
    }
   ],
   "source": [
    "# FIRST-AUTHOR: remove plotting\n",
    "# plt.figure(figsize=(10,5))\n",
    "dftmp = movies[['movieId', 'year']].groupby('year')\n",
    "df = pd.DataFrame({'All_movies' : dftmp.movieId.nunique().cumsum()})\n",
    "\n",
    "#Histograma para cada g\u00eanero individual\n",
    "for genre in genres_unique.genre:\n",
    "    dftmp = movies[movies[genre]][['movieId', 'year']].groupby('year')\n",
    "    df[genre]=dftmp.movieId.nunique().cumsum()\n",
    "df.fillna(method='ffill', inplace=True)\n",
    "# FIRST-AUTHOR: remove plotting\n",
    "# df.loc[:,df.columns!='All_movies'].plot.area(stacked=True, figsize=(15,8))\n",
    "df.loc[:,df.columns!='All_movies']\n",
    "\n",
    "# Histograma de plotagem para todos os filmes\n",
    "# FIRST-AUTHOR: remove plotting\n",
    "# plt.plot(df['All_movies'], marker='o', markerfacecolor='black')\n",
    "# plt.xlabel('Ano')\n",
    "# plt.ylabel('Acumulativo de filmes por g\u00eanero')\n",
    "# plt.title('Total de filmes por g\u00eanero') # Many movies have multiple genres, so counthere is higher than number of movies\n",
    "# plt.legend(loc=(1.05,0), ncol=2)\n",
    "# plt.show()\n",
    "\n",
    "# #  dispers\u00e3o simples do n\u00famero de filmes marcados com cada g\u00eanero\n",
    "# plt.figure(figsize=(15,8))\n",
    "# barlist = df.iloc[-1].sort_values().plot.bar()\n",
    "# barlist.patches[0].set_color('b')\n",
    "# plt.xticks(rotation='vertical')\n",
    "# plt.title('Filmes por g\u00eanero')\n",
    "# plt.xlabel('G\u00eanero')\n",
    "# plt.ylabel('N\u00famero de filmes')\n",
    "# plt.show()\n",
    "_ = df['All_movies']\n",
    "_ = df.iloc[-1].sort_values()"
   ]
  },
  {
   "cell_type": "code",
   "execution_count": null,
   "metadata": {
    "_uuid": "a5359ff6187d28dddd27950f613244d658d67186"
   },
   "outputs": [],
   "source": []
  },
  {
   "cell_type": "code",
   "execution_count": 34,
   "metadata": {
    "_uuid": "00132e24d92582a27e4e5a3393d5e3180183e232"
   },
   "outputs": [],
   "source": [
    "dftmp = ratings[['movieId','rating']].groupby('movieId').mean()\n",
    "\n",
    "# inicializando uma lista vazia para capturar estat\u00edsticas b\u00e1sicas por g\u00eanero\n",
    "rating_stats = []\n",
    "# Histograma geral do lote de todas as classifica\u00e7\u00f5es\n",
    "# FIRST-AUTHOR: remove plotting\n",
    "# dftmp.hist(bins=25, grid=False, edgecolor='b', normed=True, label ='All genres', figsize=(15,8))\n",
    "\n",
    "# Histograma com linhas kde para melhor visibilidade por g\u00eanero\n",
    "for genre in genres_unique.genre:\n",
    "    dftmp = movies[movies[genre]==True]\n",
    "    dftmp = ratings[ratings.set_index('movieId').index.isin(dftmp.set_index('movieId').index)]\n",
    "    dftmp = dftmp[['movieId','rating']].groupby('movieId').mean()\n",
    "# FIRST-AUTHOR: remove plotting\n",
    "#     dftmp.rating.plot(grid=False, alpha=0.6, kind='kde', label=genre)\n",
    "    dftmp.rating\n",
    "    avg = dftmp.rating.mean()\n",
    "    std = dftmp.rating.std()\n",
    "    rating_stats.append((genre, avg, std))\n",
    "# FIRST-AUTHOR: remove plotting\n",
    "# plt.legend(loc=(1.05,0), ncol=2)\n",
    "# plt.xlim(0,5)\n",
    "# plt.xlabel('Avalia\u00e7\u00f5es')\n",
    "# plt.ylabel('Densidade')\n",
    "# plt.title('Histograma de avalia\u00e7\u00e3o de filmes')\n",
    "# plt.show()"
   ]
  },
  {
   "cell_type": "code",
   "execution_count": null,
   "metadata": {
    "_uuid": "5dc0424f05fab183fca5f8e4f9f2b13be9b30eab"
   },
   "outputs": [],
   "source": []
  }
 ],
 "metadata": {
  "kernelspec": {
   "display_name": "Python 3 (ipykernel)",
   "language": "python",
   "name": "python3"
  },
  "language_info": {
   "codemirror_mode": {
    "name": "ipython",
    "version": 3
   },
   "file_extension": ".py",
   "mimetype": "text/x-python",
   "name": "python",
   "nbconvert_exporter": "python",
   "pygments_lexer": "ipython3",
   "version": "3.10.16"
  }
 },
 "nbformat": 4,
 "nbformat_minor": 1
}