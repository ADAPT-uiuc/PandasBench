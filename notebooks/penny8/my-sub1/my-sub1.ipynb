{
 "cells": [
  {
   "cell_type": "code",
   "execution_count": null,
   "metadata": {},
   "outputs": [],
   "source": [
    "import os\n",
    "\n",
    "def scale_input_data(scale_factor):\n",
    "  file_bases = ['./input/train', './input/test']\n",
    "  for file_base in file_bases:\n",
    "    import pandas as pd\n",
    "    import shutil\n",
    "    if scale_factor == 1.0:\n",
    "      shutil.copyfile(file_base + '.csv', file_base + '.scaled.csv')\n",
    "      continue\n",
    "    df_to_scale = pd.read_csv(file_base + '.csv')\n",
    "    new_num_rows = int(scale_factor * len(df_to_scale))\n",
    "    if scale_factor <= 1.0:\n",
    "      df_to_scale = df_to_scale.iloc[:new_num_rows]\n",
    "    else:\n",
    "      while len(df_to_scale) < new_num_rows:\n",
    "        df_to_scale = pd.concat([df_to_scale, df_to_scale[:min(new_num_rows - len(df_to_scale), len(df_to_scale))]])\n",
    "    df_to_scale.to_csv(file_base + '.scaled.csv', index=False)\n",
    "\n",
    "if 'INPUT_SCALE_FACTOR' in os.environ:\n",
    "  scale_input_data(float(os.environ['INPUT_SCALE_FACTOR']))"
   ]
  },
  {
   "cell_type": "code",
   "execution_count": 1,
   "metadata": {
    "_uuid": "85e1c1eb9b84c6ba63553a8d0aac3a9faf5035f4"
   },
   "outputs": [],
   "source": [
    "# ALEX: remove unused code\n",
    "# import time\n",
    "# start_time = time.time()\n",
    "import numpy as np # linear algebra\n",
    "# import pandas as pd # data processing, CSV file I/O (e.g. pd.read_csv)\n",
    "exec(os.environ['IREWR_IMPORTS'])\n",
    "# ALEX: remove plotting\n",
    "# import matplotlib.pyplot as plt\n",
    "# import seaborn as sns\n",
    "from datetime import datetime\n",
    "# from pandas import Series\n",
    "# ALEX: remove ML code\n",
    "# from sklearn.ensemble import RandomForestRegressor\n",
    "\n",
    "# from subprocess import check_output"
   ]
  },
  {
   "cell_type": "code",
   "execution_count": 2,
   "metadata": {
    "_uuid": "2737a701a358f981db58a4d472b6d2baacfb11c8"
   },
   "outputs": [],
   "source": [
    "train = pd.read_csv(\"./input/train.scaled.csv\")\n",
    "test = pd.read_csv(\"./input/test.scaled.csv\")\n"
   ]
  },
  {
   "cell_type": "code",
   "execution_count": 3,
   "metadata": {
    "_uuid": "be7881ddfb3d5e7b24f267e0b8f72fcf14377f67"
   },
   "outputs": [
    {
     "data": {
      "text/plain": [
       "0"
      ]
     },
     "execution_count": 3,
     "metadata": {},
     "output_type": "execute_result"
    }
   ],
   "source": [
    "train.isnull().sum().sum()"
   ]
  },
  {
   "cell_type": "code",
   "execution_count": 4,
   "metadata": {
    "_uuid": "f671c18a04886d276413ac3d6aedfb99f1f51a3d"
   },
   "outputs": [
    {
     "data": {
      "text/plain": [
       "Index(['id', 'vendor_id', 'pickup_datetime', 'dropoff_datetime',\n",
       "       'passenger_count', 'pickup_longitude', 'pickup_latitude',\n",
       "       'dropoff_longitude', 'dropoff_latitude', 'store_and_fwd_flag',\n",
       "       'trip_duration'],\n",
       "      dtype='object')"
      ]
     },
     "execution_count": 4,
     "metadata": {},
     "output_type": "execute_result"
    }
   ],
   "source": [
    "train.columns"
   ]
  },
  {
   "cell_type": "code",
   "execution_count": 5,
   "metadata": {
    "_uuid": "cc3c4f7cf230160e54e612be9f95b8a1a72b86e8"
   },
   "outputs": [
    {
     "data": {
      "text/plain": [
       "Index(['id', 'vendor_id', 'pickup_datetime', 'passenger_count',\n",
       "       'pickup_longitude', 'pickup_latitude', 'dropoff_longitude',\n",
       "       'dropoff_latitude', 'store_and_fwd_flag'],\n",
       "      dtype='object')"
      ]
     },
     "execution_count": 5,
     "metadata": {},
     "output_type": "execute_result"
    }
   ],
   "source": [
    "test.columns"
   ]
  },
  {
   "cell_type": "code",
   "execution_count": 6,
   "metadata": {
    "_uuid": "2f0a23fb7b384f670aa85ca1f549a5f0d9810ec0"
   },
   "outputs": [],
   "source": [
    "month = lambda x: datetime.strptime(x, \"%Y-%m-%d %H:%M:%S\" ).month\n",
    "day_of_week = lambda x: datetime.strptime(x, \"%Y-%m-%d %H:%M:%S\" ).weekday()\n",
    "day = lambda x: datetime.strptime(x, \"%Y-%m-%d %H:%M:%S\" ).day\n",
    "hour = lambda x: datetime.strptime(x, \"%Y-%m-%d %H:%M:%S\" ).hour\n",
    "minute = lambda x: datetime.strptime(x, \"%Y-%m-%d %H:%M:%S\" ).minute\n",
    "\n",
    "seasons = [0,0,1,1,1,2]\n",
    "season = lambda x: seasons[(datetime.strptime(x, \"%Y-%m-%d %H:%M:%S\" ).month-1)]"
   ]
  },
  {
   "cell_type": "code",
   "execution_count": 7,
   "metadata": {
    "_uuid": "fb1449d2b61a775978c478bc8463a0f543f984e8"
   },
   "outputs": [],
   "source": [
    "train['month'] = train['pickup_datetime'].map(month)\n",
    "train['day'] = train['pickup_datetime'].map(day)\n",
    "train['day_of_week'] = train['pickup_datetime'].map(day_of_week)\n",
    "train['hour'] = train['pickup_datetime'].map(hour)\n",
    "train['minute'] = train['pickup_datetime'].map(minute)\n",
    "train['season'] = train['pickup_datetime'].map(season)"
   ]
  },
  {
   "cell_type": "code",
   "execution_count": 8,
   "metadata": {
    "_uuid": "3f728c127666db38b59964e9cf7fe1e1bb70ea5b"
   },
   "outputs": [],
   "source": [
    "train['store_and_fwd_flag']=train['store_and_fwd_flag'].map( {'N': 0, 'Y': 1} ).astype(int)"
   ]
  },
  {
   "cell_type": "code",
   "execution_count": 9,
   "metadata": {
    "_uuid": "247d6f570ed8a93f5ef317640d90d84b57627a12"
   },
   "outputs": [],
   "source": [
    "test['month'] = test['pickup_datetime'].map(month)\n",
    "test['day_of_week'] = test['pickup_datetime'].map(day_of_week)\n",
    "test['day'] = test['pickup_datetime'].map(day)\n",
    "test['hour'] = test['pickup_datetime'].map(hour)\n",
    "test['minute'] = test['pickup_datetime'].map(minute)\n",
    "test['season'] = test['pickup_datetime'].map(season)\n"
   ]
  },
  {
   "cell_type": "code",
   "execution_count": 10,
   "metadata": {
    "_uuid": "f17aa30214a5eea10d13b8a489f6428d3a13d6ac"
   },
   "outputs": [],
   "source": [
    "test['store_and_fwd_flag']=test['store_and_fwd_flag'].map( {'N': 0, 'Y': 1} ).astype(int)\n"
   ]
  },
  {
   "cell_type": "code",
   "execution_count": 11,
   "metadata": {
    "_uuid": "50ee3ecda48755e3fae2c660db8c66274f1e90c8"
   },
   "outputs": [
    {
     "data": {
      "text/plain": [
       "1     97676\n",
       "2    102314\n",
       "3    109697\n",
       "4    107432\n",
       "5    107570\n",
       "6    100445\n",
       "Name: month, dtype: int64"
      ]
     },
     "execution_count": 11,
     "metadata": {},
     "output_type": "execute_result"
    }
   ],
   "source": [
    "# ALEX: remove plotting\n",
    "# plt.figure(figsize=(12,5))\n",
    "# plt.subplot(1, 2, 1)\n",
    "# Series(train['month']).value_counts().sort_index().plot(kind = 'bar')\n",
    "# plt.xlabel(\"Month\")\n",
    "# plt.ylabel(\"Count\")\n",
    "# plt.title('Which month has the most rides? (train data)')\n",
    "# plt.subplot(1, 2, 2)\n",
    "# Series(test['month']).value_counts().sort_index().plot(kind = 'bar')\n",
    "# plt.xlabel(\"Month\")\n",
    "# plt.ylabel(\"Count\")\n",
    "# plt.title('Which month has the most rides? (test data)')\n",
    "pd.Series(train['month']).value_counts().sort_index()\n",
    "pd.Series(test['month']).value_counts().sort_index()"
   ]
  },
  {
   "cell_type": "code",
   "execution_count": 12,
   "metadata": {
    "_uuid": "14785f0928af54d2a0bd1ba7d0a225afe2191a6b"
   },
   "outputs": [
    {
     "data": {
      "text/plain": [
       "1     20203\n",
       "2     20503\n",
       "3     20828\n",
       "4     21002\n",
       "5     21540\n",
       "6     21392\n",
       "7     20881\n",
       "8     20862\n",
       "9     21308\n",
       "10    20698\n",
       "11    21011\n",
       "12    21200\n",
       "13    21097\n",
       "14    21672\n",
       "15    21202\n",
       "16    21686\n",
       "17    21090\n",
       "18    20584\n",
       "19    21106\n",
       "20    21070\n",
       "21    20790\n",
       "22    20626\n",
       "23    17786\n",
       "24    18974\n",
       "25    19861\n",
       "26    20097\n",
       "27    20037\n",
       "28    19687\n",
       "29    19834\n",
       "30    16594\n",
       "31     9913\n",
       "Name: day, dtype: int64"
      ]
     },
     "execution_count": 12,
     "metadata": {},
     "output_type": "execute_result"
    }
   ],
   "source": [
    "# ALEX: remove plotting\n",
    "# plt.figure(figsize=(12,5))\n",
    "# plt.subplot(1, 2, 1)\n",
    "# Series(train['day']).value_counts().sort_index().plot(kind = 'bar')\n",
    "# plt.xlabel(\"Day\")\n",
    "# plt.ylabel(\"Count\")\n",
    "# plt.title('Which day has the most rides?(train data)')\n",
    "# plt.subplot(1, 2, 2)\n",
    "# Series(test['day']).value_counts().sort_index().plot(kind = 'bar')\n",
    "# plt.xlabel(\"Day\")\n",
    "# plt.ylabel(\"Count\")\n",
    "# plt.title('Which day has the most rides?(test data)')\n",
    "pd.Series(train['day']).value_counts().sort_index()\n",
    "pd.Series(test['day']).value_counts().sort_index()"
   ]
  },
  {
   "cell_type": "code",
   "execution_count": 13,
   "metadata": {
    "_uuid": "a86b7bc07821221193685c27075564f9a1f381c3"
   },
   "outputs": [
    {
     "data": {
      "text/plain": [
       "0    80388\n",
       "1    87318\n",
       "2    89888\n",
       "3    93460\n",
       "4    96260\n",
       "5    94232\n",
       "6    83588\n",
       "Name: day_of_week, dtype: int64"
      ]
     },
     "execution_count": 13,
     "metadata": {},
     "output_type": "execute_result"
    }
   ],
   "source": [
    "# ALEX: remove plotting\n",
    "# plt.figure(figsize=(12,5))\n",
    "# plt.subplot(1, 2, 1)\n",
    "# Series(train['day_of_week']).value_counts().sort_index().plot(kind = 'bar')\n",
    "# plt.xlabel(\"Day of week\")\n",
    "# plt.ylabel(\"Count\")\n",
    "# plt.title('Which day of week has the most rides? \\n (0 = Monday)-(train data)')\n",
    "# plt.subplot(1, 2, 2)\n",
    "# Series(test['day_of_week']).value_counts().sort_index().plot(kind = 'bar')\n",
    "# plt.xlabel(\"Day of week\")\n",
    "# plt.ylabel(\"Count\")\n",
    "# plt.title('Which day of week has the most rides? \\n (0 = Monday)-(test data)')\n",
    "pd.Series(train['day_of_week']).value_counts().sort_index()\n",
    "pd.Series(test['day_of_week']).value_counts().sort_index()"
   ]
  },
  {
   "cell_type": "code",
   "execution_count": 14,
   "metadata": {
    "_uuid": "6f326f2f207abddce927dc3dc1e3a2bcd17c6832"
   },
   "outputs": [],
   "source": [
    "# ALEX: remove extra dependencies\n",
    "# from geopy.distance import great_circle\n",
    "def distance(p_lat,p_long,d_lat,d_long):\n",
    "    pickup = (p_lat, p_long)\n",
    "    dropoff = (d_lat, d_long)\n",
    "# ALEX: remove extra dependencies\n",
    "#     distance_all=great_circle(pickup, dropoff).km\n",
    "#     return distance_all\n",
    "    return 50"
   ]
  },
  {
   "cell_type": "code",
   "execution_count": 15,
   "metadata": {
    "_uuid": "dcebc6e12976f4219b897978151251bdb458426b"
   },
   "outputs": [],
   "source": [
    "#for train data\n",
    "d_train = [distance(train['pickup_latitude'].values[i], train['pickup_longitude'].values[i],\n",
    "              train['dropoff_latitude'].values[i],train['dropoff_longitude'].values[i]) for i in range(len(train['pickup_latitude']))]\n",
    "train['distance_est']=d_train"
   ]
  },
  {
   "cell_type": "code",
   "execution_count": 16,
   "metadata": {
    "_uuid": "78d7b7cf55bc44995c97247a76a928a5666498f5"
   },
   "outputs": [
    {
     "name": "stderr",
     "output_type": "stream",
     "text": [
      "/tmp/ipykernel_348289/932759980.py:2: FutureWarning: Boolean inputs to the `inclusive` argument are deprecated in favour of `both` or `neither`.\n",
      "  train[\"d2\"]=train['distance_est'].between(5, 10, inclusive=False)\n",
      "/tmp/ipykernel_348289/932759980.py:3: FutureWarning: Boolean inputs to the `inclusive` argument are deprecated in favour of `both` or `neither`.\n",
      "  train[\"d3\"]=train['distance_est'].between(10, 20, inclusive=False)\n",
      "/tmp/ipykernel_348289/932759980.py:4: FutureWarning: Boolean inputs to the `inclusive` argument are deprecated in favour of `both` or `neither`.\n",
      "  train[\"d4\"]=train['distance_est'].between(20, 30, inclusive=False)\n",
      "/tmp/ipykernel_348289/932759980.py:5: FutureWarning: Boolean inputs to the `inclusive` argument are deprecated in favour of `both` or `neither`.\n",
      "  train[\"d5\"]=train['distance_est'].between(30, 100, inclusive=False)\n"
     ]
    }
   ],
   "source": [
    "train[\"d1\"]=train['distance_est']<=5\n",
    "train[\"d2\"]=train['distance_est'].between(5, 10, inclusive=False)\n",
    "train[\"d3\"]=train['distance_est'].between(10, 20, inclusive=False)\n",
    "train[\"d4\"]=train['distance_est'].between(20, 30, inclusive=False)\n",
    "train[\"d5\"]=train['distance_est'].between(30, 100, inclusive=False)\n",
    "train[\"d6\"]=train['distance_est']>100"
   ]
  },
  {
   "cell_type": "code",
   "execution_count": 17,
   "metadata": {
    "_uuid": "0e6335cca5eb6127cd3cd4c2fc859a40aa2753b8"
   },
   "outputs": [],
   "source": [
    "#for test data\n",
    "d_test = [distance(test['pickup_latitude'].values[i], test['pickup_longitude'].values[i],\n",
    "              test['dropoff_latitude'].values[i],test['dropoff_longitude'].values[i]) for i in range(len(test['pickup_latitude']))]\n",
    "test['distance_est']=d_test"
   ]
  },
  {
   "cell_type": "code",
   "execution_count": 18,
   "metadata": {
    "_uuid": "cfbbc3cd0d4c2c79c4bf08f19687c9446c85fbac"
   },
   "outputs": [
    {
     "name": "stderr",
     "output_type": "stream",
     "text": [
      "/tmp/ipykernel_348289/2618483778.py:2: FutureWarning: Boolean inputs to the `inclusive` argument are deprecated in favour of `both` or `neither`.\n",
      "  test[\"d2\"]=test['distance_est'].between(5, 10, inclusive=False)\n",
      "/tmp/ipykernel_348289/2618483778.py:3: FutureWarning: Boolean inputs to the `inclusive` argument are deprecated in favour of `both` or `neither`.\n",
      "  test[\"d3\"]=test['distance_est'].between(10, 20, inclusive=False)\n",
      "/tmp/ipykernel_348289/2618483778.py:4: FutureWarning: Boolean inputs to the `inclusive` argument are deprecated in favour of `both` or `neither`.\n",
      "  test[\"d4\"]=test['distance_est'].between(20, 30, inclusive=False)\n",
      "/tmp/ipykernel_348289/2618483778.py:5: FutureWarning: Boolean inputs to the `inclusive` argument are deprecated in favour of `both` or `neither`.\n",
      "  test[\"d5\"]=test['distance_est'].between(30, 100, inclusive=False)\n"
     ]
    }
   ],
   "source": [
    "test[\"d1\"]=test['distance_est']<=5\n",
    "test[\"d2\"]=test['distance_est'].between(5, 10, inclusive=False)\n",
    "test[\"d3\"]=test['distance_est'].between(10, 20, inclusive=False)\n",
    "test[\"d4\"]=test['distance_est'].between(20, 30, inclusive=False)\n",
    "test[\"d5\"]=test['distance_est'].between(30, 100, inclusive=False)\n",
    "test[\"d6\"]=test['distance_est']>100"
   ]
  },
  {
   "cell_type": "code",
   "execution_count": 19,
   "metadata": {
    "_uuid": "31e836fdc539db38a49c529b98f74698705b52a5"
   },
   "outputs": [],
   "source": [
    "#dimension reduction of pickup and dropoff (not sure about this step)\n",
    "# ALEX: remove ML code\n",
    "# from sklearn.decomposition import TruncatedSVD\n",
    "# tsvd = TruncatedSVD(n_components=1, random_state=1)"
   ]
  },
  {
   "cell_type": "code",
   "execution_count": 20,
   "metadata": {
    "_uuid": "e56f8b26362c596b17952e58cbef07ac7f3f7c06"
   },
   "outputs": [],
   "source": [
    "#for train data\n",
    "frames_p_train=[train['pickup_latitude'],train['pickup_longitude']]\n",
    "p_train=pd.concat(frames_p_train,axis=1)\n",
    "\n",
    "frames_d_train=[train['dropoff_latitude'],train['dropoff_longitude']]\n",
    "d_train=pd.concat(frames_d_train,axis=1)\n",
    "\n",
    "# ALEX: remove ML code\n",
    "# train['tsvd_p']=tsvd.fit_transform(p_train)\n",
    "# train['tsvd_d']=tsvd.fit_transform(d_train)\n",
    "train['tsvd_p'] = p_train.iloc[:,0]\n",
    "train['tsvd_d'] = d_train.iloc[:,0]"
   ]
  },
  {
   "cell_type": "code",
   "execution_count": 21,
   "metadata": {
    "_uuid": "ec7482a828175fe0d9feff7b76c145e651b958d5"
   },
   "outputs": [],
   "source": [
    "#for test data\n",
    "frames_p_test=[test['pickup_latitude'],test['pickup_longitude']]\n",
    "p_test=pd.concat(frames_p_test,axis=1)\n",
    "\n",
    "frames_d_test=[test['dropoff_latitude'],test['dropoff_longitude']]\n",
    "d_test=pd.concat(frames_d_test,axis=1)\n",
    "\n",
    "# ALEX: remove ML code\n",
    "# test['tsvd_p']=tsvd.fit_transform(p_test)\n",
    "# test['tsvd_d']=tsvd.fit_transform(d_test)\n",
    "test['tsvd_p'] = p_test.iloc[:,0]\n",
    "test['tsvd_d'] = d_test.iloc[:,0]"
   ]
  },
  {
   "cell_type": "code",
   "execution_count": 22,
   "metadata": {
    "_uuid": "16195203d92185c60187d8db72e10df379770c1d"
   },
   "outputs": [],
   "source": [
    "import math\n",
    "\n",
    "def calculate_initial_compass_bearing(pointA, pointB):\n",
    "    if (type(pointA) != tuple) or (type(pointB) != tuple):\n",
    "        raise TypeError(\"Only tuples are supported as arguments\")\n",
    "\n",
    "    lat1 = math.radians(pointA[0])\n",
    "    lat2 = math.radians(pointB[0])\n",
    "\n",
    "    diffLong = math.radians(pointB[1] - pointA[1])\n",
    "\n",
    "    x = math.sin(diffLong) * math.cos(lat2)\n",
    "    y = math.cos(lat1) * math.sin(lat2) - (math.sin(lat1)\n",
    "            * math.cos(lat2) * math.cos(diffLong))\n",
    "\n",
    "    initial_bearing = math.atan2(x, y)\n",
    "\n",
    "    # Now we have the initial bearing but math.atan2 return values\n",
    "    # from -180\u00b0 to + 180\u00b0 which is not what we want for a compass bearing\n",
    "    # The solution is to normalize the initial bearing as shown below\n",
    "    initial_bearing = math.degrees(initial_bearing)\n",
    "    compass_bearing = (initial_bearing + 360) % 360\n",
    "\n",
    "    return compass_bearing"
   ]
  },
  {
   "cell_type": "code",
   "execution_count": 23,
   "metadata": {
    "_uuid": "34a48defedde6d54d2a875c4dca12dbb4d77f503"
   },
   "outputs": [],
   "source": [
    "#for train data\n",
    "train['direction']=[calculate_initial_compass_bearing((train['pickup_latitude'].loc[i],train['pickup_longitude'].loc[i]), \n",
    "                                  (train['dropoff_latitude'].loc[i],train['dropoff_longitude'].loc[i])) for i in range(len(train['pickup_latitude']))]"
   ]
  },
  {
   "cell_type": "code",
   "execution_count": 24,
   "metadata": {
    "_uuid": "8b203c0056eebf14256ff20c3e9add3679afddd0"
   },
   "outputs": [],
   "source": [
    "#for test data\n",
    "test['direction']=[calculate_initial_compass_bearing((test['pickup_latitude'].loc[i],test['pickup_longitude'].loc[i]), \n",
    "                                  (test['dropoff_latitude'].loc[i],test['dropoff_longitude'].loc[i])) for i in range(len(test['pickup_latitude']))]"
   ]
  },
  {
   "cell_type": "code",
   "execution_count": 25,
   "metadata": {
    "_uuid": "6e57d8b7c5ae08e206bfbb676c4ad44b4b5b68f1"
   },
   "outputs": [
    {
     "name": "stderr",
     "output_type": "stream",
     "text": [
      "/tmp/ipykernel_348289/308388489.py:3: FutureWarning: The default value of numeric_only in DataFrame.corr is deprecated. In a future version, it will default to False. Select only valid columns or specify the value of numeric_only to silence this warning.\n",
      "  _ = train.corr()\n"
     ]
    }
   ],
   "source": [
    "# ALEX: remove plotting\n",
    "# sns.heatmap(train.corr())\n",
    "_ = train.corr()"
   ]
  },
  {
   "cell_type": "code",
   "execution_count": 26,
   "metadata": {
    "_uuid": "9661571d874276ef681073311762754a79bf375e"
   },
   "outputs": [],
   "source": [
    "test_id=test[\"id\"]\n",
    "test = test.drop(['id', 'pickup_datetime'], axis=1)\n",
    "X = train.drop(['id','trip_duration', 'pickup_datetime','dropoff_datetime'], axis=1)\n",
    "Y = train['trip_duration']"
   ]
  },
  {
   "cell_type": "code",
   "execution_count": 27,
   "metadata": {
    "_uuid": "fac9f8cb754f0de2a48f640fc1ad0fbc1c701942"
   },
   "outputs": [],
   "source": [
    "# ALEX: remove ML code\n",
    "# RF = RandomForestRegressor(verbose=True)\n",
    "# RF.fit(X, Y)"
   ]
  },
  {
   "cell_type": "code",
   "execution_count": 28,
   "metadata": {
    "_uuid": "5d04af7eff481d8db0a41aa319802e3ebe3db9da"
   },
   "outputs": [],
   "source": [
    "features_list = X.columns.values\n",
    "# ALEX: remove ML code\n",
    "# feature_importance = RF.feature_importances_\n",
    "# sorted_idx = np.argsort(feature_importance)\n",
    "feature_importance = X.columns.values\n",
    "sorted_idx = np.argsort(feature_importance)\n",
    " \n",
    "# ALEX: remove plotting\n",
    "# plt.figure(figsize=(5,10))\n",
    "# plt.barh(range(len(sorted_idx)), feature_importance[sorted_idx], align='center')\n",
    "# plt.yticks(range(len(sorted_idx)), features_list[sorted_idx])\n",
    "# plt.xlabel('Importance')\n",
    "# plt.title('Feature importances')\n",
    "# plt.draw()\n",
    "# plt.show()\n",
    "_ = feature_importance[sorted_idx]\n",
    "_ = features_list[sorted_idx]"
   ]
  },
  {
   "cell_type": "code",
   "execution_count": 29,
   "metadata": {
    "_uuid": "f49be9fe39802818cb8f9303ef08bf16a3a60bc0"
   },
   "outputs": [],
   "source": [
    "# ALEX: remove ML code\n",
    "# Y_pred = RF.predict(test)\n",
    "Y_pred = Y"
   ]
  },
  {
   "cell_type": "code",
   "execution_count": 30,
   "metadata": {
    "_uuid": "8f0a470ccde1e58dd893375d358e281c92c77212"
   },
   "outputs": [],
   "source": [
    "sub = pd.DataFrame()\n",
    "sub['id'] = test_id\n",
    "sub['trip_duration'] = Y_pred\n",
    "sub.to_csv('RF.csv', index=False)"
   ]
  },
  {
   "cell_type": "code",
   "execution_count": null,
   "metadata": {},
   "outputs": [],
   "source": []
  }
 ],
 "metadata": {
  "kernelspec": {
   "display_name": "Python 3 (ipykernel)",
   "language": "python",
   "name": "python3"
  },
  "language_info": {
   "codemirror_mode": {
    "name": "ipython",
    "version": 3
   },
   "file_extension": ".py",
   "mimetype": "text/x-python",
   "name": "python",
   "nbconvert_exporter": "python",
   "pygments_lexer": "ipython3",
   "version": "3.10.16"
  }
 },
 "nbformat": 4,
 "nbformat_minor": 1
}