{
 "cells": [
  {
   "cell_type": "code",
   "execution_count": null,
   "metadata": {},
   "outputs": [],
   "source": [
    "import os\n",
    "\n",
    "def scale_input_data(scale_factor):\n",
    "  file_bases = ['./input/data-dictionary', './input/Country-data']\n",
    "  for file_base in file_bases:\n",
    "    import pandas as pd\n",
    "    import shutil\n",
    "    if scale_factor == 1.0:\n",
    "      shutil.copyfile(file_base + '.csv', file_base + '.scaled.csv')\n",
    "      continue\n",
    "    df_to_scale = pd.read_csv(file_base + '.csv')\n",
    "    new_num_rows = int(scale_factor * len(df_to_scale))\n",
    "    if scale_factor <= 1.0:\n",
    "      df_to_scale = df_to_scale.iloc[:new_num_rows]\n",
    "    else:\n",
    "      while len(df_to_scale) < new_num_rows:\n",
    "        df_to_scale = pd.concat([df_to_scale, df_to_scale[:min(new_num_rows - len(df_to_scale), len(df_to_scale))]])\n",
    "    df_to_scale.to_csv(file_base + '.scaled.csv', index=False)\n",
    "\n",
    "if 'INPUT_SCALE_FACTOR' in os.environ:\n",
    "  scale_input_data(float(os.environ['INPUT_SCALE_FACTOR']))"
   ]
  },
  {
   "cell_type": "code",
   "execution_count": 1,
   "metadata": {
    "execution": {
     "iopub.execute_input": "2020-09-08T07:49:47.932554Z",
     "iopub.status.busy": "2020-09-08T07:49:47.931800Z",
     "iopub.status.idle": "2020-09-08T07:49:47.938754Z",
     "shell.execute_reply": "2020-09-08T07:49:47.938200Z"
    },
    "papermill": {
     "duration": 0.03379,
     "end_time": "2020-09-08T07:49:47.938854",
     "exception": false,
     "start_time": "2020-09-08T07:49:47.905064",
     "status": "completed"
    },
    "tags": []
   },
   "outputs": [],
   "source": [
    "# This Python 3 environment comes with many helpful analytics libraries installed\n",
    "# It is defined by the kaggle/python Docker image: https://github.com/kaggle/docker-python\n",
    "# For example, here's several helpful packages to load\n",
    "\n",
    "import numpy as np # linear algebra\n",
    "# import pandas as pd # data processing, CSV file I/O (e.g. pd.read_csv)\n",
    "exec(os.environ['IREWR_IMPORTS'])\n",
    "\n",
    "# Input data files are available in the read-only \"../input/\" directory\n",
    "# For example, running this (by clicking run or pressing Shift+Enter) will list all files under the input directory\n",
    "\n",
    "# ALEX: remove path printing\n",
    "# import os\n",
    "# for dirname, _, filenames in os.walk('./input'):\n",
    "#     for filename in filenames:\n",
    "#         print(os.path.join(dirname, filename))\n",
    "\n",
    "# You can write up to 5GB to the current directory (/kaggle/working/) that gets preserved as output when you create a version using \"Save & Run All\" \n",
    "# You can also write temporary files to /kaggle/temp/, but they won't be saved outside of the current session"
   ]
  },
  {
   "cell_type": "markdown",
   "metadata": {
    "papermill": {
     "duration": 0.020749,
     "end_time": "2020-09-08T07:49:47.978575",
     "exception": false,
     "start_time": "2020-09-08T07:49:47.957826",
     "status": "completed"
    },
    "tags": []
   },
   "source": [
    "## 1. Load libraries and read the data"
   ]
  },
  {
   "cell_type": "code",
   "execution_count": 2,
   "metadata": {
    "execution": {
     "iopub.execute_input": "2020-09-08T07:49:48.023327Z",
     "iopub.status.busy": "2020-09-08T07:49:48.022704Z",
     "iopub.status.idle": "2020-09-08T07:49:49.191755Z",
     "shell.execute_reply": "2020-09-08T07:49:49.191101Z"
    },
    "papermill": {
     "duration": 1.194137,
     "end_time": "2020-09-08T07:49:49.191880",
     "exception": false,
     "start_time": "2020-09-08T07:49:47.997743",
     "status": "completed"
    },
    "tags": []
   },
   "outputs": [],
   "source": [
    "# ALEX: remove plotting\n",
    "# import pandas as pd\n",
    "# import numpy as np\n",
    "\n",
    "# import seaborn as sns\n",
    "# import matplotlib.pyplot as plt\n",
    "\n",
    "pd.set_option('display.max_columns', 500)\n",
    "pd.set_option('display.max_colwidth', None)\n",
    "\n",
    "# For scaling the data\n",
    "# ALEX: remove ML code\n",
    "# from sklearn.preprocessing import StandardScaler\n",
    "\n",
    "# # To perform K-means clustering\n",
    "# from sklearn.cluster import KMeans\n",
    "\n",
    "\n",
    "# #To perform hierarchical clustering\n",
    "# from scipy.cluster.hierarchy import linkage\n",
    "# from scipy.cluster.hierarchy import dendrogram\n",
    "# from scipy.cluster.hierarchy import cut_tree"
   ]
  },
  {
   "cell_type": "code",
   "execution_count": 3,
   "metadata": {
    "execution": {
     "iopub.execute_input": "2020-09-08T07:49:49.237154Z",
     "iopub.status.busy": "2020-09-08T07:49:49.236530Z",
     "iopub.status.idle": "2020-09-08T07:49:49.247950Z",
     "shell.execute_reply": "2020-09-08T07:49:49.247366Z"
    },
    "papermill": {
     "duration": 0.037158,
     "end_time": "2020-09-08T07:49:49.248076",
     "exception": false,
     "start_time": "2020-09-08T07:49:49.210918",
     "status": "completed"
    },
    "tags": []
   },
   "outputs": [],
   "source": [
    "data_dict = pd.read_csv('./input/data-dictionary.scaled.csv')"
   ]
  },
  {
   "cell_type": "code",
   "execution_count": 4,
   "metadata": {
    "execution": {
     "iopub.execute_input": "2020-09-08T07:49:49.300725Z",
     "iopub.status.busy": "2020-09-08T07:49:49.300049Z",
     "iopub.status.idle": "2020-09-08T07:49:49.308116Z",
     "shell.execute_reply": "2020-09-08T07:49:49.307632Z"
    },
    "papermill": {
     "duration": 0.040039,
     "end_time": "2020-09-08T07:49:49.308223",
     "exception": false,
     "start_time": "2020-09-08T07:49:49.268184",
     "status": "completed"
    },
    "tags": []
   },
   "outputs": [
    {
     "data": {
      "text/html": [
       "<div>\n",
       "<style scoped>\n",
       "    .dataframe tbody tr th:only-of-type {\n",
       "        vertical-align: middle;\n",
       "    }\n",
       "\n",
       "    .dataframe tbody tr th {\n",
       "        vertical-align: top;\n",
       "    }\n",
       "\n",
       "    .dataframe thead th {\n",
       "        text-align: right;\n",
       "    }\n",
       "</style>\n",
       "<table border=\"1\" class=\"dataframe\">\n",
       "  <thead>\n",
       "    <tr style=\"text-align: right;\">\n",
       "      <th></th>\n",
       "      <th>Column Name</th>\n",
       "      <th>Description</th>\n",
       "    </tr>\n",
       "  </thead>\n",
       "  <tbody>\n",
       "    <tr>\n",
       "      <th>0</th>\n",
       "      <td>country</td>\n",
       "      <td>Name of the country</td>\n",
       "    </tr>\n",
       "    <tr>\n",
       "      <th>1</th>\n",
       "      <td>child_mort</td>\n",
       "      <td>Death of children under 5 years of age per 1000 live births</td>\n",
       "    </tr>\n",
       "    <tr>\n",
       "      <th>2</th>\n",
       "      <td>exports</td>\n",
       "      <td>Exports of goods and services per capita. Given as %age of the GDP per capita</td>\n",
       "    </tr>\n",
       "    <tr>\n",
       "      <th>3</th>\n",
       "      <td>health</td>\n",
       "      <td>Total health spending per capita. Given as %age of GDP per capita</td>\n",
       "    </tr>\n",
       "    <tr>\n",
       "      <th>4</th>\n",
       "      <td>imports</td>\n",
       "      <td>Imports of goods and services per capita. Given as %age of the GDP per capita</td>\n",
       "    </tr>\n",
       "    <tr>\n",
       "      <th>5</th>\n",
       "      <td>Income</td>\n",
       "      <td>Net income per person</td>\n",
       "    </tr>\n",
       "    <tr>\n",
       "      <th>6</th>\n",
       "      <td>Inflation</td>\n",
       "      <td>The measurement of the annual growth rate of the Total GDP</td>\n",
       "    </tr>\n",
       "    <tr>\n",
       "      <th>7</th>\n",
       "      <td>life_expec</td>\n",
       "      <td>The average number of years a new born child would live if the current mortality patterns are to remain the same</td>\n",
       "    </tr>\n",
       "    <tr>\n",
       "      <th>8</th>\n",
       "      <td>total_fer</td>\n",
       "      <td>The number of children that would be born to each woman if the current age-fertility rates remain the same.</td>\n",
       "    </tr>\n",
       "    <tr>\n",
       "      <th>9</th>\n",
       "      <td>gdpp</td>\n",
       "      <td>The GDP per capita. Calculated as the Total GDP divided by the total population.</td>\n",
       "    </tr>\n",
       "  </tbody>\n",
       "</table>\n",
       "</div>"
      ],
      "text/plain": [
       "  Column Name  \\\n",
       "0     country   \n",
       "1  child_mort   \n",
       "2     exports   \n",
       "3      health   \n",
       "4     imports   \n",
       "5      Income   \n",
       "6   Inflation   \n",
       "7  life_expec   \n",
       "8   total_fer   \n",
       "9        gdpp   \n",
       "\n",
       "                                                                                                        Description  \n",
       "0                                                                                               Name of the country  \n",
       "1                                                       Death of children under 5 years of age per 1000 live births  \n",
       "2                                     Exports of goods and services per capita. Given as %age of the GDP per capita  \n",
       "3                                                 Total health spending per capita. Given as %age of GDP per capita  \n",
       "4                                     Imports of goods and services per capita. Given as %age of the GDP per capita  \n",
       "5                                                                                             Net income per person  \n",
       "6                                                        The measurement of the annual growth rate of the Total GDP  \n",
       "7  The average number of years a new born child would live if the current mortality patterns are to remain the same  \n",
       "8       The number of children that would be born to each woman if the current age-fertility rates remain the same.  \n",
       "9                                  The GDP per capita. Calculated as the Total GDP divided by the total population.  "
      ]
     },
     "execution_count": 4,
     "metadata": {},
     "output_type": "execute_result"
    }
   ],
   "source": [
    "data_dict"
   ]
  },
  {
   "cell_type": "code",
   "execution_count": 5,
   "metadata": {
    "execution": {
     "iopub.execute_input": "2020-09-08T07:49:49.353102Z",
     "iopub.status.busy": "2020-09-08T07:49:49.352273Z",
     "iopub.status.idle": "2020-09-08T07:49:49.359219Z",
     "shell.execute_reply": "2020-09-08T07:49:49.358596Z"
    },
    "papermill": {
     "duration": 0.031513,
     "end_time": "2020-09-08T07:49:49.359365",
     "exception": false,
     "start_time": "2020-09-08T07:49:49.327852",
     "status": "completed"
    },
    "tags": []
   },
   "outputs": [],
   "source": [
    "countries = pd.read_csv('./input/Country-data.scaled.csv')"
   ]
  },
  {
   "cell_type": "code",
   "execution_count": 6,
   "metadata": {
    "execution": {
     "iopub.execute_input": "2020-09-08T07:49:49.414976Z",
     "iopub.status.busy": "2020-09-08T07:49:49.414318Z",
     "iopub.status.idle": "2020-09-08T07:49:49.418998Z",
     "shell.execute_reply": "2020-09-08T07:49:49.418385Z"
    },
    "papermill": {
     "duration": 0.03943,
     "end_time": "2020-09-08T07:49:49.419105",
     "exception": false,
     "start_time": "2020-09-08T07:49:49.379675",
     "status": "completed"
    },
    "tags": []
   },
   "outputs": [
    {
     "data": {
      "text/html": [
       "<div>\n",
       "<style scoped>\n",
       "    .dataframe tbody tr th:only-of-type {\n",
       "        vertical-align: middle;\n",
       "    }\n",
       "\n",
       "    .dataframe tbody tr th {\n",
       "        vertical-align: top;\n",
       "    }\n",
       "\n",
       "    .dataframe thead th {\n",
       "        text-align: right;\n",
       "    }\n",
       "</style>\n",
       "<table border=\"1\" class=\"dataframe\">\n",
       "  <thead>\n",
       "    <tr style=\"text-align: right;\">\n",
       "      <th></th>\n",
       "      <th>country</th>\n",
       "      <th>child_mort</th>\n",
       "      <th>exports</th>\n",
       "      <th>health</th>\n",
       "      <th>imports</th>\n",
       "      <th>income</th>\n",
       "      <th>inflation</th>\n",
       "      <th>life_expec</th>\n",
       "      <th>total_fer</th>\n",
       "      <th>gdpp</th>\n",
       "    </tr>\n",
       "  </thead>\n",
       "  <tbody>\n",
       "    <tr>\n",
       "      <th>0</th>\n",
       "      <td>Afghanistan</td>\n",
       "      <td>90.2</td>\n",
       "      <td>10.0</td>\n",
       "      <td>7.58</td>\n",
       "      <td>44.9</td>\n",
       "      <td>1610</td>\n",
       "      <td>9.44</td>\n",
       "      <td>56.2</td>\n",
       "      <td>5.82</td>\n",
       "      <td>553</td>\n",
       "    </tr>\n",
       "    <tr>\n",
       "      <th>1</th>\n",
       "      <td>Albania</td>\n",
       "      <td>16.6</td>\n",
       "      <td>28.0</td>\n",
       "      <td>6.55</td>\n",
       "      <td>48.6</td>\n",
       "      <td>9930</td>\n",
       "      <td>4.49</td>\n",
       "      <td>76.3</td>\n",
       "      <td>1.65</td>\n",
       "      <td>4090</td>\n",
       "    </tr>\n",
       "    <tr>\n",
       "      <th>2</th>\n",
       "      <td>Algeria</td>\n",
       "      <td>27.3</td>\n",
       "      <td>38.4</td>\n",
       "      <td>4.17</td>\n",
       "      <td>31.4</td>\n",
       "      <td>12900</td>\n",
       "      <td>16.10</td>\n",
       "      <td>76.5</td>\n",
       "      <td>2.89</td>\n",
       "      <td>4460</td>\n",
       "    </tr>\n",
       "    <tr>\n",
       "      <th>3</th>\n",
       "      <td>Angola</td>\n",
       "      <td>119.0</td>\n",
       "      <td>62.3</td>\n",
       "      <td>2.85</td>\n",
       "      <td>42.9</td>\n",
       "      <td>5900</td>\n",
       "      <td>22.40</td>\n",
       "      <td>60.1</td>\n",
       "      <td>6.16</td>\n",
       "      <td>3530</td>\n",
       "    </tr>\n",
       "    <tr>\n",
       "      <th>4</th>\n",
       "      <td>Antigua and Barbuda</td>\n",
       "      <td>10.3</td>\n",
       "      <td>45.5</td>\n",
       "      <td>6.03</td>\n",
       "      <td>58.9</td>\n",
       "      <td>19100</td>\n",
       "      <td>1.44</td>\n",
       "      <td>76.8</td>\n",
       "      <td>2.13</td>\n",
       "      <td>12200</td>\n",
       "    </tr>\n",
       "  </tbody>\n",
       "</table>\n",
       "</div>"
      ],
      "text/plain": [
       "               country  child_mort  exports  health  imports  income  \\\n",
       "0          Afghanistan        90.2     10.0    7.58     44.9    1610   \n",
       "1              Albania        16.6     28.0    6.55     48.6    9930   \n",
       "2              Algeria        27.3     38.4    4.17     31.4   12900   \n",
       "3               Angola       119.0     62.3    2.85     42.9    5900   \n",
       "4  Antigua and Barbuda        10.3     45.5    6.03     58.9   19100   \n",
       "\n",
       "   inflation  life_expec  total_fer   gdpp  \n",
       "0       9.44        56.2       5.82    553  \n",
       "1       4.49        76.3       1.65   4090  \n",
       "2      16.10        76.5       2.89   4460  \n",
       "3      22.40        60.1       6.16   3530  \n",
       "4       1.44        76.8       2.13  12200  "
      ]
     },
     "execution_count": 6,
     "metadata": {},
     "output_type": "execute_result"
    }
   ],
   "source": [
    "countries.head()"
   ]
  },
  {
   "cell_type": "code",
   "execution_count": 7,
   "metadata": {
    "execution": {
     "iopub.execute_input": "2020-09-08T07:49:49.464556Z",
     "iopub.status.busy": "2020-09-08T07:49:49.463942Z",
     "iopub.status.idle": "2020-09-08T07:49:49.468070Z",
     "shell.execute_reply": "2020-09-08T07:49:49.468708Z"
    },
    "papermill": {
     "duration": 0.029429,
     "end_time": "2020-09-08T07:49:49.468840",
     "exception": false,
     "start_time": "2020-09-08T07:49:49.439411",
     "status": "completed"
    },
    "tags": []
   },
   "outputs": [
    {
     "data": {
      "text/plain": [
       "(167, 10)"
      ]
     },
     "execution_count": 7,
     "metadata": {},
     "output_type": "execute_result"
    }
   ],
   "source": [
    "countries.shape"
   ]
  },
  {
   "cell_type": "markdown",
   "metadata": {
    "papermill": {
     "duration": 0.020099,
     "end_time": "2020-09-08T07:49:49.509507",
     "exception": false,
     "start_time": "2020-09-08T07:49:49.489408",
     "status": "completed"
    },
    "tags": []
   },
   "source": [
    "Since the exports, healths and imports are given as percentage of GDPP. First we will convert them to their actual values respectively. This will help us to get the actual comparisons among the countries.\n"
   ]
  },
  {
   "cell_type": "code",
   "execution_count": 8,
   "metadata": {
    "execution": {
     "iopub.execute_input": "2020-09-08T07:49:49.563034Z",
     "iopub.status.busy": "2020-09-08T07:49:49.562042Z",
     "iopub.status.idle": "2020-09-08T07:49:49.582367Z",
     "shell.execute_reply": "2020-09-08T07:49:49.581816Z"
    },
    "papermill": {
     "duration": 0.052559,
     "end_time": "2020-09-08T07:49:49.582493",
     "exception": false,
     "start_time": "2020-09-08T07:49:49.529934",
     "status": "completed"
    },
    "tags": []
   },
   "outputs": [],
   "source": [
    "# features = ['exports', 'health', 'imports']\n",
    "# for feature in features:\n",
    "#     countries[feature] = countries[feature]*countries['gdpp']/100\n",
    "countries[['exports', 'health', 'imports']]= \\\n",
    "                                countries[['exports', 'health', 'imports']].multiply(countries[\"gdpp\"]/100, axis=\"index\")\n"
   ]
  },
  {
   "cell_type": "code",
   "execution_count": 9,
   "metadata": {
    "execution": {
     "iopub.execute_input": "2020-09-08T07:49:49.634809Z",
     "iopub.status.busy": "2020-09-08T07:49:49.633750Z",
     "iopub.status.idle": "2020-09-08T07:49:49.644993Z",
     "shell.execute_reply": "2020-09-08T07:49:49.644305Z"
    },
    "papermill": {
     "duration": 0.041402,
     "end_time": "2020-09-08T07:49:49.645115",
     "exception": false,
     "start_time": "2020-09-08T07:49:49.603713",
     "status": "completed"
    },
    "tags": []
   },
   "outputs": [
    {
     "data": {
      "text/html": [
       "<div>\n",
       "<style scoped>\n",
       "    .dataframe tbody tr th:only-of-type {\n",
       "        vertical-align: middle;\n",
       "    }\n",
       "\n",
       "    .dataframe tbody tr th {\n",
       "        vertical-align: top;\n",
       "    }\n",
       "\n",
       "    .dataframe thead th {\n",
       "        text-align: right;\n",
       "    }\n",
       "</style>\n",
       "<table border=\"1\" class=\"dataframe\">\n",
       "  <thead>\n",
       "    <tr style=\"text-align: right;\">\n",
       "      <th></th>\n",
       "      <th>country</th>\n",
       "      <th>child_mort</th>\n",
       "      <th>exports</th>\n",
       "      <th>health</th>\n",
       "      <th>imports</th>\n",
       "      <th>income</th>\n",
       "      <th>inflation</th>\n",
       "      <th>life_expec</th>\n",
       "      <th>total_fer</th>\n",
       "      <th>gdpp</th>\n",
       "    </tr>\n",
       "  </thead>\n",
       "  <tbody>\n",
       "    <tr>\n",
       "      <th>0</th>\n",
       "      <td>Afghanistan</td>\n",
       "      <td>90.2</td>\n",
       "      <td>55.30</td>\n",
       "      <td>41.9174</td>\n",
       "      <td>248.297</td>\n",
       "      <td>1610</td>\n",
       "      <td>9.44</td>\n",
       "      <td>56.2</td>\n",
       "      <td>5.82</td>\n",
       "      <td>553</td>\n",
       "    </tr>\n",
       "    <tr>\n",
       "      <th>1</th>\n",
       "      <td>Albania</td>\n",
       "      <td>16.6</td>\n",
       "      <td>1145.20</td>\n",
       "      <td>267.8950</td>\n",
       "      <td>1987.740</td>\n",
       "      <td>9930</td>\n",
       "      <td>4.49</td>\n",
       "      <td>76.3</td>\n",
       "      <td>1.65</td>\n",
       "      <td>4090</td>\n",
       "    </tr>\n",
       "    <tr>\n",
       "      <th>2</th>\n",
       "      <td>Algeria</td>\n",
       "      <td>27.3</td>\n",
       "      <td>1712.64</td>\n",
       "      <td>185.9820</td>\n",
       "      <td>1400.440</td>\n",
       "      <td>12900</td>\n",
       "      <td>16.10</td>\n",
       "      <td>76.5</td>\n",
       "      <td>2.89</td>\n",
       "      <td>4460</td>\n",
       "    </tr>\n",
       "    <tr>\n",
       "      <th>3</th>\n",
       "      <td>Angola</td>\n",
       "      <td>119.0</td>\n",
       "      <td>2199.19</td>\n",
       "      <td>100.6050</td>\n",
       "      <td>1514.370</td>\n",
       "      <td>5900</td>\n",
       "      <td>22.40</td>\n",
       "      <td>60.1</td>\n",
       "      <td>6.16</td>\n",
       "      <td>3530</td>\n",
       "    </tr>\n",
       "    <tr>\n",
       "      <th>4</th>\n",
       "      <td>Antigua and Barbuda</td>\n",
       "      <td>10.3</td>\n",
       "      <td>5551.00</td>\n",
       "      <td>735.6600</td>\n",
       "      <td>7185.800</td>\n",
       "      <td>19100</td>\n",
       "      <td>1.44</td>\n",
       "      <td>76.8</td>\n",
       "      <td>2.13</td>\n",
       "      <td>12200</td>\n",
       "    </tr>\n",
       "  </tbody>\n",
       "</table>\n",
       "</div>"
      ],
      "text/plain": [
       "               country  child_mort  exports    health   imports  income  \\\n",
       "0          Afghanistan        90.2    55.30   41.9174   248.297    1610   \n",
       "1              Albania        16.6  1145.20  267.8950  1987.740    9930   \n",
       "2              Algeria        27.3  1712.64  185.9820  1400.440   12900   \n",
       "3               Angola       119.0  2199.19  100.6050  1514.370    5900   \n",
       "4  Antigua and Barbuda        10.3  5551.00  735.6600  7185.800   19100   \n",
       "\n",
       "   inflation  life_expec  total_fer   gdpp  \n",
       "0       9.44        56.2       5.82    553  \n",
       "1       4.49        76.3       1.65   4090  \n",
       "2      16.10        76.5       2.89   4460  \n",
       "3      22.40        60.1       6.16   3530  \n",
       "4       1.44        76.8       2.13  12200  "
      ]
     },
     "execution_count": 9,
     "metadata": {},
     "output_type": "execute_result"
    }
   ],
   "source": [
    "countries.head()"
   ]
  },
  {
   "cell_type": "code",
   "execution_count": 10,
   "metadata": {
    "execution": {
     "iopub.execute_input": "2020-09-08T07:49:49.697300Z",
     "iopub.status.busy": "2020-09-08T07:49:49.696623Z",
     "iopub.status.idle": "2020-09-08T07:49:49.704604Z",
     "shell.execute_reply": "2020-09-08T07:49:49.705359Z"
    },
    "papermill": {
     "duration": 0.039635,
     "end_time": "2020-09-08T07:49:49.705560",
     "exception": false,
     "start_time": "2020-09-08T07:49:49.665925",
     "status": "completed"
    },
    "tags": []
   },
   "outputs": [
    {
     "name": "stdout",
     "output_type": "stream",
     "text": [
      "<class 'pandas.core.frame.DataFrame'>\n",
      "RangeIndex: 167 entries, 0 to 166\n",
      "Data columns (total 10 columns):\n",
      " #   Column      Non-Null Count  Dtype  \n",
      "---  ------      --------------  -----  \n",
      " 0   country     167 non-null    object \n",
      " 1   child_mort  167 non-null    float64\n",
      " 2   exports     167 non-null    float64\n",
      " 3   health      167 non-null    float64\n",
      " 4   imports     167 non-null    float64\n",
      " 5   income      167 non-null    int64  \n",
      " 6   inflation   167 non-null    float64\n",
      " 7   life_expec  167 non-null    float64\n",
      " 8   total_fer   167 non-null    float64\n",
      " 9   gdpp        167 non-null    int64  \n",
      "dtypes: float64(7), int64(2), object(1)\n",
      "memory usage: 13.2+ KB\n"
     ]
    }
   ],
   "source": [
    "countries.info()"
   ]
  },
  {
   "cell_type": "code",
   "execution_count": 11,
   "metadata": {
    "execution": {
     "iopub.execute_input": "2020-09-08T07:49:49.752010Z",
     "iopub.status.busy": "2020-09-08T07:49:49.751368Z",
     "iopub.status.idle": "2020-09-08T07:49:49.757983Z",
     "shell.execute_reply": "2020-09-08T07:49:49.758442Z"
    },
    "papermill": {
     "duration": 0.030623,
     "end_time": "2020-09-08T07:49:49.758593",
     "exception": false,
     "start_time": "2020-09-08T07:49:49.727970",
     "status": "completed"
    },
    "tags": []
   },
   "outputs": [
    {
     "data": {
      "text/plain": [
       "0"
      ]
     },
     "execution_count": 11,
     "metadata": {},
     "output_type": "execute_result"
    }
   ],
   "source": [
    "#checking for duplicates\n",
    "countries.duplicated(subset = ['country'], keep = False).sum()"
   ]
  },
  {
   "cell_type": "markdown",
   "metadata": {
    "papermill": {
     "duration": 0.020421,
     "end_time": "2020-09-08T07:49:49.799355",
     "exception": false,
     "start_time": "2020-09-08T07:49:49.778934",
     "status": "completed"
    },
    "tags": []
   },
   "source": [
    "There are no duplicated rows"
   ]
  },
  {
   "cell_type": "code",
   "execution_count": 12,
   "metadata": {
    "execution": {
     "iopub.execute_input": "2020-09-08T07:49:49.849580Z",
     "iopub.status.busy": "2020-09-08T07:49:49.848590Z",
     "iopub.status.idle": "2020-09-08T07:49:49.853324Z",
     "shell.execute_reply": "2020-09-08T07:49:49.852824Z"
    },
    "papermill": {
     "duration": 0.033142,
     "end_time": "2020-09-08T07:49:49.853446",
     "exception": false,
     "start_time": "2020-09-08T07:49:49.820304",
     "status": "completed"
    },
    "tags": []
   },
   "outputs": [
    {
     "data": {
      "text/plain": [
       "country       0\n",
       "child_mort    0\n",
       "exports       0\n",
       "health        0\n",
       "imports       0\n",
       "income        0\n",
       "inflation     0\n",
       "life_expec    0\n",
       "total_fer     0\n",
       "gdpp          0\n",
       "dtype: int64"
      ]
     },
     "execution_count": 12,
     "metadata": {},
     "output_type": "execute_result"
    }
   ],
   "source": [
    "# Checking for null values in the column\n",
    "countries.isnull().sum()"
   ]
  },
  {
   "cell_type": "markdown",
   "metadata": {
    "papermill": {
     "duration": 0.020682,
     "end_time": "2020-09-08T07:49:49.895896",
     "exception": false,
     "start_time": "2020-09-08T07:49:49.875214",
     "status": "completed"
    },
    "tags": []
   },
   "source": [
    "There are no NULL values in the dataset"
   ]
  },
  {
   "cell_type": "markdown",
   "metadata": {
    "papermill": {
     "duration": 0.020819,
     "end_time": "2020-09-08T07:49:49.938107",
     "exception": false,
     "start_time": "2020-09-08T07:49:49.917288",
     "status": "completed"
    },
    "tags": []
   },
   "source": [
    "#### Checking for outliers and treating it"
   ]
  },
  {
   "cell_type": "code",
   "execution_count": 13,
   "metadata": {
    "execution": {
     "iopub.execute_input": "2020-09-08T07:49:49.988187Z",
     "iopub.status.busy": "2020-09-08T07:49:49.987514Z",
     "iopub.status.idle": "2020-09-08T07:49:50.021841Z",
     "shell.execute_reply": "2020-09-08T07:49:50.022366Z"
    },
    "papermill": {
     "duration": 0.063759,
     "end_time": "2020-09-08T07:49:50.022523",
     "exception": false,
     "start_time": "2020-09-08T07:49:49.958764",
     "status": "completed"
    },
    "tags": []
   },
   "outputs": [
    {
     "data": {
      "text/html": [
       "<div>\n",
       "<style scoped>\n",
       "    .dataframe tbody tr th:only-of-type {\n",
       "        vertical-align: middle;\n",
       "    }\n",
       "\n",
       "    .dataframe tbody tr th {\n",
       "        vertical-align: top;\n",
       "    }\n",
       "\n",
       "    .dataframe thead th {\n",
       "        text-align: right;\n",
       "    }\n",
       "</style>\n",
       "<table border=\"1\" class=\"dataframe\">\n",
       "  <thead>\n",
       "    <tr style=\"text-align: right;\">\n",
       "      <th></th>\n",
       "      <th>child_mort</th>\n",
       "      <th>exports</th>\n",
       "      <th>health</th>\n",
       "      <th>imports</th>\n",
       "      <th>income</th>\n",
       "      <th>inflation</th>\n",
       "      <th>life_expec</th>\n",
       "      <th>total_fer</th>\n",
       "      <th>gdpp</th>\n",
       "    </tr>\n",
       "  </thead>\n",
       "  <tbody>\n",
       "    <tr>\n",
       "      <th>count</th>\n",
       "      <td>167.000000</td>\n",
       "      <td>167.000000</td>\n",
       "      <td>167.000000</td>\n",
       "      <td>167.000000</td>\n",
       "      <td>167.000000</td>\n",
       "      <td>167.000000</td>\n",
       "      <td>167.000000</td>\n",
       "      <td>167.000000</td>\n",
       "      <td>167.000000</td>\n",
       "    </tr>\n",
       "    <tr>\n",
       "      <th>mean</th>\n",
       "      <td>38.270060</td>\n",
       "      <td>7420.618847</td>\n",
       "      <td>1056.733204</td>\n",
       "      <td>6588.352108</td>\n",
       "      <td>17144.688623</td>\n",
       "      <td>7.781832</td>\n",
       "      <td>70.555689</td>\n",
       "      <td>2.947964</td>\n",
       "      <td>12964.155689</td>\n",
       "    </tr>\n",
       "    <tr>\n",
       "      <th>std</th>\n",
       "      <td>40.328931</td>\n",
       "      <td>17973.885795</td>\n",
       "      <td>1801.408906</td>\n",
       "      <td>14710.810418</td>\n",
       "      <td>19278.067698</td>\n",
       "      <td>10.570704</td>\n",
       "      <td>8.893172</td>\n",
       "      <td>1.513848</td>\n",
       "      <td>18328.704809</td>\n",
       "    </tr>\n",
       "    <tr>\n",
       "      <th>min</th>\n",
       "      <td>2.600000</td>\n",
       "      <td>1.076920</td>\n",
       "      <td>12.821200</td>\n",
       "      <td>0.651092</td>\n",
       "      <td>609.000000</td>\n",
       "      <td>-4.210000</td>\n",
       "      <td>32.100000</td>\n",
       "      <td>1.150000</td>\n",
       "      <td>231.000000</td>\n",
       "    </tr>\n",
       "    <tr>\n",
       "      <th>25%</th>\n",
       "      <td>8.250000</td>\n",
       "      <td>447.140000</td>\n",
       "      <td>78.535500</td>\n",
       "      <td>640.215000</td>\n",
       "      <td>3355.000000</td>\n",
       "      <td>1.810000</td>\n",
       "      <td>65.300000</td>\n",
       "      <td>1.795000</td>\n",
       "      <td>1330.000000</td>\n",
       "    </tr>\n",
       "    <tr>\n",
       "      <th>50%</th>\n",
       "      <td>19.300000</td>\n",
       "      <td>1777.440000</td>\n",
       "      <td>321.886000</td>\n",
       "      <td>2045.580000</td>\n",
       "      <td>9960.000000</td>\n",
       "      <td>5.390000</td>\n",
       "      <td>73.100000</td>\n",
       "      <td>2.410000</td>\n",
       "      <td>4660.000000</td>\n",
       "    </tr>\n",
       "    <tr>\n",
       "      <th>75%</th>\n",
       "      <td>62.100000</td>\n",
       "      <td>7278.000000</td>\n",
       "      <td>976.940000</td>\n",
       "      <td>7719.600000</td>\n",
       "      <td>22800.000000</td>\n",
       "      <td>10.750000</td>\n",
       "      <td>76.800000</td>\n",
       "      <td>3.880000</td>\n",
       "      <td>14050.000000</td>\n",
       "    </tr>\n",
       "    <tr>\n",
       "      <th>90%</th>\n",
       "      <td>100.220000</td>\n",
       "      <td>17760.600000</td>\n",
       "      <td>3825.416000</td>\n",
       "      <td>15034.280000</td>\n",
       "      <td>41220.000000</td>\n",
       "      <td>16.640000</td>\n",
       "      <td>80.400000</td>\n",
       "      <td>5.322000</td>\n",
       "      <td>41840.000000</td>\n",
       "    </tr>\n",
       "    <tr>\n",
       "      <th>95%</th>\n",
       "      <td>116.000000</td>\n",
       "      <td>31385.100000</td>\n",
       "      <td>4966.701000</td>\n",
       "      <td>24241.560000</td>\n",
       "      <td>48290.000000</td>\n",
       "      <td>20.870000</td>\n",
       "      <td>81.400000</td>\n",
       "      <td>5.861000</td>\n",
       "      <td>48610.000000</td>\n",
       "    </tr>\n",
       "    <tr>\n",
       "      <th>99%</th>\n",
       "      <td>153.400000</td>\n",
       "      <td>64794.260000</td>\n",
       "      <td>8410.330400</td>\n",
       "      <td>55371.390000</td>\n",
       "      <td>84374.000000</td>\n",
       "      <td>41.478000</td>\n",
       "      <td>82.370000</td>\n",
       "      <td>6.563600</td>\n",
       "      <td>79088.000000</td>\n",
       "    </tr>\n",
       "    <tr>\n",
       "      <th>max</th>\n",
       "      <td>208.000000</td>\n",
       "      <td>183750.000000</td>\n",
       "      <td>8663.600000</td>\n",
       "      <td>149100.000000</td>\n",
       "      <td>125000.000000</td>\n",
       "      <td>104.000000</td>\n",
       "      <td>82.800000</td>\n",
       "      <td>7.490000</td>\n",
       "      <td>105000.000000</td>\n",
       "    </tr>\n",
       "  </tbody>\n",
       "</table>\n",
       "</div>"
      ],
      "text/plain": [
       "       child_mort        exports       health        imports         income  \\\n",
       "count  167.000000     167.000000   167.000000     167.000000     167.000000   \n",
       "mean    38.270060    7420.618847  1056.733204    6588.352108   17144.688623   \n",
       "std     40.328931   17973.885795  1801.408906   14710.810418   19278.067698   \n",
       "min      2.600000       1.076920    12.821200       0.651092     609.000000   \n",
       "25%      8.250000     447.140000    78.535500     640.215000    3355.000000   \n",
       "50%     19.300000    1777.440000   321.886000    2045.580000    9960.000000   \n",
       "75%     62.100000    7278.000000   976.940000    7719.600000   22800.000000   \n",
       "90%    100.220000   17760.600000  3825.416000   15034.280000   41220.000000   \n",
       "95%    116.000000   31385.100000  4966.701000   24241.560000   48290.000000   \n",
       "99%    153.400000   64794.260000  8410.330400   55371.390000   84374.000000   \n",
       "max    208.000000  183750.000000  8663.600000  149100.000000  125000.000000   \n",
       "\n",
       "        inflation  life_expec   total_fer           gdpp  \n",
       "count  167.000000  167.000000  167.000000     167.000000  \n",
       "mean     7.781832   70.555689    2.947964   12964.155689  \n",
       "std     10.570704    8.893172    1.513848   18328.704809  \n",
       "min     -4.210000   32.100000    1.150000     231.000000  \n",
       "25%      1.810000   65.300000    1.795000    1330.000000  \n",
       "50%      5.390000   73.100000    2.410000    4660.000000  \n",
       "75%     10.750000   76.800000    3.880000   14050.000000  \n",
       "90%     16.640000   80.400000    5.322000   41840.000000  \n",
       "95%     20.870000   81.400000    5.861000   48610.000000  \n",
       "99%     41.478000   82.370000    6.563600   79088.000000  \n",
       "max    104.000000   82.800000    7.490000  105000.000000  "
      ]
     },
     "execution_count": 13,
     "metadata": {},
     "output_type": "execute_result"
    }
   ],
   "source": [
    "countries.describe(percentiles=[.25,.5,.75,.90,.95,.99])"
   ]
  },
  {
   "cell_type": "markdown",
   "metadata": {
    "papermill": {
     "duration": 0.020995,
     "end_time": "2020-09-08T07:49:50.064594",
     "exception": false,
     "start_time": "2020-09-08T07:49:50.043599",
     "status": "completed"
    },
    "tags": []
   },
   "source": [
    "### Performing Univariate Ananlysis on all the features"
   ]
  },
  {
   "cell_type": "code",
   "execution_count": 14,
   "metadata": {
    "execution": {
     "iopub.execute_input": "2020-09-08T07:49:50.110492Z",
     "iopub.status.busy": "2020-09-08T07:49:50.109853Z",
     "iopub.status.idle": "2020-09-08T07:49:50.114513Z",
     "shell.execute_reply": "2020-09-08T07:49:50.114976Z"
    },
    "papermill": {
     "duration": 0.029153,
     "end_time": "2020-09-08T07:49:50.115117",
     "exception": false,
     "start_time": "2020-09-08T07:49:50.085964",
     "status": "completed"
    },
    "tags": []
   },
   "outputs": [
    {
     "data": {
      "text/plain": [
       "Index(['country', 'child_mort', 'exports', 'health', 'imports', 'income',\n",
       "       'inflation', 'life_expec', 'total_fer', 'gdpp'],\n",
       "      dtype='object')"
      ]
     },
     "execution_count": 14,
     "metadata": {},
     "output_type": "execute_result"
    }
   ],
   "source": [
    "features = countries.columns\n",
    "features"
   ]
  },
  {
   "cell_type": "code",
   "execution_count": 15,
   "metadata": {
    "execution": {
     "iopub.execute_input": "2020-09-08T07:49:50.160738Z",
     "iopub.status.busy": "2020-09-08T07:49:50.160111Z",
     "iopub.status.idle": "2020-09-08T07:49:51.139243Z",
     "shell.execute_reply": "2020-09-08T07:49:51.139766Z"
    },
    "papermill": {
     "duration": 1.00345,
     "end_time": "2020-09-08T07:49:51.139904",
     "exception": false,
     "start_time": "2020-09-08T07:49:50.136454",
     "status": "completed"
    },
    "tags": []
   },
   "outputs": [],
   "source": [
    "# ALEX: remove plotting\n",
    "# fig = plt.figure(figsize=(15,25))\n",
    "for plot, feature in enumerate(features[1:]):\n",
    "# ALEX: remove plotting\n",
    "#     fig.add_subplot(5,3,plot+1)\n",
    "#     sns.boxplot(x=countries[feature], data=countries)\n",
    "    _ = countries[feature]\n",
    "                 "
   ]
  },
  {
   "cell_type": "markdown",
   "metadata": {
    "papermill": {
     "duration": 0.021365,
     "end_time": "2020-09-08T07:49:51.183293",
     "exception": false,
     "start_time": "2020-09-08T07:49:51.161928",
     "status": "completed"
    },
    "tags": []
   },
   "source": [
    "From the above plots, we can conculde the following:\n",
    "- There are outliers in each features.\n",
    "- Most of the outliers are in health, exports and gdpp\n",
    "- There are only 167 rows(countries), so removing these outliers will delete the crucial information from the datesets.\n",
    "- Specially the countries which have exceptionally high child mortalities(outliers), will be missed, which actually need the aid from the NGO. For example, in case of Child Mortality rate, country with value `208` is an outlierm, however, the coutry itself could in dire need of aid.\n",
    "- So I chose to treat the outliers only in the `gdpp` column. The coutries with high `gdpp` would not require an aid. So I will remove those from the dataset."
   ]
  },
  {
   "cell_type": "code",
   "execution_count": 16,
   "metadata": {
    "execution": {
     "iopub.execute_input": "2020-09-08T07:49:51.247560Z",
     "iopub.status.busy": "2020-09-08T07:49:51.233860Z",
     "iopub.status.idle": "2020-09-08T07:49:51.253789Z",
     "shell.execute_reply": "2020-09-08T07:49:51.253208Z"
    },
    "papermill": {
     "duration": 0.04897,
     "end_time": "2020-09-08T07:49:51.253906",
     "exception": false,
     "start_time": "2020-09-08T07:49:51.204936",
     "status": "completed"
    },
    "tags": []
   },
   "outputs": [
    {
     "data": {
      "text/html": [
       "<div>\n",
       "<style scoped>\n",
       "    .dataframe tbody tr th:only-of-type {\n",
       "        vertical-align: middle;\n",
       "    }\n",
       "\n",
       "    .dataframe tbody tr th {\n",
       "        vertical-align: top;\n",
       "    }\n",
       "\n",
       "    .dataframe thead th {\n",
       "        text-align: right;\n",
       "    }\n",
       "</style>\n",
       "<table border=\"1\" class=\"dataframe\">\n",
       "  <thead>\n",
       "    <tr style=\"text-align: right;\">\n",
       "      <th></th>\n",
       "      <th>country</th>\n",
       "      <th>child_mort</th>\n",
       "      <th>exports</th>\n",
       "      <th>health</th>\n",
       "      <th>imports</th>\n",
       "      <th>income</th>\n",
       "      <th>inflation</th>\n",
       "      <th>life_expec</th>\n",
       "      <th>total_fer</th>\n",
       "      <th>gdpp</th>\n",
       "    </tr>\n",
       "  </thead>\n",
       "  <tbody>\n",
       "    <tr>\n",
       "      <th>7</th>\n",
       "      <td>Australia</td>\n",
       "      <td>4.8</td>\n",
       "      <td>10276.2</td>\n",
       "      <td>4530.87</td>\n",
       "      <td>10847.1</td>\n",
       "      <td>41400</td>\n",
       "      <td>1.160</td>\n",
       "      <td>82.0</td>\n",
       "      <td>1.93</td>\n",
       "      <td>51900</td>\n",
       "    </tr>\n",
       "    <tr>\n",
       "      <th>44</th>\n",
       "      <td>Denmark</td>\n",
       "      <td>4.1</td>\n",
       "      <td>29290.0</td>\n",
       "      <td>6612.00</td>\n",
       "      <td>25288.0</td>\n",
       "      <td>44000</td>\n",
       "      <td>3.220</td>\n",
       "      <td>79.5</td>\n",
       "      <td>1.87</td>\n",
       "      <td>58000</td>\n",
       "    </tr>\n",
       "    <tr>\n",
       "      <th>73</th>\n",
       "      <td>Ireland</td>\n",
       "      <td>4.2</td>\n",
       "      <td>50161.0</td>\n",
       "      <td>4475.53</td>\n",
       "      <td>42125.5</td>\n",
       "      <td>45700</td>\n",
       "      <td>-3.220</td>\n",
       "      <td>80.4</td>\n",
       "      <td>2.05</td>\n",
       "      <td>48700</td>\n",
       "    </tr>\n",
       "    <tr>\n",
       "      <th>91</th>\n",
       "      <td>Luxembourg</td>\n",
       "      <td>2.8</td>\n",
       "      <td>183750.0</td>\n",
       "      <td>8158.50</td>\n",
       "      <td>149100.0</td>\n",
       "      <td>91700</td>\n",
       "      <td>3.620</td>\n",
       "      <td>81.3</td>\n",
       "      <td>1.63</td>\n",
       "      <td>105000</td>\n",
       "    </tr>\n",
       "    <tr>\n",
       "      <th>110</th>\n",
       "      <td>Netherlands</td>\n",
       "      <td>4.5</td>\n",
       "      <td>36216.0</td>\n",
       "      <td>5985.70</td>\n",
       "      <td>31990.8</td>\n",
       "      <td>45500</td>\n",
       "      <td>0.848</td>\n",
       "      <td>80.7</td>\n",
       "      <td>1.79</td>\n",
       "      <td>50300</td>\n",
       "    </tr>\n",
       "    <tr>\n",
       "      <th>114</th>\n",
       "      <td>Norway</td>\n",
       "      <td>3.2</td>\n",
       "      <td>34856.6</td>\n",
       "      <td>8323.44</td>\n",
       "      <td>25023.0</td>\n",
       "      <td>62300</td>\n",
       "      <td>5.950</td>\n",
       "      <td>81.0</td>\n",
       "      <td>1.95</td>\n",
       "      <td>87800</td>\n",
       "    </tr>\n",
       "    <tr>\n",
       "      <th>123</th>\n",
       "      <td>Qatar</td>\n",
       "      <td>9.0</td>\n",
       "      <td>43796.9</td>\n",
       "      <td>1272.43</td>\n",
       "      <td>16731.4</td>\n",
       "      <td>125000</td>\n",
       "      <td>6.980</td>\n",
       "      <td>79.5</td>\n",
       "      <td>2.07</td>\n",
       "      <td>70300</td>\n",
       "    </tr>\n",
       "    <tr>\n",
       "      <th>144</th>\n",
       "      <td>Sweden</td>\n",
       "      <td>3.0</td>\n",
       "      <td>24070.2</td>\n",
       "      <td>5017.23</td>\n",
       "      <td>21204.7</td>\n",
       "      <td>42900</td>\n",
       "      <td>0.991</td>\n",
       "      <td>81.5</td>\n",
       "      <td>1.98</td>\n",
       "      <td>52100</td>\n",
       "    </tr>\n",
       "    <tr>\n",
       "      <th>145</th>\n",
       "      <td>Switzerland</td>\n",
       "      <td>4.5</td>\n",
       "      <td>47744.0</td>\n",
       "      <td>8579.00</td>\n",
       "      <td>39761.8</td>\n",
       "      <td>55500</td>\n",
       "      <td>0.317</td>\n",
       "      <td>82.2</td>\n",
       "      <td>1.52</td>\n",
       "      <td>74600</td>\n",
       "    </tr>\n",
       "  </tbody>\n",
       "</table>\n",
       "</div>"
      ],
      "text/plain": [
       "         country  child_mort   exports   health   imports  income  inflation  \\\n",
       "7      Australia         4.8   10276.2  4530.87   10847.1   41400      1.160   \n",
       "44       Denmark         4.1   29290.0  6612.00   25288.0   44000      3.220   \n",
       "73       Ireland         4.2   50161.0  4475.53   42125.5   45700     -3.220   \n",
       "91    Luxembourg         2.8  183750.0  8158.50  149100.0   91700      3.620   \n",
       "110  Netherlands         4.5   36216.0  5985.70   31990.8   45500      0.848   \n",
       "114       Norway         3.2   34856.6  8323.44   25023.0   62300      5.950   \n",
       "123        Qatar         9.0   43796.9  1272.43   16731.4  125000      6.980   \n",
       "144       Sweden         3.0   24070.2  5017.23   21204.7   42900      0.991   \n",
       "145  Switzerland         4.5   47744.0  8579.00   39761.8   55500      0.317   \n",
       "\n",
       "     life_expec  total_fer    gdpp  \n",
       "7          82.0       1.93   51900  \n",
       "44         79.5       1.87   58000  \n",
       "73         80.4       2.05   48700  \n",
       "91         81.3       1.63  105000  \n",
       "110        80.7       1.79   50300  \n",
       "114        81.0       1.95   87800  \n",
       "123        79.5       2.07   70300  \n",
       "144        81.5       1.98   52100  \n",
       "145        82.2       1.52   74600  "
      ]
     },
     "execution_count": 16,
     "metadata": {},
     "output_type": "execute_result"
    }
   ],
   "source": [
    "#Caluclating the quantile1 and quantile3 for gdpp and removing the upper outliers\n",
    "Q1 = countries.gdpp.quantile(0.05)\n",
    "Q3 = countries.gdpp.quantile(0.95)\n",
    "\n",
    "countries[(countries.gdpp > Q3)]"
   ]
  },
  {
   "cell_type": "markdown",
   "metadata": {
    "papermill": {
     "duration": 0.021369,
     "end_time": "2020-09-08T07:49:51.297431",
     "exception": false,
     "start_time": "2020-09-08T07:49:51.276062",
     "status": "completed"
    },
    "tags": []
   },
   "source": [
    "###### In the above table we can see, that Qatar is having a high child mortality rate of 9.0, but its other features like gdpp, total_fertility rate, income etc are in the higher range. So it would not be first in the list of needy countries."
   ]
  },
  {
   "cell_type": "markdown",
   "metadata": {
    "papermill": {
     "duration": 0.021886,
     "end_time": "2020-09-08T07:49:51.341145",
     "exception": false,
     "start_time": "2020-09-08T07:49:51.319259",
     "status": "completed"
    },
    "tags": []
   },
   "source": [
    "After removing the outlier"
   ]
  },
  {
   "cell_type": "code",
   "execution_count": 17,
   "metadata": {
    "execution": {
     "iopub.execute_input": "2020-09-08T07:49:51.390590Z",
     "iopub.status.busy": "2020-09-08T07:49:51.389936Z",
     "iopub.status.idle": "2020-09-08T07:49:51.394712Z",
     "shell.execute_reply": "2020-09-08T07:49:51.395220Z"
    },
    "papermill": {
     "duration": 0.031547,
     "end_time": "2020-09-08T07:49:51.395354",
     "exception": false,
     "start_time": "2020-09-08T07:49:51.363807",
     "status": "completed"
    },
    "tags": []
   },
   "outputs": [],
   "source": [
    "countries = countries[(countries.gdpp <= Q3)]"
   ]
  },
  {
   "cell_type": "code",
   "execution_count": 18,
   "metadata": {
    "execution": {
     "iopub.execute_input": "2020-09-08T07:49:51.444774Z",
     "iopub.status.busy": "2020-09-08T07:49:51.443780Z",
     "iopub.status.idle": "2020-09-08T07:49:51.449118Z",
     "shell.execute_reply": "2020-09-08T07:49:51.449716Z"
    },
    "papermill": {
     "duration": 0.031745,
     "end_time": "2020-09-08T07:49:51.449864",
     "exception": false,
     "start_time": "2020-09-08T07:49:51.418119",
     "status": "completed"
    },
    "tags": []
   },
   "outputs": [
    {
     "data": {
      "text/plain": [
       "(158, 10)"
      ]
     },
     "execution_count": 18,
     "metadata": {},
     "output_type": "execute_result"
    }
   ],
   "source": [
    "countries.shape"
   ]
  },
  {
   "cell_type": "code",
   "execution_count": 19,
   "metadata": {
    "execution": {
     "iopub.execute_input": "2020-09-08T07:49:51.499235Z",
     "iopub.status.busy": "2020-09-08T07:49:51.498257Z",
     "iopub.status.idle": "2020-09-08T07:49:51.514032Z",
     "shell.execute_reply": "2020-09-08T07:49:51.514489Z"
    },
    "papermill": {
     "duration": 0.04186,
     "end_time": "2020-09-08T07:49:51.514662",
     "exception": false,
     "start_time": "2020-09-08T07:49:51.472802",
     "status": "completed"
    },
    "tags": []
   },
   "outputs": [
    {
     "data": {
      "text/html": [
       "<div>\n",
       "<style scoped>\n",
       "    .dataframe tbody tr th:only-of-type {\n",
       "        vertical-align: middle;\n",
       "    }\n",
       "\n",
       "    .dataframe tbody tr th {\n",
       "        vertical-align: top;\n",
       "    }\n",
       "\n",
       "    .dataframe thead th {\n",
       "        text-align: right;\n",
       "    }\n",
       "</style>\n",
       "<table border=\"1\" class=\"dataframe\">\n",
       "  <thead>\n",
       "    <tr style=\"text-align: right;\">\n",
       "      <th></th>\n",
       "      <th>country</th>\n",
       "      <th>child_mort</th>\n",
       "      <th>exports</th>\n",
       "      <th>health</th>\n",
       "      <th>imports</th>\n",
       "      <th>income</th>\n",
       "      <th>inflation</th>\n",
       "      <th>life_expec</th>\n",
       "      <th>total_fer</th>\n",
       "      <th>gdpp</th>\n",
       "    </tr>\n",
       "  </thead>\n",
       "  <tbody>\n",
       "    <tr>\n",
       "      <th>0</th>\n",
       "      <td>Afghanistan</td>\n",
       "      <td>90.2</td>\n",
       "      <td>55.30</td>\n",
       "      <td>41.9174</td>\n",
       "      <td>248.297</td>\n",
       "      <td>1610</td>\n",
       "      <td>9.44</td>\n",
       "      <td>56.2</td>\n",
       "      <td>5.82</td>\n",
       "      <td>553</td>\n",
       "    </tr>\n",
       "    <tr>\n",
       "      <th>1</th>\n",
       "      <td>Albania</td>\n",
       "      <td>16.6</td>\n",
       "      <td>1145.20</td>\n",
       "      <td>267.8950</td>\n",
       "      <td>1987.740</td>\n",
       "      <td>9930</td>\n",
       "      <td>4.49</td>\n",
       "      <td>76.3</td>\n",
       "      <td>1.65</td>\n",
       "      <td>4090</td>\n",
       "    </tr>\n",
       "    <tr>\n",
       "      <th>2</th>\n",
       "      <td>Algeria</td>\n",
       "      <td>27.3</td>\n",
       "      <td>1712.64</td>\n",
       "      <td>185.9820</td>\n",
       "      <td>1400.440</td>\n",
       "      <td>12900</td>\n",
       "      <td>16.10</td>\n",
       "      <td>76.5</td>\n",
       "      <td>2.89</td>\n",
       "      <td>4460</td>\n",
       "    </tr>\n",
       "    <tr>\n",
       "      <th>3</th>\n",
       "      <td>Angola</td>\n",
       "      <td>119.0</td>\n",
       "      <td>2199.19</td>\n",
       "      <td>100.6050</td>\n",
       "      <td>1514.370</td>\n",
       "      <td>5900</td>\n",
       "      <td>22.40</td>\n",
       "      <td>60.1</td>\n",
       "      <td>6.16</td>\n",
       "      <td>3530</td>\n",
       "    </tr>\n",
       "    <tr>\n",
       "      <th>4</th>\n",
       "      <td>Antigua and Barbuda</td>\n",
       "      <td>10.3</td>\n",
       "      <td>5551.00</td>\n",
       "      <td>735.6600</td>\n",
       "      <td>7185.800</td>\n",
       "      <td>19100</td>\n",
       "      <td>1.44</td>\n",
       "      <td>76.8</td>\n",
       "      <td>2.13</td>\n",
       "      <td>12200</td>\n",
       "    </tr>\n",
       "  </tbody>\n",
       "</table>\n",
       "</div>"
      ],
      "text/plain": [
       "               country  child_mort  exports    health   imports  income  \\\n",
       "0          Afghanistan        90.2    55.30   41.9174   248.297    1610   \n",
       "1              Albania        16.6  1145.20  267.8950  1987.740    9930   \n",
       "2              Algeria        27.3  1712.64  185.9820  1400.440   12900   \n",
       "3               Angola       119.0  2199.19  100.6050  1514.370    5900   \n",
       "4  Antigua and Barbuda        10.3  5551.00  735.6600  7185.800   19100   \n",
       "\n",
       "   inflation  life_expec  total_fer   gdpp  \n",
       "0       9.44        56.2       5.82    553  \n",
       "1       4.49        76.3       1.65   4090  \n",
       "2      16.10        76.5       2.89   4460  \n",
       "3      22.40        60.1       6.16   3530  \n",
       "4       1.44        76.8       2.13  12200  "
      ]
     },
     "execution_count": 19,
     "metadata": {},
     "output_type": "execute_result"
    }
   ],
   "source": [
    "countries.head(5)"
   ]
  },
  {
   "cell_type": "markdown",
   "metadata": {
    "papermill": {
     "duration": 0.022821,
     "end_time": "2020-09-08T07:49:51.560565",
     "exception": false,
     "start_time": "2020-09-08T07:49:51.537744",
     "status": "completed"
    },
    "tags": []
   },
   "source": [
    "#### Visulaizing the data using Pair Plot"
   ]
  },
  {
   "cell_type": "code",
   "execution_count": 20,
   "metadata": {
    "execution": {
     "iopub.execute_input": "2020-09-08T07:49:51.613354Z",
     "iopub.status.busy": "2020-09-08T07:49:51.611482Z",
     "iopub.status.idle": "2020-09-08T07:50:03.765881Z",
     "shell.execute_reply": "2020-09-08T07:50:03.766389Z"
    },
    "papermill": {
     "duration": 12.182737,
     "end_time": "2020-09-08T07:50:03.766554",
     "exception": false,
     "start_time": "2020-09-08T07:49:51.583817",
     "status": "completed"
    },
    "tags": []
   },
   "outputs": [],
   "source": [
    "# ALEX: remove plotting\n",
    "# fig = plt.figure(figsize=(20,35))\n",
    "# sns.pairplot(countries,diag_kind='kde',corner=True)"
   ]
  },
  {
   "cell_type": "markdown",
   "metadata": {
    "papermill": {
     "duration": 0.024547,
     "end_time": "2020-09-08T07:50:03.816998",
     "exception": false,
     "start_time": "2020-09-08T07:50:03.792451",
     "status": "completed"
    },
    "tags": []
   },
   "source": [
    "From the above plots we can conclude the following about gddp\n",
    "- It is highly and positively correlated with life expectancy and income\n",
    "- It is inversely correlated with child_mortality, total fertility and inflation\n",
    "- health, imports and exports are also positively correlated with gddp\n",
    "- Also there is linear realtionship between gdpp vs income,imports vs exports, total_fer  vs child_mort"
   ]
  },
  {
   "cell_type": "markdown",
   "metadata": {
    "papermill": {
     "duration": 0.024679,
     "end_time": "2020-09-08T07:50:03.866511",
     "exception": false,
     "start_time": "2020-09-08T07:50:03.841832",
     "status": "completed"
    },
    "tags": []
   },
   "source": [
    "### Top 10 under developed coutries based on the data visulaization "
   ]
  },
  {
   "cell_type": "markdown",
   "metadata": {
    "papermill": {
     "duration": 0.024955,
     "end_time": "2020-09-08T07:50:03.916933",
     "exception": false,
     "start_time": "2020-09-08T07:50:03.891978",
     "status": "completed"
    },
    "tags": []
   },
   "source": [
    "###### Top 10 coutries with highest mortality rate"
   ]
  },
  {
   "cell_type": "code",
   "execution_count": 21,
   "metadata": {
    "execution": {
     "iopub.execute_input": "2020-09-08T07:50:04.065234Z",
     "iopub.status.busy": "2020-09-08T07:50:04.049563Z",
     "iopub.status.idle": "2020-09-08T07:50:04.291069Z",
     "shell.execute_reply": "2020-09-08T07:50:04.291546Z"
    },
    "papermill": {
     "duration": 0.295076,
     "end_time": "2020-09-08T07:50:04.291693",
     "exception": false,
     "start_time": "2020-09-08T07:50:03.996617",
     "status": "completed"
    },
    "tags": []
   },
   "outputs": [],
   "source": [
    "# ALEX: remove plotting\n",
    "# plt.figure(figsize = (15,5))\n",
    "child_mort_top10 = countries[['country','child_mort']].sort_values('child_mort', ascending = False).head(10)\n",
    "# ALEX: remove plotting\n",
    "# ax=sns.barplot(x='country', y='child_mort', data= child_mort_top10)\n",
    "\n",
    "# for p in ax.patches:\n",
    "#     ax.annotate(str(p.get_height()), (p.get_x() * 1.05 , p.get_height() * 1.01))\n",
    "# ax.set(xlabel = '', ylabel= 'Child Mortality Rate')\n",
    "# plt.xticks(rotation=45)"
   ]
  },
  {
   "cell_type": "markdown",
   "metadata": {
    "papermill": {
     "duration": 0.026521,
     "end_time": "2020-09-08T07:50:04.345509",
     "exception": false,
     "start_time": "2020-09-08T07:50:04.318988",
     "status": "completed"
    },
    "tags": []
   },
   "source": [
    "###### Top 10 countries with the `lowest` spending on health"
   ]
  },
  {
   "cell_type": "code",
   "execution_count": 22,
   "metadata": {
    "execution": {
     "iopub.execute_input": "2020-09-08T07:50:04.411808Z",
     "iopub.status.busy": "2020-09-08T07:50:04.410737Z",
     "iopub.status.idle": "2020-09-08T07:50:04.608655Z",
     "shell.execute_reply": "2020-09-08T07:50:04.607976Z"
    },
    "papermill": {
     "duration": 0.236641,
     "end_time": "2020-09-08T07:50:04.608770",
     "exception": false,
     "start_time": "2020-09-08T07:50:04.372129",
     "status": "completed"
    },
    "tags": []
   },
   "outputs": [],
   "source": [
    "# ALEX: remove plotting\n",
    "# plt.figure(figsize = (15,5))\n",
    "health = countries[['country','health']].sort_values('health', ascending = True).head(10)\n",
    "# ALEX: remove plotting\n",
    "# ax = sns.barplot(x='country', y='health', data= health)\n",
    "# ax.set(xlabel = '', ylabel= 'Health')\n",
    "# plt.xticks(rotation=90)"
   ]
  },
  {
   "cell_type": "markdown",
   "metadata": {
    "papermill": {
     "duration": 0.027062,
     "end_time": "2020-09-08T07:50:04.663744",
     "exception": false,
     "start_time": "2020-09-08T07:50:04.636682",
     "status": "completed"
    },
    "tags": []
   },
   "source": [
    "###### Top 10 countries with lowest per capita income."
   ]
  },
  {
   "cell_type": "code",
   "execution_count": 23,
   "metadata": {
    "execution": {
     "iopub.execute_input": "2020-09-08T07:50:04.728983Z",
     "iopub.status.busy": "2020-09-08T07:50:04.726590Z",
     "iopub.status.idle": "2020-09-08T07:50:04.925028Z",
     "shell.execute_reply": "2020-09-08T07:50:04.924380Z"
    },
    "papermill": {
     "duration": 0.234464,
     "end_time": "2020-09-08T07:50:04.925139",
     "exception": false,
     "start_time": "2020-09-08T07:50:04.690675",
     "status": "completed"
    },
    "tags": []
   },
   "outputs": [],
   "source": [
    "# ALEX: remove plotting\n",
    "# plt.figure(figsize = (15,5))\n",
    "income_lowets_10 = countries[['country','income']].sort_values('income', ascending = True).head(10)\n",
    "# ALEX: remove plotting\n",
    "# axes = sns.barplot(x='country', y='income', data= income_lowets_10)\n",
    "# axes.set(xlabel = '', ylabel= 'Per Capita Income')\n",
    "# plt.xticks(rotation=90)"
   ]
  },
  {
   "cell_type": "markdown",
   "metadata": {
    "papermill": {
     "duration": 0.028143,
     "end_time": "2020-09-08T07:50:04.981393",
     "exception": false,
     "start_time": "2020-09-08T07:50:04.953250",
     "status": "completed"
    },
    "tags": []
   },
   "source": [
    "###### Top 10 Countries with the highest Inflation rate."
   ]
  },
  {
   "cell_type": "code",
   "execution_count": 24,
   "metadata": {
    "execution": {
     "iopub.execute_input": "2020-09-08T07:50:05.063377Z",
     "iopub.status.busy": "2020-09-08T07:50:05.058303Z",
     "iopub.status.idle": "2020-09-08T07:50:05.237902Z",
     "shell.execute_reply": "2020-09-08T07:50:05.238366Z"
    },
    "papermill": {
     "duration": 0.22873,
     "end_time": "2020-09-08T07:50:05.238528",
     "exception": false,
     "start_time": "2020-09-08T07:50:05.009798",
     "status": "completed"
    },
    "tags": []
   },
   "outputs": [],
   "source": [
    "# ALEX: remove plotting\n",
    "# plt.figure(figsize = (15,5))\n",
    "high_inflation = countries[['country','inflation']].sort_values('inflation', ascending = False).head(10)\n",
    "# ALEX: remove plotting\n",
    "# ax = sns.barplot(x='country', y='inflation', data= high_inflation)\n",
    "# ax.set(xlabel = '', ylabel= 'Inflation')\n",
    "# plt.xticks(rotation=90)\n"
   ]
  },
  {
   "cell_type": "markdown",
   "metadata": {
    "papermill": {
     "duration": 0.027792,
     "end_time": "2020-09-08T07:50:05.293890",
     "exception": false,
     "start_time": "2020-09-08T07:50:05.266098",
     "status": "completed"
    },
    "tags": []
   },
   "source": [
    "From the above plot we can see that is Nigeria is clearly standing out having the highest infaltion."
   ]
  },
  {
   "cell_type": "markdown",
   "metadata": {
    "papermill": {
     "duration": 0.027663,
     "end_time": "2020-09-08T07:50:05.349641",
     "exception": false,
     "start_time": "2020-09-08T07:50:05.321978",
     "status": "completed"
    },
    "tags": []
   },
   "source": [
    "#### From the above visulizations we get a good idea about the under developed countries which might be in need of the NGOs aid.\n"
   ]
  },
  {
   "cell_type": "markdown",
   "metadata": {
    "papermill": {
     "duration": 0.027815,
     "end_time": "2020-09-08T07:50:05.405433",
     "exception": false,
     "start_time": "2020-09-08T07:50:05.377618",
     "status": "completed"
    },
    "tags": []
   },
   "source": [
    "#### Checking if the datset is fit for applying clustering on it"
   ]
  },
  {
   "cell_type": "code",
   "execution_count": 25,
   "metadata": {
    "execution": {
     "iopub.execute_input": "2020-09-08T07:50:05.471603Z",
     "iopub.status.busy": "2020-09-08T07:50:05.470900Z",
     "iopub.status.idle": "2020-09-08T07:50:05.476730Z",
     "shell.execute_reply": "2020-09-08T07:50:05.477215Z"
    },
    "papermill": {
     "duration": 0.04412,
     "end_time": "2020-09-08T07:50:05.477363",
     "exception": false,
     "start_time": "2020-09-08T07:50:05.433243",
     "status": "completed"
    },
    "tags": []
   },
   "outputs": [],
   "source": [
    "#Find the Hopkins statistic score\n",
    "# ALEX: remove ML code\n",
    "# from sklearn.neighbors import NearestNeighbors\n",
    "# from random import sample\n",
    "# from numpy.random import uniform\n",
    "# import numpy as np\n",
    "# from math import isnan\n",
    " \n",
    "def hopkins(X):\n",
    "    d = X.shape[1]\n",
    "    #d = len(vars) # columns\n",
    "    n = len(X) # rows\n",
    "# ALEX: remove ML code\n",
    "#     m = int(0.1 * n) \n",
    "#     nbrs = NearestNeighbors(n_neighbors=1).fit(X.values)\n",
    " \n",
    "#     rand_X = sample(range(0, n, 1), m)\n",
    " \n",
    "#     ujd = []\n",
    "#     wjd = []\n",
    "#     for j in range(0, m):\n",
    "#         u_dist, _ = nbrs.kneighbors(uniform(np.amin(X,axis=0),np.amax(X,axis=0),d).reshape(1, -1), 2, return_distance=True)\n",
    "#         ujd.append(u_dist[0][1])\n",
    "#         w_dist, _ = nbrs.kneighbors(X.iloc[rand_X[j]].values.reshape(1, -1), 2, return_distance=True)\n",
    "#         wjd.append(w_dist[0][1])\n",
    " \n",
    "#     H = sum(ujd) / (sum(ujd) + sum(wjd))\n",
    "#     if isnan(H):\n",
    "#         print(ujd, wjd)\n",
    "#         H = 0\n",
    " \n",
    "#     return H\n",
    "    _ = X.values"
   ]
  },
  {
   "cell_type": "code",
   "execution_count": 26,
   "metadata": {
    "execution": {
     "iopub.execute_input": "2020-09-08T07:50:05.537108Z",
     "iopub.status.busy": "2020-09-08T07:50:05.536403Z",
     "iopub.status.idle": "2020-09-08T07:50:05.601035Z",
     "shell.execute_reply": "2020-09-08T07:50:05.601495Z"
    },
    "papermill": {
     "duration": 0.095961,
     "end_time": "2020-09-08T07:50:05.601658",
     "exception": false,
     "start_time": "2020-09-08T07:50:05.505697",
     "status": "completed"
    },
    "tags": []
   },
   "outputs": [],
   "source": [
    "hopkins(countries.drop('country', axis = 1))"
   ]
  },
  {
   "cell_type": "markdown",
   "metadata": {
    "papermill": {
     "duration": 0.027864,
     "end_time": "2020-09-08T07:50:05.657859",
     "exception": false,
     "start_time": "2020-09-08T07:50:05.629995",
     "status": "completed"
    },
    "tags": []
   },
   "source": [
    "### We have got the Hopkins score close to 1 which tends to indicate the data is highly clustered"
   ]
  },
  {
   "cell_type": "markdown",
   "metadata": {
    "papermill": {
     "duration": 0.027646,
     "end_time": "2020-09-08T07:50:05.713873",
     "exception": false,
     "start_time": "2020-09-08T07:50:05.686227",
     "status": "completed"
    },
    "tags": []
   },
   "source": [
    "### Preparing the dataset for clustering"
   ]
  },
  {
   "cell_type": "markdown",
   "metadata": {
    "papermill": {
     "duration": 0.027894,
     "end_time": "2020-09-08T07:50:05.770076",
     "exception": false,
     "start_time": "2020-09-08T07:50:05.742182",
     "status": "completed"
    },
    "tags": []
   },
   "source": [
    "#### Scaling the dataset"
   ]
  },
  {
   "cell_type": "code",
   "execution_count": 27,
   "metadata": {
    "execution": {
     "iopub.execute_input": "2020-09-08T07:50:05.835461Z",
     "iopub.status.busy": "2020-09-08T07:50:05.834828Z",
     "iopub.status.idle": "2020-09-08T07:50:05.841364Z",
     "shell.execute_reply": "2020-09-08T07:50:05.841898Z"
    },
    "papermill": {
     "duration": 0.043608,
     "end_time": "2020-09-08T07:50:05.842037",
     "exception": false,
     "start_time": "2020-09-08T07:50:05.798429",
     "status": "completed"
    },
    "tags": []
   },
   "outputs": [
    {
     "data": {
      "text/html": [
       "<div>\n",
       "<style scoped>\n",
       "    .dataframe tbody tr th:only-of-type {\n",
       "        vertical-align: middle;\n",
       "    }\n",
       "\n",
       "    .dataframe tbody tr th {\n",
       "        vertical-align: top;\n",
       "    }\n",
       "\n",
       "    .dataframe thead th {\n",
       "        text-align: right;\n",
       "    }\n",
       "</style>\n",
       "<table border=\"1\" class=\"dataframe\">\n",
       "  <thead>\n",
       "    <tr style=\"text-align: right;\">\n",
       "      <th></th>\n",
       "      <th>child_mort</th>\n",
       "      <th>exports</th>\n",
       "      <th>health</th>\n",
       "      <th>imports</th>\n",
       "      <th>income</th>\n",
       "      <th>inflation</th>\n",
       "      <th>life_expec</th>\n",
       "      <th>total_fer</th>\n",
       "      <th>gdpp</th>\n",
       "    </tr>\n",
       "  </thead>\n",
       "  <tbody>\n",
       "    <tr>\n",
       "      <th>0</th>\n",
       "      <td>90.2</td>\n",
       "      <td>55.30</td>\n",
       "      <td>41.9174</td>\n",
       "      <td>248.297</td>\n",
       "      <td>1610</td>\n",
       "      <td>9.44</td>\n",
       "      <td>56.2</td>\n",
       "      <td>5.82</td>\n",
       "      <td>553</td>\n",
       "    </tr>\n",
       "    <tr>\n",
       "      <th>1</th>\n",
       "      <td>16.6</td>\n",
       "      <td>1145.20</td>\n",
       "      <td>267.8950</td>\n",
       "      <td>1987.740</td>\n",
       "      <td>9930</td>\n",
       "      <td>4.49</td>\n",
       "      <td>76.3</td>\n",
       "      <td>1.65</td>\n",
       "      <td>4090</td>\n",
       "    </tr>\n",
       "    <tr>\n",
       "      <th>2</th>\n",
       "      <td>27.3</td>\n",
       "      <td>1712.64</td>\n",
       "      <td>185.9820</td>\n",
       "      <td>1400.440</td>\n",
       "      <td>12900</td>\n",
       "      <td>16.10</td>\n",
       "      <td>76.5</td>\n",
       "      <td>2.89</td>\n",
       "      <td>4460</td>\n",
       "    </tr>\n",
       "    <tr>\n",
       "      <th>3</th>\n",
       "      <td>119.0</td>\n",
       "      <td>2199.19</td>\n",
       "      <td>100.6050</td>\n",
       "      <td>1514.370</td>\n",
       "      <td>5900</td>\n",
       "      <td>22.40</td>\n",
       "      <td>60.1</td>\n",
       "      <td>6.16</td>\n",
       "      <td>3530</td>\n",
       "    </tr>\n",
       "    <tr>\n",
       "      <th>4</th>\n",
       "      <td>10.3</td>\n",
       "      <td>5551.00</td>\n",
       "      <td>735.6600</td>\n",
       "      <td>7185.800</td>\n",
       "      <td>19100</td>\n",
       "      <td>1.44</td>\n",
       "      <td>76.8</td>\n",
       "      <td>2.13</td>\n",
       "      <td>12200</td>\n",
       "    </tr>\n",
       "    <tr>\n",
       "      <th>...</th>\n",
       "      <td>...</td>\n",
       "      <td>...</td>\n",
       "      <td>...</td>\n",
       "      <td>...</td>\n",
       "      <td>...</td>\n",
       "      <td>...</td>\n",
       "      <td>...</td>\n",
       "      <td>...</td>\n",
       "      <td>...</td>\n",
       "    </tr>\n",
       "    <tr>\n",
       "      <th>162</th>\n",
       "      <td>29.2</td>\n",
       "      <td>1384.02</td>\n",
       "      <td>155.9250</td>\n",
       "      <td>1565.190</td>\n",
       "      <td>2950</td>\n",
       "      <td>2.62</td>\n",
       "      <td>63.0</td>\n",
       "      <td>3.50</td>\n",
       "      <td>2970</td>\n",
       "    </tr>\n",
       "    <tr>\n",
       "      <th>163</th>\n",
       "      <td>17.1</td>\n",
       "      <td>3847.50</td>\n",
       "      <td>662.8500</td>\n",
       "      <td>2376.000</td>\n",
       "      <td>16500</td>\n",
       "      <td>45.90</td>\n",
       "      <td>75.4</td>\n",
       "      <td>2.47</td>\n",
       "      <td>13500</td>\n",
       "    </tr>\n",
       "    <tr>\n",
       "      <th>164</th>\n",
       "      <td>23.3</td>\n",
       "      <td>943.20</td>\n",
       "      <td>89.6040</td>\n",
       "      <td>1050.620</td>\n",
       "      <td>4490</td>\n",
       "      <td>12.10</td>\n",
       "      <td>73.1</td>\n",
       "      <td>1.95</td>\n",
       "      <td>1310</td>\n",
       "    </tr>\n",
       "    <tr>\n",
       "      <th>165</th>\n",
       "      <td>56.3</td>\n",
       "      <td>393.00</td>\n",
       "      <td>67.8580</td>\n",
       "      <td>450.640</td>\n",
       "      <td>4480</td>\n",
       "      <td>23.60</td>\n",
       "      <td>67.5</td>\n",
       "      <td>4.67</td>\n",
       "      <td>1310</td>\n",
       "    </tr>\n",
       "    <tr>\n",
       "      <th>166</th>\n",
       "      <td>83.1</td>\n",
       "      <td>540.20</td>\n",
       "      <td>85.9940</td>\n",
       "      <td>451.140</td>\n",
       "      <td>3280</td>\n",
       "      <td>14.00</td>\n",
       "      <td>52.0</td>\n",
       "      <td>5.40</td>\n",
       "      <td>1460</td>\n",
       "    </tr>\n",
       "  </tbody>\n",
       "</table>\n",
       "<p>158 rows \u00d7 9 columns</p>\n",
       "</div>"
      ],
      "text/plain": [
       "     child_mort  exports    health   imports  income  inflation  life_expec  \\\n",
       "0          90.2    55.30   41.9174   248.297    1610       9.44        56.2   \n",
       "1          16.6  1145.20  267.8950  1987.740    9930       4.49        76.3   \n",
       "2          27.3  1712.64  185.9820  1400.440   12900      16.10        76.5   \n",
       "3         119.0  2199.19  100.6050  1514.370    5900      22.40        60.1   \n",
       "4          10.3  5551.00  735.6600  7185.800   19100       1.44        76.8   \n",
       "..          ...      ...       ...       ...     ...        ...         ...   \n",
       "162        29.2  1384.02  155.9250  1565.190    2950       2.62        63.0   \n",
       "163        17.1  3847.50  662.8500  2376.000   16500      45.90        75.4   \n",
       "164        23.3   943.20   89.6040  1050.620    4490      12.10        73.1   \n",
       "165        56.3   393.00   67.8580   450.640    4480      23.60        67.5   \n",
       "166        83.1   540.20   85.9940   451.140    3280      14.00        52.0   \n",
       "\n",
       "     total_fer   gdpp  \n",
       "0         5.82    553  \n",
       "1         1.65   4090  \n",
       "2         2.89   4460  \n",
       "3         6.16   3530  \n",
       "4         2.13  12200  \n",
       "..         ...    ...  \n",
       "162       3.50   2970  \n",
       "163       2.47  13500  \n",
       "164       1.95   1310  \n",
       "165       4.67   1310  \n",
       "166       5.40   1460  \n",
       "\n",
       "[158 rows x 9 columns]"
      ]
     },
     "execution_count": 27,
     "metadata": {},
     "output_type": "execute_result"
    }
   ],
   "source": [
    "features = countries.columns\n",
    "# ALEX: remove ML code\n",
    "# standard_scaler = StandardScaler()\n",
    "# countries_scaled= standard_scaler.fit_transform(countries.drop('country', axis=1))\n",
    "countries_scaled= countries.drop('country', axis=1)\n",
    "countries_scaled"
   ]
  },
  {
   "cell_type": "code",
   "execution_count": 28,
   "metadata": {
    "execution": {
     "iopub.execute_input": "2020-09-08T07:50:05.903677Z",
     "iopub.status.busy": "2020-09-08T07:50:05.903045Z",
     "iopub.status.idle": "2020-09-08T07:50:05.918302Z",
     "shell.execute_reply": "2020-09-08T07:50:05.918901Z"
    },
    "papermill": {
     "duration": 0.047945,
     "end_time": "2020-09-08T07:50:05.919039",
     "exception": false,
     "start_time": "2020-09-08T07:50:05.871094",
     "status": "completed"
    },
    "tags": []
   },
   "outputs": [
    {
     "data": {
      "text/html": [
       "<div>\n",
       "<style scoped>\n",
       "    .dataframe tbody tr th:only-of-type {\n",
       "        vertical-align: middle;\n",
       "    }\n",
       "\n",
       "    .dataframe tbody tr th {\n",
       "        vertical-align: top;\n",
       "    }\n",
       "\n",
       "    .dataframe thead th {\n",
       "        text-align: right;\n",
       "    }\n",
       "</style>\n",
       "<table border=\"1\" class=\"dataframe\">\n",
       "  <thead>\n",
       "    <tr style=\"text-align: right;\">\n",
       "      <th></th>\n",
       "      <th>child_mort</th>\n",
       "      <th>exports</th>\n",
       "      <th>health</th>\n",
       "      <th>imports</th>\n",
       "      <th>income</th>\n",
       "      <th>inflation</th>\n",
       "      <th>life_expec</th>\n",
       "      <th>total_fer</th>\n",
       "      <th>gdpp</th>\n",
       "    </tr>\n",
       "  </thead>\n",
       "  <tbody>\n",
       "    <tr>\n",
       "      <th>0</th>\n",
       "      <td>90.2</td>\n",
       "      <td>55.30</td>\n",
       "      <td>41.9174</td>\n",
       "      <td>248.297</td>\n",
       "      <td>1610</td>\n",
       "      <td>9.44</td>\n",
       "      <td>56.2</td>\n",
       "      <td>5.82</td>\n",
       "      <td>553</td>\n",
       "    </tr>\n",
       "    <tr>\n",
       "      <th>1</th>\n",
       "      <td>16.6</td>\n",
       "      <td>1145.20</td>\n",
       "      <td>267.8950</td>\n",
       "      <td>1987.740</td>\n",
       "      <td>9930</td>\n",
       "      <td>4.49</td>\n",
       "      <td>76.3</td>\n",
       "      <td>1.65</td>\n",
       "      <td>4090</td>\n",
       "    </tr>\n",
       "    <tr>\n",
       "      <th>2</th>\n",
       "      <td>27.3</td>\n",
       "      <td>1712.64</td>\n",
       "      <td>185.9820</td>\n",
       "      <td>1400.440</td>\n",
       "      <td>12900</td>\n",
       "      <td>16.10</td>\n",
       "      <td>76.5</td>\n",
       "      <td>2.89</td>\n",
       "      <td>4460</td>\n",
       "    </tr>\n",
       "    <tr>\n",
       "      <th>3</th>\n",
       "      <td>119.0</td>\n",
       "      <td>2199.19</td>\n",
       "      <td>100.6050</td>\n",
       "      <td>1514.370</td>\n",
       "      <td>5900</td>\n",
       "      <td>22.40</td>\n",
       "      <td>60.1</td>\n",
       "      <td>6.16</td>\n",
       "      <td>3530</td>\n",
       "    </tr>\n",
       "    <tr>\n",
       "      <th>4</th>\n",
       "      <td>10.3</td>\n",
       "      <td>5551.00</td>\n",
       "      <td>735.6600</td>\n",
       "      <td>7185.800</td>\n",
       "      <td>19100</td>\n",
       "      <td>1.44</td>\n",
       "      <td>76.8</td>\n",
       "      <td>2.13</td>\n",
       "      <td>12200</td>\n",
       "    </tr>\n",
       "  </tbody>\n",
       "</table>\n",
       "</div>"
      ],
      "text/plain": [
       "   child_mort  exports    health   imports  income  inflation  life_expec  \\\n",
       "0        90.2    55.30   41.9174   248.297    1610       9.44        56.2   \n",
       "1        16.6  1145.20  267.8950  1987.740    9930       4.49        76.3   \n",
       "2        27.3  1712.64  185.9820  1400.440   12900      16.10        76.5   \n",
       "3       119.0  2199.19  100.6050  1514.370    5900      22.40        60.1   \n",
       "4        10.3  5551.00  735.6600  7185.800   19100       1.44        76.8   \n",
       "\n",
       "   total_fer   gdpp  \n",
       "0       5.82    553  \n",
       "1       1.65   4090  \n",
       "2       2.89   4460  \n",
       "3       6.16   3530  \n",
       "4       2.13  12200  "
      ]
     },
     "execution_count": 28,
     "metadata": {},
     "output_type": "execute_result"
    }
   ],
   "source": [
    "country_norm = pd.DataFrame(countries_scaled)\n",
    "country_norm.columns = features[1:]\n",
    "country_norm.head()"
   ]
  },
  {
   "cell_type": "markdown",
   "metadata": {
    "papermill": {
     "duration": 0.028877,
     "end_time": "2020-09-08T07:50:05.977239",
     "exception": false,
     "start_time": "2020-09-08T07:50:05.948362",
     "status": "completed"
    },
    "tags": []
   },
   "source": [
    "#### Finding the  Silhouette score"
   ]
  },
  {
   "cell_type": "code",
   "execution_count": 29,
   "metadata": {
    "execution": {
     "iopub.execute_input": "2020-09-08T07:50:06.037866Z",
     "iopub.status.busy": "2020-09-08T07:50:06.037132Z",
     "iopub.status.idle": "2020-09-08T07:50:06.949440Z",
     "shell.execute_reply": "2020-09-08T07:50:06.948697Z"
    },
    "papermill": {
     "duration": 0.943803,
     "end_time": "2020-09-08T07:50:06.949593",
     "exception": false,
     "start_time": "2020-09-08T07:50:06.005790",
     "status": "completed"
    },
    "tags": []
   },
   "outputs": [],
   "source": [
    "# ALEX: remove ML code, plotting\n",
    "# from sklearn.metrics import silhouette_score\n",
    "# ss = []\n",
    "# for k in range(2, 15):\n",
    "#     kmean = KMeans(n_clusters = k).fit(country_norm)\n",
    "#     ss.append([k, silhouette_score(country_norm, kmean.labels_)])\n",
    "# temp = pd.DataFrame(ss)    \n",
    "# plt.plot(temp[0], temp[1])"
   ]
  },
  {
   "cell_type": "markdown",
   "metadata": {
    "papermill": {
     "duration": 0.028996,
     "end_time": "2020-09-08T07:50:07.011967",
     "exception": false,
     "start_time": "2020-09-08T07:50:06.982971",
     "status": "completed"
    },
    "tags": []
   },
   "source": [
    "#### Elbow score"
   ]
  },
  {
   "cell_type": "code",
   "execution_count": 30,
   "metadata": {
    "execution": {
     "iopub.execute_input": "2020-09-08T07:50:07.080785Z",
     "iopub.status.busy": "2020-09-08T07:50:07.080109Z",
     "iopub.status.idle": "2020-09-08T07:50:08.585355Z",
     "shell.execute_reply": "2020-09-08T07:50:08.585848Z"
    },
    "papermill": {
     "duration": 1.544308,
     "end_time": "2020-09-08T07:50:08.585995",
     "exception": false,
     "start_time": "2020-09-08T07:50:07.041687",
     "status": "completed"
    },
    "tags": []
   },
   "outputs": [],
   "source": [
    "# sum of squared distances\n",
    "# ALEX: remove ML code, plotting\n",
    "# ssd = []\n",
    "# for num_clusters in list(range(1,21)):\n",
    "#     model_clus = KMeans(n_clusters = num_clusters, max_iter=50)\n",
    "#     model_clus.fit(country_norm)\n",
    "#     ssd.append(model_clus.inertia_)\n",
    "\n",
    "    \n",
    "# fig, ax = plt.subplots()\n",
    "# ax.plot(range(1,21),ssd, marker = '+',color = 'red' , ls = '--', markeredgecolor = 'blue', markersize = '10')"
   ]
  },
  {
   "cell_type": "markdown",
   "metadata": {
    "papermill": {
     "duration": 0.028594,
     "end_time": "2020-09-08T07:50:08.643814",
     "exception": false,
     "start_time": "2020-09-08T07:50:08.615220",
     "status": "completed"
    },
    "tags": []
   },
   "source": [
    "###### By looking silhouette plot, we see the highest peak is at k = 4 and in sum of squared distances plot , we see that the elbow is in the range of 3 to 5 , so let us take k as 4."
   ]
  },
  {
   "cell_type": "markdown",
   "metadata": {
    "papermill": {
     "duration": 0.029104,
     "end_time": "2020-09-08T07:50:08.702409",
     "exception": false,
     "start_time": "2020-09-08T07:50:08.673305",
     "status": "completed"
    },
    "tags": []
   },
   "source": [
    "### Performing K-Means Clustering on the scaled dataset\n"
   ]
  },
  {
   "cell_type": "code",
   "execution_count": 31,
   "metadata": {
    "execution": {
     "iopub.execute_input": "2020-09-08T07:50:08.764035Z",
     "iopub.status.busy": "2020-09-08T07:50:08.763375Z",
     "iopub.status.idle": "2020-09-08T07:50:08.807436Z",
     "shell.execute_reply": "2020-09-08T07:50:08.807933Z"
    },
    "papermill": {
     "duration": 0.076819,
     "end_time": "2020-09-08T07:50:08.808076",
     "exception": false,
     "start_time": "2020-09-08T07:50:08.731257",
     "status": "completed"
    },
    "tags": []
   },
   "outputs": [],
   "source": [
    "# ALEX: remove ML code\n",
    "# kmeans_clus4 = KMeans(n_clusters=4, max_iter=50, random_state= 50)\n",
    "# kmeans_clus4.fit(country_norm)"
   ]
  },
  {
   "cell_type": "code",
   "execution_count": 32,
   "metadata": {
    "execution": {
     "iopub.execute_input": "2020-09-08T07:50:08.943343Z",
     "iopub.status.busy": "2020-09-08T07:50:08.942689Z",
     "iopub.status.idle": "2020-09-08T07:50:08.945249Z",
     "shell.execute_reply": "2020-09-08T07:50:08.945859Z"
    },
    "papermill": {
     "duration": 0.108986,
     "end_time": "2020-09-08T07:50:08.945994",
     "exception": false,
     "start_time": "2020-09-08T07:50:08.837008",
     "status": "completed"
    },
    "tags": []
   },
   "outputs": [],
   "source": [
    "# ALEX: remove ML code\n",
    "# kmeans_clus4.labels_"
   ]
  },
  {
   "cell_type": "code",
   "execution_count": 33,
   "metadata": {
    "execution": {
     "iopub.execute_input": "2020-09-08T07:50:09.008623Z",
     "iopub.status.busy": "2020-09-08T07:50:09.007927Z",
     "iopub.status.idle": "2020-09-08T07:50:09.011959Z",
     "shell.execute_reply": "2020-09-08T07:50:09.012552Z"
    },
    "papermill": {
     "duration": 0.036778,
     "end_time": "2020-09-08T07:50:09.012695",
     "exception": false,
     "start_time": "2020-09-08T07:50:08.975917",
     "status": "completed"
    },
    "tags": []
   },
   "outputs": [
    {
     "data": {
      "text/plain": [
       "0      0\n",
       "1      0\n",
       "2      0\n",
       "3      0\n",
       "4      2\n",
       "      ..\n",
       "162    0\n",
       "163    2\n",
       "164    0\n",
       "165    0\n",
       "166    0\n",
       "Length: 158, dtype: int64"
      ]
     },
     "execution_count": 33,
     "metadata": {},
     "output_type": "execute_result"
    }
   ],
   "source": [
    "#Finding the labels and converting it to series so that it can be appended to the `original countries` easily.\n",
    "# ALEX: remove ML code\n",
    "# labels_kmeans = pd.Series(kmeans_clus4.labels_, index=countries.index)"
   ]
  },
  {
   "cell_type": "code",
   "execution_count": 34,
   "metadata": {
    "execution": {
     "iopub.execute_input": "2020-09-08T07:50:09.074623Z",
     "iopub.status.busy": "2020-09-08T07:50:09.073994Z",
     "iopub.status.idle": "2020-09-08T07:50:09.092007Z",
     "shell.execute_reply": "2020-09-08T07:50:09.091522Z"
    },
    "papermill": {
     "duration": 0.050013,
     "end_time": "2020-09-08T07:50:09.092114",
     "exception": false,
     "start_time": "2020-09-08T07:50:09.042101",
     "status": "completed"
    },
    "tags": []
   },
   "outputs": [
    {
     "data": {
      "text/html": [
       "<div>\n",
       "<style scoped>\n",
       "    .dataframe tbody tr th:only-of-type {\n",
       "        vertical-align: middle;\n",
       "    }\n",
       "\n",
       "    .dataframe tbody tr th {\n",
       "        vertical-align: top;\n",
       "    }\n",
       "\n",
       "    .dataframe thead th {\n",
       "        text-align: right;\n",
       "    }\n",
       "</style>\n",
       "<table border=\"1\" class=\"dataframe\">\n",
       "  <thead>\n",
       "    <tr style=\"text-align: right;\">\n",
       "      <th></th>\n",
       "      <th>country</th>\n",
       "      <th>child_mort</th>\n",
       "      <th>exports</th>\n",
       "      <th>health</th>\n",
       "      <th>imports</th>\n",
       "      <th>income</th>\n",
       "      <th>inflation</th>\n",
       "      <th>life_expec</th>\n",
       "      <th>total_fer</th>\n",
       "      <th>gdpp</th>\n",
       "      <th>Labels</th>\n",
       "    </tr>\n",
       "  </thead>\n",
       "  <tbody>\n",
       "    <tr>\n",
       "      <th>0</th>\n",
       "      <td>Afghanistan</td>\n",
       "      <td>90.2</td>\n",
       "      <td>55.30</td>\n",
       "      <td>41.9174</td>\n",
       "      <td>248.297</td>\n",
       "      <td>1610</td>\n",
       "      <td>9.44</td>\n",
       "      <td>56.2</td>\n",
       "      <td>5.82</td>\n",
       "      <td>553</td>\n",
       "      <td>0</td>\n",
       "    </tr>\n",
       "    <tr>\n",
       "      <th>1</th>\n",
       "      <td>Albania</td>\n",
       "      <td>16.6</td>\n",
       "      <td>1145.20</td>\n",
       "      <td>267.8950</td>\n",
       "      <td>1987.740</td>\n",
       "      <td>9930</td>\n",
       "      <td>4.49</td>\n",
       "      <td>76.3</td>\n",
       "      <td>1.65</td>\n",
       "      <td>4090</td>\n",
       "      <td>0</td>\n",
       "    </tr>\n",
       "    <tr>\n",
       "      <th>2</th>\n",
       "      <td>Algeria</td>\n",
       "      <td>27.3</td>\n",
       "      <td>1712.64</td>\n",
       "      <td>185.9820</td>\n",
       "      <td>1400.440</td>\n",
       "      <td>12900</td>\n",
       "      <td>16.10</td>\n",
       "      <td>76.5</td>\n",
       "      <td>2.89</td>\n",
       "      <td>4460</td>\n",
       "      <td>0</td>\n",
       "    </tr>\n",
       "    <tr>\n",
       "      <th>3</th>\n",
       "      <td>Angola</td>\n",
       "      <td>119.0</td>\n",
       "      <td>2199.19</td>\n",
       "      <td>100.6050</td>\n",
       "      <td>1514.370</td>\n",
       "      <td>5900</td>\n",
       "      <td>22.40</td>\n",
       "      <td>60.1</td>\n",
       "      <td>6.16</td>\n",
       "      <td>3530</td>\n",
       "      <td>0</td>\n",
       "    </tr>\n",
       "    <tr>\n",
       "      <th>4</th>\n",
       "      <td>Antigua and Barbuda</td>\n",
       "      <td>10.3</td>\n",
       "      <td>5551.00</td>\n",
       "      <td>735.6600</td>\n",
       "      <td>7185.800</td>\n",
       "      <td>19100</td>\n",
       "      <td>1.44</td>\n",
       "      <td>76.8</td>\n",
       "      <td>2.13</td>\n",
       "      <td>12200</td>\n",
       "      <td>2</td>\n",
       "    </tr>\n",
       "  </tbody>\n",
       "</table>\n",
       "</div>"
      ],
      "text/plain": [
       "               country  child_mort  exports    health   imports  income  \\\n",
       "0          Afghanistan        90.2    55.30   41.9174   248.297    1610   \n",
       "1              Albania        16.6  1145.20  267.8950  1987.740    9930   \n",
       "2              Algeria        27.3  1712.64  185.9820  1400.440   12900   \n",
       "3               Angola       119.0  2199.19  100.6050  1514.370    5900   \n",
       "4  Antigua and Barbuda        10.3  5551.00  735.6600  7185.800   19100   \n",
       "\n",
       "   inflation  life_expec  total_fer   gdpp  Labels  \n",
       "0       9.44        56.2       5.82    553       0  \n",
       "1       4.49        76.3       1.65   4090       0  \n",
       "2      16.10        76.5       2.89   4460       0  \n",
       "3      22.40        60.1       6.16   3530       0  \n",
       "4       1.44        76.8       2.13  12200       2  "
      ]
     },
     "execution_count": 34,
     "metadata": {},
     "output_type": "execute_result"
    }
   ],
   "source": [
    "#Adding the labels to countries dataset\n",
    "countries_kmeans = countries.copy()\n",
    "# ALEX: remove ML code\n",
    "# countries_kmeans['Labels'] = labels_kmeans\n",
    "countries_kmeans.head()"
   ]
  },
  {
   "cell_type": "markdown",
   "metadata": {
    "papermill": {
     "duration": 0.029875,
     "end_time": "2020-09-08T07:50:09.151886",
     "exception": false,
     "start_time": "2020-09-08T07:50:09.122011",
     "status": "completed"
    },
    "tags": []
   },
   "source": [
    "### Checking the number of countries assigned to each clusters"
   ]
  },
  {
   "cell_type": "code",
   "execution_count": 35,
   "metadata": {
    "execution": {
     "iopub.execute_input": "2020-09-08T07:50:09.215886Z",
     "iopub.status.busy": "2020-09-08T07:50:09.214933Z",
     "iopub.status.idle": "2020-09-08T07:50:09.221987Z",
     "shell.execute_reply": "2020-09-08T07:50:09.222566Z"
    },
    "papermill": {
     "duration": 0.040174,
     "end_time": "2020-09-08T07:50:09.222696",
     "exception": false,
     "start_time": "2020-09-08T07:50:09.182522",
     "status": "completed"
    },
    "tags": []
   },
   "outputs": [
    {
     "data": {
      "text/plain": [
       "Labels\n",
       "0    96\n",
       "2    38\n",
       "1    23\n",
       "3     1\n",
       "Name: count, dtype: int64"
      ]
     },
     "execution_count": 35,
     "metadata": {},
     "output_type": "execute_result"
    }
   ],
   "source": [
    "# ALEX: remove ML code\n",
    "# countries_kmeans['Labels'].value_counts()"
   ]
  },
  {
   "cell_type": "markdown",
   "metadata": {
    "papermill": {
     "duration": 0.029216,
     "end_time": "2020-09-08T07:50:09.282096",
     "exception": false,
     "start_time": "2020-09-08T07:50:09.252880",
     "status": "completed"
    },
    "tags": []
   },
   "source": [
    "## Profiling the clusters based on  - [gdpp, child_mort and income] "
   ]
  },
  {
   "cell_type": "markdown",
   "metadata": {
    "papermill": {
     "duration": 0.02904,
     "end_time": "2020-09-08T07:50:09.340667",
     "exception": false,
     "start_time": "2020-09-08T07:50:09.311627",
     "status": "completed"
    },
    "tags": []
   },
   "source": [
    "#### Bivariate analysis of clustered countries "
   ]
  },
  {
   "cell_type": "code",
   "execution_count": 36,
   "metadata": {
    "execution": {
     "iopub.execute_input": "2020-09-08T07:50:09.404025Z",
     "iopub.status.busy": "2020-09-08T07:50:09.403390Z",
     "iopub.status.idle": "2020-09-08T07:50:09.608263Z",
     "shell.execute_reply": "2020-09-08T07:50:09.608918Z"
    },
    "papermill": {
     "duration": 0.238665,
     "end_time": "2020-09-08T07:50:09.609057",
     "exception": false,
     "start_time": "2020-09-08T07:50:09.370392",
     "status": "completed"
    },
    "tags": []
   },
   "outputs": [],
   "source": [
    "# ALEX: remove plotting\n",
    "# axes = sns.scatterplot(x='gdpp',y='child_mort',hue='Labels',legend='full',data=countries_kmeans, palette=['green','orange','brown','red'])\n",
    "# axes.set(xlabel = 'GDPP', ylabel= 'Child Mortality Rate')"
   ]
  },
  {
   "cell_type": "code",
   "execution_count": 37,
   "metadata": {
    "execution": {
     "iopub.execute_input": "2020-09-08T07:50:09.674369Z",
     "iopub.status.busy": "2020-09-08T07:50:09.673741Z",
     "iopub.status.idle": "2020-09-08T07:50:09.889883Z",
     "shell.execute_reply": "2020-09-08T07:50:09.890357Z"
    },
    "papermill": {
     "duration": 0.250033,
     "end_time": "2020-09-08T07:50:09.890506",
     "exception": false,
     "start_time": "2020-09-08T07:50:09.640473",
     "status": "completed"
    },
    "tags": []
   },
   "outputs": [],
   "source": [
    "# ALEX: remove plotting\n",
    "# axes = sns.scatterplot(x='gdpp',y='income',hue='Labels',legend='full',data=countries_kmeans, palette=['green','orange','brown','red'])\n",
    "# axes.set(xlabel = 'GDPP', ylabel= 'Income')"
   ]
  },
  {
   "cell_type": "code",
   "execution_count": 38,
   "metadata": {
    "execution": {
     "iopub.execute_input": "2020-09-08T07:50:09.961050Z",
     "iopub.status.busy": "2020-09-08T07:50:09.960459Z",
     "iopub.status.idle": "2020-09-08T07:50:10.166142Z",
     "shell.execute_reply": "2020-09-08T07:50:10.165376Z"
    },
    "papermill": {
     "duration": 0.244107,
     "end_time": "2020-09-08T07:50:10.166260",
     "exception": false,
     "start_time": "2020-09-08T07:50:09.922153",
     "status": "completed"
    },
    "tags": []
   },
   "outputs": [],
   "source": [
    "# ALEX: remove plotting\n",
    "# axes= sns.scatterplot(x='income',y='child_mort',hue='Labels',legend='full',data=countries_kmeans, palette=['green','orange','brown','red'])\n",
    "# axes.set(xlabel = 'Child Mortality Rate', ylabel= 'Income')"
   ]
  },
  {
   "cell_type": "markdown",
   "metadata": {
    "papermill": {
     "duration": 0.031633,
     "end_time": "2020-09-08T07:50:10.230264",
     "exception": false,
     "start_time": "2020-09-08T07:50:10.198631",
     "status": "completed"
    },
    "tags": []
   },
   "source": [
    "### From the above 3 scatterplots we can deduce the following insights about the clusters, specially about the clster labeled 1.\n",
    "\n",
    "- In the gdpp vs child_mort plot, the child_mort is high when gdpp is low.\n",
    "- In the gdpp vs income, when the gdpp is average the income is average.\n",
    "- In the income vs child_mort, when income is high the child mortality is low and vice versa."
   ]
  },
  {
   "cell_type": "markdown",
   "metadata": {
    "papermill": {
     "duration": 0.031077,
     "end_time": "2020-09-08T07:50:10.292718",
     "exception": false,
     "start_time": "2020-09-08T07:50:10.261641",
     "status": "completed"
    },
    "tags": []
   },
   "source": [
    "#### Taking the means and analyzing the clusters further"
   ]
  },
  {
   "cell_type": "code",
   "execution_count": 39,
   "metadata": {
    "execution": {
     "iopub.execute_input": "2020-09-08T07:50:10.361041Z",
     "iopub.status.busy": "2020-09-08T07:50:10.360027Z",
     "iopub.status.idle": "2020-09-08T07:50:10.539654Z",
     "shell.execute_reply": "2020-09-08T07:50:10.539044Z"
    },
    "papermill": {
     "duration": 0.215013,
     "end_time": "2020-09-08T07:50:10.539771",
     "exception": false,
     "start_time": "2020-09-08T07:50:10.324758",
     "status": "completed"
    },
    "tags": []
   },
   "outputs": [],
   "source": [
    "# ALEX: remove ML code\n",
    "# child_mort_mean =pd.DataFrame(countries_kmeans.groupby([\"Labels\"]).child_mort.mean())\n",
    "# exports_mean=pd.DataFrame(countries_kmeans.groupby([\"Labels\"]).exports.mean())\n",
    "# health_mean =pd.DataFrame(countries_kmeans.groupby([\"Labels\"]).health.mean())\n",
    "# imports_mean =pd.DataFrame(countries_kmeans.groupby([\"Labels\"]).imports.mean())\n",
    "# income_mean =pd.DataFrame(countries_kmeans.groupby([\"Labels\"]).income.mean())\n",
    "# inflat_mean =pd.DataFrame(countries_kmeans.groupby([\"Labels\"]).inflation.mean())\n",
    "# life_expec_mean =pd.DataFrame(countries_kmeans.groupby([\"Labels\"]).life_expec.mean())\n",
    "# total_fer_mean =pd.DataFrame(countries_kmeans.groupby([\"Labels\"]).total_fer.mean())\n",
    "# gdpp_mean =pd.DataFrame(countries_kmeans.groupby([\"Labels\"]).gdpp.mean())"
   ]
  },
  {
   "cell_type": "code",
   "execution_count": 40,
   "metadata": {
    "execution": {
     "iopub.execute_input": "2020-09-08T07:50:10.614285Z",
     "iopub.status.busy": "2020-09-08T07:50:10.613278Z",
     "iopub.status.idle": "2020-09-08T07:50:10.615831Z",
     "shell.execute_reply": "2020-09-08T07:50:10.616317Z"
    },
    "papermill": {
     "duration": 0.044597,
     "end_time": "2020-09-08T07:50:10.616482",
     "exception": false,
     "start_time": "2020-09-08T07:50:10.571885",
     "status": "completed"
    },
    "tags": []
   },
   "outputs": [],
   "source": [
    "# ALEX: remove ML code\n",
    "# cluster_analysis_df = pd.concat([pd.Series([0,1,2,3]),child_mort_mean,exports_mean,health_mean,imports_mean,income_mean,inflat_mean,life_expec_mean,\n",
    "#                                  total_fer_mean,gdpp_mean], axis=1)"
   ]
  },
  {
   "cell_type": "code",
   "execution_count": 41,
   "metadata": {
    "execution": {
     "iopub.execute_input": "2020-09-08T07:50:10.698218Z",
     "iopub.status.busy": "2020-09-08T07:50:10.696999Z",
     "iopub.status.idle": "2020-09-08T07:50:10.702050Z",
     "shell.execute_reply": "2020-09-08T07:50:10.701344Z"
    },
    "papermill": {
     "duration": 0.052816,
     "end_time": "2020-09-08T07:50:10.702153",
     "exception": false,
     "start_time": "2020-09-08T07:50:10.649337",
     "status": "completed"
    },
    "tags": []
   },
   "outputs": [
    {
     "data": {
      "text/html": [
       "<div>\n",
       "<style scoped>\n",
       "    .dataframe tbody tr th:only-of-type {\n",
       "        vertical-align: middle;\n",
       "    }\n",
       "\n",
       "    .dataframe tbody tr th {\n",
       "        vertical-align: top;\n",
       "    }\n",
       "\n",
       "    .dataframe thead th {\n",
       "        text-align: right;\n",
       "    }\n",
       "</style>\n",
       "<table border=\"1\" class=\"dataframe\">\n",
       "  <thead>\n",
       "    <tr style=\"text-align: right;\">\n",
       "      <th></th>\n",
       "      <th>Labels</th>\n",
       "      <th>child_mort_mean</th>\n",
       "      <th>exports_mean</th>\n",
       "      <th>health_mean</th>\n",
       "      <th>imports_mean</th>\n",
       "      <th>income_mean</th>\n",
       "      <th>inflation_mean</th>\n",
       "      <th>life_expec_mean</th>\n",
       "      <th>total_fer_mean</th>\n",
       "      <th>gdpp_mean</th>\n",
       "    </tr>\n",
       "  </thead>\n",
       "  <tbody>\n",
       "    <tr>\n",
       "      <th>0</th>\n",
       "      <td>0</td>\n",
       "      <td>58.356250</td>\n",
       "      <td>881.680495</td>\n",
       "      <td>152.453189</td>\n",
       "      <td>1128.790543</td>\n",
       "      <td>5266.281250</td>\n",
       "      <td>9.414542</td>\n",
       "      <td>65.688542</td>\n",
       "      <td>3.703229</td>\n",
       "      <td>2433.687500</td>\n",
       "    </tr>\n",
       "    <tr>\n",
       "      <th>1</th>\n",
       "      <td>1</td>\n",
       "      <td>6.182609</td>\n",
       "      <td>16439.365217</td>\n",
       "      <td>3186.460870</td>\n",
       "      <td>14321.452174</td>\n",
       "      <td>42130.434783</td>\n",
       "      <td>4.591913</td>\n",
       "      <td>79.639130</td>\n",
       "      <td>1.912174</td>\n",
       "      <td>35443.478261</td>\n",
       "    </tr>\n",
       "    <tr>\n",
       "      <th>2</th>\n",
       "      <td>2</td>\n",
       "      <td>15.889474</td>\n",
       "      <td>5871.992632</td>\n",
       "      <td>888.165237</td>\n",
       "      <td>5772.137105</td>\n",
       "      <td>20065.789474</td>\n",
       "      <td>7.114105</td>\n",
       "      <td>74.584211</td>\n",
       "      <td>1.970526</td>\n",
       "      <td>12391.578947</td>\n",
       "    </tr>\n",
       "    <tr>\n",
       "      <th>3</th>\n",
       "      <td>3</td>\n",
       "      <td>2.800000</td>\n",
       "      <td>93200.000000</td>\n",
       "      <td>1845.360000</td>\n",
       "      <td>81084.000000</td>\n",
       "      <td>72100.000000</td>\n",
       "      <td>-0.046000</td>\n",
       "      <td>82.700000</td>\n",
       "      <td>1.150000</td>\n",
       "      <td>46600.000000</td>\n",
       "    </tr>\n",
       "  </tbody>\n",
       "</table>\n",
       "</div>"
      ],
      "text/plain": [
       "   Labels  child_mort_mean  exports_mean  health_mean  imports_mean  \\\n",
       "0       0        58.356250    881.680495   152.453189   1128.790543   \n",
       "1       1         6.182609  16439.365217  3186.460870  14321.452174   \n",
       "2       2        15.889474   5871.992632   888.165237   5772.137105   \n",
       "3       3         2.800000  93200.000000  1845.360000  81084.000000   \n",
       "\n",
       "    income_mean  inflation_mean  life_expec_mean  total_fer_mean     gdpp_mean  \n",
       "0   5266.281250        9.414542        65.688542        3.703229   2433.687500  \n",
       "1  42130.434783        4.591913        79.639130        1.912174  35443.478261  \n",
       "2  20065.789474        7.114105        74.584211        1.970526  12391.578947  \n",
       "3  72100.000000       -0.046000        82.700000        1.150000  46600.000000  "
      ]
     },
     "execution_count": 41,
     "metadata": {},
     "output_type": "execute_result"
    }
   ],
   "source": [
    "# ALEX: remove ML code\n",
    "# cluster_analysis_df.columns = [\"Labels\",\"child_mort_mean\",\"exports_mean\",\"health_mean\",\"imports_mean\",\"income_mean\",\"inflation_mean\",\"life_expec_mean\",\"total_fer_mean\",\"gdpp_mean\"]\n",
    "# cluster_analysis_df"
   ]
  },
  {
   "cell_type": "code",
   "execution_count": 42,
   "metadata": {
    "execution": {
     "iopub.execute_input": "2020-09-08T07:50:10.781535Z",
     "iopub.status.busy": "2020-09-08T07:50:10.780163Z",
     "iopub.status.idle": "2020-09-08T07:50:11.819305Z",
     "shell.execute_reply": "2020-09-08T07:50:11.818775Z"
    },
    "papermill": {
     "duration": 1.084618,
     "end_time": "2020-09-08T07:50:11.819420",
     "exception": false,
     "start_time": "2020-09-08T07:50:10.734802",
     "status": "completed"
    },
    "tags": []
   },
   "outputs": [],
   "source": [
    "# ALEX: remove ML code, plotting\n",
    "# features = cluster_analysis_df.columns\n",
    "# fig = plt.figure(figsize=(18,15))\n",
    "# for plot, feature in enumerate(features[1:]):\n",
    "#     fig.add_subplot(3,3,plot+1)\n",
    "#     sns.barplot(cluster_analysis_df.Labels, cluster_analysis_df[feature])"
   ]
  },
  {
   "cell_type": "markdown",
   "metadata": {
    "papermill": {
     "duration": 0.032982,
     "end_time": "2020-09-08T07:50:11.886109",
     "exception": false,
     "start_time": "2020-09-08T07:50:11.853127",
     "status": "completed"
    },
    "tags": []
   },
   "source": [
    "From the above plot we can see that the criterias , namely, `gdpp, income and child mortality` are satified by cluster labeled 1 "
   ]
  },
  {
   "cell_type": "code",
   "execution_count": 43,
   "metadata": {
    "execution": {
     "iopub.execute_input": "2020-09-08T07:50:11.976543Z",
     "iopub.status.busy": "2020-09-08T07:50:11.964961Z",
     "iopub.status.idle": "2020-09-08T07:50:11.988971Z",
     "shell.execute_reply": "2020-09-08T07:50:11.988362Z"
    },
    "papermill": {
     "duration": 0.068388,
     "end_time": "2020-09-08T07:50:11.989085",
     "exception": false,
     "start_time": "2020-09-08T07:50:11.920697",
     "status": "completed"
    },
    "tags": []
   },
   "outputs": [
    {
     "data": {
      "text/html": [
       "<div>\n",
       "<style scoped>\n",
       "    .dataframe tbody tr th:only-of-type {\n",
       "        vertical-align: middle;\n",
       "    }\n",
       "\n",
       "    .dataframe tbody tr th {\n",
       "        vertical-align: top;\n",
       "    }\n",
       "\n",
       "    .dataframe thead th {\n",
       "        text-align: right;\n",
       "    }\n",
       "</style>\n",
       "<table border=\"1\" class=\"dataframe\">\n",
       "  <thead>\n",
       "    <tr style=\"text-align: right;\">\n",
       "      <th></th>\n",
       "      <th>country</th>\n",
       "      <th>child_mort</th>\n",
       "      <th>exports</th>\n",
       "      <th>health</th>\n",
       "      <th>imports</th>\n",
       "      <th>income</th>\n",
       "      <th>inflation</th>\n",
       "      <th>life_expec</th>\n",
       "      <th>total_fer</th>\n",
       "      <th>gdpp</th>\n",
       "    </tr>\n",
       "  </thead>\n",
       "  <tbody>\n",
       "    <tr>\n",
       "      <th>115</th>\n",
       "      <td>Oman</td>\n",
       "      <td>11.7</td>\n",
       "      <td>12680.1</td>\n",
       "      <td>534.61</td>\n",
       "      <td>7951.6</td>\n",
       "      <td>45300</td>\n",
       "      <td>15.600</td>\n",
       "      <td>76.1</td>\n",
       "      <td>2.90</td>\n",
       "      <td>19300</td>\n",
       "    </tr>\n",
       "    <tr>\n",
       "      <th>128</th>\n",
       "      <td>Saudi Arabia</td>\n",
       "      <td>15.7</td>\n",
       "      <td>9572.8</td>\n",
       "      <td>827.97</td>\n",
       "      <td>6369.0</td>\n",
       "      <td>45400</td>\n",
       "      <td>17.200</td>\n",
       "      <td>75.1</td>\n",
       "      <td>2.96</td>\n",
       "      <td>19300</td>\n",
       "    </tr>\n",
       "    <tr>\n",
       "      <th>11</th>\n",
       "      <td>Bahrain</td>\n",
       "      <td>8.6</td>\n",
       "      <td>14386.5</td>\n",
       "      <td>1028.79</td>\n",
       "      <td>10536.3</td>\n",
       "      <td>41100</td>\n",
       "      <td>7.440</td>\n",
       "      <td>76.0</td>\n",
       "      <td>2.16</td>\n",
       "      <td>20700</td>\n",
       "    </tr>\n",
       "    <tr>\n",
       "      <th>98</th>\n",
       "      <td>Malta</td>\n",
       "      <td>6.8</td>\n",
       "      <td>32283.0</td>\n",
       "      <td>1825.15</td>\n",
       "      <td>32494.0</td>\n",
       "      <td>28300</td>\n",
       "      <td>3.830</td>\n",
       "      <td>80.3</td>\n",
       "      <td>1.36</td>\n",
       "      <td>21100</td>\n",
       "    </tr>\n",
       "    <tr>\n",
       "      <th>135</th>\n",
       "      <td>Slovenia</td>\n",
       "      <td>3.2</td>\n",
       "      <td>15046.2</td>\n",
       "      <td>2201.94</td>\n",
       "      <td>14718.6</td>\n",
       "      <td>28700</td>\n",
       "      <td>-0.987</td>\n",
       "      <td>79.5</td>\n",
       "      <td>1.57</td>\n",
       "      <td>23400</td>\n",
       "    </tr>\n",
       "    <tr>\n",
       "      <th>74</th>\n",
       "      <td>Israel</td>\n",
       "      <td>4.6</td>\n",
       "      <td>10710.0</td>\n",
       "      <td>2334.78</td>\n",
       "      <td>10067.4</td>\n",
       "      <td>29600</td>\n",
       "      <td>1.770</td>\n",
       "      <td>81.4</td>\n",
       "      <td>3.03</td>\n",
       "      <td>30600</td>\n",
       "    </tr>\n",
       "    <tr>\n",
       "      <th>139</th>\n",
       "      <td>Spain</td>\n",
       "      <td>3.8</td>\n",
       "      <td>7828.5</td>\n",
       "      <td>2928.78</td>\n",
       "      <td>8227.6</td>\n",
       "      <td>32500</td>\n",
       "      <td>0.160</td>\n",
       "      <td>81.9</td>\n",
       "      <td>1.37</td>\n",
       "      <td>30700</td>\n",
       "    </tr>\n",
       "    <tr>\n",
       "      <th>42</th>\n",
       "      <td>Cyprus</td>\n",
       "      <td>3.6</td>\n",
       "      <td>15461.6</td>\n",
       "      <td>1838.76</td>\n",
       "      <td>17710.0</td>\n",
       "      <td>33900</td>\n",
       "      <td>2.010</td>\n",
       "      <td>79.9</td>\n",
       "      <td>1.42</td>\n",
       "      <td>30800</td>\n",
       "    </tr>\n",
       "    <tr>\n",
       "      <th>111</th>\n",
       "      <td>New Zealand</td>\n",
       "      <td>6.2</td>\n",
       "      <td>10211.1</td>\n",
       "      <td>3403.70</td>\n",
       "      <td>9436.0</td>\n",
       "      <td>32300</td>\n",
       "      <td>3.730</td>\n",
       "      <td>80.9</td>\n",
       "      <td>2.17</td>\n",
       "      <td>33700</td>\n",
       "    </tr>\n",
       "    <tr>\n",
       "      <th>157</th>\n",
       "      <td>United Arab Emirates</td>\n",
       "      <td>8.6</td>\n",
       "      <td>27195.0</td>\n",
       "      <td>1281.00</td>\n",
       "      <td>22260.0</td>\n",
       "      <td>57600</td>\n",
       "      <td>12.500</td>\n",
       "      <td>76.5</td>\n",
       "      <td>1.87</td>\n",
       "      <td>35000</td>\n",
       "    </tr>\n",
       "  </tbody>\n",
       "</table>\n",
       "</div>"
      ],
      "text/plain": [
       "                  country  child_mort  exports   health  imports  income  \\\n",
       "115                  Oman        11.7  12680.1   534.61   7951.6   45300   \n",
       "128          Saudi Arabia        15.7   9572.8   827.97   6369.0   45400   \n",
       "11                Bahrain         8.6  14386.5  1028.79  10536.3   41100   \n",
       "98                  Malta         6.8  32283.0  1825.15  32494.0   28300   \n",
       "135              Slovenia         3.2  15046.2  2201.94  14718.6   28700   \n",
       "74                 Israel         4.6  10710.0  2334.78  10067.4   29600   \n",
       "139                 Spain         3.8   7828.5  2928.78   8227.6   32500   \n",
       "42                 Cyprus         3.6  15461.6  1838.76  17710.0   33900   \n",
       "111           New Zealand         6.2  10211.1  3403.70   9436.0   32300   \n",
       "157  United Arab Emirates         8.6  27195.0  1281.00  22260.0   57600   \n",
       "\n",
       "     inflation  life_expec  total_fer   gdpp  \n",
       "115     15.600        76.1       2.90  19300  \n",
       "128     17.200        75.1       2.96  19300  \n",
       "11       7.440        76.0       2.16  20700  \n",
       "98       3.830        80.3       1.36  21100  \n",
       "135     -0.987        79.5       1.57  23400  \n",
       "74       1.770        81.4       3.03  30600  \n",
       "139      0.160        81.9       1.37  30700  \n",
       "42       2.010        79.9       1.42  30800  \n",
       "111      3.730        80.9       2.17  33700  \n",
       "157     12.500        76.5       1.87  35000  "
      ]
     },
     "execution_count": 43,
     "metadata": {},
     "output_type": "execute_result"
    }
   ],
   "source": [
    "#Binning the clusters to get the top 5 countries sorted in order exaplined above\n",
    "# ALEX: remove ML code\n",
    "# clustered_kmeans=countries[countries_kmeans['Labels']==1]\n",
    "# clustered_kmeans.sort_values(['gdpp','income','child_mort','health','inflation','life_expec','total_fer','imports','exports'], \n",
    "#                       ascending=[True,True,False,True,False,True,False,False,True]).head(10)\n"
   ]
  },
  {
   "cell_type": "markdown",
   "metadata": {
    "papermill": {
     "duration": 0.033464,
     "end_time": "2020-09-08T07:50:12.056369",
     "exception": false,
     "start_time": "2020-09-08T07:50:12.022905",
     "status": "completed"
    },
    "tags": []
   },
   "source": [
    "### So from the above results and analysis, we can conclude that as per K- means clustering, the country which are direst need of aid are:\n",
    "    1. Burundi\n",
    "    2. Liberia\n",
    "    3. Congo, Dem. Rep\n",
    "    4. Niger\n",
    "    5. Sierra Leone"
   ]
  },
  {
   "cell_type": "markdown",
   "metadata": {
    "papermill": {
     "duration": 0.033185,
     "end_time": "2020-09-08T07:50:12.123104",
     "exception": false,
     "start_time": "2020-09-08T07:50:12.089919",
     "status": "completed"
    },
    "tags": []
   },
   "source": [
    "##  Taking Hierarchical Clustering approach"
   ]
  },
  {
   "cell_type": "markdown",
   "metadata": {
    "papermill": {
     "duration": 0.033786,
     "end_time": "2020-09-08T07:50:12.190644",
     "exception": false,
     "start_time": "2020-09-08T07:50:12.156858",
     "status": "completed"
    },
    "tags": []
   },
   "source": [
    "#### Using the already cleaned and scaled data, done earlier in  kmeans analysis"
   ]
  },
  {
   "cell_type": "code",
   "execution_count": 44,
   "metadata": {
    "execution": {
     "iopub.execute_input": "2020-09-08T07:50:12.263208Z",
     "iopub.status.busy": "2020-09-08T07:50:12.262512Z",
     "iopub.status.idle": "2020-09-08T07:50:12.266000Z",
     "shell.execute_reply": "2020-09-08T07:50:12.265490Z"
    },
    "papermill": {
     "duration": 0.04159,
     "end_time": "2020-09-08T07:50:12.266100",
     "exception": false,
     "start_time": "2020-09-08T07:50:12.224510",
     "status": "completed"
    },
    "tags": []
   },
   "outputs": [
    {
     "data": {
      "text/plain": [
       "(158, 9)"
      ]
     },
     "execution_count": 44,
     "metadata": {},
     "output_type": "execute_result"
    }
   ],
   "source": [
    "country_norm.shape"
   ]
  },
  {
   "cell_type": "code",
   "execution_count": 45,
   "metadata": {
    "execution": {
     "iopub.execute_input": "2020-09-08T07:50:12.348446Z",
     "iopub.status.busy": "2020-09-08T07:50:12.347692Z",
     "iopub.status.idle": "2020-09-08T07:50:12.351900Z",
     "shell.execute_reply": "2020-09-08T07:50:12.351402Z"
    },
    "papermill": {
     "duration": 0.052424,
     "end_time": "2020-09-08T07:50:12.352006",
     "exception": false,
     "start_time": "2020-09-08T07:50:12.299582",
     "status": "completed"
    },
    "tags": []
   },
   "outputs": [
    {
     "data": {
      "text/html": [
       "<div>\n",
       "<style scoped>\n",
       "    .dataframe tbody tr th:only-of-type {\n",
       "        vertical-align: middle;\n",
       "    }\n",
       "\n",
       "    .dataframe tbody tr th {\n",
       "        vertical-align: top;\n",
       "    }\n",
       "\n",
       "    .dataframe thead th {\n",
       "        text-align: right;\n",
       "    }\n",
       "</style>\n",
       "<table border=\"1\" class=\"dataframe\">\n",
       "  <thead>\n",
       "    <tr style=\"text-align: right;\">\n",
       "      <th></th>\n",
       "      <th>child_mort</th>\n",
       "      <th>exports</th>\n",
       "      <th>health</th>\n",
       "      <th>imports</th>\n",
       "      <th>income</th>\n",
       "      <th>inflation</th>\n",
       "      <th>life_expec</th>\n",
       "      <th>total_fer</th>\n",
       "      <th>gdpp</th>\n",
       "    </tr>\n",
       "  </thead>\n",
       "  <tbody>\n",
       "    <tr>\n",
       "      <th>0</th>\n",
       "      <td>90.2</td>\n",
       "      <td>55.30</td>\n",
       "      <td>41.9174</td>\n",
       "      <td>248.297</td>\n",
       "      <td>1610</td>\n",
       "      <td>9.44</td>\n",
       "      <td>56.2</td>\n",
       "      <td>5.82</td>\n",
       "      <td>553</td>\n",
       "    </tr>\n",
       "    <tr>\n",
       "      <th>1</th>\n",
       "      <td>16.6</td>\n",
       "      <td>1145.20</td>\n",
       "      <td>267.8950</td>\n",
       "      <td>1987.740</td>\n",
       "      <td>9930</td>\n",
       "      <td>4.49</td>\n",
       "      <td>76.3</td>\n",
       "      <td>1.65</td>\n",
       "      <td>4090</td>\n",
       "    </tr>\n",
       "    <tr>\n",
       "      <th>2</th>\n",
       "      <td>27.3</td>\n",
       "      <td>1712.64</td>\n",
       "      <td>185.9820</td>\n",
       "      <td>1400.440</td>\n",
       "      <td>12900</td>\n",
       "      <td>16.10</td>\n",
       "      <td>76.5</td>\n",
       "      <td>2.89</td>\n",
       "      <td>4460</td>\n",
       "    </tr>\n",
       "    <tr>\n",
       "      <th>3</th>\n",
       "      <td>119.0</td>\n",
       "      <td>2199.19</td>\n",
       "      <td>100.6050</td>\n",
       "      <td>1514.370</td>\n",
       "      <td>5900</td>\n",
       "      <td>22.40</td>\n",
       "      <td>60.1</td>\n",
       "      <td>6.16</td>\n",
       "      <td>3530</td>\n",
       "    </tr>\n",
       "    <tr>\n",
       "      <th>4</th>\n",
       "      <td>10.3</td>\n",
       "      <td>5551.00</td>\n",
       "      <td>735.6600</td>\n",
       "      <td>7185.800</td>\n",
       "      <td>19100</td>\n",
       "      <td>1.44</td>\n",
       "      <td>76.8</td>\n",
       "      <td>2.13</td>\n",
       "      <td>12200</td>\n",
       "    </tr>\n",
       "  </tbody>\n",
       "</table>\n",
       "</div>"
      ],
      "text/plain": [
       "   child_mort  exports    health   imports  income  inflation  life_expec  \\\n",
       "0        90.2    55.30   41.9174   248.297    1610       9.44        56.2   \n",
       "1        16.6  1145.20  267.8950  1987.740    9930       4.49        76.3   \n",
       "2        27.3  1712.64  185.9820  1400.440   12900      16.10        76.5   \n",
       "3       119.0  2199.19  100.6050  1514.370    5900      22.40        60.1   \n",
       "4        10.3  5551.00  735.6600  7185.800   19100       1.44        76.8   \n",
       "\n",
       "   total_fer   gdpp  \n",
       "0       5.82    553  \n",
       "1       1.65   4090  \n",
       "2       2.89   4460  \n",
       "3       6.16   3530  \n",
       "4       2.13  12200  "
      ]
     },
     "execution_count": 45,
     "metadata": {},
     "output_type": "execute_result"
    }
   ],
   "source": [
    "country_norm.head()"
   ]
  },
  {
   "cell_type": "code",
   "execution_count": 46,
   "metadata": {
    "execution": {
     "iopub.execute_input": "2020-09-08T07:50:12.425732Z",
     "iopub.status.busy": "2020-09-08T07:50:12.425066Z",
     "iopub.status.idle": "2020-09-08T07:50:15.811363Z",
     "shell.execute_reply": "2020-09-08T07:50:15.810724Z"
    },
    "papermill": {
     "duration": 3.425961,
     "end_time": "2020-09-08T07:50:15.811497",
     "exception": false,
     "start_time": "2020-09-08T07:50:12.385536",
     "status": "completed"
    },
    "tags": []
   },
   "outputs": [],
   "source": [
    "countries_hrcl  = country_norm.copy()\n",
    "# ALEX: remove plotting\n",
    "# fig = plt.figure(figsize = (25,8))\n",
    "# mergings = linkage(countries_hrcl, method = \"single\", metric='euclidean')\n",
    "# dendrogram(mergings)\n",
    "# plt.show()"
   ]
  },
  {
   "cell_type": "markdown",
   "metadata": {
    "papermill": {
     "duration": 0.034395,
     "end_time": "2020-09-08T07:50:15.880278",
     "exception": false,
     "start_time": "2020-09-08T07:50:15.845883",
     "status": "completed"
    },
    "tags": []
   },
   "source": [
    "### By single method heirarchical clustering things are not clear, so let us go for complete heirarchical clustering method."
   ]
  },
  {
   "cell_type": "code",
   "execution_count": 47,
   "metadata": {
    "execution": {
     "iopub.execute_input": "2020-09-08T07:50:15.956748Z",
     "iopub.status.busy": "2020-09-08T07:50:15.956015Z",
     "iopub.status.idle": "2020-09-08T07:50:19.262151Z",
     "shell.execute_reply": "2020-09-08T07:50:19.261611Z"
    },
    "papermill": {
     "duration": 3.34739,
     "end_time": "2020-09-08T07:50:19.262274",
     "exception": false,
     "start_time": "2020-09-08T07:50:15.914884",
     "status": "completed"
    },
    "tags": []
   },
   "outputs": [],
   "source": [
    "# HC with complete method\n",
    "# ALEX: remove plotting\n",
    "# fig = plt.figure(figsize = (25, 8))\n",
    "# mergings = linkage(countries_hrcl, method = \"complete\", metric='euclidean')\n",
    "# dendrogram(mergings)\n",
    "# plt.show()"
   ]
  },
  {
   "cell_type": "markdown",
   "metadata": {
    "papermill": {
     "duration": 0.03397,
     "end_time": "2020-09-08T07:50:19.330527",
     "exception": false,
     "start_time": "2020-09-08T07:50:19.296557",
     "status": "completed"
    },
    "tags": []
   },
   "source": [
    "##### At 12.5 there are 3 clusters and at 10.0 there are 4 clusters\n",
    "### Let us cut the dendrogram  such that there are  n_clusters = 4 \n"
   ]
  },
  {
   "cell_type": "code",
   "execution_count": 48,
   "metadata": {
    "execution": {
     "iopub.execute_input": "2020-09-08T07:50:19.421578Z",
     "iopub.status.busy": "2020-09-08T07:50:19.420548Z",
     "iopub.status.idle": "2020-09-08T07:50:19.425044Z",
     "shell.execute_reply": "2020-09-08T07:50:19.425563Z"
    },
    "papermill": {
     "duration": 0.061809,
     "end_time": "2020-09-08T07:50:19.425703",
     "exception": false,
     "start_time": "2020-09-08T07:50:19.363894",
     "status": "completed"
    },
    "tags": []
   },
   "outputs": [
    {
     "data": {
      "text/html": [
       "<div>\n",
       "<style scoped>\n",
       "    .dataframe tbody tr th:only-of-type {\n",
       "        vertical-align: middle;\n",
       "    }\n",
       "\n",
       "    .dataframe tbody tr th {\n",
       "        vertical-align: top;\n",
       "    }\n",
       "\n",
       "    .dataframe thead th {\n",
       "        text-align: right;\n",
       "    }\n",
       "</style>\n",
       "<table border=\"1\" class=\"dataframe\">\n",
       "  <thead>\n",
       "    <tr style=\"text-align: right;\">\n",
       "      <th></th>\n",
       "      <th>country</th>\n",
       "      <th>child_mort</th>\n",
       "      <th>exports</th>\n",
       "      <th>health</th>\n",
       "      <th>imports</th>\n",
       "      <th>income</th>\n",
       "      <th>inflation</th>\n",
       "      <th>life_expec</th>\n",
       "      <th>total_fer</th>\n",
       "      <th>gdpp</th>\n",
       "    </tr>\n",
       "  </thead>\n",
       "  <tbody>\n",
       "    <tr>\n",
       "      <th>0</th>\n",
       "      <td>Afghanistan</td>\n",
       "      <td>90.2</td>\n",
       "      <td>55.30</td>\n",
       "      <td>41.9174</td>\n",
       "      <td>248.297</td>\n",
       "      <td>1610</td>\n",
       "      <td>9.44</td>\n",
       "      <td>56.2</td>\n",
       "      <td>5.82</td>\n",
       "      <td>553</td>\n",
       "    </tr>\n",
       "    <tr>\n",
       "      <th>1</th>\n",
       "      <td>Albania</td>\n",
       "      <td>16.6</td>\n",
       "      <td>1145.20</td>\n",
       "      <td>267.8950</td>\n",
       "      <td>1987.740</td>\n",
       "      <td>9930</td>\n",
       "      <td>4.49</td>\n",
       "      <td>76.3</td>\n",
       "      <td>1.65</td>\n",
       "      <td>4090</td>\n",
       "    </tr>\n",
       "    <tr>\n",
       "      <th>2</th>\n",
       "      <td>Algeria</td>\n",
       "      <td>27.3</td>\n",
       "      <td>1712.64</td>\n",
       "      <td>185.9820</td>\n",
       "      <td>1400.440</td>\n",
       "      <td>12900</td>\n",
       "      <td>16.10</td>\n",
       "      <td>76.5</td>\n",
       "      <td>2.89</td>\n",
       "      <td>4460</td>\n",
       "    </tr>\n",
       "    <tr>\n",
       "      <th>3</th>\n",
       "      <td>Angola</td>\n",
       "      <td>119.0</td>\n",
       "      <td>2199.19</td>\n",
       "      <td>100.6050</td>\n",
       "      <td>1514.370</td>\n",
       "      <td>5900</td>\n",
       "      <td>22.40</td>\n",
       "      <td>60.1</td>\n",
       "      <td>6.16</td>\n",
       "      <td>3530</td>\n",
       "    </tr>\n",
       "    <tr>\n",
       "      <th>4</th>\n",
       "      <td>Antigua and Barbuda</td>\n",
       "      <td>10.3</td>\n",
       "      <td>5551.00</td>\n",
       "      <td>735.6600</td>\n",
       "      <td>7185.800</td>\n",
       "      <td>19100</td>\n",
       "      <td>1.44</td>\n",
       "      <td>76.8</td>\n",
       "      <td>2.13</td>\n",
       "      <td>12200</td>\n",
       "    </tr>\n",
       "    <tr>\n",
       "      <th>...</th>\n",
       "      <td>...</td>\n",
       "      <td>...</td>\n",
       "      <td>...</td>\n",
       "      <td>...</td>\n",
       "      <td>...</td>\n",
       "      <td>...</td>\n",
       "      <td>...</td>\n",
       "      <td>...</td>\n",
       "      <td>...</td>\n",
       "      <td>...</td>\n",
       "    </tr>\n",
       "    <tr>\n",
       "      <th>162</th>\n",
       "      <td>Vanuatu</td>\n",
       "      <td>29.2</td>\n",
       "      <td>1384.02</td>\n",
       "      <td>155.9250</td>\n",
       "      <td>1565.190</td>\n",
       "      <td>2950</td>\n",
       "      <td>2.62</td>\n",
       "      <td>63.0</td>\n",
       "      <td>3.50</td>\n",
       "      <td>2970</td>\n",
       "    </tr>\n",
       "    <tr>\n",
       "      <th>163</th>\n",
       "      <td>Venezuela</td>\n",
       "      <td>17.1</td>\n",
       "      <td>3847.50</td>\n",
       "      <td>662.8500</td>\n",
       "      <td>2376.000</td>\n",
       "      <td>16500</td>\n",
       "      <td>45.90</td>\n",
       "      <td>75.4</td>\n",
       "      <td>2.47</td>\n",
       "      <td>13500</td>\n",
       "    </tr>\n",
       "    <tr>\n",
       "      <th>164</th>\n",
       "      <td>Vietnam</td>\n",
       "      <td>23.3</td>\n",
       "      <td>943.20</td>\n",
       "      <td>89.6040</td>\n",
       "      <td>1050.620</td>\n",
       "      <td>4490</td>\n",
       "      <td>12.10</td>\n",
       "      <td>73.1</td>\n",
       "      <td>1.95</td>\n",
       "      <td>1310</td>\n",
       "    </tr>\n",
       "    <tr>\n",
       "      <th>165</th>\n",
       "      <td>Yemen</td>\n",
       "      <td>56.3</td>\n",
       "      <td>393.00</td>\n",
       "      <td>67.8580</td>\n",
       "      <td>450.640</td>\n",
       "      <td>4480</td>\n",
       "      <td>23.60</td>\n",
       "      <td>67.5</td>\n",
       "      <td>4.67</td>\n",
       "      <td>1310</td>\n",
       "    </tr>\n",
       "    <tr>\n",
       "      <th>166</th>\n",
       "      <td>Zambia</td>\n",
       "      <td>83.1</td>\n",
       "      <td>540.20</td>\n",
       "      <td>85.9940</td>\n",
       "      <td>451.140</td>\n",
       "      <td>3280</td>\n",
       "      <td>14.00</td>\n",
       "      <td>52.0</td>\n",
       "      <td>5.40</td>\n",
       "      <td>1460</td>\n",
       "    </tr>\n",
       "  </tbody>\n",
       "</table>\n",
       "<p>158 rows \u00d7 10 columns</p>\n",
       "</div>"
      ],
      "text/plain": [
       "                 country  child_mort  exports    health   imports  income  \\\n",
       "0            Afghanistan        90.2    55.30   41.9174   248.297    1610   \n",
       "1                Albania        16.6  1145.20  267.8950  1987.740    9930   \n",
       "2                Algeria        27.3  1712.64  185.9820  1400.440   12900   \n",
       "3                 Angola       119.0  2199.19  100.6050  1514.370    5900   \n",
       "4    Antigua and Barbuda        10.3  5551.00  735.6600  7185.800   19100   \n",
       "..                   ...         ...      ...       ...       ...     ...   \n",
       "162              Vanuatu        29.2  1384.02  155.9250  1565.190    2950   \n",
       "163            Venezuela        17.1  3847.50  662.8500  2376.000   16500   \n",
       "164              Vietnam        23.3   943.20   89.6040  1050.620    4490   \n",
       "165                Yemen        56.3   393.00   67.8580   450.640    4480   \n",
       "166               Zambia        83.1   540.20   85.9940   451.140    3280   \n",
       "\n",
       "     inflation  life_expec  total_fer   gdpp  \n",
       "0         9.44        56.2       5.82    553  \n",
       "1         4.49        76.3       1.65   4090  \n",
       "2        16.10        76.5       2.89   4460  \n",
       "3        22.40        60.1       6.16   3530  \n",
       "4         1.44        76.8       2.13  12200  \n",
       "..         ...         ...        ...    ...  \n",
       "162       2.62        63.0       3.50   2970  \n",
       "163      45.90        75.4       2.47  13500  \n",
       "164      12.10        73.1       1.95   1310  \n",
       "165      23.60        67.5       4.67   1310  \n",
       "166      14.00        52.0       5.40   1460  \n",
       "\n",
       "[158 rows x 10 columns]"
      ]
     },
     "execution_count": 48,
     "metadata": {},
     "output_type": "execute_result"
    }
   ],
   "source": [
    "countries"
   ]
  },
  {
   "cell_type": "code",
   "execution_count": 49,
   "metadata": {
    "execution": {
     "iopub.execute_input": "2020-09-08T07:50:19.506414Z",
     "iopub.status.busy": "2020-09-08T07:50:19.505743Z",
     "iopub.status.idle": "2020-09-08T07:50:19.521439Z",
     "shell.execute_reply": "2020-09-08T07:50:19.520904Z"
    },
    "papermill": {
     "duration": 0.060887,
     "end_time": "2020-09-08T07:50:19.521567",
     "exception": false,
     "start_time": "2020-09-08T07:50:19.460680",
     "status": "completed"
    },
    "tags": []
   },
   "outputs": [],
   "source": [
    "# ALEX: remove ML code\n",
    "# clusterCut = cut_tree(mergings, n_clusters = 4).reshape(-1,)\n",
    "# clusterCut"
   ]
  },
  {
   "cell_type": "code",
   "execution_count": null,
   "metadata": {
    "papermill": {
     "duration": 0.035366,
     "end_time": "2020-09-08T07:50:19.592757",
     "exception": false,
     "start_time": "2020-09-08T07:50:19.557391",
     "status": "completed"
    },
    "tags": []
   },
   "outputs": [],
   "source": []
  },
  {
   "cell_type": "code",
   "execution_count": 50,
   "metadata": {
    "execution": {
     "iopub.execute_input": "2020-09-08T07:50:19.681299Z",
     "iopub.status.busy": "2020-09-08T07:50:19.675110Z",
     "iopub.status.idle": "2020-09-08T07:50:19.685058Z",
     "shell.execute_reply": "2020-09-08T07:50:19.685592Z"
    },
    "papermill": {
     "duration": 0.056595,
     "end_time": "2020-09-08T07:50:19.685743",
     "exception": false,
     "start_time": "2020-09-08T07:50:19.629148",
     "status": "completed"
    },
    "tags": []
   },
   "outputs": [
    {
     "data": {
      "text/html": [
       "<div>\n",
       "<style scoped>\n",
       "    .dataframe tbody tr th:only-of-type {\n",
       "        vertical-align: middle;\n",
       "    }\n",
       "\n",
       "    .dataframe tbody tr th {\n",
       "        vertical-align: top;\n",
       "    }\n",
       "\n",
       "    .dataframe thead th {\n",
       "        text-align: right;\n",
       "    }\n",
       "</style>\n",
       "<table border=\"1\" class=\"dataframe\">\n",
       "  <thead>\n",
       "    <tr style=\"text-align: right;\">\n",
       "      <th></th>\n",
       "      <th>country</th>\n",
       "      <th>child_mort</th>\n",
       "      <th>exports</th>\n",
       "      <th>health</th>\n",
       "      <th>imports</th>\n",
       "      <th>income</th>\n",
       "      <th>inflation</th>\n",
       "      <th>life_expec</th>\n",
       "      <th>total_fer</th>\n",
       "      <th>gdpp</th>\n",
       "    </tr>\n",
       "  </thead>\n",
       "  <tbody>\n",
       "    <tr>\n",
       "      <th>0</th>\n",
       "      <td>Afghanistan</td>\n",
       "      <td>90.2</td>\n",
       "      <td>55.30</td>\n",
       "      <td>41.9174</td>\n",
       "      <td>248.297</td>\n",
       "      <td>1610</td>\n",
       "      <td>9.44</td>\n",
       "      <td>56.2</td>\n",
       "      <td>5.82</td>\n",
       "      <td>553</td>\n",
       "    </tr>\n",
       "    <tr>\n",
       "      <th>1</th>\n",
       "      <td>Albania</td>\n",
       "      <td>16.6</td>\n",
       "      <td>1145.20</td>\n",
       "      <td>267.8950</td>\n",
       "      <td>1987.740</td>\n",
       "      <td>9930</td>\n",
       "      <td>4.49</td>\n",
       "      <td>76.3</td>\n",
       "      <td>1.65</td>\n",
       "      <td>4090</td>\n",
       "    </tr>\n",
       "    <tr>\n",
       "      <th>2</th>\n",
       "      <td>Algeria</td>\n",
       "      <td>27.3</td>\n",
       "      <td>1712.64</td>\n",
       "      <td>185.9820</td>\n",
       "      <td>1400.440</td>\n",
       "      <td>12900</td>\n",
       "      <td>16.10</td>\n",
       "      <td>76.5</td>\n",
       "      <td>2.89</td>\n",
       "      <td>4460</td>\n",
       "    </tr>\n",
       "    <tr>\n",
       "      <th>3</th>\n",
       "      <td>Angola</td>\n",
       "      <td>119.0</td>\n",
       "      <td>2199.19</td>\n",
       "      <td>100.6050</td>\n",
       "      <td>1514.370</td>\n",
       "      <td>5900</td>\n",
       "      <td>22.40</td>\n",
       "      <td>60.1</td>\n",
       "      <td>6.16</td>\n",
       "      <td>3530</td>\n",
       "    </tr>\n",
       "    <tr>\n",
       "      <th>4</th>\n",
       "      <td>Antigua and Barbuda</td>\n",
       "      <td>10.3</td>\n",
       "      <td>5551.00</td>\n",
       "      <td>735.6600</td>\n",
       "      <td>7185.800</td>\n",
       "      <td>19100</td>\n",
       "      <td>1.44</td>\n",
       "      <td>76.8</td>\n",
       "      <td>2.13</td>\n",
       "      <td>12200</td>\n",
       "    </tr>\n",
       "  </tbody>\n",
       "</table>\n",
       "</div>"
      ],
      "text/plain": [
       "               country  child_mort  exports    health   imports  income  \\\n",
       "0          Afghanistan        90.2    55.30   41.9174   248.297    1610   \n",
       "1              Albania        16.6  1145.20  267.8950  1987.740    9930   \n",
       "2              Algeria        27.3  1712.64  185.9820  1400.440   12900   \n",
       "3               Angola       119.0  2199.19  100.6050  1514.370    5900   \n",
       "4  Antigua and Barbuda        10.3  5551.00  735.6600  7185.800   19100   \n",
       "\n",
       "   inflation  life_expec  total_fer   gdpp  \n",
       "0       9.44        56.2       5.82    553  \n",
       "1       4.49        76.3       1.65   4090  \n",
       "2      16.10        76.5       2.89   4460  \n",
       "3      22.40        60.1       6.16   3530  \n",
       "4       1.44        76.8       2.13  12200  "
      ]
     },
     "execution_count": 50,
     "metadata": {},
     "output_type": "execute_result"
    }
   ],
   "source": [
    "countries_hrcl_cluster = countries.copy()\n",
    "countries_hrcl_cluster.head()"
   ]
  },
  {
   "cell_type": "code",
   "execution_count": 51,
   "metadata": {
    "execution": {
     "iopub.execute_input": "2020-09-08T07:50:19.773045Z",
     "iopub.status.busy": "2020-09-08T07:50:19.772367Z",
     "iopub.status.idle": "2020-09-08T07:50:19.776316Z",
     "shell.execute_reply": "2020-09-08T07:50:19.775790Z"
    },
    "papermill": {
     "duration": 0.055271,
     "end_time": "2020-09-08T07:50:19.776424",
     "exception": false,
     "start_time": "2020-09-08T07:50:19.721153",
     "status": "completed"
    },
    "tags": []
   },
   "outputs": [
    {
     "data": {
      "text/html": [
       "<div>\n",
       "<style scoped>\n",
       "    .dataframe tbody tr th:only-of-type {\n",
       "        vertical-align: middle;\n",
       "    }\n",
       "\n",
       "    .dataframe tbody tr th {\n",
       "        vertical-align: top;\n",
       "    }\n",
       "\n",
       "    .dataframe thead th {\n",
       "        text-align: right;\n",
       "    }\n",
       "</style>\n",
       "<table border=\"1\" class=\"dataframe\">\n",
       "  <thead>\n",
       "    <tr style=\"text-align: right;\">\n",
       "      <th></th>\n",
       "      <th>country</th>\n",
       "      <th>child_mort</th>\n",
       "      <th>exports</th>\n",
       "      <th>health</th>\n",
       "      <th>imports</th>\n",
       "      <th>income</th>\n",
       "      <th>inflation</th>\n",
       "      <th>life_expec</th>\n",
       "      <th>total_fer</th>\n",
       "      <th>gdpp</th>\n",
       "      <th>Labels</th>\n",
       "    </tr>\n",
       "  </thead>\n",
       "  <tbody>\n",
       "    <tr>\n",
       "      <th>0</th>\n",
       "      <td>Afghanistan</td>\n",
       "      <td>90.2</td>\n",
       "      <td>55.30</td>\n",
       "      <td>41.9174</td>\n",
       "      <td>248.297</td>\n",
       "      <td>1610</td>\n",
       "      <td>9.44</td>\n",
       "      <td>56.2</td>\n",
       "      <td>5.82</td>\n",
       "      <td>553</td>\n",
       "      <td>0</td>\n",
       "    </tr>\n",
       "    <tr>\n",
       "      <th>1</th>\n",
       "      <td>Albania</td>\n",
       "      <td>16.6</td>\n",
       "      <td>1145.20</td>\n",
       "      <td>267.8950</td>\n",
       "      <td>1987.740</td>\n",
       "      <td>9930</td>\n",
       "      <td>4.49</td>\n",
       "      <td>76.3</td>\n",
       "      <td>1.65</td>\n",
       "      <td>4090</td>\n",
       "      <td>0</td>\n",
       "    </tr>\n",
       "    <tr>\n",
       "      <th>2</th>\n",
       "      <td>Algeria</td>\n",
       "      <td>27.3</td>\n",
       "      <td>1712.64</td>\n",
       "      <td>185.9820</td>\n",
       "      <td>1400.440</td>\n",
       "      <td>12900</td>\n",
       "      <td>16.10</td>\n",
       "      <td>76.5</td>\n",
       "      <td>2.89</td>\n",
       "      <td>4460</td>\n",
       "      <td>0</td>\n",
       "    </tr>\n",
       "    <tr>\n",
       "      <th>3</th>\n",
       "      <td>Angola</td>\n",
       "      <td>119.0</td>\n",
       "      <td>2199.19</td>\n",
       "      <td>100.6050</td>\n",
       "      <td>1514.370</td>\n",
       "      <td>5900</td>\n",
       "      <td>22.40</td>\n",
       "      <td>60.1</td>\n",
       "      <td>6.16</td>\n",
       "      <td>3530</td>\n",
       "      <td>0</td>\n",
       "    </tr>\n",
       "    <tr>\n",
       "      <th>4</th>\n",
       "      <td>Antigua and Barbuda</td>\n",
       "      <td>10.3</td>\n",
       "      <td>5551.00</td>\n",
       "      <td>735.6600</td>\n",
       "      <td>7185.800</td>\n",
       "      <td>19100</td>\n",
       "      <td>1.44</td>\n",
       "      <td>76.8</td>\n",
       "      <td>2.13</td>\n",
       "      <td>12200</td>\n",
       "      <td>2</td>\n",
       "    </tr>\n",
       "  </tbody>\n",
       "</table>\n",
       "</div>"
      ],
      "text/plain": [
       "               country  child_mort  exports    health   imports  income  \\\n",
       "0          Afghanistan        90.2    55.30   41.9174   248.297    1610   \n",
       "1              Albania        16.6  1145.20  267.8950  1987.740    9930   \n",
       "2              Algeria        27.3  1712.64  185.9820  1400.440   12900   \n",
       "3               Angola       119.0  2199.19  100.6050  1514.370    5900   \n",
       "4  Antigua and Barbuda        10.3  5551.00  735.6600  7185.800   19100   \n",
       "\n",
       "   inflation  life_expec  total_fer   gdpp  Labels  \n",
       "0       9.44        56.2       5.82    553       0  \n",
       "1       4.49        76.3       1.65   4090       0  \n",
       "2      16.10        76.5       2.89   4460       0  \n",
       "3      22.40        60.1       6.16   3530       0  \n",
       "4       1.44        76.8       2.13  12200       2  "
      ]
     },
     "execution_count": 51,
     "metadata": {},
     "output_type": "execute_result"
    }
   ],
   "source": [
    "# ALEX: remove ML code\n",
    "# countries_hrcl_cluster['Labels'] = pd.Series(clusterCut, index=countries.index)\n",
    "countries_hrcl_cluster.head()"
   ]
  },
  {
   "cell_type": "markdown",
   "metadata": {
    "papermill": {
     "duration": 0.034928,
     "end_time": "2020-09-08T07:50:19.846414",
     "exception": false,
     "start_time": "2020-09-08T07:50:19.811486",
     "status": "completed"
    },
    "tags": []
   },
   "source": [
    "### Checking the number of countries assigned to each clusters"
   ]
  },
  {
   "cell_type": "code",
   "execution_count": 52,
   "metadata": {
    "execution": {
     "iopub.execute_input": "2020-09-08T07:50:19.923582Z",
     "iopub.status.busy": "2020-09-08T07:50:19.922916Z",
     "iopub.status.idle": "2020-09-08T07:50:19.926620Z",
     "shell.execute_reply": "2020-09-08T07:50:19.926037Z"
    },
    "papermill": {
     "duration": 0.045293,
     "end_time": "2020-09-08T07:50:19.926734",
     "exception": false,
     "start_time": "2020-09-08T07:50:19.881441",
     "status": "completed"
    },
    "tags": []
   },
   "outputs": [
    {
     "data": {
      "text/plain": [
       "Labels\n",
       "0    96\n",
       "2    38\n",
       "1    23\n",
       "3     1\n",
       "Name: count, dtype: int64"
      ]
     },
     "execution_count": 52,
     "metadata": {},
     "output_type": "execute_result"
    }
   ],
   "source": [
    "# ALEX: remove ML code\n",
    "# countries_hrcl_cluster['Labels'].value_counts()"
   ]
  },
  {
   "cell_type": "markdown",
   "metadata": {
    "papermill": {
     "duration": 0.034997,
     "end_time": "2020-09-08T07:50:19.997984",
     "exception": false,
     "start_time": "2020-09-08T07:50:19.962987",
     "status": "completed"
    },
    "tags": []
   },
   "source": [
    "The above numbers are quite different from the one which we got in kMeans method.\n",
    "But that is understandable becuase the Hierarchical clustering method will form different clusters than the Kmeans one."
   ]
  },
  {
   "cell_type": "markdown",
   "metadata": {
    "papermill": {
     "duration": 0.034092,
     "end_time": "2020-09-08T07:50:20.067381",
     "exception": false,
     "start_time": "2020-09-08T07:50:20.033289",
     "status": "completed"
    },
    "tags": []
   },
   "source": [
    "## Profiling the clusters based on  - [gdpp, child_mort and income] "
   ]
  },
  {
   "cell_type": "markdown",
   "metadata": {
    "papermill": {
     "duration": 0.035437,
     "end_time": "2020-09-08T07:50:20.137813",
     "exception": false,
     "start_time": "2020-09-08T07:50:20.102376",
     "status": "completed"
    },
    "tags": []
   },
   "source": [
    "#### Bivariate analysis of clustered countries "
   ]
  },
  {
   "cell_type": "code",
   "execution_count": 53,
   "metadata": {
    "execution": {
     "iopub.execute_input": "2020-09-08T07:50:20.223996Z",
     "iopub.status.busy": "2020-09-08T07:50:20.211004Z",
     "iopub.status.idle": "2020-09-08T07:50:20.416602Z",
     "shell.execute_reply": "2020-09-08T07:50:20.417116Z"
    },
    "papermill": {
     "duration": 0.24418,
     "end_time": "2020-09-08T07:50:20.417270",
     "exception": false,
     "start_time": "2020-09-08T07:50:20.173090",
     "status": "completed"
    },
    "tags": []
   },
   "outputs": [],
   "source": [
    "# ALEX: remove plotting\n",
    "# axes = sns.scatterplot(x='gdpp', y='child_mort', hue='Labels',legend='full',data=countries_hrcl_cluster, palette=['green','orange','brown','red'])\n",
    "# axes.set(xlabel = 'GDPP', ylabel= 'Child Mortality Rate')"
   ]
  },
  {
   "cell_type": "code",
   "execution_count": 54,
   "metadata": {
    "execution": {
     "iopub.execute_input": "2020-09-08T07:50:20.513142Z",
     "iopub.status.busy": "2020-09-08T07:50:20.504889Z",
     "iopub.status.idle": "2020-09-08T07:50:20.715095Z",
     "shell.execute_reply": "2020-09-08T07:50:20.714568Z"
    },
    "papermill": {
     "duration": 0.261309,
     "end_time": "2020-09-08T07:50:20.715225",
     "exception": false,
     "start_time": "2020-09-08T07:50:20.453916",
     "status": "completed"
    },
    "tags": []
   },
   "outputs": [],
   "source": [
    "# ALEX: remove plotting\n",
    "# axes = sns.scatterplot(x='gdpp',y='income',hue='Labels',legend='full',data=countries_hrcl_cluster, palette=['green','orange','brown','red'])\n",
    "# axes.set(xlabel = 'GDPP', ylabel= 'Income')"
   ]
  },
  {
   "cell_type": "code",
   "execution_count": 55,
   "metadata": {
    "execution": {
     "iopub.execute_input": "2020-09-08T07:50:20.798595Z",
     "iopub.status.busy": "2020-09-08T07:50:20.797923Z",
     "iopub.status.idle": "2020-09-08T07:50:21.009723Z",
     "shell.execute_reply": "2020-09-08T07:50:21.010254Z"
    },
    "papermill": {
     "duration": 0.258521,
     "end_time": "2020-09-08T07:50:21.010401",
     "exception": false,
     "start_time": "2020-09-08T07:50:20.751880",
     "status": "completed"
    },
    "tags": []
   },
   "outputs": [],
   "source": [
    "# ALEX: remove plotting\n",
    "# axes= sns.scatterplot(x='income',y='child_mort',hue='Labels',legend='full',data=countries_hrcl_cluster, palette=['green','orange','brown','red'])\n",
    "# axes.set(xlabel = 'Child Mortality Rate', ylabel= 'Income')"
   ]
  },
  {
   "cell_type": "markdown",
   "metadata": {
    "papermill": {
     "duration": 0.087941,
     "end_time": "2020-09-08T07:50:21.136819",
     "exception": false,
     "start_time": "2020-09-08T07:50:21.048878",
     "status": "completed"
    },
    "tags": []
   },
   "source": [
    "### From the above 3 scatterplots we can deduce the following insights about the clusters, specially about the clster labeled 0.\n",
    "\n",
    "- In the gdpp vs child_mort plot, the child_mort is high when gdpp is low.\n",
    "- In the gdpp vs income, when the gdpp is average the income is average.\n",
    "- In the income vs child_mort, when income is high the child mortality is low and vice versa."
   ]
  },
  {
   "cell_type": "markdown",
   "metadata": {
    "papermill": {
     "duration": 0.037591,
     "end_time": "2020-09-08T07:50:21.212353",
     "exception": false,
     "start_time": "2020-09-08T07:50:21.174762",
     "status": "completed"
    },
    "tags": []
   },
   "source": [
    "#### Taking the means of the features and analyzing the clusters further"
   ]
  },
  {
   "cell_type": "code",
   "execution_count": 56,
   "metadata": {
    "execution": {
     "iopub.execute_input": "2020-09-08T07:50:21.290481Z",
     "iopub.status.busy": "2020-09-08T07:50:21.289819Z",
     "iopub.status.idle": "2020-09-08T07:50:21.310661Z",
     "shell.execute_reply": "2020-09-08T07:50:21.311191Z"
    },
    "papermill": {
     "duration": 0.061404,
     "end_time": "2020-09-08T07:50:21.311333",
     "exception": false,
     "start_time": "2020-09-08T07:50:21.249929",
     "status": "completed"
    },
    "tags": []
   },
   "outputs": [],
   "source": [
    "# ALEX: remove ML code\n",
    "# child_mort_mean =pd.DataFrame(countries_hrcl_cluster.groupby([\"Labels\"]).child_mort.mean())\n",
    "# exports_mean=pd.DataFrame(countries_hrcl_cluster.groupby([\"Labels\"]).exports.mean())\n",
    "# health_mean =pd.DataFrame(countries_hrcl_cluster.groupby([\"Labels\"]).health.mean())\n",
    "# imports_mean =pd.DataFrame(countries_hrcl_cluster.groupby([\"Labels\"]).imports.mean())\n",
    "# income_mean =pd.DataFrame(countries_hrcl_cluster.groupby([\"Labels\"]).income.mean())\n",
    "# inflat_mean =pd.DataFrame(countries_hrcl_cluster.groupby([\"Labels\"]).inflation.mean())\n",
    "# life_expec_mean =pd.DataFrame(countries_hrcl_cluster.groupby([\"Labels\"]).life_expec.mean())\n",
    "# total_fer_mean =pd.DataFrame(countries_hrcl_cluster.groupby([\"Labels\"]).total_fer.mean())\n",
    "# gdpp_mean =pd.DataFrame(countries_hrcl_cluster.groupby([\"Labels\"]).gdpp.mean())"
   ]
  },
  {
   "cell_type": "code",
   "execution_count": 57,
   "metadata": {
    "execution": {
     "iopub.execute_input": "2020-09-08T07:50:21.390773Z",
     "iopub.status.busy": "2020-09-08T07:50:21.390067Z",
     "iopub.status.idle": "2020-09-08T07:50:21.398275Z",
     "shell.execute_reply": "2020-09-08T07:50:21.398822Z"
    },
    "papermill": {
     "duration": 0.049798,
     "end_time": "2020-09-08T07:50:21.398969",
     "exception": false,
     "start_time": "2020-09-08T07:50:21.349171",
     "status": "completed"
    },
    "tags": []
   },
   "outputs": [],
   "source": [
    "# ALEX: remove ML code\n",
    "# hrcl_cluster_analysis_df = pd.concat([pd.Series([0,1,2,3]),child_mort_mean,exports_mean,health_mean,imports_mean,income_mean,inflat_mean,life_expec_mean,\n",
    "#                                  total_fer_mean,gdpp_mean], axis=1)"
   ]
  },
  {
   "cell_type": "code",
   "execution_count": 58,
   "metadata": {
    "execution": {
     "iopub.execute_input": "2020-09-08T07:50:21.477571Z",
     "iopub.status.busy": "2020-09-08T07:50:21.476950Z",
     "iopub.status.idle": "2020-09-08T07:50:21.493603Z",
     "shell.execute_reply": "2020-09-08T07:50:21.493095Z"
    },
    "papermill": {
     "duration": 0.056721,
     "end_time": "2020-09-08T07:50:21.493714",
     "exception": false,
     "start_time": "2020-09-08T07:50:21.436993",
     "status": "completed"
    },
    "tags": []
   },
   "outputs": [
    {
     "data": {
      "text/html": [
       "<div>\n",
       "<style scoped>\n",
       "    .dataframe tbody tr th:only-of-type {\n",
       "        vertical-align: middle;\n",
       "    }\n",
       "\n",
       "    .dataframe tbody tr th {\n",
       "        vertical-align: top;\n",
       "    }\n",
       "\n",
       "    .dataframe thead th {\n",
       "        text-align: right;\n",
       "    }\n",
       "</style>\n",
       "<table border=\"1\" class=\"dataframe\">\n",
       "  <thead>\n",
       "    <tr style=\"text-align: right;\">\n",
       "      <th></th>\n",
       "      <th>Labels</th>\n",
       "      <th>child_mort_mean</th>\n",
       "      <th>exports_mean</th>\n",
       "      <th>health_mean</th>\n",
       "      <th>imports_mean</th>\n",
       "      <th>income_mean</th>\n",
       "      <th>inflation_mean</th>\n",
       "      <th>life_expec_mean</th>\n",
       "      <th>total_fer_mean</th>\n",
       "      <th>gdpp_mean</th>\n",
       "    </tr>\n",
       "  </thead>\n",
       "  <tbody>\n",
       "    <tr>\n",
       "      <th>0</th>\n",
       "      <td>0</td>\n",
       "      <td>58.356250</td>\n",
       "      <td>881.680495</td>\n",
       "      <td>152.453189</td>\n",
       "      <td>1128.790543</td>\n",
       "      <td>5266.281250</td>\n",
       "      <td>9.414542</td>\n",
       "      <td>65.688542</td>\n",
       "      <td>3.703229</td>\n",
       "      <td>2433.687500</td>\n",
       "    </tr>\n",
       "    <tr>\n",
       "      <th>1</th>\n",
       "      <td>1</td>\n",
       "      <td>6.182609</td>\n",
       "      <td>16439.365217</td>\n",
       "      <td>3186.460870</td>\n",
       "      <td>14321.452174</td>\n",
       "      <td>42130.434783</td>\n",
       "      <td>4.591913</td>\n",
       "      <td>79.639130</td>\n",
       "      <td>1.912174</td>\n",
       "      <td>35443.478261</td>\n",
       "    </tr>\n",
       "    <tr>\n",
       "      <th>2</th>\n",
       "      <td>2</td>\n",
       "      <td>15.889474</td>\n",
       "      <td>5871.992632</td>\n",
       "      <td>888.165237</td>\n",
       "      <td>5772.137105</td>\n",
       "      <td>20065.789474</td>\n",
       "      <td>7.114105</td>\n",
       "      <td>74.584211</td>\n",
       "      <td>1.970526</td>\n",
       "      <td>12391.578947</td>\n",
       "    </tr>\n",
       "    <tr>\n",
       "      <th>3</th>\n",
       "      <td>3</td>\n",
       "      <td>2.800000</td>\n",
       "      <td>93200.000000</td>\n",
       "      <td>1845.360000</td>\n",
       "      <td>81084.000000</td>\n",
       "      <td>72100.000000</td>\n",
       "      <td>-0.046000</td>\n",
       "      <td>82.700000</td>\n",
       "      <td>1.150000</td>\n",
       "      <td>46600.000000</td>\n",
       "    </tr>\n",
       "  </tbody>\n",
       "</table>\n",
       "</div>"
      ],
      "text/plain": [
       "   Labels  child_mort_mean  exports_mean  health_mean  imports_mean  \\\n",
       "0       0        58.356250    881.680495   152.453189   1128.790543   \n",
       "1       1         6.182609  16439.365217  3186.460870  14321.452174   \n",
       "2       2        15.889474   5871.992632   888.165237   5772.137105   \n",
       "3       3         2.800000  93200.000000  1845.360000  81084.000000   \n",
       "\n",
       "    income_mean  inflation_mean  life_expec_mean  total_fer_mean     gdpp_mean  \n",
       "0   5266.281250        9.414542        65.688542        3.703229   2433.687500  \n",
       "1  42130.434783        4.591913        79.639130        1.912174  35443.478261  \n",
       "2  20065.789474        7.114105        74.584211        1.970526  12391.578947  \n",
       "3  72100.000000       -0.046000        82.700000        1.150000  46600.000000  "
      ]
     },
     "execution_count": 58,
     "metadata": {},
     "output_type": "execute_result"
    }
   ],
   "source": [
    "# ALEX: remove ML code\n",
    "# hrcl_cluster_analysis_df.columns = [\"Labels\",\"child_mort_mean\",\"exports_mean\",\"health_mean\",\"imports_mean\",\"income_mean\",\"inflation_mean\",\"life_expec_mean\",\"total_fer_mean\",\"gdpp_mean\"]\n",
    "# hrcl_cluster_analysis_df"
   ]
  },
  {
   "cell_type": "code",
   "execution_count": 59,
   "metadata": {
    "execution": {
     "iopub.execute_input": "2020-09-08T07:50:21.580100Z",
     "iopub.status.busy": "2020-09-08T07:50:21.579422Z",
     "iopub.status.idle": "2020-09-08T07:50:22.593923Z",
     "shell.execute_reply": "2020-09-08T07:50:22.593294Z"
    },
    "papermill": {
     "duration": 1.063058,
     "end_time": "2020-09-08T07:50:22.594027",
     "exception": false,
     "start_time": "2020-09-08T07:50:21.530969",
     "status": "completed"
    },
    "tags": []
   },
   "outputs": [],
   "source": [
    "# ALEX: remove ML code, plotting\n",
    "# features = hrcl_cluster_analysis_df.columns\n",
    "# fig = plt.figure(figsize=(18,15))\n",
    "# for plot, feature in enumerate(features[1:]):\n",
    "#     fig.add_subplot(3,3,plot+1)\n",
    "#     sns.barplot(hrcl_cluster_analysis_df.Labels, hrcl_cluster_analysis_df[feature])"
   ]
  },
  {
   "cell_type": "code",
   "execution_count": 60,
   "metadata": {
    "execution": {
     "iopub.execute_input": "2020-09-08T07:50:22.680148Z",
     "iopub.status.busy": "2020-09-08T07:50:22.679524Z",
     "iopub.status.idle": "2020-09-08T07:50:22.701494Z",
     "shell.execute_reply": "2020-09-08T07:50:22.700892Z"
    },
    "papermill": {
     "duration": 0.068556,
     "end_time": "2020-09-08T07:50:22.701629",
     "exception": false,
     "start_time": "2020-09-08T07:50:22.633073",
     "status": "completed"
    },
    "tags": []
   },
   "outputs": [
    {
     "data": {
      "text/html": [
       "<div>\n",
       "<style scoped>\n",
       "    .dataframe tbody tr th:only-of-type {\n",
       "        vertical-align: middle;\n",
       "    }\n",
       "\n",
       "    .dataframe tbody tr th {\n",
       "        vertical-align: top;\n",
       "    }\n",
       "\n",
       "    .dataframe thead th {\n",
       "        text-align: right;\n",
       "    }\n",
       "</style>\n",
       "<table border=\"1\" class=\"dataframe\">\n",
       "  <thead>\n",
       "    <tr style=\"text-align: right;\">\n",
       "      <th></th>\n",
       "      <th>country</th>\n",
       "      <th>child_mort</th>\n",
       "      <th>exports</th>\n",
       "      <th>health</th>\n",
       "      <th>imports</th>\n",
       "      <th>income</th>\n",
       "      <th>inflation</th>\n",
       "      <th>life_expec</th>\n",
       "      <th>total_fer</th>\n",
       "      <th>gdpp</th>\n",
       "    </tr>\n",
       "  </thead>\n",
       "  <tbody>\n",
       "    <tr>\n",
       "      <th>26</th>\n",
       "      <td>Burundi</td>\n",
       "      <td>93.6</td>\n",
       "      <td>20.6052</td>\n",
       "      <td>26.7960</td>\n",
       "      <td>90.552</td>\n",
       "      <td>764</td>\n",
       "      <td>12.30</td>\n",
       "      <td>57.7</td>\n",
       "      <td>6.26</td>\n",
       "      <td>231</td>\n",
       "    </tr>\n",
       "    <tr>\n",
       "      <th>88</th>\n",
       "      <td>Liberia</td>\n",
       "      <td>89.3</td>\n",
       "      <td>62.4570</td>\n",
       "      <td>38.5860</td>\n",
       "      <td>302.802</td>\n",
       "      <td>700</td>\n",
       "      <td>5.47</td>\n",
       "      <td>60.8</td>\n",
       "      <td>5.02</td>\n",
       "      <td>327</td>\n",
       "    </tr>\n",
       "    <tr>\n",
       "      <th>37</th>\n",
       "      <td>Congo, Dem. Rep.</td>\n",
       "      <td>116.0</td>\n",
       "      <td>137.2740</td>\n",
       "      <td>26.4194</td>\n",
       "      <td>165.664</td>\n",
       "      <td>609</td>\n",
       "      <td>20.80</td>\n",
       "      <td>57.5</td>\n",
       "      <td>6.54</td>\n",
       "      <td>334</td>\n",
       "    </tr>\n",
       "    <tr>\n",
       "      <th>112</th>\n",
       "      <td>Niger</td>\n",
       "      <td>123.0</td>\n",
       "      <td>77.2560</td>\n",
       "      <td>17.9568</td>\n",
       "      <td>170.868</td>\n",
       "      <td>814</td>\n",
       "      <td>2.55</td>\n",
       "      <td>58.8</td>\n",
       "      <td>7.49</td>\n",
       "      <td>348</td>\n",
       "    </tr>\n",
       "    <tr>\n",
       "      <th>132</th>\n",
       "      <td>Sierra Leone</td>\n",
       "      <td>160.0</td>\n",
       "      <td>67.0320</td>\n",
       "      <td>52.2690</td>\n",
       "      <td>137.655</td>\n",
       "      <td>1220</td>\n",
       "      <td>17.20</td>\n",
       "      <td>55.0</td>\n",
       "      <td>5.20</td>\n",
       "      <td>399</td>\n",
       "    </tr>\n",
       "    <tr>\n",
       "      <th>93</th>\n",
       "      <td>Madagascar</td>\n",
       "      <td>62.2</td>\n",
       "      <td>103.2500</td>\n",
       "      <td>15.5701</td>\n",
       "      <td>177.590</td>\n",
       "      <td>1390</td>\n",
       "      <td>8.79</td>\n",
       "      <td>60.8</td>\n",
       "      <td>4.60</td>\n",
       "      <td>413</td>\n",
       "    </tr>\n",
       "    <tr>\n",
       "      <th>106</th>\n",
       "      <td>Mozambique</td>\n",
       "      <td>101.0</td>\n",
       "      <td>131.9850</td>\n",
       "      <td>21.8299</td>\n",
       "      <td>193.578</td>\n",
       "      <td>918</td>\n",
       "      <td>7.64</td>\n",
       "      <td>54.5</td>\n",
       "      <td>5.56</td>\n",
       "      <td>419</td>\n",
       "    </tr>\n",
       "    <tr>\n",
       "      <th>31</th>\n",
       "      <td>Central African Republic</td>\n",
       "      <td>149.0</td>\n",
       "      <td>52.6280</td>\n",
       "      <td>17.7508</td>\n",
       "      <td>118.190</td>\n",
       "      <td>888</td>\n",
       "      <td>2.01</td>\n",
       "      <td>47.5</td>\n",
       "      <td>5.21</td>\n",
       "      <td>446</td>\n",
       "    </tr>\n",
       "    <tr>\n",
       "      <th>94</th>\n",
       "      <td>Malawi</td>\n",
       "      <td>90.5</td>\n",
       "      <td>104.6520</td>\n",
       "      <td>30.2481</td>\n",
       "      <td>160.191</td>\n",
       "      <td>1030</td>\n",
       "      <td>12.10</td>\n",
       "      <td>53.1</td>\n",
       "      <td>5.31</td>\n",
       "      <td>459</td>\n",
       "    </tr>\n",
       "    <tr>\n",
       "      <th>50</th>\n",
       "      <td>Eritrea</td>\n",
       "      <td>55.2</td>\n",
       "      <td>23.0878</td>\n",
       "      <td>12.8212</td>\n",
       "      <td>112.306</td>\n",
       "      <td>1420</td>\n",
       "      <td>11.60</td>\n",
       "      <td>61.7</td>\n",
       "      <td>4.61</td>\n",
       "      <td>482</td>\n",
       "    </tr>\n",
       "  </tbody>\n",
       "</table>\n",
       "</div>"
      ],
      "text/plain": [
       "                      country  child_mort   exports   health  imports  income  \\\n",
       "26                    Burundi        93.6   20.6052  26.7960   90.552     764   \n",
       "88                    Liberia        89.3   62.4570  38.5860  302.802     700   \n",
       "37           Congo, Dem. Rep.       116.0  137.2740  26.4194  165.664     609   \n",
       "112                     Niger       123.0   77.2560  17.9568  170.868     814   \n",
       "132              Sierra Leone       160.0   67.0320  52.2690  137.655    1220   \n",
       "93                 Madagascar        62.2  103.2500  15.5701  177.590    1390   \n",
       "106                Mozambique       101.0  131.9850  21.8299  193.578     918   \n",
       "31   Central African Republic       149.0   52.6280  17.7508  118.190     888   \n",
       "94                     Malawi        90.5  104.6520  30.2481  160.191    1030   \n",
       "50                    Eritrea        55.2   23.0878  12.8212  112.306    1420   \n",
       "\n",
       "     inflation  life_expec  total_fer  gdpp  \n",
       "26       12.30        57.7       6.26   231  \n",
       "88        5.47        60.8       5.02   327  \n",
       "37       20.80        57.5       6.54   334  \n",
       "112       2.55        58.8       7.49   348  \n",
       "132      17.20        55.0       5.20   399  \n",
       "93        8.79        60.8       4.60   413  \n",
       "106       7.64        54.5       5.56   419  \n",
       "31        2.01        47.5       5.21   446  \n",
       "94       12.10        53.1       5.31   459  \n",
       "50       11.60        61.7       4.61   482  "
      ]
     },
     "execution_count": 60,
     "metadata": {},
     "output_type": "execute_result"
    }
   ],
   "source": [
    "#Binning the clusters to get the top 5 countries sorted in order exaplined above\n",
    "# ALEX: remove ML code\n",
    "# clustered_hrcl=countries[countries_hrcl_cluster['Labels']==0]\n",
    "# clustered_hrcl.sort_values(['gdpp','income','child_mort','health','inflation','life_expec','total_fer','imports','exports'], \n",
    "#                       ascending=[True,True,False,True,False,True,False,False,True]).head(10)\n"
   ]
  },
  {
   "cell_type": "markdown",
   "metadata": {
    "papermill": {
     "duration": 0.037765,
     "end_time": "2020-09-08T07:50:22.776965",
     "exception": false,
     "start_time": "2020-09-08T07:50:22.739200",
     "status": "completed"
    },
    "tags": []
   },
   "source": [
    "### So from the above results and analysis, we can conclude that as per Heirarchical clustering, the country which are direst need of aid are:\n",
    "    1. Burundi\n",
    "    2. Liberia\n",
    "    3. Congo, Dem. Rep\n",
    "    4. Niger\n",
    "    5. Sierra Leone"
   ]
  },
  {
   "cell_type": "markdown",
   "metadata": {
    "papermill": {
     "duration": 0.038476,
     "end_time": "2020-09-08T07:50:22.857301",
     "exception": false,
     "start_time": "2020-09-08T07:50:22.818825",
     "status": "completed"
    },
    "tags": []
   },
   "source": [
    "### We got same countries by both K-means and Heirarchical Clustering techniques: \n",
    "##### Therefore following are the countries which are in direst need of aid by considering socio \u2013 economic factor into consideration:\n",
    "\n",
    "    1. Burundi\n",
    "    2. Liberia\n",
    "    3. Congo, Dem. Rep.\n",
    "    4. Niger\n",
    "    5. Sierra Leone"
   ]
  },
  {
   "cell_type": "code",
   "execution_count": null,
   "metadata": {
    "papermill": {
     "duration": 0.03845,
     "end_time": "2020-09-08T07:50:22.934209",
     "exception": false,
     "start_time": "2020-09-08T07:50:22.895759",
     "status": "completed"
    },
    "tags": []
   },
   "outputs": [],
   "source": []
  },
  {
   "cell_type": "code",
   "execution_count": null,
   "metadata": {
    "papermill": {
     "duration": 0.038073,
     "end_time": "2020-09-08T07:50:23.010972",
     "exception": false,
     "start_time": "2020-09-08T07:50:22.972899",
     "status": "completed"
    },
    "tags": []
   },
   "outputs": [],
   "source": []
  },
  {
   "cell_type": "code",
   "execution_count": null,
   "metadata": {
    "papermill": {
     "duration": 0.037988,
     "end_time": "2020-09-08T07:50:23.087240",
     "exception": false,
     "start_time": "2020-09-08T07:50:23.049252",
     "status": "completed"
    },
    "tags": []
   },
   "outputs": [],
   "source": []
  }
 ],
 "metadata": {
  "kernelspec": {
   "display_name": "Python 3 (ipykernel)",
   "language": "python",
   "name": "python3"
  },
  "language_info": {
   "codemirror_mode": {
    "name": "ipython",
    "version": 3
   },
   "file_extension": ".py",
   "mimetype": "text/x-python",
   "name": "python",
   "nbconvert_exporter": "python",
   "pygments_lexer": "ipython3",
   "version": "3.10.16"
  },
  "papermill": {
   "duration": 39.372947,
   "end_time": "2020-09-08T07:50:23.233251",
   "environment_variables": {},
   "exception": null,
   "input_path": "__notebook__.ipynb",
   "output_path": "__notebook__.ipynb",
   "parameters": {},
   "start_time": "2020-09-08T07:49:43.860304",
   "version": "2.1.0"
  }
 },
 "nbformat": 4,
 "nbformat_minor": 4
}