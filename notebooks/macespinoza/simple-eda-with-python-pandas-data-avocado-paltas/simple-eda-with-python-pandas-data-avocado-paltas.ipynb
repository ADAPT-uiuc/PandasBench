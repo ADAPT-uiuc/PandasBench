{
 "cells": [
  {
   "cell_type": "code",
   "execution_count": null,
   "metadata": {},
   "outputs": [],
   "source": [
    "import os\n",
    "\n",
    "def scale_input_data(scale_factor):\n",
    "  file_bases = ['./input/avocado']\n",
    "  for file_base in file_bases:\n",
    "    import pandas as pd\n",
    "    import shutil\n",
    "    if scale_factor == 1.0:\n",
    "      shutil.copyfile(file_base + '.csv', file_base + '.scaled.csv')\n",
    "      continue\n",
    "    df_to_scale = pd.read_csv(file_base + '.csv', index_col=0)\n",
    "    new_num_rows = int(scale_factor * len(df_to_scale))\n",
    "    if scale_factor <= 1.0:\n",
    "      df_to_scale = df_to_scale.iloc[:new_num_rows]\n",
    "    else:\n",
    "      while len(df_to_scale) < new_num_rows:\n",
    "        df_to_scale = pd.concat([df_to_scale, df_to_scale[:min(new_num_rows - len(df_to_scale), len(df_to_scale))]])\n",
    "    df_to_scale.to_csv(file_base + '.scaled.csv', index_label='')\n",
    "\n",
    "if 'INPUT_SCALE_FACTOR' in os.environ:\n",
    "  scale_input_data(float(os.environ['INPUT_SCALE_FACTOR']))"
   ]
  },
  {
   "cell_type": "markdown",
   "metadata": {
    "_uuid": "d9f518044d30120d8fd2a8c869bd319fda5128df"
   },
   "source": [
    "### Analisis de Dataset de precios de paltas\n",
    "\n",
    "Vamos a trabajar este kernel analizando un conjunto de datos y aplicando nuestro conocimiento de EDA asi como reconocimiento de funciones utiles de pandas y numpy"
   ]
  },
  {
   "cell_type": "code",
   "execution_count": 1,
   "metadata": {
    "_cell_guid": "b1076dfc-b9ad-4769-8c92-a6c4dae69d19",
    "_uuid": "8f2839f25d086af736a60e9eeb907d3b93b6e0e5"
   },
   "outputs": [],
   "source": [
    "import numpy as np # linear algebra\n",
    "# import pandas as pd # data processing, CSV file I/O (e.g. pd.read_csv)\n",
    "exec(os.environ['IREWR_IMPORTS'])\n",
    "# ALEX: remove plotting, ML code, path printing\n",
    "# import seaborn as sns \n",
    "\n",
    "# from sklearn.metrics import mean_absolute_error\n",
    "# from sklearn.preprocessing import LabelEncoder\n",
    "\n",
    "# import plotly\n",
    "# from plotly.offline import init_notebook_mode, iplot\n",
    "# import plotly.graph_objs as go\n",
    "# init_notebook_mode(connected=True)\n",
    "# import matplotlib.pyplot as plt\n",
    "# import pylab as pl\n",
    "# sns.set(font_scale = 0.7)\n",
    "# import os\n",
    "# print(os.listdir(\"./input\"))\n"
   ]
  },
  {
   "cell_type": "markdown",
   "metadata": {
    "_cell_guid": "79c7e3d0-c299-4dcb-8224-4455121ee9b0",
    "_uuid": "d629ff2d2480ee46fbb7e2d37f6b5fab8052498a",
    "collapsed": true
   },
   "source": [
    "### Visualizacion de informacion"
   ]
  },
  {
   "cell_type": "markdown",
   "metadata": {
    "_uuid": "fcfb68b58d2dcc004c88aa83e7484a013b3b577d"
   },
   "source": [
    "![Paltas para todos](https://exoticfruitbox.com/wp-content/uploads/2015/10/aguacate.jpg)"
   ]
  },
  {
   "cell_type": "markdown",
   "metadata": {
    "_uuid": "963258877b3fe795d82a9bf1dd9362893d8060c8"
   },
   "source": [
    "## **Analisis de datos**\n",
    "\n",
    "Para poder trabajar los datos primeros debemos conocer los datos y tipos de datos con los cuales vamos a trabajar, en este caso hemos tomado un Dataset de precios de paltas."
   ]
  },
  {
   "cell_type": "code",
   "execution_count": 2,
   "metadata": {
    "_uuid": "90b9dc68116ad01082748ddee33f718b5e33c518"
   },
   "outputs": [
    {
     "data": {
      "text/plain": [
       "(18249, 13)"
      ]
     },
     "execution_count": 2,
     "metadata": {},
     "output_type": "execute_result"
    }
   ],
   "source": [
    "#Cargamos el data set mediante Python y Pandas mediante read_csv\n",
    "#Tener en cuenta indicadar el separador como recomendacion con delimiter se recomienda\n",
    "#En caso tengamos un campo donde se guarden los ID unico podemos caolocar elnumero de columna en index_col para usarlo de indexacion\n",
    "data = pd.read_csv(\"./input/avocado.scaled.csv\",delimiter=\",\",index_col=0)\n",
    "\n",
    "#Visualizamos el volumen de filas y columnas de nuestros datos\n",
    "data.shape"
   ]
  },
  {
   "cell_type": "code",
   "execution_count": 3,
   "metadata": {
    "_uuid": "6472858798dc72509df1c283eb164d669eced2e2"
   },
   "outputs": [
    {
     "name": "stdout",
     "output_type": "stream",
     "text": [
      "<class 'pandas.core.frame.DataFrame'>\n",
      "Int64Index: 18249 entries, 0 to 11\n",
      "Data columns (total 13 columns):\n",
      " #   Column        Non-Null Count  Dtype  \n",
      "---  ------        --------------  -----  \n",
      " 0   Date          18249 non-null  object \n",
      " 1   AveragePrice  18249 non-null  float64\n",
      " 2   Total Volume  18249 non-null  float64\n",
      " 3   4046          18249 non-null  float64\n",
      " 4   4225          18249 non-null  float64\n",
      " 5   4770          18249 non-null  float64\n",
      " 6   Total Bags    18249 non-null  float64\n",
      " 7   Small Bags    18249 non-null  float64\n",
      " 8   Large Bags    18249 non-null  float64\n",
      " 9   XLarge Bags   18249 non-null  float64\n",
      " 10  type          18249 non-null  object \n",
      " 11  year          18249 non-null  int64  \n",
      " 12  region        18249 non-null  object \n",
      "dtypes: float64(9), int64(1), object(3)\n",
      "memory usage: 1.9+ MB\n"
     ]
    }
   ],
   "source": [
    "#Podemos mediante el comando info identificar los tipos de campos 123\n",
    "data.info()"
   ]
  },
  {
   "cell_type": "code",
   "execution_count": 4,
   "metadata": {
    "_uuid": "01de57fae20b50dc2bba45c3f19b957a1cd1f3f3"
   },
   "outputs": [
    {
     "data": {
      "text/html": [
       "<div>\n",
       "<style scoped>\n",
       "    .dataframe tbody tr th:only-of-type {\n",
       "        vertical-align: middle;\n",
       "    }\n",
       "\n",
       "    .dataframe tbody tr th {\n",
       "        vertical-align: top;\n",
       "    }\n",
       "\n",
       "    .dataframe thead th {\n",
       "        text-align: right;\n",
       "    }\n",
       "</style>\n",
       "<table border=\"1\" class=\"dataframe\">\n",
       "  <thead>\n",
       "    <tr style=\"text-align: right;\">\n",
       "      <th></th>\n",
       "      <th>Date</th>\n",
       "      <th>AveragePrice</th>\n",
       "      <th>Total Volume</th>\n",
       "      <th>4046</th>\n",
       "      <th>4225</th>\n",
       "      <th>4770</th>\n",
       "      <th>Total Bags</th>\n",
       "      <th>Small Bags</th>\n",
       "      <th>Large Bags</th>\n",
       "      <th>XLarge Bags</th>\n",
       "      <th>type</th>\n",
       "      <th>year</th>\n",
       "      <th>region</th>\n",
       "    </tr>\n",
       "  </thead>\n",
       "  <tbody>\n",
       "    <tr>\n",
       "      <th>0</th>\n",
       "      <td>2015-12-27</td>\n",
       "      <td>1.33</td>\n",
       "      <td>64236.62</td>\n",
       "      <td>1036.74</td>\n",
       "      <td>54454.85</td>\n",
       "      <td>48.16</td>\n",
       "      <td>8696.87</td>\n",
       "      <td>8603.62</td>\n",
       "      <td>93.25</td>\n",
       "      <td>0.0</td>\n",
       "      <td>conventional</td>\n",
       "      <td>2015</td>\n",
       "      <td>Albany</td>\n",
       "    </tr>\n",
       "    <tr>\n",
       "      <th>1</th>\n",
       "      <td>2015-12-20</td>\n",
       "      <td>1.35</td>\n",
       "      <td>54876.98</td>\n",
       "      <td>674.28</td>\n",
       "      <td>44638.81</td>\n",
       "      <td>58.33</td>\n",
       "      <td>9505.56</td>\n",
       "      <td>9408.07</td>\n",
       "      <td>97.49</td>\n",
       "      <td>0.0</td>\n",
       "      <td>conventional</td>\n",
       "      <td>2015</td>\n",
       "      <td>Albany</td>\n",
       "    </tr>\n",
       "    <tr>\n",
       "      <th>2</th>\n",
       "      <td>2015-12-13</td>\n",
       "      <td>0.93</td>\n",
       "      <td>118220.22</td>\n",
       "      <td>794.70</td>\n",
       "      <td>109149.67</td>\n",
       "      <td>130.50</td>\n",
       "      <td>8145.35</td>\n",
       "      <td>8042.21</td>\n",
       "      <td>103.14</td>\n",
       "      <td>0.0</td>\n",
       "      <td>conventional</td>\n",
       "      <td>2015</td>\n",
       "      <td>Albany</td>\n",
       "    </tr>\n",
       "    <tr>\n",
       "      <th>3</th>\n",
       "      <td>2015-12-06</td>\n",
       "      <td>1.08</td>\n",
       "      <td>78992.15</td>\n",
       "      <td>1132.00</td>\n",
       "      <td>71976.41</td>\n",
       "      <td>72.58</td>\n",
       "      <td>5811.16</td>\n",
       "      <td>5677.40</td>\n",
       "      <td>133.76</td>\n",
       "      <td>0.0</td>\n",
       "      <td>conventional</td>\n",
       "      <td>2015</td>\n",
       "      <td>Albany</td>\n",
       "    </tr>\n",
       "    <tr>\n",
       "      <th>4</th>\n",
       "      <td>2015-11-29</td>\n",
       "      <td>1.28</td>\n",
       "      <td>51039.60</td>\n",
       "      <td>941.48</td>\n",
       "      <td>43838.39</td>\n",
       "      <td>75.78</td>\n",
       "      <td>6183.95</td>\n",
       "      <td>5986.26</td>\n",
       "      <td>197.69</td>\n",
       "      <td>0.0</td>\n",
       "      <td>conventional</td>\n",
       "      <td>2015</td>\n",
       "      <td>Albany</td>\n",
       "    </tr>\n",
       "  </tbody>\n",
       "</table>\n",
       "</div>"
      ],
      "text/plain": [
       "         Date  AveragePrice  Total Volume     4046       4225    4770  \\\n",
       "0  2015-12-27          1.33      64236.62  1036.74   54454.85   48.16   \n",
       "1  2015-12-20          1.35      54876.98   674.28   44638.81   58.33   \n",
       "2  2015-12-13          0.93     118220.22   794.70  109149.67  130.50   \n",
       "3  2015-12-06          1.08      78992.15  1132.00   71976.41   72.58   \n",
       "4  2015-11-29          1.28      51039.60   941.48   43838.39   75.78   \n",
       "\n",
       "   Total Bags  Small Bags  Large Bags  XLarge Bags          type  year  region  \n",
       "0     8696.87     8603.62       93.25          0.0  conventional  2015  Albany  \n",
       "1     9505.56     9408.07       97.49          0.0  conventional  2015  Albany  \n",
       "2     8145.35     8042.21      103.14          0.0  conventional  2015  Albany  \n",
       "3     5811.16     5677.40      133.76          0.0  conventional  2015  Albany  \n",
       "4     6183.95     5986.26      197.69          0.0  conventional  2015  Albany  "
      ]
     },
     "execution_count": 4,
     "metadata": {},
     "output_type": "execute_result"
    }
   ],
   "source": [
    "#Vamos a ver un pequeño resumen de los datos\n",
    "data.head(5)"
   ]
  },
  {
   "cell_type": "markdown",
   "metadata": {
    "_uuid": "05b7f3c71940147e8174e137e0dbf791771c734f"
   },
   "source": [
    "Como bien indique tenemos que entender los datos y el significado de cada columna correctamente, solo de esa manera podemos avanzar cualquier paso siguiente.\n",
    "\n",
    "En este caso que nos dice cada columna:\n",
    "\n",
    "| Nombre | Descripcion  |\n",
    "|---------|--------------|\n",
    "| Date | Fecha de observacion  |\n",
    "| AveragePrice | El precio promedio de cada palta  |\n",
    "| type | El tipo (conventional or organic)  | \n",
    "| year | El año  | \n",
    "| Region | La ciudad o region observada  |  \n",
    "| Total Volume | El volumen total comprado  |  \n",
    "| 4046 | El numero total de paltas con codigo PLU 4046  |  \n",
    "| 4225 | El numero total de paltas con codigo PLU 4225 sold  |  \n",
    "| 4770 | El numero total de paltas con codigo PLU 4770 sold  |  \n",
    "| Total Bags | El numero total de bolsas vendidas  |  \n",
    "| Small Bags\t| El numero total de bolsas pequeñas  |  \n",
    "| Large Bags | El numero total de bolsas grandes  |  \n",
    "| XLarge Bags | El numero total de bolsas extra grandes  |  \n",
    "\n",
    "Cabe resaltar que\n",
    "\n",
    "Total Volume = 4046 + 4225 + 4770 + Total Bags\n",
    "\n",
    "Total Bags = Small Bags + Large Bags + XLarge Bags\n",
    "\n",
    "Mas informacion de la data en [data](http://www.hassavocadoboard.com/retail/volume-and-price-data)"
   ]
  },
  {
   "cell_type": "markdown",
   "metadata": {
    "_uuid": "cd333e9651bef721aa65c8c06ecc07473b034723"
   },
   "source": [
    "## **Consistencia de la informacion**\n",
    "\n",
    "Luego de conocer la informacion vamos a analizar la consistencia de la informacion"
   ]
  },
  {
   "cell_type": "code",
   "execution_count": 5,
   "metadata": {
    "_uuid": "f487642c6c3434f788b7b4d41189dd555c2d8d44"
   },
   "outputs": [
    {
     "name": "stdout",
     "output_type": "stream",
     "text": [
      "Data Total (18249, 13)\n",
      "Data Incorrecta (8143, 14)\n",
      "Data Correcta (10106, 14)\n"
     ]
    }
   ],
   "source": [
    "#Vamos a validar que se cumple ambos formulas\n",
    "#Todo aquel registro que no cumpla con la regla pasara a ser una inconsistencia la cual descartaremos.\n",
    "dataIncorrecta = data[((data['4046'] + data['4225'] + data['4770'] + data['Total Bags']) != data['Total Volume'] ) | ((data['Small Bags'] + data['Large Bags'] + data['XLarge Bags']) != data['Total Bags'] )]\n",
    "dataCorrecta =  data[((data['4046'] + data['4225'] + data['4770'] + data['Total Bags']) == data['Total Volume'] ) & ((data['Small Bags'] + data['Large Bags'] + data['XLarge Bags']) == data['Total Bags'] )]\n",
    "\n",
    "dataIncorrecta.reset_index(inplace = True)\n",
    "dataCorrecta.reset_index(inplace = True)\n",
    "\n",
    "print(\"Data Total\",data.shape)\n",
    "print(\"Data Incorrecta\",dataIncorrecta.shape)\n",
    "print(\"Data Correcta\",dataCorrecta.shape)"
   ]
  },
  {
   "cell_type": "code",
   "execution_count": 6,
   "metadata": {
    "_uuid": "8a580b24b2fb6ca8275ed0fe06e1de9416ab2ed5"
   },
   "outputs": [
    {
     "data": {
      "text/plain": [
       "index           0\n",
       "Date            0\n",
       "AveragePrice    0\n",
       "Total Volume    0\n",
       "4046            0\n",
       "4225            0\n",
       "4770            0\n",
       "Total Bags      0\n",
       "Small Bags      0\n",
       "Large Bags      0\n",
       "XLarge Bags     0\n",
       "type            0\n",
       "year            0\n",
       "region          0\n",
       "dtype: int64"
      ]
     },
     "execution_count": 6,
     "metadata": {},
     "output_type": "execute_result"
    }
   ],
   "source": [
    "#Analizamos valores perdidos en caso de que existan\n",
    "dataCorrecta.isnull().sum()"
   ]
  },
  {
   "cell_type": "code",
   "execution_count": null,
   "metadata": {
    "_uuid": "632142e1efc397cba86e5e7c537d9c793747cda9"
   },
   "outputs": [],
   "source": []
  },
  {
   "cell_type": "markdown",
   "metadata": {
    "_uuid": "3fb587bf79458d49f1eae04d376a02c4458dc385"
   },
   "source": [
    "## **Enginner Features**\n",
    "Vamos a realizar un grafico para extraer las anomalias o valores extremos para poder estandarizar lo mas posible nuestros datos"
   ]
  },
  {
   "cell_type": "code",
   "execution_count": 7,
   "metadata": {
    "_uuid": "c3e9da35cdb4361f5db3aa440680e955c578d069"
   },
   "outputs": [],
   "source": [
    "import itertools\n",
    "# ALEX: remove plotting\n",
    "# plt.subplots(figsize=(28,20))\n",
    "time_spent=['Small Bags','Large Bags','XLarge Bags','XLarge Bags']\n",
    "length=len(time_spent)\n",
    "for i,j in itertools.zip_longest(time_spent,range(length)):\n",
    "# ALEX: remove plotting\n",
    "#     plt.subplot((length/2),2,j+1)\n",
    "#     plt.subplots_adjust(wspace=0.2,hspace=0.5)\n",
    "#     dataCorrecta[i].hist(bins=18,edgecolor='black')\n",
    "#     plt.axvline(dataCorrecta[i].mean(),linestyle='dashed',color='r')\n",
    "#     plt.title(i,size=20)\n",
    "#     plt.xlabel('Tamaño de la bolsa')\n",
    "#     plt.ylabel('cantidad de bolsas')\n",
    "    dataCorrecta[i]\n",
    "    _ = dataCorrecta[i].mean()\n",
    "# ALEX: remove plotting\n",
    "# plt.show()"
   ]
  },
  {
   "cell_type": "code",
   "execution_count": 8,
   "metadata": {
    "_uuid": "2a721f749fe8853248d36bccfce24834b6f8fff8"
   },
   "outputs": [
    {
     "data": {
      "text/plain": [
       "(8888, 14)"
      ]
     },
     "execution_count": 8,
     "metadata": {},
     "output_type": "execute_result"
    }
   ],
   "source": [
    "dataCorrecta =dataCorrecta[(dataCorrecta['Small Bags']<300000.0) & (dataCorrecta['Large Bags']<150000.0) & (dataCorrecta['XLarge Bags']<10000.0)]\n",
    "dataCorrecta.shape"
   ]
  },
  {
   "cell_type": "code",
   "execution_count": 9,
   "metadata": {
    "_uuid": "c568dae1a80402e9c90cd8515f0fda9fa1176011"
   },
   "outputs": [],
   "source": [
    "import itertools\n",
    "# ALEX: remove plotting\n",
    "# plt.subplots(figsize=(25,16))\n",
    "time_spent=['Small Bags','Large Bags','XLarge Bags','XLarge Bags']\n",
    "length=len(time_spent)\n",
    "for i,j in itertools.zip_longest(time_spent,range(length)):\n",
    "# ALEX: remove plotting\n",
    "#     plt.subplot((length/2),2,j+1)\n",
    "#     plt.subplots_adjust(wspace=0.2,hspace=0.5)\n",
    "#     dataCorrecta[i].hist(bins=18,edgecolor='black')\n",
    "#     plt.axvline(dataCorrecta[i].mean(),linestyle='dashed',color='r')\n",
    "#     plt.title(i,size=20)\n",
    "#     plt.xlabel('Tamaño de la bolsa')\n",
    "#     plt.ylabel('cantidad de bolsas')\n",
    "    dataCorrecta[i]\n",
    "    _ = dataCorrecta[i].mean()\n",
    "# ALEX: remove plotting\n",
    "# plt.show()"
   ]
  },
  {
   "cell_type": "code",
   "execution_count": 10,
   "metadata": {
    "_uuid": "a8126fa25d547617ef0d913b4aa326d5e64b930e"
   },
   "outputs": [],
   "source": [
    "# ALEX: remove plotting\n",
    "# pl.figure(figsize=(12,5))\n",
    "# pl.title(\"Distribution Price\")\n",
    "# ax = sns.distplot(dataCorrecta[\"AveragePrice\"], color = 'g')\n",
    "_ = dataCorrecta[\"AveragePrice\"]"
   ]
  },
  {
   "cell_type": "code",
   "execution_count": 11,
   "metadata": {
    "_uuid": "1ee2598bb4a4b3214d7f51cfc02ecef633d4bdad"
   },
   "outputs": [],
   "source": [
    "# ALEX: remove plotting\n",
    "# sns.boxplot(y=\"type\", x=\"AveragePrice\", data=dataCorrecta, palette = 'Set3')"
   ]
  },
  {
   "cell_type": "code",
   "execution_count": 12,
   "metadata": {
    "_uuid": "400524d8a5f92f702299784f034a76940ef96324"
   },
   "outputs": [
    {
     "name": "stderr",
     "output_type": "stream",
     "text": [
      "/tmp/ipykernel_447864/801284835.py:4: FutureWarning: The default value of numeric_only in DataFrameGroupBy.mean is deprecated. In a future version, numeric_only will default to False. Either specify numeric_only or select only columns which should be valid for the function.\n",
      "  groupBy1_price = conventional.groupby('Date').mean()\n",
      "/tmp/ipykernel_447864/801284835.py:10: FutureWarning: The default value of numeric_only in DataFrameGroupBy.mean is deprecated. In a future version, numeric_only will default to False. Either specify numeric_only or select only columns which should be valid for the function.\n",
      "  groupBy2_price = organic.groupby('Date').mean()\n"
     ]
    }
   ],
   "source": [
    "conventional = dataCorrecta[dataCorrecta.type==\"conventional\"]\n",
    "organic = dataCorrecta[dataCorrecta.type==\"organic\"]\n",
    "\n",
    "groupBy1_price = conventional.groupby('Date').mean()\n",
    "# ALEX: remove plotting\n",
    "# scatter1 = go.Scatter(x=groupBy1_price.AveragePrice.index, y=groupBy1_price.AveragePrice, name=\"Conventional\")\n",
    "_ = groupBy1_price.AveragePrice.index\n",
    "_ = groupBy1_price.AveragePrice\n",
    "\n",
    "groupBy2_price = organic.groupby('Date').mean()\n",
    "# ALEX: remove plotting\n",
    "# scatter2 = go.Scatter(x=groupBy2_price.AveragePrice.index, y=groupBy2_price.AveragePrice, name=\"Organic\")\n",
    "_ = groupBy2_price.AveragePrice.index\n",
    "_ = groupBy2_price.AveragePrice\n",
    "\n",
    "# ALEX: remove plotting\n",
    "# data = [scatter1, scatter2]\n",
    "# layout=go.Layout(title=\"Time Series Plot for Mean Daily Price of Conventional and Organic Avocados\", xaxis={'title':'Date'}, yaxis={'title':'Prices'})\n",
    "# figure=go.Figure(data=data,layout=layout)\n",
    "# iplot(figure)"
   ]
  },
  {
   "cell_type": "code",
   "execution_count": 13,
   "metadata": {
    "_uuid": "dc83f676da292c09e55033690e75467de8a9262c"
   },
   "outputs": [],
   "source": [
    "#dataCorrecta['Date2']=pd.to_datetime(dataCorrecta['Date'], format=\"%Y/%m/%d\")\n",
    "dataCorrecta['Date'] =dataCorrecta['Date'].astype('datetime64[ns]')\n",
    "\n"
   ]
  },
  {
   "cell_type": "code",
   "execution_count": 14,
   "metadata": {
    "_uuid": "551c898493cd39f3588b05623d303c2da7841121"
   },
   "outputs": [
    {
     "data": {
      "text/plain": [
       "organic         5495\n",
       "conventional    3393\n",
       "Name: type, dtype: int64"
      ]
     },
     "execution_count": 14,
     "metadata": {},
     "output_type": "execute_result"
    }
   ],
   "source": [
    "#Tenemos que analizar los datos categoricos no numericos, para transformarlos en numericos, o ver si son utiles\n",
    "dataCorrecta['type'].value_counts()"
   ]
  },
  {
   "cell_type": "code",
   "execution_count": 15,
   "metadata": {
    "_uuid": "057e025ced27f3ccd691e49aa26568c43e9b6572"
   },
   "outputs": [
    {
     "data": {
      "text/html": [
       "<div>\n",
       "<style scoped>\n",
       "    .dataframe tbody tr th:only-of-type {\n",
       "        vertical-align: middle;\n",
       "    }\n",
       "\n",
       "    .dataframe tbody tr th {\n",
       "        vertical-align: top;\n",
       "    }\n",
       "\n",
       "    .dataframe thead th {\n",
       "        text-align: right;\n",
       "    }\n",
       "</style>\n",
       "<table border=\"1\" class=\"dataframe\">\n",
       "  <thead>\n",
       "    <tr style=\"text-align: right;\">\n",
       "      <th></th>\n",
       "      <th>index</th>\n",
       "      <th>Date</th>\n",
       "      <th>AveragePrice</th>\n",
       "      <th>Total Volume</th>\n",
       "      <th>4046</th>\n",
       "      <th>4225</th>\n",
       "      <th>4770</th>\n",
       "      <th>Total Bags</th>\n",
       "      <th>Small Bags</th>\n",
       "      <th>Large Bags</th>\n",
       "      <th>XLarge Bags</th>\n",
       "      <th>type</th>\n",
       "      <th>year</th>\n",
       "      <th>region</th>\n",
       "    </tr>\n",
       "  </thead>\n",
       "  <tbody>\n",
       "    <tr>\n",
       "      <th>0</th>\n",
       "      <td>0</td>\n",
       "      <td>2015-12-27</td>\n",
       "      <td>1.33</td>\n",
       "      <td>64236.62</td>\n",
       "      <td>1036.74</td>\n",
       "      <td>54454.85</td>\n",
       "      <td>48.16</td>\n",
       "      <td>8696.87</td>\n",
       "      <td>8603.62</td>\n",
       "      <td>93.25</td>\n",
       "      <td>0.0</td>\n",
       "      <td>conventional</td>\n",
       "      <td>2015</td>\n",
       "      <td>Albany</td>\n",
       "    </tr>\n",
       "    <tr>\n",
       "      <th>1</th>\n",
       "      <td>2</td>\n",
       "      <td>2015-12-13</td>\n",
       "      <td>0.93</td>\n",
       "      <td>118220.22</td>\n",
       "      <td>794.70</td>\n",
       "      <td>109149.67</td>\n",
       "      <td>130.50</td>\n",
       "      <td>8145.35</td>\n",
       "      <td>8042.21</td>\n",
       "      <td>103.14</td>\n",
       "      <td>0.0</td>\n",
       "      <td>conventional</td>\n",
       "      <td>2015</td>\n",
       "      <td>Albany</td>\n",
       "    </tr>\n",
       "    <tr>\n",
       "      <th>2</th>\n",
       "      <td>4</td>\n",
       "      <td>2015-11-29</td>\n",
       "      <td>1.28</td>\n",
       "      <td>51039.60</td>\n",
       "      <td>941.48</td>\n",
       "      <td>43838.39</td>\n",
       "      <td>75.78</td>\n",
       "      <td>6183.95</td>\n",
       "      <td>5986.26</td>\n",
       "      <td>197.69</td>\n",
       "      <td>0.0</td>\n",
       "      <td>conventional</td>\n",
       "      <td>2015</td>\n",
       "      <td>Albany</td>\n",
       "    </tr>\n",
       "    <tr>\n",
       "      <th>3</th>\n",
       "      <td>5</td>\n",
       "      <td>2015-11-22</td>\n",
       "      <td>1.26</td>\n",
       "      <td>55979.78</td>\n",
       "      <td>1184.27</td>\n",
       "      <td>48067.99</td>\n",
       "      <td>43.61</td>\n",
       "      <td>6683.91</td>\n",
       "      <td>6556.47</td>\n",
       "      <td>127.44</td>\n",
       "      <td>0.0</td>\n",
       "      <td>conventional</td>\n",
       "      <td>2015</td>\n",
       "      <td>Albany</td>\n",
       "    </tr>\n",
       "    <tr>\n",
       "      <th>4</th>\n",
       "      <td>7</td>\n",
       "      <td>2015-11-08</td>\n",
       "      <td>0.98</td>\n",
       "      <td>109428.33</td>\n",
       "      <td>703.75</td>\n",
       "      <td>101815.36</td>\n",
       "      <td>80.00</td>\n",
       "      <td>6829.22</td>\n",
       "      <td>6266.85</td>\n",
       "      <td>562.37</td>\n",
       "      <td>0.0</td>\n",
       "      <td>conventional</td>\n",
       "      <td>2015</td>\n",
       "      <td>Albany</td>\n",
       "    </tr>\n",
       "  </tbody>\n",
       "</table>\n",
       "</div>"
      ],
      "text/plain": [
       "   index       Date  AveragePrice  Total Volume     4046       4225    4770  \\\n",
       "0      0 2015-12-27          1.33      64236.62  1036.74   54454.85   48.16   \n",
       "1      2 2015-12-13          0.93     118220.22   794.70  109149.67  130.50   \n",
       "2      4 2015-11-29          1.28      51039.60   941.48   43838.39   75.78   \n",
       "3      5 2015-11-22          1.26      55979.78  1184.27   48067.99   43.61   \n",
       "4      7 2015-11-08          0.98     109428.33   703.75  101815.36   80.00   \n",
       "\n",
       "   Total Bags  Small Bags  Large Bags  XLarge Bags          type  year  region  \n",
       "0     8696.87     8603.62       93.25          0.0  conventional  2015  Albany  \n",
       "1     8145.35     8042.21      103.14          0.0  conventional  2015  Albany  \n",
       "2     6183.95     5986.26      197.69          0.0  conventional  2015  Albany  \n",
       "3     6683.91     6556.47      127.44          0.0  conventional  2015  Albany  \n",
       "4     6829.22     6266.85      562.37          0.0  conventional  2015  Albany  "
      ]
     },
     "execution_count": 15,
     "metadata": {},
     "output_type": "execute_result"
    }
   ],
   "source": [
    "dataCorrecta.head()"
   ]
  },
  {
   "cell_type": "code",
   "execution_count": 16,
   "metadata": {
    "_uuid": "119aba30a9462da9e221245cab867bacef467183"
   },
   "outputs": [
    {
     "data": {
      "text/plain": [
       "2015    2926\n",
       "2016    2710\n",
       "2017    2647\n",
       "2018     605\n",
       "Name: year, dtype: int64"
      ]
     },
     "execution_count": 16,
     "metadata": {},
     "output_type": "execute_result"
    }
   ],
   "source": [
    "dataCorrecta['year'].value_counts()"
   ]
  },
  {
   "cell_type": "code",
   "execution_count": 17,
   "metadata": {
    "_uuid": "52a38412785f669381d9e5737b23f5e1864f7b27"
   },
   "outputs": [
    {
     "data": {
      "text/plain": [
       "NorthernNewEngland     221\n",
       "BuffaloRochester       218\n",
       "Charlotte              214\n",
       "Albany                 210\n",
       "Jacksonville           207\n",
       "Syracuse               205\n",
       "Nashville              205\n",
       "HarrisburgScranton     204\n",
       "Spokane                200\n",
       "Pittsburgh             200\n",
       "Tampa                  199\n",
       "Boston                 198\n",
       "Boise                  194\n",
       "Philadelphia           194\n",
       "Sacramento             192\n",
       "Roanoke                191\n",
       "Orlando                191\n",
       "GrandRapids            191\n",
       "NewOrleansMobile       190\n",
       "RaleighGreensboro      190\n",
       "SouthCarolina          188\n",
       "MiamiFtLauderdale      188\n",
       "Louisville             186\n",
       "SanFrancisco           186\n",
       "LasVegas               184\n",
       "RichmondNorfolk        184\n",
       "StLouis                184\n",
       "BaltimoreWashington    183\n",
       "Chicago                180\n",
       "Columbus               179\n",
       "SanDiego               176\n",
       "Atlanta                173\n",
       "PhoenixTucson          173\n",
       "HartfordSpringfield    169\n",
       "Indianapolis           169\n",
       "Houston                163\n",
       "CincinnatiDayton       159\n",
       "DallasFtWorth          159\n",
       "Portland               143\n",
       "NewYork                143\n",
       "Seattle                142\n",
       "WestTexNewMexico       135\n",
       "Denver                 119\n",
       "Plains                 112\n",
       "LosAngeles             112\n",
       "Detroit                105\n",
       "Southeast              100\n",
       "California              97\n",
       "SouthCentral            97\n",
       "Midsouth                93\n",
       "Northeast               91\n",
       "West                    89\n",
       "GreatLakes              78\n",
       "TotalUS                 35\n",
       "Name: region, dtype: int64"
      ]
     },
     "execution_count": 17,
     "metadata": {},
     "output_type": "execute_result"
    }
   ],
   "source": [
    "dataCorrecta['region'].value_counts()"
   ]
  },
  {
   "cell_type": "code",
   "execution_count": 18,
   "metadata": {
    "_uuid": "0e5adadf33ef8a926a96d8f5eb638662c6bc1e87"
   },
   "outputs": [],
   "source": [
    "# ALEX: remove plotting\n",
    "# fig, ax = plt.subplots(1, 1, figsize=(10,6))\n",
    "# sns.boxplot(x='year',y='AveragePrice',data=dataCorrecta,color='red')"
   ]
  },
  {
   "cell_type": "code",
   "execution_count": 19,
   "metadata": {
    "_uuid": "7e28f252db498b5e8b1ea4cc2fc02d377b8fb62f"
   },
   "outputs": [],
   "source": [
    "#Analizamos el comportamiento de los procesio por region de las paltas organicos\n",
    "mask = dataCorrecta['type']=='organic'\n",
    "# ALEX: remove plotting\n",
    "# g = sns.factorplot('AveragePrice','region',data=dataCorrecta[mask],\n",
    "#                    hue='year',\n",
    "#                    height=13,\n",
    "#                    aspect=0.8,\n",
    "#                    palette='magma',\n",
    "#                    join=False,\n",
    "#               )\n",
    "_ = dataCorrecta[mask]"
   ]
  },
  {
   "cell_type": "code",
   "execution_count": 20,
   "metadata": {
    "_uuid": "541a9cb812bc8b25cc21502610912f130e603020"
   },
   "outputs": [],
   "source": [
    "#Analizamos el comportamiento de los procesio por region de las paltas convencionales\n",
    "mask = dataCorrecta['type']=='conventional'\n",
    "# ALEX: remove plotting\n",
    "# g = sns.factorplot('AveragePrice','region',data=dataCorrecta[mask],\n",
    "#                    hue='year',\n",
    "#                    height=13,\n",
    "#                    aspect=0.8,\n",
    "#                    palette='magma',\n",
    "#                    join=False,\n",
    "#               )\n",
    "_ = dataCorrecta[mask]"
   ]
  },
  {
   "cell_type": "code",
   "execution_count": 21,
   "metadata": {
    "_uuid": "dec38ae94319a282aecf570a41e41717c7cd66d2"
   },
   "outputs": [],
   "source": [
    "# ALEX: remove ML code\n",
    "# label = LabelEncoder()\n",
    "# dicts = {}\n",
    "\n",
    "# label.fit(dataCorrecta.type.drop_duplicates()) \n",
    "# dicts['type'] = list(label.classes_)\n",
    "# dataCorrecta.type = label.transform(dataCorrecta.type) "
   ]
  },
  {
   "cell_type": "code",
   "execution_count": 22,
   "metadata": {
    "_uuid": "fc44f954945a941faf9379dab335c4f06565357b"
   },
   "outputs": [
    {
     "data": {
      "text/plain": [
       "organic         5495\n",
       "conventional    3393\n",
       "Name: type, dtype: int64"
      ]
     },
     "execution_count": 22,
     "metadata": {},
     "output_type": "execute_result"
    }
   ],
   "source": [
    "dataCorrecta['type'].value_counts()"
   ]
  },
  {
   "cell_type": "code",
   "execution_count": 23,
   "metadata": {
    "_uuid": "f6a5d848792bf5dc5b024908890736cb792e6f7e"
   },
   "outputs": [
    {
     "name": "stderr",
     "output_type": "stream",
     "text": [
      "/tmp/ipykernel_447864/1994942820.py:5: FutureWarning: The default value of numeric_only in DataFrame.corr is deprecated. In a future version, it will default to False. Select only valid columns or specify the value of numeric_only to silence this warning.\n",
      "  corr = dataCorrecta[cols].corr('spearman')\n"
     ]
    }
   ],
   "source": [
    "#Realizamos una tabla de correlacion, para conocer el nivel de relacion entre los campos y entre nuestro target\n",
    "cols = ['AveragePrice','Total Volume','4046','4225','4770','Total Bags','Small Bags','Large Bags','XLarge Bags','year','type']\n",
    "# ALEX: remove plotting\n",
    "# sns.set(font_scale = 1.5)\n",
    "corr = dataCorrecta[cols].corr('spearman')\n",
    "# ALEX: remove plotting\n",
    "# plt.figure(figsize = ( 14 , 14 )) \n",
    "# sns.heatmap(corr,annot=True,fmt='.2f',cmap=\"YlGnBu\");"
   ]
  },
  {
   "cell_type": "code",
   "execution_count": 24,
   "metadata": {
    "_uuid": "874632f6fc2996e17303bead6d3a43a05bd7ee9d"
   },
   "outputs": [
    {
     "data": {
      "text/html": [
       "<div>\n",
       "<style scoped>\n",
       "    .dataframe tbody tr th:only-of-type {\n",
       "        vertical-align: middle;\n",
       "    }\n",
       "\n",
       "    .dataframe tbody tr th {\n",
       "        vertical-align: top;\n",
       "    }\n",
       "\n",
       "    .dataframe thead th {\n",
       "        text-align: right;\n",
       "    }\n",
       "</style>\n",
       "<table border=\"1\" class=\"dataframe\">\n",
       "  <thead>\n",
       "    <tr style=\"text-align: right;\">\n",
       "      <th></th>\n",
       "      <th>reg_Albany</th>\n",
       "      <th>reg_Atlanta</th>\n",
       "      <th>reg_BaltimoreWashington</th>\n",
       "      <th>reg_Boise</th>\n",
       "      <th>reg_Boston</th>\n",
       "      <th>reg_BuffaloRochester</th>\n",
       "      <th>reg_California</th>\n",
       "      <th>reg_Charlotte</th>\n",
       "      <th>reg_Chicago</th>\n",
       "      <th>reg_CincinnatiDayton</th>\n",
       "      <th>...</th>\n",
       "      <th>reg_SouthCarolina</th>\n",
       "      <th>reg_SouthCentral</th>\n",
       "      <th>reg_Southeast</th>\n",
       "      <th>reg_Spokane</th>\n",
       "      <th>reg_StLouis</th>\n",
       "      <th>reg_Syracuse</th>\n",
       "      <th>reg_Tampa</th>\n",
       "      <th>reg_TotalUS</th>\n",
       "      <th>reg_West</th>\n",
       "      <th>reg_WestTexNewMexico</th>\n",
       "    </tr>\n",
       "  </thead>\n",
       "  <tbody>\n",
       "    <tr>\n",
       "      <th>0</th>\n",
       "      <td>1</td>\n",
       "      <td>0</td>\n",
       "      <td>0</td>\n",
       "      <td>0</td>\n",
       "      <td>0</td>\n",
       "      <td>0</td>\n",
       "      <td>0</td>\n",
       "      <td>0</td>\n",
       "      <td>0</td>\n",
       "      <td>0</td>\n",
       "      <td>...</td>\n",
       "      <td>0</td>\n",
       "      <td>0</td>\n",
       "      <td>0</td>\n",
       "      <td>0</td>\n",
       "      <td>0</td>\n",
       "      <td>0</td>\n",
       "      <td>0</td>\n",
       "      <td>0</td>\n",
       "      <td>0</td>\n",
       "      <td>0</td>\n",
       "    </tr>\n",
       "    <tr>\n",
       "      <th>1</th>\n",
       "      <td>1</td>\n",
       "      <td>0</td>\n",
       "      <td>0</td>\n",
       "      <td>0</td>\n",
       "      <td>0</td>\n",
       "      <td>0</td>\n",
       "      <td>0</td>\n",
       "      <td>0</td>\n",
       "      <td>0</td>\n",
       "      <td>0</td>\n",
       "      <td>...</td>\n",
       "      <td>0</td>\n",
       "      <td>0</td>\n",
       "      <td>0</td>\n",
       "      <td>0</td>\n",
       "      <td>0</td>\n",
       "      <td>0</td>\n",
       "      <td>0</td>\n",
       "      <td>0</td>\n",
       "      <td>0</td>\n",
       "      <td>0</td>\n",
       "    </tr>\n",
       "    <tr>\n",
       "      <th>2</th>\n",
       "      <td>1</td>\n",
       "      <td>0</td>\n",
       "      <td>0</td>\n",
       "      <td>0</td>\n",
       "      <td>0</td>\n",
       "      <td>0</td>\n",
       "      <td>0</td>\n",
       "      <td>0</td>\n",
       "      <td>0</td>\n",
       "      <td>0</td>\n",
       "      <td>...</td>\n",
       "      <td>0</td>\n",
       "      <td>0</td>\n",
       "      <td>0</td>\n",
       "      <td>0</td>\n",
       "      <td>0</td>\n",
       "      <td>0</td>\n",
       "      <td>0</td>\n",
       "      <td>0</td>\n",
       "      <td>0</td>\n",
       "      <td>0</td>\n",
       "    </tr>\n",
       "    <tr>\n",
       "      <th>3</th>\n",
       "      <td>1</td>\n",
       "      <td>0</td>\n",
       "      <td>0</td>\n",
       "      <td>0</td>\n",
       "      <td>0</td>\n",
       "      <td>0</td>\n",
       "      <td>0</td>\n",
       "      <td>0</td>\n",
       "      <td>0</td>\n",
       "      <td>0</td>\n",
       "      <td>...</td>\n",
       "      <td>0</td>\n",
       "      <td>0</td>\n",
       "      <td>0</td>\n",
       "      <td>0</td>\n",
       "      <td>0</td>\n",
       "      <td>0</td>\n",
       "      <td>0</td>\n",
       "      <td>0</td>\n",
       "      <td>0</td>\n",
       "      <td>0</td>\n",
       "    </tr>\n",
       "    <tr>\n",
       "      <th>4</th>\n",
       "      <td>1</td>\n",
       "      <td>0</td>\n",
       "      <td>0</td>\n",
       "      <td>0</td>\n",
       "      <td>0</td>\n",
       "      <td>0</td>\n",
       "      <td>0</td>\n",
       "      <td>0</td>\n",
       "      <td>0</td>\n",
       "      <td>0</td>\n",
       "      <td>...</td>\n",
       "      <td>0</td>\n",
       "      <td>0</td>\n",
       "      <td>0</td>\n",
       "      <td>0</td>\n",
       "      <td>0</td>\n",
       "      <td>0</td>\n",
       "      <td>0</td>\n",
       "      <td>0</td>\n",
       "      <td>0</td>\n",
       "      <td>0</td>\n",
       "    </tr>\n",
       "  </tbody>\n",
       "</table>\n",
       "<p>5 rows × 54 columns</p>\n",
       "</div>"
      ],
      "text/plain": [
       "   reg_Albany  reg_Atlanta  reg_BaltimoreWashington  reg_Boise  reg_Boston  \\\n",
       "0           1            0                        0          0           0   \n",
       "1           1            0                        0          0           0   \n",
       "2           1            0                        0          0           0   \n",
       "3           1            0                        0          0           0   \n",
       "4           1            0                        0          0           0   \n",
       "\n",
       "   reg_BuffaloRochester  reg_California  reg_Charlotte  reg_Chicago  \\\n",
       "0                     0               0              0            0   \n",
       "1                     0               0              0            0   \n",
       "2                     0               0              0            0   \n",
       "3                     0               0              0            0   \n",
       "4                     0               0              0            0   \n",
       "\n",
       "   reg_CincinnatiDayton  ...  reg_SouthCarolina  reg_SouthCentral  \\\n",
       "0                     0  ...                  0                 0   \n",
       "1                     0  ...                  0                 0   \n",
       "2                     0  ...                  0                 0   \n",
       "3                     0  ...                  0                 0   \n",
       "4                     0  ...                  0                 0   \n",
       "\n",
       "   reg_Southeast  reg_Spokane  reg_StLouis  reg_Syracuse  reg_Tampa  \\\n",
       "0              0            0            0             0          0   \n",
       "1              0            0            0             0          0   \n",
       "2              0            0            0             0          0   \n",
       "3              0            0            0             0          0   \n",
       "4              0            0            0             0          0   \n",
       "\n",
       "   reg_TotalUS  reg_West  reg_WestTexNewMexico  \n",
       "0            0         0                     0  \n",
       "1            0         0                     0  \n",
       "2            0         0                     0  \n",
       "3            0         0                     0  \n",
       "4            0         0                     0  \n",
       "\n",
       "[5 rows x 54 columns]"
      ]
     },
     "execution_count": 24,
     "metadata": {},
     "output_type": "execute_result"
    }
   ],
   "source": [
    "#Creamos las variables ficticias para region\n",
    "region_dummi =pd.get_dummies(dataCorrecta['region'], prefix='reg')\n",
    "region_dummi.head()"
   ]
  },
  {
   "cell_type": "code",
   "execution_count": 25,
   "metadata": {
    "_uuid": "0b950cee63d93867bfdaec836233785ae1254516"
   },
   "outputs": [
    {
     "data": {
      "text/html": [
       "<div>\n",
       "<style scoped>\n",
       "    .dataframe tbody tr th:only-of-type {\n",
       "        vertical-align: middle;\n",
       "    }\n",
       "\n",
       "    .dataframe tbody tr th {\n",
       "        vertical-align: top;\n",
       "    }\n",
       "\n",
       "    .dataframe thead th {\n",
       "        text-align: right;\n",
       "    }\n",
       "</style>\n",
       "<table border=\"1\" class=\"dataframe\">\n",
       "  <thead>\n",
       "    <tr style=\"text-align: right;\">\n",
       "      <th></th>\n",
       "      <th>index</th>\n",
       "      <th>Date</th>\n",
       "      <th>AveragePrice</th>\n",
       "      <th>Total Volume</th>\n",
       "      <th>4046</th>\n",
       "      <th>4225</th>\n",
       "      <th>4770</th>\n",
       "      <th>Total Bags</th>\n",
       "      <th>Small Bags</th>\n",
       "      <th>Large Bags</th>\n",
       "      <th>...</th>\n",
       "      <th>reg_SouthCarolina</th>\n",
       "      <th>reg_SouthCentral</th>\n",
       "      <th>reg_Southeast</th>\n",
       "      <th>reg_Spokane</th>\n",
       "      <th>reg_StLouis</th>\n",
       "      <th>reg_Syracuse</th>\n",
       "      <th>reg_Tampa</th>\n",
       "      <th>reg_TotalUS</th>\n",
       "      <th>reg_West</th>\n",
       "      <th>reg_WestTexNewMexico</th>\n",
       "    </tr>\n",
       "  </thead>\n",
       "  <tbody>\n",
       "    <tr>\n",
       "      <th>0</th>\n",
       "      <td>0</td>\n",
       "      <td>2015-12-27</td>\n",
       "      <td>1.33</td>\n",
       "      <td>64236.62</td>\n",
       "      <td>1036.74</td>\n",
       "      <td>54454.85</td>\n",
       "      <td>48.16</td>\n",
       "      <td>8696.87</td>\n",
       "      <td>8603.62</td>\n",
       "      <td>93.25</td>\n",
       "      <td>...</td>\n",
       "      <td>0</td>\n",
       "      <td>0</td>\n",
       "      <td>0</td>\n",
       "      <td>0</td>\n",
       "      <td>0</td>\n",
       "      <td>0</td>\n",
       "      <td>0</td>\n",
       "      <td>0</td>\n",
       "      <td>0</td>\n",
       "      <td>0</td>\n",
       "    </tr>\n",
       "    <tr>\n",
       "      <th>1</th>\n",
       "      <td>2</td>\n",
       "      <td>2015-12-13</td>\n",
       "      <td>0.93</td>\n",
       "      <td>118220.22</td>\n",
       "      <td>794.70</td>\n",
       "      <td>109149.67</td>\n",
       "      <td>130.50</td>\n",
       "      <td>8145.35</td>\n",
       "      <td>8042.21</td>\n",
       "      <td>103.14</td>\n",
       "      <td>...</td>\n",
       "      <td>0</td>\n",
       "      <td>0</td>\n",
       "      <td>0</td>\n",
       "      <td>0</td>\n",
       "      <td>0</td>\n",
       "      <td>0</td>\n",
       "      <td>0</td>\n",
       "      <td>0</td>\n",
       "      <td>0</td>\n",
       "      <td>0</td>\n",
       "    </tr>\n",
       "    <tr>\n",
       "      <th>2</th>\n",
       "      <td>4</td>\n",
       "      <td>2015-11-29</td>\n",
       "      <td>1.28</td>\n",
       "      <td>51039.60</td>\n",
       "      <td>941.48</td>\n",
       "      <td>43838.39</td>\n",
       "      <td>75.78</td>\n",
       "      <td>6183.95</td>\n",
       "      <td>5986.26</td>\n",
       "      <td>197.69</td>\n",
       "      <td>...</td>\n",
       "      <td>0</td>\n",
       "      <td>0</td>\n",
       "      <td>0</td>\n",
       "      <td>0</td>\n",
       "      <td>0</td>\n",
       "      <td>0</td>\n",
       "      <td>0</td>\n",
       "      <td>0</td>\n",
       "      <td>0</td>\n",
       "      <td>0</td>\n",
       "    </tr>\n",
       "    <tr>\n",
       "      <th>3</th>\n",
       "      <td>5</td>\n",
       "      <td>2015-11-22</td>\n",
       "      <td>1.26</td>\n",
       "      <td>55979.78</td>\n",
       "      <td>1184.27</td>\n",
       "      <td>48067.99</td>\n",
       "      <td>43.61</td>\n",
       "      <td>6683.91</td>\n",
       "      <td>6556.47</td>\n",
       "      <td>127.44</td>\n",
       "      <td>...</td>\n",
       "      <td>0</td>\n",
       "      <td>0</td>\n",
       "      <td>0</td>\n",
       "      <td>0</td>\n",
       "      <td>0</td>\n",
       "      <td>0</td>\n",
       "      <td>0</td>\n",
       "      <td>0</td>\n",
       "      <td>0</td>\n",
       "      <td>0</td>\n",
       "    </tr>\n",
       "    <tr>\n",
       "      <th>4</th>\n",
       "      <td>7</td>\n",
       "      <td>2015-11-08</td>\n",
       "      <td>0.98</td>\n",
       "      <td>109428.33</td>\n",
       "      <td>703.75</td>\n",
       "      <td>101815.36</td>\n",
       "      <td>80.00</td>\n",
       "      <td>6829.22</td>\n",
       "      <td>6266.85</td>\n",
       "      <td>562.37</td>\n",
       "      <td>...</td>\n",
       "      <td>0</td>\n",
       "      <td>0</td>\n",
       "      <td>0</td>\n",
       "      <td>0</td>\n",
       "      <td>0</td>\n",
       "      <td>0</td>\n",
       "      <td>0</td>\n",
       "      <td>0</td>\n",
       "      <td>0</td>\n",
       "      <td>0</td>\n",
       "    </tr>\n",
       "  </tbody>\n",
       "</table>\n",
       "<p>5 rows × 68 columns</p>\n",
       "</div>"
      ],
      "text/plain": [
       "   index       Date  AveragePrice  Total Volume     4046       4225    4770  \\\n",
       "0      0 2015-12-27          1.33      64236.62  1036.74   54454.85   48.16   \n",
       "1      2 2015-12-13          0.93     118220.22   794.70  109149.67  130.50   \n",
       "2      4 2015-11-29          1.28      51039.60   941.48   43838.39   75.78   \n",
       "3      5 2015-11-22          1.26      55979.78  1184.27   48067.99   43.61   \n",
       "4      7 2015-11-08          0.98     109428.33   703.75  101815.36   80.00   \n",
       "\n",
       "   Total Bags  Small Bags  Large Bags  ...  reg_SouthCarolina  \\\n",
       "0     8696.87     8603.62       93.25  ...                  0   \n",
       "1     8145.35     8042.21      103.14  ...                  0   \n",
       "2     6183.95     5986.26      197.69  ...                  0   \n",
       "3     6683.91     6556.47      127.44  ...                  0   \n",
       "4     6829.22     6266.85      562.37  ...                  0   \n",
       "\n",
       "  reg_SouthCentral  reg_Southeast reg_Spokane  reg_StLouis  reg_Syracuse  \\\n",
       "0                0              0           0            0             0   \n",
       "1                0              0           0            0             0   \n",
       "2                0              0           0            0             0   \n",
       "3                0              0           0            0             0   \n",
       "4                0              0           0            0             0   \n",
       "\n",
       "   reg_Tampa  reg_TotalUS  reg_West  reg_WestTexNewMexico  \n",
       "0          0            0         0                     0  \n",
       "1          0            0         0                     0  \n",
       "2          0            0         0                     0  \n",
       "3          0            0         0                     0  \n",
       "4          0            0         0                     0  \n",
       "\n",
       "[5 rows x 68 columns]"
      ]
     },
     "execution_count": 25,
     "metadata": {},
     "output_type": "execute_result"
    }
   ],
   "source": [
    "#Agregamos los datos fictios a la data original\n",
    "data_nueva = pd.concat([dataCorrecta, region_dummi], axis=1)\n",
    "data_nueva.head() "
   ]
  },
  {
   "cell_type": "code",
   "execution_count": 26,
   "metadata": {
    "_uuid": "e8f9e48c662430719f041fedb7cffd7348d6747a"
   },
   "outputs": [
    {
     "name": "stderr",
     "output_type": "stream",
     "text": [
      "/tmp/ipykernel_447864/3097472254.py:2: FutureWarning: In a future version of pandas all arguments of DataFrame.drop except for the argument 'labels' will be keyword-only.\n",
      "  data_nueva = data_nueva.drop('region', 1)\n",
      "/tmp/ipykernel_447864/3097472254.py:3: FutureWarning: In a future version of pandas all arguments of DataFrame.drop except for the argument 'labels' will be keyword-only.\n",
      "  data_nueva = data_nueva.drop('index', 1)\n"
     ]
    }
   ],
   "source": [
    "#eliminamos las columna region\n",
    "data_nueva = data_nueva.drop('region', 1)\n",
    "data_nueva = data_nueva.drop('index', 1)"
   ]
  },
  {
   "cell_type": "markdown",
   "metadata": {
    "_uuid": "dec1e8dc3c3be9236b067a83163641cdfa120f4d"
   },
   "source": [
    "Generamos un grafico de correlacion"
   ]
  },
  {
   "cell_type": "code",
   "execution_count": 27,
   "metadata": {
    "_uuid": "bc087e4e4f2c3ec455c7c81b0ad875a3ce573b36"
   },
   "outputs": [],
   "source": [
    "#corr = data_nueva.corr('spearman') \n",
    "#plt.figure(figsize = ( 35 , 20 )) \n",
    "#sns.heatmap(corr,annot=True,fmt='.2f',cmap=\"YlGnBu\");"
   ]
  },
  {
   "cell_type": "code",
   "execution_count": 28,
   "metadata": {
    "_uuid": "df2fc901f1d8f29da458a34ec7cbefef0a2020d9"
   },
   "outputs": [],
   "source": [
    "data_train = pd.DataFrame(index=data_nueva.index)\n",
    "targer_train = pd.DataFrame(index=data_nueva.index)\n",
    "data_train = data_nueva\n",
    "targer_train = data_nueva['AveragePrice']"
   ]
  },
  {
   "cell_type": "code",
   "execution_count": 29,
   "metadata": {
    "_uuid": "5aa06e6c02bcf52ad87acf91dbe774211ae59e1d"
   },
   "outputs": [],
   "source": [
    "data_train['monthy'] = data_train['Date'].astype('datetime64[ns]').apply(lambda ts: ts.month)"
   ]
  },
  {
   "cell_type": "code",
   "execution_count": 30,
   "metadata": {
    "_uuid": "360aedf412a6262aae9525cfec70412a1f259608"
   },
   "outputs": [],
   "source": [
    "dummi_month =pd.get_dummies(data_train['monthy'], prefix='month')\n",
    "data_train = pd.concat([data_train, dummi_month], axis=1)"
   ]
  },
  {
   "cell_type": "code",
   "execution_count": 31,
   "metadata": {
    "_uuid": "5510ecdb03683b989a35fa881c34d27bd18a8d21"
   },
   "outputs": [],
   "source": [
    "data_train = data_train.drop(['monthy'],axis=1)\n",
    "#data_train = data_train.drop(['Date'],axis=1)"
   ]
  },
  {
   "cell_type": "code",
   "execution_count": 32,
   "metadata": {
    "_uuid": "eeaa7c7b000dca91a2330f06439634346e0302f3"
   },
   "outputs": [
    {
     "data": {
      "text/html": [
       "<div>\n",
       "<style scoped>\n",
       "    .dataframe tbody tr th:only-of-type {\n",
       "        vertical-align: middle;\n",
       "    }\n",
       "\n",
       "    .dataframe tbody tr th {\n",
       "        vertical-align: top;\n",
       "    }\n",
       "\n",
       "    .dataframe thead th {\n",
       "        text-align: right;\n",
       "    }\n",
       "</style>\n",
       "<table border=\"1\" class=\"dataframe\">\n",
       "  <thead>\n",
       "    <tr style=\"text-align: right;\">\n",
       "      <th></th>\n",
       "      <th>Date</th>\n",
       "      <th>AveragePrice</th>\n",
       "      <th>Total Volume</th>\n",
       "      <th>4046</th>\n",
       "      <th>4225</th>\n",
       "      <th>4770</th>\n",
       "      <th>Total Bags</th>\n",
       "      <th>Small Bags</th>\n",
       "      <th>Large Bags</th>\n",
       "      <th>XLarge Bags</th>\n",
       "      <th>...</th>\n",
       "      <th>month_3</th>\n",
       "      <th>month_4</th>\n",
       "      <th>month_5</th>\n",
       "      <th>month_6</th>\n",
       "      <th>month_7</th>\n",
       "      <th>month_8</th>\n",
       "      <th>month_9</th>\n",
       "      <th>month_10</th>\n",
       "      <th>month_11</th>\n",
       "      <th>month_12</th>\n",
       "    </tr>\n",
       "  </thead>\n",
       "  <tbody>\n",
       "    <tr>\n",
       "      <th>0</th>\n",
       "      <td>2015-12-27</td>\n",
       "      <td>1.33</td>\n",
       "      <td>64236.62</td>\n",
       "      <td>1036.74</td>\n",
       "      <td>54454.85</td>\n",
       "      <td>48.16</td>\n",
       "      <td>8696.87</td>\n",
       "      <td>8603.62</td>\n",
       "      <td>93.25</td>\n",
       "      <td>0.0</td>\n",
       "      <td>...</td>\n",
       "      <td>0</td>\n",
       "      <td>0</td>\n",
       "      <td>0</td>\n",
       "      <td>0</td>\n",
       "      <td>0</td>\n",
       "      <td>0</td>\n",
       "      <td>0</td>\n",
       "      <td>0</td>\n",
       "      <td>0</td>\n",
       "      <td>1</td>\n",
       "    </tr>\n",
       "    <tr>\n",
       "      <th>1</th>\n",
       "      <td>2015-12-13</td>\n",
       "      <td>0.93</td>\n",
       "      <td>118220.22</td>\n",
       "      <td>794.70</td>\n",
       "      <td>109149.67</td>\n",
       "      <td>130.50</td>\n",
       "      <td>8145.35</td>\n",
       "      <td>8042.21</td>\n",
       "      <td>103.14</td>\n",
       "      <td>0.0</td>\n",
       "      <td>...</td>\n",
       "      <td>0</td>\n",
       "      <td>0</td>\n",
       "      <td>0</td>\n",
       "      <td>0</td>\n",
       "      <td>0</td>\n",
       "      <td>0</td>\n",
       "      <td>0</td>\n",
       "      <td>0</td>\n",
       "      <td>0</td>\n",
       "      <td>1</td>\n",
       "    </tr>\n",
       "    <tr>\n",
       "      <th>2</th>\n",
       "      <td>2015-11-29</td>\n",
       "      <td>1.28</td>\n",
       "      <td>51039.60</td>\n",
       "      <td>941.48</td>\n",
       "      <td>43838.39</td>\n",
       "      <td>75.78</td>\n",
       "      <td>6183.95</td>\n",
       "      <td>5986.26</td>\n",
       "      <td>197.69</td>\n",
       "      <td>0.0</td>\n",
       "      <td>...</td>\n",
       "      <td>0</td>\n",
       "      <td>0</td>\n",
       "      <td>0</td>\n",
       "      <td>0</td>\n",
       "      <td>0</td>\n",
       "      <td>0</td>\n",
       "      <td>0</td>\n",
       "      <td>0</td>\n",
       "      <td>1</td>\n",
       "      <td>0</td>\n",
       "    </tr>\n",
       "    <tr>\n",
       "      <th>3</th>\n",
       "      <td>2015-11-22</td>\n",
       "      <td>1.26</td>\n",
       "      <td>55979.78</td>\n",
       "      <td>1184.27</td>\n",
       "      <td>48067.99</td>\n",
       "      <td>43.61</td>\n",
       "      <td>6683.91</td>\n",
       "      <td>6556.47</td>\n",
       "      <td>127.44</td>\n",
       "      <td>0.0</td>\n",
       "      <td>...</td>\n",
       "      <td>0</td>\n",
       "      <td>0</td>\n",
       "      <td>0</td>\n",
       "      <td>0</td>\n",
       "      <td>0</td>\n",
       "      <td>0</td>\n",
       "      <td>0</td>\n",
       "      <td>0</td>\n",
       "      <td>1</td>\n",
       "      <td>0</td>\n",
       "    </tr>\n",
       "    <tr>\n",
       "      <th>4</th>\n",
       "      <td>2015-11-08</td>\n",
       "      <td>0.98</td>\n",
       "      <td>109428.33</td>\n",
       "      <td>703.75</td>\n",
       "      <td>101815.36</td>\n",
       "      <td>80.00</td>\n",
       "      <td>6829.22</td>\n",
       "      <td>6266.85</td>\n",
       "      <td>562.37</td>\n",
       "      <td>0.0</td>\n",
       "      <td>...</td>\n",
       "      <td>0</td>\n",
       "      <td>0</td>\n",
       "      <td>0</td>\n",
       "      <td>0</td>\n",
       "      <td>0</td>\n",
       "      <td>0</td>\n",
       "      <td>0</td>\n",
       "      <td>0</td>\n",
       "      <td>1</td>\n",
       "      <td>0</td>\n",
       "    </tr>\n",
       "  </tbody>\n",
       "</table>\n",
       "<p>5 rows × 78 columns</p>\n",
       "</div>"
      ],
      "text/plain": [
       "        Date  AveragePrice  Total Volume     4046       4225    4770  \\\n",
       "0 2015-12-27          1.33      64236.62  1036.74   54454.85   48.16   \n",
       "1 2015-12-13          0.93     118220.22   794.70  109149.67  130.50   \n",
       "2 2015-11-29          1.28      51039.60   941.48   43838.39   75.78   \n",
       "3 2015-11-22          1.26      55979.78  1184.27   48067.99   43.61   \n",
       "4 2015-11-08          0.98     109428.33   703.75  101815.36   80.00   \n",
       "\n",
       "   Total Bags  Small Bags  Large Bags  XLarge Bags  ... month_3  month_4  \\\n",
       "0     8696.87     8603.62       93.25          0.0  ...       0        0   \n",
       "1     8145.35     8042.21      103.14          0.0  ...       0        0   \n",
       "2     6183.95     5986.26      197.69          0.0  ...       0        0   \n",
       "3     6683.91     6556.47      127.44          0.0  ...       0        0   \n",
       "4     6829.22     6266.85      562.37          0.0  ...       0        0   \n",
       "\n",
       "   month_5  month_6  month_7  month_8  month_9  month_10  month_11  month_12  \n",
       "0        0        0        0        0        0         0         0         1  \n",
       "1        0        0        0        0        0         0         0         1  \n",
       "2        0        0        0        0        0         0         1         0  \n",
       "3        0        0        0        0        0         0         1         0  \n",
       "4        0        0        0        0        0         0         1         0  \n",
       "\n",
       "[5 rows x 78 columns]"
      ]
     },
     "execution_count": 32,
     "metadata": {},
     "output_type": "execute_result"
    }
   ],
   "source": [
    "data_train.head(5)"
   ]
  },
  {
   "cell_type": "code",
   "execution_count": 33,
   "metadata": {
    "_uuid": "07f0942b6eb82ab8330fb47fe2c0db57ab1d5a98"
   },
   "outputs": [
    {
     "data": {
      "text/plain": [
       "2015    2926\n",
       "2016    2710\n",
       "2017    2647\n",
       "2018     605\n",
       "Name: year, dtype: int64"
      ]
     },
     "execution_count": 33,
     "metadata": {},
     "output_type": "execute_result"
    }
   ],
   "source": [
    "data_train['year'].value_counts()"
   ]
  },
  {
   "cell_type": "code",
   "execution_count": 34,
   "metadata": {
    "_uuid": "05f358af5785bd5ecb60bd0a390542177268eff6"
   },
   "outputs": [],
   "source": [
    "region_dummi_fecha =pd.get_dummies(data_train['year'], prefix='year')"
   ]
  },
  {
   "cell_type": "code",
   "execution_count": 35,
   "metadata": {
    "_uuid": "2365ab5c41b7d71dffa460fe550f03ea3acc6cb4"
   },
   "outputs": [],
   "source": [
    "data_train = pd.concat([data_train, region_dummi_fecha], axis=1)"
   ]
  },
  {
   "cell_type": "code",
   "execution_count": 36,
   "metadata": {
    "_uuid": "29904c8038536d86b75c433ce66ee74f13362680"
   },
   "outputs": [
    {
     "data": {
      "text/html": [
       "<div>\n",
       "<style scoped>\n",
       "    .dataframe tbody tr th:only-of-type {\n",
       "        vertical-align: middle;\n",
       "    }\n",
       "\n",
       "    .dataframe tbody tr th {\n",
       "        vertical-align: top;\n",
       "    }\n",
       "\n",
       "    .dataframe thead th {\n",
       "        text-align: right;\n",
       "    }\n",
       "</style>\n",
       "<table border=\"1\" class=\"dataframe\">\n",
       "  <thead>\n",
       "    <tr style=\"text-align: right;\">\n",
       "      <th></th>\n",
       "      <th>Date</th>\n",
       "      <th>AveragePrice</th>\n",
       "      <th>Total Volume</th>\n",
       "      <th>4046</th>\n",
       "      <th>4225</th>\n",
       "      <th>4770</th>\n",
       "      <th>Total Bags</th>\n",
       "      <th>Small Bags</th>\n",
       "      <th>Large Bags</th>\n",
       "      <th>XLarge Bags</th>\n",
       "      <th>...</th>\n",
       "      <th>month_7</th>\n",
       "      <th>month_8</th>\n",
       "      <th>month_9</th>\n",
       "      <th>month_10</th>\n",
       "      <th>month_11</th>\n",
       "      <th>month_12</th>\n",
       "      <th>year_2015</th>\n",
       "      <th>year_2016</th>\n",
       "      <th>year_2017</th>\n",
       "      <th>year_2018</th>\n",
       "    </tr>\n",
       "  </thead>\n",
       "  <tbody>\n",
       "    <tr>\n",
       "      <th>0</th>\n",
       "      <td>2015-12-27</td>\n",
       "      <td>1.33</td>\n",
       "      <td>64236.62</td>\n",
       "      <td>1036.74</td>\n",
       "      <td>54454.85</td>\n",
       "      <td>48.16</td>\n",
       "      <td>8696.87</td>\n",
       "      <td>8603.62</td>\n",
       "      <td>93.25</td>\n",
       "      <td>0.0</td>\n",
       "      <td>...</td>\n",
       "      <td>0</td>\n",
       "      <td>0</td>\n",
       "      <td>0</td>\n",
       "      <td>0</td>\n",
       "      <td>0</td>\n",
       "      <td>1</td>\n",
       "      <td>1</td>\n",
       "      <td>0</td>\n",
       "      <td>0</td>\n",
       "      <td>0</td>\n",
       "    </tr>\n",
       "    <tr>\n",
       "      <th>1</th>\n",
       "      <td>2015-12-13</td>\n",
       "      <td>0.93</td>\n",
       "      <td>118220.22</td>\n",
       "      <td>794.70</td>\n",
       "      <td>109149.67</td>\n",
       "      <td>130.50</td>\n",
       "      <td>8145.35</td>\n",
       "      <td>8042.21</td>\n",
       "      <td>103.14</td>\n",
       "      <td>0.0</td>\n",
       "      <td>...</td>\n",
       "      <td>0</td>\n",
       "      <td>0</td>\n",
       "      <td>0</td>\n",
       "      <td>0</td>\n",
       "      <td>0</td>\n",
       "      <td>1</td>\n",
       "      <td>1</td>\n",
       "      <td>0</td>\n",
       "      <td>0</td>\n",
       "      <td>0</td>\n",
       "    </tr>\n",
       "    <tr>\n",
       "      <th>2</th>\n",
       "      <td>2015-11-29</td>\n",
       "      <td>1.28</td>\n",
       "      <td>51039.60</td>\n",
       "      <td>941.48</td>\n",
       "      <td>43838.39</td>\n",
       "      <td>75.78</td>\n",
       "      <td>6183.95</td>\n",
       "      <td>5986.26</td>\n",
       "      <td>197.69</td>\n",
       "      <td>0.0</td>\n",
       "      <td>...</td>\n",
       "      <td>0</td>\n",
       "      <td>0</td>\n",
       "      <td>0</td>\n",
       "      <td>0</td>\n",
       "      <td>1</td>\n",
       "      <td>0</td>\n",
       "      <td>1</td>\n",
       "      <td>0</td>\n",
       "      <td>0</td>\n",
       "      <td>0</td>\n",
       "    </tr>\n",
       "    <tr>\n",
       "      <th>3</th>\n",
       "      <td>2015-11-22</td>\n",
       "      <td>1.26</td>\n",
       "      <td>55979.78</td>\n",
       "      <td>1184.27</td>\n",
       "      <td>48067.99</td>\n",
       "      <td>43.61</td>\n",
       "      <td>6683.91</td>\n",
       "      <td>6556.47</td>\n",
       "      <td>127.44</td>\n",
       "      <td>0.0</td>\n",
       "      <td>...</td>\n",
       "      <td>0</td>\n",
       "      <td>0</td>\n",
       "      <td>0</td>\n",
       "      <td>0</td>\n",
       "      <td>1</td>\n",
       "      <td>0</td>\n",
       "      <td>1</td>\n",
       "      <td>0</td>\n",
       "      <td>0</td>\n",
       "      <td>0</td>\n",
       "    </tr>\n",
       "    <tr>\n",
       "      <th>4</th>\n",
       "      <td>2015-11-08</td>\n",
       "      <td>0.98</td>\n",
       "      <td>109428.33</td>\n",
       "      <td>703.75</td>\n",
       "      <td>101815.36</td>\n",
       "      <td>80.00</td>\n",
       "      <td>6829.22</td>\n",
       "      <td>6266.85</td>\n",
       "      <td>562.37</td>\n",
       "      <td>0.0</td>\n",
       "      <td>...</td>\n",
       "      <td>0</td>\n",
       "      <td>0</td>\n",
       "      <td>0</td>\n",
       "      <td>0</td>\n",
       "      <td>1</td>\n",
       "      <td>0</td>\n",
       "      <td>1</td>\n",
       "      <td>0</td>\n",
       "      <td>0</td>\n",
       "      <td>0</td>\n",
       "    </tr>\n",
       "  </tbody>\n",
       "</table>\n",
       "<p>5 rows × 82 columns</p>\n",
       "</div>"
      ],
      "text/plain": [
       "        Date  AveragePrice  Total Volume     4046       4225    4770  \\\n",
       "0 2015-12-27          1.33      64236.62  1036.74   54454.85   48.16   \n",
       "1 2015-12-13          0.93     118220.22   794.70  109149.67  130.50   \n",
       "2 2015-11-29          1.28      51039.60   941.48   43838.39   75.78   \n",
       "3 2015-11-22          1.26      55979.78  1184.27   48067.99   43.61   \n",
       "4 2015-11-08          0.98     109428.33   703.75  101815.36   80.00   \n",
       "\n",
       "   Total Bags  Small Bags  Large Bags  XLarge Bags  ... month_7  month_8  \\\n",
       "0     8696.87     8603.62       93.25          0.0  ...       0        0   \n",
       "1     8145.35     8042.21      103.14          0.0  ...       0        0   \n",
       "2     6183.95     5986.26      197.69          0.0  ...       0        0   \n",
       "3     6683.91     6556.47      127.44          0.0  ...       0        0   \n",
       "4     6829.22     6266.85      562.37          0.0  ...       0        0   \n",
       "\n",
       "   month_9  month_10  month_11  month_12  year_2015  year_2016  year_2017  \\\n",
       "0        0         0         0         1          1          0          0   \n",
       "1        0         0         0         1          1          0          0   \n",
       "2        0         0         1         0          1          0          0   \n",
       "3        0         0         1         0          1          0          0   \n",
       "4        0         0         1         0          1          0          0   \n",
       "\n",
       "   year_2018  \n",
       "0          0  \n",
       "1          0  \n",
       "2          0  \n",
       "3          0  \n",
       "4          0  \n",
       "\n",
       "[5 rows x 82 columns]"
      ]
     },
     "execution_count": 36,
     "metadata": {},
     "output_type": "execute_result"
    }
   ],
   "source": [
    "data_train.head(5)"
   ]
  },
  {
   "cell_type": "code",
   "execution_count": 37,
   "metadata": {
    "_uuid": "683f135b86c2ec86550f679fc28c13779b466df3"
   },
   "outputs": [],
   "source": [
    "data_train = data_train.drop(['year'],axis=1)\n",
    "data_train = data_train.drop(['Date'], axis=1)\n",
    "data_train = data_train.drop(['AveragePrice'],axis=1)"
   ]
  },
  {
   "cell_type": "code",
   "execution_count": 38,
   "metadata": {
    "_uuid": "4a14babc2d7951ae816eeef5fc5ad6cba16aa141"
   },
   "outputs": [
    {
     "data": {
      "text/html": [
       "<div>\n",
       "<style scoped>\n",
       "    .dataframe tbody tr th:only-of-type {\n",
       "        vertical-align: middle;\n",
       "    }\n",
       "\n",
       "    .dataframe tbody tr th {\n",
       "        vertical-align: top;\n",
       "    }\n",
       "\n",
       "    .dataframe thead th {\n",
       "        text-align: right;\n",
       "    }\n",
       "</style>\n",
       "<table border=\"1\" class=\"dataframe\">\n",
       "  <thead>\n",
       "    <tr style=\"text-align: right;\">\n",
       "      <th></th>\n",
       "      <th>Total Volume</th>\n",
       "      <th>4046</th>\n",
       "      <th>4225</th>\n",
       "      <th>4770</th>\n",
       "      <th>Total Bags</th>\n",
       "      <th>Small Bags</th>\n",
       "      <th>Large Bags</th>\n",
       "      <th>XLarge Bags</th>\n",
       "      <th>type</th>\n",
       "      <th>reg_Albany</th>\n",
       "      <th>...</th>\n",
       "      <th>month_7</th>\n",
       "      <th>month_8</th>\n",
       "      <th>month_9</th>\n",
       "      <th>month_10</th>\n",
       "      <th>month_11</th>\n",
       "      <th>month_12</th>\n",
       "      <th>year_2015</th>\n",
       "      <th>year_2016</th>\n",
       "      <th>year_2017</th>\n",
       "      <th>year_2018</th>\n",
       "    </tr>\n",
       "  </thead>\n",
       "  <tbody>\n",
       "    <tr>\n",
       "      <th>0</th>\n",
       "      <td>64236.62</td>\n",
       "      <td>1036.74</td>\n",
       "      <td>54454.85</td>\n",
       "      <td>48.16</td>\n",
       "      <td>8696.87</td>\n",
       "      <td>8603.62</td>\n",
       "      <td>93.25</td>\n",
       "      <td>0.0</td>\n",
       "      <td>conventional</td>\n",
       "      <td>1</td>\n",
       "      <td>...</td>\n",
       "      <td>0</td>\n",
       "      <td>0</td>\n",
       "      <td>0</td>\n",
       "      <td>0</td>\n",
       "      <td>0</td>\n",
       "      <td>1</td>\n",
       "      <td>1</td>\n",
       "      <td>0</td>\n",
       "      <td>0</td>\n",
       "      <td>0</td>\n",
       "    </tr>\n",
       "    <tr>\n",
       "      <th>1</th>\n",
       "      <td>118220.22</td>\n",
       "      <td>794.70</td>\n",
       "      <td>109149.67</td>\n",
       "      <td>130.50</td>\n",
       "      <td>8145.35</td>\n",
       "      <td>8042.21</td>\n",
       "      <td>103.14</td>\n",
       "      <td>0.0</td>\n",
       "      <td>conventional</td>\n",
       "      <td>1</td>\n",
       "      <td>...</td>\n",
       "      <td>0</td>\n",
       "      <td>0</td>\n",
       "      <td>0</td>\n",
       "      <td>0</td>\n",
       "      <td>0</td>\n",
       "      <td>1</td>\n",
       "      <td>1</td>\n",
       "      <td>0</td>\n",
       "      <td>0</td>\n",
       "      <td>0</td>\n",
       "    </tr>\n",
       "    <tr>\n",
       "      <th>2</th>\n",
       "      <td>51039.60</td>\n",
       "      <td>941.48</td>\n",
       "      <td>43838.39</td>\n",
       "      <td>75.78</td>\n",
       "      <td>6183.95</td>\n",
       "      <td>5986.26</td>\n",
       "      <td>197.69</td>\n",
       "      <td>0.0</td>\n",
       "      <td>conventional</td>\n",
       "      <td>1</td>\n",
       "      <td>...</td>\n",
       "      <td>0</td>\n",
       "      <td>0</td>\n",
       "      <td>0</td>\n",
       "      <td>0</td>\n",
       "      <td>1</td>\n",
       "      <td>0</td>\n",
       "      <td>1</td>\n",
       "      <td>0</td>\n",
       "      <td>0</td>\n",
       "      <td>0</td>\n",
       "    </tr>\n",
       "    <tr>\n",
       "      <th>3</th>\n",
       "      <td>55979.78</td>\n",
       "      <td>1184.27</td>\n",
       "      <td>48067.99</td>\n",
       "      <td>43.61</td>\n",
       "      <td>6683.91</td>\n",
       "      <td>6556.47</td>\n",
       "      <td>127.44</td>\n",
       "      <td>0.0</td>\n",
       "      <td>conventional</td>\n",
       "      <td>1</td>\n",
       "      <td>...</td>\n",
       "      <td>0</td>\n",
       "      <td>0</td>\n",
       "      <td>0</td>\n",
       "      <td>0</td>\n",
       "      <td>1</td>\n",
       "      <td>0</td>\n",
       "      <td>1</td>\n",
       "      <td>0</td>\n",
       "      <td>0</td>\n",
       "      <td>0</td>\n",
       "    </tr>\n",
       "    <tr>\n",
       "      <th>4</th>\n",
       "      <td>109428.33</td>\n",
       "      <td>703.75</td>\n",
       "      <td>101815.36</td>\n",
       "      <td>80.00</td>\n",
       "      <td>6829.22</td>\n",
       "      <td>6266.85</td>\n",
       "      <td>562.37</td>\n",
       "      <td>0.0</td>\n",
       "      <td>conventional</td>\n",
       "      <td>1</td>\n",
       "      <td>...</td>\n",
       "      <td>0</td>\n",
       "      <td>0</td>\n",
       "      <td>0</td>\n",
       "      <td>0</td>\n",
       "      <td>1</td>\n",
       "      <td>0</td>\n",
       "      <td>1</td>\n",
       "      <td>0</td>\n",
       "      <td>0</td>\n",
       "      <td>0</td>\n",
       "    </tr>\n",
       "  </tbody>\n",
       "</table>\n",
       "<p>5 rows × 79 columns</p>\n",
       "</div>"
      ],
      "text/plain": [
       "   Total Volume     4046       4225    4770  Total Bags  Small Bags  \\\n",
       "0      64236.62  1036.74   54454.85   48.16     8696.87     8603.62   \n",
       "1     118220.22   794.70  109149.67  130.50     8145.35     8042.21   \n",
       "2      51039.60   941.48   43838.39   75.78     6183.95     5986.26   \n",
       "3      55979.78  1184.27   48067.99   43.61     6683.91     6556.47   \n",
       "4     109428.33   703.75  101815.36   80.00     6829.22     6266.85   \n",
       "\n",
       "   Large Bags  XLarge Bags          type  reg_Albany  ...  month_7  month_8  \\\n",
       "0       93.25          0.0  conventional           1  ...        0        0   \n",
       "1      103.14          0.0  conventional           1  ...        0        0   \n",
       "2      197.69          0.0  conventional           1  ...        0        0   \n",
       "3      127.44          0.0  conventional           1  ...        0        0   \n",
       "4      562.37          0.0  conventional           1  ...        0        0   \n",
       "\n",
       "   month_9  month_10  month_11  month_12  year_2015  year_2016  year_2017  \\\n",
       "0        0         0         0         1          1          0          0   \n",
       "1        0         0         0         1          1          0          0   \n",
       "2        0         0         1         0          1          0          0   \n",
       "3        0         0         1         0          1          0          0   \n",
       "4        0         0         1         0          1          0          0   \n",
       "\n",
       "   year_2018  \n",
       "0          0  \n",
       "1          0  \n",
       "2          0  \n",
       "3          0  \n",
       "4          0  \n",
       "\n",
       "[5 rows x 79 columns]"
      ]
     },
     "execution_count": 38,
     "metadata": {},
     "output_type": "execute_result"
    }
   ],
   "source": [
    "\n",
    "data_train.head(5)"
   ]
  },
  {
   "cell_type": "code",
   "execution_count": 39,
   "metadata": {
    "_uuid": "c0e17a5c462e8272bc6220756e5cf867bec96c55"
   },
   "outputs": [
    {
     "data": {
      "text/plain": [
       "1.4789187668766877"
      ]
     },
     "execution_count": 39,
     "metadata": {},
     "output_type": "execute_result"
    }
   ],
   "source": [
    "targer_train.mean()"
   ]
  },
  {
   "cell_type": "code",
   "execution_count": 40,
   "metadata": {
    "_uuid": "71331a05b583ed02ef14a51cb1f4ec9f643b7a3b"
   },
   "outputs": [],
   "source": [
    "# ALEX: remove plotting\n",
    "# %config InlineBackend.figure_format = 'svg'\n",
    "# sns.set(font_scale = 1)\n",
    "# sns.distplot(targer_train);"
   ]
  },
  {
   "cell_type": "code",
   "execution_count": 41,
   "metadata": {
    "_uuid": "dafd205b201181bb77001123357809e03b5cb645"
   },
   "outputs": [],
   "source": [
    "# ALEX: remove plotting\n",
    "# sns.set(font_scale = 1)\n",
    "# sns.distplot(np.log1p(targer_train));\n",
    "_ = np.log1p(targer_train)"
   ]
  },
  {
   "cell_type": "markdown",
   "metadata": {
    "_uuid": "6d80bf7f7e93d38d7b0468edf64ff12d3eb913f6"
   },
   "source": [
    "Creamos la separacion entre la data de test y entrenamiento"
   ]
  },
  {
   "cell_type": "code",
   "execution_count": 42,
   "metadata": {
    "_uuid": "69eb26d9807eafd3a40ec46c81ca10ebfd420251"
   },
   "outputs": [
    {
     "data": {
      "text/html": [
       "<div>\n",
       "<style scoped>\n",
       "    .dataframe tbody tr th:only-of-type {\n",
       "        vertical-align: middle;\n",
       "    }\n",
       "\n",
       "    .dataframe tbody tr th {\n",
       "        vertical-align: top;\n",
       "    }\n",
       "\n",
       "    .dataframe thead th {\n",
       "        text-align: right;\n",
       "    }\n",
       "</style>\n",
       "<table border=\"1\" class=\"dataframe\">\n",
       "  <thead>\n",
       "    <tr style=\"text-align: right;\">\n",
       "      <th></th>\n",
       "      <th>Total Volume</th>\n",
       "      <th>4046</th>\n",
       "      <th>4225</th>\n",
       "      <th>4770</th>\n",
       "      <th>Total Bags</th>\n",
       "      <th>Small Bags</th>\n",
       "      <th>Large Bags</th>\n",
       "      <th>XLarge Bags</th>\n",
       "      <th>type</th>\n",
       "      <th>reg_Albany</th>\n",
       "      <th>...</th>\n",
       "      <th>month_7</th>\n",
       "      <th>month_8</th>\n",
       "      <th>month_9</th>\n",
       "      <th>month_10</th>\n",
       "      <th>month_11</th>\n",
       "      <th>month_12</th>\n",
       "      <th>year_2015</th>\n",
       "      <th>year_2016</th>\n",
       "      <th>year_2017</th>\n",
       "      <th>year_2018</th>\n",
       "    </tr>\n",
       "  </thead>\n",
       "  <tbody>\n",
       "    <tr>\n",
       "      <th>0</th>\n",
       "      <td>64236.62</td>\n",
       "      <td>1036.74</td>\n",
       "      <td>54454.85</td>\n",
       "      <td>48.16</td>\n",
       "      <td>8696.87</td>\n",
       "      <td>8603.62</td>\n",
       "      <td>93.25</td>\n",
       "      <td>0.0</td>\n",
       "      <td>conventional</td>\n",
       "      <td>1</td>\n",
       "      <td>...</td>\n",
       "      <td>0</td>\n",
       "      <td>0</td>\n",
       "      <td>0</td>\n",
       "      <td>0</td>\n",
       "      <td>0</td>\n",
       "      <td>1</td>\n",
       "      <td>1</td>\n",
       "      <td>0</td>\n",
       "      <td>0</td>\n",
       "      <td>0</td>\n",
       "    </tr>\n",
       "    <tr>\n",
       "      <th>1</th>\n",
       "      <td>118220.22</td>\n",
       "      <td>794.70</td>\n",
       "      <td>109149.67</td>\n",
       "      <td>130.50</td>\n",
       "      <td>8145.35</td>\n",
       "      <td>8042.21</td>\n",
       "      <td>103.14</td>\n",
       "      <td>0.0</td>\n",
       "      <td>conventional</td>\n",
       "      <td>1</td>\n",
       "      <td>...</td>\n",
       "      <td>0</td>\n",
       "      <td>0</td>\n",
       "      <td>0</td>\n",
       "      <td>0</td>\n",
       "      <td>0</td>\n",
       "      <td>1</td>\n",
       "      <td>1</td>\n",
       "      <td>0</td>\n",
       "      <td>0</td>\n",
       "      <td>0</td>\n",
       "    </tr>\n",
       "    <tr>\n",
       "      <th>2</th>\n",
       "      <td>51039.60</td>\n",
       "      <td>941.48</td>\n",
       "      <td>43838.39</td>\n",
       "      <td>75.78</td>\n",
       "      <td>6183.95</td>\n",
       "      <td>5986.26</td>\n",
       "      <td>197.69</td>\n",
       "      <td>0.0</td>\n",
       "      <td>conventional</td>\n",
       "      <td>1</td>\n",
       "      <td>...</td>\n",
       "      <td>0</td>\n",
       "      <td>0</td>\n",
       "      <td>0</td>\n",
       "      <td>0</td>\n",
       "      <td>1</td>\n",
       "      <td>0</td>\n",
       "      <td>1</td>\n",
       "      <td>0</td>\n",
       "      <td>0</td>\n",
       "      <td>0</td>\n",
       "    </tr>\n",
       "    <tr>\n",
       "      <th>3</th>\n",
       "      <td>55979.78</td>\n",
       "      <td>1184.27</td>\n",
       "      <td>48067.99</td>\n",
       "      <td>43.61</td>\n",
       "      <td>6683.91</td>\n",
       "      <td>6556.47</td>\n",
       "      <td>127.44</td>\n",
       "      <td>0.0</td>\n",
       "      <td>conventional</td>\n",
       "      <td>1</td>\n",
       "      <td>...</td>\n",
       "      <td>0</td>\n",
       "      <td>0</td>\n",
       "      <td>0</td>\n",
       "      <td>0</td>\n",
       "      <td>1</td>\n",
       "      <td>0</td>\n",
       "      <td>1</td>\n",
       "      <td>0</td>\n",
       "      <td>0</td>\n",
       "      <td>0</td>\n",
       "    </tr>\n",
       "    <tr>\n",
       "      <th>4</th>\n",
       "      <td>109428.33</td>\n",
       "      <td>703.75</td>\n",
       "      <td>101815.36</td>\n",
       "      <td>80.00</td>\n",
       "      <td>6829.22</td>\n",
       "      <td>6266.85</td>\n",
       "      <td>562.37</td>\n",
       "      <td>0.0</td>\n",
       "      <td>conventional</td>\n",
       "      <td>1</td>\n",
       "      <td>...</td>\n",
       "      <td>0</td>\n",
       "      <td>0</td>\n",
       "      <td>0</td>\n",
       "      <td>0</td>\n",
       "      <td>1</td>\n",
       "      <td>0</td>\n",
       "      <td>1</td>\n",
       "      <td>0</td>\n",
       "      <td>0</td>\n",
       "      <td>0</td>\n",
       "    </tr>\n",
       "  </tbody>\n",
       "</table>\n",
       "<p>5 rows × 79 columns</p>\n",
       "</div>"
      ],
      "text/plain": [
       "   Total Volume     4046       4225    4770  Total Bags  Small Bags  \\\n",
       "0      64236.62  1036.74   54454.85   48.16     8696.87     8603.62   \n",
       "1     118220.22   794.70  109149.67  130.50     8145.35     8042.21   \n",
       "2      51039.60   941.48   43838.39   75.78     6183.95     5986.26   \n",
       "3      55979.78  1184.27   48067.99   43.61     6683.91     6556.47   \n",
       "4     109428.33   703.75  101815.36   80.00     6829.22     6266.85   \n",
       "\n",
       "   Large Bags  XLarge Bags          type  reg_Albany  ...  month_7  month_8  \\\n",
       "0       93.25          0.0  conventional           1  ...        0        0   \n",
       "1      103.14          0.0  conventional           1  ...        0        0   \n",
       "2      197.69          0.0  conventional           1  ...        0        0   \n",
       "3      127.44          0.0  conventional           1  ...        0        0   \n",
       "4      562.37          0.0  conventional           1  ...        0        0   \n",
       "\n",
       "   month_9  month_10  month_11  month_12  year_2015  year_2016  year_2017  \\\n",
       "0        0         0         0         1          1          0          0   \n",
       "1        0         0         0         1          1          0          0   \n",
       "2        0         0         1         0          1          0          0   \n",
       "3        0         0         1         0          1          0          0   \n",
       "4        0         0         1         0          1          0          0   \n",
       "\n",
       "   year_2018  \n",
       "0          0  \n",
       "1          0  \n",
       "2          0  \n",
       "3          0  \n",
       "4          0  \n",
       "\n",
       "[5 rows x 79 columns]"
      ]
     },
     "execution_count": 42,
     "metadata": {},
     "output_type": "execute_result"
    }
   ],
   "source": [
    "data_train.head()"
   ]
  },
  {
   "cell_type": "code",
   "execution_count": 43,
   "metadata": {
    "_uuid": "d569bf336553f9a277f423f89d46f16f27f45a79"
   },
   "outputs": [],
   "source": [
    "# ALEX: remove ML code\n",
    "# from sklearn.model_selection import train_test_split\n",
    "# X_train,X_test,y_train,y_test = train_test_split(data_train,targer_train,test_size=0.2)\n",
    "# print(X_train.shape,y_train.shape)\n",
    "# print(X_test.shape,y_test.shape)"
   ]
  },
  {
   "cell_type": "markdown",
   "metadata": {
    "_uuid": "99e01cde11574c40353e037154498b9390f2e360"
   },
   "source": [
    "## Luego de este punto podemos trabajarlo con un modelo de prediccion\n",
    "De acuerdo con el modelo de prediccion podemos trabajar los datos para predecir el precio promedio individual, empezamos con el RIDGE"
   ]
  },
  {
   "cell_type": "code",
   "execution_count": 44,
   "metadata": {
    "_uuid": "c966b9882245cf1c37a53f7e69fa8cb47114cfc0"
   },
   "outputs": [],
   "source": [
    "#Probamos con un modelo simple Ridge\n",
    "# ALEX: remove ML code\n",
    "# from sklearn.linear_model import Ridge\n",
    "# ridge = Ridge(random_state=17)\n",
    "# ridge.fit(X_train, y_train);\n",
    "# ridge_pred = ridge.predict(X_test)"
   ]
  },
  {
   "cell_type": "code",
   "execution_count": 45,
   "metadata": {
    "_uuid": "cfe4e4ddd48a8f7fd83159202603acdecf873e2e",
    "scrolled": true
   },
   "outputs": [],
   "source": [
    "# ALEX: remove plotting\n",
    "# sns.set(font_scale = 1)\n",
    "# plt.hist(y_test, bins=50, alpha=.5, color='red', label='true', range=(0,4));\n",
    "# plt.hist(ridge_pred, bins=50, alpha=.5, color='green', label='pred', range=(0,4));\n",
    "# plt.legend();"
   ]
  },
  {
   "cell_type": "code",
   "execution_count": 46,
   "metadata": {
    "_uuid": "81148b926916537006a5349d010955a8ca027d4b"
   },
   "outputs": [],
   "source": [
    "# ALEX: remove ML code\n",
    "# mean_absolute_error(y_test, ridge_pred)"
   ]
  },
  {
   "cell_type": "markdown",
   "metadata": {
    "_uuid": "a256e34d1a9a5acc08fa34f8a1cc7162597ad9de"
   },
   "source": [
    "Probamos con varios modelos para determinar el que nos da mejores resultados con la configuracion estandar"
   ]
  },
  {
   "cell_type": "code",
   "execution_count": 47,
   "metadata": {
    "_uuid": "d2fac6c39cac8e78a0248a91da07ec6bcf5b6eec"
   },
   "outputs": [],
   "source": [
    "# ALEX: remove ML code\n",
    "# from sklearn.model_selection import train_test_split\n",
    "# from sklearn.metrics import accuracy_score\n",
    "# from sklearn.tree import DecisionTreeRegressor\n",
    "# from sklearn.ensemble import RandomForestRegressor\n",
    "# from sklearn.neighbors import KNeighborsRegressor\n",
    "# from sklearn.svm import SVR\n",
    "# from sklearn.ensemble import AdaBoostRegressor\n",
    "# from sklearn.ensemble import GradientBoostingRegressor\n",
    "# from xgboost import XGBRegressor\n",
    "# from catboost import CatBoostRegressor\n",
    "# from sklearn.linear_model import Lasso,Ridge,BayesianRidge,ElasticNet,HuberRegressor,LinearRegression,LogisticRegression,SGDRegressor\n",
    "# from sklearn.metrics import mean_squared_error\n",
    "# import numpy as np\n",
    "# import warnings\n",
    "# warnings.filterwarnings(\"ignore\")\n",
    "\n",
    "# # print X_train.shape, X_test.shape\n",
    "\n",
    "# classifiers = [['DecisionTree :',DecisionTreeRegressor()],\n",
    "#                ['RandomForest :',RandomForestRegressor()],\n",
    "#                ['KNeighbours :', KNeighborsRegressor(n_neighbors = 2)],\n",
    "#                ['SVM :', SVR()],\n",
    "#                ['AdaBoostClassifier :', AdaBoostRegressor()],\n",
    "#                ['GradientBoostingClassifier: ', GradientBoostingRegressor()],\n",
    "#                ['Xgboost: ', XGBRegressor()],\n",
    "#                ['CatBoost: ', CatBoostRegressor(logging_level='Silent')],\n",
    "#                ['Lasso: ', Lasso()],\n",
    "#                ['Ridge: ', Ridge(random_state=17)],\n",
    "#                ['BayesianRidge: ', BayesianRidge()],\n",
    "#                ['ElasticNet: ', ElasticNet()],\n",
    "#                ['HuberRegressor: ', HuberRegressor()]]\n",
    "\n",
    "# print(\"Accuracy Results...\")\n",
    "\n",
    "\n",
    "# for name,classifier in classifiers:\n",
    "#     classifier = classifier\n",
    "#     classifier.fit(X_train, y_train)\n",
    "#     predictions = classifier.predict(X_test)\n",
    "#     print(name, (np.sqrt(mean_squared_error(y_test, predictions))))"
   ]
  },
  {
   "cell_type": "markdown",
   "metadata": {
    "_uuid": "fdb4ebcd5723206b8dd69019037d68cd971837d0"
   },
   "source": [
    "En este caso vamos a tomar el RandomForest y lo probamos de manera individual con el MAE"
   ]
  },
  {
   "cell_type": "code",
   "execution_count": 48,
   "metadata": {
    "_uuid": "e8795dbea11e41d0d39bcd53b0bdc64a49ff02b3"
   },
   "outputs": [],
   "source": [
    "# ALEX: remove ML code\n",
    "# classifier = RandomForestRegressor()\n",
    "# classifier.fit(X_train, y_train)\n",
    "# predictions = classifier.predict(X_test)\n"
   ]
  },
  {
   "cell_type": "code",
   "execution_count": 49,
   "metadata": {
    "_uuid": "55acf12ec503440409a6609e52895b88212a6d7a"
   },
   "outputs": [],
   "source": [
    "# ALEX: remove ML code\n",
    "# mean_absolute_error(y_test, predictions)"
   ]
  },
  {
   "cell_type": "code",
   "execution_count": 50,
   "metadata": {
    "_uuid": "c51d380f2e5de1bfdf438a833cca9037e0e48ae9"
   },
   "outputs": [],
   "source": [
    "# ALEX: remove ML code\n",
    "# sns.set(font_scale = 1)\n",
    "# data = pd.DataFrame({'Y Test':y_test , 'Pred':predictions},columns=['Y Test','Pred'])\n",
    "# sns.lmplot(x='Y Test',y='Pred',data=data,palette='rainbow')\n",
    "# data.head()"
   ]
  },
  {
   "cell_type": "code",
   "execution_count": null,
   "metadata": {
    "_uuid": "925b0053be215fdb715641013aa29bb69bcd0638"
   },
   "outputs": [],
   "source": []
  }
 ],
 "metadata": {
  "kernelspec": {
   "display_name": "Python 3 (ipykernel)",
   "language": "python",
   "name": "python3"
  },
  "language_info": {
   "codemirror_mode": {
    "name": "ipython",
    "version": 3
   },
   "file_extension": ".py",
   "mimetype": "text/x-python",
   "name": "python",
   "nbconvert_exporter": "python",
   "pygments_lexer": "ipython3",
   "version": "3.10.16"
  }
 },
 "nbformat": 4,
 "nbformat_minor": 1
}
