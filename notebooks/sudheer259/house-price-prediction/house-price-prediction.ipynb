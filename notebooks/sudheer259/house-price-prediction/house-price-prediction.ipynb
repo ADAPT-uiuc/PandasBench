{
 "cells": [
  {
   "cell_type": "code",
   "execution_count": null,
   "metadata": {},
   "outputs": [],
   "source": [
    "import os\n",
    "\n",
    "def scale_input_data(scale_factor):\n",
    "  file_bases = ['./input/train', './input/test']\n",
    "  for file_base in file_bases:\n",
    "    import pandas as pd\n",
    "    import shutil\n",
    "    if scale_factor == 1.0:\n",
    "      shutil.copyfile(file_base + '.csv', file_base + '.scaled.csv')\n",
    "      continue\n",
    "    df_to_scale = pd.read_csv(file_base + '.csv')\n",
    "    new_num_rows = int(scale_factor * len(df_to_scale))\n",
    "    if scale_factor <= 1.0:\n",
    "      df_to_scale = df_to_scale.iloc[:new_num_rows]\n",
    "    else:\n",
    "      while len(df_to_scale) < new_num_rows:\n",
    "        df_to_scale = pd.concat([df_to_scale, df_to_scale[:min(new_num_rows - len(df_to_scale), len(df_to_scale))]])\n",
    "    df_to_scale.to_csv(file_base + '.scaled.csv', index=False)\n",
    "\n",
    "if 'INPUT_SCALE_FACTOR' in os.environ:\n",
    "  scale_input_data(float(os.environ['INPUT_SCALE_FACTOR']))"
   ]
  },
  {
   "cell_type": "markdown",
   "metadata": {
    "_cell_guid": "258103f4-ff4a-4488-a602-78bb580182cb",
    "_uuid": "d86c2ebfafc9a9033d597299dfc920753719afc1"
   },
   "source": [
    "# HOUSE PRICES PREDICTION"
   ]
  },
  {
   "cell_type": "markdown",
   "metadata": {
    "_cell_guid": "3889cc03-e2a2-43ce-83ee-a054060a57cd",
    "_uuid": "20ba4e811e8bb9b560fff808004806c5ce8ea950"
   },
   "source": [
    "# Importing libraries"
   ]
  },
  {
   "cell_type": "code",
   "execution_count": 1,
   "metadata": {
    "_cell_guid": "e20a0e97-77ca-4ba2-acb4-9fb49cdd969c",
    "_uuid": "d6a8b882d7ccc98503819af1d6c6257793035888"
   },
   "outputs": [],
   "source": [
    "import numpy as np\n",
    "# import pandas as pd\n",
    "import os\n",
    "exec(os.environ['IREWR_IMPORTS'])\n",
    "# FIRST-AUTHOR: remove plotting\n",
    "# from matplotlib import pyplot as plt\n",
    "# import seaborn as sns\n",
    "# %matplotlib inline"
   ]
  },
  {
   "cell_type": "code",
   "execution_count": 2,
   "metadata": {
    "_cell_guid": "4d79ea02-c262-4337-bd65-c00020db8cd4",
    "_uuid": "8ed96faec436b62d0052affcb043e3d82547320c"
   },
   "outputs": [],
   "source": [
    "#Loading the Data\n",
    "train = pd.read_csv('./input/train.scaled.csv')"
   ]
  },
  {
   "cell_type": "markdown",
   "metadata": {
    "_cell_guid": "27452572-ffde-404f-bae5-af8761ab2b7e",
    "_uuid": "56fe83036dd8e085c7b762b3eb17bbc1798b1198"
   },
   "source": [
    "# MISSING VALUES IMPUTATION"
   ]
  },
  {
   "cell_type": "code",
   "execution_count": 3,
   "metadata": {
    "_cell_guid": "25e5d533-6a8b-4ef1-b449-7283cff84c08",
    "_uuid": "142de4e4ad4e2660a557225bcbc865bca7a4c63e"
   },
   "outputs": [
    {
     "data": {
      "text/plain": [
       "PoolQC          1453\n",
       "MiscFeature     1406\n",
       "Alley           1369\n",
       "Fence           1179\n",
       "MasVnrType       872\n",
       "FireplaceQu      690\n",
       "LotFrontage      259\n",
       "GarageYrBlt       81\n",
       "GarageCond        81\n",
       "GarageType        81\n",
       "GarageFinish      81\n",
       "GarageQual        81\n",
       "BsmtFinType2      38\n",
       "BsmtExposure      38\n",
       "BsmtQual          37\n",
       "BsmtCond          37\n",
       "BsmtFinType1      37\n",
       "MasVnrArea         8\n",
       "Electrical         1\n",
       "Id                 0\n",
       "dtype: int64"
      ]
     },
     "execution_count": 3,
     "metadata": {},
     "output_type": "execute_result"
    }
   ],
   "source": [
    "nulls = train.isnull().sum().sort_values(ascending=False)\n",
    "nulls.head(20)"
   ]
  },
  {
   "cell_type": "markdown",
   "metadata": {
    "_cell_guid": "2676312b-21f5-4173-a76c-47ff164bd231",
    "_uuid": "22936e23b59bfbd1aa6212b7bcf98fb5f5d3f8bc"
   },
   "source": [
    "From the above dataframe -'nulls' we came to know that the attributes PoolQC,MiscFeature,Alley and Fence are having morethan 60% of the values as 'nan'.so, its better to remove them as these columns won't give much info about the SalePrice."
   ]
  },
  {
   "cell_type": "code",
   "execution_count": 4,
   "metadata": {
    "_cell_guid": "47a90047-8471-4c6b-88f9-e8e0293488b9",
    "_uuid": "d4e1857aae7bd1ca3c8bf1fc452b5d57bf73ff89"
   },
   "outputs": [],
   "source": [
    "train = train.drop(['Id','PoolQC','MiscFeature','Alley','Fence'],axis = 1)"
   ]
  },
  {
   "cell_type": "markdown",
   "metadata": {
    "_cell_guid": "ab0fc18a-a059-4c2a-a176-50ad196e2d0b",
    "_uuid": "4565e9cccf68eb00e604fdeab1e01b3e3d6920e2"
   },
   "source": [
    "## FireplaceQu"
   ]
  },
  {
   "cell_type": "code",
   "execution_count": 5,
   "metadata": {
    "_cell_guid": "4afd672e-41b9-4f3e-a65c-445947fea06c",
    "_uuid": "e48b3dfb30725a8937935f925a149044834aee6e"
   },
   "outputs": [
    {
     "data": {
      "text/html": [
       "<div>\n",
       "<style scoped>\n",
       "    .dataframe tbody tr th:only-of-type {\n",
       "        vertical-align: middle;\n",
       "    }\n",
       "\n",
       "    .dataframe tbody tr th {\n",
       "        vertical-align: top;\n",
       "    }\n",
       "\n",
       "    .dataframe thead th {\n",
       "        text-align: right;\n",
       "    }\n",
       "</style>\n",
       "<table border=\"1\" class=\"dataframe\">\n",
       "  <thead>\n",
       "    <tr style=\"text-align: right;\">\n",
       "      <th></th>\n",
       "      <th>Fireplaces</th>\n",
       "      <th>FireplaceQu</th>\n",
       "    </tr>\n",
       "  </thead>\n",
       "  <tbody>\n",
       "    <tr>\n",
       "      <th>0</th>\n",
       "      <td>0</td>\n",
       "      <td>NaN</td>\n",
       "    </tr>\n",
       "    <tr>\n",
       "      <th>1</th>\n",
       "      <td>1</td>\n",
       "      <td>TA</td>\n",
       "    </tr>\n",
       "    <tr>\n",
       "      <th>2</th>\n",
       "      <td>1</td>\n",
       "      <td>TA</td>\n",
       "    </tr>\n",
       "    <tr>\n",
       "      <th>3</th>\n",
       "      <td>1</td>\n",
       "      <td>Gd</td>\n",
       "    </tr>\n",
       "    <tr>\n",
       "      <th>4</th>\n",
       "      <td>1</td>\n",
       "      <td>TA</td>\n",
       "    </tr>\n",
       "    <tr>\n",
       "      <th>5</th>\n",
       "      <td>0</td>\n",
       "      <td>NaN</td>\n",
       "    </tr>\n",
       "    <tr>\n",
       "      <th>6</th>\n",
       "      <td>1</td>\n",
       "      <td>Gd</td>\n",
       "    </tr>\n",
       "    <tr>\n",
       "      <th>7</th>\n",
       "      <td>2</td>\n",
       "      <td>TA</td>\n",
       "    </tr>\n",
       "    <tr>\n",
       "      <th>8</th>\n",
       "      <td>2</td>\n",
       "      <td>TA</td>\n",
       "    </tr>\n",
       "    <tr>\n",
       "      <th>9</th>\n",
       "      <td>2</td>\n",
       "      <td>TA</td>\n",
       "    </tr>\n",
       "  </tbody>\n",
       "</table>\n",
       "</div>"
      ],
      "text/plain": [
       "   Fireplaces FireplaceQu\n",
       "0           0         NaN\n",
       "1           1          TA\n",
       "2           1          TA\n",
       "3           1          Gd\n",
       "4           1          TA\n",
       "5           0         NaN\n",
       "6           1          Gd\n",
       "7           2          TA\n",
       "8           2          TA\n",
       "9           2          TA"
      ]
     },
     "execution_count": 5,
     "metadata": {},
     "output_type": "execute_result"
    }
   ],
   "source": [
    "train[['Fireplaces','FireplaceQu']].head(10)"
   ]
  },
  {
   "cell_type": "code",
   "execution_count": 6,
   "metadata": {
    "_cell_guid": "a4ac46f5-44e7-457c-a864-91944466c52c",
    "_uuid": "87fd6d8c49f04ce9b1ae280b0823f19c2e9f3cdf"
   },
   "outputs": [
    {
     "data": {
      "text/plain": [
       "690"
      ]
     },
     "execution_count": 6,
     "metadata": {},
     "output_type": "execute_result"
    }
   ],
   "source": [
    "train['FireplaceQu'].isnull().sum()"
   ]
  },
  {
   "cell_type": "code",
   "execution_count": 7,
   "metadata": {
    "_cell_guid": "6956b052-06a3-4124-a80b-75a9e0b39f9a",
    "_uuid": "56fc3ec1de8a274a090092840a559839f561c1b4"
   },
   "outputs": [
    {
     "data": {
      "text/plain": [
       "Fireplaces\n",
       "0    690\n",
       "1    650\n",
       "2    115\n",
       "3      5\n",
       "Name: count, dtype: int64"
      ]
     },
     "execution_count": 7,
     "metadata": {},
     "output_type": "execute_result"
    }
   ],
   "source": [
    "train['Fireplaces'].value_counts()"
   ]
  },
  {
   "cell_type": "markdown",
   "metadata": {
    "_cell_guid": "9809821c-0f7a-4743-8b90-34810e818b68",
    "_uuid": "ed3c4074df260e0d5003073c670ac7ee029146d1"
   },
   "source": [
    "The attribute 'FireplaceQu' is having 690 null values.If we compare the columns 'FireplaceQu' and 'Fireplaces' the indexes which are having the zeros in the Fireplaces column are having the 'nan' values in FireplaceQu. It tells that the houses which are not having the Fireplaces are having nan values in FireplaceQu so, i will replace these nulls with \"no Fireplace\" i,e 'NF'  "
   ]
  },
  {
   "cell_type": "code",
   "execution_count": 8,
   "metadata": {
    "_cell_guid": "95b1f0fe-aaa2-4580-8f16-ed01c7836996",
    "_uuid": "00745ed5c16824962155d28cbfd1f330c349c45c"
   },
   "outputs": [],
   "source": [
    "train['FireplaceQu']=train['FireplaceQu'].fillna('NF')"
   ]
  },
  {
   "cell_type": "markdown",
   "metadata": {
    "_cell_guid": "4645bf6e-445f-4b1e-8ca6-7fed973cb948",
    "_uuid": "152701cbcaa4126e7bc226a45255985892be5a90"
   },
   "source": [
    "## LotFrontage"
   ]
  },
  {
   "cell_type": "code",
   "execution_count": 9,
   "metadata": {
    "_cell_guid": "f71ef78a-14f5-4eb6-a482-1547b0da8f9e",
    "_uuid": "21e4307984393d637c038f4215b903fb7c8aa6f3"
   },
   "outputs": [],
   "source": [
    "train['LotFrontage'] =train['LotFrontage'].fillna(value=train['LotFrontage'].mean())"
   ]
  },
  {
   "cell_type": "markdown",
   "metadata": {
    "_cell_guid": "d8fdd8d9-98e9-400e-af83-f5bf417681db",
    "_uuid": "5ff6d002adbf4b676d7f470c2771190dfb2e9184"
   },
   "source": [
    "## Attributes related to \"GARAGE\""
   ]
  },
  {
   "cell_type": "code",
   "execution_count": 10,
   "metadata": {
    "_cell_guid": "f7ac55cc-281e-4db5-b532-115dbf1c4613",
    "_uuid": "99a8e917695c98f46a2a880ad1af2e3c4587b3a4"
   },
   "outputs": [
    {
     "data": {
      "text/plain": [
       "81"
      ]
     },
     "execution_count": 10,
     "metadata": {},
     "output_type": "execute_result"
    }
   ],
   "source": [
    "train['GarageType'].isnull().sum()"
   ]
  },
  {
   "cell_type": "code",
   "execution_count": 11,
   "metadata": {
    "_cell_guid": "36d72546-d3e7-4f89-ab40-39ee262c16cb",
    "_uuid": "237c1d60647b0450aabf10d77a5e6b1d5761e038"
   },
   "outputs": [
    {
     "data": {
      "text/plain": [
       "81"
      ]
     },
     "execution_count": 11,
     "metadata": {},
     "output_type": "execute_result"
    }
   ],
   "source": [
    "train['GarageCond'].isnull().sum()"
   ]
  },
  {
   "cell_type": "code",
   "execution_count": 12,
   "metadata": {
    "_cell_guid": "aa0352b6-4272-4810-9515-86706749a75a",
    "_uuid": "7a04c27401e988f71ef5aca81908c93f15108a8f"
   },
   "outputs": [
    {
     "data": {
      "text/plain": [
       "81"
      ]
     },
     "execution_count": 12,
     "metadata": {},
     "output_type": "execute_result"
    }
   ],
   "source": [
    "train['GarageFinish'].isnull().sum()"
   ]
  },
  {
   "cell_type": "code",
   "execution_count": 13,
   "metadata": {
    "_cell_guid": "0412f5da-58f5-4887-82d2-3ad5bfb0172c",
    "_uuid": "465e4ea507900333df54ad444611edef951400eb"
   },
   "outputs": [
    {
     "data": {
      "text/plain": [
       "81"
      ]
     },
     "execution_count": 13,
     "metadata": {},
     "output_type": "execute_result"
    }
   ],
   "source": [
    "train['GarageYrBlt'].isnull().sum()"
   ]
  },
  {
   "cell_type": "code",
   "execution_count": 14,
   "metadata": {
    "_cell_guid": "00403c54-8f8a-42e7-b3c1-e199e6c62aa2",
    "_uuid": "4121d0633d3a8039400d7fc11edf43f36d29291d"
   },
   "outputs": [
    {
     "data": {
      "text/plain": [
       "81"
      ]
     },
     "execution_count": 14,
     "metadata": {},
     "output_type": "execute_result"
    }
   ],
   "source": [
    "train['GarageQual'].isnull().sum()"
   ]
  },
  {
   "cell_type": "code",
   "execution_count": 15,
   "metadata": {
    "_cell_guid": "c4382441-542e-4fcd-a1cf-e975848bd0e4",
    "_uuid": "0fbb81b73c1f806deb6a720aae0161ac868454f0"
   },
   "outputs": [
    {
     "data": {
      "text/plain": [
       "GarageArea\n",
       "0      81\n",
       "440    49\n",
       "576    47\n",
       "240    38\n",
       "484    34\n",
       "Name: count, dtype: int64"
      ]
     },
     "execution_count": 15,
     "metadata": {},
     "output_type": "execute_result"
    }
   ],
   "source": [
    "train['GarageArea'].value_counts().head()"
   ]
  },
  {
   "cell_type": "markdown",
   "metadata": {
    "_cell_guid": "de971c82-fe7b-442a-acf4-0d5b6fd73d6e",
    "_uuid": "b527c3b38ce9d2ad085b4a9b8bacb353497ebc1b"
   },
   "source": [
    "We can observe that all the columns related to Garage are having the sama number of null values. so, there should be a relationship among them and if we look at the 'GarageArea' column it is having the 81 zeros which is equal to no: of 'nans' in these columns.Hence we can conclude that the houses without Garage Area are having 'nan' at all these columns.\n",
    "\n",
    ">> I will replace these nans with 'No GarageArea'----> 'NG' "
   ]
  },
  {
   "cell_type": "code",
   "execution_count": 16,
   "metadata": {
    "_cell_guid": "30dc3106-6729-4cde-9722-9ca188df85f2",
    "_uuid": "7acc2095959e3b929a0a775a350a79199813f87b"
   },
   "outputs": [],
   "source": [
    "train['GarageType']=train['GarageType'].fillna('NG')\n",
    "train['GarageCond']=train['GarageCond'].fillna('NG')\n",
    "train['GarageFinish']=train['GarageFinish'].fillna('NG')\n",
    "train['GarageYrBlt']=train['GarageYrBlt'].fillna('NG')\n",
    "train['GarageQual']=train['GarageQual'].fillna('NG')"
   ]
  },
  {
   "cell_type": "markdown",
   "metadata": {
    "_cell_guid": "378cf4d4-aafe-4653-957d-ce8c5f53e96b",
    "_uuid": "a2da7c08ef40e5d707e179d41cc844aa5cda3b33"
   },
   "source": [
    "## Bsmt"
   ]
  },
  {
   "cell_type": "code",
   "execution_count": 17,
   "metadata": {
    "_cell_guid": "e72c5448-8652-4c8a-a514-45151bd13d1f",
    "_uuid": "5aff3d4b7d799dc3ce8e1d8dea44dc5f41bd0a50"
   },
   "outputs": [
    {
     "data": {
      "text/plain": [
       "38"
      ]
     },
     "execution_count": 17,
     "metadata": {},
     "output_type": "execute_result"
    }
   ],
   "source": [
    "train.BsmtExposure.isnull().sum()"
   ]
  },
  {
   "cell_type": "code",
   "execution_count": 18,
   "metadata": {
    "_cell_guid": "996672f5-4abd-4b9d-a2c3-b59fa7f33266",
    "_uuid": "aefdad8d016a30e2753486d74e18f9224000ef18"
   },
   "outputs": [
    {
     "data": {
      "text/plain": [
       "38"
      ]
     },
     "execution_count": 18,
     "metadata": {},
     "output_type": "execute_result"
    }
   ],
   "source": [
    "train.BsmtFinType2.isnull().sum()"
   ]
  },
  {
   "cell_type": "code",
   "execution_count": 19,
   "metadata": {
    "_cell_guid": "8bb7723d-954b-4cc9-ac9c-a0cc44b7c682",
    "_uuid": "e5c538a04f7839d5a7b35e8c828a6867d9849863"
   },
   "outputs": [
    {
     "data": {
      "text/plain": [
       "37"
      ]
     },
     "execution_count": 19,
     "metadata": {},
     "output_type": "execute_result"
    }
   ],
   "source": [
    "train.BsmtFinType1.isnull().sum()"
   ]
  },
  {
   "cell_type": "code",
   "execution_count": 20,
   "metadata": {
    "_cell_guid": "6e00bd4a-bf9f-4a09-853c-138e28e3a0d4",
    "_uuid": "3a64a36f6ccf6855629de7463e731ebd96bf81e2"
   },
   "outputs": [
    {
     "data": {
      "text/plain": [
       "37"
      ]
     },
     "execution_count": 20,
     "metadata": {},
     "output_type": "execute_result"
    }
   ],
   "source": [
    "train.BsmtCond.isnull().sum() "
   ]
  },
  {
   "cell_type": "code",
   "execution_count": 21,
   "metadata": {
    "_cell_guid": "afb96030-fc0d-484d-96ae-8979e0a17d55",
    "_uuid": "3dc4e16cba652f5fdde72174eb3b6dc0180aeb43"
   },
   "outputs": [
    {
     "data": {
      "text/plain": [
       "37"
      ]
     },
     "execution_count": 21,
     "metadata": {},
     "output_type": "execute_result"
    }
   ],
   "source": [
    "train.BsmtQual.isnull().sum()"
   ]
  },
  {
   "cell_type": "code",
   "execution_count": 22,
   "metadata": {
    "_cell_guid": "c2896a46-5752-4807-a8b8-9796b86800a8",
    "_uuid": "8519b0ff196ac27bc77f160ae29d4764cc16f656"
   },
   "outputs": [
    {
     "data": {
      "text/plain": [
       "TotalBsmtSF\n",
       "0       37\n",
       "864     35\n",
       "672     17\n",
       "912     15\n",
       "1040    14\n",
       "Name: count, dtype: int64"
      ]
     },
     "execution_count": 22,
     "metadata": {},
     "output_type": "execute_result"
    }
   ],
   "source": [
    "train.TotalBsmtSF.value_counts().head()"
   ]
  },
  {
   "cell_type": "code",
   "execution_count": 23,
   "metadata": {
    "_cell_guid": "4fec44e6-4d98-4649-9e5c-2e0884a245be",
    "_uuid": "89c079a828f9848a16b0de1437a314448574a055"
   },
   "outputs": [],
   "source": [
    "train['BsmtExposure']=train['BsmtExposure'].fillna('NB')\n",
    "train['BsmtFinType2']=train['BsmtFinType2'].fillna('NB')\n",
    "train['BsmtFinType1']=train['BsmtFinType1'].fillna('NB')\n",
    "train['BsmtCond']=train['BsmtCond'].fillna('NB')\n",
    "train['BsmtQual']=train['BsmtQual'].fillna('NB')"
   ]
  },
  {
   "cell_type": "markdown",
   "metadata": {
    "_cell_guid": "df2303dd-2fd5-4473-94f4-20461e189966",
    "_uuid": "00f046657b31954d279a364bc418b39fc759b5ff"
   },
   "source": [
    "## MasVnr"
   ]
  },
  {
   "cell_type": "code",
   "execution_count": 24,
   "metadata": {
    "_cell_guid": "6079183a-e9b2-419f-8af9-c15369711ffe",
    "_uuid": "6797d8e260c4982cc262f543bc026745e6049790"
   },
   "outputs": [],
   "source": [
    "train['MasVnrArea'] = train['MasVnrArea'].fillna(train['MasVnrArea'].mean())"
   ]
  },
  {
   "cell_type": "code",
   "execution_count": 25,
   "metadata": {
    "_cell_guid": "564f6ba2-427e-4b59-97b8-98ce31d91d8a",
    "_uuid": "c54d84276c72651b7e906e8b92ed070e417d17d6"
   },
   "outputs": [],
   "source": [
    "train['MasVnrType'] = train['MasVnrType'].fillna('none')"
   ]
  },
  {
   "cell_type": "markdown",
   "metadata": {
    "_cell_guid": "ecbff735-19f1-42b9-8465-5f2edaf7f2a5",
    "_uuid": "8a3fd183e844195fe2d06eb6886bcb54dc66b8fb"
   },
   "source": [
    "## Electrical"
   ]
  },
  {
   "cell_type": "code",
   "execution_count": 26,
   "metadata": {
    "_cell_guid": "02fe5f10-3067-4735-89ef-da675918e0fe",
    "_uuid": "acc0105ba2e8068e87e5ec42dfd338b32786e00f"
   },
   "outputs": [],
   "source": [
    "train.Electrical = train.Electrical.fillna('SBrkr')"
   ]
  },
  {
   "cell_type": "code",
   "execution_count": 27,
   "metadata": {
    "_cell_guid": "0c52513b-2ed6-43f2-aa6c-e849562af393",
    "_uuid": "e35066e36241dc6b3987de74f9fe41cf0bdcf3bd"
   },
   "outputs": [
    {
     "data": {
      "text/plain": [
       "0"
      ]
     },
     "execution_count": 27,
     "metadata": {},
     "output_type": "execute_result"
    }
   ],
   "source": [
    "train.isnull().sum().sum()"
   ]
  },
  {
   "cell_type": "markdown",
   "metadata": {
    "_cell_guid": "59a8a52e-bde7-43bb-b7fb-408f660e51c5",
    "_uuid": "be8c0c25a918b64fa810615959342d8f019b91e7"
   },
   "source": [
    "# OUTLIERS"
   ]
  },
  {
   "cell_type": "code",
   "execution_count": 28,
   "metadata": {
    "_cell_guid": "e5fa1169-f9be-49e2-8685-de9525ed3acf",
    "_uuid": "f85ff1b847e9c2d6c9a6f7b9750a64627d7c0511"
   },
   "outputs": [],
   "source": [
    "num_train = train._get_numeric_data()"
   ]
  },
  {
   "cell_type": "code",
   "execution_count": 29,
   "metadata": {
    "_cell_guid": "fc8eb195-1990-4d2f-9d6f-587f2ff4d99b",
    "_uuid": "2a9d99da455a58a879b5eb1a215d36257e7b70d8"
   },
   "outputs": [
    {
     "data": {
      "text/plain": [
       "Index(['MSSubClass', 'LotFrontage', 'LotArea', 'OverallQual', 'OverallCond',\n",
       "       'YearBuilt', 'YearRemodAdd', 'MasVnrArea', 'BsmtFinSF1', 'BsmtFinSF2',\n",
       "       'BsmtUnfSF', 'TotalBsmtSF', '1stFlrSF', '2ndFlrSF', 'LowQualFinSF',\n",
       "       'GrLivArea', 'BsmtFullBath', 'BsmtHalfBath', 'FullBath', 'HalfBath',\n",
       "       'BedroomAbvGr', 'KitchenAbvGr', 'TotRmsAbvGrd', 'Fireplaces',\n",
       "       'GarageCars', 'GarageArea', 'WoodDeckSF', 'OpenPorchSF',\n",
       "       'EnclosedPorch', '3SsnPorch', 'ScreenPorch', 'PoolArea', 'MiscVal',\n",
       "       'MoSold', 'YrSold', 'SalePrice'],\n",
       "      dtype='object')"
      ]
     },
     "execution_count": 29,
     "metadata": {},
     "output_type": "execute_result"
    }
   ],
   "source": [
    "num_train.columns"
   ]
  },
  {
   "cell_type": "code",
   "execution_count": 30,
   "metadata": {
    "_cell_guid": "da3c6ca1-9b35-4181-879c-d8962d7fe5f6",
    "_uuid": "dbb79e8c2ddc9c374d13f879ec0e49004527ab07"
   },
   "outputs": [
    {
     "data": {
      "text/html": [
       "<div>\n",
       "<style scoped>\n",
       "    .dataframe tbody tr th:only-of-type {\n",
       "        vertical-align: middle;\n",
       "    }\n",
       "\n",
       "    .dataframe tbody tr th {\n",
       "        vertical-align: top;\n",
       "    }\n",
       "\n",
       "    .dataframe thead th {\n",
       "        text-align: right;\n",
       "    }\n",
       "</style>\n",
       "<table border=\"1\" class=\"dataframe\">\n",
       "  <thead>\n",
       "    <tr style=\"text-align: right;\">\n",
       "      <th></th>\n",
       "      <th>N</th>\n",
       "      <th>NMISS</th>\n",
       "      <th>SUM</th>\n",
       "      <th>MEAN</th>\n",
       "      <th>MEDIAN</th>\n",
       "      <th>STD</th>\n",
       "      <th>VAR</th>\n",
       "      <th>MIN</th>\n",
       "      <th>P1</th>\n",
       "      <th>P5</th>\n",
       "      <th>P10</th>\n",
       "      <th>P25</th>\n",
       "      <th>P50</th>\n",
       "      <th>P75</th>\n",
       "      <th>P90</th>\n",
       "      <th>P95</th>\n",
       "      <th>P99</th>\n",
       "      <th>MAX</th>\n",
       "    </tr>\n",
       "  </thead>\n",
       "  <tbody>\n",
       "    <tr>\n",
       "      <th>MSSubClass</th>\n",
       "      <td>1460.0</td>\n",
       "      <td>0.0</td>\n",
       "      <td>8.307000e+04</td>\n",
       "      <td>56.897260</td>\n",
       "      <td>50.000000</td>\n",
       "      <td>42.300571</td>\n",
       "      <td>1.789338e+03</td>\n",
       "      <td>20.0</td>\n",
       "      <td>20.00</td>\n",
       "      <td>20.00</td>\n",
       "      <td>20.0</td>\n",
       "      <td>20.00</td>\n",
       "      <td>50.000000</td>\n",
       "      <td>70.00</td>\n",
       "      <td>120.0</td>\n",
       "      <td>160.00</td>\n",
       "      <td>190.00</td>\n",
       "      <td>190.0</td>\n",
       "    </tr>\n",
       "    <tr>\n",
       "      <th>LotFrontage</th>\n",
       "      <td>1460.0</td>\n",
       "      <td>0.0</td>\n",
       "      <td>1.022729e+05</td>\n",
       "      <td>70.049958</td>\n",
       "      <td>70.049958</td>\n",
       "      <td>22.024023</td>\n",
       "      <td>4.850576e+02</td>\n",
       "      <td>21.0</td>\n",
       "      <td>21.00</td>\n",
       "      <td>35.95</td>\n",
       "      <td>49.0</td>\n",
       "      <td>60.00</td>\n",
       "      <td>70.049958</td>\n",
       "      <td>79.00</td>\n",
       "      <td>92.0</td>\n",
       "      <td>104.00</td>\n",
       "      <td>137.41</td>\n",
       "      <td>313.0</td>\n",
       "    </tr>\n",
       "    <tr>\n",
       "      <th>LotArea</th>\n",
       "      <td>1460.0</td>\n",
       "      <td>0.0</td>\n",
       "      <td>1.535457e+07</td>\n",
       "      <td>10516.828082</td>\n",
       "      <td>9478.500000</td>\n",
       "      <td>9981.264932</td>\n",
       "      <td>9.962565e+07</td>\n",
       "      <td>1300.0</td>\n",
       "      <td>1680.00</td>\n",
       "      <td>3311.70</td>\n",
       "      <td>5000.0</td>\n",
       "      <td>7553.50</td>\n",
       "      <td>9478.500000</td>\n",
       "      <td>11601.50</td>\n",
       "      <td>14381.7</td>\n",
       "      <td>17401.15</td>\n",
       "      <td>37567.64</td>\n",
       "      <td>215245.0</td>\n",
       "    </tr>\n",
       "    <tr>\n",
       "      <th>OverallQual</th>\n",
       "      <td>1460.0</td>\n",
       "      <td>0.0</td>\n",
       "      <td>8.905000e+03</td>\n",
       "      <td>6.099315</td>\n",
       "      <td>6.000000</td>\n",
       "      <td>1.382997</td>\n",
       "      <td>1.912679e+00</td>\n",
       "      <td>1.0</td>\n",
       "      <td>3.00</td>\n",
       "      <td>4.00</td>\n",
       "      <td>5.0</td>\n",
       "      <td>5.00</td>\n",
       "      <td>6.000000</td>\n",
       "      <td>7.00</td>\n",
       "      <td>8.0</td>\n",
       "      <td>8.00</td>\n",
       "      <td>10.00</td>\n",
       "      <td>10.0</td>\n",
       "    </tr>\n",
       "    <tr>\n",
       "      <th>OverallCond</th>\n",
       "      <td>1460.0</td>\n",
       "      <td>0.0</td>\n",
       "      <td>8.140000e+03</td>\n",
       "      <td>5.575342</td>\n",
       "      <td>5.000000</td>\n",
       "      <td>1.112799</td>\n",
       "      <td>1.238322e+00</td>\n",
       "      <td>1.0</td>\n",
       "      <td>3.00</td>\n",
       "      <td>4.00</td>\n",
       "      <td>5.0</td>\n",
       "      <td>5.00</td>\n",
       "      <td>5.000000</td>\n",
       "      <td>6.00</td>\n",
       "      <td>7.0</td>\n",
       "      <td>8.00</td>\n",
       "      <td>9.00</td>\n",
       "      <td>9.0</td>\n",
       "    </tr>\n",
       "    <tr>\n",
       "      <th>YearBuilt</th>\n",
       "      <td>1460.0</td>\n",
       "      <td>0.0</td>\n",
       "      <td>2.878051e+06</td>\n",
       "      <td>1971.267808</td>\n",
       "      <td>1973.000000</td>\n",
       "      <td>30.202904</td>\n",
       "      <td>9.122154e+02</td>\n",
       "      <td>1872.0</td>\n",
       "      <td>1899.18</td>\n",
       "      <td>1916.00</td>\n",
       "      <td>1924.9</td>\n",
       "      <td>1954.00</td>\n",
       "      <td>1973.000000</td>\n",
       "      <td>2000.00</td>\n",
       "      <td>2006.0</td>\n",
       "      <td>2007.00</td>\n",
       "      <td>2009.00</td>\n",
       "      <td>2010.0</td>\n",
       "    </tr>\n",
       "    <tr>\n",
       "      <th>YearRemodAdd</th>\n",
       "      <td>1460.0</td>\n",
       "      <td>0.0</td>\n",
       "      <td>2.897904e+06</td>\n",
       "      <td>1984.865753</td>\n",
       "      <td>1994.000000</td>\n",
       "      <td>20.645407</td>\n",
       "      <td>4.262328e+02</td>\n",
       "      <td>1950.0</td>\n",
       "      <td>1950.00</td>\n",
       "      <td>1950.00</td>\n",
       "      <td>1950.0</td>\n",
       "      <td>1967.00</td>\n",
       "      <td>1994.000000</td>\n",
       "      <td>2004.00</td>\n",
       "      <td>2006.0</td>\n",
       "      <td>2007.00</td>\n",
       "      <td>2009.00</td>\n",
       "      <td>2010.0</td>\n",
       "    </tr>\n",
       "    <tr>\n",
       "      <th>MasVnrArea</th>\n",
       "      <td>1460.0</td>\n",
       "      <td>0.0</td>\n",
       "      <td>1.513805e+05</td>\n",
       "      <td>103.685262</td>\n",
       "      <td>0.000000</td>\n",
       "      <td>180.569112</td>\n",
       "      <td>3.260520e+04</td>\n",
       "      <td>0.0</td>\n",
       "      <td>0.00</td>\n",
       "      <td>0.00</td>\n",
       "      <td>0.0</td>\n",
       "      <td>0.00</td>\n",
       "      <td>0.000000</td>\n",
       "      <td>164.25</td>\n",
       "      <td>335.0</td>\n",
       "      <td>456.00</td>\n",
       "      <td>791.28</td>\n",
       "      <td>1600.0</td>\n",
       "    </tr>\n",
       "    <tr>\n",
       "      <th>BsmtFinSF1</th>\n",
       "      <td>1460.0</td>\n",
       "      <td>0.0</td>\n",
       "      <td>6.477140e+05</td>\n",
       "      <td>443.639726</td>\n",
       "      <td>383.500000</td>\n",
       "      <td>456.098091</td>\n",
       "      <td>2.080255e+05</td>\n",
       "      <td>0.0</td>\n",
       "      <td>0.00</td>\n",
       "      <td>0.00</td>\n",
       "      <td>0.0</td>\n",
       "      <td>0.00</td>\n",
       "      <td>383.500000</td>\n",
       "      <td>712.25</td>\n",
       "      <td>1065.5</td>\n",
       "      <td>1274.00</td>\n",
       "      <td>1572.41</td>\n",
       "      <td>5644.0</td>\n",
       "    </tr>\n",
       "    <tr>\n",
       "      <th>BsmtFinSF2</th>\n",
       "      <td>1460.0</td>\n",
       "      <td>0.0</td>\n",
       "      <td>6.796200e+04</td>\n",
       "      <td>46.549315</td>\n",
       "      <td>0.000000</td>\n",
       "      <td>161.319273</td>\n",
       "      <td>2.602391e+04</td>\n",
       "      <td>0.0</td>\n",
       "      <td>0.00</td>\n",
       "      <td>0.00</td>\n",
       "      <td>0.0</td>\n",
       "      <td>0.00</td>\n",
       "      <td>0.000000</td>\n",
       "      <td>0.00</td>\n",
       "      <td>117.2</td>\n",
       "      <td>396.20</td>\n",
       "      <td>830.38</td>\n",
       "      <td>1474.0</td>\n",
       "    </tr>\n",
       "    <tr>\n",
       "      <th>BsmtUnfSF</th>\n",
       "      <td>1460.0</td>\n",
       "      <td>0.0</td>\n",
       "      <td>8.281710e+05</td>\n",
       "      <td>567.240411</td>\n",
       "      <td>477.500000</td>\n",
       "      <td>441.866955</td>\n",
       "      <td>1.952464e+05</td>\n",
       "      <td>0.0</td>\n",
       "      <td>0.00</td>\n",
       "      <td>0.00</td>\n",
       "      <td>74.9</td>\n",
       "      <td>223.00</td>\n",
       "      <td>477.500000</td>\n",
       "      <td>808.00</td>\n",
       "      <td>1232.0</td>\n",
       "      <td>1468.00</td>\n",
       "      <td>1797.05</td>\n",
       "      <td>2336.0</td>\n",
       "    </tr>\n",
       "    <tr>\n",
       "      <th>TotalBsmtSF</th>\n",
       "      <td>1460.0</td>\n",
       "      <td>0.0</td>\n",
       "      <td>1.543847e+06</td>\n",
       "      <td>1057.429452</td>\n",
       "      <td>991.500000</td>\n",
       "      <td>438.705324</td>\n",
       "      <td>1.924624e+05</td>\n",
       "      <td>0.0</td>\n",
       "      <td>0.00</td>\n",
       "      <td>519.30</td>\n",
       "      <td>636.9</td>\n",
       "      <td>795.75</td>\n",
       "      <td>991.500000</td>\n",
       "      <td>1298.25</td>\n",
       "      <td>1602.2</td>\n",
       "      <td>1753.00</td>\n",
       "      <td>2155.05</td>\n",
       "      <td>6110.0</td>\n",
       "    </tr>\n",
       "    <tr>\n",
       "      <th>1stFlrSF</th>\n",
       "      <td>1460.0</td>\n",
       "      <td>0.0</td>\n",
       "      <td>1.697435e+06</td>\n",
       "      <td>1162.626712</td>\n",
       "      <td>1087.000000</td>\n",
       "      <td>386.587738</td>\n",
       "      <td>1.494501e+05</td>\n",
       "      <td>334.0</td>\n",
       "      <td>520.00</td>\n",
       "      <td>672.95</td>\n",
       "      <td>756.9</td>\n",
       "      <td>882.00</td>\n",
       "      <td>1087.000000</td>\n",
       "      <td>1391.25</td>\n",
       "      <td>1680.0</td>\n",
       "      <td>1831.25</td>\n",
       "      <td>2219.46</td>\n",
       "      <td>4692.0</td>\n",
       "    </tr>\n",
       "    <tr>\n",
       "      <th>2ndFlrSF</th>\n",
       "      <td>1460.0</td>\n",
       "      <td>0.0</td>\n",
       "      <td>5.066090e+05</td>\n",
       "      <td>346.992466</td>\n",
       "      <td>0.000000</td>\n",
       "      <td>436.528436</td>\n",
       "      <td>1.905571e+05</td>\n",
       "      <td>0.0</td>\n",
       "      <td>0.00</td>\n",
       "      <td>0.00</td>\n",
       "      <td>0.0</td>\n",
       "      <td>0.00</td>\n",
       "      <td>0.000000</td>\n",
       "      <td>728.00</td>\n",
       "      <td>954.2</td>\n",
       "      <td>1141.05</td>\n",
       "      <td>1418.92</td>\n",
       "      <td>2065.0</td>\n",
       "    </tr>\n",
       "    <tr>\n",
       "      <th>LowQualFinSF</th>\n",
       "      <td>1460.0</td>\n",
       "      <td>0.0</td>\n",
       "      <td>8.533000e+03</td>\n",
       "      <td>5.844521</td>\n",
       "      <td>0.000000</td>\n",
       "      <td>48.623081</td>\n",
       "      <td>2.364204e+03</td>\n",
       "      <td>0.0</td>\n",
       "      <td>0.00</td>\n",
       "      <td>0.00</td>\n",
       "      <td>0.0</td>\n",
       "      <td>0.00</td>\n",
       "      <td>0.000000</td>\n",
       "      <td>0.00</td>\n",
       "      <td>0.0</td>\n",
       "      <td>0.00</td>\n",
       "      <td>360.00</td>\n",
       "      <td>572.0</td>\n",
       "    </tr>\n",
       "    <tr>\n",
       "      <th>GrLivArea</th>\n",
       "      <td>1460.0</td>\n",
       "      <td>0.0</td>\n",
       "      <td>2.212577e+06</td>\n",
       "      <td>1515.463699</td>\n",
       "      <td>1464.000000</td>\n",
       "      <td>525.480383</td>\n",
       "      <td>2.761296e+05</td>\n",
       "      <td>334.0</td>\n",
       "      <td>692.18</td>\n",
       "      <td>848.00</td>\n",
       "      <td>912.0</td>\n",
       "      <td>1129.50</td>\n",
       "      <td>1464.000000</td>\n",
       "      <td>1776.75</td>\n",
       "      <td>2158.3</td>\n",
       "      <td>2466.10</td>\n",
       "      <td>3123.48</td>\n",
       "      <td>5642.0</td>\n",
       "    </tr>\n",
       "    <tr>\n",
       "      <th>BsmtFullBath</th>\n",
       "      <td>1460.0</td>\n",
       "      <td>0.0</td>\n",
       "      <td>6.210000e+02</td>\n",
       "      <td>0.425342</td>\n",
       "      <td>0.000000</td>\n",
       "      <td>0.518911</td>\n",
       "      <td>2.692682e-01</td>\n",
       "      <td>0.0</td>\n",
       "      <td>0.00</td>\n",
       "      <td>0.00</td>\n",
       "      <td>0.0</td>\n",
       "      <td>0.00</td>\n",
       "      <td>0.000000</td>\n",
       "      <td>1.00</td>\n",
       "      <td>1.0</td>\n",
       "      <td>1.00</td>\n",
       "      <td>2.00</td>\n",
       "      <td>3.0</td>\n",
       "    </tr>\n",
       "    <tr>\n",
       "      <th>BsmtHalfBath</th>\n",
       "      <td>1460.0</td>\n",
       "      <td>0.0</td>\n",
       "      <td>8.400000e+01</td>\n",
       "      <td>0.057534</td>\n",
       "      <td>0.000000</td>\n",
       "      <td>0.238753</td>\n",
       "      <td>5.700283e-02</td>\n",
       "      <td>0.0</td>\n",
       "      <td>0.00</td>\n",
       "      <td>0.00</td>\n",
       "      <td>0.0</td>\n",
       "      <td>0.00</td>\n",
       "      <td>0.000000</td>\n",
       "      <td>0.00</td>\n",
       "      <td>0.0</td>\n",
       "      <td>1.00</td>\n",
       "      <td>1.00</td>\n",
       "      <td>2.0</td>\n",
       "    </tr>\n",
       "    <tr>\n",
       "      <th>FullBath</th>\n",
       "      <td>1460.0</td>\n",
       "      <td>0.0</td>\n",
       "      <td>2.285000e+03</td>\n",
       "      <td>1.565068</td>\n",
       "      <td>2.000000</td>\n",
       "      <td>0.550916</td>\n",
       "      <td>3.035082e-01</td>\n",
       "      <td>0.0</td>\n",
       "      <td>1.00</td>\n",
       "      <td>1.00</td>\n",
       "      <td>1.0</td>\n",
       "      <td>1.00</td>\n",
       "      <td>2.000000</td>\n",
       "      <td>2.00</td>\n",
       "      <td>2.0</td>\n",
       "      <td>2.00</td>\n",
       "      <td>3.00</td>\n",
       "      <td>3.0</td>\n",
       "    </tr>\n",
       "    <tr>\n",
       "      <th>HalfBath</th>\n",
       "      <td>1460.0</td>\n",
       "      <td>0.0</td>\n",
       "      <td>5.590000e+02</td>\n",
       "      <td>0.382877</td>\n",
       "      <td>0.000000</td>\n",
       "      <td>0.502885</td>\n",
       "      <td>2.528937e-01</td>\n",
       "      <td>0.0</td>\n",
       "      <td>0.00</td>\n",
       "      <td>0.00</td>\n",
       "      <td>0.0</td>\n",
       "      <td>0.00</td>\n",
       "      <td>0.000000</td>\n",
       "      <td>1.00</td>\n",
       "      <td>1.0</td>\n",
       "      <td>1.00</td>\n",
       "      <td>1.00</td>\n",
       "      <td>2.0</td>\n",
       "    </tr>\n",
       "    <tr>\n",
       "      <th>BedroomAbvGr</th>\n",
       "      <td>1460.0</td>\n",
       "      <td>0.0</td>\n",
       "      <td>4.185000e+03</td>\n",
       "      <td>2.866438</td>\n",
       "      <td>3.000000</td>\n",
       "      <td>0.815778</td>\n",
       "      <td>6.654938e-01</td>\n",
       "      <td>0.0</td>\n",
       "      <td>1.00</td>\n",
       "      <td>2.00</td>\n",
       "      <td>2.0</td>\n",
       "      <td>2.00</td>\n",
       "      <td>3.000000</td>\n",
       "      <td>3.00</td>\n",
       "      <td>4.0</td>\n",
       "      <td>4.00</td>\n",
       "      <td>5.00</td>\n",
       "      <td>8.0</td>\n",
       "    </tr>\n",
       "    <tr>\n",
       "      <th>KitchenAbvGr</th>\n",
       "      <td>1460.0</td>\n",
       "      <td>0.0</td>\n",
       "      <td>1.528000e+03</td>\n",
       "      <td>1.046575</td>\n",
       "      <td>1.000000</td>\n",
       "      <td>0.220338</td>\n",
       "      <td>4.854892e-02</td>\n",
       "      <td>0.0</td>\n",
       "      <td>1.00</td>\n",
       "      <td>1.00</td>\n",
       "      <td>1.0</td>\n",
       "      <td>1.00</td>\n",
       "      <td>1.000000</td>\n",
       "      <td>1.00</td>\n",
       "      <td>1.0</td>\n",
       "      <td>1.00</td>\n",
       "      <td>2.00</td>\n",
       "      <td>3.0</td>\n",
       "    </tr>\n",
       "    <tr>\n",
       "      <th>TotRmsAbvGrd</th>\n",
       "      <td>1460.0</td>\n",
       "      <td>0.0</td>\n",
       "      <td>9.516000e+03</td>\n",
       "      <td>6.517808</td>\n",
       "      <td>6.000000</td>\n",
       "      <td>1.625393</td>\n",
       "      <td>2.641903e+00</td>\n",
       "      <td>2.0</td>\n",
       "      <td>3.00</td>\n",
       "      <td>4.00</td>\n",
       "      <td>5.0</td>\n",
       "      <td>5.00</td>\n",
       "      <td>6.000000</td>\n",
       "      <td>7.00</td>\n",
       "      <td>9.0</td>\n",
       "      <td>10.00</td>\n",
       "      <td>11.00</td>\n",
       "      <td>14.0</td>\n",
       "    </tr>\n",
       "    <tr>\n",
       "      <th>Fireplaces</th>\n",
       "      <td>1460.0</td>\n",
       "      <td>0.0</td>\n",
       "      <td>8.950000e+02</td>\n",
       "      <td>0.613014</td>\n",
       "      <td>1.000000</td>\n",
       "      <td>0.644666</td>\n",
       "      <td>4.155947e-01</td>\n",
       "      <td>0.0</td>\n",
       "      <td>0.00</td>\n",
       "      <td>0.00</td>\n",
       "      <td>0.0</td>\n",
       "      <td>0.00</td>\n",
       "      <td>1.000000</td>\n",
       "      <td>1.00</td>\n",
       "      <td>1.0</td>\n",
       "      <td>2.00</td>\n",
       "      <td>2.00</td>\n",
       "      <td>3.0</td>\n",
       "    </tr>\n",
       "    <tr>\n",
       "      <th>GarageCars</th>\n",
       "      <td>1460.0</td>\n",
       "      <td>0.0</td>\n",
       "      <td>2.580000e+03</td>\n",
       "      <td>1.767123</td>\n",
       "      <td>2.000000</td>\n",
       "      <td>0.747315</td>\n",
       "      <td>5.584797e-01</td>\n",
       "      <td>0.0</td>\n",
       "      <td>0.00</td>\n",
       "      <td>0.00</td>\n",
       "      <td>1.0</td>\n",
       "      <td>1.00</td>\n",
       "      <td>2.000000</td>\n",
       "      <td>2.00</td>\n",
       "      <td>3.0</td>\n",
       "      <td>3.00</td>\n",
       "      <td>3.00</td>\n",
       "      <td>4.0</td>\n",
       "    </tr>\n",
       "    <tr>\n",
       "      <th>GarageArea</th>\n",
       "      <td>1460.0</td>\n",
       "      <td>0.0</td>\n",
       "      <td>6.905510e+05</td>\n",
       "      <td>472.980137</td>\n",
       "      <td>480.000000</td>\n",
       "      <td>213.804841</td>\n",
       "      <td>4.571251e+04</td>\n",
       "      <td>0.0</td>\n",
       "      <td>0.00</td>\n",
       "      <td>0.00</td>\n",
       "      <td>240.0</td>\n",
       "      <td>334.50</td>\n",
       "      <td>480.000000</td>\n",
       "      <td>576.00</td>\n",
       "      <td>757.1</td>\n",
       "      <td>850.10</td>\n",
       "      <td>1002.79</td>\n",
       "      <td>1418.0</td>\n",
       "    </tr>\n",
       "    <tr>\n",
       "      <th>WoodDeckSF</th>\n",
       "      <td>1460.0</td>\n",
       "      <td>0.0</td>\n",
       "      <td>1.375970e+05</td>\n",
       "      <td>94.244521</td>\n",
       "      <td>0.000000</td>\n",
       "      <td>125.338794</td>\n",
       "      <td>1.570981e+04</td>\n",
       "      <td>0.0</td>\n",
       "      <td>0.00</td>\n",
       "      <td>0.00</td>\n",
       "      <td>0.0</td>\n",
       "      <td>0.00</td>\n",
       "      <td>0.000000</td>\n",
       "      <td>168.00</td>\n",
       "      <td>262.0</td>\n",
       "      <td>335.00</td>\n",
       "      <td>505.46</td>\n",
       "      <td>857.0</td>\n",
       "    </tr>\n",
       "    <tr>\n",
       "      <th>OpenPorchSF</th>\n",
       "      <td>1460.0</td>\n",
       "      <td>0.0</td>\n",
       "      <td>6.812400e+04</td>\n",
       "      <td>46.660274</td>\n",
       "      <td>25.000000</td>\n",
       "      <td>66.256028</td>\n",
       "      <td>4.389861e+03</td>\n",
       "      <td>0.0</td>\n",
       "      <td>0.00</td>\n",
       "      <td>0.00</td>\n",
       "      <td>0.0</td>\n",
       "      <td>0.00</td>\n",
       "      <td>25.000000</td>\n",
       "      <td>68.00</td>\n",
       "      <td>130.0</td>\n",
       "      <td>175.05</td>\n",
       "      <td>285.82</td>\n",
       "      <td>547.0</td>\n",
       "    </tr>\n",
       "    <tr>\n",
       "      <th>EnclosedPorch</th>\n",
       "      <td>1460.0</td>\n",
       "      <td>0.0</td>\n",
       "      <td>3.205300e+04</td>\n",
       "      <td>21.954110</td>\n",
       "      <td>0.000000</td>\n",
       "      <td>61.119149</td>\n",
       "      <td>3.735550e+03</td>\n",
       "      <td>0.0</td>\n",
       "      <td>0.00</td>\n",
       "      <td>0.00</td>\n",
       "      <td>0.0</td>\n",
       "      <td>0.00</td>\n",
       "      <td>0.000000</td>\n",
       "      <td>0.00</td>\n",
       "      <td>112.0</td>\n",
       "      <td>180.15</td>\n",
       "      <td>261.05</td>\n",
       "      <td>552.0</td>\n",
       "    </tr>\n",
       "    <tr>\n",
       "      <th>3SsnPorch</th>\n",
       "      <td>1460.0</td>\n",
       "      <td>0.0</td>\n",
       "      <td>4.978000e+03</td>\n",
       "      <td>3.409589</td>\n",
       "      <td>0.000000</td>\n",
       "      <td>29.317331</td>\n",
       "      <td>8.595059e+02</td>\n",
       "      <td>0.0</td>\n",
       "      <td>0.00</td>\n",
       "      <td>0.00</td>\n",
       "      <td>0.0</td>\n",
       "      <td>0.00</td>\n",
       "      <td>0.000000</td>\n",
       "      <td>0.00</td>\n",
       "      <td>0.0</td>\n",
       "      <td>0.00</td>\n",
       "      <td>168.00</td>\n",
       "      <td>508.0</td>\n",
       "    </tr>\n",
       "    <tr>\n",
       "      <th>ScreenPorch</th>\n",
       "      <td>1460.0</td>\n",
       "      <td>0.0</td>\n",
       "      <td>2.198900e+04</td>\n",
       "      <td>15.060959</td>\n",
       "      <td>0.000000</td>\n",
       "      <td>55.757415</td>\n",
       "      <td>3.108889e+03</td>\n",
       "      <td>0.0</td>\n",
       "      <td>0.00</td>\n",
       "      <td>0.00</td>\n",
       "      <td>0.0</td>\n",
       "      <td>0.00</td>\n",
       "      <td>0.000000</td>\n",
       "      <td>0.00</td>\n",
       "      <td>0.0</td>\n",
       "      <td>160.00</td>\n",
       "      <td>268.05</td>\n",
       "      <td>480.0</td>\n",
       "    </tr>\n",
       "    <tr>\n",
       "      <th>PoolArea</th>\n",
       "      <td>1460.0</td>\n",
       "      <td>0.0</td>\n",
       "      <td>4.028000e+03</td>\n",
       "      <td>2.758904</td>\n",
       "      <td>0.000000</td>\n",
       "      <td>40.177307</td>\n",
       "      <td>1.614216e+03</td>\n",
       "      <td>0.0</td>\n",
       "      <td>0.00</td>\n",
       "      <td>0.00</td>\n",
       "      <td>0.0</td>\n",
       "      <td>0.00</td>\n",
       "      <td>0.000000</td>\n",
       "      <td>0.00</td>\n",
       "      <td>0.0</td>\n",
       "      <td>0.00</td>\n",
       "      <td>0.00</td>\n",
       "      <td>738.0</td>\n",
       "    </tr>\n",
       "    <tr>\n",
       "      <th>MiscVal</th>\n",
       "      <td>1460.0</td>\n",
       "      <td>0.0</td>\n",
       "      <td>6.349400e+04</td>\n",
       "      <td>43.489041</td>\n",
       "      <td>0.000000</td>\n",
       "      <td>496.123024</td>\n",
       "      <td>2.461381e+05</td>\n",
       "      <td>0.0</td>\n",
       "      <td>0.00</td>\n",
       "      <td>0.00</td>\n",
       "      <td>0.0</td>\n",
       "      <td>0.00</td>\n",
       "      <td>0.000000</td>\n",
       "      <td>0.00</td>\n",
       "      <td>0.0</td>\n",
       "      <td>0.00</td>\n",
       "      <td>700.00</td>\n",
       "      <td>15500.0</td>\n",
       "    </tr>\n",
       "    <tr>\n",
       "      <th>MoSold</th>\n",
       "      <td>1460.0</td>\n",
       "      <td>0.0</td>\n",
       "      <td>9.230000e+03</td>\n",
       "      <td>6.321918</td>\n",
       "      <td>6.000000</td>\n",
       "      <td>2.703626</td>\n",
       "      <td>7.309595e+00</td>\n",
       "      <td>1.0</td>\n",
       "      <td>1.00</td>\n",
       "      <td>2.00</td>\n",
       "      <td>3.0</td>\n",
       "      <td>5.00</td>\n",
       "      <td>6.000000</td>\n",
       "      <td>8.00</td>\n",
       "      <td>10.0</td>\n",
       "      <td>11.00</td>\n",
       "      <td>12.00</td>\n",
       "      <td>12.0</td>\n",
       "    </tr>\n",
       "    <tr>\n",
       "      <th>YrSold</th>\n",
       "      <td>1460.0</td>\n",
       "      <td>0.0</td>\n",
       "      <td>2.931411e+06</td>\n",
       "      <td>2007.815753</td>\n",
       "      <td>2008.000000</td>\n",
       "      <td>1.328095</td>\n",
       "      <td>1.763837e+00</td>\n",
       "      <td>2006.0</td>\n",
       "      <td>2006.00</td>\n",
       "      <td>2006.00</td>\n",
       "      <td>2006.0</td>\n",
       "      <td>2007.00</td>\n",
       "      <td>2008.000000</td>\n",
       "      <td>2009.00</td>\n",
       "      <td>2010.0</td>\n",
       "      <td>2010.00</td>\n",
       "      <td>2010.00</td>\n",
       "      <td>2010.0</td>\n",
       "    </tr>\n",
       "    <tr>\n",
       "      <th>SalePrice</th>\n",
       "      <td>1460.0</td>\n",
       "      <td>0.0</td>\n",
       "      <td>2.641449e+08</td>\n",
       "      <td>180921.195890</td>\n",
       "      <td>163000.000000</td>\n",
       "      <td>79442.502883</td>\n",
       "      <td>6.311111e+09</td>\n",
       "      <td>34900.0</td>\n",
       "      <td>61815.97</td>\n",
       "      <td>88000.00</td>\n",
       "      <td>106475.0</td>\n",
       "      <td>129975.00</td>\n",
       "      <td>163000.000000</td>\n",
       "      <td>214000.00</td>\n",
       "      <td>278000.0</td>\n",
       "      <td>326100.00</td>\n",
       "      <td>442567.01</td>\n",
       "      <td>755000.0</td>\n",
       "    </tr>\n",
       "  </tbody>\n",
       "</table>\n",
       "</div>"
      ],
      "text/plain": [
       "                    N  NMISS           SUM           MEAN         MEDIAN  \\\n",
       "MSSubClass     1460.0    0.0  8.307000e+04      56.897260      50.000000   \n",
       "LotFrontage    1460.0    0.0  1.022729e+05      70.049958      70.049958   \n",
       "LotArea        1460.0    0.0  1.535457e+07   10516.828082    9478.500000   \n",
       "OverallQual    1460.0    0.0  8.905000e+03       6.099315       6.000000   \n",
       "OverallCond    1460.0    0.0  8.140000e+03       5.575342       5.000000   \n",
       "YearBuilt      1460.0    0.0  2.878051e+06    1971.267808    1973.000000   \n",
       "YearRemodAdd   1460.0    0.0  2.897904e+06    1984.865753    1994.000000   \n",
       "MasVnrArea     1460.0    0.0  1.513805e+05     103.685262       0.000000   \n",
       "BsmtFinSF1     1460.0    0.0  6.477140e+05     443.639726     383.500000   \n",
       "BsmtFinSF2     1460.0    0.0  6.796200e+04      46.549315       0.000000   \n",
       "BsmtUnfSF      1460.0    0.0  8.281710e+05     567.240411     477.500000   \n",
       "TotalBsmtSF    1460.0    0.0  1.543847e+06    1057.429452     991.500000   \n",
       "1stFlrSF       1460.0    0.0  1.697435e+06    1162.626712    1087.000000   \n",
       "2ndFlrSF       1460.0    0.0  5.066090e+05     346.992466       0.000000   \n",
       "LowQualFinSF   1460.0    0.0  8.533000e+03       5.844521       0.000000   \n",
       "GrLivArea      1460.0    0.0  2.212577e+06    1515.463699    1464.000000   \n",
       "BsmtFullBath   1460.0    0.0  6.210000e+02       0.425342       0.000000   \n",
       "BsmtHalfBath   1460.0    0.0  8.400000e+01       0.057534       0.000000   \n",
       "FullBath       1460.0    0.0  2.285000e+03       1.565068       2.000000   \n",
       "HalfBath       1460.0    0.0  5.590000e+02       0.382877       0.000000   \n",
       "BedroomAbvGr   1460.0    0.0  4.185000e+03       2.866438       3.000000   \n",
       "KitchenAbvGr   1460.0    0.0  1.528000e+03       1.046575       1.000000   \n",
       "TotRmsAbvGrd   1460.0    0.0  9.516000e+03       6.517808       6.000000   \n",
       "Fireplaces     1460.0    0.0  8.950000e+02       0.613014       1.000000   \n",
       "GarageCars     1460.0    0.0  2.580000e+03       1.767123       2.000000   \n",
       "GarageArea     1460.0    0.0  6.905510e+05     472.980137     480.000000   \n",
       "WoodDeckSF     1460.0    0.0  1.375970e+05      94.244521       0.000000   \n",
       "OpenPorchSF    1460.0    0.0  6.812400e+04      46.660274      25.000000   \n",
       "EnclosedPorch  1460.0    0.0  3.205300e+04      21.954110       0.000000   \n",
       "3SsnPorch      1460.0    0.0  4.978000e+03       3.409589       0.000000   \n",
       "ScreenPorch    1460.0    0.0  2.198900e+04      15.060959       0.000000   \n",
       "PoolArea       1460.0    0.0  4.028000e+03       2.758904       0.000000   \n",
       "MiscVal        1460.0    0.0  6.349400e+04      43.489041       0.000000   \n",
       "MoSold         1460.0    0.0  9.230000e+03       6.321918       6.000000   \n",
       "YrSold         1460.0    0.0  2.931411e+06    2007.815753    2008.000000   \n",
       "SalePrice      1460.0    0.0  2.641449e+08  180921.195890  163000.000000   \n",
       "\n",
       "                        STD           VAR      MIN        P1        P5  \\\n",
       "MSSubClass        42.300571  1.789338e+03     20.0     20.00     20.00   \n",
       "LotFrontage       22.024023  4.850576e+02     21.0     21.00     35.95   \n",
       "LotArea         9981.264932  9.962565e+07   1300.0   1680.00   3311.70   \n",
       "OverallQual        1.382997  1.912679e+00      1.0      3.00      4.00   \n",
       "OverallCond        1.112799  1.238322e+00      1.0      3.00      4.00   \n",
       "YearBuilt         30.202904  9.122154e+02   1872.0   1899.18   1916.00   \n",
       "YearRemodAdd      20.645407  4.262328e+02   1950.0   1950.00   1950.00   \n",
       "MasVnrArea       180.569112  3.260520e+04      0.0      0.00      0.00   \n",
       "BsmtFinSF1       456.098091  2.080255e+05      0.0      0.00      0.00   \n",
       "BsmtFinSF2       161.319273  2.602391e+04      0.0      0.00      0.00   \n",
       "BsmtUnfSF        441.866955  1.952464e+05      0.0      0.00      0.00   \n",
       "TotalBsmtSF      438.705324  1.924624e+05      0.0      0.00    519.30   \n",
       "1stFlrSF         386.587738  1.494501e+05    334.0    520.00    672.95   \n",
       "2ndFlrSF         436.528436  1.905571e+05      0.0      0.00      0.00   \n",
       "LowQualFinSF      48.623081  2.364204e+03      0.0      0.00      0.00   \n",
       "GrLivArea        525.480383  2.761296e+05    334.0    692.18    848.00   \n",
       "BsmtFullBath       0.518911  2.692682e-01      0.0      0.00      0.00   \n",
       "BsmtHalfBath       0.238753  5.700283e-02      0.0      0.00      0.00   \n",
       "FullBath           0.550916  3.035082e-01      0.0      1.00      1.00   \n",
       "HalfBath           0.502885  2.528937e-01      0.0      0.00      0.00   \n",
       "BedroomAbvGr       0.815778  6.654938e-01      0.0      1.00      2.00   \n",
       "KitchenAbvGr       0.220338  4.854892e-02      0.0      1.00      1.00   \n",
       "TotRmsAbvGrd       1.625393  2.641903e+00      2.0      3.00      4.00   \n",
       "Fireplaces         0.644666  4.155947e-01      0.0      0.00      0.00   \n",
       "GarageCars         0.747315  5.584797e-01      0.0      0.00      0.00   \n",
       "GarageArea       213.804841  4.571251e+04      0.0      0.00      0.00   \n",
       "WoodDeckSF       125.338794  1.570981e+04      0.0      0.00      0.00   \n",
       "OpenPorchSF       66.256028  4.389861e+03      0.0      0.00      0.00   \n",
       "EnclosedPorch     61.119149  3.735550e+03      0.0      0.00      0.00   \n",
       "3SsnPorch         29.317331  8.595059e+02      0.0      0.00      0.00   \n",
       "ScreenPorch       55.757415  3.108889e+03      0.0      0.00      0.00   \n",
       "PoolArea          40.177307  1.614216e+03      0.0      0.00      0.00   \n",
       "MiscVal          496.123024  2.461381e+05      0.0      0.00      0.00   \n",
       "MoSold             2.703626  7.309595e+00      1.0      1.00      2.00   \n",
       "YrSold             1.328095  1.763837e+00   2006.0   2006.00   2006.00   \n",
       "SalePrice      79442.502883  6.311111e+09  34900.0  61815.97  88000.00   \n",
       "\n",
       "                    P10        P25            P50        P75       P90  \\\n",
       "MSSubClass         20.0      20.00      50.000000      70.00     120.0   \n",
       "LotFrontage        49.0      60.00      70.049958      79.00      92.0   \n",
       "LotArea          5000.0    7553.50    9478.500000   11601.50   14381.7   \n",
       "OverallQual         5.0       5.00       6.000000       7.00       8.0   \n",
       "OverallCond         5.0       5.00       5.000000       6.00       7.0   \n",
       "YearBuilt        1924.9    1954.00    1973.000000    2000.00    2006.0   \n",
       "YearRemodAdd     1950.0    1967.00    1994.000000    2004.00    2006.0   \n",
       "MasVnrArea          0.0       0.00       0.000000     164.25     335.0   \n",
       "BsmtFinSF1          0.0       0.00     383.500000     712.25    1065.5   \n",
       "BsmtFinSF2          0.0       0.00       0.000000       0.00     117.2   \n",
       "BsmtUnfSF          74.9     223.00     477.500000     808.00    1232.0   \n",
       "TotalBsmtSF       636.9     795.75     991.500000    1298.25    1602.2   \n",
       "1stFlrSF          756.9     882.00    1087.000000    1391.25    1680.0   \n",
       "2ndFlrSF            0.0       0.00       0.000000     728.00     954.2   \n",
       "LowQualFinSF        0.0       0.00       0.000000       0.00       0.0   \n",
       "GrLivArea         912.0    1129.50    1464.000000    1776.75    2158.3   \n",
       "BsmtFullBath        0.0       0.00       0.000000       1.00       1.0   \n",
       "BsmtHalfBath        0.0       0.00       0.000000       0.00       0.0   \n",
       "FullBath            1.0       1.00       2.000000       2.00       2.0   \n",
       "HalfBath            0.0       0.00       0.000000       1.00       1.0   \n",
       "BedroomAbvGr        2.0       2.00       3.000000       3.00       4.0   \n",
       "KitchenAbvGr        1.0       1.00       1.000000       1.00       1.0   \n",
       "TotRmsAbvGrd        5.0       5.00       6.000000       7.00       9.0   \n",
       "Fireplaces          0.0       0.00       1.000000       1.00       1.0   \n",
       "GarageCars          1.0       1.00       2.000000       2.00       3.0   \n",
       "GarageArea        240.0     334.50     480.000000     576.00     757.1   \n",
       "WoodDeckSF          0.0       0.00       0.000000     168.00     262.0   \n",
       "OpenPorchSF         0.0       0.00      25.000000      68.00     130.0   \n",
       "EnclosedPorch       0.0       0.00       0.000000       0.00     112.0   \n",
       "3SsnPorch           0.0       0.00       0.000000       0.00       0.0   \n",
       "ScreenPorch         0.0       0.00       0.000000       0.00       0.0   \n",
       "PoolArea            0.0       0.00       0.000000       0.00       0.0   \n",
       "MiscVal             0.0       0.00       0.000000       0.00       0.0   \n",
       "MoSold              3.0       5.00       6.000000       8.00      10.0   \n",
       "YrSold           2006.0    2007.00    2008.000000    2009.00    2010.0   \n",
       "SalePrice      106475.0  129975.00  163000.000000  214000.00  278000.0   \n",
       "\n",
       "                     P95        P99       MAX  \n",
       "MSSubClass        160.00     190.00     190.0  \n",
       "LotFrontage       104.00     137.41     313.0  \n",
       "LotArea         17401.15   37567.64  215245.0  \n",
       "OverallQual         8.00      10.00      10.0  \n",
       "OverallCond         8.00       9.00       9.0  \n",
       "YearBuilt        2007.00    2009.00    2010.0  \n",
       "YearRemodAdd     2007.00    2009.00    2010.0  \n",
       "MasVnrArea        456.00     791.28    1600.0  \n",
       "BsmtFinSF1       1274.00    1572.41    5644.0  \n",
       "BsmtFinSF2        396.20     830.38    1474.0  \n",
       "BsmtUnfSF        1468.00    1797.05    2336.0  \n",
       "TotalBsmtSF      1753.00    2155.05    6110.0  \n",
       "1stFlrSF         1831.25    2219.46    4692.0  \n",
       "2ndFlrSF         1141.05    1418.92    2065.0  \n",
       "LowQualFinSF        0.00     360.00     572.0  \n",
       "GrLivArea        2466.10    3123.48    5642.0  \n",
       "BsmtFullBath        1.00       2.00       3.0  \n",
       "BsmtHalfBath        1.00       1.00       2.0  \n",
       "FullBath            2.00       3.00       3.0  \n",
       "HalfBath            1.00       1.00       2.0  \n",
       "BedroomAbvGr        4.00       5.00       8.0  \n",
       "KitchenAbvGr        1.00       2.00       3.0  \n",
       "TotRmsAbvGrd       10.00      11.00      14.0  \n",
       "Fireplaces          2.00       2.00       3.0  \n",
       "GarageCars          3.00       3.00       4.0  \n",
       "GarageArea        850.10    1002.79    1418.0  \n",
       "WoodDeckSF        335.00     505.46     857.0  \n",
       "OpenPorchSF       175.05     285.82     547.0  \n",
       "EnclosedPorch     180.15     261.05     552.0  \n",
       "3SsnPorch           0.00     168.00     508.0  \n",
       "ScreenPorch       160.00     268.05     480.0  \n",
       "PoolArea            0.00       0.00     738.0  \n",
       "MiscVal             0.00     700.00   15500.0  \n",
       "MoSold             11.00      12.00      12.0  \n",
       "YrSold           2010.00    2010.00    2010.0  \n",
       "SalePrice      326100.00  442567.01  755000.0  "
      ]
     },
     "execution_count": 30,
     "metadata": {},
     "output_type": "execute_result"
    }
   ],
   "source": [
    "def var_summary(x):\n",
    "    return pd.Series([x.count(), x.isnull().sum(), x.sum(), x.mean(), x.median(),  x.std(), x.var(), x.min(), x.quantile(0.01), x.quantile(0.05),x.quantile(0.10),x.quantile(0.25),x.quantile(0.50),x.quantile(0.75), x.quantile(0.90),x.quantile(0.95), x.quantile(0.99),x.max()], \n",
    "                  index=['N', 'NMISS', 'SUM', 'MEAN','MEDIAN', 'STD', 'VAR', 'MIN', 'P1' , 'P5' ,'P10' ,'P25' ,'P50' ,'P75' ,'P90' ,'P95' ,'P99' ,'MAX'])\n",
    "\n",
    "num_train.apply(lambda x: var_summary(x)).T\n"
   ]
  },
  {
   "cell_type": "code",
   "execution_count": null,
   "metadata": {
    "_cell_guid": "ba2bfc53-77c6-4c6b-a573-552856289e09",
    "_uuid": "3270d792135231a8147fd8aeb9c961bb4c5fd52e"
   },
   "outputs": [],
   "source": []
  },
  {
   "cell_type": "code",
   "execution_count": 31,
   "metadata": {
    "_cell_guid": "3291b34c-fad0-4ffe-8ced-51b5d9b06284",
    "_uuid": "2753b1360b6f557865c2941ef001802ff5d90aa8"
   },
   "outputs": [],
   "source": [
    "# FIRST-AUTHOR: remove plotting\n",
    "# sns.boxplot([num_train.LotFrontage])\n",
    "_ = [num_train.LotFrontage]"
   ]
  },
  {
   "cell_type": "code",
   "execution_count": 32,
   "metadata": {
    "_cell_guid": "6480a86d-d142-4365-9cc9-1f5985bbea07",
    "_uuid": "50bb5cf003f3dc93934ab50af1c90bc221fc65b6"
   },
   "outputs": [],
   "source": [
    "# FIRST-AUTHOR: make notebook run\n",
    "# train['LotFrontage']= train['LotFrontage'].clip_upper(train['LotFrontage'].quantile(0.99))\n",
    "train['LotFrontage']= train['LotFrontage'].clip(upper=train['LotFrontage'].quantile(0.99))"
   ]
  },
  {
   "cell_type": "code",
   "execution_count": 33,
   "metadata": {
    "_cell_guid": "65ce041a-b9b9-43d4-9b0b-f64a5fed5436",
    "_uuid": "bcb80a10f3170891573be5cb7ad6b1e0a96706c1"
   },
   "outputs": [],
   "source": [
    "# FIRST-AUTHOR: remove plotting\n",
    "# sns.boxplot(num_train.LotArea)\n",
    "_ = num_train.LotArea"
   ]
  },
  {
   "cell_type": "code",
   "execution_count": 34,
   "metadata": {
    "_cell_guid": "c7bb86c6-7df9-4da2-9257-ea168a82d7f5",
    "_uuid": "3c39ffa6b33f6f9170ae32545cbf1d6707d84c5b"
   },
   "outputs": [],
   "source": [
    "# FIRST-AUTHOR: make notebook run\n",
    "# train['LotArea']= train['LotArea'].clip_upper(train['LotArea'].quantile(0.99))\n",
    "train['LotArea']= train['LotArea'].clip(upper=train['LotArea'].quantile(0.99))"
   ]
  },
  {
   "cell_type": "code",
   "execution_count": 35,
   "metadata": {
    "_cell_guid": "3d47d1c6-6aaa-427c-bb1b-75d39766d6cd",
    "_uuid": "44c08b67265075e74232dbf0d8df9bdeeaf94d26"
   },
   "outputs": [],
   "source": [
    "# FIRST-AUTHOR: remove plotting\n",
    "# sns.boxplot(train['MasVnrArea'])\n",
    "_ = train['MasVnrArea']"
   ]
  },
  {
   "cell_type": "code",
   "execution_count": 36,
   "metadata": {
    "_cell_guid": "f98f44c9-4022-4917-9c29-48bdd3848ede",
    "_uuid": "f8930eebfe71b8c7d9a0364cb62be6ef7203f8d0"
   },
   "outputs": [],
   "source": [
    "# FIRST-AUTHOR: make notebook run\n",
    "# train['MasVnrArea']= train['MasVnrArea'].clip_upper(train['MasVnrArea'].quantile(0.99))\n",
    "train['MasVnrArea']= train['MasVnrArea'].clip(upper=train['MasVnrArea'].quantile(0.99))"
   ]
  },
  {
   "cell_type": "code",
   "execution_count": 37,
   "metadata": {
    "_cell_guid": "6c5047ce-edce-43ef-a354-3b1be46eaf23",
    "_uuid": "26becf6ae1904a4b0f7be137feb8310fe7a376ed"
   },
   "outputs": [],
   "source": [
    "# FIRST-AUTHOR: remove plotting\n",
    "# sns.boxplot(train['BsmtFinSF1'])\n",
    "_ = train['BsmtFinSF1']"
   ]
  },
  {
   "cell_type": "code",
   "execution_count": 38,
   "metadata": {
    "_cell_guid": "64d60848-4384-4436-9361-0f5a666c5839",
    "_uuid": "b640171d777bf9af287e51011695afd2daf6f821"
   },
   "outputs": [],
   "source": [
    "# FIRST-AUTHOR: remove plotting\n",
    "# sns.boxplot(train['BsmtFinSF2'])\n",
    "_ = train['BsmtFinSF2']"
   ]
  },
  {
   "cell_type": "code",
   "execution_count": 39,
   "metadata": {
    "_cell_guid": "c50c7828-82e6-47e8-a552-74a963f54f62",
    "_uuid": "c07e190673e4929b484dc4b0a0a46c52f292a73f"
   },
   "outputs": [],
   "source": [
    "# FIRST-AUTHOR: make notebook run\n",
    "# train['BsmtFinSF1']= train['BsmtFinSF1'].clip_upper(train['BsmtFinSF1'].quantile(0.99)) \n",
    "# train['BsmtFinSF2']= train['BsmtFinSF2'].clip_upper(train['BsmtFinSF2'].quantile(0.99))\n",
    "train['BsmtFinSF1']= train['BsmtFinSF1'].clip(upper=train['BsmtFinSF1'].quantile(0.99)) \n",
    "train['BsmtFinSF2']= train['BsmtFinSF2'].clip(upper=train['BsmtFinSF2'].quantile(0.99))"
   ]
  },
  {
   "cell_type": "code",
   "execution_count": 40,
   "metadata": {
    "_cell_guid": "d1674288-b75e-4791-b663-e82786f2c6b6",
    "_uuid": "ae6f998342c0fe1524ec57c7cbc4e66abd3305e3"
   },
   "outputs": [],
   "source": [
    "# FIRST-AUTHOR: remove plotting\n",
    "# sns.boxplot(train['TotalBsmtSF'])\n",
    "_ = train['TotalBsmtSF']"
   ]
  },
  {
   "cell_type": "code",
   "execution_count": 41,
   "metadata": {
    "_cell_guid": "445e18df-b7ec-4c21-842e-68f5520c6a8e",
    "_uuid": "14101f429aabc3e81a6dc390036fbca025a3c038"
   },
   "outputs": [],
   "source": [
    "# FIRST-AUTHOR: make notebook run\n",
    "# train['TotalBsmtSF']= train['TotalBsmtSF'].clip_upper(train['TotalBsmtSF'].quantile(0.99))\n",
    "train['TotalBsmtSF']= train['TotalBsmtSF'].clip(upper=train['TotalBsmtSF'].quantile(0.99))"
   ]
  },
  {
   "cell_type": "code",
   "execution_count": 42,
   "metadata": {
    "_cell_guid": "ce019492-457a-496e-b1e8-7ee98ad3c8c4",
    "_uuid": "d893c17bae5aac9e98db82ad5ccc664121827eba"
   },
   "outputs": [],
   "source": [
    "# FIRST-AUTHOR: remove plotting\n",
    "# sns.boxplot(train['1stFlrSF'])\n",
    "_ = train['1stFlrSF']"
   ]
  },
  {
   "cell_type": "code",
   "execution_count": 43,
   "metadata": {
    "_cell_guid": "09596a08-a3c6-4451-91b9-63877ccf3758",
    "_uuid": "9359085fe6ff566b54944b028f39a7370b86a595"
   },
   "outputs": [],
   "source": [
    "# FIRST-AUTHOR: make notebook run\n",
    "# train['1stFlrSF']= train['1stFlrSF'].clip_upper(train['1stFlrSF'].quantile(0.99))\n",
    "train['1stFlrSF']= train['1stFlrSF'].clip(upper=train['1stFlrSF'].quantile(0.99))"
   ]
  },
  {
   "cell_type": "code",
   "execution_count": 44,
   "metadata": {
    "_cell_guid": "fd250986-40bb-4a2f-858d-a9a341d86881",
    "_uuid": "b5accc83935b7c9d499d255c00b79ba468d1a243"
   },
   "outputs": [],
   "source": [
    "# FIRST-AUTHOR: remove plotting\n",
    "# sns.boxplot(train['2ndFlrSF'])\n",
    "_ = train['2ndFlrSF']"
   ]
  },
  {
   "cell_type": "code",
   "execution_count": 45,
   "metadata": {
    "_cell_guid": "4108ad18-aefc-4e86-a434-221ce8d9941b",
    "_uuid": "f2252ca310378da36bb71cb04555bb481ff22888"
   },
   "outputs": [],
   "source": [
    "# FIRST-AUTHOR: make notebook run\n",
    "# train['2ndFlrSF']= train['2ndFlrSF'].clip_upper(train['2ndFlrSF'].quantile(0.99))\n",
    "train['2ndFlrSF']= train['2ndFlrSF'].clip(upper=train['2ndFlrSF'].quantile(0.99))"
   ]
  },
  {
   "cell_type": "code",
   "execution_count": 46,
   "metadata": {
    "_cell_guid": "def05c22-7b3f-43d0-b51e-a19e7748b9ea",
    "_uuid": "7b647e002c1f7410bb09e69a13199b7f6da00d4e"
   },
   "outputs": [],
   "source": [
    "# FIRST-AUTHOR: remove plotting\n",
    "# sns.boxplot(train['GrLivArea'])\n",
    "_ = train['GrLivArea']"
   ]
  },
  {
   "cell_type": "code",
   "execution_count": 47,
   "metadata": {
    "_cell_guid": "cd16ecf3-3ed2-4be5-9bc9-363702bdfc9a",
    "_uuid": "3233b81c278adf5af11c4e098300be7bb949bd01"
   },
   "outputs": [],
   "source": [
    "# FIRST-AUTHOR: make notebook run\n",
    "# train['GrLivArea']= train['GrLivArea'].clip_upper(train['GrLivArea'].quantile(0.99))\n",
    "train['GrLivArea']= train['GrLivArea'].clip(upper=train['GrLivArea'].quantile(0.99))"
   ]
  },
  {
   "cell_type": "code",
   "execution_count": 48,
   "metadata": {
    "_cell_guid": "73193728-3a5c-4005-915d-385c7b6c885c",
    "_uuid": "53b492cb34fe7dd37c98dc43c744c3b4f201b2c2"
   },
   "outputs": [],
   "source": [
    "# FIRST-AUTHOR: remove plotting\n",
    "# sns.boxplot(train['BedroomAbvGr'])\n",
    "_ = train['BedroomAbvGr']"
   ]
  },
  {
   "cell_type": "code",
   "execution_count": 49,
   "metadata": {
    "_cell_guid": "cfdbc0da-f0e8-4fab-acd2-3aa2f52d4276",
    "_uuid": "0487a4168dcaac55a92cb2022b336e10a928c015"
   },
   "outputs": [],
   "source": [
    "# FIRST-AUTHOR: make notebook run\n",
    "# train['BedroomAbvGr']= train['BedroomAbvGr'].clip_upper(train['BedroomAbvGr'].quantile(0.99))\n",
    "# train['BedroomAbvGr']= train['BedroomAbvGr'].clip_lower(train['BedroomAbvGr'].quantile(0.01))\n",
    "train['BedroomAbvGr']= train['BedroomAbvGr'].clip(upper=train['BedroomAbvGr'].quantile(0.99))\n",
    "train['BedroomAbvGr']= train['BedroomAbvGr'].clip(lower=train['BedroomAbvGr'].quantile(0.01))"
   ]
  },
  {
   "cell_type": "code",
   "execution_count": 50,
   "metadata": {
    "_cell_guid": "e700d5ba-748e-4c3d-9c7d-1541a40f2699",
    "_uuid": "e6d1075542e642d66cb2d6e181652e0ecb71ec5a"
   },
   "outputs": [],
   "source": [
    "# FIRST-AUTHOR: remove plotting\n",
    "# sns.boxplot(train['GarageCars'])\n",
    "_ = train['GarageCars']"
   ]
  },
  {
   "cell_type": "code",
   "execution_count": 51,
   "metadata": {
    "_cell_guid": "5d6dd2c6-6b59-4592-bc69-c60467ef8a8d",
    "_uuid": "10405b23e57803a05bb23a8d3613e6251b95cc44"
   },
   "outputs": [],
   "source": [
    "# FIRST-AUTHOR: make notebook run\n",
    "# train['GarageCars']= train['GarageCars'].clip_upper(train['GarageCars'].quantile(0.99))\n",
    "train['GarageCars']= train['GarageCars'].clip(upper=train['GarageCars'].quantile(0.99))"
   ]
  },
  {
   "cell_type": "code",
   "execution_count": 52,
   "metadata": {
    "_cell_guid": "b3bfa33e-a49f-4b56-ba02-7be4d6b10ceb",
    "_uuid": "2ec1f60238756057b27325b7e4cb120bc1f46bb2"
   },
   "outputs": [],
   "source": [
    "# FIRST-AUTHOR: remove plotting\n",
    "# sns.boxplot(train['GarageArea'])\n",
    "_ = train['GarageArea']"
   ]
  },
  {
   "cell_type": "code",
   "execution_count": 53,
   "metadata": {
    "_cell_guid": "e38c33c1-af21-42f0-90ce-53034a3c5aef",
    "_uuid": "94566b10cefe0cf2f7a836a0e4b56b7efe7c974b"
   },
   "outputs": [],
   "source": [
    "# FIRST-AUTHOR: make notebook run\n",
    "# train['GarageArea']= train['GarageArea'].clip_upper(train['GarageArea'].quantile(0.99))\n",
    "train['GarageArea']= train['GarageArea'].clip(upper=train['GarageArea'].quantile(0.99))"
   ]
  },
  {
   "cell_type": "code",
   "execution_count": 54,
   "metadata": {
    "_cell_guid": "4b5e9b04-8f16-4736-a620-6376a1b2fb67",
    "_uuid": "f498880b5397ca938d72318649d681c473c8b34f"
   },
   "outputs": [],
   "source": [
    "# FIRST-AUTHOR: remove plotting\n",
    "# sns.boxplot(train['WoodDeckSF'])\n",
    "_ = train['WoodDeckSF']"
   ]
  },
  {
   "cell_type": "code",
   "execution_count": 55,
   "metadata": {
    "_cell_guid": "d53bad9c-49ba-4814-9d28-8cd22ab8f43a",
    "_uuid": "d34f13080389c78ce853503dc27dbd6d286894f4"
   },
   "outputs": [],
   "source": [
    "# FIRST-AUTHOR: make notebook run\n",
    "# train['WoodDeckSF']= train['WoodDeckSF'].clip_upper(train['WoodDeckSF'].quantile(0.99))\n",
    "train['WoodDeckSF']= train['WoodDeckSF'].clip(upper=train['WoodDeckSF'].quantile(0.99))"
   ]
  },
  {
   "cell_type": "code",
   "execution_count": 56,
   "metadata": {
    "_cell_guid": "625b50d2-b87f-48fc-b761-b77e3a1d9704",
    "_uuid": "01737e667d5a152c32abee172889d9bbd2878fb9"
   },
   "outputs": [],
   "source": [
    "# FIRST-AUTHOR: remove plotting\n",
    "# sns.boxplot(train['OpenPorchSF'])\n",
    "_ = train['OpenPorchSF']"
   ]
  },
  {
   "cell_type": "code",
   "execution_count": 57,
   "metadata": {
    "_cell_guid": "1e819244-1481-4635-ab8b-401ce9135bab",
    "_uuid": "851826c14073b714a009b2ef62465234ad53b516"
   },
   "outputs": [],
   "source": [
    "# FIRST-AUTHOR: make notebook run\n",
    "# train['OpenPorchSF']= train['OpenPorchSF'].clip_upper(train['OpenPorchSF'].quantile(0.99))\n",
    "train['OpenPorchSF']= train['OpenPorchSF'].clip(upper=train['OpenPorchSF'].quantile(0.99))"
   ]
  },
  {
   "cell_type": "code",
   "execution_count": 58,
   "metadata": {
    "_cell_guid": "3dfdaead-390d-4956-9fea-f40bfd5f3109",
    "_uuid": "9a98d7a39d3dd63d73f7cb86b54f26eb2910259d"
   },
   "outputs": [],
   "source": [
    "# FIRST-AUTHOR: remove plotting\n",
    "# sns.boxplot(train['EnclosedPorch'])\n",
    "_ = train['EnclosedPorch']"
   ]
  },
  {
   "cell_type": "code",
   "execution_count": 59,
   "metadata": {
    "_cell_guid": "13d20dd6-b9d7-41f8-be88-07a709edbbdf",
    "_uuid": "84cc779f8c9c11e9625add46f51ede93280bff27"
   },
   "outputs": [],
   "source": [
    "# FIRST-AUTHOR: make notebook run\n",
    "# train['EnclosedPorch']= train['EnclosedPorch'].clip_upper(train['EnclosedPorch'].quantile(0.99))\n",
    "train['EnclosedPorch']= train['EnclosedPorch'].clip(upper=train['EnclosedPorch'].quantile(0.99))"
   ]
  },
  {
   "cell_type": "code",
   "execution_count": 60,
   "metadata": {
    "_cell_guid": "222858f1-fc8c-46f1-bb8d-bf009bc88a73",
    "_uuid": "21f3b262ef9c29ba60bb7f02d678c347b81cbdab"
   },
   "outputs": [],
   "source": [
    "# FIRST-AUTHOR: remove plotting\n",
    "# sns.boxplot(train['3SsnPorch'])\n",
    "_ = train['3SsnPorch']"
   ]
  },
  {
   "cell_type": "code",
   "execution_count": 61,
   "metadata": {
    "_cell_guid": "7738dd42-7a18-4784-9d14-94943c4d0ced",
    "_uuid": "1cc21d20c7ee25d991f0b05620c3ddc16414f958"
   },
   "outputs": [],
   "source": [
    "# FIRST-AUTHOR: make notebook run\n",
    "# train['3SsnPorch']= train['3SsnPorch'].clip_upper(train['3SsnPorch'].quantile(0.99))\n",
    "train['3SsnPorch']= train['3SsnPorch'].clip(upper=train['3SsnPorch'].quantile(0.99))"
   ]
  },
  {
   "cell_type": "code",
   "execution_count": 62,
   "metadata": {
    "_cell_guid": "110ae450-36f6-4040-930a-5481af304cbd",
    "_uuid": "cee9353fac35dcc46c7c500f714cc2a63f94fb56"
   },
   "outputs": [],
   "source": [
    "# FIRST-AUTHOR: remove plotting\n",
    "# sns.boxplot(train['ScreenPorch'])\n",
    "_ = train['ScreenPorch']"
   ]
  },
  {
   "cell_type": "code",
   "execution_count": 63,
   "metadata": {
    "_cell_guid": "a6475726-4981-4bc6-8f89-5f3e176bb04f",
    "_uuid": "641741b6c93ca84bcf966611815741d3145e916b"
   },
   "outputs": [],
   "source": [
    "# FIRST-AUTHOR: make notebook run\n",
    "# train['ScreenPorch']= train['ScreenPorch'].clip_upper(train['ScreenPorch'].quantile(0.99))\n",
    "train['ScreenPorch']= train['ScreenPorch'].clip(upper=train['ScreenPorch'].quantile(0.99))"
   ]
  },
  {
   "cell_type": "code",
   "execution_count": 64,
   "metadata": {
    "_cell_guid": "a956308c-4f1e-495d-9479-9653a78c2dfa",
    "_uuid": "7fcfb774f15cfc12bd9295a05227de0c0c26e6b2"
   },
   "outputs": [],
   "source": [
    "# FIRST-AUTHOR: remove plotting\n",
    "# sns.boxplot(train['PoolArea'])\n",
    "_ = train['PoolArea']"
   ]
  },
  {
   "cell_type": "code",
   "execution_count": 65,
   "metadata": {
    "_cell_guid": "3b0aa642-0300-4cde-b696-8dea3bd44f62",
    "_uuid": "9b1f39aea37c8d2bc294320dfb2363fcbefde866"
   },
   "outputs": [],
   "source": [
    "# FIRST-AUTHOR: make notebook run\n",
    "# train['PoolArea']= train['PoolArea'].clip_upper(train['PoolArea'].quantile(0.99))\n",
    "train['PoolArea']= train['PoolArea'].clip(upper=train['PoolArea'].quantile(0.99))"
   ]
  },
  {
   "cell_type": "code",
   "execution_count": 66,
   "metadata": {
    "_cell_guid": "1ac312bd-54a5-40d3-91de-5793589278ff",
    "_uuid": "3e62879c4676b82f2da326aded2dc6ac664e3a5d"
   },
   "outputs": [],
   "source": [
    "# FIRST-AUTHOR: remove plotting\n",
    "# sns.boxplot(train['MiscVal'])\n",
    "_ = train['MiscVal']"
   ]
  },
  {
   "cell_type": "code",
   "execution_count": 67,
   "metadata": {
    "_cell_guid": "63b64934-1949-4ee8-9c55-909a70637a9a",
    "_uuid": "1bf943a227c5f9e3bde163b69c2080ef6cc98000"
   },
   "outputs": [],
   "source": [
    "# FIRST-AUTHOR: remove plotting\n",
    "# sns.boxplot(train.SalePrice)\n",
    "_ = train.SalePrice"
   ]
  },
  {
   "cell_type": "code",
   "execution_count": 68,
   "metadata": {
    "_cell_guid": "12aeee87-8d83-45a0-af8e-c41dcfa332b2",
    "_uuid": "2a9ca4c470bdc31dfd60219ed2dd641147f552f3"
   },
   "outputs": [],
   "source": [
    "# FIRST-AUTHOR: make notebook run\n",
    "# train['SalePrice']= train['SalePrice'].clip_upper(train['SalePrice'].quantile(0.99))\n",
    "# train['SalePrice']= train['SalePrice'].clip_lower(train['SalePrice'].quantile(0.01))\n",
    "train['SalePrice']= train['SalePrice'].clip(upper=train['SalePrice'].quantile(0.99))\n",
    "train['SalePrice']= train['SalePrice'].clip(lower=train['SalePrice'].quantile(0.01))"
   ]
  },
  {
   "cell_type": "code",
   "execution_count": 69,
   "metadata": {
    "_cell_guid": "2473a817-e4ab-4405-ad85-bc7bb2c11e5d",
    "_uuid": "96fefcf3067d45ee022e3fb2fb3d798dca2ab1d3"
   },
   "outputs": [],
   "source": [
    "# FIRST-AUTHOR: make notebook run\n",
    "# train['MiscVal']= train['MiscVal'].clip_upper(train['MiscVal'].quantile(0.99))\n",
    "train['MiscVal']= train['MiscVal'].clip(upper=train['MiscVal'].quantile(0.99))"
   ]
  },
  {
   "cell_type": "code",
   "execution_count": 70,
   "metadata": {
    "_cell_guid": "42f11e74-3ff9-45e8-9a1f-91bc0dcce208",
    "_uuid": "64d5692ef285b33816baeb63feccd097a6a0a901"
   },
   "outputs": [],
   "source": [
    "num_corr=num_train .corr()\n",
    "# FIRST-AUTHOR: remove plotting\n",
    "# plt.subplots(figsize=(13,10))\n",
    "# sns.heatmap(num_corr,vmax =.8 ,square = True)"
   ]
  },
  {
   "cell_type": "code",
   "execution_count": 71,
   "metadata": {
    "_cell_guid": "8fe8f4a7-c455-48b1-9a9c-03d6a904e917",
    "_uuid": "bab61d5c291c724d15f2f63ccd781da4bb38803f"
   },
   "outputs": [],
   "source": [
    "k = 14\n",
    "cols = num_corr.nlargest(k, 'SalePrice')['SalePrice'].index\n",
    "cm = np.corrcoef(num_train[cols].values.T)\n",
    "# FIRST-AUTHOR: remove plotting\n",
    "# sns.set(font_scale=1.35)\n",
    "# f, ax = plt.subplots(figsize=(10,10))\n",
    "# hm=sns.heatmap(cm, annot = True,vmax =.8, yticklabels=cols.values, xticklabels = cols.values)\n",
    "_ = cols.values\n",
    "_ = cols.values"
   ]
  },
  {
   "cell_type": "markdown",
   "metadata": {
    "_cell_guid": "01010aa7-0d57-42a5-9bce-8fd58626b187",
    "_uuid": "fb3fa7c116d60fe2536439ce4e0682d840c61d28"
   },
   "source": [
    "# FEATURE SELECTION"
   ]
  },
  {
   "cell_type": "markdown",
   "metadata": {
    "_cell_guid": "78d7b0ad-9d89-4e41-93e0-757f51aba2b1",
    "_uuid": "1ab20841dd2b7e2cad8e60862305ddfe9293d20f"
   },
   "source": [
    "Selecting the significant features is an important step in building a best model.We can use multiple techniques to select the significant features and some of them are:\n",
    "                Statsmodels,\n",
    "                Hypothesis Testing,\n",
    "                PCA - Dimensionality Reduction and \n",
    "                Feature importance using Random Forests."
   ]
  },
  {
   "cell_type": "markdown",
   "metadata": {
    "_cell_guid": "680d8008-92f4-46d3-be0b-d559b6356d43",
    "_uuid": "18818331c2fa31e53ccd9127f2ae94ecf73805b3"
   },
   "source": [
    "## STATSMODELS"
   ]
  },
  {
   "cell_type": "code",
   "execution_count": 72,
   "metadata": {
    "_cell_guid": "df483782-0080-440e-a2f5-13843674a054",
    "_uuid": "171e6b7542ca0f2a7d513290b14fbe34cf4218f0"
   },
   "outputs": [],
   "source": [
    "# FIRST-AUTHOR: remove ML code\n",
    "# import statsmodels.api as sm\n",
    "# import statsmodels.formula.api as smf"
   ]
  },
  {
   "cell_type": "code",
   "execution_count": 73,
   "metadata": {
    "_cell_guid": "7ffbb502-d1f7-40f4-b523-3331cf9777d9",
    "_uuid": "cb6600368266f6d1c506651a8d41fee7e323a585"
   },
   "outputs": [
    {
     "name": "stdout",
     "output_type": "stream",
     "text": [
      "<class 'pandas.core.frame.DataFrame'>\n",
      "RangeIndex: 1460 entries, 0 to 1459\n",
      "Data columns (total 76 columns):\n",
      " #   Column         Non-Null Count  Dtype  \n",
      "---  ------         --------------  -----  \n",
      " 0   MSSubClass     1460 non-null   int64  \n",
      " 1   MSZoning       1460 non-null   object \n",
      " 2   LotFrontage    1460 non-null   float64\n",
      " 3   LotArea        1460 non-null   float64\n",
      " 4   Street         1460 non-null   object \n",
      " 5   LotShape       1460 non-null   object \n",
      " 6   LandContour    1460 non-null   object \n",
      " 7   Utilities      1460 non-null   object \n",
      " 8   LotConfig      1460 non-null   object \n",
      " 9   LandSlope      1460 non-null   object \n",
      " 10  Neighborhood   1460 non-null   object \n",
      " 11  Condition1     1460 non-null   object \n",
      " 12  Condition2     1460 non-null   object \n",
      " 13  BldgType       1460 non-null   object \n",
      " 14  HouseStyle     1460 non-null   object \n",
      " 15  OverallQual    1460 non-null   int64  \n",
      " 16  OverallCond    1460 non-null   int64  \n",
      " 17  YearBuilt      1460 non-null   int64  \n",
      " 18  YearRemodAdd   1460 non-null   int64  \n",
      " 19  RoofStyle      1460 non-null   object \n",
      " 20  RoofMatl       1460 non-null   object \n",
      " 21  Exterior1st    1460 non-null   object \n",
      " 22  Exterior2nd    1460 non-null   object \n",
      " 23  MasVnrType     1460 non-null   object \n",
      " 24  MasVnrArea     1460 non-null   float64\n",
      " 25  ExterQual      1460 non-null   object \n",
      " 26  ExterCond      1460 non-null   object \n",
      " 27  Foundation     1460 non-null   object \n",
      " 28  BsmtQual       1460 non-null   object \n",
      " 29  BsmtCond       1460 non-null   object \n",
      " 30  BsmtExposure   1460 non-null   object \n",
      " 31  BsmtFinType1   1460 non-null   object \n",
      " 32  BsmtFinSF1     1460 non-null   float64\n",
      " 33  BsmtFinType2   1460 non-null   object \n",
      " 34  BsmtFinSF2     1460 non-null   float64\n",
      " 35  BsmtUnfSF      1460 non-null   int64  \n",
      " 36  TotalBsmtSF    1460 non-null   float64\n",
      " 37  Heating        1460 non-null   object \n",
      " 38  HeatingQC      1460 non-null   object \n",
      " 39  CentralAir     1460 non-null   object \n",
      " 40  Electrical     1460 non-null   object \n",
      " 41  1stFlrSF       1460 non-null   float64\n",
      " 42  2ndFlrSF       1460 non-null   float64\n",
      " 43  LowQualFinSF   1460 non-null   int64  \n",
      " 44  GrLivArea      1460 non-null   float64\n",
      " 45  BsmtFullBath   1460 non-null   int64  \n",
      " 46  BsmtHalfBath   1460 non-null   int64  \n",
      " 47  FullBath       1460 non-null   int64  \n",
      " 48  HalfBath       1460 non-null   int64  \n",
      " 49  BedroomAbvGr   1460 non-null   int64  \n",
      " 50  KitchenAbvGr   1460 non-null   int64  \n",
      " 51  KitchenQual    1460 non-null   object \n",
      " 52  TotRmsAbvGrd   1460 non-null   int64  \n",
      " 53  Functional     1460 non-null   object \n",
      " 54  Fireplaces     1460 non-null   int64  \n",
      " 55  FireplaceQu    1460 non-null   object \n",
      " 56  GarageType     1460 non-null   object \n",
      " 57  GarageYrBlt    1460 non-null   object \n",
      " 58  GarageFinish   1460 non-null   object \n",
      " 59  GarageCars     1460 non-null   int64  \n",
      " 60  GarageArea     1460 non-null   float64\n",
      " 61  GarageQual     1460 non-null   object \n",
      " 62  GarageCond     1460 non-null   object \n",
      " 63  PavedDrive     1460 non-null   object \n",
      " 64  WoodDeckSF     1460 non-null   float64\n",
      " 65  OpenPorchSF    1460 non-null   float64\n",
      " 66  EnclosedPorch  1460 non-null   float64\n",
      " 67  3SsnPorch      1460 non-null   int64  \n",
      " 68  ScreenPorch    1460 non-null   float64\n",
      " 69  PoolArea       1460 non-null   int64  \n",
      " 70  MiscVal        1460 non-null   int64  \n",
      " 71  MoSold         1460 non-null   int64  \n",
      " 72  YrSold         1460 non-null   int64  \n",
      " 73  SaleType       1460 non-null   object \n",
      " 74  SaleCondition  1460 non-null   object \n",
      " 75  SalePrice      1460 non-null   float64\n",
      "dtypes: float64(15), int64(21), object(40)\n",
      "memory usage: 867.0+ KB\n"
     ]
    }
   ],
   "source": [
    "train.info()"
   ]
  },
  {
   "cell_type": "code",
   "execution_count": 74,
   "metadata": {
    "_cell_guid": "72bf46b9-2e25-41f9-a275-65bc7a2bb798",
    "_uuid": "ed71f7467eb81e4f45774fb707ae329d778f053e"
   },
   "outputs": [
    {
     "data": {
      "text/plain": [
       "Index(['MSSubClass', 'MSZoning', 'LotFrontage', 'LotArea', 'Street',\n",
       "       'LotShape', 'LandContour', 'Utilities', 'LotConfig', 'LandSlope',\n",
       "       'Neighborhood', 'Condition1', 'Condition2', 'BldgType', 'HouseStyle',\n",
       "       'OverallQual', 'OverallCond', 'YearBuilt', 'YearRemodAdd', 'RoofStyle',\n",
       "       'RoofMatl', 'Exterior1st', 'Exterior2nd', 'MasVnrType', 'MasVnrArea',\n",
       "       'ExterQual', 'ExterCond', 'Foundation', 'BsmtQual', 'BsmtCond',\n",
       "       'BsmtExposure', 'BsmtFinType1', 'BsmtFinSF1', 'BsmtFinType2',\n",
       "       'BsmtFinSF2', 'BsmtUnfSF', 'TotalBsmtSF', 'Heating', 'HeatingQC',\n",
       "       'CentralAir', 'Electrical', '1stFlrSF', '2ndFlrSF', 'LowQualFinSF',\n",
       "       'GrLivArea', 'BsmtFullBath', 'BsmtHalfBath', 'FullBath', 'HalfBath',\n",
       "       'BedroomAbvGr', 'KitchenAbvGr', 'KitchenQual', 'TotRmsAbvGrd',\n",
       "       'Functional', 'Fireplaces', 'FireplaceQu', 'GarageType', 'GarageYrBlt',\n",
       "       'GarageFinish', 'GarageCars', 'GarageArea', 'GarageQual', 'GarageCond',\n",
       "       'PavedDrive', 'WoodDeckSF', 'OpenPorchSF', 'EnclosedPorch', '3SsnPorch',\n",
       "       'ScreenPorch', 'PoolArea', 'MiscVal', 'MoSold', 'YrSold', 'SaleType',\n",
       "       'SaleCondition', 'SalePrice'],\n",
       "      dtype='object')"
      ]
     },
     "execution_count": 74,
     "metadata": {},
     "output_type": "execute_result"
    }
   ],
   "source": [
    "train.columns"
   ]
  },
  {
   "cell_type": "code",
   "execution_count": 75,
   "metadata": {
    "_cell_guid": "60c4c9fa-6f87-4895-89bb-b8d443bc4bb9",
    "_uuid": "ac5721edf9f1136846b8f79f44e92e1e2c6fcb7f"
   },
   "outputs": [],
   "source": [
    "s1 = set(train.columns)\n",
    "s2 = set(['SalePrice'])"
   ]
  },
  {
   "cell_type": "code",
   "execution_count": 76,
   "metadata": {
    "_cell_guid": "2e108d2c-1f88-4b7d-90a5-21c126490f83",
    "_uuid": "02655493adb3bc003762fc4a20c628a535cda6c0"
   },
   "outputs": [
    {
     "data": {
      "text/plain": [
       "'GarageQual+SaleCondition+MasVnrArea+Condition1+LotConfig+LotArea+Electrical+BldgType+OpenPorchSF+Functional+OverallQual+LowQualFinSF+HalfBath+MiscVal+BsmtQual+GrLivArea+3SsnPorch+BsmtHalfBath+Exterior2nd+TotalBsmtSF+MasVnrType+BsmtCond+YearRemodAdd+BsmtFinType2+MoSold+MSSubClass+Foundation+BsmtFinSF2+YearBuilt+GarageArea+GarageType+BsmtFullBath+Condition2+KitchenAbvGr+HeatingQC+LandSlope+WoodDeckSF+LotShape+HouseStyle+EnclosedPorch+LandContour+ExterCond+BsmtExposure+Heating+Neighborhood+BsmtFinSF1+OverallCond+ExterQual+2ndFlrSF+KitchenQual+TotRmsAbvGrd+BsmtFinType1+CentralAir+GarageYrBlt+Street+PoolArea+Exterior1st+FullBath+ScreenPorch+1stFlrSF+GarageCars+GarageFinish+FireplaceQu+BedroomAbvGr+Fireplaces+Utilities+RoofMatl+YrSold+PavedDrive+MSZoning+SaleType+GarageCond+BsmtUnfSF+RoofStyle+LotFrontage'"
      ]
     },
     "execution_count": 76,
     "metadata": {},
     "output_type": "execute_result"
    }
   ],
   "source": [
    "features = \"+\".join((set(s1)-s2))\n",
    "features"
   ]
  },
  {
   "cell_type": "code",
   "execution_count": 77,
   "metadata": {
    "_cell_guid": "141049b1-1209-4a45-a9c5-a71e9b880723",
    "_uuid": "103903cf0d0bf73b08003a911e187802512bfa0e"
   },
   "outputs": [],
   "source": [
    "train = train.rename(columns ={'1stFlrSF':'firstFlrSF','2ndFlrSF':'iindFlrSF','3SsnPorch':'iiiSsnPorch'})"
   ]
  },
  {
   "cell_type": "code",
   "execution_count": 78,
   "metadata": {
    "_cell_guid": "45f7e6dc-8aa4-4885-9a03-f6ddc3bc1f3e",
    "_uuid": "d4b40d1b5a2bf4fcc3fe7101ef8593f95d0b4201"
   },
   "outputs": [],
   "source": [
    "# FIRST-AUTHOR: remove ML code\n",
    "# lm=smf.ols('SalePrice~firstFlrSF+MasVnrType+GarageFinish+KitchenAbvGr+WoodDeckSF+LandContour+LandSlope+GarageCars+Street+Exterior1st+iindFlrSF+SaleCondition+Electrical+LotConfig+HeatingQC+PavedDrive+LotArea+BsmtUnfSF+RoofMatl+TotRmsAbvGrd+BsmtFullBath+ExterQual+BedroomAbvGr+EnclosedPorch+BsmtQual+BsmtFinSF2+GarageCond+HouseStyle+GrLivArea+PoolArea+Utilities+BsmtExposure+HalfBath+Condition1+YrSold+MasVnrArea+BldgType+MSZoning+Fireplaces+FireplaceQu+BsmtFinType1+YearBuilt+BsmtHalfBath+Heating+SaleType+BsmtCond+MSSubClass+ScreenPorch+OpenPorchSF+FullBath+BsmtFinSF1+MoSold+LowQualFinSF+GarageType+Exterior2nd+iiiSsnPorch+TotalBsmtSF+ExterCond+Neighborhood+OverallQual+GarageArea+LotShape+MiscVal+YearRemodAdd+OverallCond+BsmtFinType2+Condition2+CentralAir+LotFrontage+Functional+RoofStyle+GarageYrBlt+KitchenQual+Foundation+GarageQual',data = train).fit()"
   ]
  },
  {
   "cell_type": "code",
   "execution_count": 79,
   "metadata": {
    "_cell_guid": "264714a9-6ab8-4b0d-a6a6-bfe178959192",
    "_uuid": "f025c8a82d7ad367c7310d6650135f4ca6f0fc62"
   },
   "outputs": [],
   "source": [
    "# FIRST-AUTHOR: remove ML code\n",
    "# lm.summary()"
   ]
  },
  {
   "cell_type": "code",
   "execution_count": null,
   "metadata": {
    "_cell_guid": "84485401-7f06-4985-a065-7b3867af9eff",
    "_uuid": "95642e98a5dda74f3e44fa603cc4595497f5931c"
   },
   "outputs": [],
   "source": []
  },
  {
   "cell_type": "code",
   "execution_count": 80,
   "metadata": {
    "_cell_guid": "6aeabc32-8c47-48e4-86e8-ec9d6a22e7bb",
    "_uuid": "69ea81614667a07ceb14a12164cb985465044678"
   },
   "outputs": [
    {
     "data": {
      "text/html": [
       "<div>\n",
       "<style scoped>\n",
       "    .dataframe tbody tr th:only-of-type {\n",
       "        vertical-align: middle;\n",
       "    }\n",
       "\n",
       "    .dataframe tbody tr th {\n",
       "        vertical-align: top;\n",
       "    }\n",
       "\n",
       "    .dataframe thead th {\n",
       "        text-align: right;\n",
       "    }\n",
       "</style>\n",
       "<table border=\"1\" class=\"dataframe\">\n",
       "  <thead>\n",
       "    <tr style=\"text-align: right;\">\n",
       "      <th></th>\n",
       "      <th>0</th>\n",
       "    </tr>\n",
       "  </thead>\n",
       "  <tbody>\n",
       "    <tr>\n",
       "      <th>firstFlrSF</th>\n",
       "      <td>0</td>\n",
       "    </tr>\n",
       "    <tr>\n",
       "      <th>MasVnrType</th>\n",
       "      <td>0</td>\n",
       "    </tr>\n",
       "    <tr>\n",
       "      <th>GarageFinish+KitchenAbvGr</th>\n",
       "      <td>0</td>\n",
       "    </tr>\n",
       "    <tr>\n",
       "      <th>WoodDeckSF</th>\n",
       "      <td>0</td>\n",
       "    </tr>\n",
       "    <tr>\n",
       "      <th>LandContour</th>\n",
       "      <td>0</td>\n",
       "    </tr>\n",
       "    <tr>\n",
       "      <th>...</th>\n",
       "      <td>...</td>\n",
       "    </tr>\n",
       "    <tr>\n",
       "      <th>RoofStyle</th>\n",
       "      <td>0</td>\n",
       "    </tr>\n",
       "    <tr>\n",
       "      <th>GarageYrBlt</th>\n",
       "      <td>0</td>\n",
       "    </tr>\n",
       "    <tr>\n",
       "      <th>KitchenQual</th>\n",
       "      <td>0</td>\n",
       "    </tr>\n",
       "    <tr>\n",
       "      <th>Foundation</th>\n",
       "      <td>0</td>\n",
       "    </tr>\n",
       "    <tr>\n",
       "      <th>GarageQual</th>\n",
       "      <td>0</td>\n",
       "    </tr>\n",
       "  </tbody>\n",
       "</table>\n",
       "<p>74 rows \u00d7 1 columns</p>\n",
       "</div>"
      ],
      "text/plain": [
       "                           0\n",
       "firstFlrSF                 0\n",
       "MasVnrType                 0\n",
       "GarageFinish+KitchenAbvGr  0\n",
       "WoodDeckSF                 0\n",
       "LandContour                0\n",
       "...                       ..\n",
       "RoofStyle                  0\n",
       "GarageYrBlt                0\n",
       "KitchenQual                0\n",
       "Foundation                 0\n",
       "GarageQual                 0\n",
       "\n",
       "[74 rows x 1 columns]"
      ]
     },
     "execution_count": 80,
     "metadata": {},
     "output_type": "execute_result"
    }
   ],
   "source": [
    "# FIRST-AUTHOR: remove ML code\n",
    "# imc = pd.DataFrame(lm.pvalues)\n",
    "# imc\n",
    "imc = pd.DataFrame(pd.Series(0, index=['firstFlrSF', 'MasVnrType', 'GarageFinish+KitchenAbvGr',\n",
    "                                       'WoodDeckSF', 'LandContour', 'LandSlope', 'GarageCars',\n",
    "                                       'Street', 'Exterior1st', 'iindFlrSF', 'SaleCondition',\n",
    "                                       'Electrical', 'LotConfig', 'HeatingQC', 'PavedDrive', 'LotArea',\n",
    "                                       'BsmtUnfSF', 'RoofMatl', 'TotRmsAbvGrd', 'BsmtFullBath', 'ExterQual',\n",
    "                                       'BedroomAbvGr', 'EnclosedPorch', 'BsmtQual', 'BsmtFinSF2', 'GarageCond',\n",
    "                                       'HouseStyle', 'GrLivArea', 'PoolArea', 'Utilities', 'BsmtExposure',\n",
    "                                       'HalfBath', 'Condition1', 'YrSold', 'MasVnrArea', 'BldgType',\n",
    "                                       'MSZoning', 'Fireplaces', 'FireplaceQu', 'BsmtFinType1', 'YearBuilt',\n",
    "                                       'BsmtHalfBath', 'Heating', 'SaleType', 'BsmtCond', 'MSSubClass',\n",
    "                                       'ScreenPorch', 'OpenPorchSF', 'FullBath', 'BsmtFinSF1', 'MoSold',\n",
    "                                       'LowQualFinSF', 'GarageType', 'Exterior2nd', 'iiiSsnPorch',\n",
    "                                       'TotalBsmtSF', 'ExterCond', 'Neighborhood', 'OverallQual',\n",
    "                                       'GarageArea', 'LotShape', 'MiscVal', 'YearRemodAdd',\n",
    "                                       'OverallCond', 'BsmtFinType2', 'Condition2', 'CentralAir',\n",
    "                                       'LotFrontage', 'Functional', 'RoofStyle', 'GarageYrBlt', 'KitchenQual',\n",
    "                                       'Foundation', 'GarageQual']))\n",
    "imc"
   ]
  },
  {
   "cell_type": "code",
   "execution_count": 81,
   "metadata": {
    "_cell_guid": "bd9f52ca-6c05-4f17-9bd7-6ef9a5cd2244",
    "_uuid": "f33421a85e42d5b56819146388efca0c225c4b68"
   },
   "outputs": [
    {
     "data": {
      "text/plain": [
       "Index(['firstFlrSF', 'MasVnrType', 'GarageFinish+KitchenAbvGr', 'WoodDeckSF',\n",
       "       'LandContour', 'LandSlope', 'GarageCars', 'Street', 'Exterior1st',\n",
       "       'iindFlrSF', 'SaleCondition', 'Electrical', 'LotConfig', 'HeatingQC',\n",
       "       'PavedDrive', 'LotArea', 'BsmtUnfSF', 'RoofMatl', 'TotRmsAbvGrd',\n",
       "       'BsmtFullBath', 'ExterQual', 'BedroomAbvGr', 'EnclosedPorch',\n",
       "       'BsmtQual', 'BsmtFinSF2', 'GarageCond', 'HouseStyle', 'GrLivArea',\n",
       "       'PoolArea', 'Utilities', 'BsmtExposure', 'HalfBath', 'Condition1',\n",
       "       'YrSold', 'MasVnrArea', 'BldgType', 'MSZoning', 'Fireplaces',\n",
       "       'FireplaceQu', 'BsmtFinType1', 'YearBuilt', 'BsmtHalfBath', 'Heating',\n",
       "       'SaleType', 'BsmtCond', 'MSSubClass', 'ScreenPorch', 'OpenPorchSF',\n",
       "       'FullBath', 'BsmtFinSF1', 'MoSold', 'LowQualFinSF', 'GarageType',\n",
       "       'Exterior2nd', 'iiiSsnPorch', 'TotalBsmtSF', 'ExterCond',\n",
       "       'Neighborhood', 'OverallQual', 'GarageArea', 'LotShape', 'MiscVal',\n",
       "       'YearRemodAdd', 'OverallCond', 'BsmtFinType2', 'Condition2',\n",
       "       'CentralAir', 'LotFrontage', 'Functional', 'RoofStyle', 'GarageYrBlt',\n",
       "       'KitchenQual', 'Foundation', 'GarageQual'],\n",
       "      dtype='object')"
      ]
     },
     "execution_count": 81,
     "metadata": {},
     "output_type": "execute_result"
    }
   ],
   "source": [
    "best_features = imc[imc[0] <= 0.05].index\n",
    "best_features"
   ]
  },
  {
   "cell_type": "code",
   "execution_count": 82,
   "metadata": {
    "_cell_guid": "203686ad-5036-437e-b9d3-e68eb858c8d0",
    "_uuid": "d7dc6bfd22b2a64f1db6670d1fa68eb1a2ad6a35"
   },
   "outputs": [],
   "source": [
    "# FIRST-AUTHOR: remove ML code\n",
    "# from statsmodels.stats.outliers_influence import variance_inflation_factor as vif"
   ]
  },
  {
   "cell_type": "code",
   "execution_count": 83,
   "metadata": {
    "_cell_guid": "3146e836-10a9-4a5c-bcea-76b77bc931f2",
    "_uuid": "ce82070b8794bd4236c6069e512650a717c93684"
   },
   "outputs": [],
   "source": [
    "# FIRST-AUTHOR: remove ML code\n",
    "# train['intercept'] = lm.params[0]\n",
    "train['intercept'] = 210016.3483272409"
   ]
  },
  {
   "cell_type": "code",
   "execution_count": 84,
   "metadata": {
    "_cell_guid": "14d76998-687d-4c6a-b8d4-8494fbf6be5a",
    "_uuid": "eb140385a513c04259a0464365c34e885a06d34c"
   },
   "outputs": [],
   "source": [
    "for i in range(18):\n",
    "# FIRST-AUTHOR: make notebook run, remove ML code\n",
    "#     print (vif(train[['firstFlrSF', 'WoodDeckSF', 'GarageCars', 'iindFlrSF', 'LotArea',\n",
    "#        'BsmtUnfSF', 'GrLivArea', 'PoolArea', 'Fireplaces', 'YearBuilt',\n",
    "#        'ScreenPorch', 'LowQualFinSF', 'TotalBsmtSF', 'OverallQual',\n",
    "#        'GarageArea', 'YearRemodAdd', 'OverallCond','intercept']].as_matrix(), i))\n",
    "    _ = train[['firstFlrSF', 'WoodDeckSF', 'GarageCars', 'iindFlrSF', 'LotArea',\n",
    "       'BsmtUnfSF', 'GrLivArea', 'PoolArea', 'Fireplaces', 'YearBuilt',\n",
    "       'ScreenPorch', 'LowQualFinSF', 'TotalBsmtSF', 'OverallQual',\n",
    "       'GarageArea', 'YearRemodAdd', 'OverallCond','intercept']].to_numpy()"
   ]
  },
  {
   "cell_type": "code",
   "execution_count": 85,
   "metadata": {
    "_cell_guid": "460d330b-442b-498b-93ad-a94a05bc2873",
    "_uuid": "06f92f71cb2b9e5a351be24f64498657888c4700"
   },
   "outputs": [],
   "source": [
    "train_a = train[ ['GarageFinish','Exterior1st','SaleCondition', 'LotConfig', 'RoofMatl', 'ExterQual', 'BsmtQual',  'GarageCond',\n",
    "        'BsmtExposure', 'Condition1','BldgType', 'MSZoning', 'SaleType','GarageType', 'Exterior2nd','Neighborhood', 'Condition2',\n",
    "       'Functional', 'GarageYrBlt', 'KitchenQual','Foundation', 'GarageQual', 'WoodDeckSF', 'LotArea',\n",
    "       'BsmtUnfSF', 'Fireplaces', 'YearBuilt','ScreenPorch', 'LowQualFinSF', 'TotalBsmtSF', 'OverallQual',\n",
    "       'YearRemodAdd', 'OverallCond','SalePrice']]"
   ]
  },
  {
   "cell_type": "code",
   "execution_count": 86,
   "metadata": {
    "_cell_guid": "31def3ed-c14b-44ca-a119-11510a2941d4",
    "_uuid": "b4b45a35eec52ef24c7368bc8c616eb4cb14b67c"
   },
   "outputs": [
    {
     "name": "stdout",
     "output_type": "stream",
     "text": [
      "<class 'pandas.core.frame.DataFrame'>\n",
      "RangeIndex: 1460 entries, 0 to 1459\n",
      "Data columns (total 34 columns):\n",
      " #   Column         Non-Null Count  Dtype  \n",
      "---  ------         --------------  -----  \n",
      " 0   GarageFinish   1460 non-null   object \n",
      " 1   Exterior1st    1460 non-null   object \n",
      " 2   SaleCondition  1460 non-null   object \n",
      " 3   LotConfig      1460 non-null   object \n",
      " 4   RoofMatl       1460 non-null   object \n",
      " 5   ExterQual      1460 non-null   object \n",
      " 6   BsmtQual       1460 non-null   object \n",
      " 7   GarageCond     1460 non-null   object \n",
      " 8   BsmtExposure   1460 non-null   object \n",
      " 9   Condition1     1460 non-null   object \n",
      " 10  BldgType       1460 non-null   object \n",
      " 11  MSZoning       1460 non-null   object \n",
      " 12  SaleType       1460 non-null   object \n",
      " 13  GarageType     1460 non-null   object \n",
      " 14  Exterior2nd    1460 non-null   object \n",
      " 15  Neighborhood   1460 non-null   object \n",
      " 16  Condition2     1460 non-null   object \n",
      " 17  Functional     1460 non-null   object \n",
      " 18  GarageYrBlt    1460 non-null   object \n",
      " 19  KitchenQual    1460 non-null   object \n",
      " 20  Foundation     1460 non-null   object \n",
      " 21  GarageQual     1460 non-null   object \n",
      " 22  WoodDeckSF     1460 non-null   float64\n",
      " 23  LotArea        1460 non-null   float64\n",
      " 24  BsmtUnfSF      1460 non-null   int64  \n",
      " 25  Fireplaces     1460 non-null   int64  \n",
      " 26  YearBuilt      1460 non-null   int64  \n",
      " 27  ScreenPorch    1460 non-null   float64\n",
      " 28  LowQualFinSF   1460 non-null   int64  \n",
      " 29  TotalBsmtSF    1460 non-null   float64\n",
      " 30  OverallQual    1460 non-null   int64  \n",
      " 31  YearRemodAdd   1460 non-null   int64  \n",
      " 32  OverallCond    1460 non-null   int64  \n",
      " 33  SalePrice      1460 non-null   float64\n",
      "dtypes: float64(5), int64(7), object(22)\n",
      "memory usage: 387.9+ KB\n"
     ]
    }
   ],
   "source": [
    "best_train = train_a\n",
    "best_train.info()"
   ]
  },
  {
   "cell_type": "markdown",
   "metadata": {
    "_cell_guid": "bb4b6587-eee3-417d-897d-c101c92c753c",
    "_uuid": "3385f9d07e3e04431fdf9be5a7315082017dce97"
   },
   "source": [
    "## Random Forest Feature Importance"
   ]
  },
  {
   "cell_type": "code",
   "execution_count": 87,
   "metadata": {
    "_cell_guid": "01b2e0f6-bec4-43d0-8c09-ab86cc641cca",
    "_uuid": "a704b2e4dabf8a2a17d4d6372f5ae00c5c20903f"
   },
   "outputs": [],
   "source": [
    "# FIRST-AUTHOR: remove ML code\n",
    "# from sklearn.ensemble import RandomForestRegressor"
   ]
  },
  {
   "cell_type": "code",
   "execution_count": 88,
   "metadata": {
    "_cell_guid": "ef8b3e61-8e39-4021-92b2-ad897a24d8fc",
    "_uuid": "dd494e7c37cb7f8338836bac5c2dc5dfc33a1238"
   },
   "outputs": [],
   "source": [
    "train_d = pd.get_dummies(train)"
   ]
  },
  {
   "cell_type": "code",
   "execution_count": 89,
   "metadata": {
    "_cell_guid": "b0ede9f5-206d-40aa-9dae-179734b50057",
    "_uuid": "2bec960d686475063b0ade2dc45fb9b506097ab1"
   },
   "outputs": [],
   "source": [
    "numeric = train._get_numeric_data()\n",
    "category = train.drop(numeric.columns,axis = 1)"
   ]
  },
  {
   "cell_type": "code",
   "execution_count": 90,
   "metadata": {
    "_cell_guid": "2930185b-f28e-42dc-8936-4a37cb95896e",
    "_uuid": "32afe34f88ca61c17a55aefbfb77bc41dbc8d335"
   },
   "outputs": [],
   "source": [
    "train_dx = train_d.drop([\"SalePrice\"],axis = 1)\n",
    "train_dy = train_d.SalePrice"
   ]
  },
  {
   "cell_type": "code",
   "execution_count": 91,
   "metadata": {
    "_cell_guid": "de242d8e-09f1-434e-89ed-8e1e2ca61165",
    "_uuid": "ff7de4f6096b057b52989750367eaba9760df55e"
   },
   "outputs": [],
   "source": [
    "# FIRST-AUTHOR: remove ML code\n",
    "# from sklearn.cross_validation import train_test_split"
   ]
  },
  {
   "cell_type": "code",
   "execution_count": 92,
   "metadata": {
    "_cell_guid": "4bb60c20-d256-4fdc-a1b0-3fe8a1ca3890",
    "_uuid": "52de9b4d2dc7ace4aff091c45b8484af5597be0f"
   },
   "outputs": [],
   "source": [
    "# FIRST-AUTHOR: remove ML code\n",
    "# X_train, X_test, Y_train, Y_test = train_test_split(\n",
    "#         train_dx,\n",
    "#         train_dy,\n",
    "#         test_size=0.20,\n",
    "#         random_state=123)"
   ]
  },
  {
   "cell_type": "code",
   "execution_count": null,
   "metadata": {
    "_cell_guid": "7f351015-a4ee-4419-8dc4-d4a390bb6635",
    "_uuid": "eaeea8df4557757a2355e9c898e32cfa2218c95a"
   },
   "outputs": [],
   "source": []
  },
  {
   "cell_type": "code",
   "execution_count": 93,
   "metadata": {
    "_cell_guid": "8e0fc15d-eec0-42d0-9be8-4e1208b0427e",
    "_uuid": "5e7824f4741ec563d8da0cd22cbe261c50eacdba"
   },
   "outputs": [],
   "source": [
    "# FIRST-AUTHOR: remove ML code\n",
    "# radm_clf = RandomForestRegressor(oob_score=True,n_estimators=100 )\n",
    "# radm_clf.fit( X_train, Y_train )"
   ]
  },
  {
   "cell_type": "code",
   "execution_count": 94,
   "metadata": {
    "_cell_guid": "d13f900b-2a5e-48f7-bb5e-a7e1a12cb5a8",
    "_uuid": "e29778dddd6bce3f6381e97ddefa47296a6e63e3"
   },
   "outputs": [],
   "source": [
    "# FIRST-AUTHOR: remove ML code\n",
    "# indices = np.argsort(radm_clf.feature_importances_)[::-1]\n",
    "feature_rank = pd.DataFrame( columns = ['rank', 'feature', 'importance'] )\n",
    "# FIRST-AUTHOR: remove ML code\n",
    "# for f in range(X_train.shape[1]):\n",
    "#     feature_rank.loc[f] = [f+1,\n",
    "#                          X_train.columns[indices[f]],\n",
    "#                          radm_clf.feature_importances_[indices[f]]]\n",
    "# f, ax = plt.subplots(figsize=(10,100))\n",
    "# sns.barplot( y = 'feature', x = 'importance', data = feature_rank, color = 'Yellow')\n",
    "# plt.show()"
   ]
  },
  {
   "cell_type": "code",
   "execution_count": 95,
   "metadata": {
    "_cell_guid": "e82c7fcd-0cb9-4249-ba8a-bc7a5dbbf678",
    "_uuid": "16c6ec11fadf1633dfce5c753771d276bd4d377e"
   },
   "outputs": [
    {
     "data": {
      "text/html": [
       "<div>\n",
       "<style scoped>\n",
       "    .dataframe tbody tr th:only-of-type {\n",
       "        vertical-align: middle;\n",
       "    }\n",
       "\n",
       "    .dataframe tbody tr th {\n",
       "        vertical-align: top;\n",
       "    }\n",
       "\n",
       "    .dataframe thead th {\n",
       "        text-align: right;\n",
       "    }\n",
       "</style>\n",
       "<table border=\"1\" class=\"dataframe\">\n",
       "  <thead>\n",
       "    <tr style=\"text-align: right;\">\n",
       "      <th></th>\n",
       "      <th>rank</th>\n",
       "      <th>feature</th>\n",
       "      <th>importance</th>\n",
       "    </tr>\n",
       "  </thead>\n",
       "  <tbody>\n",
       "  </tbody>\n",
       "</table>\n",
       "</div>"
      ],
      "text/plain": [
       "Empty DataFrame\n",
       "Columns: [rank, feature, importance]\n",
       "Index: []"
      ]
     },
     "execution_count": 95,
     "metadata": {},
     "output_type": "execute_result"
    }
   ],
   "source": [
    "ff = feature_rank.head(30)\n",
    "ff"
   ]
  },
  {
   "cell_type": "code",
   "execution_count": 96,
   "metadata": {
    "_cell_guid": "4d780be1-7754-44ec-b606-730e7e2fdc49",
    "_uuid": "3a8690dff4eaf31ab22693297e74393df9344573",
    "scrolled": true
   },
   "outputs": [
    {
     "data": {
      "text/plain": [
       "[]"
      ]
     },
     "execution_count": 96,
     "metadata": {},
     "output_type": "execute_result"
    }
   ],
   "source": [
    "list(ff.feature)"
   ]
  },
  {
   "cell_type": "code",
   "execution_count": 97,
   "metadata": {
    "_cell_guid": "947d2ad6-780c-4b57-a86d-af06d42475f8",
    "_uuid": "a822c434c225a99f35eeb284d5d05465c75f3f81"
   },
   "outputs": [],
   "source": [
    "final_cols = train_d[['OverallQual','GrLivArea','GarageCars', 'TotalBsmtSF', 'BsmtFinSF1', 'firstFlrSF',\n",
    " 'GarageArea', 'LotArea', 'YearBuilt', 'OpenPorchSF', 'FullBath', 'LotFrontage', 'BsmtUnfSF', 'YearRemodAdd',\n",
    " 'OverallCond','iindFlrSF','MasVnrArea','GarageType_Detchd','WoodDeckSF','MoSold','BsmtQual_Gd','TotRmsAbvGrd',\n",
    " 'Neighborhood_Edwards','KitchenAbvGr','MSZoning_RM','MSSubClass','BsmtQual_Ex','GarageType_Attchd',\n",
    "'ExterQual_Ex','KitchenQual_Gd']]"
   ]
  },
  {
   "cell_type": "code",
   "execution_count": 98,
   "metadata": {
    "_cell_guid": "b71eadef-2de7-420b-81a3-5bea6637cb82",
    "_uuid": "529be90f82232c38ea88a0019ecbc330a6801d0c"
   },
   "outputs": [],
   "source": [
    "data_x = final_cols\n",
    "data_y = train.SalePrice\n",
    "final_data = pd.concat([data_x,data_y],axis = 1)"
   ]
  },
  {
   "cell_type": "code",
   "execution_count": 99,
   "metadata": {
    "_cell_guid": "f3c45a52-d2b9-4917-8568-77df2a24df4d",
    "_uuid": "b607fe98c2ba84489e256569774cda0d15d85db4"
   },
   "outputs": [
    {
     "data": {
      "text/plain": [
       "'OverallQual+GrLivArea+GarageCars+TotalBsmtSF+BsmtFinSF1+firstFlrSF+GarageArea+LotArea+YearBuilt+OpenPorchSF+FullBath+LotFrontage+BsmtUnfSF+YearRemodAdd+OverallCond+iindFlrSF+MasVnrArea+GarageType_Detchd+WoodDeckSF+MoSold+BsmtQual_Gd+TotRmsAbvGrd+Neighborhood_Edwards+KitchenAbvGr+MSZoning_RM+MSSubClass+BsmtQual_Ex+GarageType_Attchd+ExterQual_Ex+KitchenQual_Gd'"
      ]
     },
     "execution_count": 99,
     "metadata": {},
     "output_type": "execute_result"
    }
   ],
   "source": [
    "feats = \"+\".join(data_x)\n",
    "feats"
   ]
  },
  {
   "cell_type": "code",
   "execution_count": 100,
   "metadata": {
    "_cell_guid": "3e8bcb5e-787f-4f87-9b1d-78ce41daddad",
    "_uuid": "a312e3341cd532f68f1a8f742853898f6e707ab9"
   },
   "outputs": [],
   "source": [
    "# FIRST-AUTHOR: remove ML code\n",
    "# import statsmodels.api as sm\n",
    "# import statsmodels.formula.api as smf"
   ]
  },
  {
   "cell_type": "code",
   "execution_count": 101,
   "metadata": {
    "_cell_guid": "847ec3ba-4763-4ed3-8d5d-290524875670",
    "_uuid": "0123f52ca9c99385cd9f0f84122ad539bff8523d"
   },
   "outputs": [],
   "source": [
    "final_data = final_data.rename(columns ={'1stFlrSF':'firstFlrSF','2ndFlrSF':'iindFlrSF'})"
   ]
  },
  {
   "cell_type": "code",
   "execution_count": 102,
   "metadata": {
    "_cell_guid": "47fc3c15-6f08-4e38-b554-90ec1d86f6aa",
    "_uuid": "2bef729c32daad2b135f038401a58603ef045154"
   },
   "outputs": [],
   "source": [
    "# FIRST-AUTHOR: remove ML code\n",
    "# lm=smf.ols('SalePrice~OverallQual+GrLivArea+GarageCars+TotalBsmtSF+BsmtFinSF1+firstFlrSF+GarageArea+LotArea+YearBuilt+OpenPorchSF+FullBath+LotFrontage+BsmtUnfSF+YearRemodAdd+OverallCond+iindFlrSF+MasVnrArea+GarageType_Detchd+WoodDeckSF+MoSold+BsmtQual_Gd+TotRmsAbvGrd+Neighborhood_Edwards+KitchenAbvGr+MSZoning_RM+MSSubClass+BsmtQual_Ex+GarageType_Attchd+ExterQual_Ex+KitchenQual_Gd',final_data).fit()"
   ]
  },
  {
   "cell_type": "code",
   "execution_count": 103,
   "metadata": {
    "_cell_guid": "eee88568-1b55-4dea-b9be-ba489991c865",
    "_uuid": "b227f6241ccf970b8b7f349be6e486ed4b1e8aed"
   },
   "outputs": [],
   "source": [
    "# FIRST-AUTHOR: remove ML code\n",
    "# lm.summary()"
   ]
  },
  {
   "cell_type": "code",
   "execution_count": 104,
   "metadata": {
    "_cell_guid": "cc880fb3-13ee-41af-8831-43908a01f560",
    "_uuid": "35f9b7a3b3268eafb551804334452f49e2d577b1"
   },
   "outputs": [],
   "source": [
    "# FIRST-AUTHOR: remove ML code\n",
    "# lm.pvalues"
   ]
  },
  {
   "cell_type": "markdown",
   "metadata": {
    "_cell_guid": "cdba577b-270a-4878-a249-f2fda3eabf29",
    "_uuid": "db53cdc8edb81f2e6193553486ecdf71063a3f09"
   },
   "source": [
    "## Multi-Collinearity"
   ]
  },
  {
   "cell_type": "code",
   "execution_count": 105,
   "metadata": {
    "_cell_guid": "e12166f4-8e7a-42de-8874-35c4a49c58f8",
    "_uuid": "2ef539f378b4003b4f335e242403bbebfb25bf8f"
   },
   "outputs": [],
   "source": [
    "# FIRST-AUTHOR: remove ML code\n",
    "# from statsmodels.stats.outliers_influence import variance_inflation_factor as vif"
   ]
  },
  {
   "cell_type": "code",
   "execution_count": 106,
   "metadata": {
    "_cell_guid": "27544092-643a-4129-b885-7f2e434550a8",
    "_uuid": "f424e540ac1be927f1d1a2b47887abbc11cb1cd2"
   },
   "outputs": [],
   "source": [
    "# FIRST-AUTHOR: remove ML code\n",
    "# final_data['intercept'] = lm.params[0]\n",
    "final_data['intercept'] = -831389.4696019923"
   ]
  },
  {
   "cell_type": "code",
   "execution_count": 107,
   "metadata": {
    "_cell_guid": "da37d59d-3d07-4148-8d5e-dae4254272df",
    "_uuid": "61fd6bfe9977563e28ce00c44e8f59a1e384ce9e"
   },
   "outputs": [
    {
     "data": {
      "text/plain": [
       "Index(['OverallQual', 'GrLivArea', 'GarageCars', 'TotalBsmtSF', 'BsmtFinSF1',\n",
       "       'firstFlrSF', 'GarageArea', 'LotArea', 'YearBuilt', 'OpenPorchSF',\n",
       "       'FullBath', 'LotFrontage', 'BsmtUnfSF', 'YearRemodAdd', 'OverallCond',\n",
       "       'iindFlrSF', 'MasVnrArea', 'GarageType_Detchd', 'WoodDeckSF', 'MoSold',\n",
       "       'BsmtQual_Gd', 'TotRmsAbvGrd', 'Neighborhood_Edwards', 'KitchenAbvGr',\n",
       "       'MSZoning_RM', 'MSSubClass', 'BsmtQual_Ex', 'GarageType_Attchd',\n",
       "       'ExterQual_Ex', 'KitchenQual_Gd', 'SalePrice', 'intercept'],\n",
       "      dtype='object')"
      ]
     },
     "execution_count": 107,
     "metadata": {},
     "output_type": "execute_result"
    }
   ],
   "source": [
    "final_data.columns"
   ]
  },
  {
   "cell_type": "markdown",
   "metadata": {
    "_cell_guid": "8781e422-1374-4700-82ab-316998de97e3",
    "_uuid": "12bdb4d7eb18232ec17c44fb17766e6486f95914"
   },
   "source": [
    "# Variance Inflation Factor"
   ]
  },
  {
   "cell_type": "code",
   "execution_count": 108,
   "metadata": {
    "_cell_guid": "388b9af7-9209-4f40-9ff9-8e7120ea12ab",
    "_uuid": "c5c21ff69e14341afea46d334d45638d220b53ae"
   },
   "outputs": [],
   "source": [
    "for i in range(31):\n",
    "# FIRST-AUTHOR: make notebook run\n",
    "#     print (vif(final_data[['OverallQual', 'GrLivArea', 'GarageCars', 'TotalBsmtSF', 'BsmtFinSF1',\n",
    "#        'firstFlrSF', 'GarageArea', 'LotArea', 'YearBuilt', 'OpenPorchSF',\n",
    "#        'FullBath', 'LotFrontage', 'BsmtUnfSF', 'YearRemodAdd', 'OverallCond',\n",
    "#        'iindFlrSF', 'MasVnrArea', 'GarageType_Detchd', 'WoodDeckSF', 'MoSold',\n",
    "#        'BsmtQual_Gd', 'TotRmsAbvGrd', 'Neighborhood_Edwards', 'KitchenAbvGr',\n",
    "#        'MSZoning_RM', 'MSSubClass', 'BsmtQual_Ex', 'GarageType_Attchd',\n",
    "#        'ExterQual_Ex', 'KitchenQual_Gd','intercept']].as_matrix(), i))\n",
    "    final_data[['OverallQual', 'GrLivArea', 'GarageCars', 'TotalBsmtSF', 'BsmtFinSF1',\n",
    "       'firstFlrSF', 'GarageArea', 'LotArea', 'YearBuilt', 'OpenPorchSF',\n",
    "       'FullBath', 'LotFrontage', 'BsmtUnfSF', 'YearRemodAdd', 'OverallCond',\n",
    "       'iindFlrSF', 'MasVnrArea', 'GarageType_Detchd', 'WoodDeckSF', 'MoSold',\n",
    "       'BsmtQual_Gd', 'TotRmsAbvGrd', 'Neighborhood_Edwards', 'KitchenAbvGr',\n",
    "       'MSZoning_RM', 'MSSubClass', 'BsmtQual_Ex', 'GarageType_Attchd',\n",
    "       'ExterQual_Ex', 'KitchenQual_Gd','intercept']].to_numpy()"
   ]
  },
  {
   "cell_type": "code",
   "execution_count": 109,
   "metadata": {
    "_cell_guid": "997d9cd9-67c7-4120-aa55-023db4a02a67",
    "_uuid": "7c78ec31cf81497e63c84043ec738beecc51cce7"
   },
   "outputs": [],
   "source": [
    "final_data = final_data.rename(columns ={'firstFlrSF':'1stFlrSF','iindFlrSF':'2ndFlrSF'})"
   ]
  },
  {
   "cell_type": "code",
   "execution_count": 110,
   "metadata": {
    "_cell_guid": "441fe89f-7b9f-4236-8b20-2ae6307fa4f4",
    "_uuid": "86c50efc618a51875eb08b08e8ae7ff1c5e38346"
   },
   "outputs": [],
   "source": [
    "final_data1 = final_data.drop(['GrLivArea', 'GarageCars', 'BsmtFinSF1', 'TotalBsmtSF',\n",
    "       '1stFlrSF', 'GarageArea','YearBuilt','BsmtUnfSF','2ndFlrSF'],axis = 1)"
   ]
  },
  {
   "cell_type": "markdown",
   "metadata": {
    "_cell_guid": "eec004bf-1216-42e2-8a9b-58f1339174ed",
    "_uuid": "36fae81d4ca67da8b50e41308694c7c0b9fda56f"
   },
   "source": [
    "# F-TEST / ANOVA"
   ]
  },
  {
   "cell_type": "code",
   "execution_count": 111,
   "metadata": {
    "_cell_guid": "861fa9e8-0c3a-4ffd-98dd-3f96ac81191b",
    "_uuid": "6d5b39eb2c98d15aae01c6bad7f3b5ac52181f7f"
   },
   "outputs": [],
   "source": [
    "# FIRST-AUTHOR: remove ML code\n",
    "# import scipy.stats as stats"
   ]
  },
  {
   "cell_type": "code",
   "execution_count": 112,
   "metadata": {
    "_cell_guid": "f4504dd0-769b-4f29-8400-353423ee1ed1",
    "_uuid": "576495815ad934fc5b36177d22ca657e6b5eb709"
   },
   "outputs": [
    {
     "data": {
      "text/plain": [
       "Neighborhood\n",
       "NAmes      225\n",
       "CollgCr    150\n",
       "OldTown    113\n",
       "Edwards    100\n",
       "Somerst     86\n",
       "Gilbert     79\n",
       "NridgHt     77\n",
       "Sawyer      74\n",
       "NWAmes      73\n",
       "SawyerW     59\n",
       "BrkSide     58\n",
       "Crawfor     51\n",
       "Mitchel     49\n",
       "NoRidge     41\n",
       "Timber      38\n",
       "IDOTRR      37\n",
       "ClearCr     28\n",
       "StoneBr     25\n",
       "SWISU       25\n",
       "MeadowV     17\n",
       "Blmngtn     17\n",
       "BrDale      16\n",
       "Veenker     11\n",
       "NPkVill      9\n",
       "Blueste      2\n",
       "Name: count, dtype: int64"
      ]
     },
     "execution_count": 112,
     "metadata": {},
     "output_type": "execute_result"
    }
   ],
   "source": [
    "train.Neighborhood.value_counts()"
   ]
  },
  {
   "cell_type": "code",
   "execution_count": 113,
   "metadata": {
    "_cell_guid": "d010b9cc-4b42-4334-9e95-2076ae83ac28",
    "_uuid": "b5797173a167137a8b2012033622a1e8fe79ca4a"
   },
   "outputs": [],
   "source": [
    "nb1 = train.SalePrice[train.Neighborhood=='NAmes']\n",
    "nb2 = train.SalePrice[train.Neighborhood=='CollgCr']\n",
    "nb3 = train.SalePrice[train.Neighborhood=='Edwards']\n",
    "nb4 = train.SalePrice[train.Neighborhood=='Somerst']\n",
    "nb5 = train.SalePrice[train.Neighborhood=='Gilbert']\n",
    "nb6 = train.SalePrice[train.Neighborhood=='NridgHt']\n",
    "nb7 = train.SalePrice[train.Neighborhood=='Sawyer']\n",
    "nb8 = train.SalePrice[train.Neighborhood=='NWAmes']\n",
    "nb9 = train.SalePrice[train.Neighborhood=='SawyerW']\n",
    "nb10 = train.SalePrice[train.Neighborhood=='BrkSide']\n",
    "nb11 = train.SalePrice[train.Neighborhood=='Crawfor']\n",
    "nb12= train.SalePrice[train.Neighborhood=='Mitchel']\n",
    "nb13 = train.SalePrice[train.Neighborhood=='NoRidge']\n",
    "nb14 = train.SalePrice[train.Neighborhood=='Timber']\n",
    "nb15 = train.SalePrice[train.Neighborhood=='IDOTRR']\n",
    "nb16 = train.SalePrice[train.Neighborhood=='ClearCr']\n",
    "nb17 = train.SalePrice[train.Neighborhood=='StoneBr']\n",
    "nb18 = train.SalePrice[train.Neighborhood=='SWISU']\n",
    "nb19 = train.SalePrice[train.Neighborhood=='Blmngtn']\n",
    "nb20 = train.SalePrice[train.Neighborhood=='MeadowV']\n",
    "nb21 = train.SalePrice[train.Neighborhood=='BrDale']\n",
    "nb22 = train.SalePrice[train.Neighborhood=='Veenker']\n",
    "nb23 = train.SalePrice[train.Neighborhood=='NPkVill']\n",
    "nb24 = train.SalePrice[train.Neighborhood=='Blueste']"
   ]
  },
  {
   "cell_type": "code",
   "execution_count": 114,
   "metadata": {
    "_cell_guid": "875dc6f9-501b-41cb-8c0a-ee56270f3399",
    "_uuid": "98e418ee5c8c4d951d77dd9bb418a57e9d0460e9"
   },
   "outputs": [],
   "source": [
    "# FIRST-AUTHOR: remove ML code\n",
    "# stats.f_oneway(nb1,nb2,nb3,nb4,nb5,nb6,nb7,nb8,nb9,nb10,nb11,nb12,nb13,nb14,nb15,nb16,nb17,nb18,nb19,nb20,nb21,nb22,nb23,nb24)"
   ]
  },
  {
   "cell_type": "markdown",
   "metadata": {
    "_cell_guid": "f2118c1c-da1c-4b05-8187-051d15022e75",
    "_uuid": "5b76b4333b88299c3c48e518184c80626a5c3911"
   },
   "source": [
    "## GarageQual"
   ]
  },
  {
   "cell_type": "code",
   "execution_count": 115,
   "metadata": {
    "_cell_guid": "d7934553-5014-4eaa-bb58-825b30c2833a",
    "_uuid": "febbe55786ad2914bab44c55df65e0c1be13a019"
   },
   "outputs": [
    {
     "data": {
      "text/plain": [
       "GarageQual\n",
       "TA    1311\n",
       "NG      81\n",
       "Fa      48\n",
       "Gd      14\n",
       "Ex       3\n",
       "Po       3\n",
       "Name: count, dtype: int64"
      ]
     },
     "execution_count": 115,
     "metadata": {},
     "output_type": "execute_result"
    }
   ],
   "source": [
    "train.GarageQual.value_counts()"
   ]
  },
  {
   "cell_type": "code",
   "execution_count": 116,
   "metadata": {
    "_cell_guid": "ccfd851d-de83-4d32-ad5d-eea197bec6b0",
    "_uuid": "57634265b1065900643eafd311723d85f23137ad"
   },
   "outputs": [],
   "source": [
    "gq1 = train.SalePrice[train.GarageQual=='TA']\n",
    "gq2 = train.SalePrice[train.GarageQual=='NG']\n",
    "gq3 = train.SalePrice[train.GarageQual=='Fa']\n",
    "gq4 = train.SalePrice[train.GarageQual=='Gd']\n",
    "gq5 = train.SalePrice[train.GarageQual=='Ex']\n",
    "gq6 = train.SalePrice[train.GarageQual=='Po']"
   ]
  },
  {
   "cell_type": "code",
   "execution_count": 117,
   "metadata": {
    "_cell_guid": "a011734f-7bf3-433d-8488-6295cfd8d9be",
    "_uuid": "6fb69e82a725213999ff29c570da30355ef224ee"
   },
   "outputs": [],
   "source": [
    "# FIRST-AUTHOR: remove ML code\n",
    "# stats.f_oneway(gq1,gq2,gq3,gq4,gq5)"
   ]
  },
  {
   "cell_type": "markdown",
   "metadata": {
    "_cell_guid": "bea4b452-5191-4847-a618-b419df58dbc2",
    "_uuid": "fd7ea23aea06dcbbc85a83fb446555db902699a6"
   },
   "source": [
    "## GarageCond"
   ]
  },
  {
   "cell_type": "code",
   "execution_count": 118,
   "metadata": {
    "_cell_guid": "98c09b80-3a88-4978-bff6-074218898d26",
    "_uuid": "1213215de0355147e826786b88277e1bac46153f"
   },
   "outputs": [
    {
     "data": {
      "text/plain": [
       "GarageCond\n",
       "TA    1326\n",
       "NG      81\n",
       "Fa      35\n",
       "Gd       9\n",
       "Po       7\n",
       "Ex       2\n",
       "Name: count, dtype: int64"
      ]
     },
     "execution_count": 118,
     "metadata": {},
     "output_type": "execute_result"
    }
   ],
   "source": [
    "train.GarageCond.value_counts()"
   ]
  },
  {
   "cell_type": "code",
   "execution_count": 119,
   "metadata": {
    "_cell_guid": "2cdf73bd-f630-42f6-9bb6-65eeb7e8b076",
    "_uuid": "074e76b02c9f7ae49fe6b76c2d86c3f6fee5f4c7"
   },
   "outputs": [],
   "source": [
    "gc1 = train.SalePrice[train.GarageQual=='TA']\n",
    "gc2 = train.SalePrice[train.GarageQual=='NG']\n",
    "gc3 = train.SalePrice[train.GarageQual=='Fa']\n",
    "gc4 = train.SalePrice[train.GarageQual=='Gd']\n",
    "gc5 = train.SalePrice[train.GarageQual=='Po']\n",
    "gc6 = train.SalePrice[train.GarageQual=='Ex']"
   ]
  },
  {
   "cell_type": "code",
   "execution_count": 120,
   "metadata": {
    "_cell_guid": "a3a02aaf-e7cd-4469-8469-539c76d3a356",
    "_uuid": "3b152e8319beab1b02b3f3417c9139747fe3099b"
   },
   "outputs": [],
   "source": [
    "# FIRST-AUTHOR: remove ML code\n",
    "# stats.f_oneway(gc1,gc2,gc3,gc4,gc5)"
   ]
  },
  {
   "cell_type": "code",
   "execution_count": 121,
   "metadata": {
    "_cell_guid": "96a3b6ba-f8d1-4a33-a7c0-59ef07b0f101",
    "_uuid": "f1f164501efe822728b577e14111d80217a7b948"
   },
   "outputs": [
    {
     "data": {
      "text/plain": [
       "BsmtExposure\n",
       "No    953\n",
       "Av    221\n",
       "Gd    134\n",
       "Mn    114\n",
       "NB     38\n",
       "Name: count, dtype: int64"
      ]
     },
     "execution_count": 121,
     "metadata": {},
     "output_type": "execute_result"
    }
   ],
   "source": [
    "train.BsmtExposure.value_counts()"
   ]
  },
  {
   "cell_type": "code",
   "execution_count": 122,
   "metadata": {
    "_cell_guid": "f5eb26e4-63da-443b-b3b1-7234ca37ae5e",
    "_uuid": "e16baeb12d17edf222febc7d7ec2fd7928def4a7"
   },
   "outputs": [],
   "source": [
    "be1 = train.SalePrice[train.BsmtExposure==\"No\"]\n",
    "be2 = train.SalePrice[train.BsmtExposure==\"Av\"]\n",
    "be3 = train.SalePrice[train.BsmtExposure==\"Gd\"]\n",
    "be4 = train.SalePrice[train.BsmtExposure==\"Mn\"]\n",
    "be5 = train.SalePrice[train.BsmtExposure==\"NB\"]"
   ]
  },
  {
   "cell_type": "code",
   "execution_count": 123,
   "metadata": {
    "_cell_guid": "761c77df-1751-4bcf-a229-daa4bae2f780",
    "_uuid": "2d60e98f081163f784012d23c1b6cafd0e9a5216"
   },
   "outputs": [],
   "source": [
    "# FIRST-AUTHOR: remove ML code\n",
    "# stats.f_oneway(be1,be2,be3,be4,be5)"
   ]
  },
  {
   "cell_type": "code",
   "execution_count": 124,
   "metadata": {
    "_cell_guid": "307a8de3-9033-47cc-ae67-fe5c54924ab4",
    "_uuid": "e39ab21f585648ced62e46a3ed511eca4a985d83"
   },
   "outputs": [],
   "source": [
    "test_data = pd.read_csv('./input/test.scaled.csv')"
   ]
  },
  {
   "cell_type": "code",
   "execution_count": 125,
   "metadata": {
    "_cell_guid": "f4dad74d-80b6-4678-abc2-5577b49d76c1",
    "_uuid": "f2ab624a70b74d5ac471faa3ac493250ac828e2e"
   },
   "outputs": [],
   "source": [
    "test1 = test_data[['OverallQual', 'YearBuilt', 'YearRemodAdd', 'MasVnrArea', 'BsmtFinSF1',\n",
    "       'TotalBsmtSF', 'FullBath', 'TotRmsAbvGrd', 'Fireplaces', \n",
    "       'MSZoning', 'LotShape', 'LotConfig', 'Neighborhood', 'Condition1',\n",
    "       'BldgType', 'HouseStyle', 'RoofStyle', 'RoofMatl', 'ExterQual',\n",
    "       'Foundation', 'BsmtQual', 'BsmtExposure', 'CentralAir', 'FireplaceQu',\n",
    "       'GarageFinish', 'GarageQual', 'GarageCond']]"
   ]
  },
  {
   "cell_type": "code",
   "execution_count": 126,
   "metadata": {
    "_cell_guid": "2dc67ddf-75ce-4ba0-be42-80a7440f24b8",
    "_uuid": "2f0b66190c00ded8ccf45122cb0d243432f08957"
   },
   "outputs": [
    {
     "data": {
      "text/plain": [
       "FireplaceQu     730\n",
       "GarageCond       78\n",
       "GarageQual       78\n",
       "GarageFinish     78\n",
       "BsmtExposure     44\n",
       "BsmtQual         44\n",
       "MasVnrArea       15\n",
       "MSZoning          4\n",
       "BsmtFinSF1        1\n",
       "TotalBsmtSF       1\n",
       "RoofStyle         0\n",
       "CentralAir        0\n",
       "Foundation        0\n",
       "ExterQual         0\n",
       "RoofMatl          0\n",
       "OverallQual       0\n",
       "HouseStyle        0\n",
       "BldgType          0\n",
       "YearBuilt         0\n",
       "Neighborhood      0\n",
       "LotConfig         0\n",
       "LotShape          0\n",
       "Fireplaces        0\n",
       "TotRmsAbvGrd      0\n",
       "FullBath          0\n",
       "YearRemodAdd      0\n",
       "Condition1        0\n",
       "dtype: int64"
      ]
     },
     "execution_count": 126,
     "metadata": {},
     "output_type": "execute_result"
    }
   ],
   "source": [
    "nulls1 = test1.isnull().sum().sort_values(ascending = False)\n",
    "nulls1"
   ]
  },
  {
   "cell_type": "code",
   "execution_count": 127,
   "metadata": {
    "_cell_guid": "1dbb99ea-9b46-418b-a562-b952a8f1d188",
    "_uuid": "0d61290ecf941dde5f6a3476cb2785055eeb8850"
   },
   "outputs": [
    {
     "name": "stderr",
     "output_type": "stream",
     "text": [
      "/tmp/ipykernel_1048331/250353974.py:1: SettingWithCopyWarning: \n",
      "A value is trying to be set on a copy of a slice from a DataFrame.\n",
      "Try using .loc[row_indexer,col_indexer] = value instead\n",
      "\n",
      "See the caveats in the documentation: https://pandas.pydata.org/pandas-docs/stable/user_guide/indexing.html#returning-a-view-versus-a-copy\n",
      "  test1['FireplaceQu']=test1['FireplaceQu'].fillna('NF')\n",
      "/tmp/ipykernel_1048331/250353974.py:2: SettingWithCopyWarning: \n",
      "A value is trying to be set on a copy of a slice from a DataFrame.\n",
      "Try using .loc[row_indexer,col_indexer] = value instead\n",
      "\n",
      "See the caveats in the documentation: https://pandas.pydata.org/pandas-docs/stable/user_guide/indexing.html#returning-a-view-versus-a-copy\n",
      "  test1['GarageCond']=test1['GarageCond'].fillna('NG')\n",
      "/tmp/ipykernel_1048331/250353974.py:3: SettingWithCopyWarning: \n",
      "A value is trying to be set on a copy of a slice from a DataFrame.\n",
      "Try using .loc[row_indexer,col_indexer] = value instead\n",
      "\n",
      "See the caveats in the documentation: https://pandas.pydata.org/pandas-docs/stable/user_guide/indexing.html#returning-a-view-versus-a-copy\n",
      "  test1['GarageFinish']=test1['GarageFinish'].fillna('NG')\n",
      "/tmp/ipykernel_1048331/250353974.py:4: SettingWithCopyWarning: \n",
      "A value is trying to be set on a copy of a slice from a DataFrame.\n",
      "Try using .loc[row_indexer,col_indexer] = value instead\n",
      "\n",
      "See the caveats in the documentation: https://pandas.pydata.org/pandas-docs/stable/user_guide/indexing.html#returning-a-view-versus-a-copy\n",
      "  test1['GarageQual']=test1['GarageQual'].fillna('NG')\n",
      "/tmp/ipykernel_1048331/250353974.py:5: SettingWithCopyWarning: \n",
      "A value is trying to be set on a copy of a slice from a DataFrame.\n",
      "Try using .loc[row_indexer,col_indexer] = value instead\n",
      "\n",
      "See the caveats in the documentation: https://pandas.pydata.org/pandas-docs/stable/user_guide/indexing.html#returning-a-view-versus-a-copy\n",
      "  test1['BsmtExposure']=test1['BsmtExposure'].fillna('NB')\n",
      "/tmp/ipykernel_1048331/250353974.py:6: SettingWithCopyWarning: \n",
      "A value is trying to be set on a copy of a slice from a DataFrame.\n",
      "Try using .loc[row_indexer,col_indexer] = value instead\n",
      "\n",
      "See the caveats in the documentation: https://pandas.pydata.org/pandas-docs/stable/user_guide/indexing.html#returning-a-view-versus-a-copy\n",
      "  test1['BsmtQual'] = test1['BsmtQual'].fillna('NB')\n",
      "/tmp/ipykernel_1048331/250353974.py:7: SettingWithCopyWarning: \n",
      "A value is trying to be set on a copy of a slice from a DataFrame.\n",
      "Try using .loc[row_indexer,col_indexer] = value instead\n",
      "\n",
      "See the caveats in the documentation: https://pandas.pydata.org/pandas-docs/stable/user_guide/indexing.html#returning-a-view-versus-a-copy\n",
      "  test1['MasVnrArea'] = test1['MasVnrArea'].fillna(test1['MasVnrArea'].mean())\n",
      "/tmp/ipykernel_1048331/250353974.py:8: SettingWithCopyWarning: \n",
      "A value is trying to be set on a copy of a slice from a DataFrame.\n",
      "Try using .loc[row_indexer,col_indexer] = value instead\n",
      "\n",
      "See the caveats in the documentation: https://pandas.pydata.org/pandas-docs/stable/user_guide/indexing.html#returning-a-view-versus-a-copy\n",
      "  test1['MSZoning'] = test1['MSZoning'].fillna('RL')\n",
      "/tmp/ipykernel_1048331/250353974.py:9: SettingWithCopyWarning: \n",
      "A value is trying to be set on a copy of a slice from a DataFrame.\n",
      "Try using .loc[row_indexer,col_indexer] = value instead\n",
      "\n",
      "See the caveats in the documentation: https://pandas.pydata.org/pandas-docs/stable/user_guide/indexing.html#returning-a-view-versus-a-copy\n",
      "  test1['BsmtFinSF1'] = test1['BsmtFinSF1'].fillna(test1['BsmtFinSF1'].mean())\n",
      "/tmp/ipykernel_1048331/250353974.py:10: SettingWithCopyWarning: \n",
      "A value is trying to be set on a copy of a slice from a DataFrame.\n",
      "Try using .loc[row_indexer,col_indexer] = value instead\n",
      "\n",
      "See the caveats in the documentation: https://pandas.pydata.org/pandas-docs/stable/user_guide/indexing.html#returning-a-view-versus-a-copy\n",
      "  test1['TotalBsmtSF'] = test1['TotalBsmtSF'].fillna(test1['TotalBsmtSF'].mean())\n"
     ]
    }
   ],
   "source": [
    "test1['FireplaceQu']=test1['FireplaceQu'].fillna('NF')\n",
    "test1['GarageCond']=test1['GarageCond'].fillna('NG')\n",
    "test1['GarageFinish']=test1['GarageFinish'].fillna('NG')\n",
    "test1['GarageQual']=test1['GarageQual'].fillna('NG')\n",
    "test1['BsmtExposure']=test1['BsmtExposure'].fillna('NB')\n",
    "test1['BsmtQual'] = test1['BsmtQual'].fillna('NB')\n",
    "test1['MasVnrArea'] = test1['MasVnrArea'].fillna(test1['MasVnrArea'].mean())\n",
    "test1['MSZoning'] = test1['MSZoning'].fillna('RL')\n",
    "test1['BsmtFinSF1'] = test1['BsmtFinSF1'].fillna(test1['BsmtFinSF1'].mean())\n",
    "test1['TotalBsmtSF'] = test1['TotalBsmtSF'].fillna(test1['TotalBsmtSF'].mean())"
   ]
  },
  {
   "cell_type": "markdown",
   "metadata": {
    "_cell_guid": "adb5d6eb-2588-4e8b-a558-3ad8ada54353",
    "_uuid": "691803e1f5e19f3c64e591acfde5d1b3e1b83239",
    "collapsed": true
   },
   "source": [
    "# OUTLIERS"
   ]
  },
  {
   "cell_type": "code",
   "execution_count": 128,
   "metadata": {
    "_cell_guid": "153c3e83-4642-4703-a7d6-dbb1ba05e404",
    "_uuid": "972750fcaa5b9854cf93dc389c837b9553ce51f8"
   },
   "outputs": [],
   "source": [
    "test2 = test1._get_numeric_data()"
   ]
  },
  {
   "cell_type": "code",
   "execution_count": 129,
   "metadata": {
    "_cell_guid": "9d473ac9-70e1-46ab-9d3d-2a4b75281e95",
    "_uuid": "369c7b6f9196a2756f6b4003dac6953078b2fb5d"
   },
   "outputs": [
    {
     "data": {
      "text/html": [
       "<div>\n",
       "<style scoped>\n",
       "    .dataframe tbody tr th:only-of-type {\n",
       "        vertical-align: middle;\n",
       "    }\n",
       "\n",
       "    .dataframe tbody tr th {\n",
       "        vertical-align: top;\n",
       "    }\n",
       "\n",
       "    .dataframe thead th {\n",
       "        text-align: right;\n",
       "    }\n",
       "</style>\n",
       "<table border=\"1\" class=\"dataframe\">\n",
       "  <thead>\n",
       "    <tr style=\"text-align: right;\">\n",
       "      <th></th>\n",
       "      <th>N</th>\n",
       "      <th>NMISS</th>\n",
       "      <th>SUM</th>\n",
       "      <th>MEAN</th>\n",
       "      <th>MEDIAN</th>\n",
       "      <th>STD</th>\n",
       "      <th>VAR</th>\n",
       "      <th>MIN</th>\n",
       "      <th>P1</th>\n",
       "      <th>P5</th>\n",
       "      <th>P10</th>\n",
       "      <th>P25</th>\n",
       "      <th>P50</th>\n",
       "      <th>P75</th>\n",
       "      <th>P90</th>\n",
       "      <th>P95</th>\n",
       "      <th>P99</th>\n",
       "      <th>MAX</th>\n",
       "    </tr>\n",
       "  </thead>\n",
       "  <tbody>\n",
       "    <tr>\n",
       "      <th>OverallQual</th>\n",
       "      <td>1459.0</td>\n",
       "      <td>0.0</td>\n",
       "      <td>8.869000e+03</td>\n",
       "      <td>6.078821</td>\n",
       "      <td>6.0</td>\n",
       "      <td>1.436812</td>\n",
       "      <td>2.064428</td>\n",
       "      <td>1.0</td>\n",
       "      <td>3.0</td>\n",
       "      <td>4.0</td>\n",
       "      <td>5.0</td>\n",
       "      <td>5.0</td>\n",
       "      <td>6.0</td>\n",
       "      <td>7.0</td>\n",
       "      <td>8.0</td>\n",
       "      <td>9.0</td>\n",
       "      <td>9.00</td>\n",
       "      <td>10.0</td>\n",
       "    </tr>\n",
       "    <tr>\n",
       "      <th>YearBuilt</th>\n",
       "      <td>1459.0</td>\n",
       "      <td>0.0</td>\n",
       "      <td>2.876211e+06</td>\n",
       "      <td>1971.357779</td>\n",
       "      <td>1973.0</td>\n",
       "      <td>30.390071</td>\n",
       "      <td>923.556405</td>\n",
       "      <td>1879.0</td>\n",
       "      <td>1900.0</td>\n",
       "      <td>1915.0</td>\n",
       "      <td>1924.0</td>\n",
       "      <td>1953.0</td>\n",
       "      <td>1973.0</td>\n",
       "      <td>2001.0</td>\n",
       "      <td>2006.0</td>\n",
       "      <td>2007.0</td>\n",
       "      <td>2008.00</td>\n",
       "      <td>2010.0</td>\n",
       "    </tr>\n",
       "    <tr>\n",
       "      <th>YearRemodAdd</th>\n",
       "      <td>1459.0</td>\n",
       "      <td>0.0</td>\n",
       "      <td>2.894164e+06</td>\n",
       "      <td>1983.662783</td>\n",
       "      <td>1992.0</td>\n",
       "      <td>21.130467</td>\n",
       "      <td>446.496632</td>\n",
       "      <td>1950.0</td>\n",
       "      <td>1950.0</td>\n",
       "      <td>1950.0</td>\n",
       "      <td>1950.0</td>\n",
       "      <td>1963.0</td>\n",
       "      <td>1992.0</td>\n",
       "      <td>2004.0</td>\n",
       "      <td>2007.0</td>\n",
       "      <td>2007.0</td>\n",
       "      <td>2009.00</td>\n",
       "      <td>2010.0</td>\n",
       "    </tr>\n",
       "    <tr>\n",
       "      <th>MasVnrArea</th>\n",
       "      <td>1459.0</td>\n",
       "      <td>0.0</td>\n",
       "      <td>1.469346e+05</td>\n",
       "      <td>100.709141</td>\n",
       "      <td>0.0</td>\n",
       "      <td>176.709824</td>\n",
       "      <td>31226.362030</td>\n",
       "      <td>0.0</td>\n",
       "      <td>0.0</td>\n",
       "      <td>0.0</td>\n",
       "      <td>0.0</td>\n",
       "      <td>0.0</td>\n",
       "      <td>0.0</td>\n",
       "      <td>162.0</td>\n",
       "      <td>309.2</td>\n",
       "      <td>473.7</td>\n",
       "      <td>735.68</td>\n",
       "      <td>1290.0</td>\n",
       "    </tr>\n",
       "    <tr>\n",
       "      <th>BsmtFinSF1</th>\n",
       "      <td>1459.0</td>\n",
       "      <td>0.0</td>\n",
       "      <td>6.407982e+05</td>\n",
       "      <td>439.203704</td>\n",
       "      <td>351.0</td>\n",
       "      <td>455.111888</td>\n",
       "      <td>207126.830247</td>\n",
       "      <td>0.0</td>\n",
       "      <td>0.0</td>\n",
       "      <td>0.0</td>\n",
       "      <td>0.0</td>\n",
       "      <td>0.0</td>\n",
       "      <td>351.0</td>\n",
       "      <td>752.0</td>\n",
       "      <td>1039.2</td>\n",
       "      <td>1290.4</td>\n",
       "      <td>1682.84</td>\n",
       "      <td>4010.0</td>\n",
       "    </tr>\n",
       "    <tr>\n",
       "      <th>TotalBsmtSF</th>\n",
       "      <td>1459.0</td>\n",
       "      <td>0.0</td>\n",
       "      <td>1.526286e+06</td>\n",
       "      <td>1046.117970</td>\n",
       "      <td>988.0</td>\n",
       "      <td>442.746712</td>\n",
       "      <td>196024.651378</td>\n",
       "      <td>0.0</td>\n",
       "      <td>0.0</td>\n",
       "      <td>392.0</td>\n",
       "      <td>564.2</td>\n",
       "      <td>784.0</td>\n",
       "      <td>988.0</td>\n",
       "      <td>1304.0</td>\n",
       "      <td>1615.4</td>\n",
       "      <td>1782.0</td>\n",
       "      <td>2203.36</td>\n",
       "      <td>5095.0</td>\n",
       "    </tr>\n",
       "    <tr>\n",
       "      <th>FullBath</th>\n",
       "      <td>1459.0</td>\n",
       "      <td>0.0</td>\n",
       "      <td>2.292000e+03</td>\n",
       "      <td>1.570939</td>\n",
       "      <td>2.0</td>\n",
       "      <td>0.555190</td>\n",
       "      <td>0.308236</td>\n",
       "      <td>0.0</td>\n",
       "      <td>1.0</td>\n",
       "      <td>1.0</td>\n",
       "      <td>1.0</td>\n",
       "      <td>1.0</td>\n",
       "      <td>2.0</td>\n",
       "      <td>2.0</td>\n",
       "      <td>2.0</td>\n",
       "      <td>2.0</td>\n",
       "      <td>3.00</td>\n",
       "      <td>4.0</td>\n",
       "    </tr>\n",
       "    <tr>\n",
       "      <th>TotRmsAbvGrd</th>\n",
       "      <td>1459.0</td>\n",
       "      <td>0.0</td>\n",
       "      <td>9.316000e+03</td>\n",
       "      <td>6.385195</td>\n",
       "      <td>6.0</td>\n",
       "      <td>1.508895</td>\n",
       "      <td>2.276763</td>\n",
       "      <td>3.0</td>\n",
       "      <td>4.0</td>\n",
       "      <td>4.0</td>\n",
       "      <td>5.0</td>\n",
       "      <td>5.0</td>\n",
       "      <td>6.0</td>\n",
       "      <td>7.0</td>\n",
       "      <td>8.0</td>\n",
       "      <td>9.0</td>\n",
       "      <td>11.00</td>\n",
       "      <td>15.0</td>\n",
       "    </tr>\n",
       "    <tr>\n",
       "      <th>Fireplaces</th>\n",
       "      <td>1459.0</td>\n",
       "      <td>0.0</td>\n",
       "      <td>8.480000e+02</td>\n",
       "      <td>0.581220</td>\n",
       "      <td>0.0</td>\n",
       "      <td>0.647420</td>\n",
       "      <td>0.419153</td>\n",
       "      <td>0.0</td>\n",
       "      <td>0.0</td>\n",
       "      <td>0.0</td>\n",
       "      <td>0.0</td>\n",
       "      <td>0.0</td>\n",
       "      <td>0.0</td>\n",
       "      <td>1.0</td>\n",
       "      <td>1.0</td>\n",
       "      <td>2.0</td>\n",
       "      <td>2.00</td>\n",
       "      <td>4.0</td>\n",
       "    </tr>\n",
       "  </tbody>\n",
       "</table>\n",
       "</div>"
      ],
      "text/plain": [
       "                   N  NMISS           SUM         MEAN  MEDIAN         STD  \\\n",
       "OverallQual   1459.0    0.0  8.869000e+03     6.078821     6.0    1.436812   \n",
       "YearBuilt     1459.0    0.0  2.876211e+06  1971.357779  1973.0   30.390071   \n",
       "YearRemodAdd  1459.0    0.0  2.894164e+06  1983.662783  1992.0   21.130467   \n",
       "MasVnrArea    1459.0    0.0  1.469346e+05   100.709141     0.0  176.709824   \n",
       "BsmtFinSF1    1459.0    0.0  6.407982e+05   439.203704   351.0  455.111888   \n",
       "TotalBsmtSF   1459.0    0.0  1.526286e+06  1046.117970   988.0  442.746712   \n",
       "FullBath      1459.0    0.0  2.292000e+03     1.570939     2.0    0.555190   \n",
       "TotRmsAbvGrd  1459.0    0.0  9.316000e+03     6.385195     6.0    1.508895   \n",
       "Fireplaces    1459.0    0.0  8.480000e+02     0.581220     0.0    0.647420   \n",
       "\n",
       "                        VAR     MIN      P1      P5     P10     P25     P50  \\\n",
       "OverallQual        2.064428     1.0     3.0     4.0     5.0     5.0     6.0   \n",
       "YearBuilt        923.556405  1879.0  1900.0  1915.0  1924.0  1953.0  1973.0   \n",
       "YearRemodAdd     446.496632  1950.0  1950.0  1950.0  1950.0  1963.0  1992.0   \n",
       "MasVnrArea     31226.362030     0.0     0.0     0.0     0.0     0.0     0.0   \n",
       "BsmtFinSF1    207126.830247     0.0     0.0     0.0     0.0     0.0   351.0   \n",
       "TotalBsmtSF   196024.651378     0.0     0.0   392.0   564.2   784.0   988.0   \n",
       "FullBath           0.308236     0.0     1.0     1.0     1.0     1.0     2.0   \n",
       "TotRmsAbvGrd       2.276763     3.0     4.0     4.0     5.0     5.0     6.0   \n",
       "Fireplaces         0.419153     0.0     0.0     0.0     0.0     0.0     0.0   \n",
       "\n",
       "                 P75     P90     P95      P99     MAX  \n",
       "OverallQual      7.0     8.0     9.0     9.00    10.0  \n",
       "YearBuilt     2001.0  2006.0  2007.0  2008.00  2010.0  \n",
       "YearRemodAdd  2004.0  2007.0  2007.0  2009.00  2010.0  \n",
       "MasVnrArea     162.0   309.2   473.7   735.68  1290.0  \n",
       "BsmtFinSF1     752.0  1039.2  1290.4  1682.84  4010.0  \n",
       "TotalBsmtSF   1304.0  1615.4  1782.0  2203.36  5095.0  \n",
       "FullBath         2.0     2.0     2.0     3.00     4.0  \n",
       "TotRmsAbvGrd     7.0     8.0     9.0    11.00    15.0  \n",
       "Fireplaces       1.0     1.0     2.0     2.00     4.0  "
      ]
     },
     "execution_count": 129,
     "metadata": {},
     "output_type": "execute_result"
    }
   ],
   "source": [
    "def var_summary(x):\n",
    "    return pd.Series([x.count(), x.isnull().sum(), x.sum(), x.mean(), x.median(),  x.std(), x.var(), x.min(), x.quantile(0.01), x.quantile(0.05),x.quantile(0.10),x.quantile(0.25),x.quantile(0.50),x.quantile(0.75), x.quantile(0.90),x.quantile(0.95), x.quantile(0.99),x.max()], \n",
    "                  index=['N', 'NMISS', 'SUM', 'MEAN','MEDIAN', 'STD', 'VAR', 'MIN', 'P1' , 'P5' ,'P10' ,'P25' ,'P50' ,'P75' ,'P90' ,'P95' ,'P99' ,'MAX'])\n",
    "\n",
    "test2.apply(lambda x: var_summary(x)).T\n"
   ]
  },
  {
   "cell_type": "code",
   "execution_count": 130,
   "metadata": {
    "_cell_guid": "d5518c8c-6ee0-4936-b0fa-85d26e60ec62",
    "_uuid": "c7f577653d7f6c33c3aa33e14d28b1b293e63af3"
   },
   "outputs": [],
   "source": [
    "test3 = test1.drop(test2.columns,axis = 1)"
   ]
  },
  {
   "cell_type": "code",
   "execution_count": 131,
   "metadata": {
    "_cell_guid": "99738eb7-437b-4236-b8db-5233c3a4dd34",
    "_uuid": "4a77cd3d42300c018e64e1d5a9d0e16b6ea4340f"
   },
   "outputs": [],
   "source": [
    "# FIRST-AUTHOR: make notebook run\n",
    "# test2['OverallQual']= test2['OverallQual'].clip_upper(test2['OverallQual'].quantile(0.99))\n",
    "# test2['OverallQual']= test2['OverallQual'].clip_lower(test2['OverallQual'].quantile(0.01))\n",
    "# test2['YearBuilt']= test2['YearBuilt'].clip_upper(test2['YearBuilt'].quantile(0.99))\n",
    "# test2['YearBuilt']= test2['YearBuilt'].clip_lower(test2['YearBuilt'].quantile(0.01))\n",
    "# test2['MasVnrArea']= test2['MasVnrArea'].clip_upper(test2['MasVnrArea'].quantile(0.99))\n",
    "# test2['BsmtFinSF1']= test2['BsmtFinSF1'].clip_upper(test2['BsmtFinSF1'].quantile(0.99))\n",
    "# test2['TotalBsmtSF']= test2['TotalBsmtSF'].clip_upper(test2['TotalBsmtSF'].quantile(0.99))\n",
    "# test2['TotalBsmtSF']= test2['TotalBsmtSF'].clip_upper(test2['TotalBsmtSF'].quantile(0.99))\n",
    "# test2['TotRmsAbvGrd']= test2['TotRmsAbvGrd'].clip_upper(test2['TotRmsAbvGrd'].quantile(0.99))\n",
    "test2['OverallQual']= test2['OverallQual'].clip(upper=test2['OverallQual'].quantile(0.99))\n",
    "test2['OverallQual']= test2['OverallQual'].clip(lower=test2['OverallQual'].quantile(0.01))\n",
    "test2['YearBuilt']= test2['YearBuilt'].clip(upper=test2['YearBuilt'].quantile(0.99))\n",
    "test2['YearBuilt']= test2['YearBuilt'].clip(lower=test2['YearBuilt'].quantile(0.01))\n",
    "test2['MasVnrArea']= test2['MasVnrArea'].clip(upper=test2['MasVnrArea'].quantile(0.99))\n",
    "test2['BsmtFinSF1']= test2['BsmtFinSF1'].clip(upper=test2['BsmtFinSF1'].quantile(0.99))\n",
    "test2['TotalBsmtSF']= test2['TotalBsmtSF'].clip(upper=test2['TotalBsmtSF'].quantile(0.99))\n",
    "test2['TotalBsmtSF']= test2['TotalBsmtSF'].clip(upper=test2['TotalBsmtSF'].quantile(0.99))\n",
    "test2['TotRmsAbvGrd']= test2['TotRmsAbvGrd'].clip(upper=test2['TotRmsAbvGrd'].quantile(0.99))"
   ]
  },
  {
   "cell_type": "code",
   "execution_count": 132,
   "metadata": {
    "_cell_guid": "2dc3dac2-fdf1-4007-895f-718ce6b893b7",
    "_uuid": "9631608f37063bf76e901d19f35502ce1cd9221c"
   },
   "outputs": [],
   "source": [
    "finaltest = pd.concat([test2,test3],axis = 1)"
   ]
  },
  {
   "cell_type": "code",
   "execution_count": 133,
   "metadata": {
    "_cell_guid": "58520e64-38a9-4ae3-8b3e-388a64a23295",
    "_uuid": "7e574210d55fab7a3e1b3545021280f51d018086"
   },
   "outputs": [],
   "source": [
    "finaltest1 = pd.get_dummies(finaltest)"
   ]
  },
  {
   "cell_type": "code",
   "execution_count": 134,
   "metadata": {
    "_cell_guid": "190ce9a3-9089-48a5-a305-ddc1de35c986",
    "_uuid": "96612edb59d10eb4ff838d0956aa40eda7351912"
   },
   "outputs": [
    {
     "data": {
      "text/plain": [
       "Index(['OverallQual', 'YearBuilt', 'YearRemodAdd', 'MasVnrArea', 'BsmtFinSF1',\n",
       "       'TotalBsmtSF', 'FullBath', 'TotRmsAbvGrd', 'Fireplaces', 'MSZoning',\n",
       "       'LotShape', 'LotConfig', 'Neighborhood', 'Condition1', 'BldgType',\n",
       "       'HouseStyle', 'RoofStyle', 'RoofMatl', 'ExterQual', 'Foundation',\n",
       "       'BsmtQual', 'BsmtExposure', 'CentralAir', 'FireplaceQu', 'GarageFinish',\n",
       "       'GarageQual', 'GarageCond'],\n",
       "      dtype='object')"
      ]
     },
     "execution_count": 134,
     "metadata": {},
     "output_type": "execute_result"
    }
   ],
   "source": [
    "finaltest.columns"
   ]
  },
  {
   "cell_type": "code",
   "execution_count": 135,
   "metadata": {
    "_cell_guid": "ed1a999a-5c03-434f-a1ee-ea3db0f975f6",
    "_uuid": "e042ab610c9e9e0198a6dea2cf998de52b206a97"
   },
   "outputs": [
    {
     "data": {
      "text/html": [
       "<div>\n",
       "<style scoped>\n",
       "    .dataframe tbody tr th:only-of-type {\n",
       "        vertical-align: middle;\n",
       "    }\n",
       "\n",
       "    .dataframe tbody tr th {\n",
       "        vertical-align: top;\n",
       "    }\n",
       "\n",
       "    .dataframe thead th {\n",
       "        text-align: right;\n",
       "    }\n",
       "</style>\n",
       "<table border=\"1\" class=\"dataframe\">\n",
       "  <thead>\n",
       "    <tr style=\"text-align: right;\">\n",
       "      <th></th>\n",
       "      <th>OverallQual</th>\n",
       "      <th>LotArea</th>\n",
       "      <th>OpenPorchSF</th>\n",
       "      <th>FullBath</th>\n",
       "      <th>LotFrontage</th>\n",
       "      <th>YearRemodAdd</th>\n",
       "      <th>OverallCond</th>\n",
       "      <th>MasVnrArea</th>\n",
       "      <th>GarageType_Detchd</th>\n",
       "      <th>WoodDeckSF</th>\n",
       "      <th>...</th>\n",
       "      <th>Neighborhood_Edwards</th>\n",
       "      <th>KitchenAbvGr</th>\n",
       "      <th>MSZoning_RM</th>\n",
       "      <th>MSSubClass</th>\n",
       "      <th>BsmtQual_Ex</th>\n",
       "      <th>GarageType_Attchd</th>\n",
       "      <th>ExterQual_Ex</th>\n",
       "      <th>KitchenQual_Gd</th>\n",
       "      <th>SalePrice</th>\n",
       "      <th>intercept</th>\n",
       "    </tr>\n",
       "  </thead>\n",
       "  <tbody>\n",
       "    <tr>\n",
       "      <th>0</th>\n",
       "      <td>7</td>\n",
       "      <td>8450.0</td>\n",
       "      <td>61.0</td>\n",
       "      <td>2</td>\n",
       "      <td>65.0</td>\n",
       "      <td>2003</td>\n",
       "      <td>5</td>\n",
       "      <td>196.0</td>\n",
       "      <td>False</td>\n",
       "      <td>0.0</td>\n",
       "      <td>...</td>\n",
       "      <td>False</td>\n",
       "      <td>1</td>\n",
       "      <td>False</td>\n",
       "      <td>60</td>\n",
       "      <td>False</td>\n",
       "      <td>True</td>\n",
       "      <td>False</td>\n",
       "      <td>True</td>\n",
       "      <td>208500.0</td>\n",
       "      <td>-831389.469602</td>\n",
       "    </tr>\n",
       "    <tr>\n",
       "      <th>1</th>\n",
       "      <td>6</td>\n",
       "      <td>9600.0</td>\n",
       "      <td>0.0</td>\n",
       "      <td>2</td>\n",
       "      <td>80.0</td>\n",
       "      <td>1976</td>\n",
       "      <td>8</td>\n",
       "      <td>0.0</td>\n",
       "      <td>False</td>\n",
       "      <td>298.0</td>\n",
       "      <td>...</td>\n",
       "      <td>False</td>\n",
       "      <td>1</td>\n",
       "      <td>False</td>\n",
       "      <td>20</td>\n",
       "      <td>False</td>\n",
       "      <td>True</td>\n",
       "      <td>False</td>\n",
       "      <td>False</td>\n",
       "      <td>181500.0</td>\n",
       "      <td>-831389.469602</td>\n",
       "    </tr>\n",
       "    <tr>\n",
       "      <th>2</th>\n",
       "      <td>7</td>\n",
       "      <td>11250.0</td>\n",
       "      <td>42.0</td>\n",
       "      <td>2</td>\n",
       "      <td>68.0</td>\n",
       "      <td>2002</td>\n",
       "      <td>5</td>\n",
       "      <td>162.0</td>\n",
       "      <td>False</td>\n",
       "      <td>0.0</td>\n",
       "      <td>...</td>\n",
       "      <td>False</td>\n",
       "      <td>1</td>\n",
       "      <td>False</td>\n",
       "      <td>60</td>\n",
       "      <td>False</td>\n",
       "      <td>True</td>\n",
       "      <td>False</td>\n",
       "      <td>True</td>\n",
       "      <td>223500.0</td>\n",
       "      <td>-831389.469602</td>\n",
       "    </tr>\n",
       "    <tr>\n",
       "      <th>3</th>\n",
       "      <td>7</td>\n",
       "      <td>9550.0</td>\n",
       "      <td>35.0</td>\n",
       "      <td>1</td>\n",
       "      <td>60.0</td>\n",
       "      <td>1970</td>\n",
       "      <td>5</td>\n",
       "      <td>0.0</td>\n",
       "      <td>True</td>\n",
       "      <td>0.0</td>\n",
       "      <td>...</td>\n",
       "      <td>False</td>\n",
       "      <td>1</td>\n",
       "      <td>False</td>\n",
       "      <td>70</td>\n",
       "      <td>False</td>\n",
       "      <td>False</td>\n",
       "      <td>False</td>\n",
       "      <td>True</td>\n",
       "      <td>140000.0</td>\n",
       "      <td>-831389.469602</td>\n",
       "    </tr>\n",
       "    <tr>\n",
       "      <th>4</th>\n",
       "      <td>8</td>\n",
       "      <td>14260.0</td>\n",
       "      <td>84.0</td>\n",
       "      <td>2</td>\n",
       "      <td>84.0</td>\n",
       "      <td>2000</td>\n",
       "      <td>5</td>\n",
       "      <td>350.0</td>\n",
       "      <td>False</td>\n",
       "      <td>192.0</td>\n",
       "      <td>...</td>\n",
       "      <td>False</td>\n",
       "      <td>1</td>\n",
       "      <td>False</td>\n",
       "      <td>60</td>\n",
       "      <td>False</td>\n",
       "      <td>True</td>\n",
       "      <td>False</td>\n",
       "      <td>True</td>\n",
       "      <td>250000.0</td>\n",
       "      <td>-831389.469602</td>\n",
       "    </tr>\n",
       "  </tbody>\n",
       "</table>\n",
       "<p>5 rows \u00d7 23 columns</p>\n",
       "</div>"
      ],
      "text/plain": [
       "   OverallQual  LotArea  OpenPorchSF  FullBath  LotFrontage  YearRemodAdd  \\\n",
       "0            7   8450.0         61.0         2         65.0          2003   \n",
       "1            6   9600.0          0.0         2         80.0          1976   \n",
       "2            7  11250.0         42.0         2         68.0          2002   \n",
       "3            7   9550.0         35.0         1         60.0          1970   \n",
       "4            8  14260.0         84.0         2         84.0          2000   \n",
       "\n",
       "   OverallCond  MasVnrArea  GarageType_Detchd  WoodDeckSF  ...  \\\n",
       "0            5       196.0              False         0.0  ...   \n",
       "1            8         0.0              False       298.0  ...   \n",
       "2            5       162.0              False         0.0  ...   \n",
       "3            5         0.0               True         0.0  ...   \n",
       "4            5       350.0              False       192.0  ...   \n",
       "\n",
       "   Neighborhood_Edwards  KitchenAbvGr  MSZoning_RM  MSSubClass  BsmtQual_Ex  \\\n",
       "0                 False             1        False          60        False   \n",
       "1                 False             1        False          20        False   \n",
       "2                 False             1        False          60        False   \n",
       "3                 False             1        False          70        False   \n",
       "4                 False             1        False          60        False   \n",
       "\n",
       "   GarageType_Attchd  ExterQual_Ex  KitchenQual_Gd  SalePrice      intercept  \n",
       "0               True         False            True   208500.0 -831389.469602  \n",
       "1               True         False           False   181500.0 -831389.469602  \n",
       "2               True         False            True   223500.0 -831389.469602  \n",
       "3              False         False            True   140000.0 -831389.469602  \n",
       "4               True         False            True   250000.0 -831389.469602  \n",
       "\n",
       "[5 rows x 23 columns]"
      ]
     },
     "execution_count": 135,
     "metadata": {},
     "output_type": "execute_result"
    }
   ],
   "source": [
    "final_data1.head()"
   ]
  },
  {
   "cell_type": "markdown",
   "metadata": {
    "_cell_guid": "582243eb-3fc9-466f-8971-e9ce9ea45149",
    "_uuid": "d3f8e85090ec66d2dd158eca9cb6fc1895144486"
   },
   "source": [
    "## Statsmodels--- train data"
   ]
  },
  {
   "cell_type": "code",
   "execution_count": 136,
   "metadata": {
    "_cell_guid": "259d0b5c-38e1-4905-93de-6fd48066fda3",
    "_uuid": "6c3653fb26cd8785fb6b759727e169ce228855b2"
   },
   "outputs": [],
   "source": [
    "# FIRST-AUTHOR: make notebook run with input scaling\n",
    "# train1 =final_data1.sample(n = 730 ,random_state = 123)\n",
    "train1 =final_data1.sample(n = min(len(final_data) - 10, 730) ,random_state = 123)\n",
    "train2 = final_data1.drop(train1.index)"
   ]
  },
  {
   "cell_type": "code",
   "execution_count": 137,
   "metadata": {
    "_cell_guid": "9a47f362-f1f0-4fb8-b590-6da354036c00",
    "_uuid": "c78c9e456283b22f944ad927286e2d4d3b4f2f18"
   },
   "outputs": [],
   "source": [
    "train1x = train1.drop(['intercept','SalePrice'], axis = 1)\n",
    "train1y = train1.SalePrice"
   ]
  },
  {
   "cell_type": "code",
   "execution_count": 138,
   "metadata": {
    "_cell_guid": "5c8097ea-fd93-40ca-bbea-ddf6e67cd643",
    "_uuid": "71878c2cc337061e40cf9b52f2e8bc144236362e"
   },
   "outputs": [],
   "source": [
    "train2x = train2.drop(['SalePrice','intercept'],axis = 1)\n",
    "train2y = train2.SalePrice"
   ]
  },
  {
   "cell_type": "markdown",
   "metadata": {
    "_cell_guid": "cfb545f8-a6a2-4d91-a74f-024c147869c1",
    "_uuid": "6afd953f0db89d09d49b5188638edb9ce0d83da0"
   },
   "source": [
    "## Random Forests feature imp----train data"
   ]
  },
  {
   "cell_type": "code",
   "execution_count": 139,
   "metadata": {
    "_cell_guid": "bee4a8a0-9f2c-4867-83ef-61f8b8fb7ec6",
    "_uuid": "ff281f0611fa8d84e9aa1904c69cdc085e5e5a06"
   },
   "outputs": [],
   "source": [
    "best_train = pd.get_dummies(best_train)"
   ]
  },
  {
   "cell_type": "code",
   "execution_count": 140,
   "metadata": {
    "_cell_guid": "6962f1de-900d-45ac-8f4e-50bd51f209dd",
    "_uuid": "d643c32ecda5bff08996a0438c2f844e66b7fea1"
   },
   "outputs": [],
   "source": [
    "train_s1 = best_train.sample(n = min(len(final_data) - 10, 730) ,random_state = 123)\n",
    "train_s2 = best_train.drop(train_s1.index)                             "
   ]
  },
  {
   "cell_type": "code",
   "execution_count": 141,
   "metadata": {
    "_cell_guid": "57fd7c14-0069-4c90-a5b2-3482be8864d5",
    "_uuid": "b030d37fc4bf8ff70b832cde1a03a1d2c8a431de"
   },
   "outputs": [],
   "source": [
    "train_s1x = train_s1.drop(['SalePrice'], axis = 1)\n",
    "train_s1y = train_s1.SalePrice"
   ]
  },
  {
   "cell_type": "code",
   "execution_count": 142,
   "metadata": {
    "_cell_guid": "a5f1fd0a-7491-4dc7-a827-1ce686c2ddc5",
    "_uuid": "a61c5799a38aafa97fa8f2fde2dcc6e39308778b"
   },
   "outputs": [],
   "source": [
    "train_s2x = train_s2.drop(['SalePrice'],axis = 1)\n",
    "train_s2y = train_s2.SalePrice"
   ]
  },
  {
   "cell_type": "markdown",
   "metadata": {
    "_cell_guid": "c73845e1-b9e4-43d3-933f-1c5f337e7ce0",
    "_uuid": "37d4f5bbcdb09c879363871a31882e9d882675e3"
   },
   "source": [
    "# Linear Regression"
   ]
  },
  {
   "cell_type": "code",
   "execution_count": 143,
   "metadata": {
    "_cell_guid": "de3ae4aa-0f58-4459-b822-1387d9d1efda",
    "_uuid": "ada525b8d8f39765266088bcba3e758f8ad92b7e"
   },
   "outputs": [],
   "source": [
    "# FIRST-AUTHOR: remove ML code\n",
    "# from sklearn.linear_model import LinearRegression"
   ]
  },
  {
   "cell_type": "code",
   "execution_count": 144,
   "metadata": {
    "_cell_guid": "dff58079-d9e6-49f5-8df7-99cd5ff2f024",
    "_uuid": "c99ee85cf9405feb3cfbe1cc25ea8d2da6d38d18"
   },
   "outputs": [],
   "source": [
    "# FIRST-AUTHOR: remove ML code\n",
    "# X_train = train1x\n",
    "# Y_train = train1y"
   ]
  },
  {
   "cell_type": "code",
   "execution_count": 145,
   "metadata": {
    "_cell_guid": "eb55e32f-1c85-463b-9e36-6424ea8292c7",
    "_uuid": "24c27cb012dfd571d641ea2109b726d3d8ba8fc2"
   },
   "outputs": [],
   "source": [
    "# FIRST-AUTHOR: remove ML code\n",
    "# linreg = LinearRegression()\n",
    "# linreg.fit(X_train, Y_train)"
   ]
  },
  {
   "cell_type": "code",
   "execution_count": 146,
   "metadata": {
    "_cell_guid": "1cca6531-c03d-4c79-a334-512dcadcbfd8",
    "_uuid": "a25c6d0e7a13680a223983ea72c2ad23408a1d1f"
   },
   "outputs": [],
   "source": [
    "# FIRST-AUTHOR: remove ML code\n",
    "# X_train , X_test, Y_train, Y_test = train_test_split(\n",
    "#         train2x,\n",
    "#         train2y,\n",
    "#         test_size=0.20,\n",
    "#         random_state=123)"
   ]
  },
  {
   "cell_type": "code",
   "execution_count": 147,
   "metadata": {
    "_cell_guid": "262aeab7-5fe2-4fc9-836f-50fc22f64e32",
    "_uuid": "c91f425ca0ce9aae9920db9c8cf34f20e370ef3e"
   },
   "outputs": [],
   "source": [
    "# FIRST-AUTHOR: remove ML code\n",
    "# y_pred = linreg.predict(X_test)"
   ]
  },
  {
   "cell_type": "code",
   "execution_count": 148,
   "metadata": {
    "_cell_guid": "528fceda-fcad-4bb9-b5e2-aec208a74180",
    "_uuid": "a5fe1dae432c6cb759b37c52fb2cbee5ef7ac57f"
   },
   "outputs": [],
   "source": [
    "# FIRST-AUTHOR: remove ML code\n",
    "# from sklearn import metrics"
   ]
  },
  {
   "cell_type": "code",
   "execution_count": 149,
   "metadata": {
    "_cell_guid": "234682be-bc55-4ec5-86b7-8b5879ccf4ee",
    "_uuid": "ad3cc98645f4b26ebb8bc12c0809534699186b58"
   },
   "outputs": [],
   "source": [
    "# FIRST-AUTHOR: remove ML code\n",
    "# rmse = np.sqrt(metrics.mean_squared_error(Y_test, y_pred))\n",
    "# rmse"
   ]
  },
  {
   "cell_type": "code",
   "execution_count": 150,
   "metadata": {
    "_cell_guid": "081a0679-c37e-489c-aeb6-c4a50bf40303",
    "_uuid": "8de0dce91a0d41465ff4d7fecde9e5d327b60883"
   },
   "outputs": [],
   "source": [
    "# FIRST-AUTHOR: remove ML code\n",
    "# metrics.r2_score(Y_test, y_pred)"
   ]
  },
  {
   "cell_type": "markdown",
   "metadata": {
    "_cell_guid": "007444ff-4ca2-4e8f-83e2-401f7cad5d76",
    "_uuid": "b6fbb1b065b39ffe4135f6bf7e5d915e05b211bb"
   },
   "source": [
    "# Decision Tree"
   ]
  },
  {
   "cell_type": "markdown",
   "metadata": {
    "_cell_guid": "1586fe75-7737-4e01-8c04-465d72d8eae2",
    "_uuid": "b1a077ab746f285bbb64a32d3048bcf49fc0af0b"
   },
   "source": [
    ">>>> Here we use the GridSearch-Cross validation to get the best Hyper parameters"
   ]
  },
  {
   "cell_type": "code",
   "execution_count": 151,
   "metadata": {
    "_cell_guid": "c9dba4c0-1600-4002-811e-d5fb64d6cbb0",
    "_uuid": "aa721ca42e1e63b06e1fdb232de82e3b8b4ad961"
   },
   "outputs": [],
   "source": [
    "# FIRST-AUTHOR: remove ML code\n",
    "# from sklearn import metrics\n",
    "# from sklearn.tree import DecisionTreeRegressor\n",
    "# from sklearn.grid_search import GridSearchCV"
   ]
  },
  {
   "cell_type": "code",
   "execution_count": 152,
   "metadata": {
    "_cell_guid": "90629ffc-b88d-409c-91af-9f7375182d9d",
    "_uuid": "d0cc927e0a066f92fbd6a168fbb0f8b00d739d60"
   },
   "outputs": [],
   "source": [
    "# FIRST-AUTHOR: remove ML code\n",
    "# X_train = train1x \n",
    "# Y_train = train1y"
   ]
  },
  {
   "cell_type": "code",
   "execution_count": 153,
   "metadata": {
    "_cell_guid": "222d5c46-74b7-4a24-a2b2-4326668c3600",
    "_uuid": "b8e0c67dbf65863f5b674fe7590858814df0f47e"
   },
   "outputs": [],
   "source": [
    "# FIRST-AUTHOR: remove ML code\n",
    "# depth_list = list(range(1,20))\n",
    "# for depth in depth_list:\n",
    "#     dt_obj = DecisionTreeRegressor(max_depth=depth)\n",
    "#     dt_obj.fit(X_train, Y_train)\n",
    "#     print ('depth:', depth, 'R_squared:', metrics.r2_score(Y_test, dt_obj.predict(X_test)))"
   ]
  },
  {
   "cell_type": "code",
   "execution_count": 154,
   "metadata": {
    "_cell_guid": "531fb7e4-d4cf-4d80-8c11-b6b1d6c57904",
    "_uuid": "0d66e00d5d99cbcb426ff7332dde28196539b01e"
   },
   "outputs": [],
   "source": [
    "# FIRST-AUTHOR: remove ML code\n",
    "# param_grid = {'max_depth': np.arange(3,20)}\n",
    "# tree = GridSearchCV(DecisionTreeRegressor(), param_grid, cv=10)\n",
    "# tree.fit(X_train, Y_train)"
   ]
  },
  {
   "cell_type": "code",
   "execution_count": 155,
   "metadata": {
    "_cell_guid": "d3426af4-eeec-4d40-b778-84ec58c5be04",
    "_uuid": "fc0785b212941171fdb0a0ddc7d77b89af675017"
   },
   "outputs": [],
   "source": [
    "# FIRST-AUTHOR: remove ML code\n",
    "# tree.best_params_"
   ]
  },
  {
   "cell_type": "code",
   "execution_count": 156,
   "metadata": {
    "_cell_guid": "0e8ee97b-75fa-44e1-92f4-edec69baf0fa",
    "_uuid": "1c5986e35e435951a71a5127a9440c650afe9e9c"
   },
   "outputs": [],
   "source": [
    "# FIRST-AUTHOR: remove ML code\n",
    "# tree.best_score_"
   ]
  },
  {
   "cell_type": "code",
   "execution_count": null,
   "metadata": {
    "_cell_guid": "c4ceb740-ad6c-421f-935b-b2a6869d7ddc",
    "_uuid": "18fbe2b9fef285567b8bd79856625522d858a154"
   },
   "outputs": [],
   "source": []
  },
  {
   "cell_type": "code",
   "execution_count": 157,
   "metadata": {
    "_cell_guid": "9beca667-4bb2-47c9-af51-303ab77b4014",
    "_uuid": "50136785f67e2f7dbbf5c9c41ece6afbfcf1be81"
   },
   "outputs": [],
   "source": [
    "# FIRST-AUTHOR: remove ML code\n",
    "# tree_final = DecisionTreeRegressor(max_depth=8)\n",
    "# tree_final.fit(X_train, Y_train)"
   ]
  },
  {
   "cell_type": "code",
   "execution_count": 158,
   "metadata": {
    "_cell_guid": "20183e15-200b-45e9-89ec-e1bd3f9eada4",
    "_uuid": "1d3adc7d0a5bcc153dd922f4d833068186ce1b30"
   },
   "outputs": [],
   "source": [
    "# FIRST-AUTHOR: remove ML code\n",
    "# X_train, X_test, Y_train, Y_test = train_test_split(\n",
    "#         train2x,\n",
    "#         train2y,\n",
    "#         test_size=0.20,\n",
    "#         random_state=123)"
   ]
  },
  {
   "cell_type": "code",
   "execution_count": 159,
   "metadata": {
    "_cell_guid": "962412de-9bb4-4302-ae69-b4bf6fc08a1e",
    "_uuid": "77c4168e278a7a2a16fb260be6f6a3a21ab4241c"
   },
   "outputs": [],
   "source": [
    "# FIRST-AUTHOR: remove ML code\n",
    "# tree_test_pred = pd.DataFrame({'actual': Y_test, 'predicted': tree_final.predict(X_test)})\n",
    "tree_test_pred = pd.DataFrame({'actual': train2y, 'predicted': train2y})"
   ]
  },
  {
   "cell_type": "code",
   "execution_count": 160,
   "metadata": {
    "_cell_guid": "6a19012b-04e8-4a25-b592-45f6fb939440",
    "_uuid": "b6bc2dd961639006a6e47b76b168a9787a7fff3e"
   },
   "outputs": [
    {
     "data": {
      "text/html": [
       "<div>\n",
       "<style scoped>\n",
       "    .dataframe tbody tr th:only-of-type {\n",
       "        vertical-align: middle;\n",
       "    }\n",
       "\n",
       "    .dataframe tbody tr th {\n",
       "        vertical-align: top;\n",
       "    }\n",
       "\n",
       "    .dataframe thead th {\n",
       "        text-align: right;\n",
       "    }\n",
       "</style>\n",
       "<table border=\"1\" class=\"dataframe\">\n",
       "  <thead>\n",
       "    <tr style=\"text-align: right;\">\n",
       "      <th></th>\n",
       "      <th>actual</th>\n",
       "      <th>predicted</th>\n",
       "    </tr>\n",
       "  </thead>\n",
       "  <tbody>\n",
       "    <tr>\n",
       "      <th>1458</th>\n",
       "      <td>142125.00</td>\n",
       "      <td>142125.00</td>\n",
       "    </tr>\n",
       "    <tr>\n",
       "      <th>618</th>\n",
       "      <td>314813.00</td>\n",
       "      <td>314813.00</td>\n",
       "    </tr>\n",
       "    <tr>\n",
       "      <th>1171</th>\n",
       "      <td>163000.00</td>\n",
       "      <td>163000.00</td>\n",
       "    </tr>\n",
       "    <tr>\n",
       "      <th>495</th>\n",
       "      <td>61815.97</td>\n",
       "      <td>61815.97</td>\n",
       "    </tr>\n",
       "    <tr>\n",
       "      <th>383</th>\n",
       "      <td>76000.00</td>\n",
       "      <td>76000.00</td>\n",
       "    </tr>\n",
       "    <tr>\n",
       "      <th>726</th>\n",
       "      <td>222000.00</td>\n",
       "      <td>222000.00</td>\n",
       "    </tr>\n",
       "    <tr>\n",
       "      <th>1268</th>\n",
       "      <td>381000.00</td>\n",
       "      <td>381000.00</td>\n",
       "    </tr>\n",
       "    <tr>\n",
       "      <th>288</th>\n",
       "      <td>122000.00</td>\n",
       "      <td>122000.00</td>\n",
       "    </tr>\n",
       "    <tr>\n",
       "      <th>1313</th>\n",
       "      <td>333168.00</td>\n",
       "      <td>333168.00</td>\n",
       "    </tr>\n",
       "    <tr>\n",
       "      <th>321</th>\n",
       "      <td>354000.00</td>\n",
       "      <td>354000.00</td>\n",
       "    </tr>\n",
       "  </tbody>\n",
       "</table>\n",
       "</div>"
      ],
      "text/plain": [
       "         actual  predicted\n",
       "1458  142125.00  142125.00\n",
       "618   314813.00  314813.00\n",
       "1171  163000.00  163000.00\n",
       "495    61815.97   61815.97\n",
       "383    76000.00   76000.00\n",
       "726   222000.00  222000.00\n",
       "1268  381000.00  381000.00\n",
       "288   122000.00  122000.00\n",
       "1313  333168.00  333168.00\n",
       "321   354000.00  354000.00"
      ]
     },
     "execution_count": 160,
     "metadata": {},
     "output_type": "execute_result"
    }
   ],
   "source": [
    "tree_test_pred.sample(10)"
   ]
  },
  {
   "cell_type": "code",
   "execution_count": 161,
   "metadata": {
    "_cell_guid": "1ac012c1-68f6-4969-b9dc-78aa721bad35",
    "_uuid": "12ed0619ccd222b32dae09e16e1b56f1271f2b36"
   },
   "outputs": [],
   "source": [
    "# FIRST-AUTHOR: remove ML code\n",
    "# metrics.r2_score(Y_test, tree_test_pred.predicted)\n",
    "_ = tree_test_pred.predicted"
   ]
  },
  {
   "cell_type": "code",
   "execution_count": 162,
   "metadata": {
    "_cell_guid": "c69f491e-43b2-4309-b2b0-9d97dfb7f97e",
    "_uuid": "6598e000a2a36210d74d39ec5ee4230c676a088d"
   },
   "outputs": [],
   "source": [
    "# FIRST-AUTHOR: remove ML code\n",
    "# rmse = np.sqrt(metrics.mean_squared_error(Y_test, tree_test_pred.predicted))\n",
    "# rmse\n",
    "_ = tree_test_pred.predicted"
   ]
  },
  {
   "cell_type": "markdown",
   "metadata": {
    "_cell_guid": "e3139c6f-0a1c-4ec3-b831-c4d4f46ee9ae",
    "_uuid": "39a6d35247ee07ed9247095e9443af447b44b06e",
    "collapsed": true
   },
   "source": [
    "# Random Forest"
   ]
  },
  {
   "cell_type": "code",
   "execution_count": 163,
   "metadata": {
    "_cell_guid": "ecf3a5e9-d89a-465b-98e0-7ca5867b561b",
    "_uuid": "207d2b4ff6324a7cd5f2c5c27e8faf5c127ec2ed"
   },
   "outputs": [],
   "source": [
    "# FIRST-AUTHOR: remove ML code\n",
    "# from sklearn.ensemble import RandomForestRegressor"
   ]
  },
  {
   "cell_type": "code",
   "execution_count": 164,
   "metadata": {
    "_cell_guid": "a9f2dfbf-1700-4363-af43-211f710a23c7",
    "_uuid": "deeddc4a6a47b68f02f3b6fda3552a7e756f855f"
   },
   "outputs": [],
   "source": [
    "# FIRST-AUTHOR: remove ML code\n",
    "# X_train = train1x\n",
    "# Y_train = train1y"
   ]
  },
  {
   "cell_type": "code",
   "execution_count": 165,
   "metadata": {
    "_cell_guid": "79bb8900-f52d-4dc3-9eb8-ed9353054a4f",
    "_uuid": "f383a848b882810a5222f792d99fccd1db8d67e5"
   },
   "outputs": [],
   "source": [
    "# FIRST-AUTHOR: remove ML code\n",
    "# depth_list = list(range(1,20))\n",
    "# for depth in depth_list:\n",
    "#     dt_obj = RandomForestRegressor(max_depth=depth)\n",
    "#     dt_obj.fit(X_train, Y_train)\n",
    "#     print ('depth:', depth, 'R_Squared:', metrics.r2_score(Y_test, dt_obj.predict(X_test)))"
   ]
  },
  {
   "cell_type": "code",
   "execution_count": 166,
   "metadata": {
    "_cell_guid": "e4166e99-9099-483e-b718-ea486b0ddc77",
    "_uuid": "0e6459f20422a9333fd1447dc86422f60ceaa53e"
   },
   "outputs": [],
   "source": [
    "# FIRST-AUTHOR: remove ML code\n",
    "# radm_clf = RandomForestRegressor(oob_score=True,n_estimators=100)\n",
    "# radm_clf.fit( X_train, Y_train )"
   ]
  },
  {
   "cell_type": "code",
   "execution_count": 167,
   "metadata": {
    "_cell_guid": "e1ceaa83-eea9-4027-8f86-184dab1f63f5",
    "_uuid": "b403c3824a862759491c2d44f55807a323b12957"
   },
   "outputs": [],
   "source": [
    "# FIRST-AUTHOR: remove ML code\n",
    "# X_train, X_test, Y_train, Y_test = train_test_split(\n",
    "#         train2x,\n",
    "#         train2y,\n",
    "#         test_size=0.20,\n",
    "#         random_state=123)"
   ]
  },
  {
   "cell_type": "code",
   "execution_count": 168,
   "metadata": {
    "_cell_guid": "92ac71bf-a2de-42e1-a211-d192fab242c0",
    "_uuid": "c3d0f76ed2ca1f3790c4656131f4c4f1961ca33f"
   },
   "outputs": [],
   "source": [
    "# FIRST-AUTHOR: remove ML code\n",
    "# radm_test_pred = pd.DataFrame( { 'actual':  Y_test,\n",
    "#                             'predicted': radm_clf.predict( X_test ) } )\n",
    "radm_test_pred = pd.DataFrame( { 'actual':  train2y,\n",
    "                            'predicted': train2y } )"
   ]
  },
  {
   "cell_type": "code",
   "execution_count": 169,
   "metadata": {
    "_cell_guid": "ae8a39c1-6591-476d-8ba6-e61f5da27b3d",
    "_uuid": "5ce702f4b2dca95b12617a5a7786c900727b920c"
   },
   "outputs": [],
   "source": [
    "# FIRST-AUTHOR: remove ML code\n",
    "# metrics.r2_score( radm_test_pred.actual, radm_test_pred.predicted )\n",
    "_ = radm_test_pred.actual\n",
    "_ = radm_test_pred.predicted"
   ]
  },
  {
   "cell_type": "code",
   "execution_count": 170,
   "metadata": {
    "_cell_guid": "dcadb4f3-49b1-49a2-9a2c-a6e44b67e970",
    "_uuid": "55ba142b0bdad0d91ac1d7587929a8fb3bf34a66"
   },
   "outputs": [],
   "source": [
    "# FIRST-AUTHOR: remove ML code\n",
    "# rmse = np.sqrt(metrics.mean_squared_error(radm_test_pred.actual, radm_test_pred.predicted))\n",
    "# rmse\n",
    "_ = radm_test_pred.actual\n",
    "_ = radm_test_pred.predicted"
   ]
  },
  {
   "cell_type": "markdown",
   "metadata": {
    "_cell_guid": "66aceabb-5d35-4fee-a63b-7f4a024b41a1",
    "_uuid": "26a4d103a8b2a7679db5233e41b6e68f6203b427",
    "collapsed": true
   },
   "source": [
    "# Bagged Decision Trees"
   ]
  },
  {
   "cell_type": "code",
   "execution_count": 171,
   "metadata": {
    "_cell_guid": "dd9ba220-0f95-41df-a00f-3833f5596cff",
    "_uuid": "8885c4c902010ca1990935edd25a0c7a496a080d"
   },
   "outputs": [],
   "source": [
    "# FIRST-AUTHOR: remove ML code\n",
    "# from sklearn.ensemble import BaggingRegressor"
   ]
  },
  {
   "cell_type": "code",
   "execution_count": 172,
   "metadata": {
    "_cell_guid": "9aa2963a-d3c0-4047-8013-50856841ec2d",
    "_uuid": "e4f3aec896955aacdaf6252622c6b00eae3a4c17"
   },
   "outputs": [],
   "source": [
    "# FIRST-AUTHOR: remove ML code, plotting\n",
    "# from sklearn import metrics\n",
    "# import matplotlib.pyplot as plt \n",
    "# import seaborn as sns"
   ]
  },
  {
   "cell_type": "code",
   "execution_count": 173,
   "metadata": {
    "_cell_guid": "44fc0003-3d10-4eeb-900e-18ccc576a827",
    "_uuid": "9e95873a7227d37879ef60af6b9291b848226e31"
   },
   "outputs": [],
   "source": [
    "# FIRST-AUTHOR: remove ML code\n",
    "# param_bag = {'n_estimators': list(range(100, 801, 100)),\n",
    "#              }"
   ]
  },
  {
   "cell_type": "code",
   "execution_count": 174,
   "metadata": {
    "_cell_guid": "21ff63d5-906d-42ec-a704-93b26c47b698",
    "_uuid": "83b7ed44d939c0f105d73412f93a84e68eb9f766"
   },
   "outputs": [],
   "source": [
    "# FIRST-AUTHOR: remove ML code\n",
    "# from sklearn.grid_search import GridSearchCV\n",
    "# bag_cl = GridSearchCV(estimator=BaggingRegressor(),\n",
    "#                   param_grid=param_bag,\n",
    "#                   cv=5,\n",
    "#                   verbose=True, n_jobs=-1)"
   ]
  },
  {
   "cell_type": "code",
   "execution_count": 175,
   "metadata": {
    "_cell_guid": "12bde143-adae-400d-a897-e669f1f598ea",
    "_uuid": "b0caab83ecbc9e3cecb5d13b168fd5ed5475ae5c"
   },
   "outputs": [],
   "source": [
    "# FIRST-AUTHOR: remove ML code\n",
    "# bag_cl.get_params()"
   ]
  },
  {
   "cell_type": "code",
   "execution_count": 176,
   "metadata": {
    "_cell_guid": "52037759-c721-446f-bca8-84d10a143ccd",
    "_uuid": "8b3c36f0e53ffd15213e6cb580b0adc67b08d0b3"
   },
   "outputs": [],
   "source": [
    "# FIRST-AUTHOR: remove ML code\n",
    "# X_train = train1x\n",
    "# Y_train = train1y"
   ]
  },
  {
   "cell_type": "code",
   "execution_count": 177,
   "metadata": {
    "_cell_guid": "88662828-458b-4ee6-98f2-64c610067a99",
    "_uuid": "4200d090efc1645154fffa59b9fb1ac5dc7233bf"
   },
   "outputs": [],
   "source": [
    "# FIRST-AUTHOR: remove ML code\n",
    "# bag_cl.fit(X_train, Y_train)"
   ]
  },
  {
   "cell_type": "code",
   "execution_count": 178,
   "metadata": {
    "_cell_guid": "5c2db1a4-e9b9-4d88-88ea-4bb6f7f1e18f",
    "_uuid": "852a332c4eb2ddded1bba8115d7ed3cc9f6b1a61"
   },
   "outputs": [],
   "source": [
    "# FIRST-AUTHOR: remove ML code\n",
    "# bag_cl.best_params_"
   ]
  },
  {
   "cell_type": "code",
   "execution_count": 179,
   "metadata": {
    "_cell_guid": "e611d532-039d-4add-80a3-c37dbf8f2fc3",
    "_uuid": "886e44e500735647bb5aeabbeb8931d79543c86d"
   },
   "outputs": [],
   "source": [
    "# FIRST-AUTHOR: remove ML code\n",
    "# bagclm = BaggingRegressor(oob_score=True, n_estimators=600)\n",
    "# bagclm.fit(X_train, Y_train)"
   ]
  },
  {
   "cell_type": "code",
   "execution_count": 180,
   "metadata": {
    "_cell_guid": "537d24df-6cae-4b34-894e-1573fbdce2dc",
    "_uuid": "8252102f1111a70d12a1bf30611a54c03bfc8cc5"
   },
   "outputs": [],
   "source": [
    "# FIRST-AUTHOR: remove ML code\n",
    "# X_train, X_test, Y_train, Y_test = train_test_split(\n",
    "#         train2x,\n",
    "#         train2y,\n",
    "#         test_size=0.20,\n",
    "#         random_state=123)"
   ]
  },
  {
   "cell_type": "code",
   "execution_count": 181,
   "metadata": {
    "_cell_guid": "e84e8fe9-5350-4992-a478-349a6c6af6b3",
    "_uuid": "f8d2ad909f48fa1936e99581e8a25d1bea78f3d6"
   },
   "outputs": [],
   "source": [
    "# FIRST-AUTHOR: remove ML code\n",
    "# y_pred = pd.DataFrame( { 'actual':  Y_test,\n",
    "#                             'predicted': bagclm.predict( X_test) } )\n",
    "y_pred = pd.DataFrame( { 'actual':  train2y,\n",
    "                            'predicted': train2y } )"
   ]
  },
  {
   "cell_type": "code",
   "execution_count": 182,
   "metadata": {
    "_cell_guid": "661853f0-7efd-4ebd-a0a8-3013248ee290",
    "_uuid": "3cd8e51f9459aa698a4b355e91da726e7a2de622"
   },
   "outputs": [],
   "source": [
    "# FIRST-AUTHOR: remove ML code\n",
    "# bagclm.estimators_features_"
   ]
  },
  {
   "cell_type": "code",
   "execution_count": 183,
   "metadata": {
    "_cell_guid": "2371302c-db1d-4ffa-a9b1-93700c984e52",
    "_uuid": "412ebabe1ca3e0f897cf76849a08837d34428feb"
   },
   "outputs": [],
   "source": [
    "# FIRST-AUTHOR: remove ML code\n",
    "# metrics.r2_score(y_pred.actual, y_pred.predicted)\n",
    "_ = y_pred.actual, y_pred.predicted"
   ]
  },
  {
   "cell_type": "code",
   "execution_count": 184,
   "metadata": {
    "_cell_guid": "6737b7c3-9a95-4e8e-ba88-88b78023483b",
    "_uuid": "a4d8766d23689b12a252c6016b2d690296ba2cb2"
   },
   "outputs": [],
   "source": [
    "# FIRST-AUTHOR: remove ML code\n",
    "# rmse = np.sqrt(metrics.mean_squared_error(Y_test, y_pred.predicted))\n",
    "# rmse\n",
    "_ = y_pred.predicted"
   ]
  },
  {
   "cell_type": "markdown",
   "metadata": {
    "_cell_guid": "e5f41840-0e51-4479-a165-8205b252623f",
    "_uuid": "f09afa636a733c927360ddbfc03bd040cb76de0a"
   },
   "source": [
    "# AdaBoost "
   ]
  },
  {
   "cell_type": "code",
   "execution_count": 185,
   "metadata": {
    "_cell_guid": "c97b6220-c39b-4f3c-9650-09b308f81024",
    "_uuid": "c85e4e11587d4e46b801c9c540bef847e3be92f7"
   },
   "outputs": [],
   "source": [
    "# FIRST-AUTHOR: remove ML code\n",
    "# from sklearn.ensemble import AdaBoostRegressor, GradientBoostingRegressor"
   ]
  },
  {
   "cell_type": "code",
   "execution_count": 186,
   "metadata": {
    "_cell_guid": "af0554f3-4926-4e0e-8c0f-1032af291cb8",
    "_uuid": "3818fda54b226837862e1316f34879622410ee7f"
   },
   "outputs": [],
   "source": [
    "# FIRST-AUTHOR: remove ML code\n",
    "# [10**x for x in range(-3, 3)]"
   ]
  },
  {
   "cell_type": "code",
   "execution_count": 187,
   "metadata": {
    "_cell_guid": "6c05ed10-ab54-4770-a69b-e9fc15a2a2c0",
    "_uuid": "611c649acbfb5fce26559cb9b80d521a8f63bb6f"
   },
   "outputs": [],
   "source": [
    "# FIRST-AUTHOR: remove ML code\n",
    "# paragrid_ada = {'n_estimators': [100, 200, 400, 600, 800],\n",
    "#                'learning_rate': [10**x for x in range(-3, 3)]}"
   ]
  },
  {
   "cell_type": "code",
   "execution_count": 188,
   "metadata": {
    "_cell_guid": "bef320e3-4539-4630-af8d-8a94ec649982",
    "_uuid": "5184a5c55b12b9b556e1f376b71306a945387d5d"
   },
   "outputs": [],
   "source": [
    "# FIRST-AUTHOR: remove ML code\n",
    "# from sklearn.grid_search import GridSearchCV\n",
    "# ada = GridSearchCV(estimator=AdaBoostRegressor(),\n",
    "#                   param_grid=paragrid_ada,\n",
    "#                   cv=5,\n",
    "#                   verbose=True, n_jobs=-1)"
   ]
  },
  {
   "cell_type": "code",
   "execution_count": 189,
   "metadata": {
    "_cell_guid": "b1ed0f74-f601-425d-8bee-219e41a298c7",
    "_uuid": "508faffe6ee2d1c94d391c48c5f672964bf24923"
   },
   "outputs": [],
   "source": [
    "# FIRST-AUTHOR: remove ML code\n",
    "# X_train = train1x\n",
    "# Y_train = train1y"
   ]
  },
  {
   "cell_type": "code",
   "execution_count": 190,
   "metadata": {
    "_cell_guid": "e50610e1-28b8-49d6-8d63-1267f1ed6712",
    "_uuid": "7268e05bfb0d5761da05a1392a1a6e1bebf388dc"
   },
   "outputs": [],
   "source": [
    "# FIRST-AUTHOR: remove ML code\n",
    "# ada.fit(X_train, Y_train)"
   ]
  },
  {
   "cell_type": "code",
   "execution_count": 191,
   "metadata": {
    "_cell_guid": "532f0447-8b22-4e8e-b757-20a461e74dce",
    "_uuid": "23ef4c03d6e51c93fddcf2dd06029142b77fc268"
   },
   "outputs": [],
   "source": [
    "# FIRST-AUTHOR: remove ML code\n",
    "# ada.best_params_"
   ]
  },
  {
   "cell_type": "code",
   "execution_count": 192,
   "metadata": {
    "_cell_guid": "1d326ede-c26a-4ed9-b7a9-e548df81908b",
    "_uuid": "bb795df97500b6a4c5718d3aad3b02de34bc4459"
   },
   "outputs": [],
   "source": [
    "# FIRST-AUTHOR: remove ML code\n",
    "# ada_clf = AdaBoostRegressor(learning_rate=0.1, n_estimators=800)"
   ]
  },
  {
   "cell_type": "code",
   "execution_count": 193,
   "metadata": {
    "_cell_guid": "1498cb55-955d-4e5a-a1a1-f98f3c8ae482",
    "_uuid": "ad30f96b45583ac6c89b2a8e913403cd24495109"
   },
   "outputs": [],
   "source": [
    "# FIRST-AUTHOR: remove ML code\n",
    "# ada_clf.fit(X_train, Y_train)"
   ]
  },
  {
   "cell_type": "code",
   "execution_count": 194,
   "metadata": {
    "_cell_guid": "83dfecb1-b0bc-413b-b8f6-b95d05e36fab",
    "_uuid": "a24f84b82d14941779caa94f5ea9f7ead5ddc44a"
   },
   "outputs": [],
   "source": [
    "# FIRST-AUTHOR: remove ML code\n",
    "# X_train, X_test, Y_train, Y_test = train_test_split(\n",
    "#         train2x,\n",
    "#         train2y,\n",
    "#         test_size=0.20,\n",
    "#         random_state=123)"
   ]
  },
  {
   "cell_type": "code",
   "execution_count": 195,
   "metadata": {
    "_cell_guid": "8f24361c-bbc0-4d4a-a611-bf1500ca8367",
    "_uuid": "89b833db63536b7d4eccbf739c87efe11e37145c"
   },
   "outputs": [],
   "source": [
    "# FIRST-AUTHOR: remove ML code\n",
    "# ada_test_pred = pd.DataFrame({'actual': Y_test,\n",
    "#                             'predicted': ada_clf.predict(X_test)})\n",
    "ada_test_pred = pd.DataFrame({'actual': train2y,\n",
    "                            'predicted': train2y})"
   ]
  },
  {
   "cell_type": "code",
   "execution_count": 196,
   "metadata": {
    "_cell_guid": "02298837-f4c2-464f-90ab-75b07ce14a87",
    "_uuid": "9615040c8c424022ef0194e45212a8c19ad1ffb0"
   },
   "outputs": [],
   "source": [
    "# FIRST-AUTHOR: remove ML code\n",
    "# metrics.r2_score(ada_test_pred.actual, ada_test_pred.predicted)\n",
    "_ = ada_test_pred.actual\n",
    "_ = ada_test_pred.predicted"
   ]
  },
  {
   "cell_type": "code",
   "execution_count": 197,
   "metadata": {
    "_cell_guid": "b702708b-5c8b-45f0-93ae-cc58a1e39805",
    "_uuid": "16ad400666a8eceb6e406a52550641d57029b8e9"
   },
   "outputs": [],
   "source": [
    "# FIRST-AUTHOR: remove ML code\n",
    "# rmse = np.sqrt(metrics.mean_squared_error(Y_test, y_pred.predicted))\n",
    "# rmse\n",
    "_ = y_pred.predicted"
   ]
  },
  {
   "cell_type": "markdown",
   "metadata": {
    "_cell_guid": "79309b47-4407-4eea-83fe-3c679e0931a2",
    "_uuid": "5228f481082df088e7057868850803a6e653c182",
    "collapsed": true
   },
   "source": [
    "## Gradient Boosting"
   ]
  },
  {
   "cell_type": "code",
   "execution_count": 198,
   "metadata": {
    "_cell_guid": "ac69ca18-de52-4541-aaf1-905c8cdb4e1a",
    "_uuid": "135a4f25fd7c3c7c68df2b3c33b34eeff8cc26c7"
   },
   "outputs": [],
   "source": [
    "# FIRST-AUTHOR: remove ML code\n",
    "# param_test1 = {'n_estimators': [100, 200, 400, 600, 800],\n",
    "#               'max_depth': list(range(1,10))}\n",
    "# gsearch1 = GridSearchCV(estimator = GradientBoostingRegressor(learning_rate=0.1, min_samples_split=500, min_samples_leaf=50,\n",
    "#                                                                max_features='sqrt',subsample=0.8, random_state=10), \n",
    "#                         param_grid = param_test1, scoring='r2',n_jobs=4,iid=False, cv=5)"
   ]
  },
  {
   "cell_type": "code",
   "execution_count": 199,
   "metadata": {
    "_cell_guid": "e8573b86-3972-4bbf-aab0-13fbdd693a1a",
    "_uuid": "8ed4e72807b5817d28ff60135f4ccd25fc488139"
   },
   "outputs": [],
   "source": [
    "# FIRST-AUTHOR: remove ML code\n",
    "# X_train = train1x\n",
    "# Y_train = train1y"
   ]
  },
  {
   "cell_type": "code",
   "execution_count": 200,
   "metadata": {
    "_cell_guid": "a8e66925-c849-47e8-bc8e-3e38cfdd0eb0",
    "_uuid": "5aa3010c866010a7bc579fb3284366dc3526b296"
   },
   "outputs": [],
   "source": [
    "# FIRST-AUTHOR: remove ML code\n",
    "# gsearch1.fit(X_train, Y_train)"
   ]
  },
  {
   "cell_type": "code",
   "execution_count": 201,
   "metadata": {
    "_cell_guid": "c200793e-a6a4-406a-8289-2256f6feaa06",
    "_uuid": "13fe386254da5c28d3ac5b17f270022b3a62474c"
   },
   "outputs": [],
   "source": [
    "# FIRST-AUTHOR: remove ML code\n",
    "# gsearch1.best_params_"
   ]
  },
  {
   "cell_type": "code",
   "execution_count": 202,
   "metadata": {
    "_cell_guid": "0c1ccd77-a684-4b54-a9e5-02051ddded0c",
    "_uuid": "a1d8ec958da410af60c53234753f5ddb2a84dbcf"
   },
   "outputs": [],
   "source": [
    "# FIRST-AUTHOR: remove ML code\n",
    "# gbm = GradientBoostingRegressor(learning_rate=0.1, min_samples_split=500, min_samples_leaf=50,max_depth=1, n_estimators=200,\n",
    "#                                                                max_features='sqrt',subsample=0.8, random_state=10)"
   ]
  },
  {
   "cell_type": "code",
   "execution_count": 203,
   "metadata": {
    "_cell_guid": "1322e5ec-8923-47da-bc7c-608ef939c3b8",
    "_uuid": "961de8aa01f8849f4851b82048d512cb14a272f1"
   },
   "outputs": [],
   "source": [
    "# FIRST-AUTHOR: remove ML code\n",
    "# gbm.fit(X_train, Y_train)"
   ]
  },
  {
   "cell_type": "code",
   "execution_count": 204,
   "metadata": {
    "_cell_guid": "8885658c-659f-454c-93ea-c291ed9729e0",
    "_uuid": "79443e160153358655dce737893672d69120feac"
   },
   "outputs": [],
   "source": [
    "# FIRST-AUTHOR: remove ML code\n",
    "# X_train, X_test, Y_train, Y_test = train_test_split(\n",
    "#         train2x,\n",
    "#         train2y,\n",
    "#         test_size=0.20,\n",
    "#         random_state=123)"
   ]
  },
  {
   "cell_type": "code",
   "execution_count": 205,
   "metadata": {
    "_cell_guid": "00579500-ab2b-42b8-a36f-83f2e24488a4",
    "_uuid": "7156072109d8a27843d24f2c67d67f4957f022e5"
   },
   "outputs": [],
   "source": [
    "# FIRST-AUTHOR: remove ML code\n",
    "# gbm_test_pred = pd.DataFrame({'actual': Y_test,\n",
    "#                             'predicted': gbm.predict(X_test)})\n",
    "gbm_test_pred = pd.DataFrame({'actual': train2y,\n",
    "                            'predicted': train2y})"
   ]
  },
  {
   "cell_type": "code",
   "execution_count": 206,
   "metadata": {
    "_cell_guid": "4ff80719-87c6-4bc3-a7cb-0f10eef37ca6",
    "_uuid": "b580d133314515b8bac1fbfef286ca12d183187f"
   },
   "outputs": [],
   "source": [
    "# FIRST-AUTHOR: remove ML code\n",
    "# metrics.r2_score(gbm_test_pred.actual, gbm_test_pred.predicted)\n",
    "_ = gbm_test_pred.actual\n",
    "_ = gbm_test_pred.predicted"
   ]
  },
  {
   "cell_type": "code",
   "execution_count": 207,
   "metadata": {
    "_cell_guid": "d4f34fb5-b881-4d78-bf48-ade13f61b88a",
    "_uuid": "fd078629d8eff9201c4411fd93a15c5fdef41370"
   },
   "outputs": [],
   "source": [
    "# FIRST-AUTHOR: remove ML code\n",
    "# rmse = np.sqrt(metrics.mean_squared_error(gbm_test_pred.actual, gbm_test_pred.predicted))\n",
    "# rmse\n",
    "_ = gbm_test_pred.actual\n",
    "_ = gbm_test_pred.predicted"
   ]
  },
  {
   "cell_type": "code",
   "execution_count": null,
   "metadata": {
    "_cell_guid": "a902ea7d-0849-4a41-941a-12755fae27b7",
    "_uuid": "fec591f886f5ca09c00200d657559ff3b8dc958c"
   },
   "outputs": [],
   "source": []
  }
 ],
 "metadata": {
  "kernelspec": {
   "display_name": "Python 3 (ipykernel)",
   "language": "python",
   "name": "python3"
  },
  "language_info": {
   "codemirror_mode": {
    "name": "ipython",
    "version": 3
   },
   "file_extension": ".py",
   "mimetype": "text/x-python",
   "name": "python",
   "nbconvert_exporter": "python",
   "pygments_lexer": "ipython3",
   "version": "3.10.16"
  }
 },
 "nbformat": 4,
 "nbformat_minor": 1
}