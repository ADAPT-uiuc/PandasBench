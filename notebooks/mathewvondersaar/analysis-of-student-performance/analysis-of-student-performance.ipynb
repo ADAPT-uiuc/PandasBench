{
 "cells": [
  {
   "cell_type": "code",
   "execution_count": null,
   "id": "21587e21",
   "metadata": {},
   "outputs": [],
   "source": [
    "import os\n",
    "\n",
    "def scale_input_data(scale_factor):\n",
    "  file_bases = ['./input/highereducationstudentsperformanceevaluation/DATA (1)']\n",
    "  for file_base in file_bases:\n",
    "    import pandas as pd\n",
    "    import shutil\n",
    "    if scale_factor == 1.0:\n",
    "      shutil.copyfile(file_base + '.csv', file_base + '.scaled.csv')\n",
    "      continue\n",
    "    df_to_scale = pd.read_csv(file_base + '.csv')\n",
    "    new_num_rows = int(scale_factor * len(df_to_scale))\n",
    "    if scale_factor <= 1.0:\n",
    "      df_to_scale = df_to_scale.iloc[:new_num_rows]\n",
    "    else:\n",
    "      while len(df_to_scale) < new_num_rows:\n",
    "        df_to_scale = pd.concat([df_to_scale, df_to_scale[:min(new_num_rows - len(df_to_scale), len(df_to_scale))]])\n",
    "    df_to_scale.to_csv(file_base + '.scaled.csv', index=False)\n",
    "\n",
    "if 'INPUT_SCALE_FACTOR' in os.environ:\n",
    "  scale_input_data(float(os.environ['INPUT_SCALE_FACTOR']))"
   ]
  },
  {
   "cell_type": "code",
   "execution_count": 1,
   "id": "204502b2",
   "metadata": {
    "_cell_guid": "b1076dfc-b9ad-4769-8c92-a6c4dae69d19",
    "_uuid": "8f2839f25d086af736a60e9eeb907d3b93b6e0e5",
    "execution": {
     "iopub.execute_input": "2023-09-07T16:28:49.819005Z",
     "iopub.status.busy": "2023-09-07T16:28:49.818362Z",
     "iopub.status.idle": "2023-09-07T16:28:51.237752Z",
     "shell.execute_reply": "2023-09-07T16:28:51.236488Z"
    },
    "papermill": {
     "duration": 1.431501,
     "end_time": "2023-09-07T16:28:51.240336",
     "exception": false,
     "start_time": "2023-09-07T16:28:49.808835",
     "status": "completed"
    },
    "tags": []
   },
   "outputs": [
    {
     "name": "stdout",
     "output_type": "stream",
     "text": [
      "./input/.DS_Store\n",
      "./input/StudentsPerformance_with_headers.csv\n",
      "./input/highereducationstudentsperformanceevaluation/DATA (1).csv\n"
     ]
    }
   ],
   "source": [
    "# This Python 3 environment comes with many helpful analytics libraries installed\n",
    "# It is defined by the kaggle/python Docker image: https://github.com/kaggle/docker-python\n",
    "# For example, here's several helpful packages to load\n",
    "\n",
    "import numpy as np # linear algebra\n",
    "# import pandas as pd # data processing, CSV file I/O (e.g. pd.read_csv)\n",
    "exec(os.environ['IREWR_IMPORTS'])\n",
    "# ALEX: remove plotting\n",
    "# import matplotlib.pyplot as plt #plotting!\n",
    "# import seaborn as sns #cute messing with style\n",
    "\n",
    "# Input data files are available in the read-only \"../input/\" directory\n",
    "# For example, running this (by clicking run or pressing Shift+Enter) will list all files under the input directory\n",
    "\n",
    "# ALEX: remove path printing\n",
    "# import os\n",
    "# for dirname, _, filenames in os.walk('./input'):\n",
    "#     for filename in filenames:\n",
    "#         print(os.path.join(dirname, filename))\n",
    "\n",
    "# You can write up to 20GB to the current directory (/kaggle/working/) that gets preserved as output when you create a version using \"Save & Run All\" \n",
    "# You can also write temporary files to /kaggle/temp/, but they won't be saved outside of the current session"
   ]
  },
  {
   "cell_type": "code",
   "execution_count": 2,
   "id": "2fd2b8ed",
   "metadata": {
    "execution": {
     "iopub.execute_input": "2023-09-07T16:28:51.257720Z",
     "iopub.status.busy": "2023-09-07T16:28:51.257107Z",
     "iopub.status.idle": "2023-09-07T16:28:51.301204Z",
     "shell.execute_reply": "2023-09-07T16:28:51.300105Z"
    },
    "papermill": {
     "duration": 0.05521,
     "end_time": "2023-09-07T16:28:51.303485",
     "exception": false,
     "start_time": "2023-09-07T16:28:51.248275",
     "status": "completed"
    },
    "tags": []
   },
   "outputs": [
    {
     "data": {
      "text/html": [
       "<div>\n",
       "<style scoped>\n",
       "    .dataframe tbody tr th:only-of-type {\n",
       "        vertical-align: middle;\n",
       "    }\n",
       "\n",
       "    .dataframe tbody tr th {\n",
       "        vertical-align: top;\n",
       "    }\n",
       "\n",
       "    .dataframe thead th {\n",
       "        text-align: right;\n",
       "    }\n",
       "</style>\n",
       "<table border=\"1\" class=\"dataframe\">\n",
       "  <thead>\n",
       "    <tr style=\"text-align: right;\">\n",
       "      <th></th>\n",
       "      <th>STUDENT ID</th>\n",
       "      <th>1</th>\n",
       "      <th>2</th>\n",
       "      <th>3</th>\n",
       "      <th>4</th>\n",
       "      <th>5</th>\n",
       "      <th>6</th>\n",
       "      <th>7</th>\n",
       "      <th>8</th>\n",
       "      <th>9</th>\n",
       "      <th>...</th>\n",
       "      <th>23</th>\n",
       "      <th>24</th>\n",
       "      <th>25</th>\n",
       "      <th>26</th>\n",
       "      <th>27</th>\n",
       "      <th>28</th>\n",
       "      <th>29</th>\n",
       "      <th>30</th>\n",
       "      <th>COURSE ID</th>\n",
       "      <th>GRADE</th>\n",
       "    </tr>\n",
       "  </thead>\n",
       "  <tbody>\n",
       "    <tr>\n",
       "      <th>0</th>\n",
       "      <td>STUDENT1</td>\n",
       "      <td>2</td>\n",
       "      <td>2</td>\n",
       "      <td>3</td>\n",
       "      <td>3</td>\n",
       "      <td>1</td>\n",
       "      <td>2</td>\n",
       "      <td>2</td>\n",
       "      <td>1</td>\n",
       "      <td>1</td>\n",
       "      <td>...</td>\n",
       "      <td>1</td>\n",
       "      <td>1</td>\n",
       "      <td>3</td>\n",
       "      <td>2</td>\n",
       "      <td>1</td>\n",
       "      <td>2</td>\n",
       "      <td>1</td>\n",
       "      <td>1</td>\n",
       "      <td>1</td>\n",
       "      <td>1</td>\n",
       "    </tr>\n",
       "    <tr>\n",
       "      <th>1</th>\n",
       "      <td>STUDENT2</td>\n",
       "      <td>2</td>\n",
       "      <td>2</td>\n",
       "      <td>3</td>\n",
       "      <td>3</td>\n",
       "      <td>1</td>\n",
       "      <td>2</td>\n",
       "      <td>2</td>\n",
       "      <td>1</td>\n",
       "      <td>1</td>\n",
       "      <td>...</td>\n",
       "      <td>1</td>\n",
       "      <td>1</td>\n",
       "      <td>3</td>\n",
       "      <td>2</td>\n",
       "      <td>3</td>\n",
       "      <td>2</td>\n",
       "      <td>2</td>\n",
       "      <td>3</td>\n",
       "      <td>1</td>\n",
       "      <td>1</td>\n",
       "    </tr>\n",
       "    <tr>\n",
       "      <th>2</th>\n",
       "      <td>STUDENT3</td>\n",
       "      <td>2</td>\n",
       "      <td>2</td>\n",
       "      <td>2</td>\n",
       "      <td>3</td>\n",
       "      <td>2</td>\n",
       "      <td>2</td>\n",
       "      <td>2</td>\n",
       "      <td>2</td>\n",
       "      <td>4</td>\n",
       "      <td>...</td>\n",
       "      <td>1</td>\n",
       "      <td>1</td>\n",
       "      <td>2</td>\n",
       "      <td>2</td>\n",
       "      <td>1</td>\n",
       "      <td>1</td>\n",
       "      <td>2</td>\n",
       "      <td>2</td>\n",
       "      <td>1</td>\n",
       "      <td>1</td>\n",
       "    </tr>\n",
       "    <tr>\n",
       "      <th>3</th>\n",
       "      <td>STUDENT4</td>\n",
       "      <td>1</td>\n",
       "      <td>1</td>\n",
       "      <td>1</td>\n",
       "      <td>3</td>\n",
       "      <td>1</td>\n",
       "      <td>2</td>\n",
       "      <td>1</td>\n",
       "      <td>2</td>\n",
       "      <td>1</td>\n",
       "      <td>...</td>\n",
       "      <td>1</td>\n",
       "      <td>2</td>\n",
       "      <td>3</td>\n",
       "      <td>2</td>\n",
       "      <td>2</td>\n",
       "      <td>1</td>\n",
       "      <td>3</td>\n",
       "      <td>2</td>\n",
       "      <td>1</td>\n",
       "      <td>1</td>\n",
       "    </tr>\n",
       "    <tr>\n",
       "      <th>4</th>\n",
       "      <td>STUDENT5</td>\n",
       "      <td>2</td>\n",
       "      <td>2</td>\n",
       "      <td>1</td>\n",
       "      <td>3</td>\n",
       "      <td>2</td>\n",
       "      <td>2</td>\n",
       "      <td>1</td>\n",
       "      <td>3</td>\n",
       "      <td>1</td>\n",
       "      <td>...</td>\n",
       "      <td>2</td>\n",
       "      <td>1</td>\n",
       "      <td>2</td>\n",
       "      <td>2</td>\n",
       "      <td>2</td>\n",
       "      <td>1</td>\n",
       "      <td>2</td>\n",
       "      <td>2</td>\n",
       "      <td>1</td>\n",
       "      <td>1</td>\n",
       "    </tr>\n",
       "  </tbody>\n",
       "</table>\n",
       "<p>5 rows \u00d7 33 columns</p>\n",
       "</div>"
      ],
      "text/plain": [
       "  STUDENT ID  1  2  3  4  5  6  7  8  9  ...  23  24  25  26  27  28  29  30  \\\n",
       "0   STUDENT1  2  2  3  3  1  2  2  1  1  ...   1   1   3   2   1   2   1   1   \n",
       "1   STUDENT2  2  2  3  3  1  2  2  1  1  ...   1   1   3   2   3   2   2   3   \n",
       "2   STUDENT3  2  2  2  3  2  2  2  2  4  ...   1   1   2   2   1   1   2   2   \n",
       "3   STUDENT4  1  1  1  3  1  2  1  2  1  ...   1   2   3   2   2   1   3   2   \n",
       "4   STUDENT5  2  2  1  3  2  2  1  3  1  ...   2   1   2   2   2   1   2   2   \n",
       "\n",
       "   COURSE ID  GRADE  \n",
       "0          1      1  \n",
       "1          1      1  \n",
       "2          1      1  \n",
       "3          1      1  \n",
       "4          1      1  \n",
       "\n",
       "[5 rows x 33 columns]"
      ]
     },
     "execution_count": 2,
     "metadata": {},
     "output_type": "execute_result"
    }
   ],
   "source": [
    "# ALEX: removed plotting\n",
    "# %matplotlib inline\n",
    "# sns.set_style('darkgrid')\n",
    "df = pd.read_csv('./input/highereducationstudentsperformanceevaluation/DATA (1).scaled.csv')\n",
    "df.head()"
   ]
  },
  {
   "cell_type": "code",
   "execution_count": 3,
   "id": "1d6d7009",
   "metadata": {
    "execution": {
     "iopub.execute_input": "2023-09-07T16:28:51.320737Z",
     "iopub.status.busy": "2023-09-07T16:28:51.320293Z",
     "iopub.status.idle": "2023-09-07T16:28:51.326815Z",
     "shell.execute_reply": "2023-09-07T16:28:51.325747Z"
    },
    "papermill": {
     "duration": 0.017647,
     "end_time": "2023-09-07T16:28:51.329089",
     "exception": false,
     "start_time": "2023-09-07T16:28:51.311442",
     "status": "completed"
    },
    "tags": []
   },
   "outputs": [
    {
     "data": {
      "text/plain": [
       "(145, 33)"
      ]
     },
     "execution_count": 3,
     "metadata": {},
     "output_type": "execute_result"
    }
   ],
   "source": [
    "df.shape"
   ]
  },
  {
   "cell_type": "code",
   "execution_count": 4,
   "id": "43a1efa0",
   "metadata": {
    "execution": {
     "iopub.execute_input": "2023-09-07T16:28:51.346715Z",
     "iopub.status.busy": "2023-09-07T16:28:51.346362Z",
     "iopub.status.idle": "2023-09-07T16:28:51.373197Z",
     "shell.execute_reply": "2023-09-07T16:28:51.371098Z"
    },
    "papermill": {
     "duration": 0.038661,
     "end_time": "2023-09-07T16:28:51.375734",
     "exception": false,
     "start_time": "2023-09-07T16:28:51.337073",
     "status": "completed"
    },
    "tags": []
   },
   "outputs": [
    {
     "name": "stdout",
     "output_type": "stream",
     "text": [
      "<class 'pandas.core.frame.DataFrame'>\n",
      "RangeIndex: 145 entries, 0 to 144\n",
      "Data columns (total 33 columns):\n",
      " #   Column      Non-Null Count  Dtype \n",
      "---  ------      --------------  ----- \n",
      " 0   STUDENT ID  145 non-null    object\n",
      " 1   1           145 non-null    int64 \n",
      " 2   2           145 non-null    int64 \n",
      " 3   3           145 non-null    int64 \n",
      " 4   4           145 non-null    int64 \n",
      " 5   5           145 non-null    int64 \n",
      " 6   6           145 non-null    int64 \n",
      " 7   7           145 non-null    int64 \n",
      " 8   8           145 non-null    int64 \n",
      " 9   9           145 non-null    int64 \n",
      " 10  10          145 non-null    int64 \n",
      " 11  11          145 non-null    int64 \n",
      " 12  12          145 non-null    int64 \n",
      " 13  13          145 non-null    int64 \n",
      " 14  14          145 non-null    int64 \n",
      " 15  15          145 non-null    int64 \n",
      " 16  16          145 non-null    int64 \n",
      " 17  17          145 non-null    int64 \n",
      " 18  18          145 non-null    int64 \n",
      " 19  19          145 non-null    int64 \n",
      " 20  20          145 non-null    int64 \n",
      " 21  21          145 non-null    int64 \n",
      " 22  22          145 non-null    int64 \n",
      " 23  23          145 non-null    int64 \n",
      " 24  24          145 non-null    int64 \n",
      " 25  25          145 non-null    int64 \n",
      " 26  26          145 non-null    int64 \n",
      " 27  27          145 non-null    int64 \n",
      " 28  28          145 non-null    int64 \n",
      " 29  29          145 non-null    int64 \n",
      " 30  30          145 non-null    int64 \n",
      " 31  COURSE ID   145 non-null    int64 \n",
      " 32  GRADE       145 non-null    int64 \n",
      "dtypes: int64(32), object(1)\n",
      "memory usage: 37.5+ KB\n"
     ]
    }
   ],
   "source": [
    "df.info()"
   ]
  },
  {
   "cell_type": "markdown",
   "id": "5887c0aa",
   "metadata": {
    "papermill": {
     "duration": 0.00771,
     "end_time": "2023-09-07T16:28:51.392788",
     "exception": false,
     "start_time": "2023-09-07T16:28:51.385078",
     "status": "completed"
    },
    "tags": []
   },
   "source": [
    "### Names\n",
    "Due to all the names of these data-points being hidden behind ascending integers, were gonna grab and rename a handful of values I think are interesting. "
   ]
  },
  {
   "cell_type": "code",
   "execution_count": 5,
   "id": "9d6db37b",
   "metadata": {
    "execution": {
     "iopub.execute_input": "2023-09-07T16:28:51.410504Z",
     "iopub.status.busy": "2023-09-07T16:28:51.409873Z",
     "iopub.status.idle": "2023-09-07T16:28:51.422762Z",
     "shell.execute_reply": "2023-09-07T16:28:51.421654Z"
    },
    "papermill": {
     "duration": 0.024679,
     "end_time": "2023-09-07T16:28:51.425451",
     "exception": false,
     "start_time": "2023-09-07T16:28:51.400772",
     "status": "completed"
    },
    "tags": []
   },
   "outputs": [
    {
     "data": {
      "text/html": [
       "<div>\n",
       "<style scoped>\n",
       "    .dataframe tbody tr th:only-of-type {\n",
       "        vertical-align: middle;\n",
       "    }\n",
       "\n",
       "    .dataframe tbody tr th {\n",
       "        vertical-align: top;\n",
       "    }\n",
       "\n",
       "    .dataframe thead th {\n",
       "        text-align: right;\n",
       "    }\n",
       "</style>\n",
       "<table border=\"1\" class=\"dataframe\">\n",
       "  <thead>\n",
       "    <tr style=\"text-align: right;\">\n",
       "      <th></th>\n",
       "      <th>AGE</th>\n",
       "      <th>SINGLE</th>\n",
       "      <th>NOTETAKING</th>\n",
       "      <th>GPA</th>\n",
       "      <th>GRADE</th>\n",
       "    </tr>\n",
       "  </thead>\n",
       "  <tbody>\n",
       "    <tr>\n",
       "      <th>0</th>\n",
       "      <td>2</td>\n",
       "      <td>2</td>\n",
       "      <td>3</td>\n",
       "      <td>1</td>\n",
       "      <td>1</td>\n",
       "    </tr>\n",
       "    <tr>\n",
       "      <th>1</th>\n",
       "      <td>2</td>\n",
       "      <td>2</td>\n",
       "      <td>3</td>\n",
       "      <td>3</td>\n",
       "      <td>1</td>\n",
       "    </tr>\n",
       "    <tr>\n",
       "      <th>2</th>\n",
       "      <td>2</td>\n",
       "      <td>2</td>\n",
       "      <td>2</td>\n",
       "      <td>2</td>\n",
       "      <td>1</td>\n",
       "    </tr>\n",
       "    <tr>\n",
       "      <th>3</th>\n",
       "      <td>1</td>\n",
       "      <td>1</td>\n",
       "      <td>3</td>\n",
       "      <td>2</td>\n",
       "      <td>1</td>\n",
       "    </tr>\n",
       "    <tr>\n",
       "      <th>4</th>\n",
       "      <td>2</td>\n",
       "      <td>1</td>\n",
       "      <td>2</td>\n",
       "      <td>2</td>\n",
       "      <td>1</td>\n",
       "    </tr>\n",
       "  </tbody>\n",
       "</table>\n",
       "</div>"
      ],
      "text/plain": [
       "   AGE  SINGLE  NOTETAKING  GPA  GRADE\n",
       "0    2       2           3    1      1\n",
       "1    2       2           3    3      1\n",
       "2    2       2           2    2      1\n",
       "3    1       1           3    2      1\n",
       "4    2       1           2    2      1"
      ]
     },
     "execution_count": 5,
     "metadata": {},
     "output_type": "execute_result"
    }
   ],
   "source": [
    "# Rename columns\n",
    "df.rename(columns={'1': 'AGE', '7': 'SINGLE','20':'ATTENDENCE','25':'NOTETAKING','30': 'GPA'}, inplace=True)\n",
    "\n",
    "# Access the renamed columns using loc\n",
    "preview_columns = ['AGE', 'SINGLE', 'NOTETAKING','GPA','GRADE']\n",
    "df.loc[:, preview_columns].head()"
   ]
  },
  {
   "cell_type": "code",
   "execution_count": 6,
   "id": "d0bfd463",
   "metadata": {
    "execution": {
     "iopub.execute_input": "2023-09-07T16:28:51.444503Z",
     "iopub.status.busy": "2023-09-07T16:28:51.444122Z",
     "iopub.status.idle": "2023-09-07T16:28:51.457206Z",
     "shell.execute_reply": "2023-09-07T16:28:51.456104Z"
    },
    "papermill": {
     "duration": 0.025512,
     "end_time": "2023-09-07T16:28:51.459721",
     "exception": false,
     "start_time": "2023-09-07T16:28:51.434209",
     "status": "completed"
    },
    "tags": []
   },
   "outputs": [
    {
     "name": "stdout",
     "output_type": "stream",
     "text": [
      "<class 'pandas.core.frame.DataFrame'>\n",
      "RangeIndex: 145 entries, 0 to 144\n",
      "Data columns (total 6 columns):\n",
      " #   Column      Non-Null Count  Dtype\n",
      "---  ------      --------------  -----\n",
      " 0   AGE         145 non-null    int64\n",
      " 1   SINGLE      145 non-null    int64\n",
      " 2   ATTENDENCE  145 non-null    int64\n",
      " 3   NOTETAKING  145 non-null    int64\n",
      " 4   GPA         145 non-null    int64\n",
      " 5   GRADE       145 non-null    int64\n",
      "dtypes: int64(6)\n",
      "memory usage: 6.9 KB\n"
     ]
    }
   ],
   "source": [
    "df_clean = df.copy()\n",
    "\n",
    "# List of columns to keep\n",
    "selected_columns = [\n",
    "    'AGE',\n",
    "    'SINGLE',\n",
    "    'NOTETAKING',\n",
    "    'GPA',\n",
    "    'GRADE',\n",
    "    'ATTENDENCE',\n",
    "]\n",
    "\n",
    "# Get the list of columns that exist in the DataFrame but are not in the selected_columns list\n",
    "columns_to_remove = [col for col in df_clean.columns if col not in selected_columns]\n",
    "\n",
    "# Drop the columns that are not in the selected_columns list\n",
    "df_clean.drop(columns=columns_to_remove, inplace=True)\n",
    "\n",
    "# Display DataFrame info to verify\n",
    "df_clean.info()"
   ]
  },
  {
   "cell_type": "code",
   "execution_count": 7,
   "id": "4f657ab3",
   "metadata": {
    "execution": {
     "iopub.execute_input": "2023-09-07T16:28:51.478478Z",
     "iopub.status.busy": "2023-09-07T16:28:51.478044Z",
     "iopub.status.idle": "2023-09-07T16:28:52.030139Z",
     "shell.execute_reply": "2023-09-07T16:28:52.029025Z"
    },
    "papermill": {
     "duration": 0.564495,
     "end_time": "2023-09-07T16:28:52.032682",
     "exception": false,
     "start_time": "2023-09-07T16:28:51.468187",
     "status": "completed"
    },
    "tags": []
   },
   "outputs": [],
   "source": [
    "# ALEX: remove plotting\n",
    "# plt.figure(figsize=(16, 12))\n",
    "# sns.heatmap(df_clean.drop('GPA', axis=1).corr(), cmap='YlGnBu', annot=True, fmt='.2f', vmin=0);\n",
    "_ = df_clean.drop('GPA', axis=1).corr()"
   ]
  },
  {
   "cell_type": "code",
   "execution_count": 8,
   "id": "7405772c",
   "metadata": {
    "execution": {
     "iopub.execute_input": "2023-09-07T16:28:52.053156Z",
     "iopub.status.busy": "2023-09-07T16:28:52.052528Z",
     "iopub.status.idle": "2023-09-07T16:28:53.990965Z",
     "shell.execute_reply": "2023-09-07T16:28:53.989919Z"
    },
    "papermill": {
     "duration": 1.951869,
     "end_time": "2023-09-07T16:28:53.993743",
     "exception": false,
     "start_time": "2023-09-07T16:28:52.041874",
     "status": "completed"
    },
    "tags": []
   },
   "outputs": [],
   "source": [
    "# ALEX: remove plotting\n",
    "# df_clean.hist(alpha = 0.7, figsize=(12,10), bins=5);"
   ]
  },
  {
   "cell_type": "markdown",
   "id": "e55cb9a4",
   "metadata": {
    "papermill": {
     "duration": 0.009797,
     "end_time": "2023-09-07T16:28:54.014277",
     "exception": false,
     "start_time": "2023-09-07T16:28:54.004480",
     "status": "completed"
    },
    "tags": []
   },
   "source": [
    "## Well, that's odd. \n",
    "Nothing seems to be signifigently correlated; the only items with anything close to any correlation are ATTENDANCE and NOTETAKING. I wanted to be lazy and not expand our data-set, but guess we gotta do it the hard way.\n",
    "\n",
    "Round two."
   ]
  },
  {
   "cell_type": "code",
   "execution_count": 9,
   "id": "1db5fa1e",
   "metadata": {
    "execution": {
     "iopub.execute_input": "2023-09-07T16:28:54.036943Z",
     "iopub.status.busy": "2023-09-07T16:28:54.036205Z",
     "iopub.status.idle": "2023-09-07T16:28:54.061732Z",
     "shell.execute_reply": "2023-09-07T16:28:54.060628Z"
    },
    "papermill": {
     "duration": 0.039393,
     "end_time": "2023-09-07T16:28:54.064168",
     "exception": false,
     "start_time": "2023-09-07T16:28:54.024775",
     "status": "completed"
    },
    "tags": []
   },
   "outputs": [
    {
     "data": {
      "text/html": [
       "<div>\n",
       "<style scoped>\n",
       "    .dataframe tbody tr th:only-of-type {\n",
       "        vertical-align: middle;\n",
       "    }\n",
       "\n",
       "    .dataframe tbody tr th {\n",
       "        vertical-align: top;\n",
       "    }\n",
       "\n",
       "    .dataframe thead th {\n",
       "        text-align: right;\n",
       "    }\n",
       "</style>\n",
       "<table border=\"1\" class=\"dataframe\">\n",
       "  <thead>\n",
       "    <tr style=\"text-align: right;\">\n",
       "      <th></th>\n",
       "      <th>STUDENT ID</th>\n",
       "      <th>1</th>\n",
       "      <th>2</th>\n",
       "      <th>3</th>\n",
       "      <th>4</th>\n",
       "      <th>5</th>\n",
       "      <th>6</th>\n",
       "      <th>7</th>\n",
       "      <th>8</th>\n",
       "      <th>9</th>\n",
       "      <th>...</th>\n",
       "      <th>23</th>\n",
       "      <th>24</th>\n",
       "      <th>25</th>\n",
       "      <th>26</th>\n",
       "      <th>27</th>\n",
       "      <th>28</th>\n",
       "      <th>29</th>\n",
       "      <th>30</th>\n",
       "      <th>COURSE ID</th>\n",
       "      <th>GRADE</th>\n",
       "    </tr>\n",
       "  </thead>\n",
       "  <tbody>\n",
       "    <tr>\n",
       "      <th>0</th>\n",
       "      <td>STUDENT1</td>\n",
       "      <td>2</td>\n",
       "      <td>2</td>\n",
       "      <td>3</td>\n",
       "      <td>3</td>\n",
       "      <td>1</td>\n",
       "      <td>2</td>\n",
       "      <td>2</td>\n",
       "      <td>1</td>\n",
       "      <td>1</td>\n",
       "      <td>...</td>\n",
       "      <td>1</td>\n",
       "      <td>1</td>\n",
       "      <td>3</td>\n",
       "      <td>2</td>\n",
       "      <td>1</td>\n",
       "      <td>2</td>\n",
       "      <td>1</td>\n",
       "      <td>1</td>\n",
       "      <td>1</td>\n",
       "      <td>1</td>\n",
       "    </tr>\n",
       "    <tr>\n",
       "      <th>1</th>\n",
       "      <td>STUDENT2</td>\n",
       "      <td>2</td>\n",
       "      <td>2</td>\n",
       "      <td>3</td>\n",
       "      <td>3</td>\n",
       "      <td>1</td>\n",
       "      <td>2</td>\n",
       "      <td>2</td>\n",
       "      <td>1</td>\n",
       "      <td>1</td>\n",
       "      <td>...</td>\n",
       "      <td>1</td>\n",
       "      <td>1</td>\n",
       "      <td>3</td>\n",
       "      <td>2</td>\n",
       "      <td>3</td>\n",
       "      <td>2</td>\n",
       "      <td>2</td>\n",
       "      <td>3</td>\n",
       "      <td>1</td>\n",
       "      <td>1</td>\n",
       "    </tr>\n",
       "    <tr>\n",
       "      <th>2</th>\n",
       "      <td>STUDENT3</td>\n",
       "      <td>2</td>\n",
       "      <td>2</td>\n",
       "      <td>2</td>\n",
       "      <td>3</td>\n",
       "      <td>2</td>\n",
       "      <td>2</td>\n",
       "      <td>2</td>\n",
       "      <td>2</td>\n",
       "      <td>4</td>\n",
       "      <td>...</td>\n",
       "      <td>1</td>\n",
       "      <td>1</td>\n",
       "      <td>2</td>\n",
       "      <td>2</td>\n",
       "      <td>1</td>\n",
       "      <td>1</td>\n",
       "      <td>2</td>\n",
       "      <td>2</td>\n",
       "      <td>1</td>\n",
       "      <td>1</td>\n",
       "    </tr>\n",
       "    <tr>\n",
       "      <th>3</th>\n",
       "      <td>STUDENT4</td>\n",
       "      <td>1</td>\n",
       "      <td>1</td>\n",
       "      <td>1</td>\n",
       "      <td>3</td>\n",
       "      <td>1</td>\n",
       "      <td>2</td>\n",
       "      <td>1</td>\n",
       "      <td>2</td>\n",
       "      <td>1</td>\n",
       "      <td>...</td>\n",
       "      <td>1</td>\n",
       "      <td>2</td>\n",
       "      <td>3</td>\n",
       "      <td>2</td>\n",
       "      <td>2</td>\n",
       "      <td>1</td>\n",
       "      <td>3</td>\n",
       "      <td>2</td>\n",
       "      <td>1</td>\n",
       "      <td>1</td>\n",
       "    </tr>\n",
       "    <tr>\n",
       "      <th>4</th>\n",
       "      <td>STUDENT5</td>\n",
       "      <td>2</td>\n",
       "      <td>2</td>\n",
       "      <td>1</td>\n",
       "      <td>3</td>\n",
       "      <td>2</td>\n",
       "      <td>2</td>\n",
       "      <td>1</td>\n",
       "      <td>3</td>\n",
       "      <td>1</td>\n",
       "      <td>...</td>\n",
       "      <td>2</td>\n",
       "      <td>1</td>\n",
       "      <td>2</td>\n",
       "      <td>2</td>\n",
       "      <td>2</td>\n",
       "      <td>1</td>\n",
       "      <td>2</td>\n",
       "      <td>2</td>\n",
       "      <td>1</td>\n",
       "      <td>1</td>\n",
       "    </tr>\n",
       "  </tbody>\n",
       "</table>\n",
       "<p>5 rows \u00d7 33 columns</p>\n",
       "</div>"
      ],
      "text/plain": [
       "  STUDENT ID  1  2  3  4  5  6  7  8  9  ...  23  24  25  26  27  28  29  30  \\\n",
       "0   STUDENT1  2  2  3  3  1  2  2  1  1  ...   1   1   3   2   1   2   1   1   \n",
       "1   STUDENT2  2  2  3  3  1  2  2  1  1  ...   1   1   3   2   3   2   2   3   \n",
       "2   STUDENT3  2  2  2  3  2  2  2  2  4  ...   1   1   2   2   1   1   2   2   \n",
       "3   STUDENT4  1  1  1  3  1  2  1  2  1  ...   1   2   3   2   2   1   3   2   \n",
       "4   STUDENT5  2  2  1  3  2  2  1  3  1  ...   2   1   2   2   2   1   2   2   \n",
       "\n",
       "   COURSE ID  GRADE  \n",
       "0          1      1  \n",
       "1          1      1  \n",
       "2          1      1  \n",
       "3          1      1  \n",
       "4          1      1  \n",
       "\n",
       "[5 rows x 33 columns]"
      ]
     },
     "execution_count": 9,
     "metadata": {},
     "output_type": "execute_result"
    }
   ],
   "source": [
    "# ALEX: remove plotting\n",
    "# %matplotlib inline\n",
    "# sns.set_style('darkgrid')\n",
    "df = pd.read_csv('./input/highereducationstudentsperformanceevaluation/DATA (1).scaled.csv')\n",
    "df.head()"
   ]
  },
  {
   "cell_type": "code",
   "execution_count": 10,
   "id": "975fc3ef",
   "metadata": {
    "execution": {
     "iopub.execute_input": "2023-09-07T16:28:54.087463Z",
     "iopub.status.busy": "2023-09-07T16:28:54.086738Z",
     "iopub.status.idle": "2023-09-07T16:28:57.531839Z",
     "shell.execute_reply": "2023-09-07T16:28:57.530786Z"
    },
    "papermill": {
     "duration": 3.468082,
     "end_time": "2023-09-07T16:28:57.542812",
     "exception": false,
     "start_time": "2023-09-07T16:28:54.074730",
     "status": "completed"
    },
    "tags": []
   },
   "outputs": [
    {
     "name": "stderr",
     "output_type": "stream",
     "text": [
      "/tmp/ipykernel_88990/555440234.py:4: FutureWarning: The default value of numeric_only in DataFrame.corr is deprecated. In a future version, it will default to False. Select only valid columns or specify the value of numeric_only to silence this warning.\n",
      "  _ = df.drop('30', axis=1).corr()\n"
     ]
    }
   ],
   "source": [
    "# ALEX: remove plotting\n",
    "# plt.figure(figsize=(16, 12))\n",
    "# sns.heatmap(df.drop('30', axis=1).corr(), cmap='YlGnBu', annot=True, fmt='.2f', vmin=0);\n",
    "_ = df.drop('30', axis=1).corr()"
   ]
  },
  {
   "cell_type": "markdown",
   "id": "b9ba8ff5",
   "metadata": {
    "papermill": {
     "duration": 0.016469,
     "end_time": "2023-09-07T16:28:57.577076",
     "exception": false,
     "start_time": "2023-09-07T16:28:57.560607",
     "status": "completed"
    },
    "tags": []
   },
   "source": [
    "### So we messed up, as per usual.\n",
    "And it is at this point that we realized we were aproaching this problem wrong. There's a couple of things with this data-set that throw wrenches into our planning. \n",
    "* Reverse Coding: Some items are reverse coded, for example; grades are set to move from lowest-to-highest, but attendance to class goes 1:always, 2:sometimes, and 3:never. Meaning a number of correlations will be flipped or wierd until we unflip those values. \n",
    "* Non-normalized Values: Other items are entierly impossible to normalive, like as accomindation type, which ranges from rental, to dormitory, to the ever present other. \n",
    "\n",
    "## What to do? \n",
    "* Firstly, we cut some of the data that is wacky. Not that we can't use it in isolation, but it's hard to quanity how useful your spouses occupation by it being goverment or private sector. \n",
    "* Secondly, in trying to identify some patterns, we can flip the data that is currently reverse coded. I'm not doing that bit, because im lazy and not that attached to the data. Reargless, here are the items that should be reverse coded, by my reckoning.\n",
    "reversed_collums = ['5','6','7','20','22',]\n"
   ]
  },
  {
   "cell_type": "code",
   "execution_count": 11,
   "id": "82139808",
   "metadata": {
    "execution": {
     "iopub.execute_input": "2023-09-07T16:28:57.611946Z",
     "iopub.status.busy": "2023-09-07T16:28:57.611463Z",
     "iopub.status.idle": "2023-09-07T16:28:57.629096Z",
     "shell.execute_reply": "2023-09-07T16:28:57.628107Z"
    },
    "papermill": {
     "duration": 0.038134,
     "end_time": "2023-09-07T16:28:57.631675",
     "exception": false,
     "start_time": "2023-09-07T16:28:57.593541",
     "status": "completed"
    },
    "tags": []
   },
   "outputs": [
    {
     "name": "stdout",
     "output_type": "stream",
     "text": [
      "<class 'pandas.core.frame.DataFrame'>\n",
      "RangeIndex: 145 entries, 0 to 144\n",
      "Data columns (total 17 columns):\n",
      " #   Column      Non-Null Count  Dtype \n",
      "---  ------      --------------  ----- \n",
      " 0   STUDENT ID  145 non-null    object\n",
      " 1   1           145 non-null    int64 \n",
      " 2   2           145 non-null    int64 \n",
      " 3   4           145 non-null    int64 \n",
      " 4   8           145 non-null    int64 \n",
      " 5   11          145 non-null    int64 \n",
      " 6   12          145 non-null    int64 \n",
      " 7   13          145 non-null    int64 \n",
      " 8   17          145 non-null    int64 \n",
      " 9   18          145 non-null    int64 \n",
      " 10  19          145 non-null    int64 \n",
      " 11  25          145 non-null    int64 \n",
      " 12  26          145 non-null    int64 \n",
      " 13  27          145 non-null    int64 \n",
      " 14  29          145 non-null    int64 \n",
      " 15  30          145 non-null    int64 \n",
      " 16  GRADE       145 non-null    int64 \n",
      "dtypes: int64(16), object(1)\n",
      "memory usage: 19.4+ KB\n"
     ]
    }
   ],
   "source": [
    "df_cut = df.copy()\n",
    "#Cutting our data to make it more managable\n",
    "columns_to_remove = [\n",
    "    '3',\n",
    "    '9',\n",
    "    '10',\n",
    "    '14',\n",
    "    '15',\n",
    "    '16',\n",
    "    '21',\n",
    "    '23',\n",
    "    '24',\n",
    "    '28',\n",
    "    '5',\n",
    "    '6',\n",
    "    '7',\n",
    "    '20',\n",
    "    '22',\n",
    "    'COURSE ID',\n",
    "]\n",
    "# Drop the columns to remove\n",
    "df_cut.drop(columns=columns_to_remove, inplace=True)\n",
    "\n",
    "# Display DataFrame info to verify\n",
    "df_cut.info()"
   ]
  },
  {
   "cell_type": "code",
   "execution_count": 12,
   "id": "535d1439",
   "metadata": {
    "execution": {
     "iopub.execute_input": "2023-09-07T16:28:57.669077Z",
     "iopub.status.busy": "2023-09-07T16:28:57.668082Z",
     "iopub.status.idle": "2023-09-07T16:28:58.900127Z",
     "shell.execute_reply": "2023-09-07T16:28:58.899360Z"
    },
    "papermill": {
     "duration": 1.253919,
     "end_time": "2023-09-07T16:28:58.903233",
     "exception": false,
     "start_time": "2023-09-07T16:28:57.649314",
     "status": "completed"
    },
    "tags": []
   },
   "outputs": [
    {
     "name": "stderr",
     "output_type": "stream",
     "text": [
      "/tmp/ipykernel_88990/2026725102.py:4: FutureWarning: The default value of numeric_only in DataFrame.corr is deprecated. In a future version, it will default to False. Select only valid columns or specify the value of numeric_only to silence this warning.\n",
      "  _ = df_cut.drop('30', axis=1).corr()\n"
     ]
    }
   ],
   "source": [
    "# ALEX: remove plotting\n",
    "# plt.figure(figsize=(16, 12))\n",
    "# sns.heatmap(df_cut.drop('30', axis=1).corr(), cmap='YlGnBu', annot=True, fmt='.2f', vmin=0);\n",
    "_ = df_cut.drop('30', axis=1).corr()"
   ]
  },
  {
   "cell_type": "markdown",
   "id": "bf37dd60",
   "metadata": {
    "papermill": {
     "duration": 0.018918,
     "end_time": "2023-09-07T16:28:58.941094",
     "exception": false,
     "start_time": "2023-09-07T16:28:58.922176",
     "status": "completed"
    },
    "tags": []
   },
   "source": [
    "## Renaming Everything"
   ]
  },
  {
   "cell_type": "code",
   "execution_count": 13,
   "id": "177e4399",
   "metadata": {
    "execution": {
     "iopub.execute_input": "2023-09-07T16:28:58.981546Z",
     "iopub.status.busy": "2023-09-07T16:28:58.980725Z",
     "iopub.status.idle": "2023-09-07T16:28:58.987244Z",
     "shell.execute_reply": "2023-09-07T16:28:58.986416Z"
    },
    "papermill": {
     "duration": 0.029111,
     "end_time": "2023-09-07T16:28:58.989329",
     "exception": false,
     "start_time": "2023-09-07T16:28:58.960218",
     "status": "completed"
    },
    "tags": []
   },
   "outputs": [],
   "source": [
    "# Rename columns\n",
    "df_cut.rename(columns={\n",
    "    '1': 'AGE',\n",
    "    '2': 'SEX',\n",
    "    '4': 'SCHOLSHIP',\n",
    "    '7': 'SINGLE',\n",
    "    '8': 'SALARY',\n",
    "    '11': 'MOTHERS_EDU',\n",
    "    '12': 'FATHERS_EDU',\n",
    "    '13': 'SIBLNIGS',\n",
    "    '17': 'STUDY_HOURS',\n",
    "    '18': 'READS_NON_FIC',\n",
    "    '19': 'READS_FIC',\n",
    "    '25': 'NOTETAKING',\n",
    "    '26': 'LISTENS',\n",
    "    '27': 'DISCUSSION',\n",
    "    '29': 'PAST_GPA',\n",
    "    '30': 'GPA',}, inplace=True)"
   ]
  },
  {
   "cell_type": "markdown",
   "id": "2acb0184",
   "metadata": {
    "papermill": {
     "duration": 0.018945,
     "end_time": "2023-09-07T16:28:59.028315",
     "exception": false,
     "start_time": "2023-09-07T16:28:59.009370",
     "status": "completed"
    },
    "tags": []
   },
   "source": [
    "### Expected GPA"
   ]
  },
  {
   "cell_type": "code",
   "execution_count": 14,
   "id": "6f862eb1",
   "metadata": {
    "execution": {
     "iopub.execute_input": "2023-09-07T16:28:59.068918Z",
     "iopub.status.busy": "2023-09-07T16:28:59.067695Z",
     "iopub.status.idle": "2023-09-07T16:29:00.532121Z",
     "shell.execute_reply": "2023-09-07T16:29:00.531359Z"
    },
    "papermill": {
     "duration": 1.488507,
     "end_time": "2023-09-07T16:29:00.535748",
     "exception": false,
     "start_time": "2023-09-07T16:28:59.047241",
     "status": "completed"
    },
    "tags": []
   },
   "outputs": [
    {
     "name": "stderr",
     "output_type": "stream",
     "text": [
      "/tmp/ipykernel_88990/2410225706.py:4: FutureWarning: The default value of numeric_only in DataFrame.corr is deprecated. In a future version, it will default to False. Select only valid columns or specify the value of numeric_only to silence this warning.\n",
      "  _ = df_cut.drop('PAST_GPA', axis=1).corr()\n"
     ]
    }
   ],
   "source": [
    "# ALEX: remove plotting\n",
    "# plt.figure(figsize=(16, 12))\n",
    "# sns.heatmap(df_cut.drop('PAST_GPA', axis=1).corr(), cmap='YlGnBu', annot=True, fmt='.2f', vmin=0);\n",
    "_ = df_cut.drop('PAST_GPA', axis=1).corr()"
   ]
  },
  {
   "cell_type": "markdown",
   "id": "cdb208a5",
   "metadata": {
    "papermill": {
     "duration": 0.02184,
     "end_time": "2023-09-07T16:29:00.579102",
     "exception": false,
     "start_time": "2023-09-07T16:29:00.557262",
     "status": "completed"
    },
    "tags": []
   },
   "source": [
    "### Past GPA"
   ]
  },
  {
   "cell_type": "code",
   "execution_count": 15,
   "id": "3d50d36a",
   "metadata": {
    "execution": {
     "iopub.execute_input": "2023-09-07T16:29:00.625374Z",
     "iopub.status.busy": "2023-09-07T16:29:00.624934Z",
     "iopub.status.idle": "2023-09-07T16:29:01.876295Z",
     "shell.execute_reply": "2023-09-07T16:29:01.875158Z"
    },
    "papermill": {
     "duration": 1.279186,
     "end_time": "2023-09-07T16:29:01.880446",
     "exception": false,
     "start_time": "2023-09-07T16:29:00.601260",
     "status": "completed"
    },
    "tags": []
   },
   "outputs": [
    {
     "name": "stderr",
     "output_type": "stream",
     "text": [
      "/tmp/ipykernel_88990/2410225706.py:4: FutureWarning: The default value of numeric_only in DataFrame.corr is deprecated. In a future version, it will default to False. Select only valid columns or specify the value of numeric_only to silence this warning.\n",
      "  _ = df_cut.drop('PAST_GPA', axis=1).corr()\n"
     ]
    }
   ],
   "source": [
    "# ALEX: remove plotting\n",
    "# plt.figure(figsize=(16, 12))\n",
    "# sns.heatmap(df_cut.drop('PAST_GPA', axis=1).corr(), cmap='YlGnBu', annot=True, fmt='.2f', vmin=0);\n",
    "_ = df_cut.drop('PAST_GPA', axis=1).corr()"
   ]
  },
  {
   "cell_type": "markdown",
   "id": "975722f8",
   "metadata": {
    "papermill": {
     "duration": 0.025204,
     "end_time": "2023-09-07T16:29:01.931177",
     "exception": false,
     "start_time": "2023-09-07T16:29:01.905973",
     "status": "completed"
    },
    "tags": []
   },
   "source": [
    "### Histogram"
   ]
  },
  {
   "cell_type": "code",
   "execution_count": 16,
   "id": "afb4e0d8",
   "metadata": {
    "execution": {
     "iopub.execute_input": "2023-09-07T16:29:01.983562Z",
     "iopub.status.busy": "2023-09-07T16:29:01.982832Z",
     "iopub.status.idle": "2023-09-07T16:29:05.741182Z",
     "shell.execute_reply": "2023-09-07T16:29:05.740076Z"
    },
    "papermill": {
     "duration": 3.787374,
     "end_time": "2023-09-07T16:29:05.743745",
     "exception": false,
     "start_time": "2023-09-07T16:29:01.956371",
     "status": "completed"
    },
    "tags": []
   },
   "outputs": [],
   "source": [
    "# ALEX: remove plotting\n",
    "# df_cut.hist(alpha = 0.7, figsize=(12,10), bins=5);"
   ]
  },
  {
   "cell_type": "markdown",
   "id": "a80f9f7a",
   "metadata": {
    "papermill": {
     "duration": 0.026641,
     "end_time": "2023-09-07T16:29:05.798770",
     "exception": false,
     "start_time": "2023-09-07T16:29:05.772129",
     "status": "completed"
    },
    "tags": []
   },
   "source": [
    "# Conculsions"
   ]
  },
  {
   "cell_type": "markdown",
   "id": "1bbd6169",
   "metadata": {
    "papermill": {
     "duration": 0.026851,
     "end_time": "2023-09-07T16:29:05.853354",
     "exception": false,
     "start_time": "2023-09-07T16:29:05.826503",
     "status": "completed"
    },
    "tags": []
   },
   "source": [
    "### Limitations of the Data\n",
    "* **Self Survey**: While I make a claim to what this data communicatins in the conclusion, I remain rather unconvinced. There have been a great deal of studies on note taking, for instance, that imply it to signifigency increase a students academic potential to do so. While our data does imply a positive correlation with note taking, it is not of signfigence. I believe this due to the self-declaritve nature of a survey like this, were students may have different understanding of how often 'sometimes' is.\n",
    "* **Lack of Diversity**: To return to the above, some questions are coded in such a way that a gray, or middle answer, is hard to place. Note taking is to note, quite a hot button issues to students, and yet only has three options present 'Always', 'sometimes', and 'never' which does not capture the bredth of a topic as potentially deep as this.\n",
    "* **Lack of Demographic Information**: This dataset lacks race, ethnicy, gender, orientation, and disabillities, all factors later datasets of this type I believe should include.\n",
    "* **Integer Labeling**: The labeling of almost every variableis done with a simple esclating integer, which I belive should be replaced with respective names. This would also fix the inconsistent labeling; while most variables names are integers, some are not, as is the case with ID and GPA. \n",
    "* **Reverse Coded**: This ones partially my fault, but there are items here that seem flipped. At times, they mark the presense of something, and at times they mark it's absense."
   ]
  },
  {
   "cell_type": "markdown",
   "id": "433c5fdf",
   "metadata": {
    "papermill": {
     "duration": 0.026256,
     "end_time": "2023-09-07T16:29:05.906743",
     "exception": false,
     "start_time": "2023-09-07T16:29:05.880487",
     "status": "completed"
    },
    "tags": []
   },
   "source": [
    "### Limitations of the Anlysis\n",
    "* **Me**: Hi! My names Mat! I'm also just a self-taught student in all this, and any mistakes or assumptions made with the data are mine alone. If you have any (nice) critique, I'de love to hear it!\n",
    "* **No Predictive Model**: Considering all the low correlatins I found here, I did not see it fit to continue with a predictive model. Should someone else find a stronger correlation to student performance, such a model could be warrented. \n",
    "* **Removal of Many Variables**: Many interesting variabels were cut, of note to me are attendence to class and the type of high-school the student graudated from.\n"
   ]
  },
  {
   "cell_type": "markdown",
   "id": "9bc8293b",
   "metadata": {
    "papermill": {
     "duration": 0.026456,
     "end_time": "2023-09-07T16:29:05.959679",
     "exception": false,
     "start_time": "2023-09-07T16:29:05.933223",
     "status": "completed"
    },
    "tags": []
   },
   "source": [
    "### Low Correlation Accros the Board\n",
    "I find that rather suprising; almost every correlation present is under .3 signifigence, implying only a very slight correlation. There are two outliers here; sex and grades, and reading. However the data seems to imply that there are not strong determing factors to a student's performance that can be determined off of this demographic information. To put this another way, a students accedemic outcomes cannot be easily predicted with discrite data like this, implying that each student has the freedom to determine what methods are best for thier learning."
   ]
  },
  {
   "cell_type": "code",
   "execution_count": null,
   "id": "b87ae62d",
   "metadata": {
    "papermill": {
     "duration": 0.026614,
     "end_time": "2023-09-07T16:29:06.012935",
     "exception": false,
     "start_time": "2023-09-07T16:29:05.986321",
     "status": "completed"
    },
    "tags": []
   },
   "outputs": [],
   "source": []
  }
 ],
 "metadata": {
  "kernelspec": {
   "display_name": "Python 3 (ipykernel)",
   "language": "python",
   "name": "python3"
  },
  "language_info": {
   "codemirror_mode": {
    "name": "ipython",
    "version": 3
   },
   "file_extension": ".py",
   "mimetype": "text/x-python",
   "name": "python",
   "nbconvert_exporter": "python",
   "pygments_lexer": "ipython3",
   "version": "3.10.16"
  },
  "papermill": {
   "default_parameters": {},
   "duration": 27.267724,
   "end_time": "2023-09-07T16:29:07.061430",
   "environment_variables": {},
   "exception": null,
   "input_path": "__notebook__.ipynb",
   "output_path": "__notebook__.ipynb",
   "parameters": {},
   "start_time": "2023-09-07T16:28:39.793706",
   "version": "2.4.0"
  }
 },
 "nbformat": 4,
 "nbformat_minor": 5
}