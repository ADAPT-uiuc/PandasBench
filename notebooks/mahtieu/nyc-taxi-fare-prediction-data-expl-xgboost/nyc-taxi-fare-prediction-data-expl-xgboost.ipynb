{
 "cells": [
  {
   "cell_type": "code",
   "execution_count": null,
   "metadata": {},
   "outputs": [],
   "source": [
    "import os\n",
    "\n",
    "def scale_input_data(scale_factor):\n",
    "  file_bases = ['./input/test']\n",
    "  for file_base in file_bases:\n",
    "    import pandas as pd\n",
    "    import shutil\n",
    "    if scale_factor == 1.0:\n",
    "      shutil.copyfile(file_base + '.csv', file_base + '.scaled.csv')\n",
    "      continue\n",
    "    df_to_scale = pd.read_csv(file_base + '.csv')\n",
    "    new_num_rows = int(scale_factor * len(df_to_scale))\n",
    "    if scale_factor <= 1.0:\n",
    "      df_to_scale = df_to_scale.iloc[:new_num_rows]\n",
    "    else:\n",
    "      while len(df_to_scale) < new_num_rows:\n",
    "        df_to_scale = pd.concat([df_to_scale, df_to_scale[:min(new_num_rows - len(df_to_scale), len(df_to_scale))]])\n",
    "    df_to_scale.to_csv(file_base + '.scaled.csv', index=False)\n",
    "\n",
    "default_nrows = 700000\n",
    "if 'INPUT_SCALE_FACTOR' in os.environ:\n",
    "  scale_factor = float(os.environ['INPUT_SCALE_FACTOR'])\n",
    "  scale_input_data(scale_factor)\n",
    "  nrows = int(scale_factor * default_nrows)\n",
    "  with open('./input/data.txt', 'w') as file:\n",
    "    file.write(str(nrows))\n",
    "elif os.path.exists('./input/data.txt'):\n",
    "  with open('./input/data.txt', 'r') as file:\n",
    "    try:\n",
    "      nrows = int(file.read().strip())\n",
    "    except:\n",
    "      nrows = default_nrows\n",
    "else:\n",
    "  nrows = default_nrows"
   ]
  },
  {
   "cell_type": "code",
   "execution_count": 1,
   "metadata": {
    "_cell_guid": "b1076dfc-b9ad-4769-8c92-a6c4dae69d19",
    "_uuid": "8f2839f25d086af736a60e9eeb907d3b93b6e0e5"
   },
   "outputs": [],
   "source": [
    "# FIRST-AUTHOR: remove IPython commands\n",
    "# %env JOBLIB_TEMP_FOLDER=/tmp\n",
    "\n",
    "import numpy as np # linear algebra\n",
    "# import pandas as pd # data processing, CSV file I/O (e.g. pd.read_csv)\n",
    "exec(os.environ['IREWR_IMPORTS'])\n",
    "\n",
    "# FIRST-AUTHOR: remove ML code\n",
    "# import xgboost as xgb # XGBoost package\n",
    "# #from sklearn.model_selection import GridSearchCV\n",
    "\n",
    "# import matplotlib.pyplot as plt # Matplotlib\n",
    "# %matplotlib inline\n",
    "\n",
    "# from datetime import datetime\n",
    "from dateutil import tz\n",
    "\n",
    "# FIRST-AUTHOR: remove extra dependency\n",
    "# from geopy import distance"
   ]
  },
  {
   "cell_type": "markdown",
   "metadata": {
    "_uuid": "c302586925040ede4b336bc7276bfad7de91c617"
   },
   "source": [
    "# Load the datasets"
   ]
  },
  {
   "cell_type": "code",
   "execution_count": 2,
   "metadata": {
    "_cell_guid": "79c7e3d0-c299-4dcb-8224-4455121ee9b0",
    "_uuid": "d629ff2d2480ee46fbb7e2d37f6b5fab8052498a"
   },
   "outputs": [],
   "source": [
    "# Let's load 700_000 rows and exclude the first column\n",
    "train = pd.read_csv(\"./input/train.csv\", parse_dates=['pickup_datetime'], usecols=range(1,8), nrows=nrows)\n",
    "test = pd.read_csv(\"./input/test.scaled.csv\", parse_dates=['pickup_datetime'])"
   ]
  },
  {
   "cell_type": "markdown",
   "metadata": {
    "_uuid": "6c4275ca5bf37694f122996d3e235428e0e5cc99"
   },
   "source": [
    "# Data exploration"
   ]
  },
  {
   "cell_type": "code",
   "execution_count": 3,
   "metadata": {
    "_uuid": "1c0ab142810ec67d326632f991cf5150fc371399"
   },
   "outputs": [
    {
     "name": "stdout",
     "output_type": "stream",
     "text": [
      "Train shape: (700000, 7)\n"
     ]
    },
    {
     "data": {
      "text/html": [
       "<div>\n",
       "<style scoped>\n",
       "    .dataframe tbody tr th:only-of-type {\n",
       "        vertical-align: middle;\n",
       "    }\n",
       "\n",
       "    .dataframe tbody tr th {\n",
       "        vertical-align: top;\n",
       "    }\n",
       "\n",
       "    .dataframe thead th {\n",
       "        text-align: right;\n",
       "    }\n",
       "</style>\n",
       "<table border=\"1\" class=\"dataframe\">\n",
       "  <thead>\n",
       "    <tr style=\"text-align: right;\">\n",
       "      <th></th>\n",
       "      <th>fare_amount</th>\n",
       "      <th>pickup_longitude</th>\n",
       "      <th>pickup_latitude</th>\n",
       "      <th>dropoff_longitude</th>\n",
       "      <th>dropoff_latitude</th>\n",
       "      <th>passenger_count</th>\n",
       "    </tr>\n",
       "  </thead>\n",
       "  <tbody>\n",
       "    <tr>\n",
       "      <th>count</th>\n",
       "      <td>700000.000000</td>\n",
       "      <td>700000.000000</td>\n",
       "      <td>700000.000000</td>\n",
       "      <td>699992.000000</td>\n",
       "      <td>699992.000000</td>\n",
       "      <td>700000.000000</td>\n",
       "    </tr>\n",
       "    <tr>\n",
       "      <th>mean</th>\n",
       "      <td>11.348549</td>\n",
       "      <td>-72.532739</td>\n",
       "      <td>39.931738</td>\n",
       "      <td>-72.531962</td>\n",
       "      <td>39.915799</td>\n",
       "      <td>1.684223</td>\n",
       "    </tr>\n",
       "    <tr>\n",
       "      <th>std</th>\n",
       "      <td>9.856093</td>\n",
       "      <td>12.616534</td>\n",
       "      <td>8.178329</td>\n",
       "      <td>11.583072</td>\n",
       "      <td>8.730926</td>\n",
       "      <td>1.307666</td>\n",
       "    </tr>\n",
       "    <tr>\n",
       "      <th>min</th>\n",
       "      <td>-44.900000</td>\n",
       "      <td>-3377.680935</td>\n",
       "      <td>-3116.285383</td>\n",
       "      <td>-3383.296608</td>\n",
       "      <td>-3114.338567</td>\n",
       "      <td>0.000000</td>\n",
       "    </tr>\n",
       "    <tr>\n",
       "      <th>25%</th>\n",
       "      <td>6.000000</td>\n",
       "      <td>-73.992040</td>\n",
       "      <td>40.734991</td>\n",
       "      <td>-73.991387</td>\n",
       "      <td>40.734059</td>\n",
       "      <td>1.000000</td>\n",
       "    </tr>\n",
       "    <tr>\n",
       "      <th>50%</th>\n",
       "      <td>8.500000</td>\n",
       "      <td>-73.981793</td>\n",
       "      <td>40.752690</td>\n",
       "      <td>-73.980142</td>\n",
       "      <td>40.753152</td>\n",
       "      <td>1.000000</td>\n",
       "    </tr>\n",
       "    <tr>\n",
       "      <th>75%</th>\n",
       "      <td>12.500000</td>\n",
       "      <td>-73.967112</td>\n",
       "      <td>40.767114</td>\n",
       "      <td>-73.963647</td>\n",
       "      <td>40.768122</td>\n",
       "      <td>2.000000</td>\n",
       "    </tr>\n",
       "    <tr>\n",
       "      <th>max</th>\n",
       "      <td>500.000000</td>\n",
       "      <td>2522.271325</td>\n",
       "      <td>2621.628430</td>\n",
       "      <td>40.851027</td>\n",
       "      <td>405.650000</td>\n",
       "      <td>6.000000</td>\n",
       "    </tr>\n",
       "  </tbody>\n",
       "</table>\n",
       "</div>"
      ],
      "text/plain": [
       "         fare_amount  pickup_longitude  pickup_latitude  dropoff_longitude  \\\n",
       "count  700000.000000     700000.000000    700000.000000      699992.000000   \n",
       "mean       11.348549        -72.532739        39.931738         -72.531962   \n",
       "std         9.856093         12.616534         8.178329          11.583072   \n",
       "min       -44.900000      -3377.680935     -3116.285383       -3383.296608   \n",
       "25%         6.000000        -73.992040        40.734991         -73.991387   \n",
       "50%         8.500000        -73.981793        40.752690         -73.980142   \n",
       "75%        12.500000        -73.967112        40.767114         -73.963647   \n",
       "max       500.000000       2522.271325      2621.628430          40.851027   \n",
       "\n",
       "       dropoff_latitude  passenger_count  \n",
       "count     699992.000000    700000.000000  \n",
       "mean          39.915799         1.684223  \n",
       "std            8.730926         1.307666  \n",
       "min        -3114.338567         0.000000  \n",
       "25%           40.734059         1.000000  \n",
       "50%           40.753152         1.000000  \n",
       "75%           40.768122         2.000000  \n",
       "max          405.650000         6.000000  "
      ]
     },
     "execution_count": 3,
     "metadata": {},
     "output_type": "execute_result"
    }
   ],
   "source": [
    "print(\"Train shape: {}\".format(train.shape))\n",
    "train.describe()"
   ]
  },
  {
   "cell_type": "code",
   "execution_count": 4,
   "metadata": {
    "_uuid": "878d30758613ecee5b83c2e5aee8603f71dcc851"
   },
   "outputs": [],
   "source": [
    "#Drop rows with null values\n",
    "train = train.dropna(how = 'any', axis = 'rows')\n",
    "\n",
    "#Free rides, negative fares and passenger count filtering\n",
    "train = train[train.eval('(fare_amount > 0) & (passenger_count <= 6)')]"
   ]
  },
  {
   "cell_type": "markdown",
   "metadata": {
    "_uuid": "6a2de9839c660d2b01b9e3fc9020471fc778c73a"
   },
   "source": [
    "### Coordinates filtering"
   ]
  },
  {
   "cell_type": "code",
   "execution_count": 5,
   "metadata": {
    "_uuid": "fd6e6abc4bae68928017757afc96d61590b86864"
   },
   "outputs": [
    {
     "data": {
      "text/html": [
       "<div>\n",
       "<style scoped>\n",
       "    .dataframe tbody tr th:only-of-type {\n",
       "        vertical-align: middle;\n",
       "    }\n",
       "\n",
       "    .dataframe tbody tr th {\n",
       "        vertical-align: top;\n",
       "    }\n",
       "\n",
       "    .dataframe thead th {\n",
       "        text-align: right;\n",
       "    }\n",
       "</style>\n",
       "<table border=\"1\" class=\"dataframe\">\n",
       "  <thead>\n",
       "    <tr style=\"text-align: right;\">\n",
       "      <th></th>\n",
       "      <th>fare_amount</th>\n",
       "      <th>pickup_datetime</th>\n",
       "      <th>pickup_longitude</th>\n",
       "      <th>pickup_latitude</th>\n",
       "      <th>dropoff_longitude</th>\n",
       "      <th>dropoff_latitude</th>\n",
       "      <th>passenger_count</th>\n",
       "    </tr>\n",
       "  </thead>\n",
       "  <tbody>\n",
       "    <tr>\n",
       "      <th>0</th>\n",
       "      <td>4.5</td>\n",
       "      <td>2009-06-15 17:26:21+00:00</td>\n",
       "      <td>-73.844311</td>\n",
       "      <td>40.721319</td>\n",
       "      <td>-73.841610</td>\n",
       "      <td>40.712278</td>\n",
       "      <td>1</td>\n",
       "    </tr>\n",
       "    <tr>\n",
       "      <th>1</th>\n",
       "      <td>16.9</td>\n",
       "      <td>2010-01-05 16:52:16+00:00</td>\n",
       "      <td>-74.016048</td>\n",
       "      <td>40.711303</td>\n",
       "      <td>-73.979268</td>\n",
       "      <td>40.782004</td>\n",
       "      <td>1</td>\n",
       "    </tr>\n",
       "    <tr>\n",
       "      <th>2</th>\n",
       "      <td>5.7</td>\n",
       "      <td>2011-08-18 00:35:00+00:00</td>\n",
       "      <td>-73.982738</td>\n",
       "      <td>40.761270</td>\n",
       "      <td>-73.991242</td>\n",
       "      <td>40.750562</td>\n",
       "      <td>2</td>\n",
       "    </tr>\n",
       "    <tr>\n",
       "      <th>3</th>\n",
       "      <td>7.7</td>\n",
       "      <td>2012-04-21 04:30:42+00:00</td>\n",
       "      <td>-73.987130</td>\n",
       "      <td>40.733143</td>\n",
       "      <td>-73.991567</td>\n",
       "      <td>40.758092</td>\n",
       "      <td>1</td>\n",
       "    </tr>\n",
       "    <tr>\n",
       "      <th>4</th>\n",
       "      <td>5.3</td>\n",
       "      <td>2010-03-09 07:51:00+00:00</td>\n",
       "      <td>-73.968095</td>\n",
       "      <td>40.768008</td>\n",
       "      <td>-73.956655</td>\n",
       "      <td>40.783762</td>\n",
       "      <td>1</td>\n",
       "    </tr>\n",
       "    <tr>\n",
       "      <th>...</th>\n",
       "      <td>...</td>\n",
       "      <td>...</td>\n",
       "      <td>...</td>\n",
       "      <td>...</td>\n",
       "      <td>...</td>\n",
       "      <td>...</td>\n",
       "      <td>...</td>\n",
       "    </tr>\n",
       "    <tr>\n",
       "      <th>100007</th>\n",
       "      <td>6.1</td>\n",
       "      <td>2009-12-08 11:41:20+00:00</td>\n",
       "      <td>-73.969406</td>\n",
       "      <td>40.790576</td>\n",
       "      <td>-73.951168</td>\n",
       "      <td>40.785899</td>\n",
       "      <td>1</td>\n",
       "    </tr>\n",
       "    <tr>\n",
       "      <th>100008</th>\n",
       "      <td>11.7</td>\n",
       "      <td>2011-03-27 20:54:00+00:00</td>\n",
       "      <td>-73.790987</td>\n",
       "      <td>40.643098</td>\n",
       "      <td>-73.788300</td>\n",
       "      <td>40.641910</td>\n",
       "      <td>1</td>\n",
       "    </tr>\n",
       "    <tr>\n",
       "      <th>100009</th>\n",
       "      <td>8.1</td>\n",
       "      <td>2009-06-24 19:27:51+00:00</td>\n",
       "      <td>-73.963237</td>\n",
       "      <td>40.756846</td>\n",
       "      <td>-73.986191</td>\n",
       "      <td>40.746680</td>\n",
       "      <td>2</td>\n",
       "    </tr>\n",
       "    <tr>\n",
       "      <th>100010</th>\n",
       "      <td>9.7</td>\n",
       "      <td>2010-10-09 17:17:00+00:00</td>\n",
       "      <td>-73.981470</td>\n",
       "      <td>40.746298</td>\n",
       "      <td>-74.008160</td>\n",
       "      <td>40.738742</td>\n",
       "      <td>2</td>\n",
       "    </tr>\n",
       "    <tr>\n",
       "      <th>100011</th>\n",
       "      <td>7.0</td>\n",
       "      <td>2013-02-07 15:17:00+00:00</td>\n",
       "      <td>-73.972927</td>\n",
       "      <td>40.784200</td>\n",
       "      <td>-73.981998</td>\n",
       "      <td>40.776520</td>\n",
       "      <td>6</td>\n",
       "    </tr>\n",
       "  </tbody>\n",
       "</table>\n",
       "<p>100000 rows \u00d7 7 columns</p>\n",
       "</div>"
      ],
      "text/plain": [
       "        fare_amount           pickup_datetime  pickup_longitude  \\\n",
       "0               4.5 2009-06-15 17:26:21+00:00        -73.844311   \n",
       "1              16.9 2010-01-05 16:52:16+00:00        -74.016048   \n",
       "2               5.7 2011-08-18 00:35:00+00:00        -73.982738   \n",
       "3               7.7 2012-04-21 04:30:42+00:00        -73.987130   \n",
       "4               5.3 2010-03-09 07:51:00+00:00        -73.968095   \n",
       "...             ...                       ...               ...   \n",
       "100007          6.1 2009-12-08 11:41:20+00:00        -73.969406   \n",
       "100008         11.7 2011-03-27 20:54:00+00:00        -73.790987   \n",
       "100009          8.1 2009-06-24 19:27:51+00:00        -73.963237   \n",
       "100010          9.7 2010-10-09 17:17:00+00:00        -73.981470   \n",
       "100011          7.0 2013-02-07 15:17:00+00:00        -73.972927   \n",
       "\n",
       "        pickup_latitude  dropoff_longitude  dropoff_latitude  passenger_count  \n",
       "0             40.721319         -73.841610         40.712278                1  \n",
       "1             40.711303         -73.979268         40.782004                1  \n",
       "2             40.761270         -73.991242         40.750562                2  \n",
       "3             40.733143         -73.991567         40.758092                1  \n",
       "4             40.768008         -73.956655         40.783762                1  \n",
       "...                 ...                ...               ...              ...  \n",
       "100007        40.790576         -73.951168         40.785899                1  \n",
       "100008        40.643098         -73.788300         40.641910                1  \n",
       "100009        40.756846         -73.986191         40.746680                2  \n",
       "100010        40.746298         -74.008160         40.738742                2  \n",
       "100011        40.784200         -73.981998         40.776520                6  \n",
       "\n",
       "[100000 rows x 7 columns]"
      ]
     },
     "execution_count": 5,
     "metadata": {},
     "output_type": "execute_result"
    }
   ],
   "source": [
    "# FIRST-AUTHOR: remove plotting\n",
    "# train.iloc[:100000].plot.scatter('pickup_longitude', 'pickup_latitude')\n",
    "# train.iloc[:100000].plot.scatter('dropoff_longitude', 'dropoff_latitude')\n",
    "train.iloc[:100000]\n",
    "train.iloc[:100000]"
   ]
  },
  {
   "cell_type": "markdown",
   "metadata": {
    "_uuid": "618563aa46e4b932a3e91546d4683b64bd774327"
   },
   "source": [
    "Pickup and dropoff locations should be within the limits of NYC"
   ]
  },
  {
   "cell_type": "code",
   "execution_count": 6,
   "metadata": {
    "_uuid": "03e9760ebca165f40a58c192e22fb57745dd6666"
   },
   "outputs": [],
   "source": [
    "# Coordinates filtering\n",
    "train = train[(train.pickup_longitude >= -77) &\n",
    "              (train.pickup_longitude <= -70) &\n",
    "              (train.dropoff_longitude >= -77) &\n",
    "              (train.dropoff_longitude <= 70) &\n",
    "              (train.pickup_latitude >= 35) &\n",
    "              (train.pickup_latitude <= 45) &\n",
    "              (train.dropoff_latitude >= 35) &\n",
    "              (train.dropoff_latitude <= 45)\n",
    "             ]"
   ]
  },
  {
   "cell_type": "markdown",
   "metadata": {
    "_uuid": "5bf5cad7a5185640f07e2a75b2865c1a06114924"
   },
   "source": [
    "### Dates conversion and engineering"
   ]
  },
  {
   "cell_type": "markdown",
   "metadata": {
    "_uuid": "99269a5addbe60eb75ec7206f0f374efd009f0d7"
   },
   "source": [
    "Fares change according to the date and the hour of the day"
   ]
  },
  {
   "cell_type": "code",
   "execution_count": 7,
   "metadata": {
    "_uuid": "71a667fdd36ab9106c74f1e9f60338ba824d88bf"
   },
   "outputs": [],
   "source": [
    "# train.pickup_datetime = train.pickup_datetime.dt.tz_localize('UTC')\n",
    "train.pickup_datetime = train.pickup_datetime.dt.tz_convert(tz.gettz('America/New_York'))\n",
    "\n",
    "# Fares may change every year\n",
    "train['year'] = train.pickup_datetime.dt.year\n",
    "\n",
    "# Different fares during weekdays and weekends\n",
    "train['dayofweek'] = train.pickup_datetime.dt.dayofweek\n",
    "\n",
    "# Different fares during public holidays\n",
    "train['dayofyear'] = train.pickup_datetime.dt.dayofyear\n",
    "\n",
    "# Different fares in peak periods and off-peak periods\n",
    "train['hourofday'] = train.pickup_datetime.dt.hour\n",
    "\n",
    "train = train.drop('pickup_datetime', axis=1)"
   ]
  },
  {
   "cell_type": "markdown",
   "metadata": {
    "_uuid": "5346a59057114746a3a68ef3c33408d43ed7f572"
   },
   "source": [
    "### Distances engineering"
   ]
  },
  {
   "cell_type": "code",
   "execution_count": 8,
   "metadata": {
    "_uuid": "eba624377169959e7373107517769e7b50908bd0"
   },
   "outputs": [],
   "source": [
    "# FIRST-AUTHOR: make notebook run\n",
    "def distance(*args):\n",
    "    return 100\n",
    "\n",
    "# Computes the distance (in miles) between the pickup and the dropoff locations\n",
    "train['distance'] = train.apply(\n",
    "# FIRST-AUTHOR: make notebook run\n",
    "#     lambda x: distance.distance((x.pickup_latitude, x.pickup_longitude), (x.dropoff_latitude, x.dropoff_longitude)).miles,\n",
    "    lambda x: distance((x.pickup_latitude, x.pickup_longitude), (x.dropoff_latitude, x.dropoff_longitude)),\n",
    "    axis = 1)\n",
    "\n",
    "train = train[train.eval('(distance > 0) & (distance < 150)')]\n",
    "fare_distance_ratio = (train.fare_amount/train.distance)\n",
    "fare_distance_ratio.describe()\n",
    "\n",
    "# FIRST-AUTHOR: remove plotting\n",
    "# (fare_distance_ratio[fare_distance_ratio < 45]).hist()\n",
    "(fare_distance_ratio[fare_distance_ratio < 45])\n",
    "\n",
    "# Drop incoherent fares\n",
    "train = train[fare_distance_ratio < 45]\n",
    "del fare_distance_ratio"
   ]
  },
  {
   "cell_type": "markdown",
   "metadata": {
    "_uuid": "efb7f2ebd115c3cda0dcdbeab466231c191d71d3"
   },
   "source": [
    "Let's try to see how far from the NYC airports the pickups and the dropoffs are"
   ]
  },
  {
   "cell_type": "code",
   "execution_count": 9,
   "metadata": {
    "_uuid": "ec7d276beb615bf2749e15c74984f33a29116925"
   },
   "outputs": [],
   "source": [
    "# Coordinates of the 3 airpots of NYC\n",
    "airports = {'jfk': [40.6441666, -73.7822222],\n",
    "            'laguardia': [40.7747222, -73.8719444],\n",
    "            'newark': [40.6897222, -74.175]}\n",
    "\n",
    "# Computes the distance between the pickup location and the airport\n",
    "# FIRST-AUTHOR: make notebook run\n",
    "# pickup = train.apply(lambda x: distance.distance((x.pickup_latitude, x.pickup_longitude), (airports.get('jfk'))).miles, axis=1)\n",
    "# # Computes the distance between the dropoff location and the airport\n",
    "# dropoff = train.apply(lambda x: distance.distance((x.dropoff_latitude, x.dropoff_longitude), (airports.get('jfk'))).miles, axis=1)\n",
    "pickup = train.apply(lambda x: distance((x.pickup_latitude, x.pickup_longitude), (airports.get('jfk'))), axis=1)\n",
    "dropoff = train.apply(lambda x: distance((x.dropoff_latitude, x.dropoff_longitude), (airports.get('jfk'))), axis=1)\n",
    "# Selects the shortest distance\n",
    "train['to_jfk'] = pd.concat((pickup, dropoff), axis=1).min(axis=1)\n",
    "\n",
    "# FIRST-AUTHOR: make notebook run\n",
    "# pickup = train.apply(lambda x: distance.distance((x.pickup_latitude, x.pickup_longitude), (airports.get('laguardia'))).miles, axis=1)\n",
    "# dropoff = train.apply(lambda x: distance.distance((x.dropoff_latitude, x.dropoff_longitude), (airports.get('laguardia'))).miles, axis=1)\n",
    "pickup = train.apply(lambda x: distance((x.pickup_latitude, x.pickup_longitude), (airports.get('laguardia'))), axis=1)\n",
    "dropoff = train.apply(lambda x: distance((x.dropoff_latitude, x.dropoff_longitude), (airports.get('laguardia'))), axis=1)\n",
    "train['to_laguardia'] = pd.concat((pickup, dropoff), axis=1).min(axis=1)\n",
    "\n",
    "# FIRST-AUTHOR: make notebook run\n",
    "# pickup = train.apply(lambda x: distance.distance((x.pickup_latitude, x.pickup_longitude), (airports.get('newark'))).miles, axis=1)\n",
    "# dropoff = train.apply(lambda x: distance.distance((x.dropoff_latitude, x.dropoff_longitude), (airports.get('newark'))).miles, axis=1)\n",
    "pickup = train.apply(lambda x: distance((x.pickup_latitude, x.pickup_longitude), (airports.get('newark'))), axis=1)\n",
    "dropoff = train.apply(lambda x: distance((x.dropoff_latitude, x.dropoff_longitude), (airports.get('newark'))), axis=1)\n",
    "train['to_newark'] = pd.concat((pickup, dropoff), axis=1).min(axis=1)\n",
    "\n",
    "del pickup, dropoff"
   ]
  },
  {
   "cell_type": "code",
   "execution_count": 10,
   "metadata": {
    "_uuid": "c57504678674bb353e89927cfabaa2f30b1ac642"
   },
   "outputs": [],
   "source": [
    "y = train.fare_amount\n",
    "train = train.drop('fare_amount', axis=1)\n",
    "#train = train.drop('passenger_count', axis=1)"
   ]
  },
  {
   "cell_type": "markdown",
   "metadata": {
    "_uuid": "34b1f7fa47508d57d18292ec27934a767062456a"
   },
   "source": [
    "# Train"
   ]
  },
  {
   "cell_type": "code",
   "execution_count": 11,
   "metadata": {
    "_uuid": "fcc3938f38fe555792e7c336d36be30330b4abf5"
   },
   "outputs": [],
   "source": [
    "# Grid of parameters for XGBoost training\n",
    "#param_grid = {'n_estimators': [3000],\n",
    "#              'max_depth': [7, 8, 9],\n",
    "#              'learning_rate': [0.01, 0.1],\n",
    "#              'subsample': [0.8, 0.9, 1],\n",
    "#              'colsample_bytree': [0.8, 0.9, 1],\n",
    "#              'gamma': [0, 1e-5, 1e-4, 1e-3],\n",
    "#              'reg_alpha': [1e-4]\n",
    "#              }\n",
    "\n",
    "\n",
    "#xgb_grid_search = GridSearchCV(xgb.XGBRegressor(eval_metric='rmse'),\n",
    "#                               param_grid=param_grid,\n",
    "#                               cv=3,\n",
    "#                               n_jobs=-1,\n",
    "#                               verbose=0)\n",
    "\n",
    "#xgb_grid_search.fit(train, y)\n",
    "#print(\"Best estimator: {}\".format(xgb_grid_search.best_params_))\n",
    "#print(\"Best score: {}\".format(xgb_grid_search.best_score_))\n",
    "\n",
    "# The best parameters given by the grid search\n",
    "# FIRST-AUTHOR: remove ML code\n",
    "# xgb_param = {'eval_metric': 'rmse',\n",
    "#             'n_estimators': 3000,\n",
    "#             'max_depth': 9,\n",
    "#             'learning_rate': 0.1,\n",
    "#             'subsample': 0.9,\n",
    "#             'colsample_bytree': 0.8,\n",
    "#             'gamma': 1e-4,\n",
    "#             'reg_alpha': 1e-4,\n",
    "#             'verbose': 0,\n",
    "#             'n_jobs': -1\n",
    "#             }\n",
    "\n",
    "# xgb_model = xgb.XGBRegressor(**xgb_param)\n",
    "# xgb_model.fit(train, y)\n",
    "# xgb.plot_importance(xgb_model)"
   ]
  },
  {
   "cell_type": "markdown",
   "metadata": {
    "_uuid": "0eeae849b1183aa778254c98e06c94266b43e723"
   },
   "source": [
    "# Test data"
   ]
  },
  {
   "cell_type": "code",
   "execution_count": 12,
   "metadata": {
    "_uuid": "a2d5664aaea347df24c0ecd416cf5e340afc8abd"
   },
   "outputs": [],
   "source": [
    "# Processing\n",
    "test_key = test['key']\n",
    "test = test.drop('key', axis=1)\n",
    "#test = test.drop('passenger_count', axis=1)"
   ]
  },
  {
   "cell_type": "code",
   "execution_count": 13,
   "metadata": {
    "_uuid": "62b74e749101d7ccf6de0168764c0795f39e35f4"
   },
   "outputs": [],
   "source": [
    "# FIRST-AUTHOR: make notebook run\n",
    "# test.pickup_datetime = test.pickup_datetime.dt.tz_localize('UTC')\n",
    "test.pickup_datetime = test.pickup_datetime.dt.tz_convert(tz.gettz('America/New_York'))\n",
    "\n",
    "test['year'] = test.pickup_datetime.dt.year\n",
    "test['dayofweek'] = test.pickup_datetime.dt.dayofweek\n",
    "test['dayofyear'] = test.pickup_datetime.dt.dayofyear\n",
    "test['hourofday'] = test.pickup_datetime.dt.hour\n",
    "test = test.drop('pickup_datetime', axis=1)\n",
    "\n",
    "\n",
    "# FIRST-AUTHOR: make notebook run\n",
    "# test['distance'] = test.apply(lambda x: distance.distance((x.pickup_latitude, x.pickup_longitude), (x.dropoff_latitude, x.dropoff_longitude)).miles, axis = 1)\n",
    "\n",
    "# pickup = test.apply(lambda x: distance.distance((x.pickup_latitude, x.pickup_longitude), (airports.get('jfk'))).miles, axis=1)\n",
    "# dropoff = test.apply(lambda x: distance.distance((x.dropoff_latitude, x.dropoff_longitude), (airports.get('jfk'))).miles, axis=1)\n",
    "test['distance'] = test.apply(lambda x: distance((x.pickup_latitude, x.pickup_longitude), (x.dropoff_latitude, x.dropoff_longitude)), axis = 1)\n",
    "pickup = test.apply(lambda x: distance((x.pickup_latitude, x.pickup_longitude), (airports.get('jfk'))), axis=1)\n",
    "dropoff = test.apply(lambda x: distance((x.dropoff_latitude, x.dropoff_longitude), (airports.get('jfk'))), axis=1)\n",
    "test['to_jfk'] = pd.concat((pickup, dropoff), axis = 1).min(axis=1)\n",
    "# FIRST-AUTHOR: make notebook run\n",
    "# pickup = test.apply(lambda x: distance.distance((x.pickup_latitude, x.pickup_longitude), (airports.get('laguardia'))).miles, axis=1)\n",
    "# dropoff = test.apply(lambda x: distance.distance((x.dropoff_latitude, x.dropoff_longitude), (airports.get('laguardia'))).miles, axis=1)\n",
    "pickup = test.apply(lambda x: distance((x.pickup_latitude, x.pickup_longitude), (airports.get('laguardia'))), axis=1)\n",
    "dropoff = test.apply(lambda x: distance((x.dropoff_latitude, x.dropoff_longitude), (airports.get('laguardia'))), axis=1)\n",
    "test['to_laguardia'] = pd.concat((pickup, dropoff), axis = 1).min(axis=1)\n",
    "# FIRST-AUTHOR: make notebook run\n",
    "# pickup = test.apply(lambda x: distance.distance((x.pickup_latitude, x.pickup_longitude), (airports.get('newark'))).miles, axis=1)\n",
    "# dropoff = test.apply(lambda x: distance.distance((x.dropoff_latitude, x.dropoff_longitude), (airports.get('newark'))).miles, axis=1)\n",
    "pickup = test.apply(lambda x: distance((x.pickup_latitude, x.pickup_longitude), (airports.get('newark'))), axis=1)\n",
    "dropoff = test.apply(lambda x: distance((x.dropoff_latitude, x.dropoff_longitude), (airports.get('newark'))), axis=1)\n",
    "test['to_newark'] = pd.concat((pickup, dropoff), axis = 1).min(axis=1)\n",
    "del pickup, dropoff"
   ]
  },
  {
   "cell_type": "code",
   "execution_count": 14,
   "metadata": {
    "_uuid": "06e89e7bb8d3a64b20743a14205abf2904da667f"
   },
   "outputs": [],
   "source": [
    "# FIRST-AUTHOR; remove ML code\n",
    "# xgb_predict = xgb_model.predict(test)"
   ]
  },
  {
   "cell_type": "code",
   "execution_count": 15,
   "metadata": {
    "_uuid": "3c792ed1ff117230de28b4e2956b36b3e29a1068"
   },
   "outputs": [],
   "source": [
    "# FIRST-AUTHOR: remove ML code\n",
    "# xgb_submission = pd.DataFrame({ 'key': test_key,\n",
    "#                                'fare_amount': xgb_predict })\n",
    "xgb_submission = pd.DataFrame({ 'key': test_key,\n",
    "                               'fare_amount': test_key })\n",
    "xgb_submission.to_csv(\"xgb_submission.csv\", index=False)"
   ]
  },
  {
   "cell_type": "code",
   "execution_count": null,
   "metadata": {},
   "outputs": [],
   "source": []
  }
 ],
 "metadata": {
  "kernelspec": {
   "display_name": "Python 3 (ipykernel)",
   "language": "python",
   "name": "python3"
  },
  "language_info": {
   "codemirror_mode": {
    "name": "ipython",
    "version": 3
   },
   "file_extension": ".py",
   "mimetype": "text/x-python",
   "name": "python",
   "nbconvert_exporter": "python",
   "pygments_lexer": "ipython3",
   "version": "3.10.16"
  }
 },
 "nbformat": 4,
 "nbformat_minor": 1
}