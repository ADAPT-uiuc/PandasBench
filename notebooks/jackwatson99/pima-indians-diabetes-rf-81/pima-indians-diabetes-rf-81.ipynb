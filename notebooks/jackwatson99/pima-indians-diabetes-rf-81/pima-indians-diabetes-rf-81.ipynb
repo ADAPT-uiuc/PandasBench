{
 "cells": [
  {
   "cell_type": "code",
   "execution_count": 1,
   "metadata": {},
   "outputs": [],
   "source": [
    "import os\n",
    "\n",
    "def scale_input_data(scale_factor):\n",
    "  file_bases = ['./input/diabetes']\n",
    "  for file_base in file_bases:\n",
    "    import pandas as pd\n",
    "    import shutil\n",
    "    if scale_factor == 1.0:\n",
    "      shutil.copyfile(file_base + '.csv', file_base + '.scaled.csv')\n",
    "      continue\n",
    "    df_to_scale = pd.read_csv(file_base + '.csv')\n",
    "    new_num_rows = int(scale_factor * len(df_to_scale))\n",
    "    if scale_factor <= 1.0:\n",
    "      df_to_scale = df_to_scale.iloc[:new_num_rows]\n",
    "    else:\n",
    "      while len(df_to_scale) < new_num_rows:\n",
    "        df_to_scale = pd.concat([df_to_scale, df_to_scale[:min(new_num_rows - len(df_to_scale), len(df_to_scale))]])\n",
    "    df_to_scale.to_csv(file_base + '.scaled.csv', index=False)\n",
    "\n",
    "if 'INPUT_SCALE_FACTOR' in os.environ:\n",
    "  scale_input_data(float(os.environ['INPUT_SCALE_FACTOR']))"
   ]
  },
  {
   "cell_type": "markdown",
   "metadata": {
    "papermill": {
     "duration": 0.014253,
     "end_time": "2020-09-11T16:10:15.091248",
     "exception": false,
     "start_time": "2020-09-11T16:10:15.076995",
     "status": "completed"
    },
    "tags": []
   },
   "source": [
    "Simple RandomForestClassifier of Pima Indians Diabetes Data"
   ]
  },
  {
   "cell_type": "markdown",
   "metadata": {
    "papermill": {
     "duration": 0.012905,
     "end_time": "2020-09-11T16:10:15.117917",
     "exception": false,
     "start_time": "2020-09-11T16:10:15.105012",
     "status": "completed"
    },
    "tags": []
   },
   "source": [
    "Importing Libraries for getting and cleaning data"
   ]
  },
  {
   "cell_type": "code",
   "execution_count": 2,
   "metadata": {
    "_cell_guid": "79c7e3d0-c299-4dcb-8224-4455121ee9b0",
    "_uuid": "d629ff2d2480ee46fbb7e2d37f6b5fab8052498a",
    "execution": {
     "iopub.execute_input": "2020-09-11T16:10:15.155647Z",
     "iopub.status.busy": "2020-09-11T16:10:15.154860Z",
     "iopub.status.idle": "2020-09-11T16:10:15.158015Z",
     "shell.execute_reply": "2020-09-11T16:10:15.157472Z"
    },
    "papermill": {
     "duration": 0.024206,
     "end_time": "2020-09-11T16:10:15.158134",
     "exception": false,
     "start_time": "2020-09-11T16:10:15.133928",
     "status": "completed"
    },
    "tags": []
   },
   "outputs": [
    {
     "name": "stderr",
     "output_type": "stream",
     "text": [
      "/home/user/Programs/python/dias/.venv/lib64/python3.10/site-packages/dask/dataframe/_pyarrow_compat.py:23: UserWarning: You are using pyarrow version 9.0.0 which is known to be insecure. See https://www.cve.org/CVERecord?id=CVE-2023-47248 for further details. Please upgrade to pyarrow>=14.0.1 or install pyarrow-hotfix to patch your current version.\n",
      "  warnings.warn(\n"
     ]
    }
   ],
   "source": [
    "# import pandas as pd\n",
    "exec(os.environ['IREWR_IMPORTS'])\n",
    "import numpy as np"
   ]
  },
  {
   "cell_type": "markdown",
   "metadata": {
    "papermill": {
     "duration": 0.013201,
     "end_time": "2020-09-11T16:10:15.185176",
     "exception": false,
     "start_time": "2020-09-11T16:10:15.171975",
     "status": "completed"
    },
    "tags": []
   },
   "source": [
    "Retrieving training data"
   ]
  },
  {
   "cell_type": "code",
   "execution_count": 3,
   "metadata": {
    "execution": {
     "iopub.execute_input": "2020-09-11T16:10:15.231376Z",
     "iopub.status.busy": "2020-09-11T16:10:15.230657Z",
     "iopub.status.idle": "2020-09-11T16:10:15.270298Z",
     "shell.execute_reply": "2020-09-11T16:10:15.269597Z"
    },
    "papermill": {
     "duration": 0.071683,
     "end_time": "2020-09-11T16:10:15.270413",
     "exception": false,
     "start_time": "2020-09-11T16:10:15.198730",
     "status": "completed"
    },
    "tags": []
   },
   "outputs": [],
   "source": [
    "Path = './input/diabetes.scaled.csv'\n",
    "train_df = pd.read_csv(Path)"
   ]
  },
  {
   "cell_type": "code",
   "execution_count": 4,
   "metadata": {
    "execution": {
     "iopub.execute_input": "2020-09-11T16:10:15.312798Z",
     "iopub.status.busy": "2020-09-11T16:10:15.312125Z",
     "iopub.status.idle": "2020-09-11T16:10:15.322727Z",
     "shell.execute_reply": "2020-09-11T16:10:15.322069Z"
    },
    "papermill": {
     "duration": 0.038644,
     "end_time": "2020-09-11T16:10:15.322855",
     "exception": false,
     "start_time": "2020-09-11T16:10:15.284211",
     "status": "completed"
    },
    "tags": []
   },
   "outputs": [
    {
     "data": {
      "text/html": [
       "<div>\n",
       "<style scoped>\n",
       "    .dataframe tbody tr th:only-of-type {\n",
       "        vertical-align: middle;\n",
       "    }\n",
       "\n",
       "    .dataframe tbody tr th {\n",
       "        vertical-align: top;\n",
       "    }\n",
       "\n",
       "    .dataframe thead th {\n",
       "        text-align: right;\n",
       "    }\n",
       "</style>\n",
       "<table border=\"1\" class=\"dataframe\">\n",
       "  <thead>\n",
       "    <tr style=\"text-align: right;\">\n",
       "      <th></th>\n",
       "      <th>Pregnancies</th>\n",
       "      <th>Glucose</th>\n",
       "      <th>BloodPressure</th>\n",
       "      <th>SkinThickness</th>\n",
       "      <th>Insulin</th>\n",
       "      <th>BMI</th>\n",
       "      <th>DiabetesPedigreeFunction</th>\n",
       "      <th>Age</th>\n",
       "      <th>Outcome</th>\n",
       "    </tr>\n",
       "  </thead>\n",
       "  <tbody>\n",
       "    <tr>\n",
       "      <th>0</th>\n",
       "      <td>6</td>\n",
       "      <td>148</td>\n",
       "      <td>72</td>\n",
       "      <td>35</td>\n",
       "      <td>0</td>\n",
       "      <td>33.6</td>\n",
       "      <td>0.627</td>\n",
       "      <td>50</td>\n",
       "      <td>1</td>\n",
       "    </tr>\n",
       "    <tr>\n",
       "      <th>1</th>\n",
       "      <td>1</td>\n",
       "      <td>85</td>\n",
       "      <td>66</td>\n",
       "      <td>29</td>\n",
       "      <td>0</td>\n",
       "      <td>26.6</td>\n",
       "      <td>0.351</td>\n",
       "      <td>31</td>\n",
       "      <td>0</td>\n",
       "    </tr>\n",
       "    <tr>\n",
       "      <th>2</th>\n",
       "      <td>8</td>\n",
       "      <td>183</td>\n",
       "      <td>64</td>\n",
       "      <td>0</td>\n",
       "      <td>0</td>\n",
       "      <td>23.3</td>\n",
       "      <td>0.672</td>\n",
       "      <td>32</td>\n",
       "      <td>1</td>\n",
       "    </tr>\n",
       "    <tr>\n",
       "      <th>3</th>\n",
       "      <td>1</td>\n",
       "      <td>89</td>\n",
       "      <td>66</td>\n",
       "      <td>23</td>\n",
       "      <td>94</td>\n",
       "      <td>28.1</td>\n",
       "      <td>0.167</td>\n",
       "      <td>21</td>\n",
       "      <td>0</td>\n",
       "    </tr>\n",
       "    <tr>\n",
       "      <th>4</th>\n",
       "      <td>0</td>\n",
       "      <td>137</td>\n",
       "      <td>40</td>\n",
       "      <td>35</td>\n",
       "      <td>168</td>\n",
       "      <td>43.1</td>\n",
       "      <td>2.288</td>\n",
       "      <td>33</td>\n",
       "      <td>1</td>\n",
       "    </tr>\n",
       "  </tbody>\n",
       "</table>\n",
       "</div>"
      ],
      "text/plain": [
       "   Pregnancies  Glucose  BloodPressure  SkinThickness  Insulin   BMI  \\\n",
       "0            6      148             72             35        0  33.6   \n",
       "1            1       85             66             29        0  26.6   \n",
       "2            8      183             64              0        0  23.3   \n",
       "3            1       89             66             23       94  28.1   \n",
       "4            0      137             40             35      168  43.1   \n",
       "\n",
       "   DiabetesPedigreeFunction  Age  Outcome  \n",
       "0                     0.627   50        1  \n",
       "1                     0.351   31        0  \n",
       "2                     0.672   32        1  \n",
       "3                     0.167   21        0  \n",
       "4                     2.288   33        1  "
      ]
     },
     "execution_count": 4,
     "metadata": {},
     "output_type": "execute_result"
    }
   ],
   "source": [
    "train_df.head()"
   ]
  },
  {
   "cell_type": "code",
   "execution_count": 5,
   "metadata": {
    "execution": {
     "iopub.execute_input": "2020-09-11T16:10:15.373087Z",
     "iopub.status.busy": "2020-09-11T16:10:15.360572Z",
     "iopub.status.idle": "2020-09-11T16:10:15.379210Z",
     "shell.execute_reply": "2020-09-11T16:10:15.378511Z"
    },
    "papermill": {
     "duration": 0.039738,
     "end_time": "2020-09-11T16:10:15.379335",
     "exception": false,
     "start_time": "2020-09-11T16:10:15.339597",
     "status": "completed"
    },
    "tags": []
   },
   "outputs": [
    {
     "name": "stdout",
     "output_type": "stream",
     "text": [
      "<class 'dask.dataframe.core.DataFrame'>\n",
      "Columns: 9 entries, Pregnancies to Outcome\n",
      "dtypes: float64(2), int64(7)"
     ]
    }
   ],
   "source": [
    "train_df.info()"
   ]
  },
  {
   "cell_type": "code",
   "execution_count": 6,
   "metadata": {
    "execution": {
     "iopub.execute_input": "2020-09-11T16:10:15.419070Z",
     "iopub.status.busy": "2020-09-11T16:10:15.418427Z",
     "iopub.status.idle": "2020-09-11T16:10:15.453371Z",
     "shell.execute_reply": "2020-09-11T16:10:15.452633Z"
    },
    "papermill": {
     "duration": 0.059324,
     "end_time": "2020-09-11T16:10:15.453490",
     "exception": false,
     "start_time": "2020-09-11T16:10:15.394166",
     "status": "completed"
    },
    "tags": []
   },
   "outputs": [
    {
     "ename": "NameError",
     "evalue": "name 'evaluate_lazy' is not defined",
     "output_type": "error",
     "traceback": [
      "\u001b[0;31m---------------------------------------------------------------------------\u001b[0m",
      "\u001b[0;31mNameError\u001b[0m                                 Traceback (most recent call last)",
      "Cell \u001b[0;32mIn[6], line 2\u001b[0m\n\u001b[1;32m      1\u001b[0m \u001b[38;5;66;03m# FIRST-AUTHOR: evaluate lazy computation\u001b[39;00m\n\u001b[0;32m----> 2\u001b[0m \u001b[43mevaluate_lazy\u001b[49m(train_df\u001b[38;5;241m.\u001b[39mdescribe())\n",
      "\u001b[0;31mNameError\u001b[0m: name 'evaluate_lazy' is not defined"
     ]
    }
   ],
   "source": [
    "# FIRST-AUTHOR: evaluate lazy computation\n",
    "evaluate_lazy(train_df.describe())"
   ]
  },
  {
   "cell_type": "markdown",
   "metadata": {
    "papermill": {
     "duration": 0.015302,
     "end_time": "2020-09-11T16:10:15.485119",
     "exception": false,
     "start_time": "2020-09-11T16:10:15.469817",
     "status": "completed"
    },
    "tags": []
   },
   "source": [
    "Removing 0 values"
   ]
  },
  {
   "cell_type": "code",
   "execution_count": null,
   "metadata": {
    "execution": {
     "iopub.execute_input": "2020-09-11T16:10:15.528969Z",
     "iopub.status.busy": "2020-09-11T16:10:15.528255Z",
     "iopub.status.idle": "2020-09-11T16:10:15.534457Z",
     "shell.execute_reply": "2020-09-11T16:10:15.534952Z"
    },
    "papermill": {
     "duration": 0.032947,
     "end_time": "2020-09-11T16:10:15.535104",
     "exception": false,
     "start_time": "2020-09-11T16:10:15.502157",
     "status": "completed"
    },
    "tags": []
   },
   "outputs": [],
   "source": [
    "#only iterates through feature columns leaving the label (Outcome)\n",
    "#features = train_df.drop('Outcome', axis=1)\n",
    "#for cols in features:\n",
    "#    train_df[cols] = train_df[cols].replace(0,train_df[cols].mean())\n",
    "train_df['Glucose'] = train_df['Glucose'].replace(0, train_df['Glucose'].mean())\n",
    "train_df['BloodPressure'] = train_df['BloodPressure'].replace(0, train_df['BloodPressure'].mean())\n",
    "train_df['SkinThickness'] = train_df['SkinThickness'].replace(0, train_df['SkinThickness'].mean())\n",
    "train_df['Insulin'] = train_df['Insulin'].replace(0, train_df['Insulin'].mean())\n",
    "train_df['BMI'] = train_df['BMI'].replace(0, train_df['BMI'].mean())"
   ]
  },
  {
   "cell_type": "markdown",
   "metadata": {
    "papermill": {
     "duration": 0.015318,
     "end_time": "2020-09-11T16:10:15.566441",
     "exception": false,
     "start_time": "2020-09-11T16:10:15.551123",
     "status": "completed"
    },
    "tags": []
   },
   "source": [
    "minimum value will not be shown as 0 anymore using describe function"
   ]
  },
  {
   "cell_type": "code",
   "execution_count": null,
   "metadata": {
    "execution": {
     "iopub.execute_input": "2020-09-11T16:10:15.606508Z",
     "iopub.status.busy": "2020-09-11T16:10:15.604426Z",
     "iopub.status.idle": "2020-09-11T16:10:15.638933Z",
     "shell.execute_reply": "2020-09-11T16:10:15.638331Z"
    },
    "papermill": {
     "duration": 0.056528,
     "end_time": "2020-09-11T16:10:15.639062",
     "exception": false,
     "start_time": "2020-09-11T16:10:15.582534",
     "status": "completed"
    },
    "tags": []
   },
   "outputs": [],
   "source": [
    "# FIRST-AUTHOR: evaluate lazy computation\n",
    "evaluate_lazy(train_df.describe())"
   ]
  },
  {
   "cell_type": "markdown",
   "metadata": {
    "papermill": {
     "duration": 0.016875,
     "end_time": "2020-09-11T16:10:15.672778",
     "exception": false,
     "start_time": "2020-09-11T16:10:15.655903",
     "status": "completed"
    },
    "tags": []
   },
   "source": [
    "Plotting data"
   ]
  },
  {
   "cell_type": "code",
   "execution_count": null,
   "metadata": {
    "execution": {
     "iopub.execute_input": "2020-09-11T16:10:15.710887Z",
     "iopub.status.busy": "2020-09-11T16:10:15.710210Z",
     "iopub.status.idle": "2020-09-11T16:10:16.841475Z",
     "shell.execute_reply": "2020-09-11T16:10:16.840871Z"
    },
    "papermill": {
     "duration": 1.152268,
     "end_time": "2020-09-11T16:10:16.841602",
     "exception": false,
     "start_time": "2020-09-11T16:10:15.689334",
     "status": "completed"
    },
    "tags": []
   },
   "outputs": [],
   "source": [
    "# FIRST-AUTHOR: remove plotting\n",
    "# import seaborn as sb\n",
    "# import matplotlib.pyplot as plt"
   ]
  },
  {
   "cell_type": "code",
   "execution_count": null,
   "metadata": {
    "execution": {
     "iopub.execute_input": "2020-09-11T16:10:16.879560Z",
     "iopub.status.busy": "2020-09-11T16:10:16.878850Z",
     "iopub.status.idle": "2020-09-11T16:10:16.882244Z",
     "shell.execute_reply": "2020-09-11T16:10:16.881732Z"
    },
    "papermill": {
     "duration": 0.023989,
     "end_time": "2020-09-11T16:10:16.882358",
     "exception": false,
     "start_time": "2020-09-11T16:10:16.858369",
     "status": "completed"
    },
    "tags": []
   },
   "outputs": [],
   "source": [
    "#Correlation matrix\n",
    "# help from: https://www.kaggle.com/zacharywyman/titanic-top-10-beginner-tutorial/data?select=train.csv"
   ]
  },
  {
   "cell_type": "code",
   "execution_count": null,
   "metadata": {
    "execution": {
     "iopub.execute_input": "2020-09-11T16:10:16.931903Z",
     "iopub.status.busy": "2020-09-11T16:10:16.931260Z",
     "iopub.status.idle": "2020-09-11T16:10:17.542989Z",
     "shell.execute_reply": "2020-09-11T16:10:17.542441Z"
    },
    "papermill": {
     "duration": 0.639643,
     "end_time": "2020-09-11T16:10:17.543110",
     "exception": false,
     "start_time": "2020-09-11T16:10:16.903467",
     "status": "completed"
    },
    "tags": []
   },
   "outputs": [],
   "source": [
    "corr_matrix = train_df.corr()\n",
    "# FIRST-AUTHOR: remove plotting\n",
    "# fig, ax = plt.subplots(figsize = (10,8))\n",
    "# sb.heatmap(corr_matrix, annot = True, fmt='.2g', vmin = -1,\n",
    "#             vmax = 1, center = 0, cmap = 'coolwarm')\n",
    "evaluate_lazy(corr_matrix)"
   ]
  },
  {
   "cell_type": "markdown",
   "metadata": {
    "papermill": {
     "duration": 0.01871,
     "end_time": "2020-09-11T16:10:17.581087",
     "exception": false,
     "start_time": "2020-09-11T16:10:17.562377",
     "status": "completed"
    },
    "tags": []
   },
   "source": [
    "Training the model"
   ]
  },
  {
   "cell_type": "code",
   "execution_count": null,
   "metadata": {
    "execution": {
     "iopub.execute_input": "2020-09-11T16:10:17.625243Z",
     "iopub.status.busy": "2020-09-11T16:10:17.624359Z",
     "iopub.status.idle": "2020-09-11T16:10:17.976416Z",
     "shell.execute_reply": "2020-09-11T16:10:17.975813Z"
    },
    "papermill": {
     "duration": 0.376399,
     "end_time": "2020-09-11T16:10:17.976543",
     "exception": false,
     "start_time": "2020-09-11T16:10:17.600144",
     "status": "completed"
    },
    "tags": []
   },
   "outputs": [],
   "source": [
    "# FIRST-AUTHOR: remove ML code\n",
    "# from sklearn.model_selection import train_test_split\n",
    "# from sklearn.ensemble import RandomForestClassifier\n",
    "# from sklearn.model_selection import GridSearchCV\n",
    "# from sklearn.metrics import accuracy_score"
   ]
  },
  {
   "cell_type": "code",
   "execution_count": null,
   "metadata": {
    "execution": {
     "iopub.execute_input": "2020-09-11T16:10:18.023618Z",
     "iopub.status.busy": "2020-09-11T16:10:18.022833Z",
     "iopub.status.idle": "2020-09-11T16:10:18.026250Z",
     "shell.execute_reply": "2020-09-11T16:10:18.026769Z"
    },
    "papermill": {
     "duration": 0.030871,
     "end_time": "2020-09-11T16:10:18.026920",
     "exception": false,
     "start_time": "2020-09-11T16:10:17.996049",
     "status": "completed"
    },
    "tags": []
   },
   "outputs": [],
   "source": [
    "# FIRST-AUTHOR: remove ML code\n",
    "# x_train, x_test, y_train, y_test = train_test_split(train_df.drop('Outcome', axis=1), train_df['Outcome'], \n",
    "#                                                   test_size = 0.2)\n",
    "evaluate_lazy(train_df.drop('Outcome', axis=1))\n",
    "evaluate_lazy(train_df['Outcome'])"
   ]
  },
  {
   "cell_type": "markdown",
   "metadata": {
    "papermill": {
     "duration": 0.019196,
     "end_time": "2020-09-11T16:10:18.065666",
     "exception": false,
     "start_time": "2020-09-11T16:10:18.046470",
     "status": "completed"
    },
    "tags": []
   },
   "source": [
    "x_train is the training features, 613 instances, 8 columns#\n",
    "y_train is training labels, 613 instances of the one column (diabetes)\n",
    "x and y test are the same but test data"
   ]
  },
  {
   "cell_type": "code",
   "execution_count": null,
   "metadata": {
    "execution": {
     "iopub.execute_input": "2020-09-11T16:10:18.107812Z",
     "iopub.status.busy": "2020-09-11T16:10:18.107170Z",
     "iopub.status.idle": "2020-09-11T16:10:18.113678Z",
     "shell.execute_reply": "2020-09-11T16:10:18.112963Z"
    },
    "papermill": {
     "duration": 0.028829,
     "end_time": "2020-09-11T16:10:18.113797",
     "exception": false,
     "start_time": "2020-09-11T16:10:18.084968",
     "status": "completed"
    },
    "tags": []
   },
   "outputs": [],
   "source": [
    "# FIRST-AUTHOR: remove ML code\n",
    "# print(x_train.shape, y_train.shape)\n",
    "# print(x_test.shape, y_test.shape)"
   ]
  },
  {
   "cell_type": "code",
   "execution_count": null,
   "metadata": {
    "execution": {
     "iopub.execute_input": "2020-09-11T16:10:18.201376Z",
     "iopub.status.busy": "2020-09-11T16:10:18.163730Z",
     "iopub.status.idle": "2020-09-11T16:10:18.866226Z",
     "shell.execute_reply": "2020-09-11T16:10:18.865448Z"
    },
    "papermill": {
     "duration": 0.731616,
     "end_time": "2020-09-11T16:10:18.866362",
     "exception": false,
     "start_time": "2020-09-11T16:10:18.134746",
     "status": "completed"
    },
    "tags": []
   },
   "outputs": [],
   "source": [
    "# FIRST-AUTHOR: remove ML code\n",
    "# model = RandomForestClassifier(n_estimators=250, max_features='auto',\n",
    "#                               max_depth = 6, criterion='entropy')\n",
    "# model.fit(x_train, y_train)\n",
    "# y_pred = model.predict(x_test)\n",
    "# print(\"Accuracy score of Random Forest: \", (accuracy_score(y_pred, y_test))*100)"
   ]
  }
 ],
 "metadata": {
  "kernelspec": {
   "display_name": "Python 3 (ipykernel)",
   "language": "python",
   "name": "python3"
  },
  "language_info": {
   "codemirror_mode": {
    "name": "ipython",
    "version": 3
   },
   "file_extension": ".py",
   "mimetype": "text/x-python",
   "name": "python",
   "nbconvert_exporter": "python",
   "pygments_lexer": "ipython3",
   "version": "3.10.16"
  },
  "papermill": {
   "duration": 8.856677,
   "end_time": "2020-09-11T16:10:18.995777",
   "environment_variables": {},
   "exception": null,
   "input_path": "__notebook__.ipynb",
   "output_path": "__notebook__.ipynb",
   "parameters": {},
   "start_time": "2020-09-11T16:10:10.139100",
   "version": "2.1.0"
  }
 },
 "nbformat": 4,
 "nbformat_minor": 4
}
