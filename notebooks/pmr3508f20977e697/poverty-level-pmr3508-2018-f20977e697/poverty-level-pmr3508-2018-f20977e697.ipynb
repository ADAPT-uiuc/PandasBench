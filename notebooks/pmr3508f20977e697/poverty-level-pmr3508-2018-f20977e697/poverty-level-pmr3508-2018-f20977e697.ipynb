{
 "cells": [
  {
   "cell_type": "code",
   "execution_count": null,
   "metadata": {},
   "outputs": [],
   "source": [
    "import os\n",
    "\n",
    "def scale_input_data(scale_factor):\n",
    "  file_bases = ['./input/train', './input/test']\n",
    "  for file_base in file_bases:\n",
    "    import pandas as pd\n",
    "    import shutil\n",
    "    if scale_factor == 1.0:\n",
    "      shutil.copyfile(file_base + '.csv', file_base + '.scaled.csv')\n",
    "      continue\n",
    "    df_to_scale = pd.read_csv(file_base + '.csv')\n",
    "    new_num_rows = int(scale_factor * len(df_to_scale))\n",
    "    if scale_factor <= 1.0:\n",
    "      df_to_scale = df_to_scale.iloc[:new_num_rows]\n",
    "    else:\n",
    "      while len(df_to_scale) < new_num_rows:\n",
    "        df_to_scale = pd.concat([df_to_scale, df_to_scale[:min(new_num_rows - len(df_to_scale), len(df_to_scale))]])\n",
    "    df_to_scale.to_csv(file_base + '.scaled.csv', index=False)\n",
    "\n",
    "if 'INPUT_SCALE_FACTOR' in os.environ:\n",
    "  scale_input_data(float(os.environ['INPUT_SCALE_FACTOR']))"
   ]
  },
  {
   "cell_type": "code",
   "execution_count": 1,
   "metadata": {
    "_uuid": "8f10037e2dd4e05619d8b1cf4dcea867427e382b"
   },
   "outputs": [],
   "source": [
    "from datetime import date\n",
    "# import pandas as pd\n",
    "exec(os.environ['IREWR_IMPORTS'])\n",
    "import numpy as np\n",
    "# FIRST-AUTHOR: remove plotting\n",
    "# import matplotlib.pyplot as graphic\n",
    "\n",
    "# from math import sqrt, factorial, log, ceil\n",
    "# from sklearn.neighbors import KNeighborsClassifier\n",
    "# from sklearn.model_selection import cross_val_score\n",
    "\n",
    "# from sklearn.model_selection import train_test_split\n",
    "# from sklearn.preprocessing import LabelEncoder\n",
    "\n",
    "# import matplotlib.pyplot as plt\n",
    "# import seaborn as sns\n",
    "# import random \n",
    "# import warnings\n",
    "# import operator\n",
    "# warnings.filterwarnings(\"ignore\")"
   ]
  },
  {
   "cell_type": "code",
   "execution_count": 2,
   "metadata": {
    "_uuid": "b27f311c5e6ea341a7a117c51e97b7f150cac2f9"
   },
   "outputs": [],
   "source": [
    "train = pd.read_csv('./input/train.scaled.csv')\n",
    "test = pd.read_csv('./input/test.scaled.csv')"
   ]
  },
  {
   "cell_type": "code",
   "execution_count": 3,
   "metadata": {
    "_uuid": "dca91ad90e3ece8634c74b6096caf6aca2048208"
   },
   "outputs": [
    {
     "name": "stdout",
     "output_type": "stream",
     "text": [
      "Tamanho train:  (9557, 143)\n",
      "Tamanho test:  (23856, 142)\n"
     ]
    }
   ],
   "source": [
    "target_name = 'Target'\n",
    "print (\"Tamanho train: \", train.shape)\n",
    "print (\"Tamanho test: \", test.shape)"
   ]
  },
  {
   "cell_type": "code",
   "execution_count": 4,
   "metadata": {
    "_uuid": "630e76bd94eb73ea9e67c60574d9443274f89807",
    "scrolled": false
   },
   "outputs": [
    {
     "data": {
      "text/html": [
       "<div>\n",
       "<style scoped>\n",
       "    .dataframe tbody tr th:only-of-type {\n",
       "        vertical-align: middle;\n",
       "    }\n",
       "\n",
       "    .dataframe tbody tr th {\n",
       "        vertical-align: top;\n",
       "    }\n",
       "\n",
       "    .dataframe thead th {\n",
       "        text-align: right;\n",
       "    }\n",
       "</style>\n",
       "<table border=\"1\" class=\"dataframe\">\n",
       "  <thead>\n",
       "    <tr style=\"text-align: right;\">\n",
       "      <th></th>\n",
       "      <th>v2a1</th>\n",
       "      <th>hacdor</th>\n",
       "      <th>rooms</th>\n",
       "      <th>hacapo</th>\n",
       "      <th>v14a</th>\n",
       "      <th>refrig</th>\n",
       "      <th>v18q</th>\n",
       "      <th>v18q1</th>\n",
       "      <th>r4h1</th>\n",
       "      <th>r4h2</th>\n",
       "      <th>...</th>\n",
       "      <th>SQBescolari</th>\n",
       "      <th>SQBage</th>\n",
       "      <th>SQBhogar_total</th>\n",
       "      <th>SQBedjefe</th>\n",
       "      <th>SQBhogar_nin</th>\n",
       "      <th>SQBovercrowding</th>\n",
       "      <th>SQBdependency</th>\n",
       "      <th>SQBmeaned</th>\n",
       "      <th>agesq</th>\n",
       "      <th>Target</th>\n",
       "    </tr>\n",
       "  </thead>\n",
       "  <tbody>\n",
       "    <tr>\n",
       "      <th>count</th>\n",
       "      <td>2.697000e+03</td>\n",
       "      <td>9557.000000</td>\n",
       "      <td>9557.000000</td>\n",
       "      <td>9557.000000</td>\n",
       "      <td>9557.000000</td>\n",
       "      <td>9557.000000</td>\n",
       "      <td>9557.000000</td>\n",
       "      <td>2215.000000</td>\n",
       "      <td>9557.000000</td>\n",
       "      <td>9557.000000</td>\n",
       "      <td>...</td>\n",
       "      <td>9557.000000</td>\n",
       "      <td>9557.000000</td>\n",
       "      <td>9557.000000</td>\n",
       "      <td>9557.000000</td>\n",
       "      <td>9557.000000</td>\n",
       "      <td>9557.000000</td>\n",
       "      <td>9557.000000</td>\n",
       "      <td>9552.000000</td>\n",
       "      <td>9557.000000</td>\n",
       "      <td>9557.000000</td>\n",
       "    </tr>\n",
       "    <tr>\n",
       "      <th>mean</th>\n",
       "      <td>1.652316e+05</td>\n",
       "      <td>0.038087</td>\n",
       "      <td>4.955530</td>\n",
       "      <td>0.023648</td>\n",
       "      <td>0.994768</td>\n",
       "      <td>0.957623</td>\n",
       "      <td>0.231767</td>\n",
       "      <td>1.404063</td>\n",
       "      <td>0.385895</td>\n",
       "      <td>1.559171</td>\n",
       "      <td>...</td>\n",
       "      <td>74.222769</td>\n",
       "      <td>1643.774302</td>\n",
       "      <td>19.132887</td>\n",
       "      <td>53.500262</td>\n",
       "      <td>3.844826</td>\n",
       "      <td>3.249485</td>\n",
       "      <td>3.900409</td>\n",
       "      <td>102.588867</td>\n",
       "      <td>1643.774302</td>\n",
       "      <td>3.302292</td>\n",
       "    </tr>\n",
       "    <tr>\n",
       "      <th>std</th>\n",
       "      <td>1.504571e+05</td>\n",
       "      <td>0.191417</td>\n",
       "      <td>1.468381</td>\n",
       "      <td>0.151957</td>\n",
       "      <td>0.072145</td>\n",
       "      <td>0.201459</td>\n",
       "      <td>0.421983</td>\n",
       "      <td>0.763131</td>\n",
       "      <td>0.680779</td>\n",
       "      <td>1.036574</td>\n",
       "      <td>...</td>\n",
       "      <td>76.777549</td>\n",
       "      <td>1741.197050</td>\n",
       "      <td>18.751395</td>\n",
       "      <td>78.445804</td>\n",
       "      <td>6.946296</td>\n",
       "      <td>4.129547</td>\n",
       "      <td>12.511831</td>\n",
       "      <td>93.516890</td>\n",
       "      <td>1741.197050</td>\n",
       "      <td>1.009565</td>\n",
       "    </tr>\n",
       "    <tr>\n",
       "      <th>min</th>\n",
       "      <td>0.000000e+00</td>\n",
       "      <td>0.000000</td>\n",
       "      <td>1.000000</td>\n",
       "      <td>0.000000</td>\n",
       "      <td>0.000000</td>\n",
       "      <td>0.000000</td>\n",
       "      <td>0.000000</td>\n",
       "      <td>1.000000</td>\n",
       "      <td>0.000000</td>\n",
       "      <td>0.000000</td>\n",
       "      <td>...</td>\n",
       "      <td>0.000000</td>\n",
       "      <td>0.000000</td>\n",
       "      <td>1.000000</td>\n",
       "      <td>0.000000</td>\n",
       "      <td>0.000000</td>\n",
       "      <td>0.040000</td>\n",
       "      <td>0.000000</td>\n",
       "      <td>0.000000</td>\n",
       "      <td>0.000000</td>\n",
       "      <td>1.000000</td>\n",
       "    </tr>\n",
       "    <tr>\n",
       "      <th>25%</th>\n",
       "      <td>8.000000e+04</td>\n",
       "      <td>0.000000</td>\n",
       "      <td>4.000000</td>\n",
       "      <td>0.000000</td>\n",
       "      <td>1.000000</td>\n",
       "      <td>1.000000</td>\n",
       "      <td>0.000000</td>\n",
       "      <td>1.000000</td>\n",
       "      <td>0.000000</td>\n",
       "      <td>1.000000</td>\n",
       "      <td>...</td>\n",
       "      <td>16.000000</td>\n",
       "      <td>289.000000</td>\n",
       "      <td>9.000000</td>\n",
       "      <td>0.000000</td>\n",
       "      <td>0.000000</td>\n",
       "      <td>1.000000</td>\n",
       "      <td>0.111111</td>\n",
       "      <td>36.000000</td>\n",
       "      <td>289.000000</td>\n",
       "      <td>3.000000</td>\n",
       "    </tr>\n",
       "    <tr>\n",
       "      <th>50%</th>\n",
       "      <td>1.300000e+05</td>\n",
       "      <td>0.000000</td>\n",
       "      <td>5.000000</td>\n",
       "      <td>0.000000</td>\n",
       "      <td>1.000000</td>\n",
       "      <td>1.000000</td>\n",
       "      <td>0.000000</td>\n",
       "      <td>1.000000</td>\n",
       "      <td>0.000000</td>\n",
       "      <td>1.000000</td>\n",
       "      <td>...</td>\n",
       "      <td>36.000000</td>\n",
       "      <td>961.000000</td>\n",
       "      <td>16.000000</td>\n",
       "      <td>36.000000</td>\n",
       "      <td>1.000000</td>\n",
       "      <td>2.250000</td>\n",
       "      <td>0.444444</td>\n",
       "      <td>81.000000</td>\n",
       "      <td>961.000000</td>\n",
       "      <td>4.000000</td>\n",
       "    </tr>\n",
       "    <tr>\n",
       "      <th>75%</th>\n",
       "      <td>2.000000e+05</td>\n",
       "      <td>0.000000</td>\n",
       "      <td>6.000000</td>\n",
       "      <td>0.000000</td>\n",
       "      <td>1.000000</td>\n",
       "      <td>1.000000</td>\n",
       "      <td>0.000000</td>\n",
       "      <td>2.000000</td>\n",
       "      <td>1.000000</td>\n",
       "      <td>2.000000</td>\n",
       "      <td>...</td>\n",
       "      <td>121.000000</td>\n",
       "      <td>2601.000000</td>\n",
       "      <td>25.000000</td>\n",
       "      <td>81.000000</td>\n",
       "      <td>4.000000</td>\n",
       "      <td>4.000000</td>\n",
       "      <td>1.777778</td>\n",
       "      <td>134.560010</td>\n",
       "      <td>2601.000000</td>\n",
       "      <td>4.000000</td>\n",
       "    </tr>\n",
       "    <tr>\n",
       "      <th>max</th>\n",
       "      <td>2.353477e+06</td>\n",
       "      <td>1.000000</td>\n",
       "      <td>11.000000</td>\n",
       "      <td>1.000000</td>\n",
       "      <td>1.000000</td>\n",
       "      <td>1.000000</td>\n",
       "      <td>1.000000</td>\n",
       "      <td>6.000000</td>\n",
       "      <td>5.000000</td>\n",
       "      <td>8.000000</td>\n",
       "      <td>...</td>\n",
       "      <td>441.000000</td>\n",
       "      <td>9409.000000</td>\n",
       "      <td>169.000000</td>\n",
       "      <td>441.000000</td>\n",
       "      <td>81.000000</td>\n",
       "      <td>36.000000</td>\n",
       "      <td>64.000000</td>\n",
       "      <td>1369.000000</td>\n",
       "      <td>9409.000000</td>\n",
       "      <td>4.000000</td>\n",
       "    </tr>\n",
       "  </tbody>\n",
       "</table>\n",
       "<p>8 rows \u00d7 138 columns</p>\n",
       "</div>"
      ],
      "text/plain": [
       "               v2a1       hacdor        rooms       hacapo         v14a  \\\n",
       "count  2.697000e+03  9557.000000  9557.000000  9557.000000  9557.000000   \n",
       "mean   1.652316e+05     0.038087     4.955530     0.023648     0.994768   \n",
       "std    1.504571e+05     0.191417     1.468381     0.151957     0.072145   \n",
       "min    0.000000e+00     0.000000     1.000000     0.000000     0.000000   \n",
       "25%    8.000000e+04     0.000000     4.000000     0.000000     1.000000   \n",
       "50%    1.300000e+05     0.000000     5.000000     0.000000     1.000000   \n",
       "75%    2.000000e+05     0.000000     6.000000     0.000000     1.000000   \n",
       "max    2.353477e+06     1.000000    11.000000     1.000000     1.000000   \n",
       "\n",
       "            refrig         v18q        v18q1         r4h1         r4h2  ...  \\\n",
       "count  9557.000000  9557.000000  2215.000000  9557.000000  9557.000000  ...   \n",
       "mean      0.957623     0.231767     1.404063     0.385895     1.559171  ...   \n",
       "std       0.201459     0.421983     0.763131     0.680779     1.036574  ...   \n",
       "min       0.000000     0.000000     1.000000     0.000000     0.000000  ...   \n",
       "25%       1.000000     0.000000     1.000000     0.000000     1.000000  ...   \n",
       "50%       1.000000     0.000000     1.000000     0.000000     1.000000  ...   \n",
       "75%       1.000000     0.000000     2.000000     1.000000     2.000000  ...   \n",
       "max       1.000000     1.000000     6.000000     5.000000     8.000000  ...   \n",
       "\n",
       "       SQBescolari       SQBage  SQBhogar_total    SQBedjefe  SQBhogar_nin  \\\n",
       "count  9557.000000  9557.000000     9557.000000  9557.000000   9557.000000   \n",
       "mean     74.222769  1643.774302       19.132887    53.500262      3.844826   \n",
       "std      76.777549  1741.197050       18.751395    78.445804      6.946296   \n",
       "min       0.000000     0.000000        1.000000     0.000000      0.000000   \n",
       "25%      16.000000   289.000000        9.000000     0.000000      0.000000   \n",
       "50%      36.000000   961.000000       16.000000    36.000000      1.000000   \n",
       "75%     121.000000  2601.000000       25.000000    81.000000      4.000000   \n",
       "max     441.000000  9409.000000      169.000000   441.000000     81.000000   \n",
       "\n",
       "       SQBovercrowding  SQBdependency    SQBmeaned        agesq       Target  \n",
       "count      9557.000000    9557.000000  9552.000000  9557.000000  9557.000000  \n",
       "mean          3.249485       3.900409   102.588867  1643.774302     3.302292  \n",
       "std           4.129547      12.511831    93.516890  1741.197050     1.009565  \n",
       "min           0.040000       0.000000     0.000000     0.000000     1.000000  \n",
       "25%           1.000000       0.111111    36.000000   289.000000     3.000000  \n",
       "50%           2.250000       0.444444    81.000000   961.000000     4.000000  \n",
       "75%           4.000000       1.777778   134.560010  2601.000000     4.000000  \n",
       "max          36.000000      64.000000  1369.000000  9409.000000     4.000000  \n",
       "\n",
       "[8 rows x 138 columns]"
      ]
     },
     "execution_count": 4,
     "metadata": {},
     "output_type": "execute_result"
    }
   ],
   "source": [
    "train.describe()"
   ]
  },
  {
   "cell_type": "markdown",
   "metadata": {
    "_uuid": "35fc920464e284917e2558204fa8e088a6ec1a9b"
   },
   "source": [
    "Uma breve an\u00e1lse gr\u00e1fica das colunas do tipo 'float'."
   ]
  },
  {
   "cell_type": "code",
   "execution_count": 5,
   "metadata": {
    "_uuid": "740d1df32db8c544644e7b24f92efe1a73b6cad7",
    "scrolled": true
   },
   "outputs": [],
   "source": [
    "from collections import OrderedDict\n",
    "\n",
    "# FIRST-AUTHOR: remove plotting\n",
    "# plt.figure(figsize = (15, 12))\n",
    "# plt.style.use('fivethirtyeight')\n",
    "\n",
    "colors = OrderedDict({1: 'red', 2: 'orange', 3: 'yellow', 4: 'green'})\n",
    "poverty_mapping = OrderedDict({1: 'extreme', 2: 'moderate', 3: 'vulnerable', 4: 'non vulnerable'})\n",
    "\n",
    "for i, col in enumerate(train.select_dtypes('float')):\n",
    "# FIRST-AUTHOR: remove plotting\n",
    "#     ax = plt.subplot(4, 2, i + 1)\n",
    "    for poverty_level, color in colors.items():\n",
    "# FIRST-AUTHOR: remove plotting\n",
    "#         sns.kdeplot(train.loc[train['Target'] == poverty_level, col].dropna(), \n",
    "#                     ax = ax, color = color, label = poverty_mapping[poverty_level])\n",
    "        _ = train.loc[train['Target'] == poverty_level, col].dropna()\n",
    "\n",
    "# FIRST-AUTHOR: remove plotting\n",
    "#     plt.title(f'{col.capitalize()} Distribution'); plt.xlabel(f'{col}'); plt.ylabel('Density')\n",
    "    _ = col.capitalize()\n",
    "\n",
    "# FIRST-AUTHOR: remove plotting\n",
    "# plt.subplots_adjust(top = 2)"
   ]
  },
  {
   "cell_type": "code",
   "execution_count": 6,
   "metadata": {
    "_uuid": "086f97a6223cba14c349d6fb0a3a191340521151"
   },
   "outputs": [
    {
     "data": {
      "text/html": [
       "<div>\n",
       "<style scoped>\n",
       "    .dataframe tbody tr th:only-of-type {\n",
       "        vertical-align: middle;\n",
       "    }\n",
       "\n",
       "    .dataframe tbody tr th {\n",
       "        vertical-align: top;\n",
       "    }\n",
       "\n",
       "    .dataframe thead th {\n",
       "        text-align: right;\n",
       "    }\n",
       "</style>\n",
       "<table border=\"1\" class=\"dataframe\">\n",
       "  <thead>\n",
       "    <tr style=\"text-align: right;\">\n",
       "      <th></th>\n",
       "      <th>Id</th>\n",
       "      <th>idhogar</th>\n",
       "      <th>dependency</th>\n",
       "      <th>edjefe</th>\n",
       "      <th>edjefa</th>\n",
       "    </tr>\n",
       "  </thead>\n",
       "  <tbody>\n",
       "    <tr>\n",
       "      <th>0</th>\n",
       "      <td>ID_279628684</td>\n",
       "      <td>21eb7fcc1</td>\n",
       "      <td>no</td>\n",
       "      <td>10</td>\n",
       "      <td>no</td>\n",
       "    </tr>\n",
       "    <tr>\n",
       "      <th>1</th>\n",
       "      <td>ID_f29eb3ddd</td>\n",
       "      <td>0e5d7a658</td>\n",
       "      <td>8</td>\n",
       "      <td>12</td>\n",
       "      <td>no</td>\n",
       "    </tr>\n",
       "    <tr>\n",
       "      <th>2</th>\n",
       "      <td>ID_68de51c94</td>\n",
       "      <td>2c7317ea8</td>\n",
       "      <td>8</td>\n",
       "      <td>no</td>\n",
       "      <td>11</td>\n",
       "    </tr>\n",
       "    <tr>\n",
       "      <th>3</th>\n",
       "      <td>ID_d671db89c</td>\n",
       "      <td>2b58d945f</td>\n",
       "      <td>yes</td>\n",
       "      <td>11</td>\n",
       "      <td>no</td>\n",
       "    </tr>\n",
       "    <tr>\n",
       "      <th>4</th>\n",
       "      <td>ID_d56d6f5f5</td>\n",
       "      <td>2b58d945f</td>\n",
       "      <td>yes</td>\n",
       "      <td>11</td>\n",
       "      <td>no</td>\n",
       "    </tr>\n",
       "  </tbody>\n",
       "</table>\n",
       "</div>"
      ],
      "text/plain": [
       "             Id    idhogar dependency edjefe edjefa\n",
       "0  ID_279628684  21eb7fcc1         no     10     no\n",
       "1  ID_f29eb3ddd  0e5d7a658          8     12     no\n",
       "2  ID_68de51c94  2c7317ea8          8     no     11\n",
       "3  ID_d671db89c  2b58d945f        yes     11     no\n",
       "4  ID_d56d6f5f5  2b58d945f        yes     11     no"
      ]
     },
     "execution_count": 6,
     "metadata": {},
     "output_type": "execute_result"
    }
   ],
   "source": [
    "train.select_dtypes('object').head()"
   ]
  },
  {
   "cell_type": "markdown",
   "metadata": {
    "_uuid": "d233fc6166f1db22101a3ba7ba4ebd04f8cd0d11"
   },
   "source": [
    "Ap\u00f3s uma an\u00e1lise das colunas do tipo 'object', vemos que, com exe\u00e7\u00e3o do 'id' e 'idhogar', podemos transformar as respostas escritas de \"sim\" e \"nao\" em valores booleanos."
   ]
  },
  {
   "cell_type": "code",
   "execution_count": 7,
   "metadata": {
    "_uuid": "096a027d59dee0a23778eda6e9b4b8c0cd17a0fa"
   },
   "outputs": [
    {
     "data": {
      "text/html": [
       "<div>\n",
       "<style scoped>\n",
       "    .dataframe tbody tr th:only-of-type {\n",
       "        vertical-align: middle;\n",
       "    }\n",
       "\n",
       "    .dataframe tbody tr th {\n",
       "        vertical-align: top;\n",
       "    }\n",
       "\n",
       "    .dataframe thead th {\n",
       "        text-align: right;\n",
       "    }\n",
       "</style>\n",
       "<table border=\"1\" class=\"dataframe\">\n",
       "  <thead>\n",
       "    <tr style=\"text-align: right;\">\n",
       "      <th></th>\n",
       "      <th>dependency</th>\n",
       "      <th>edjefa</th>\n",
       "      <th>edjefe</th>\n",
       "    </tr>\n",
       "  </thead>\n",
       "  <tbody>\n",
       "    <tr>\n",
       "      <th>count</th>\n",
       "      <td>9557.000000</td>\n",
       "      <td>9557.000000</td>\n",
       "      <td>9557.000000</td>\n",
       "    </tr>\n",
       "    <tr>\n",
       "      <th>mean</th>\n",
       "      <td>1.149550</td>\n",
       "      <td>2.896830</td>\n",
       "      <td>5.096788</td>\n",
       "    </tr>\n",
       "    <tr>\n",
       "      <th>std</th>\n",
       "      <td>1.605993</td>\n",
       "      <td>4.612056</td>\n",
       "      <td>5.246513</td>\n",
       "    </tr>\n",
       "    <tr>\n",
       "      <th>min</th>\n",
       "      <td>0.000000</td>\n",
       "      <td>0.000000</td>\n",
       "      <td>0.000000</td>\n",
       "    </tr>\n",
       "    <tr>\n",
       "      <th>25%</th>\n",
       "      <td>0.333333</td>\n",
       "      <td>0.000000</td>\n",
       "      <td>0.000000</td>\n",
       "    </tr>\n",
       "    <tr>\n",
       "      <th>50%</th>\n",
       "      <td>0.666667</td>\n",
       "      <td>0.000000</td>\n",
       "      <td>6.000000</td>\n",
       "    </tr>\n",
       "    <tr>\n",
       "      <th>75%</th>\n",
       "      <td>1.333333</td>\n",
       "      <td>6.000000</td>\n",
       "      <td>9.000000</td>\n",
       "    </tr>\n",
       "    <tr>\n",
       "      <th>max</th>\n",
       "      <td>8.000000</td>\n",
       "      <td>21.000000</td>\n",
       "      <td>21.000000</td>\n",
       "    </tr>\n",
       "  </tbody>\n",
       "</table>\n",
       "</div>"
      ],
      "text/plain": [
       "        dependency       edjefa       edjefe\n",
       "count  9557.000000  9557.000000  9557.000000\n",
       "mean      1.149550     2.896830     5.096788\n",
       "std       1.605993     4.612056     5.246513\n",
       "min       0.000000     0.000000     0.000000\n",
       "25%       0.333333     0.000000     0.000000\n",
       "50%       0.666667     0.000000     6.000000\n",
       "75%       1.333333     6.000000     9.000000\n",
       "max       8.000000    21.000000    21.000000"
      ]
     },
     "execution_count": 7,
     "metadata": {},
     "output_type": "execute_result"
    }
   ],
   "source": [
    "mapping = {\"yes\": 1, \"no\": 0}\n",
    "\n",
    "for df in [train, test]:\n",
    "    df['dependency'] = df['dependency'].replace(mapping).astype(np.float64)\n",
    "    df['edjefa'] = df['edjefa'].replace(mapping).astype(np.float64)\n",
    "    df['edjefe'] = df['edjefe'].replace(mapping).astype(np.float64)\n",
    "\n",
    "train[['dependency', 'edjefa', 'edjefe']].describe()"
   ]
  },
  {
   "cell_type": "markdown",
   "metadata": {
    "_uuid": "de29afe2613664bb269056cba93178d6a2c7c4eb"
   },
   "source": [
    "Agora conseguimos represent\u00e1-los de forma gr\u00e1fica."
   ]
  },
  {
   "cell_type": "code",
   "execution_count": 8,
   "metadata": {
    "_uuid": "7a1ef92ad3a23390d225494a137ae632bd83ef6b",
    "scrolled": true
   },
   "outputs": [],
   "source": [
    "# FIRST-AUTHOR: remove plotting\n",
    "# plt.figure(figsize = (8, 8))\n",
    "\n",
    "for i, col in enumerate(['dependency', 'edjefa', 'edjefe']):\n",
    "# FIRST-AUTHOR: remove plotting\n",
    "#     ax = plt.subplot(3, 1, i + 1)\n",
    " \n",
    "    for poverty_level, color in colors.items():\n",
    "        \n",
    "# FIRST-AUTHOR: remove plotting\n",
    "#         sns.kdeplot(train.loc[train['Target'] == poverty_level, col].dropna(), \n",
    "#                     ax = ax, color = color, label = poverty_mapping[poverty_level])\n",
    "        _ = train.loc[train['Target'] == poverty_level, col].dropna()\n",
    "        \n",
    "# FIRST-AUTHOR: remove plotting\n",
    "#     plt.title(f'{col.capitalize()} Distribution'); plt.xlabel(f'{col}'); plt.ylabel('Density')\n",
    "\n",
    "# plt.subplots_adjust(top = 2)"
   ]
  },
  {
   "cell_type": "markdown",
   "metadata": {
    "_uuid": "6694fa54a9e685efd554402d315671c8d7e32cd8"
   },
   "source": [
    "Juntamos o 'train' e 'test' para que os futuros ajustes sejam feitos em ambos (depois podemos separ\u00e1-los novamente)."
   ]
  },
  {
   "cell_type": "code",
   "execution_count": 9,
   "metadata": {
    "_uuid": "99754fbe342d3fb86d28b2bc3a30e681efaa2cca"
   },
   "outputs": [
    {
     "name": "stderr",
     "output_type": "stream",
     "text": [
      "/tmp/ipykernel_39774/3085563622.py:2: FutureWarning: The frame.append method is deprecated and will be removed from pandas in a future version. Use pandas.concat instead.\n",
      "  data = train.append(test, ignore_index = True)\n"
     ]
    }
   ],
   "source": [
    "test['Target'] = np.nan\n",
    "data = train.append(test, ignore_index = True)"
   ]
  },
  {
   "cell_type": "markdown",
   "metadata": {
    "_uuid": "9ddfd7ce40b19e8b1aec084152499cb67bff2395"
   },
   "source": [
    "Aqui ajeitamos alguns dados que haviam divergencias (como, por exemplo, 'Target' diferentes para membros de uma mesma casa)"
   ]
  },
  {
   "cell_type": "code",
   "execution_count": 10,
   "metadata": {
    "_uuid": "4c1a01f4b55b8597d17ede5f53e181025d5bdb03"
   },
   "outputs": [],
   "source": [
    "all_equal = train.groupby('idhogar')['Target'].apply(lambda x: x.nunique() == 1)\n",
    "\n",
    "not_equal = all_equal[all_equal != True]"
   ]
  },
  {
   "cell_type": "code",
   "execution_count": 11,
   "metadata": {
    "_uuid": "aa443071b752b172832d0d91e7f17e7d917b6f0f"
   },
   "outputs": [],
   "source": [
    "households_leader = train.groupby('idhogar')['parentesco1'].sum()\n",
    "households_no_head = train.loc[train['idhogar'].isin(households_leader[households_leader == 0].index), :]\n",
    "households_no_head_equal = households_no_head.groupby('idhogar')['Target'].apply(lambda x: x.nunique() == 1)"
   ]
  },
  {
   "cell_type": "code",
   "execution_count": 12,
   "metadata": {
    "_uuid": "a99f75715e7f61ae4315db6627395b1c3132252d"
   },
   "outputs": [],
   "source": [
    "for household in not_equal.index:\n",
    "# FIRST-AUTHOR: make notebook run with input scaling\n",
    "#     true_target = int(train[(train['idhogar'] == household) & (train['parentesco1'] == 1.0)]['Target'])\n",
    "    true_target = int(train[(train['idhogar'] == household) & (train['parentesco1'] == 1.0)].iloc[0]['Target'])\n",
    "    train.loc[train['idhogar'] == household, 'Target'] = true_target\n",
    "    \n",
    "all_equal = train.groupby('idhogar')['Target'].apply(lambda x: x.nunique() == 1)\n",
    "not_equal = all_equal[all_equal != True]"
   ]
  },
  {
   "cell_type": "code",
   "execution_count": 13,
   "metadata": {
    "_uuid": "619be1a9e8b11c12082a809f5315570e7ae22ae7"
   },
   "outputs": [
    {
     "name": "stdout",
     "output_type": "stream",
     "text": [
      "\n",
      " Missing Values\n"
     ]
    },
    {
     "data": {
      "text/html": [
       "<div>\n",
       "<style scoped>\n",
       "    .dataframe tbody tr th:only-of-type {\n",
       "        vertical-align: middle;\n",
       "    }\n",
       "\n",
       "    .dataframe tbody tr th {\n",
       "        vertical-align: top;\n",
       "    }\n",
       "\n",
       "    .dataframe thead th {\n",
       "        text-align: right;\n",
       "    }\n",
       "</style>\n",
       "<table border=\"1\" class=\"dataframe\">\n",
       "  <thead>\n",
       "    <tr style=\"text-align: right;\">\n",
       "      <th></th>\n",
       "      <th>total</th>\n",
       "      <th>percent</th>\n",
       "    </tr>\n",
       "  </thead>\n",
       "  <tbody>\n",
       "    <tr>\n",
       "      <th>rez_esc</th>\n",
       "      <td>27581</td>\n",
       "      <td>0.825457</td>\n",
       "    </tr>\n",
       "    <tr>\n",
       "      <th>v18q1</th>\n",
       "      <td>25468</td>\n",
       "      <td>0.762218</td>\n",
       "    </tr>\n",
       "    <tr>\n",
       "      <th>v2a1</th>\n",
       "      <td>24263</td>\n",
       "      <td>0.726154</td>\n",
       "    </tr>\n",
       "    <tr>\n",
       "      <th>SQBmeaned</th>\n",
       "      <td>36</td>\n",
       "      <td>0.001077</td>\n",
       "    </tr>\n",
       "    <tr>\n",
       "      <th>meaneduc</th>\n",
       "      <td>36</td>\n",
       "      <td>0.001077</td>\n",
       "    </tr>\n",
       "    <tr>\n",
       "      <th>hogar_adul</th>\n",
       "      <td>0</td>\n",
       "      <td>0.000000</td>\n",
       "    </tr>\n",
       "    <tr>\n",
       "      <th>parentesco10</th>\n",
       "      <td>0</td>\n",
       "      <td>0.000000</td>\n",
       "    </tr>\n",
       "    <tr>\n",
       "      <th>parentesco11</th>\n",
       "      <td>0</td>\n",
       "      <td>0.000000</td>\n",
       "    </tr>\n",
       "    <tr>\n",
       "      <th>parentesco12</th>\n",
       "      <td>0</td>\n",
       "      <td>0.000000</td>\n",
       "    </tr>\n",
       "  </tbody>\n",
       "</table>\n",
       "</div>"
      ],
      "text/plain": [
       "              total   percent\n",
       "rez_esc       27581  0.825457\n",
       "v18q1         25468  0.762218\n",
       "v2a1          24263  0.726154\n",
       "SQBmeaned        36  0.001077\n",
       "meaneduc         36  0.001077\n",
       "hogar_adul        0  0.000000\n",
       "parentesco10      0  0.000000\n",
       "parentesco11      0  0.000000\n",
       "parentesco12      0  0.000000"
      ]
     },
     "execution_count": 13,
     "metadata": {},
     "output_type": "execute_result"
    }
   ],
   "source": [
    "print('\\n Missing Values')\n",
    "missing = pd.DataFrame(data.isnull().sum()).rename(columns = {0: 'total'})\n",
    "missing['percent'] = missing['total'] / len(data)\n",
    "missing.sort_values('percent', ascending = False).head(10).drop('Target')"
   ]
  },
  {
   "cell_type": "code",
   "execution_count": 14,
   "metadata": {
    "_uuid": "0e73467fe092e5154931e2c0e79153e6662f17d6"
   },
   "outputs": [],
   "source": [
    "def plot_value_counts(df, col, heads_only = False):\n",
    "    if heads_only:\n",
    "        df = df.loc[df['parentesco1'] == 1].copy()\n",
    "        \n",
    "# FIRST-AUTHOR: remove plotting\n",
    "#     plt.figure(figsize = (8, 6))\n",
    "#     df[col].value_counts().sort_index().plot.bar(color = 'blue',\n",
    "#                                                  edgecolor = 'k',\n",
    "#                                                  linewidth = 2)\n",
    "#     plt.xlabel(f'{col}'); plt.title(f'{col} Value Counts'); plt.ylabel('Count')\n",
    "#     plt.show();\n",
    "    df[col].value_counts().sort_index()"
   ]
  },
  {
   "cell_type": "markdown",
   "metadata": {
    "_uuid": "db2880624e9755da745a225c7e10272cd73bb902"
   },
   "source": [
    "Mudando 'nan' pelo inteiro 0 na coluna sobre quantidade de tablets."
   ]
  },
  {
   "cell_type": "code",
   "execution_count": 15,
   "metadata": {
    "_uuid": "eb2d2357a77f47a9735a4530ac789710b0428824"
   },
   "outputs": [],
   "source": [
    "data['v18q1'] = data['v18q1'].fillna(0)"
   ]
  },
  {
   "cell_type": "markdown",
   "metadata": {
    "_uuid": "ef14903383b039ba80bedc2da825f2b394dc2875"
   },
   "source": [
    "Melhorando a coluna 'v2a1' (=Monthly rent payment) e seu missing data."
   ]
  },
  {
   "cell_type": "code",
   "execution_count": 16,
   "metadata": {
    "_uuid": "636c7dd37047d3cc0789edcf051bc1aa99462fe6"
   },
   "outputs": [
    {
     "data": {
      "text/plain": [
       "tipovivi1    20844\n",
       "tipovivi2        0\n",
       "tipovivi3        0\n",
       "tipovivi4      597\n",
       "tipovivi5     2822\n",
       "dtype: int64"
      ]
     },
     "execution_count": 16,
     "metadata": {},
     "output_type": "execute_result"
    }
   ],
   "source": [
    "own_variables = [x for x in data if x.startswith('tipo')]\n",
    "# FIRST-AUTHOR: remove plotting\n",
    "# data.loc[data['v2a1'].isnull(), own_variables].sum().plot.bar(figsize = (8, 6),\n",
    "#                                                                         color = 'blue',\n",
    "#                                                               edgecolor = 'k', linewidth = 2);\n",
    "# plt.xticks([0, 1, 2, 3, 4],\n",
    "#            ['Owns and Paid Off', 'Owns and Paying', 'Rented', 'Precarious', 'Other'],\n",
    "#           rotation = 60)\n",
    "# plt.title('Home Ownership Status for Households Missing Rent Payments', size = 18);\n",
    "data.loc[data['v2a1'].isnull(), own_variables].sum()"
   ]
  },
  {
   "cell_type": "code",
   "execution_count": 17,
   "metadata": {
    "_uuid": "02f60edda67530b21c279a3736aa83014f0bb733"
   },
   "outputs": [
    {
     "data": {
      "text/plain": [
       "False    29994\n",
       "True      3419\n",
       "Name: v2a1-missing, dtype: int64"
      ]
     },
     "execution_count": 17,
     "metadata": {},
     "output_type": "execute_result"
    }
   ],
   "source": [
    "data.loc[(data['tipovivi1'] == 1), 'v2a1'] = 0\n",
    "data['v2a1-missing'] = data['v2a1'].isnull()\n",
    "data['v2a1-missing'].value_counts()"
   ]
  },
  {
   "cell_type": "markdown",
   "metadata": {
    "_uuid": "514c68d040e360f90d36a80a4e0f26d2297d88c8"
   },
   "source": [
    "Melhorando a coluna 'rez_esc' (=years behind in school) e seu missing data."
   ]
  },
  {
   "cell_type": "code",
   "execution_count": 18,
   "metadata": {
    "_uuid": "97656225fbf8f00dc564880fd6174b99ce41ec56"
   },
   "outputs": [],
   "source": [
    "data.loc[((data['age'] > 19) | (data['age'] < 7)) & (data['rez_esc'].isnull()), 'rez_esc'] = 0\n",
    "data['rez_esc-missing'] = data['rez_esc'].isnull()\n",
    "data.loc[data['rez_esc'] > 5, 'rez_esc'] = 5"
   ]
  },
  {
   "cell_type": "markdown",
   "metadata": {
    "_uuid": "7b372ae93e539f442dea06415bb1ae94ff469912"
   },
   "source": [
    "Abaixo definimos manualmente as vari\u00e1veis \u200b\u200bem cada categoria."
   ]
  },
  {
   "cell_type": "code",
   "execution_count": 19,
   "metadata": {
    "_uuid": "17405996bbb39b282dbc8cfe0f09350503cd015c"
   },
   "outputs": [],
   "source": [
    "id_ = ['Id', 'idhogar', 'Target']\n",
    "ind_bool = ['v18q', 'dis', 'male', 'female', 'estadocivil1', 'estadocivil2', 'estadocivil3', \n",
    "            'estadocivil4', 'estadocivil5', 'estadocivil6', 'estadocivil7', \n",
    "            'parentesco1', 'parentesco2',  'parentesco3', 'parentesco4', 'parentesco5', \n",
    "            'parentesco6', 'parentesco7', 'parentesco8',  'parentesco9', 'parentesco10', \n",
    "            'parentesco11', 'parentesco12', 'instlevel1', 'instlevel2', 'instlevel3', \n",
    "            'instlevel4', 'instlevel5', 'instlevel6', 'instlevel7', 'instlevel8', \n",
    "            'instlevel9', 'mobilephone', 'rez_esc-missing']\n",
    "ind_ordered = ['rez_esc', 'escolari', 'age']\n",
    "hh_bool = ['hacdor', 'hacapo', 'v14a', 'refrig', 'paredblolad', 'paredzocalo', \n",
    "           'paredpreb','pisocemento', 'pareddes', 'paredmad',\n",
    "           'paredzinc', 'paredfibras', 'paredother', 'pisomoscer', 'pisoother', \n",
    "           'pisonatur', 'pisonotiene', 'pisomadera',\n",
    "           'techozinc', 'techoentrepiso', 'techocane', 'techootro', 'cielorazo', \n",
    "           'abastaguadentro', 'abastaguafuera', 'abastaguano',\n",
    "            'public', 'planpri', 'noelec', 'coopele', 'sanitario1', \n",
    "           'sanitario2', 'sanitario3', 'sanitario5',   'sanitario6',\n",
    "           'energcocinar1', 'energcocinar2', 'energcocinar3', 'energcocinar4', \n",
    "           'elimbasu1', 'elimbasu2', 'elimbasu3', 'elimbasu4', \n",
    "           'elimbasu5', 'elimbasu6', 'epared1', 'epared2', 'epared3',\n",
    "           'etecho1', 'etecho2', 'etecho3', 'eviv1', 'eviv2', 'eviv3', \n",
    "           'tipovivi1', 'tipovivi2', 'tipovivi3', 'tipovivi4', 'tipovivi5', \n",
    "           'computer', 'television', 'lugar1', 'lugar2', 'lugar3',\n",
    "           'lugar4', 'lugar5', 'lugar6', 'area1', 'area2', 'v2a1-missing']\n",
    "hh_ordered = [ 'rooms', 'r4h1', 'r4h2', 'r4h3', 'r4m1','r4m2','r4m3', 'r4t1',  'r4t2', \n",
    "              'r4t3', 'v18q1', 'tamhog','tamviv','hhsize','hogar_nin',\n",
    "              'hogar_adul','hogar_mayor','hogar_total',  'bedrooms', 'qmobilephone']\n",
    "hh_cont = ['v2a1', 'dependency', 'edjefe', 'edjefa', 'meaneduc', 'overcrowding']\n",
    "sqr_ = ['SQBescolari', 'SQBage', 'SQBhogar_total', 'SQBedjefe', \n",
    "        'SQBhogar_nin', 'SQBovercrowding', 'SQBdependency', 'SQBmeaned', 'agesq']"
   ]
  },
  {
   "cell_type": "markdown",
   "metadata": {
    "_uuid": "454654e183da1b893a91211be297058e0e9e424d"
   },
   "source": [
    "Removendo categoria 'sqr_' de nossa DB"
   ]
  },
  {
   "cell_type": "code",
   "execution_count": 20,
   "metadata": {
    "_uuid": "a8232380facf014d102be4197087911fd9276042"
   },
   "outputs": [],
   "source": [
    "data = data.drop(columns = sqr_)"
   ]
  },
  {
   "cell_type": "markdown",
   "metadata": {
    "_uuid": "edbc71422237e9fad33105af50c64a011ad1804c"
   },
   "source": [
    "Retirando vari\u00e1veis redundantes (alta correla\u00e7\u00e3o e praticamente dizem a mesma coisa)"
   ]
  },
  {
   "cell_type": "code",
   "execution_count": 21,
   "metadata": {
    "_uuid": "c9a521bc8e84a37fe88cf51878b6d881527a3f88"
   },
   "outputs": [],
   "source": [
    "heads = data.loc[data['parentesco1'] == 1, :]\n",
    "heads = heads[id_ + hh_bool + hh_cont + hh_ordered]\n",
    "heads = heads.drop(columns = ['tamhog', 'hogar_total', 'r4t3'])"
   ]
  },
  {
   "cell_type": "markdown",
   "metadata": {
    "_uuid": "052a73f54c3df96140609c8b2e0768688af66111"
   },
   "source": [
    "Resumindo algumas colunas boleanas em uma s\u00f3 vari\u00e1vel cardinal"
   ]
  },
  {
   "cell_type": "code",
   "execution_count": 22,
   "metadata": {
    "_uuid": "c2a90e49c589e590d3cef40da8f8d19cf648d81c"
   },
   "outputs": [],
   "source": [
    "elec = []\n",
    "for i, row in heads.iterrows():\n",
    "    if row['noelec'] == 1:\n",
    "        elec.append(0)\n",
    "    elif row['coopele'] == 1:\n",
    "        elec.append(1)\n",
    "    elif row['public'] == 1:\n",
    "        elec.append(2)\n",
    "    elif row['planpri'] == 1:\n",
    "        elec.append(3)\n",
    "    else:\n",
    "        elec.append(np.nan)\n",
    "        \n",
    "heads['elec'] = elec\n",
    "heads['elec-missing'] = heads['elec'].isnull()\n",
    "heads = heads.drop(columns = ['noelec', 'coopele', 'public', 'planpri'])"
   ]
  },
  {
   "cell_type": "code",
   "execution_count": 23,
   "metadata": {
    "_uuid": "2dcefa8799abd71281fe16db05306be5306900ce"
   },
   "outputs": [],
   "source": [
    "water = []\n",
    "for i, row in heads.iterrows():\n",
    "    if row['abastaguano'] == 1:\n",
    "        water.append(0)\n",
    "    elif row['abastaguafuera'] == 1:\n",
    "        water.append(1)\n",
    "    elif row['abastaguadentro'] == 1:\n",
    "        water.append(2)\n",
    "    else:\n",
    "        water.append(np.nan)\n",
    "        \n",
    "heads['water'] = water\n",
    "heads['water-missing'] = heads['water'].isnull()\n",
    "heads = heads.drop(columns = ['abastaguano', 'abastaguafuera', 'abastaguadentro'])"
   ]
  },
  {
   "cell_type": "code",
   "execution_count": 24,
   "metadata": {
    "_uuid": "1519946c95bb60d079439c94e66fc8b7172fd4b6"
   },
   "outputs": [],
   "source": [
    "sanit = []\n",
    "for i, row in heads.iterrows():\n",
    "    if row['sanitario1'] == 1:\n",
    "        sanit.append(0)\n",
    "    elif row['v14a'] == 0:\n",
    "        sanit.append(0)\n",
    "    elif row['sanitario2'] == 1:\n",
    "        sanit.append(3)\n",
    "    elif row['sanitario3'] == 1:\n",
    "        sanit.append(2)\n",
    "    elif row['sanitario5'] == 1:\n",
    "        sanit.append(1)\n",
    "    elif row['sanitario6'] == 1:\n",
    "        sanit.append(2)\n",
    "    else:\n",
    "        sanit.append(np.nan)\n",
    "        \n",
    "heads['sanit'] = sanit\n",
    "heads['sanit-missing'] = heads['sanit'].isnull()\n",
    "heads = heads.drop(columns = ['sanitario1', 'sanitario2', 'sanitario3', 'sanitario5', 'sanitario6', 'v14a'])"
   ]
  },
  {
   "cell_type": "code",
   "execution_count": 25,
   "metadata": {
    "_uuid": "bf45023cc212bf8a72e0f03281d5dadf2df43ef9"
   },
   "outputs": [],
   "source": [
    "cozinhar = []\n",
    "for i, row in heads.iterrows():\n",
    "    if row['energcocinar1'] == 1:\n",
    "        cozinhar.append(0)\n",
    "    elif row['energcocinar2'] == 1:\n",
    "        cozinhar.append(2)\n",
    "    elif row['energcocinar3'] == 1:\n",
    "        cozinhar.append(2)\n",
    "    elif row['energcocinar4'] == 1:\n",
    "        cozinhar.append(1)\n",
    "    else:\n",
    "        cozinhar.append(np.nan)\n",
    "        \n",
    "heads['cozinhar'] = cozinhar\n",
    "heads['cozinhar-missing'] = heads['cozinhar'].isnull()\n",
    "heads = heads.drop(columns = ['energcocinar1', 'energcocinar2', 'energcocinar3', 'energcocinar4'])"
   ]
  },
  {
   "cell_type": "code",
   "execution_count": 26,
   "metadata": {
    "_uuid": "b7281b2bd52c22930165838a034b1eb0e4cf8786"
   },
   "outputs": [],
   "source": [
    "heads = heads.drop(columns = ['area2', 'elimbasu1', 'elimbasu2', 'elimbasu3', 'elimbasu4', 'elimbasu5', 'elimbasu6'])"
   ]
  },
  {
   "cell_type": "code",
   "execution_count": 27,
   "metadata": {
    "_uuid": "7e6949965d449bd9633a0083321e02d179ae1756"
   },
   "outputs": [],
   "source": [
    "heads['walls'] = np.argmax(np.array(heads[['epared1', 'epared2', 'epared3']]), axis = 1)\n",
    "heads = heads.drop(columns = ['epared1', 'epared2', 'epared3'])\n",
    "\n",
    "heads['roof'] = np.argmax(np.array(heads[['etecho1', 'etecho2', 'etecho3']]), axis = 1)\n",
    "heads = heads.drop(columns = ['etecho1', 'etecho2', 'etecho3'])\n",
    "\n",
    "heads['floor'] = np.argmax(np.array(heads[['eviv1', 'eviv2', 'eviv3']]), axis = 1)\n",
    "heads = heads.drop(columns = ['eviv1', 'eviv2', 'eviv3'])\n"
   ]
  },
  {
   "cell_type": "code",
   "execution_count": 28,
   "metadata": {
    "_uuid": "394f274087b4cbd0ff96f6d3182c79a849a7fbcb"
   },
   "outputs": [
    {
     "data": {
      "text/html": [
       "<div>\n",
       "<style scoped>\n",
       "    .dataframe tbody tr th:only-of-type {\n",
       "        vertical-align: middle;\n",
       "    }\n",
       "\n",
       "    .dataframe tbody tr th {\n",
       "        vertical-align: top;\n",
       "    }\n",
       "\n",
       "    .dataframe thead th {\n",
       "        text-align: right;\n",
       "    }\n",
       "</style>\n",
       "<table border=\"1\" class=\"dataframe\">\n",
       "  <thead>\n",
       "    <tr style=\"text-align: right;\">\n",
       "      <th></th>\n",
       "      <th>walls+roof+floor</th>\n",
       "      <th>Target</th>\n",
       "      <th>Normalized Count</th>\n",
       "    </tr>\n",
       "  </thead>\n",
       "  <tbody>\n",
       "    <tr>\n",
       "      <th>0</th>\n",
       "      <td>0</td>\n",
       "      <td>4.0</td>\n",
       "      <td>0.376404</td>\n",
       "    </tr>\n",
       "    <tr>\n",
       "      <th>1</th>\n",
       "      <td>0</td>\n",
       "      <td>2.0</td>\n",
       "      <td>0.320225</td>\n",
       "    </tr>\n",
       "    <tr>\n",
       "      <th>2</th>\n",
       "      <td>0</td>\n",
       "      <td>1.0</td>\n",
       "      <td>0.162921</td>\n",
       "    </tr>\n",
       "    <tr>\n",
       "      <th>3</th>\n",
       "      <td>0</td>\n",
       "      <td>3.0</td>\n",
       "      <td>0.140449</td>\n",
       "    </tr>\n",
       "    <tr>\n",
       "      <th>4</th>\n",
       "      <td>1</td>\n",
       "      <td>4.0</td>\n",
       "      <td>0.323529</td>\n",
       "    </tr>\n",
       "  </tbody>\n",
       "</table>\n",
       "</div>"
      ],
      "text/plain": [
       "   walls+roof+floor  Target  Normalized Count\n",
       "0                 0     4.0          0.376404\n",
       "1                 0     2.0          0.320225\n",
       "2                 0     1.0          0.162921\n",
       "3                 0     3.0          0.140449\n",
       "4                 1     4.0          0.323529"
      ]
     },
     "execution_count": 28,
     "metadata": {},
     "output_type": "execute_result"
    }
   ],
   "source": [
    "heads['walls+roof+floor'] = heads['walls'] + heads['roof'] + heads['floor']\n",
    "counts = pd.DataFrame(heads.groupby(['walls+roof+floor'])['Target'].value_counts(normalize = True)).rename(columns = {'Target': 'Normalized Count'}).reset_index()\n",
    "counts.head()"
   ]
  },
  {
   "cell_type": "code",
   "execution_count": 29,
   "metadata": {
    "_uuid": "5b678a0fb3ab37e5b33d70dc5bc31781f3fe3c01"
   },
   "outputs": [],
   "source": [
    "heads['rooms-per-capita'] = heads['rooms'] / heads['tamviv']\n",
    "heads['rent-per-capita'] = heads['v2a1'] / heads['tamviv']\n",
    "heads['electronics-per-capita'] = (heads['v18q1'] + heads['qmobilephone']) / heads['tamviv']"
   ]
  },
  {
   "cell_type": "code",
   "execution_count": 30,
   "metadata": {
    "_uuid": "5488cd8586694ca3ae579cc31b77c95bb62d9a19"
   },
   "outputs": [],
   "source": [
    "ind = data[id_ + ind_bool + ind_ordered]"
   ]
  },
  {
   "cell_type": "code",
   "execution_count": 31,
   "metadata": {
    "_uuid": "f5894aba62c60eb6f72d9915f30f119153f1d6e0"
   },
   "outputs": [
    {
     "data": {
      "text/html": [
       "<div>\n",
       "<style scoped>\n",
       "    .dataframe tbody tr th:only-of-type {\n",
       "        vertical-align: middle;\n",
       "    }\n",
       "\n",
       "    .dataframe tbody tr th {\n",
       "        vertical-align: top;\n",
       "    }\n",
       "\n",
       "    .dataframe thead th {\n",
       "        text-align: right;\n",
       "    }\n",
       "</style>\n",
       "<table border=\"1\" class=\"dataframe\">\n",
       "  <thead>\n",
       "    <tr style=\"text-align: right;\">\n",
       "      <th></th>\n",
       "      <th>instlevel1</th>\n",
       "      <th>instlevel2</th>\n",
       "      <th>instlevel3</th>\n",
       "      <th>instlevel4</th>\n",
       "      <th>instlevel5</th>\n",
       "      <th>instlevel6</th>\n",
       "      <th>instlevel7</th>\n",
       "      <th>instlevel8</th>\n",
       "      <th>instlevel9</th>\n",
       "    </tr>\n",
       "  </thead>\n",
       "  <tbody>\n",
       "    <tr>\n",
       "      <th>0</th>\n",
       "      <td>0</td>\n",
       "      <td>0</td>\n",
       "      <td>0</td>\n",
       "      <td>1</td>\n",
       "      <td>0</td>\n",
       "      <td>0</td>\n",
       "      <td>0</td>\n",
       "      <td>0</td>\n",
       "      <td>0</td>\n",
       "    </tr>\n",
       "    <tr>\n",
       "      <th>1</th>\n",
       "      <td>0</td>\n",
       "      <td>0</td>\n",
       "      <td>0</td>\n",
       "      <td>0</td>\n",
       "      <td>0</td>\n",
       "      <td>0</td>\n",
       "      <td>0</td>\n",
       "      <td>1</td>\n",
       "      <td>0</td>\n",
       "    </tr>\n",
       "    <tr>\n",
       "      <th>2</th>\n",
       "      <td>0</td>\n",
       "      <td>0</td>\n",
       "      <td>0</td>\n",
       "      <td>0</td>\n",
       "      <td>1</td>\n",
       "      <td>0</td>\n",
       "      <td>0</td>\n",
       "      <td>0</td>\n",
       "      <td>0</td>\n",
       "    </tr>\n",
       "    <tr>\n",
       "      <th>3</th>\n",
       "      <td>0</td>\n",
       "      <td>0</td>\n",
       "      <td>0</td>\n",
       "      <td>1</td>\n",
       "      <td>0</td>\n",
       "      <td>0</td>\n",
       "      <td>0</td>\n",
       "      <td>0</td>\n",
       "      <td>0</td>\n",
       "    </tr>\n",
       "    <tr>\n",
       "      <th>4</th>\n",
       "      <td>0</td>\n",
       "      <td>0</td>\n",
       "      <td>0</td>\n",
       "      <td>0</td>\n",
       "      <td>1</td>\n",
       "      <td>0</td>\n",
       "      <td>0</td>\n",
       "      <td>0</td>\n",
       "      <td>0</td>\n",
       "    </tr>\n",
       "  </tbody>\n",
       "</table>\n",
       "</div>"
      ],
      "text/plain": [
       "   instlevel1  instlevel2  instlevel3  instlevel4  instlevel5  instlevel6  \\\n",
       "0           0           0           0           1           0           0   \n",
       "1           0           0           0           0           0           0   \n",
       "2           0           0           0           0           1           0   \n",
       "3           0           0           0           1           0           0   \n",
       "4           0           0           0           0           1           0   \n",
       "\n",
       "   instlevel7  instlevel8  instlevel9  \n",
       "0           0           0           0  \n",
       "1           0           1           0  \n",
       "2           0           0           0  \n",
       "3           0           0           0  \n",
       "4           0           0           0  "
      ]
     },
     "execution_count": 31,
     "metadata": {},
     "output_type": "execute_result"
    }
   ],
   "source": [
    "ind[[c for c in ind if c.startswith('instl')]].head()"
   ]
  },
  {
   "cell_type": "code",
   "execution_count": 32,
   "metadata": {
    "_uuid": "d7bf96afbfb6f4c39fb65e776154cc1a6d3ca340"
   },
   "outputs": [
    {
     "name": "stderr",
     "output_type": "stream",
     "text": [
      "/tmp/ipykernel_39774/1278368259.py:1: SettingWithCopyWarning: \n",
      "A value is trying to be set on a copy of a slice from a DataFrame.\n",
      "Try using .loc[row_indexer,col_indexer] = value instead\n",
      "\n",
      "See the caveats in the documentation: https://pandas.pydata.org/pandas-docs/stable/user_guide/indexing.html#returning-a-view-versus-a-copy\n",
      "  ind['inst'] = np.argmax(np.array(ind[[c for c in ind if c.startswith('instl')]]), axis = 1)\n"
     ]
    }
   ],
   "source": [
    "ind['inst'] = np.argmax(np.array(ind[[c for c in ind if c.startswith('instl')]]), axis = 1)"
   ]
  },
  {
   "cell_type": "code",
   "execution_count": 33,
   "metadata": {
    "_uuid": "20460d0a35fe9f0eb030db6fe1493111910873de"
   },
   "outputs": [
    {
     "data": {
      "text/plain": [
       "count    33413.000000\n",
       "mean         1.214886\n",
       "std          0.462567\n",
       "min          0.000000\n",
       "25%          1.000000\n",
       "50%          1.000000\n",
       "75%          1.000000\n",
       "max          2.000000\n",
       "Name: tech, dtype: float64"
      ]
     },
     "execution_count": 33,
     "metadata": {},
     "output_type": "execute_result"
    }
   ],
   "source": [
    "ind = ind.drop(columns = [c for c in ind if c.startswith('instlevel')])\n",
    "ind['inst/age'] = ind['inst'] / ind['age']\n",
    "ind['escolari/age'] = ind['escolari'] / ind['age']\n",
    "ind['tech'] = ind['v18q'] + ind['mobilephone']\n",
    "ind['tech'].describe()"
   ]
  },
  {
   "cell_type": "markdown",
   "metadata": {
    "_uuid": "fa7fe01226f13cd3da6cc9fde665ffa0a9b891dc"
   },
   "source": [
    "Aqui combinaremos algumas classifica\u00e7\u00f5es booleanas em uma s\u00f3."
   ]
  },
  {
   "cell_type": "code",
   "execution_count": 34,
   "metadata": {
    "_uuid": "b48a2249508dd1d1295d114814098efb51ed3042"
   },
   "outputs": [],
   "source": [
    "def combine_features(data, cols=[], name=''):\n",
    "    df = data.copy()\n",
    "    for i, col in enumerate(cols):\n",
    "        print(i + 1, col)\n",
    "    df[cols] = df[cols].multiply([i for i in range(1, len(cols) + 1)], axis=1)\n",
    "    df[name] = df[cols].sum(axis=1)\n",
    "    df.drop(cols, axis=1, inplace=True)\n",
    "    return df"
   ]
  },
  {
   "cell_type": "code",
   "execution_count": 35,
   "metadata": {
    "_uuid": "597173522d90302a448414844b235205a2c3dfb5"
   },
   "outputs": [
    {
     "name": "stdout",
     "output_type": "stream",
     "text": [
      "1 lugar1\n",
      "2 lugar2\n",
      "3 lugar3\n",
      "4 lugar4\n",
      "5 lugar5\n",
      "6 lugar6\n",
      "Region count by target.\n"
     ]
    }
   ],
   "source": [
    "heads = combine_features(heads, cols=[col for col in heads.columns if col.startswith('lugar')], name='region')\n",
    "print('Region count by target.');\n",
    "# FIRST-AUTHOR: remove plotting\n",
    "# sns.factorplot(\"region\", col=\"Target\", col_wrap=4, data=heads, kind=\"count\");"
   ]
  },
  {
   "cell_type": "code",
   "execution_count": 36,
   "metadata": {
    "_uuid": "126e6aa683ee6d294cf865c2be2bd1ed53a4fb9f"
   },
   "outputs": [
    {
     "name": "stdout",
     "output_type": "stream",
     "text": [
      "1 tipovivi1\n",
      "2 tipovivi2\n",
      "3 tipovivi3\n",
      "4 tipovivi4\n",
      "5 tipovivi5\n",
      "Home ownership type count by target.\n"
     ]
    }
   ],
   "source": [
    "heads = combine_features(heads, cols=[col for col in heads.columns if col.startswith('tipovivi')], name='home_own')\n",
    "print('Home ownership type count by target.');\n",
    "# FIRST-AUTHOR: remove plotting\n",
    "# sns.factorplot(\"home_own\", col=\"Target\", col_wrap=4, data=heads, kind=\"count\");"
   ]
  },
  {
   "cell_type": "code",
   "execution_count": 37,
   "metadata": {
    "_uuid": "a754076fff888edf2f1c12d1ab0b635c6535a334"
   },
   "outputs": [],
   "source": [
    "heads = heads.drop(columns = ['paredblolad', 'paredzocalo', 'paredpreb', 'pareddes', 'paredmad', 'paredzinc', 'paredfibras',\n",
    "                             'paredother', 'pisomoscer', 'pisocemento', 'pisoother', 'pisonatur', 'pisomadera', 'techozinc',\n",
    "                             'techoentrepiso', 'techocane', 'techootro', 'hogar_nin', 'hogar_mayor', 'hogar_adul',\n",
    "                             'dependency', 'edjefe', 'edjefa', 'meaneduc', 'r4h1', 'r4h2', 'r4h3', 'r4m1',\n",
    "                             'r4m2', 'r4m3', 'r4t1', 'r4t2', 'walls', 'roof', 'floor', 'rooms', 'v2a1', 'qmobilephone',\n",
    "                             'v18q1', 'hacapo', 'cielorazo', 'bedrooms', 'pisonotiene', 'hacdor'])"
   ]
  },
  {
   "cell_type": "code",
   "execution_count": 38,
   "metadata": {
    "_uuid": "3aae2802eb38c49cc7fa36e70ac6d8c084924dc1"
   },
   "outputs": [],
   "source": [
    "ind = ind.drop(columns = ['estadocivil1', 'estadocivil2', 'estadocivil3', 'estadocivil4', 'estadocivil5', 'estadocivil6',\n",
    "                              'estadocivil7', 'parentesco1', 'parentesco2',  'parentesco3', 'parentesco4', 'parentesco5', \n",
    "                              'parentesco6', 'parentesco7', 'parentesco8',  'parentesco9', 'parentesco10', 'parentesco11',\n",
    "                              'parentesco12', 'mobilephone', 'escolari', 'inst', 'age', 'v18q', 'male'])"
   ]
  },
  {
   "cell_type": "code",
   "execution_count": 39,
   "metadata": {
    "_uuid": "650a0a225f5d430fdab37147aec1845beb7f68ab"
   },
   "outputs": [
    {
     "name": "stdout",
     "output_type": "stream",
     "text": [
      "Final features shape:  (10307, 32)\n"
     ]
    }
   ],
   "source": [
    "final = heads.merge(ind, on = id_ , how = 'left')\n",
    "print('Final features shape: ', final.shape)"
   ]
  },
  {
   "cell_type": "code",
   "execution_count": 40,
   "metadata": {
    "_uuid": "a68dc5ea99acaa13b85fad483ace507513fd995a"
   },
   "outputs": [
    {
     "name": "stdout",
     "output_type": "stream",
     "text": [
      "\n",
      " Missing Values\n"
     ]
    },
    {
     "data": {
      "text/html": [
       "<div>\n",
       "<style scoped>\n",
       "    .dataframe tbody tr th:only-of-type {\n",
       "        vertical-align: middle;\n",
       "    }\n",
       "\n",
       "    .dataframe tbody tr th {\n",
       "        vertical-align: top;\n",
       "    }\n",
       "\n",
       "    .dataframe thead th {\n",
       "        text-align: right;\n",
       "    }\n",
       "</style>\n",
       "<table border=\"1\" class=\"dataframe\">\n",
       "  <thead>\n",
       "    <tr style=\"text-align: right;\">\n",
       "      <th></th>\n",
       "      <th>total</th>\n",
       "      <th>percent</th>\n",
       "    </tr>\n",
       "  </thead>\n",
       "  <tbody>\n",
       "    <tr>\n",
       "      <th>rent-per-capita</th>\n",
       "      <td>1065</td>\n",
       "      <td>0.103328</td>\n",
       "    </tr>\n",
       "    <tr>\n",
       "      <th>rez_esc</th>\n",
       "      <td>28</td>\n",
       "      <td>0.002717</td>\n",
       "    </tr>\n",
       "    <tr>\n",
       "      <th>elec</th>\n",
       "      <td>15</td>\n",
       "      <td>0.001455</td>\n",
       "    </tr>\n",
       "    <tr>\n",
       "      <th>Id</th>\n",
       "      <td>0</td>\n",
       "      <td>0.000000</td>\n",
       "    </tr>\n",
       "    <tr>\n",
       "      <th>region</th>\n",
       "      <td>0</td>\n",
       "      <td>0.000000</td>\n",
       "    </tr>\n",
       "    <tr>\n",
       "      <th>walls+roof+floor</th>\n",
       "      <td>0</td>\n",
       "      <td>0.000000</td>\n",
       "    </tr>\n",
       "    <tr>\n",
       "      <th>rooms-per-capita</th>\n",
       "      <td>0</td>\n",
       "      <td>0.000000</td>\n",
       "    </tr>\n",
       "    <tr>\n",
       "      <th>electronics-per-capita</th>\n",
       "      <td>0</td>\n",
       "      <td>0.000000</td>\n",
       "    </tr>\n",
       "    <tr>\n",
       "      <th>dis</th>\n",
       "      <td>0</td>\n",
       "      <td>0.000000</td>\n",
       "    </tr>\n",
       "  </tbody>\n",
       "</table>\n",
       "</div>"
      ],
      "text/plain": [
       "                        total   percent\n",
       "rent-per-capita          1065  0.103328\n",
       "rez_esc                    28  0.002717\n",
       "elec                       15  0.001455\n",
       "Id                          0  0.000000\n",
       "region                      0  0.000000\n",
       "walls+roof+floor            0  0.000000\n",
       "rooms-per-capita            0  0.000000\n",
       "electronics-per-capita      0  0.000000\n",
       "dis                         0  0.000000"
      ]
     },
     "execution_count": 40,
     "metadata": {},
     "output_type": "execute_result"
    }
   ],
   "source": [
    "print('\\n Missing Values')\n",
    "missing = pd.DataFrame(final.isnull().sum()).rename(columns = {0: 'total'})\n",
    "missing['percent'] = missing['total'] / len(final)\n",
    "missing.sort_values('percent', ascending = False).head(10).drop('Target')"
   ]
  },
  {
   "cell_type": "code",
   "execution_count": 41,
   "metadata": {
    "_uuid": "969ad1afaed8ce7c6080d98cccea333614b19324"
   },
   "outputs": [],
   "source": [
    "final = final[final['elec-missing'] != True]\n",
    "final = final[final['rez_esc-missing'] != True]\n",
    "final = final[final['cozinhar-missing'] != True]\n",
    "final = final[final['water-missing'] != True]\n",
    "final = final[final['sanit-missing'] != True]\n",
    "final = final[final['v2a1-missing'] != True]"
   ]
  },
  {
   "cell_type": "code",
   "execution_count": 42,
   "metadata": {
    "_uuid": "1c6fc78ff6a2efeb7834e2e440576908da5aa0ef"
   },
   "outputs": [
    {
     "name": "stdout",
     "output_type": "stream",
     "text": [
      "Final features shape:  (9211, 32)\n"
     ]
    }
   ],
   "source": [
    "print('Final features shape: ', final.shape)"
   ]
  },
  {
   "cell_type": "code",
   "execution_count": 43,
   "metadata": {
    "_uuid": "0a690668a81753e5278d832c743026722d102c72"
   },
   "outputs": [],
   "source": [
    "final = final.drop(columns = ['sanit-missing', 'cozinhar-missing', 'water-missing', 'elec-missing', 'v2a1-missing',\n",
    "                              'rez_esc-missing'])"
   ]
  },
  {
   "cell_type": "code",
   "execution_count": 44,
   "metadata": {
    "_uuid": "98840c31f6f376343d10b3ba696f1ffc595a6a90"
   },
   "outputs": [
    {
     "name": "stdout",
     "output_type": "stream",
     "text": [
      "Final features shape:  (9211, 26)\n"
     ]
    }
   ],
   "source": [
    "print('Final features shape: ', final.shape)"
   ]
  },
  {
   "cell_type": "code",
   "execution_count": 45,
   "metadata": {
    "_uuid": "59169e80082b1caccf26a0c43a50d45831dcfc28"
   },
   "outputs": [],
   "source": [
    "train_labels = np.array(list(final[final['Target'].notnull()]['Target'].astype(np.uint8)))\n",
    "\n",
    "SPLIT = final[final['Target'].notnull()].drop(columns = ['Id', 'idhogar'])\n",
    "FINALtest = final[final['Target'].isnull()]\n",
    "submission_base = FINALtest[['Id', 'idhogar']].copy()\n",
    "FINALtest = FINALtest.drop(columns = ['Id', 'idhogar', 'Target' ])"
   ]
  },
  {
   "cell_type": "code",
   "execution_count": 46,
   "metadata": {
    "_uuid": "e9cb0b7080f265034e80ff5599fab97a78d01ea2"
   },
   "outputs": [],
   "source": [
    "# FIRST-AUTHOR: remove ML code\n",
    "# train, test = train_test_split(SPLIT, test_size=0.2)"
   ]
  },
  {
   "cell_type": "code",
   "execution_count": 47,
   "metadata": {
    "_uuid": "503c626989fa148deedd353a22f2eb514e86e27c"
   },
   "outputs": [],
   "source": [
    "neighbors = [3,5,7,9,11,13,15,17,19,21,23,25,27,29,31,33,35]\n",
    "Xtrain = train\n",
    "Ytrain = train.Target\n",
    "Xtest = test\n",
    "Ytest = test.Target"
   ]
  },
  {
   "cell_type": "code",
   "execution_count": 48,
   "metadata": {
    "_uuid": "248c1166c0c6e3868e395fc52d80943a1a421f96"
   },
   "outputs": [],
   "source": [
    "# FIRST-AUTHOR: remove ML code\n",
    "# print('With CV = 3:')\n",
    "# cv_scores = []\n",
    "\n",
    "# for k in neighbors:\n",
    "#     knn = KNeighborsClassifier(n_neighbors=k)\n",
    "#     scores = cross_val_score(knn, Xtrain, Ytrain, cv=3, scoring='accuracy')\n",
    "#     cv_scores.append(scores.mean())\n",
    "    \n",
    "    \n",
    "# MSE = [1 - x for x in cv_scores]\n",
    "# optimal_k = neighbors[MSE.index(min(MSE))]\n",
    "# print(\"The optimal number of neighbors is %d\" % optimal_k)"
   ]
  },
  {
   "cell_type": "code",
   "execution_count": 49,
   "metadata": {
    "_uuid": "f61250eb67e1ad79efded56bc91b5c574b71b401"
   },
   "outputs": [],
   "source": [
    "# FIRST-AUTHOR: remove plotting\n",
    "# plt.plot(neighbors, MSE)\n",
    "# plt.xlabel('Number of Neighbors K')\n",
    "# plt.ylabel('Misclassification Error')\n",
    "# plt.show()"
   ]
  },
  {
   "cell_type": "code",
   "execution_count": 50,
   "metadata": {
    "_uuid": "aecee81bd1bf0f9ddb9f9bf61fad230102b220e5"
   },
   "outputs": [],
   "source": [
    "# FIRST-AUTHOR: remove ML code\n",
    "# print('With CV = 5:')\n",
    "# cv_scores = []\n",
    "\n",
    "# for k in neighbors:\n",
    "#     knn = KNeighborsClassifier(n_neighbors=k)\n",
    "#     scores = cross_val_score(knn, Xtrain, Ytrain, cv=5, scoring='accuracy')\n",
    "#     cv_scores.append(scores.mean())\n",
    "    \n",
    "    \n",
    "# MSE = [1 - x for x in cv_scores]\n",
    "# optimal_k = neighbors[MSE.index(min(MSE))]\n",
    "# print(\"The optimal number of neighbors is %d\" % optimal_k)"
   ]
  },
  {
   "cell_type": "code",
   "execution_count": 51,
   "metadata": {
    "_uuid": "4b69e7c0d829ff337bd64461d83ce46b72558393"
   },
   "outputs": [],
   "source": [
    "# FIRST-AUTHOR: remove plotting\n",
    "# plt.plot(neighbors, MSE)\n",
    "# plt.xlabel('Number of Neighbors K')\n",
    "# plt.ylabel('Misclassification Error')\n",
    "# plt.show()"
   ]
  },
  {
   "cell_type": "code",
   "execution_count": 52,
   "metadata": {
    "_uuid": "28598132ab1f50ec3cbba3aad25b29cb2616b9c8"
   },
   "outputs": [],
   "source": [
    "# FIRST-AUTHOR: remove ML code\n",
    "# print('With CV = 10:')\n",
    "# cv_scores = []\n",
    "\n",
    "# for k in neighbors:\n",
    "#     knn = KNeighborsClassifier(n_neighbors=k)\n",
    "#     scores = cross_val_score(knn, Xtrain, Ytrain, cv=10, scoring='accuracy')\n",
    "#     cv_scores.append(scores.mean())\n",
    "    \n",
    "    \n",
    "# MSE = [1 - x for x in cv_scores]\n",
    "# optimal_k = neighbors[MSE.index(min(MSE))]\n",
    "# print(\"The optimal number of neighbors is %d\" % optimal_k)"
   ]
  },
  {
   "cell_type": "code",
   "execution_count": 53,
   "metadata": {
    "_uuid": "1b6206f301959e0bb7d09944b6e6d1efaf75187a"
   },
   "outputs": [],
   "source": [
    "# FIRST-AUTHOR: remove plotting\n",
    "# plt.plot(neighbors, MSE)\n",
    "# plt.xlabel('Number of Neighbors K')\n",
    "# plt.ylabel('Misclassification Error')\n",
    "# plt.show()"
   ]
  },
  {
   "cell_type": "code",
   "execution_count": 54,
   "metadata": {
    "_uuid": "ed68f0b0c8cf6dea245a9c8d5f33d5f52be33066"
   },
   "outputs": [],
   "source": [
    "# FIRST-AUTHOR: remove ML code\n",
    "# print('With CV = 15:')\n",
    "# cv_scores = []\n",
    "\n",
    "# for k in neighbors:\n",
    "#     knn = KNeighborsClassifier(n_neighbors=k)\n",
    "#     scores = cross_val_score(knn, Xtrain, Ytrain, cv=15, scoring='accuracy')\n",
    "#     cv_scores.append(scores.mean())\n",
    "    \n",
    "    \n",
    "# MSE = [1 - x for x in cv_scores]\n",
    "# optimal_k = neighbors[MSE.index(min(MSE))]\n",
    "# print(\"The optimal number of neighbors is %d\" % optimal_k)"
   ]
  },
  {
   "cell_type": "code",
   "execution_count": 55,
   "metadata": {
    "_uuid": "df49a10c855bb8c570cc75d4f0c2a065e390d59d"
   },
   "outputs": [],
   "source": [
    "# FIRST-AUTHOR: remove plotting\n",
    "# plt.plot(neighbors, MSE)\n",
    "# plt.xlabel('Number of Neighbors K')\n",
    "# plt.ylabel('Misclassification Error')\n",
    "# plt.show()"
   ]
  },
  {
   "cell_type": "code",
   "execution_count": 56,
   "metadata": {
    "_uuid": "f425fae49d376ca8ffbaeaece7305e2a985016ac"
   },
   "outputs": [],
   "source": [
    "# FIRST-AUTHOR: remove ML code\n",
    "# print('With CV = 20:')\n",
    "# cv_scores = []\n",
    "\n",
    "# for k in neighbors:\n",
    "#     knn = KNeighborsClassifier(n_neighbors=k)\n",
    "#     scores = cross_val_score(knn, Xtrain, Ytrain, cv=20, scoring='accuracy')\n",
    "#     cv_scores.append(scores.mean())\n",
    "    \n",
    "    \n",
    "# MSE = [1 - x for x in cv_scores]\n",
    "# optimal_k = neighbors[MSE.index(min(MSE))]\n",
    "# print(\"The optimal number of neighbors is %d\" % optimal_k)"
   ]
  },
  {
   "cell_type": "code",
   "execution_count": 57,
   "metadata": {
    "_uuid": "0581e2f21e48cfc4e59e46bd3b425da77ed44f58",
    "scrolled": true
   },
   "outputs": [],
   "source": [
    "# FIRST-AUTHOR: remove plotting\n",
    "# plt.plot(neighbors, MSE)\n",
    "# plt.xlabel('Number of Neighbors K')\n",
    "# plt.ylabel('Misclassification Error')\n",
    "# plt.show()"
   ]
  },
  {
   "cell_type": "markdown",
   "metadata": {
    "_uuid": "1c2270d8de190cd254fdeb01b57f704c81468504"
   },
   "source": [
    "Conclu\u00edmos que o menor erro em KNN ser\u00e1 com CV = 10 e K = 7"
   ]
  },
  {
   "cell_type": "code",
   "execution_count": 58,
   "metadata": {
    "_uuid": "a2535fc2745a12fdc1299d510063506f42b22ed9"
   },
   "outputs": [],
   "source": [
    "# FIRST-AUTHOR: remove ML code\n",
    "# knn = KNeighborsClassifier(n_neighbors=7)"
   ]
  },
  {
   "cell_type": "code",
   "execution_count": 59,
   "metadata": {
    "_uuid": "13c2d224797c557c9d4a16385fea179203dd5231"
   },
   "outputs": [],
   "source": [
    "# FIRST-AUTHOR: remove ML code\n",
    "# knn.fit(Xtrain,Ytrain)"
   ]
  },
  {
   "cell_type": "code",
   "execution_count": 60,
   "metadata": {
    "_uuid": "31f6cde6322179b977ada0d0e56355b6c73f4c08"
   },
   "outputs": [],
   "source": [
    "# FIRST-AUTHOR: remove ML code\n",
    "# scores = cross_val_score(knn, Xtrain, Ytrain, cv=10)\n",
    "# scores"
   ]
  },
  {
   "cell_type": "code",
   "execution_count": 61,
   "metadata": {
    "_uuid": "260a4c8255c9a40ed4440acf407b90093e07b82d"
   },
   "outputs": [],
   "source": [
    "# FIRST-AUTHOR: remove ML code\n",
    "# YtestPred = knn.predict(Xtest)"
   ]
  },
  {
   "cell_type": "code",
   "execution_count": 62,
   "metadata": {
    "_uuid": "fdcbf2a20c786a9eb5cb86d1d3f0d286fd1b9f54"
   },
   "outputs": [],
   "source": [
    "# FIRST-AUTHOR: remove ML code\n",
    "# from sklearn.metrics import accuracy_score\n",
    "# accuracy_score(Ytest,YtestPred)"
   ]
  },
  {
   "cell_type": "code",
   "execution_count": 63,
   "metadata": {
    "_uuid": "b7bd7c9faea2c34b9b857d1a1820fd07eec07a71"
   },
   "outputs": [],
   "source": [
    "FINALtest.insert(0,'Target',0.0)"
   ]
  },
  {
   "cell_type": "code",
   "execution_count": 64,
   "metadata": {
    "_uuid": "ce5c77997dd163911163a494612e663d543b4389"
   },
   "outputs": [
    {
     "data": {
      "text/plain": [
       "Target                    float64\n",
       "refrig                      int64\n",
       "computer                    int64\n",
       "television                  int64\n",
       "area1                       int64\n",
       "overcrowding              float64\n",
       "tamviv                      int64\n",
       "hhsize                      int64\n",
       "elec                      float64\n",
       "water                       int64\n",
       "sanit                       int64\n",
       "cozinhar                    int64\n",
       "walls+roof+floor            int64\n",
       "rooms-per-capita          float64\n",
       "rent-per-capita           float64\n",
       "electronics-per-capita    float64\n",
       "region                      int64\n",
       "home_own                    int64\n",
       "dis                         int64\n",
       "female                      int64\n",
       "rez_esc                   float64\n",
       "inst/age                  float64\n",
       "escolari/age              float64\n",
       "tech                        int64\n",
       "dtype: object"
      ]
     },
     "execution_count": 64,
     "metadata": {},
     "output_type": "execute_result"
    }
   ],
   "source": [
    "FINALtest.dtypes"
   ]
  },
  {
   "cell_type": "code",
   "execution_count": 65,
   "metadata": {
    "_uuid": "4013b4b31288f524d6b64b6a35bfd8cbb7fc313b"
   },
   "outputs": [],
   "source": [
    "XFINALtest = FINALtest\n",
    "# FIRST-AUTHOR: remove ML code\n",
    "# YFINALtestPred = knn.predict(XFINALtest)"
   ]
  },
  {
   "cell_type": "code",
   "execution_count": 66,
   "metadata": {
    "_uuid": "02a05e4d2be3023501656debd1cadf8439014665"
   },
   "outputs": [],
   "source": [
    "# FIRST-AUTHOR: remove ML code\n",
    "# YFINALtestPred"
   ]
  },
  {
   "cell_type": "code",
   "execution_count": 67,
   "metadata": {
    "_uuid": "60e5142202f6f6b32ad87bd71d70fa2ac196b674"
   },
   "outputs": [],
   "source": [
    "pred = pd.DataFrame(submission_base)\n",
    "# FIRST-AUTHOR: remove ML code\n",
    "# pred[\"Target\"] = YFINALtestPred"
   ]
  },
  {
   "cell_type": "code",
   "execution_count": 68,
   "metadata": {
    "_uuid": "85c823babc5c0d06154d2fd39cf78d206220657e"
   },
   "outputs": [],
   "source": [
    "pred.to_csv(\"prediction.csv\", index=False)"
   ]
  },
  {
   "cell_type": "code",
   "execution_count": null,
   "metadata": {
    "_uuid": "a5c4735068d58a90c2314228c6ddf5a0f5b54415"
   },
   "outputs": [],
   "source": []
  }
 ],
 "metadata": {
  "kernelspec": {
   "display_name": "Python 3 (ipykernel)",
   "language": "python",
   "name": "python3"
  },
  "language_info": {
   "codemirror_mode": {
    "name": "ipython",
    "version": 3
   },
   "file_extension": ".py",
   "mimetype": "text/x-python",
   "name": "python",
   "nbconvert_exporter": "python",
   "pygments_lexer": "ipython3",
   "version": "3.10.16"
  }
 },
 "nbformat": 4,
 "nbformat_minor": 1
}