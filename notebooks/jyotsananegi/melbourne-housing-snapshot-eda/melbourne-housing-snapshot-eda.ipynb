{
 "cells": [
  {
   "cell_type": "code",
   "execution_count": null,
   "metadata": {},
   "outputs": [],
   "source": [
    "import os\n",
    "\n",
    "def scale_input_data(scale_factor):\n",
    "  file_bases = ['./input/melb_data']\n",
    "  for file_base in file_bases:\n",
    "    import pandas as pd\n",
    "    import shutil\n",
    "    if scale_factor == 1.0:\n",
    "      shutil.copyfile(file_base + '.csv', file_base + '.scaled.csv')\n",
    "      continue\n",
    "    df_to_scale = pd.read_csv(file_base + '.csv')\n",
    "    new_num_rows = int(scale_factor * len(df_to_scale))\n",
    "    if scale_factor <= 1.0:\n",
    "      df_to_scale = df_to_scale.iloc[:new_num_rows]\n",
    "    else:\n",
    "      while len(df_to_scale) < new_num_rows:\n",
    "        df_to_scale = pd.concat([df_to_scale, df_to_scale[:min(new_num_rows - len(df_to_scale), len(df_to_scale))]])\n",
    "    df_to_scale.to_csv(file_base + '.scaled.csv', index=False)\n",
    "\n",
    "if 'INPUT_SCALE_FACTOR' in os.environ:\n",
    "  scale_input_data(float(os.environ['INPUT_SCALE_FACTOR']))"
   ]
  },
  {
   "cell_type": "markdown",
   "metadata": {},
   "source": [
    "###### Hello, welcome to my notebook\n",
    "\n",
    "###### In this notebook, I will do the exploratory analysis of Melbourne Housing data. The main aim is to see how different features are related to the price of the house.\n",
    "\n",
    "###### Your feedback is appreciated. It will help me to improve my notebook.\n",
    "\n",
    "###### Lets begin!"
   ]
  },
  {
   "cell_type": "markdown",
   "metadata": {},
   "source": [
    "## 1. Loading Modules"
   ]
  },
  {
   "cell_type": "markdown",
   "metadata": {},
   "source": [
    "The first step we will is to load the modules that will help in the data anaylsis."
   ]
  },
  {
   "cell_type": "code",
   "execution_count": 1,
   "metadata": {
    "_cell_guid": "b1076dfc-b9ad-4769-8c92-a6c4dae69d19",
    "_uuid": "8f2839f25d086af736a60e9eeb907d3b93b6e0e5"
   },
   "outputs": [],
   "source": [
    "# importing libraries\n",
    "import numpy as np # linear algebra\n",
    "# import pandas as pd # data processing, CSV file I/O (e.g. pd.read_csv)\n",
    "exec(os.environ['IREWR_IMPORTS'])\n",
    "from datetime import datetime # datetime processing\n",
    "\n",
    "# Data visualisation\n",
    "# ALEX: remove plotting\n",
    "# import matplotlib.pyplot as plt\n",
    "# import seaborn as sns\n",
    "\n",
    "# setting path of the dataset\n",
    "# ALEX: remove path printing\n",
    "# import os\n",
    "# for dirname, _, filenames in os.walk('/kaggle/input'):\n",
    "#     for filename in filenames:\n",
    "#         print(os.path.join(dirname, filename))\n"
   ]
  },
  {
   "cell_type": "markdown",
   "metadata": {},
   "source": [
    "## 2. Loading the Dataset"
   ]
  },
  {
   "cell_type": "code",
   "execution_count": 2,
   "metadata": {
    "_cell_guid": "79c7e3d0-c299-4dcb-8224-4455121ee9b0",
    "_uuid": "d629ff2d2480ee46fbb7e2d37f6b5fab8052498a"
   },
   "outputs": [
    {
     "data": {
      "text/html": [
       "<div>\n",
       "<style scoped>\n",
       "    .dataframe tbody tr th:only-of-type {\n",
       "        vertical-align: middle;\n",
       "    }\n",
       "\n",
       "    .dataframe tbody tr th {\n",
       "        vertical-align: top;\n",
       "    }\n",
       "\n",
       "    .dataframe thead th {\n",
       "        text-align: right;\n",
       "    }\n",
       "</style>\n",
       "<table border=\"1\" class=\"dataframe\">\n",
       "  <thead>\n",
       "    <tr style=\"text-align: right;\">\n",
       "      <th></th>\n",
       "      <th>Suburb</th>\n",
       "      <th>Address</th>\n",
       "      <th>Rooms</th>\n",
       "      <th>Type</th>\n",
       "      <th>Price</th>\n",
       "      <th>Method</th>\n",
       "      <th>SellerG</th>\n",
       "      <th>Date</th>\n",
       "      <th>Distance</th>\n",
       "      <th>Postcode</th>\n",
       "      <th>...</th>\n",
       "      <th>Bathroom</th>\n",
       "      <th>Car</th>\n",
       "      <th>Landsize</th>\n",
       "      <th>BuildingArea</th>\n",
       "      <th>YearBuilt</th>\n",
       "      <th>CouncilArea</th>\n",
       "      <th>Lattitude</th>\n",
       "      <th>Longtitude</th>\n",
       "      <th>Regionname</th>\n",
       "      <th>Propertycount</th>\n",
       "    </tr>\n",
       "  </thead>\n",
       "  <tbody>\n",
       "    <tr>\n",
       "      <th>0</th>\n",
       "      <td>Abbotsford</td>\n",
       "      <td>85 Turner St</td>\n",
       "      <td>2</td>\n",
       "      <td>h</td>\n",
       "      <td>1480000.0</td>\n",
       "      <td>S</td>\n",
       "      <td>Biggin</td>\n",
       "      <td>3/12/2016</td>\n",
       "      <td>2.5</td>\n",
       "      <td>3067.0</td>\n",
       "      <td>...</td>\n",
       "      <td>1.0</td>\n",
       "      <td>1.0</td>\n",
       "      <td>202.0</td>\n",
       "      <td>NaN</td>\n",
       "      <td>NaN</td>\n",
       "      <td>Yarra</td>\n",
       "      <td>-37.7996</td>\n",
       "      <td>144.9984</td>\n",
       "      <td>Northern Metropolitan</td>\n",
       "      <td>4019.0</td>\n",
       "    </tr>\n",
       "    <tr>\n",
       "      <th>1</th>\n",
       "      <td>Abbotsford</td>\n",
       "      <td>25 Bloomburg St</td>\n",
       "      <td>2</td>\n",
       "      <td>h</td>\n",
       "      <td>1035000.0</td>\n",
       "      <td>S</td>\n",
       "      <td>Biggin</td>\n",
       "      <td>4/02/2016</td>\n",
       "      <td>2.5</td>\n",
       "      <td>3067.0</td>\n",
       "      <td>...</td>\n",
       "      <td>1.0</td>\n",
       "      <td>0.0</td>\n",
       "      <td>156.0</td>\n",
       "      <td>79.0</td>\n",
       "      <td>1900.0</td>\n",
       "      <td>Yarra</td>\n",
       "      <td>-37.8079</td>\n",
       "      <td>144.9934</td>\n",
       "      <td>Northern Metropolitan</td>\n",
       "      <td>4019.0</td>\n",
       "    </tr>\n",
       "    <tr>\n",
       "      <th>2</th>\n",
       "      <td>Abbotsford</td>\n",
       "      <td>5 Charles St</td>\n",
       "      <td>3</td>\n",
       "      <td>h</td>\n",
       "      <td>1465000.0</td>\n",
       "      <td>SP</td>\n",
       "      <td>Biggin</td>\n",
       "      <td>4/03/2017</td>\n",
       "      <td>2.5</td>\n",
       "      <td>3067.0</td>\n",
       "      <td>...</td>\n",
       "      <td>2.0</td>\n",
       "      <td>0.0</td>\n",
       "      <td>134.0</td>\n",
       "      <td>150.0</td>\n",
       "      <td>1900.0</td>\n",
       "      <td>Yarra</td>\n",
       "      <td>-37.8093</td>\n",
       "      <td>144.9944</td>\n",
       "      <td>Northern Metropolitan</td>\n",
       "      <td>4019.0</td>\n",
       "    </tr>\n",
       "    <tr>\n",
       "      <th>3</th>\n",
       "      <td>Abbotsford</td>\n",
       "      <td>40 Federation La</td>\n",
       "      <td>3</td>\n",
       "      <td>h</td>\n",
       "      <td>850000.0</td>\n",
       "      <td>PI</td>\n",
       "      <td>Biggin</td>\n",
       "      <td>4/03/2017</td>\n",
       "      <td>2.5</td>\n",
       "      <td>3067.0</td>\n",
       "      <td>...</td>\n",
       "      <td>2.0</td>\n",
       "      <td>1.0</td>\n",
       "      <td>94.0</td>\n",
       "      <td>NaN</td>\n",
       "      <td>NaN</td>\n",
       "      <td>Yarra</td>\n",
       "      <td>-37.7969</td>\n",
       "      <td>144.9969</td>\n",
       "      <td>Northern Metropolitan</td>\n",
       "      <td>4019.0</td>\n",
       "    </tr>\n",
       "    <tr>\n",
       "      <th>4</th>\n",
       "      <td>Abbotsford</td>\n",
       "      <td>55a Park St</td>\n",
       "      <td>4</td>\n",
       "      <td>h</td>\n",
       "      <td>1600000.0</td>\n",
       "      <td>VB</td>\n",
       "      <td>Nelson</td>\n",
       "      <td>4/06/2016</td>\n",
       "      <td>2.5</td>\n",
       "      <td>3067.0</td>\n",
       "      <td>...</td>\n",
       "      <td>1.0</td>\n",
       "      <td>2.0</td>\n",
       "      <td>120.0</td>\n",
       "      <td>142.0</td>\n",
       "      <td>2014.0</td>\n",
       "      <td>Yarra</td>\n",
       "      <td>-37.8072</td>\n",
       "      <td>144.9941</td>\n",
       "      <td>Northern Metropolitan</td>\n",
       "      <td>4019.0</td>\n",
       "    </tr>\n",
       "  </tbody>\n",
       "</table>\n",
       "<p>5 rows \u00d7 21 columns</p>\n",
       "</div>"
      ],
      "text/plain": [
       "       Suburb           Address  Rooms Type      Price Method SellerG  \\\n",
       "0  Abbotsford      85 Turner St      2    h  1480000.0      S  Biggin   \n",
       "1  Abbotsford   25 Bloomburg St      2    h  1035000.0      S  Biggin   \n",
       "2  Abbotsford      5 Charles St      3    h  1465000.0     SP  Biggin   \n",
       "3  Abbotsford  40 Federation La      3    h   850000.0     PI  Biggin   \n",
       "4  Abbotsford       55a Park St      4    h  1600000.0     VB  Nelson   \n",
       "\n",
       "        Date  Distance  Postcode  ...  Bathroom  Car  Landsize  BuildingArea  \\\n",
       "0  3/12/2016       2.5    3067.0  ...       1.0  1.0     202.0           NaN   \n",
       "1  4/02/2016       2.5    3067.0  ...       1.0  0.0     156.0          79.0   \n",
       "2  4/03/2017       2.5    3067.0  ...       2.0  0.0     134.0         150.0   \n",
       "3  4/03/2017       2.5    3067.0  ...       2.0  1.0      94.0           NaN   \n",
       "4  4/06/2016       2.5    3067.0  ...       1.0  2.0     120.0         142.0   \n",
       "\n",
       "   YearBuilt  CouncilArea Lattitude  Longtitude             Regionname  \\\n",
       "0        NaN        Yarra  -37.7996    144.9984  Northern Metropolitan   \n",
       "1     1900.0        Yarra  -37.8079    144.9934  Northern Metropolitan   \n",
       "2     1900.0        Yarra  -37.8093    144.9944  Northern Metropolitan   \n",
       "3        NaN        Yarra  -37.7969    144.9969  Northern Metropolitan   \n",
       "4     2014.0        Yarra  -37.8072    144.9941  Northern Metropolitan   \n",
       "\n",
       "  Propertycount  \n",
       "0        4019.0  \n",
       "1        4019.0  \n",
       "2        4019.0  \n",
       "3        4019.0  \n",
       "4        4019.0  \n",
       "\n",
       "[5 rows x 21 columns]"
      ]
     },
     "execution_count": 2,
     "metadata": {},
     "output_type": "execute_result"
    }
   ],
   "source": [
    "melb_house = pd.read_csv(\"./input/melb_data.scaled.csv\")\n",
    "\n",
    "# checking the columns\n",
    "melb_house.head()"
   ]
  },
  {
   "cell_type": "markdown",
   "metadata": {},
   "source": [
    "## 3. Sneak peak of Dataset"
   ]
  },
  {
   "cell_type": "markdown",
   "metadata": {},
   "source": [
    "To get better understanding of the data, we will do some priliminary analysis.\n",
    "\n",
    "Checking for shape and info of dataset are basic analysis that will make the picture more clear. The shape will tell about the dimesion of dataset and from info we can get the type of data. We will also see the unique values of different attributes which will help is further anaylsis."
   ]
  },
  {
   "cell_type": "code",
   "execution_count": 3,
   "metadata": {},
   "outputs": [
    {
     "data": {
      "text/plain": [
       "(13580, 21)"
      ]
     },
     "execution_count": 3,
     "metadata": {},
     "output_type": "execute_result"
    }
   ],
   "source": [
    "melb_house.shape"
   ]
  },
  {
   "cell_type": "code",
   "execution_count": 4,
   "metadata": {},
   "outputs": [
    {
     "name": "stdout",
     "output_type": "stream",
     "text": [
      "<class 'pandas.core.frame.DataFrame'>\n",
      "RangeIndex: 13580 entries, 0 to 13579\n",
      "Data columns (total 21 columns):\n",
      " #   Column         Non-Null Count  Dtype  \n",
      "---  ------         --------------  -----  \n",
      " 0   Suburb         13580 non-null  object \n",
      " 1   Address        13580 non-null  object \n",
      " 2   Rooms          13580 non-null  int64  \n",
      " 3   Type           13580 non-null  object \n",
      " 4   Price          13580 non-null  float64\n",
      " 5   Method         13580 non-null  object \n",
      " 6   SellerG        13580 non-null  object \n",
      " 7   Date           13580 non-null  object \n",
      " 8   Distance       13580 non-null  float64\n",
      " 9   Postcode       13580 non-null  float64\n",
      " 10  Bedroom2       13580 non-null  float64\n",
      " 11  Bathroom       13580 non-null  float64\n",
      " 12  Car            13518 non-null  float64\n",
      " 13  Landsize       13580 non-null  float64\n",
      " 14  BuildingArea   7130 non-null   float64\n",
      " 15  YearBuilt      8205 non-null   float64\n",
      " 16  CouncilArea    12211 non-null  object \n",
      " 17  Lattitude      13580 non-null  float64\n",
      " 18  Longtitude     13580 non-null  float64\n",
      " 19  Regionname     13580 non-null  object \n",
      " 20  Propertycount  13580 non-null  float64\n",
      "dtypes: float64(12), int64(1), object(8)\n",
      "memory usage: 2.2+ MB\n"
     ]
    }
   ],
   "source": [
    "melb_house.info()"
   ]
  },
  {
   "cell_type": "code",
   "execution_count": 5,
   "metadata": {},
   "outputs": [
    {
     "data": {
      "text/html": [
       "<div>\n",
       "<style scoped>\n",
       "    .dataframe tbody tr th:only-of-type {\n",
       "        vertical-align: middle;\n",
       "    }\n",
       "\n",
       "    .dataframe tbody tr th {\n",
       "        vertical-align: top;\n",
       "    }\n",
       "\n",
       "    .dataframe thead th {\n",
       "        text-align: right;\n",
       "    }\n",
       "</style>\n",
       "<table border=\"1\" class=\"dataframe\">\n",
       "  <thead>\n",
       "    <tr style=\"text-align: right;\">\n",
       "      <th></th>\n",
       "      <th>No. of unique values</th>\n",
       "    </tr>\n",
       "  </thead>\n",
       "  <tbody>\n",
       "    <tr>\n",
       "      <th>Suburb</th>\n",
       "      <td>314</td>\n",
       "    </tr>\n",
       "    <tr>\n",
       "      <th>Address</th>\n",
       "      <td>13378</td>\n",
       "    </tr>\n",
       "    <tr>\n",
       "      <th>Rooms</th>\n",
       "      <td>9</td>\n",
       "    </tr>\n",
       "    <tr>\n",
       "      <th>Type</th>\n",
       "      <td>3</td>\n",
       "    </tr>\n",
       "    <tr>\n",
       "      <th>Price</th>\n",
       "      <td>2204</td>\n",
       "    </tr>\n",
       "    <tr>\n",
       "      <th>Method</th>\n",
       "      <td>5</td>\n",
       "    </tr>\n",
       "    <tr>\n",
       "      <th>SellerG</th>\n",
       "      <td>268</td>\n",
       "    </tr>\n",
       "    <tr>\n",
       "      <th>Date</th>\n",
       "      <td>58</td>\n",
       "    </tr>\n",
       "    <tr>\n",
       "      <th>Distance</th>\n",
       "      <td>202</td>\n",
       "    </tr>\n",
       "    <tr>\n",
       "      <th>Postcode</th>\n",
       "      <td>198</td>\n",
       "    </tr>\n",
       "    <tr>\n",
       "      <th>Bedroom2</th>\n",
       "      <td>12</td>\n",
       "    </tr>\n",
       "    <tr>\n",
       "      <th>Bathroom</th>\n",
       "      <td>9</td>\n",
       "    </tr>\n",
       "    <tr>\n",
       "      <th>Car</th>\n",
       "      <td>11</td>\n",
       "    </tr>\n",
       "    <tr>\n",
       "      <th>Landsize</th>\n",
       "      <td>1448</td>\n",
       "    </tr>\n",
       "    <tr>\n",
       "      <th>BuildingArea</th>\n",
       "      <td>602</td>\n",
       "    </tr>\n",
       "    <tr>\n",
       "      <th>YearBuilt</th>\n",
       "      <td>144</td>\n",
       "    </tr>\n",
       "    <tr>\n",
       "      <th>CouncilArea</th>\n",
       "      <td>33</td>\n",
       "    </tr>\n",
       "    <tr>\n",
       "      <th>Lattitude</th>\n",
       "      <td>6503</td>\n",
       "    </tr>\n",
       "    <tr>\n",
       "      <th>Longtitude</th>\n",
       "      <td>7063</td>\n",
       "    </tr>\n",
       "    <tr>\n",
       "      <th>Regionname</th>\n",
       "      <td>8</td>\n",
       "    </tr>\n",
       "    <tr>\n",
       "      <th>Propertycount</th>\n",
       "      <td>311</td>\n",
       "    </tr>\n",
       "  </tbody>\n",
       "</table>\n",
       "</div>"
      ],
      "text/plain": [
       "               No. of unique values\n",
       "Suburb                          314\n",
       "Address                       13378\n",
       "Rooms                             9\n",
       "Type                              3\n",
       "Price                          2204\n",
       "Method                            5\n",
       "SellerG                         268\n",
       "Date                             58\n",
       "Distance                        202\n",
       "Postcode                        198\n",
       "Bedroom2                         12\n",
       "Bathroom                          9\n",
       "Car                              11\n",
       "Landsize                       1448\n",
       "BuildingArea                    602\n",
       "YearBuilt                       144\n",
       "CouncilArea                      33\n",
       "Lattitude                      6503\n",
       "Longtitude                     7063\n",
       "Regionname                        8\n",
       "Propertycount                   311"
      ]
     },
     "execution_count": 5,
     "metadata": {},
     "output_type": "execute_result"
    }
   ],
   "source": [
    "# checking for unique entries\n",
    "\n",
    "unique_val = []\n",
    "for i in melb_house.columns:\n",
    "    u = melb_house[i].nunique()\n",
    "    unique_val.append(u)\n",
    "    \n",
    "pd.DataFrame({\"No. of unique values\": unique_val}, index=melb_house.columns)"
   ]
  },
  {
   "cell_type": "markdown",
   "metadata": {},
   "source": [
    "* The shape of the dataframe shows that there are 13580 observation and 21 features\n",
    "* The dataset have different type for data - object, int and float\n",
    "* The dataset require coversion of features like Date and YearBuilt. These attribute should be in datetime format instead these are given object and float format respectively.\n",
    "* There are some missing values in the dataset, which should be replaced before futher analysis."
   ]
  },
  {
   "cell_type": "markdown",
   "metadata": {},
   "source": [
    "## 4. Data Cleaning"
   ]
  },
  {
   "cell_type": "markdown",
   "metadata": {},
   "source": [
    "Before further analysis we will make copy of our data to avoid any changes in the original data during the cleaning process."
   ]
  },
  {
   "cell_type": "code",
   "execution_count": 6,
   "metadata": {},
   "outputs": [],
   "source": [
    "# Working dataset\n",
    "dataset = melb_house.copy()"
   ]
  },
  {
   "cell_type": "markdown",
   "metadata": {},
   "source": [
    "### 4.1 Checking missing values"
   ]
  },
  {
   "cell_type": "code",
   "execution_count": 7,
   "metadata": {},
   "outputs": [],
   "source": [
    "# plot of missing value\n",
    "# ALEX: remove plotting\n",
    "# plt.figure(figsize=(9,5))\n",
    "# sns.heatmap(dataset.isnull(),yticklabels=False, cbar=False, cmap=\"Paired\");\n",
    "# plt.title(\"Heatmap of Missing Values\");\n",
    "_ = dataset.isnull()"
   ]
  },
  {
   "cell_type": "markdown",
   "metadata": {},
   "source": [
    "We can see there are some columns with missing values.\n",
    "\n",
    "* Car columns have only few missing values\n",
    "* The features 'BuildingArea' and 'YearBuilt' most number of missing values.\n",
    "* In column 'CouncilArea' the missing values is aggregated in the last few observations.\n"
   ]
  },
  {
   "cell_type": "code",
   "execution_count": 8,
   "metadata": {},
   "outputs": [
    {
     "data": {
      "text/html": [
       "<div>\n",
       "<style scoped>\n",
       "    .dataframe tbody tr th:only-of-type {\n",
       "        vertical-align: middle;\n",
       "    }\n",
       "\n",
       "    .dataframe tbody tr th {\n",
       "        vertical-align: top;\n",
       "    }\n",
       "\n",
       "    .dataframe thead th {\n",
       "        text-align: right;\n",
       "    }\n",
       "</style>\n",
       "<table border=\"1\" class=\"dataframe\">\n",
       "  <thead>\n",
       "    <tr style=\"text-align: right;\">\n",
       "      <th></th>\n",
       "      <th>No. missing values</th>\n",
       "      <th>% of missind data</th>\n",
       "    </tr>\n",
       "  </thead>\n",
       "  <tbody>\n",
       "    <tr>\n",
       "      <th>BuildingArea</th>\n",
       "      <td>6450</td>\n",
       "      <td>47.496318</td>\n",
       "    </tr>\n",
       "    <tr>\n",
       "      <th>YearBuilt</th>\n",
       "      <td>5375</td>\n",
       "      <td>39.580265</td>\n",
       "    </tr>\n",
       "    <tr>\n",
       "      <th>CouncilArea</th>\n",
       "      <td>1369</td>\n",
       "      <td>10.081001</td>\n",
       "    </tr>\n",
       "    <tr>\n",
       "      <th>Car</th>\n",
       "      <td>62</td>\n",
       "      <td>0.456554</td>\n",
       "    </tr>\n",
       "    <tr>\n",
       "      <th>Suburb</th>\n",
       "      <td>0</td>\n",
       "      <td>0.000000</td>\n",
       "    </tr>\n",
       "  </tbody>\n",
       "</table>\n",
       "</div>"
      ],
      "text/plain": [
       "              No. missing values  % of missind data\n",
       "BuildingArea                6450          47.496318\n",
       "YearBuilt                   5375          39.580265\n",
       "CouncilArea                 1369          10.081001\n",
       "Car                           62           0.456554\n",
       "Suburb                         0           0.000000"
      ]
     },
     "execution_count": 8,
     "metadata": {},
     "output_type": "execute_result"
    }
   ],
   "source": [
    "# Features with missing values\n",
    "miss = dataset.isnull().sum().sort_values(ascending = False).head(5)\n",
    "miss_per = (miss/len(dataset))*100\n",
    "\n",
    "# Percentage of missing values\n",
    "pd.DataFrame({'No. missing values': miss, '% of missind data': miss_per.values})"
   ]
  },
  {
   "cell_type": "markdown",
   "metadata": {},
   "source": [
    " ### 4.2 Handling missing values "
   ]
  },
  {
   "cell_type": "markdown",
   "metadata": {},
   "source": [
    "##### 4.2.1 Car"
   ]
  },
  {
   "cell_type": "code",
   "execution_count": 9,
   "metadata": {},
   "outputs": [
    {
     "data": {
      "text/plain": [
       "2.0     5591\n",
       "1.0     5509\n",
       "0.0     1026\n",
       "3.0      748\n",
       "4.0      506\n",
       "5.0       63\n",
       "6.0       54\n",
       "8.0        9\n",
       "7.0        8\n",
       "10.0       3\n",
       "9.0        1\n",
       "Name: Car, dtype: int64"
      ]
     },
     "execution_count": 9,
     "metadata": {},
     "output_type": "execute_result"
    }
   ],
   "source": [
    "dataset['Car'].value_counts()"
   ]
  },
  {
   "cell_type": "code",
   "execution_count": 10,
   "metadata": {},
   "outputs": [
    {
     "name": "stdout",
     "output_type": "stream",
     "text": [
      "Null values before replacement : 62\n",
      "Null values after replacement : 0\n"
     ]
    }
   ],
   "source": [
    "# Filling null value\n",
    "dataset['Car'].fillna(0, inplace = True)\n",
    "\n",
    "# confimation after filling the null values\n",
    "print(\"Null values before replacement :\", melb_house['Car'].isnull().sum())\n",
    "print(\"Null values after replacement :\", dataset['Car'].isnull().sum())"
   ]
  },
  {
   "cell_type": "markdown",
   "metadata": {},
   "source": [
    "There are some house with zero car, so we can replce the null value rows with 0. "
   ]
  },
  {
   "cell_type": "markdown",
   "metadata": {},
   "source": [
    "##### 4.2.2 Council Area"
   ]
  },
  {
   "cell_type": "code",
   "execution_count": 11,
   "metadata": {},
   "outputs": [
    {
     "data": {
      "text/plain": [
       "Moreland             1163\n",
       "Boroondara           1160\n",
       "Moonee Valley         997\n",
       "Darebin               934\n",
       "Glen Eira             848\n",
       "Stonnington           719\n",
       "Maribyrnong           692\n",
       "Yarra                 647\n",
       "Port Phillip          628\n",
       "Banyule               594\n",
       "Bayside               489\n",
       "Melbourne             470\n",
       "Hobsons Bay           434\n",
       "Brimbank              424\n",
       "Monash                333\n",
       "Manningham            311\n",
       "Whitehorse            304\n",
       "Kingston              207\n",
       "Whittlesea            167\n",
       "Hume                  164\n",
       "Wyndham                86\n",
       "Knox                   80\n",
       "Maroondah              80\n",
       "Melton                 66\n",
       "Frankston              53\n",
       "Greater Dandenong      52\n",
       "Casey                  38\n",
       "Nillumbik              36\n",
       "Yarra Ranges           18\n",
       "Cardinia                8\n",
       "Macedon Ranges          7\n",
       "Unavailable             1\n",
       "Moorabool               1\n",
       "Name: CouncilArea, dtype: int64"
      ]
     },
     "execution_count": 11,
     "metadata": {},
     "output_type": "execute_result"
    }
   ],
   "source": [
    "dataset['CouncilArea'].value_counts()"
   ]
  },
  {
   "cell_type": "code",
   "execution_count": 12,
   "metadata": {},
   "outputs": [
    {
     "name": "stdout",
     "output_type": "stream",
     "text": [
      "Null values before replacement : 1369\n",
      "Null values after replacement : 0\n"
     ]
    }
   ],
   "source": [
    "# Filling the null value \n",
    "dataset['CouncilArea'].fillna('Unavailable', inplace = True)\n",
    "\n",
    "\n",
    "# confimation after filling the null values\n",
    "print(\"Null values before replacement :\", melb_house['CouncilArea'].isnull().sum())\n",
    "print(\"Null values after replacement :\", dataset['CouncilArea'].isnull().sum())"
   ]
  },
  {
   "cell_type": "markdown",
   "metadata": {},
   "source": [
    "We can see that in the column Council Area there is a catergory \"Unavailable\", so I filled the null values with the \"Unavailable\""
   ]
  },
  {
   "cell_type": "markdown",
   "metadata": {},
   "source": [
    "##### 4.2.3 Year Built"
   ]
  },
  {
   "cell_type": "code",
   "execution_count": 13,
   "metadata": {},
   "outputs": [
    {
     "name": "stdout",
     "output_type": "stream",
     "text": [
      "Null values before replacement : 5375\n",
      "Null values after replacement : 0\n"
     ]
    }
   ],
   "source": [
    "# Filling the null value \n",
    "dataset['YearBuilt'].fillna(\"Unknown\", inplace=True)\n",
    "\n",
    "# confimation after filling the null values\n",
    "print(\"Null values before replacement :\", melb_house['YearBuilt'].isnull().sum())\n",
    "print(\"Null values after replacement :\", dataset['YearBuilt'].isnull().sum())"
   ]
  },
  {
   "cell_type": "markdown",
   "metadata": {},
   "source": [
    "The null values in 'YearBuilt' means we dont have any inforamtion about the year, so we cannot fill missing value with any numerical value, therefore I am substituting it with 'Unknown'."
   ]
  },
  {
   "cell_type": "markdown",
   "metadata": {},
   "source": [
    "##### 4.2.3 Building Area"
   ]
  },
  {
   "cell_type": "code",
   "execution_count": 14,
   "metadata": {},
   "outputs": [],
   "source": [
    "# ALEX: remove plotting\n",
    "# plt.figure(figsize = (5, 5))\n",
    "# sns.distplot(dataset['BuildingArea']);\n",
    "_ = dataset['BuildingArea']"
   ]
  },
  {
   "cell_type": "code",
   "execution_count": 15,
   "metadata": {},
   "outputs": [
    {
     "name": "stdout",
     "output_type": "stream",
     "text": [
      "Null values before replacement : 6450\n",
      "Null values after replacement : 0\n"
     ]
    }
   ],
   "source": [
    "# Filling the null value \n",
    "dataset['BuildingArea'].fillna(0, inplace = True)\n",
    "\n",
    "# confimation after filling the null values\n",
    "print(\"Null values before replacement :\", melb_house['BuildingArea'].isnull().sum())\n",
    "print(\"Null values after replacement :\", dataset['BuildingArea'].isnull().sum())"
   ]
  },
  {
   "cell_type": "markdown",
   "metadata": {},
   "source": [
    "There are some property with no building, so we replace the missing value with 0"
   ]
  },
  {
   "cell_type": "markdown",
   "metadata": {},
   "source": [
    "## 5. Exploratory Data Analysis"
   ]
  },
  {
   "cell_type": "markdown",
   "metadata": {},
   "source": [
    "### 5.1 Univaritant Analysis"
   ]
  },
  {
   "cell_type": "markdown",
   "metadata": {},
   "source": [
    "### Target Variable - Price"
   ]
  },
  {
   "cell_type": "code",
   "execution_count": 16,
   "metadata": {},
   "outputs": [],
   "source": [
    "# log transformation of price\n",
    "dataset['Price_trans'] = np.log(dataset['Price'])\n",
    "\n",
    "# plot of price\n",
    "# ALEX: remove plotting\n",
    "# plt.figure(figsize=(10, 5))\n",
    "# plt.subplots_adjust(wspace=0.5)\n",
    "# plt.suptitle(\"Distribution of Price\", fontsize=14)\n",
    "\n",
    "# plt.subplot(1,2,1)\n",
    "# p1 = sns.kdeplot(dataset['Price']);\n",
    "# p1.title.set_text(\"Before Transfromation\")\n",
    "\n",
    "# plt.subplot(1,2,2)\n",
    "# p2 = sns.kdeplot(dataset['Price_trans']);\n",
    "# p2.title.set_text(\"After log Transformation\")\n",
    "_ = dataset['Price']\n",
    "_ = dataset['Price_trans']"
   ]
  },
  {
   "cell_type": "markdown",
   "metadata": {},
   "source": [
    "We can see that distribution of price is positively skewed, so by performing log transformation of the target variable we can make it closed to normal distribution. Above two graphs represent the same. We will use the transformed values for further analysis."
   ]
  },
  {
   "cell_type": "markdown",
   "metadata": {},
   "source": [
    "### Numerical Data "
   ]
  },
  {
   "cell_type": "code",
   "execution_count": 17,
   "metadata": {},
   "outputs": [],
   "source": [
    "# Grouping the numerical data\n",
    "num =  dataset.select_dtypes(exclude=\"object\")\n",
    "num = num.drop(['Price'], axis=1)\n",
    "\n",
    "# Distributions of numrical data\n",
    "# ALEX: remove plotting\n",
    "# plt.figure(figsize=(15, 13))\n",
    "# plt.subplots_adjust(hspace=0.4, wspace=0.3)\n",
    "\n",
    "# j=1\n",
    "\n",
    "for i in list(num.columns):\n",
    "# ALEX: remove plotting\n",
    "#     plt.subplot(4,3,j)\n",
    "#     sns.distplot(dataset[i])\n",
    "#     j+=1\n",
    "    _ = dataset[i]\n",
    "    \n",
    "# ALEX: remove plotting\n",
    "# plt.suptitle(\"Distribution of Numerical Data\", fontsize=15);\n"
   ]
  },
  {
   "cell_type": "markdown",
   "metadata": {},
   "source": [
    "Observation from the distributions:\n",
    "* 'Rooms', 'Bedrooms2', \"Bathroom\" and 'Car' have dicrete distribution.\n",
    "* 'Distance', 'Postcode', 'Landsize', 'BuilingArea', 'Lattitude', 'Longitude' and 'Property count' have countinous distribution.\n",
    "* In features with continuous data some have distibution close to normal ('Lattitude', 'Longitude' and 'Property count') and features have skewed distrbtuion ('Distance', 'Postcode', 'Landsize', 'BuilingArea')."
   ]
  },
  {
   "cell_type": "markdown",
   "metadata": {},
   "source": [
    "### Categorical Data"
   ]
  },
  {
   "cell_type": "markdown",
   "metadata": {},
   "source": [
    "##### Sale Type and Method "
   ]
  },
  {
   "cell_type": "code",
   "execution_count": 18,
   "metadata": {},
   "outputs": [],
   "source": [
    "\n",
    "# ALEX: remove plotting\n",
    "# plt.figure(figsize=(15, 5))\n",
    "# plt.subplots_adjust(wspace=0.5)\n",
    "\n",
    "# plt.subplot(1,2,1)\n",
    "# ax1 = sns.countplot(x=dataset['Type'], palette='Accent');\n",
    "# ax1.title.set_text(\"Plot of House Type\")\n",
    "\n",
    "# plt.subplot(1,2,2)\n",
    "# ax2= sns.countplot(x=dataset['Method'], palette='Accent');\n",
    "# ax2.title.set_text(\"Plot of Method of Selling\")\n",
    "_ = dataset['Type']\n",
    "_ = dataset['Method']\n",
    "    "
   ]
  },
  {
   "cell_type": "markdown",
   "metadata": {},
   "source": [
    "Observations from above plot:\n",
    "* Plot for house type shows that most houses are type h  i.e., house,cottage,villa, semi,terrace and very few type t - townhouse.\n",
    "* Most of the properties are sold without any aution."
   ]
  },
  {
   "cell_type": "markdown",
   "metadata": {},
   "source": [
    "##### Regions of Melbourne"
   ]
  },
  {
   "cell_type": "code",
   "execution_count": 19,
   "metadata": {},
   "outputs": [],
   "source": [
    "# ALEX: remove plotting\n",
    "# plt.figure(figsize=(10, 5))\n",
    "# sns.countplot(y = dataset['Regionname']);\n",
    "# plt.ylabel(\"Region Name\", fontsize=12);\n",
    "# plt.xlabel(\"Count\", fontsize=12);\n",
    "_ = dataset['Regionname']"
   ]
  },
  {
   "cell_type": "markdown",
   "metadata": {},
   "source": [
    "* From the above plot observe that, Melbourne can be braodly divide into two areas :  **Victoria** and **Metropolitian**.\n",
    "* Most of the houses are in metropoltian area."
   ]
  },
  {
   "cell_type": "markdown",
   "metadata": {},
   "source": [
    "##### Seller"
   ]
  },
  {
   "cell_type": "code",
   "execution_count": 20,
   "metadata": {},
   "outputs": [],
   "source": [
    "# checking for top 10 seller\n",
    "# ALEX: remove plotting\n",
    "# dataset['SellerG'].value_counts().head(10).plot(kind='bar', color='brown');\n",
    "_ = dataset['SellerG'].value_counts().head(10)\n",
    "\n",
    "# plot for top seller\n",
    "# ALEX: remove plotting\n",
    "# plt.title(\"Top 10 Estate Agents\", fontsize=14);"
   ]
  },
  {
   "cell_type": "markdown",
   "metadata": {},
   "source": [
    "The above plot show the top ten sellers in Melbourne. Nelson sold the highest number of property."
   ]
  },
  {
   "cell_type": "markdown",
   "metadata": {},
   "source": [
    "##### Date"
   ]
  },
  {
   "cell_type": "code",
   "execution_count": 21,
   "metadata": {},
   "outputs": [
    {
     "name": "stderr",
     "output_type": "stream",
     "text": [
      "/tmp/ipykernel_51122/3019689340.py:2: UserWarning: Parsing dates in DD/MM/YYYY format when dayfirst=False (the default) was specified. This may lead to inconsistently parsed dates! Specify a format to ensure consistent parsing.\n",
      "  dataset['Date'] = pd.to_datetime(dataset['Date'])\n"
     ]
    }
   ],
   "source": [
    "# coverting date into datetime format\n",
    "dataset['Date'] = pd.to_datetime(dataset['Date'])\n",
    "year = dataset['Date'].map(lambda x: datetime.strftime(x, '%Y'))\n",
    "dataset['year'] = year\n",
    "month = dataset['Date'].map(lambda x: datetime.strftime(x, '%b'))\n",
    "dataset['month'] = month\n",
    "\n",
    "# plot of each month\n",
    "# ALEX: remove plotting\n",
    "# plt.figure(figsize = (12, 4))\n",
    "# sns.countplot(x=dataset['month'], hue=dataset['year'], palette='Set1');\n",
    "_ = dataset['month']\n",
    "_ = dataset['year']"
   ]
  },
  {
   "cell_type": "markdown",
   "metadata": {},
   "source": [
    "The plot show the number of sale for each month per year. We have data for two year 2016 and 2017.\n",
    "* There is increase in number of sale in 2017 in every month except Oct and Nov.\n",
    "* There is more sale from month March to August."
   ]
  },
  {
   "cell_type": "markdown",
   "metadata": {},
   "source": [
    "### 5.2 Bivariant Analysis"
   ]
  },
  {
   "cell_type": "markdown",
   "metadata": {},
   "source": [
    "###### Now, we will see how each attribute is affecting our tagret feature "
   ]
  },
  {
   "cell_type": "markdown",
   "metadata": {},
   "source": [
    "##### Rooms vs Price "
   ]
  },
  {
   "cell_type": "code",
   "execution_count": 22,
   "metadata": {},
   "outputs": [],
   "source": [
    "# ALEX: remove plotting\n",
    "# plt.figure(figsize=(10, 5))\n",
    "# sns.boxplot(x = 'Rooms', y = \"Price_trans\", data=dataset);\n",
    "# plt.ylabel(\"Price\");"
   ]
  },
  {
   "cell_type": "markdown",
   "metadata": {},
   "source": [
    "###### The house with more number of room should have more price, same is observed in the above plot. We can see the as the number of rooms are increasing the price of the house is also increasing."
   ]
  },
  {
   "cell_type": "markdown",
   "metadata": {},
   "source": [
    "##### Sale Type and Method vs Price"
   ]
  },
  {
   "cell_type": "code",
   "execution_count": 23,
   "metadata": {},
   "outputs": [],
   "source": [
    "# ALEX: remove plotting\n",
    "# plt.figure(figsize=(15, 5))\n",
    "# plt.subplots_adjust(wspace=0.3)\n",
    "\n",
    "# plt.subplot(1,2,1)\n",
    "# sns.boxplot(x = 'Type', y = \"Price_trans\", data=dataset, palette='Set3');\n",
    "# plt.ylabel(\"Price\");\n",
    "\n",
    "# plt.subplot(1,2,2)\n",
    "# sns.boxplot(x = 'Method', y = \"Price_trans\", data=dataset, palette='Set3');\n",
    "# plt.ylabel(\"Price\");"
   ]
  },
  {
   "cell_type": "markdown",
   "metadata": {},
   "source": [
    "###### * Cottage, villas, townhouse have more price than unit and duplex house.\n",
    "###### * The method of sale does not have any significant affect on sale price as we can see from the boxplot. "
   ]
  },
  {
   "cell_type": "markdown",
   "metadata": {},
   "source": [
    "##### Car Vs Price"
   ]
  },
  {
   "cell_type": "code",
   "execution_count": 24,
   "metadata": {},
   "outputs": [],
   "source": [
    "# ALEX: remove plotting\n",
    "# plt.figure(figsize=(15, 5))\n",
    "# sns.boxenplot(x = 'Car', y = \"Price_trans\", data=dataset);\n",
    "# plt.ylabel(\"Price\");"
   ]
  },
  {
   "cell_type": "markdown",
   "metadata": {},
   "source": [
    "###### * The house with two or more cars have slightly higher price.\n",
    "###### * Houses with one car have less price than house with zero cars, this is unsual.\n",
    "###### * Overall the number of cars in the house does not have much affect on sale price as the variation in boxplot is very less.\n"
   ]
  },
  {
   "cell_type": "markdown",
   "metadata": {},
   "source": [
    "##### Landsize Vs Price"
   ]
  },
  {
   "cell_type": "code",
   "execution_count": 25,
   "metadata": {},
   "outputs": [],
   "source": [
    "# ALEX: remove plotting\n",
    "# sns.lmplot(x=\"Landsize\", y='Price_trans', data=dataset);\n",
    "# plt.ylabel(\"Price\");\n",
    "# plt.xticks(rotation=15);"
   ]
  },
  {
   "cell_type": "markdown",
   "metadata": {},
   "source": [
    "Price has linear relation with landsize. Larger the land area higher is the price."
   ]
  },
  {
   "cell_type": "markdown",
   "metadata": {},
   "source": [
    "##### Distance Vs Price"
   ]
  },
  {
   "cell_type": "code",
   "execution_count": 26,
   "metadata": {},
   "outputs": [],
   "source": [
    "# ALEX: remove plotting\n",
    "# sns.scatterplot(x='Distance', y='Price_trans', data=dataset);\n",
    "# plt.ylabel(\"Price\");"
   ]
  },
  {
   "cell_type": "markdown",
   "metadata": {},
   "source": [
    "The porperty close to commercial and business area should have higher price. From the above graph we can observe the same, there is negative correlation between the price and the distance of property from the commerical ares. Most of the house are within 20 unit distance from the commercial center.\n",
    "\n",
    "We had seen that Melborune is broadly divided into two area Metropolitan and Victoria. So the properties that are in Metropolitan area should be close to business center and thus and higher price than properties in Victoria area."
   ]
  },
  {
   "cell_type": "markdown",
   "metadata": {},
   "source": [
    "###### We will check our interpertation."
   ]
  },
  {
   "cell_type": "code",
   "execution_count": 27,
   "metadata": {},
   "outputs": [],
   "source": [
    "# Dataset of Metropolitan area\n",
    "rm = dataset[dataset['Regionname'].map(lambda x: 'Metropolitan' in x)]\n",
    "\n",
    "# Dataset of Victoria area\n",
    "rv = dataset[dataset['Regionname'].map(lambda x: 'Victoria' in x)]\n",
    "\n",
    "# plots of both region\n",
    "# ALEX: remove plotting\n",
    "# plt.figure(figsize=(15, 5))\n",
    "\n",
    "# plt.subplot(1,2,1)\n",
    "# ar1 = sns.scatterplot(x='Distance', y='Price_trans', data=rm, color='orange');\n",
    "# plt.ylabel(\"Price\");\n",
    "# ar1.title.set_text(\"Metropolitan\");\n",
    "\n",
    "# plt.subplot(1,2,2)\n",
    "# ar2 = sns.scatterplot(x='Distance', y='Price_trans', data=rv, color=\"green\");\n",
    "# plt.ylabel(\"Price\");\n",
    "# ar2.title.set_text('Victoria');"
   ]
  },
  {
   "cell_type": "markdown",
   "metadata": {},
   "source": [
    "The above plot above plot confirm our interpretation. Most of the houses are in Metropolitan area and within 35 unit distance from commercial area have high price whereas protery at Victoria area are have less price and more distance."
   ]
  },
  {
   "cell_type": "markdown",
   "metadata": {},
   "source": [
    "## 6. Conclusion"
   ]
  },
  {
   "cell_type": "markdown",
   "metadata": {},
   "source": [
    "We observe that: \n",
    "###### * The target feature (price) is positively related to rooms in house and have negative relation with the distance from commercial and business centers.\n",
    "\n",
    "###### * Melbourne is divide into Metropolitan and Victotia area. The price of Metropolitan area is higher. \n",
    "\n",
    "###### * The method by which property is sold does not have much affect on the price of the house.\n",
    "\n",
    "###### * Type of house has relation with the price. It is known that single and duplex house are cheaper than villas or townhouse.\n",
    "\n",
    "More analysis need to be done for further confimation."
   ]
  },
  {
   "cell_type": "markdown",
   "metadata": {},
   "source": [
    "### **** Thank you for reading my notebook. If you like it, please upvote :)****"
   ]
  }
 ],
 "metadata": {
  "kernelspec": {
   "display_name": "Python 3 (ipykernel)",
   "language": "python",
   "name": "python3"
  },
  "language_info": {
   "codemirror_mode": {
    "name": "ipython",
    "version": 3
   },
   "file_extension": ".py",
   "mimetype": "text/x-python",
   "name": "python",
   "nbconvert_exporter": "python",
   "pygments_lexer": "ipython3",
   "version": "3.10.16"
  }
 },
 "nbformat": 4,
 "nbformat_minor": 4
}