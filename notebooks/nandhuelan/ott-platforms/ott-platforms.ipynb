{
 "cells": [
  {
   "cell_type": "code",
   "execution_count": null,
   "metadata": {},
   "outputs": [],
   "source": [
    "import os\n",
    "\n",
    "def scale_input_data(scale_factor):\n",
    "  file_bases = ['./input/netflix_titles_nov_2019']\n",
    "  for file_base in file_bases:\n",
    "    import pandas as pd\n",
    "    import shutil\n",
    "    if scale_factor == 1.0:\n",
    "      shutil.copyfile(file_base + '.csv', file_base + '.scaled.csv')\n",
    "      continue\n",
    "    df_to_scale = pd.read_csv(file_base + '.csv')\n",
    "    new_num_rows = int(scale_factor * len(df_to_scale))\n",
    "    if scale_factor <= 1.0:\n",
    "      df_to_scale = df_to_scale.iloc[:new_num_rows]\n",
    "    else:\n",
    "      while len(df_to_scale) < new_num_rows:\n",
    "        df_to_scale = pd.concat([df_to_scale, df_to_scale[:min(new_num_rows - len(df_to_scale), len(df_to_scale))]])\n",
    "    df_to_scale.to_csv(file_base + '.scaled.csv', index=False)\n",
    "\n",
    "if 'INPUT_SCALE_FACTOR' in os.environ:\n",
    "  scale_input_data(float(os.environ['INPUT_SCALE_FACTOR']))"
   ]
  },
  {
   "cell_type": "markdown",
   "metadata": {},
   "source": [
    "<img src='https://encrypted-tbn0.gstatic.com/images?q=tbn%3AANd9GcSj_mAsgRbFgy9KRI54xceXq-g8sN9an4ETmBalpMdpDsa9LBKC' width=1000>\n",
    "<div align=\"center\"><font size=\"3\">Source: Google</font></div>\n",
    "\n"
   ]
  },
  {
   "cell_type": "markdown",
   "metadata": {},
   "source": [
    "<font color='#315dad' size=5>Netflix - Trivia's</font><br>\n",
    "\n",
    "* Netflix was originally called \"kibble.\"\n",
    "* It's technically been around longer than Google. \n",
    "* Netflix is responsible for 15% of the world's internet traffic.\n",
    "* The streaming service once hosted its own awards ceremony, The Flixies\n",
    "* You can take a test to become a translator for Netflix."
   ]
  },
  {
   "cell_type": "markdown",
   "metadata": {},
   "source": [
    "<font color='#31a04b' size=4>Interesting??? Now let's get started</font><br>"
   ]
  },
  {
   "cell_type": "markdown",
   "metadata": {},
   "source": [
    "<font color='#2e2a28' size=4>This kernel will always be a work in progress. Kindly upvote it if you find it useful! Thanks</font><br>"
   ]
  },
  {
   "cell_type": "markdown",
   "metadata": {},
   "source": [
    "## Table of Content:\n",
    "\n",
    "* Objective\n",
    "\n",
    "* Data manipulation\n",
    "    *  Data loading\n",
    "    *  Data viz \n",
    "    *  Data processing\n",
    "    \n",
    "* Recommendation systems"
   ]
  },
  {
   "cell_type": "markdown",
   "metadata": {},
   "source": [
    "<font color='#00000' size=5>Objective:</font><br>"
   ]
  },
  {
   "cell_type": "markdown",
   "metadata": {},
   "source": [
    "<p>Learn from data and recommend best TV shows to users, based on self & others behaviour </p>"
   ]
  },
  {
   "cell_type": "markdown",
   "metadata": {},
   "source": [
    "<font color='#671a1a' size=5>Streaming libraries:</font><br>"
   ]
  },
  {
   "cell_type": "code",
   "execution_count": 1,
   "metadata": {
    "_cell_guid": "b1076dfc-b9ad-4769-8c92-a6c4dae69d19",
    "_uuid": "8f2839f25d086af736a60e9eeb907d3b93b6e0e5"
   },
   "outputs": [],
   "source": [
    "'''Import basic modules.'''\n",
    "# import pandas as pd\n",
    "exec(os.environ['IREWR_IMPORTS'])\n",
    "import numpy as np\n",
    "\n",
    "\n",
    "# ALEX: remove plotting, ML code, extra display code\n",
    "# '''Customize visualization\n",
    "# Seaborn and matplotlib visualization.'''\n",
    "# import matplotlib.pyplot as plt\n",
    "# import seaborn as sns\n",
    "# sns.set_style(\"whitegrid\")\n",
    "# %matplotlib inline\n",
    "\n",
    "# '''Plotly visualization .'''\n",
    "# import plotly.offline as py\n",
    "# from plotly.offline import iplot, init_notebook_mode\n",
    "# import plotly.graph_objs as go\n",
    "# py.init_notebook_mode(connected = True) # Required to use plotly offline in jupyter notebook\n",
    "\n",
    "# import cufflinks as cf #importing plotly and cufflinks in offline mode  \n",
    "# import plotly.offline  \n",
    "# cf.go_offline()  \n",
    "# cf.set_config_file(offline=False, world_readable=True)\n",
    "\n",
    "# '''Display markdown formatted output like bold, italic bold etc.'''\n",
    "# from IPython.display import Markdown,HTML\n",
    "# import matplotlib.gridspec as gridspec # to do the grid of plots\n",
    "\n",
    "# from sklearn.feature_extraction.text import TfidfVectorizer\n",
    "# from sklearn.metrics.pairwise import linear_kernel\n",
    "# from sklearn.feature_extraction.text import CountVectorizer\n",
    "# from sklearn.metrics.pairwise import cosine_similarity\n",
    "\n",
    "# def bold(string):\n",
    "#     display(Markdown(string))"
   ]
  },
  {
   "cell_type": "code",
   "execution_count": 2,
   "metadata": {
    "_cell_guid": "79c7e3d0-c299-4dcb-8224-4455121ee9b0",
    "_uuid": "d629ff2d2480ee46fbb7e2d37f6b5fab8052498a"
   },
   "outputs": [],
   "source": [
    "netdata=pd.read_csv('./input/netflix_titles_nov_2019.scaled.csv')"
   ]
  },
  {
   "cell_type": "code",
   "execution_count": 3,
   "metadata": {},
   "outputs": [],
   "source": [
    "netdata[\"date_added\"] = pd.to_datetime(netdata['date_added'])\n",
    "netdata['year_added'] = netdata['date_added'].dt.year\n",
    "netdata['month_added'] = netdata['date_added'].dt.month\n",
    "\n",
    "netdata['season_count'] = netdata.apply(lambda x : x['duration'].split(\" \")[0] if \"Season\" in x['duration'] else \"\", axis = 1)\n",
    "netdata['duration'] = netdata.apply(lambda x : x['duration'].split(\" \")[0] if \"Season\" not in x['duration'] else \"\", axis = 1)\n",
    "netdata['duration'] =netdata.apply(lambda x : '0' if x['duration']=='' else x['duration'],axis=1)\n",
    "netdata['duration'] =  netdata['duration'].astype(float)"
   ]
  },
  {
   "cell_type": "markdown",
   "metadata": {},
   "source": [
    "<font color='#dcc77d' size=5>Binging:</font><br>"
   ]
  },
  {
   "cell_type": "code",
   "execution_count": 4,
   "metadata": {},
   "outputs": [],
   "source": [
    "# ALEX: remove extra display code\n",
    "# display(HTML(f\"\"\"\n",
    "   \n",
    "#         <ul class=\"list-group\">\n",
    "#           <li class=\"list-group-item disabled\" aria-disabled=\"true\"><h4>Dataset preview</h4></li>\n",
    "#           <li class=\"list-group-item\"><h4>Number of rows in the dataset: <span class=\"label label-primary\">{ netdata.shape[0]:,}</span></h4></li>\n",
    "#           <li class=\"list-group-item\"> <h4>Number of columns in the dataset: <span class=\"label label-primary\">{netdata.shape[1]}</span></h4></li>\n",
    "#           <li class=\"list-group-item\"><h4>Number of unique types in the dataset: <span class=\"label label-success\">{ netdata['type'].nunique():,}</span></h4></li>\n",
    "#         </ul>\n",
    "  \n",
    "#     \"\"\"))\n",
    "_ = netdata.shape[0]\n",
    "_ = netdata.shape[1]\n",
    "_ = netdata['type'].nunique()"
   ]
  },
  {
   "cell_type": "code",
   "execution_count": 5,
   "metadata": {},
   "outputs": [],
   "source": [
    "temp = netdata['rating'].value_counts()\n",
    "df = pd.DataFrame({'rating': temp.index,\n",
    "                   'values': temp.values\n",
    "                  })\n",
    "# ALEX: remove plotting\n",
    "# df.iplot(kind='pie',labels='rating',values='values', title='Distribution of ratings in data')"
   ]
  },
  {
   "cell_type": "markdown",
   "metadata": {},
   "source": [
    "> <font color='#702963' size=3>TV-14:</font><br>\n",
    "Programs rated TV-14 contains material that parents or adult guardians may find unsuitable for children under the age of 14.\n",
    "\n",
    "> <font color='#702963' size=3>TV-G:</font><br> \n",
    "Netflix has stamped them with an age certification of 'G', indicating they're appropriate for general audiences.\n",
    "\n",
    "> <font color='#702963' size=3>TV-Y:</font><br> \n",
    "A TV-Y rating means that programming is appropriate for children of all ages. TV-Y7 indicates that programming is designed for chil- dren ages 7 and older. An additional rating, TV-Y7-FV, is used to indicate that a program contains \u201cfantasy violence\u201d that may be more intense or combative than other TV-Y7 programs.\n",
    "\n",
    "> <font color='#702963' size=3>TV-MA:</font><br> \n",
    "\"TV-MA\" is a rating assigned by the TV Parental Guidelines to a television program that was designed for mature audiences only. Using this rating, the TVPG warns viewers that the show's content contains foul language, graphic violence, graphic sexual activity or any combination of these elements.\n",
    "\n",
    "> <font color='#702963' size=3>TV-PG:</font><br> \n",
    "TV-PG means that a show can be viewed by younger audiences but shouldn't be seen without their parents in the room\n",
    "\n",
    "> <font color='#702963' size=3>R:</font><br> \n",
    "R (restricted): No one under 17 admitted without an accompanying parent or guardian. This rating is given for frequent strong language and violence, nudity for sexual purposes, and drug abuse\n",
    "\n",
    "> <font color='#702963' size=3>NR- Not rated, UR- Unrated</font><br> \n",
    "\n",
    "> <font color='#702963' size=3>NC-17:</font><br> \n",
    "An NC-17 rating means the content isn't suitable for children under 17 and younger. These are movies meant to be watched after your children have long since been tucked in and are sleeping in their beds. Netflix is streaming several NC-17 movies for the adults in your family to enjoy.\n"
   ]
  },
  {
   "cell_type": "markdown",
   "metadata": {},
   "source": [
    "> **It largerly caters to the matured audiences only. Streaming platforms has lot of scopes to cover contents under 15 age groups which will have huge turn around for them**"
   ]
  },
  {
   "cell_type": "code",
   "execution_count": 6,
   "metadata": {},
   "outputs": [],
   "source": [
    "#Credits: https://www.kaggle.com/shivamb/a-visual-and-insightful-journey-donorschoose/data\n",
    "\n",
    "t = netdata['month_added'].value_counts()\n",
    "\n",
    "lObjectsALLcnts = list(t.values)\n",
    "\n",
    "lObjectsALLlbls = list(t.index)\n",
    "# ALEX: remove plotting and non dataframe code\n",
    "# mapp1 = {1:'Jan',2:'Feb',3:'Mar',4:'Apr',5:'May',6:'Jun',7:'Jul',8:'Aug',9:'Sep',10:'Oct',11:'Nov',12:'Dec'}\n",
    "# lObjectsALLlbls = [mapp1[x] for x in lObjectsALLlbls]\n",
    "\n",
    "# iN = len(lObjectsALLcnts)\n",
    "# arrCnts = np.array(lObjectsALLcnts)\n",
    "\n",
    "# theta=np.arange(0, 2*np.pi, 2*np.pi/iN)\n",
    "# width = (2*np.pi)/iN *0.5\n",
    "# bottom = 50\n",
    "\n",
    "# fig = plt.figure(figsize=(8,8))\n",
    "# ax = fig.add_axes([0.2, 0.1, 1, 0.9], polar=True)\n",
    "# fig.suptitle('Month released', fontsize=16)\n",
    "# bars = ax.bar(theta, arrCnts, width=width, bottom=bottom, color='#eb6951')\n",
    "# plt.axis('off')\n",
    "\n",
    "# rotations = np.rad2deg(theta)\n",
    "# for x, bar, rotation, label in zip(theta, bars, rotations, lObjectsALLlbls):\n",
    "#     lab = ax.text(x,bottom+bar.get_height() , label, ha='left', va='center', rotation=rotation, rotation_mode=\"anchor\",)   \n",
    "# plt.show()"
   ]
  },
  {
   "cell_type": "markdown",
   "metadata": {},
   "source": [
    "> **Lot of contents are getting released in Oct and Nov compared to other months**"
   ]
  },
  {
   "cell_type": "code",
   "execution_count": 7,
   "metadata": {},
   "outputs": [],
   "source": [
    "df1=netdata[netdata['type']=='TV Show']\n",
    "df2=netdata[netdata['type']=='Movie']\n",
    "\n",
    "df1=df1.groupby('date_added')['title'].nunique().sort_values()\n",
    "df2=df2.groupby('date_added')['title'].nunique().sort_values()\n",
    "\n",
    "# ALEX: remove plotting\n",
    "# trace1 = go.Scatter(\n",
    "#     x = df1.index,\n",
    "#     y = df1.values,\n",
    "#     mode = 'markers',\n",
    "#     name = 'Tv shows'\n",
    "# )\n",
    "\n",
    "# trace2 = go.Scatter(\n",
    "#     x = df2.index,\n",
    "#     y = df2.values,\n",
    "#     mode = 'markers',\n",
    "#     name = 'Movies'\n",
    "# )\n",
    "\n",
    "# layout = go.Layout(template= \"plotly_dark\", title = 'TV Shows', xaxis = dict(title = 'Years'))\n",
    "# fig = go.Figure(data = [trace1,trace2], layout = layout)\n",
    "# fig.show()\n",
    "_ = df1.index\n",
    "_ = df1.values\n",
    "_ = df2.index\n",
    "_ = df2.values"
   ]
  },
  {
   "cell_type": "markdown",
   "metadata": {},
   "source": [
    "> **More movies are getting released since mid 2017 than TV shows. Is this the end of tv shows?**"
   ]
  },
  {
   "cell_type": "code",
   "execution_count": 8,
   "metadata": {},
   "outputs": [
    {
     "data": {
      "text/html": [
       "<div>\n",
       "<style scoped>\n",
       "    .dataframe tbody tr th:only-of-type {\n",
       "        vertical-align: middle;\n",
       "    }\n",
       "\n",
       "    .dataframe tbody tr th {\n",
       "        vertical-align: top;\n",
       "    }\n",
       "\n",
       "    .dataframe thead th {\n",
       "        text-align: right;\n",
       "    }\n",
       "</style>\n",
       "<table border=\"1\" class=\"dataframe\">\n",
       "  <thead>\n",
       "    <tr style=\"text-align: right;\">\n",
       "      <th>year_added</th>\n",
       "      <th>2008.0</th>\n",
       "      <th>2009.0</th>\n",
       "      <th>2010.0</th>\n",
       "      <th>2011.0</th>\n",
       "      <th>2012.0</th>\n",
       "      <th>2013.0</th>\n",
       "      <th>2014.0</th>\n",
       "      <th>2015.0</th>\n",
       "      <th>2016.0</th>\n",
       "      <th>2017.0</th>\n",
       "      <th>2018.0</th>\n",
       "      <th>2019.0</th>\n",
       "      <th>All</th>\n",
       "    </tr>\n",
       "    <tr>\n",
       "      <th>type</th>\n",
       "      <th></th>\n",
       "      <th></th>\n",
       "      <th></th>\n",
       "      <th></th>\n",
       "      <th></th>\n",
       "      <th></th>\n",
       "      <th></th>\n",
       "      <th></th>\n",
       "      <th></th>\n",
       "      <th></th>\n",
       "      <th></th>\n",
       "      <th></th>\n",
       "      <th></th>\n",
       "    </tr>\n",
       "  </thead>\n",
       "  <tbody>\n",
       "    <tr>\n",
       "      <th>Movie</th>\n",
       "      <td>1</td>\n",
       "      <td>2</td>\n",
       "      <td>1</td>\n",
       "      <td>13</td>\n",
       "      <td>4</td>\n",
       "      <td>6</td>\n",
       "      <td>19</td>\n",
       "      <td>58</td>\n",
       "      <td>264</td>\n",
       "      <td>913</td>\n",
       "      <td>1290</td>\n",
       "      <td>1367</td>\n",
       "      <td>3938</td>\n",
       "    </tr>\n",
       "    <tr>\n",
       "      <th>TV Show</th>\n",
       "      <td>1</td>\n",
       "      <td>0</td>\n",
       "      <td>0</td>\n",
       "      <td>0</td>\n",
       "      <td>3</td>\n",
       "      <td>3</td>\n",
       "      <td>0</td>\n",
       "      <td>16</td>\n",
       "      <td>148</td>\n",
       "      <td>271</td>\n",
       "      <td>339</td>\n",
       "      <td>476</td>\n",
       "      <td>1257</td>\n",
       "    </tr>\n",
       "    <tr>\n",
       "      <th>All</th>\n",
       "      <td>2</td>\n",
       "      <td>2</td>\n",
       "      <td>1</td>\n",
       "      <td>13</td>\n",
       "      <td>7</td>\n",
       "      <td>9</td>\n",
       "      <td>19</td>\n",
       "      <td>74</td>\n",
       "      <td>412</td>\n",
       "      <td>1184</td>\n",
       "      <td>1629</td>\n",
       "      <td>1843</td>\n",
       "      <td>5195</td>\n",
       "    </tr>\n",
       "  </tbody>\n",
       "</table>\n",
       "</div>"
      ],
      "text/plain": [
       "year_added  2008.0  2009.0  2010.0  2011.0  2012.0  2013.0  2014.0  2015.0  \\\n",
       "type                                                                         \n",
       "Movie            1       2       1      13       4       6      19      58   \n",
       "TV Show          1       0       0       0       3       3       0      16   \n",
       "All              2       2       1      13       7       9      19      74   \n",
       "\n",
       "year_added  2016.0  2017.0  2018.0  2019.0   All  \n",
       "type                                              \n",
       "Movie          264     913    1290    1367  3938  \n",
       "TV Show        148     271     339     476  1257  \n",
       "All            412    1184    1629    1843  5195  "
      ]
     },
     "execution_count": 8,
     "metadata": {},
     "output_type": "execute_result"
    }
   ],
   "source": [
    "# ALEX: remove extra display code\n",
    "# pd.crosstab(netdata.type,netdata.year_added,margins=True).style.background_gradient(cmap='summer_r')\n",
    "pd.crosstab(netdata.type,netdata.year_added,margins=True)"
   ]
  },
  {
   "cell_type": "markdown",
   "metadata": {},
   "source": [
    "> **This again tells the same thing about movies and tv shows over the years**"
   ]
  },
  {
   "cell_type": "code",
   "execution_count": 9,
   "metadata": {},
   "outputs": [
    {
     "data": {
      "text/html": [
       "<div>\n",
       "<style scoped>\n",
       "    .dataframe tbody tr th:only-of-type {\n",
       "        vertical-align: middle;\n",
       "    }\n",
       "\n",
       "    .dataframe tbody tr th {\n",
       "        vertical-align: top;\n",
       "    }\n",
       "\n",
       "    .dataframe thead th {\n",
       "        text-align: right;\n",
       "    }\n",
       "</style>\n",
       "<table border=\"1\" class=\"dataframe\">\n",
       "  <thead>\n",
       "    <tr style=\"text-align: right;\">\n",
       "      <th>season_count</th>\n",
       "      <th></th>\n",
       "      <th>1</th>\n",
       "      <th>10</th>\n",
       "      <th>11</th>\n",
       "      <th>12</th>\n",
       "      <th>13</th>\n",
       "      <th>14</th>\n",
       "      <th>15</th>\n",
       "      <th>2</th>\n",
       "      <th>3</th>\n",
       "      <th>4</th>\n",
       "      <th>5</th>\n",
       "      <th>6</th>\n",
       "      <th>7</th>\n",
       "      <th>8</th>\n",
       "      <th>9</th>\n",
       "      <th>All</th>\n",
       "    </tr>\n",
       "    <tr>\n",
       "      <th>type</th>\n",
       "      <th></th>\n",
       "      <th></th>\n",
       "      <th></th>\n",
       "      <th></th>\n",
       "      <th></th>\n",
       "      <th></th>\n",
       "      <th></th>\n",
       "      <th></th>\n",
       "      <th></th>\n",
       "      <th></th>\n",
       "      <th></th>\n",
       "      <th></th>\n",
       "      <th></th>\n",
       "      <th></th>\n",
       "      <th></th>\n",
       "      <th></th>\n",
       "      <th></th>\n",
       "    </tr>\n",
       "  </thead>\n",
       "  <tbody>\n",
       "    <tr>\n",
       "      <th>Movie</th>\n",
       "      <td>3939</td>\n",
       "      <td>0</td>\n",
       "      <td>0</td>\n",
       "      <td>0</td>\n",
       "      <td>0</td>\n",
       "      <td>0</td>\n",
       "      <td>0</td>\n",
       "      <td>0</td>\n",
       "      <td>0</td>\n",
       "      <td>0</td>\n",
       "      <td>0</td>\n",
       "      <td>0</td>\n",
       "      <td>0</td>\n",
       "      <td>0</td>\n",
       "      <td>0</td>\n",
       "      <td>0</td>\n",
       "      <td>3939</td>\n",
       "    </tr>\n",
       "    <tr>\n",
       "      <th>TV Show</th>\n",
       "      <td>0</td>\n",
       "      <td>1259</td>\n",
       "      <td>3</td>\n",
       "      <td>3</td>\n",
       "      <td>2</td>\n",
       "      <td>2</td>\n",
       "      <td>1</td>\n",
       "      <td>2</td>\n",
       "      <td>298</td>\n",
       "      <td>157</td>\n",
       "      <td>60</td>\n",
       "      <td>46</td>\n",
       "      <td>21</td>\n",
       "      <td>21</td>\n",
       "      <td>16</td>\n",
       "      <td>7</td>\n",
       "      <td>1898</td>\n",
       "    </tr>\n",
       "    <tr>\n",
       "      <th>All</th>\n",
       "      <td>3939</td>\n",
       "      <td>1259</td>\n",
       "      <td>3</td>\n",
       "      <td>3</td>\n",
       "      <td>2</td>\n",
       "      <td>2</td>\n",
       "      <td>1</td>\n",
       "      <td>2</td>\n",
       "      <td>298</td>\n",
       "      <td>157</td>\n",
       "      <td>60</td>\n",
       "      <td>46</td>\n",
       "      <td>21</td>\n",
       "      <td>21</td>\n",
       "      <td>16</td>\n",
       "      <td>7</td>\n",
       "      <td>5837</td>\n",
       "    </tr>\n",
       "  </tbody>\n",
       "</table>\n",
       "</div>"
      ],
      "text/plain": [
       "season_count           1  10  11  12  13  14  15    2    3   4   5   6   7  \\\n",
       "type                                                                         \n",
       "Movie         3939     0   0   0   0   0   0   0    0    0   0   0   0   0   \n",
       "TV Show          0  1259   3   3   2   2   1   2  298  157  60  46  21  21   \n",
       "All           3939  1259   3   3   2   2   1   2  298  157  60  46  21  21   \n",
       "\n",
       "season_count   8  9   All  \n",
       "type                       \n",
       "Movie          0  0  3939  \n",
       "TV Show       16  7  1898  \n",
       "All           16  7  5837  "
      ]
     },
     "execution_count": 9,
     "metadata": {},
     "output_type": "execute_result"
    }
   ],
   "source": [
    "# ALEX: remove extra display code\n",
    "# pd.crosstab(netdata.type,netdata.season_count,margins=True).style.background_gradient(cmap='RdYlGn')\n",
    "pd.crosstab(netdata.type,netdata.season_count,margins=True)\n"
   ]
  },
  {
   "cell_type": "markdown",
   "metadata": {},
   "source": [
    "> **Almost all tv shows are having 1/2/3 seasons as audience binge watches the entire series in a day. Mini series will be good catch for the audiences. Remember chernobyl?**"
   ]
  },
  {
   "cell_type": "markdown",
   "metadata": {},
   "source": [
    "<font color='#702963' size=3>Movie duration</font><br> "
   ]
  },
  {
   "cell_type": "code",
   "execution_count": 10,
   "metadata": {},
   "outputs": [],
   "source": [
    "# ALEX: remove plotting\n",
    "# f,ax=plt.subplots(1,1,figsize=(10,5))\n",
    "# netdata[netdata['type']=='Movie'].duration.plot.hist(ax=ax,bins=20,edgecolor='black',color='red')\n",
    "# ax.set_title('Movie')\n",
    "_ = netdata[netdata['type']=='Movie'].duration"
   ]
  },
  {
   "cell_type": "markdown",
   "metadata": {},
   "source": [
    "> **Roughly all the movie durations are around 100mins**"
   ]
  },
  {
   "cell_type": "markdown",
   "metadata": {},
   "source": [
    "<font color='#702963' size=3>Correlation between variables</font><br> "
   ]
  },
  {
   "cell_type": "code",
   "execution_count": 11,
   "metadata": {},
   "outputs": [
    {
     "name": "stderr",
     "output_type": "stream",
     "text": [
      "/tmp/ipykernel_21688/363908679.py:8: FutureWarning: The default value of numeric_only in DataFrame.corr is deprecated. In a future version, it will default to False. Select only valid columns or specify the value of numeric_only to silence this warning.\n",
      "  _ = netdata[cols].corr()\n"
     ]
    }
   ],
   "source": [
    "cols=['country','type','year_added','season_count','release_year','rating','duration','month_added']\n",
    "\n",
    "# ALEX: remove plotting\n",
    "# sns.heatmap(netdata[cols].corr(),annot=True,cmap='RdYlGn',linewidths=0.2)\n",
    "# fig=plt.gcf()\n",
    "# fig.set_size_inches(10,8)\n",
    "# plt.show()\n",
    "_ = netdata[cols].corr()"
   ]
  },
  {
   "cell_type": "markdown",
   "metadata": {},
   "source": [
    "> **Not much of correlation between features**"
   ]
  },
  {
   "cell_type": "markdown",
   "metadata": {},
   "source": [
    "<font color='#6f3fdd' size=5>Recommendation system</font><br> "
   ]
  },
  {
   "cell_type": "markdown",
   "metadata": {},
   "source": [
    "I will give a brief overview of recommendation systems. This is completely inspired from this excellent [kernel](https://www.kaggle.com/ibtesama/getting-started-with-a-movie-recommendation-system)"
   ]
  },
  {
   "cell_type": "markdown",
   "metadata": {},
   "source": [
    "> There are basically three types of recommender systems:-\n",
    "> \n",
    "> **Demographic Filtering**- They offer generalized recommendations to every user, based on movie popularity and/or genre. The System recommends the same movies to users with similar demographic features. Since each user is different , this approach is considered to be too simple. The basic idea behind this system is that movies that are more popular and critically acclaimed will have a higher probability of being liked by the average audience.\n",
    "> \n",
    "> **Content Based Filtering**- They suggest similar items based on a particular item. This system uses item metadata, such as genre, director, description, actors, etc. for movies, to make these recommendations. The general idea behind these recommender systems is that if a person liked a particular item, he or she will also like an item that is similar to it.\n",
    "> \n",
    "> **Collaborative Filtering**- This system matches persons with similar interests and provides recommendations based on this matching. Collaborative filters do not require item metadata like its content-based counterparts."
   ]
  },
  {
   "cell_type": "markdown",
   "metadata": {},
   "source": [
    "<font color='#633f5c' size=4>Content based filtering</font><br> "
   ]
  },
  {
   "cell_type": "markdown",
   "metadata": {},
   "source": [
    "<img src='https://miro.medium.com/max/1642/1*BME1JjIlBEAI9BV5pOO5Mg.png' width=500>\n",
    "<div align=\"center\"><font size=\"3\">Source: Google</font></div>\n",
    "\n"
   ]
  },
  {
   "cell_type": "code",
   "execution_count": 12,
   "metadata": {},
   "outputs": [],
   "source": [
    "#Filling nan values with empty string in director,country,cast\n",
    "nanlist=['cast','director','country']\n",
    "metalist=['cast','listed_in','director']\n",
    "\n",
    "nancols=netdata[nanlist].fillna(' ')\n",
    "\n",
    "netdata=netdata.drop(nanlist,axis=1)\n",
    "filterdata=pd.concat([netdata,nancols],axis=1)\n",
    "\n",
    "#Few processing\n",
    "filterdata['cast']=filterdata['cast'].apply(lambda x: x.split(','))\n",
    "filterdata['director']=filterdata['director'].apply(lambda x: x.split(','))\n",
    "filterdata['country']=filterdata['country'].apply(lambda x: x.split(','))"
   ]
  },
  {
   "cell_type": "code",
   "execution_count": 13,
   "metadata": {},
   "outputs": [],
   "source": [
    "#Define a TF-IDF Vectorizer Object. Remove all english stop words such as 'the', 'a'\n",
    "# ALEX: remove ML code\n",
    "# tfidf = TfidfVectorizer(stop_words='english')\n",
    "\n",
    "# #Construct the required TF-IDF matrix by fitting and transforming the data\n",
    "# tfidf_matrix = tfidf.fit_transform(filterdata['description'])\n",
    "\n",
    "# #Output the shape of tfidf_matrix\n",
    "# tfidf_matrix.shape"
   ]
  },
  {
   "cell_type": "markdown",
   "metadata": {},
   "source": [
    "<p>calculating cosine similarity based on tf-idf for content similarity"
   ]
  },
  {
   "cell_type": "code",
   "execution_count": 14,
   "metadata": {},
   "outputs": [],
   "source": [
    "# Compute the cosine similarity matrix\n",
    "# ALEX: remove ML code\n",
    "# cosine_sim = linear_kernel(tfidf_matrix, tfidf_matrix)"
   ]
  },
  {
   "cell_type": "code",
   "execution_count": 15,
   "metadata": {},
   "outputs": [],
   "source": [
    "#Construct a reverse map of indices and movie titles\n",
    "indices = pd.Series(filterdata.index, index=filterdata['title']).drop_duplicates()"
   ]
  },
  {
   "cell_type": "code",
   "execution_count": 16,
   "metadata": {},
   "outputs": [],
   "source": [
    "# Function that takes in movie title as input and outputs most similar movies\n",
    "# ALEX: remove ML code\n",
    "# def get_recommendations(title, cosine_sim=cosine_sim):\n",
    "def get_recommendations(title):\n",
    "\n",
    "    \n",
    "    # Get the index of the movie that matches the title\n",
    "    idx = indices[title]\n",
    "\n",
    "    # Get the pairwsie similarity scores of all movies with that movie\n",
    "# ALEX: remove ML code\n",
    "#     sim_scores = list(enumerate(cosine_sim[idx]))\n",
    "\n",
    "#     # Sort the movies based on the similarity scores\n",
    "#     sim_scores = sorted(sim_scores, key=lambda x: x[1], reverse=True)\n",
    "\n",
    "#     # Get the scores of the 10 most similar movies\n",
    "#     sim_scores = sim_scores[1:11]\n",
    "\n",
    "#     # Get the movie indices\n",
    "#     movie_indices = [i[0] for i in sim_scores]\n",
    "\n",
    "#     # Return the top 10 most similar movies\n",
    "#     return filterdata['title'].iloc[movie_indices]\n"
   ]
  },
  {
   "cell_type": "code",
   "execution_count": 17,
   "metadata": {},
   "outputs": [],
   "source": [
    "get_recommendations('The Matrix')"
   ]
  },
  {
   "cell_type": "markdown",
   "metadata": {},
   "source": [
    "We are getting base results but there are other matrix movies which are not considered here and also the one which was ranked is also at the bottom. Let's add meta features and improve the results"
   ]
  },
  {
   "cell_type": "markdown",
   "metadata": {},
   "source": [
    "<font color='#633f5c' size=3>Adding meta features</font><br> "
   ]
  },
  {
   "cell_type": "code",
   "execution_count": 18,
   "metadata": {},
   "outputs": [],
   "source": [
    "def create_meta(x):\n",
    "    return ' '.join(x['cast'] + x['director'] +x['country'])\n",
    "\n",
    "filterdata['meta'] = filterdata.apply(create_meta, axis=1)"
   ]
  },
  {
   "cell_type": "markdown",
   "metadata": {},
   "source": [
    "<p> Apply count vectorizer for these features as the frequency of actor/ director should not be weighted down across the length of the documents"
   ]
  },
  {
   "cell_type": "code",
   "execution_count": 19,
   "metadata": {},
   "outputs": [],
   "source": [
    "# ALEX: remove ML code\n",
    "# count = CountVectorizer(stop_words='english')\n",
    "# count_matrix = count.fit_transform(filterdata['meta'])\n",
    "_ = filterdata['meta']"
   ]
  },
  {
   "cell_type": "code",
   "execution_count": 20,
   "metadata": {},
   "outputs": [],
   "source": [
    "# ALEX: remove ML code\n",
    "# cosine_sim2 = cosine_similarity(count_matrix, count_matrix)"
   ]
  },
  {
   "cell_type": "code",
   "execution_count": 21,
   "metadata": {},
   "outputs": [],
   "source": [
    "# ALEX: remove ML code\n",
    "# get_recommendations('The Matrix',cosine_sim+cosine_sim2)\n",
    "get_recommendations('The Matrix')"
   ]
  },
  {
   "cell_type": "markdown",
   "metadata": {},
   "source": [
    "Now we could get the matrix movies as top recommendations"
   ]
  },
  {
   "cell_type": "markdown",
   "metadata": {},
   "source": [
    "<font color='#633f5c' size=4>More updates soon!!</font><br> "
   ]
  },
  {
   "cell_type": "code",
   "execution_count": null,
   "metadata": {},
   "outputs": [],
   "source": []
  }
 ],
 "metadata": {
  "kernelspec": {
   "display_name": "Python 3 (ipykernel)",
   "language": "python",
   "name": "python3"
  },
  "language_info": {
   "codemirror_mode": {
    "name": "ipython",
    "version": 3
   },
   "file_extension": ".py",
   "mimetype": "text/x-python",
   "name": "python",
   "nbconvert_exporter": "python",
   "pygments_lexer": "ipython3",
   "version": "3.10.16"
  }
 },
 "nbformat": 4,
 "nbformat_minor": 1
}