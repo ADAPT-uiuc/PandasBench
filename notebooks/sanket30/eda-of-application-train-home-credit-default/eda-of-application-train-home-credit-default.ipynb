{
 "cells": [
  {
   "cell_type": "code",
   "execution_count": null,
   "metadata": {},
   "outputs": [],
   "source": [
    "import os\n",
    "\n",
    "def scale_input_data(scale_factor):\n",
    "  file_bases = ['./input/application_train']\n",
    "  for file_base in file_bases:\n",
    "    import pandas as pd\n",
    "    import shutil\n",
    "    if scale_factor == 1.0:\n",
    "      shutil.copyfile(file_base + '.csv', file_base + '.scaled.csv')\n",
    "      continue\n",
    "    df_to_scale = pd.read_csv(file_base + '.csv')\n",
    "    new_num_rows = int(scale_factor * len(df_to_scale))\n",
    "    if scale_factor <= 1.0:\n",
    "      df_to_scale = df_to_scale.iloc[:new_num_rows]\n",
    "    else:\n",
    "      while len(df_to_scale) < new_num_rows:\n",
    "        df_to_scale = pd.concat([df_to_scale, df_to_scale[:min(new_num_rows - len(df_to_scale), len(df_to_scale))]])\n",
    "    df_to_scale.to_csv(file_base + '.scaled.csv', index=False)\n",
    "\n",
    "if 'INPUT_SCALE_FACTOR' in os.environ:\n",
    "  scale_input_data(float(os.environ['INPUT_SCALE_FACTOR']))"
   ]
  },
  {
   "cell_type": "code",
   "execution_count": 1,
   "metadata": {
    "_uuid": "00cecd1f17f255b7b392a7545dbc3dd677e42ce3"
   },
   "outputs": [],
   "source": [
    "# import pandas as pd\n",
    "exec(os.environ['IREWR_IMPORTS'])\n",
    "import numpy as np\n",
    "# ALEX: remove ML code, plotting\n",
    "# from sklearn.preprocessing import LabelEncoder\n",
    "# from sklearn.model_selection import train_test_split\n",
    "# from sklearn.ensemble import RandomForestClassifier\n",
    "# import matplotlib.pyplot as plt\n",
    "# %matplotlib inline\n",
    "# import seaborn as sns\n",
    "# plt.style.use('bmh')\n",
    "# plt.style.use('ggplot')\n",
    "# plt.rcParams['figure.figsize'] = 20, 10"
   ]
  },
  {
   "cell_type": "code",
   "execution_count": 2,
   "metadata": {
    "_uuid": "992cda002ad6f21aee1d0bd2f2dc929572446774"
   },
   "outputs": [],
   "source": [
    "def nullremove(df):\n",
    "    for i in range(0,len(df.columns)):\n",
    "        print(i)\n",
    "    "
   ]
  },
  {
   "cell_type": "code",
   "execution_count": 3,
   "metadata": {
    "_uuid": "c27745a5f33828848c9f2598dff114b5d828d64a"
   },
   "outputs": [],
   "source": [
    "def descr(df):\n",
    "    print(df.describe().round())"
   ]
  },
  {
   "cell_type": "code",
   "execution_count": 4,
   "metadata": {
    "_uuid": "3049d4d8faed5a10ce7d323801e9659d18686b85"
   },
   "outputs": [],
   "source": [
    "app=pd.read_csv(\"./input/application_train.scaled.csv\")"
   ]
  },
  {
   "cell_type": "code",
   "execution_count": 5,
   "metadata": {
    "_uuid": "f8c2ce22312b03f8ed2eb969630a73689ab05895"
   },
   "outputs": [
    {
     "name": "stdout",
     "output_type": "stream",
     "text": [
      "(307511, 122)\n"
     ]
    }
   ],
   "source": [
    "print(app.shape)"
   ]
  },
  {
   "cell_type": "code",
   "execution_count": 6,
   "metadata": {
    "_uuid": "dfbf008952e13fbcf94f2bdd18492b389d0c77db"
   },
   "outputs": [
    {
     "name": "stdout",
     "output_type": "stream",
     "text": [
      "(307511, 122)\n"
     ]
    }
   ],
   "source": [
    "application=app.copy()\n",
    "print(application.shape)"
   ]
  },
  {
   "cell_type": "code",
   "execution_count": 7,
   "metadata": {
    "_uuid": "f8e6de7f35a8e30c1c696ea3dce694b5b6c71747"
   },
   "outputs": [
    {
     "name": "stdout",
     "output_type": "stream",
     "text": [
      "(307511, 16)\n",
      "Index(['NAME_CONTRACT_TYPE', 'CODE_GENDER', 'FLAG_OWN_CAR', 'FLAG_OWN_REALTY',\n",
      "       'NAME_TYPE_SUITE', 'NAME_INCOME_TYPE', 'NAME_EDUCATION_TYPE',\n",
      "       'NAME_FAMILY_STATUS', 'NAME_HOUSING_TYPE', 'OCCUPATION_TYPE',\n",
      "       'WEEKDAY_APPR_PROCESS_START', 'ORGANIZATION_TYPE', 'FONDKAPREMONT_MODE',\n",
      "       'HOUSETYPE_MODE', 'WALLSMATERIAL_MODE', 'EMERGENCYSTATE_MODE'],\n",
      "      dtype='object')\n"
     ]
    }
   ],
   "source": [
    "application_object=application.select_dtypes(\"object\")\n",
    "print(application_object.shape)\n",
    "print(application_object.columns)"
   ]
  },
  {
   "cell_type": "code",
   "execution_count": 8,
   "metadata": {
    "_uuid": "b790720e67057dc52390407129a92c6f3c2efc77"
   },
   "outputs": [
    {
     "name": "stdout",
     "output_type": "stream",
     "text": [
      "16\n",
      "122\n"
     ]
    }
   ],
   "source": [
    "application_object_columns=application_object.columns.tolist()\n",
    "application_columns=application.columns.tolist()\n",
    "print(len(application_object_columns))\n",
    "print(len(application_columns))"
   ]
  },
  {
   "cell_type": "code",
   "execution_count": 9,
   "metadata": {
    "_uuid": "5dd3aa9150d03570f70f1accc05a8d66d343c838"
   },
   "outputs": [
    {
     "name": "stdout",
     "output_type": "stream",
     "text": [
      "106\n"
     ]
    }
   ],
   "source": [
    "app_if = list(set(application_columns) - set(application_object_columns))\n",
    "print(len(app_if))"
   ]
  },
  {
   "cell_type": "code",
   "execution_count": 10,
   "metadata": {
    "_uuid": "bfcbaa32e1e7d37e80d407732585dbd27c108e92"
   },
   "outputs": [
    {
     "name": "stdout",
     "output_type": "stream",
     "text": [
      "(307511, 106)\n"
     ]
    }
   ],
   "source": [
    "app_df=application[app_if]\n",
    "\n",
    "print(app_df.shape)"
   ]
  },
  {
   "cell_type": "code",
   "execution_count": 11,
   "metadata": {
    "_uuid": "4a1d931a412d612a9a60ebd0638f82f331da3730",
    "scrolled": true
   },
   "outputs": [
    {
     "data": {
      "text/plain": [
       "DAYS_ID_PUBLISH                   int64\n",
       "LIVINGAREA_MODE                 float64\n",
       "LIVINGAREA_MEDI                 float64\n",
       "FLAG_DOCUMENT_8                   int64\n",
       "SK_ID_CURR                        int64\n",
       "                                 ...   \n",
       "FLAG_DOCUMENT_21                  int64\n",
       "YEARS_BEGINEXPLUATATION_MODE    float64\n",
       "REGION_RATING_CLIENT              int64\n",
       "FLAG_DOCUMENT_5                   int64\n",
       "LIVINGAPARTMENTS_MODE           float64\n",
       "Length: 106, dtype: object"
      ]
     },
     "execution_count": 11,
     "metadata": {},
     "output_type": "execute_result"
    }
   ],
   "source": [
    "app_df.dtypes"
   ]
  },
  {
   "cell_type": "code",
   "execution_count": 12,
   "metadata": {
    "_uuid": "cfed921585173b859dc6453ad908c7166db13a1a"
   },
   "outputs": [],
   "source": [
    "def nullremove(df,percentage):\n",
    "   # print(len(df))\n",
    "    wantedcolumnlist=[]\n",
    "    columnlist=df.columns.tolist()\n",
    "    #print(len(columnlist))\n",
    "    for i in range(len(columnlist)):\n",
    "        columnname=columnlist[i]\n",
    "        nan_rows = df[columnname].isnull().sum()\n",
    "     #   print(i,nan_rows)\n",
    "        nullcount=(nan_rows/len(df))*100\n",
    "        #print(nullcount)\n",
    "        if nullcount>percentage:\n",
    "            print(columnname) \n",
    "        else:\n",
    "            wantedcolumnlist.append(columnname)    \n",
    "        \n",
    "    df=df[wantedcolumnlist]\n",
    "    return df\n",
    "    "
   ]
  },
  {
   "cell_type": "code",
   "execution_count": 13,
   "metadata": {
    "_uuid": "c8a030c9c28647d7540e63b313b800678c3a64e1"
   },
   "outputs": [],
   "source": [
    "#app_df=nullremove(app_df,80)"
   ]
  },
  {
   "cell_type": "code",
   "execution_count": 14,
   "metadata": {
    "_uuid": "7a1998fdec049e1c91443a2a6374da4b8bdf86d8",
    "scrolled": true
   },
   "outputs": [
    {
     "data": {
      "text/plain": [
       "DAYS_ID_PUBLISH                      0\n",
       "LIVINGAREA_MODE                 154350\n",
       "LIVINGAREA_MEDI                 154350\n",
       "FLAG_DOCUMENT_8                      0\n",
       "SK_ID_CURR                           0\n",
       "                                 ...  \n",
       "FLAG_DOCUMENT_21                     0\n",
       "YEARS_BEGINEXPLUATATION_MODE    150007\n",
       "REGION_RATING_CLIENT                 0\n",
       "FLAG_DOCUMENT_5                      0\n",
       "LIVINGAPARTMENTS_MODE           210199\n",
       "Length: 106, dtype: int64"
      ]
     },
     "execution_count": 14,
     "metadata": {},
     "output_type": "execute_result"
    }
   ],
   "source": [
    "app_df.isna().sum()"
   ]
  },
  {
   "cell_type": "code",
   "execution_count": 15,
   "metadata": {
    "_uuid": "759c3c16983fb15a654bafdb0e753eaef5c98606"
   },
   "outputs": [
    {
     "name": "stderr",
     "output_type": "stream",
     "text": [
      "/tmp/ipykernel_25749/3680703627.py:1: SettingWithCopyWarning: \n",
      "A value is trying to be set on a copy of a slice from a DataFrame.\n",
      "Try using .loc[row_indexer,col_indexer] = value instead\n",
      "\n",
      "See the caveats in the documentation: https://pandas.pydata.org/pandas-docs/stable/user_guide/indexing.html#returning-a-view-versus-a-copy\n",
      "  app_df['DAYDIFF']=abs(app_df['DAYS_BIRTH'])-abs(app_df['DAYS_EMPLOYED'])\n"
     ]
    }
   ],
   "source": [
    "app_df['DAYDIFF']=abs(app_df['DAYS_BIRTH'])-abs(app_df['DAYS_EMPLOYED'])\n"
   ]
  },
  {
   "cell_type": "code",
   "execution_count": 16,
   "metadata": {
    "_uuid": "97300758db9d3b58db083dbbf90eacae6cce4184"
   },
   "outputs": [],
   "source": [
    "app_df=app_df[app_df['DAYDIFF']>0]\n"
   ]
  },
  {
   "cell_type": "code",
   "execution_count": 17,
   "metadata": {
    "_uuid": "8a6df13a49f282d214297821f96371f38b546e04"
   },
   "outputs": [
    {
     "name": "stdout",
     "output_type": "stream",
     "text": [
      "(252137, 107)\n"
     ]
    }
   ],
   "source": [
    "print(app_df.shape)"
   ]
  },
  {
   "cell_type": "code",
   "execution_count": 18,
   "metadata": {
    "_uuid": "2acdb5f3c2487e3f505f39f2cf520fbcc7ed97f8"
   },
   "outputs": [],
   "source": [
    "def meansep(df):\n",
    "    highermean=pd.DataFrame()\n",
    "    lowermean=pd.DataFrame()\n",
    "    columns=df.columns.tolist()\n",
    "    for i in range(len(columns)):\n",
    "        mean=df[columns[i]].mean()\n",
    "        if mean>10:\n",
    "            highermean[columns[i]]=df[columns[i]]\n",
    "        else:\n",
    "            if columns[i]=='DAYS_BIRTH' or columns[i]=='DAYS_EMPLOYED' or columns[i]=='TARGET':\n",
    "                highermean[columns[i]]=df[columns[i]]\n",
    "            else:\n",
    "                lowermean[columns[i]]=df[columns[i]]\n",
    "    return highermean,lowermean"
   ]
  },
  {
   "cell_type": "code",
   "execution_count": 19,
   "metadata": {
    "_uuid": "11ba8032260992b7789dd358a6e3603b1d91308e"
   },
   "outputs": [],
   "source": [
    "app_dff=app_df.copy()"
   ]
  },
  {
   "cell_type": "code",
   "execution_count": 20,
   "metadata": {
    "_uuid": "2d5373ab92694a8a44c806a2fa6c1abc9ebf127b"
   },
   "outputs": [
    {
     "data": {
      "text/plain": [
       "DAYS_ID_PUBLISH                      0\n",
       "LIVINGAREA_MODE                 125913\n",
       "LIVINGAREA_MEDI                 125913\n",
       "FLAG_DOCUMENT_8                      0\n",
       "SK_ID_CURR                           0\n",
       "                                 ...  \n",
       "YEARS_BEGINEXPLUATATION_MODE    122341\n",
       "REGION_RATING_CLIENT                 0\n",
       "FLAG_DOCUMENT_5                      0\n",
       "LIVINGAPARTMENTS_MODE           172064\n",
       "DAYDIFF                              0\n",
       "Length: 107, dtype: int64"
      ]
     },
     "execution_count": 20,
     "metadata": {},
     "output_type": "execute_result"
    }
   ],
   "source": [
    "app_dff.isna().sum()"
   ]
  },
  {
   "cell_type": "code",
   "execution_count": 21,
   "metadata": {
    "_uuid": "20aef5ddcc2970c9d59d02d8c3f554c406b34b2d"
   },
   "outputs": [
    {
     "name": "stdout",
     "output_type": "stream",
     "text": [
      "ELEVATORS_MODE\n",
      "NONLIVINGAREA_AVG\n",
      "NONLIVINGAPARTMENTS_AVG\n",
      "BASEMENTAREA_MEDI\n",
      "LANDAREA_MODE\n",
      "COMMONAREA_MODE\n",
      "COMMONAREA_MEDI\n",
      "APARTMENTS_AVG\n",
      "BASEMENTAREA_MODE\n",
      "NONLIVINGAPARTMENTS_MODE\n",
      "YEARS_BUILD_AVG\n",
      "YEARS_BUILD_MEDI\n",
      "LIVINGAPARTMENTS_AVG\n",
      "OWN_CAR_AGE\n",
      "ELEVATORS_MEDI\n",
      "NONLIVINGAREA_MODE\n",
      "FLOORSMIN_MODE\n",
      "LANDAREA_MEDI\n",
      "BASEMENTAREA_AVG\n",
      "FLOORSMIN_AVG\n",
      "ENTRANCES_MEDI\n",
      "NONLIVINGAREA_MEDI\n",
      "EXT_SOURCE_1\n",
      "ENTRANCES_AVG\n",
      "APARTMENTS_MODE\n",
      "YEARS_BUILD_MODE\n",
      "LANDAREA_AVG\n",
      "NONLIVINGAPARTMENTS_MEDI\n",
      "LIVINGAPARTMENTS_MEDI\n",
      "ELEVATORS_AVG\n",
      "ENTRANCES_MODE\n",
      "APARTMENTS_MEDI\n",
      "COMMONAREA_AVG\n",
      "FLOORSMIN_MEDI\n",
      "LIVINGAPARTMENTS_MODE\n"
     ]
    }
   ],
   "source": [
    "app_dff=nullremove(app_dff,50)"
   ]
  },
  {
   "cell_type": "code",
   "execution_count": 22,
   "metadata": {
    "_uuid": "1cd3367f7e29bea84ad763761340d928dff17931"
   },
   "outputs": [
    {
     "name": "stdout",
     "output_type": "stream",
     "text": [
      "(252137, 10) (252137, 62)\n"
     ]
    }
   ],
   "source": [
    "hdf,ldf=meansep(app_dff)\n",
    "print(hdf.shape,ldf.shape)"
   ]
  },
  {
   "cell_type": "code",
   "execution_count": 23,
   "metadata": {
    "_uuid": "628952969a44c00001008028c1e3223f6b962a1c"
   },
   "outputs": [
    {
     "data": {
      "text/plain": [
       "SK_ID_CURR                   0\n",
       "AMT_GOODS_PRICE            256\n",
       "AMT_CREDIT                   0\n",
       "AMT_ANNUITY                 12\n",
       "TARGET                       0\n",
       "HOUR_APPR_PROCESS_START      0\n",
       "DAYS_EMPLOYED                0\n",
       "AMT_INCOME_TOTAL             0\n",
       "DAYS_BIRTH                   0\n",
       "DAYDIFF                      0\n",
       "dtype: int64"
      ]
     },
     "execution_count": 23,
     "metadata": {},
     "output_type": "execute_result"
    }
   ],
   "source": [
    "hdf.isna().sum()"
   ]
  },
  {
   "cell_type": "code",
   "execution_count": 24,
   "metadata": {
    "_uuid": "638d5823d6f02ae729104a88e53442af6d914061"
   },
   "outputs": [
    {
     "data": {
      "text/plain": [
       "SK_ID_CURR                   int64\n",
       "AMT_GOODS_PRICE            float64\n",
       "AMT_CREDIT                 float64\n",
       "AMT_ANNUITY                float64\n",
       "TARGET                       int64\n",
       "HOUR_APPR_PROCESS_START      int64\n",
       "DAYS_EMPLOYED                int64\n",
       "AMT_INCOME_TOTAL           float64\n",
       "DAYS_BIRTH                   int64\n",
       "DAYDIFF                      int64\n",
       "dtype: object"
      ]
     },
     "execution_count": 24,
     "metadata": {},
     "output_type": "execute_result"
    }
   ],
   "source": [
    "hdf.dtypes"
   ]
  },
  {
   "cell_type": "code",
   "execution_count": 25,
   "metadata": {
    "_uuid": "b4488aa7f21666c34a6a797f8b3b7391e7911966"
   },
   "outputs": [],
   "source": [
    "hdf['AMT_ANNUITY']=hdf['AMT_ANNUITY'].fillna(hdf['AMT_ANNUITY'].mean())\n",
    "hdf['AMT_GOODS_PRICE']=hdf['AMT_GOODS_PRICE'].fillna(hdf['AMT_GOODS_PRICE'].mean())"
   ]
  },
  {
   "cell_type": "code",
   "execution_count": 26,
   "metadata": {
    "_uuid": "dc287b9bcb6f0b9ffc6ede657e5ef57eda98e94f"
   },
   "outputs": [
    {
     "name": "stdout",
     "output_type": "stream",
     "text": [
      "       SK_ID_CURR  AMT_GOODS_PRICE  AMT_CREDIT  AMT_ANNUITY    TARGET  \\\n",
      "count    252137.0         252137.0    252137.0     252137.0  252137.0   \n",
      "mean     278115.0         549406.0    611398.0      27812.0       0.0   \n",
      "std      102816.0         373079.0    406527.0      14647.0       0.0   \n",
      "min      100002.0          40500.0     45000.0       1980.0       0.0   \n",
      "25%      189035.0         247500.0    277970.0      17073.0       0.0   \n",
      "50%      278064.0         450000.0    521280.0      25834.0       0.0   \n",
      "75%      367165.0         693000.0    829224.0      35618.0       0.0   \n",
      "max      456255.0        4050000.0   4050000.0     258026.0       1.0   \n",
      "\n",
      "       HOUR_APPR_PROCESS_START  DAYS_EMPLOYED  AMT_INCOME_TOTAL  DAYS_BIRTH  \\\n",
      "count                 252137.0       252137.0          252137.0    252137.0   \n",
      "mean                      12.0        -2384.0          175914.0    -14769.0   \n",
      "std                        3.0         2338.0          258852.0      3663.0   \n",
      "min                        0.0       -17912.0           25650.0    -25200.0   \n",
      "25%                       10.0        -3175.0          112500.0    -17563.0   \n",
      "50%                       12.0        -1648.0          157500.0    -14573.0   \n",
      "75%                       15.0         -767.0          211500.0    -11775.0   \n",
      "max                       23.0            0.0       117000000.0     -7489.0   \n",
      "\n",
      "        DAYDIFF  \n",
      "count  252137.0  \n",
      "mean    12385.0  \n",
      "std      3584.0  \n",
      "min      6544.0  \n",
      "25%      9430.0  \n",
      "50%     11952.0  \n",
      "75%     14950.0  \n",
      "max     24897.0  \n"
     ]
    }
   ],
   "source": [
    "descr(hdf)"
   ]
  },
  {
   "cell_type": "code",
   "execution_count": 27,
   "metadata": {
    "_uuid": "b5949c9ca75787133eaa32a227f03f238777e844"
   },
   "outputs": [],
   "source": [
    "hdf=hdf[hdf['AMT_INCOME_TOTAL']<=2000000]\n",
    "hdf=hdf[hdf['AMT_CREDIT']<=900000]\n",
    "hdf=hdf[hdf['AMT_GOODS_PRICE']<=900000]\n",
    "hdf=hdf[hdf['AMT_ANNUITY']<=35000]"
   ]
  },
  {
   "cell_type": "code",
   "execution_count": 28,
   "metadata": {
    "_uuid": "a6f200dece48ef4e45afd30d46e5e34b73753b88"
   },
   "outputs": [
    {
     "data": {
      "text/html": [
       "<div>\n",
       "<style scoped>\n",
       "    .dataframe tbody tr th:only-of-type {\n",
       "        vertical-align: middle;\n",
       "    }\n",
       "\n",
       "    .dataframe tbody tr th {\n",
       "        vertical-align: top;\n",
       "    }\n",
       "\n",
       "    .dataframe thead th {\n",
       "        text-align: right;\n",
       "    }\n",
       "</style>\n",
       "<table border=\"1\" class=\"dataframe\">\n",
       "  <thead>\n",
       "    <tr style=\"text-align: right;\">\n",
       "      <th></th>\n",
       "      <th>SK_ID_CURR</th>\n",
       "      <th>AMT_GOODS_PRICE</th>\n",
       "      <th>AMT_CREDIT</th>\n",
       "      <th>AMT_ANNUITY</th>\n",
       "      <th>TARGET</th>\n",
       "      <th>HOUR_APPR_PROCESS_START</th>\n",
       "      <th>DAYS_EMPLOYED</th>\n",
       "      <th>AMT_INCOME_TOTAL</th>\n",
       "      <th>DAYS_BIRTH</th>\n",
       "      <th>DAYDIFF</th>\n",
       "    </tr>\n",
       "  </thead>\n",
       "  <tbody>\n",
       "    <tr>\n",
       "      <th>280994</th>\n",
       "      <td>425566</td>\n",
       "      <td>225000.0</td>\n",
       "      <td>225000.0</td>\n",
       "      <td>21919.5</td>\n",
       "      <td>0</td>\n",
       "      <td>15</td>\n",
       "      <td>-17912</td>\n",
       "      <td>180000.0</td>\n",
       "      <td>-24577</td>\n",
       "      <td>6665</td>\n",
       "    </tr>\n",
       "  </tbody>\n",
       "</table>\n",
       "</div>"
      ],
      "text/plain": [
       "        SK_ID_CURR  AMT_GOODS_PRICE  AMT_CREDIT  AMT_ANNUITY  TARGET  \\\n",
       "280994      425566         225000.0    225000.0      21919.5       0   \n",
       "\n",
       "        HOUR_APPR_PROCESS_START  DAYS_EMPLOYED  AMT_INCOME_TOTAL  DAYS_BIRTH  \\\n",
       "280994                       15         -17912          180000.0      -24577   \n",
       "\n",
       "        DAYDIFF  \n",
       "280994     6665  "
      ]
     },
     "execution_count": 28,
     "metadata": {},
     "output_type": "execute_result"
    }
   ],
   "source": [
    "hdf[hdf['DAYS_EMPLOYED']==-17912]"
   ]
  },
  {
   "cell_type": "code",
   "execution_count": 29,
   "metadata": {
    "_uuid": "44708968378a97c24283708b05de8b3e18eecc76"
   },
   "outputs": [
    {
     "data": {
      "text/html": [
       "<div>\n",
       "<style scoped>\n",
       "    .dataframe tbody tr th:only-of-type {\n",
       "        vertical-align: middle;\n",
       "    }\n",
       "\n",
       "    .dataframe tbody tr th {\n",
       "        vertical-align: top;\n",
       "    }\n",
       "\n",
       "    .dataframe thead th {\n",
       "        text-align: right;\n",
       "    }\n",
       "</style>\n",
       "<table border=\"1\" class=\"dataframe\">\n",
       "  <thead>\n",
       "    <tr style=\"text-align: right;\">\n",
       "      <th></th>\n",
       "      <th>SK_ID_CURR</th>\n",
       "      <th>TARGET</th>\n",
       "      <th>NAME_CONTRACT_TYPE</th>\n",
       "      <th>CODE_GENDER</th>\n",
       "      <th>FLAG_OWN_CAR</th>\n",
       "      <th>FLAG_OWN_REALTY</th>\n",
       "      <th>CNT_CHILDREN</th>\n",
       "      <th>AMT_INCOME_TOTAL</th>\n",
       "      <th>AMT_CREDIT</th>\n",
       "      <th>AMT_ANNUITY</th>\n",
       "      <th>...</th>\n",
       "      <th>FLAG_DOCUMENT_18</th>\n",
       "      <th>FLAG_DOCUMENT_19</th>\n",
       "      <th>FLAG_DOCUMENT_20</th>\n",
       "      <th>FLAG_DOCUMENT_21</th>\n",
       "      <th>AMT_REQ_CREDIT_BUREAU_HOUR</th>\n",
       "      <th>AMT_REQ_CREDIT_BUREAU_DAY</th>\n",
       "      <th>AMT_REQ_CREDIT_BUREAU_WEEK</th>\n",
       "      <th>AMT_REQ_CREDIT_BUREAU_MON</th>\n",
       "      <th>AMT_REQ_CREDIT_BUREAU_QRT</th>\n",
       "      <th>AMT_REQ_CREDIT_BUREAU_YEAR</th>\n",
       "    </tr>\n",
       "  </thead>\n",
       "  <tbody>\n",
       "    <tr>\n",
       "      <th>14852</th>\n",
       "      <td>117337</td>\n",
       "      <td>0</td>\n",
       "      <td>Cash loans</td>\n",
       "      <td>M</td>\n",
       "      <td>N</td>\n",
       "      <td>Y</td>\n",
       "      <td>1</td>\n",
       "      <td>760846.5</td>\n",
       "      <td>4050000.0</td>\n",
       "      <td>146002.5</td>\n",
       "      <td>...</td>\n",
       "      <td>0</td>\n",
       "      <td>0</td>\n",
       "      <td>0</td>\n",
       "      <td>0</td>\n",
       "      <td>0.0</td>\n",
       "      <td>0.0</td>\n",
       "      <td>0.0</td>\n",
       "      <td>0.0</td>\n",
       "      <td>0.0</td>\n",
       "      <td>0.0</td>\n",
       "    </tr>\n",
       "    <tr>\n",
       "      <th>17948</th>\n",
       "      <td>120926</td>\n",
       "      <td>0</td>\n",
       "      <td>Cash loans</td>\n",
       "      <td>M</td>\n",
       "      <td>Y</td>\n",
       "      <td>N</td>\n",
       "      <td>2</td>\n",
       "      <td>783000.0</td>\n",
       "      <td>4050000.0</td>\n",
       "      <td>258025.5</td>\n",
       "      <td>...</td>\n",
       "      <td>0</td>\n",
       "      <td>0</td>\n",
       "      <td>0</td>\n",
       "      <td>0</td>\n",
       "      <td>0.0</td>\n",
       "      <td>0.0</td>\n",
       "      <td>0.0</td>\n",
       "      <td>0.0</td>\n",
       "      <td>0.0</td>\n",
       "      <td>0.0</td>\n",
       "    </tr>\n",
       "    <tr>\n",
       "      <th>110459</th>\n",
       "      <td>228135</td>\n",
       "      <td>0</td>\n",
       "      <td>Cash loans</td>\n",
       "      <td>M</td>\n",
       "      <td>N</td>\n",
       "      <td>N</td>\n",
       "      <td>2</td>\n",
       "      <td>864900.0</td>\n",
       "      <td>4050000.0</td>\n",
       "      <td>102384.0</td>\n",
       "      <td>...</td>\n",
       "      <td>0</td>\n",
       "      <td>0</td>\n",
       "      <td>0</td>\n",
       "      <td>0</td>\n",
       "      <td>0.0</td>\n",
       "      <td>0.0</td>\n",
       "      <td>0.0</td>\n",
       "      <td>4.0</td>\n",
       "      <td>0.0</td>\n",
       "      <td>0.0</td>\n",
       "    </tr>\n",
       "    <tr>\n",
       "      <th>119681</th>\n",
       "      <td>238782</td>\n",
       "      <td>0</td>\n",
       "      <td>Cash loans</td>\n",
       "      <td>M</td>\n",
       "      <td>Y</td>\n",
       "      <td>Y</td>\n",
       "      <td>1</td>\n",
       "      <td>931365.0</td>\n",
       "      <td>4050000.0</td>\n",
       "      <td>102514.5</td>\n",
       "      <td>...</td>\n",
       "      <td>0</td>\n",
       "      <td>0</td>\n",
       "      <td>0</td>\n",
       "      <td>0</td>\n",
       "      <td>0.0</td>\n",
       "      <td>0.0</td>\n",
       "      <td>0.0</td>\n",
       "      <td>0.0</td>\n",
       "      <td>0.0</td>\n",
       "      <td>0.0</td>\n",
       "    </tr>\n",
       "    <tr>\n",
       "      <th>120757</th>\n",
       "      <td>240007</td>\n",
       "      <td>0</td>\n",
       "      <td>Cash loans</td>\n",
       "      <td>M</td>\n",
       "      <td>N</td>\n",
       "      <td>N</td>\n",
       "      <td>0</td>\n",
       "      <td>587250.0</td>\n",
       "      <td>4050000.0</td>\n",
       "      <td>106969.5</td>\n",
       "      <td>...</td>\n",
       "      <td>0</td>\n",
       "      <td>0</td>\n",
       "      <td>0</td>\n",
       "      <td>0</td>\n",
       "      <td>0.0</td>\n",
       "      <td>0.0</td>\n",
       "      <td>0.0</td>\n",
       "      <td>0.0</td>\n",
       "      <td>0.0</td>\n",
       "      <td>0.0</td>\n",
       "    </tr>\n",
       "    <tr>\n",
       "      <th>133766</th>\n",
       "      <td>255139</td>\n",
       "      <td>0</td>\n",
       "      <td>Cash loans</td>\n",
       "      <td>F</td>\n",
       "      <td>Y</td>\n",
       "      <td>N</td>\n",
       "      <td>1</td>\n",
       "      <td>1307587.5</td>\n",
       "      <td>4050000.0</td>\n",
       "      <td>100197.0</td>\n",
       "      <td>...</td>\n",
       "      <td>1</td>\n",
       "      <td>0</td>\n",
       "      <td>0</td>\n",
       "      <td>0</td>\n",
       "      <td>0.0</td>\n",
       "      <td>0.0</td>\n",
       "      <td>0.0</td>\n",
       "      <td>0.0</td>\n",
       "      <td>0.0</td>\n",
       "      <td>2.0</td>\n",
       "    </tr>\n",
       "    <tr>\n",
       "      <th>287732</th>\n",
       "      <td>433294</td>\n",
       "      <td>0</td>\n",
       "      <td>Cash loans</td>\n",
       "      <td>F</td>\n",
       "      <td>Y</td>\n",
       "      <td>N</td>\n",
       "      <td>1</td>\n",
       "      <td>405000.0</td>\n",
       "      <td>4050000.0</td>\n",
       "      <td>102514.5</td>\n",
       "      <td>...</td>\n",
       "      <td>0</td>\n",
       "      <td>0</td>\n",
       "      <td>0</td>\n",
       "      <td>0</td>\n",
       "      <td>NaN</td>\n",
       "      <td>NaN</td>\n",
       "      <td>NaN</td>\n",
       "      <td>NaN</td>\n",
       "      <td>NaN</td>\n",
       "      <td>NaN</td>\n",
       "    </tr>\n",
       "    <tr>\n",
       "      <th>288455</th>\n",
       "      <td>434170</td>\n",
       "      <td>0</td>\n",
       "      <td>Cash loans</td>\n",
       "      <td>F</td>\n",
       "      <td>Y</td>\n",
       "      <td>N</td>\n",
       "      <td>1</td>\n",
       "      <td>450000.0</td>\n",
       "      <td>4050000.0</td>\n",
       "      <td>106839.0</td>\n",
       "      <td>...</td>\n",
       "      <td>0</td>\n",
       "      <td>0</td>\n",
       "      <td>0</td>\n",
       "      <td>0</td>\n",
       "      <td>0.0</td>\n",
       "      <td>0.0</td>\n",
       "      <td>0.0</td>\n",
       "      <td>0.0</td>\n",
       "      <td>0.0</td>\n",
       "      <td>0.0</td>\n",
       "    </tr>\n",
       "  </tbody>\n",
       "</table>\n",
       "<p>8 rows \u00d7 122 columns</p>\n",
       "</div>"
      ],
      "text/plain": [
       "        SK_ID_CURR  TARGET NAME_CONTRACT_TYPE CODE_GENDER FLAG_OWN_CAR  \\\n",
       "14852       117337       0         Cash loans           M            N   \n",
       "17948       120926       0         Cash loans           M            Y   \n",
       "110459      228135       0         Cash loans           M            N   \n",
       "119681      238782       0         Cash loans           M            Y   \n",
       "120757      240007       0         Cash loans           M            N   \n",
       "133766      255139       0         Cash loans           F            Y   \n",
       "287732      433294       0         Cash loans           F            Y   \n",
       "288455      434170       0         Cash loans           F            Y   \n",
       "\n",
       "       FLAG_OWN_REALTY  CNT_CHILDREN  AMT_INCOME_TOTAL  AMT_CREDIT  \\\n",
       "14852                Y             1          760846.5   4050000.0   \n",
       "17948                N             2          783000.0   4050000.0   \n",
       "110459               N             2          864900.0   4050000.0   \n",
       "119681               Y             1          931365.0   4050000.0   \n",
       "120757               N             0          587250.0   4050000.0   \n",
       "133766               N             1         1307587.5   4050000.0   \n",
       "287732               N             1          405000.0   4050000.0   \n",
       "288455               N             1          450000.0   4050000.0   \n",
       "\n",
       "        AMT_ANNUITY  ...  FLAG_DOCUMENT_18 FLAG_DOCUMENT_19 FLAG_DOCUMENT_20  \\\n",
       "14852      146002.5  ...                 0                0                0   \n",
       "17948      258025.5  ...                 0                0                0   \n",
       "110459     102384.0  ...                 0                0                0   \n",
       "119681     102514.5  ...                 0                0                0   \n",
       "120757     106969.5  ...                 0                0                0   \n",
       "133766     100197.0  ...                 1                0                0   \n",
       "287732     102514.5  ...                 0                0                0   \n",
       "288455     106839.0  ...                 0                0                0   \n",
       "\n",
       "       FLAG_DOCUMENT_21 AMT_REQ_CREDIT_BUREAU_HOUR AMT_REQ_CREDIT_BUREAU_DAY  \\\n",
       "14852                 0                        0.0                       0.0   \n",
       "17948                 0                        0.0                       0.0   \n",
       "110459                0                        0.0                       0.0   \n",
       "119681                0                        0.0                       0.0   \n",
       "120757                0                        0.0                       0.0   \n",
       "133766                0                        0.0                       0.0   \n",
       "287732                0                        NaN                       NaN   \n",
       "288455                0                        0.0                       0.0   \n",
       "\n",
       "        AMT_REQ_CREDIT_BUREAU_WEEK  AMT_REQ_CREDIT_BUREAU_MON  \\\n",
       "14852                          0.0                        0.0   \n",
       "17948                          0.0                        0.0   \n",
       "110459                         0.0                        4.0   \n",
       "119681                         0.0                        0.0   \n",
       "120757                         0.0                        0.0   \n",
       "133766                         0.0                        0.0   \n",
       "287732                         NaN                        NaN   \n",
       "288455                         0.0                        0.0   \n",
       "\n",
       "        AMT_REQ_CREDIT_BUREAU_QRT  AMT_REQ_CREDIT_BUREAU_YEAR  \n",
       "14852                         0.0                         0.0  \n",
       "17948                         0.0                         0.0  \n",
       "110459                        0.0                         0.0  \n",
       "119681                        0.0                         0.0  \n",
       "120757                        0.0                         0.0  \n",
       "133766                        0.0                         2.0  \n",
       "287732                        NaN                         NaN  \n",
       "288455                        0.0                         0.0  \n",
       "\n",
       "[8 rows x 122 columns]"
      ]
     },
     "execution_count": 29,
     "metadata": {},
     "output_type": "execute_result"
    }
   ],
   "source": [
    "application[application['AMT_CREDIT']==4050000.0]"
   ]
  },
  {
   "cell_type": "code",
   "execution_count": 30,
   "metadata": {
    "_uuid": "6c80da22aa2941c9b904b28b4ae5ce83828f93bb"
   },
   "outputs": [
    {
     "data": {
      "text/plain": [
       "['SK_ID_CURR',\n",
       " 'AMT_GOODS_PRICE',\n",
       " 'AMT_CREDIT',\n",
       " 'AMT_ANNUITY',\n",
       " 'TARGET',\n",
       " 'HOUR_APPR_PROCESS_START',\n",
       " 'DAYS_EMPLOYED',\n",
       " 'AMT_INCOME_TOTAL',\n",
       " 'DAYS_BIRTH',\n",
       " 'DAYDIFF']"
      ]
     },
     "execution_count": 30,
     "metadata": {},
     "output_type": "execute_result"
    }
   ],
   "source": [
    "hdf.columns.tolist()"
   ]
  },
  {
   "cell_type": "code",
   "execution_count": 31,
   "metadata": {
    "_uuid": "2c47deea98266cad1fdb8076670a6d28178ba97d"
   },
   "outputs": [
    {
     "data": {
      "text/html": [
       "<div>\n",
       "<style scoped>\n",
       "    .dataframe tbody tr th:only-of-type {\n",
       "        vertical-align: middle;\n",
       "    }\n",
       "\n",
       "    .dataframe tbody tr th {\n",
       "        vertical-align: top;\n",
       "    }\n",
       "\n",
       "    .dataframe thead th {\n",
       "        text-align: right;\n",
       "    }\n",
       "</style>\n",
       "<table border=\"1\" class=\"dataframe\">\n",
       "  <thead>\n",
       "    <tr style=\"text-align: right;\">\n",
       "      <th></th>\n",
       "      <th>AMT_GOODS_PRICE</th>\n",
       "      <th>AMT_INCOME_TOTAL</th>\n",
       "      <th>AMT_ANNUITY</th>\n",
       "      <th>DAYS_EMPLOYED</th>\n",
       "      <th>DAYS_BIRTH</th>\n",
       "      <th>AMT_CREDIT</th>\n",
       "      <th>DAYDIFF</th>\n",
       "    </tr>\n",
       "  </thead>\n",
       "  <tbody>\n",
       "    <tr>\n",
       "      <th>0</th>\n",
       "      <td>351000.0</td>\n",
       "      <td>202500.0</td>\n",
       "      <td>24700.5</td>\n",
       "      <td>-637</td>\n",
       "      <td>-9461</td>\n",
       "      <td>406597.5</td>\n",
       "      <td>8824</td>\n",
       "    </tr>\n",
       "    <tr>\n",
       "      <th>2</th>\n",
       "      <td>135000.0</td>\n",
       "      <td>67500.0</td>\n",
       "      <td>6750.0</td>\n",
       "      <td>-225</td>\n",
       "      <td>-19046</td>\n",
       "      <td>135000.0</td>\n",
       "      <td>18821</td>\n",
       "    </tr>\n",
       "    <tr>\n",
       "      <th>3</th>\n",
       "      <td>297000.0</td>\n",
       "      <td>135000.0</td>\n",
       "      <td>29686.5</td>\n",
       "      <td>-3039</td>\n",
       "      <td>-19005</td>\n",
       "      <td>312682.5</td>\n",
       "      <td>15966</td>\n",
       "    </tr>\n",
       "    <tr>\n",
       "      <th>4</th>\n",
       "      <td>513000.0</td>\n",
       "      <td>121500.0</td>\n",
       "      <td>21865.5</td>\n",
       "      <td>-3038</td>\n",
       "      <td>-19932</td>\n",
       "      <td>513000.0</td>\n",
       "      <td>16894</td>\n",
       "    </tr>\n",
       "    <tr>\n",
       "      <th>5</th>\n",
       "      <td>454500.0</td>\n",
       "      <td>99000.0</td>\n",
       "      <td>27517.5</td>\n",
       "      <td>-1588</td>\n",
       "      <td>-16941</td>\n",
       "      <td>490495.5</td>\n",
       "      <td>15353</td>\n",
       "    </tr>\n",
       "    <tr>\n",
       "      <th>...</th>\n",
       "      <td>...</td>\n",
       "      <td>...</td>\n",
       "      <td>...</td>\n",
       "      <td>...</td>\n",
       "      <td>...</td>\n",
       "      <td>...</td>\n",
       "      <td>...</td>\n",
       "    </tr>\n",
       "    <tr>\n",
       "      <th>307503</th>\n",
       "      <td>247500.0</td>\n",
       "      <td>112500.0</td>\n",
       "      <td>17770.5</td>\n",
       "      <td>-399</td>\n",
       "      <td>-11870</td>\n",
       "      <td>345510.0</td>\n",
       "      <td>11471</td>\n",
       "    </tr>\n",
       "    <tr>\n",
       "      <th>307504</th>\n",
       "      <td>225000.0</td>\n",
       "      <td>153000.0</td>\n",
       "      <td>16096.5</td>\n",
       "      <td>-7258</td>\n",
       "      <td>-16705</td>\n",
       "      <td>331920.0</td>\n",
       "      <td>9447</td>\n",
       "    </tr>\n",
       "    <tr>\n",
       "      <th>307506</th>\n",
       "      <td>225000.0</td>\n",
       "      <td>157500.0</td>\n",
       "      <td>27558.0</td>\n",
       "      <td>-236</td>\n",
       "      <td>-9327</td>\n",
       "      <td>254700.0</td>\n",
       "      <td>9091</td>\n",
       "    </tr>\n",
       "    <tr>\n",
       "      <th>307508</th>\n",
       "      <td>585000.0</td>\n",
       "      <td>153000.0</td>\n",
       "      <td>29979.0</td>\n",
       "      <td>-7921</td>\n",
       "      <td>-14966</td>\n",
       "      <td>677664.0</td>\n",
       "      <td>7045</td>\n",
       "    </tr>\n",
       "    <tr>\n",
       "      <th>307509</th>\n",
       "      <td>319500.0</td>\n",
       "      <td>171000.0</td>\n",
       "      <td>20205.0</td>\n",
       "      <td>-4786</td>\n",
       "      <td>-11961</td>\n",
       "      <td>370107.0</td>\n",
       "      <td>7175</td>\n",
       "    </tr>\n",
       "  </tbody>\n",
       "</table>\n",
       "<p>172694 rows \u00d7 7 columns</p>\n",
       "</div>"
      ],
      "text/plain": [
       "        AMT_GOODS_PRICE  AMT_INCOME_TOTAL  AMT_ANNUITY  DAYS_EMPLOYED  \\\n",
       "0              351000.0          202500.0      24700.5           -637   \n",
       "2              135000.0           67500.0       6750.0           -225   \n",
       "3              297000.0          135000.0      29686.5          -3039   \n",
       "4              513000.0          121500.0      21865.5          -3038   \n",
       "5              454500.0           99000.0      27517.5          -1588   \n",
       "...                 ...               ...          ...            ...   \n",
       "307503         247500.0          112500.0      17770.5           -399   \n",
       "307504         225000.0          153000.0      16096.5          -7258   \n",
       "307506         225000.0          157500.0      27558.0           -236   \n",
       "307508         585000.0          153000.0      29979.0          -7921   \n",
       "307509         319500.0          171000.0      20205.0          -4786   \n",
       "\n",
       "        DAYS_BIRTH  AMT_CREDIT  DAYDIFF  \n",
       "0            -9461    406597.5     8824  \n",
       "2           -19046    135000.0    18821  \n",
       "3           -19005    312682.5    15966  \n",
       "4           -19932    513000.0    16894  \n",
       "5           -16941    490495.5    15353  \n",
       "...            ...         ...      ...  \n",
       "307503      -11870    345510.0    11471  \n",
       "307504      -16705    331920.0     9447  \n",
       "307506       -9327    254700.0     9091  \n",
       "307508      -14966    677664.0     7045  \n",
       "307509      -11961    370107.0     7175  \n",
       "\n",
       "[172694 rows x 7 columns]"
      ]
     },
     "execution_count": 31,
     "metadata": {},
     "output_type": "execute_result"
    }
   ],
   "source": [
    "# ALEX: remove plotting\n",
    "# hdf[['AMT_GOODS_PRICE',\n",
    "#   'AMT_INCOME_TOTAL',\n",
    "#  'AMT_ANNUITY',\n",
    "#  'DAYS_EMPLOYED',\n",
    "#   'DAYS_BIRTH',\n",
    "#   'AMT_CREDIT',\n",
    "#  'DAYDIFF']].hist(figsize=(16, 10), bins=50, xlabelsize=8, ylabelsize=8);\n",
    "hdf[['AMT_GOODS_PRICE',\n",
    "  'AMT_INCOME_TOTAL',\n",
    " 'AMT_ANNUITY',\n",
    " 'DAYS_EMPLOYED',\n",
    "  'DAYS_BIRTH',\n",
    "  'AMT_CREDIT',\n",
    " 'DAYDIFF']]"
   ]
  },
  {
   "cell_type": "code",
   "execution_count": 32,
   "metadata": {
    "_uuid": "d5b1eafc3870eb571d19c72da102aed85ddd8c39"
   },
   "outputs": [],
   "source": [
    "correlation = hdf[['AMT_GOODS_PRICE',\n",
    "  'AMT_INCOME_TOTAL',\n",
    " 'AMT_ANNUITY',\n",
    " 'DAYS_EMPLOYED',\n",
    "  'DAYS_BIRTH',\n",
    "  'AMT_CREDIT',\n",
    " 'DAYDIFF']].corr()\n",
    "# ALEX: remove plotting\n",
    "# plt.figure(figsize=(7,7))\n",
    "# flatui = [\"#9b59b6\", \"#3498db\", \"#95a5a6\", \"#e74c3c\", \"#34495e\", \"#2ecc71\"]\n",
    "# sns.heatmap(correlation, vmax=1, square=True,annot=True,cmap=flatui)\n",
    "# plt.title('Correlation between different fearures')"
   ]
  },
  {
   "cell_type": "code",
   "execution_count": 33,
   "metadata": {
    "_uuid": "2bd82b8d426ac400ecedbf8ce132f6a5a0d6754f"
   },
   "outputs": [],
   "source": [
    "# ALEX: remove ML code\n",
    "# from sklearn.preprocessing import Normalizer\n",
    "# normalized_application = Normalizer().fit_transform(hdf[['AMT_GOODS_PRICE','AMT_INCOME_TOTAL','AMT_ANNUITY','AMT_CREDIT','DAYDIFF']])\n",
    "#print (normalized_application)\n",
    "normalized_application = hdf[['AMT_GOODS_PRICE','AMT_INCOME_TOTAL','AMT_ANNUITY','AMT_CREDIT','DAYDIFF']]\n",
    "correlation=pd.DataFrame(normalized_application).corr()\n",
    "correlation.columns=['AMT_GOODS_PRICE','AMT_INCOME_TOTAL','AMT_ANNUITY','AMT_CREDIT','DAYDIFF']\n",
    "# ALEX: remove plotting\n",
    "# plt.figure(figsize=(8,8))\n",
    "# flatui = [\"#9b59b6\", \"#3498db\", \"#95a5a6\", \"#e74c3c\", \"#34495e\", \"#2ecc71\"]\n",
    "# sns.heatmap(correlation, vmax=1, square=True,annot=True,cmap=flatui)\n",
    "# plt.title('Correlation between different fearures')"
   ]
  },
  {
   "cell_type": "code",
   "execution_count": 34,
   "metadata": {
    "_uuid": "fb0b3f9bec267920b8488aa489400cd4208f3bdc"
   },
   "outputs": [],
   "source": [
    "from numpy import log"
   ]
  },
  {
   "cell_type": "code",
   "execution_count": 35,
   "metadata": {
    "_uuid": "0580bfc88b95ac41c7f0f0ae7ac96e5ae87c92f9"
   },
   "outputs": [
    {
     "data": {
      "text/html": [
       "<div>\n",
       "<style scoped>\n",
       "    .dataframe tbody tr th:only-of-type {\n",
       "        vertical-align: middle;\n",
       "    }\n",
       "\n",
       "    .dataframe tbody tr th {\n",
       "        vertical-align: top;\n",
       "    }\n",
       "\n",
       "    .dataframe thead th {\n",
       "        text-align: right;\n",
       "    }\n",
       "</style>\n",
       "<table border=\"1\" class=\"dataframe\">\n",
       "  <thead>\n",
       "    <tr style=\"text-align: right;\">\n",
       "      <th></th>\n",
       "      <th>SK_ID_CURR</th>\n",
       "      <th>AMT_GOODS_PRICE</th>\n",
       "      <th>AMT_CREDIT</th>\n",
       "      <th>AMT_ANNUITY</th>\n",
       "      <th>TARGET</th>\n",
       "      <th>HOUR_APPR_PROCESS_START</th>\n",
       "      <th>DAYS_EMPLOYED</th>\n",
       "      <th>AMT_INCOME_TOTAL</th>\n",
       "      <th>DAYS_BIRTH</th>\n",
       "      <th>DAYDIFF</th>\n",
       "    </tr>\n",
       "  </thead>\n",
       "  <tbody>\n",
       "    <tr>\n",
       "      <th>0</th>\n",
       "      <td>100002</td>\n",
       "      <td>351000.0</td>\n",
       "      <td>406597.5</td>\n",
       "      <td>24700.5</td>\n",
       "      <td>1</td>\n",
       "      <td>10</td>\n",
       "      <td>-637</td>\n",
       "      <td>202500.0</td>\n",
       "      <td>-9461</td>\n",
       "      <td>8824</td>\n",
       "    </tr>\n",
       "    <tr>\n",
       "      <th>2</th>\n",
       "      <td>100004</td>\n",
       "      <td>135000.0</td>\n",
       "      <td>135000.0</td>\n",
       "      <td>6750.0</td>\n",
       "      <td>0</td>\n",
       "      <td>9</td>\n",
       "      <td>-225</td>\n",
       "      <td>67500.0</td>\n",
       "      <td>-19046</td>\n",
       "      <td>18821</td>\n",
       "    </tr>\n",
       "  </tbody>\n",
       "</table>\n",
       "</div>"
      ],
      "text/plain": [
       "   SK_ID_CURR  AMT_GOODS_PRICE  AMT_CREDIT  AMT_ANNUITY  TARGET  \\\n",
       "0      100002         351000.0    406597.5      24700.5       1   \n",
       "2      100004         135000.0    135000.0       6750.0       0   \n",
       "\n",
       "   HOUR_APPR_PROCESS_START  DAYS_EMPLOYED  AMT_INCOME_TOTAL  DAYS_BIRTH  \\\n",
       "0                       10           -637          202500.0       -9461   \n",
       "2                        9           -225           67500.0      -19046   \n",
       "\n",
       "   DAYDIFF  \n",
       "0     8824  \n",
       "2    18821  "
      ]
     },
     "execution_count": 35,
     "metadata": {},
     "output_type": "execute_result"
    }
   ],
   "source": [
    "hdf.head(2)"
   ]
  },
  {
   "cell_type": "code",
   "execution_count": 36,
   "metadata": {
    "_uuid": "21c31e8d690d3ad5a9d116083e10dea179c68498"
   },
   "outputs": [],
   "source": [
    "hd=hdf.copy()\n",
    "hd['AMT_INCOME_TOTAL_log']=log(hdf['AMT_INCOME_TOTAL'])\n",
    "\n",
    "\n",
    "\n",
    "\n"
   ]
  },
  {
   "cell_type": "code",
   "execution_count": 37,
   "metadata": {
    "_uuid": "7e8e9bd13ccb7847a74e8fc7f88981658f34d0ff"
   },
   "outputs": [
    {
     "data": {
      "text/html": [
       "<div>\n",
       "<style scoped>\n",
       "    .dataframe tbody tr th:only-of-type {\n",
       "        vertical-align: middle;\n",
       "    }\n",
       "\n",
       "    .dataframe tbody tr th {\n",
       "        vertical-align: top;\n",
       "    }\n",
       "\n",
       "    .dataframe thead th {\n",
       "        text-align: right;\n",
       "    }\n",
       "</style>\n",
       "<table border=\"1\" class=\"dataframe\">\n",
       "  <thead>\n",
       "    <tr style=\"text-align: right;\">\n",
       "      <th></th>\n",
       "      <th>SK_ID_CURR</th>\n",
       "      <th>AMT_GOODS_PRICE</th>\n",
       "      <th>AMT_CREDIT</th>\n",
       "      <th>AMT_ANNUITY</th>\n",
       "      <th>TARGET</th>\n",
       "      <th>HOUR_APPR_PROCESS_START</th>\n",
       "      <th>DAYS_EMPLOYED</th>\n",
       "      <th>AMT_INCOME_TOTAL</th>\n",
       "      <th>DAYS_BIRTH</th>\n",
       "      <th>DAYDIFF</th>\n",
       "      <th>AMT_INCOME_TOTAL_log</th>\n",
       "    </tr>\n",
       "  </thead>\n",
       "  <tbody>\n",
       "    <tr>\n",
       "      <th>0</th>\n",
       "      <td>100002</td>\n",
       "      <td>351000.0</td>\n",
       "      <td>406597.5</td>\n",
       "      <td>24700.5</td>\n",
       "      <td>1</td>\n",
       "      <td>10</td>\n",
       "      <td>-637</td>\n",
       "      <td>202500.0</td>\n",
       "      <td>-9461</td>\n",
       "      <td>8824</td>\n",
       "      <td>12.218495</td>\n",
       "    </tr>\n",
       "    <tr>\n",
       "      <th>2</th>\n",
       "      <td>100004</td>\n",
       "      <td>135000.0</td>\n",
       "      <td>135000.0</td>\n",
       "      <td>6750.0</td>\n",
       "      <td>0</td>\n",
       "      <td>9</td>\n",
       "      <td>-225</td>\n",
       "      <td>67500.0</td>\n",
       "      <td>-19046</td>\n",
       "      <td>18821</td>\n",
       "      <td>11.119883</td>\n",
       "    </tr>\n",
       "  </tbody>\n",
       "</table>\n",
       "</div>"
      ],
      "text/plain": [
       "   SK_ID_CURR  AMT_GOODS_PRICE  AMT_CREDIT  AMT_ANNUITY  TARGET  \\\n",
       "0      100002         351000.0    406597.5      24700.5       1   \n",
       "2      100004         135000.0    135000.0       6750.0       0   \n",
       "\n",
       "   HOUR_APPR_PROCESS_START  DAYS_EMPLOYED  AMT_INCOME_TOTAL  DAYS_BIRTH  \\\n",
       "0                       10           -637          202500.0       -9461   \n",
       "2                        9           -225           67500.0      -19046   \n",
       "\n",
       "   DAYDIFF  AMT_INCOME_TOTAL_log  \n",
       "0     8824             12.218495  \n",
       "2    18821             11.119883  "
      ]
     },
     "execution_count": 37,
     "metadata": {},
     "output_type": "execute_result"
    }
   ],
   "source": [
    "hd.head(2)"
   ]
  },
  {
   "cell_type": "code",
   "execution_count": 38,
   "metadata": {
    "_uuid": "5dae5431308fa677e95190009e866e82fea9773b"
   },
   "outputs": [
    {
     "data": {
      "text/html": [
       "<div>\n",
       "<style scoped>\n",
       "    .dataframe tbody tr th:only-of-type {\n",
       "        vertical-align: middle;\n",
       "    }\n",
       "\n",
       "    .dataframe tbody tr th {\n",
       "        vertical-align: top;\n",
       "    }\n",
       "\n",
       "    .dataframe thead th {\n",
       "        text-align: right;\n",
       "    }\n",
       "</style>\n",
       "<table border=\"1\" class=\"dataframe\">\n",
       "  <thead>\n",
       "    <tr style=\"text-align: right;\">\n",
       "      <th></th>\n",
       "      <th>AMT_GOODS_PRICE</th>\n",
       "      <th>AMT_INCOME_TOTAL_log</th>\n",
       "      <th>AMT_ANNUITY</th>\n",
       "      <th>AMT_CREDIT</th>\n",
       "      <th>DAYDIFF</th>\n",
       "    </tr>\n",
       "  </thead>\n",
       "  <tbody>\n",
       "    <tr>\n",
       "      <th>0</th>\n",
       "      <td>351000.0</td>\n",
       "      <td>12.218495</td>\n",
       "      <td>24700.5</td>\n",
       "      <td>406597.5</td>\n",
       "      <td>8824</td>\n",
       "    </tr>\n",
       "    <tr>\n",
       "      <th>2</th>\n",
       "      <td>135000.0</td>\n",
       "      <td>11.119883</td>\n",
       "      <td>6750.0</td>\n",
       "      <td>135000.0</td>\n",
       "      <td>18821</td>\n",
       "    </tr>\n",
       "    <tr>\n",
       "      <th>3</th>\n",
       "      <td>297000.0</td>\n",
       "      <td>11.813030</td>\n",
       "      <td>29686.5</td>\n",
       "      <td>312682.5</td>\n",
       "      <td>15966</td>\n",
       "    </tr>\n",
       "    <tr>\n",
       "      <th>4</th>\n",
       "      <td>513000.0</td>\n",
       "      <td>11.707670</td>\n",
       "      <td>21865.5</td>\n",
       "      <td>513000.0</td>\n",
       "      <td>16894</td>\n",
       "    </tr>\n",
       "    <tr>\n",
       "      <th>5</th>\n",
       "      <td>454500.0</td>\n",
       "      <td>11.502875</td>\n",
       "      <td>27517.5</td>\n",
       "      <td>490495.5</td>\n",
       "      <td>15353</td>\n",
       "    </tr>\n",
       "    <tr>\n",
       "      <th>...</th>\n",
       "      <td>...</td>\n",
       "      <td>...</td>\n",
       "      <td>...</td>\n",
       "      <td>...</td>\n",
       "      <td>...</td>\n",
       "    </tr>\n",
       "    <tr>\n",
       "      <th>307503</th>\n",
       "      <td>247500.0</td>\n",
       "      <td>11.630709</td>\n",
       "      <td>17770.5</td>\n",
       "      <td>345510.0</td>\n",
       "      <td>11471</td>\n",
       "    </tr>\n",
       "    <tr>\n",
       "      <th>307504</th>\n",
       "      <td>225000.0</td>\n",
       "      <td>11.938193</td>\n",
       "      <td>16096.5</td>\n",
       "      <td>331920.0</td>\n",
       "      <td>9447</td>\n",
       "    </tr>\n",
       "    <tr>\n",
       "      <th>307506</th>\n",
       "      <td>225000.0</td>\n",
       "      <td>11.967181</td>\n",
       "      <td>27558.0</td>\n",
       "      <td>254700.0</td>\n",
       "      <td>9091</td>\n",
       "    </tr>\n",
       "    <tr>\n",
       "      <th>307508</th>\n",
       "      <td>585000.0</td>\n",
       "      <td>11.938193</td>\n",
       "      <td>29979.0</td>\n",
       "      <td>677664.0</td>\n",
       "      <td>7045</td>\n",
       "    </tr>\n",
       "    <tr>\n",
       "      <th>307509</th>\n",
       "      <td>319500.0</td>\n",
       "      <td>12.049419</td>\n",
       "      <td>20205.0</td>\n",
       "      <td>370107.0</td>\n",
       "      <td>7175</td>\n",
       "    </tr>\n",
       "  </tbody>\n",
       "</table>\n",
       "<p>172694 rows \u00d7 5 columns</p>\n",
       "</div>"
      ],
      "text/plain": [
       "        AMT_GOODS_PRICE  AMT_INCOME_TOTAL_log  AMT_ANNUITY  AMT_CREDIT  \\\n",
       "0              351000.0             12.218495      24700.5    406597.5   \n",
       "2              135000.0             11.119883       6750.0    135000.0   \n",
       "3              297000.0             11.813030      29686.5    312682.5   \n",
       "4              513000.0             11.707670      21865.5    513000.0   \n",
       "5              454500.0             11.502875      27517.5    490495.5   \n",
       "...                 ...                   ...          ...         ...   \n",
       "307503         247500.0             11.630709      17770.5    345510.0   \n",
       "307504         225000.0             11.938193      16096.5    331920.0   \n",
       "307506         225000.0             11.967181      27558.0    254700.0   \n",
       "307508         585000.0             11.938193      29979.0    677664.0   \n",
       "307509         319500.0             12.049419      20205.0    370107.0   \n",
       "\n",
       "        DAYDIFF  \n",
       "0          8824  \n",
       "2         18821  \n",
       "3         15966  \n",
       "4         16894  \n",
       "5         15353  \n",
       "...         ...  \n",
       "307503    11471  \n",
       "307504     9447  \n",
       "307506     9091  \n",
       "307508     7045  \n",
       "307509     7175  \n",
       "\n",
       "[172694 rows x 5 columns]"
      ]
     },
     "execution_count": 38,
     "metadata": {},
     "output_type": "execute_result"
    }
   ],
   "source": [
    "# ALEX: remove plotting\n",
    "# hd[['AMT_GOODS_PRICE',\n",
    "#   'AMT_INCOME_TOTAL_log',\n",
    "#  'AMT_ANNUITY',\n",
    "#   'AMT_CREDIT',\n",
    "#  'DAYDIFF']].hist(figsize=(16, 10), bins=50, xlabelsize=8, ylabelsize=8);\n",
    "hd[['AMT_GOODS_PRICE',\n",
    "  'AMT_INCOME_TOTAL_log',\n",
    " 'AMT_ANNUITY',\n",
    "  'AMT_CREDIT',\n",
    " 'DAYDIFF']]"
   ]
  },
  {
   "cell_type": "code",
   "execution_count": 39,
   "metadata": {
    "_uuid": "2507b15723662897dd8c4bcc2f7c50307ee5e91a"
   },
   "outputs": [],
   "source": [
    "# ALEX: remove ML code\n",
    "# from sklearn.preprocessing import Normalizer\n",
    "# normalized_application = Normalizer().fit_transform(hd[['AMT_GOODS_PRICE',\n",
    "#   'AMT_INCOME_TOTAL_log',\n",
    "#  'AMT_ANNUITY',\n",
    "#   'AMT_CREDIT',\n",
    "#  'DAYDIFF']])\n",
    "normalized_application = hd[['AMT_GOODS_PRICE',\n",
    "  'AMT_INCOME_TOTAL_log',\n",
    " 'AMT_ANNUITY',\n",
    "  'AMT_CREDIT',\n",
    " 'DAYDIFF']]\n",
    "#print (normalized_application)\n",
    "correlation=pd.DataFrame(normalized_application).corr()\n",
    "correlation.columns=['AMT_GOODS_PRICE',\n",
    "  'AMT_INCOME_TOTAL_log',\n",
    " 'AMT_ANNUITY',\n",
    "  'AMT_CREDIT',\n",
    " 'DAYDIFF']\n",
    "# ALEX: remove plotting\n",
    "# plt.figure(figsize=(8,8))\n",
    "# flatui = [\"#9b59b6\", \"#3498db\", \"#95a5a6\", \"#e74c3c\", \"#34495e\", \"#2ecc71\"]\n",
    "# sns.heatmap(correlation, vmax=1, square=True,annot=True,cmap=flatui)\n",
    "# plt.title('Correlation between different fearures')"
   ]
  },
  {
   "cell_type": "code",
   "execution_count": 40,
   "metadata": {
    "_uuid": "321748a97b6fde71dc41974b1e2aa066602f54cb"
   },
   "outputs": [],
   "source": [
    "# ALEX: remove plotting\n",
    "# plt.scatter(hd['AMT_ANNUITY'],hd['AMT_CREDIT'])\n",
    "# plt.xlabel(\"amt annuity\")\n",
    "# plt.ylabel(\"amt credit\")\n",
    "_ = hd['AMT_ANNUITY']\n",
    "_ = hd['AMT_CREDIT']"
   ]
  },
  {
   "cell_type": "code",
   "execution_count": 41,
   "metadata": {
    "_uuid": "d3a03b5de0fc3eb437414314cd31b58579203a1c"
   },
   "outputs": [],
   "source": [
    "# ALEX: remove plotting\n",
    "# plt.scatter(hd['AMT_GOODS_PRICE'],hd['DAYDIFF'])\n",
    "# plt.xlabel(\"amt good\")\n",
    "# plt.ylabel(\"amt credit\")\n",
    "_ = hd['AMT_GOODS_PRICE']\n",
    "_ = hd['DAYDIFF']"
   ]
  },
  {
   "cell_type": "code",
   "execution_count": 42,
   "metadata": {
    "_uuid": "db5b41ae78f6954218cbc5d93d7d8a95c36b76d9"
   },
   "outputs": [
    {
     "data": {
      "text/plain": [
       "SK_ID_CURR                   int64\n",
       "AMT_GOODS_PRICE            float64\n",
       "AMT_CREDIT                 float64\n",
       "AMT_ANNUITY                float64\n",
       "TARGET                       int64\n",
       "HOUR_APPR_PROCESS_START      int64\n",
       "DAYS_EMPLOYED                int64\n",
       "AMT_INCOME_TOTAL           float64\n",
       "DAYS_BIRTH                   int64\n",
       "DAYDIFF                      int64\n",
       "AMT_INCOME_TOTAL_log       float64\n",
       "dtype: object"
      ]
     },
     "execution_count": 42,
     "metadata": {},
     "output_type": "execute_result"
    }
   ],
   "source": [
    "hd.dtypes"
   ]
  },
  {
   "cell_type": "code",
   "execution_count": 43,
   "metadata": {
    "_uuid": "5251af368c06187a406b7d4bb339f57e68b208f5"
   },
   "outputs": [
    {
     "data": {
      "text/plain": [
       "['SK_ID_CURR',\n",
       " 'AMT_GOODS_PRICE',\n",
       " 'AMT_CREDIT',\n",
       " 'AMT_ANNUITY',\n",
       " 'TARGET',\n",
       " 'HOUR_APPR_PROCESS_START',\n",
       " 'DAYS_EMPLOYED',\n",
       " 'AMT_INCOME_TOTAL',\n",
       " 'DAYS_BIRTH',\n",
       " 'DAYDIFF',\n",
       " 'AMT_INCOME_TOTAL_log']"
      ]
     },
     "execution_count": 43,
     "metadata": {},
     "output_type": "execute_result"
    }
   ],
   "source": [
    "hd.columns.tolist()"
   ]
  },
  {
   "cell_type": "code",
   "execution_count": 44,
   "metadata": {
    "_uuid": "68ebebd6895b7379546d8e06a970de41ac864f8c"
   },
   "outputs": [],
   "source": [
    "hd=hd[['SK_ID_CURR',\n",
    " 'AMT_GOODS_PRICE',\n",
    " 'DAYS_EMPLOYED',\n",
    " 'TARGET',\n",
    " 'AMT_CREDIT',\n",
    " 'DAYS_BIRTH',\n",
    " 'AMT_ANNUITY',\n",
    " 'HOUR_APPR_PROCESS_START',\n",
    " 'DAYDIFF',\n",
    " 'AMT_INCOME_TOTAL_log']]\n",
    "\n",
    "hd.to_csv(\"tt.csv\",index=False)"
   ]
  },
  {
   "cell_type": "code",
   "execution_count": 45,
   "metadata": {
    "_uuid": "ce15bae18d9dda168f05a917b1b2bdbcdcfb8a7c"
   },
   "outputs": [
    {
     "data": {
      "text/plain": [
       "(172694, 10)"
      ]
     },
     "execution_count": 45,
     "metadata": {},
     "output_type": "execute_result"
    }
   ],
   "source": [
    "hd.shape"
   ]
  },
  {
   "cell_type": "code",
   "execution_count": 46,
   "metadata": {
    "_uuid": "5d98b6dcfde0978f0e62f854c46a6efd25a8be5d"
   },
   "outputs": [
    {
     "data": {
      "text/plain": [
       "SK_ID_CURR                 0\n",
       "AMT_GOODS_PRICE            0\n",
       "DAYS_EMPLOYED              0\n",
       "TARGET                     0\n",
       "AMT_CREDIT                 0\n",
       "DAYS_BIRTH                 0\n",
       "AMT_ANNUITY                0\n",
       "HOUR_APPR_PROCESS_START    0\n",
       "DAYDIFF                    0\n",
       "AMT_INCOME_TOTAL_log       0\n",
       "dtype: int64"
      ]
     },
     "execution_count": 46,
     "metadata": {},
     "output_type": "execute_result"
    }
   ],
   "source": [
    "hd.isna().sum()"
   ]
  },
  {
   "cell_type": "code",
   "execution_count": 47,
   "metadata": {
    "_uuid": "e8d8f9caf3d1a8d01e7229cb6f6284fb0061e215"
   },
   "outputs": [
    {
     "data": {
      "text/plain": [
       "DAYS_ID_PUBLISH                      0\n",
       "LIVINGAREA_MODE                 125913\n",
       "LIVINGAREA_MEDI                 125913\n",
       "FLAG_DOCUMENT_8                      0\n",
       "AMT_REQ_CREDIT_BUREAU_WEEK       33856\n",
       "                                 ...  \n",
       "OBS_60_CNT_SOCIAL_CIRCLE           849\n",
       "FLAG_DOCUMENT_21                     0\n",
       "YEARS_BEGINEXPLUATATION_MODE    122341\n",
       "REGION_RATING_CLIENT                 0\n",
       "FLAG_DOCUMENT_5                      0\n",
       "Length: 62, dtype: int64"
      ]
     },
     "execution_count": 47,
     "metadata": {},
     "output_type": "execute_result"
    }
   ],
   "source": [
    "ldf.isna().sum()"
   ]
  },
  {
   "cell_type": "code",
   "execution_count": 48,
   "metadata": {
    "_uuid": "3a6c68d6cf849bd1bc91dbb9cb6e8d785fae61dc"
   },
   "outputs": [],
   "source": [
    "appobj=application[application_object_columns]"
   ]
  },
  {
   "cell_type": "code",
   "execution_count": 49,
   "metadata": {
    "_uuid": "7f689737138be8b8334c9e3a01e18c7b8cd81f8d"
   },
   "outputs": [
    {
     "data": {
      "text/html": [
       "<div>\n",
       "<style scoped>\n",
       "    .dataframe tbody tr th:only-of-type {\n",
       "        vertical-align: middle;\n",
       "    }\n",
       "\n",
       "    .dataframe tbody tr th {\n",
       "        vertical-align: top;\n",
       "    }\n",
       "\n",
       "    .dataframe thead th {\n",
       "        text-align: right;\n",
       "    }\n",
       "</style>\n",
       "<table border=\"1\" class=\"dataframe\">\n",
       "  <thead>\n",
       "    <tr style=\"text-align: right;\">\n",
       "      <th></th>\n",
       "      <th>NAME_CONTRACT_TYPE</th>\n",
       "      <th>CODE_GENDER</th>\n",
       "      <th>FLAG_OWN_CAR</th>\n",
       "      <th>FLAG_OWN_REALTY</th>\n",
       "      <th>NAME_TYPE_SUITE</th>\n",
       "      <th>NAME_INCOME_TYPE</th>\n",
       "      <th>NAME_EDUCATION_TYPE</th>\n",
       "      <th>NAME_FAMILY_STATUS</th>\n",
       "      <th>NAME_HOUSING_TYPE</th>\n",
       "      <th>OCCUPATION_TYPE</th>\n",
       "      <th>WEEKDAY_APPR_PROCESS_START</th>\n",
       "      <th>ORGANIZATION_TYPE</th>\n",
       "      <th>FONDKAPREMONT_MODE</th>\n",
       "      <th>HOUSETYPE_MODE</th>\n",
       "      <th>WALLSMATERIAL_MODE</th>\n",
       "      <th>EMERGENCYSTATE_MODE</th>\n",
       "    </tr>\n",
       "  </thead>\n",
       "  <tbody>\n",
       "    <tr>\n",
       "      <th>0</th>\n",
       "      <td>Cash loans</td>\n",
       "      <td>M</td>\n",
       "      <td>N</td>\n",
       "      <td>Y</td>\n",
       "      <td>Unaccompanied</td>\n",
       "      <td>Working</td>\n",
       "      <td>Secondary / secondary special</td>\n",
       "      <td>Single / not married</td>\n",
       "      <td>House / apartment</td>\n",
       "      <td>Laborers</td>\n",
       "      <td>WEDNESDAY</td>\n",
       "      <td>Business Entity Type 3</td>\n",
       "      <td>reg oper account</td>\n",
       "      <td>block of flats</td>\n",
       "      <td>Stone, brick</td>\n",
       "      <td>No</td>\n",
       "    </tr>\n",
       "    <tr>\n",
       "      <th>1</th>\n",
       "      <td>Cash loans</td>\n",
       "      <td>F</td>\n",
       "      <td>N</td>\n",
       "      <td>N</td>\n",
       "      <td>Family</td>\n",
       "      <td>State servant</td>\n",
       "      <td>Higher education</td>\n",
       "      <td>Married</td>\n",
       "      <td>House / apartment</td>\n",
       "      <td>Core staff</td>\n",
       "      <td>MONDAY</td>\n",
       "      <td>School</td>\n",
       "      <td>reg oper account</td>\n",
       "      <td>block of flats</td>\n",
       "      <td>Block</td>\n",
       "      <td>No</td>\n",
       "    </tr>\n",
       "  </tbody>\n",
       "</table>\n",
       "</div>"
      ],
      "text/plain": [
       "  NAME_CONTRACT_TYPE CODE_GENDER FLAG_OWN_CAR FLAG_OWN_REALTY NAME_TYPE_SUITE  \\\n",
       "0         Cash loans           M            N               Y   Unaccompanied   \n",
       "1         Cash loans           F            N               N          Family   \n",
       "\n",
       "  NAME_INCOME_TYPE            NAME_EDUCATION_TYPE    NAME_FAMILY_STATUS  \\\n",
       "0          Working  Secondary / secondary special  Single / not married   \n",
       "1    State servant               Higher education               Married   \n",
       "\n",
       "   NAME_HOUSING_TYPE OCCUPATION_TYPE WEEKDAY_APPR_PROCESS_START  \\\n",
       "0  House / apartment        Laborers                  WEDNESDAY   \n",
       "1  House / apartment      Core staff                     MONDAY   \n",
       "\n",
       "        ORGANIZATION_TYPE FONDKAPREMONT_MODE  HOUSETYPE_MODE  \\\n",
       "0  Business Entity Type 3   reg oper account  block of flats   \n",
       "1                  School   reg oper account  block of flats   \n",
       "\n",
       "  WALLSMATERIAL_MODE EMERGENCYSTATE_MODE  \n",
       "0       Stone, brick                  No  \n",
       "1              Block                  No  "
      ]
     },
     "execution_count": 49,
     "metadata": {},
     "output_type": "execute_result"
    }
   ],
   "source": [
    "appobj.head(2)"
   ]
  },
  {
   "cell_type": "code",
   "execution_count": 50,
   "metadata": {
    "_uuid": "2078cbaebfbba7998f3f4af20874e45eba37a275"
   },
   "outputs": [
    {
     "data": {
      "text/plain": [
       "NAME_CONTRACT_TYPE                 0\n",
       "CODE_GENDER                        0\n",
       "FLAG_OWN_CAR                       0\n",
       "FLAG_OWN_REALTY                    0\n",
       "NAME_TYPE_SUITE                 1292\n",
       "NAME_INCOME_TYPE                   0\n",
       "NAME_EDUCATION_TYPE                0\n",
       "NAME_FAMILY_STATUS                 0\n",
       "NAME_HOUSING_TYPE                  0\n",
       "OCCUPATION_TYPE                96391\n",
       "WEEKDAY_APPR_PROCESS_START         0\n",
       "ORGANIZATION_TYPE                  0\n",
       "FONDKAPREMONT_MODE            210295\n",
       "HOUSETYPE_MODE                154297\n",
       "WALLSMATERIAL_MODE            156341\n",
       "EMERGENCYSTATE_MODE           145755\n",
       "dtype: int64"
      ]
     },
     "execution_count": 50,
     "metadata": {},
     "output_type": "execute_result"
    }
   ],
   "source": [
    "appobj.isna().sum()"
   ]
  },
  {
   "cell_type": "code",
   "execution_count": null,
   "metadata": {
    "_uuid": "c4c9b1024fd613e705258fdedc04d572f74efe8c"
   },
   "outputs": [],
   "source": []
  },
  {
   "cell_type": "code",
   "execution_count": null,
   "metadata": {
    "_uuid": "07598176e689927c2e2c4bcf66a73d3a000abbf4"
   },
   "outputs": [],
   "source": []
  }
 ],
 "metadata": {
  "kernelspec": {
   "display_name": "Python 3 (ipykernel)",
   "language": "python",
   "name": "python3"
  },
  "language_info": {
   "codemirror_mode": {
    "name": "ipython",
    "version": 3
   },
   "file_extension": ".py",
   "mimetype": "text/x-python",
   "name": "python",
   "nbconvert_exporter": "python",
   "pygments_lexer": "ipython3",
   "version": "3.10.16"
  }
 },
 "nbformat": 4,
 "nbformat_minor": 1
}