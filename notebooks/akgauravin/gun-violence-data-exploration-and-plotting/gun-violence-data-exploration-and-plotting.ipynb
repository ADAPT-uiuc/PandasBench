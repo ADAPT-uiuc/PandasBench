{
 "cells": [
  {
   "cell_type": "code",
   "execution_count": null,
   "metadata": {},
   "outputs": [],
   "source": [
    "import os\n",
    "\n",
    "def scale_input_data(scale_factor):\n",
    "  file_bases = ['./input/gun-violence-data_01-2013_03-2018']\n",
    "  for file_base in file_bases:\n",
    "    import pandas as pd\n",
    "    import shutil\n",
    "    if scale_factor == 1.0:\n",
    "      shutil.copyfile(file_base + '.csv', file_base + '.scaled.csv')\n",
    "      continue\n",
    "    df_to_scale = pd.read_csv(file_base + '.csv')\n",
    "    new_num_rows = int(scale_factor * len(df_to_scale))\n",
    "    if scale_factor < 1.0:\n",
    "      df_to_scale = df_to_scale.iloc[:new_num_rows]\n",
    "    else:\n",
    "      while len(df_to_scale) < new_num_rows:\n",
    "        df_to_scale = pd.concat([df_to_scale, df_to_scale[:min(new_num_rows - len(df_to_scale), len(df_to_scale))]])\n",
    "    df_to_scale.to_csv(file_base + '.scaled.csv', index=False)\n",
    "\n",
    "if 'INPUT_SCALE_FACTOR' in os.environ:\n",
    "  scale_input_data(float(os.environ['INPUT_SCALE_FACTOR']))"
   ]
  },
  {
   "cell_type": "markdown",
   "metadata": {
    "_uuid": "e3371944c8642502d8c40665006b02aa275810e0"
   },
   "source": [
    "# **Gun Violence Data Exploration, Analysis and Plotting**"
   ]
  },
  {
   "cell_type": "markdown",
   "metadata": {
    "_uuid": "40615bbad48e78dbc39f4a93fc5096312d5bd1f2"
   },
   "source": [
    "## Database Content"
   ]
  },
  {
   "cell_type": "markdown",
   "metadata": {
    "_uuid": "400c5d04e26979d8811ea603102c2a2695ed9d8a"
   },
   "source": [
    "#### File Name : gun-violence-data_01-2013_03-2018.csv "
   ]
  },
  {
   "cell_type": "markdown",
   "metadata": {
    "_uuid": "f408b6dc7a28effe8dd8faa6dc4af2abccd7579d"
   },
   "source": [
    "The CSV file contains data for all recorded gun violence incidents in the US between January 2013 and March 2018, inclusive. Gun Violence Archive (GVA) is a not for profit corporation formed in 2013 to provide free online public access to accurate information about gun-related violence in the United States. GVA will collect and check for accuracy, comprehensive information about gun-related violence in the U.S. and then post and disseminate it online."
   ]
  },
  {
   "cell_type": "markdown",
   "metadata": {
    "_uuid": "7319389e8eccd0c1b86c82a94ab6116fde5a1301"
   },
   "source": [
    "#### Column Used"
   ]
  },
  {
   "cell_type": "markdown",
   "metadata": {
    "_uuid": "b2c9558f512bc398e8ab94416e3bf95d365e486a"
   },
   "source": [
    "- incident_id ID of the crime report\n",
    "- date Date of crime\n",
    "- stateState of crime\n",
    "- city_or_countyCity/ County of crime\n",
    "- addressAddress of the location of the crime\n",
    "- n_killedNumber of people killed\n",
    "- n_injuredNumber of people injured\n",
    "- incident_urlURL regarding the\n",
    "- source_url - Reference to the reporting source\n",
    "- incident_url_fields_missing - TRUE if the incident_url is present, FALSE otherwise\n",
    "- congressional_district - Congressional district id\n",
    "- gun_stolen - Status of guns involved in the crime (i.e. Unknown, Stolen, etc...)\n",
    "- gun_type - Typification of guns used in the crime\n",
    "- incident_characteristics - Characteristics of the incidence\n",
    "- latitude - Location of the incident\n",
    "- location_description\n",
    "- longitude - Location of the incident\n",
    "- n_guns_involved - Number of guns involved in incident\n",
    "- notes - Additional information of the crime\n",
    "- participant_age - Age of participant(s) at the time of crime\n",
    "- participant_age_group - Age group of participant(s) at the time crime\n",
    "- participant_gender - Gender of participant(s)\n",
    "- participant_name - Name of participant(s) involved in crime\n",
    "- participant_relationship - Relationship of participant to other participant(s)\n",
    "- participant_status - Extent of harm done to the participant\n",
    "- participant_type - Type of participant\n",
    "- sources\n",
    "- state_house_district\n",
    "- state_senate_district"
   ]
  },
  {
   "cell_type": "markdown",
   "metadata": {
    "_uuid": "093afc1a2340a1daaaa65d364c6f087ff62c5e0d"
   },
   "source": [
    "## Import all required Libraries"
   ]
  },
  {
   "cell_type": "code",
   "execution_count": 8,
   "metadata": {
    "_uuid": "1aa946d75ed9e671f24e573b02ce354169aed0ca"
   },
   "outputs": [],
   "source": [
    "# Data manipulation modules\n",
    "# import pandas as pd        # R-like data manipulation\n",
    "exec(os.environ['IREWR_IMPORTS'])\n",
    "import numpy as np         # n-dimensional arrays\n",
    "\n",
    "# For plotting\n",
    "# ALEX: remove plotting\n",
    "# import matplotlib as mpl\n",
    "# import matplotlib.pyplot as plt      # For base plotting\n",
    "# # Seaborn is a library for making statistical graphics\n",
    "# # in Python. It is built on top of matplotlib and \n",
    "# #  numpy and pandas data structures.\n",
    "# import seaborn as sns                # Easier plotting\n",
    "\n",
    "# # Misc\n",
    "# import os\n",
    "\n",
    "# ## To Show graphs in same window\n",
    "# %matplotlib inline\n",
    "\n",
    "# mpl.style.use(\"seaborn\")\n",
    "# plt.style.use(\"seaborn\")\n"
   ]
  },
  {
   "cell_type": "markdown",
   "metadata": {
    "_uuid": "71dbeff4682c3ba4172bdd45e39c3fcceec843bd"
   },
   "source": [
    "### Data Loading"
   ]
  },
  {
   "cell_type": "code",
   "execution_count": 9,
   "metadata": {
    "_uuid": "a06bd8016c744913706c9a5b90773229e8a4a84a"
   },
   "outputs": [
    {
     "name": "stderr",
     "output_type": "stream",
     "text": [
      "UserWarning: Ray execution environment not yet initialized. Initializing...\n",
      "To remove this warning, run the following python code before doing dataframe operations:\n",
      "\n",
      "    import ray\n",
      "    ray.init(runtime_env={'env_vars': {'__MODIN_AUTOIMPORT_PANDAS__': '1'}})\n",
      "\n",
      "UserWarning: The size of /dev/shm is too small (8126242816 bytes). The required size at least half of RAM (8221448192 bytes). Please, delete files in /dev/shm or increase size of /dev/shm with --shm-size in Docker. Also, you can can override the memory size for each Ray worker (in bytes) to the MODIN_MEMORY environment variable.\n",
      "2025-01-06 22:52:48,778\tINFO worker.py:1528 -- Started a local Ray instance.\n"
     ]
    },
    {
     "data": {
      "text/html": [
       "<div>\n",
       "<style scoped>\n",
       "    .dataframe tbody tr th:only-of-type {\n",
       "        vertical-align: middle;\n",
       "    }\n",
       "\n",
       "    .dataframe tbody tr th {\n",
       "        vertical-align: top;\n",
       "    }\n",
       "\n",
       "    .dataframe thead th {\n",
       "        text-align: right;\n",
       "    }\n",
       "</style>\n",
       "<table border=\"1\" class=\"dataframe\">\n",
       "  <thead>\n",
       "    <tr style=\"text-align: right;\">\n",
       "      <th></th>\n",
       "      <th>incident_id</th>\n",
       "      <th>date</th>\n",
       "      <th>state</th>\n",
       "      <th>city_or_county</th>\n",
       "      <th>address</th>\n",
       "      <th>n_killed</th>\n",
       "      <th>n_injured</th>\n",
       "      <th>incident_url</th>\n",
       "      <th>source_url</th>\n",
       "      <th>incident_url_fields_missing</th>\n",
       "      <th>...</th>\n",
       "      <th>participant_age</th>\n",
       "      <th>participant_age_group</th>\n",
       "      <th>participant_gender</th>\n",
       "      <th>participant_name</th>\n",
       "      <th>participant_relationship</th>\n",
       "      <th>participant_status</th>\n",
       "      <th>participant_type</th>\n",
       "      <th>sources</th>\n",
       "      <th>state_house_district</th>\n",
       "      <th>state_senate_district</th>\n",
       "    </tr>\n",
       "  </thead>\n",
       "  <tbody>\n",
       "    <tr>\n",
       "      <th>0</th>\n",
       "      <td>461105</td>\n",
       "      <td>2013-01-01</td>\n",
       "      <td>Pennsylvania</td>\n",
       "      <td>Mckeesport</td>\n",
       "      <td>1506 Versailles Avenue and Coursin Street</td>\n",
       "      <td>0</td>\n",
       "      <td>4</td>\n",
       "      <td>http://www.gunviolencearchive.org/incident/461105</td>\n",
       "      <td>http://www.post-gazette.com/local/south/2013/0...</td>\n",
       "      <td>False</td>\n",
       "      <td>...</td>\n",
       "      <td>0::20</td>\n",
       "      <td>0::Adult 18+||1::Adult 18+||2::Adult 18+||3::A...</td>\n",
       "      <td>0::Male||1::Male||3::Male||4::Female</td>\n",
       "      <td>0::Julian Sims</td>\n",
       "      <td>NaN</td>\n",
       "      <td>0::Arrested||1::Injured||2::Injured||3::Injure...</td>\n",
       "      <td>0::Victim||1::Victim||2::Victim||3::Victim||4:...</td>\n",
       "      <td>http://pittsburgh.cbslocal.com/2013/01/01/4-pe...</td>\n",
       "      <td>NaN</td>\n",
       "      <td>NaN</td>\n",
       "    </tr>\n",
       "    <tr>\n",
       "      <th>1</th>\n",
       "      <td>460726</td>\n",
       "      <td>2013-01-01</td>\n",
       "      <td>California</td>\n",
       "      <td>Hawthorne</td>\n",
       "      <td>13500 block of Cerise Avenue</td>\n",
       "      <td>1</td>\n",
       "      <td>3</td>\n",
       "      <td>http://www.gunviolencearchive.org/incident/460726</td>\n",
       "      <td>http://www.dailybulletin.com/article/zz/201301...</td>\n",
       "      <td>False</td>\n",
       "      <td>...</td>\n",
       "      <td>0::20</td>\n",
       "      <td>0::Adult 18+||1::Adult 18+||2::Adult 18+||3::A...</td>\n",
       "      <td>0::Male</td>\n",
       "      <td>0::Bernard Gillis</td>\n",
       "      <td>NaN</td>\n",
       "      <td>0::Killed||1::Injured||2::Injured||3::Injured</td>\n",
       "      <td>0::Victim||1::Victim||2::Victim||3::Victim||4:...</td>\n",
       "      <td>http://losangeles.cbslocal.com/2013/01/01/man-...</td>\n",
       "      <td>62.0</td>\n",
       "      <td>35.0</td>\n",
       "    </tr>\n",
       "    <tr>\n",
       "      <th>2</th>\n",
       "      <td>478855</td>\n",
       "      <td>2013-01-01</td>\n",
       "      <td>Ohio</td>\n",
       "      <td>Lorain</td>\n",
       "      <td>1776 East 28th Street</td>\n",
       "      <td>1</td>\n",
       "      <td>3</td>\n",
       "      <td>http://www.gunviolencearchive.org/incident/478855</td>\n",
       "      <td>http://chronicle.northcoastnow.com/2013/02/14/...</td>\n",
       "      <td>False</td>\n",
       "      <td>...</td>\n",
       "      <td>0::25||1::31||2::33||3::34||4::33</td>\n",
       "      <td>0::Adult 18+||1::Adult 18+||2::Adult 18+||3::A...</td>\n",
       "      <td>0::Male||1::Male||2::Male||3::Male||4::Male</td>\n",
       "      <td>0::Damien Bell||1::Desmen Noble||2::Herman Sea...</td>\n",
       "      <td>NaN</td>\n",
       "      <td>0::Injured, Unharmed, Arrested||1::Unharmed, A...</td>\n",
       "      <td>0::Subject-Suspect||1::Subject-Suspect||2::Vic...</td>\n",
       "      <td>http://www.morningjournal.com/general-news/201...</td>\n",
       "      <td>56.0</td>\n",
       "      <td>13.0</td>\n",
       "    </tr>\n",
       "    <tr>\n",
       "      <th>3</th>\n",
       "      <td>478925</td>\n",
       "      <td>2013-01-05</td>\n",
       "      <td>Colorado</td>\n",
       "      <td>Aurora</td>\n",
       "      <td>16000 block of East Ithaca Place</td>\n",
       "      <td>4</td>\n",
       "      <td>0</td>\n",
       "      <td>http://www.gunviolencearchive.org/incident/478925</td>\n",
       "      <td>http://www.dailydemocrat.com/20130106/aurora-s...</td>\n",
       "      <td>False</td>\n",
       "      <td>...</td>\n",
       "      <td>0::29||1::33||2::56||3::33</td>\n",
       "      <td>0::Adult 18+||1::Adult 18+||2::Adult 18+||3::A...</td>\n",
       "      <td>0::Female||1::Male||2::Male||3::Male</td>\n",
       "      <td>0::Stacie Philbrook||1::Christopher Ratliffe||...</td>\n",
       "      <td>NaN</td>\n",
       "      <td>0::Killed||1::Killed||2::Killed||3::Killed</td>\n",
       "      <td>0::Victim||1::Victim||2::Victim||3::Subject-Su...</td>\n",
       "      <td>http://denver.cbslocal.com/2013/01/06/officer-...</td>\n",
       "      <td>40.0</td>\n",
       "      <td>28.0</td>\n",
       "    </tr>\n",
       "    <tr>\n",
       "      <th>4</th>\n",
       "      <td>478959</td>\n",
       "      <td>2013-01-07</td>\n",
       "      <td>North Carolina</td>\n",
       "      <td>Greensboro</td>\n",
       "      <td>307 Mourning Dove Terrace</td>\n",
       "      <td>2</td>\n",
       "      <td>2</td>\n",
       "      <td>http://www.gunviolencearchive.org/incident/478959</td>\n",
       "      <td>http://www.journalnow.com/news/local/article_d...</td>\n",
       "      <td>False</td>\n",
       "      <td>...</td>\n",
       "      <td>0::18||1::46||2::14||3::47</td>\n",
       "      <td>0::Adult 18+||1::Adult 18+||2::Teen 12-17||3::...</td>\n",
       "      <td>0::Female||1::Male||2::Male||3::Female</td>\n",
       "      <td>0::Danielle Imani Jameison||1::Maurice Eugene ...</td>\n",
       "      <td>3::Family</td>\n",
       "      <td>0::Injured||1::Injured||2::Killed||3::Killed</td>\n",
       "      <td>0::Victim||1::Victim||2::Victim||3::Subject-Su...</td>\n",
       "      <td>http://myfox8.com/2013/01/08/update-mother-sho...</td>\n",
       "      <td>62.0</td>\n",
       "      <td>27.0</td>\n",
       "    </tr>\n",
       "  </tbody>\n",
       "</table>\n",
       "<p>5 rows x 29 columns</p>\n",
       "</div>"
      ],
      "text/plain": [
       "   incident_id        date           state city_or_county  \\\n",
       "0       461105  2013-01-01    Pennsylvania     Mckeesport   \n",
       "1       460726  2013-01-01      California      Hawthorne   \n",
       "2       478855  2013-01-01            Ohio         Lorain   \n",
       "3       478925  2013-01-05        Colorado         Aurora   \n",
       "4       478959  2013-01-07  North Carolina     Greensboro   \n",
       "\n",
       "                                     address  n_killed  n_injured  \\\n",
       "0  1506 Versailles Avenue and Coursin Street         0          4   \n",
       "1               13500 block of Cerise Avenue         1          3   \n",
       "2                      1776 East 28th Street         1          3   \n",
       "3           16000 block of East Ithaca Place         4          0   \n",
       "4                  307 Mourning Dove Terrace         2          2   \n",
       "\n",
       "                                        incident_url  \\\n",
       "0  http://www.gunviolencearchive.org/incident/461105   \n",
       "1  http://www.gunviolencearchive.org/incident/460726   \n",
       "2  http://www.gunviolencearchive.org/incident/478855   \n",
       "3  http://www.gunviolencearchive.org/incident/478925   \n",
       "4  http://www.gunviolencearchive.org/incident/478959   \n",
       "\n",
       "                                          source_url  \\\n",
       "0  http://www.post-gazette.com/local/south/2013/0...   \n",
       "1  http://www.dailybulletin.com/article/zz/201301...   \n",
       "2  http://chronicle.northcoastnow.com/2013/02/14/...   \n",
       "3  http://www.dailydemocrat.com/20130106/aurora-s...   \n",
       "4  http://www.journalnow.com/news/local/article_d...   \n",
       "\n",
       "   incident_url_fields_missing  ...                    participant_age  \\\n",
       "0                        False  ...                              0::20   \n",
       "1                        False  ...                              0::20   \n",
       "2                        False  ...  0::25||1::31||2::33||3::34||4::33   \n",
       "3                        False  ...         0::29||1::33||2::56||3::33   \n",
       "4                        False  ...         0::18||1::46||2::14||3::47   \n",
       "\n",
       "                               participant_age_group  \\\n",
       "0  0::Adult 18+||1::Adult 18+||2::Adult 18+||3::A...   \n",
       "1  0::Adult 18+||1::Adult 18+||2::Adult 18+||3::A...   \n",
       "2  0::Adult 18+||1::Adult 18+||2::Adult 18+||3::A...   \n",
       "3  0::Adult 18+||1::Adult 18+||2::Adult 18+||3::A...   \n",
       "4  0::Adult 18+||1::Adult 18+||2::Teen 12-17||3::...   \n",
       "\n",
       "                            participant_gender  \\\n",
       "0         0::Male||1::Male||3::Male||4::Female   \n",
       "1                                      0::Male   \n",
       "2  0::Male||1::Male||2::Male||3::Male||4::Male   \n",
       "3         0::Female||1::Male||2::Male||3::Male   \n",
       "4       0::Female||1::Male||2::Male||3::Female   \n",
       "\n",
       "                                    participant_name participant_relationship  \\\n",
       "0                                     0::Julian Sims                      NaN   \n",
       "1                                  0::Bernard Gillis                      NaN   \n",
       "2  0::Damien Bell||1::Desmen Noble||2::Herman Sea...                      NaN   \n",
       "3  0::Stacie Philbrook||1::Christopher Ratliffe||...                      NaN   \n",
       "4  0::Danielle Imani Jameison||1::Maurice Eugene ...                3::Family   \n",
       "\n",
       "                                  participant_status  \\\n",
       "0  0::Arrested||1::Injured||2::Injured||3::Injure...   \n",
       "1      0::Killed||1::Injured||2::Injured||3::Injured   \n",
       "2  0::Injured, Unharmed, Arrested||1::Unharmed, A...   \n",
       "3         0::Killed||1::Killed||2::Killed||3::Killed   \n",
       "4       0::Injured||1::Injured||2::Killed||3::Killed   \n",
       "\n",
       "                                    participant_type  \\\n",
       "0  0::Victim||1::Victim||2::Victim||3::Victim||4:...   \n",
       "1  0::Victim||1::Victim||2::Victim||3::Victim||4:...   \n",
       "2  0::Subject-Suspect||1::Subject-Suspect||2::Vic...   \n",
       "3  0::Victim||1::Victim||2::Victim||3::Subject-Su...   \n",
       "4  0::Victim||1::Victim||2::Victim||3::Subject-Su...   \n",
       "\n",
       "                                             sources state_house_district  \\\n",
       "0  http://pittsburgh.cbslocal.com/2013/01/01/4-pe...                  NaN   \n",
       "1  http://losangeles.cbslocal.com/2013/01/01/man-...                 62.0   \n",
       "2  http://www.morningjournal.com/general-news/201...                 56.0   \n",
       "3  http://denver.cbslocal.com/2013/01/06/officer-...                 40.0   \n",
       "4  http://myfox8.com/2013/01/08/update-mother-sho...                 62.0   \n",
       "\n",
       "  state_senate_district  \n",
       "0                   NaN  \n",
       "1                  35.0  \n",
       "2                  13.0  \n",
       "3                  28.0  \n",
       "4                  27.0  \n",
       "\n",
       "[5 rows x 29 columns]"
      ]
     },
     "execution_count": 9,
     "metadata": {},
     "output_type": "execute_result"
    }
   ],
   "source": [
    "######### Begin\n",
    "# Read data file\n",
    "data_gv = pd.read_csv(\"./input/gun-violence-data_01-2013_03-2018.scaled.csv\")\n",
    "\n",
    "# Explore data - First 5 records of Gun Violance data\n",
    "data_gv.head()                          # head()\n",
    "\n"
   ]
  },
  {
   "cell_type": "code",
   "execution_count": 3,
   "metadata": {
    "_uuid": "fbfaae725996f96948f6865771fa35bbaac46ddc"
   },
   "outputs": [
    {
     "data": {
      "text/plain": [
       "Index(['incident_id', 'date', 'state', 'city_or_county', 'address', 'n_killed',\n",
       "       'n_injured', 'incident_url', 'source_url',\n",
       "       'incident_url_fields_missing', 'congressional_district', 'gun_stolen',\n",
       "       'gun_type', 'incident_characteristics', 'latitude',\n",
       "       'location_description', 'longitude', 'n_guns_involved', 'notes',\n",
       "       'participant_age', 'participant_age_group', 'participant_gender',\n",
       "       'participant_name', 'participant_relationship', 'participant_status',\n",
       "       'participant_type', 'sources', 'state_house_district',\n",
       "       'state_senate_district'],\n",
       "      dtype='object')"
      ]
     },
     "execution_count": 3,
     "metadata": {},
     "output_type": "execute_result"
    }
   ],
   "source": [
    "data_gv.columns"
   ]
  },
  {
   "cell_type": "code",
   "execution_count": 4,
   "metadata": {
    "_uuid": "a504dedc779a6553f62940efee7f8ea9276452c8"
   },
   "outputs": [
    {
     "data": {
      "text/plain": [
       "array(['incident_id', 'date', 'state', 'city_or_county', 'address',\n",
       "       'n_killed', 'n_injured', 'incident_url', 'source_url',\n",
       "       'incident_url_fields_missing', 'congressional_district',\n",
       "       'gun_stolen', 'gun_type', 'incident_characteristics', 'latitude',\n",
       "       'location_description', 'longitude', 'n_guns_involved', 'notes',\n",
       "       'participant_age', 'participant_age_group', 'participant_gender',\n",
       "       'participant_name', 'participant_relationship',\n",
       "       'participant_status', 'participant_type', 'sources',\n",
       "       'state_house_district', 'state_senate_district'], dtype=object)"
      ]
     },
     "execution_count": 4,
     "metadata": {},
     "output_type": "execute_result"
    }
   ],
   "source": [
    "data_gv.columns.values"
   ]
  },
  {
   "cell_type": "code",
   "execution_count": 5,
   "metadata": {
    "_uuid": "74c5eb8da55acdecfc94ab9447cdd60b6a454bca"
   },
   "outputs": [
    {
     "data": {
      "text/plain": [
       "incident_id                      int64\n",
       "date                            object\n",
       "state                           object\n",
       "city_or_county                  object\n",
       "address                         object\n",
       "n_killed                         int64\n",
       "n_injured                        int64\n",
       "incident_url                    object\n",
       "source_url                      object\n",
       "incident_url_fields_missing       bool\n",
       "congressional_district         float64\n",
       "gun_stolen                      object\n",
       "gun_type                        object\n",
       "incident_characteristics        object\n",
       "latitude                       float64\n",
       "location_description            object\n",
       "longitude                      float64\n",
       "n_guns_involved                float64\n",
       "notes                           object\n",
       "participant_age                 object\n",
       "participant_age_group           object\n",
       "participant_gender              object\n",
       "participant_name                object\n",
       "participant_relationship        object\n",
       "participant_status              object\n",
       "participant_type                object\n",
       "sources                         object\n",
       "state_house_district           float64\n",
       "state_senate_district          float64\n",
       "dtype: object"
      ]
     },
     "execution_count": 5,
     "metadata": {},
     "output_type": "execute_result"
    }
   ],
   "source": [
    "data_gv.dtypes"
   ]
  },
  {
   "cell_type": "code",
   "execution_count": 6,
   "metadata": {
    "_uuid": "ed813bd5cfb8d505d6d03520be6430621cc2d6dc"
   },
   "outputs": [
    {
     "data": {
      "text/html": [
       "<div>\n",
       "<style scoped>\n",
       "    .dataframe tbody tr th:only-of-type {\n",
       "        vertical-align: middle;\n",
       "    }\n",
       "\n",
       "    .dataframe tbody tr th {\n",
       "        vertical-align: top;\n",
       "    }\n",
       "\n",
       "    .dataframe thead th {\n",
       "        text-align: right;\n",
       "    }\n",
       "</style>\n",
       "<table border=\"1\" class=\"dataframe\">\n",
       "  <thead>\n",
       "    <tr style=\"text-align: right;\">\n",
       "      <th></th>\n",
       "      <th>incident_id</th>\n",
       "      <th>n_killed</th>\n",
       "      <th>n_injured</th>\n",
       "      <th>congressional_district</th>\n",
       "      <th>latitude</th>\n",
       "      <th>longitude</th>\n",
       "      <th>n_guns_involved</th>\n",
       "      <th>state_house_district</th>\n",
       "      <th>state_senate_district</th>\n",
       "    </tr>\n",
       "  </thead>\n",
       "  <tbody>\n",
       "    <tr>\n",
       "      <th>count</th>\n",
       "      <td>2.396770e+05</td>\n",
       "      <td>239677.000000</td>\n",
       "      <td>239677.000000</td>\n",
       "      <td>227733.000000</td>\n",
       "      <td>231754.000000</td>\n",
       "      <td>231754.000000</td>\n",
       "      <td>140226.000000</td>\n",
       "      <td>200905.000000</td>\n",
       "      <td>207342.00000</td>\n",
       "    </tr>\n",
       "    <tr>\n",
       "      <th>mean</th>\n",
       "      <td>5.593343e+05</td>\n",
       "      <td>0.252290</td>\n",
       "      <td>0.494007</td>\n",
       "      <td>8.001265</td>\n",
       "      <td>37.546598</td>\n",
       "      <td>-89.338348</td>\n",
       "      <td>1.372442</td>\n",
       "      <td>55.447132</td>\n",
       "      <td>20.47711</td>\n",
       "    </tr>\n",
       "    <tr>\n",
       "      <th>std</th>\n",
       "      <td>2.931287e+05</td>\n",
       "      <td>0.521779</td>\n",
       "      <td>0.729952</td>\n",
       "      <td>8.480835</td>\n",
       "      <td>5.130763</td>\n",
       "      <td>14.359546</td>\n",
       "      <td>4.678202</td>\n",
       "      <td>42.048117</td>\n",
       "      <td>14.20456</td>\n",
       "    </tr>\n",
       "    <tr>\n",
       "      <th>min</th>\n",
       "      <td>9.211400e+04</td>\n",
       "      <td>0.000000</td>\n",
       "      <td>0.000000</td>\n",
       "      <td>0.000000</td>\n",
       "      <td>19.111400</td>\n",
       "      <td>-171.429000</td>\n",
       "      <td>1.000000</td>\n",
       "      <td>1.000000</td>\n",
       "      <td>1.00000</td>\n",
       "    </tr>\n",
       "    <tr>\n",
       "      <th>25%</th>\n",
       "      <td>3.085450e+05</td>\n",
       "      <td>0.000000</td>\n",
       "      <td>0.000000</td>\n",
       "      <td>2.000000</td>\n",
       "      <td>33.903400</td>\n",
       "      <td>-94.158725</td>\n",
       "      <td>1.000000</td>\n",
       "      <td>21.000000</td>\n",
       "      <td>9.00000</td>\n",
       "    </tr>\n",
       "    <tr>\n",
       "      <th>50%</th>\n",
       "      <td>5.435870e+05</td>\n",
       "      <td>0.000000</td>\n",
       "      <td>0.000000</td>\n",
       "      <td>5.000000</td>\n",
       "      <td>38.570600</td>\n",
       "      <td>-86.249600</td>\n",
       "      <td>1.000000</td>\n",
       "      <td>47.000000</td>\n",
       "      <td>19.00000</td>\n",
       "    </tr>\n",
       "    <tr>\n",
       "      <th>75%</th>\n",
       "      <td>8.172280e+05</td>\n",
       "      <td>0.000000</td>\n",
       "      <td>1.000000</td>\n",
       "      <td>10.000000</td>\n",
       "      <td>41.437375</td>\n",
       "      <td>-80.048625</td>\n",
       "      <td>1.000000</td>\n",
       "      <td>84.000000</td>\n",
       "      <td>30.00000</td>\n",
       "    </tr>\n",
       "    <tr>\n",
       "      <th>max</th>\n",
       "      <td>1.083472e+06</td>\n",
       "      <td>50.000000</td>\n",
       "      <td>53.000000</td>\n",
       "      <td>53.000000</td>\n",
       "      <td>71.336800</td>\n",
       "      <td>97.433100</td>\n",
       "      <td>400.000000</td>\n",
       "      <td>901.000000</td>\n",
       "      <td>94.00000</td>\n",
       "    </tr>\n",
       "  </tbody>\n",
       "</table>\n",
       "</div>"
      ],
      "text/plain": [
       "        incident_id       n_killed      n_injured  congressional_district  \\\n",
       "count  2.396770e+05  239677.000000  239677.000000           227733.000000   \n",
       "mean   5.593343e+05       0.252290       0.494007                8.001265   \n",
       "std    2.931287e+05       0.521779       0.729952                8.480835   \n",
       "min    9.211400e+04       0.000000       0.000000                0.000000   \n",
       "25%    3.085450e+05       0.000000       0.000000                2.000000   \n",
       "50%    5.435870e+05       0.000000       0.000000                5.000000   \n",
       "75%    8.172280e+05       0.000000       1.000000               10.000000   \n",
       "max    1.083472e+06      50.000000      53.000000               53.000000   \n",
       "\n",
       "            latitude      longitude  n_guns_involved  state_house_district  \\\n",
       "count  231754.000000  231754.000000    140226.000000         200905.000000   \n",
       "mean       37.546598     -89.338348         1.372442             55.447132   \n",
       "std         5.130763      14.359546         4.678202             42.048117   \n",
       "min        19.111400    -171.429000         1.000000              1.000000   \n",
       "25%        33.903400     -94.158725         1.000000             21.000000   \n",
       "50%        38.570600     -86.249600         1.000000             47.000000   \n",
       "75%        41.437375     -80.048625         1.000000             84.000000   \n",
       "max        71.336800      97.433100       400.000000            901.000000   \n",
       "\n",
       "       state_senate_district  \n",
       "count           207342.00000  \n",
       "mean                20.47711  \n",
       "std                 14.20456  \n",
       "min                  1.00000  \n",
       "25%                  9.00000  \n",
       "50%                 19.00000  \n",
       "75%                 30.00000  \n",
       "max                 94.00000  "
      ]
     },
     "execution_count": 6,
     "metadata": {},
     "output_type": "execute_result"
    }
   ],
   "source": [
    "data_gv.describe()"
   ]
  },
  {
   "cell_type": "code",
   "execution_count": 7,
   "metadata": {
    "_uuid": "88a79c046e19ad8f32b0ff48de02341f3f154254"
   },
   "outputs": [
    {
     "name": "stdout",
     "output_type": "stream",
     "text": [
      "<class 'pandas.core.frame.DataFrame'>\n",
      "RangeIndex: 239677 entries, 0 to 239676\n",
      "Data columns (total 29 columns):\n",
      " #   Column                       Non-Null Count   Dtype  \n",
      "---  ------                       --------------   -----  \n",
      " 0   incident_id                  239677 non-null  int64  \n",
      " 1   date                         239677 non-null  object \n",
      " 2   state                        239677 non-null  object \n",
      " 3   city_or_county               239677 non-null  object \n",
      " 4   address                      223180 non-null  object \n",
      " 5   n_killed                     239677 non-null  int64  \n",
      " 6   n_injured                    239677 non-null  int64  \n",
      " 7   incident_url                 239677 non-null  object \n",
      " 8   source_url                   239209 non-null  object \n",
      " 9   incident_url_fields_missing  239677 non-null  bool   \n",
      " 10  congressional_district       227733 non-null  float64\n",
      " 11  gun_stolen                   140179 non-null  object \n",
      " 12  gun_type                     140226 non-null  object \n",
      " 13  incident_characteristics     239351 non-null  object \n",
      " 14  latitude                     231754 non-null  float64\n",
      " 15  location_description         42089 non-null   object \n",
      " 16  longitude                    231754 non-null  float64\n",
      " 17  n_guns_involved              140226 non-null  float64\n",
      " 18  notes                        158660 non-null  object \n",
      " 19  participant_age              147379 non-null  object \n",
      " 20  participant_age_group        197558 non-null  object \n",
      " 21  participant_gender           203315 non-null  object \n",
      " 22  participant_name             117424 non-null  object \n",
      " 23  participant_relationship     15774 non-null   object \n",
      " 24  participant_status           212051 non-null  object \n",
      " 25  participant_type             214814 non-null  object \n",
      " 26  sources                      239068 non-null  object \n",
      " 27  state_house_district         200905 non-null  float64\n",
      " 28  state_senate_district        207342 non-null  float64\n",
      "dtypes: bool(1), float64(6), int64(3), object(19)\n",
      "memory usage: 51.4+ MB\n"
     ]
    }
   ],
   "source": [
    "data_gv.info()"
   ]
  },
  {
   "cell_type": "code",
   "execution_count": 8,
   "metadata": {
    "_uuid": "1a60a4b02f4d76f6d721987b3a3f95591b1cf6ea"
   },
   "outputs": [
    {
     "data": {
      "text/plain": [
       "(239677, 29)"
      ]
     },
     "execution_count": 8,
     "metadata": {},
     "output_type": "execute_result"
    }
   ],
   "source": [
    "data_gv.shape"
   ]
  },
  {
   "cell_type": "code",
   "execution_count": 9,
   "metadata": {
    "_uuid": "e606c7db2c0546e0b307edfa89003dcfa4f7328b"
   },
   "outputs": [],
   "source": [
    "# Removing columns not useful in analysis\n",
    "data_gv.drop([\"incident_characteristics\",\n",
    "              \"latitude\",\n",
    "              'longitude',\n",
    "              \"incident_url\",\n",
    "              \"sources\",\n",
    "              \"source_url\",\n",
    "              \"incident_url_fields_missing\",\n",
    "              \"location_description\",\n",
    "              \"participant_relationship\",\n",
    "              \"notes\",\n",
    "    ], axis=1, inplace=True)"
   ]
  },
  {
   "cell_type": "code",
   "execution_count": 10,
   "metadata": {
    "_uuid": "5de07dfbea0565be5bee982f39a9cf163bc9c415"
   },
   "outputs": [
    {
     "data": {
      "text/plain": [
       "array([nan, '0::Unknown||1::Unknown', '0::Handgun||1::Handgun', ...,\n",
       "       '0::Handgun||1::Handgun||2::Unknown||3::Unknown||4::Unknown||5::Unknown||6::Unknown||7::Unknown||8::Unknown||9::Unknown||10::Unknown||11::Unknown||12::Unknown||13::Unknown||14::Unknown||15::Unknown||16::Unknown||17::Unknown||18::Unknown||19::Unknown||20::Unknown||21::Unknown||22::Unknown||23::Unknown||24::Unknown',\n",
       "       '0::25 Auto||1::Shotgun||2::Shotgun||3::Shotgun',\n",
       "       '0::357 Mag||1::44 Mag||2::45 Auto||3::Rifle||4::Rifle||5::Rifle||6::Rifle||7::Rifle'],\n",
       "      dtype=object)"
      ]
     },
     "execution_count": 10,
     "metadata": {},
     "output_type": "execute_result"
    }
   ],
   "source": [
    "data_gv['gun_type'].unique()              # Which values"
   ]
  },
  {
   "cell_type": "code",
   "execution_count": 11,
   "metadata": {
    "_uuid": "99f12f610606a4b1adda350008036c6b5dbec74c"
   },
   "outputs": [],
   "source": [
    "##Converting object datatype to datetime\n",
    "data_gv['date'] = pd.to_datetime(data_gv['date']) "
   ]
  },
  {
   "cell_type": "code",
   "execution_count": 12,
   "metadata": {
    "_uuid": "1b7593bf41a6e9dd293f85f7c1b5d79316415eca"
   },
   "outputs": [
    {
     "data": {
      "text/plain": [
       "incident_id                        int64\n",
       "date                      datetime64[ns]\n",
       "state                             object\n",
       "city_or_county                    object\n",
       "address                           object\n",
       "n_killed                           int64\n",
       "n_injured                          int64\n",
       "congressional_district           float64\n",
       "gun_stolen                        object\n",
       "gun_type                          object\n",
       "n_guns_involved                  float64\n",
       "participant_age                   object\n",
       "participant_age_group             object\n",
       "participant_gender                object\n",
       "participant_name                  object\n",
       "participant_status                object\n",
       "participant_type                  object\n",
       "state_house_district             float64\n",
       "state_senate_district            float64\n",
       "f_month                           object\n",
       "f_year                            object\n",
       "f_weekday                         object\n",
       "dtype: object"
      ]
     },
     "execution_count": 12,
     "metadata": {},
     "output_type": "execute_result"
    }
   ],
   "source": [
    "# we can create columns for month, year and weekdays and extract values \n",
    "# from date for further analysis\n",
    "data_gv['f_month'] = data_gv['date'].dt.month\n",
    "data_gv['f_year'] = data_gv['date'].dt.year\n",
    "data_gv['f_weekday'] = data_gv['date'].dt.weekday\n",
    "\n",
    "data_gv['f_year'] = data_gv['f_year'].astype('object')\n",
    "data_gv['f_month'] = data_gv['f_month'].astype('object')\n",
    "data_gv['f_weekday'] = data_gv['f_weekday'].astype('object')\n",
    "\n",
    "#Check the datatype of columns are changed\n",
    "data_gv.dtypes"
   ]
  },
  {
   "cell_type": "code",
   "execution_count": 13,
   "metadata": {
    "_uuid": "c3293c3bd01eb6b9da2b36a82b64a7bacd5d333a"
   },
   "outputs": [],
   "source": [
    "# Created column for total number of persons impacted (injured+killed)\n",
    "data_gv['total_impacted'] = data_gv['n_killed'] + data_gv['n_injured']"
   ]
  },
  {
   "cell_type": "code",
   "execution_count": 14,
   "metadata": {
    "_uuid": "ecdc7fa9876ea9d1908919c321e139979658e58c"
   },
   "outputs": [],
   "source": [
    "# Checking for null value of column for guns involved and guns stolen \n",
    "data_gv[\"n_guns_involved\"] = data_gv[\"n_guns_involved\"].fillna(value =0)\n",
    "data_gv[\"gun_stolen\"] = data_gv[\"gun_stolen\"].fillna(value = \"0::Unknown\")"
   ]
  },
  {
   "cell_type": "code",
   "execution_count": 15,
   "metadata": {
    "_uuid": "aa29a88dc3cd0bcf9297ab00d7ff33dfba859562"
   },
   "outputs": [],
   "source": [
    "## Creating multiple columns from Participant's Gender column\n",
    "data_gv[\"participant_gender\"] = data_gv[\"participant_gender\"].fillna(\"0::Unknown\")\n",
    "    \n",
    "def gen(n) :                    \n",
    "    gen_rows = []               \n",
    "    gen_row = str(n).split(\"||\")    \n",
    "    for i in gen_row :              \n",
    "        g_row = str(i).split(\"::\")  \n",
    "        if len(g_row) > 1 :         \n",
    "            gen_rows.append(g_row[1])    \n",
    "\n",
    "    return gen_rows\n",
    "\n",
    "gen_series = data_gv.participant_gender.apply(gen)\n",
    "data_gv[\"total_participant\"] = gen_series.apply(lambda x: len(x))\n",
    "data_gv[\"male_participant\"] = gen_series.apply(lambda i: i.count(\"Male\"))\n",
    "data_gv[\"female_participant\"] = gen_series.apply(lambda i: i.count(\"Female\"))\n",
    "data_gv[\"unknown_participant\"] = gen_series.apply(lambda i: i.count(\"Unknown\"))\n"
   ]
  },
  {
   "cell_type": "code",
   "execution_count": 16,
   "metadata": {
    "_uuid": "64ddf881b84179621521a21ac2decd688718f7af"
   },
   "outputs": [
    {
     "data": {
      "text/html": [
       "<div>\n",
       "<style scoped>\n",
       "    .dataframe tbody tr th:only-of-type {\n",
       "        vertical-align: middle;\n",
       "    }\n",
       "\n",
       "    .dataframe tbody tr th {\n",
       "        vertical-align: top;\n",
       "    }\n",
       "\n",
       "    .dataframe thead th {\n",
       "        text-align: right;\n",
       "    }\n",
       "</style>\n",
       "<table border=\"1\" class=\"dataframe\">\n",
       "  <thead>\n",
       "    <tr style=\"text-align: right;\">\n",
       "      <th></th>\n",
       "      <th>incident_id</th>\n",
       "      <th>date</th>\n",
       "      <th>state</th>\n",
       "      <th>city_or_county</th>\n",
       "      <th>address</th>\n",
       "      <th>n_killed</th>\n",
       "      <th>n_injured</th>\n",
       "      <th>congressional_district</th>\n",
       "      <th>gun_stolen</th>\n",
       "      <th>gun_type</th>\n",
       "      <th>...</th>\n",
       "      <th>state_house_district</th>\n",
       "      <th>state_senate_district</th>\n",
       "      <th>f_month</th>\n",
       "      <th>f_year</th>\n",
       "      <th>f_weekday</th>\n",
       "      <th>total_impacted</th>\n",
       "      <th>total_participant</th>\n",
       "      <th>male_participant</th>\n",
       "      <th>female_participant</th>\n",
       "      <th>unknown_participant</th>\n",
       "    </tr>\n",
       "  </thead>\n",
       "  <tbody>\n",
       "    <tr>\n",
       "      <th>0</th>\n",
       "      <td>461105</td>\n",
       "      <td>2013-01-01</td>\n",
       "      <td>Pennsylvania</td>\n",
       "      <td>Mckeesport</td>\n",
       "      <td>1506 Versailles Avenue and Coursin Street</td>\n",
       "      <td>0</td>\n",
       "      <td>4</td>\n",
       "      <td>14.0</td>\n",
       "      <td>0::Unknown</td>\n",
       "      <td>NaN</td>\n",
       "      <td>...</td>\n",
       "      <td>NaN</td>\n",
       "      <td>NaN</td>\n",
       "      <td>1</td>\n",
       "      <td>2013</td>\n",
       "      <td>1</td>\n",
       "      <td>4</td>\n",
       "      <td>4</td>\n",
       "      <td>3</td>\n",
       "      <td>1</td>\n",
       "      <td>0</td>\n",
       "    </tr>\n",
       "    <tr>\n",
       "      <th>1</th>\n",
       "      <td>460726</td>\n",
       "      <td>2013-01-01</td>\n",
       "      <td>California</td>\n",
       "      <td>Hawthorne</td>\n",
       "      <td>13500 block of Cerise Avenue</td>\n",
       "      <td>1</td>\n",
       "      <td>3</td>\n",
       "      <td>43.0</td>\n",
       "      <td>0::Unknown</td>\n",
       "      <td>NaN</td>\n",
       "      <td>...</td>\n",
       "      <td>62.0</td>\n",
       "      <td>35.0</td>\n",
       "      <td>1</td>\n",
       "      <td>2013</td>\n",
       "      <td>1</td>\n",
       "      <td>4</td>\n",
       "      <td>1</td>\n",
       "      <td>1</td>\n",
       "      <td>0</td>\n",
       "      <td>0</td>\n",
       "    </tr>\n",
       "    <tr>\n",
       "      <th>2</th>\n",
       "      <td>478855</td>\n",
       "      <td>2013-01-01</td>\n",
       "      <td>Ohio</td>\n",
       "      <td>Lorain</td>\n",
       "      <td>1776 East 28th Street</td>\n",
       "      <td>1</td>\n",
       "      <td>3</td>\n",
       "      <td>9.0</td>\n",
       "      <td>0::Unknown||1::Unknown</td>\n",
       "      <td>0::Unknown||1::Unknown</td>\n",
       "      <td>...</td>\n",
       "      <td>56.0</td>\n",
       "      <td>13.0</td>\n",
       "      <td>1</td>\n",
       "      <td>2013</td>\n",
       "      <td>1</td>\n",
       "      <td>4</td>\n",
       "      <td>5</td>\n",
       "      <td>5</td>\n",
       "      <td>0</td>\n",
       "      <td>0</td>\n",
       "    </tr>\n",
       "    <tr>\n",
       "      <th>3</th>\n",
       "      <td>478925</td>\n",
       "      <td>2013-01-05</td>\n",
       "      <td>Colorado</td>\n",
       "      <td>Aurora</td>\n",
       "      <td>16000 block of East Ithaca Place</td>\n",
       "      <td>4</td>\n",
       "      <td>0</td>\n",
       "      <td>6.0</td>\n",
       "      <td>0::Unknown</td>\n",
       "      <td>NaN</td>\n",
       "      <td>...</td>\n",
       "      <td>40.0</td>\n",
       "      <td>28.0</td>\n",
       "      <td>1</td>\n",
       "      <td>2013</td>\n",
       "      <td>5</td>\n",
       "      <td>4</td>\n",
       "      <td>4</td>\n",
       "      <td>3</td>\n",
       "      <td>1</td>\n",
       "      <td>0</td>\n",
       "    </tr>\n",
       "    <tr>\n",
       "      <th>4</th>\n",
       "      <td>478959</td>\n",
       "      <td>2013-01-07</td>\n",
       "      <td>North Carolina</td>\n",
       "      <td>Greensboro</td>\n",
       "      <td>307 Mourning Dove Terrace</td>\n",
       "      <td>2</td>\n",
       "      <td>2</td>\n",
       "      <td>6.0</td>\n",
       "      <td>0::Unknown||1::Unknown</td>\n",
       "      <td>0::Handgun||1::Handgun</td>\n",
       "      <td>...</td>\n",
       "      <td>62.0</td>\n",
       "      <td>27.0</td>\n",
       "      <td>1</td>\n",
       "      <td>2013</td>\n",
       "      <td>0</td>\n",
       "      <td>4</td>\n",
       "      <td>4</td>\n",
       "      <td>2</td>\n",
       "      <td>2</td>\n",
       "      <td>0</td>\n",
       "    </tr>\n",
       "  </tbody>\n",
       "</table>\n",
       "<p>5 rows × 27 columns</p>\n",
       "</div>"
      ],
      "text/plain": [
       "   incident_id       date           state city_or_county  \\\n",
       "0       461105 2013-01-01    Pennsylvania     Mckeesport   \n",
       "1       460726 2013-01-01      California      Hawthorne   \n",
       "2       478855 2013-01-01            Ohio         Lorain   \n",
       "3       478925 2013-01-05        Colorado         Aurora   \n",
       "4       478959 2013-01-07  North Carolina     Greensboro   \n",
       "\n",
       "                                     address  n_killed  n_injured  \\\n",
       "0  1506 Versailles Avenue and Coursin Street         0          4   \n",
       "1               13500 block of Cerise Avenue         1          3   \n",
       "2                      1776 East 28th Street         1          3   \n",
       "3           16000 block of East Ithaca Place         4          0   \n",
       "4                  307 Mourning Dove Terrace         2          2   \n",
       "\n",
       "   congressional_district              gun_stolen                gun_type  \\\n",
       "0                    14.0              0::Unknown                     NaN   \n",
       "1                    43.0              0::Unknown                     NaN   \n",
       "2                     9.0  0::Unknown||1::Unknown  0::Unknown||1::Unknown   \n",
       "3                     6.0              0::Unknown                     NaN   \n",
       "4                     6.0  0::Unknown||1::Unknown  0::Handgun||1::Handgun   \n",
       "\n",
       "   ...  state_house_district state_senate_district f_month f_year f_weekday  \\\n",
       "0  ...                   NaN                   NaN       1   2013         1   \n",
       "1  ...                  62.0                  35.0       1   2013         1   \n",
       "2  ...                  56.0                  13.0       1   2013         1   \n",
       "3  ...                  40.0                  28.0       1   2013         5   \n",
       "4  ...                  62.0                  27.0       1   2013         0   \n",
       "\n",
       "  total_impacted total_participant  male_participant  female_participant  \\\n",
       "0              4                 4                 3                   1   \n",
       "1              4                 1                 1                   0   \n",
       "2              4                 5                 5                   0   \n",
       "3              4                 4                 3                   1   \n",
       "4              4                 4                 2                   2   \n",
       "\n",
       "  unknown_participant  \n",
       "0                   0  \n",
       "1                   0  \n",
       "2                   0  \n",
       "3                   0  \n",
       "4                   0  \n",
       "\n",
       "[5 rows x 27 columns]"
      ]
     },
     "execution_count": 16,
     "metadata": {},
     "output_type": "execute_result"
    }
   ],
   "source": [
    "# Checking values for new columns\n",
    "data_gv.head()\n"
   ]
  },
  {
   "cell_type": "code",
   "execution_count": 17,
   "metadata": {
    "_uuid": "7c644b86425dbe37a9ff5f185bf8124f3230c8ba"
   },
   "outputs": [
    {
     "data": {
      "text/plain": [
       "(239677, 27)"
      ]
     },
     "execution_count": 17,
     "metadata": {},
     "output_type": "execute_result"
    }
   ],
   "source": [
    "data_gv.shape"
   ]
  },
  {
   "cell_type": "markdown",
   "metadata": {
    "_uuid": "5b55cf11e0c5c5d532afe7a9e66ef732f9131320"
   },
   "source": [
    "### Start Plotting Graph"
   ]
  },
  {
   "cell_type": "code",
   "execution_count": 18,
   "metadata": {
    "_uuid": "948e5902f95827e32e81688b3043a37bacc95d18"
   },
   "outputs": [],
   "source": [
    "\n",
    "##As per assignment lets plot following graphs:\n",
    "#i)  Joint Distribution plots\n",
    "#ii)  Histograms\n",
    "#iii) Kernel Density plots\n",
    "#iv) Violin plots\n",
    "#v) Box plots\n",
    "#vi) FacetGrid"
   ]
  },
  {
   "cell_type": "code",
   "execution_count": 19,
   "metadata": {
    "_uuid": "a6d5666777e613d145ce71ee9c447cd55fa63312"
   },
   "outputs": [],
   "source": [
    "###########################Joint Distribution plots############################\n",
    "# Draw a jointplot between Number of Person Killed Vs Injured in all incidences\n",
    "# ALEX: remove plotting\n",
    "# sns.jointplot(\"n_injured\",\n",
    "#               \"n_killed\",\n",
    "#               data_gv,\n",
    "#               kind='scatter',      # kind : { “scatter” | “reg” | “resid” | “kde” | “hex” }, optional\n",
    "#               s=200, color='m', edgecolor=\"skyblue\", linewidth=2)\n"
   ]
  },
  {
   "cell_type": "code",
   "execution_count": 20,
   "metadata": {
    "_uuid": "d96829a1b37ca183f87019e35c9fa192e3fb234d"
   },
   "outputs": [],
   "source": [
    "# Draw a jointplot to identify Maximum Number of Person Injured in which incidence\n",
    "# ALEX: remove plotting\n",
    "# sns.jointplot(\"incident_id\",\n",
    "#               \"n_injured\",\n",
    "#               data_gv,\n",
    "#               kind='scatter'      # kind : { “scatter” | “reg” | “resid” | “kde” | “hex” }, optional\n",
    "#               )"
   ]
  },
  {
   "cell_type": "code",
   "execution_count": 21,
   "metadata": {
    "_uuid": "2f11b10fe9b809de23cbeacd8460baefb8005169"
   },
   "outputs": [],
   "source": [
    "# Draw a jointplot to identify Maximum Number of Person Killed in which incidence\n",
    "# ALEX: remove plotting\n",
    "# sns.jointplot(\"incident_id\",\n",
    "#               \"n_killed\",\n",
    "#               data_gv,\n",
    "#               kind='scatter',      # kind : { “scatter” | “reg” | “resid” | “kde” | “hex” }, optional\n",
    "#               color=\"Red\",\n",
    "#               marginal_kws={'color': 'red'})"
   ]
  },
  {
   "cell_type": "code",
   "execution_count": 22,
   "metadata": {
    "_uuid": "98ef38299ae1176acaf3904f5e5114c18d16efeb"
   },
   "outputs": [
    {
     "name": "stdout",
     "output_type": "stream",
     "text": [
      "                incident_id\n",
      "city_or_county             \n",
      "Chicago               10814\n",
      "Baltimore              3943\n",
      "Washington             3279\n",
      "New Orleans            3071\n",
      "Philadelphia           2963\n",
      "Houston                2501\n",
      "Saint Louis            2501\n",
      "Milwaukee              2487\n",
      "Jacksonville           2448\n",
      "Memphis                2386\n"
     ]
    }
   ],
   "source": [
    "###############################  Histograms  #########################\n",
    "\n",
    "# Plot a Histogram for Top 10 Cities with maximum incidents of Gun Violence\n",
    "ctwise_total = data_gv[[\"incident_id\"]].groupby(data_gv[\"city_or_county\"]).count()\n",
    "top_ct = ctwise_total.sort_values(by='incident_id', ascending=False).head(10)\n",
    "print(top_ct)\n",
    "# ALEX: remove plotting\n",
    "# top_ct.plot.barh()\n",
    "del(top_ct)"
   ]
  },
  {
   "cell_type": "code",
   "execution_count": 23,
   "metadata": {
    "_uuid": "e7df7e0eb63e5f70c114aea8cc2d752ad310d089"
   },
   "outputs": [
    {
     "name": "stdout",
     "output_type": "stream",
     "text": [
      "                incident_id\n",
      "state                      \n",
      "Illinois              17556\n",
      "California            16306\n",
      "Florida               15029\n",
      "Texas                 13577\n",
      "Ohio                  10244\n",
      "New York               9712\n",
      "Pennsylvania           8929\n",
      "Georgia                8925\n",
      "North Carolina         8739\n",
      "Louisiana              8103\n"
     ]
    }
   ],
   "source": [
    "# Plot a Histogram for Top 10 States with maximum incidents of Gun Violence\n",
    "stwise_total = data_gv[[\"incident_id\"]].groupby(data_gv[\"state\"]).count()\n",
    "top_st = stwise_total.sort_values(by='incident_id', ascending=False).head(10)\n",
    "print(top_st)\n",
    "# ALEX: remove plotting\n",
    "# top_st.plot.barh()\n",
    "del(top_st)\n"
   ]
  },
  {
   "cell_type": "code",
   "execution_count": 24,
   "metadata": {
    "_uuid": "150c2451fa5b01b8aa6cff57fdd7b3f31aa331ff"
   },
   "outputs": [],
   "source": [
    "# Plot a Histogram for Weekday wise Incidents\n",
    "weekwise_total = data_gv[[\"incident_id\"]].groupby(data_gv[\"f_weekday\"]).count()\n",
    "# ALEX: remove plotting\n",
    "# weekwise_total.plot.barh()\n",
    "del(weekwise_total)\n",
    "# Here, for weekdays Monday is 0 and Sunday is 6."
   ]
  },
  {
   "cell_type": "code",
   "execution_count": 25,
   "metadata": {
    "_uuid": "8eed74471fc5bed3d97265d07ac86060a886c197"
   },
   "outputs": [],
   "source": [
    "############################  Kernel Density plots  #################################\n",
    "# Density plot for gendrwise participant\n",
    "genderwise_total = data_gv[[\"total_participant\", \"male_participant\", \"female_participant\", \"unknown_participant\"]].groupby(data_gv[\"f_year\"]).sum()\n",
    "# ALEX: remove plotting\n",
    "# dp_gen_plot=sns.kdeplot(genderwise_total['male_participant'], shade=True, color=\"r\")\n",
    "# dp_gen_plot=sns.kdeplot(genderwise_total['female_participant'], shade=True, color=\"b\")\n",
    "# dp_gen_plot=sns.kdeplot(genderwise_total['unknown_participant'], shade=True, color=\"g\")\n",
    "_ = genderwise_total['male_participant']\n",
    "_ = genderwise_total['female_participant']\n",
    "_ = genderwise_total['unknown_participant']\n",
    "del(genderwise_total)"
   ]
  },
  {
   "cell_type": "code",
   "execution_count": 26,
   "metadata": {
    "_uuid": "404df1b8f91f30fcedbbe59d03fb0891abfcdcff"
   },
   "outputs": [],
   "source": [
    "# Density plot for person injured vs killed on all weekdays\n",
    "inj_kill_weektotal = data_gv[[\"n_injured\",\"n_killed\"]].groupby(data_gv[\"f_weekday\"]).sum()\n",
    "# ALEX: remove plotting\n",
    "# dp_inj_kill_plot=sns.kdeplot(inj_kill_weektotal['n_injured'], shade=True, color=\"r\")\n",
    "# dp_inj_kill_plot=sns.kdeplot(inj_kill_weektotal['n_killed'], shade=True, color=\"b\")\n",
    "_ = inj_kill_weektotal['n_injured']\n",
    "_ = inj_kill_weektotal['n_killed']\n",
    "del(inj_kill_weektotal)"
   ]
  },
  {
   "cell_type": "code",
   "execution_count": 27,
   "metadata": {
    "_uuid": "4f2b5d25f6e1ebeb719a740b30bdebfe14a03f7b"
   },
   "outputs": [],
   "source": [
    "################################## Violin plots #################################\n",
    "# Violin Plot for Yearwise Person Injured\n",
    "# ALEX: remove plotting\n",
    "# yr_injured_plot = sns.violinplot(\"f_year\", \"n_injured\", data=data_gv,\n",
    "#                                  split=True, inner=\"quartile\")\n",
    "# yr_injured_plot.set_title(\"Person killed in incidents per Year\")"
   ]
  },
  {
   "cell_type": "code",
   "execution_count": 28,
   "metadata": {
    "_uuid": "5baeadf8812e6c9d172b7db426d025324a0108c3"
   },
   "outputs": [],
   "source": [
    "#  Violin Plot for  Yearwise Person killed\n",
    "# ALEX: remove plotting\n",
    "# yr_killed_plot = sns.violinplot(\"f_year\", \"n_killed\",\n",
    "#                data=data_gv,\n",
    "#                split=True,         # If hue variable has two levels, draw half of a violin for each level.\n",
    "#                inner=\"quartile\"    #  Options: “box”, “quartile”, “point”, “stick”, None \n",
    "#                )\n"
   ]
  },
  {
   "cell_type": "code",
   "execution_count": 29,
   "metadata": {
    "_uuid": "ef32c39373362687de76ccaf859352c7032bf020"
   },
   "outputs": [
    {
     "name": "stdout",
     "output_type": "stream",
     "text": [
      "        total_impacted  n_injured  n_killed\n",
      "f_year                                     \n",
      "2013              1296        979       317\n",
      "2014             35559      23002     12557\n",
      "2015             40451      26967     13484\n",
      "2016             45646      30580     15066\n",
      "2017             46214      30703     15511\n",
      "2018              9704       6171      3533\n"
     ]
    }
   ],
   "source": [
    "#Violin Plot for Peron Impacted(Killed/Injured) during gun violence\n",
    "Impacted_person_total = data_gv[[\"total_impacted\", \"n_injured\", \"n_killed\"]].groupby(data_gv[\"f_year\"]).sum()\n",
    "print(Impacted_person_total)\n",
    "# ALEX: remove plotting\n",
    "# yr_impacted_plot = sns.violinplot(data=Impacted_person_total,\n",
    "#                split=True,         # If hue variable has two levels, draw half of a violin for each level.\n",
    "#                inner=\"quartile\"    #  Options: “box”, “quartile”, “point”, “stick”, None \n",
    "#                )\n",
    "del(Impacted_person_total)"
   ]
  },
  {
   "cell_type": "code",
   "execution_count": 30,
   "metadata": {
    "_uuid": "13f0a6e55e0250d9bd2e4e3a909b290dcb42aea8"
   },
   "outputs": [
    {
     "name": "stdout",
     "output_type": "stream",
     "text": [
      "        total_participant  male_participant  female_participant  \\\n",
      "f_year                                                            \n",
      "2013                 1281               981                 283   \n",
      "2014                83546             66809                9706   \n",
      "2015                87081             68781                9821   \n",
      "2016                94774             75707               10547   \n",
      "2017                95159             75484                9781   \n",
      "2018                21000             16340                2238   \n",
      "\n",
      "        unknown_participant  \n",
      "f_year                       \n",
      "2013                     17  \n",
      "2014                   7030  \n",
      "2015                   8479  \n",
      "2016                   8520  \n",
      "2017                   9894  \n",
      "2018                   2422  \n"
     ]
    }
   ],
   "source": [
    "#Violin Plot for Genderwise Peron involved/impacted during gun violence\n",
    "genderwise_total = data_gv[[\"total_participant\", \"male_participant\", \"female_participant\", \"unknown_participant\"]].groupby(data_gv[\"f_year\"]).sum()\n",
    "print(genderwise_total)\n",
    "# ALEX: remove plotting\n",
    "# yr_gender_plot = sns.violinplot(data=genderwise_total,\n",
    "#                split=True,         # If hue variable has two levels, draw half of a violin for each level.\n",
    "#                inner=\"quartile\"    #  Options: “box”, “quartile”, “point”, “stick”, None \n",
    "#                )\n",
    "\n",
    "del(genderwise_total)"
   ]
  },
  {
   "cell_type": "code",
   "execution_count": 31,
   "metadata": {
    "_uuid": "347842fd2b6695dbc3bbc4a6d13c27bff44f5944"
   },
   "outputs": [],
   "source": [
    "###################################  Box plots ##################################\n",
    "# Box Plot for Monthwise Person Killed\n",
    "# ALEX: remove plotting\n",
    "# mth_killed_plot = sns.boxplot(\"f_month\", \"n_killed\", data= data_gv)\n",
    "# mth_killed_plot.set_title(\"Person killed in incidents per month\")\n"
   ]
  },
  {
   "cell_type": "code",
   "execution_count": 32,
   "metadata": {
    "_uuid": "aa2b3ceaf3aca3bd4ffd55645bb9eb7bf95aca03"
   },
   "outputs": [],
   "source": [
    "# Box Plot for Monthwise Person Injured\n",
    "# ALEX: remove plotting\n",
    "# mth_injured_plot = sns.boxplot(\"f_month\", \"n_injured\", data= data_gv)\n",
    "# mth_injured_plot.set_title(\"Person injured in incidents per month\")\n"
   ]
  },
  {
   "cell_type": "code",
   "execution_count": 33,
   "metadata": {
    "_uuid": "df23534de0c6cca02b641191d8f3302dc05b1727"
   },
   "outputs": [],
   "source": [
    "####################################### Count Plot #################################\n",
    "# Count Plot for Statewise incidences of Gun Violence\n",
    "# ALEX: remove plotting\n",
    "# state_inc_plot = sns.countplot(\"state\", data = data_gv)\n",
    "# state_inc_plot.set_title(\"Staterwise incidence of Gun Violence\")\n",
    "# state_inc_plot.set_xticklabels(state_inc_plot.get_xticklabels(), rotation=90)"
   ]
  },
  {
   "cell_type": "code",
   "execution_count": 34,
   "metadata": {
    "_uuid": "65090259f08b9d0774e48e392877bc8932b2af20"
   },
   "outputs": [],
   "source": [
    "## Count Plot for State House District wise\n",
    "# ALEX: remove plotting\n",
    "# state_inc_plot = sns.countplot(\"state_house_district\", data = data_gv)\n",
    "# state_inc_plot.set_title(\"State House District wise incidence of Gun Violence\")\n",
    "# state_inc_plot.set_xticklabels(state_inc_plot.get_xticklabels())"
   ]
  },
  {
   "cell_type": "code",
   "execution_count": 35,
   "metadata": {
    "_uuid": "162f9508be769d095040970d2d1f2012092cf70d"
   },
   "outputs": [],
   "source": [
    "# Count Plot for State Senate District wise\n",
    "# ALEX: remove plotting\n",
    "# state_inc_plot = sns.countplot(\"state_senate_district\", data = data_gv)\n",
    "# state_inc_plot.set_title(\"State Senate District wise incidence of Gun Violence\")\n",
    "# state_inc_plot.set_xticklabels(state_inc_plot.get_xticklabels())\n"
   ]
  },
  {
   "cell_type": "code",
   "execution_count": 36,
   "metadata": {
    "_uuid": "d81f50ceb5fd52aa47910775ba6fcb199b49804d"
   },
   "outputs": [],
   "source": [
    "# Count Plot for Weekwise incidences of Gun Violence\n",
    "# ALEX: remove plotting\n",
    "# wk_inc_plot = sns.countplot(\"f_weekday\", data = data_gv)\n",
    "# wk_inc_plot.set_title(\"Weekwise incidence of Gun Violence\")"
   ]
  },
  {
   "cell_type": "code",
   "execution_count": 37,
   "metadata": {
    "_uuid": "dbbe412221390669a960c2b1c3db8b607be64570"
   },
   "outputs": [],
   "source": [
    "# Count Plot for Monthwise incidences of Gun Violence\n",
    "# ALEX: remove plotting\n",
    "# mth_inc_plot = sns.countplot(\"f_month\", data = data_gv)\n",
    "# mth_inc_plot.set_title(\"Monthwise incidence of Gun Violence\")"
   ]
  },
  {
   "cell_type": "code",
   "execution_count": 38,
   "metadata": {
    "_uuid": "f78724471ddb19f91cfbe500c6a59b86267782b1"
   },
   "outputs": [],
   "source": [
    "# Count Plot for Yearwise incidences of Gun Violence\n",
    "# ALEX: remove plotting\n",
    "# yr_inc_plot = sns.countplot(\"f_year\", data = data_gv)\n",
    "# yr_inc_plot.set_title(\"Yearwise incidence of Gun Violence\")"
   ]
  },
  {
   "cell_type": "code",
   "execution_count": 39,
   "metadata": {
    "_uuid": "9407ae73faf4155188bef8b814ab40129b5ea0d7"
   },
   "outputs": [],
   "source": [
    "################################# FacetGrid ################################\n",
    "# Facet Grid Graph for Male/ Female Partipant per Year\n",
    "# ALEX: remove plotting\n",
    "# g = sns.FacetGrid(data_gv, hue=\"f_year\", palette=\"Set1\", size=5, hue_kws={\"marker\": [\"^\", \"v\",\"*\",\">\",\"<\",\"o\"]})\n",
    "# g.map(plt.scatter, \"male_participant\", \"female_participant\", s=100, linewidth=.5, edgecolor=\"white\")\n",
    "# g.add_legend();"
   ]
  },
  {
   "cell_type": "code",
   "execution_count": 40,
   "metadata": {
    "_uuid": "d27ef5ddefe024a9369f692acc7a64b8f112fcd4"
   },
   "outputs": [],
   "source": [
    "# Facet Grid Graphh for Person killed and Injured per Year\n",
    "# ALEX: remove plotting\n",
    "# g = sns.FacetGrid(data_gv, hue=\"f_year\", palette=\"Set1\", size=5, hue_kws={\"marker\": [\"^\", \"v\",\"*\",\">\",\"<\",\"o\"]})\n",
    "# g.map(plt.scatter, \"n_injured\", \"n_killed\", s=100, linewidth=.5, edgecolor=\"white\")\n",
    "# g.add_legend();\n"
   ]
  },
  {
   "cell_type": "code",
   "execution_count": 41,
   "metadata": {
    "_uuid": "2fd0e99bcab9161692d238886541e332cccbc94b"
   },
   "outputs": [],
   "source": [
    "# Facet Grid Graphh for Person killed and Injured on Particular days of the week\n",
    "# ALEX: remove plotting\n",
    "# g = sns.FacetGrid(data_gv, hue=\"f_weekday\", palette=\"Set1\", size=5, hue_kws={\"marker\": [\"^\", \"v\",\"h\",\"o\",\">\",\"<\",\"d\"]})\n",
    "# g.map(plt.scatter, \"n_injured\", \"n_killed\", s=100, linewidth=.5, edgecolor=\"white\")\n",
    "# g.add_legend();"
   ]
  },
  {
   "cell_type": "code",
   "execution_count": 42,
   "metadata": {
    "_uuid": "ce7c92cde533f374996832ca9ca682d34da5556e"
   },
   "outputs": [],
   "source": [
    "## Please UPVOTE, if you Like the Data Exploration and Plotting"
   ]
  }
 ],
 "metadata": {
  "kernelspec": {
   "display_name": "Python 3 (ipykernel)",
   "language": "python",
   "name": "python3"
  },
  "language_info": {
   "codemirror_mode": {
    "name": "ipython",
    "version": 3
   },
   "file_extension": ".py",
   "mimetype": "text/x-python",
   "name": "python",
   "nbconvert_exporter": "python",
   "pygments_lexer": "ipython3",
   "version": "3.10.16"
  }
 },
 "nbformat": 4,
 "nbformat_minor": 1
}
