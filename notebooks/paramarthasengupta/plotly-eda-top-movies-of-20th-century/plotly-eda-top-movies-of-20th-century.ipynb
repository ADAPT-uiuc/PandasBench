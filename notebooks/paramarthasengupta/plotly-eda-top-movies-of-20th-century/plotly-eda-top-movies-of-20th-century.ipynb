{
 "cells": [
  {
   "cell_type": "code",
   "execution_count": null,
   "metadata": {},
   "outputs": [],
   "source": [
    "import os\n",
    "\n",
    "def scale_input_data(scale_factor):\n",
    "  file_bases = ['./input/Movie Dataset']\n",
    "  for file_base in file_bases:\n",
    "    import pandas as pd\n",
    "    import shutil\n",
    "    if scale_factor == 1.0:\n",
    "      shutil.copyfile(file_base + '.csv', file_base + '.scaled.csv')\n",
    "      continue\n",
    "    df_to_scale = pd.read_csv(file_base + '.csv', encoding='latin1')\n",
    "    new_num_rows = int(scale_factor * len(df_to_scale))\n",
    "    if scale_factor <= 1.0:\n",
    "      df_to_scale = df_to_scale.iloc[:new_num_rows]\n",
    "    else:\n",
    "      while len(df_to_scale) < new_num_rows:\n",
    "        df_to_scale = pd.concat([df_to_scale, df_to_scale[:min(new_num_rows - len(df_to_scale), len(df_to_scale))]])\n",
    "    df_to_scale.to_csv(file_base + '.scaled.csv', encoding='latin1')\n",
    "\n",
    "if 'INPUT_SCALE_FACTOR' in os.environ:\n",
    "  scale_input_data(float(os.environ['INPUT_SCALE_FACTOR']))"
   ]
  },
  {
   "cell_type": "markdown",
   "metadata": {
    "papermill": {
     "duration": 0.038959,
     "end_time": "2020-10-20T12:54:58.100823",
     "exception": false,
     "start_time": "2020-10-20T12:54:58.061864",
     "status": "completed"
    },
    "tags": []
   },
   "source": [
    "![](https://cropper.watch.aetnd.com/cdn.watch.aetnd.com/sites/2/2018/05/States_california-hollywood-sign.jpg)"
   ]
  },
  {
   "cell_type": "markdown",
   "metadata": {
    "papermill": {
     "duration": 0.035285,
     "end_time": "2020-10-20T12:54:58.171816",
     "exception": false,
     "start_time": "2020-10-20T12:54:58.136531",
     "status": "completed"
    },
    "tags": []
   },
   "source": [
    "# About the Notebook- An Introduction!!!"
   ]
  },
  {
   "cell_type": "markdown",
   "metadata": {
    "papermill": {
     "duration": 0.036941,
     "end_time": "2020-10-20T12:54:58.244453",
     "exception": false,
     "start_time": "2020-10-20T12:54:58.207512",
     "status": "completed"
    },
    "tags": []
   },
   "source": [
    "This Kernel has been used to perform an exploratory Data Analysis on the Top movies of the 20th Century. The total number of Movies that have been considered is about 1600. The Period in which the movies have been considered is ranging from 1920 to late 1990s. This era has been extremely appreciated for producing Quality movies which are highly acclaimed and appreciated even now.\n",
    "So lets enjoy the analysis- with a pon corn.\n",
    "![](data:image/jpeg;base64,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)"
   ]
  },
  {
   "cell_type": "markdown",
   "metadata": {
    "papermill": {
     "duration": 0.035007,
     "end_time": "2020-10-20T12:54:58.316892",
     "exception": false,
     "start_time": "2020-10-20T12:54:58.281885",
     "status": "completed"
    },
    "tags": []
   },
   "source": [
    "# Importing the Libraries and Ingesting the File!"
   ]
  },
  {
   "cell_type": "code",
   "execution_count": 1,
   "metadata": {
    "_cell_guid": "b1076dfc-b9ad-4769-8c92-a6c4dae69d19",
    "_uuid": "8f2839f25d086af736a60e9eeb907d3b93b6e0e5",
    "execution": {
     "iopub.execute_input": "2020-10-20T12:54:58.396254Z",
     "iopub.status.busy": "2020-10-20T12:54:58.395202Z",
     "iopub.status.idle": "2020-10-20T12:55:00.076296Z",
     "shell.execute_reply": "2020-10-20T12:55:00.077141Z"
    },
    "papermill": {
     "duration": 1.724654,
     "end_time": "2020-10-20T12:55:00.077352",
     "exception": false,
     "start_time": "2020-10-20T12:54:58.352698",
     "status": "completed"
    },
    "tags": []
   },
   "outputs": [],
   "source": [
    "# This Python 3 environment comes with many helpful analytics libraries installed\n",
    "# It is defined by the kaggle/python Docker image: https://github.com/kaggle/docker-python\n",
    "# For example, here's several helpful packages to load\n",
    "\n",
    "import numpy as np # linear algebra\n",
    "# import pandas as pd # data processing, CSV file I/O (e.g. pd.read_csv)\n",
    "exec(os.environ['IREWR_IMPORTS'])\n",
    "# ALEX: remove plotting\n",
    "# import matplotlib.pyplot as plt\n",
    "# import seaborn as sns\n",
    "# import plotly.express as px\n",
    "# from wordcloud import WordCloud\n",
    "\n",
    "# Input data files are available in the read-only \"../input/\" directory\n",
    "# For example, running this (by clicking run or pressing Shift+Enter) will list all files under the input directory\n",
    "\n",
    "# ALEX: remove path printing\n",
    "# import os\n",
    "# for dirname, _, filenames in os.walk('./input'):\n",
    "#     for filename in filenames:\n",
    "#         print(os.path.join(dirname, filename))\n",
    "\n",
    "# You can write up to 5GB to the current directory (/kaggle/working/) that gets preserved as output when you create a version using \"Save & Run All\" \n",
    "# You can also write temporary files to /kaggle/temp/, but they won't be saved outside of the current session"
   ]
  },
  {
   "cell_type": "markdown",
   "metadata": {
    "papermill": {
     "duration": 0.035842,
     "end_time": "2020-10-20T12:55:00.150487",
     "exception": false,
     "start_time": "2020-10-20T12:55:00.114645",
     "status": "completed"
    },
    "tags": []
   },
   "source": [
    "# Reading the file"
   ]
  },
  {
   "cell_type": "code",
   "execution_count": 2,
   "metadata": {
    "_cell_guid": "79c7e3d0-c299-4dcb-8224-4455121ee9b0",
    "_uuid": "d629ff2d2480ee46fbb7e2d37f6b5fab8052498a",
    "execution": {
     "iopub.execute_input": "2020-10-20T12:55:00.227892Z",
     "iopub.status.busy": "2020-10-20T12:55:00.227053Z",
     "iopub.status.idle": "2020-10-20T12:55:00.258916Z",
     "shell.execute_reply": "2020-10-20T12:55:00.259386Z"
    },
    "papermill": {
     "duration": 0.072866,
     "end_time": "2020-10-20T12:55:00.259559",
     "exception": false,
     "start_time": "2020-10-20T12:55:00.186693",
     "status": "completed"
    },
    "tags": []
   },
   "outputs": [
    {
     "data": {
      "text/html": [
       "<div>\n",
       "<style scoped>\n",
       "    .dataframe tbody tr th:only-of-type {\n",
       "        vertical-align: middle;\n",
       "    }\n",
       "\n",
       "    .dataframe tbody tr th {\n",
       "        vertical-align: top;\n",
       "    }\n",
       "\n",
       "    .dataframe thead th {\n",
       "        text-align: right;\n",
       "    }\n",
       "</style>\n",
       "<table border=\"1\" class=\"dataframe\">\n",
       "  <thead>\n",
       "    <tr style=\"text-align: right;\">\n",
       "      <th></th>\n",
       "      <th>Year</th>\n",
       "      <th>Length</th>\n",
       "      <th>Title</th>\n",
       "      <th>Subject</th>\n",
       "      <th>Actor</th>\n",
       "      <th>Actress</th>\n",
       "      <th>Director</th>\n",
       "      <th>Popularity</th>\n",
       "      <th>Awards</th>\n",
       "    </tr>\n",
       "  </thead>\n",
       "  <tbody>\n",
       "    <tr>\n",
       "      <th>0</th>\n",
       "      <td>1990</td>\n",
       "      <td>111.0</td>\n",
       "      <td>Tie Me Up! Tie Me Down!</td>\n",
       "      <td>Comedy</td>\n",
       "      <td>Banderas Antonio</td>\n",
       "      <td>Abril Victoria</td>\n",
       "      <td>Almod\u00f3var Pedro</td>\n",
       "      <td>68.0</td>\n",
       "      <td>No</td>\n",
       "    </tr>\n",
       "    <tr>\n",
       "      <th>1</th>\n",
       "      <td>1991</td>\n",
       "      <td>113.0</td>\n",
       "      <td>High Heels</td>\n",
       "      <td>Comedy</td>\n",
       "      <td>Bos\u00e9 Miguel</td>\n",
       "      <td>Abril Victoria</td>\n",
       "      <td>Almod\u00f3var Pedro</td>\n",
       "      <td>68.0</td>\n",
       "      <td>No</td>\n",
       "    </tr>\n",
       "    <tr>\n",
       "      <th>2</th>\n",
       "      <td>1983</td>\n",
       "      <td>104.0</td>\n",
       "      <td>Dead Zone The</td>\n",
       "      <td>Horror</td>\n",
       "      <td>Walken Christopher</td>\n",
       "      <td>Adams Brooke</td>\n",
       "      <td>Cronenberg David</td>\n",
       "      <td>79.0</td>\n",
       "      <td>No</td>\n",
       "    </tr>\n",
       "    <tr>\n",
       "      <th>3</th>\n",
       "      <td>1979</td>\n",
       "      <td>122.0</td>\n",
       "      <td>Cuba</td>\n",
       "      <td>Action</td>\n",
       "      <td>Connery Sean</td>\n",
       "      <td>Adams Brooke</td>\n",
       "      <td>Lester Richard</td>\n",
       "      <td>6.0</td>\n",
       "      <td>No</td>\n",
       "    </tr>\n",
       "    <tr>\n",
       "      <th>4</th>\n",
       "      <td>1978</td>\n",
       "      <td>94.0</td>\n",
       "      <td>Days of Heaven</td>\n",
       "      <td>Drama</td>\n",
       "      <td>Gere Richard</td>\n",
       "      <td>Adams Brooke</td>\n",
       "      <td>Malick Terrence</td>\n",
       "      <td>14.0</td>\n",
       "      <td>No</td>\n",
       "    </tr>\n",
       "  </tbody>\n",
       "</table>\n",
       "</div>"
      ],
      "text/plain": [
       "   Year  Length                    Title Subject               Actor  \\\n",
       "0  1990   111.0  Tie Me Up! Tie Me Down!  Comedy    Banderas Antonio   \n",
       "1  1991   113.0               High Heels  Comedy         Bos\u00e9 Miguel   \n",
       "2  1983   104.0            Dead Zone The  Horror  Walken Christopher   \n",
       "3  1979   122.0                     Cuba  Action        Connery Sean   \n",
       "4  1978    94.0           Days of Heaven   Drama        Gere Richard   \n",
       "\n",
       "          Actress          Director  Popularity Awards  \n",
       "0  Abril Victoria   Almod\u00f3var Pedro        68.0     No  \n",
       "1  Abril Victoria   Almod\u00f3var Pedro        68.0     No  \n",
       "2    Adams Brooke  Cronenberg David        79.0     No  \n",
       "3    Adams Brooke    Lester Richard         6.0     No  \n",
       "4    Adams Brooke   Malick Terrence        14.0     No  "
      ]
     },
     "execution_count": 2,
     "metadata": {},
     "output_type": "execute_result"
    }
   ],
   "source": [
    "movie=pd.read_csv('./input/Movie Dataset.scaled.csv',encoding='latin1')\n",
    "movie.head()"
   ]
  },
  {
   "cell_type": "markdown",
   "metadata": {
    "papermill": {
     "duration": 0.036465,
     "end_time": "2020-10-20T12:55:00.333060",
     "exception": false,
     "start_time": "2020-10-20T12:55:00.296595",
     "status": "completed"
    },
    "tags": []
   },
   "source": [
    "# Identifying the Null entries!!!"
   ]
  },
  {
   "cell_type": "code",
   "execution_count": 3,
   "metadata": {
    "execution": {
     "iopub.execute_input": "2020-10-20T12:55:00.415160Z",
     "iopub.status.busy": "2020-10-20T12:55:00.414366Z",
     "iopub.status.idle": "2020-10-20T12:55:00.418612Z",
     "shell.execute_reply": "2020-10-20T12:55:00.417992Z"
    },
    "papermill": {
     "duration": 0.048841,
     "end_time": "2020-10-20T12:55:00.418731",
     "exception": false,
     "start_time": "2020-10-20T12:55:00.369890",
     "status": "completed"
    },
    "tags": []
   },
   "outputs": [
    {
     "data": {
      "text/plain": [
       "Year            0\n",
       "Length         67\n",
       "Title           0\n",
       "Subject         2\n",
       "Actor           8\n",
       "Actress       378\n",
       "Director      253\n",
       "Popularity     13\n",
       "Awards          7\n",
       "dtype: int64"
      ]
     },
     "execution_count": 3,
     "metadata": {},
     "output_type": "execute_result"
    }
   ],
   "source": [
    "movie.isnull().sum()"
   ]
  },
  {
   "cell_type": "markdown",
   "metadata": {
    "papermill": {
     "duration": 0.037026,
     "end_time": "2020-10-20T12:55:00.493234",
     "exception": false,
     "start_time": "2020-10-20T12:55:00.456208",
     "status": "completed"
    },
    "tags": []
   },
   "source": [
    "**Observation** We see there are multiple null entries for the columns. But since the dataset is small, we shall not exclude all of them at once. We shall move ahead with them and clean them as per our necessity to obtain the maximum information"
   ]
  },
  {
   "cell_type": "markdown",
   "metadata": {
    "papermill": {
     "duration": 0.03665,
     "end_time": "2020-10-20T12:55:00.567026",
     "exception": false,
     "start_time": "2020-10-20T12:55:00.530376",
     "status": "completed"
    },
    "tags": []
   },
   "source": [
    "# Identifying the data types"
   ]
  },
  {
   "cell_type": "code",
   "execution_count": 4,
   "metadata": {
    "execution": {
     "iopub.execute_input": "2020-10-20T12:55:00.648473Z",
     "iopub.status.busy": "2020-10-20T12:55:00.647559Z",
     "iopub.status.idle": "2020-10-20T12:55:00.651104Z",
     "shell.execute_reply": "2020-10-20T12:55:00.650644Z"
    },
    "papermill": {
     "duration": 0.046693,
     "end_time": "2020-10-20T12:55:00.651224",
     "exception": false,
     "start_time": "2020-10-20T12:55:00.604531",
     "status": "completed"
    },
    "tags": []
   },
   "outputs": [
    {
     "data": {
      "text/plain": [
       "Year            int64\n",
       "Length        float64\n",
       "Title          object\n",
       "Subject        object\n",
       "Actor          object\n",
       "Actress        object\n",
       "Director       object\n",
       "Popularity    float64\n",
       "Awards         object\n",
       "dtype: object"
      ]
     },
     "execution_count": 4,
     "metadata": {},
     "output_type": "execute_result"
    }
   ],
   "source": [
    "movie.dtypes"
   ]
  },
  {
   "cell_type": "markdown",
   "metadata": {
    "papermill": {
     "duration": 0.037388,
     "end_time": "2020-10-20T12:55:00.726655",
     "exception": false,
     "start_time": "2020-10-20T12:55:00.689267",
     "status": "completed"
    },
    "tags": []
   },
   "source": [
    "**Observations** The data types are perfectly suited to our requirement. Since we are good regarding understanding of the data,we can start out analysis now!"
   ]
  },
  {
   "cell_type": "markdown",
   "metadata": {
    "papermill": {
     "duration": 0.037331,
     "end_time": "2020-10-20T12:55:00.801610",
     "exception": false,
     "start_time": "2020-10-20T12:55:00.764279",
     "status": "completed"
    },
    "tags": []
   },
   "source": [
    "# The Analysis"
   ]
  },
  {
   "cell_type": "markdown",
   "metadata": {
    "papermill": {
     "duration": 0.037307,
     "end_time": "2020-10-20T12:55:00.876963",
     "exception": false,
     "start_time": "2020-10-20T12:55:00.839656",
     "status": "completed"
    },
    "tags": []
   },
   "source": [
    "# How has the number of Movies released vary with Time?"
   ]
  },
  {
   "cell_type": "code",
   "execution_count": 5,
   "metadata": {
    "execution": {
     "iopub.execute_input": "2020-10-20T12:55:00.963145Z",
     "iopub.status.busy": "2020-10-20T12:55:00.962406Z",
     "iopub.status.idle": "2020-10-20T12:55:01.840557Z",
     "shell.execute_reply": "2020-10-20T12:55:01.839845Z"
    },
    "papermill": {
     "duration": 0.92583,
     "end_time": "2020-10-20T12:55:01.840693",
     "exception": false,
     "start_time": "2020-10-20T12:55:00.914863",
     "status": "completed"
    },
    "tags": []
   },
   "outputs": [],
   "source": [
    "yr_cnt=movie.groupby('Year').apply(lambda x:x['Title'].count()).reset_index(name='Count')\n",
    "# ALEX: remove plotting\n",
    "# fig = px.bar(yr_cnt, y='Count', x='Year', text='Count',title='Number of Succesful Movies launched by year of the 20th Century')\n",
    "# fig.update_traces(texttemplate='%{text:.2s}', textposition='outside')\n",
    "# fig.update_layout(uniformtext_minsize=8, uniformtext_mode='hide')\n",
    "# fig.show()"
   ]
  },
  {
   "cell_type": "markdown",
   "metadata": {
    "papermill": {
     "duration": 0.038784,
     "end_time": "2020-10-20T12:55:01.918954",
     "exception": false,
     "start_time": "2020-10-20T12:55:01.880170",
     "status": "completed"
    },
    "tags": []
   },
   "source": [
    "**Observation** As per the data set available to us, We notice that the number of movies released every year has increased. But this is subjected to the completedness of the dataset. as we see beyond 1990, the data is not very rich hence a detailed analysis could not be done for that part. But considering 1930-90, we might be able to infer that the number of movies released have risen"
   ]
  },
  {
   "cell_type": "markdown",
   "metadata": {
    "papermill": {
     "duration": 0.03847,
     "end_time": "2020-10-20T12:55:01.996240",
     "exception": false,
     "start_time": "2020-10-20T12:55:01.957770",
     "status": "completed"
    },
    "tags": []
   },
   "source": [
    "# Which Movie Genre has been the most popular over the Years? Which Genres have grown over time?"
   ]
  },
  {
   "cell_type": "markdown",
   "metadata": {
    "papermill": {
     "duration": 0.038676,
     "end_time": "2020-10-20T12:55:02.074008",
     "exception": false,
     "start_time": "2020-10-20T12:55:02.035332",
     "status": "completed"
    },
    "tags": []
   },
   "source": [
    "![](https://previews.123rf.com/images/luplupme/luplupme1706/luplupme170600813/81127129-cinema-genre-icons-set-cinematography-flat-entertainment-comedy-drama-thriller-movie-production-symb.jpg)"
   ]
  },
  {
   "cell_type": "code",
   "execution_count": 6,
   "metadata": {
    "execution": {
     "iopub.execute_input": "2020-10-20T12:55:02.161713Z",
     "iopub.status.busy": "2020-10-20T12:55:02.161023Z",
     "iopub.status.idle": "2020-10-20T12:55:02.328728Z",
     "shell.execute_reply": "2020-10-20T12:55:02.328205Z"
    },
    "papermill": {
     "duration": 0.21366,
     "end_time": "2020-10-20T12:55:02.328847",
     "exception": false,
     "start_time": "2020-10-20T12:55:02.115187",
     "status": "completed"
    },
    "tags": []
   },
   "outputs": [],
   "source": [
    "yr_cnt=movie.groupby(['Year','Subject']).apply(lambda x:x['Title'].count()).reset_index(name='Count')\n",
    "# ALEX: remove plotting\n",
    "# plt.figure(figsize=(12,8))\n",
    "# fig = px.area(yr_cnt, x=\"Year\", y=\"Count\",color=\"Subject\",title='Count of Movies Genres by the Years')\n",
    "# fig.show()"
   ]
  },
  {
   "cell_type": "markdown",
   "metadata": {
    "papermill": {
     "duration": 0.041101,
     "end_time": "2020-10-20T12:55:02.410342",
     "exception": false,
     "start_time": "2020-10-20T12:55:02.369241",
     "status": "completed"
    },
    "tags": []
   },
   "source": [
    "**Observations** Overall with time, each and every genre has seen a raise in the number of movies launced. Romance has been a constant favourite Genre of the viewers. Genres like War have gained a boost after 1930s- which might be a hint to the after World War I era- as well as building up tension phase between the nations. Genres like Crime, Horror, Western too have seen an increase with time."
   ]
  },
  {
   "cell_type": "markdown",
   "metadata": {
    "papermill": {
     "duration": 0.039882,
     "end_time": "2020-10-20T12:55:02.490619",
     "exception": false,
     "start_time": "2020-10-20T12:55:02.450737",
     "status": "completed"
    },
    "tags": []
   },
   "source": [
    "# Did the Movie Time vary over the Years?"
   ]
  },
  {
   "cell_type": "code",
   "execution_count": 7,
   "metadata": {
    "execution": {
     "iopub.execute_input": "2020-10-20T12:55:02.579015Z",
     "iopub.status.busy": "2020-10-20T12:55:02.578202Z",
     "iopub.status.idle": "2020-10-20T12:55:02.988327Z",
     "shell.execute_reply": "2020-10-20T12:55:02.987723Z"
    },
    "papermill": {
     "duration": 0.457518,
     "end_time": "2020-10-20T12:55:02.988453",
     "exception": false,
     "start_time": "2020-10-20T12:55:02.530935",
     "status": "completed"
    },
    "tags": []
   },
   "outputs": [],
   "source": [
    "movie_len=movie[movie['Length'].isnull()==False]\n",
    "movie_length=movie_len.groupby('Year').apply(lambda x:np.average(x['Length'])).reset_index(name='Average_Length')\n",
    "# ALEX: remove plotting\n",
    "# plt.figure(figsize=(8,8))\n",
    "# sns.regplot(movie_length['Year'],movie_length['Average_Length'],color='red',logx=True)\n",
    "# plt.xlabel('Years',size=15)\n",
    "# plt.ylabel('Average Movie Length',size=15)\n",
    "# plt.title('Variation of Movie Length over the Years',size=20)\n",
    "_ = movie_length['Year']\n",
    "_ = movie_length['Average_Length']\n"
   ]
  },
  {
   "cell_type": "markdown",
   "metadata": {
    "papermill": {
     "duration": 0.041898,
     "end_time": "2020-10-20T12:55:03.071832",
     "exception": false,
     "start_time": "2020-10-20T12:55:03.029934",
     "status": "completed"
    },
    "tags": []
   },
   "source": [
    "**Observation** Performing a basic regression, we see that the General movie timings have increased with the passing by time. However there are many outliers to the plot indicating the extent of variation. But the average time during the 70-80s have been highest, which further went down in the 90s"
   ]
  },
  {
   "cell_type": "markdown",
   "metadata": {
    "papermill": {
     "duration": 0.048815,
     "end_time": "2020-10-20T12:55:03.169019",
     "exception": false,
     "start_time": "2020-10-20T12:55:03.120204",
     "status": "completed"
    },
    "tags": []
   },
   "source": [
    "# What is the Average movie time for each Genre over the Years?"
   ]
  },
  {
   "cell_type": "code",
   "execution_count": 8,
   "metadata": {
    "execution": {
     "iopub.execute_input": "2020-10-20T12:55:03.280030Z",
     "iopub.status.busy": "2020-10-20T12:55:03.279334Z",
     "iopub.status.idle": "2020-10-20T12:55:03.400851Z",
     "shell.execute_reply": "2020-10-20T12:55:03.401405Z"
    },
    "papermill": {
     "duration": 0.17492,
     "end_time": "2020-10-20T12:55:03.401607",
     "exception": false,
     "start_time": "2020-10-20T12:55:03.226687",
     "status": "completed"
    },
    "tags": []
   },
   "outputs": [],
   "source": [
    "yr_sub_avg=movie.groupby(['Year','Subject']).apply(lambda x:x['Length'].mean()).reset_index(name='Average Movie Time')\n",
    "# ALEX: remove plotting\n",
    "# plt.figure(figsize=(12,8))\n",
    "# fig = px.area(yr_sub_avg, x=\"Year\", y=\"Average Movie Time\",color='Subject')\n",
    "# fig.show()"
   ]
  },
  {
   "cell_type": "markdown",
   "metadata": {
    "papermill": {
     "duration": 0.042528,
     "end_time": "2020-10-20T12:55:03.488124",
     "exception": false,
     "start_time": "2020-10-20T12:55:03.445596",
     "status": "completed"
    },
    "tags": []
   },
   "source": [
    "**Observation** As seen previously, the movie times have increased with the passing years, so is presented in the baove graph. Genres like Drama have been almost constant in the movie length- on the other hand, genres like romance have increased drastically- taking up the top spot in terms of the longest movies."
   ]
  },
  {
   "cell_type": "markdown",
   "metadata": {
    "papermill": {
     "duration": 0.042633,
     "end_time": "2020-10-20T12:55:03.573643",
     "exception": false,
     "start_time": "2020-10-20T12:55:03.531010",
     "status": "completed"
    },
    "tags": []
   },
   "source": [
    "# Has the length of Movie Time over the Years impact the popularity of the movie?"
   ]
  },
  {
   "cell_type": "markdown",
   "metadata": {
    "papermill": {
     "duration": 0.042524,
     "end_time": "2020-10-20T12:55:03.658887",
     "exception": false,
     "start_time": "2020-10-20T12:55:03.616363",
     "status": "completed"
    },
    "tags": []
   },
   "source": [
    "![](https://static.rogerebert.com/uploads/movie/movie_poster/war-and-peace-1969/large_wiN9njk9YRzwAiwXI2W5SGNsGeK.jpg)"
   ]
  },
  {
   "cell_type": "markdown",
   "metadata": {
    "papermill": {
     "duration": 0.04248,
     "end_time": "2020-10-20T12:55:03.744146",
     "exception": false,
     "start_time": "2020-10-20T12:55:03.701666",
     "status": "completed"
    },
    "tags": []
   },
   "source": [
    "**In Picture:** The 1968 Movie, War and Peace- that holds the position for being the most popular lengthy film in the era"
   ]
  },
  {
   "cell_type": "code",
   "execution_count": 9,
   "metadata": {
    "execution": {
     "iopub.execute_input": "2020-10-20T12:55:03.839308Z",
     "iopub.status.busy": "2020-10-20T12:55:03.836327Z",
     "iopub.status.idle": "2020-10-20T12:55:03.961273Z",
     "shell.execute_reply": "2020-10-20T12:55:03.961762Z"
    },
    "papermill": {
     "duration": 0.174959,
     "end_time": "2020-10-20T12:55:03.961901",
     "exception": false,
     "start_time": "2020-10-20T12:55:03.786942",
     "status": "completed"
    },
    "tags": []
   },
   "outputs": [],
   "source": [
    "movie_check=movie[movie['Popularity'].isnull()==False]\n",
    "movie_len_pop=movie_check[['Length','Year','Popularity','Title','Director','Actor','Actress']]\n",
    "# ALEX: remove plotting\n",
    "# fig = px.scatter(movie_len_pop, x='Year', y='Length',\n",
    "#                 size='Popularity',color='Popularity',\n",
    "#                  hover_data=['Title','Director','Actor','Actress'],\n",
    "#                  title='Variation of Movie Length over the years, and estimating its populartiy')\n",
    "# fig.show()"
   ]
  },
  {
   "cell_type": "markdown",
   "metadata": {
    "papermill": {
     "duration": 0.046696,
     "end_time": "2020-10-20T12:55:04.056838",
     "exception": false,
     "start_time": "2020-10-20T12:55:04.010142",
     "status": "completed"
    },
    "tags": []
   },
   "source": [
    "# Which have been the most popular movies of the 20th century by Genre?"
   ]
  },
  {
   "cell_type": "markdown",
   "metadata": {
    "papermill": {
     "duration": 0.046372,
     "end_time": "2020-10-20T12:55:04.150102",
     "exception": false,
     "start_time": "2020-10-20T12:55:04.103730",
     "status": "completed"
    },
    "tags": []
   },
   "source": [
    "![](https://encrypted-tbn0.gstatic.com/images?q=tbn:ANd9GcRohYQrI8_cEUmxMKoBCTBTRZsbtSf_yrBJIRtuTAF8CK1zkkN2)"
   ]
  },
  {
   "cell_type": "code",
   "execution_count": 10,
   "metadata": {
    "execution": {
     "iopub.execute_input": "2020-10-20T12:55:04.252455Z",
     "iopub.status.busy": "2020-10-20T12:55:04.251713Z",
     "iopub.status.idle": "2020-10-20T12:55:04.261914Z",
     "shell.execute_reply": "2020-10-20T12:55:04.261297Z"
    },
    "papermill": {
     "duration": 0.064285,
     "end_time": "2020-10-20T12:55:04.262022",
     "exception": false,
     "start_time": "2020-10-20T12:55:04.197737",
     "status": "completed"
    },
    "tags": []
   },
   "outputs": [
    {
     "name": "stdout",
     "output_type": "stream",
     "text": [
      "The Top 20 most popular movies are:\n",
      "       Year                              Title          Subject\n",
      "27    1980               Happy Birthday to Me           Horror\n",
      "1311  1963                         Terror The           Horror\n",
      "156   1935                       Swedenhielms            Drama\n",
      "1329  1945               They Were Expendable              War\n",
      "825   1960                   Time Machine The  Science Fiction\n",
      "28    1989                       Final Notice          Mystery\n",
      "600   1989                     New Year's Day           Comedy\n",
      "969   1986                  Best of Times The           Comedy\n",
      "169   1991                          Raw Nerve          Mystery\n",
      "1022  1982             Ballad of Narayama The            Drama\n",
      "940   1990                  Dangerous Pursuit          Mystery\n",
      "634   1970                  Fellini Satyricon            Drama\n",
      "914   1992                          Class Act            Drama\n",
      "48    1985  Gonzo Presents Muppet Weird Stuff           Comedy\n",
      "1256  1991                     Great Race The           Comedy\n",
      "858   1940               Long Voyage Home The            Drama\n",
      "1340  1971              French Connection The            Drama\n",
      "1449  1990                 Blood in Blood Out            Drama\n",
      "429   1988                       Five Corners            Drama\n",
      "1459  1972                   Jeremiah Johnson            Drama\n"
     ]
    },
    {
     "name": "stderr",
     "output_type": "stream",
     "text": [
      "/tmp/ipykernel_339678/2104413940.py:2: SettingWithCopyWarning: \n",
      "A value is trying to be set on a copy of a slice from a DataFrame\n",
      "\n",
      "See the caveats in the documentation: https://pandas.pydata.org/pandas-docs/stable/user_guide/indexing.html#returning-a-view-versus-a-copy\n",
      "  movie_pop.sort_values(by='Popularity',ascending=False,inplace=True)\n"
     ]
    }
   ],
   "source": [
    "movie_pop=movie[['Title','Year','Popularity','Subject']]\n",
    "movie_pop.sort_values(by='Popularity',ascending=False,inplace=True)\n",
    "movie_top=movie_pop[['Year','Title','Subject']][:20]\n",
    "print('The Top 20 most popular movies are:\\n',movie_top)"
   ]
  },
  {
   "cell_type": "markdown",
   "metadata": {
    "papermill": {
     "duration": 0.04758,
     "end_time": "2020-10-20T12:55:04.357567",
     "exception": false,
     "start_time": "2020-10-20T12:55:04.309987",
     "status": "completed"
    },
    "tags": []
   },
   "source": [
    "# Let's create a Word Cloud from  the Movie Names"
   ]
  },
  {
   "cell_type": "code",
   "execution_count": 11,
   "metadata": {
    "execution": {
     "iopub.execute_input": "2020-10-20T12:55:04.474126Z",
     "iopub.status.busy": "2020-10-20T12:55:04.473314Z",
     "iopub.status.idle": "2020-10-20T12:55:07.820943Z",
     "shell.execute_reply": "2020-10-20T12:55:07.821416Z"
    },
    "papermill": {
     "duration": 3.414394,
     "end_time": "2020-10-20T12:55:07.821572",
     "exception": false,
     "start_time": "2020-10-20T12:55:04.407178",
     "status": "completed"
    },
    "tags": []
   },
   "outputs": [],
   "source": [
    "word_list=movie.Title.tolist()\n",
    "# ALEX: remove plotting\n",
    "# strr=''\n",
    "# for i in word_list:\n",
    "#     strr=strr+i+' '\n",
    "# wordcloud = WordCloud(width = 1200, height = 1200, \n",
    "#                 background_color ='white',collocations=False,  \n",
    "#                 min_font_size = 12).generate(strr) \n",
    "# plt.figure(figsize = (8, 8), facecolor = 'grey') \n",
    "# plt.imshow(wordcloud) \n",
    "# plt.axis(\"off\") \n",
    "# plt.tight_layout(pad = 0)\n",
    "# plt.title('WordCloud using the Movie Names',size=40)"
   ]
  },
  {
   "cell_type": "markdown",
   "metadata": {
    "papermill": {
     "duration": 0.10094,
     "end_time": "2020-10-20T12:55:07.980031",
     "exception": false,
     "start_time": "2020-10-20T12:55:07.879091",
     "status": "completed"
    },
    "tags": []
   },
   "source": [
    "# Who were the Top 10 Actors of the Century?"
   ]
  },
  {
   "cell_type": "markdown",
   "metadata": {
    "papermill": {
     "duration": 0.05586,
     "end_time": "2020-10-20T12:55:08.092121",
     "exception": false,
     "start_time": "2020-10-20T12:55:08.036261",
     "status": "completed"
    },
    "tags": []
   },
   "source": [
    "![](https://upload.wikimedia.org/wikipedia/commons/7/7b/John_Wayne_-_still_portrait.jpg)"
   ]
  },
  {
   "cell_type": "markdown",
   "metadata": {
    "papermill": {
     "duration": 0.055732,
     "end_time": "2020-10-20T12:55:08.203867",
     "exception": false,
     "start_time": "2020-10-20T12:55:08.148135",
     "status": "completed"
    },
    "tags": []
   },
   "source": [
    "**In Picture** Marion Michael Morrison, known professionally as John Wayne and nicknamed Duke, was an American actor, director, producer and Presidential Medal of Freedom recipient. He was among the top box office draws for three decades, famous for his roles in Western films."
   ]
  },
  {
   "cell_type": "code",
   "execution_count": 12,
   "metadata": {
    "execution": {
     "iopub.execute_input": "2020-10-20T12:55:08.399293Z",
     "iopub.status.busy": "2020-10-20T12:55:08.328247Z",
     "iopub.status.idle": "2020-10-20T12:55:11.743617Z",
     "shell.execute_reply": "2020-10-20T12:55:11.744106Z"
    },
    "papermill": {
     "duration": 3.48314,
     "end_time": "2020-10-20T12:55:11.744241",
     "exception": false,
     "start_time": "2020-10-20T12:55:08.261101",
     "status": "completed"
    },
    "tags": []
   },
   "outputs": [],
   "source": [
    "actor_cnt=movie.groupby('Actor').apply(lambda x:x['Title'].count()).reset_index(name='Movie Counts')\n",
    "actor_cnt.sort_values(by='Movie Counts',ascending=False,inplace=True)\n",
    "top_actor=actor_cnt[:10]\n",
    "# ALEX: remove plotting\n",
    "# fig = px.bar(top_actor, x='Actor', y='Movie Counts',\n",
    "#              color='Movie Counts',title='Top 10 Actors who have acted in most number of Movies ')\n",
    "# fig.show()\n",
    "movie_actor=movie[movie['Actor'].isnull()==False]\n",
    "word_list_2=movie_actor.Actor.tolist()\n",
    "# ALEX: remove plotting\n",
    "# strr=''\n",
    "# for i in word_list_2:\n",
    "#     strr=strr+i+' '\n",
    "# wordcloud = WordCloud(width = 1200, height = 1200, \n",
    "#                 background_color ='white',collocations=False,  \n",
    "#                 min_font_size = 12).generate(strr) \n",
    "# plt.figure(figsize = (8, 8), facecolor = 'cyan') \n",
    "# plt.imshow(wordcloud) \n",
    "# plt.axis(\"off\") \n",
    "# plt.tight_layout(pad = 0)\n",
    "# plt.title('WordCloud using the Movie Actor names',size=40)"
   ]
  },
  {
   "cell_type": "markdown",
   "metadata": {
    "papermill": {
     "duration": 0.066045,
     "end_time": "2020-10-20T12:55:11.876866",
     "exception": false,
     "start_time": "2020-10-20T12:55:11.810821",
     "status": "completed"
    },
    "tags": []
   },
   "source": [
    "# Who have been the Top 10 Actress of the 10th Century?"
   ]
  },
  {
   "cell_type": "markdown",
   "metadata": {
    "papermill": {
     "duration": 0.065344,
     "end_time": "2020-10-20T12:55:12.008045",
     "exception": false,
     "start_time": "2020-10-20T12:55:11.942701",
     "status": "completed"
    },
    "tags": []
   },
   "source": [
    "![](https://www.scandinaviastandard.com/wp-content/uploads/2018/08/ingrid-bergman-portrait-of-sweden-Scandinavia-Standard.jpg)"
   ]
  },
  {
   "cell_type": "markdown",
   "metadata": {
    "papermill": {
     "duration": 0.065517,
     "end_time": "2020-10-20T12:55:12.139711",
     "exception": false,
     "start_time": "2020-10-20T12:55:12.074194",
     "status": "completed"
    },
    "tags": []
   },
   "source": [
    "**In Picture** Ingrid Bergman was a Swedish actress who starred in a variety of European and American films, television movies, and plays. Famed for her natural beauty, Bergman was the most popular actress of the 1940s."
   ]
  },
  {
   "cell_type": "code",
   "execution_count": 13,
   "metadata": {
    "execution": {
     "iopub.execute_input": "2020-10-20T12:55:12.285091Z",
     "iopub.status.busy": "2020-10-20T12:55:12.284130Z",
     "iopub.status.idle": "2020-10-20T12:55:15.600855Z",
     "shell.execute_reply": "2020-10-20T12:55:15.601343Z"
    },
    "papermill": {
     "duration": 3.395402,
     "end_time": "2020-10-20T12:55:15.601519",
     "exception": false,
     "start_time": "2020-10-20T12:55:12.206117",
     "status": "completed"
    },
    "tags": []
   },
   "outputs": [],
   "source": [
    "actress_cnt=movie.groupby('Actress').apply(lambda x:x['Title'].count()).reset_index(name='Movie Counts')\n",
    "actress_cnt.sort_values(by='Movie Counts',ascending=False,inplace=True)\n",
    "top_actress=actress_cnt[:10]\n",
    "# ALEX: remove plotting\n",
    "# fig = px.bar(top_actress, x='Actress', y='Movie Counts',\n",
    "#              color='Movie Counts',title='Top 10 Actresses who have acted in most number of Movies ')\n",
    "# fig.show()\n",
    "movie_actress=movie[movie['Actress'].isnull()==False]\n",
    "word_list_2=movie_actress.Actress.tolist()\n",
    "# ALEX: remove plotting\n",
    "# strr=''\n",
    "# for i in word_list_2:\n",
    "#     strr=strr+i+' '\n",
    "# wordcloud = WordCloud(width = 1200, height = 1200, \n",
    "#                 background_color ='white',collocations=False,  \n",
    "#                 min_font_size = 12).generate(strr) \n",
    "# plt.figure(figsize = (8, 8), facecolor = 'pink') \n",
    "# plt.imshow(wordcloud) \n",
    "# plt.axis(\"off\") \n",
    "# plt.tight_layout(pad = 0)\n",
    "# plt.title('WordCloud using the Movie Actress names',size=40)"
   ]
  },
  {
   "cell_type": "markdown",
   "metadata": {
    "papermill": {
     "duration": 0.076246,
     "end_time": "2020-10-20T12:55:15.754638",
     "exception": false,
     "start_time": "2020-10-20T12:55:15.678392",
     "status": "completed"
    },
    "tags": []
   },
   "source": [
    "# Who have been the most succesful Directors of the 20th Century?"
   ]
  },
  {
   "cell_type": "markdown",
   "metadata": {
    "papermill": {
     "duration": 0.075995,
     "end_time": "2020-10-20T12:55:15.906373",
     "exception": false,
     "start_time": "2020-10-20T12:55:15.830378",
     "status": "completed"
    },
    "tags": []
   },
   "source": [
    "![](https://m.media-amazon.com/images/M/MV5BMTQxOTg3ODc2NV5BMl5BanBnXkFtZTYwNTg0NTU2._V1_UX214_CR0,0,214,317_AL_.jpg)"
   ]
  },
  {
   "cell_type": "markdown",
   "metadata": {
    "papermill": {
     "duration": 0.075217,
     "end_time": "2020-10-20T12:55:16.056914",
     "exception": false,
     "start_time": "2020-10-20T12:55:15.981697",
     "status": "completed"
    },
    "tags": []
   },
   "source": [
    "**In Picture** Sir Alfred Joseph Hitchcock KBE was an English film director, producer and screenwriter. He is one of the most influential and extensively studied filmmakers in the history of cinema"
   ]
  },
  {
   "cell_type": "code",
   "execution_count": 14,
   "metadata": {
    "execution": {
     "iopub.execute_input": "2020-10-20T12:55:16.219521Z",
     "iopub.status.busy": "2020-10-20T12:55:16.218827Z",
     "iopub.status.idle": "2020-10-20T12:55:19.688517Z",
     "shell.execute_reply": "2020-10-20T12:55:19.689025Z"
    },
    "papermill": {
     "duration": 3.556401,
     "end_time": "2020-10-20T12:55:19.689163",
     "exception": false,
     "start_time": "2020-10-20T12:55:16.132762",
     "status": "completed"
    },
    "tags": []
   },
   "outputs": [],
   "source": [
    "director_cnt=movie.groupby('Director').apply(lambda x:x['Title'].count()).reset_index(name='Movie Counts')\n",
    "director_cnt.sort_values(by='Movie Counts',ascending=False,inplace=True)\n",
    "top_director=director_cnt[:10]\n",
    "# ALEX: remove plotting\n",
    "# fig = px.bar(top_director, x='Director', y='Movie Counts',\n",
    "#              color='Movie Counts',title='Top 10 Directors who have directed most number of Movies ')\n",
    "# fig.show()\n",
    "movie_director=movie[movie['Director'].isnull()==False]\n",
    "word_list_2=movie_director.Director.tolist()\n",
    "# ALEX: remove plotting\n",
    "# strr=''\n",
    "# for i in word_list_2:\n",
    "#     strr=strr+i+' '\n",
    "# wordcloud = WordCloud(width = 1200, height = 1200, \n",
    "#                 background_color ='black',collocations=False,  \n",
    "#                 min_font_size = 12).generate(strr) \n",
    "# plt.figure(figsize = (8, 8), facecolor = 'grey') \n",
    "# plt.imshow(wordcloud) \n",
    "# plt.axis(\"off\") \n",
    "# plt.tight_layout(pad = 0)\n",
    "# plt.title('WordCloud using the Movie Director names',size=40)"
   ]
  },
  {
   "cell_type": "markdown",
   "metadata": {
    "papermill": {
     "duration": 0.084822,
     "end_time": "2020-10-20T12:55:19.859480",
     "exception": false,
     "start_time": "2020-10-20T12:55:19.774658",
     "status": "completed"
    },
    "tags": []
   },
   "source": [
    "# The Top 10 Actor-Actress Pairs who have features in the 20th Century?"
   ]
  },
  {
   "cell_type": "markdown",
   "metadata": {
    "papermill": {
     "duration": 0.085584,
     "end_time": "2020-10-20T12:55:20.030748",
     "exception": false,
     "start_time": "2020-10-20T12:55:19.945164",
     "status": "completed"
    },
    "tags": []
   },
   "source": [
    "![](https://imageproxy.themaven.net//https%3A%2F%2Fwww.biography.com%2F.image%2FMTcyNTQ5NjcyNTA4ODYwMzMw%2Fgettyimages-686940555.jpg)"
   ]
  },
  {
   "cell_type": "markdown",
   "metadata": {
    "papermill": {
     "duration": 0.08507,
     "end_time": "2020-10-20T12:55:20.200835",
     "exception": false,
     "start_time": "2020-10-20T12:55:20.115765",
     "status": "completed"
    },
    "tags": []
   },
   "source": [
    "**In Picture** Katharine Hepburn and Spencer Tracy were a legendary cinematic couple, both on- and off-screen. They starred in nine films together, and had an affair - an open secret in Hollywood - that lasted 26 years, ending only with Tracy's death."
   ]
  },
  {
   "cell_type": "code",
   "execution_count": 15,
   "metadata": {
    "execution": {
     "iopub.execute_input": "2020-10-20T12:55:20.383703Z",
     "iopub.status.busy": "2020-10-20T12:55:20.382976Z",
     "iopub.status.idle": "2020-10-20T12:55:20.501079Z",
     "shell.execute_reply": "2020-10-20T12:55:20.499790Z"
    },
    "papermill": {
     "duration": 0.214249,
     "end_time": "2020-10-20T12:55:20.501274",
     "exception": false,
     "start_time": "2020-10-20T12:55:20.287025",
     "status": "completed"
    },
    "tags": []
   },
   "outputs": [
    {
     "name": "stdout",
     "output_type": "stream",
     "text": [
      "The Top 10 Actress of the 20th Century were:\n",
      "                      Actor            Actress  Movie Counts\n",
      "1103         Tracy Spencer  Hepburn Katharine            11\n",
      "13             Allen Woody       Keaton Diane             5\n",
      "1148            Wayne John     O'Hara Maureen             4\n",
      "77      Bj\u00f6rnstrand Gunnar  Andersson Harriet             3\n",
      "421             Ford Glenn      Hayworth Rita             3\n",
      "151         Burton Richard   Taylor Elizabeth             3\n",
      "519            Hamill Mark      Fisher Carrie             3\n",
      "726   Mastroianni Marcello       Loren Sophia             3\n",
      "480           Gilbert John        Garbo Greta             3\n",
      "142      Brown Johnny Mack         O'Day Nell             3\n"
     ]
    }
   ],
   "source": [
    "act_cnt=movie.groupby(['Actor','Actress']).apply(lambda x:x['Title'].count()).reset_index(name='Movie Counts')\n",
    "act_cnt.sort_values(by='Movie Counts',ascending=False,inplace=True)\n",
    "print('The Top 10 Actress of the 20th Century were:\\n',act_cnt[:10])"
   ]
  },
  {
   "cell_type": "markdown",
   "metadata": {
    "papermill": {
     "duration": 0.085295,
     "end_time": "2020-10-20T12:55:20.673234",
     "exception": false,
     "start_time": "2020-10-20T12:55:20.587939",
     "status": "completed"
    },
    "tags": []
   },
   "source": [
    "# How popular were the actor pairs?"
   ]
  },
  {
   "cell_type": "markdown",
   "metadata": {
    "papermill": {
     "duration": 0.089055,
     "end_time": "2020-10-20T12:55:20.848082",
     "exception": false,
     "start_time": "2020-10-20T12:55:20.759027",
     "status": "completed"
    },
    "tags": []
   },
   "source": [
    "![](https://live.staticflickr.com/3875/15164046569_7ff1728bd7_b.jpg)"
   ]
  },
  {
   "cell_type": "markdown",
   "metadata": {
    "papermill": {
     "duration": 0.085087,
     "end_time": "2020-10-20T12:55:21.019601",
     "exception": false,
     "start_time": "2020-10-20T12:55:20.934514",
     "status": "completed"
    },
    "tags": []
   },
   "source": [
    "**In Picture** Melissa Sue Anderson and Glenn Ford on set of Happy Birthday to Me, 1980"
   ]
  },
  {
   "cell_type": "code",
   "execution_count": 16,
   "metadata": {
    "execution": {
     "iopub.execute_input": "2020-10-20T12:55:21.203280Z",
     "iopub.status.busy": "2020-10-20T12:55:21.202620Z",
     "iopub.status.idle": "2020-10-20T12:55:21.381313Z",
     "shell.execute_reply": "2020-10-20T12:55:21.381854Z"
    },
    "papermill": {
     "duration": 0.274437,
     "end_time": "2020-10-20T12:55:21.381995",
     "exception": false,
     "start_time": "2020-10-20T12:55:21.107558",
     "status": "completed"
    },
    "tags": []
   },
   "outputs": [],
   "source": [
    "act_pop=movie.groupby(['Actor','Actress']).apply(lambda x:x['Popularity'].mean()).reset_index(name='Average Popularity')\n",
    "act_overall=pd.merge(act_cnt,act_pop,how='inner',left_on=['Actor','Actress'],right_on=['Actor','Actress'])\n",
    "# ALEX: remove plotting\n",
    "# fig = px.scatter(act_overall, x=\"Movie Counts\", y=\"Average Popularity\",\n",
    "#                  size=\"Movie Counts\",color=\"Average Popularity\",\n",
    "#                  hover_data=['Actor','Actress'],\n",
    "#                  title='Popularity vs Movie count metrics for the most succesful Hollywood pairs of the 20th Century')\n",
    "# fig.show()"
   ]
  },
  {
   "cell_type": "markdown",
   "metadata": {
    "papermill": {
     "duration": 0.087598,
     "end_time": "2020-10-20T12:55:21.560562",
     "exception": false,
     "start_time": "2020-10-20T12:55:21.472964",
     "status": "completed"
    },
    "tags": []
   },
   "source": [
    "# Most Popular Director-Actor-Actress pair of the era?"
   ]
  },
  {
   "cell_type": "markdown",
   "metadata": {
    "papermill": {
     "duration": 0.087554,
     "end_time": "2020-10-20T12:55:21.735655",
     "exception": false,
     "start_time": "2020-10-20T12:55:21.648101",
     "status": "completed"
    },
    "tags": []
   },
   "source": [
    "![](https://c8.alamy.com/comp/E5N7JN/boss-of-bullion-city-from-left-nell-oday-johnny-mack-brown-fuzzy-knight-E5N7JN.jpg)"
   ]
  },
  {
   "cell_type": "markdown",
   "metadata": {
    "papermill": {
     "duration": 0.087274,
     "end_time": "2020-10-20T12:55:21.910782",
     "exception": false,
     "start_time": "2020-10-20T12:55:21.823508",
     "status": "completed"
    },
    "tags": []
   },
   "source": [
    "**In Picture** Boss of Bullion City is a 1940 American Western film directed by Ray Taylor and starring Johnny Mack Brown. Nell o'Day appears as the female lead. It was the first time she played a leading role and was the only one of her film roles where she speaks some Spanish."
   ]
  },
  {
   "cell_type": "code",
   "execution_count": 17,
   "metadata": {
    "execution": {
     "iopub.execute_input": "2020-10-20T12:55:22.102015Z",
     "iopub.status.busy": "2020-10-20T12:55:22.096246Z",
     "iopub.status.idle": "2020-10-20T12:55:22.380598Z",
     "shell.execute_reply": "2020-10-20T12:55:22.381098Z"
    },
    "papermill": {
     "duration": 0.382644,
     "end_time": "2020-10-20T12:55:22.381238",
     "exception": false,
     "start_time": "2020-10-20T12:55:21.998594",
     "status": "completed"
    },
    "tags": []
   },
   "outputs": [],
   "source": [
    "cast_cnt=movie.groupby(['Director','Actor','Actress']).apply(lambda x:x['Title'].count()).reset_index(name='Movie Counts')\n",
    "cast_cnt.sort_values(by='Movie Counts',ascending=False,inplace=True)\n",
    "cast_pop=movie.groupby(['Director','Actor','Actress']).apply(lambda x:x['Popularity'].mean()).reset_index(name='Average Popularity')\n",
    "cast_overall=pd.merge(cast_cnt,cast_pop,how='inner',left_on=['Director','Actor','Actress'],right_on=['Director','Actor','Actress'])\n",
    "# ALEX: remove plotting\n",
    "# fig = px.scatter(cast_overall, x=\"Movie Counts\", y=\"Average Popularity\",\n",
    "#                 size=\"Movie Counts\",color=\"Average Popularity\",\n",
    "#                  hover_data=['Director','Actor','Actress'],\n",
    "#                  title='Popularity vs Movie count metrics for the most succesful Hollywood Cast (Director and Actors)')\n",
    "# fig.show()"
   ]
  },
  {
   "cell_type": "markdown",
   "metadata": {
    "papermill": {
     "duration": 0.09074,
     "end_time": "2020-10-20T12:55:22.564670",
     "exception": false,
     "start_time": "2020-10-20T12:55:22.473930",
     "status": "completed"
    },
    "tags": []
   },
   "source": [
    "# Who have been the most versatile actors (Actors who have acted in multiple Genres)??"
   ]
  },
  {
   "cell_type": "markdown",
   "metadata": {
    "papermill": {
     "duration": 0.092034,
     "end_time": "2020-10-20T12:55:22.747556",
     "exception": false,
     "start_time": "2020-10-20T12:55:22.655522",
     "status": "completed"
    },
    "tags": []
   },
   "source": [
    "![](https://www.rollingstone.com/wp-content/uploads/2018/06/ClintEastwood-1.jpg)"
   ]
  },
  {
   "cell_type": "markdown",
   "metadata": {
    "papermill": {
     "duration": 0.09214,
     "end_time": "2020-10-20T12:55:22.931127",
     "exception": false,
     "start_time": "2020-10-20T12:55:22.838987",
     "status": "completed"
    },
    "tags": []
   },
   "source": [
    "![](https://www.gotceleb.com/wp-content/uploads/photos/michelle-pfeiffer/ant-man-and-the-wasp-premiere-in-los-angeles/Michelle-Pfeiffer:-Ant-Man-and-The-Wasp-Premiere--05.jpg)"
   ]
  },
  {
   "cell_type": "markdown",
   "metadata": {
    "papermill": {
     "duration": 0.091376,
     "end_time": "2020-10-20T12:55:23.114746",
     "exception": false,
     "start_time": "2020-10-20T12:55:23.023370",
     "status": "completed"
    },
    "tags": []
   },
   "source": [
    "**In Pictures** (above) Clint Eastwood (below) Michelle Pfeiffer"
   ]
  },
  {
   "cell_type": "code",
   "execution_count": 18,
   "metadata": {
    "execution": {
     "iopub.execute_input": "2020-10-20T12:55:23.309291Z",
     "iopub.status.busy": "2020-10-20T12:55:23.308315Z",
     "iopub.status.idle": "2020-10-20T12:55:23.554962Z",
     "shell.execute_reply": "2020-10-20T12:55:23.554292Z"
    },
    "papermill": {
     "duration": 0.349074,
     "end_time": "2020-10-20T12:55:23.555075",
     "exception": false,
     "start_time": "2020-10-20T12:55:23.206001",
     "status": "completed"
    },
    "tags": []
   },
   "outputs": [
    {
     "name": "stderr",
     "output_type": "stream",
     "text": [
      "/tmp/ipykernel_339678/3835618023.py:6: SettingWithCopyWarning: \n",
      "A value is trying to be set on a copy of a slice from a DataFrame.\n",
      "Try using .loc[row_indexer,col_indexer] = value instead\n",
      "\n",
      "See the caveats in the documentation: https://pandas.pydata.org/pandas-docs/stable/user_guide/indexing.html#returning-a-view-versus-a-copy\n",
      "  top_actor_genre['Gender']='Male'\n",
      "/tmp/ipykernel_339678/3835618023.py:8: SettingWithCopyWarning: \n",
      "A value is trying to be set on a copy of a slice from a DataFrame.\n",
      "Try using .loc[row_indexer,col_indexer] = value instead\n",
      "\n",
      "See the caveats in the documentation: https://pandas.pydata.org/pandas-docs/stable/user_guide/indexing.html#returning-a-view-versus-a-copy\n",
      "  top_actress_genre['Gender']='Female'\n"
     ]
    }
   ],
   "source": [
    "actor_genre=movie.groupby('Actor').apply(lambda x:x['Subject'].nunique()).reset_index(name='# Genres')\n",
    "actress_genre=movie.groupby('Actress').apply(lambda x:x['Subject'].nunique()).reset_index(name='# Genres')\n",
    "actor_genre.sort_values(by='# Genres',ascending=False,inplace=True)\n",
    "actress_genre.sort_values(by='# Genres',ascending=False,inplace=True)\n",
    "top_actor_genre=actor_genre[:10]\n",
    "top_actor_genre['Gender']='Male'\n",
    "top_actress_genre=actress_genre[0:10]\n",
    "top_actress_genre['Gender']='Female'\n",
    "top_actor_genre.columns=['Performer',\"# Genres\",'Gender']\n",
    "top_actress_genre.columns=['Performer',\"# Genres\",'Gender']\n",
    "top_performer_genre=pd.concat([top_actor_genre,top_actress_genre])\n",
    "# ALEX: remove plotting\n",
    "# fig = px.scatter(top_performer_genre, x='Performer', y='# Genres',\n",
    "#                 size='# Genres',color='Gender',\n",
    "#                  hover_data=['Performer'],\n",
    "#                  title='Top Performers of the 20th century who have worked in multiple Genres')\n",
    "# fig.show()"
   ]
  },
  {
   "cell_type": "markdown",
   "metadata": {
    "papermill": {
     "duration": 0.09178,
     "end_time": "2020-10-20T12:55:23.738931",
     "exception": false,
     "start_time": "2020-10-20T12:55:23.647151",
     "status": "completed"
    },
    "tags": []
   },
   "source": [
    "# Let us deep dive into the Genres in which the Top Actors/Actresses have acted in."
   ]
  },
  {
   "cell_type": "code",
   "execution_count": 19,
   "metadata": {
    "execution": {
     "iopub.execute_input": "2020-10-20T12:55:23.939593Z",
     "iopub.status.busy": "2020-10-20T12:55:23.938818Z",
     "iopub.status.idle": "2020-10-20T12:55:24.823126Z",
     "shell.execute_reply": "2020-10-20T12:55:24.823707Z"
    },
    "papermill": {
     "duration": 0.99388,
     "end_time": "2020-10-20T12:55:24.823858",
     "exception": false,
     "start_time": "2020-10-20T12:55:23.829978",
     "status": "completed"
    },
    "tags": []
   },
   "outputs": [],
   "source": [
    "movie_filter=movie[movie['Title'].isnull()==False]\n",
    "movie_filter=movie_filter[movie_filter['Actor'].isin(top_actor_genre.Performer.tolist())]\n",
    "movie_filter=movie_filter[movie_filter['Subject'].isnull()==False]\n",
    "actor_genre=movie_filter.groupby(['Actor','Subject']).apply(lambda x:x['Title'].count()).reset_index(name='# Genres wise Movies')\n",
    "# ALEX: remove plotting\n",
    "# plt.figure(figsize=(8,10))\n",
    "pivot_actor=pd.pivot(actor_genre,index='Actor',columns='Subject',values='# Genres wise Movies')\n",
    "# ALEX: remove plotting\n",
    "# ax=sns.heatmap(pivot_actor,annot=True,fmt='g',cmap='Spectral_r')\n",
    "# plt.xlabel('Genres',size=20)\n",
    "# plt.ylabel('Actors',size=25)\n",
    "# plt.title('Genre wise filmography of the most verstaile Actors',size=20)\n",
    "movie_filter_2=movie[movie['Title'].isnull()==False]\n",
    "movie_filter_2=movie_filter_2[movie_filter_2['Actress'].isin(top_actress_genre.Performer.tolist())]\n",
    "movie_filter_2=movie_filter_2[movie_filter_2['Subject'].isnull()==False]\n",
    "actress_genre=movie_filter_2.groupby(['Actress','Subject']).apply(lambda x:x['Title'].count()).reset_index(name='# Genres wise Movies')\n",
    "# ALEX: remove plotting\n",
    "# plt.figure(figsize=(8,10))\n",
    "pivot_actress=pd.pivot(actress_genre,index='Actress',columns='Subject',values='# Genres wise Movies')\n",
    "# ALEX: remove plotting\n",
    "# ax=sns.heatmap(pivot_actress,annot=True,fmt='g',cmap='copper_r')\n",
    "# plt.xlabel('Genres',size=20)\n",
    "# plt.ylabel('Actresses',size=25)\n",
    "# plt.title('Genre wise filmography of the most verstaile Actresses',size=20)"
   ]
  },
  {
   "cell_type": "markdown",
   "metadata": {
    "papermill": {
     "duration": 0.094729,
     "end_time": "2020-10-20T12:55:25.018646",
     "exception": false,
     "start_time": "2020-10-20T12:55:24.923917",
     "status": "completed"
    },
    "tags": []
   },
   "source": [
    "# Who has been the most versatile Director?"
   ]
  },
  {
   "cell_type": "markdown",
   "metadata": {
    "papermill": {
     "duration": 0.095081,
     "end_time": "2020-10-20T12:55:25.210306",
     "exception": false,
     "start_time": "2020-10-20T12:55:25.115225",
     "status": "completed"
    },
    "tags": []
   },
   "source": [
    "![](https://www3.pictures.gi.zimbio.com/12th+Annual+Critic+Choice+Awards+Show+H_7hw2J-Mzhx.jpg)"
   ]
  },
  {
   "cell_type": "markdown",
   "metadata": {
    "papermill": {
     "duration": 0.142788,
     "end_time": "2020-10-20T12:55:25.449588",
     "exception": false,
     "start_time": "2020-10-20T12:55:25.306800",
     "status": "completed"
    },
    "tags": []
   },
   "source": [
    "**In Picture** Clint Eastwood and Steven Speilberg"
   ]
  },
  {
   "cell_type": "code",
   "execution_count": 20,
   "metadata": {
    "execution": {
     "iopub.execute_input": "2020-10-20T12:55:25.667253Z",
     "iopub.status.busy": "2020-10-20T12:55:25.664948Z",
     "iopub.status.idle": "2020-10-20T12:55:26.286292Z",
     "shell.execute_reply": "2020-10-20T12:55:26.285677Z"
    },
    "papermill": {
     "duration": 0.725689,
     "end_time": "2020-10-20T12:55:26.286403",
     "exception": false,
     "start_time": "2020-10-20T12:55:25.560714",
     "status": "completed"
    },
    "tags": []
   },
   "outputs": [],
   "source": [
    "director_genre=movie.groupby('Director').apply(lambda x:x['Subject'].nunique()).reset_index(name='# Genres')\n",
    "director_genre.sort_values(by='# Genres',ascending=False,inplace=True)\n",
    "top_director_genre=director_genre[:10]\n",
    "# ALEX: remove plotting\n",
    "# fig = px.scatter(top_director_genre, x='Director', y='# Genres',\n",
    "#                 size='# Genres',color='Director',\n",
    "#                  hover_data=['Director'],\n",
    "#                  title='Top Directors of the 20th century who have worked in multiple Genres')\n",
    "# fig.show()\n",
    "dir_movie=movie[movie['Director'].isin(top_director_genre.Director.tolist())]\n",
    "director_genre=dir_movie.groupby(['Director','Subject']).apply(lambda x:x['Title'].count()).reset_index(name='# Genres wise Movies')\n",
    "# ALEX: remove plotting\n",
    "# plt.figure(figsize=(8,10))\n",
    "pivot_director=pd.pivot(director_genre,index='Director',columns='Subject',values='# Genres wise Movies')\n",
    "# ALEX: remove plotting\n",
    "# ax=sns.heatmap(pivot_director,annot=True,fmt='g',cmap='autumn_r')\n",
    "# plt.xlabel('Genres',size=20)\n",
    "# plt.ylabel('Directors',size=25)\n",
    "# plt.title('Genre wise filmography of the most verstaile Directors',size=20)"
   ]
  },
  {
   "cell_type": "markdown",
   "metadata": {
    "papermill": {
     "duration": 0.273883,
     "end_time": "2020-10-20T12:55:26.658132",
     "exception": false,
     "start_time": "2020-10-20T12:55:26.384249",
     "status": "completed"
    },
    "tags": []
   },
   "source": [
    "# Actors/Actresses who have acted in more than one movie, and also directed movies"
   ]
  },
  {
   "cell_type": "markdown",
   "metadata": {
    "papermill": {
     "duration": 0.097,
     "end_time": "2020-10-20T12:55:26.853033",
     "exception": false,
     "start_time": "2020-10-20T12:55:26.756033",
     "status": "completed"
    },
    "tags": []
   },
   "source": [
    "![](https://4.bp.blogspot.com/-Litc_9o9ZQ8/UvqMSV4Yv0I/AAAAAAAAMAE/HNYQdjcb-FA/s1600/Clint_Hitch.JPG)"
   ]
  },
  {
   "cell_type": "markdown",
   "metadata": {
    "papermill": {
     "duration": 0.09664,
     "end_time": "2020-10-20T12:55:27.047743",
     "exception": false,
     "start_time": "2020-10-20T12:55:26.951103",
     "status": "completed"
    },
    "tags": []
   },
   "source": [
    "**In Picture** Clint Esatwood and Alfred Hitchcock"
   ]
  },
  {
   "cell_type": "code",
   "execution_count": 21,
   "metadata": {
    "execution": {
     "iopub.execute_input": "2020-10-20T12:55:27.253934Z",
     "iopub.status.busy": "2020-10-20T12:55:27.253211Z",
     "iopub.status.idle": "2020-10-20T12:55:27.513568Z",
     "shell.execute_reply": "2020-10-20T12:55:27.512791Z"
    },
    "papermill": {
     "duration": 0.368622,
     "end_time": "2020-10-20T12:55:27.513699",
     "exception": false,
     "start_time": "2020-10-20T12:55:27.145077",
     "status": "completed"
    },
    "tags": []
   },
   "outputs": [],
   "source": [
    "act_movies=movie.groupby('Actor').apply(lambda x:x['Title'].count()).reset_index(name='Acted in Movies')\n",
    "actr_movies=movie.groupby('Actress').apply(lambda x:x['Title'].count()).reset_index(name='Acted in Movies')\n",
    "actr_movies.columns=['Actor','Acted in Movies']\n",
    "acted_movies=pd.concat([act_movies,actr_movies])\n",
    "acted_movies=acted_movies[acted_movies['Acted in Movies']>1]\n",
    "dir_movies=movie.groupby('Director').apply(lambda x:x['Title'].count()).reset_index(name='Directed Movies')\n",
    "act_dir_movies=pd.merge(acted_movies,dir_movies,how='inner',left_on='Actor',right_on='Director')\n",
    "act_dir_movies=act_dir_movies[act_dir_movies['Directed Movies']>1]\n",
    "# ALEX: remove plotting\n",
    "# fig = px.scatter(act_dir_movies, x='Acted in Movies', y='Directed Movies',color='Acted in Movies',size='Acted in Movies',\n",
    "#                  hover_data=['Actor'],\n",
    "#                  title='Artists who have acted and directed more than 1 movies')\n",
    "# fig.show()"
   ]
  },
  {
   "cell_type": "markdown",
   "metadata": {
    "papermill": {
     "duration": 0.09774,
     "end_time": "2020-10-20T12:55:27.710479",
     "exception": false,
     "start_time": "2020-10-20T12:55:27.612739",
     "status": "completed"
    },
    "tags": []
   },
   "source": [
    "# How has the movie length impacted awards over the Years?"
   ]
  },
  {
   "cell_type": "markdown",
   "metadata": {
    "papermill": {
     "duration": 0.098944,
     "end_time": "2020-10-20T12:55:27.907311",
     "exception": false,
     "start_time": "2020-10-20T12:55:27.808367",
     "status": "completed"
    },
    "tags": []
   },
   "source": [
    "![](https://pmcvariety.files.wordpress.com/2020/06/oscar-statues.jpg)"
   ]
  },
  {
   "cell_type": "code",
   "execution_count": 22,
   "metadata": {
    "execution": {
     "iopub.execute_input": "2020-10-20T12:55:28.118718Z",
     "iopub.status.busy": "2020-10-20T12:55:28.117666Z",
     "iopub.status.idle": "2020-10-20T12:55:28.185575Z",
     "shell.execute_reply": "2020-10-20T12:55:28.184918Z"
    },
    "papermill": {
     "duration": 0.177455,
     "end_time": "2020-10-20T12:55:28.185688",
     "exception": false,
     "start_time": "2020-10-20T12:55:28.008233",
     "status": "completed"
    },
    "tags": []
   },
   "outputs": [],
   "source": [
    "award_movies=movie[movie['Awards']=='Yes']\n",
    "no_award_movies=movie[movie['Awards']!='Yes']\n",
    "award_filter=movie[movie['Awards'].isnull()==False]\n",
    "award_filter=award_filter[award_filter['Length'].isnull()==False]\n",
    "award_filter=award_filter[award_filter['Year'].isnull()==False]\n",
    "award_time_yr=award_filter.groupby(['Year','Awards']).apply(lambda x:np.average(x['Length'])).reset_index(name='Movie Time')\n",
    "# ALEX: remove plotting\n",
    "# fig = px.line(award_time_yr, x=\"Year\", y=\"Movie Time\", color='Awards',title='Movie Time impacting Awards over the Years')\n",
    "# fig.show()"
   ]
  },
  {
   "cell_type": "markdown",
   "metadata": {
    "papermill": {
     "duration": 0.099084,
     "end_time": "2020-10-20T12:55:28.387151",
     "exception": false,
     "start_time": "2020-10-20T12:55:28.288067",
     "status": "completed"
    },
    "tags": []
   },
   "source": [
    "**Observations** The award-winning movies generally longer than the non-award winning movies. But the average times have fluctuated a lot over the years. Overall the times have increased- but not at a comparable rate"
   ]
  },
  {
   "cell_type": "code",
   "execution_count": 23,
   "metadata": {
    "execution": {
     "iopub.execute_input": "2020-10-20T12:55:28.598698Z",
     "iopub.status.busy": "2020-10-20T12:55:28.597941Z",
     "iopub.status.idle": "2020-10-20T12:55:28.665214Z",
     "shell.execute_reply": "2020-10-20T12:55:28.664712Z"
    },
    "papermill": {
     "duration": 0.177718,
     "end_time": "2020-10-20T12:55:28.665329",
     "exception": false,
     "start_time": "2020-10-20T12:55:28.487611",
     "status": "completed"
    },
    "tags": []
   },
   "outputs": [],
   "source": [
    "award_filter=movie[movie['Awards'].isnull()==False]\n",
    "award_filter=award_filter[award_filter['Popularity'].isnull()==False]\n",
    "award_filter=award_filter[award_filter['Year'].isnull()==False]\n",
    "award_time_yr=award_filter.groupby(['Year','Awards']).apply(lambda x:np.average(x['Popularity'])).reset_index(name='Popularity')\n",
    "# ALEX: remove plotting\n",
    "# fig = px.scatter(award_time_yr, x=\"Year\", y=\"Popularity\", color='Awards',size='Popularity',title='Popularity affecting the Awards over the years')\n",
    "# fig.show()"
   ]
  },
  {
   "cell_type": "markdown",
   "metadata": {
    "papermill": {
     "duration": 0.099689,
     "end_time": "2020-10-20T12:55:28.865891",
     "exception": false,
     "start_time": "2020-10-20T12:55:28.766202",
     "status": "completed"
    },
    "tags": []
   },
   "source": [
    "**Observation** In the earlier days popularity actually dominated the awards for the movies. But with an increasing time-popularity didn't play a very significant role.Much less popular films have won awards- due to their significant quality and message. "
   ]
  },
  {
   "cell_type": "markdown",
   "metadata": {
    "papermill": {
     "duration": 0.116743,
     "end_time": "2020-10-20T12:55:29.082905",
     "exception": false,
     "start_time": "2020-10-20T12:55:28.966162",
     "status": "completed"
    },
    "tags": []
   },
   "source": [
    "# Which Actor, Actress and Directors have won the most number of Awards?"
   ]
  },
  {
   "cell_type": "markdown",
   "metadata": {
    "papermill": {
     "duration": 0.113481,
     "end_time": "2020-10-20T12:55:29.337591",
     "exception": false,
     "start_time": "2020-10-20T12:55:29.224110",
     "status": "completed"
    },
    "tags": []
   },
   "source": [
    "![](https://m.media-amazon.com/images/M/MV5BODUwMDYwNDg3N15BMl5BanBnXkFtZTcwODEzNTgxMw@@._V1_UY317_CR22,0,214,317_AL_.jpg)![](https://images-na.ssl-images-amazon.com/images/I/81DPhRTx6zL._AC_SX679_.jpg)"
   ]
  },
  {
   "cell_type": "markdown",
   "metadata": {
    "papermill": {
     "duration": 0.104765,
     "end_time": "2020-10-20T12:55:29.550448",
     "exception": false,
     "start_time": "2020-10-20T12:55:29.445683",
     "status": "completed"
    },
    "tags": []
   },
   "source": [
    "**In Picture** (above) Paul Neumann (below) Ingmar Bergman and Ingrid Bergman"
   ]
  },
  {
   "cell_type": "code",
   "execution_count": 24,
   "metadata": {
    "execution": {
     "iopub.execute_input": "2020-10-20T12:55:29.796917Z",
     "iopub.status.busy": "2020-10-20T12:55:29.777222Z",
     "iopub.status.idle": "2020-10-20T12:55:29.894811Z",
     "shell.execute_reply": "2020-10-20T12:55:29.893760Z"
    },
    "papermill": {
     "duration": 0.233995,
     "end_time": "2020-10-20T12:55:29.894967",
     "exception": false,
     "start_time": "2020-10-20T12:55:29.660972",
     "status": "completed"
    },
    "tags": []
   },
   "outputs": [
    {
     "name": "stderr",
     "output_type": "stream",
     "text": [
      "/tmp/ipykernel_339678/1978953394.py:8: SettingWithCopyWarning: \n",
      "A value is trying to be set on a copy of a slice from a DataFrame.\n",
      "Try using .loc[row_indexer,col_indexer] = value instead\n",
      "\n",
      "See the caveats in the documentation: https://pandas.pydata.org/pandas-docs/stable/user_guide/indexing.html#returning-a-view-versus-a-copy\n",
      "  top_actor_award['Category']='Actor'\n",
      "/tmp/ipykernel_339678/1978953394.py:10: SettingWithCopyWarning: \n",
      "A value is trying to be set on a copy of a slice from a DataFrame.\n",
      "Try using .loc[row_indexer,col_indexer] = value instead\n",
      "\n",
      "See the caveats in the documentation: https://pandas.pydata.org/pandas-docs/stable/user_guide/indexing.html#returning-a-view-versus-a-copy\n",
      "  top_actress_award['Category']='Actress'\n",
      "/tmp/ipykernel_339678/1978953394.py:12: SettingWithCopyWarning: \n",
      "A value is trying to be set on a copy of a slice from a DataFrame.\n",
      "Try using .loc[row_indexer,col_indexer] = value instead\n",
      "\n",
      "See the caveats in the documentation: https://pandas.pydata.org/pandas-docs/stable/user_guide/indexing.html#returning-a-view-versus-a-copy\n",
      "  top_director_award['Category']='Director'\n"
     ]
    }
   ],
   "source": [
    "actor_award=award_movies.groupby('Actor').apply(lambda x:x['Awards'].count()).reset_index(name='# Awards')\n",
    "actress_award=award_movies.groupby('Actress').apply(lambda x:x['Awards'].count()).reset_index(name='# Awards')\n",
    "director_award=award_movies.groupby('Director').apply(lambda x:x['Awards'].count()).reset_index(name='# Awards')\n",
    "actor_award.sort_values(by=\"# Awards\",ascending=False,inplace=True)\n",
    "actress_award.sort_values(by=\"# Awards\",ascending=False,inplace=True)\n",
    "director_award.sort_values(by=\"# Awards\",ascending=False,inplace=True)\n",
    "top_actor_award=actor_award[:10]\n",
    "top_actor_award['Category']='Actor'\n",
    "top_actress_award=actress_award[0:10]\n",
    "top_actress_award['Category']='Actress'\n",
    "top_director_award=director_award[0:10]\n",
    "top_director_award['Category']='Director'\n",
    "top_actor_award.columns=['Artist',\"# Awards\",'Category']\n",
    "top_actress_award.columns=['Artist',\"# Awards\",'Category']\n",
    "top_director_award.columns=['Artist',\"# Awards\",'Category']\n",
    "top_artist_award=pd.concat([top_actor_award,top_actress_award,top_director_award])\n",
    "# ALEX: remove plotting\n",
    "# fig = px.bar(top_artist_award, x='Artist', y=\"# Awards\",\n",
    "#                 color='Category',\n",
    "#                  hover_data=['Artist'],\n",
    "#                  title='Top Artists of the 20th century who have won most Awards')\n",
    "# fig.show()"
   ]
  },
  {
   "cell_type": "markdown",
   "metadata": {
    "papermill": {
     "duration": 0.103874,
     "end_time": "2020-10-20T12:55:30.107759",
     "exception": false,
     "start_time": "2020-10-20T12:55:30.003885",
     "status": "completed"
    },
    "tags": []
   },
   "source": [
    "# Which Genre has fetched in the most number of Awards?"
   ]
  },
  {
   "cell_type": "code",
   "execution_count": 25,
   "metadata": {
    "execution": {
     "iopub.execute_input": "2020-10-20T12:55:30.326733Z",
     "iopub.status.busy": "2020-10-20T12:55:30.325906Z",
     "iopub.status.idle": "2020-10-20T12:55:30.614715Z",
     "shell.execute_reply": "2020-10-20T12:55:30.613969Z"
    },
    "papermill": {
     "duration": 0.403575,
     "end_time": "2020-10-20T12:55:30.614836",
     "exception": false,
     "start_time": "2020-10-20T12:55:30.211261",
     "status": "completed"
    },
    "tags": []
   },
   "outputs": [],
   "source": [
    "genre_award=movie.groupby(['Subject','Awards']).apply(lambda x:x['Title'].count()).reset_index(name='Counts')\n",
    "piv_genre_count=pd.pivot(genre_award,index='Subject',columns='Awards',values='Counts')\n",
    "# ALEX: remove plotting\n",
    "# plt.figure(figsize=(4,8))\n",
    "# sns.heatmap(piv_genre_count,annot=True,fmt='g',cmap='inferno_r')\n",
    "# plt.xlabel('Won Awards?',size=15)\n",
    "# plt.ylabel('Genres',size=15)\n",
    "# plt.title('Summary of Awards won by the Genres',size=20)"
   ]
  },
  {
   "cell_type": "markdown",
   "metadata": {
    "papermill": {
     "duration": 0.101985,
     "end_time": "2020-10-20T12:55:30.825294",
     "exception": false,
     "start_time": "2020-10-20T12:55:30.723309",
     "status": "completed"
    },
    "tags": []
   },
   "source": [
    "**Observation** What we see from this dataset- most numbe rof movies have been from the Drama Genre- asnd likewise- it has also earned the most number of awards. Comedy of this Genre has been a delight- and that can be seen from the awards too. Something that really excites me is the Science Fiction awards. This genre got promoted with the advent of computers- but has grown really good in this era."
   ]
  },
  {
   "cell_type": "markdown",
   "metadata": {
    "papermill": {
     "duration": 0.104144,
     "end_time": "2020-10-20T12:55:31.031502",
     "exception": false,
     "start_time": "2020-10-20T12:55:30.927358",
     "status": "completed"
    },
    "tags": []
   },
   "source": [
    "# Conclusion:\n",
    "\n",
    "We have explored the data understanding the filmography and how the Movie patterns have changed over the years. There are a few points that I would like to highlight upon:\n",
    "\n",
    "1. The movie timings have increase over the Years. Although the movie lengths were at its peak in the 1970s-80s, and went down slightly during the 90s- The overall graph is moving towards an increasing slope.\n",
    "2. This era has seen almost equal participation by men and women- which showed the gender equality and modernism in the era. Actresses have performed amazing roles and have won popularity and fame at par with their male counterparts.\n",
    "3. Another point which I would like to mention is the great versatility by the artist of that time. Actors, Actresses, Directors- all have tried to explore different horizons- and to establish a relishing experience for the viewers. Undoubtedly we have been gifted some classics by this era.\n",
    "4. This era really stressed a lot upon Drama as a genre- and has fetched the most number of awards in that genre too. But overall all the genres have been explored and appreciated. The World Wars, advent of computers have really helped upon bring amazing Genres like War and Science Fiction- which are the hotcakes of today's world.\n",
    "5. Generally the award winning films have been slightly longer. Although not much information was available as per the data hence we have not been able to explore much in taht context. With respect to the popularity, in the earlier part of 1900s, popularity dominated the awards- but this pattern looked insignificant with passing years- as many unpopular movies have been awarded too.\n",
    "\n",
    "Would like to add a few points on the Data perspective:\n",
    "1. The data although small is rich- and hence performing the data analysis was really helpful. Overall it was a good data to work with.\n",
    "2. Some improvements like Award names and Award receiving Year information would help to understand the impact of a movie and how have the people responded to it over the Years. Also the popularity category would need some further clarity.\n",
    "\n",
    "Overall, we have received many classics from this era- that would be cherished forever. So undoubtedly we can call this a golden period of English Cinema- a century that made us laugh, cry, happy, sad- but overall love the world of \"Cinema\"!!!\n",
    "\n",
    "![](https://media.tenor.com/images/edc37bab6bcf2303917b718bbd497ced/tenor.gif)\n",
    "\n",
    "\n",
    "# Please upvote if you liked the Analysis!!!"
   ]
  }
 ],
 "metadata": {
  "kernelspec": {
   "display_name": "Python 3 (ipykernel)",
   "language": "python",
   "name": "python3"
  },
  "language_info": {
   "codemirror_mode": {
    "name": "ipython",
    "version": 3
   },
   "file_extension": ".py",
   "mimetype": "text/x-python",
   "name": "python",
   "nbconvert_exporter": "python",
   "pygments_lexer": "ipython3",
   "version": "3.10.16"
  },
  "papermill": {
   "duration": 37.114194,
   "end_time": "2020-10-20T12:55:31.248407",
   "environment_variables": {},
   "exception": null,
   "input_path": "__notebook__.ipynb",
   "output_path": "__notebook__.ipynb",
   "parameters": {},
   "start_time": "2020-10-20T12:54:54.134213",
   "version": "2.1.0"
  }
 },
 "nbformat": 4,
 "nbformat_minor": 4
}