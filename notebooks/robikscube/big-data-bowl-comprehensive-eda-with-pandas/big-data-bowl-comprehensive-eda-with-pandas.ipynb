{
 "cells": [
  {
   "cell_type": "code",
   "execution_count": null,
   "metadata": {},
   "outputs": [],
   "source": [
    "import os\n",
    "\n",
    "def scale_input_data(scale_factor):\n",
    "  file_bases = ['./input/train']\n",
    "  for file_base in file_bases:\n",
    "    import pandas as pd\n",
    "    import shutil\n",
    "    if scale_factor == 1.0:\n",
    "      shutil.copyfile(file_base + '.csv', file_base + '.scaled.csv')\n",
    "      continue\n",
    "    df_to_scale = pd.read_csv(file_base + '.csv')\n",
    "    new_num_rows = int(scale_factor * len(df_to_scale))\n",
    "    if scale_factor <= 1.0:\n",
    "      df_to_scale = df_to_scale.iloc[:new_num_rows]\n",
    "    else:\n",
    "      while len(df_to_scale) < new_num_rows:\n",
    "        df_to_scale = pd.concat([df_to_scale, df_to_scale[:min(new_num_rows - len(df_to_scale), len(df_to_scale))]])\n",
    "    df_to_scale.to_csv(file_base + '.scaled.csv', index=False)\n",
    "\n",
    "if 'INPUT_SCALE_FACTOR' in os.environ:\n",
    "  scale_input_data(float(os.environ['INPUT_SCALE_FACTOR']))"
   ]
  },
  {
   "cell_type": "markdown",
   "metadata": {},
   "source": [
    "# 2020 NFL Big Data Bowl\n",
    "\n",
    "![](https://operations.nfl.com/media/3606/big-data-bowl-new-logo_750.png?mode=max&width=200)\n",
    "\n",
    "In this notebook I will attempt to provide a basic overview of the data given in the NFL Big Data Bowl kaggle challenge. We will attempt to better understand each variable provided to us in the `train.csv` data file.\n",
    "\n",
    "From the [competition overview](http://www.kaggle.com/c/nfl-big-data-bowl-2020/overview):\n",
    "\n",
    "*In this competition, you will develop a model to predict how many yards a team will gain on given rushing plays as they happen. You'll be provided game, play, and player-level data, including the position and speed of players as provided in the NFL\u2019s Next Gen Stats data. And the best part - you can see how your model performs from your living room, as the leaderboard will be updated week after week on the current season\u2019s game data as it plays out.*"
   ]
  },
  {
   "cell_type": "code",
   "execution_count": 1,
   "metadata": {},
   "outputs": [],
   "source": [
    "# import pandas as pd\n",
    "exec(os.environ['IREWR_IMPORTS'])\n",
    "import numpy as np\n",
    "# ALEX: remove plotting\n",
    "# import seaborn as sns\n",
    "# import matplotlib.pylab as plt\n",
    "# import matplotlib.patches as patches\n",
    "\n",
    "# plt.style.use('seaborn')\n",
    "# color_pal = [x['color'] for x in plt.rcParams['axes.prop_cycle']]\n",
    "pd.set_option('display.max_columns', 100) # So we can see more columns\n",
    "\n",
    "# Read in the training data\n",
    "train = pd.read_csv('./input/train.scaled.csv', low_memory=False)"
   ]
  },
  {
   "cell_type": "code",
   "execution_count": 2,
   "metadata": {
    "_kg_hide-input": true
   },
   "outputs": [],
   "source": [
    "# https://stackoverflow.com/questions/30228069/how-to-display-the-value-of-the-bar-on-each-bar-with-pyplot-barh\n",
    "# ALEX: remove plotting\n",
    "# def label_bars(ax, bars, text_format, **kwargs):\n",
    "#     \"\"\"\n",
    "#     Attaches a label on every bar of a regular or horizontal bar chart\n",
    "#     \"\"\"\n",
    "#     ys = [bar.get_y() for bar in bars]\n",
    "#     y_is_constant = all(y == ys[0] for y in ys)  # -> regular bar chart, since all all bars start on the same y level (0)\n",
    "\n",
    "#     if y_is_constant:\n",
    "#         _label_bar(ax, bars, text_format, **kwargs)\n",
    "#     else:\n",
    "#         _label_barh(ax, bars, text_format, **kwargs)\n",
    "\n",
    "\n",
    "# def _label_bar(ax, bars, text_format, **kwargs):\n",
    "#     \"\"\"\n",
    "#     Attach a text label to each bar displaying its y value\n",
    "#     \"\"\"\n",
    "#     max_y_value = ax.get_ylim()[1]\n",
    "#     inside_distance = max_y_value * 0.05\n",
    "#     outside_distance = max_y_value * 0.01\n",
    "\n",
    "#     for bar in bars:\n",
    "#         text = text_format.format(bar.get_height())\n",
    "#         text_x = bar.get_x() + bar.get_width() / 2\n",
    "\n",
    "#         is_inside = bar.get_height() >= max_y_value * 0.15\n",
    "#         if is_inside:\n",
    "#             color = \"white\"\n",
    "#             text_y = bar.get_height() - inside_distance\n",
    "#         else:\n",
    "#             color = \"black\"\n",
    "#             text_y = bar.get_height() + outside_distance\n",
    "\n",
    "#         ax.text(text_x, text_y, text, ha='center', va='bottom', color=color, **kwargs)\n",
    "\n",
    "\n",
    "# def _label_barh(ax, bars, text_format, **kwargs):\n",
    "#     \"\"\"\n",
    "#     Attach a text label to each bar displaying its y value\n",
    "#     Note: label always outside. otherwise it's too hard to control as numbers can be very long\n",
    "#     \"\"\"\n",
    "#     max_x_value = ax.get_xlim()[1]\n",
    "#     distance = max_x_value * 0.0025\n",
    "\n",
    "#     for bar in bars:\n",
    "#         text = text_format.format(bar.get_width())\n",
    "\n",
    "#         text_x = bar.get_width() + distance\n",
    "#         text_y = bar.get_y() + bar.get_height() / 2\n",
    "\n",
    "#         ax.text(text_x, text_y, text, va='center', **kwargs)"
   ]
  },
  {
   "cell_type": "markdown",
   "metadata": {},
   "source": [
    "## Data Description\n",
    "- Each row represents a player at a given moment in time.\n",
    "- Each 22 players participating in a given play have a row.\n",
    "\n",
    "From the official description:\n",
    "```\n",
    "Each row in the file corresponds to a single player's involvement in a single play.\n",
    "The dataset was intentionally joined (i.e. denormalized) to make the API simple.\n",
    "All the columns are contained in one large dataframe which is grouped and provided by PlayId.\n",
    "```"
   ]
  },
  {
   "cell_type": "markdown",
   "metadata": {},
   "source": [
    "## Yards *The target we are trying to predict*\n",
    "It's always smart to take a close look at the variable we are trying to predict."
   ]
  },
  {
   "cell_type": "code",
   "execution_count": 3,
   "metadata": {},
   "outputs": [
    {
     "data": {
      "text/plain": [
       "PlayId\n",
       "20170907000118    8\n",
       "20170907000139    3\n",
       "20170907000189    5\n",
       "20170907000345    2\n",
       "20170907000395    7\n",
       "                 ..\n",
       "20191125003419    1\n",
       "20191125003440    1\n",
       "20191125003496    1\n",
       "20191125003768    1\n",
       "20191125003789    4\n",
       "Name: Yards, Length: 31007, dtype: int64"
      ]
     },
     "execution_count": 3,
     "metadata": {},
     "output_type": "execute_result"
    }
   ],
   "source": [
    "# ALEX: remove plotting\n",
    "# train.groupby('PlayId').first()['Yards'] \\\n",
    "#     .plot(kind='hist',\n",
    "#           figsize=(15, 5),\n",
    "#           bins=50,\n",
    "#           title='Distribution of Yards Gained (Target)')\n",
    "# plt.show()\n",
    "train.groupby('PlayId').first()['Yards']"
   ]
  },
  {
   "cell_type": "markdown",
   "metadata": {},
   "source": [
    "## Yards gained by Down"
   ]
  },
  {
   "cell_type": "code",
   "execution_count": 4,
   "metadata": {},
   "outputs": [],
   "source": [
    "# ALEX: remove plotting\n",
    "# fig, axes = plt.subplots(4, 1, figsize=(15, 8), sharex=True)\n",
    "# n = 0\n",
    "for i, d in train.groupby('Down'):\n",
    "# ALEX: remove plotting\n",
    "#     d['Yards'].plot(kind='hist',\n",
    "#                     bins=30,\n",
    "#                    color=color_pal[n],\n",
    "#                    ax=axes[n],\n",
    "#                    title=f'Yards Gained on down {i}')\n",
    "#     n+=1\n",
    "    d['Yards']"
   ]
  },
  {
   "cell_type": "markdown",
   "metadata": {},
   "source": [
    "## Yards gained by Distance-to-Gain\n",
    "We can see that there appears to be a increase in the average yards gained as the distance to gain increases. We also can see that as the distances increase the distribution of `Yards` moves from a normal distribution to bimodal. This could be because of sparsity of data for the extremely large distance-to-gain values."
   ]
  },
  {
   "cell_type": "code",
   "execution_count": 5,
   "metadata": {},
   "outputs": [],
   "source": [
    "# ALEX: remove plotting\n",
    "# fig, ax = plt.subplots(figsize=(20, 5))\n",
    "# sns.violinplot(x='Distance-to-Gain',\n",
    "#                y='Yards',\n",
    "#                data=train.rename(columns={'Distance':'Distance-to-Gain'}),\n",
    "#                ax=ax)\n",
    "# plt.ylim(-10, 20)\n",
    "# plt.title('Yards vs Distance-to-Gain')\n",
    "# plt.show()\n",
    "_ = train.rename(columns={'Distance':'Distance-to-Gain'})"
   ]
  },
  {
   "cell_type": "markdown",
   "metadata": {},
   "source": [
    "## GameId and PlayID - `a unique game identifier`\n",
    "We can see the number of plays provided for a typical gameID.\n",
    "- 512 Games\n",
    "- 23171 Plays"
   ]
  },
  {
   "cell_type": "code",
   "execution_count": 6,
   "metadata": {},
   "outputs": [
    {
     "name": "stdout",
     "output_type": "stream",
     "text": [
      "Unique game data provided: 688\n",
      "Unique play data provided: 31007\n"
     ]
    }
   ],
   "source": [
    "print('Unique game data provided: {}'.format(train['GameId'].nunique()))\n",
    "print('Unique play data provided: {}'.format(train['PlayId'].nunique()))"
   ]
  },
  {
   "cell_type": "markdown",
   "metadata": {},
   "source": [
    "(Thanks @arnabbiswas1 for pointing out an error in this plot that I've now fixed.)"
   ]
  },
  {
   "cell_type": "code",
   "execution_count": 7,
   "metadata": {},
   "outputs": [
    {
     "data": {
      "text/plain": [
       "GameId\n",
       "2017090700    52\n",
       "2017091000    44\n",
       "2017091001    38\n",
       "2017091002    63\n",
       "2017091003    33\n",
       "              ..\n",
       "2019112408    50\n",
       "2019112409    50\n",
       "2019112410    45\n",
       "2019112411    42\n",
       "2019112500    45\n",
       "Name: PlayId, Length: 688, dtype: int64"
      ]
     },
     "execution_count": 7,
     "metadata": {},
     "output_type": "execute_result"
    }
   ],
   "source": [
    "# ALEX: remove plotting\n",
    "# train.groupby('GameId')['PlayId'] \\\n",
    "#     .nunique() \\\n",
    "#     .plot(kind='hist', figsize=(15, 5),\n",
    "#          title='Distribution of Plays per GameId',\n",
    "#          bins=50)\n",
    "# plt.show()\n",
    "train.groupby('GameId')['PlayId'] \\\n",
    "     .nunique()"
   ]
  },
  {
   "cell_type": "markdown",
   "metadata": {},
   "source": [
    "## Down and Distance\n",
    "- We can see the majority of running plays occur on first down. This is not unexpected as running plays are much more common in earlier downs."
   ]
  },
  {
   "cell_type": "code",
   "execution_count": 8,
   "metadata": {},
   "outputs": [],
   "source": [
    "# ALEX: remove plotting\n",
    "# fig, (ax1, ax2) = plt.subplots(1, 2, figsize=(15, 5))\n",
    "# sns.boxplot(data=train.groupby('PlayId').first()[['Distance','Down']],\n",
    "#             x='Down', y='Distance', ax=ax1)\n",
    "# ax1.set_title('Distance-to-Gain by Down')\n",
    "# sns.boxplot(data=train.groupby('PlayId').first()[['Yards','Down']],\n",
    "#             x='Down', y='Yards', ax=ax2)\n",
    "# ax2.set_title('Yards Gained by Down')\n",
    "# plt.show()\n",
    "_ = train.groupby('PlayId').first()[['Distance','Down']]\n",
    "_ = train.groupby('PlayId').first()[['Yards','Down']]"
   ]
  },
  {
   "cell_type": "markdown",
   "metadata": {},
   "source": [
    "## Distance to gain is commonly 10 yards"
   ]
  },
  {
   "cell_type": "code",
   "execution_count": 9,
   "metadata": {},
   "outputs": [],
   "source": [
    "# ALEX: remove plotting\n",
    "# train['Distance'].plot(kind='hist',\n",
    "#                        title='Distribution of Distance to Go',\n",
    "#                        figsize=(15, 5),\n",
    "#                        bins=30,\n",
    "#                        color=color_pal[2])\n",
    "# plt.show()\n",
    "_ = train['Distance']"
   ]
  },
  {
   "cell_type": "markdown",
   "metadata": {},
   "source": [
    "## Speed, Acceleration, and Distance\n",
    "We are provided with the speed, acceleration, and distance each player has traveled since the previous point."
   ]
  },
  {
   "cell_type": "code",
   "execution_count": 10,
   "metadata": {},
   "outputs": [
    {
     "data": {
      "text/plain": [
       "0         0.40\n",
       "1         0.01\n",
       "2         0.31\n",
       "3         0.02\n",
       "4         0.16\n",
       "          ... \n",
       "682149    0.43\n",
       "682150    0.08\n",
       "682151    0.17\n",
       "682152    0.07\n",
       "682153    0.47\n",
       "Name: Dis, Length: 682154, dtype: float64"
      ]
     },
     "execution_count": 10,
     "metadata": {},
     "output_type": "execute_result"
    }
   ],
   "source": [
    "# ALEX: remove plotting\n",
    "# fig, (ax1, ax2, ax3) = plt.subplots(1, 3, figsize=(16, 4))\n",
    "# train['S'].plot(kind='hist', ax=ax1,\n",
    "#                 title='Distribution of Speed',\n",
    "#                 bins=20,\n",
    "#                 color=color_pal[0])\n",
    "# train['A'].plot(kind='hist',\n",
    "#                 ax=ax2,\n",
    "#                 title='Distribution of Acceleration',\n",
    "#                 bins=20,\n",
    "#                 color=color_pal[1])\n",
    "# train['Dis'].plot(kind='hist',\n",
    "#                   ax=ax3,\n",
    "#                   title='Distribution of Distance',\n",
    "#                   bins=20,\n",
    "#                   color=color_pal[2])\n",
    "# plt.show()\n",
    "train['S']\n",
    "train['A']\n",
    "train['Dis']"
   ]
  },
  {
   "cell_type": "code",
   "execution_count": 11,
   "metadata": {},
   "outputs": [
    {
     "data": {
      "text/plain": [
       "18        0.38\n",
       "40        0.34\n",
       "62        0.60\n",
       "84        0.46\n",
       "98        0.44\n",
       "          ... \n",
       "682052    0.42\n",
       "682074    0.43\n",
       "682096    0.43\n",
       "682118    0.47\n",
       "682140    0.52\n",
       "Name: Dis, Length: 31007, dtype: float64"
      ]
     },
     "execution_count": 11,
     "metadata": {},
     "output_type": "execute_result"
    }
   ],
   "source": [
    "# ALEX: remove plotting\n",
    "# fig, (ax1, ax2, ax3) = plt.subplots(1, 3, figsize=(16, 4))\n",
    "# train.query(\"NflIdRusher == NflId\")['S'] \\\n",
    "#     .plot(kind='hist',\n",
    "#           ax=ax1,\n",
    "#           title='Distribution of Speed (Ball Carrier Only)',\n",
    "#           bins=20,\n",
    "#           color=color_pal[0])\n",
    "# train.query(\"NflIdRusher == NflId\")['A'] \\\n",
    "#     .plot(kind='hist',\n",
    "#           ax=ax2,\n",
    "#           title='Distribution of Acceleration (Ball Carrier Only)',\n",
    "#           bins=20,\n",
    "#           color=color_pal[1])\n",
    "# train.query(\"NflIdRusher == NflId\")['Dis'] \\\n",
    "#     .plot(kind='hist',\n",
    "#           ax=ax3,\n",
    "#           title='Distribution of Distance (Ball Carrier Only)',\n",
    "#           bins=20,\n",
    "#           color=color_pal[2])\n",
    "# plt.show()\n",
    "train.query(\"NflIdRusher == NflId\")['S']\n",
    "train.query(\"NflIdRusher == NflId\")['A']\n",
    "train.query(\"NflIdRusher == NflId\")['Dis']"
   ]
  },
  {
   "cell_type": "markdown",
   "metadata": {},
   "source": [
    "## Does Speed, Acceleration, and Distance of the runningback have a relationship with yards gained?\n",
    "Lets look and see if the speed of the runningback correlates with the yardage gained. The color shows the different defensive personnels in each run.\n",
    "\n",
    "It's not immediately clear if these features have a meaningful relationship with the yards gained."
   ]
  },
  {
   "cell_type": "code",
   "execution_count": 12,
   "metadata": {},
   "outputs": [],
   "source": [
    "# ALEX: remove plotting\n",
    "# import warnings\n",
    "# warnings.filterwarnings(\"ignore\", category=RuntimeWarning)\n",
    "\n",
    "# sns.pairplot(train.query(\"NflIdRusher == NflId\").sample(1000)[['S','Dis','A','Yards','DefensePersonnel']],\n",
    "#             hue='DefensePersonnel')\n",
    "# plt.suptitle('Speed, Acceleration, Distance traveled, and Yards Gained for Rushers')\n",
    "# plt.show()\n",
    "_ = train.query(\"NflIdRusher == NflId\").sample(1000)[['S','Dis','A','Yards','DefensePersonnel']]"
   ]
  },
  {
   "cell_type": "markdown",
   "metadata": {},
   "source": [
    "# OffensePersonnel / DefensePersonnel\n",
    "Lets see what the top personnel groupings are for the offense and defense"
   ]
  },
  {
   "cell_type": "code",
   "execution_count": 13,
   "metadata": {},
   "outputs": [
    {
     "data": {
      "text/plain": [
       "DefensePersonnel\n",
       "6 DL, 3 LB, 2 DB      64\n",
       "3 DL, 5 LB, 3 DB      76\n",
       "5 DL, 4 LB, 2 DB      76\n",
       "1 DL, 4 LB, 6 DB     100\n",
       "5 DL, 3 LB, 3 DB     146\n",
       "3 DL, 2 LB, 6 DB     239\n",
       "4 DL, 4 LB, 3 DB     295\n",
       "5 DL, 2 LB, 4 DB     322\n",
       "4 DL, 1 LB, 6 DB     475\n",
       "2 DL, 3 LB, 6 DB     788\n",
       "3 DL, 3 LB, 5 DB    3406\n",
       "2 DL, 4 LB, 5 DB    3699\n",
       "3 DL, 4 LB, 4 DB    5019\n",
       "4 DL, 3 LB, 4 DB    7875\n",
       "4 DL, 2 LB, 5 DB    8054\n",
       "Name: GameId, dtype: int64"
      ]
     },
     "execution_count": 13,
     "metadata": {},
     "output_type": "execute_result"
    }
   ],
   "source": [
    "# ALEX: remove plotting\n",
    "# fig, ax = plt.subplots(1, 2, figsize=(20, 8))\n",
    "# train.groupby('PlayId') \\\n",
    "#     .first() \\\n",
    "#     .groupby('OffensePersonnel') \\\n",
    "#     .count()['GameId'] \\\n",
    "#     .sort_values(ascending=False) \\\n",
    "#     .head(15) \\\n",
    "#     .sort_values() \\\n",
    "#     .plot(kind='barh',\n",
    "#          title='Offense Personnel # of Plays',\n",
    "#          ax=ax[0])\n",
    "# train.groupby('PlayId') \\\n",
    "#     .first() \\\n",
    "#     .groupby('DefensePersonnel') \\\n",
    "#     .count()['GameId'] \\\n",
    "#     .sort_values(ascending=False) \\\n",
    "#     .head(15) \\\n",
    "#     .sort_values() \\\n",
    "#     .plot(kind='barh',\n",
    "#          title='Defense Personnel # of Plays',\n",
    "#          ax=ax[1])\n",
    "# plt.show()\n",
    "train.groupby('PlayId') \\\n",
    "    .first() \\\n",
    "    .groupby('OffensePersonnel') \\\n",
    "    .count()['GameId'] \\\n",
    "    .sort_values(ascending=False) \\\n",
    "    .head(15) \\\n",
    "    .sort_values()\n",
    "train.groupby('PlayId') \\\n",
    "    .first() \\\n",
    "    .groupby('DefensePersonnel') \\\n",
    "    .count()['GameId'] \\\n",
    "    .sort_values(ascending=False) \\\n",
    "    .head(15) \\\n",
    "    .sort_values()"
   ]
  },
  {
   "cell_type": "markdown",
   "metadata": {},
   "source": [
    "## Defensive Personnel's impact on yard gained\n",
    "We can see that there are about 5 common defensive packages that are used. How does the way the defense is aligned correlate with the offensive production (yards gained)?\n",
    "\n",
    "What stands out at first glance is that the `4DL - 4LB - 3DB` Defense shows a different distribution in yards gained.\n",
    "\n",
    "Per wikipedia: https://en.wikipedia.org/wiki/4%E2%80%934_defense\n",
    "\n",
    "*Originally seen as a passing defense against the spread, modern versions of the 4-4 are attacking defenses stocked with multiple blitz packages that can easily be concealed and altered.*"
   ]
  },
  {
   "cell_type": "code",
   "execution_count": 14,
   "metadata": {},
   "outputs": [],
   "source": [
    "top_10_defenses = train.groupby('DefensePersonnel')['GameId'] \\\n",
    "    .count() \\\n",
    "    .sort_values(ascending=False).index[:10] \\\n",
    "    .tolist()"
   ]
  },
  {
   "cell_type": "code",
   "execution_count": 15,
   "metadata": {},
   "outputs": [],
   "source": [
    "train_play = train.groupby('PlayId').first()\n",
    "train_top10_def = train_play.loc[train_play['DefensePersonnel'].isin(top_10_defenses)]\n",
    "\n",
    "# ALEX: remove plotting\n",
    "# fig, ax = plt.subplots(figsize=(15, 5))\n",
    "# sns.violinplot(x='DefensePersonnel',\n",
    "#                y='Yards',\n",
    "#                data=train_top10_def,\n",
    "#                ax=ax)\n",
    "# plt.ylim(-10, 20)\n",
    "# plt.title('Yards vs Defensive Personnel')\n",
    "# plt.show()"
   ]
  },
  {
   "cell_type": "markdown",
   "metadata": {},
   "source": [
    "## Running strategies change as the game goes on...\n",
    "\n",
    "How are the yards gained impacted by the time in the game? Many times teams run the ball at the end of the game when they are ahead, in order to run out the gameclock and win. In these situations the run is expected more and defenses can scheme against it.\n",
    "\n",
    "It doesn't look like the quarter has a huge impact on the running yards gained."
   ]
  },
  {
   "cell_type": "code",
   "execution_count": 16,
   "metadata": {},
   "outputs": [],
   "source": [
    "# ALEX: remove plotting\n",
    "# fig, ax = plt.subplots(figsize=(15, 5))\n",
    "# ax.set_ylim(-10, 60)\n",
    "# ax.set_title('Yards vs Quarter')\n",
    "# sns.boxenplot(x='Quarter',\n",
    "#             y='Yards',\n",
    "#             data=train.sample(5000),\n",
    "#             ax=ax)\n",
    "# plt.show()\n",
    "_ = train.sample(5000)"
   ]
  },
  {
   "cell_type": "markdown",
   "metadata": {},
   "source": [
    "# Defenders In The \"Box\"\n",
    "\n",
    "The number of defenders in the box is an important part of stopping the running game. Typically defenses will add more players to this area of the field when they really want to stop a run, this comes at a cost leaving wide recievers less covered.\n",
    "\n",
    "![](https://i0.wp.com/www.footballzebras.com/wp-content/uploads/2019/02/Slide1.jpg?resize=596%2C317)"
   ]
  },
  {
   "cell_type": "markdown",
   "metadata": {},
   "source": [
    "Wow! This plot shows a big difference in yards gained when looking at the number of defenders in the box. If you've got 8+ defenders in the box you're looking to stop the run big time! And you can see the average rush yardage is lower. Conversely having 3 men in the box (maybe because they are in prevent defense for a long yard to gain) allows for a average return of about 10 yards!"
   ]
  },
  {
   "cell_type": "code",
   "execution_count": 17,
   "metadata": {},
   "outputs": [],
   "source": [
    "# ALEX: remove plotting\n",
    "# fig, ax = plt.subplots(figsize=(15, 5))\n",
    "# ax.set_ylim(-10, 60)\n",
    "# sns.boxenplot(x='DefendersInTheBox',\n",
    "#                y='Yards',\n",
    "#                data=train.query('DefendersInTheBox > 2'),\n",
    "#                ax=ax)\n",
    "# plt.title('Yards vs Defenders in the Box')\n",
    "# plt.show()\n",
    "_ = train.query('DefendersInTheBox > 2')"
   ]
  },
  {
   "cell_type": "markdown",
   "metadata": {},
   "source": [
    "# Distribution of Yards gained vs Defenders in the Box\n",
    "We can clearly see some variation in yards gained depending on the number of defenders in the box. "
   ]
  },
  {
   "cell_type": "code",
   "execution_count": 18,
   "metadata": {},
   "outputs": [],
   "source": [
    "# ALEX: remove plotting\n",
    "# fig, axes = plt.subplots(3, 2, constrained_layout=True, figsize=(15 , 10))\n",
    "# #fig.tight_layout()\n",
    "# ax_idx = 0\n",
    "# ax_idx2 = 0\n",
    "for i in range(4, 10):\n",
    "# ALEX: remove plotting\n",
    "#     this_ax = axes[ax_idx2][ax_idx]\n",
    "#     #print(ax_idx, ax_idx2)\n",
    "#     sns.distplot(train.query('DefendersInTheBox == @i')['Yards'],\n",
    "#                 ax=this_ax,\n",
    "#                 color=color_pal[ax_idx2])\n",
    "#     this_ax.set_title(f'{i} Defenders in the box')\n",
    "#     this_ax.set_xlim(-10, 20)\n",
    "#     ax_idx += 1\n",
    "#     if ax_idx == 2:\n",
    "#         ax_idx = 0\n",
    "#         ax_idx2 += 1\n",
    "    _ = train.query('DefendersInTheBox == @i')['Yards']\n",
    "# ALEX: remove plotting\n",
    "# plt.show()"
   ]
  },
  {
   "cell_type": "markdown",
   "metadata": {},
   "source": [
    "# What Ball Carriers stand out?\n",
    "> Lets now look at ball carriers (the players who typically are handed off the ball) and see if any individual players stand out. We will only look at players with more than 100 plays. Then we can plot the top and bottom 10 players."
   ]
  },
  {
   "cell_type": "code",
   "execution_count": 19,
   "metadata": {},
   "outputs": [
    {
     "data": {
      "text/plain": [
       "DisplayName\n",
       "DeAndre Washington    3.106061\n",
       "Elijah McGuire        3.260606\n",
       "David Montgomery      3.326923\n",
       "Chris Ivory           3.376106\n",
       "Jonathan Stewart      3.403941\n",
       "Alfred Blue           3.410138\n",
       "Ameer Abdullah        3.439306\n",
       "Samaje Perine         3.452514\n",
       "Mike Gillislee        3.550000\n",
       "Kerwynn Williams      3.584746\n",
       "Name: mean, dtype: float64"
      ]
     },
     "execution_count": 19,
     "metadata": {},
     "output_type": "execute_result"
    }
   ],
   "source": [
    "# ALEX: remove plotting\n",
    "# train.query(\"NflIdRusher == NflId\") \\\n",
    "#     .groupby('DisplayName')['Yards'] \\\n",
    "#     .agg(['count','mean']) \\\n",
    "#     .query('count > 100') \\\n",
    "#     .sort_values('mean', ascending=True) \\\n",
    "#     .tail(10)['mean'] \\\n",
    "#     .plot(kind='barh',\n",
    "#           figsize=(15, 5),\n",
    "#           color=color_pal[5],\n",
    "#           xlim=(0,6),\n",
    "#           title='Top 10 Players by Average Yards')\n",
    "# plt.show()\n",
    "# train.query(\"NflIdRusher == NflId\") \\\n",
    "#     .groupby('DisplayName')['Yards'] \\\n",
    "#     .agg(['count','mean']) \\\n",
    "#     .query('count > 100') \\\n",
    "#     .sort_values('mean', ascending=True) \\\n",
    "#     .head(10)['mean'] \\\n",
    "#     .plot(kind='barh',\n",
    "#           figsize=(15, 5),\n",
    "#           color=color_pal[0],\n",
    "#           xlim=(0,6),\n",
    "#           title='Bottom 10 Players by Average Yards')\n",
    "# plt.show()\n",
    "train.query(\"NflIdRusher == NflId\") \\\n",
    "    .groupby('DisplayName')['Yards'] \\\n",
    "    .agg(['count','mean']) \\\n",
    "    .query('count > 100') \\\n",
    "    .sort_values('mean', ascending=True) \\\n",
    "    .tail(10)['mean']\n",
    "train.query(\"NflIdRusher == NflId\") \\\n",
    "    .groupby('DisplayName')['Yards'] \\\n",
    "    .agg(['count','mean']) \\\n",
    "    .query('count > 100') \\\n",
    "    .sort_values('mean', ascending=True) \\\n",
    "    .head(10)['mean']"
   ]
  },
  {
   "cell_type": "markdown",
   "metadata": {},
   "source": [
    "# 3-4 vs 4-3 vs 4-2 (nickel) vs 2-4 Defense - Impact on Yards gained?\n",
    "\n",
    "Next we will use the defensive scheme data to see how the difference in down linemen impacts the yards gained.\n",
    "While there are many defensive packages, commonly defenses will run a 4-3 or 3-4 defense.\n",
    "\n",
    "You can read more about them here: https://bleacherreport.com/articles/1289011-showcasing-the-biggest-differences-in-the-4-3-and-3-4-pass-rush\n",
    "\n",
    "Basically you have \"Down linemen\" and \"Linebackers\" the number of players you put in each of these positions determines the defensive scheme.\n",
    "\n",
    "_ | _\n",
    "- | - \n",
    "![](https://usercontent2.hubstatic.com/14167861_f496.jpg) | ![](https://img.bleacherreport.net/img/images/photos/002/822/262/07d6727c91db0f152422689a0c095c4c_crop_north.jpg?h=533&w=800&q=70&crop_x=center&crop_y=top)\n",
    "![](https://usercontent2.hubstatic.com/14148753_f496.jpg) | ![](https://img.bleacherreport.net/img/images/photos/002/811/505/1f3630fb49f2e47dd3d62f01f6956940_crop_north.png?1395418910&w=630&h=420)"
   ]
  },
  {
   "cell_type": "code",
   "execution_count": 20,
   "metadata": {},
   "outputs": [
    {
     "name": "stderr",
     "output_type": "stream",
     "text": [
      "/tmp/ipykernel_463473/1357608137.py:27: FutureWarning: The default value of numeric_only in DataFrameGroupBy.mean is deprecated. In a future version, numeric_only will default to False. Either specify numeric_only or select only columns which should be valid for the function.\n",
      "  .groupby('DL_LB').mean()['Yards'] \\\n"
     ]
    }
   ],
   "source": [
    "# Create the DL-LB combos\n",
    "train['DL_LB'] = train['DefensePersonnel'] \\\n",
    "    .str[:10] \\\n",
    "    .str.replace(' DL, ','-') \\\n",
    "    .str.replace(' LB','') # Clean up and convert to DL-LB combo\n",
    "top_5_dl_lb_combos = train.groupby('DL_LB').count()['GameId'] \\\n",
    "    .sort_values() \\\n",
    "    .tail(10).index.tolist()\n",
    "# ALEX: remove plotting\n",
    "# ax = train.loc[train['DL_LB'].isin(top_5_dl_lb_combos)] \\\n",
    "#     .groupby('DL_LB').mean()['Yards'] \\\n",
    "#     .sort_values(ascending=True) \\\n",
    "#     .plot(kind='bar',\n",
    "#           title='Average Yards Top 5 Defensive DL-LB combos',\n",
    "#           figsize=(15, 5),\n",
    "#           color=color_pal[4])\n",
    "# # for p in ax.patches:\n",
    "# #     ax.annotate(str(round(p.get_height(), 2)),\n",
    "# #                 (p.get_x() * 1.005, p.get_height() * 1.015))\n",
    "\n",
    "# #bars = ax.bar(0.5, 5, width=0.5, align=\"center\")\n",
    "# bars = [p for p in ax.patches]\n",
    "# value_format = \"{:0.2f}\"\n",
    "# label_bars(ax, bars, value_format, fontweight='bold')\n",
    "# plt.show()\n",
    "_ = train.loc[train['DL_LB'].isin(top_5_dl_lb_combos)] \\\n",
    "    .groupby('DL_LB').mean()['Yards'] \\\n",
    "    .sort_values(ascending=True)"
   ]
  },
  {
   "cell_type": "markdown",
   "metadata": {},
   "source": [
    "## Lets Plot some defensive schemes\n",
    "Using some of the additional code created by the great SRK (@sudalairajkumar) in this kernel: https://www.kaggle.com/sudalairajkumar/simple-exploration-notebook-nfl\n",
    "\n",
    "Note that we are given the player positions at the time the ball is handed off, so the player formation isn't as clean as in the diagrams above."
   ]
  },
  {
   "cell_type": "code",
   "execution_count": 21,
   "metadata": {
    "_kg_hide-input": true
   },
   "outputs": [],
   "source": [
    "# ALEX: remove plotting\n",
    "# def create_football_field(linenumbers=True,\n",
    "#                           endzones=True,\n",
    "#                           highlight_line=False,\n",
    "#                           highlight_line_number=50,\n",
    "#                           highlighted_name='Line of Scrimmage',\n",
    "#                           fifty_is_los=False,\n",
    "#                           figsize=(12*2, 6.33*2)):\n",
    "#     \"\"\"\n",
    "#     Function that plots the football field for viewing plays.\n",
    "#     Allows for showing or hiding endzones.\n",
    "#     \"\"\"\n",
    "#     rect = patches.Rectangle((0, 0), 120, 53.3, linewidth=0.1,\n",
    "#                              edgecolor='r', facecolor='darkgreen', zorder=0)\n",
    "\n",
    "#     fig, ax = plt.subplots(1, figsize=figsize)\n",
    "#     ax.add_patch(rect)\n",
    "\n",
    "#     plt.plot([10, 10, 10, 20, 20, 30, 30, 40, 40, 50, 50, 60, 60, 70, 70, 80,\n",
    "#               80, 90, 90, 100, 100, 110, 110, 120, 0, 0, 120, 120],\n",
    "#              [0, 0, 53.3, 53.3, 0, 0, 53.3, 53.3, 0, 0, 53.3, 53.3, 0, 0, 53.3,\n",
    "#               53.3, 0, 0, 53.3, 53.3, 0, 0, 53.3, 53.3, 53.3, 0, 0, 53.3],\n",
    "#              color='white')\n",
    "#     if fifty_is_los:\n",
    "#         plt.plot([60, 60], [0, 53.3], color='gold')\n",
    "#         plt.text(62, 50, '<- Player Yardline at Snap', color='gold')\n",
    "#     # Endzones\n",
    "#     if endzones:\n",
    "#         ez1 = patches.Rectangle((0, 0), 10, 53.3,\n",
    "#                                 linewidth=0.1,\n",
    "#                                 edgecolor='r',\n",
    "#                                 facecolor='blue',\n",
    "#                                 alpha=0.2,\n",
    "#                                 zorder=0)\n",
    "#         ez2 = patches.Rectangle((110, 0), 120, 53.3,\n",
    "#                                 linewidth=0.1,\n",
    "#                                 edgecolor='r',\n",
    "#                                 facecolor='blue',\n",
    "#                                 alpha=0.2,\n",
    "#                                 zorder=0)\n",
    "#         ax.add_patch(ez1)\n",
    "#         ax.add_patch(ez2)\n",
    "#     plt.xlim(0, 120)\n",
    "#     plt.ylim(-5, 58.3)\n",
    "#     plt.axis('off')\n",
    "#     if linenumbers:\n",
    "#         for x in range(20, 110, 10):\n",
    "#             numb = x\n",
    "#             if x > 50:\n",
    "#                 numb = 120 - x\n",
    "#             plt.text(x, 5, str(numb - 10),\n",
    "#                      horizontalalignment='center',\n",
    "#                      fontsize=20,  # fontname='Arial',\n",
    "#                      color='white')\n",
    "#             plt.text(x - 0.95, 53.3 - 5, str(numb - 10),\n",
    "#                      horizontalalignment='center',\n",
    "#                      fontsize=20,  # fontname='Arial',\n",
    "#                      color='white', rotation=180)\n",
    "#     if endzones:\n",
    "#         hash_range = range(11, 110)\n",
    "#     else:\n",
    "#         hash_range = range(1, 120)\n",
    "\n",
    "#     for x in hash_range:\n",
    "#         ax.plot([x, x], [0.4, 0.7], color='white')\n",
    "#         ax.plot([x, x], [53.0, 52.5], color='white')\n",
    "#         ax.plot([x, x], [22.91, 23.57], color='white')\n",
    "#         ax.plot([x, x], [29.73, 30.39], color='white')\n",
    "\n",
    "#     if highlight_line:\n",
    "#         hl = highlight_line_number + 10\n",
    "#         plt.plot([hl, hl], [0, 53.3], color='yellow')\n",
    "#         plt.text(hl + 2, 50, '<- {}'.format(highlighted_name),\n",
    "#                  color='yellow')\n",
    "#     return fig, ax\n",
    "\n",
    "import math\n",
    "def get_dx_dy(angle, dist):\n",
    "    cartesianAngleRadians = (450-angle)*math.pi/180.0\n",
    "    dx = dist * math.cos(cartesianAngleRadians)\n",
    "    dy = dist * math.sin(cartesianAngleRadians)\n",
    "    return dx, dy"
   ]
  },
  {
   "cell_type": "code",
   "execution_count": 22,
   "metadata": {},
   "outputs": [],
   "source": [
    "play_id = train.query(\"DL_LB == '3-4'\")['PlayId'].reset_index(drop=True)[500]\n",
    "# ALEX: remove plotting\n",
    "# fig, ax = create_football_field()\n",
    "# train.query(\"PlayId == @play_id and Team == 'away'\") \\\n",
    "#     .plot(x='X', y='Y', kind='scatter', ax=ax, color='orange', s=200, legend='Away')\n",
    "# train.query(\"PlayId == @play_id and Team == 'home'\") \\\n",
    "#     .plot(x='X', y='Y', kind='scatter', ax=ax, color='blue', s=200, legend='Home')\n",
    "# train.query(\"PlayId == @play_id and NflIdRusher == NflId\") \\\n",
    "#     .plot(x='X', y='Y', kind='scatter', ax=ax, color='red', s=200, legend='Rusher')\n",
    "train.query(\"PlayId == @play_id and Team == 'away'\")\n",
    "train.query(\"PlayId == @play_id and Team == 'home'\")\n",
    "train.query(\"PlayId == @play_id and NflIdRusher == NflId\")\n",
    "rusher_row = train.query(\"PlayId == @play_id and NflIdRusher == NflId\")\n",
    "yards_covered = rusher_row[\"Yards\"].values[0]\n",
    "\n",
    "x = rusher_row[\"X\"].values[0]\n",
    "y = rusher_row[\"Y\"].values[0]\n",
    "rusher_dir = rusher_row[\"Dir\"].values[0]\n",
    "rusher_speed = rusher_row[\"S\"].values[0]\n",
    "dx, dy = get_dx_dy(rusher_dir, rusher_speed)\n",
    "yards_gained = train.query(\"PlayId == @play_id\")['Yards'].tolist()[0]\n",
    "# ALEX: remove plotting\n",
    "# ax.arrow(x, y, dx, dy, length_includes_head=True, width=0.3)\n",
    "# plt.title(f'Example of a 3-4 Defense - run resulted in {yards_gained} yards gained', fontsize=20)\n",
    "# plt.legend()\n",
    "# plt.show()"
   ]
  },
  {
   "cell_type": "code",
   "execution_count": 23,
   "metadata": {},
   "outputs": [],
   "source": [
    "play_id = train.query(\"DL_LB == '4-3'\")['PlayId'].reset_index(drop=True)[500]\n",
    "# ALEX: remove plotting\n",
    "# fig, ax = create_football_field()\n",
    "# train.query(\"PlayId == @play_id and Team == 'away'\") \\\n",
    "#     .plot(x='X', y='Y', kind='scatter', ax=ax, color='orange', s=200, legend='Away')\n",
    "# train.query(\"PlayId == @play_id and Team == 'home'\") \\\n",
    "#     .plot(x='X', y='Y', kind='scatter', ax=ax, color='blue', s=200, legend='Home')\n",
    "# train.query(\"PlayId == @play_id and NflIdRusher == NflId\") \\\n",
    "#     .plot(x='X', y='Y', kind='scatter', ax=ax, color='red', s=200, legend='Rusher')\n",
    "train.query(\"PlayId == @play_id and Team == 'away'\")\n",
    "train.query(\"PlayId == @play_id and Team == 'home'\")\n",
    "train.query(\"PlayId == @play_id and NflIdRusher == NflId\")\n",
    "rusher_row = train.query(\"PlayId == @play_id and NflIdRusher == NflId\")\n",
    "yards_covered = rusher_row[\"Yards\"].values[0]\n",
    "\n",
    "x = rusher_row[\"X\"].values[0]\n",
    "y = rusher_row[\"Y\"].values[0]\n",
    "rusher_dir = rusher_row[\"Dir\"].values[0]\n",
    "rusher_speed = rusher_row[\"S\"].values[0]\n",
    "dx, dy = get_dx_dy(rusher_dir, rusher_speed)\n",
    "yards_gained = train.query(\"PlayId == @play_id\")['Yards'].tolist()[0]\n",
    "# ALEX: remove plotting\n",
    "# ax.arrow(x, y, dx, dy, length_includes_head=True, width=0.3)\n",
    "# plt.title(f'Example of a 4-3 Defense - run resulted in {yards_gained} yard gained', fontsize=20)\n",
    "# plt.legend()\n",
    "# plt.show()"
   ]
  },
  {
   "cell_type": "code",
   "execution_count": 24,
   "metadata": {},
   "outputs": [],
   "source": [
    "play_id = train.query(\"DL_LB == '4-2'\")['PlayId'].reset_index(drop=True)[500]\n",
    "# ALEX: remove plotting\n",
    "# fig, ax = create_football_field()\n",
    "# train.query(\"PlayId == @play_id and Team == 'away'\") \\\n",
    "#     .plot(x='X', y='Y', kind='scatter', ax=ax, color='orange', s=200, legend='Away')\n",
    "# train.query(\"PlayId == @play_id and Team == 'home'\") \\\n",
    "#     .plot(x='X', y='Y', kind='scatter', ax=ax, color='blue', s=200, legend='Home')\n",
    "# train.query(\"PlayId == @play_id and NflIdRusher == NflId\") \\\n",
    "#     .plot(x='X', y='Y', kind='scatter', ax=ax, color='red', s=200, legend='Rusher')\n",
    "train.query(\"PlayId == @play_id and Team == 'away'\")\n",
    "train.query(\"PlayId == @play_id and Team == 'home'\")\n",
    "train.query(\"PlayId == @play_id and NflIdRusher == NflId\")\n",
    "rusher_row = train.query(\"PlayId == @play_id and NflIdRusher == NflId\")\n",
    "yards_covered = rusher_row[\"Yards\"].values[0]\n",
    "\n",
    "x = rusher_row[\"X\"].values[0]\n",
    "y = rusher_row[\"Y\"].values[0]\n",
    "rusher_dir = rusher_row[\"Dir\"].values[0]\n",
    "rusher_speed = rusher_row[\"S\"].values[0]\n",
    "dx, dy = get_dx_dy(rusher_dir, rusher_speed)\n",
    "yards_gained = train.query(\"PlayId == @play_id\")['Yards'].tolist()[0]\n",
    "# ALEX: remove plotting\n",
    "# ax.arrow(x, y, dx, dy, length_includes_head=True, width=0.3)\n",
    "# plt.title(f'Example of a 4-2 Defense - run resulted in {yards_gained} yards gained', fontsize=20)\n",
    "# plt.legend()\n",
    "# plt.show()"
   ]
  },
  {
   "cell_type": "markdown",
   "metadata": {},
   "source": [
    "# Snap to Handoff Time\n",
    "Different types of designed runs develop differently, one way to understand the play design is by looking at the time it takes the quarterback to hand the ball off to the rusher. Lets take a look at the distribution of seconds taken."
   ]
  },
  {
   "cell_type": "code",
   "execution_count": 25,
   "metadata": {},
   "outputs": [
    {
     "data": {
      "text/plain": [
       "SnapHandoffSeconds\n",
       "0.0      255.0\n",
       "1.0    22248.0\n",
       "2.0     8447.0\n",
       "3.0       44.0\n",
       "4.0        8.0\n",
       "5.0        3.0\n",
       "7.0        2.0\n",
       "Name: GameId, dtype: float64"
      ]
     },
     "execution_count": 25,
     "metadata": {},
     "output_type": "execute_result"
    }
   ],
   "source": [
    "train['SnapHandoffSeconds'] = (pd.to_datetime(train['TimeHandoff']) - \\\n",
    "                               pd.to_datetime(train['TimeSnap'])).dt.total_seconds()\n",
    "\n",
    "# ALEX: remove plotting\n",
    "# (train.groupby('SnapHandoffSeconds').count() / 22 )['GameId'].plot(kind='bar',\n",
    "#                                                                    figsize=(15, 5))\n",
    "# bars = [p for p in ax.patches]\n",
    "# value_format = \"{}\"\n",
    "# label_bars(ax, bars, value_format, fontweight='bold')\n",
    "# plt.show()\n",
    "(train.groupby('SnapHandoffSeconds').count() / 22 )['GameId']"
   ]
  },
  {
   "cell_type": "markdown",
   "metadata": {},
   "source": [
    "It looks like this feature might cause some issues. Due to lack of percision we don't have much detail about the snap time. Additionally it looks like the sparcity of data for seconds that are not 1 or 2 - cause the average Yards to have large variance."
   ]
  },
  {
   "cell_type": "code",
   "execution_count": 26,
   "metadata": {},
   "outputs": [
    {
     "data": {
      "text/plain": [
       "SnapHandoffSeconds\n",
       "0.0    4.898039\n",
       "1.0    4.173768\n",
       "2.0    4.347579\n",
       "3.0    5.000000\n",
       "4.0    3.875000\n",
       "5.0   -2.000000\n",
       "7.0    5.000000\n",
       "Name: Yards, dtype: float64"
      ]
     },
     "execution_count": 26,
     "metadata": {},
     "output_type": "execute_result"
    }
   ],
   "source": [
    "# ALEX: remove plotting\n",
    "# train.groupby('SnapHandoffSeconds')['Yards'].mean().plot(kind='barh',\n",
    "#                                                          color=color_pal[1],\n",
    "#                                                          figsize=(15, 5),\n",
    "#                                                          title='Average Yards Gained by SnapHandoff Seconds')\n",
    "# plt.show()\n",
    "train.groupby('SnapHandoffSeconds')['Yards'].mean()"
   ]
  },
  {
   "cell_type": "markdown",
   "metadata": {},
   "source": [
    "## Ideas of what I should look into next? Let me know in the comments."
   ]
  },
  {
   "cell_type": "code",
   "execution_count": null,
   "metadata": {},
   "outputs": [],
   "source": []
  }
 ],
 "metadata": {
  "kernelspec": {
   "display_name": "Python 3 (ipykernel)",
   "language": "python",
   "name": "python3"
  },
  "language_info": {
   "codemirror_mode": {
    "name": "ipython",
    "version": 3
   },
   "file_extension": ".py",
   "mimetype": "text/x-python",
   "name": "python",
   "nbconvert_exporter": "python",
   "pygments_lexer": "ipython3",
   "version": "3.10.16"
  }
 },
 "nbformat": 4,
 "nbformat_minor": 1
}