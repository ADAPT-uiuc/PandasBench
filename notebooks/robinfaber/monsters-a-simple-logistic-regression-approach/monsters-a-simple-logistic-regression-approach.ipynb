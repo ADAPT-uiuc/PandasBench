{
 "cells": [
  {
   "cell_type": "code",
   "execution_count": null,
   "metadata": {},
   "outputs": [],
   "source": [
    "import os\n",
    "\n",
    "def scale_input_data(scale_factor):\n",
    "  file_bases = ['./input/train', './input/test']\n",
    "  for file_base in file_bases:\n",
    "    import pandas as pd\n",
    "    import shutil\n",
    "    if scale_factor == 1.0:\n",
    "      shutil.copyfile(file_base + '.csv', file_base + '.scaled.csv')\n",
    "      continue\n",
    "    df_to_scale = pd.read_csv(file_base + '.csv')\n",
    "    new_num_rows = int(scale_factor * len(df_to_scale))\n",
    "    if scale_factor <= 1.0:\n",
    "      df_to_scale = df_to_scale.iloc[:new_num_rows]\n",
    "    else:\n",
    "      while len(df_to_scale) < new_num_rows:\n",
    "        df_to_scale = pd.concat([df_to_scale, df_to_scale[:min(new_num_rows - len(df_to_scale), len(df_to_scale))]])\n",
    "    df_to_scale.to_csv(file_base + '.scaled.csv', index=False)\n",
    "\n",
    "if 'INPUT_SCALE_FACTOR' in os.environ:\n",
    "  scale_input_data(float(os.environ['INPUT_SCALE_FACTOR']))"
   ]
  },
  {
   "cell_type": "markdown",
   "metadata": {
    "_cell_guid": "bf30ba6e-c3d4-cf36-b52c-6295d7fe97b9"
   },
   "source": [
    "After some playing around with the Titanic dataset and getting introduced to machine learning and Kaggle, this is my first notebook on Kaggle. In this notebook I attempt to tackle the monsters classification problem through a simple logistic regression model."
   ]
  },
  {
   "cell_type": "markdown",
   "metadata": {
    "_cell_guid": "0d3542e2-5bb5-bbed-9fb6-c07bc8d6b2b9"
   },
   "source": [
    "## Importing libraries ##"
   ]
  },
  {
   "cell_type": "code",
   "execution_count": 1,
   "metadata": {
    "_cell_guid": "c502f264-1ce9-05fa-f508-97f842782843"
   },
   "outputs": [],
   "source": [
    "# import pandas as pd # data processing, CSV file I/O\n",
    "exec(os.environ['IREWR_IMPORTS'])\n",
    "# ALEX: remove plotting\n",
    "# import seaborn as sns # plotting\n",
    "# from sklearn.linear_model import LogisticRegression # Logistic regression"
   ]
  },
  {
   "cell_type": "markdown",
   "metadata": {
    "_cell_guid": "128488ef-7bf6-218e-5562-6eb90c2d188b"
   },
   "source": [
    "## Load datasets from CSV files and check for missing values ##"
   ]
  },
  {
   "cell_type": "code",
   "execution_count": 2,
   "metadata": {
    "_cell_guid": "7b287240-9e5a-d7c0-d784-e1b99a013e1c"
   },
   "outputs": [
    {
     "data": {
      "text/plain": [
       "id               False\n",
       "bone_length      False\n",
       "rotting_flesh    False\n",
       "hair_length      False\n",
       "has_soul         False\n",
       "color            False\n",
       "type             False\n",
       "dtype: bool"
      ]
     },
     "execution_count": 2,
     "metadata": {},
     "output_type": "execute_result"
    }
   ],
   "source": [
    "train = pd.read_csv(\"./input/train.scaled.csv\")\n",
    "test = pd.read_csv(\"./input/test.scaled.csv\")\n",
    "\n",
    "train.isnull().any()"
   ]
  },
  {
   "cell_type": "markdown",
   "metadata": {
    "_cell_guid": "64acd6b1-da99-11f3-2384-3a7789de9779"
   },
   "source": [
    "## Explore dataset ##"
   ]
  },
  {
   "cell_type": "code",
   "execution_count": 3,
   "metadata": {
    "_cell_guid": "6b8ec142-8170-c676-d711-ab548f917173"
   },
   "outputs": [
    {
     "data": {
      "text/html": [
       "<div>\n",
       "<style scoped>\n",
       "    .dataframe tbody tr th:only-of-type {\n",
       "        vertical-align: middle;\n",
       "    }\n",
       "\n",
       "    .dataframe tbody tr th {\n",
       "        vertical-align: top;\n",
       "    }\n",
       "\n",
       "    .dataframe thead th {\n",
       "        text-align: right;\n",
       "    }\n",
       "</style>\n",
       "<table border=\"1\" class=\"dataframe\">\n",
       "  <thead>\n",
       "    <tr style=\"text-align: right;\">\n",
       "      <th></th>\n",
       "      <th>id</th>\n",
       "      <th>bone_length</th>\n",
       "      <th>rotting_flesh</th>\n",
       "      <th>hair_length</th>\n",
       "      <th>has_soul</th>\n",
       "      <th>color</th>\n",
       "      <th>type</th>\n",
       "    </tr>\n",
       "  </thead>\n",
       "  <tbody>\n",
       "    <tr>\n",
       "      <th>0</th>\n",
       "      <td>0</td>\n",
       "      <td>0.354512</td>\n",
       "      <td>0.350839</td>\n",
       "      <td>0.465761</td>\n",
       "      <td>0.781142</td>\n",
       "      <td>clear</td>\n",
       "      <td>Ghoul</td>\n",
       "    </tr>\n",
       "    <tr>\n",
       "      <th>1</th>\n",
       "      <td>1</td>\n",
       "      <td>0.575560</td>\n",
       "      <td>0.425868</td>\n",
       "      <td>0.531401</td>\n",
       "      <td>0.439899</td>\n",
       "      <td>green</td>\n",
       "      <td>Goblin</td>\n",
       "    </tr>\n",
       "    <tr>\n",
       "      <th>2</th>\n",
       "      <td>2</td>\n",
       "      <td>0.467875</td>\n",
       "      <td>0.354330</td>\n",
       "      <td>0.811616</td>\n",
       "      <td>0.791225</td>\n",
       "      <td>black</td>\n",
       "      <td>Ghoul</td>\n",
       "    </tr>\n",
       "    <tr>\n",
       "      <th>3</th>\n",
       "      <td>4</td>\n",
       "      <td>0.776652</td>\n",
       "      <td>0.508723</td>\n",
       "      <td>0.636766</td>\n",
       "      <td>0.884464</td>\n",
       "      <td>black</td>\n",
       "      <td>Ghoul</td>\n",
       "    </tr>\n",
       "    <tr>\n",
       "      <th>4</th>\n",
       "      <td>5</td>\n",
       "      <td>0.566117</td>\n",
       "      <td>0.875862</td>\n",
       "      <td>0.418594</td>\n",
       "      <td>0.636438</td>\n",
       "      <td>green</td>\n",
       "      <td>Ghost</td>\n",
       "    </tr>\n",
       "  </tbody>\n",
       "</table>\n",
       "</div>"
      ],
      "text/plain": [
       "   id  bone_length  rotting_flesh  hair_length  has_soul  color    type\n",
       "0   0     0.354512       0.350839     0.465761  0.781142  clear   Ghoul\n",
       "1   1     0.575560       0.425868     0.531401  0.439899  green  Goblin\n",
       "2   2     0.467875       0.354330     0.811616  0.791225  black   Ghoul\n",
       "3   4     0.776652       0.508723     0.636766  0.884464  black   Ghoul\n",
       "4   5     0.566117       0.875862     0.418594  0.636438  green   Ghost"
      ]
     },
     "execution_count": 3,
     "metadata": {},
     "output_type": "execute_result"
    }
   ],
   "source": [
    "train.head()"
   ]
  },
  {
   "cell_type": "code",
   "execution_count": 4,
   "metadata": {
    "_cell_guid": "546091fc-5225-7586-aa22-28800c6402be"
   },
   "outputs": [
    {
     "data": {
      "text/html": [
       "<div>\n",
       "<style scoped>\n",
       "    .dataframe tbody tr th:only-of-type {\n",
       "        vertical-align: middle;\n",
       "    }\n",
       "\n",
       "    .dataframe tbody tr th {\n",
       "        vertical-align: top;\n",
       "    }\n",
       "\n",
       "    .dataframe thead th {\n",
       "        text-align: right;\n",
       "    }\n",
       "</style>\n",
       "<table border=\"1\" class=\"dataframe\">\n",
       "  <thead>\n",
       "    <tr style=\"text-align: right;\">\n",
       "      <th></th>\n",
       "      <th>id</th>\n",
       "      <th>bone_length</th>\n",
       "      <th>rotting_flesh</th>\n",
       "      <th>hair_length</th>\n",
       "      <th>has_soul</th>\n",
       "    </tr>\n",
       "  </thead>\n",
       "  <tbody>\n",
       "    <tr>\n",
       "      <th>count</th>\n",
       "      <td>371.000000</td>\n",
       "      <td>371.000000</td>\n",
       "      <td>371.000000</td>\n",
       "      <td>371.000000</td>\n",
       "      <td>371.000000</td>\n",
       "    </tr>\n",
       "    <tr>\n",
       "      <th>mean</th>\n",
       "      <td>443.676550</td>\n",
       "      <td>0.434160</td>\n",
       "      <td>0.506848</td>\n",
       "      <td>0.529114</td>\n",
       "      <td>0.471392</td>\n",
       "    </tr>\n",
       "    <tr>\n",
       "      <th>std</th>\n",
       "      <td>263.222489</td>\n",
       "      <td>0.132833</td>\n",
       "      <td>0.146358</td>\n",
       "      <td>0.169902</td>\n",
       "      <td>0.176129</td>\n",
       "    </tr>\n",
       "    <tr>\n",
       "      <th>min</th>\n",
       "      <td>0.000000</td>\n",
       "      <td>0.061032</td>\n",
       "      <td>0.095687</td>\n",
       "      <td>0.134600</td>\n",
       "      <td>0.009402</td>\n",
       "    </tr>\n",
       "    <tr>\n",
       "      <th>25%</th>\n",
       "      <td>205.500000</td>\n",
       "      <td>0.340006</td>\n",
       "      <td>0.414812</td>\n",
       "      <td>0.407428</td>\n",
       "      <td>0.348002</td>\n",
       "    </tr>\n",
       "    <tr>\n",
       "      <th>50%</th>\n",
       "      <td>458.000000</td>\n",
       "      <td>0.434891</td>\n",
       "      <td>0.501552</td>\n",
       "      <td>0.538642</td>\n",
       "      <td>0.466372</td>\n",
       "    </tr>\n",
       "    <tr>\n",
       "      <th>75%</th>\n",
       "      <td>678.500000</td>\n",
       "      <td>0.517223</td>\n",
       "      <td>0.603977</td>\n",
       "      <td>0.647244</td>\n",
       "      <td>0.600610</td>\n",
       "    </tr>\n",
       "    <tr>\n",
       "      <th>max</th>\n",
       "      <td>897.000000</td>\n",
       "      <td>0.817001</td>\n",
       "      <td>0.932466</td>\n",
       "      <td>1.000000</td>\n",
       "      <td>0.935721</td>\n",
       "    </tr>\n",
       "  </tbody>\n",
       "</table>\n",
       "</div>"
      ],
      "text/plain": [
       "               id  bone_length  rotting_flesh  hair_length    has_soul\n",
       "count  371.000000   371.000000     371.000000   371.000000  371.000000\n",
       "mean   443.676550     0.434160       0.506848     0.529114    0.471392\n",
       "std    263.222489     0.132833       0.146358     0.169902    0.176129\n",
       "min      0.000000     0.061032       0.095687     0.134600    0.009402\n",
       "25%    205.500000     0.340006       0.414812     0.407428    0.348002\n",
       "50%    458.000000     0.434891       0.501552     0.538642    0.466372\n",
       "75%    678.500000     0.517223       0.603977     0.647244    0.600610\n",
       "max    897.000000     0.817001       0.932466     1.000000    0.935721"
      ]
     },
     "execution_count": 4,
     "metadata": {},
     "output_type": "execute_result"
    }
   ],
   "source": [
    "train.describe()"
   ]
  },
  {
   "cell_type": "markdown",
   "metadata": {
    "_cell_guid": "7b3e2239-9d6f-492d-17dc-a8d6b7c2c4e6"
   },
   "source": [
    "## Explore categorical variables with Seaborn ##"
   ]
  },
  {
   "cell_type": "code",
   "execution_count": 5,
   "metadata": {
    "_cell_guid": "07578782-f9a7-b7bb-a8a0-dbb17ff13adf"
   },
   "outputs": [],
   "source": [
    "# ALEX: remove plotting\n",
    "# ax = sns.countplot(x='type', data=train, palette='Set3')"
   ]
  },
  {
   "cell_type": "code",
   "execution_count": 6,
   "metadata": {
    "_cell_guid": "c446c14e-bfe8-87f0-082b-b6f986c6ae30"
   },
   "outputs": [],
   "source": [
    "# ALEX: remove plotting\n",
    "# ax = sns.countplot(x='color', data=train, palette='Set3')"
   ]
  },
  {
   "cell_type": "markdown",
   "metadata": {
    "_cell_guid": "7879548c-0216-9f8b-e9e0-22c87822940d"
   },
   "source": [
    "## Drop 'id' column and make categorical variables numerical ##\n",
    "This way we can make a sensible pair plot and correlation matrix to see potential relationships between variables."
   ]
  },
  {
   "cell_type": "code",
   "execution_count": 7,
   "metadata": {
    "_cell_guid": "781acba8-3175-7553-1660-e5f2766b9a63"
   },
   "outputs": [],
   "source": [
    "id_list = list(train['id']) # Create list of 'id' column in case we need it later\n",
    "# ALEX: make notebook run\n",
    "# train = train.drop('id', 1) # Drop 'id' column\n",
    "train = train.drop('id', axis=1) # Drop 'id' column\n",
    "\n",
    "# Create dictionaries for 'type' and 'color' variables\n",
    "\n",
    "type_dict = {'Ghoul': 0,\n",
    "            'Goblin': 1,\n",
    "            'Ghost': 2}\n",
    "\n",
    "color_dict = {'clear': 0,\n",
    "             'green': 1,\n",
    "             'black': 2,\n",
    "             'white': 3,\n",
    "             'blue': 4,\n",
    "             'blood': 5}\n",
    "\n",
    "# Use dictionaries to re-map values categorical variables\n",
    "\n",
    "train['type'] = train['type'].map(type_dict).astype(float)\n",
    "train['color'] = train['color'].map(color_dict).astype(float)\n",
    "\n",
    "test['color'] = test['color'].map(color_dict).astype(float)"
   ]
  },
  {
   "cell_type": "code",
   "execution_count": 8,
   "metadata": {
    "_cell_guid": "a08078f9-026c-9733-a294-79cb13f7a46a"
   },
   "outputs": [],
   "source": [
    "# ALEX: remove plotting\n",
    "# sns.pairplot(train, hue='type', palette='Set3') \n",
    "\n",
    "#Legend label text shows (0, 1, 2); any tips on how to change legend text are more than welcome!"
   ]
  },
  {
   "cell_type": "code",
   "execution_count": 9,
   "metadata": {
    "_cell_guid": "1f9f3b84-dac4-b738-3bd4-7a8513a1b2bc"
   },
   "outputs": [
    {
     "data": {
      "text/html": [
       "<div>\n",
       "<style scoped>\n",
       "    .dataframe tbody tr th:only-of-type {\n",
       "        vertical-align: middle;\n",
       "    }\n",
       "\n",
       "    .dataframe tbody tr th {\n",
       "        vertical-align: top;\n",
       "    }\n",
       "\n",
       "    .dataframe thead th {\n",
       "        text-align: right;\n",
       "    }\n",
       "</style>\n",
       "<table border=\"1\" class=\"dataframe\">\n",
       "  <thead>\n",
       "    <tr style=\"text-align: right;\">\n",
       "      <th></th>\n",
       "      <th>bone_length</th>\n",
       "      <th>rotting_flesh</th>\n",
       "      <th>hair_length</th>\n",
       "      <th>has_soul</th>\n",
       "      <th>color</th>\n",
       "      <th>type</th>\n",
       "    </tr>\n",
       "  </thead>\n",
       "  <tbody>\n",
       "    <tr>\n",
       "      <th>bone_length</th>\n",
       "      <td>1.000000</td>\n",
       "      <td>-0.041716</td>\n",
       "      <td>0.353881</td>\n",
       "      <td>0.381675</td>\n",
       "      <td>0.018126</td>\n",
       "      <td>-0.520687</td>\n",
       "    </tr>\n",
       "    <tr>\n",
       "      <th>rotting_flesh</th>\n",
       "      <td>-0.041716</td>\n",
       "      <td>1.000000</td>\n",
       "      <td>-0.220353</td>\n",
       "      <td>-0.132051</td>\n",
       "      <td>0.118533</td>\n",
       "      <td>0.278228</td>\n",
       "    </tr>\n",
       "    <tr>\n",
       "      <th>hair_length</th>\n",
       "      <td>0.353881</td>\n",
       "      <td>-0.220353</td>\n",
       "      <td>1.000000</td>\n",
       "      <td>0.474835</td>\n",
       "      <td>-0.123635</td>\n",
       "      <td>-0.674640</td>\n",
       "    </tr>\n",
       "    <tr>\n",
       "      <th>has_soul</th>\n",
       "      <td>0.381675</td>\n",
       "      <td>-0.132051</td>\n",
       "      <td>0.474835</td>\n",
       "      <td>1.000000</td>\n",
       "      <td>-0.007005</td>\n",
       "      <td>-0.649989</td>\n",
       "    </tr>\n",
       "    <tr>\n",
       "      <th>color</th>\n",
       "      <td>0.018126</td>\n",
       "      <td>0.118533</td>\n",
       "      <td>-0.123635</td>\n",
       "      <td>-0.007005</td>\n",
       "      <td>1.000000</td>\n",
       "      <td>0.034793</td>\n",
       "    </tr>\n",
       "    <tr>\n",
       "      <th>type</th>\n",
       "      <td>-0.520687</td>\n",
       "      <td>0.278228</td>\n",
       "      <td>-0.674640</td>\n",
       "      <td>-0.649989</td>\n",
       "      <td>0.034793</td>\n",
       "      <td>1.000000</td>\n",
       "    </tr>\n",
       "  </tbody>\n",
       "</table>\n",
       "</div>"
      ],
      "text/plain": [
       "               bone_length  rotting_flesh  hair_length  has_soul     color  \\\n",
       "bone_length       1.000000      -0.041716     0.353881  0.381675  0.018126   \n",
       "rotting_flesh    -0.041716       1.000000    -0.220353 -0.132051  0.118533   \n",
       "hair_length       0.353881      -0.220353     1.000000  0.474835 -0.123635   \n",
       "has_soul          0.381675      -0.132051     0.474835  1.000000 -0.007005   \n",
       "color             0.018126       0.118533    -0.123635 -0.007005  1.000000   \n",
       "type             -0.520687       0.278228    -0.674640 -0.649989  0.034793   \n",
       "\n",
       "                   type  \n",
       "bone_length   -0.520687  \n",
       "rotting_flesh  0.278228  \n",
       "hair_length   -0.674640  \n",
       "has_soul      -0.649989  \n",
       "color          0.034793  \n",
       "type           1.000000  "
      ]
     },
     "execution_count": 9,
     "metadata": {},
     "output_type": "execute_result"
    }
   ],
   "source": [
    "train.corr(method='pearson')"
   ]
  },
  {
   "cell_type": "markdown",
   "metadata": {
    "_cell_guid": "9628992f-5793-44dd-0eaa-90315bf6d3b2"
   },
   "source": [
    "'Bone length', 'hair length' and 'soul' all have a strong negative relationship with 'type of monster'. 'Hair length' and 'soul' also reveal to have to fairly strong relationship. 'Color' has a very weak relationship with 'type of monster'. Let's make 'color' binary (did this mainly for practice; not sure about the added value)."
   ]
  },
  {
   "cell_type": "code",
   "execution_count": 10,
   "metadata": {
    "_cell_guid": "e741a30d-e64e-898f-3ce1-025608a06059"
   },
   "outputs": [],
   "source": [
    "train = pd.concat([train, pd.get_dummies(train['color'], prefix = 'color')], axis=1) # Create dummies\n",
    "# ALEX: make notebook run\n",
    "# train = train.drop('color', 1) # Drop 'color' column\n",
    "train = train.drop('color', axis=1) # Drop 'color' column\n",
    "\n",
    "test = pd.concat([test, pd.get_dummies(test['color'], prefix = 'color')], axis=1) # Create dummies\n",
    "# ALEX: make notebook run\n",
    "# test = test.drop('color', 1) # Drop 'color' column\n",
    "test = test.drop('color', axis=1) # Drop 'color' column"
   ]
  },
  {
   "cell_type": "markdown",
   "metadata": {
    "_cell_guid": "ce2b494f-4afa-f2ec-d4cc-4eba9cb5b5f5"
   },
   "source": [
    "## Select features ##"
   ]
  },
  {
   "cell_type": "code",
   "execution_count": 11,
   "metadata": {
    "_cell_guid": "eb6c4d51-415e-5ee9-928a-3595c3743592"
   },
   "outputs": [],
   "source": [
    "# List of columns we are using in the model\n",
    "\n",
    "feature_cols = ['bone_length', \n",
    "                'rotting_flesh', \n",
    "                'hair_length', \n",
    "                'has_soul', \n",
    "                'color_0.0',\n",
    "                'color_1.0',\n",
    "                'color_2.0',\n",
    "                'color_3.0',\n",
    "                'color_4.0',\n",
    "                'color_5.0']"
   ]
  },
  {
   "cell_type": "markdown",
   "metadata": {
    "_cell_guid": "a7fc5f49-d229-17e1-b850-1142aabc8b7e"
   },
   "source": [
    "## Fit logistic regression model ##"
   ]
  },
  {
   "cell_type": "code",
   "execution_count": 12,
   "metadata": {
    "_cell_guid": "01a93552-624c-cf60-2f90-ac358c84bedb"
   },
   "outputs": [],
   "source": [
    "X = train.loc[:, feature_cols] # Set independent variables\n",
    "y = train.type # Set outcome variable\n",
    "\n",
    "# ALEX: remove ML code\n",
    "# logreg = LogisticRegression()\n",
    "# logreg.fit(X, y) # Fit model"
   ]
  },
  {
   "cell_type": "markdown",
   "metadata": {
    "_cell_guid": "87cc9629-81f8-3b29-ba0e-4799a9b59a94"
   },
   "source": [
    "## Make prediction ##"
   ]
  },
  {
   "cell_type": "code",
   "execution_count": 13,
   "metadata": {
    "_cell_guid": "80202559-dde5-7938-f913-17c85db45e02"
   },
   "outputs": [],
   "source": [
    "X_test = test.loc[:, feature_cols]\n",
    "# ALEX: remove ML code\n",
    "# new_type_pred = logreg.predict(X_test) # Use fitted model to predict outcome in test df\n",
    "new_type_pred = train.type"
   ]
  },
  {
   "cell_type": "markdown",
   "metadata": {
    "_cell_guid": "4edd8e18-98e5-b371-90d2-90bd85e28cbd"
   },
   "source": [
    "## Create submission file ##"
   ]
  },
  {
   "cell_type": "code",
   "execution_count": 14,
   "metadata": {
    "_cell_guid": "1b50f013-f0bf-0432-c26c-ecbc0fca4c9a"
   },
   "outputs": [],
   "source": [
    "# Create submission df\n",
    "\n",
    "submission = pd.DataFrame({'id': test.id, 'type': new_type_pred})\n",
    "\n",
    "# Convert 'type' variable back to string variable\n",
    "\n",
    "type_dict_sub = {0: 'Ghoul',\n",
    "            1: 'Goblin',\n",
    "            2: 'Ghost'}\n",
    "\n",
    "submission['type'] = submission['type'].map(type_dict_sub).astype(object)\n",
    "\n",
    "# Write submission file to CSV\n",
    "\n",
    "submission.to_csv('submission.csv', index=False)"
   ]
  },
  {
   "cell_type": "markdown",
   "metadata": {
    "_cell_guid": "6b3f5ce0-e0e6-e6ab-b820-126c1dab3f2d"
   },
   "source": [
    "This particular submission gave me a score of 0.71645. Any tips on how to improve this model's accuracy are more than welcome. I'm hoping to learn as much as I can by continuing to improve my prediction. "
   ]
  }
 ],
 "metadata": {
  "_change_revision": 575,
  "_is_fork": false,
  "kernelspec": {
   "display_name": "Python 3 (ipykernel)",
   "language": "python",
   "name": "python3"
  },
  "language_info": {
   "codemirror_mode": {
    "name": "ipython",
    "version": 3
   },
   "file_extension": ".py",
   "mimetype": "text/x-python",
   "name": "python",
   "nbconvert_exporter": "python",
   "pygments_lexer": "ipython3",
   "version": "3.10.16"
  }
 },
 "nbformat": 4,
 "nbformat_minor": 1
}