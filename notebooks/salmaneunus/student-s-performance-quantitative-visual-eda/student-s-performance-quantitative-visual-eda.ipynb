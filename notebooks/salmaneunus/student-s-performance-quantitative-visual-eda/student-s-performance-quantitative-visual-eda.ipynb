{
 "cells": [
  {
   "cell_type": "code",
   "execution_count": null,
   "metadata": {},
   "outputs": [],
   "source": [
    "import os\n",
    "\n",
    "def scale_input_data(scale_factor):\n",
    "  file_bases = ['./input/StudentsPerformance']\n",
    "  for file_base in file_bases:\n",
    "    import pandas as pd\n",
    "    import shutil\n",
    "    if scale_factor == 1.0:\n",
    "      shutil.copyfile(file_base + '.csv', file_base + '.scaled.csv')\n",
    "      continue\n",
    "    df_to_scale = pd.read_csv(file_base + '.csv')\n",
    "    new_num_rows = int(scale_factor * len(df_to_scale))\n",
    "    if scale_factor <= 1.0:\n",
    "      df_to_scale = df_to_scale.iloc[:new_num_rows]\n",
    "    else:\n",
    "      while len(df_to_scale) < new_num_rows:\n",
    "        df_to_scale = pd.concat([df_to_scale, df_to_scale[:min(new_num_rows - len(df_to_scale), len(df_to_scale))]])\n",
    "    df_to_scale.to_csv(file_base + '.scaled.csv', index=False)\n",
    "\n",
    "if 'INPUT_SCALE_FACTOR' in os.environ:\n",
    "  scale_input_data(float(os.environ['INPUT_SCALE_FACTOR']))"
   ]
  },
  {
   "cell_type": "code",
   "execution_count": 1,
   "metadata": {
    "_cell_guid": "79c7e3d0-c299-4dcb-8224-4455121ee9b0",
    "_uuid": "d629ff2d2480ee46fbb7e2d37f6b5fab8052498a",
    "execution": {
     "iopub.execute_input": "2020-09-14T22:41:12.759985Z",
     "iopub.status.busy": "2020-09-14T22:41:12.759154Z",
     "iopub.status.idle": "2020-09-14T22:41:12.797856Z",
     "shell.execute_reply": "2020-09-14T22:41:12.798477Z"
    },
    "papermill": {
     "duration": 0.087929,
     "end_time": "2020-09-14T22:41:12.798670",
     "exception": false,
     "start_time": "2020-09-14T22:41:12.710741",
     "status": "completed"
    },
    "tags": []
   },
   "outputs": [
    {
     "data": {
      "text/html": [
       "<div>\n",
       "<style scoped>\n",
       "    .dataframe tbody tr th:only-of-type {\n",
       "        vertical-align: middle;\n",
       "    }\n",
       "\n",
       "    .dataframe tbody tr th {\n",
       "        vertical-align: top;\n",
       "    }\n",
       "\n",
       "    .dataframe thead th {\n",
       "        text-align: right;\n",
       "    }\n",
       "</style>\n",
       "<table border=\"1\" class=\"dataframe\">\n",
       "  <thead>\n",
       "    <tr style=\"text-align: right;\">\n",
       "      <th></th>\n",
       "      <th>gender</th>\n",
       "      <th>race/ethnicity</th>\n",
       "      <th>parental level of education</th>\n",
       "      <th>lunch</th>\n",
       "      <th>test preparation course</th>\n",
       "      <th>math score</th>\n",
       "      <th>reading score</th>\n",
       "      <th>writing score</th>\n",
       "    </tr>\n",
       "  </thead>\n",
       "  <tbody>\n",
       "    <tr>\n",
       "      <th>0</th>\n",
       "      <td>female</td>\n",
       "      <td>group B</td>\n",
       "      <td>bachelor's degree</td>\n",
       "      <td>standard</td>\n",
       "      <td>none</td>\n",
       "      <td>72</td>\n",
       "      <td>72</td>\n",
       "      <td>74</td>\n",
       "    </tr>\n",
       "    <tr>\n",
       "      <th>1</th>\n",
       "      <td>female</td>\n",
       "      <td>group C</td>\n",
       "      <td>some college</td>\n",
       "      <td>standard</td>\n",
       "      <td>completed</td>\n",
       "      <td>69</td>\n",
       "      <td>90</td>\n",
       "      <td>88</td>\n",
       "    </tr>\n",
       "    <tr>\n",
       "      <th>2</th>\n",
       "      <td>female</td>\n",
       "      <td>group B</td>\n",
       "      <td>master's degree</td>\n",
       "      <td>standard</td>\n",
       "      <td>none</td>\n",
       "      <td>90</td>\n",
       "      <td>95</td>\n",
       "      <td>93</td>\n",
       "    </tr>\n",
       "    <tr>\n",
       "      <th>3</th>\n",
       "      <td>male</td>\n",
       "      <td>group A</td>\n",
       "      <td>associate's degree</td>\n",
       "      <td>free/reduced</td>\n",
       "      <td>none</td>\n",
       "      <td>47</td>\n",
       "      <td>57</td>\n",
       "      <td>44</td>\n",
       "    </tr>\n",
       "    <tr>\n",
       "      <th>4</th>\n",
       "      <td>male</td>\n",
       "      <td>group C</td>\n",
       "      <td>some college</td>\n",
       "      <td>standard</td>\n",
       "      <td>none</td>\n",
       "      <td>76</td>\n",
       "      <td>78</td>\n",
       "      <td>75</td>\n",
       "    </tr>\n",
       "    <tr>\n",
       "      <th>...</th>\n",
       "      <td>...</td>\n",
       "      <td>...</td>\n",
       "      <td>...</td>\n",
       "      <td>...</td>\n",
       "      <td>...</td>\n",
       "      <td>...</td>\n",
       "      <td>...</td>\n",
       "      <td>...</td>\n",
       "    </tr>\n",
       "    <tr>\n",
       "      <th>995</th>\n",
       "      <td>female</td>\n",
       "      <td>group E</td>\n",
       "      <td>master's degree</td>\n",
       "      <td>standard</td>\n",
       "      <td>completed</td>\n",
       "      <td>88</td>\n",
       "      <td>99</td>\n",
       "      <td>95</td>\n",
       "    </tr>\n",
       "    <tr>\n",
       "      <th>996</th>\n",
       "      <td>male</td>\n",
       "      <td>group C</td>\n",
       "      <td>high school</td>\n",
       "      <td>free/reduced</td>\n",
       "      <td>none</td>\n",
       "      <td>62</td>\n",
       "      <td>55</td>\n",
       "      <td>55</td>\n",
       "    </tr>\n",
       "    <tr>\n",
       "      <th>997</th>\n",
       "      <td>female</td>\n",
       "      <td>group C</td>\n",
       "      <td>high school</td>\n",
       "      <td>free/reduced</td>\n",
       "      <td>completed</td>\n",
       "      <td>59</td>\n",
       "      <td>71</td>\n",
       "      <td>65</td>\n",
       "    </tr>\n",
       "    <tr>\n",
       "      <th>998</th>\n",
       "      <td>female</td>\n",
       "      <td>group D</td>\n",
       "      <td>some college</td>\n",
       "      <td>standard</td>\n",
       "      <td>completed</td>\n",
       "      <td>68</td>\n",
       "      <td>78</td>\n",
       "      <td>77</td>\n",
       "    </tr>\n",
       "    <tr>\n",
       "      <th>999</th>\n",
       "      <td>female</td>\n",
       "      <td>group D</td>\n",
       "      <td>some college</td>\n",
       "      <td>free/reduced</td>\n",
       "      <td>none</td>\n",
       "      <td>77</td>\n",
       "      <td>86</td>\n",
       "      <td>86</td>\n",
       "    </tr>\n",
       "  </tbody>\n",
       "</table>\n",
       "<p>1000 rows \u00d7 8 columns</p>\n",
       "</div>"
      ],
      "text/plain": [
       "     gender race/ethnicity parental level of education         lunch  \\\n",
       "0    female        group B           bachelor's degree      standard   \n",
       "1    female        group C                some college      standard   \n",
       "2    female        group B             master's degree      standard   \n",
       "3      male        group A          associate's degree  free/reduced   \n",
       "4      male        group C                some college      standard   \n",
       "..      ...            ...                         ...           ...   \n",
       "995  female        group E             master's degree      standard   \n",
       "996    male        group C                 high school  free/reduced   \n",
       "997  female        group C                 high school  free/reduced   \n",
       "998  female        group D                some college      standard   \n",
       "999  female        group D                some college  free/reduced   \n",
       "\n",
       "    test preparation course  math score  reading score  writing score  \n",
       "0                      none          72             72             74  \n",
       "1                 completed          69             90             88  \n",
       "2                      none          90             95             93  \n",
       "3                      none          47             57             44  \n",
       "4                      none          76             78             75  \n",
       "..                      ...         ...            ...            ...  \n",
       "995               completed          88             99             95  \n",
       "996                    none          62             55             55  \n",
       "997               completed          59             71             65  \n",
       "998               completed          68             78             77  \n",
       "999                    none          77             86             86  \n",
       "\n",
       "[1000 rows x 8 columns]"
      ]
     },
     "execution_count": 1,
     "metadata": {},
     "output_type": "execute_result"
    }
   ],
   "source": [
    "# import pandas as pd\n",
    "exec(os.environ['IREWR_IMPORTS'])\n",
    "sp = pd.read_csv(\"./input/StudentsPerformance.scaled.csv\")\n",
    "sp"
   ]
  },
  {
   "cell_type": "code",
   "execution_count": 2,
   "metadata": {
    "execution": {
     "iopub.execute_input": "2020-09-14T22:41:12.894113Z",
     "iopub.status.busy": "2020-09-14T22:41:12.892951Z",
     "iopub.status.idle": "2020-09-14T22:41:12.898394Z",
     "shell.execute_reply": "2020-09-14T22:41:12.897663Z"
    },
    "papermill": {
     "duration": 0.060218,
     "end_time": "2020-09-14T22:41:12.898524",
     "exception": false,
     "start_time": "2020-09-14T22:41:12.838306",
     "status": "completed"
    },
    "tags": []
   },
   "outputs": [
    {
     "data": {
      "text/html": [
       "<div>\n",
       "<style scoped>\n",
       "    .dataframe tbody tr th:only-of-type {\n",
       "        vertical-align: middle;\n",
       "    }\n",
       "\n",
       "    .dataframe tbody tr th {\n",
       "        vertical-align: top;\n",
       "    }\n",
       "\n",
       "    .dataframe thead th {\n",
       "        text-align: right;\n",
       "    }\n",
       "</style>\n",
       "<table border=\"1\" class=\"dataframe\">\n",
       "  <thead>\n",
       "    <tr style=\"text-align: right;\">\n",
       "      <th></th>\n",
       "      <th>gender</th>\n",
       "      <th>race/ethnicity</th>\n",
       "      <th>parental level of education</th>\n",
       "      <th>lunch</th>\n",
       "      <th>test preparation course</th>\n",
       "      <th>math score</th>\n",
       "      <th>reading score</th>\n",
       "      <th>writing score</th>\n",
       "    </tr>\n",
       "  </thead>\n",
       "  <tbody>\n",
       "    <tr>\n",
       "      <th>0</th>\n",
       "      <td>female</td>\n",
       "      <td>group B</td>\n",
       "      <td>bachelor's degree</td>\n",
       "      <td>standard</td>\n",
       "      <td>none</td>\n",
       "      <td>72</td>\n",
       "      <td>72</td>\n",
       "      <td>74</td>\n",
       "    </tr>\n",
       "    <tr>\n",
       "      <th>1</th>\n",
       "      <td>female</td>\n",
       "      <td>group C</td>\n",
       "      <td>some college</td>\n",
       "      <td>standard</td>\n",
       "      <td>completed</td>\n",
       "      <td>69</td>\n",
       "      <td>90</td>\n",
       "      <td>88</td>\n",
       "    </tr>\n",
       "    <tr>\n",
       "      <th>2</th>\n",
       "      <td>female</td>\n",
       "      <td>group B</td>\n",
       "      <td>master's degree</td>\n",
       "      <td>standard</td>\n",
       "      <td>none</td>\n",
       "      <td>90</td>\n",
       "      <td>95</td>\n",
       "      <td>93</td>\n",
       "    </tr>\n",
       "    <tr>\n",
       "      <th>3</th>\n",
       "      <td>male</td>\n",
       "      <td>group A</td>\n",
       "      <td>associate's degree</td>\n",
       "      <td>free/reduced</td>\n",
       "      <td>none</td>\n",
       "      <td>47</td>\n",
       "      <td>57</td>\n",
       "      <td>44</td>\n",
       "    </tr>\n",
       "    <tr>\n",
       "      <th>4</th>\n",
       "      <td>male</td>\n",
       "      <td>group C</td>\n",
       "      <td>some college</td>\n",
       "      <td>standard</td>\n",
       "      <td>none</td>\n",
       "      <td>76</td>\n",
       "      <td>78</td>\n",
       "      <td>75</td>\n",
       "    </tr>\n",
       "  </tbody>\n",
       "</table>\n",
       "</div>"
      ],
      "text/plain": [
       "   gender race/ethnicity parental level of education         lunch  \\\n",
       "0  female        group B           bachelor's degree      standard   \n",
       "1  female        group C                some college      standard   \n",
       "2  female        group B             master's degree      standard   \n",
       "3    male        group A          associate's degree  free/reduced   \n",
       "4    male        group C                some college      standard   \n",
       "\n",
       "  test preparation course  math score  reading score  writing score  \n",
       "0                    none          72             72             74  \n",
       "1               completed          69             90             88  \n",
       "2                    none          90             95             93  \n",
       "3                    none          47             57             44  \n",
       "4                    none          76             78             75  "
      ]
     },
     "execution_count": 2,
     "metadata": {},
     "output_type": "execute_result"
    }
   ],
   "source": [
    "sp.head()"
   ]
  },
  {
   "cell_type": "code",
   "execution_count": 3,
   "metadata": {
    "execution": {
     "iopub.execute_input": "2020-09-14T22:41:12.998592Z",
     "iopub.status.busy": "2020-09-14T22:41:12.996754Z",
     "iopub.status.idle": "2020-09-14T22:41:13.020087Z",
     "shell.execute_reply": "2020-09-14T22:41:13.019432Z"
    },
    "papermill": {
     "duration": 0.082653,
     "end_time": "2020-09-14T22:41:13.020291",
     "exception": false,
     "start_time": "2020-09-14T22:41:12.937638",
     "status": "completed"
    },
    "tags": []
   },
   "outputs": [
    {
     "data": {
      "text/html": [
       "<div>\n",
       "<style scoped>\n",
       "    .dataframe tbody tr th:only-of-type {\n",
       "        vertical-align: middle;\n",
       "    }\n",
       "\n",
       "    .dataframe tbody tr th {\n",
       "        vertical-align: top;\n",
       "    }\n",
       "\n",
       "    .dataframe thead th {\n",
       "        text-align: right;\n",
       "    }\n",
       "</style>\n",
       "<table border=\"1\" class=\"dataframe\">\n",
       "  <thead>\n",
       "    <tr style=\"text-align: right;\">\n",
       "      <th></th>\n",
       "      <th>math score</th>\n",
       "      <th>reading score</th>\n",
       "      <th>writing score</th>\n",
       "    </tr>\n",
       "  </thead>\n",
       "  <tbody>\n",
       "    <tr>\n",
       "      <th>count</th>\n",
       "      <td>1000.00000</td>\n",
       "      <td>1000.000000</td>\n",
       "      <td>1000.000000</td>\n",
       "    </tr>\n",
       "    <tr>\n",
       "      <th>mean</th>\n",
       "      <td>66.08900</td>\n",
       "      <td>69.169000</td>\n",
       "      <td>68.054000</td>\n",
       "    </tr>\n",
       "    <tr>\n",
       "      <th>std</th>\n",
       "      <td>15.16308</td>\n",
       "      <td>14.600192</td>\n",
       "      <td>15.195657</td>\n",
       "    </tr>\n",
       "    <tr>\n",
       "      <th>min</th>\n",
       "      <td>0.00000</td>\n",
       "      <td>17.000000</td>\n",
       "      <td>10.000000</td>\n",
       "    </tr>\n",
       "    <tr>\n",
       "      <th>25%</th>\n",
       "      <td>57.00000</td>\n",
       "      <td>59.000000</td>\n",
       "      <td>57.750000</td>\n",
       "    </tr>\n",
       "    <tr>\n",
       "      <th>50%</th>\n",
       "      <td>66.00000</td>\n",
       "      <td>70.000000</td>\n",
       "      <td>69.000000</td>\n",
       "    </tr>\n",
       "    <tr>\n",
       "      <th>75%</th>\n",
       "      <td>77.00000</td>\n",
       "      <td>79.000000</td>\n",
       "      <td>79.000000</td>\n",
       "    </tr>\n",
       "    <tr>\n",
       "      <th>max</th>\n",
       "      <td>100.00000</td>\n",
       "      <td>100.000000</td>\n",
       "      <td>100.000000</td>\n",
       "    </tr>\n",
       "  </tbody>\n",
       "</table>\n",
       "</div>"
      ],
      "text/plain": [
       "       math score  reading score  writing score\n",
       "count  1000.00000    1000.000000    1000.000000\n",
       "mean     66.08900      69.169000      68.054000\n",
       "std      15.16308      14.600192      15.195657\n",
       "min       0.00000      17.000000      10.000000\n",
       "25%      57.00000      59.000000      57.750000\n",
       "50%      66.00000      70.000000      69.000000\n",
       "75%      77.00000      79.000000      79.000000\n",
       "max     100.00000     100.000000     100.000000"
      ]
     },
     "execution_count": 3,
     "metadata": {},
     "output_type": "execute_result"
    }
   ],
   "source": [
    "sp.describe()"
   ]
  },
  {
   "cell_type": "code",
   "execution_count": 4,
   "metadata": {
    "execution": {
     "iopub.execute_input": "2020-09-14T22:41:13.115116Z",
     "iopub.status.busy": "2020-09-14T22:41:13.113924Z",
     "iopub.status.idle": "2020-09-14T22:41:13.118342Z",
     "shell.execute_reply": "2020-09-14T22:41:13.118869Z"
    },
    "papermill": {
     "duration": 0.057269,
     "end_time": "2020-09-14T22:41:13.119042",
     "exception": false,
     "start_time": "2020-09-14T22:41:13.061773",
     "status": "completed"
    },
    "tags": []
   },
   "outputs": [
    {
     "name": "stdout",
     "output_type": "stream",
     "text": [
      "     gender race/ethnicity parental level of education         lunch  \\\n",
      "0    female        group B           bachelor's degree      standard   \n",
      "1    female        group C                some college      standard   \n",
      "2    female        group B             master's degree      standard   \n",
      "3      male        group A          associate's degree  free/reduced   \n",
      "4      male        group C                some college      standard   \n",
      "..      ...            ...                         ...           ...   \n",
      "995  female        group E             master's degree      standard   \n",
      "996    male        group C                 high school  free/reduced   \n",
      "997  female        group C                 high school  free/reduced   \n",
      "998  female        group D                some college      standard   \n",
      "999  female        group D                some college  free/reduced   \n",
      "\n",
      "    test preparation course  math score  reading score  writing score  \n",
      "0                      none          72             72             74  \n",
      "1                 completed          69             90             88  \n",
      "2                      none          90             95             93  \n",
      "3                      none          47             57             44  \n",
      "4                      none          76             78             75  \n",
      "..                      ...         ...            ...            ...  \n",
      "995               completed          88             99             95  \n",
      "996                    none          62             55             55  \n",
      "997               completed          59             71             65  \n",
      "998               completed          68             78             77  \n",
      "999                    none          77             86             86  \n",
      "\n",
      "[1000 rows x 8 columns]\n"
     ]
    }
   ],
   "source": [
    "print(sp)"
   ]
  },
  {
   "cell_type": "code",
   "execution_count": 5,
   "metadata": {
    "execution": {
     "iopub.execute_input": "2020-09-14T22:41:13.207491Z",
     "iopub.status.busy": "2020-09-14T22:41:13.206332Z",
     "iopub.status.idle": "2020-09-14T22:41:13.209886Z",
     "shell.execute_reply": "2020-09-14T22:41:13.209102Z"
    },
    "papermill": {
     "duration": 0.049671,
     "end_time": "2020-09-14T22:41:13.210033",
     "exception": false,
     "start_time": "2020-09-14T22:41:13.160362",
     "status": "completed"
    },
    "tags": []
   },
   "outputs": [],
   "source": [
    "# FIRST-AUTHOR: remove non Pandas code\n",
    "# import datetime\n",
    "\n",
    "# x = datetime.datetime.now()"
   ]
  },
  {
   "cell_type": "code",
   "execution_count": 6,
   "metadata": {
    "execution": {
     "iopub.execute_input": "2020-09-14T22:41:13.298732Z",
     "iopub.status.busy": "2020-09-14T22:41:13.297623Z",
     "iopub.status.idle": "2020-09-14T22:41:13.301714Z",
     "shell.execute_reply": "2020-09-14T22:41:13.302301Z"
    },
    "papermill": {
     "duration": 0.051038,
     "end_time": "2020-09-14T22:41:13.302481",
     "exception": false,
     "start_time": "2020-09-14T22:41:13.251443",
     "status": "completed"
    },
    "tags": []
   },
   "outputs": [],
   "source": [
    "# FIRST-AUTHOR: remove non Pandas code\n",
    "# x"
   ]
  },
  {
   "cell_type": "code",
   "execution_count": 7,
   "metadata": {
    "execution": {
     "iopub.execute_input": "2020-09-14T22:41:13.392959Z",
     "iopub.status.busy": "2020-09-14T22:41:13.391840Z",
     "iopub.status.idle": "2020-09-14T22:41:13.396959Z",
     "shell.execute_reply": "2020-09-14T22:41:13.396334Z"
    },
    "papermill": {
     "duration": 0.052849,
     "end_time": "2020-09-14T22:41:13.397098",
     "exception": false,
     "start_time": "2020-09-14T22:41:13.344249",
     "status": "completed"
    },
    "tags": []
   },
   "outputs": [
    {
     "data": {
      "text/plain": [
       "Index(['gender', 'race/ethnicity', 'parental level of education', 'lunch',\n",
       "       'test preparation course', 'math score', 'reading score',\n",
       "       'writing score'],\n",
       "      dtype='object')"
      ]
     },
     "execution_count": 7,
     "metadata": {},
     "output_type": "execute_result"
    }
   ],
   "source": [
    "sp.columns"
   ]
  },
  {
   "cell_type": "code",
   "execution_count": 8,
   "metadata": {
    "execution": {
     "iopub.execute_input": "2020-09-14T22:41:13.489558Z",
     "iopub.status.busy": "2020-09-14T22:41:13.488668Z",
     "iopub.status.idle": "2020-09-14T22:41:13.494237Z",
     "shell.execute_reply": "2020-09-14T22:41:13.493461Z"
    },
    "papermill": {
     "duration": 0.054046,
     "end_time": "2020-09-14T22:41:13.494373",
     "exception": false,
     "start_time": "2020-09-14T22:41:13.440327",
     "status": "completed"
    },
    "tags": []
   },
   "outputs": [
    {
     "data": {
      "text/plain": [
       "dtype('int64')"
      ]
     },
     "execution_count": 8,
     "metadata": {},
     "output_type": "execute_result"
    }
   ],
   "source": [
    "sp.iloc[0:,6].dtype"
   ]
  },
  {
   "cell_type": "code",
   "execution_count": 9,
   "metadata": {
    "execution": {
     "iopub.execute_input": "2020-09-14T22:41:13.589456Z",
     "iopub.status.busy": "2020-09-14T22:41:13.588376Z",
     "iopub.status.idle": "2020-09-14T22:41:13.594360Z",
     "shell.execute_reply": "2020-09-14T22:41:13.593702Z"
    },
    "papermill": {
     "duration": 0.057387,
     "end_time": "2020-09-14T22:41:13.594491",
     "exception": false,
     "start_time": "2020-09-14T22:41:13.537104",
     "status": "completed"
    },
    "tags": []
   },
   "outputs": [
    {
     "name": "stdout",
     "output_type": "stream",
     "text": [
      "0      72\n",
      "1      69\n",
      "2      90\n",
      "3      47\n",
      "4      76\n",
      "       ..\n",
      "995    88\n",
      "996    62\n",
      "997    59\n",
      "998    68\n",
      "999    77\n",
      "Name: math score, Length: 1000, dtype: int64\n"
     ]
    },
    {
     "data": {
      "text/plain": [
       "0    72\n",
       "1    69\n",
       "2    90\n",
       "3    47\n",
       "4    76\n",
       "Name: math score, dtype: int64"
      ]
     },
     "execution_count": 9,
     "metadata": {},
     "output_type": "execute_result"
    }
   ],
   "source": [
    "scores = sp[\"math score\"]\n",
    "print(scores)\n",
    "scores.head()"
   ]
  },
  {
   "cell_type": "code",
   "execution_count": 10,
   "metadata": {
    "execution": {
     "iopub.execute_input": "2020-09-14T22:41:13.690102Z",
     "iopub.status.busy": "2020-09-14T22:41:13.689145Z",
     "iopub.status.idle": "2020-09-14T22:41:13.693397Z",
     "shell.execute_reply": "2020-09-14T22:41:13.694001Z"
    },
    "papermill": {
     "duration": 0.054431,
     "end_time": "2020-09-14T22:41:13.694162",
     "exception": false,
     "start_time": "2020-09-14T22:41:13.639731",
     "status": "completed"
    },
    "tags": []
   },
   "outputs": [
    {
     "data": {
      "text/plain": [
       "100"
      ]
     },
     "execution_count": 10,
     "metadata": {},
     "output_type": "execute_result"
    }
   ],
   "source": [
    "scores.max()"
   ]
  },
  {
   "cell_type": "code",
   "execution_count": 11,
   "metadata": {
    "execution": {
     "iopub.execute_input": "2020-09-14T22:41:13.791529Z",
     "iopub.status.busy": "2020-09-14T22:41:13.790472Z",
     "iopub.status.idle": "2020-09-14T22:41:13.795540Z",
     "shell.execute_reply": "2020-09-14T22:41:13.794759Z"
    },
    "papermill": {
     "duration": 0.057075,
     "end_time": "2020-09-14T22:41:13.795674",
     "exception": false,
     "start_time": "2020-09-14T22:41:13.738599",
     "status": "completed"
    },
    "tags": []
   },
   "outputs": [
    {
     "data": {
      "text/plain": [
       "gender                         object\n",
       "race/ethnicity                 object\n",
       "parental level of education    object\n",
       "lunch                          object\n",
       "test preparation course        object\n",
       "math score                      int64\n",
       "reading score                   int64\n",
       "writing score                   int64\n",
       "dtype: object"
      ]
     },
     "execution_count": 11,
     "metadata": {},
     "output_type": "execute_result"
    }
   ],
   "source": [
    "sp.dtypes"
   ]
  },
  {
   "cell_type": "code",
   "execution_count": 12,
   "metadata": {
    "execution": {
     "iopub.execute_input": "2020-09-14T22:41:13.893978Z",
     "iopub.status.busy": "2020-09-14T22:41:13.893111Z",
     "iopub.status.idle": "2020-09-14T22:41:13.897483Z",
     "shell.execute_reply": "2020-09-14T22:41:13.896649Z"
    },
    "papermill": {
     "duration": 0.056698,
     "end_time": "2020-09-14T22:41:13.897617",
     "exception": false,
     "start_time": "2020-09-14T22:41:13.840919",
     "status": "completed"
    },
    "tags": []
   },
   "outputs": [
    {
     "data": {
      "text/plain": [
       "0    72\n",
       "1    69\n",
       "2    90\n",
       "3    47\n",
       "4    76\n",
       "5    71\n",
       "6    88\n",
       "7    40\n",
       "8    64\n",
       "9    38\n",
       "Name: math score, dtype: int64"
      ]
     },
     "execution_count": 12,
     "metadata": {},
     "output_type": "execute_result"
    }
   ],
   "source": [
    "scores.head(10)"
   ]
  },
  {
   "cell_type": "code",
   "execution_count": 13,
   "metadata": {
    "execution": {
     "iopub.execute_input": "2020-09-14T22:41:14.003646Z",
     "iopub.status.busy": "2020-09-14T22:41:14.002600Z",
     "iopub.status.idle": "2020-09-14T22:41:14.006604Z",
     "shell.execute_reply": "2020-09-14T22:41:14.007247Z"
    },
    "papermill": {
     "duration": 0.064492,
     "end_time": "2020-09-14T22:41:14.007420",
     "exception": false,
     "start_time": "2020-09-14T22:41:13.942928",
     "status": "completed"
    },
    "tags": []
   },
   "outputs": [
    {
     "name": "stdout",
     "output_type": "stream",
     "text": [
      "<class 'pandas.core.frame.DataFrame'>\n",
      "RangeIndex: 1000 entries, 0 to 999\n",
      "Data columns (total 8 columns):\n",
      " #   Column                       Non-Null Count  Dtype \n",
      "---  ------                       --------------  ----- \n",
      " 0   gender                       1000 non-null   object\n",
      " 1   race/ethnicity               1000 non-null   object\n",
      " 2   parental level of education  1000 non-null   object\n",
      " 3   lunch                        1000 non-null   object\n",
      " 4   test preparation course      1000 non-null   object\n",
      " 5   math score                   1000 non-null   int64 \n",
      " 6   reading score                1000 non-null   int64 \n",
      " 7   writing score                1000 non-null   int64 \n",
      "dtypes: int64(3), object(5)\n",
      "memory usage: 62.6+ KB\n"
     ]
    }
   ],
   "source": [
    "sp.info()"
   ]
  },
  {
   "cell_type": "code",
   "execution_count": 14,
   "metadata": {
    "execution": {
     "iopub.execute_input": "2020-09-14T22:41:14.109955Z",
     "iopub.status.busy": "2020-09-14T22:41:14.109149Z",
     "iopub.status.idle": "2020-09-14T22:41:14.124211Z",
     "shell.execute_reply": "2020-09-14T22:41:14.123461Z"
    },
    "papermill": {
     "duration": 0.069878,
     "end_time": "2020-09-14T22:41:14.124358",
     "exception": false,
     "start_time": "2020-09-14T22:41:14.054480",
     "status": "completed"
    },
    "tags": []
   },
   "outputs": [
    {
     "data": {
      "text/html": [
       "<div>\n",
       "<style scoped>\n",
       "    .dataframe tbody tr th:only-of-type {\n",
       "        vertical-align: middle;\n",
       "    }\n",
       "\n",
       "    .dataframe tbody tr th {\n",
       "        vertical-align: top;\n",
       "    }\n",
       "\n",
       "    .dataframe thead th {\n",
       "        text-align: right;\n",
       "    }\n",
       "</style>\n",
       "<table border=\"1\" class=\"dataframe\">\n",
       "  <thead>\n",
       "    <tr style=\"text-align: right;\">\n",
       "      <th></th>\n",
       "      <th>gender</th>\n",
       "      <th>reading score</th>\n",
       "      <th>math score</th>\n",
       "      <th>writing score</th>\n",
       "    </tr>\n",
       "  </thead>\n",
       "  <tbody>\n",
       "    <tr>\n",
       "      <th>0</th>\n",
       "      <td>female</td>\n",
       "      <td>72</td>\n",
       "      <td>72</td>\n",
       "      <td>74</td>\n",
       "    </tr>\n",
       "    <tr>\n",
       "      <th>1</th>\n",
       "      <td>female</td>\n",
       "      <td>90</td>\n",
       "      <td>69</td>\n",
       "      <td>88</td>\n",
       "    </tr>\n",
       "    <tr>\n",
       "      <th>2</th>\n",
       "      <td>female</td>\n",
       "      <td>95</td>\n",
       "      <td>90</td>\n",
       "      <td>93</td>\n",
       "    </tr>\n",
       "    <tr>\n",
       "      <th>3</th>\n",
       "      <td>male</td>\n",
       "      <td>57</td>\n",
       "      <td>47</td>\n",
       "      <td>44</td>\n",
       "    </tr>\n",
       "    <tr>\n",
       "      <th>4</th>\n",
       "      <td>male</td>\n",
       "      <td>78</td>\n",
       "      <td>76</td>\n",
       "      <td>75</td>\n",
       "    </tr>\n",
       "    <tr>\n",
       "      <th>...</th>\n",
       "      <td>...</td>\n",
       "      <td>...</td>\n",
       "      <td>...</td>\n",
       "      <td>...</td>\n",
       "    </tr>\n",
       "    <tr>\n",
       "      <th>995</th>\n",
       "      <td>female</td>\n",
       "      <td>99</td>\n",
       "      <td>88</td>\n",
       "      <td>95</td>\n",
       "    </tr>\n",
       "    <tr>\n",
       "      <th>996</th>\n",
       "      <td>male</td>\n",
       "      <td>55</td>\n",
       "      <td>62</td>\n",
       "      <td>55</td>\n",
       "    </tr>\n",
       "    <tr>\n",
       "      <th>997</th>\n",
       "      <td>female</td>\n",
       "      <td>71</td>\n",
       "      <td>59</td>\n",
       "      <td>65</td>\n",
       "    </tr>\n",
       "    <tr>\n",
       "      <th>998</th>\n",
       "      <td>female</td>\n",
       "      <td>78</td>\n",
       "      <td>68</td>\n",
       "      <td>77</td>\n",
       "    </tr>\n",
       "    <tr>\n",
       "      <th>999</th>\n",
       "      <td>female</td>\n",
       "      <td>86</td>\n",
       "      <td>77</td>\n",
       "      <td>86</td>\n",
       "    </tr>\n",
       "  </tbody>\n",
       "</table>\n",
       "<p>1000 rows \u00d7 4 columns</p>\n",
       "</div>"
      ],
      "text/plain": [
       "     gender  reading score  math score  writing score\n",
       "0    female             72          72             74\n",
       "1    female             90          69             88\n",
       "2    female             95          90             93\n",
       "3      male             57          47             44\n",
       "4      male             78          76             75\n",
       "..      ...            ...         ...            ...\n",
       "995  female             99          88             95\n",
       "996    male             55          62             55\n",
       "997  female             71          59             65\n",
       "998  female             78          68             77\n",
       "999  female             86          77             86\n",
       "\n",
       "[1000 rows x 4 columns]"
      ]
     },
     "execution_count": 14,
     "metadata": {},
     "output_type": "execute_result"
    }
   ],
   "source": [
    "All_scores = sp[[\"gender\",\"reading score\",\"math score\",\"writing score\"]]\n",
    "All_scores"
   ]
  },
  {
   "cell_type": "code",
   "execution_count": 15,
   "metadata": {
    "execution": {
     "iopub.execute_input": "2020-09-14T22:41:14.226128Z",
     "iopub.status.busy": "2020-09-14T22:41:14.225007Z",
     "iopub.status.idle": "2020-09-14T22:41:14.229524Z",
     "shell.execute_reply": "2020-09-14T22:41:14.230108Z"
    },
    "papermill": {
     "duration": 0.058162,
     "end_time": "2020-09-14T22:41:14.230301",
     "exception": false,
     "start_time": "2020-09-14T22:41:14.172139",
     "status": "completed"
    },
    "tags": []
   },
   "outputs": [
    {
     "data": {
      "text/plain": [
       "(1000, 4)"
      ]
     },
     "execution_count": 15,
     "metadata": {},
     "output_type": "execute_result"
    }
   ],
   "source": [
    "All_scores.shape"
   ]
  },
  {
   "cell_type": "code",
   "execution_count": 16,
   "metadata": {
    "execution": {
     "iopub.execute_input": "2020-09-14T22:41:14.334938Z",
     "iopub.status.busy": "2020-09-14T22:41:14.334022Z",
     "iopub.status.idle": "2020-09-14T22:41:14.339695Z",
     "shell.execute_reply": "2020-09-14T22:41:14.339063Z"
    },
    "papermill": {
     "duration": 0.060872,
     "end_time": "2020-09-14T22:41:14.339841",
     "exception": false,
     "start_time": "2020-09-14T22:41:14.278969",
     "status": "completed"
    },
    "tags": []
   },
   "outputs": [
    {
     "data": {
      "text/plain": [
       "[0       True\n",
       " 1       True\n",
       " 2       True\n",
       " 3      False\n",
       " 4       True\n",
       "        ...  \n",
       " 995     True\n",
       " 996     True\n",
       " 997     True\n",
       " 998     True\n",
       " 999     True\n",
       " Name: math score, Length: 1000, dtype: bool]"
      ]
     },
     "execution_count": 16,
     "metadata": {},
     "output_type": "execute_result"
    }
   ],
   "source": [
    "math_passed = [sp[\"math score\"]>=50]\n",
    "math_passed"
   ]
  },
  {
   "cell_type": "code",
   "execution_count": 17,
   "metadata": {
    "execution": {
     "iopub.execute_input": "2020-09-14T22:41:14.455296Z",
     "iopub.status.busy": "2020-09-14T22:41:14.442003Z",
     "iopub.status.idle": "2020-09-14T22:41:14.460493Z",
     "shell.execute_reply": "2020-09-14T22:41:14.459674Z"
    },
    "papermill": {
     "duration": 0.072384,
     "end_time": "2020-09-14T22:41:14.460632",
     "exception": false,
     "start_time": "2020-09-14T22:41:14.388248",
     "status": "completed"
    },
    "tags": []
   },
   "outputs": [
    {
     "data": {
      "text/html": [
       "<div>\n",
       "<style scoped>\n",
       "    .dataframe tbody tr th:only-of-type {\n",
       "        vertical-align: middle;\n",
       "    }\n",
       "\n",
       "    .dataframe tbody tr th {\n",
       "        vertical-align: top;\n",
       "    }\n",
       "\n",
       "    .dataframe thead th {\n",
       "        text-align: right;\n",
       "    }\n",
       "</style>\n",
       "<table border=\"1\" class=\"dataframe\">\n",
       "  <thead>\n",
       "    <tr style=\"text-align: right;\">\n",
       "      <th></th>\n",
       "      <th>gender</th>\n",
       "      <th>reading score</th>\n",
       "      <th>math score</th>\n",
       "      <th>writing score</th>\n",
       "    </tr>\n",
       "  </thead>\n",
       "  <tbody>\n",
       "    <tr>\n",
       "      <th>0</th>\n",
       "      <td>female</td>\n",
       "      <td>72</td>\n",
       "      <td>72</td>\n",
       "      <td>74</td>\n",
       "    </tr>\n",
       "    <tr>\n",
       "      <th>1</th>\n",
       "      <td>female</td>\n",
       "      <td>90</td>\n",
       "      <td>69</td>\n",
       "      <td>88</td>\n",
       "    </tr>\n",
       "    <tr>\n",
       "      <th>2</th>\n",
       "      <td>female</td>\n",
       "      <td>95</td>\n",
       "      <td>90</td>\n",
       "      <td>93</td>\n",
       "    </tr>\n",
       "    <tr>\n",
       "      <th>4</th>\n",
       "      <td>male</td>\n",
       "      <td>78</td>\n",
       "      <td>76</td>\n",
       "      <td>75</td>\n",
       "    </tr>\n",
       "    <tr>\n",
       "      <th>5</th>\n",
       "      <td>female</td>\n",
       "      <td>83</td>\n",
       "      <td>71</td>\n",
       "      <td>78</td>\n",
       "    </tr>\n",
       "    <tr>\n",
       "      <th>...</th>\n",
       "      <td>...</td>\n",
       "      <td>...</td>\n",
       "      <td>...</td>\n",
       "      <td>...</td>\n",
       "    </tr>\n",
       "    <tr>\n",
       "      <th>995</th>\n",
       "      <td>female</td>\n",
       "      <td>99</td>\n",
       "      <td>88</td>\n",
       "      <td>95</td>\n",
       "    </tr>\n",
       "    <tr>\n",
       "      <th>996</th>\n",
       "      <td>male</td>\n",
       "      <td>55</td>\n",
       "      <td>62</td>\n",
       "      <td>55</td>\n",
       "    </tr>\n",
       "    <tr>\n",
       "      <th>997</th>\n",
       "      <td>female</td>\n",
       "      <td>71</td>\n",
       "      <td>59</td>\n",
       "      <td>65</td>\n",
       "    </tr>\n",
       "    <tr>\n",
       "      <th>998</th>\n",
       "      <td>female</td>\n",
       "      <td>78</td>\n",
       "      <td>68</td>\n",
       "      <td>77</td>\n",
       "    </tr>\n",
       "    <tr>\n",
       "      <th>999</th>\n",
       "      <td>female</td>\n",
       "      <td>86</td>\n",
       "      <td>77</td>\n",
       "      <td>86</td>\n",
       "    </tr>\n",
       "  </tbody>\n",
       "</table>\n",
       "<p>865 rows \u00d7 4 columns</p>\n",
       "</div>"
      ],
      "text/plain": [
       "     gender  reading score  math score  writing score\n",
       "0    female             72          72             74\n",
       "1    female             90          69             88\n",
       "2    female             95          90             93\n",
       "4      male             78          76             75\n",
       "5    female             83          71             78\n",
       "..      ...            ...         ...            ...\n",
       "995  female             99          88             95\n",
       "996    male             55          62             55\n",
       "997  female             71          59             65\n",
       "998  female             78          68             77\n",
       "999  female             86          77             86\n",
       "\n",
       "[865 rows x 4 columns]"
      ]
     },
     "execution_count": 17,
     "metadata": {},
     "output_type": "execute_result"
    }
   ],
   "source": [
    "math_passed_genderwise = All_scores[All_scores[\"math score\"]>=50]\n",
    "math_passed_genderwise"
   ]
  },
  {
   "cell_type": "code",
   "execution_count": 18,
   "metadata": {
    "execution": {
     "iopub.execute_input": "2020-09-14T22:41:14.568413Z",
     "iopub.status.busy": "2020-09-14T22:41:14.567354Z",
     "iopub.status.idle": "2020-09-14T22:41:14.571334Z",
     "shell.execute_reply": "2020-09-14T22:41:14.571902Z"
    },
    "papermill": {
     "duration": 0.062242,
     "end_time": "2020-09-14T22:41:14.572083",
     "exception": false,
     "start_time": "2020-09-14T22:41:14.509841",
     "status": "completed"
    },
    "tags": []
   },
   "outputs": [
    {
     "data": {
      "text/plain": [
       "0      False\n",
       "1      False\n",
       "2      False\n",
       "3       True\n",
       "4      False\n",
       "       ...  \n",
       "995    False\n",
       "996    False\n",
       "997    False\n",
       "998    False\n",
       "999    False\n",
       "Name: math score, Length: 1000, dtype: bool"
      ]
     },
     "execution_count": 18,
     "metadata": {},
     "output_type": "execute_result"
    }
   ],
   "source": [
    "failed = sp[\"math score\"]<50\n",
    "failed"
   ]
  },
  {
   "cell_type": "code",
   "execution_count": 19,
   "metadata": {
    "execution": {
     "iopub.execute_input": "2020-09-14T22:41:14.683659Z",
     "iopub.status.busy": "2020-09-14T22:41:14.682788Z",
     "iopub.status.idle": "2020-09-14T22:41:14.687586Z",
     "shell.execute_reply": "2020-09-14T22:41:14.686960Z"
    },
    "papermill": {
     "duration": 0.063898,
     "end_time": "2020-09-14T22:41:14.687715",
     "exception": false,
     "start_time": "2020-09-14T22:41:14.623817",
     "status": "completed"
    },
    "tags": []
   },
   "outputs": [
    {
     "data": {
      "text/plain": [
       "0           none\n",
       "1      completed\n",
       "2           none\n",
       "4           none\n",
       "5           none\n",
       "         ...    \n",
       "995    completed\n",
       "996         none\n",
       "997    completed\n",
       "998    completed\n",
       "999         none\n",
       "Name: test preparation course, Length: 886, dtype: object"
      ]
     },
     "execution_count": 19,
     "metadata": {},
     "output_type": "execute_result"
    }
   ],
   "source": [
    "#Students who passed(>=50) in writing score, actually completed the test preparation course\n",
    "course_completed = sp.loc[sp[\"writing score\"]>=50,\"test preparation course\"]\n",
    "course_completed\n",
    "course_completed"
   ]
  },
  {
   "cell_type": "code",
   "execution_count": 20,
   "metadata": {
    "execution": {
     "iopub.execute_input": "2020-09-14T22:41:14.796509Z",
     "iopub.status.busy": "2020-09-14T22:41:14.795628Z",
     "iopub.status.idle": "2020-09-14T22:41:15.111999Z",
     "shell.execute_reply": "2020-09-14T22:41:15.112574Z"
    },
    "papermill": {
     "duration": 0.372363,
     "end_time": "2020-09-14T22:41:15.112755",
     "exception": false,
     "start_time": "2020-09-14T22:41:14.740392",
     "status": "completed"
    },
    "tags": []
   },
   "outputs": [],
   "source": [
    "# FIRST-AUTHOR: remove plotting\n",
    "# All_scores.plot()"
   ]
  },
  {
   "cell_type": "code",
   "execution_count": 21,
   "metadata": {
    "execution": {
     "iopub.execute_input": "2020-09-14T22:41:15.234377Z",
     "iopub.status.busy": "2020-09-14T22:41:15.227537Z",
     "iopub.status.idle": "2020-09-14T22:41:15.468103Z",
     "shell.execute_reply": "2020-09-14T22:41:15.468707Z"
    },
    "papermill": {
     "duration": 0.302541,
     "end_time": "2020-09-14T22:41:15.468897",
     "exception": false,
     "start_time": "2020-09-14T22:41:15.166356",
     "status": "completed"
    },
    "tags": []
   },
   "outputs": [
    {
     "data": {
      "text/plain": [
       "0      72\n",
       "1      69\n",
       "2      90\n",
       "3      47\n",
       "4      76\n",
       "       ..\n",
       "995    88\n",
       "996    62\n",
       "997    59\n",
       "998    68\n",
       "999    77\n",
       "Name: math score, Length: 1000, dtype: int64"
      ]
     },
     "execution_count": 21,
     "metadata": {},
     "output_type": "execute_result"
    }
   ],
   "source": [
    "# FIRST-AUTHOR: remove plotting\n",
    "# All_scores[\"math score\"].plot()\n",
    "All_scores[\"math score\"]"
   ]
  },
  {
   "cell_type": "code",
   "execution_count": 22,
   "metadata": {
    "execution": {
     "iopub.execute_input": "2020-09-14T22:41:15.593595Z",
     "iopub.status.busy": "2020-09-14T22:41:15.592793Z",
     "iopub.status.idle": "2020-09-14T22:41:15.784920Z",
     "shell.execute_reply": "2020-09-14T22:41:15.785854Z"
    },
    "papermill": {
     "duration": 0.262441,
     "end_time": "2020-09-14T22:41:15.786103",
     "exception": false,
     "start_time": "2020-09-14T22:41:15.523662",
     "status": "completed"
    },
    "tags": []
   },
   "outputs": [],
   "source": [
    "# FIRST-AUTHOR: remove plotting\n",
    "# All_scores.plot.scatter(x=\"reading score\",y=\"writing score\",alpha=0.5)"
   ]
  },
  {
   "cell_type": "code",
   "execution_count": 23,
   "metadata": {
    "execution": {
     "iopub.execute_input": "2020-09-14T22:41:15.941106Z",
     "iopub.status.busy": "2020-09-14T22:41:15.938094Z",
     "iopub.status.idle": "2020-09-14T22:41:16.110436Z",
     "shell.execute_reply": "2020-09-14T22:41:16.109779Z"
    },
    "papermill": {
     "duration": 0.242508,
     "end_time": "2020-09-14T22:41:16.110583",
     "exception": false,
     "start_time": "2020-09-14T22:41:15.868075",
     "status": "completed"
    },
    "tags": []
   },
   "outputs": [],
   "source": [
    "# FIRST-AUTHOR: remove plotting\n",
    "# sp.plot.box()"
   ]
  },
  {
   "cell_type": "code",
   "execution_count": 24,
   "metadata": {
    "execution": {
     "iopub.execute_input": "2020-09-14T22:41:16.251662Z",
     "iopub.status.busy": "2020-09-14T22:41:16.250784Z",
     "iopub.status.idle": "2020-09-14T22:41:17.311908Z",
     "shell.execute_reply": "2020-09-14T22:41:17.312520Z"
    },
    "papermill": {
     "duration": 1.143823,
     "end_time": "2020-09-14T22:41:17.312681",
     "exception": false,
     "start_time": "2020-09-14T22:41:16.168858",
     "status": "completed"
    },
    "tags": []
   },
   "outputs": [],
   "source": [
    "# FIRST-AUTHOR: remove plotting\n",
    "# axs = sp.plot.area(figsize=(20,16),subplots = True)"
   ]
  },
  {
   "cell_type": "code",
   "execution_count": 25,
   "metadata": {
    "execution": {
     "iopub.execute_input": "2020-09-14T22:41:17.454530Z",
     "iopub.status.busy": "2020-09-14T22:41:17.452540Z",
     "iopub.status.idle": "2020-09-14T22:41:18.423427Z",
     "shell.execute_reply": "2020-09-14T22:41:18.424089Z"
    },
    "papermill": {
     "duration": 1.048841,
     "end_time": "2020-09-14T22:41:18.424292",
     "exception": false,
     "start_time": "2020-09-14T22:41:17.375451",
     "status": "completed"
    },
    "tags": []
   },
   "outputs": [],
   "source": [
    "# FIRST-AUTHOR: remove plotting\n",
    "# import matplotlib.pyplot as plt\n",
    "# fig, axs = plt.subplots(figsize=(20,16));\n",
    "\n",
    "# sp.plot.area(ax=axs);\n",
    "\n",
    "# axs.set_ylabel(\"Scores for different Subjects\");\n",
    "\n",
    "# fig.savefig(\"Scores.png\")"
   ]
  },
  {
   "cell_type": "markdown",
   "metadata": {
    "papermill": {
     "duration": 0.07305,
     "end_time": "2020-09-14T22:41:18.571499",
     "exception": false,
     "start_time": "2020-09-14T22:41:18.498449",
     "status": "completed"
    },
    "tags": []
   },
   "source": [
    "**Image is saved in png format in output**"
   ]
  },
  {
   "cell_type": "code",
   "execution_count": 26,
   "metadata": {
    "execution": {
     "iopub.execute_input": "2020-09-14T22:41:18.726691Z",
     "iopub.status.busy": "2020-09-14T22:41:18.725537Z",
     "iopub.status.idle": "2020-09-14T22:41:18.729999Z",
     "shell.execute_reply": "2020-09-14T22:41:18.730641Z"
    },
    "papermill": {
     "duration": 0.084931,
     "end_time": "2020-09-14T22:41:18.730816",
     "exception": false,
     "start_time": "2020-09-14T22:41:18.645885",
     "status": "completed"
    },
    "tags": []
   },
   "outputs": [
    {
     "data": {
      "text/plain": [
       "66.089"
      ]
     },
     "execution_count": 26,
     "metadata": {},
     "output_type": "execute_result"
    }
   ],
   "source": [
    "#Mean of math scores\n",
    "sp[\"math score\"].mean()"
   ]
  },
  {
   "cell_type": "code",
   "execution_count": 27,
   "metadata": {
    "execution": {
     "iopub.execute_input": "2020-09-14T22:41:18.885536Z",
     "iopub.status.busy": "2020-09-14T22:41:18.884518Z",
     "iopub.status.idle": "2020-09-14T22:41:18.889609Z",
     "shell.execute_reply": "2020-09-14T22:41:18.888830Z"
    },
    "papermill": {
     "duration": 0.085098,
     "end_time": "2020-09-14T22:41:18.889755",
     "exception": false,
     "start_time": "2020-09-14T22:41:18.804657",
     "status": "completed"
    },
    "tags": []
   },
   "outputs": [
    {
     "data": {
      "text/plain": [
       "68.054"
      ]
     },
     "execution_count": 27,
     "metadata": {},
     "output_type": "execute_result"
    }
   ],
   "source": [
    "sp[\"writing score\"].mean()"
   ]
  },
  {
   "cell_type": "code",
   "execution_count": 28,
   "metadata": {
    "execution": {
     "iopub.execute_input": "2020-09-14T22:41:19.045276Z",
     "iopub.status.busy": "2020-09-14T22:41:19.044081Z",
     "iopub.status.idle": "2020-09-14T22:41:19.048977Z",
     "shell.execute_reply": "2020-09-14T22:41:19.048159Z"
    },
    "papermill": {
     "duration": 0.085236,
     "end_time": "2020-09-14T22:41:19.049130",
     "exception": false,
     "start_time": "2020-09-14T22:41:18.963894",
     "status": "completed"
    },
    "tags": []
   },
   "outputs": [
    {
     "data": {
      "text/plain": [
       "69.169"
      ]
     },
     "execution_count": 28,
     "metadata": {},
     "output_type": "execute_result"
    }
   ],
   "source": [
    "sp[\"reading score\"].mean()"
   ]
  },
  {
   "cell_type": "markdown",
   "metadata": {
    "papermill": {
     "duration": 0.075,
     "end_time": "2020-09-14T22:41:19.199343",
     "exception": false,
     "start_time": "2020-09-14T22:41:19.124343",
     "status": "completed"
    },
    "tags": []
   },
   "source": [
    "# Insight 1- \n",
    "Average score and plot shows that these students tend to be slightly better in reading and writing than math"
   ]
  },
  {
   "cell_type": "code",
   "execution_count": 29,
   "metadata": {
    "execution": {
     "iopub.execute_input": "2020-09-14T22:41:19.364549Z",
     "iopub.status.busy": "2020-09-14T22:41:19.361486Z",
     "iopub.status.idle": "2020-09-14T22:41:19.382982Z",
     "shell.execute_reply": "2020-09-14T22:41:19.383566Z"
    },
    "papermill": {
     "duration": 0.107309,
     "end_time": "2020-09-14T22:41:19.383746",
     "exception": false,
     "start_time": "2020-09-14T22:41:19.276437",
     "status": "completed"
    },
    "tags": []
   },
   "outputs": [
    {
     "data": {
      "text/html": [
       "<div>\n",
       "<style scoped>\n",
       "    .dataframe tbody tr th:only-of-type {\n",
       "        vertical-align: middle;\n",
       "    }\n",
       "\n",
       "    .dataframe tbody tr th {\n",
       "        vertical-align: top;\n",
       "    }\n",
       "\n",
       "    .dataframe thead th {\n",
       "        text-align: right;\n",
       "    }\n",
       "</style>\n",
       "<table border=\"1\" class=\"dataframe\">\n",
       "  <thead>\n",
       "    <tr style=\"text-align: right;\">\n",
       "      <th></th>\n",
       "      <th>math score</th>\n",
       "      <th>reading score</th>\n",
       "      <th>writing score</th>\n",
       "    </tr>\n",
       "  </thead>\n",
       "  <tbody>\n",
       "    <tr>\n",
       "      <th>count</th>\n",
       "      <td>1000.00000</td>\n",
       "      <td>1000.000000</td>\n",
       "      <td>1000.000000</td>\n",
       "    </tr>\n",
       "    <tr>\n",
       "      <th>mean</th>\n",
       "      <td>66.08900</td>\n",
       "      <td>69.169000</td>\n",
       "      <td>68.054000</td>\n",
       "    </tr>\n",
       "    <tr>\n",
       "      <th>std</th>\n",
       "      <td>15.16308</td>\n",
       "      <td>14.600192</td>\n",
       "      <td>15.195657</td>\n",
       "    </tr>\n",
       "    <tr>\n",
       "      <th>min</th>\n",
       "      <td>0.00000</td>\n",
       "      <td>17.000000</td>\n",
       "      <td>10.000000</td>\n",
       "    </tr>\n",
       "    <tr>\n",
       "      <th>25%</th>\n",
       "      <td>57.00000</td>\n",
       "      <td>59.000000</td>\n",
       "      <td>57.750000</td>\n",
       "    </tr>\n",
       "    <tr>\n",
       "      <th>50%</th>\n",
       "      <td>66.00000</td>\n",
       "      <td>70.000000</td>\n",
       "      <td>69.000000</td>\n",
       "    </tr>\n",
       "    <tr>\n",
       "      <th>75%</th>\n",
       "      <td>77.00000</td>\n",
       "      <td>79.000000</td>\n",
       "      <td>79.000000</td>\n",
       "    </tr>\n",
       "    <tr>\n",
       "      <th>max</th>\n",
       "      <td>100.00000</td>\n",
       "      <td>100.000000</td>\n",
       "      <td>100.000000</td>\n",
       "    </tr>\n",
       "  </tbody>\n",
       "</table>\n",
       "</div>"
      ],
      "text/plain": [
       "       math score  reading score  writing score\n",
       "count  1000.00000    1000.000000    1000.000000\n",
       "mean     66.08900      69.169000      68.054000\n",
       "std      15.16308      14.600192      15.195657\n",
       "min       0.00000      17.000000      10.000000\n",
       "25%      57.00000      59.000000      57.750000\n",
       "50%      66.00000      70.000000      69.000000\n",
       "75%      77.00000      79.000000      79.000000\n",
       "max     100.00000     100.000000     100.000000"
      ]
     },
     "execution_count": 29,
     "metadata": {},
     "output_type": "execute_result"
    }
   ],
   "source": [
    "sp[[\"math score\",\"reading score\",\"writing score\"]].describe()"
   ]
  },
  {
   "cell_type": "code",
   "execution_count": 30,
   "metadata": {
    "execution": {
     "iopub.execute_input": "2020-09-14T22:41:19.553076Z",
     "iopub.status.busy": "2020-09-14T22:41:19.552055Z",
     "iopub.status.idle": "2020-09-14T22:41:19.557701Z",
     "shell.execute_reply": "2020-09-14T22:41:19.557103Z"
    },
    "papermill": {
     "duration": 0.097694,
     "end_time": "2020-09-14T22:41:19.557843",
     "exception": false,
     "start_time": "2020-09-14T22:41:19.460149",
     "status": "completed"
    },
    "tags": []
   },
   "outputs": [
    {
     "data": {
      "text/html": [
       "<div>\n",
       "<style scoped>\n",
       "    .dataframe tbody tr th:only-of-type {\n",
       "        vertical-align: middle;\n",
       "    }\n",
       "\n",
       "    .dataframe tbody tr th {\n",
       "        vertical-align: top;\n",
       "    }\n",
       "\n",
       "    .dataframe thead th {\n",
       "        text-align: right;\n",
       "    }\n",
       "</style>\n",
       "<table border=\"1\" class=\"dataframe\">\n",
       "  <thead>\n",
       "    <tr style=\"text-align: right;\">\n",
       "      <th></th>\n",
       "      <th>math score</th>\n",
       "      <th>writing score</th>\n",
       "    </tr>\n",
       "  </thead>\n",
       "  <tbody>\n",
       "    <tr>\n",
       "      <th>min</th>\n",
       "      <td>0.000000</td>\n",
       "      <td>10.000000</td>\n",
       "    </tr>\n",
       "    <tr>\n",
       "      <th>mean</th>\n",
       "      <td>66.089000</td>\n",
       "      <td>68.054000</td>\n",
       "    </tr>\n",
       "    <tr>\n",
       "      <th>max</th>\n",
       "      <td>100.000000</td>\n",
       "      <td>100.000000</td>\n",
       "    </tr>\n",
       "    <tr>\n",
       "      <th>median</th>\n",
       "      <td>66.000000</td>\n",
       "      <td>69.000000</td>\n",
       "    </tr>\n",
       "    <tr>\n",
       "      <th>skew</th>\n",
       "      <td>-0.278935</td>\n",
       "      <td>-0.289444</td>\n",
       "    </tr>\n",
       "  </tbody>\n",
       "</table>\n",
       "</div>"
      ],
      "text/plain": [
       "        math score  writing score\n",
       "min       0.000000      10.000000\n",
       "mean     66.089000      68.054000\n",
       "max     100.000000     100.000000\n",
       "median   66.000000      69.000000\n",
       "skew     -0.278935      -0.289444"
      ]
     },
     "execution_count": 30,
     "metadata": {},
     "output_type": "execute_result"
    }
   ],
   "source": [
    "sp.agg({'math score': ['min','mean','max', 'median', 'skew'],\n",
    "             'writing score': ['min', 'max', 'median', 'mean','skew']})"
   ]
  },
  {
   "cell_type": "markdown",
   "metadata": {
    "papermill": {
     "duration": 0.076062,
     "end_time": "2020-09-14T22:41:19.710859",
     "exception": false,
     "start_time": "2020-09-14T22:41:19.634797",
     "status": "completed"
    },
    "tags": []
   },
   "source": [
    "# Aggregating statistics grouped by category"
   ]
  },
  {
   "cell_type": "code",
   "execution_count": 31,
   "metadata": {
    "execution": {
     "iopub.execute_input": "2020-09-14T22:41:19.880253Z",
     "iopub.status.busy": "2020-09-14T22:41:19.879214Z",
     "iopub.status.idle": "2020-09-14T22:41:19.884709Z",
     "shell.execute_reply": "2020-09-14T22:41:19.883946Z"
    },
    "papermill": {
     "duration": 0.097861,
     "end_time": "2020-09-14T22:41:19.884841",
     "exception": false,
     "start_time": "2020-09-14T22:41:19.786980",
     "status": "completed"
    },
    "tags": []
   },
   "outputs": [
    {
     "data": {
      "text/html": [
       "<div>\n",
       "<style scoped>\n",
       "    .dataframe tbody tr th:only-of-type {\n",
       "        vertical-align: middle;\n",
       "    }\n",
       "\n",
       "    .dataframe tbody tr th {\n",
       "        vertical-align: top;\n",
       "    }\n",
       "\n",
       "    .dataframe thead th {\n",
       "        text-align: right;\n",
       "    }\n",
       "</style>\n",
       "<table border=\"1\" class=\"dataframe\">\n",
       "  <thead>\n",
       "    <tr style=\"text-align: right;\">\n",
       "      <th></th>\n",
       "      <th>math score</th>\n",
       "    </tr>\n",
       "    <tr>\n",
       "      <th>gender</th>\n",
       "      <th></th>\n",
       "    </tr>\n",
       "  </thead>\n",
       "  <tbody>\n",
       "    <tr>\n",
       "      <th>female</th>\n",
       "      <td>63.633205</td>\n",
       "    </tr>\n",
       "    <tr>\n",
       "      <th>male</th>\n",
       "      <td>68.728216</td>\n",
       "    </tr>\n",
       "  </tbody>\n",
       "</table>\n",
       "</div>"
      ],
      "text/plain": [
       "        math score\n",
       "gender            \n",
       "female   63.633205\n",
       "male     68.728216"
      ]
     },
     "execution_count": 31,
     "metadata": {},
     "output_type": "execute_result"
    }
   ],
   "source": [
    "#Average math score for male and female comparison\n",
    "sp[[\"gender\",\"math score\"]].groupby(\"gender\").mean()"
   ]
  },
  {
   "cell_type": "markdown",
   "metadata": {
    "papermill": {
     "duration": 0.077878,
     "end_time": "2020-09-14T22:41:20.040715",
     "exception": false,
     "start_time": "2020-09-14T22:41:19.962837",
     "status": "completed"
    },
    "tags": []
   },
   "source": [
    "# Insight 2: \n",
    "Male students seem to be better at maths than female students according to the data"
   ]
  },
  {
   "cell_type": "code",
   "execution_count": 32,
   "metadata": {
    "execution": {
     "iopub.execute_input": "2020-09-14T22:41:20.215618Z",
     "iopub.status.busy": "2020-09-14T22:41:20.214408Z",
     "iopub.status.idle": "2020-09-14T22:41:20.218956Z",
     "shell.execute_reply": "2020-09-14T22:41:20.219601Z"
    },
    "papermill": {
     "duration": 0.100389,
     "end_time": "2020-09-14T22:41:20.219773",
     "exception": false,
     "start_time": "2020-09-14T22:41:20.119384",
     "status": "completed"
    },
    "tags": []
   },
   "outputs": [
    {
     "data": {
      "text/html": [
       "<div>\n",
       "<style scoped>\n",
       "    .dataframe tbody tr th:only-of-type {\n",
       "        vertical-align: middle;\n",
       "    }\n",
       "\n",
       "    .dataframe tbody tr th {\n",
       "        vertical-align: top;\n",
       "    }\n",
       "\n",
       "    .dataframe thead th {\n",
       "        text-align: right;\n",
       "    }\n",
       "</style>\n",
       "<table border=\"1\" class=\"dataframe\">\n",
       "  <thead>\n",
       "    <tr style=\"text-align: right;\">\n",
       "      <th></th>\n",
       "      <th>math score</th>\n",
       "      <th>reading score</th>\n",
       "      <th>writing score</th>\n",
       "    </tr>\n",
       "    <tr>\n",
       "      <th>test preparation course</th>\n",
       "      <th></th>\n",
       "      <th></th>\n",
       "      <th></th>\n",
       "    </tr>\n",
       "  </thead>\n",
       "  <tbody>\n",
       "    <tr>\n",
       "      <th>completed</th>\n",
       "      <td>69.695531</td>\n",
       "      <td>73.893855</td>\n",
       "      <td>74.418994</td>\n",
       "    </tr>\n",
       "    <tr>\n",
       "      <th>none</th>\n",
       "      <td>64.077882</td>\n",
       "      <td>66.534268</td>\n",
       "      <td>64.504673</td>\n",
       "    </tr>\n",
       "  </tbody>\n",
       "</table>\n",
       "</div>"
      ],
      "text/plain": [
       "                         math score  reading score  writing score\n",
       "test preparation course                                          \n",
       "completed                 69.695531      73.893855      74.418994\n",
       "none                      64.077882      66.534268      64.504673"
      ]
     },
     "execution_count": 32,
     "metadata": {},
     "output_type": "execute_result"
    }
   ],
   "source": [
    "sp[[\"test preparation course\",\"math score\",\"reading score\",\"writing score\"]].groupby(\"test preparation course\").mean()\n"
   ]
  },
  {
   "cell_type": "markdown",
   "metadata": {
    "papermill": {
     "duration": 0.07816,
     "end_time": "2020-09-14T22:41:20.377205",
     "exception": false,
     "start_time": "2020-09-14T22:41:20.299045",
     "status": "completed"
    },
    "tags": []
   },
   "source": [
    "# Insight 3 -\n",
    "People who have completed test preparation course seem to have better scores than people who did not complete the course."
   ]
  },
  {
   "cell_type": "code",
   "execution_count": 33,
   "metadata": {
    "execution": {
     "iopub.execute_input": "2020-09-14T22:41:20.552634Z",
     "iopub.status.busy": "2020-09-14T22:41:20.551141Z",
     "iopub.status.idle": "2020-09-14T22:41:20.557246Z",
     "shell.execute_reply": "2020-09-14T22:41:20.556562Z"
    },
    "papermill": {
     "duration": 0.102005,
     "end_time": "2020-09-14T22:41:20.557401",
     "exception": false,
     "start_time": "2020-09-14T22:41:20.455396",
     "status": "completed"
    },
    "tags": []
   },
   "outputs": [
    {
     "data": {
      "text/html": [
       "<div>\n",
       "<style scoped>\n",
       "    .dataframe tbody tr th:only-of-type {\n",
       "        vertical-align: middle;\n",
       "    }\n",
       "\n",
       "    .dataframe tbody tr th {\n",
       "        vertical-align: top;\n",
       "    }\n",
       "\n",
       "    .dataframe thead th {\n",
       "        text-align: right;\n",
       "    }\n",
       "</style>\n",
       "<table border=\"1\" class=\"dataframe\">\n",
       "  <thead>\n",
       "    <tr style=\"text-align: right;\">\n",
       "      <th></th>\n",
       "      <th>math score</th>\n",
       "      <th>reading score</th>\n",
       "      <th>writing score</th>\n",
       "    </tr>\n",
       "    <tr>\n",
       "      <th>race/ethnicity</th>\n",
       "      <th></th>\n",
       "      <th></th>\n",
       "      <th></th>\n",
       "    </tr>\n",
       "  </thead>\n",
       "  <tbody>\n",
       "    <tr>\n",
       "      <th>group A</th>\n",
       "      <td>61.629213</td>\n",
       "      <td>64.674157</td>\n",
       "      <td>62.674157</td>\n",
       "    </tr>\n",
       "    <tr>\n",
       "      <th>group B</th>\n",
       "      <td>63.452632</td>\n",
       "      <td>67.352632</td>\n",
       "      <td>65.600000</td>\n",
       "    </tr>\n",
       "    <tr>\n",
       "      <th>group C</th>\n",
       "      <td>64.463950</td>\n",
       "      <td>69.103448</td>\n",
       "      <td>67.827586</td>\n",
       "    </tr>\n",
       "    <tr>\n",
       "      <th>group D</th>\n",
       "      <td>67.362595</td>\n",
       "      <td>70.030534</td>\n",
       "      <td>70.145038</td>\n",
       "    </tr>\n",
       "    <tr>\n",
       "      <th>group E</th>\n",
       "      <td>73.821429</td>\n",
       "      <td>73.028571</td>\n",
       "      <td>71.407143</td>\n",
       "    </tr>\n",
       "  </tbody>\n",
       "</table>\n",
       "</div>"
      ],
      "text/plain": [
       "                math score  reading score  writing score\n",
       "race/ethnicity                                          \n",
       "group A          61.629213      64.674157      62.674157\n",
       "group B          63.452632      67.352632      65.600000\n",
       "group C          64.463950      69.103448      67.827586\n",
       "group D          67.362595      70.030534      70.145038\n",
       "group E          73.821429      73.028571      71.407143"
      ]
     },
     "execution_count": 33,
     "metadata": {},
     "output_type": "execute_result"
    }
   ],
   "source": [
    "a = sp[[\"race/ethnicity\",\"math score\",\"reading score\",\"writing score\"]].groupby(\"race/ethnicity\").mean()\n",
    "a"
   ]
  },
  {
   "cell_type": "code",
   "execution_count": 34,
   "metadata": {
    "execution": {
     "iopub.execute_input": "2020-09-14T22:41:20.737578Z",
     "iopub.status.busy": "2020-09-14T22:41:20.727305Z",
     "iopub.status.idle": "2020-09-14T22:41:20.942482Z",
     "shell.execute_reply": "2020-09-14T22:41:20.943284Z"
    },
    "papermill": {
     "duration": 0.305936,
     "end_time": "2020-09-14T22:41:20.943713",
     "exception": false,
     "start_time": "2020-09-14T22:41:20.637777",
     "status": "completed"
    },
    "tags": []
   },
   "outputs": [],
   "source": [
    "# FIRST-AUTHOR: remove plotting\n",
    "# a.plot()"
   ]
  },
  {
   "cell_type": "markdown",
   "metadata": {
    "papermill": {
     "duration": 0.095956,
     "end_time": "2020-09-14T22:41:21.136765",
     "exception": false,
     "start_time": "2020-09-14T22:41:21.040809",
     "status": "completed"
    },
    "tags": []
   },
   "source": [
    "# Insight - 4\n",
    "Group E seems to be doing better than all other race/ethnic groups in all performance criterias"
   ]
  },
  {
   "cell_type": "code",
   "execution_count": 35,
   "metadata": {
    "execution": {
     "iopub.execute_input": "2020-09-14T22:41:21.340582Z",
     "iopub.status.busy": "2020-09-14T22:41:21.339637Z",
     "iopub.status.idle": "2020-09-14T22:41:21.362833Z",
     "shell.execute_reply": "2020-09-14T22:41:21.363622Z"
    },
    "papermill": {
     "duration": 0.140514,
     "end_time": "2020-09-14T22:41:21.363838",
     "exception": false,
     "start_time": "2020-09-14T22:41:21.223324",
     "status": "completed"
    },
    "tags": []
   },
   "outputs": [
    {
     "data": {
      "text/html": [
       "<div>\n",
       "<style scoped>\n",
       "    .dataframe tbody tr th:only-of-type {\n",
       "        vertical-align: middle;\n",
       "    }\n",
       "\n",
       "    .dataframe tbody tr th {\n",
       "        vertical-align: top;\n",
       "    }\n",
       "\n",
       "    .dataframe thead th {\n",
       "        text-align: right;\n",
       "    }\n",
       "</style>\n",
       "<table border=\"1\" class=\"dataframe\">\n",
       "  <thead>\n",
       "    <tr style=\"text-align: right;\">\n",
       "      <th></th>\n",
       "      <th>math score</th>\n",
       "      <th>reading score</th>\n",
       "      <th>writing score</th>\n",
       "    </tr>\n",
       "    <tr>\n",
       "      <th>parental level of education</th>\n",
       "      <th></th>\n",
       "      <th></th>\n",
       "      <th></th>\n",
       "    </tr>\n",
       "  </thead>\n",
       "  <tbody>\n",
       "    <tr>\n",
       "      <th>associate's degree</th>\n",
       "      <td>67.882883</td>\n",
       "      <td>70.927928</td>\n",
       "      <td>69.896396</td>\n",
       "    </tr>\n",
       "    <tr>\n",
       "      <th>bachelor's degree</th>\n",
       "      <td>69.389831</td>\n",
       "      <td>73.000000</td>\n",
       "      <td>73.381356</td>\n",
       "    </tr>\n",
       "    <tr>\n",
       "      <th>high school</th>\n",
       "      <td>62.137755</td>\n",
       "      <td>64.704082</td>\n",
       "      <td>62.448980</td>\n",
       "    </tr>\n",
       "    <tr>\n",
       "      <th>master's degree</th>\n",
       "      <td>69.745763</td>\n",
       "      <td>75.372881</td>\n",
       "      <td>75.677966</td>\n",
       "    </tr>\n",
       "    <tr>\n",
       "      <th>some college</th>\n",
       "      <td>67.128319</td>\n",
       "      <td>69.460177</td>\n",
       "      <td>68.840708</td>\n",
       "    </tr>\n",
       "    <tr>\n",
       "      <th>some high school</th>\n",
       "      <td>63.497207</td>\n",
       "      <td>66.938547</td>\n",
       "      <td>64.888268</td>\n",
       "    </tr>\n",
       "  </tbody>\n",
       "</table>\n",
       "</div>"
      ],
      "text/plain": [
       "                             math score  reading score  writing score\n",
       "parental level of education                                          \n",
       "associate's degree            67.882883      70.927928      69.896396\n",
       "bachelor's degree             69.389831      73.000000      73.381356\n",
       "high school                   62.137755      64.704082      62.448980\n",
       "master's degree               69.745763      75.372881      75.677966\n",
       "some college                  67.128319      69.460177      68.840708\n",
       "some high school              63.497207      66.938547      64.888268"
      ]
     },
     "execution_count": 35,
     "metadata": {},
     "output_type": "execute_result"
    }
   ],
   "source": [
    "b = sp[[\"parental level of education\",\"math score\",\"reading score\",\"writing score\"]].groupby(\"parental level of education\").mean()\n",
    "b"
   ]
  },
  {
   "cell_type": "code",
   "execution_count": 36,
   "metadata": {
    "execution": {
     "iopub.execute_input": "2020-09-14T22:41:21.546278Z",
     "iopub.status.busy": "2020-09-14T22:41:21.545408Z",
     "iopub.status.idle": "2020-09-14T22:41:21.859323Z",
     "shell.execute_reply": "2020-09-14T22:41:21.860000Z"
    },
    "papermill": {
     "duration": 0.410969,
     "end_time": "2020-09-14T22:41:21.860207",
     "exception": false,
     "start_time": "2020-09-14T22:41:21.449238",
     "status": "completed"
    },
    "tags": []
   },
   "outputs": [],
   "source": [
    "# FIRST-AUTHOR: remove plotting\n",
    "# b.plot(figsize=(20,16))"
   ]
  },
  {
   "cell_type": "markdown",
   "metadata": {
    "papermill": {
     "duration": 0.09035,
     "end_time": "2020-09-14T22:41:22.038239",
     "exception": false,
     "start_time": "2020-09-14T22:41:21.947889",
     "status": "completed"
    },
    "tags": []
   },
   "source": [
    "# Insight 5 - \n",
    "Parental level of education seem to have some effect on the student's performance. For example - students who have parents with master's degree shows better performance than others."
   ]
  },
  {
   "cell_type": "code",
   "execution_count": 37,
   "metadata": {
    "execution": {
     "iopub.execute_input": "2020-09-14T22:41:22.236383Z",
     "iopub.status.busy": "2020-09-14T22:41:22.232490Z",
     "iopub.status.idle": "2020-09-14T22:41:22.241934Z",
     "shell.execute_reply": "2020-09-14T22:41:22.241152Z"
    },
    "papermill": {
     "duration": 0.114586,
     "end_time": "2020-09-14T22:41:22.242077",
     "exception": false,
     "start_time": "2020-09-14T22:41:22.127491",
     "status": "completed"
    },
    "tags": []
   },
   "outputs": [
    {
     "data": {
      "text/html": [
       "<div>\n",
       "<style scoped>\n",
       "    .dataframe tbody tr th:only-of-type {\n",
       "        vertical-align: middle;\n",
       "    }\n",
       "\n",
       "    .dataframe tbody tr th {\n",
       "        vertical-align: top;\n",
       "    }\n",
       "\n",
       "    .dataframe thead th {\n",
       "        text-align: right;\n",
       "    }\n",
       "</style>\n",
       "<table border=\"1\" class=\"dataframe\">\n",
       "  <thead>\n",
       "    <tr style=\"text-align: right;\">\n",
       "      <th></th>\n",
       "      <th>math score</th>\n",
       "      <th>reading score</th>\n",
       "      <th>writing score</th>\n",
       "    </tr>\n",
       "    <tr>\n",
       "      <th>lunch</th>\n",
       "      <th></th>\n",
       "      <th></th>\n",
       "      <th></th>\n",
       "    </tr>\n",
       "  </thead>\n",
       "  <tbody>\n",
       "    <tr>\n",
       "      <th>free/reduced</th>\n",
       "      <td>58.921127</td>\n",
       "      <td>64.653521</td>\n",
       "      <td>63.022535</td>\n",
       "    </tr>\n",
       "    <tr>\n",
       "      <th>standard</th>\n",
       "      <td>70.034109</td>\n",
       "      <td>71.654264</td>\n",
       "      <td>70.823256</td>\n",
       "    </tr>\n",
       "  </tbody>\n",
       "</table>\n",
       "</div>"
      ],
      "text/plain": [
       "              math score  reading score  writing score\n",
       "lunch                                                 \n",
       "free/reduced   58.921127      64.653521      63.022535\n",
       "standard       70.034109      71.654264      70.823256"
      ]
     },
     "execution_count": 37,
     "metadata": {},
     "output_type": "execute_result"
    }
   ],
   "source": [
    "c = sp[[\"lunch\",\"math score\",\"reading score\",\"writing score\"]].groupby(\"lunch\").mean()\n",
    "c"
   ]
  },
  {
   "cell_type": "code",
   "execution_count": 38,
   "metadata": {
    "execution": {
     "iopub.execute_input": "2020-09-14T22:41:22.438698Z",
     "iopub.status.busy": "2020-09-14T22:41:22.430569Z",
     "iopub.status.idle": "2020-09-14T22:41:22.613362Z",
     "shell.execute_reply": "2020-09-14T22:41:22.612644Z"
    },
    "papermill": {
     "duration": 0.280694,
     "end_time": "2020-09-14T22:41:22.613500",
     "exception": false,
     "start_time": "2020-09-14T22:41:22.332806",
     "status": "completed"
    },
    "tags": []
   },
   "outputs": [],
   "source": [
    "# FIRST-AUTHOR: remove plotting\n",
    "# c.plot()"
   ]
  },
  {
   "cell_type": "markdown",
   "metadata": {
    "papermill": {
     "duration": 0.092561,
     "end_time": "2020-09-14T22:41:22.798234",
     "exception": false,
     "start_time": "2020-09-14T22:41:22.705673",
     "status": "completed"
    },
    "tags": []
   },
   "source": [
    "# Insight 6 - \n",
    "Those who did standard lunch performed better than students who did free or reduced lunch"
   ]
  },
  {
   "cell_type": "markdown",
   "metadata": {
    "papermill": {
     "duration": 0.114178,
     "end_time": "2020-09-14T22:41:23.054985",
     "exception": false,
     "start_time": "2020-09-14T22:41:22.940807",
     "status": "completed"
    },
    "tags": []
   },
   "source": [
    "# Count number of records by category"
   ]
  },
  {
   "cell_type": "code",
   "execution_count": 39,
   "metadata": {
    "execution": {
     "iopub.execute_input": "2020-09-14T22:41:23.255939Z",
     "iopub.status.busy": "2020-09-14T22:41:23.254680Z",
     "iopub.status.idle": "2020-09-14T22:41:23.260120Z",
     "shell.execute_reply": "2020-09-14T22:41:23.259290Z"
    },
    "papermill": {
     "duration": 0.111863,
     "end_time": "2020-09-14T22:41:23.260319",
     "exception": false,
     "start_time": "2020-09-14T22:41:23.148456",
     "status": "completed"
    },
    "tags": []
   },
   "outputs": [
    {
     "data": {
      "text/plain": [
       "female    518\n",
       "male      482\n",
       "Name: gender, dtype: int64"
      ]
     },
     "execution_count": 39,
     "metadata": {},
     "output_type": "execute_result"
    }
   ],
   "source": [
    "sp[\"gender\"].value_counts()"
   ]
  },
  {
   "cell_type": "code",
   "execution_count": 40,
   "metadata": {
    "execution": {
     "iopub.execute_input": "2020-09-14T22:41:23.457544Z",
     "iopub.status.busy": "2020-09-14T22:41:23.456482Z",
     "iopub.status.idle": "2020-09-14T22:41:23.462579Z",
     "shell.execute_reply": "2020-09-14T22:41:23.461874Z"
    },
    "papermill": {
     "duration": 0.109221,
     "end_time": "2020-09-14T22:41:23.462724",
     "exception": false,
     "start_time": "2020-09-14T22:41:23.353503",
     "status": "completed"
    },
    "tags": []
   },
   "outputs": [
    {
     "data": {
      "text/plain": [
       "some college          226\n",
       "associate's degree    222\n",
       "high school           196\n",
       "some high school      179\n",
       "bachelor's degree     118\n",
       "master's degree        59\n",
       "Name: parental level of education, dtype: int64"
      ]
     },
     "execution_count": 40,
     "metadata": {},
     "output_type": "execute_result"
    }
   ],
   "source": [
    "sp[\"parental level of education\"].value_counts()"
   ]
  },
  {
   "cell_type": "code",
   "execution_count": 41,
   "metadata": {
    "execution": {
     "iopub.execute_input": "2020-09-14T22:41:23.660986Z",
     "iopub.status.busy": "2020-09-14T22:41:23.659903Z",
     "iopub.status.idle": "2020-09-14T22:41:23.664733Z",
     "shell.execute_reply": "2020-09-14T22:41:23.665499Z"
    },
    "papermill": {
     "duration": 0.109358,
     "end_time": "2020-09-14T22:41:23.665679",
     "exception": false,
     "start_time": "2020-09-14T22:41:23.556321",
     "status": "completed"
    },
    "tags": []
   },
   "outputs": [
    {
     "data": {
      "text/plain": [
       "none         642\n",
       "completed    358\n",
       "Name: test preparation course, dtype: int64"
      ]
     },
     "execution_count": 41,
     "metadata": {},
     "output_type": "execute_result"
    }
   ],
   "source": [
    "sp[\"test preparation course\"].value_counts()"
   ]
  },
  {
   "cell_type": "code",
   "execution_count": 42,
   "metadata": {
    "execution": {
     "iopub.execute_input": "2020-09-14T22:41:23.864530Z",
     "iopub.status.busy": "2020-09-14T22:41:23.863472Z",
     "iopub.status.idle": "2020-09-14T22:41:23.868701Z",
     "shell.execute_reply": "2020-09-14T22:41:23.867920Z"
    },
    "papermill": {
     "duration": 0.108808,
     "end_time": "2020-09-14T22:41:23.868836",
     "exception": false,
     "start_time": "2020-09-14T22:41:23.760028",
     "status": "completed"
    },
    "tags": []
   },
   "outputs": [
    {
     "data": {
      "text/plain": [
       "standard        645\n",
       "free/reduced    355\n",
       "Name: lunch, dtype: int64"
      ]
     },
     "execution_count": 42,
     "metadata": {},
     "output_type": "execute_result"
    }
   ],
   "source": [
    "sp[\"lunch\"].value_counts()"
   ]
  },
  {
   "cell_type": "code",
   "execution_count": 43,
   "metadata": {
    "execution": {
     "iopub.execute_input": "2020-09-14T22:41:24.178554Z",
     "iopub.status.busy": "2020-09-14T22:41:24.177509Z",
     "iopub.status.idle": "2020-09-14T22:41:24.183269Z",
     "shell.execute_reply": "2020-09-14T22:41:24.182579Z"
    },
    "papermill": {
     "duration": 0.220818,
     "end_time": "2020-09-14T22:41:24.183409",
     "exception": false,
     "start_time": "2020-09-14T22:41:23.962591",
     "status": "completed"
    },
    "tags": []
   },
   "outputs": [
    {
     "data": {
      "text/plain": [
       "group C    319\n",
       "group D    262\n",
       "group B    190\n",
       "group E    140\n",
       "group A     89\n",
       "Name: race/ethnicity, dtype: int64"
      ]
     },
     "execution_count": 43,
     "metadata": {},
     "output_type": "execute_result"
    }
   ],
   "source": [
    "sp[\"race/ethnicity\"].value_counts()"
   ]
  }
 ],
 "metadata": {
  "kernelspec": {
   "display_name": "Python 3 (ipykernel)",
   "language": "python",
   "name": "python3"
  },
  "language_info": {
   "codemirror_mode": {
    "name": "ipython",
    "version": 3
   },
   "file_extension": ".py",
   "mimetype": "text/x-python",
   "name": "python",
   "nbconvert_exporter": "python",
   "pygments_lexer": "ipython3",
   "version": "3.10.16"
  },
  "papermill": {
   "duration": 16.871603,
   "end_time": "2020-09-14T22:41:24.389556",
   "environment_variables": {},
   "exception": null,
   "input_path": "__notebook__.ipynb",
   "output_path": "__notebook__.ipynb",
   "parameters": {},
   "start_time": "2020-09-14T22:41:07.517953",
   "version": "2.1.0"
  }
 },
 "nbformat": 4,
 "nbformat_minor": 4
}