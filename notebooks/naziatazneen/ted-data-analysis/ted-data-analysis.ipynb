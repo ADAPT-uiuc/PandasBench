{
 "cells": [
  {
   "cell_type": "code",
   "execution_count": null,
   "metadata": {},
   "outputs": [],
   "source": [
    "import os\n",
    "\n",
    "def scale_input_data(scale_factor):\n",
    "  file_bases = ['./input/ted_main', './input/transcripts']\n",
    "  for file_base in file_bases:\n",
    "    import pandas as pd\n",
    "    import shutil\n",
    "    if scale_factor == 1.0:\n",
    "      shutil.copyfile(file_base + '.csv', file_base + '.scaled.csv')\n",
    "      continue\n",
    "    df_to_scale = pd.read_csv(file_base + '.csv')\n",
    "    new_num_rows = int(scale_factor * len(df_to_scale))\n",
    "    if scale_factor <= 1.0:\n",
    "      df_to_scale = df_to_scale.iloc[:new_num_rows]\n",
    "    else:\n",
    "      while len(df_to_scale) < new_num_rows:\n",
    "        df_to_scale = pd.concat([df_to_scale, df_to_scale[:min(new_num_rows - len(df_to_scale), len(df_to_scale))]])\n",
    "    df_to_scale.to_csv(file_base + '.scaled.csv')\n",
    "\n",
    "if 'INPUT_SCALE_FACTOR' in os.environ:\n",
    "  scale_input_data(float(os.environ['INPUT_SCALE_FACTOR']))"
   ]
  },
  {
   "cell_type": "markdown",
   "metadata": {
    "_cell_guid": "3d072974-2d7a-46bf-ad94-21679a040662",
    "_uuid": "0d616039a709ab8f776b3aa814b862e78c70aa55"
   },
   "source": [
    "# The World of TED"
   ]
  },
  {
   "cell_type": "markdown",
   "metadata": {
    "_cell_guid": "01baddfd-0152-417e-bdc5-4fe14ecadaca",
    "_uuid": "16686d47f50277338a9dcc29419487c1d45a4dda"
   },
   "source": [
    "![](https://09c449efca3bbeb52dcea716-ddjaey2ypcfdo.netdna-ssl.com/wp-content/uploads/2017/03/TED.gif)"
   ]
  },
  {
   "cell_type": "markdown",
   "metadata": {
    "_cell_guid": "c5c90cc6-58f2-4d05-9646-a26be8c75e9b",
    "_uuid": "db0a975478239dcdf69ae576dc30488c00f97808"
   },
   "source": [
    "Founded in 1984 by Richard Saulman as a non profit organisation that aimed at bringing experts from the fields of Technology, Entertainment and Design together, TED Conferences have gone on to become the Mecca of ideas from virtually all walks of life. As of 2015, TED and its sister TEDx chapters have published more than 2000 talks for free consumption by the masses and its speaker list boasts of the likes of Al Gore, Jimmy Wales, Shahrukh Khan and Bill Gates.\n",
    "\n",
    "Ted, which operates under the slogan 'Ideas worth spreading' has managed to achieve an incredible feat of bringing world renowned experts from various walks of life and study and giving them a platform to distill years of their work and research into talks of 18 minutes in length. What's even more incredible is that their invaluable insights is available on the Internet for free.\n",
    "\n",
    "Since the time I begin watching TED Talks in high school, they have never ceased to amaze me. I have learned an incredible amount, about fields I was completely alien to, in the form of poignant stories, breathtaking visuals and subtle humor. So in this notebook, I wanted to attempt at finding insights about the world of TED, its speakers and its viewers and try to answer a few questions that I had always had in the back of my mind."
   ]
  },
  {
   "cell_type": "code",
   "execution_count": 1,
   "metadata": {
    "_cell_guid": "81d127aa-551f-4fdb-98fb-8dca2d2faea1",
    "_uuid": "f5aee6a6d370cdfcfecf9d4d2f3d65445be12b0b"
   },
   "outputs": [],
   "source": [
    "# ALEX: remove plotting\n",
    "# %matplotlib inline\n",
    "# import pandas as pd\n",
    "exec(os.environ['IREWR_IMPORTS'])\n",
    "import numpy as np\n",
    "# ALEX: remove plotting\n",
    "# from scipy import stats\n",
    "# import matplotlib.pyplot as plt\n",
    "# import seaborn as sns\n",
    "# import json\n",
    "# from pandas.io.json import json_normalize\n",
    "# from wordcloud import WordCloud, STOPWORDS"
   ]
  },
  {
   "cell_type": "code",
   "execution_count": 2,
   "metadata": {
    "_cell_guid": "9b5a1aee-5f65-4330-98c7-fec99eadec2f",
    "_uuid": "4d28c92cf4f9819412d6f1280193f6f349dd9aaa"
   },
   "outputs": [],
   "source": [
    "month_order = ['Jan', 'Feb', 'Mar', 'Apr', 'May', 'Jun', 'Jul', 'Aug', 'Sep', 'Oct', 'Nov', 'Dec']\n",
    "day_order = ['Mon', 'Tue', 'Wed', 'Thu', 'Fri', 'Sat', 'Sun']"
   ]
  },
  {
   "cell_type": "markdown",
   "metadata": {
    "_cell_guid": "0fdd99e6-e0a7-497f-bdd0-346e333f3cda",
    "_uuid": "b388e751b5b37848577c772746edff862d1a8611"
   },
   "source": [
    "The data has been obtained by running a custom web scraper on the official TED.com website. The data is shared under the Creative Commons License (just like the TED Talks) and hosted on Kaggle. You can download it here: https://www.kaggle.com/rounakbanik/ted-talks"
   ]
  },
  {
   "cell_type": "markdown",
   "metadata": {
    "_cell_guid": "2e47a8ad-e37f-4e2f-b430-0e1f4c417bf0",
    "_uuid": "ca48f03760765376a2f7d4a52aafcb06058f9379"
   },
   "source": [
    "## The Main TED Dataset"
   ]
  },
  {
   "cell_type": "markdown",
   "metadata": {
    "_cell_guid": "e500ac8e-03d2-4829-b009-63330831f842",
    "_uuid": "3a1bfcac716a9cb2ed8acfe939c3708566e51232"
   },
   "source": [
    "The main dataset contains metadata about every TED Talk hosted on the TED.com website until September 21, 2017. Let me give you a brief walkthrough of the kind of data available so as to give you an idea of what are the possibilities with this dataset."
   ]
  },
  {
   "cell_type": "code",
   "execution_count": 3,
   "metadata": {
    "_cell_guid": "ceaff6d2-c09a-4b3f-8084-5bb584416c5a",
    "_uuid": "479dccef1e2f6bb6f437456322b4b9910ab580aa"
   },
   "outputs": [
    {
     "data": {
      "text/plain": [
       "Index(['comments', 'description', 'duration', 'event', 'film_date',\n",
       "       'languages', 'main_speaker', 'name', 'num_speaker', 'published_date',\n",
       "       'ratings', 'related_talks', 'speaker_occupation', 'tags', 'title',\n",
       "       'url', 'views'],\n",
       "      dtype='object')"
      ]
     },
     "execution_count": 3,
     "metadata": {},
     "output_type": "execute_result"
    }
   ],
   "source": [
    "df = pd.read_csv('./input/ted_main.scaled.csv')\n",
    "df.columns"
   ]
  },
  {
   "cell_type": "markdown",
   "metadata": {
    "_cell_guid": "238809a1-0688-4d7e-9f84-783b0b884b97",
    "_uuid": "a40e9e4fd57fae4f2857ba9518517aed0ed7983b"
   },
   "source": [
    "## Features Available\n",
    "\n",
    "* **name:** The official name of the TED Talk. Includes the title and the speaker.\n",
    "* **title:** The title of the talk\n",
    "* **description:** A blurb of what the talk is about.\n",
    "* **main_speaker:** The first named speaker of the talk.\n",
    "* **speaker_occupation:** The occupation of the main speaker.\n",
    "* **num_speaker:** The number of speakers in the talk.\n",
    "* **duration:** The duration of the talk in seconds.\n",
    "* **event:** The TED/TEDx event where the talk took place.\n",
    "* **film_date:** The Unix timestamp of the filming.\n",
    "* **published_date:** The Unix timestamp for the publication of the talk on TED.com\n",
    "* **comments:** The number of first level comments made on the talk.\n",
    "* **tags:** The themes associated with the talk.\n",
    "* **languages:** The number of languages in which the talk is available.\n",
    "* **ratings:** A stringified dictionary of the various ratings given to the talk (inspiring, fascinating, jaw dropping, etc.)\n",
    "* **related_talks:** A list of dictionaries of recommended talks to watch next.\n",
    "* **url:** The URL of the talk.\n",
    "* **views:** The number of views on the talk.\n",
    "\n",
    "I'm just going to reorder the columns in the order I've listed the features for my convenience (and OCD)."
   ]
  },
  {
   "cell_type": "code",
   "execution_count": 4,
   "metadata": {
    "_cell_guid": "5c451547-8698-46dd-8601-7fb5eb5fb0ce",
    "_uuid": "8da46788500232825223f58538d17145ae479edc"
   },
   "outputs": [],
   "source": [
    "df = df[['name', 'title', 'description', 'main_speaker', 'speaker_occupation', 'num_speaker', 'duration', 'event', 'film_date', 'published_date', 'comments', 'tags', 'languages', 'ratings', 'related_talks', 'url', 'views']]"
   ]
  },
  {
   "cell_type": "markdown",
   "metadata": {
    "_cell_guid": "6936fd11-dbad-4005-b6d0-7af0fb749357",
    "_uuid": "36b8ae425aa59c871af4efcc0cebc86dceb7a87d"
   },
   "source": [
    "Before we go any further, let us convert the Unix timestamps into a human readable format. "
   ]
  },
  {
   "cell_type": "code",
   "execution_count": 5,
   "metadata": {
    "_cell_guid": "6b9ad741-5ed3-4005-bac8-23803704e06e",
    "_uuid": "eac5ed632db5bef828e0ee57ada88216a77fb6a7"
   },
   "outputs": [],
   "source": [
    "import datetime\n",
    "df['film_date'] = df['film_date'].apply(lambda x: datetime.datetime.fromtimestamp( int(x)).strftime('%d-%m-%Y'))\n",
    "df['published_date'] = df['published_date'].apply(lambda x: datetime.datetime.fromtimestamp( int(x)).strftime('%d-%m-%Y'))"
   ]
  },
  {
   "cell_type": "code",
   "execution_count": 6,
   "metadata": {
    "_cell_guid": "1970eaa9-ba54-49fb-af1a-e90147f7b75c",
    "_uuid": "8f38db41e1feb178a8c381a5a24449e6803b5d78"
   },
   "outputs": [
    {
     "data": {
      "text/html": [
       "<div>\n",
       "<style scoped>\n",
       "    .dataframe tbody tr th:only-of-type {\n",
       "        vertical-align: middle;\n",
       "    }\n",
       "\n",
       "    .dataframe tbody tr th {\n",
       "        vertical-align: top;\n",
       "    }\n",
       "\n",
       "    .dataframe thead th {\n",
       "        text-align: right;\n",
       "    }\n",
       "</style>\n",
       "<table border=\"1\" class=\"dataframe\">\n",
       "  <thead>\n",
       "    <tr style=\"text-align: right;\">\n",
       "      <th></th>\n",
       "      <th>name</th>\n",
       "      <th>title</th>\n",
       "      <th>description</th>\n",
       "      <th>main_speaker</th>\n",
       "      <th>speaker_occupation</th>\n",
       "      <th>num_speaker</th>\n",
       "      <th>duration</th>\n",
       "      <th>event</th>\n",
       "      <th>film_date</th>\n",
       "      <th>published_date</th>\n",
       "      <th>comments</th>\n",
       "      <th>tags</th>\n",
       "      <th>languages</th>\n",
       "      <th>ratings</th>\n",
       "      <th>related_talks</th>\n",
       "      <th>url</th>\n",
       "      <th>views</th>\n",
       "    </tr>\n",
       "  </thead>\n",
       "  <tbody>\n",
       "    <tr>\n",
       "      <th>0</th>\n",
       "      <td>Ken Robinson: Do schools kill creativity?</td>\n",
       "      <td>Do schools kill creativity?</td>\n",
       "      <td>Sir Ken Robinson makes an entertaining and pro...</td>\n",
       "      <td>Ken Robinson</td>\n",
       "      <td>Author/educator</td>\n",
       "      <td>1</td>\n",
       "      <td>1164</td>\n",
       "      <td>TED2006</td>\n",
       "      <td>24-02-2006</td>\n",
       "      <td>26-06-2006</td>\n",
       "      <td>4553</td>\n",
       "      <td>['children', 'creativity', 'culture', 'dance',...</td>\n",
       "      <td>60</td>\n",
       "      <td>[{'id': 7, 'name': 'Funny', 'count': 19645}, {...</td>\n",
       "      <td>[{'id': 865, 'hero': 'https://pe.tedcdn.com/im...</td>\n",
       "      <td>https://www.ted.com/talks/ken_robinson_says_sc...</td>\n",
       "      <td>47227110</td>\n",
       "    </tr>\n",
       "    <tr>\n",
       "      <th>1</th>\n",
       "      <td>Al Gore: Averting the climate crisis</td>\n",
       "      <td>Averting the climate crisis</td>\n",
       "      <td>With the same humor and humanity he exuded in ...</td>\n",
       "      <td>Al Gore</td>\n",
       "      <td>Climate advocate</td>\n",
       "      <td>1</td>\n",
       "      <td>977</td>\n",
       "      <td>TED2006</td>\n",
       "      <td>24-02-2006</td>\n",
       "      <td>26-06-2006</td>\n",
       "      <td>265</td>\n",
       "      <td>['alternative energy', 'cars', 'climate change...</td>\n",
       "      <td>43</td>\n",
       "      <td>[{'id': 7, 'name': 'Funny', 'count': 544}, {'i...</td>\n",
       "      <td>[{'id': 243, 'hero': 'https://pe.tedcdn.com/im...</td>\n",
       "      <td>https://www.ted.com/talks/al_gore_on_averting_...</td>\n",
       "      <td>3200520</td>\n",
       "    </tr>\n",
       "    <tr>\n",
       "      <th>2</th>\n",
       "      <td>David Pogue: Simplicity sells</td>\n",
       "      <td>Simplicity sells</td>\n",
       "      <td>New York Times columnist David Pogue takes aim...</td>\n",
       "      <td>David Pogue</td>\n",
       "      <td>Technology columnist</td>\n",
       "      <td>1</td>\n",
       "      <td>1286</td>\n",
       "      <td>TED2006</td>\n",
       "      <td>23-02-2006</td>\n",
       "      <td>26-06-2006</td>\n",
       "      <td>124</td>\n",
       "      <td>['computers', 'entertainment', 'interface desi...</td>\n",
       "      <td>26</td>\n",
       "      <td>[{'id': 7, 'name': 'Funny', 'count': 964}, {'i...</td>\n",
       "      <td>[{'id': 1725, 'hero': 'https://pe.tedcdn.com/i...</td>\n",
       "      <td>https://www.ted.com/talks/david_pogue_says_sim...</td>\n",
       "      <td>1636292</td>\n",
       "    </tr>\n",
       "    <tr>\n",
       "      <th>3</th>\n",
       "      <td>Majora Carter: Greening the ghetto</td>\n",
       "      <td>Greening the ghetto</td>\n",
       "      <td>In an emotionally charged talk, MacArthur-winn...</td>\n",
       "      <td>Majora Carter</td>\n",
       "      <td>Activist for environmental justice</td>\n",
       "      <td>1</td>\n",
       "      <td>1116</td>\n",
       "      <td>TED2006</td>\n",
       "      <td>25-02-2006</td>\n",
       "      <td>26-06-2006</td>\n",
       "      <td>200</td>\n",
       "      <td>['MacArthur grant', 'activism', 'business', 'c...</td>\n",
       "      <td>35</td>\n",
       "      <td>[{'id': 3, 'name': 'Courageous', 'count': 760}...</td>\n",
       "      <td>[{'id': 1041, 'hero': 'https://pe.tedcdn.com/i...</td>\n",
       "      <td>https://www.ted.com/talks/majora_carter_s_tale...</td>\n",
       "      <td>1697550</td>\n",
       "    </tr>\n",
       "    <tr>\n",
       "      <th>4</th>\n",
       "      <td>Hans Rosling: The best stats you've ever seen</td>\n",
       "      <td>The best stats you've ever seen</td>\n",
       "      <td>You've never seen data presented like this. Wi...</td>\n",
       "      <td>Hans Rosling</td>\n",
       "      <td>Global health expert; data visionary</td>\n",
       "      <td>1</td>\n",
       "      <td>1190</td>\n",
       "      <td>TED2006</td>\n",
       "      <td>21-02-2006</td>\n",
       "      <td>27-06-2006</td>\n",
       "      <td>593</td>\n",
       "      <td>['Africa', 'Asia', 'Google', 'demo', 'economic...</td>\n",
       "      <td>48</td>\n",
       "      <td>[{'id': 9, 'name': 'Ingenious', 'count': 3202}...</td>\n",
       "      <td>[{'id': 2056, 'hero': 'https://pe.tedcdn.com/i...</td>\n",
       "      <td>https://www.ted.com/talks/hans_rosling_shows_t...</td>\n",
       "      <td>12005869</td>\n",
       "    </tr>\n",
       "  </tbody>\n",
       "</table>\n",
       "</div>"
      ],
      "text/plain": [
       "                                            name  \\\n",
       "0      Ken Robinson: Do schools kill creativity?   \n",
       "1           Al Gore: Averting the climate crisis   \n",
       "2                  David Pogue: Simplicity sells   \n",
       "3             Majora Carter: Greening the ghetto   \n",
       "4  Hans Rosling: The best stats you've ever seen   \n",
       "\n",
       "                             title  \\\n",
       "0      Do schools kill creativity?   \n",
       "1      Averting the climate crisis   \n",
       "2                 Simplicity sells   \n",
       "3              Greening the ghetto   \n",
       "4  The best stats you've ever seen   \n",
       "\n",
       "                                         description   main_speaker  \\\n",
       "0  Sir Ken Robinson makes an entertaining and pro...   Ken Robinson   \n",
       "1  With the same humor and humanity he exuded in ...        Al Gore   \n",
       "2  New York Times columnist David Pogue takes aim...    David Pogue   \n",
       "3  In an emotionally charged talk, MacArthur-winn...  Majora Carter   \n",
       "4  You've never seen data presented like this. Wi...   Hans Rosling   \n",
       "\n",
       "                     speaker_occupation  num_speaker  duration    event  \\\n",
       "0                       Author/educator            1      1164  TED2006   \n",
       "1                      Climate advocate            1       977  TED2006   \n",
       "2                  Technology columnist            1      1286  TED2006   \n",
       "3    Activist for environmental justice            1      1116  TED2006   \n",
       "4  Global health expert; data visionary            1      1190  TED2006   \n",
       "\n",
       "    film_date published_date  comments  \\\n",
       "0  24-02-2006     26-06-2006      4553   \n",
       "1  24-02-2006     26-06-2006       265   \n",
       "2  23-02-2006     26-06-2006       124   \n",
       "3  25-02-2006     26-06-2006       200   \n",
       "4  21-02-2006     27-06-2006       593   \n",
       "\n",
       "                                                tags  languages  \\\n",
       "0  ['children', 'creativity', 'culture', 'dance',...         60   \n",
       "1  ['alternative energy', 'cars', 'climate change...         43   \n",
       "2  ['computers', 'entertainment', 'interface desi...         26   \n",
       "3  ['MacArthur grant', 'activism', 'business', 'c...         35   \n",
       "4  ['Africa', 'Asia', 'Google', 'demo', 'economic...         48   \n",
       "\n",
       "                                             ratings  \\\n",
       "0  [{'id': 7, 'name': 'Funny', 'count': 19645}, {...   \n",
       "1  [{'id': 7, 'name': 'Funny', 'count': 544}, {'i...   \n",
       "2  [{'id': 7, 'name': 'Funny', 'count': 964}, {'i...   \n",
       "3  [{'id': 3, 'name': 'Courageous', 'count': 760}...   \n",
       "4  [{'id': 9, 'name': 'Ingenious', 'count': 3202}...   \n",
       "\n",
       "                                       related_talks  \\\n",
       "0  [{'id': 865, 'hero': 'https://pe.tedcdn.com/im...   \n",
       "1  [{'id': 243, 'hero': 'https://pe.tedcdn.com/im...   \n",
       "2  [{'id': 1725, 'hero': 'https://pe.tedcdn.com/i...   \n",
       "3  [{'id': 1041, 'hero': 'https://pe.tedcdn.com/i...   \n",
       "4  [{'id': 2056, 'hero': 'https://pe.tedcdn.com/i...   \n",
       "\n",
       "                                                 url     views  \n",
       "0  https://www.ted.com/talks/ken_robinson_says_sc...  47227110  \n",
       "1  https://www.ted.com/talks/al_gore_on_averting_...   3200520  \n",
       "2  https://www.ted.com/talks/david_pogue_says_sim...   1636292  \n",
       "3  https://www.ted.com/talks/majora_carter_s_tale...   1697550  \n",
       "4  https://www.ted.com/talks/hans_rosling_shows_t...  12005869  "
      ]
     },
     "execution_count": 6,
     "metadata": {},
     "output_type": "execute_result"
    }
   ],
   "source": [
    "df.head()"
   ]
  },
  {
   "cell_type": "markdown",
   "metadata": {
    "_cell_guid": "3fb2db44-7bfd-450b-9933-f1d0f9bf6bdd",
    "_uuid": "3bc7ffe2f4bc352ea1ce541143fd77ed6965feaf"
   },
   "source": [
    "We also have another dataset which contains the transcript of every talk but we will get to that later. For now, let us begin with the analysis of TED Talks!"
   ]
  },
  {
   "cell_type": "code",
   "execution_count": 7,
   "metadata": {
    "_cell_guid": "d904434b-515e-4e92-b625-64c26a21c10f",
    "_uuid": "09c99367de5f27fc99e271a896520f670770c988"
   },
   "outputs": [
    {
     "data": {
      "text/plain": [
       "2550"
      ]
     },
     "execution_count": 7,
     "metadata": {},
     "output_type": "execute_result"
    }
   ],
   "source": [
    "len(df)"
   ]
  },
  {
   "cell_type": "markdown",
   "metadata": {
    "_cell_guid": "2453e389-c69f-479c-9884-099dd125364c",
    "_uuid": "7e0523d52f9c2e2f96d3788a75a489504b32d669"
   },
   "source": [
    "We have over 2550 talks at our disposal. These represent all the talks that have ever been posted on the TED Platform until September 21, 2017 and has talks filmed in the period between 1994 and 2017. It has been over two glorious decades of TED."
   ]
  },
  {
   "cell_type": "markdown",
   "metadata": {
    "_cell_guid": "a7fd7f25-4e6b-4997-8a1f-be04f082a232",
    "_uuid": "ef774681d66f1dbc83771d148c598cb7cddbf213"
   },
   "source": [
    "## Most Viewed Talks of All Time\n",
    "\n",
    "For starters, let us perform some easy analysis. I want to know what the 15 most viewed TED talks of all time are. The number of views gives us a good idea of the popularity of the TED Talk."
   ]
  },
  {
   "cell_type": "markdown",
   "metadata": {
    "_cell_guid": "86080d5e-4d18-41e5-81ef-16e9b297f52c",
    "_uuid": "077307426c615f71da05555f39ef737600de12be"
   },
   "source": [
    "![](https://pi.tedcdn.com/r/pf.tedcdn.com/images/playlists/20_most_popular_2683333149_1200x627.jpg?c=1050%2C550&w=1050)"
   ]
  },
  {
   "cell_type": "code",
   "execution_count": 8,
   "metadata": {
    "_cell_guid": "3368a521-1ab6-416b-a62a-9651a0bfb0df",
    "_uuid": "ceff8426a08f8c6e40141758e02aa9a47e16948c"
   },
   "outputs": [
    {
     "data": {
      "text/html": [
       "<div>\n",
       "<style scoped>\n",
       "    .dataframe tbody tr th:only-of-type {\n",
       "        vertical-align: middle;\n",
       "    }\n",
       "\n",
       "    .dataframe tbody tr th {\n",
       "        vertical-align: top;\n",
       "    }\n",
       "\n",
       "    .dataframe thead th {\n",
       "        text-align: right;\n",
       "    }\n",
       "</style>\n",
       "<table border=\"1\" class=\"dataframe\">\n",
       "  <thead>\n",
       "    <tr style=\"text-align: right;\">\n",
       "      <th></th>\n",
       "      <th>title</th>\n",
       "      <th>main_speaker</th>\n",
       "      <th>views</th>\n",
       "      <th>film_date</th>\n",
       "    </tr>\n",
       "  </thead>\n",
       "  <tbody>\n",
       "    <tr>\n",
       "      <th>0</th>\n",
       "      <td>Do schools kill creativity?</td>\n",
       "      <td>Ken Robinson</td>\n",
       "      <td>47227110</td>\n",
       "      <td>24-02-2006</td>\n",
       "    </tr>\n",
       "    <tr>\n",
       "      <th>1346</th>\n",
       "      <td>Your body language may shape who you are</td>\n",
       "      <td>Amy Cuddy</td>\n",
       "      <td>43155405</td>\n",
       "      <td>25-06-2012</td>\n",
       "    </tr>\n",
       "    <tr>\n",
       "      <th>677</th>\n",
       "      <td>How great leaders inspire action</td>\n",
       "      <td>Simon Sinek</td>\n",
       "      <td>34309432</td>\n",
       "      <td>16-09-2009</td>\n",
       "    </tr>\n",
       "    <tr>\n",
       "      <th>837</th>\n",
       "      <td>The power of vulnerability</td>\n",
       "      <td>Bren\u00e9 Brown</td>\n",
       "      <td>31168150</td>\n",
       "      <td>05-06-2010</td>\n",
       "    </tr>\n",
       "    <tr>\n",
       "      <th>452</th>\n",
       "      <td>10 things you didn't know about orgasm</td>\n",
       "      <td>Mary Roach</td>\n",
       "      <td>22270883</td>\n",
       "      <td>05-02-2009</td>\n",
       "    </tr>\n",
       "    <tr>\n",
       "      <th>1776</th>\n",
       "      <td>How to speak so that people want to listen</td>\n",
       "      <td>Julian Treasure</td>\n",
       "      <td>21594632</td>\n",
       "      <td>09-06-2013</td>\n",
       "    </tr>\n",
       "    <tr>\n",
       "      <th>201</th>\n",
       "      <td>My stroke of insight</td>\n",
       "      <td>Jill Bolte Taylor</td>\n",
       "      <td>21190883</td>\n",
       "      <td>26-02-2008</td>\n",
       "    </tr>\n",
       "    <tr>\n",
       "      <th>5</th>\n",
       "      <td>Why we do what we do</td>\n",
       "      <td>Tony Robbins</td>\n",
       "      <td>20685401</td>\n",
       "      <td>01-02-2006</td>\n",
       "    </tr>\n",
       "    <tr>\n",
       "      <th>2114</th>\n",
       "      <td>This is what happens when you reply to spam email</td>\n",
       "      <td>James Veitch</td>\n",
       "      <td>20475972</td>\n",
       "      <td>07-12-2015</td>\n",
       "    </tr>\n",
       "    <tr>\n",
       "      <th>1416</th>\n",
       "      <td>Looks aren't everything. Believe me, I'm a model.</td>\n",
       "      <td>Cameron Russell</td>\n",
       "      <td>19787465</td>\n",
       "      <td>26-10-2012</td>\n",
       "    </tr>\n",
       "    <tr>\n",
       "      <th>500</th>\n",
       "      <td>The puzzle of motivation</td>\n",
       "      <td>Dan Pink</td>\n",
       "      <td>18830983</td>\n",
       "      <td>23-07-2009</td>\n",
       "    </tr>\n",
       "    <tr>\n",
       "      <th>1163</th>\n",
       "      <td>The power of introverts</td>\n",
       "      <td>Susan Cain</td>\n",
       "      <td>17629275</td>\n",
       "      <td>27-02-2012</td>\n",
       "    </tr>\n",
       "    <tr>\n",
       "      <th>1036</th>\n",
       "      <td>How to spot a liar</td>\n",
       "      <td>Pamela Meyer</td>\n",
       "      <td>16861578</td>\n",
       "      <td>12-07-2011</td>\n",
       "    </tr>\n",
       "    <tr>\n",
       "      <th>2109</th>\n",
       "      <td>What makes a good life? Lessons from the longe...</td>\n",
       "      <td>Robert Waldinger</td>\n",
       "      <td>16601927</td>\n",
       "      <td>13-11-2015</td>\n",
       "    </tr>\n",
       "    <tr>\n",
       "      <th>1129</th>\n",
       "      <td>The happy secret to better work</td>\n",
       "      <td>Shawn Achor</td>\n",
       "      <td>16209727</td>\n",
       "      <td>10-05-2011</td>\n",
       "    </tr>\n",
       "  </tbody>\n",
       "</table>\n",
       "</div>"
      ],
      "text/plain": [
       "                                                  title       main_speaker  \\\n",
       "0                           Do schools kill creativity?       Ken Robinson   \n",
       "1346           Your body language may shape who you are          Amy Cuddy   \n",
       "677                    How great leaders inspire action        Simon Sinek   \n",
       "837                          The power of vulnerability        Bren\u00e9 Brown   \n",
       "452              10 things you didn't know about orgasm         Mary Roach   \n",
       "1776         How to speak so that people want to listen    Julian Treasure   \n",
       "201                                My stroke of insight  Jill Bolte Taylor   \n",
       "5                                  Why we do what we do       Tony Robbins   \n",
       "2114  This is what happens when you reply to spam email       James Veitch   \n",
       "1416  Looks aren't everything. Believe me, I'm a model.    Cameron Russell   \n",
       "500                            The puzzle of motivation           Dan Pink   \n",
       "1163                            The power of introverts         Susan Cain   \n",
       "1036                                 How to spot a liar       Pamela Meyer   \n",
       "2109  What makes a good life? Lessons from the longe...   Robert Waldinger   \n",
       "1129                    The happy secret to better work        Shawn Achor   \n",
       "\n",
       "         views   film_date  \n",
       "0     47227110  24-02-2006  \n",
       "1346  43155405  25-06-2012  \n",
       "677   34309432  16-09-2009  \n",
       "837   31168150  05-06-2010  \n",
       "452   22270883  05-02-2009  \n",
       "1776  21594632  09-06-2013  \n",
       "201   21190883  26-02-2008  \n",
       "5     20685401  01-02-2006  \n",
       "2114  20475972  07-12-2015  \n",
       "1416  19787465  26-10-2012  \n",
       "500   18830983  23-07-2009  \n",
       "1163  17629275  27-02-2012  \n",
       "1036  16861578  12-07-2011  \n",
       "2109  16601927  13-11-2015  \n",
       "1129  16209727  10-05-2011  "
      ]
     },
     "execution_count": 8,
     "metadata": {},
     "output_type": "execute_result"
    }
   ],
   "source": [
    "pop_talks = df[['title', 'main_speaker', 'views', 'film_date']].sort_values('views', ascending=False)[:15]\n",
    "pop_talks"
   ]
  },
  {
   "cell_type": "markdown",
   "metadata": {
    "_cell_guid": "201afb36-2b90-4b71-9420-2a3983a7bd49",
    "_uuid": "daf288f2f9540d608ef90919b500caa432ef3a73"
   },
   "source": [
    "### Observations\n",
    "\n",
    "* Ken Robinson's talk on **Do Schools Kill Creativity?** is the most popular TED Talk of all time with 47.2 million views.\n",
    "* Also coincidentally, it is also one of the first talks to ever be uploaded on the TED Site (the main dataset is sorted by published date). \n",
    "* Robinson's talk is closely followed by Amy Cuddy's talk on **Your Body Language May Shape Who You Are**. \n",
    "* There are only 2 talks that have surpassed the 40 million mark and 4 talks that have crossed the 30 million mark. \n",
    "\n",
    "Let us make a bar chart to visualise these 15 talks in terms of the number of views they garnered."
   ]
  },
  {
   "cell_type": "code",
   "execution_count": 9,
   "metadata": {
    "_cell_guid": "0fb582a9-21b4-4cb7-b906-068d191f4b0f",
    "_uuid": "a19cd7d7e176a78c8eb38cf8289ad950d000240d"
   },
   "outputs": [],
   "source": [
    "pop_talks['abbr'] = pop_talks['main_speaker'].apply(lambda x: x[:3])\n",
    "# ALEX: remove plotting\n",
    "# sns.set_style(\"whitegrid\")\n",
    "# plt.figure(figsize=(10,6))\n",
    "# sns.barplot(x='abbr', y='views', data=pop_talks)"
   ]
  },
  {
   "cell_type": "markdown",
   "metadata": {
    "_cell_guid": "3156f55b-41df-4823-8360-2e8dcc3a2938",
    "_uuid": "37bf598d450f2d13e5e357ef96ee33635b0a4a01"
   },
   "source": [
    "Finally, in this section, let us investigate the summary statistics and the distibution of the views garnered on various TED Talks."
   ]
  },
  {
   "cell_type": "code",
   "execution_count": 10,
   "metadata": {
    "_cell_guid": "28810bac-718b-4e9b-85db-a98123f874b4",
    "_uuid": "74c2ca13f2a6f531a84f9f8e414cc31006d5381c"
   },
   "outputs": [],
   "source": [
    "# ALEX: remove plotting\n",
    "# sns.distplot(df['views'])\n",
    "_ = df['views']"
   ]
  },
  {
   "cell_type": "code",
   "execution_count": 11,
   "metadata": {
    "_cell_guid": "ced2ba7f-f7da-41ef-99dc-0439d41bc838",
    "_uuid": "5a08ad81a950f1b379e670e253f284b8bec6efec"
   },
   "outputs": [],
   "source": [
    "# ALEX: remove plotting\n",
    "# sns.distplot(df[df['views'] < 0.4e7]['views'])\n",
    "_ = df[df['views'] < 0.4e7]['views']"
   ]
  },
  {
   "cell_type": "code",
   "execution_count": 12,
   "metadata": {
    "_cell_guid": "9230e0a2-2d83-4bd7-be4b-d6d60dd16b00",
    "_uuid": "47439192928e183faf65db2366408021f9519f9b"
   },
   "outputs": [
    {
     "data": {
      "text/plain": [
       "count    2.550000e+03\n",
       "mean     1.698297e+06\n",
       "std      2.498479e+06\n",
       "min      5.044300e+04\n",
       "25%      7.557928e+05\n",
       "50%      1.124524e+06\n",
       "75%      1.700760e+06\n",
       "max      4.722711e+07\n",
       "Name: views, dtype: float64"
      ]
     },
     "execution_count": 12,
     "metadata": {},
     "output_type": "execute_result"
    }
   ],
   "source": [
    "df['views'].describe()"
   ]
  },
  {
   "cell_type": "markdown",
   "metadata": {
    "_cell_guid": "24d86fce-22a4-40c9-a168-b8d8977460ca",
    "_uuid": "5318b6e91614b8e5bd932e05158bdc5c76a0cff1"
   },
   "source": [
    "The average number of views on TED Talks in **1.6 million.** and the median number of views is **1.12 million**. This suggests a very high average level of popularity of TED Talks. We also notice that the majority of talks have views less than **4 million**. We will consider this as the cutoff point when costructing box plots in the later sections."
   ]
  },
  {
   "cell_type": "markdown",
   "metadata": {
    "_cell_guid": "ee1af3f1-5743-4db8-a318-4c6c75c43992",
    "_uuid": "c35b013b3ce0775bd42c3bf7e8013e67658c086a"
   },
   "source": [
    "## Comments\n",
    "\n",
    "Although the TED website gives us access to all the comments posted publicly, this dataset only gives us the number of comments. We will therefore have to restrict our analysis to this feature only. You could try performing textual analysis by scraping the website for comments."
   ]
  },
  {
   "cell_type": "code",
   "execution_count": 13,
   "metadata": {
    "_cell_guid": "3ec67cb6-f8d1-4cb3-863c-81d652337dbb",
    "_uuid": "fd0877f2bd260d74e6c31f92abc43209b8e64245"
   },
   "outputs": [
    {
     "data": {
      "text/plain": [
       "count    2550.000000\n",
       "mean      191.562353\n",
       "std       282.315223\n",
       "min         2.000000\n",
       "25%        63.000000\n",
       "50%       118.000000\n",
       "75%       221.750000\n",
       "max      6404.000000\n",
       "Name: comments, dtype: float64"
      ]
     },
     "execution_count": 13,
     "metadata": {},
     "output_type": "execute_result"
    }
   ],
   "source": [
    "df['comments'].describe()"
   ]
  },
  {
   "cell_type": "markdown",
   "metadata": {
    "_cell_guid": "31886ab6-02c7-4c95-ab21-b81e60062457",
    "_uuid": "5a06b44403a91e62a68ee80c16a88c6ed0199cc9"
   },
   "source": [
    "### Observations\n",
    "\n",
    "* On average, there are **191.5 comments** on every TED Talk. Assuming the comments are constructive criticism, we can conclude that the TED Online Community is highly involved in discussions revolving TED Talks.\n",
    "* There is a **huge standard deviation** associated with the comments. In fact, it is even larger than the mean suggesting that the measures may be sensitive to outliers. We shall plot this to check the nature of the distribution.\n",
    "* The minimum number of comments on a talk is **2** and the maximum is **6404**. The **range is 6402.**. The minimum number, though, may be as a result of the talk being posted extremely recently."
   ]
  },
  {
   "cell_type": "code",
   "execution_count": 14,
   "metadata": {
    "_cell_guid": "fdd043a6-a6b9-45cd-9c64-3718e4794566",
    "_uuid": "7f01b3e7d4556ba3b0661bfd31f535c43279c220"
   },
   "outputs": [],
   "source": [
    "# ALEX: remove plotting\n",
    "# sns.distplot(df['comments'])\n",
    "_ = df['comments']"
   ]
  },
  {
   "cell_type": "code",
   "execution_count": 15,
   "metadata": {
    "_cell_guid": "2d3bcb15-8212-4a9c-9da3-cf1aee9fe1a6",
    "_uuid": "0b54930b5dbacff0790820a6ad58f8fb83c1a34b"
   },
   "outputs": [],
   "source": [
    "# ALEX: remove plotting\n",
    "# sns.distplot(df[df['comments'] < 500]['comments'])\n",
    "_ = df[df['comments'] < 500]['comments']"
   ]
  },
  {
   "cell_type": "markdown",
   "metadata": {
    "_cell_guid": "fc913120-b891-475f-beb5-b9aff172e563",
    "_uuid": "22632daca529493283b2d03fe93130293c0c9d31"
   },
   "source": [
    "From the plot above, we can see that the bulk of the talks have **fewer than 500 comments**. This clearly suggests that the mean obtained above has been heavily influenced by outliers. This is possible because the number of samples is **only 2550 talks**.\n",
    "\n",
    "Another question that I am interested in is if the number of views is correlated with the number of comments. We should think that this is the case as more popular videos tend to have more comments. Let us find out."
   ]
  },
  {
   "cell_type": "code",
   "execution_count": 16,
   "metadata": {
    "_cell_guid": "24218858-4437-4e4a-983b-340e288e06f2",
    "_uuid": "dc1b5caaeb30b93f2cf4e62b7eb5243c585f4d68"
   },
   "outputs": [],
   "source": [
    "# ALEX: remove plotting\n",
    "# sns.jointplot(x='views', y='comments', data=df)"
   ]
  },
  {
   "cell_type": "code",
   "execution_count": 17,
   "metadata": {
    "_cell_guid": "e68de1bf-b505-49b9-bf8e-2ec81d494000",
    "_uuid": "23d222af45fb48a0831b9bfb8025f320302d5d28"
   },
   "outputs": [
    {
     "data": {
      "text/html": [
       "<div>\n",
       "<style scoped>\n",
       "    .dataframe tbody tr th:only-of-type {\n",
       "        vertical-align: middle;\n",
       "    }\n",
       "\n",
       "    .dataframe tbody tr th {\n",
       "        vertical-align: top;\n",
       "    }\n",
       "\n",
       "    .dataframe thead th {\n",
       "        text-align: right;\n",
       "    }\n",
       "</style>\n",
       "<table border=\"1\" class=\"dataframe\">\n",
       "  <thead>\n",
       "    <tr style=\"text-align: right;\">\n",
       "      <th></th>\n",
       "      <th>views</th>\n",
       "      <th>comments</th>\n",
       "    </tr>\n",
       "  </thead>\n",
       "  <tbody>\n",
       "    <tr>\n",
       "      <th>views</th>\n",
       "      <td>1.000000</td>\n",
       "      <td>0.530939</td>\n",
       "    </tr>\n",
       "    <tr>\n",
       "      <th>comments</th>\n",
       "      <td>0.530939</td>\n",
       "      <td>1.000000</td>\n",
       "    </tr>\n",
       "  </tbody>\n",
       "</table>\n",
       "</div>"
      ],
      "text/plain": [
       "             views  comments\n",
       "views     1.000000  0.530939\n",
       "comments  0.530939  1.000000"
      ]
     },
     "execution_count": 17,
     "metadata": {},
     "output_type": "execute_result"
    }
   ],
   "source": [
    "df[['views', 'comments']].corr()"
   ]
  },
  {
   "cell_type": "markdown",
   "metadata": {
    "_cell_guid": "042e8513-4caf-430a-b949-94eebf66121f",
    "_uuid": "51d09645f351c36d1cfc2d1ddcec67db656de682"
   },
   "source": [
    "As the scatterplot and the correlation matrix show, the pearson coefficient is **slightly more than 0.5**. This suggests a **medium to strong correlation** between the two quantities. This result was pretty expected as mentioned above. Let us now check the number of views and comments on the 10 most commented TED Talks of all time."
   ]
  },
  {
   "cell_type": "code",
   "execution_count": 18,
   "metadata": {
    "_cell_guid": "8f6a17de-2e15-4ce0-905b-63e9b4dabca2",
    "_uuid": "e786f3d3ce745351c3b6fd6280c8e431ce34e189"
   },
   "outputs": [
    {
     "data": {
      "text/html": [
       "<div>\n",
       "<style scoped>\n",
       "    .dataframe tbody tr th:only-of-type {\n",
       "        vertical-align: middle;\n",
       "    }\n",
       "\n",
       "    .dataframe tbody tr th {\n",
       "        vertical-align: top;\n",
       "    }\n",
       "\n",
       "    .dataframe thead th {\n",
       "        text-align: right;\n",
       "    }\n",
       "</style>\n",
       "<table border=\"1\" class=\"dataframe\">\n",
       "  <thead>\n",
       "    <tr style=\"text-align: right;\">\n",
       "      <th></th>\n",
       "      <th>title</th>\n",
       "      <th>main_speaker</th>\n",
       "      <th>views</th>\n",
       "      <th>comments</th>\n",
       "    </tr>\n",
       "  </thead>\n",
       "  <tbody>\n",
       "    <tr>\n",
       "      <th>96</th>\n",
       "      <td>Militant atheism</td>\n",
       "      <td>Richard Dawkins</td>\n",
       "      <td>4374792</td>\n",
       "      <td>6404</td>\n",
       "    </tr>\n",
       "    <tr>\n",
       "      <th>0</th>\n",
       "      <td>Do schools kill creativity?</td>\n",
       "      <td>Ken Robinson</td>\n",
       "      <td>47227110</td>\n",
       "      <td>4553</td>\n",
       "    </tr>\n",
       "    <tr>\n",
       "      <th>644</th>\n",
       "      <td>Science can answer moral questions</td>\n",
       "      <td>Sam Harris</td>\n",
       "      <td>3433437</td>\n",
       "      <td>3356</td>\n",
       "    </tr>\n",
       "    <tr>\n",
       "      <th>201</th>\n",
       "      <td>My stroke of insight</td>\n",
       "      <td>Jill Bolte Taylor</td>\n",
       "      <td>21190883</td>\n",
       "      <td>2877</td>\n",
       "    </tr>\n",
       "    <tr>\n",
       "      <th>1787</th>\n",
       "      <td>How do you explain consciousness?</td>\n",
       "      <td>David Chalmers</td>\n",
       "      <td>2162764</td>\n",
       "      <td>2673</td>\n",
       "    </tr>\n",
       "    <tr>\n",
       "      <th>954</th>\n",
       "      <td>Taking imagination seriously</td>\n",
       "      <td>Janet Echelman</td>\n",
       "      <td>1832930</td>\n",
       "      <td>2492</td>\n",
       "    </tr>\n",
       "    <tr>\n",
       "      <th>840</th>\n",
       "      <td>On reading the Koran</td>\n",
       "      <td>Lesley Hazleton</td>\n",
       "      <td>1847256</td>\n",
       "      <td>2374</td>\n",
       "    </tr>\n",
       "    <tr>\n",
       "      <th>1346</th>\n",
       "      <td>Your body language may shape who you are</td>\n",
       "      <td>Amy Cuddy</td>\n",
       "      <td>43155405</td>\n",
       "      <td>2290</td>\n",
       "    </tr>\n",
       "    <tr>\n",
       "      <th>661</th>\n",
       "      <td>The danger of science denial</td>\n",
       "      <td>Michael Specter</td>\n",
       "      <td>1838628</td>\n",
       "      <td>2272</td>\n",
       "    </tr>\n",
       "    <tr>\n",
       "      <th>677</th>\n",
       "      <td>How great leaders inspire action</td>\n",
       "      <td>Simon Sinek</td>\n",
       "      <td>34309432</td>\n",
       "      <td>1930</td>\n",
       "    </tr>\n",
       "  </tbody>\n",
       "</table>\n",
       "</div>"
      ],
      "text/plain": [
       "                                         title       main_speaker     views  \\\n",
       "96                            Militant atheism    Richard Dawkins   4374792   \n",
       "0                  Do schools kill creativity?       Ken Robinson  47227110   \n",
       "644         Science can answer moral questions         Sam Harris   3433437   \n",
       "201                       My stroke of insight  Jill Bolte Taylor  21190883   \n",
       "1787         How do you explain consciousness?     David Chalmers   2162764   \n",
       "954               Taking imagination seriously     Janet Echelman   1832930   \n",
       "840                       On reading the Koran    Lesley Hazleton   1847256   \n",
       "1346  Your body language may shape who you are          Amy Cuddy  43155405   \n",
       "661               The danger of science denial    Michael Specter   1838628   \n",
       "677           How great leaders inspire action        Simon Sinek  34309432   \n",
       "\n",
       "      comments  \n",
       "96        6404  \n",
       "0         4553  \n",
       "644       3356  \n",
       "201       2877  \n",
       "1787      2673  \n",
       "954       2492  \n",
       "840       2374  \n",
       "1346      2290  \n",
       "661       2272  \n",
       "677       1930  "
      ]
     },
     "execution_count": 18,
     "metadata": {},
     "output_type": "execute_result"
    }
   ],
   "source": [
    "df[['title', 'main_speaker','views', 'comments']].sort_values('comments', ascending=False).head(10)"
   ]
  },
  {
   "cell_type": "markdown",
   "metadata": {
    "_cell_guid": "8d4935a1-8d68-461a-81e6-b38441f45268",
    "_uuid": "f6878d82f2576eda4dc8e213bc7962c5deaf0faf"
   },
   "source": [
    "As can be seen above, Richard Dawkins' talk on **Militant Atheism'** generated the greatest amount of discussion and opinions despite having significantly lesser views than Ken Robinson's talk, which is second in the list. This raises some interesting questions.\n",
    "\n",
    "Which talks tend to attract the largest amount of discussion?\n",
    "\n",
    "To answer this question, we will define a new feature **discussion quotient** which is simply the ratio of the number of comments to the number of views. We will then check which talks have the largest discussion quotient."
   ]
  },
  {
   "cell_type": "code",
   "execution_count": 19,
   "metadata": {
    "_cell_guid": "efdd3649-cc46-4662-8ef9-0bc633c87449",
    "_uuid": "eb6a6b7ecb8c224787c78f2b2caff28a86a42435"
   },
   "outputs": [],
   "source": [
    "df['dis_quo'] = df['comments']/df['views']"
   ]
  },
  {
   "cell_type": "code",
   "execution_count": 20,
   "metadata": {
    "_cell_guid": "601648c4-38a8-4a97-b4cc-2ae0d66acd10",
    "_uuid": "4eefbda8f76f5d4edcc7bcb6661a688f9fdf5cb3"
   },
   "outputs": [
    {
     "data": {
      "text/html": [
       "<div>\n",
       "<style scoped>\n",
       "    .dataframe tbody tr th:only-of-type {\n",
       "        vertical-align: middle;\n",
       "    }\n",
       "\n",
       "    .dataframe tbody tr th {\n",
       "        vertical-align: top;\n",
       "    }\n",
       "\n",
       "    .dataframe thead th {\n",
       "        text-align: right;\n",
       "    }\n",
       "</style>\n",
       "<table border=\"1\" class=\"dataframe\">\n",
       "  <thead>\n",
       "    <tr style=\"text-align: right;\">\n",
       "      <th></th>\n",
       "      <th>title</th>\n",
       "      <th>main_speaker</th>\n",
       "      <th>views</th>\n",
       "      <th>comments</th>\n",
       "      <th>dis_quo</th>\n",
       "      <th>film_date</th>\n",
       "    </tr>\n",
       "  </thead>\n",
       "  <tbody>\n",
       "    <tr>\n",
       "      <th>744</th>\n",
       "      <td>The case for same-sex marriage</td>\n",
       "      <td>Diane J. Savino</td>\n",
       "      <td>292395</td>\n",
       "      <td>649</td>\n",
       "      <td>0.002220</td>\n",
       "      <td>01-12-2009</td>\n",
       "    </tr>\n",
       "    <tr>\n",
       "      <th>803</th>\n",
       "      <td>E-voting without fraud</td>\n",
       "      <td>David Bismark</td>\n",
       "      <td>543551</td>\n",
       "      <td>834</td>\n",
       "      <td>0.001534</td>\n",
       "      <td>13-07-2010</td>\n",
       "    </tr>\n",
       "    <tr>\n",
       "      <th>96</th>\n",
       "      <td>Militant atheism</td>\n",
       "      <td>Richard Dawkins</td>\n",
       "      <td>4374792</td>\n",
       "      <td>6404</td>\n",
       "      <td>0.001464</td>\n",
       "      <td>01-02-2002</td>\n",
       "    </tr>\n",
       "    <tr>\n",
       "      <th>694</th>\n",
       "      <td>Inside a school for suicide bombers</td>\n",
       "      <td>Sharmeen Obaid-Chinoy</td>\n",
       "      <td>1057238</td>\n",
       "      <td>1502</td>\n",
       "      <td>0.001421</td>\n",
       "      <td>09-02-2010</td>\n",
       "    </tr>\n",
       "    <tr>\n",
       "      <th>954</th>\n",
       "      <td>Taking imagination seriously</td>\n",
       "      <td>Janet Echelman</td>\n",
       "      <td>1832930</td>\n",
       "      <td>2492</td>\n",
       "      <td>0.001360</td>\n",
       "      <td>02-03-2011</td>\n",
       "    </tr>\n",
       "    <tr>\n",
       "      <th>840</th>\n",
       "      <td>On reading the Koran</td>\n",
       "      <td>Lesley Hazleton</td>\n",
       "      <td>1847256</td>\n",
       "      <td>2374</td>\n",
       "      <td>0.001285</td>\n",
       "      <td>09-10-2010</td>\n",
       "    </tr>\n",
       "    <tr>\n",
       "      <th>876</th>\n",
       "      <td>Curating humanity's heritage</td>\n",
       "      <td>Elizabeth Lindsey</td>\n",
       "      <td>439180</td>\n",
       "      <td>555</td>\n",
       "      <td>0.001264</td>\n",
       "      <td>07-12-2010</td>\n",
       "    </tr>\n",
       "    <tr>\n",
       "      <th>1787</th>\n",
       "      <td>How do you explain consciousness?</td>\n",
       "      <td>David Chalmers</td>\n",
       "      <td>2162764</td>\n",
       "      <td>2673</td>\n",
       "      <td>0.001236</td>\n",
       "      <td>17-03-2014</td>\n",
       "    </tr>\n",
       "    <tr>\n",
       "      <th>661</th>\n",
       "      <td>The danger of science denial</td>\n",
       "      <td>Michael Specter</td>\n",
       "      <td>1838628</td>\n",
       "      <td>2272</td>\n",
       "      <td>0.001236</td>\n",
       "      <td>10-02-2010</td>\n",
       "    </tr>\n",
       "    <tr>\n",
       "      <th>561</th>\n",
       "      <td>Dance to change the world</td>\n",
       "      <td>Mallika Sarabhai</td>\n",
       "      <td>481834</td>\n",
       "      <td>595</td>\n",
       "      <td>0.001235</td>\n",
       "      <td>03-11-2009</td>\n",
       "    </tr>\n",
       "  </tbody>\n",
       "</table>\n",
       "</div>"
      ],
      "text/plain": [
       "                                    title           main_speaker    views  \\\n",
       "744        The case for same-sex marriage        Diane J. Savino   292395   \n",
       "803                E-voting without fraud          David Bismark   543551   \n",
       "96                       Militant atheism        Richard Dawkins  4374792   \n",
       "694   Inside a school for suicide bombers  Sharmeen Obaid-Chinoy  1057238   \n",
       "954          Taking imagination seriously         Janet Echelman  1832930   \n",
       "840                  On reading the Koran        Lesley Hazleton  1847256   \n",
       "876          Curating humanity's heritage      Elizabeth Lindsey   439180   \n",
       "1787    How do you explain consciousness?         David Chalmers  2162764   \n",
       "661          The danger of science denial        Michael Specter  1838628   \n",
       "561             Dance to change the world       Mallika Sarabhai   481834   \n",
       "\n",
       "      comments   dis_quo   film_date  \n",
       "744        649  0.002220  01-12-2009  \n",
       "803        834  0.001534  13-07-2010  \n",
       "96        6404  0.001464  01-02-2002  \n",
       "694       1502  0.001421  09-02-2010  \n",
       "954       2492  0.001360  02-03-2011  \n",
       "840       2374  0.001285  09-10-2010  \n",
       "876        555  0.001264  07-12-2010  \n",
       "1787      2673  0.001236  17-03-2014  \n",
       "661       2272  0.001236  10-02-2010  \n",
       "561        595  0.001235  03-11-2009  "
      ]
     },
     "execution_count": 20,
     "metadata": {},
     "output_type": "execute_result"
    }
   ],
   "source": [
    "df[['title', 'main_speaker','views', 'comments', 'dis_quo', 'film_date']].sort_values('dis_quo', ascending=False).head(10)"
   ]
  },
  {
   "cell_type": "markdown",
   "metadata": {
    "_cell_guid": "e200b665-8d1a-4797-b7f1-90383dc3eb89",
    "_uuid": "d3c8257dd4a6f7f2b880ae068b2ca29d58381438"
   },
   "source": [
    "This analysis has actually raised extremely interesting insights. Half of the talks in the top 10 are on the lines of **Faith and Religion**. I suspect science and religion is still a very hotly debated topic even in the 21st century. We shall come back to this hypothesis in a later section.\n",
    "\n",
    "The most discusses talk, though, is **The Case for Same Sex Marriage** (which has religious undertones). This is not that surprising considering the amount of debate the topic caused back in 2009 (the time the talk was filmed)."
   ]
  },
  {
   "cell_type": "markdown",
   "metadata": {
    "_cell_guid": "c441e205-5404-4b9b-b415-745c2c7fc9a0",
    "_uuid": "e5345df8eec83ec262a1e5e39782d090d84ee748"
   },
   "source": [
    "## Analysing TED Talks by the month and the year\n",
    "\n",
    "TED (especially TEDx) Talks tend to occur all throughout the year. Is there a hot month as far as TED is concerned? In other words, how are the talks distributed throughout the months since its inception? Let us find out."
   ]
  },
  {
   "cell_type": "markdown",
   "metadata": {
    "_cell_guid": "955ffe42-9b89-4abd-ac39-90db966670cc",
    "_uuid": "15ec31c22ba9affe9a98405931d2524e15bb4afa"
   },
   "source": [
    "![](https://media.giphy.com/media/d1GpZTVp2eV7gQk8/giphy.gif)"
   ]
  },
  {
   "cell_type": "code",
   "execution_count": 21,
   "metadata": {
    "_cell_guid": "f3d956ec-2550-448e-94aa-a47053e2d6ba",
    "_uuid": "8431b1b2140be73b08ce5bb1992496b60e606522"
   },
   "outputs": [],
   "source": [
    "df['month'] = df['film_date'].apply(lambda x: month_order[int(x.split('-')[1]) - 1])\n",
    "\n",
    "month_df = pd.DataFrame(df['month'].value_counts()).reset_index()\n",
    "month_df.columns = ['month', 'talks']"
   ]
  },
  {
   "cell_type": "code",
   "execution_count": 22,
   "metadata": {
    "_cell_guid": "36b09345-86ef-49ff-8397-69d55f2f13de",
    "_uuid": "a3e69e6eb7071c11f47d4b5d2a9a8d18f4f1fbda"
   },
   "outputs": [],
   "source": [
    "# ALEX: remove plotting\n",
    "# sns.barplot(x='month', y='talks', data=month_df, order=month_order)"
   ]
  },
  {
   "cell_type": "markdown",
   "metadata": {
    "_cell_guid": "5ca7f88d-43a5-420b-9103-0b10918e40cd",
    "_uuid": "4fd6d105eedc9305727fe1fe5aa2074096dfc434"
   },
   "source": [
    "**February** is clearly the most popular month for TED Conferences whereas **August** and **January** are the least popular. February's popularity is largely due to the fact that the official TED Conferences are held in February. Let us check the distribution for TEDx talks only."
   ]
  },
  {
   "cell_type": "code",
   "execution_count": 23,
   "metadata": {
    "_cell_guid": "e96b53d5-07f1-43ab-adcb-b3e93d0a2682",
    "_uuid": "093a90c878ffadb8fbab0ad0dad49f5b9ca1bb43"
   },
   "outputs": [],
   "source": [
    "df_x = df[df['event'].str.contains('TEDx')]\n",
    "x_month_df = pd.DataFrame(df_x['month'].value_counts().reset_index())\n",
    "x_month_df.columns = ['month', 'talks']"
   ]
  },
  {
   "cell_type": "code",
   "execution_count": 24,
   "metadata": {
    "_cell_guid": "e56533d5-4512-4980-a77a-af7b8041e538",
    "_uuid": "6e4bf099144dcb2502069668890b79091fafcd62"
   },
   "outputs": [],
   "source": [
    "# ALEX: remove plotting\n",
    "# sns.barplot(x='month', y='talks', data=x_month_df, order=month_order)"
   ]
  },
  {
   "cell_type": "markdown",
   "metadata": {
    "_cell_guid": "eeea79c8-376d-4377-93bb-d87ba1b6a51b",
    "_uuid": "e4e1b66ce885554abc172a65451f58b682b749c6"
   },
   "source": [
    "As far as TEDx talks are concerned, **November** is the most popular month. However, we cannot take this result at face value as very few of the TEDx talks are actually uploaded to the TED website and therefore, it is entirely possible that the sample in our dataset is not at all representative of all TEDx talks. A slightly more accurate statement would be that **the most popular TEDx talks take place the most in October and November.**\n",
    "\n",
    "The next question I'm interested in is the most popular days for conducting TED and TEDx conferences. The tools applied are very sensible to the procedure applied for months."
   ]
  },
  {
   "cell_type": "code",
   "execution_count": 25,
   "metadata": {
    "_cell_guid": "d049ab98-6755-49ed-8672-03f4e35835ca",
    "_uuid": "7cd09259789ecd7bca1912643a814b6d4112080f"
   },
   "outputs": [],
   "source": [
    "def getday(x):\n",
    "    day, month, year = (int(i) for i in x.split('-'))    \n",
    "    answer = datetime.date(year, month, day).weekday()\n",
    "    return day_order[answer]"
   ]
  },
  {
   "cell_type": "code",
   "execution_count": 26,
   "metadata": {
    "_cell_guid": "c9137227-d614-4bdb-94bf-81ad3465a8b4",
    "_uuid": "22c2094a52a570d4573ec776086b52025d4cb2be"
   },
   "outputs": [],
   "source": [
    "df['day'] = df['film_date'].apply(getday)"
   ]
  },
  {
   "cell_type": "code",
   "execution_count": 27,
   "metadata": {
    "_cell_guid": "00eab94b-5f85-4ba8-a289-eb602a0100dc",
    "_uuid": "4267658377bdd206429db3cda93dfacb7df94a19"
   },
   "outputs": [],
   "source": [
    "day_df = pd.DataFrame(df['day'].value_counts()).reset_index()\n",
    "day_df.columns = ['day', 'talks']"
   ]
  },
  {
   "cell_type": "code",
   "execution_count": 28,
   "metadata": {
    "_cell_guid": "40e4f8c6-a4e9-4f9f-a588-3d3e55b4d8ed",
    "_uuid": "2e6279e522077cfd7c933a3a5469973845f44e9e"
   },
   "outputs": [],
   "source": [
    "# ALEX: remove plotting\n",
    "# sns.barplot(x='day', y='talks', data=day_df, order=day_order)"
   ]
  },
  {
   "cell_type": "markdown",
   "metadata": {
    "_cell_guid": "9dd3211a-5aba-42b3-a300-806d3a012450",
    "_uuid": "f441bfad29bec4fb4e71f7bed0202cb8fa8b349f"
   },
   "source": [
    "The distribution of days is almost a bell curve with **Wednesday and Thursday** being the most popular days and **Sunday** being the least popular. This is pretty interesting because I was of the opinion that most TED Conferences would happen sometime in the weekend."
   ]
  },
  {
   "cell_type": "markdown",
   "metadata": {
    "_cell_guid": "f24a6665-a268-4653-b76f-044a9df006a2",
    "_uuid": "306b462c382b347b3a383acd1aa748cb9d088e2b"
   },
   "source": [
    "Let us now visualize the number of TED talks through the years and check if our hunch that they have grown significantly is indeed true."
   ]
  },
  {
   "cell_type": "code",
   "execution_count": 29,
   "metadata": {
    "_cell_guid": "f4de6b92-0603-46d2-b8b6-23ae7dac8bd0",
    "_uuid": "792fb6dd7d8dac36ff998850cd02babb9fa34d5d"
   },
   "outputs": [],
   "source": [
    "df['year'] = df['film_date'].apply(lambda x: x.split('-')[2])\n",
    "year_df = pd.DataFrame(df['year'].value_counts().reset_index())\n",
    "year_df.columns = ['year', 'talks']"
   ]
  },
  {
   "cell_type": "code",
   "execution_count": 30,
   "metadata": {
    "_cell_guid": "1049fde9-c721-4191-b226-474b45bd9038",
    "_uuid": "b2bdb6690fb4fe255bea0b223eb56c682ab12848"
   },
   "outputs": [],
   "source": [
    "# ALEX: remove plotting\n",
    "# plt.figure(figsize=(18,5))\n",
    "# sns.pointplot(x='year', y='talks', data=year_df)"
   ]
  },
  {
   "cell_type": "markdown",
   "metadata": {
    "_cell_guid": "ec0bafa6-6aa7-426f-ac23-b3067fd5f31c",
    "_uuid": "a010751153a7102bc157c2a94a80eb568dc4aa2a"
   },
   "source": [
    "### Obervations\n",
    "\n",
    "* As expected, the number of TED Talks have gradually increased over the years since its inception in 1984. \n",
    "* There was a **sharp increase** in the number if talks in **2009**. It might be interesting to know the reasons behind 2009 being the tipping point where the number of talks increased more than twofold.\n",
    "* The number of talks have been pretty much constant since 2009. \n",
    "\n",
    "Finally, to put it all together, let us construct a heat map that shows us the number of talks by month and year. This will give us a good summary of the distribution of talks."
   ]
  },
  {
   "cell_type": "code",
   "execution_count": 31,
   "metadata": {
    "_cell_guid": "421a8221-9db2-4eb6-8f63-a80d9e816392",
    "_uuid": "6de951d54e74b4ccce292abdb25e09f19039618b"
   },
   "outputs": [],
   "source": [
    "months = {'Jan': 1, 'Feb': 2, 'Mar': 3, 'Apr': 4, 'May': 5, 'Jun': 6, 'Jul': 7, 'Aug': 8, 'Sep': 9, 'Oct': 10, 'Nov': 11, 'Dec': 12}"
   ]
  },
  {
   "cell_type": "code",
   "execution_count": 32,
   "metadata": {
    "_cell_guid": "173e3b48-b179-4999-8442-ec00aee46396",
    "_uuid": "e4cac3ccc62f9fe3d61a3b95b55aa3d14aa668da"
   },
   "outputs": [
    {
     "name": "stderr",
     "output_type": "stream",
     "text": [
      "/tmp/ipykernel_58517/2564069286.py:8: FutureWarning: In a future version of pandas all arguments of DataFrame.pivot will be keyword-only.\n",
      "  hmap_df = hmap_df.pivot('month_num', 'year', 'title')\n"
     ]
    }
   ],
   "source": [
    "hmap_df = df.copy()\n",
    "hmap_df['film_date'] = hmap_df['film_date'].apply(lambda x: month_order[int(x.split('-')[1]) - 1] + \" \" + str(x.split('-')[2]))\n",
    "hmap_df = pd.pivot_table(hmap_df[['film_date', 'title']], index='film_date', aggfunc='count').reset_index()\n",
    "hmap_df['month_num'] = hmap_df['film_date'].apply(lambda x: months[x.split()[0]])\n",
    "hmap_df['year'] = hmap_df['film_date'].apply(lambda x: x.split()[1])\n",
    "hmap_df = hmap_df.sort_values(['year', 'month_num'])\n",
    "hmap_df = hmap_df[['month_num', 'year', 'title']]\n",
    "hmap_df = hmap_df.pivot('month_num', 'year', 'title')\n",
    "hmap_df = hmap_df.fillna(0)"
   ]
  },
  {
   "cell_type": "code",
   "execution_count": 33,
   "metadata": {
    "_cell_guid": "4521993e-cc94-4a44-b998-c3fae9b46f25",
    "_uuid": "3ce216f89620feeebda2aa5283d28916553c974b"
   },
   "outputs": [],
   "source": [
    "# ALEX: remove plotting\n",
    "# f, ax = plt.subplots(figsize=(12, 8))\n",
    "# sns.heatmap(hmap_df, annot=True, linewidths=.5, ax=ax, fmt='n', yticklabels=month_order)\n"
   ]
  },
  {
   "cell_type": "markdown",
   "metadata": {
    "_cell_guid": "01b96986-6a27-4d75-9678-851be8314336",
    "_uuid": "9106fb93c7aa40e84bcb9eda16afa34ee6d3f783"
   },
   "source": [
    "## TED Speakers\n",
    "\n",
    "In this section, we will try and gain insight about all the amazing speakers who have managed to inspire millions of people through their talks on the TED Platform. The first question we shall ask in this section is who are the most popular TED Speakers. That is, which speakers have given the most number of TED Talks."
   ]
  },
  {
   "cell_type": "markdown",
   "metadata": {
    "_cell_guid": "aee436dd-548f-4d31-8897-2462c32f0fb7",
    "_uuid": "a6ae12146a76e6f42462a0e36fccd19fcb56a0d7"
   },
   "source": [
    "![](https://tedconfblog.files.wordpress.com/2011/05/tedsalonmay2011-speakers.jpg)"
   ]
  },
  {
   "cell_type": "code",
   "execution_count": 34,
   "metadata": {
    "_cell_guid": "d9516047-c287-4ce6-acbf-ebac9034f802",
    "_uuid": "38ebd9430f3002619d1f5f13f7643b88aad0b835"
   },
   "outputs": [
    {
     "data": {
      "text/html": [
       "<div>\n",
       "<style scoped>\n",
       "    .dataframe tbody tr th:only-of-type {\n",
       "        vertical-align: middle;\n",
       "    }\n",
       "\n",
       "    .dataframe tbody tr th {\n",
       "        vertical-align: top;\n",
       "    }\n",
       "\n",
       "    .dataframe thead th {\n",
       "        text-align: right;\n",
       "    }\n",
       "</style>\n",
       "<table border=\"1\" class=\"dataframe\">\n",
       "  <thead>\n",
       "    <tr style=\"text-align: right;\">\n",
       "      <th></th>\n",
       "      <th>main_speaker</th>\n",
       "      <th>appearances</th>\n",
       "    </tr>\n",
       "  </thead>\n",
       "  <tbody>\n",
       "    <tr>\n",
       "      <th>770</th>\n",
       "      <td>Hans Rosling</td>\n",
       "      <td>9</td>\n",
       "    </tr>\n",
       "    <tr>\n",
       "      <th>1066</th>\n",
       "      <td>Juan Enriquez</td>\n",
       "      <td>7</td>\n",
       "    </tr>\n",
       "    <tr>\n",
       "      <th>1693</th>\n",
       "      <td>Rives</td>\n",
       "      <td>6</td>\n",
       "    </tr>\n",
       "    <tr>\n",
       "      <th>1278</th>\n",
       "      <td>Marco Tempest</td>\n",
       "      <td>6</td>\n",
       "    </tr>\n",
       "    <tr>\n",
       "      <th>397</th>\n",
       "      <td>Clay Shirky</td>\n",
       "      <td>5</td>\n",
       "    </tr>\n",
       "    <tr>\n",
       "      <th>1487</th>\n",
       "      <td>Nicholas Negroponte</td>\n",
       "      <td>5</td>\n",
       "    </tr>\n",
       "    <tr>\n",
       "      <th>1075</th>\n",
       "      <td>Julian Treasure</td>\n",
       "      <td>5</td>\n",
       "    </tr>\n",
       "    <tr>\n",
       "      <th>424</th>\n",
       "      <td>Dan Ariely</td>\n",
       "      <td>5</td>\n",
       "    </tr>\n",
       "    <tr>\n",
       "      <th>850</th>\n",
       "      <td>Jacqueline Novogratz</td>\n",
       "      <td>5</td>\n",
       "    </tr>\n",
       "    <tr>\n",
       "      <th>248</th>\n",
       "      <td>Bill Gates</td>\n",
       "      <td>5</td>\n",
       "    </tr>\n",
       "  </tbody>\n",
       "</table>\n",
       "</div>"
      ],
      "text/plain": [
       "              main_speaker  appearances\n",
       "770           Hans Rosling            9\n",
       "1066         Juan Enriquez            7\n",
       "1693                 Rives            6\n",
       "1278         Marco Tempest            6\n",
       "397            Clay Shirky            5\n",
       "1487   Nicholas Negroponte            5\n",
       "1075       Julian Treasure            5\n",
       "424             Dan Ariely            5\n",
       "850   Jacqueline Novogratz            5\n",
       "248             Bill Gates            5"
      ]
     },
     "execution_count": 34,
     "metadata": {},
     "output_type": "execute_result"
    }
   ],
   "source": [
    "speaker_df = df.groupby('main_speaker').count().reset_index()[['main_speaker', 'comments']]\n",
    "speaker_df.columns = ['main_speaker', 'appearances']\n",
    "speaker_df = speaker_df.sort_values('appearances', ascending=False)\n",
    "speaker_df.head(10)"
   ]
  },
  {
   "cell_type": "markdown",
   "metadata": {
    "_cell_guid": "05403371-c4a5-44a4-ac9a-da35b88c7151",
    "_uuid": "1518cf164d6b347f55597c60e4e328a9adf1db7c"
   },
   "source": [
    "**Hans Rosling**, the Swiss Health Professor is clearly the most popular TED Speaker, with more than **9 appearances** on the TED Forum. **Juan Enriquez** comes a close second with **7 appearances**. Rives and Marco Tempest have graced the TED platform **6 times**.\n",
    "\n",
    "Which occupation should you choose if you want to become a TED Speaker? Let us have a look what kind of people TED is most interested in inviting to its events."
   ]
  },
  {
   "cell_type": "code",
   "execution_count": 35,
   "metadata": {
    "_cell_guid": "4f560d0a-77a7-4866-ad32-b14ef758e9f6",
    "_uuid": "58f86d00bd8f861c52de1423e7c27ab1a65633f7"
   },
   "outputs": [],
   "source": [
    "occupation_df = df.groupby('speaker_occupation').count().reset_index()[['speaker_occupation', 'comments']]\n",
    "occupation_df.columns = ['occupation', 'appearances']\n",
    "occupation_df = occupation_df.sort_values('appearances', ascending=False)"
   ]
  },
  {
   "cell_type": "code",
   "execution_count": 36,
   "metadata": {
    "_cell_guid": "0093d872-62a7-4b14-863c-43d69ca4f1be",
    "_uuid": "7ff3d0ccc2bd7bd76c56aee5d91af866bcb001e6"
   },
   "outputs": [],
   "source": [
    "# ALEX: remove plotting\n",
    "# plt.figure(figsize=(15,5))\n",
    "# sns.barplot(x='occupation', y='appearances', data=occupation_df.head(10))\n",
    "# plt.show()\n",
    "_ = occupation_df.head(10)"
   ]
  },
  {
   "cell_type": "markdown",
   "metadata": {
    "_cell_guid": "1a8c9931-2f10-49cf-b837-cdeae4a3709b",
    "_uuid": "b29ef00107ba5df2916433cc544f83841056fcd8"
   },
   "source": [
    "### Observations\n",
    "\n",
    "* **Writers** are the most popular with more than 45 speakers identifying themselves as the aforementioned.\n",
    "* **Artists** and **Designers** come a distant second with around 35 speakers in each category.\n",
    "* This result must be taken with a pinch of salt as a considerable number of speakers identify themselves with multiple professions (for example, writer/entrepreneur). Performing an analysis taking this into consideraion is left as an exercise to the reader.\n",
    "\n",
    "Do some professions tend to attract a larger number of viewers? Do answer this question let us visualise the relationship between the top 10 most popular professions and the views thet garnered in the form of a box plot."
   ]
  },
  {
   "cell_type": "code",
   "execution_count": 37,
   "metadata": {
    "_cell_guid": "17eb4b0b-495d-4840-a0cc-e8063867b8a5",
    "_uuid": "1dbe940a2b5f03e43e2b2cc405968f0c29147b42"
   },
   "outputs": [],
   "source": [
    "# ALEX: remove plotting\n",
    "# fig, ax = plt.subplots(nrows=1, ncols=1,figsize=(15, 8))\n",
    "# sns.boxplot(x='speaker_occupation', y='views', data=df[df['speaker_occupation'].isin(occupation_df.head(10)['occupation'])], palette=\"muted\", ax =ax)\n",
    "# ax.set_ylim([0, 0.4e7])\n",
    "# plt.show()\n",
    "_ = df[df['speaker_occupation'].isin(occupation_df.head(10)['occupation'])]"
   ]
  },
  {
   "cell_type": "markdown",
   "metadata": {
    "_cell_guid": "71ce8f4c-15c1-47b9-bb68-1841ea615e07",
    "_uuid": "6cfa40d1392a5c472c0132cdcd3d14eb4776a799"
   },
   "source": [
    "On average, out of the top 10 most popular professions, **Psychologists** tend to garner the most views. **Writers** have the greatest range of views between the first and the third quartile.. \n",
    "\n",
    "Finally, let us check the number of talks which have had more than one speaker."
   ]
  },
  {
   "cell_type": "code",
   "execution_count": 38,
   "metadata": {
    "_cell_guid": "871271cf-df5a-406c-82b9-da52e06dc2b3",
    "_uuid": "3d2b744e06efa68d2790a5014eb728bf6ca13143"
   },
   "outputs": [
    {
     "data": {
      "text/plain": [
       "1    2492\n",
       "2      49\n",
       "3       5\n",
       "4       3\n",
       "5       1\n",
       "Name: num_speaker, dtype: int64"
      ]
     },
     "execution_count": 38,
     "metadata": {},
     "output_type": "execute_result"
    }
   ],
   "source": [
    "df['num_speaker'].value_counts()"
   ]
  },
  {
   "cell_type": "markdown",
   "metadata": {
    "_cell_guid": "4f23ee2d-fe67-49d9-ab43-9cd465ba06f7",
    "_uuid": "9235d33802fcd9ef7ead2bcbb37ad96392cc913a"
   },
   "source": [
    "Almost every talk has just one speaker. There are close to 50 talks where two people shared the stage. The maximum number of speakers to share a single stage was 5. I suspect this was a dance performance. Let's have a look."
   ]
  },
  {
   "cell_type": "code",
   "execution_count": 39,
   "metadata": {
    "_cell_guid": "0bbb89ef-4945-4d0a-99d0-e7027ed0094f",
    "_uuid": "0a4ed669d4391301ec57e96c3924be978003be5d"
   },
   "outputs": [
    {
     "data": {
      "text/html": [
       "<div>\n",
       "<style scoped>\n",
       "    .dataframe tbody tr th:only-of-type {\n",
       "        vertical-align: middle;\n",
       "    }\n",
       "\n",
       "    .dataframe tbody tr th {\n",
       "        vertical-align: top;\n",
       "    }\n",
       "\n",
       "    .dataframe thead th {\n",
       "        text-align: right;\n",
       "    }\n",
       "</style>\n",
       "<table border=\"1\" class=\"dataframe\">\n",
       "  <thead>\n",
       "    <tr style=\"text-align: right;\">\n",
       "      <th></th>\n",
       "      <th>title</th>\n",
       "      <th>description</th>\n",
       "      <th>main_speaker</th>\n",
       "      <th>event</th>\n",
       "    </tr>\n",
       "  </thead>\n",
       "  <tbody>\n",
       "    <tr>\n",
       "      <th>2507</th>\n",
       "      <td>A dance to honor Mother Earth</td>\n",
       "      <td>Movement artists Jon Boogz and Lil Buck debut ...</td>\n",
       "      <td>Jon Boogz and Lil Buck</td>\n",
       "      <td>TED2017</td>\n",
       "    </tr>\n",
       "  </tbody>\n",
       "</table>\n",
       "</div>"
      ],
      "text/plain": [
       "                              title  \\\n",
       "2507  A dance to honor Mother Earth   \n",
       "\n",
       "                                            description  \\\n",
       "2507  Movement artists Jon Boogz and Lil Buck debut ...   \n",
       "\n",
       "                main_speaker    event  \n",
       "2507  Jon Boogz and Lil Buck  TED2017  "
      ]
     },
     "execution_count": 39,
     "metadata": {},
     "output_type": "execute_result"
    }
   ],
   "source": [
    "df[df['num_speaker'] == 5][['title', 'description', 'main_speaker', 'event']]"
   ]
  },
  {
   "cell_type": "markdown",
   "metadata": {
    "_cell_guid": "368cd93e-a5a7-406e-9be8-46bf1c95868b",
    "_uuid": "7a941e90f5e5c18db5ea9b5f7aa09df5d42926bc"
   },
   "source": [
    "My hunch was correct. It is a talk titled **A dance to honor Mother Earth** by Jon Boogz and Lil Buck at the TED 2017 Conference."
   ]
  },
  {
   "cell_type": "markdown",
   "metadata": {
    "_cell_guid": "091c7738-f6eb-4ba3-b06f-492f50638147",
    "_uuid": "74ef8e1ca6efd11e4268e45576c7ba9b96c4912e"
   },
   "source": [
    "## TED Events\n",
    "\n",
    "Which TED Events tend to hold the most number of TED.com upload worthy events? We will try to answer that question in this section."
   ]
  },
  {
   "cell_type": "code",
   "execution_count": 40,
   "metadata": {
    "_cell_guid": "f0cf39d1-5483-4a06-897c-931bb8bcfa75",
    "_uuid": "8ee07e5d1472f5010fa662ed01fd890de1f921e4"
   },
   "outputs": [
    {
     "data": {
      "text/html": [
       "<div>\n",
       "<style scoped>\n",
       "    .dataframe tbody tr th:only-of-type {\n",
       "        vertical-align: middle;\n",
       "    }\n",
       "\n",
       "    .dataframe tbody tr th {\n",
       "        vertical-align: top;\n",
       "    }\n",
       "\n",
       "    .dataframe thead th {\n",
       "        text-align: right;\n",
       "    }\n",
       "</style>\n",
       "<table border=\"1\" class=\"dataframe\">\n",
       "  <thead>\n",
       "    <tr style=\"text-align: right;\">\n",
       "      <th></th>\n",
       "      <th>event</th>\n",
       "      <th>talks</th>\n",
       "    </tr>\n",
       "  </thead>\n",
       "  <tbody>\n",
       "    <tr>\n",
       "      <th>64</th>\n",
       "      <td>TED2014</td>\n",
       "      <td>84</td>\n",
       "    </tr>\n",
       "    <tr>\n",
       "      <th>59</th>\n",
       "      <td>TED2009</td>\n",
       "      <td>83</td>\n",
       "    </tr>\n",
       "    <tr>\n",
       "      <th>63</th>\n",
       "      <td>TED2013</td>\n",
       "      <td>77</td>\n",
       "    </tr>\n",
       "    <tr>\n",
       "      <th>66</th>\n",
       "      <td>TED2016</td>\n",
       "      <td>77</td>\n",
       "    </tr>\n",
       "    <tr>\n",
       "      <th>65</th>\n",
       "      <td>TED2015</td>\n",
       "      <td>75</td>\n",
       "    </tr>\n",
       "    <tr>\n",
       "      <th>99</th>\n",
       "      <td>TEDGlobal 2012</td>\n",
       "      <td>70</td>\n",
       "    </tr>\n",
       "    <tr>\n",
       "      <th>61</th>\n",
       "      <td>TED2011</td>\n",
       "      <td>70</td>\n",
       "    </tr>\n",
       "    <tr>\n",
       "      <th>60</th>\n",
       "      <td>TED2010</td>\n",
       "      <td>68</td>\n",
       "    </tr>\n",
       "    <tr>\n",
       "      <th>98</th>\n",
       "      <td>TEDGlobal 2011</td>\n",
       "      <td>68</td>\n",
       "    </tr>\n",
       "    <tr>\n",
       "      <th>57</th>\n",
       "      <td>TED2007</td>\n",
       "      <td>68</td>\n",
       "    </tr>\n",
       "  </tbody>\n",
       "</table>\n",
       "</div>"
      ],
      "text/plain": [
       "             event  talks\n",
       "64         TED2014     84\n",
       "59         TED2009     83\n",
       "63         TED2013     77\n",
       "66         TED2016     77\n",
       "65         TED2015     75\n",
       "99  TEDGlobal 2012     70\n",
       "61         TED2011     70\n",
       "60         TED2010     68\n",
       "98  TEDGlobal 2011     68\n",
       "57         TED2007     68"
      ]
     },
     "execution_count": 40,
     "metadata": {},
     "output_type": "execute_result"
    }
   ],
   "source": [
    "events_df = df[['title', 'event']].groupby('event').count().reset_index()\n",
    "events_df.columns = ['event', 'talks']\n",
    "events_df = events_df.sort_values('talks', ascending=False)\n",
    "events_df.head(10)"
   ]
  },
  {
   "cell_type": "markdown",
   "metadata": {
    "_cell_guid": "2ca28f8d-39d1-4dbc-b574-971ccd92d194",
    "_uuid": "7b27be1edd967116403447c3168a7a7c15225e4b"
   },
   "source": [
    "As expected, the official TED events held the major share of TED Talks published on the TED.com platform. **TED2014 had the most number of talks** followed by TED2009. There isn't too much insight to be gained from this. "
   ]
  },
  {
   "cell_type": "markdown",
   "metadata": {
    "_cell_guid": "a4d5c248-c976-4273-891e-12016fa6b509",
    "_uuid": "c6839cd0b6715bdd9687bf22e383fe535716243f"
   },
   "source": [
    "## TED Languages\n",
    "\n",
    "One remarkable aspect of TED Talks is the sheer number of languages in which it is accessible. Let us perform some very basic data visualisation and descriptive statistics about languages at TED."
   ]
  },
  {
   "cell_type": "code",
   "execution_count": 41,
   "metadata": {
    "_cell_guid": "8a16e7ad-87a0-4411-b7d6-0aed8ea62ead",
    "_uuid": "ec8eef52e071fa4868f83b04c416746b92ac969c"
   },
   "outputs": [
    {
     "data": {
      "text/plain": [
       "count    2550.000000\n",
       "mean       27.326275\n",
       "std         9.563452\n",
       "min         0.000000\n",
       "25%        23.000000\n",
       "50%        28.000000\n",
       "75%        33.000000\n",
       "max        72.000000\n",
       "Name: languages, dtype: float64"
      ]
     },
     "execution_count": 41,
     "metadata": {},
     "output_type": "execute_result"
    }
   ],
   "source": [
    "df['languages'].describe()"
   ]
  },
  {
   "cell_type": "markdown",
   "metadata": {
    "_cell_guid": "87ec36f1-eb55-4331-9043-3142157164eb",
    "_uuid": "cdf6661f305ecb8bf2b8da6ce5483b7ee5b394c2"
   },
   "source": [
    "On average, a TED Talk is available in 27 different languages. The maximum number of languages a TED Talk is available in is a staggering 72. Let us check which talk this is."
   ]
  },
  {
   "cell_type": "code",
   "execution_count": 42,
   "metadata": {
    "_cell_guid": "71db7de1-a317-44d8-831a-cff503300f65",
    "_uuid": "fb0d976f05a7fdd14e4b2d3b2b6c41e4878e1d77"
   },
   "outputs": [
    {
     "data": {
      "text/html": [
       "<div>\n",
       "<style scoped>\n",
       "    .dataframe tbody tr th:only-of-type {\n",
       "        vertical-align: middle;\n",
       "    }\n",
       "\n",
       "    .dataframe tbody tr th {\n",
       "        vertical-align: top;\n",
       "    }\n",
       "\n",
       "    .dataframe thead th {\n",
       "        text-align: right;\n",
       "    }\n",
       "</style>\n",
       "<table border=\"1\" class=\"dataframe\">\n",
       "  <thead>\n",
       "    <tr style=\"text-align: right;\">\n",
       "      <th></th>\n",
       "      <th>name</th>\n",
       "      <th>title</th>\n",
       "      <th>description</th>\n",
       "      <th>main_speaker</th>\n",
       "      <th>speaker_occupation</th>\n",
       "      <th>num_speaker</th>\n",
       "      <th>duration</th>\n",
       "      <th>event</th>\n",
       "      <th>film_date</th>\n",
       "      <th>published_date</th>\n",
       "      <th>...</th>\n",
       "      <th>tags</th>\n",
       "      <th>languages</th>\n",
       "      <th>ratings</th>\n",
       "      <th>related_talks</th>\n",
       "      <th>url</th>\n",
       "      <th>views</th>\n",
       "      <th>dis_quo</th>\n",
       "      <th>month</th>\n",
       "      <th>day</th>\n",
       "      <th>year</th>\n",
       "    </tr>\n",
       "  </thead>\n",
       "  <tbody>\n",
       "    <tr>\n",
       "      <th>973</th>\n",
       "      <td>Matt Cutts: Try something new for 30 days</td>\n",
       "      <td>Try something new for 30 days</td>\n",
       "      <td>Is there something you've always meant to do, ...</td>\n",
       "      <td>Matt Cutts</td>\n",
       "      <td>Technologist</td>\n",
       "      <td>1</td>\n",
       "      <td>207</td>\n",
       "      <td>TED2011</td>\n",
       "      <td>02-03-2011</td>\n",
       "      <td>01-07-2011</td>\n",
       "      <td>...</td>\n",
       "      <td>['culture', 'success']</td>\n",
       "      <td>72</td>\n",
       "      <td>[{'id': 10, 'name': 'Inspiring', 'count': 6171...</td>\n",
       "      <td>[{'id': 947, 'hero': 'https://pe.tedcdn.com/im...</td>\n",
       "      <td>https://www.ted.com/talks/matt_cutts_try_somet...</td>\n",
       "      <td>8838874</td>\n",
       "      <td>0.000083</td>\n",
       "      <td>Mar</td>\n",
       "      <td>Wed</td>\n",
       "      <td>2011</td>\n",
       "    </tr>\n",
       "  </tbody>\n",
       "</table>\n",
       "<p>1 rows \u00d7 21 columns</p>\n",
       "</div>"
      ],
      "text/plain": [
       "                                          name                          title  \\\n",
       "973  Matt Cutts: Try something new for 30 days  Try something new for 30 days   \n",
       "\n",
       "                                           description main_speaker  \\\n",
       "973  Is there something you've always meant to do, ...   Matt Cutts   \n",
       "\n",
       "    speaker_occupation  num_speaker  duration    event   film_date  \\\n",
       "973       Technologist            1       207  TED2011  02-03-2011   \n",
       "\n",
       "    published_date  ...                    tags languages  \\\n",
       "973     01-07-2011  ...  ['culture', 'success']        72   \n",
       "\n",
       "                                               ratings  \\\n",
       "973  [{'id': 10, 'name': 'Inspiring', 'count': 6171...   \n",
       "\n",
       "                                         related_talks  \\\n",
       "973  [{'id': 947, 'hero': 'https://pe.tedcdn.com/im...   \n",
       "\n",
       "                                                   url    views   dis_quo  \\\n",
       "973  https://www.ted.com/talks/matt_cutts_try_somet...  8838874  0.000083   \n",
       "\n",
       "     month  day  year  \n",
       "973    Mar  Wed  2011  \n",
       "\n",
       "[1 rows x 21 columns]"
      ]
     },
     "execution_count": 42,
     "metadata": {},
     "output_type": "execute_result"
    }
   ],
   "source": [
    "df[df['languages'] == 72]"
   ]
  },
  {
   "cell_type": "markdown",
   "metadata": {
    "_cell_guid": "88100cb2-0582-45a1-9e8a-845e286e4553",
    "_uuid": "2f530c089523fcbbe0f12d23b861388297f3be0a"
   },
   "source": [
    "The most translated TED Talk of all time is Matt Cutts' **Try Something New in 30 Days**. The talk does have a very universal theme of exploration. The sheer number of languages it's available in demands a little more inspection though as it has just over 8 million views, far fewer than the most popular TED Talks. \n",
    "\n",
    "Finally, let us check if there is a correlation between the number of views and the number of languages a talk is availbale in. We would think that this should be the case since the talk is more accessible to a larger number of people but as Matt Cutts' talk shows, it may not really be the case."
   ]
  },
  {
   "cell_type": "code",
   "execution_count": 43,
   "metadata": {
    "_cell_guid": "715e4810-24b6-4f2f-a152-57d95cda729a",
    "_uuid": "812616aa3bb6333671269e6f89e8cf54c8bba054"
   },
   "outputs": [],
   "source": [
    "# ALEX: remove plotting\n",
    "# sns.jointplot(x='languages', y='views', data=df)\n",
    "# plt.show()"
   ]
  },
  {
   "cell_type": "markdown",
   "metadata": {
    "_cell_guid": "3891de04-7c35-40fb-a205-5ee7d64aeafe",
    "_uuid": "07417fbd210d112557e8eb1fe3023cce4e6a0a85"
   },
   "source": [
    "The Pearson coefficient is 0.38 suggesting a **medium correlation** between the aforementioned quantities. "
   ]
  },
  {
   "cell_type": "markdown",
   "metadata": {
    "_cell_guid": "9670ab3a-75fb-4088-9c5d-85a103b761b0",
    "_uuid": "928407019720009a0bb77f11ce450928e4c280eb"
   },
   "source": [
    "## TED Themes\n",
    "\n",
    "In this section, we will try to find out the most popular themes in the TED conferences. Although TED started out as a conference about technology, entertainment and design, it has since diversified into virtually every field of study and walk of life. It will be interesting to see if this conference with Silicon Valley origins has a bias towards certain topics.\n",
    "\n",
    "To answer this question, we need to wrangle our data in a way that it is suitable for analysis. More specifically, we need to split the related_tags list into separate rows."
   ]
  },
  {
   "cell_type": "markdown",
   "metadata": {
    "_cell_guid": "b1828578-582a-4102-9f4f-8bafa0982c98",
    "_uuid": "c3fe2637ff17a5a4565c1dfc5efee241f5f9c483"
   },
   "source": [
    "![](https://media.giphy.com/media/rPMTIZOBVnlD2/giphy.gif)"
   ]
  },
  {
   "cell_type": "code",
   "execution_count": 44,
   "metadata": {
    "_cell_guid": "ec245688-84bd-45c5-8df6-e71e5a36ac18",
    "_uuid": "9b4d05d055300d62b7a04415d9b8ab773250d470"
   },
   "outputs": [],
   "source": [
    "import ast\n",
    "df['tags'] = df['tags'].apply(lambda x: ast.literal_eval(x))"
   ]
  },
  {
   "cell_type": "code",
   "execution_count": 45,
   "metadata": {
    "_cell_guid": "a8f91efc-49f8-4a89-be47-9765c0c08f84",
    "_uuid": "6ef55a74db9213236f242d391f0156c1d7ce60d5"
   },
   "outputs": [],
   "source": [
    "s = df.apply(lambda x: pd.Series(x['tags']),axis=1).stack().reset_index(level=1, drop=True)\n",
    "s.name = 'theme'"
   ]
  },
  {
   "cell_type": "code",
   "execution_count": 46,
   "metadata": {
    "_cell_guid": "643440d7-d2cd-4f5e-a58e-7033051903ef",
    "_uuid": "7a8410c57f5f08777d2a0e053f775678c4434b1a"
   },
   "outputs": [
    {
     "data": {
      "text/html": [
       "<div>\n",
       "<style scoped>\n",
       "    .dataframe tbody tr th:only-of-type {\n",
       "        vertical-align: middle;\n",
       "    }\n",
       "\n",
       "    .dataframe tbody tr th {\n",
       "        vertical-align: top;\n",
       "    }\n",
       "\n",
       "    .dataframe thead th {\n",
       "        text-align: right;\n",
       "    }\n",
       "</style>\n",
       "<table border=\"1\" class=\"dataframe\">\n",
       "  <thead>\n",
       "    <tr style=\"text-align: right;\">\n",
       "      <th></th>\n",
       "      <th>name</th>\n",
       "      <th>title</th>\n",
       "      <th>description</th>\n",
       "      <th>main_speaker</th>\n",
       "      <th>speaker_occupation</th>\n",
       "      <th>num_speaker</th>\n",
       "      <th>duration</th>\n",
       "      <th>event</th>\n",
       "      <th>film_date</th>\n",
       "      <th>published_date</th>\n",
       "      <th>...</th>\n",
       "      <th>languages</th>\n",
       "      <th>ratings</th>\n",
       "      <th>related_talks</th>\n",
       "      <th>url</th>\n",
       "      <th>views</th>\n",
       "      <th>dis_quo</th>\n",
       "      <th>month</th>\n",
       "      <th>day</th>\n",
       "      <th>year</th>\n",
       "      <th>theme</th>\n",
       "    </tr>\n",
       "  </thead>\n",
       "  <tbody>\n",
       "    <tr>\n",
       "      <th>0</th>\n",
       "      <td>Ken Robinson: Do schools kill creativity?</td>\n",
       "      <td>Do schools kill creativity?</td>\n",
       "      <td>Sir Ken Robinson makes an entertaining and pro...</td>\n",
       "      <td>Ken Robinson</td>\n",
       "      <td>Author/educator</td>\n",
       "      <td>1</td>\n",
       "      <td>1164</td>\n",
       "      <td>TED2006</td>\n",
       "      <td>24-02-2006</td>\n",
       "      <td>26-06-2006</td>\n",
       "      <td>...</td>\n",
       "      <td>60</td>\n",
       "      <td>[{'id': 7, 'name': 'Funny', 'count': 19645}, {...</td>\n",
       "      <td>[{'id': 865, 'hero': 'https://pe.tedcdn.com/im...</td>\n",
       "      <td>https://www.ted.com/talks/ken_robinson_says_sc...</td>\n",
       "      <td>47227110</td>\n",
       "      <td>0.000096</td>\n",
       "      <td>Feb</td>\n",
       "      <td>Fri</td>\n",
       "      <td>2006</td>\n",
       "      <td>children</td>\n",
       "    </tr>\n",
       "    <tr>\n",
       "      <th>0</th>\n",
       "      <td>Ken Robinson: Do schools kill creativity?</td>\n",
       "      <td>Do schools kill creativity?</td>\n",
       "      <td>Sir Ken Robinson makes an entertaining and pro...</td>\n",
       "      <td>Ken Robinson</td>\n",
       "      <td>Author/educator</td>\n",
       "      <td>1</td>\n",
       "      <td>1164</td>\n",
       "      <td>TED2006</td>\n",
       "      <td>24-02-2006</td>\n",
       "      <td>26-06-2006</td>\n",
       "      <td>...</td>\n",
       "      <td>60</td>\n",
       "      <td>[{'id': 7, 'name': 'Funny', 'count': 19645}, {...</td>\n",
       "      <td>[{'id': 865, 'hero': 'https://pe.tedcdn.com/im...</td>\n",
       "      <td>https://www.ted.com/talks/ken_robinson_says_sc...</td>\n",
       "      <td>47227110</td>\n",
       "      <td>0.000096</td>\n",
       "      <td>Feb</td>\n",
       "      <td>Fri</td>\n",
       "      <td>2006</td>\n",
       "      <td>creativity</td>\n",
       "    </tr>\n",
       "    <tr>\n",
       "      <th>0</th>\n",
       "      <td>Ken Robinson: Do schools kill creativity?</td>\n",
       "      <td>Do schools kill creativity?</td>\n",
       "      <td>Sir Ken Robinson makes an entertaining and pro...</td>\n",
       "      <td>Ken Robinson</td>\n",
       "      <td>Author/educator</td>\n",
       "      <td>1</td>\n",
       "      <td>1164</td>\n",
       "      <td>TED2006</td>\n",
       "      <td>24-02-2006</td>\n",
       "      <td>26-06-2006</td>\n",
       "      <td>...</td>\n",
       "      <td>60</td>\n",
       "      <td>[{'id': 7, 'name': 'Funny', 'count': 19645}, {...</td>\n",
       "      <td>[{'id': 865, 'hero': 'https://pe.tedcdn.com/im...</td>\n",
       "      <td>https://www.ted.com/talks/ken_robinson_says_sc...</td>\n",
       "      <td>47227110</td>\n",
       "      <td>0.000096</td>\n",
       "      <td>Feb</td>\n",
       "      <td>Fri</td>\n",
       "      <td>2006</td>\n",
       "      <td>culture</td>\n",
       "    </tr>\n",
       "    <tr>\n",
       "      <th>0</th>\n",
       "      <td>Ken Robinson: Do schools kill creativity?</td>\n",
       "      <td>Do schools kill creativity?</td>\n",
       "      <td>Sir Ken Robinson makes an entertaining and pro...</td>\n",
       "      <td>Ken Robinson</td>\n",
       "      <td>Author/educator</td>\n",
       "      <td>1</td>\n",
       "      <td>1164</td>\n",
       "      <td>TED2006</td>\n",
       "      <td>24-02-2006</td>\n",
       "      <td>26-06-2006</td>\n",
       "      <td>...</td>\n",
       "      <td>60</td>\n",
       "      <td>[{'id': 7, 'name': 'Funny', 'count': 19645}, {...</td>\n",
       "      <td>[{'id': 865, 'hero': 'https://pe.tedcdn.com/im...</td>\n",
       "      <td>https://www.ted.com/talks/ken_robinson_says_sc...</td>\n",
       "      <td>47227110</td>\n",
       "      <td>0.000096</td>\n",
       "      <td>Feb</td>\n",
       "      <td>Fri</td>\n",
       "      <td>2006</td>\n",
       "      <td>dance</td>\n",
       "    </tr>\n",
       "    <tr>\n",
       "      <th>0</th>\n",
       "      <td>Ken Robinson: Do schools kill creativity?</td>\n",
       "      <td>Do schools kill creativity?</td>\n",
       "      <td>Sir Ken Robinson makes an entertaining and pro...</td>\n",
       "      <td>Ken Robinson</td>\n",
       "      <td>Author/educator</td>\n",
       "      <td>1</td>\n",
       "      <td>1164</td>\n",
       "      <td>TED2006</td>\n",
       "      <td>24-02-2006</td>\n",
       "      <td>26-06-2006</td>\n",
       "      <td>...</td>\n",
       "      <td>60</td>\n",
       "      <td>[{'id': 7, 'name': 'Funny', 'count': 19645}, {...</td>\n",
       "      <td>[{'id': 865, 'hero': 'https://pe.tedcdn.com/im...</td>\n",
       "      <td>https://www.ted.com/talks/ken_robinson_says_sc...</td>\n",
       "      <td>47227110</td>\n",
       "      <td>0.000096</td>\n",
       "      <td>Feb</td>\n",
       "      <td>Fri</td>\n",
       "      <td>2006</td>\n",
       "      <td>education</td>\n",
       "    </tr>\n",
       "  </tbody>\n",
       "</table>\n",
       "<p>5 rows \u00d7 21 columns</p>\n",
       "</div>"
      ],
      "text/plain": [
       "                                        name                        title  \\\n",
       "0  Ken Robinson: Do schools kill creativity?  Do schools kill creativity?   \n",
       "0  Ken Robinson: Do schools kill creativity?  Do schools kill creativity?   \n",
       "0  Ken Robinson: Do schools kill creativity?  Do schools kill creativity?   \n",
       "0  Ken Robinson: Do schools kill creativity?  Do schools kill creativity?   \n",
       "0  Ken Robinson: Do schools kill creativity?  Do schools kill creativity?   \n",
       "\n",
       "                                         description  main_speaker  \\\n",
       "0  Sir Ken Robinson makes an entertaining and pro...  Ken Robinson   \n",
       "0  Sir Ken Robinson makes an entertaining and pro...  Ken Robinson   \n",
       "0  Sir Ken Robinson makes an entertaining and pro...  Ken Robinson   \n",
       "0  Sir Ken Robinson makes an entertaining and pro...  Ken Robinson   \n",
       "0  Sir Ken Robinson makes an entertaining and pro...  Ken Robinson   \n",
       "\n",
       "  speaker_occupation  num_speaker  duration    event   film_date  \\\n",
       "0    Author/educator            1      1164  TED2006  24-02-2006   \n",
       "0    Author/educator            1      1164  TED2006  24-02-2006   \n",
       "0    Author/educator            1      1164  TED2006  24-02-2006   \n",
       "0    Author/educator            1      1164  TED2006  24-02-2006   \n",
       "0    Author/educator            1      1164  TED2006  24-02-2006   \n",
       "\n",
       "  published_date  ...  languages  \\\n",
       "0     26-06-2006  ...         60   \n",
       "0     26-06-2006  ...         60   \n",
       "0     26-06-2006  ...         60   \n",
       "0     26-06-2006  ...         60   \n",
       "0     26-06-2006  ...         60   \n",
       "\n",
       "                                             ratings  \\\n",
       "0  [{'id': 7, 'name': 'Funny', 'count': 19645}, {...   \n",
       "0  [{'id': 7, 'name': 'Funny', 'count': 19645}, {...   \n",
       "0  [{'id': 7, 'name': 'Funny', 'count': 19645}, {...   \n",
       "0  [{'id': 7, 'name': 'Funny', 'count': 19645}, {...   \n",
       "0  [{'id': 7, 'name': 'Funny', 'count': 19645}, {...   \n",
       "\n",
       "                                       related_talks  \\\n",
       "0  [{'id': 865, 'hero': 'https://pe.tedcdn.com/im...   \n",
       "0  [{'id': 865, 'hero': 'https://pe.tedcdn.com/im...   \n",
       "0  [{'id': 865, 'hero': 'https://pe.tedcdn.com/im...   \n",
       "0  [{'id': 865, 'hero': 'https://pe.tedcdn.com/im...   \n",
       "0  [{'id': 865, 'hero': 'https://pe.tedcdn.com/im...   \n",
       "\n",
       "                                                 url     views   dis_quo  \\\n",
       "0  https://www.ted.com/talks/ken_robinson_says_sc...  47227110  0.000096   \n",
       "0  https://www.ted.com/talks/ken_robinson_says_sc...  47227110  0.000096   \n",
       "0  https://www.ted.com/talks/ken_robinson_says_sc...  47227110  0.000096   \n",
       "0  https://www.ted.com/talks/ken_robinson_says_sc...  47227110  0.000096   \n",
       "0  https://www.ted.com/talks/ken_robinson_says_sc...  47227110  0.000096   \n",
       "\n",
       "   month  day  year       theme  \n",
       "0    Feb  Fri  2006    children  \n",
       "0    Feb  Fri  2006  creativity  \n",
       "0    Feb  Fri  2006     culture  \n",
       "0    Feb  Fri  2006       dance  \n",
       "0    Feb  Fri  2006   education  \n",
       "\n",
       "[5 rows x 21 columns]"
      ]
     },
     "execution_count": 46,
     "metadata": {},
     "output_type": "execute_result"
    }
   ],
   "source": [
    "theme_df = df.drop('tags', axis=1).join(s)\n",
    "theme_df.head()"
   ]
  },
  {
   "cell_type": "code",
   "execution_count": 47,
   "metadata": {
    "_cell_guid": "e892ec67-66ba-452e-b161-356963c82932",
    "_uuid": "9957b6cade2f72461915083817c54233c2e7a48a"
   },
   "outputs": [
    {
     "data": {
      "text/plain": [
       "416"
      ]
     },
     "execution_count": 47,
     "metadata": {},
     "output_type": "execute_result"
    }
   ],
   "source": [
    "len(theme_df['theme'].value_counts())"
   ]
  },
  {
   "cell_type": "markdown",
   "metadata": {
    "_cell_guid": "e124ddc2-e8f9-4548-985e-cf429c0c1ca2",
    "_uuid": "aa7d954c8ebf3eb8aba81d2fa2c7349909a842ea"
   },
   "source": [
    "TED defines a staggering **416 different categories** for its talks. Let us now check the most popular themes."
   ]
  },
  {
   "cell_type": "code",
   "execution_count": 48,
   "metadata": {
    "_cell_guid": "454ff4e8-7a8d-44ff-b4fd-4045e6f4957d",
    "_uuid": "85eb5f4a67c9fb853cb26d42343227ef351139f6"
   },
   "outputs": [
    {
     "data": {
      "text/html": [
       "<div>\n",
       "<style scoped>\n",
       "    .dataframe tbody tr th:only-of-type {\n",
       "        vertical-align: middle;\n",
       "    }\n",
       "\n",
       "    .dataframe tbody tr th {\n",
       "        vertical-align: top;\n",
       "    }\n",
       "\n",
       "    .dataframe thead th {\n",
       "        text-align: right;\n",
       "    }\n",
       "</style>\n",
       "<table border=\"1\" class=\"dataframe\">\n",
       "  <thead>\n",
       "    <tr style=\"text-align: right;\">\n",
       "      <th></th>\n",
       "      <th>theme</th>\n",
       "      <th>talks</th>\n",
       "    </tr>\n",
       "  </thead>\n",
       "  <tbody>\n",
       "    <tr>\n",
       "      <th>0</th>\n",
       "      <td>technology</td>\n",
       "      <td>727</td>\n",
       "    </tr>\n",
       "    <tr>\n",
       "      <th>1</th>\n",
       "      <td>science</td>\n",
       "      <td>567</td>\n",
       "    </tr>\n",
       "    <tr>\n",
       "      <th>2</th>\n",
       "      <td>global issues</td>\n",
       "      <td>501</td>\n",
       "    </tr>\n",
       "    <tr>\n",
       "      <th>3</th>\n",
       "      <td>culture</td>\n",
       "      <td>486</td>\n",
       "    </tr>\n",
       "    <tr>\n",
       "      <th>4</th>\n",
       "      <td>TEDx</td>\n",
       "      <td>450</td>\n",
       "    </tr>\n",
       "    <tr>\n",
       "      <th>5</th>\n",
       "      <td>design</td>\n",
       "      <td>418</td>\n",
       "    </tr>\n",
       "    <tr>\n",
       "      <th>6</th>\n",
       "      <td>business</td>\n",
       "      <td>348</td>\n",
       "    </tr>\n",
       "    <tr>\n",
       "      <th>7</th>\n",
       "      <td>entertainment</td>\n",
       "      <td>299</td>\n",
       "    </tr>\n",
       "    <tr>\n",
       "      <th>8</th>\n",
       "      <td>health</td>\n",
       "      <td>236</td>\n",
       "    </tr>\n",
       "    <tr>\n",
       "      <th>9</th>\n",
       "      <td>innovation</td>\n",
       "      <td>229</td>\n",
       "    </tr>\n",
       "  </tbody>\n",
       "</table>\n",
       "</div>"
      ],
      "text/plain": [
       "           theme  talks\n",
       "0     technology    727\n",
       "1        science    567\n",
       "2  global issues    501\n",
       "3        culture    486\n",
       "4           TEDx    450\n",
       "5         design    418\n",
       "6       business    348\n",
       "7  entertainment    299\n",
       "8         health    236\n",
       "9     innovation    229"
      ]
     },
     "execution_count": 48,
     "metadata": {},
     "output_type": "execute_result"
    }
   ],
   "source": [
    "pop_themes = pd.DataFrame(theme_df['theme'].value_counts()).reset_index()\n",
    "pop_themes.columns = ['theme', 'talks']\n",
    "pop_themes.head(10)"
   ]
  },
  {
   "cell_type": "code",
   "execution_count": 49,
   "metadata": {
    "_cell_guid": "fd5b0c4a-cad6-4dae-833a-97d6a311cd54",
    "_uuid": "9874433db3cc81fcc4ef94371e26bcc29b2f18f6"
   },
   "outputs": [],
   "source": [
    "# ALEX: remove plotting\n",
    "# plt.figure(figsize=(15,5))\n",
    "# sns.barplot(x='theme', y='talks', data=pop_themes.head(10))\n",
    "# plt.show()\n",
    "_ = pop_themes.head(10)"
   ]
  },
  {
   "cell_type": "markdown",
   "metadata": {
    "_cell_guid": "bb70ab7a-0871-49f8-8940-359a2ae2e08d",
    "_uuid": "9a45c2efda8bcaf35beee0c58f8e74d2894f315f"
   },
   "source": [
    "As may have been expected, **Technology** is the most popular topic for talks. The other two original factions, Design and Entertainment, also make it to the list of top 10 themes. **Science** and **Global Issues** are the second and the third most popular themes respectively.\n",
    "\n",
    "The next question I want to answer is the trends in the share of topics of TED Talks across the world. Has the demand for Technology talks increased? Do certain years have a disproportionate share of talks related to global issues? Let's find out! \n",
    "\n",
    "We will only be considering the top 7 themes, excluding TEDx and talks after 2009, the year when the number of TED Talks really peaked."
   ]
  },
  {
   "cell_type": "code",
   "execution_count": 50,
   "metadata": {
    "_cell_guid": "01790a52-42aa-4ae1-9e5f-28352b985151",
    "_uuid": "3bed007e7b84f115b428dda4705ee52ccbcc7e0f"
   },
   "outputs": [
    {
     "name": "stderr",
     "output_type": "stream",
     "text": [
      "/tmp/ipykernel_58517/1437462277.py:2: SettingWithCopyWarning: \n",
      "A value is trying to be set on a copy of a slice from a DataFrame.\n",
      "Try using .loc[row_indexer,col_indexer] = value instead\n",
      "\n",
      "See the caveats in the documentation: https://pandas.pydata.org/pandas-docs/stable/user_guide/indexing.html#returning-a-view-versus-a-copy\n",
      "  pop_theme_talks['year'] = pop_theme_talks['year'].astype('int')\n"
     ]
    }
   ],
   "source": [
    "pop_theme_talks = theme_df[(theme_df['theme'].isin(pop_themes.head(8)['theme'])) & (theme_df['theme'] != 'TEDx')]\n",
    "pop_theme_talks['year'] = pop_theme_talks['year'].astype('int')\n",
    "pop_theme_talks = pop_theme_talks[pop_theme_talks['year'] > 2008]"
   ]
  },
  {
   "cell_type": "code",
   "execution_count": 51,
   "metadata": {
    "_cell_guid": "7fd1a122-456e-4d0a-9885-ce7fd920c1b3",
    "_uuid": "13ab9a4f61c8cc03b7d5e2bb9ecf3e3a9071ae9a"
   },
   "outputs": [
    {
     "data": {
      "text/html": [
       "<div>\n",
       "<style scoped>\n",
       "    .dataframe tbody tr th:only-of-type {\n",
       "        vertical-align: middle;\n",
       "    }\n",
       "\n",
       "    .dataframe tbody tr th {\n",
       "        vertical-align: top;\n",
       "    }\n",
       "\n",
       "    .dataframe thead th {\n",
       "        text-align: right;\n",
       "    }\n",
       "</style>\n",
       "<table border=\"1\" class=\"dataframe\">\n",
       "  <thead>\n",
       "    <tr style=\"text-align: right;\">\n",
       "      <th>theme</th>\n",
       "      <th>technology</th>\n",
       "      <th>science</th>\n",
       "      <th>global issues</th>\n",
       "      <th>culture</th>\n",
       "      <th>design</th>\n",
       "      <th>business</th>\n",
       "      <th>entertainment</th>\n",
       "    </tr>\n",
       "    <tr>\n",
       "      <th>year</th>\n",
       "      <th></th>\n",
       "      <th></th>\n",
       "      <th></th>\n",
       "      <th></th>\n",
       "      <th></th>\n",
       "      <th></th>\n",
       "      <th></th>\n",
       "    </tr>\n",
       "  </thead>\n",
       "  <tbody>\n",
       "    <tr>\n",
       "      <th>2009</th>\n",
       "      <td>0.225146</td>\n",
       "      <td>0.163743</td>\n",
       "      <td>0.157895</td>\n",
       "      <td>0.114035</td>\n",
       "      <td>0.137427</td>\n",
       "      <td>0.122807</td>\n",
       "      <td>0.078947</td>\n",
       "    </tr>\n",
       "    <tr>\n",
       "      <th>2010</th>\n",
       "      <td>0.162963</td>\n",
       "      <td>0.167901</td>\n",
       "      <td>0.167901</td>\n",
       "      <td>0.165432</td>\n",
       "      <td>0.111111</td>\n",
       "      <td>0.130864</td>\n",
       "      <td>0.093827</td>\n",
       "    </tr>\n",
       "    <tr>\n",
       "      <th>2011</th>\n",
       "      <td>0.212048</td>\n",
       "      <td>0.185542</td>\n",
       "      <td>0.132530</td>\n",
       "      <td>0.187952</td>\n",
       "      <td>0.134940</td>\n",
       "      <td>0.060241</td>\n",
       "      <td>0.086747</td>\n",
       "    </tr>\n",
       "    <tr>\n",
       "      <th>2012</th>\n",
       "      <td>0.221893</td>\n",
       "      <td>0.189349</td>\n",
       "      <td>0.165680</td>\n",
       "      <td>0.159763</td>\n",
       "      <td>0.097633</td>\n",
       "      <td>0.091716</td>\n",
       "      <td>0.073964</td>\n",
       "    </tr>\n",
       "    <tr>\n",
       "      <th>2013</th>\n",
       "      <td>0.229391</td>\n",
       "      <td>0.125448</td>\n",
       "      <td>0.143369</td>\n",
       "      <td>0.182796</td>\n",
       "      <td>0.118280</td>\n",
       "      <td>0.121864</td>\n",
       "      <td>0.078853</td>\n",
       "    </tr>\n",
       "    <tr>\n",
       "      <th>2014</th>\n",
       "      <td>0.254658</td>\n",
       "      <td>0.180124</td>\n",
       "      <td>0.192547</td>\n",
       "      <td>0.105590</td>\n",
       "      <td>0.093168</td>\n",
       "      <td>0.130435</td>\n",
       "      <td>0.043478</td>\n",
       "    </tr>\n",
       "    <tr>\n",
       "      <th>2015</th>\n",
       "      <td>0.246377</td>\n",
       "      <td>0.265700</td>\n",
       "      <td>0.164251</td>\n",
       "      <td>0.082126</td>\n",
       "      <td>0.120773</td>\n",
       "      <td>0.072464</td>\n",
       "      <td>0.048309</td>\n",
       "    </tr>\n",
       "    <tr>\n",
       "      <th>2016</th>\n",
       "      <td>0.280769</td>\n",
       "      <td>0.215385</td>\n",
       "      <td>0.150000</td>\n",
       "      <td>0.053846</td>\n",
       "      <td>0.123077</td>\n",
       "      <td>0.134615</td>\n",
       "      <td>0.042308</td>\n",
       "    </tr>\n",
       "    <tr>\n",
       "      <th>2017</th>\n",
       "      <td>0.313253</td>\n",
       "      <td>0.180723</td>\n",
       "      <td>0.192771</td>\n",
       "      <td>0.024096</td>\n",
       "      <td>0.156627</td>\n",
       "      <td>0.084337</td>\n",
       "      <td>0.048193</td>\n",
       "    </tr>\n",
       "  </tbody>\n",
       "</table>\n",
       "</div>"
      ],
      "text/plain": [
       "theme  technology   science  global issues   culture    design  business  \\\n",
       "year                                                                       \n",
       "2009     0.225146  0.163743       0.157895  0.114035  0.137427  0.122807   \n",
       "2010     0.162963  0.167901       0.167901  0.165432  0.111111  0.130864   \n",
       "2011     0.212048  0.185542       0.132530  0.187952  0.134940  0.060241   \n",
       "2012     0.221893  0.189349       0.165680  0.159763  0.097633  0.091716   \n",
       "2013     0.229391  0.125448       0.143369  0.182796  0.118280  0.121864   \n",
       "2014     0.254658  0.180124       0.192547  0.105590  0.093168  0.130435   \n",
       "2015     0.246377  0.265700       0.164251  0.082126  0.120773  0.072464   \n",
       "2016     0.280769  0.215385       0.150000  0.053846  0.123077  0.134615   \n",
       "2017     0.313253  0.180723       0.192771  0.024096  0.156627  0.084337   \n",
       "\n",
       "theme  entertainment  \n",
       "year                  \n",
       "2009        0.078947  \n",
       "2010        0.093827  \n",
       "2011        0.086747  \n",
       "2012        0.073964  \n",
       "2013        0.078853  \n",
       "2014        0.043478  \n",
       "2015        0.048309  \n",
       "2016        0.042308  \n",
       "2017        0.048193  "
      ]
     },
     "execution_count": 51,
     "metadata": {},
     "output_type": "execute_result"
    }
   ],
   "source": [
    "themes = list(pop_themes.head(8)['theme'])\n",
    "# ALEX: make notebook run\n",
    "# themes.remove('TEDx')\n",
    "if 'TEDx' in themes:\n",
    "    themes.remove('TEDx')\n",
    "ctab = pd.crosstab([pop_theme_talks['year']], pop_theme_talks['theme']).apply(lambda x: x/x.sum(), axis=1)\n",
    "# ALEX: remove plotting\n",
    "# ctab[themes].plot(kind='bar', stacked=True, colormap='rainbow', figsize=(12,8)).legend(loc='center left', bbox_to_anchor=(1, 0.5))\n",
    "# plt.show()\n",
    "ctab[themes]"
   ]
  },
  {
   "cell_type": "code",
   "execution_count": 52,
   "metadata": {
    "_cell_guid": "11e14789-e581-4273-bb8c-3a7504823a6d",
    "_uuid": "1d7a6d2a58f9ccdf3d35fb4c2186046bc1403597"
   },
   "outputs": [
    {
     "data": {
      "text/html": [
       "<div>\n",
       "<style scoped>\n",
       "    .dataframe tbody tr th:only-of-type {\n",
       "        vertical-align: middle;\n",
       "    }\n",
       "\n",
       "    .dataframe tbody tr th {\n",
       "        vertical-align: top;\n",
       "    }\n",
       "\n",
       "    .dataframe thead th {\n",
       "        text-align: right;\n",
       "    }\n",
       "</style>\n",
       "<table border=\"1\" class=\"dataframe\">\n",
       "  <thead>\n",
       "    <tr style=\"text-align: right;\">\n",
       "      <th>theme</th>\n",
       "      <th>technology</th>\n",
       "      <th>science</th>\n",
       "      <th>global issues</th>\n",
       "      <th>culture</th>\n",
       "      <th>design</th>\n",
       "      <th>business</th>\n",
       "      <th>entertainment</th>\n",
       "    </tr>\n",
       "    <tr>\n",
       "      <th>year</th>\n",
       "      <th></th>\n",
       "      <th></th>\n",
       "      <th></th>\n",
       "      <th></th>\n",
       "      <th></th>\n",
       "      <th></th>\n",
       "      <th></th>\n",
       "    </tr>\n",
       "  </thead>\n",
       "  <tbody>\n",
       "    <tr>\n",
       "      <th>2009</th>\n",
       "      <td>0.225146</td>\n",
       "      <td>0.163743</td>\n",
       "      <td>0.157895</td>\n",
       "      <td>0.114035</td>\n",
       "      <td>0.137427</td>\n",
       "      <td>0.122807</td>\n",
       "      <td>0.078947</td>\n",
       "    </tr>\n",
       "    <tr>\n",
       "      <th>2010</th>\n",
       "      <td>0.162963</td>\n",
       "      <td>0.167901</td>\n",
       "      <td>0.167901</td>\n",
       "      <td>0.165432</td>\n",
       "      <td>0.111111</td>\n",
       "      <td>0.130864</td>\n",
       "      <td>0.093827</td>\n",
       "    </tr>\n",
       "    <tr>\n",
       "      <th>2011</th>\n",
       "      <td>0.212048</td>\n",
       "      <td>0.185542</td>\n",
       "      <td>0.132530</td>\n",
       "      <td>0.187952</td>\n",
       "      <td>0.134940</td>\n",
       "      <td>0.060241</td>\n",
       "      <td>0.086747</td>\n",
       "    </tr>\n",
       "    <tr>\n",
       "      <th>2012</th>\n",
       "      <td>0.221893</td>\n",
       "      <td>0.189349</td>\n",
       "      <td>0.165680</td>\n",
       "      <td>0.159763</td>\n",
       "      <td>0.097633</td>\n",
       "      <td>0.091716</td>\n",
       "      <td>0.073964</td>\n",
       "    </tr>\n",
       "    <tr>\n",
       "      <th>2013</th>\n",
       "      <td>0.229391</td>\n",
       "      <td>0.125448</td>\n",
       "      <td>0.143369</td>\n",
       "      <td>0.182796</td>\n",
       "      <td>0.118280</td>\n",
       "      <td>0.121864</td>\n",
       "      <td>0.078853</td>\n",
       "    </tr>\n",
       "    <tr>\n",
       "      <th>2014</th>\n",
       "      <td>0.254658</td>\n",
       "      <td>0.180124</td>\n",
       "      <td>0.192547</td>\n",
       "      <td>0.105590</td>\n",
       "      <td>0.093168</td>\n",
       "      <td>0.130435</td>\n",
       "      <td>0.043478</td>\n",
       "    </tr>\n",
       "    <tr>\n",
       "      <th>2015</th>\n",
       "      <td>0.246377</td>\n",
       "      <td>0.265700</td>\n",
       "      <td>0.164251</td>\n",
       "      <td>0.082126</td>\n",
       "      <td>0.120773</td>\n",
       "      <td>0.072464</td>\n",
       "      <td>0.048309</td>\n",
       "    </tr>\n",
       "    <tr>\n",
       "      <th>2016</th>\n",
       "      <td>0.280769</td>\n",
       "      <td>0.215385</td>\n",
       "      <td>0.150000</td>\n",
       "      <td>0.053846</td>\n",
       "      <td>0.123077</td>\n",
       "      <td>0.134615</td>\n",
       "      <td>0.042308</td>\n",
       "    </tr>\n",
       "    <tr>\n",
       "      <th>2017</th>\n",
       "      <td>0.313253</td>\n",
       "      <td>0.180723</td>\n",
       "      <td>0.192771</td>\n",
       "      <td>0.024096</td>\n",
       "      <td>0.156627</td>\n",
       "      <td>0.084337</td>\n",
       "      <td>0.048193</td>\n",
       "    </tr>\n",
       "  </tbody>\n",
       "</table>\n",
       "</div>"
      ],
      "text/plain": [
       "theme  technology   science  global issues   culture    design  business  \\\n",
       "year                                                                       \n",
       "2009     0.225146  0.163743       0.157895  0.114035  0.137427  0.122807   \n",
       "2010     0.162963  0.167901       0.167901  0.165432  0.111111  0.130864   \n",
       "2011     0.212048  0.185542       0.132530  0.187952  0.134940  0.060241   \n",
       "2012     0.221893  0.189349       0.165680  0.159763  0.097633  0.091716   \n",
       "2013     0.229391  0.125448       0.143369  0.182796  0.118280  0.121864   \n",
       "2014     0.254658  0.180124       0.192547  0.105590  0.093168  0.130435   \n",
       "2015     0.246377  0.265700       0.164251  0.082126  0.120773  0.072464   \n",
       "2016     0.280769  0.215385       0.150000  0.053846  0.123077  0.134615   \n",
       "2017     0.313253  0.180723       0.192771  0.024096  0.156627  0.084337   \n",
       "\n",
       "theme  entertainment  \n",
       "year                  \n",
       "2009        0.078947  \n",
       "2010        0.093827  \n",
       "2011        0.086747  \n",
       "2012        0.073964  \n",
       "2013        0.078853  \n",
       "2014        0.043478  \n",
       "2015        0.048309  \n",
       "2016        0.042308  \n",
       "2017        0.048193  "
      ]
     },
     "execution_count": 52,
     "metadata": {},
     "output_type": "execute_result"
    }
   ],
   "source": [
    "# ALEX: remove plotting\n",
    "# ctab[themes].plot(kind='line', stacked=False, colormap='rainbow', figsize=(12,8)).legend(loc='center left', bbox_to_anchor=(1, 0.5))\n",
    "# plt.show()\n",
    "ctab[themes]"
   ]
  },
  {
   "cell_type": "markdown",
   "metadata": {
    "_cell_guid": "2ee8e8e4-9ab4-411e-a36f-4fe319540ba4",
    "_uuid": "50b21e4762fa99caf1ff6b713c88b24798c78580"
   },
   "source": [
    "The proportion of technology talks has steadily increased over the years with a slight dip in 2010. This is understandable considering the boom of technologies such as blockchain, deep learning and augmented reality capturing people's imagination.\n",
    "\n",
    "Talks on culture have witnessed a dip, decreasing steadily starting 2013. The share of culture talks has been the least in 2017.  Entertainment talks also seem to have witnessed a slight decline in popularity since 2009.\n",
    "\n",
    "Like with the speaker occupations, let us investigate if certain topics tend to garner more views than certain other topics. We will be doing this analysis for the top ten categories that we discovered in an earlier cell. As with the speaker occupations, the box plot will be used to deduce this relation."
   ]
  },
  {
   "cell_type": "code",
   "execution_count": 53,
   "metadata": {
    "_cell_guid": "634d20ea-2fc3-4d60-b81f-5dd99fbc9831",
    "_uuid": "a95e3bcaa73ec0d1ad7ffa964a3115b3f135e27c"
   },
   "outputs": [],
   "source": [
    "pop_theme_talks = theme_df[theme_df['theme'].isin(pop_themes.head(10)['theme'])]\n",
    "# ALEX: remove plotting\n",
    "# fig, ax = plt.subplots(nrows=1, ncols=1,figsize=(15, 8))\n",
    "# sns.boxplot(x='theme', y='views', data=pop_theme_talks, palette=\"muted\", ax =ax)\n",
    "# ax.set_ylim([0, 0.4e7])"
   ]
  },
  {
   "cell_type": "markdown",
   "metadata": {
    "_cell_guid": "9adc7d68-a00d-483a-9223-1197bdf72bda",
    "_uuid": "c4751faa732044e800f12ee5db252ccc25583b40"
   },
   "source": [
    "Although culture has lost its share in the number of TED Talks over the years, they garner the highest median number of views."
   ]
  },
  {
   "cell_type": "markdown",
   "metadata": {
    "_cell_guid": "435ca6bd-f358-4104-8e83-c9e33ef11d45",
    "_uuid": "a3d268a3a3d02d1f30bd4089afd4ea606630b50c"
   },
   "source": [
    "## Talk Duration and Word Counts\n",
    "\n",
    "In this section, we will perform analysis on the length of TED Talks. TED is famous for imposing a very strict time limit of 18 minutes. Although this is the suggested limit, there have been talks as short as 2 minutes and some have stretched to as long as 24 minutes. Let us get an idea of the distribution of TED Talk durations."
   ]
  },
  {
   "cell_type": "code",
   "execution_count": 54,
   "metadata": {
    "_cell_guid": "91947a01-e57a-497a-880b-0e50b77efa1d",
    "_uuid": "106f2a17b77a153892b87788ce7b69a490a7ae18"
   },
   "outputs": [
    {
     "data": {
      "text/plain": [
       "count    2550.000000\n",
       "mean       13.775170\n",
       "std         6.233486\n",
       "min         2.250000\n",
       "25%         9.616667\n",
       "50%        14.133333\n",
       "75%        17.445833\n",
       "max        87.600000\n",
       "Name: duration, dtype: float64"
      ]
     },
     "execution_count": 54,
     "metadata": {},
     "output_type": "execute_result"
    }
   ],
   "source": [
    "#Convert to minutes\n",
    "df['duration'] = df['duration']/60\n",
    "df['duration'].describe()"
   ]
  },
  {
   "cell_type": "markdown",
   "metadata": {
    "_cell_guid": "a33774b9-f893-4558-8ccb-ccc4b1d7370a",
    "_uuid": "05991c1e04146fe9e65f25965a9f021141f73886"
   },
   "source": [
    "TED Talks, on average are **13.7 minutes long**. I find this statistic surprising because TED Talks are often synonymous with 18 minutes and the average is a good 3 minutes shorter than that.\n",
    "\n",
    "The shortest TED Talk on record is **2.25 minutes** long whereas the longest talk is **87.6 minutes** long. I'm pretty sure the longest talk was not actually a TED Talk. Let us look at both the shortest and the longest talk."
   ]
  },
  {
   "cell_type": "code",
   "execution_count": 55,
   "metadata": {
    "_cell_guid": "bb9d19ce-bc52-4eda-9237-f7ed2a29db86",
    "_uuid": "2caa673c7799e5779b740ad0ed82d4273fdcf880"
   },
   "outputs": [
    {
     "data": {
      "text/html": [
       "<div>\n",
       "<style scoped>\n",
       "    .dataframe tbody tr th:only-of-type {\n",
       "        vertical-align: middle;\n",
       "    }\n",
       "\n",
       "    .dataframe tbody tr th {\n",
       "        vertical-align: top;\n",
       "    }\n",
       "\n",
       "    .dataframe thead th {\n",
       "        text-align: right;\n",
       "    }\n",
       "</style>\n",
       "<table border=\"1\" class=\"dataframe\">\n",
       "  <thead>\n",
       "    <tr style=\"text-align: right;\">\n",
       "      <th></th>\n",
       "      <th>name</th>\n",
       "      <th>title</th>\n",
       "      <th>description</th>\n",
       "      <th>main_speaker</th>\n",
       "      <th>speaker_occupation</th>\n",
       "      <th>num_speaker</th>\n",
       "      <th>duration</th>\n",
       "      <th>event</th>\n",
       "      <th>film_date</th>\n",
       "      <th>published_date</th>\n",
       "      <th>...</th>\n",
       "      <th>tags</th>\n",
       "      <th>languages</th>\n",
       "      <th>ratings</th>\n",
       "      <th>related_talks</th>\n",
       "      <th>url</th>\n",
       "      <th>views</th>\n",
       "      <th>dis_quo</th>\n",
       "      <th>month</th>\n",
       "      <th>day</th>\n",
       "      <th>year</th>\n",
       "    </tr>\n",
       "  </thead>\n",
       "  <tbody>\n",
       "    <tr>\n",
       "      <th>239</th>\n",
       "      <td>Murray Gell-Mann: The ancestor of language</td>\n",
       "      <td>The ancestor of language</td>\n",
       "      <td>After speaking at TED2007 on elegance in physi...</td>\n",
       "      <td>Murray Gell-Mann</td>\n",
       "      <td>Physicist</td>\n",
       "      <td>1</td>\n",
       "      <td>2.25</td>\n",
       "      <td>TED2007</td>\n",
       "      <td>02-03-2007</td>\n",
       "      <td>10-06-2008</td>\n",
       "      <td>...</td>\n",
       "      <td>[culture, global issues, history, language, ph...</td>\n",
       "      <td>61</td>\n",
       "      <td>[{'id': 22, 'name': 'Fascinating', 'count': 78...</td>\n",
       "      <td>[{'id': 161, 'hero': 'https://pe.tedcdn.com/im...</td>\n",
       "      <td>https://www.ted.com/talks/murray_gell_mann_on_...</td>\n",
       "      <td>785293</td>\n",
       "      <td>0.000097</td>\n",
       "      <td>Mar</td>\n",
       "      <td>Fri</td>\n",
       "      <td>2007</td>\n",
       "    </tr>\n",
       "  </tbody>\n",
       "</table>\n",
       "<p>1 rows \u00d7 21 columns</p>\n",
       "</div>"
      ],
      "text/plain": [
       "                                           name                     title  \\\n",
       "239  Murray Gell-Mann: The ancestor of language  The ancestor of language   \n",
       "\n",
       "                                           description      main_speaker  \\\n",
       "239  After speaking at TED2007 on elegance in physi...  Murray Gell-Mann   \n",
       "\n",
       "    speaker_occupation  num_speaker  duration    event   film_date  \\\n",
       "239          Physicist            1      2.25  TED2007  02-03-2007   \n",
       "\n",
       "    published_date  ...                                               tags  \\\n",
       "239     10-06-2008  ...  [culture, global issues, history, language, ph...   \n",
       "\n",
       "    languages                                            ratings  \\\n",
       "239        61  [{'id': 22, 'name': 'Fascinating', 'count': 78...   \n",
       "\n",
       "                                         related_talks  \\\n",
       "239  [{'id': 161, 'hero': 'https://pe.tedcdn.com/im...   \n",
       "\n",
       "                                                   url   views   dis_quo  \\\n",
       "239  https://www.ted.com/talks/murray_gell_mann_on_...  785293  0.000097   \n",
       "\n",
       "     month  day  year  \n",
       "239    Mar  Fri  2007  \n",
       "\n",
       "[1 rows x 21 columns]"
      ]
     },
     "execution_count": 55,
     "metadata": {},
     "output_type": "execute_result"
    }
   ],
   "source": [
    "df[df['duration'] == 2.25]"
   ]
  },
  {
   "cell_type": "code",
   "execution_count": 56,
   "metadata": {
    "_cell_guid": "a1ded5ac-fe80-4e77-b027-0dc414b2aa8b",
    "_uuid": "6ab9d44ab726bfe348d4ced50952d4a2ecbad57f"
   },
   "outputs": [
    {
     "data": {
      "text/html": [
       "<div>\n",
       "<style scoped>\n",
       "    .dataframe tbody tr th:only-of-type {\n",
       "        vertical-align: middle;\n",
       "    }\n",
       "\n",
       "    .dataframe tbody tr th {\n",
       "        vertical-align: top;\n",
       "    }\n",
       "\n",
       "    .dataframe thead th {\n",
       "        text-align: right;\n",
       "    }\n",
       "</style>\n",
       "<table border=\"1\" class=\"dataframe\">\n",
       "  <thead>\n",
       "    <tr style=\"text-align: right;\">\n",
       "      <th></th>\n",
       "      <th>name</th>\n",
       "      <th>title</th>\n",
       "      <th>description</th>\n",
       "      <th>main_speaker</th>\n",
       "      <th>speaker_occupation</th>\n",
       "      <th>num_speaker</th>\n",
       "      <th>duration</th>\n",
       "      <th>event</th>\n",
       "      <th>film_date</th>\n",
       "      <th>published_date</th>\n",
       "      <th>...</th>\n",
       "      <th>tags</th>\n",
       "      <th>languages</th>\n",
       "      <th>ratings</th>\n",
       "      <th>related_talks</th>\n",
       "      <th>url</th>\n",
       "      <th>views</th>\n",
       "      <th>dis_quo</th>\n",
       "      <th>month</th>\n",
       "      <th>day</th>\n",
       "      <th>year</th>\n",
       "    </tr>\n",
       "  </thead>\n",
       "  <tbody>\n",
       "    <tr>\n",
       "      <th>640</th>\n",
       "      <td>Douglas Adams: Parrots, the universe and every...</td>\n",
       "      <td>Parrots, the universe and everything</td>\n",
       "      <td>Blind river dolphins, reclusive lemurs, a parr...</td>\n",
       "      <td>Douglas Adams</td>\n",
       "      <td>Author, satirist</td>\n",
       "      <td>1</td>\n",
       "      <td>87.6</td>\n",
       "      <td>University of California</td>\n",
       "      <td>15-05-2001</td>\n",
       "      <td>16-03-2010</td>\n",
       "      <td>...</td>\n",
       "      <td>[biodiversity, biology, comedy, humor, life, r...</td>\n",
       "      <td>0</td>\n",
       "      <td>[{'id': 22, 'name': 'Fascinating', 'count': 29...</td>\n",
       "      <td>[{'id': 635, 'hero': 'https://pe.tedcdn.com/im...</td>\n",
       "      <td>https://www.ted.com/talks/douglas_adams_parrot...</td>\n",
       "      <td>473220</td>\n",
       "      <td>0.000213</td>\n",
       "      <td>May</td>\n",
       "      <td>Tue</td>\n",
       "      <td>2001</td>\n",
       "    </tr>\n",
       "  </tbody>\n",
       "</table>\n",
       "<p>1 rows \u00d7 21 columns</p>\n",
       "</div>"
      ],
      "text/plain": [
       "                                                  name  \\\n",
       "640  Douglas Adams: Parrots, the universe and every...   \n",
       "\n",
       "                                    title  \\\n",
       "640  Parrots, the universe and everything   \n",
       "\n",
       "                                           description   main_speaker  \\\n",
       "640  Blind river dolphins, reclusive lemurs, a parr...  Douglas Adams   \n",
       "\n",
       "    speaker_occupation  num_speaker  duration                     event  \\\n",
       "640   Author, satirist            1      87.6  University of California   \n",
       "\n",
       "      film_date published_date  ...  \\\n",
       "640  15-05-2001     16-03-2010  ...   \n",
       "\n",
       "                                                  tags languages  \\\n",
       "640  [biodiversity, biology, comedy, humor, life, r...         0   \n",
       "\n",
       "                                               ratings  \\\n",
       "640  [{'id': 22, 'name': 'Fascinating', 'count': 29...   \n",
       "\n",
       "                                         related_talks  \\\n",
       "640  [{'id': 635, 'hero': 'https://pe.tedcdn.com/im...   \n",
       "\n",
       "                                                   url   views   dis_quo  \\\n",
       "640  https://www.ted.com/talks/douglas_adams_parrot...  473220  0.000213   \n",
       "\n",
       "     month  day  year  \n",
       "640    May  Tue  2001  \n",
       "\n",
       "[1 rows x 21 columns]"
      ]
     },
     "execution_count": 56,
     "metadata": {},
     "output_type": "execute_result"
    }
   ],
   "source": [
    "df[df['duration'] == 87.6]"
   ]
  },
  {
   "cell_type": "markdown",
   "metadata": {
    "_cell_guid": "7c2867eb-30fc-4abd-9582-5ba91bd61a89",
    "_uuid": "686b312d6eb260264f8874c42a0883bb6b442207"
   },
   "source": [
    "The shortest talk was at TED2007 titled **The ancestor of language** by Murray Gell-Mann. The longest talk on TED.com, as we had guessed, is not a TED Talk at all. Rather, it was a talk titled **Parrots, the universe and everything** delivered by Douglas Adams at the University of California in 2001.\n",
    "\n",
    "Let us now check for any correlation between the popularity and the duration of a TED Talk. To make sure we only include TED Talks, we will consider only those talks which have a duration less than 25 minutes."
   ]
  },
  {
   "cell_type": "code",
   "execution_count": 57,
   "metadata": {
    "_cell_guid": "54062605-0347-4049-885a-02b88845918a",
    "_uuid": "0e4d5655e2bc2f62d321426b5e9ad7e0c19f3fae"
   },
   "outputs": [],
   "source": [
    "# ALEX: remove plotting\n",
    "# sns.jointplot(x='duration', y='views', data=df[df['duration'] < 25])\n",
    "# plt.xlabel('Duration')\n",
    "# plt.ylabel('Views')\n",
    "# plt.show()\n",
    "_ = df[df['duration'] < 25]"
   ]
  },
  {
   "cell_type": "markdown",
   "metadata": {
    "_cell_guid": "f4d35a4b-c1d3-4782-8217-01563bb4f6e2",
    "_uuid": "41a63f059e2fc1fec4fdc43b1a9e04cb6acdf3e3"
   },
   "source": [
    "There seems to be almost no correlation between these two quantities. This strongly suggests that **there is no tangible correlation between the length and the popularity of a TED Talk**. Content is king at TED.\n",
    "\n",
    "Next, we look at transcripts to get an idea of word count. For this, we introduce our second dataset, the one which contains all transcripts."
   ]
  },
  {
   "cell_type": "code",
   "execution_count": 58,
   "metadata": {
    "_cell_guid": "7ee3ad5b-6ae7-4e2c-9f67-a34e89b3bdf4",
    "_uuid": "e7eb5b32ab793da00fbdb79d51556809b1a8b62e"
   },
   "outputs": [
    {
     "data": {
      "text/html": [
       "<div>\n",
       "<style scoped>\n",
       "    .dataframe tbody tr th:only-of-type {\n",
       "        vertical-align: middle;\n",
       "    }\n",
       "\n",
       "    .dataframe tbody tr th {\n",
       "        vertical-align: top;\n",
       "    }\n",
       "\n",
       "    .dataframe thead th {\n",
       "        text-align: right;\n",
       "    }\n",
       "</style>\n",
       "<table border=\"1\" class=\"dataframe\">\n",
       "  <thead>\n",
       "    <tr style=\"text-align: right;\">\n",
       "      <th></th>\n",
       "      <th>transcript</th>\n",
       "      <th>url</th>\n",
       "    </tr>\n",
       "  </thead>\n",
       "  <tbody>\n",
       "    <tr>\n",
       "      <th>0</th>\n",
       "      <td>Good morning. How are you?(Laughter)It's been ...</td>\n",
       "      <td>https://www.ted.com/talks/ken_robinson_says_sc...</td>\n",
       "    </tr>\n",
       "    <tr>\n",
       "      <th>1</th>\n",
       "      <td>Thank you so much, Chris. And it's truly a gre...</td>\n",
       "      <td>https://www.ted.com/talks/al_gore_on_averting_...</td>\n",
       "    </tr>\n",
       "    <tr>\n",
       "      <th>2</th>\n",
       "      <td>(Music: \"The Sound of Silence,\" Simon &amp; Garfun...</td>\n",
       "      <td>https://www.ted.com/talks/david_pogue_says_sim...</td>\n",
       "    </tr>\n",
       "    <tr>\n",
       "      <th>3</th>\n",
       "      <td>If you're here today \u2014 and I'm very happy that...</td>\n",
       "      <td>https://www.ted.com/talks/majora_carter_s_tale...</td>\n",
       "    </tr>\n",
       "    <tr>\n",
       "      <th>4</th>\n",
       "      <td>About 10 years ago, I took on the task to teac...</td>\n",
       "      <td>https://www.ted.com/talks/hans_rosling_shows_t...</td>\n",
       "    </tr>\n",
       "  </tbody>\n",
       "</table>\n",
       "</div>"
      ],
      "text/plain": [
       "                                          transcript  \\\n",
       "0  Good morning. How are you?(Laughter)It's been ...   \n",
       "1  Thank you so much, Chris. And it's truly a gre...   \n",
       "2  (Music: \"The Sound of Silence,\" Simon & Garfun...   \n",
       "3  If you're here today \u2014 and I'm very happy that...   \n",
       "4  About 10 years ago, I took on the task to teac...   \n",
       "\n",
       "                                                 url  \n",
       "0  https://www.ted.com/talks/ken_robinson_says_sc...  \n",
       "1  https://www.ted.com/talks/al_gore_on_averting_...  \n",
       "2  https://www.ted.com/talks/david_pogue_says_sim...  \n",
       "3  https://www.ted.com/talks/majora_carter_s_tale...  \n",
       "4  https://www.ted.com/talks/hans_rosling_shows_t...  "
      ]
     },
     "execution_count": 58,
     "metadata": {},
     "output_type": "execute_result"
    }
   ],
   "source": [
    "df2 = pd.read_csv('./input/transcripts.scaled.csv')\n",
    "df2.head()"
   ]
  },
  {
   "cell_type": "code",
   "execution_count": 59,
   "metadata": {
    "_cell_guid": "f08cf247-56fb-4de6-9fd7-a24af84552e4",
    "_uuid": "4f4d3df0d3ef1d3277d82c7f04e4acf63d0e22db"
   },
   "outputs": [
    {
     "data": {
      "text/plain": [
       "2467"
      ]
     },
     "execution_count": 59,
     "metadata": {},
     "output_type": "execute_result"
    }
   ],
   "source": [
    "len(df2)"
   ]
  },
  {
   "cell_type": "markdown",
   "metadata": {
    "_cell_guid": "c4d036cb-74b9-4129-a48c-62b3d5c39135",
    "_uuid": "43c342edcc5237524ef8821b2f700f1d9c2cffbf"
   },
   "source": [
    "It seems that we have data available for 2467 talks. Let us perform a join of the two dataframes on the url feature to include word counts for every talk."
   ]
  },
  {
   "cell_type": "code",
   "execution_count": 60,
   "metadata": {
    "_cell_guid": "65392ed8-9841-4ea4-a3a6-dcc5fbdea463",
    "_uuid": "60370ef916cc16fa2ea2c2a4e5bd953cdbaf2c2f"
   },
   "outputs": [
    {
     "data": {
      "text/html": [
       "<div>\n",
       "<style scoped>\n",
       "    .dataframe tbody tr th:only-of-type {\n",
       "        vertical-align: middle;\n",
       "    }\n",
       "\n",
       "    .dataframe tbody tr th {\n",
       "        vertical-align: top;\n",
       "    }\n",
       "\n",
       "    .dataframe thead th {\n",
       "        text-align: right;\n",
       "    }\n",
       "</style>\n",
       "<table border=\"1\" class=\"dataframe\">\n",
       "  <thead>\n",
       "    <tr style=\"text-align: right;\">\n",
       "      <th></th>\n",
       "      <th>name</th>\n",
       "      <th>title</th>\n",
       "      <th>description</th>\n",
       "      <th>main_speaker</th>\n",
       "      <th>speaker_occupation</th>\n",
       "      <th>num_speaker</th>\n",
       "      <th>duration</th>\n",
       "      <th>event</th>\n",
       "      <th>film_date</th>\n",
       "      <th>published_date</th>\n",
       "      <th>...</th>\n",
       "      <th>languages</th>\n",
       "      <th>ratings</th>\n",
       "      <th>related_talks</th>\n",
       "      <th>url</th>\n",
       "      <th>views</th>\n",
       "      <th>dis_quo</th>\n",
       "      <th>month</th>\n",
       "      <th>day</th>\n",
       "      <th>year</th>\n",
       "      <th>transcript</th>\n",
       "    </tr>\n",
       "  </thead>\n",
       "  <tbody>\n",
       "    <tr>\n",
       "      <th>0</th>\n",
       "      <td>Ken Robinson: Do schools kill creativity?</td>\n",
       "      <td>Do schools kill creativity?</td>\n",
       "      <td>Sir Ken Robinson makes an entertaining and pro...</td>\n",
       "      <td>Ken Robinson</td>\n",
       "      <td>Author/educator</td>\n",
       "      <td>1</td>\n",
       "      <td>19.400000</td>\n",
       "      <td>TED2006</td>\n",
       "      <td>24-02-2006</td>\n",
       "      <td>26-06-2006</td>\n",
       "      <td>...</td>\n",
       "      <td>60</td>\n",
       "      <td>[{'id': 7, 'name': 'Funny', 'count': 19645}, {...</td>\n",
       "      <td>[{'id': 865, 'hero': 'https://pe.tedcdn.com/im...</td>\n",
       "      <td>https://www.ted.com/talks/ken_robinson_says_sc...</td>\n",
       "      <td>47227110</td>\n",
       "      <td>0.000096</td>\n",
       "      <td>Feb</td>\n",
       "      <td>Fri</td>\n",
       "      <td>2006</td>\n",
       "      <td>Good morning. How are you?(Laughter)It's been ...</td>\n",
       "    </tr>\n",
       "    <tr>\n",
       "      <th>1</th>\n",
       "      <td>Al Gore: Averting the climate crisis</td>\n",
       "      <td>Averting the climate crisis</td>\n",
       "      <td>With the same humor and humanity he exuded in ...</td>\n",
       "      <td>Al Gore</td>\n",
       "      <td>Climate advocate</td>\n",
       "      <td>1</td>\n",
       "      <td>16.283333</td>\n",
       "      <td>TED2006</td>\n",
       "      <td>24-02-2006</td>\n",
       "      <td>26-06-2006</td>\n",
       "      <td>...</td>\n",
       "      <td>43</td>\n",
       "      <td>[{'id': 7, 'name': 'Funny', 'count': 544}, {'i...</td>\n",
       "      <td>[{'id': 243, 'hero': 'https://pe.tedcdn.com/im...</td>\n",
       "      <td>https://www.ted.com/talks/al_gore_on_averting_...</td>\n",
       "      <td>3200520</td>\n",
       "      <td>0.000083</td>\n",
       "      <td>Feb</td>\n",
       "      <td>Fri</td>\n",
       "      <td>2006</td>\n",
       "      <td>Thank you so much, Chris. And it's truly a gre...</td>\n",
       "    </tr>\n",
       "    <tr>\n",
       "      <th>2</th>\n",
       "      <td>David Pogue: Simplicity sells</td>\n",
       "      <td>Simplicity sells</td>\n",
       "      <td>New York Times columnist David Pogue takes aim...</td>\n",
       "      <td>David Pogue</td>\n",
       "      <td>Technology columnist</td>\n",
       "      <td>1</td>\n",
       "      <td>21.433333</td>\n",
       "      <td>TED2006</td>\n",
       "      <td>23-02-2006</td>\n",
       "      <td>26-06-2006</td>\n",
       "      <td>...</td>\n",
       "      <td>26</td>\n",
       "      <td>[{'id': 7, 'name': 'Funny', 'count': 964}, {'i...</td>\n",
       "      <td>[{'id': 1725, 'hero': 'https://pe.tedcdn.com/i...</td>\n",
       "      <td>https://www.ted.com/talks/david_pogue_says_sim...</td>\n",
       "      <td>1636292</td>\n",
       "      <td>0.000076</td>\n",
       "      <td>Feb</td>\n",
       "      <td>Thu</td>\n",
       "      <td>2006</td>\n",
       "      <td>(Music: \"The Sound of Silence,\" Simon &amp; Garfun...</td>\n",
       "    </tr>\n",
       "    <tr>\n",
       "      <th>3</th>\n",
       "      <td>Majora Carter: Greening the ghetto</td>\n",
       "      <td>Greening the ghetto</td>\n",
       "      <td>In an emotionally charged talk, MacArthur-winn...</td>\n",
       "      <td>Majora Carter</td>\n",
       "      <td>Activist for environmental justice</td>\n",
       "      <td>1</td>\n",
       "      <td>18.600000</td>\n",
       "      <td>TED2006</td>\n",
       "      <td>25-02-2006</td>\n",
       "      <td>26-06-2006</td>\n",
       "      <td>...</td>\n",
       "      <td>35</td>\n",
       "      <td>[{'id': 3, 'name': 'Courageous', 'count': 760}...</td>\n",
       "      <td>[{'id': 1041, 'hero': 'https://pe.tedcdn.com/i...</td>\n",
       "      <td>https://www.ted.com/talks/majora_carter_s_tale...</td>\n",
       "      <td>1697550</td>\n",
       "      <td>0.000118</td>\n",
       "      <td>Feb</td>\n",
       "      <td>Sat</td>\n",
       "      <td>2006</td>\n",
       "      <td>If you're here today \u2014 and I'm very happy that...</td>\n",
       "    </tr>\n",
       "    <tr>\n",
       "      <th>4</th>\n",
       "      <td>Hans Rosling: The best stats you've ever seen</td>\n",
       "      <td>The best stats you've ever seen</td>\n",
       "      <td>You've never seen data presented like this. Wi...</td>\n",
       "      <td>Hans Rosling</td>\n",
       "      <td>Global health expert; data visionary</td>\n",
       "      <td>1</td>\n",
       "      <td>19.833333</td>\n",
       "      <td>TED2006</td>\n",
       "      <td>21-02-2006</td>\n",
       "      <td>27-06-2006</td>\n",
       "      <td>...</td>\n",
       "      <td>48</td>\n",
       "      <td>[{'id': 9, 'name': 'Ingenious', 'count': 3202}...</td>\n",
       "      <td>[{'id': 2056, 'hero': 'https://pe.tedcdn.com/i...</td>\n",
       "      <td>https://www.ted.com/talks/hans_rosling_shows_t...</td>\n",
       "      <td>12005869</td>\n",
       "      <td>0.000049</td>\n",
       "      <td>Feb</td>\n",
       "      <td>Tue</td>\n",
       "      <td>2006</td>\n",
       "      <td>About 10 years ago, I took on the task to teac...</td>\n",
       "    </tr>\n",
       "  </tbody>\n",
       "</table>\n",
       "<p>5 rows \u00d7 22 columns</p>\n",
       "</div>"
      ],
      "text/plain": [
       "                                            name  \\\n",
       "0      Ken Robinson: Do schools kill creativity?   \n",
       "1           Al Gore: Averting the climate crisis   \n",
       "2                  David Pogue: Simplicity sells   \n",
       "3             Majora Carter: Greening the ghetto   \n",
       "4  Hans Rosling: The best stats you've ever seen   \n",
       "\n",
       "                             title  \\\n",
       "0      Do schools kill creativity?   \n",
       "1      Averting the climate crisis   \n",
       "2                 Simplicity sells   \n",
       "3              Greening the ghetto   \n",
       "4  The best stats you've ever seen   \n",
       "\n",
       "                                         description   main_speaker  \\\n",
       "0  Sir Ken Robinson makes an entertaining and pro...   Ken Robinson   \n",
       "1  With the same humor and humanity he exuded in ...        Al Gore   \n",
       "2  New York Times columnist David Pogue takes aim...    David Pogue   \n",
       "3  In an emotionally charged talk, MacArthur-winn...  Majora Carter   \n",
       "4  You've never seen data presented like this. Wi...   Hans Rosling   \n",
       "\n",
       "                     speaker_occupation  num_speaker   duration    event  \\\n",
       "0                       Author/educator            1  19.400000  TED2006   \n",
       "1                      Climate advocate            1  16.283333  TED2006   \n",
       "2                  Technology columnist            1  21.433333  TED2006   \n",
       "3    Activist for environmental justice            1  18.600000  TED2006   \n",
       "4  Global health expert; data visionary            1  19.833333  TED2006   \n",
       "\n",
       "    film_date published_date  ...  languages  \\\n",
       "0  24-02-2006     26-06-2006  ...         60   \n",
       "1  24-02-2006     26-06-2006  ...         43   \n",
       "2  23-02-2006     26-06-2006  ...         26   \n",
       "3  25-02-2006     26-06-2006  ...         35   \n",
       "4  21-02-2006     27-06-2006  ...         48   \n",
       "\n",
       "                                             ratings  \\\n",
       "0  [{'id': 7, 'name': 'Funny', 'count': 19645}, {...   \n",
       "1  [{'id': 7, 'name': 'Funny', 'count': 544}, {'i...   \n",
       "2  [{'id': 7, 'name': 'Funny', 'count': 964}, {'i...   \n",
       "3  [{'id': 3, 'name': 'Courageous', 'count': 760}...   \n",
       "4  [{'id': 9, 'name': 'Ingenious', 'count': 3202}...   \n",
       "\n",
       "                                       related_talks  \\\n",
       "0  [{'id': 865, 'hero': 'https://pe.tedcdn.com/im...   \n",
       "1  [{'id': 243, 'hero': 'https://pe.tedcdn.com/im...   \n",
       "2  [{'id': 1725, 'hero': 'https://pe.tedcdn.com/i...   \n",
       "3  [{'id': 1041, 'hero': 'https://pe.tedcdn.com/i...   \n",
       "4  [{'id': 2056, 'hero': 'https://pe.tedcdn.com/i...   \n",
       "\n",
       "                                                 url     views   dis_quo  \\\n",
       "0  https://www.ted.com/talks/ken_robinson_says_sc...  47227110  0.000096   \n",
       "1  https://www.ted.com/talks/al_gore_on_averting_...   3200520  0.000083   \n",
       "2  https://www.ted.com/talks/david_pogue_says_sim...   1636292  0.000076   \n",
       "3  https://www.ted.com/talks/majora_carter_s_tale...   1697550  0.000118   \n",
       "4  https://www.ted.com/talks/hans_rosling_shows_t...  12005869  0.000049   \n",
       "\n",
       "   month  day  year                                         transcript  \n",
       "0    Feb  Fri  2006  Good morning. How are you?(Laughter)It's been ...  \n",
       "1    Feb  Fri  2006  Thank you so much, Chris. And it's truly a gre...  \n",
       "2    Feb  Thu  2006  (Music: \"The Sound of Silence,\" Simon & Garfun...  \n",
       "3    Feb  Sat  2006  If you're here today \u2014 and I'm very happy that...  \n",
       "4    Feb  Tue  2006  About 10 years ago, I took on the task to teac...  \n",
       "\n",
       "[5 rows x 22 columns]"
      ]
     },
     "execution_count": 60,
     "metadata": {},
     "output_type": "execute_result"
    }
   ],
   "source": [
    "df3 = pd.merge(left=df,right=df2, how='left', left_on='url', right_on='url')\n",
    "df3.head()"
   ]
  },
  {
   "cell_type": "code",
   "execution_count": 61,
   "metadata": {
    "_cell_guid": "c76fc3d8-4abd-4c90-94b7-a8ae96351b62",
    "_uuid": "59ae5eae42f66beb64108c2e6c673e5589185f01"
   },
   "outputs": [],
   "source": [
    "df3['transcript'] = df3['transcript'].fillna('')\n",
    "df3['wc'] = df3['transcript'].apply(lambda x: len(x.split()))"
   ]
  },
  {
   "cell_type": "code",
   "execution_count": 62,
   "metadata": {
    "_cell_guid": "26f19237-8b99-477b-8a96-6ffa2b1e1024",
    "_uuid": "806c63a237ecb16c6f393f7feff63ad8d195ba2a"
   },
   "outputs": [
    {
     "data": {
      "text/plain": [
       "count    2553.000000\n",
       "mean     1971.550725\n",
       "std      1009.494329\n",
       "min         0.000000\n",
       "25%      1235.000000\n",
       "50%      1983.000000\n",
       "75%      2681.000000\n",
       "max      9044.000000\n",
       "Name: wc, dtype: float64"
      ]
     },
     "execution_count": 62,
     "metadata": {},
     "output_type": "execute_result"
    }
   ],
   "source": [
    "df3['wc'].describe()"
   ]
  },
  {
   "cell_type": "markdown",
   "metadata": {
    "_cell_guid": "4d6de106-356d-4824-9ddc-102125a04bef",
    "_uuid": "8828fb0094841520607c7667d927b9582a6ac2f4"
   },
   "source": [
    "We can see that the average TED Talk has around **1971 words** and there is a significantly large standard deviation of a **1009 words**. The longest talk is more than **9044 words** in length.\n",
    "\n",
    "Like duration, there shouldn't be any correlation between number of words and views. We will proceed to look at a more interesting statstic: **the number of words per minute.**"
   ]
  },
  {
   "cell_type": "code",
   "execution_count": 63,
   "metadata": {
    "_cell_guid": "d7d15856-d486-4d2b-9818-0b4e694fd928",
    "_uuid": "3a720a13e9a3f9deb0fe9d2a844597801054e353"
   },
   "outputs": [
    {
     "data": {
      "text/plain": [
       "count    2553.000000\n",
       "mean      142.147752\n",
       "std        39.635348\n",
       "min         0.000000\n",
       "25%       131.069182\n",
       "50%       149.018182\n",
       "75%       164.984615\n",
       "max       247.364865\n",
       "Name: wpm, dtype: float64"
      ]
     },
     "execution_count": 63,
     "metadata": {},
     "output_type": "execute_result"
    }
   ],
   "source": [
    "df3['wpm'] = df3['wc']/df3['duration']\n",
    "df3['wpm'].describe()"
   ]
  },
  {
   "cell_type": "markdown",
   "metadata": {
    "_cell_guid": "e0a8d78c-b6b3-47b0-b2d6-c88b04642934",
    "_uuid": "28a0452ee1e2b509f6d79c980a7332e774061363"
   },
   "source": [
    "The average TED Speaker enunciates **142 words per minute**. The fastest talker spoke a staggering **247 words a minute** which is much higher than the average of 125-150 words per minute in English. Let us see who this is!\n"
   ]
  },
  {
   "cell_type": "code",
   "execution_count": 64,
   "metadata": {
    "_cell_guid": "88a0be92-c5d0-476f-b35a-3d9b06e51dfa",
    "_uuid": "37c9832a294cbc0785e7c7d0f935b8e406457d8f"
   },
   "outputs": [
    {
     "data": {
      "text/html": [
       "<div>\n",
       "<style scoped>\n",
       "    .dataframe tbody tr th:only-of-type {\n",
       "        vertical-align: middle;\n",
       "    }\n",
       "\n",
       "    .dataframe tbody tr th {\n",
       "        vertical-align: top;\n",
       "    }\n",
       "\n",
       "    .dataframe thead th {\n",
       "        text-align: right;\n",
       "    }\n",
       "</style>\n",
       "<table border=\"1\" class=\"dataframe\">\n",
       "  <thead>\n",
       "    <tr style=\"text-align: right;\">\n",
       "      <th></th>\n",
       "      <th>name</th>\n",
       "      <th>title</th>\n",
       "      <th>description</th>\n",
       "      <th>main_speaker</th>\n",
       "      <th>speaker_occupation</th>\n",
       "      <th>num_speaker</th>\n",
       "      <th>duration</th>\n",
       "      <th>event</th>\n",
       "      <th>film_date</th>\n",
       "      <th>published_date</th>\n",
       "      <th>...</th>\n",
       "      <th>related_talks</th>\n",
       "      <th>url</th>\n",
       "      <th>views</th>\n",
       "      <th>dis_quo</th>\n",
       "      <th>month</th>\n",
       "      <th>day</th>\n",
       "      <th>year</th>\n",
       "      <th>transcript</th>\n",
       "      <th>wc</th>\n",
       "      <th>wpm</th>\n",
       "    </tr>\n",
       "  </thead>\n",
       "  <tbody>\n",
       "    <tr>\n",
       "      <th>441</th>\n",
       "      <td>Mae Jemison: Teach arts and sciences together</td>\n",
       "      <td>Teach arts and sciences together</td>\n",
       "      <td>Mae Jemison is an astronaut, a doctor, an art ...</td>\n",
       "      <td>Mae Jemison</td>\n",
       "      <td>Astronaut, engineer, entrepreneur, physician a...</td>\n",
       "      <td>1</td>\n",
       "      <td>14.8</td>\n",
       "      <td>TED2002</td>\n",
       "      <td>01-02-2002</td>\n",
       "      <td>04-05-2009</td>\n",
       "      <td>...</td>\n",
       "      <td>[{'id': 66, 'hero': 'https://pe.tedcdn.com/ima...</td>\n",
       "      <td>https://www.ted.com/talks/mae_jemison_on_teach...</td>\n",
       "      <td>744257</td>\n",
       "      <td>0.000133</td>\n",
       "      <td>Feb</td>\n",
       "      <td>Fri</td>\n",
       "      <td>2002</td>\n",
       "      <td>What I want to do today is to spend some time ...</td>\n",
       "      <td>3661</td>\n",
       "      <td>247.364865</td>\n",
       "    </tr>\n",
       "  </tbody>\n",
       "</table>\n",
       "<p>1 rows \u00d7 24 columns</p>\n",
       "</div>"
      ],
      "text/plain": [
       "                                              name  \\\n",
       "441  Mae Jemison: Teach arts and sciences together   \n",
       "\n",
       "                                title  \\\n",
       "441  Teach arts and sciences together   \n",
       "\n",
       "                                           description main_speaker  \\\n",
       "441  Mae Jemison is an astronaut, a doctor, an art ...  Mae Jemison   \n",
       "\n",
       "                                    speaker_occupation  num_speaker  duration  \\\n",
       "441  Astronaut, engineer, entrepreneur, physician a...            1      14.8   \n",
       "\n",
       "       event   film_date published_date  ...  \\\n",
       "441  TED2002  01-02-2002     04-05-2009  ...   \n",
       "\n",
       "                                         related_talks  \\\n",
       "441  [{'id': 66, 'hero': 'https://pe.tedcdn.com/ima...   \n",
       "\n",
       "                                                   url   views   dis_quo  \\\n",
       "441  https://www.ted.com/talks/mae_jemison_on_teach...  744257  0.000133   \n",
       "\n",
       "    month  day  year                                         transcript    wc  \\\n",
       "441   Feb  Fri  2002  What I want to do today is to spend some time ...  3661   \n",
       "\n",
       "            wpm  \n",
       "441  247.364865  \n",
       "\n",
       "[1 rows x 24 columns]"
      ]
     },
     "execution_count": 64,
     "metadata": {},
     "output_type": "execute_result"
    }
   ],
   "source": [
    "df3[df3['wpm'] > 245]"
   ]
  },
  {
   "cell_type": "markdown",
   "metadata": {
    "_cell_guid": "20387d38-d575-4344-addd-f0ac7291bb65",
    "_uuid": "b7486c036f4582dc7b734759a463150a8e36911c"
   },
   "source": [
    "The person is **Mae Jemison** with a talk on **Teach arts and sciences together** at the TED2002 conference. We should take this result with a pinch of salt because I went ahead and had a look at the talk and she didn't really seem to speak that fast.\n",
    "\n",
    "Finally, in this section, I'd like to see if there is any correlation between words per minute and popularity. "
   ]
  },
  {
   "cell_type": "code",
   "execution_count": 65,
   "metadata": {
    "_cell_guid": "402a94eb-c301-44be-aa7b-bd3f23a13bd6",
    "_uuid": "f3cbb406cf66def0271516b9a1246127a513a5c2"
   },
   "outputs": [],
   "source": [
    "# ALEX: remove plotting\n",
    "# sns.jointplot(x='wpm', y='views', data=df3[df3['duration'] < 25])\n",
    "# plt.show()\n",
    "_ = df3[df3['duration'] < 25]"
   ]
  },
  {
   "cell_type": "markdown",
   "metadata": {
    "_cell_guid": "9cc96fcc-cbc9-4a2f-825c-563eb3207c7b",
    "_uuid": "2d998d5568945d1a832442d12ecc70f8c4459fa6"
   },
   "source": [
    "Again, there is practically no correlation. If you are going to give a TED Talk, you probably shouldn't worry if you're speaking a little faster or a little slower than usual."
   ]
  },
  {
   "cell_type": "markdown",
   "metadata": {
    "_cell_guid": "c8497220-85e4-42ab-8d78-c724ce61ea45",
    "_uuid": "8585ccddd26f804213ee379c3c11c4c0e8fddf55"
   },
   "source": [
    "## TED Ratings\n",
    "\n",
    "TED allows its users to rate a particular talk on a variety of metrics. We therefore have data on how many people found a particular talk funny, inspiring, creative and a myriad of other verbs. Let us inspect how this ratings dictionary actually looks like."
   ]
  },
  {
   "cell_type": "code",
   "execution_count": 66,
   "metadata": {
    "_cell_guid": "0186e0ef-f005-4d25-8a74-9aa6dd5d83e8",
    "_uuid": "b850e4d4b26cfa234020f1822df87f6050a20d23"
   },
   "outputs": [
    {
     "data": {
      "text/plain": [
       "\"[{'id': 7, 'name': 'Funny', 'count': 544}, {'id': 3, 'name': 'Courageous', 'count': 139}, {'id': 2, 'name': 'Confusing', 'count': 62}, {'id': 1, 'name': 'Beautiful', 'count': 58}, {'id': 21, 'name': 'Unconvincing', 'count': 258}, {'id': 11, 'name': 'Longwinded', 'count': 113}, {'id': 8, 'name': 'Informative', 'count': 443}, {'id': 10, 'name': 'Inspiring', 'count': 413}, {'id': 22, 'name': 'Fascinating', 'count': 132}, {'id': 9, 'name': 'Ingenious', 'count': 56}, {'id': 24, 'name': 'Persuasive', 'count': 268}, {'id': 23, 'name': 'Jaw-dropping', 'count': 116}, {'id': 26, 'name': 'Obnoxious', 'count': 131}, {'id': 25, 'name': 'OK', 'count': 203}]\""
      ]
     },
     "execution_count": 66,
     "metadata": {},
     "output_type": "execute_result"
    }
   ],
   "source": [
    "df.iloc[1]['ratings']"
   ]
  },
  {
   "cell_type": "code",
   "execution_count": 67,
   "metadata": {
    "_cell_guid": "9baa5173-ce3b-477d-8bbb-5358c9928403",
    "_uuid": "b5d87cbddeb1262adf3b63f3fd3285ca3b533d00"
   },
   "outputs": [],
   "source": [
    "df['ratings'] = df['ratings'].apply(lambda x: ast.literal_eval(x))"
   ]
  },
  {
   "cell_type": "markdown",
   "metadata": {
    "_cell_guid": "38464e9a-6381-4b23-a51b-98fcea212bee",
    "_uuid": "cb122f50a1fd95d456576a4e0e5e46d2049f2d49"
   },
   "source": [
    "In this section, I want to find out which talks were rated the funniest, the most beautiful, the most confusing and most jaw dropping of all time. The rest is left to the reader to explore. We now need to define three extra features to accomplish this task."
   ]
  },
  {
   "cell_type": "code",
   "execution_count": 68,
   "metadata": {
    "_cell_guid": "7f0c0563-e5ee-4b4f-8d33-35dc891824b0",
    "_uuid": "a271a306d72fd864bbcd20529d54b1a5c6371b09"
   },
   "outputs": [
    {
     "data": {
      "text/html": [
       "<div>\n",
       "<style scoped>\n",
       "    .dataframe tbody tr th:only-of-type {\n",
       "        vertical-align: middle;\n",
       "    }\n",
       "\n",
       "    .dataframe tbody tr th {\n",
       "        vertical-align: top;\n",
       "    }\n",
       "\n",
       "    .dataframe thead th {\n",
       "        text-align: right;\n",
       "    }\n",
       "</style>\n",
       "<table border=\"1\" class=\"dataframe\">\n",
       "  <thead>\n",
       "    <tr style=\"text-align: right;\">\n",
       "      <th></th>\n",
       "      <th>name</th>\n",
       "      <th>title</th>\n",
       "      <th>description</th>\n",
       "      <th>main_speaker</th>\n",
       "      <th>speaker_occupation</th>\n",
       "      <th>num_speaker</th>\n",
       "      <th>duration</th>\n",
       "      <th>event</th>\n",
       "      <th>film_date</th>\n",
       "      <th>published_date</th>\n",
       "      <th>...</th>\n",
       "      <th>url</th>\n",
       "      <th>views</th>\n",
       "      <th>dis_quo</th>\n",
       "      <th>month</th>\n",
       "      <th>day</th>\n",
       "      <th>year</th>\n",
       "      <th>funny</th>\n",
       "      <th>jawdrop</th>\n",
       "      <th>beautiful</th>\n",
       "      <th>confusing</th>\n",
       "    </tr>\n",
       "  </thead>\n",
       "  <tbody>\n",
       "    <tr>\n",
       "      <th>0</th>\n",
       "      <td>Ken Robinson: Do schools kill creativity?</td>\n",
       "      <td>Do schools kill creativity?</td>\n",
       "      <td>Sir Ken Robinson makes an entertaining and pro...</td>\n",
       "      <td>Ken Robinson</td>\n",
       "      <td>Author/educator</td>\n",
       "      <td>1</td>\n",
       "      <td>19.400000</td>\n",
       "      <td>TED2006</td>\n",
       "      <td>24-02-2006</td>\n",
       "      <td>26-06-2006</td>\n",
       "      <td>...</td>\n",
       "      <td>https://www.ted.com/talks/ken_robinson_says_sc...</td>\n",
       "      <td>47227110</td>\n",
       "      <td>0.000096</td>\n",
       "      <td>Feb</td>\n",
       "      <td>Fri</td>\n",
       "      <td>2006</td>\n",
       "      <td>19645</td>\n",
       "      <td>1174</td>\n",
       "      <td>3253</td>\n",
       "      <td>6073</td>\n",
       "    </tr>\n",
       "    <tr>\n",
       "      <th>1</th>\n",
       "      <td>Al Gore: Averting the climate crisis</td>\n",
       "      <td>Averting the climate crisis</td>\n",
       "      <td>With the same humor and humanity he exuded in ...</td>\n",
       "      <td>Al Gore</td>\n",
       "      <td>Climate advocate</td>\n",
       "      <td>1</td>\n",
       "      <td>16.283333</td>\n",
       "      <td>TED2006</td>\n",
       "      <td>24-02-2006</td>\n",
       "      <td>26-06-2006</td>\n",
       "      <td>...</td>\n",
       "      <td>https://www.ted.com/talks/al_gore_on_averting_...</td>\n",
       "      <td>3200520</td>\n",
       "      <td>0.000083</td>\n",
       "      <td>Feb</td>\n",
       "      <td>Fri</td>\n",
       "      <td>2006</td>\n",
       "      <td>544</td>\n",
       "      <td>116</td>\n",
       "      <td>58</td>\n",
       "      <td>62</td>\n",
       "    </tr>\n",
       "    <tr>\n",
       "      <th>2</th>\n",
       "      <td>David Pogue: Simplicity sells</td>\n",
       "      <td>Simplicity sells</td>\n",
       "      <td>New York Times columnist David Pogue takes aim...</td>\n",
       "      <td>David Pogue</td>\n",
       "      <td>Technology columnist</td>\n",
       "      <td>1</td>\n",
       "      <td>21.433333</td>\n",
       "      <td>TED2006</td>\n",
       "      <td>23-02-2006</td>\n",
       "      <td>26-06-2006</td>\n",
       "      <td>...</td>\n",
       "      <td>https://www.ted.com/talks/david_pogue_says_sim...</td>\n",
       "      <td>1636292</td>\n",
       "      <td>0.000076</td>\n",
       "      <td>Feb</td>\n",
       "      <td>Thu</td>\n",
       "      <td>2006</td>\n",
       "      <td>964</td>\n",
       "      <td>230</td>\n",
       "      <td>60</td>\n",
       "      <td>183</td>\n",
       "    </tr>\n",
       "    <tr>\n",
       "      <th>3</th>\n",
       "      <td>Majora Carter: Greening the ghetto</td>\n",
       "      <td>Greening the ghetto</td>\n",
       "      <td>In an emotionally charged talk, MacArthur-winn...</td>\n",
       "      <td>Majora Carter</td>\n",
       "      <td>Activist for environmental justice</td>\n",
       "      <td>1</td>\n",
       "      <td>18.600000</td>\n",
       "      <td>TED2006</td>\n",
       "      <td>25-02-2006</td>\n",
       "      <td>26-06-2006</td>\n",
       "      <td>...</td>\n",
       "      <td>https://www.ted.com/talks/majora_carter_s_tale...</td>\n",
       "      <td>1697550</td>\n",
       "      <td>0.000118</td>\n",
       "      <td>Feb</td>\n",
       "      <td>Sat</td>\n",
       "      <td>2006</td>\n",
       "      <td>760</td>\n",
       "      <td>230</td>\n",
       "      <td>59</td>\n",
       "      <td>32</td>\n",
       "    </tr>\n",
       "    <tr>\n",
       "      <th>4</th>\n",
       "      <td>Hans Rosling: The best stats you've ever seen</td>\n",
       "      <td>The best stats you've ever seen</td>\n",
       "      <td>You've never seen data presented like this. Wi...</td>\n",
       "      <td>Hans Rosling</td>\n",
       "      <td>Global health expert; data visionary</td>\n",
       "      <td>1</td>\n",
       "      <td>19.833333</td>\n",
       "      <td>TED2006</td>\n",
       "      <td>21-02-2006</td>\n",
       "      <td>27-06-2006</td>\n",
       "      <td>...</td>\n",
       "      <td>https://www.ted.com/talks/hans_rosling_shows_t...</td>\n",
       "      <td>12005869</td>\n",
       "      <td>0.000049</td>\n",
       "      <td>Feb</td>\n",
       "      <td>Tue</td>\n",
       "      <td>2006</td>\n",
       "      <td>3202</td>\n",
       "      <td>2542</td>\n",
       "      <td>318</td>\n",
       "      <td>942</td>\n",
       "    </tr>\n",
       "  </tbody>\n",
       "</table>\n",
       "<p>5 rows \u00d7 25 columns</p>\n",
       "</div>"
      ],
      "text/plain": [
       "                                            name  \\\n",
       "0      Ken Robinson: Do schools kill creativity?   \n",
       "1           Al Gore: Averting the climate crisis   \n",
       "2                  David Pogue: Simplicity sells   \n",
       "3             Majora Carter: Greening the ghetto   \n",
       "4  Hans Rosling: The best stats you've ever seen   \n",
       "\n",
       "                             title  \\\n",
       "0      Do schools kill creativity?   \n",
       "1      Averting the climate crisis   \n",
       "2                 Simplicity sells   \n",
       "3              Greening the ghetto   \n",
       "4  The best stats you've ever seen   \n",
       "\n",
       "                                         description   main_speaker  \\\n",
       "0  Sir Ken Robinson makes an entertaining and pro...   Ken Robinson   \n",
       "1  With the same humor and humanity he exuded in ...        Al Gore   \n",
       "2  New York Times columnist David Pogue takes aim...    David Pogue   \n",
       "3  In an emotionally charged talk, MacArthur-winn...  Majora Carter   \n",
       "4  You've never seen data presented like this. Wi...   Hans Rosling   \n",
       "\n",
       "                     speaker_occupation  num_speaker   duration    event  \\\n",
       "0                       Author/educator            1  19.400000  TED2006   \n",
       "1                      Climate advocate            1  16.283333  TED2006   \n",
       "2                  Technology columnist            1  21.433333  TED2006   \n",
       "3    Activist for environmental justice            1  18.600000  TED2006   \n",
       "4  Global health expert; data visionary            1  19.833333  TED2006   \n",
       "\n",
       "    film_date published_date  ...  \\\n",
       "0  24-02-2006     26-06-2006  ...   \n",
       "1  24-02-2006     26-06-2006  ...   \n",
       "2  23-02-2006     26-06-2006  ...   \n",
       "3  25-02-2006     26-06-2006  ...   \n",
       "4  21-02-2006     27-06-2006  ...   \n",
       "\n",
       "                                                 url     views   dis_quo  \\\n",
       "0  https://www.ted.com/talks/ken_robinson_says_sc...  47227110  0.000096   \n",
       "1  https://www.ted.com/talks/al_gore_on_averting_...   3200520  0.000083   \n",
       "2  https://www.ted.com/talks/david_pogue_says_sim...   1636292  0.000076   \n",
       "3  https://www.ted.com/talks/majora_carter_s_tale...   1697550  0.000118   \n",
       "4  https://www.ted.com/talks/hans_rosling_shows_t...  12005869  0.000049   \n",
       "\n",
       "  month  day  year  funny  jawdrop beautiful confusing  \n",
       "0   Feb  Fri  2006  19645     1174      3253      6073  \n",
       "1   Feb  Fri  2006    544      116        58        62  \n",
       "2   Feb  Thu  2006    964      230        60       183  \n",
       "3   Feb  Sat  2006    760      230        59        32  \n",
       "4   Feb  Tue  2006   3202     2542       318       942  \n",
       "\n",
       "[5 rows x 25 columns]"
      ]
     },
     "execution_count": 68,
     "metadata": {},
     "output_type": "execute_result"
    }
   ],
   "source": [
    "df['funny'] = df['ratings'].apply(lambda x: x[0]['count'])\n",
    "df['jawdrop'] = df['ratings'].apply(lambda x: x[-3]['count'])\n",
    "df['beautiful'] = df['ratings'].apply(lambda x: x[3]['count'])\n",
    "df['confusing'] = df['ratings'].apply(lambda x: x[2]['count'])\n",
    "df.head()"
   ]
  },
  {
   "cell_type": "markdown",
   "metadata": {
    "_cell_guid": "5d7d00cf-ed6f-4c33-b472-aa5b89747dd7",
    "_uuid": "cdf6924db3c56e0b51aec65659402a0a203a1ce3"
   },
   "source": [
    "### Funniest Talks of all time"
   ]
  },
  {
   "cell_type": "code",
   "execution_count": 69,
   "metadata": {
    "_cell_guid": "67d833e1-4770-49b1-b00e-6556f4b57086",
    "_uuid": "ea7f845428a2b57387fe4b5fb54470e7f2182cb2"
   },
   "outputs": [
    {
     "data": {
      "text/html": [
       "<div>\n",
       "<style scoped>\n",
       "    .dataframe tbody tr th:only-of-type {\n",
       "        vertical-align: middle;\n",
       "    }\n",
       "\n",
       "    .dataframe tbody tr th {\n",
       "        vertical-align: top;\n",
       "    }\n",
       "\n",
       "    .dataframe thead th {\n",
       "        text-align: right;\n",
       "    }\n",
       "</style>\n",
       "<table border=\"1\" class=\"dataframe\">\n",
       "  <thead>\n",
       "    <tr style=\"text-align: right;\">\n",
       "      <th></th>\n",
       "      <th>title</th>\n",
       "      <th>main_speaker</th>\n",
       "      <th>views</th>\n",
       "      <th>published_date</th>\n",
       "      <th>funny</th>\n",
       "    </tr>\n",
       "  </thead>\n",
       "  <tbody>\n",
       "    <tr>\n",
       "      <th>837</th>\n",
       "      <td>The power of vulnerability</td>\n",
       "      <td>Bren\u00e9 Brown</td>\n",
       "      <td>31168150</td>\n",
       "      <td>23-12-2010</td>\n",
       "      <td>21444</td>\n",
       "    </tr>\n",
       "    <tr>\n",
       "      <th>0</th>\n",
       "      <td>Do schools kill creativity?</td>\n",
       "      <td>Ken Robinson</td>\n",
       "      <td>47227110</td>\n",
       "      <td>26-06-2006</td>\n",
       "      <td>19645</td>\n",
       "    </tr>\n",
       "    <tr>\n",
       "      <th>1030</th>\n",
       "      <td>How to live before you die</td>\n",
       "      <td>Steve Jobs</td>\n",
       "      <td>8744428</td>\n",
       "      <td>05-10-2011</td>\n",
       "      <td>17290</td>\n",
       "    </tr>\n",
       "    <tr>\n",
       "      <th>201</th>\n",
       "      <td>My stroke of insight</td>\n",
       "      <td>Jill Bolte Taylor</td>\n",
       "      <td>21190883</td>\n",
       "      <td>11-03-2008</td>\n",
       "      <td>14447</td>\n",
       "    </tr>\n",
       "    <tr>\n",
       "      <th>1129</th>\n",
       "      <td>The happy secret to better work</td>\n",
       "      <td>Shawn Achor</td>\n",
       "      <td>16209727</td>\n",
       "      <td>01-02-2012</td>\n",
       "      <td>11213</td>\n",
       "    </tr>\n",
       "    <tr>\n",
       "      <th>1940</th>\n",
       "      <td>The price of shame</td>\n",
       "      <td>Monica Lewinsky</td>\n",
       "      <td>11443190</td>\n",
       "      <td>20-03-2015</td>\n",
       "      <td>8668</td>\n",
       "    </tr>\n",
       "    <tr>\n",
       "      <th>2109</th>\n",
       "      <td>What makes a good life? Lessons from the longe...</td>\n",
       "      <td>Robert Waldinger</td>\n",
       "      <td>16601927</td>\n",
       "      <td>23-12-2015</td>\n",
       "      <td>8590</td>\n",
       "    </tr>\n",
       "    <tr>\n",
       "      <th>1747</th>\n",
       "      <td>Why good leaders make you feel safe</td>\n",
       "      <td>Simon Sinek</td>\n",
       "      <td>6803938</td>\n",
       "      <td>19-05-2014</td>\n",
       "      <td>8569</td>\n",
       "    </tr>\n",
       "    <tr>\n",
       "      <th>553</th>\n",
       "      <td>The thrilling potential of SixthSense technology</td>\n",
       "      <td>Pranav Mistry</td>\n",
       "      <td>16097077</td>\n",
       "      <td>15-11-2009</td>\n",
       "      <td>8416</td>\n",
       "    </tr>\n",
       "    <tr>\n",
       "      <th>176</th>\n",
       "      <td>Underwater astonishments</td>\n",
       "      <td>David Gallo</td>\n",
       "      <td>13926113</td>\n",
       "      <td>10-01-2008</td>\n",
       "      <td>8328</td>\n",
       "    </tr>\n",
       "  </tbody>\n",
       "</table>\n",
       "</div>"
      ],
      "text/plain": [
       "                                                  title       main_speaker  \\\n",
       "837                          The power of vulnerability        Bren\u00e9 Brown   \n",
       "0                           Do schools kill creativity?       Ken Robinson   \n",
       "1030                         How to live before you die         Steve Jobs   \n",
       "201                                My stroke of insight  Jill Bolte Taylor   \n",
       "1129                    The happy secret to better work        Shawn Achor   \n",
       "1940                                 The price of shame    Monica Lewinsky   \n",
       "2109  What makes a good life? Lessons from the longe...   Robert Waldinger   \n",
       "1747                Why good leaders make you feel safe        Simon Sinek   \n",
       "553    The thrilling potential of SixthSense technology      Pranav Mistry   \n",
       "176                            Underwater astonishments        David Gallo   \n",
       "\n",
       "         views published_date  funny  \n",
       "837   31168150     23-12-2010  21444  \n",
       "0     47227110     26-06-2006  19645  \n",
       "1030   8744428     05-10-2011  17290  \n",
       "201   21190883     11-03-2008  14447  \n",
       "1129  16209727     01-02-2012  11213  \n",
       "1940  11443190     20-03-2015   8668  \n",
       "2109  16601927     23-12-2015   8590  \n",
       "1747   6803938     19-05-2014   8569  \n",
       "553   16097077     15-11-2009   8416  \n",
       "176   13926113     10-01-2008   8328  "
      ]
     },
     "execution_count": 69,
     "metadata": {},
     "output_type": "execute_result"
    }
   ],
   "source": [
    "df[['title', 'main_speaker', 'views', 'published_date', 'funny']].sort_values('funny', ascending=False)[:10]"
   ]
  },
  {
   "cell_type": "markdown",
   "metadata": {
    "_cell_guid": "9860198c-1312-4b2d-949e-d6bd604ef85a",
    "_uuid": "d29d80a0a09700686925c08c1f5e7a1d115bf3b2"
   },
   "source": [
    "### Most Beautiful Talks of all time"
   ]
  },
  {
   "cell_type": "code",
   "execution_count": 70,
   "metadata": {
    "_cell_guid": "5471ded8-40a6-419c-b60a-718e5ac0ef86",
    "_uuid": "c7c35363253974ea2f3369e6d9cfbfd9bf346fdd"
   },
   "outputs": [
    {
     "data": {
      "text/html": [
       "<div>\n",
       "<style scoped>\n",
       "    .dataframe tbody tr th:only-of-type {\n",
       "        vertical-align: middle;\n",
       "    }\n",
       "\n",
       "    .dataframe tbody tr th {\n",
       "        vertical-align: top;\n",
       "    }\n",
       "\n",
       "    .dataframe thead th {\n",
       "        text-align: right;\n",
       "    }\n",
       "</style>\n",
       "<table border=\"1\" class=\"dataframe\">\n",
       "  <thead>\n",
       "    <tr style=\"text-align: right;\">\n",
       "      <th></th>\n",
       "      <th>title</th>\n",
       "      <th>main_speaker</th>\n",
       "      <th>views</th>\n",
       "      <th>published_date</th>\n",
       "      <th>beautiful</th>\n",
       "    </tr>\n",
       "  </thead>\n",
       "  <tbody>\n",
       "    <tr>\n",
       "      <th>201</th>\n",
       "      <td>My stroke of insight</td>\n",
       "      <td>Jill Bolte Taylor</td>\n",
       "      <td>21190883</td>\n",
       "      <td>11-03-2008</td>\n",
       "      <td>9437</td>\n",
       "    </tr>\n",
       "    <tr>\n",
       "      <th>677</th>\n",
       "      <td>How great leaders inspire action</td>\n",
       "      <td>Simon Sinek</td>\n",
       "      <td>34309432</td>\n",
       "      <td>04-05-2010</td>\n",
       "      <td>8845</td>\n",
       "    </tr>\n",
       "    <tr>\n",
       "      <th>381</th>\n",
       "      <td>Your elusive creative genius</td>\n",
       "      <td>Elizabeth Gilbert</td>\n",
       "      <td>13155478</td>\n",
       "      <td>08-02-2009</td>\n",
       "      <td>8130</td>\n",
       "    </tr>\n",
       "    <tr>\n",
       "      <th>2161</th>\n",
       "      <td>Inside the mind of a master procrastinator</td>\n",
       "      <td>Tim Urban</td>\n",
       "      <td>14745406</td>\n",
       "      <td>15-03-2016</td>\n",
       "      <td>7445</td>\n",
       "    </tr>\n",
       "    <tr>\n",
       "      <th>1129</th>\n",
       "      <td>The happy secret to better work</td>\n",
       "      <td>Shawn Achor</td>\n",
       "      <td>16209727</td>\n",
       "      <td>01-02-2012</td>\n",
       "      <td>7315</td>\n",
       "    </tr>\n",
       "    <tr>\n",
       "      <th>1779</th>\n",
       "      <td>Which country does the most good for the world?</td>\n",
       "      <td>Simon Anholt</td>\n",
       "      <td>4548276</td>\n",
       "      <td>02-07-2014</td>\n",
       "      <td>6390</td>\n",
       "    </tr>\n",
       "    <tr>\n",
       "      <th>1346</th>\n",
       "      <td>Your body language may shape who you are</td>\n",
       "      <td>Amy Cuddy</td>\n",
       "      <td>43155405</td>\n",
       "      <td>01-10-2012</td>\n",
       "      <td>6217</td>\n",
       "    </tr>\n",
       "    <tr>\n",
       "      <th>500</th>\n",
       "      <td>The puzzle of motivation</td>\n",
       "      <td>Dan Pink</td>\n",
       "      <td>18830983</td>\n",
       "      <td>23-08-2009</td>\n",
       "      <td>4797</td>\n",
       "    </tr>\n",
       "    <tr>\n",
       "      <th>614</th>\n",
       "      <td>Teach every child about food</td>\n",
       "      <td>Jamie Oliver</td>\n",
       "      <td>7638978</td>\n",
       "      <td>11-02-2010</td>\n",
       "      <td>4779</td>\n",
       "    </tr>\n",
       "    <tr>\n",
       "      <th>553</th>\n",
       "      <td>The thrilling potential of SixthSense technology</td>\n",
       "      <td>Pranav Mistry</td>\n",
       "      <td>16097077</td>\n",
       "      <td>15-11-2009</td>\n",
       "      <td>4702</td>\n",
       "    </tr>\n",
       "  </tbody>\n",
       "</table>\n",
       "</div>"
      ],
      "text/plain": [
       "                                                 title       main_speaker  \\\n",
       "201                               My stroke of insight  Jill Bolte Taylor   \n",
       "677                   How great leaders inspire action        Simon Sinek   \n",
       "381                       Your elusive creative genius  Elizabeth Gilbert   \n",
       "2161        Inside the mind of a master procrastinator          Tim Urban   \n",
       "1129                   The happy secret to better work        Shawn Achor   \n",
       "1779   Which country does the most good for the world?       Simon Anholt   \n",
       "1346          Your body language may shape who you are          Amy Cuddy   \n",
       "500                           The puzzle of motivation           Dan Pink   \n",
       "614                       Teach every child about food       Jamie Oliver   \n",
       "553   The thrilling potential of SixthSense technology      Pranav Mistry   \n",
       "\n",
       "         views published_date  beautiful  \n",
       "201   21190883     11-03-2008       9437  \n",
       "677   34309432     04-05-2010       8845  \n",
       "381   13155478     08-02-2009       8130  \n",
       "2161  14745406     15-03-2016       7445  \n",
       "1129  16209727     01-02-2012       7315  \n",
       "1779   4548276     02-07-2014       6390  \n",
       "1346  43155405     01-10-2012       6217  \n",
       "500   18830983     23-08-2009       4797  \n",
       "614    7638978     11-02-2010       4779  \n",
       "553   16097077     15-11-2009       4702  "
      ]
     },
     "execution_count": 70,
     "metadata": {},
     "output_type": "execute_result"
    }
   ],
   "source": [
    "df[['title', 'main_speaker', 'views', 'published_date', 'beautiful']].sort_values('beautiful', ascending=False)[:10]"
   ]
  },
  {
   "cell_type": "markdown",
   "metadata": {
    "_cell_guid": "b2a130de-aa11-490e-866c-f0c2474c18e3",
    "_uuid": "4727dc94891648907fafea16819d9987c7b4cd7b"
   },
   "source": [
    "### Most Jaw Dropping Talks of all time"
   ]
  },
  {
   "cell_type": "code",
   "execution_count": 71,
   "metadata": {
    "_cell_guid": "43c9cc58-bf63-49e8-8439-c4667ee9642d",
    "_uuid": "336aef6355c661a81f529855280cc323b03c2648"
   },
   "outputs": [
    {
     "data": {
      "text/html": [
       "<div>\n",
       "<style scoped>\n",
       "    .dataframe tbody tr th:only-of-type {\n",
       "        vertical-align: middle;\n",
       "    }\n",
       "\n",
       "    .dataframe tbody tr th {\n",
       "        vertical-align: top;\n",
       "    }\n",
       "\n",
       "    .dataframe thead th {\n",
       "        text-align: right;\n",
       "    }\n",
       "</style>\n",
       "<table border=\"1\" class=\"dataframe\">\n",
       "  <thead>\n",
       "    <tr style=\"text-align: right;\">\n",
       "      <th></th>\n",
       "      <th>title</th>\n",
       "      <th>main_speaker</th>\n",
       "      <th>views</th>\n",
       "      <th>published_date</th>\n",
       "      <th>jawdrop</th>\n",
       "    </tr>\n",
       "  </thead>\n",
       "  <tbody>\n",
       "    <tr>\n",
       "      <th>4</th>\n",
       "      <td>The best stats you've ever seen</td>\n",
       "      <td>Hans Rosling</td>\n",
       "      <td>12005869</td>\n",
       "      <td>27-06-2006</td>\n",
       "      <td>2542</td>\n",
       "    </tr>\n",
       "    <tr>\n",
       "      <th>1163</th>\n",
       "      <td>The power of introverts</td>\n",
       "      <td>Susan Cain</td>\n",
       "      <td>17629275</td>\n",
       "      <td>02-03-2012</td>\n",
       "      <td>2467</td>\n",
       "    </tr>\n",
       "    <tr>\n",
       "      <th>381</th>\n",
       "      <td>Your elusive creative genius</td>\n",
       "      <td>Elizabeth Gilbert</td>\n",
       "      <td>13155478</td>\n",
       "      <td>08-02-2009</td>\n",
       "      <td>2093</td>\n",
       "    </tr>\n",
       "    <tr>\n",
       "      <th>1030</th>\n",
       "      <td>How to live before you die</td>\n",
       "      <td>Steve Jobs</td>\n",
       "      <td>8744428</td>\n",
       "      <td>05-10-2011</td>\n",
       "      <td>1368</td>\n",
       "    </tr>\n",
       "    <tr>\n",
       "      <th>0</th>\n",
       "      <td>Do schools kill creativity?</td>\n",
       "      <td>Ken Robinson</td>\n",
       "      <td>47227110</td>\n",
       "      <td>26-06-2006</td>\n",
       "      <td>1174</td>\n",
       "    </tr>\n",
       "    <tr>\n",
       "      <th>677</th>\n",
       "      <td>How great leaders inspire action</td>\n",
       "      <td>Simon Sinek</td>\n",
       "      <td>34309432</td>\n",
       "      <td>04-05-2010</td>\n",
       "      <td>1161</td>\n",
       "    </tr>\n",
       "    <tr>\n",
       "      <th>29</th>\n",
       "      <td>The surprising science of happiness</td>\n",
       "      <td>Dan Gilbert</td>\n",
       "      <td>14689301</td>\n",
       "      <td>25-09-2006</td>\n",
       "      <td>1047</td>\n",
       "    </tr>\n",
       "    <tr>\n",
       "      <th>117</th>\n",
       "      <td>New insights on poverty</td>\n",
       "      <td>Hans Rosling</td>\n",
       "      <td>3243784</td>\n",
       "      <td>25-06-2007</td>\n",
       "      <td>828</td>\n",
       "    </tr>\n",
       "    <tr>\n",
       "      <th>500</th>\n",
       "      <td>The puzzle of motivation</td>\n",
       "      <td>Dan Pink</td>\n",
       "      <td>18830983</td>\n",
       "      <td>23-08-2009</td>\n",
       "      <td>825</td>\n",
       "    </tr>\n",
       "    <tr>\n",
       "      <th>1170</th>\n",
       "      <td>Why you will fail to have a great career</td>\n",
       "      <td>Larry Smith</td>\n",
       "      <td>5917201</td>\n",
       "      <td>11-03-2012</td>\n",
       "      <td>752</td>\n",
       "    </tr>\n",
       "  </tbody>\n",
       "</table>\n",
       "</div>"
      ],
      "text/plain": [
       "                                         title       main_speaker     views  \\\n",
       "4              The best stats you've ever seen       Hans Rosling  12005869   \n",
       "1163                   The power of introverts         Susan Cain  17629275   \n",
       "381               Your elusive creative genius  Elizabeth Gilbert  13155478   \n",
       "1030                How to live before you die         Steve Jobs   8744428   \n",
       "0                  Do schools kill creativity?       Ken Robinson  47227110   \n",
       "677           How great leaders inspire action        Simon Sinek  34309432   \n",
       "29         The surprising science of happiness        Dan Gilbert  14689301   \n",
       "117                    New insights on poverty       Hans Rosling   3243784   \n",
       "500                   The puzzle of motivation           Dan Pink  18830983   \n",
       "1170  Why you will fail to have a great career        Larry Smith   5917201   \n",
       "\n",
       "     published_date  jawdrop  \n",
       "4        27-06-2006     2542  \n",
       "1163     02-03-2012     2467  \n",
       "381      08-02-2009     2093  \n",
       "1030     05-10-2011     1368  \n",
       "0        26-06-2006     1174  \n",
       "677      04-05-2010     1161  \n",
       "29       25-09-2006     1047  \n",
       "117      25-06-2007      828  \n",
       "500      23-08-2009      825  \n",
       "1170     11-03-2012      752  "
      ]
     },
     "execution_count": 71,
     "metadata": {},
     "output_type": "execute_result"
    }
   ],
   "source": [
    "df[['title', 'main_speaker', 'views', 'published_date', 'jawdrop']].sort_values('jawdrop', ascending=False)[:10]"
   ]
  },
  {
   "cell_type": "markdown",
   "metadata": {
    "_cell_guid": "e40be614-6741-4144-b99e-f22037e0d88e",
    "_uuid": "a4b560d6c97a93d44e96a71ef5ed6b76f7c0df29"
   },
   "source": [
    "### Most Confusing Talks of all time"
   ]
  },
  {
   "cell_type": "code",
   "execution_count": 72,
   "metadata": {
    "_cell_guid": "f3f9bb4e-d552-46e8-8300-05b4ac49834c",
    "_uuid": "9f0410a41e9d9129ca079b74ccc6feba9dc18162"
   },
   "outputs": [
    {
     "data": {
      "text/html": [
       "<div>\n",
       "<style scoped>\n",
       "    .dataframe tbody tr th:only-of-type {\n",
       "        vertical-align: middle;\n",
       "    }\n",
       "\n",
       "    .dataframe tbody tr th {\n",
       "        vertical-align: top;\n",
       "    }\n",
       "\n",
       "    .dataframe thead th {\n",
       "        text-align: right;\n",
       "    }\n",
       "</style>\n",
       "<table border=\"1\" class=\"dataframe\">\n",
       "  <thead>\n",
       "    <tr style=\"text-align: right;\">\n",
       "      <th></th>\n",
       "      <th>title</th>\n",
       "      <th>main_speaker</th>\n",
       "      <th>views</th>\n",
       "      <th>published_date</th>\n",
       "      <th>confusing</th>\n",
       "    </tr>\n",
       "  </thead>\n",
       "  <tbody>\n",
       "    <tr>\n",
       "      <th>1346</th>\n",
       "      <td>Your body language may shape who you are</td>\n",
       "      <td>Amy Cuddy</td>\n",
       "      <td>43155405</td>\n",
       "      <td>01-10-2012</td>\n",
       "      <td>11111</td>\n",
       "    </tr>\n",
       "    <tr>\n",
       "      <th>201</th>\n",
       "      <td>My stroke of insight</td>\n",
       "      <td>Jill Bolte Taylor</td>\n",
       "      <td>21190883</td>\n",
       "      <td>11-03-2008</td>\n",
       "      <td>10464</td>\n",
       "    </tr>\n",
       "    <tr>\n",
       "      <th>1163</th>\n",
       "      <td>The power of introverts</td>\n",
       "      <td>Susan Cain</td>\n",
       "      <td>17629275</td>\n",
       "      <td>02-03-2012</td>\n",
       "      <td>10218</td>\n",
       "    </tr>\n",
       "    <tr>\n",
       "      <th>246</th>\n",
       "      <td>The transformative power of classical music</td>\n",
       "      <td>Benjamin Zander</td>\n",
       "      <td>9315483</td>\n",
       "      <td>24-06-2008</td>\n",
       "      <td>8108</td>\n",
       "    </tr>\n",
       "    <tr>\n",
       "      <th>837</th>\n",
       "      <td>The power of vulnerability</td>\n",
       "      <td>Bren\u00e9 Brown</td>\n",
       "      <td>31168150</td>\n",
       "      <td>23-12-2010</td>\n",
       "      <td>7942</td>\n",
       "    </tr>\n",
       "    <tr>\n",
       "      <th>972</th>\n",
       "      <td>Building a park in the sky</td>\n",
       "      <td>Robert Hammond</td>\n",
       "      <td>704205</td>\n",
       "      <td>30-06-2011</td>\n",
       "      <td>6685</td>\n",
       "    </tr>\n",
       "    <tr>\n",
       "      <th>0</th>\n",
       "      <td>Do schools kill creativity?</td>\n",
       "      <td>Ken Robinson</td>\n",
       "      <td>47227110</td>\n",
       "      <td>26-06-2006</td>\n",
       "      <td>6073</td>\n",
       "    </tr>\n",
       "    <tr>\n",
       "      <th>919</th>\n",
       "      <td>3 things I learned while my plane crashed</td>\n",
       "      <td>Ric Elias</td>\n",
       "      <td>6636475</td>\n",
       "      <td>22-04-2011</td>\n",
       "      <td>5834</td>\n",
       "    </tr>\n",
       "    <tr>\n",
       "      <th>176</th>\n",
       "      <td>Underwater astonishments</td>\n",
       "      <td>David Gallo</td>\n",
       "      <td>13926113</td>\n",
       "      <td>10-01-2008</td>\n",
       "      <td>5201</td>\n",
       "    </tr>\n",
       "    <tr>\n",
       "      <th>1776</th>\n",
       "      <td>How to speak so that people want to listen</td>\n",
       "      <td>Julian Treasure</td>\n",
       "      <td>21594632</td>\n",
       "      <td>27-06-2014</td>\n",
       "      <td>5167</td>\n",
       "    </tr>\n",
       "  </tbody>\n",
       "</table>\n",
       "</div>"
      ],
      "text/plain": [
       "                                            title       main_speaker  \\\n",
       "1346     Your body language may shape who you are          Amy Cuddy   \n",
       "201                          My stroke of insight  Jill Bolte Taylor   \n",
       "1163                      The power of introverts         Susan Cain   \n",
       "246   The transformative power of classical music    Benjamin Zander   \n",
       "837                    The power of vulnerability        Bren\u00e9 Brown   \n",
       "972                    Building a park in the sky     Robert Hammond   \n",
       "0                     Do schools kill creativity?       Ken Robinson   \n",
       "919     3 things I learned while my plane crashed          Ric Elias   \n",
       "176                      Underwater astonishments        David Gallo   \n",
       "1776   How to speak so that people want to listen    Julian Treasure   \n",
       "\n",
       "         views published_date  confusing  \n",
       "1346  43155405     01-10-2012      11111  \n",
       "201   21190883     11-03-2008      10464  \n",
       "1163  17629275     02-03-2012      10218  \n",
       "246    9315483     24-06-2008       8108  \n",
       "837   31168150     23-12-2010       7942  \n",
       "972     704205     30-06-2011       6685  \n",
       "0     47227110     26-06-2006       6073  \n",
       "919    6636475     22-04-2011       5834  \n",
       "176   13926113     10-01-2008       5201  \n",
       "1776  21594632     27-06-2014       5167  "
      ]
     },
     "execution_count": 72,
     "metadata": {},
     "output_type": "execute_result"
    }
   ],
   "source": [
    "df[['title', 'main_speaker', 'views', 'published_date', 'confusing']].sort_values('confusing', ascending=False)[:10]"
   ]
  },
  {
   "cell_type": "markdown",
   "metadata": {
    "_cell_guid": "b52ceb84-4ac5-49a4-8bed-48ff6fb15ef3",
    "_uuid": "f44affddc111cc26f59963b827c459f12b21ec8e"
   },
   "source": [
    "## Related Videos\n",
    "\n",
    "In this last section, we will have a look at how every TED Talk is related to every other TED Talk by constructing a graph with all the talks as nodes and edges defined between two talks if one talk is on the list of recommended watches of the other. Considering the fact that TED Talks are extremely diverse, it would be interesting to see how dense or sparse our graph will be."
   ]
  },
  {
   "cell_type": "markdown",
   "metadata": {
    "_cell_guid": "132eff4b-03aa-4a73-9b11-cc148ec48a17",
    "_uuid": "e86a5c348827188941c1f996350515b62aad1541"
   },
   "source": [
    "![](https://dragonlaw.io/wp-content/uploads/2016/11/networking-dribbble.gif)"
   ]
  },
  {
   "cell_type": "code",
   "execution_count": 73,
   "metadata": {
    "_cell_guid": "68d4e235-4ae7-4164-b615-8414bf532137",
    "_uuid": "c5aaa9f5df38b7d3b0afe647ab520f2d755e7783"
   },
   "outputs": [],
   "source": [
    "df['related_talks'] = df['related_talks'].apply(lambda x: ast.literal_eval(x))"
   ]
  },
  {
   "cell_type": "code",
   "execution_count": 74,
   "metadata": {
    "_cell_guid": "df74732a-c27f-4de8-9dc5-d45be8b7ca23",
    "_uuid": "c1ed3cba602e1ae66de6cd7080618d08a5e01112"
   },
   "outputs": [],
   "source": [
    "s = df.apply(lambda x: pd.Series(x['related_talks']),axis=1).stack().reset_index(level=1, drop=True)\n",
    "s.name = 'related'"
   ]
  },
  {
   "cell_type": "code",
   "execution_count": 75,
   "metadata": {
    "_cell_guid": "60252da7-f673-4035-9845-5efad0e8d97d",
    "_uuid": "0e7bed498b02002a2be64a0c82eeaef7a0659229"
   },
   "outputs": [],
   "source": [
    "related_df = df.drop('related_talks', axis=1).join(s)\n",
    "related_df['related'] = related_df['related'].apply(lambda x: x['title'])"
   ]
  },
  {
   "cell_type": "code",
   "execution_count": 76,
   "metadata": {
    "_cell_guid": "690ffe84-b056-44e2-8415-d638b3aa0fae",
    "_uuid": "04ffcb2ff958f9b1fe75e7b0b9ebff06e3c3abb0"
   },
   "outputs": [],
   "source": [
    "d = dict(related_df['title'].drop_duplicates())\n",
    "d = {v: k for k, v in d.items()}"
   ]
  },
  {
   "cell_type": "code",
   "execution_count": 77,
   "metadata": {
    "_cell_guid": "387aa2f1-95d3-4073-b1c3-4a5e009481ff",
    "_uuid": "b324a37b3d2c50d5d3a4d90189c87d80338fd945"
   },
   "outputs": [],
   "source": [
    "related_df['title'] = related_df['title'].apply(lambda x: d[x])\n",
    "related_df['related'] = related_df['related'].apply(lambda x: d[x])"
   ]
  },
  {
   "cell_type": "code",
   "execution_count": 78,
   "metadata": {
    "_cell_guid": "3624027b-cf07-4ea9-a6b7-b3256cb860a8",
    "_uuid": "a9d733959bbba16753486d60a579283b7d75bdc7"
   },
   "outputs": [
    {
     "data": {
      "text/html": [
       "<div>\n",
       "<style scoped>\n",
       "    .dataframe tbody tr th:only-of-type {\n",
       "        vertical-align: middle;\n",
       "    }\n",
       "\n",
       "    .dataframe tbody tr th {\n",
       "        vertical-align: top;\n",
       "    }\n",
       "\n",
       "    .dataframe thead th {\n",
       "        text-align: right;\n",
       "    }\n",
       "</style>\n",
       "<table border=\"1\" class=\"dataframe\">\n",
       "  <thead>\n",
       "    <tr style=\"text-align: right;\">\n",
       "      <th></th>\n",
       "      <th>title</th>\n",
       "      <th>related</th>\n",
       "    </tr>\n",
       "  </thead>\n",
       "  <tbody>\n",
       "    <tr>\n",
       "      <th>0</th>\n",
       "      <td>0</td>\n",
       "      <td>692</td>\n",
       "    </tr>\n",
       "    <tr>\n",
       "      <th>0</th>\n",
       "      <td>0</td>\n",
       "      <td>1502</td>\n",
       "    </tr>\n",
       "    <tr>\n",
       "      <th>0</th>\n",
       "      <td>0</td>\n",
       "      <td>1991</td>\n",
       "    </tr>\n",
       "    <tr>\n",
       "      <th>0</th>\n",
       "      <td>0</td>\n",
       "      <td>715</td>\n",
       "    </tr>\n",
       "    <tr>\n",
       "      <th>0</th>\n",
       "      <td>0</td>\n",
       "      <td>1023</td>\n",
       "    </tr>\n",
       "  </tbody>\n",
       "</table>\n",
       "</div>"
      ],
      "text/plain": [
       "   title  related\n",
       "0      0      692\n",
       "0      0     1502\n",
       "0      0     1991\n",
       "0      0      715\n",
       "0      0     1023"
      ]
     },
     "execution_count": 78,
     "metadata": {},
     "output_type": "execute_result"
    }
   ],
   "source": [
    "related_df = related_df[['title', 'related']]\n",
    "related_df.head()"
   ]
  },
  {
   "cell_type": "code",
   "execution_count": 79,
   "metadata": {
    "_cell_guid": "dbdc25bc-95be-4fcb-b797-c57e6e311e87",
    "_uuid": "0e6196617a45ce430be6e241d32726b240fd4522"
   },
   "outputs": [],
   "source": [
    "edges = list(zip(related_df['title'], related_df['related']))"
   ]
  },
  {
   "cell_type": "code",
   "execution_count": 80,
   "metadata": {
    "_cell_guid": "a51e70f9-8fc3-4ea1-a288-16dc1874e1e9",
    "_uuid": "d75f7dadbfc00a93fb0b434682464175063db14d"
   },
   "outputs": [],
   "source": [
    "# ALEX: remove plotting\n",
    "# import networkx as nx\n",
    "# G = nx.Graph()\n",
    "# G.add_edges_from(edges)"
   ]
  },
  {
   "cell_type": "code",
   "execution_count": 81,
   "metadata": {
    "_cell_guid": "31dd3866-f50e-4a35-8bd4-2945d70bd4f0",
    "_uuid": "99dc149560188509b6d033ea48a1be469325d7d9"
   },
   "outputs": [],
   "source": [
    "# ALEX: remove plotting\n",
    "# plt.figure(figsize=(25, 25))\n",
    "# nx.draw(G, with_labels=False)"
   ]
  },
  {
   "cell_type": "markdown",
   "metadata": {
    "_cell_guid": "26b79984-244f-414d-97dc-7d71e7089cce",
    "_uuid": "480ff53e81ac6ede7d83cfc19f867ea9d161cef5"
   },
   "source": [
    "The graph is reasonably dense with every node connected to at least 3 other nodes. This shows us the real beauty of the conference. No matter how different the subjects of the talks are, the common theme of spreading ideas and inspiring people seems to be a adhesive force between them."
   ]
  },
  {
   "cell_type": "markdown",
   "metadata": {
    "_cell_guid": "2c510a69-5dcf-47c0-a917-2204ee72f188",
    "_uuid": "ed971c53c69cb35664d0c324384728819ca47014",
    "collapsed": true
   },
   "source": [
    "## The TED Word Cloud\n",
    "\n",
    "I was curious about which words are most often used by TED Speakers. Could we create a Word Cloud out of all TED Speeches? Luckily, Python has a very useful word cloud generating library that allows us to do just that. "
   ]
  },
  {
   "cell_type": "code",
   "execution_count": 82,
   "metadata": {
    "_cell_guid": "21a7c987-6c40-4cbe-b921-ecc422886e98",
    "_uuid": "9866e499800d9c695c481c23f276bbc28eb55b4b"
   },
   "outputs": [],
   "source": [
    "corpus = ' '.join(df2['transcript'])\n",
    "corpus = corpus.replace('.', '. ')"
   ]
  },
  {
   "cell_type": "code",
   "execution_count": 83,
   "metadata": {
    "_cell_guid": "accd58ce-d642-49cb-87fc-9f4031776353",
    "_uuid": "9c10c3d2fc368ee544d46471e15dba46f8486d68"
   },
   "outputs": [],
   "source": [
    "# ALEX: remove plotting\n",
    "# wordcloud = WordCloud(stopwords=STOPWORDS, background_color='white',width=2400,height=2000).generate(corpus)\n",
    "# plt.figure(figsize=(12,15))\n",
    "# plt.imshow(wordcloud)\n",
    "# plt.axis('off')\n",
    "# plt.show()"
   ]
  },
  {
   "cell_type": "markdown",
   "metadata": {
    "_cell_guid": "e60f852d-c1f4-4e4c-9c14-338206c25e2e",
    "_uuid": "ebd00e9eba09342d76a3f374abb2c81db880c3d5"
   },
   "source": [
    "The word **One** is the most popular word across the corpus of all TED Transcripts which I think encapsulates the idea of TED pretty well.  **Now**, **Think**, **See**, **People**, **Laughter** and **Know** are among the most popular words used in TED Speeches. TED speeched seem to place a lot of emphasis on knowledge, insight, the present and of course, the people.\n",
    "\n",
    "I shall end my analysis here. Of course, a lot more can be done using the data we have right now. I will leave this up to the community to come up with more interesting analysis and insights than what I was capable of producing. "
   ]
  },
  {
   "cell_type": "markdown",
   "metadata": {
    "_cell_guid": "f3022855-12a8-4bcb-b7df-1b4cf9634ec4",
    "_uuid": "21ccb9c10ed2d1d600be3158c84adbce67de0ea7"
   },
   "source": []
  },
  {
   "cell_type": "code",
   "execution_count": null,
   "metadata": {
    "_cell_guid": "2e736b89-0b40-45af-be69-b020d5cf2e50",
    "_uuid": "720494ee647e8a58f3087409ed7c6a79e9be5ca6"
   },
   "outputs": [],
   "source": []
  },
  {
   "cell_type": "code",
   "execution_count": null,
   "metadata": {
    "_cell_guid": "e8c2bab7-882c-4e00-8407-95d79e18c4be",
    "_uuid": "1bede3cd155bd60584292c45c001c1b5bd26ab5e"
   },
   "outputs": [],
   "source": []
  },
  {
   "cell_type": "code",
   "execution_count": null,
   "metadata": {
    "_cell_guid": "f0de12d2-00a2-4fed-bcc4-2883f3113596",
    "_uuid": "f4b5b41a2e9b9ccdeaccb0fc78f4d448801fe065"
   },
   "outputs": [],
   "source": []
  }
 ],
 "metadata": {
  "kernelspec": {
   "display_name": "Python 3 (ipykernel)",
   "language": "python",
   "name": "python3"
  },
  "language_info": {
   "codemirror_mode": {
    "name": "ipython",
    "version": 3
   },
   "file_extension": ".py",
   "mimetype": "text/x-python",
   "name": "python",
   "nbconvert_exporter": "python",
   "pygments_lexer": "ipython3",
   "version": "3.10.16"
  }
 },
 "nbformat": 4,
 "nbformat_minor": 1
}