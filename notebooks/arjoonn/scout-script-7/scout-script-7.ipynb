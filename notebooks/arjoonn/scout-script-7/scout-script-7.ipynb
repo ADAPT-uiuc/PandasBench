{
 "cells": [
  {
   "cell_type": "code",
   "execution_count": null,
   "metadata": {},
   "outputs": [],
   "source": [
    "import os\n",
    "\n",
    "def scale_input_data(scale_factor):\n",
    "  file_bases = ['./input/survey']\n",
    "  for file_base in file_bases:\n",
    "    import pandas as pd\n",
    "    import shutil\n",
    "    if scale_factor == 1.0:\n",
    "      shutil.copyfile(file_base + '.csv', file_base + '.scaled.csv')\n",
    "      continue\n",
    "    df_to_scale = pd.read_csv(file_base + '.csv')\n",
    "    new_num_rows = int(scale_factor * len(df_to_scale))\n",
    "    if scale_factor <= 1.0:\n",
    "      df_to_scale = df_to_scale.iloc[:new_num_rows]\n",
    "    else:\n",
    "      while len(df_to_scale) < new_num_rows:\n",
    "        df_to_scale = pd.concat([df_to_scale, df_to_scale[:min(new_num_rows - len(df_to_scale), len(df_to_scale))]])\n",
    "    df_to_scale.to_csv(file_base + '.scaled.csv', index=False)\n",
    "\n",
    "if 'INPUT_SCALE_FACTOR' in os.environ:\n",
    "  scale_input_data(float(os.environ['INPUT_SCALE_FACTOR']))"
   ]
  },
  {
   "cell_type": "markdown",
   "metadata": {
    "_cell_guid": "1879a1c5-df16-e8b8-2a7e-728aa01c54e6"
   },
   "source": [
    "A notebook to clean this data and attempt to classify those who are at risk."
   ]
  },
  {
   "cell_type": "code",
   "execution_count": 1,
   "metadata": {
    "_cell_guid": "8756ca3a-6b98-b2a6-df20-d928b87ac2c3"
   },
   "outputs": [],
   "source": [
    "import numpy as np # linear algebra\n",
    "# import pandas as pd # data processing, CSV file I/O (e.g. pd.read_csv)\n",
    "exec(os.environ['IREWR_IMPORTS'])\n",
    "# FIRST-AUTHOR: remove plotting, path printing\n",
    "# import seaborn as sns\n",
    "# %pylab inline\n",
    "# from subprocess import check_output\n",
    "# print(check_output([\"ls\", \"../input\"]).decode(\"utf8\"))\n"
   ]
  },
  {
   "cell_type": "code",
   "execution_count": 2,
   "metadata": {
    "_cell_guid": "0bdda3a8-f470-ba9b-6fa5-dac8087648b1"
   },
   "outputs": [
    {
     "name": "stdout",
     "output_type": "stream",
     "text": [
      "<class 'pandas.core.frame.DataFrame'>\n",
      "RangeIndex: 1259 entries, 0 to 1258\n",
      "Data columns (total 27 columns):\n",
      " #   Column                     Non-Null Count  Dtype \n",
      "---  ------                     --------------  ----- \n",
      " 0   Timestamp                  1259 non-null   object\n",
      " 1   Age                        1259 non-null   int64 \n",
      " 2   Gender                     1259 non-null   object\n",
      " 3   Country                    1259 non-null   object\n",
      " 4   state                      744 non-null    object\n",
      " 5   self_employed              1241 non-null   object\n",
      " 6   family_history             1259 non-null   object\n",
      " 7   treatment                  1259 non-null   object\n",
      " 8   work_interfere             995 non-null    object\n",
      " 9   no_employees               1259 non-null   object\n",
      " 10  remote_work                1259 non-null   object\n",
      " 11  tech_company               1259 non-null   object\n",
      " 12  benefits                   1259 non-null   object\n",
      " 13  care_options               1259 non-null   object\n",
      " 14  wellness_program           1259 non-null   object\n",
      " 15  seek_help                  1259 non-null   object\n",
      " 16  anonymity                  1259 non-null   object\n",
      " 17  leave                      1259 non-null   object\n",
      " 18  mental_health_consequence  1259 non-null   object\n",
      " 19  phys_health_consequence    1259 non-null   object\n",
      " 20  coworkers                  1259 non-null   object\n",
      " 21  supervisor                 1259 non-null   object\n",
      " 22  mental_health_interview    1259 non-null   object\n",
      " 23  phys_health_interview      1259 non-null   object\n",
      " 24  mental_vs_physical         1259 non-null   object\n",
      " 25  obs_consequence            1259 non-null   object\n",
      " 26  comments                   164 non-null    object\n",
      "dtypes: int64(1), object(26)\n",
      "memory usage: 265.7+ KB\n"
     ]
    }
   ],
   "source": [
    "df = pd.read_csv('./input/survey.scaled.csv')\n",
    "df.info()\n",
    "to_drop = ['Timestamp']  # A list of columns we will drop later on"
   ]
  },
  {
   "cell_type": "code",
   "execution_count": 3,
   "metadata": {
    "_cell_guid": "90fa315f-ff7a-0579-8165-662a97a6cbe1"
   },
   "outputs": [
    {
     "data": {
      "text/plain": [
       "array(['Female', 'M', 'Male', 'male', 'female', 'm', 'Male-ish', 'maile',\n",
       "       'Trans-female', 'Cis Female', 'F', 'something kinda male?',\n",
       "       'Cis Male', 'Woman', 'f', 'Mal', 'Male (CIS)', 'queer/she/they',\n",
       "       'non-binary', 'Femake', 'woman', 'Make', 'Nah', 'All', 'Enby',\n",
       "       'fluid', 'Genderqueer', 'Female ', 'Androgyne', 'Agender',\n",
       "       'cis-female/femme', 'Guy (-ish) ^_^', 'male leaning androgynous',\n",
       "       'Male ', 'Man', 'Trans woman', 'msle', 'Neuter', 'Female (trans)',\n",
       "       'queer', 'Female (cis)', 'Mail', 'cis male', 'A little about you',\n",
       "       'Malr', 'p', 'femail', 'Cis Man',\n",
       "       'ostensibly male, unsure what that really means'], dtype=object)"
      ]
     },
     "execution_count": 3,
     "metadata": {},
     "output_type": "execute_result"
    }
   ],
   "source": [
    "df.Gender.unique()"
   ]
  },
  {
   "cell_type": "code",
   "execution_count": 4,
   "metadata": {
    "_cell_guid": "6cebdbf2-b081-c649-59ce-d56b3481f6c3"
   },
   "outputs": [
    {
     "data": {
      "text/plain": [
       "Male                                              615\n",
       "male                                              206\n",
       "Female                                            121\n",
       "M                                                 116\n",
       "female                                             62\n",
       "F                                                  38\n",
       "m                                                  34\n",
       "f                                                  15\n",
       "Make                                                4\n",
       "Male                                                3\n",
       "Woman                                               3\n",
       "Cis Male                                            2\n",
       "Man                                                 2\n",
       "Female (trans)                                      2\n",
       "Female                                              2\n",
       "Trans woman                                         1\n",
       "msle                                                1\n",
       "male leaning androgynous                            1\n",
       "Neuter                                              1\n",
       "cis male                                            1\n",
       "queer                                               1\n",
       "Female (cis)                                        1\n",
       "Mail                                                1\n",
       "cis-female/femme                                    1\n",
       "A little about you                                  1\n",
       "Malr                                                1\n",
       "p                                                   1\n",
       "femail                                              1\n",
       "Cis Man                                             1\n",
       "Guy (-ish) ^_^                                      1\n",
       "Enby                                                1\n",
       "Agender                                             1\n",
       "Androgyne                                           1\n",
       "Male-ish                                            1\n",
       "maile                                               1\n",
       "Trans-female                                        1\n",
       "Cis Female                                          1\n",
       "something kinda male?                               1\n",
       "Mal                                                 1\n",
       "Male (CIS)                                          1\n",
       "queer/she/they                                      1\n",
       "non-binary                                          1\n",
       "Femake                                              1\n",
       "woman                                               1\n",
       "Nah                                                 1\n",
       "All                                                 1\n",
       "fluid                                               1\n",
       "Genderqueer                                         1\n",
       "ostensibly male, unsure what that really means      1\n",
       "Name: Gender, dtype: int64"
      ]
     },
     "execution_count": 4,
     "metadata": {},
     "output_type": "execute_result"
    }
   ],
   "source": [
    "# Holy hamburgers! That's a lot of possibilities for gender. Let's clean it up\n",
    "# Let's see their freq counts first\n",
    "df.Gender.value_counts()"
   ]
  },
  {
   "cell_type": "code",
   "execution_count": 5,
   "metadata": {
    "_cell_guid": "b5b51602-806a-b88b-d434-60814c164a8a"
   },
   "outputs": [
    {
     "data": {
      "text/html": [
       "<div>\n",
       "<style scoped>\n",
       "    .dataframe tbody tr th:only-of-type {\n",
       "        vertical-align: middle;\n",
       "    }\n",
       "\n",
       "    .dataframe tbody tr th {\n",
       "        vertical-align: top;\n",
       "    }\n",
       "\n",
       "    .dataframe thead th {\n",
       "        text-align: right;\n",
       "    }\n",
       "</style>\n",
       "<table border=\"1\" class=\"dataframe\">\n",
       "  <thead>\n",
       "    <tr style=\"text-align: right;\">\n",
       "      <th></th>\n",
       "      <th>Timestamp</th>\n",
       "      <th>Gender</th>\n",
       "      <th>Country</th>\n",
       "      <th>state</th>\n",
       "      <th>self_employed</th>\n",
       "      <th>family_history</th>\n",
       "      <th>treatment</th>\n",
       "      <th>work_interfere</th>\n",
       "      <th>no_employees</th>\n",
       "      <th>remote_work</th>\n",
       "      <th>...</th>\n",
       "      <th>leave</th>\n",
       "      <th>mental_health_consequence</th>\n",
       "      <th>phys_health_consequence</th>\n",
       "      <th>coworkers</th>\n",
       "      <th>supervisor</th>\n",
       "      <th>mental_health_interview</th>\n",
       "      <th>phys_health_interview</th>\n",
       "      <th>mental_vs_physical</th>\n",
       "      <th>obs_consequence</th>\n",
       "      <th>comments</th>\n",
       "    </tr>\n",
       "  </thead>\n",
       "  <tbody>\n",
       "    <tr>\n",
       "      <th>count</th>\n",
       "      <td>1259</td>\n",
       "      <td>1259</td>\n",
       "      <td>1259</td>\n",
       "      <td>744</td>\n",
       "      <td>1241</td>\n",
       "      <td>1259</td>\n",
       "      <td>1259</td>\n",
       "      <td>995</td>\n",
       "      <td>1259</td>\n",
       "      <td>1259</td>\n",
       "      <td>...</td>\n",
       "      <td>1259</td>\n",
       "      <td>1259</td>\n",
       "      <td>1259</td>\n",
       "      <td>1259</td>\n",
       "      <td>1259</td>\n",
       "      <td>1259</td>\n",
       "      <td>1259</td>\n",
       "      <td>1259</td>\n",
       "      <td>1259</td>\n",
       "      <td>164</td>\n",
       "    </tr>\n",
       "    <tr>\n",
       "      <th>unique</th>\n",
       "      <td>1246</td>\n",
       "      <td>41</td>\n",
       "      <td>48</td>\n",
       "      <td>45</td>\n",
       "      <td>2</td>\n",
       "      <td>2</td>\n",
       "      <td>2</td>\n",
       "      <td>4</td>\n",
       "      <td>6</td>\n",
       "      <td>2</td>\n",
       "      <td>...</td>\n",
       "      <td>5</td>\n",
       "      <td>3</td>\n",
       "      <td>3</td>\n",
       "      <td>3</td>\n",
       "      <td>3</td>\n",
       "      <td>3</td>\n",
       "      <td>3</td>\n",
       "      <td>3</td>\n",
       "      <td>2</td>\n",
       "      <td>160</td>\n",
       "    </tr>\n",
       "    <tr>\n",
       "      <th>top</th>\n",
       "      <td>2014-08-27 12:44:51</td>\n",
       "      <td>male</td>\n",
       "      <td>United States</td>\n",
       "      <td>CA</td>\n",
       "      <td>No</td>\n",
       "      <td>No</td>\n",
       "      <td>Yes</td>\n",
       "      <td>Sometimes</td>\n",
       "      <td>6-25</td>\n",
       "      <td>No</td>\n",
       "      <td>...</td>\n",
       "      <td>Don't know</td>\n",
       "      <td>No</td>\n",
       "      <td>No</td>\n",
       "      <td>Some of them</td>\n",
       "      <td>Yes</td>\n",
       "      <td>No</td>\n",
       "      <td>Maybe</td>\n",
       "      <td>Don't know</td>\n",
       "      <td>No</td>\n",
       "      <td>* Small family business - YMMV.</td>\n",
       "    </tr>\n",
       "    <tr>\n",
       "      <th>freq</th>\n",
       "      <td>2</td>\n",
       "      <td>971</td>\n",
       "      <td>751</td>\n",
       "      <td>138</td>\n",
       "      <td>1095</td>\n",
       "      <td>767</td>\n",
       "      <td>637</td>\n",
       "      <td>465</td>\n",
       "      <td>290</td>\n",
       "      <td>883</td>\n",
       "      <td>...</td>\n",
       "      <td>563</td>\n",
       "      <td>490</td>\n",
       "      <td>925</td>\n",
       "      <td>774</td>\n",
       "      <td>516</td>\n",
       "      <td>1008</td>\n",
       "      <td>557</td>\n",
       "      <td>576</td>\n",
       "      <td>1075</td>\n",
       "      <td>5</td>\n",
       "    </tr>\n",
       "  </tbody>\n",
       "</table>\n",
       "<p>4 rows \u00d7 26 columns</p>\n",
       "</div>"
      ],
      "text/plain": [
       "                  Timestamp Gender        Country state self_employed  \\\n",
       "count                  1259   1259           1259   744          1241   \n",
       "unique                 1246     41             48    45             2   \n",
       "top     2014-08-27 12:44:51   male  United States    CA            No   \n",
       "freq                      2    971            751   138          1095   \n",
       "\n",
       "       family_history treatment work_interfere no_employees remote_work  ...  \\\n",
       "count            1259      1259            995         1259        1259  ...   \n",
       "unique              2         2              4            6           2  ...   \n",
       "top                No       Yes      Sometimes         6-25          No  ...   \n",
       "freq              767       637            465          290         883  ...   \n",
       "\n",
       "             leave mental_health_consequence phys_health_consequence  \\\n",
       "count         1259                      1259                    1259   \n",
       "unique           5                         3                       3   \n",
       "top     Don't know                        No                      No   \n",
       "freq           563                       490                     925   \n",
       "\n",
       "           coworkers supervisor mental_health_interview phys_health_interview  \\\n",
       "count           1259       1259                    1259                  1259   \n",
       "unique             3          3                       3                     3   \n",
       "top     Some of them        Yes                      No                 Maybe   \n",
       "freq             774        516                    1008                   557   \n",
       "\n",
       "       mental_vs_physical obs_consequence                         comments  \n",
       "count                1259            1259                              164  \n",
       "unique                  3               2                              160  \n",
       "top            Don't know              No  * Small family business - YMMV.  \n",
       "freq                  576            1075                                5  \n",
       "\n",
       "[4 rows x 26 columns]"
      ]
     },
     "execution_count": 5,
     "metadata": {},
     "output_type": "execute_result"
    }
   ],
   "source": [
    "df.Gender = df.Gender.str.lower()\n",
    "df.Gender = df.Gender = df.Gender.replace('m', 'male')\n",
    "df.Gender = df.Gender.replace('f', 'female')\n",
    "df['HasMale'] = df.Gender.str.contains('male|man|guy|maile|malr|androgyne|male|mal|make|msle')\n",
    "df['HasFemale'] = df.Gender.str.contains('female|woman|femail|androgyne|femake')\n",
    "df['HasNB'] = df.Gender.str.contains('non-binary|enby|queer|all|fluid|agender|neuter|p')\n",
    "# That's gender cleaned up.\n",
    "to_drop.append('Gender')\n",
    "# Moving on.\n",
    "df.describe(include=['O'])"
   ]
  },
  {
   "cell_type": "code",
   "execution_count": 6,
   "metadata": {
    "_cell_guid": "354ce016-7d6a-af94-e057-ab287c08550f"
   },
   "outputs": [
    {
     "data": {
      "text/plain": [
       "array(['United States', 'Canada', 'United Kingdom', 'Bulgaria', 'France',\n",
       "       'Portugal', 'Netherlands', 'Switzerland', 'Poland', 'Australia',\n",
       "       'Germany', 'Russia', 'Mexico', 'Brazil', 'Slovenia', 'Costa Rica',\n",
       "       'Austria', 'Ireland', 'India', 'South Africa', 'Italy', 'Sweden',\n",
       "       'Colombia', 'Latvia', 'Romania', 'Belgium', 'New Zealand',\n",
       "       'Zimbabwe', 'Spain', 'Finland', 'Uruguay', 'Israel',\n",
       "       'Bosnia and Herzegovina', 'Hungary', 'Singapore', 'Japan',\n",
       "       'Nigeria', 'Croatia', 'Norway', 'Thailand', 'Denmark',\n",
       "       'Bahamas, The', 'Greece', 'Moldova', 'Georgia', 'China',\n",
       "       'Czech Republic', 'Philippines'], dtype=object)"
      ]
     },
     "execution_count": 6,
     "metadata": {},
     "output_type": "execute_result"
    }
   ],
   "source": [
    "# Let's take care of country first.\n",
    "df.Country.unique()"
   ]
  },
  {
   "cell_type": "code",
   "execution_count": 7,
   "metadata": {
    "_cell_guid": "841b0ea0-ec99-fc48-b80f-c3c2aa0f11cd"
   },
   "outputs": [],
   "source": [
    "# They're clean. They can be one-hot-encoded\n",
    "for country in sorted(list(df.Country.unique())):\n",
    "    df['Country_'+str(country)] = (df.Country == country).astype(int)\n",
    "to_drop.append('Country')"
   ]
  },
  {
   "cell_type": "code",
   "execution_count": 8,
   "metadata": {
    "_cell_guid": "a1e17b89-420f-ed31-fee2-2a6df1b10c25"
   },
   "outputs": [
    {
     "data": {
      "text/plain": [
       "Country\n",
       "Australia                 1.000000\n",
       "Austria                   1.000000\n",
       "Bahamas, The              0.000000\n",
       "Belgium                   1.000000\n",
       "Bosnia and Herzegovina    1.000000\n",
       "Brazil                    1.000000\n",
       "Bulgaria                  0.750000\n",
       "Canada                    1.000000\n",
       "China                     1.000000\n",
       "Colombia                  1.000000\n",
       "Costa Rica                1.000000\n",
       "Croatia                   1.000000\n",
       "Czech Republic            1.000000\n",
       "Denmark                   1.000000\n",
       "Finland                   1.000000\n",
       "France                    1.000000\n",
       "Georgia                   1.000000\n",
       "Germany                   1.000000\n",
       "Greece                    1.000000\n",
       "Hungary                   1.000000\n",
       "India                     1.000000\n",
       "Ireland                   1.000000\n",
       "Israel                    0.800000\n",
       "Italy                     1.000000\n",
       "Japan                     1.000000\n",
       "Latvia                    0.000000\n",
       "Mexico                    1.000000\n",
       "Moldova                   1.000000\n",
       "Netherlands               1.000000\n",
       "New Zealand               1.000000\n",
       "Nigeria                   1.000000\n",
       "Norway                    1.000000\n",
       "Philippines               1.000000\n",
       "Poland                    1.000000\n",
       "Portugal                  1.000000\n",
       "Romania                   1.000000\n",
       "Russia                    1.000000\n",
       "Singapore                 1.000000\n",
       "Slovenia                  1.000000\n",
       "South Africa              1.000000\n",
       "Spain                     1.000000\n",
       "Sweden                    1.000000\n",
       "Switzerland               1.000000\n",
       "Thailand                  1.000000\n",
       "United Kingdom            1.000000\n",
       "United States             0.014647\n",
       "Uruguay                   1.000000\n",
       "Zimbabwe                  1.000000\n",
       "Name: state, dtype: float64"
      ]
     },
     "execution_count": 8,
     "metadata": {},
     "output_type": "execute_result"
    }
   ],
   "source": [
    "# First we need to handle the missing values in state. There are simply too many to ignore\n",
    "# Let's see where exactly they are missing. I suspect that only US states have been recorded\n",
    "df.groupby('Country')['state'].apply(lambda x: x.isnull().mean())"
   ]
  },
  {
   "cell_type": "code",
   "execution_count": 9,
   "metadata": {
    "_cell_guid": "19d6752c-62d0-8a95-9d27-1afdf9e95e97"
   },
   "outputs": [
    {
     "name": "stdout",
     "output_type": "stream",
     "text": [
      "converted self_employed\n",
      "converted family_history\n",
      "converted treatment\n",
      "converted remote_work\n",
      "converted tech_company\n",
      "converted obs_consequence\n"
     ]
    }
   ],
   "source": [
    "# As we can see, most countries have no state data.\n",
    "# It's just easier to leave the NA's as they are\n",
    "# We'll one hot them too.\n",
    "for st in list(df.state.unique()):\n",
    "    df['state_'+str(st)] = (df.state == st).astype(int)\n",
    "to_drop.append('state')\n",
    "\n",
    "# all the columns which are binary in nature, let's make them 01 based.\n",
    "df.self_employed.fillna(df.self_employed.mode()[0], inplace=True)\n",
    "for col in df.select_dtypes(include=['object']):\n",
    "    u_count = len(df[col].unique()) \n",
    "    if u_count < 2:\n",
    "        to_drop.append(col)\n",
    "        print('adding ', col, 'to drop list as no variation')\n",
    "    elif u_count == 2:\n",
    "        first = list(df[col].unique())[-1]\n",
    "        df[col] = (df[col] == first).astype(int)\n",
    "        print('converted', col)"
   ]
  },
  {
   "cell_type": "code",
   "execution_count": 10,
   "metadata": {
    "_cell_guid": "6cbe0554-d2f1-18e4-2a9c-56c07e679874"
   },
   "outputs": [
    {
     "name": "stdout",
     "output_type": "stream",
     "text": [
      "<class 'pandas.core.frame.DataFrame'>\n",
      "RangeIndex: 1259 entries, 0 to 1258\n",
      "Columns: 120 entries, Age to state_ME\n",
      "dtypes: bool(3), int64(101), object(16)\n",
      "memory usage: 1.1+ MB\n"
     ]
    }
   ],
   "source": [
    "# Let's see what is still left\n",
    "df.drop(to_drop, axis=1).info()"
   ]
  },
  {
   "cell_type": "code",
   "execution_count": 11,
   "metadata": {
    "_cell_guid": "885cf119-2372-c942-e2b2-27b20f444295"
   },
   "outputs": [
    {
     "data": {
      "text/plain": [
       "array(['Often', 'Rarely', 'Never', 'Sometimes', nan], dtype=object)"
      ]
     },
     "execution_count": 11,
     "metadata": {},
     "output_type": "execute_result"
    }
   ],
   "source": [
    "# For now we drop everything else.\n",
    "df.work_interfere.unique()"
   ]
  },
  {
   "cell_type": "code",
   "execution_count": 12,
   "metadata": {
    "_cell_guid": "e054bbab-74e5-a7a0-4ea4-0ca63b2f9323"
   },
   "outputs": [
    {
     "data": {
      "text/plain": [
       "array(['6-25', 'More than 1000', '26-100', '100-500', '1-5', '500-1000'],\n",
       "      dtype=object)"
      ]
     },
     "execution_count": 12,
     "metadata": {},
     "output_type": "execute_result"
    }
   ],
   "source": [
    "df.work_interfere.fillna(df.work_interfere.mode().values[0], inplace=True)\n",
    "df.work_interfere = df.work_interfere.map({'Never': 0, 'Rarely': 1,\n",
    "                                           'Sometimes': 2, 'Often': 3})\n",
    "df.no_employees.unique()"
   ]
  },
  {
   "cell_type": "code",
   "execution_count": 13,
   "metadata": {
    "_cell_guid": "a30d0f58-fb08-71f0-e1b8-7edab49af6cb"
   },
   "outputs": [
    {
     "data": {
      "text/plain": [
       "array(['Yes', \"Don't know\", 'No'], dtype=object)"
      ]
     },
     "execution_count": 13,
     "metadata": {},
     "output_type": "execute_result"
    }
   ],
   "source": [
    "df.no_employees = df.no_employees.map({'6-25': 6, '26-100': 26,\n",
    "                                       '100-500': 100, '500-1000': 500,\n",
    "                                       'More than 1000': 1000, '1-5': 1\n",
    "                                      })\n",
    "df.benefits.unique()"
   ]
  },
  {
   "cell_type": "code",
   "execution_count": 14,
   "metadata": {
    "_cell_guid": "1ef1ffc1-cf55-5413-0c35-476849267c30"
   },
   "outputs": [
    {
     "name": "stdout",
     "output_type": "stream",
     "text": [
      "encoding benefits To -1, 0, 1\n",
      "encoding care_options To -1, 0, 1\n",
      "encoding wellness_program To -1, 0, 1\n",
      "encoding seek_help To -1, 0, 1\n",
      "encoding anonymity To -1, 0, 1\n",
      "encoding mental_health_consequence To -1, 0, 1\n",
      "encoding phys_health_consequence To -1, 0, 1\n",
      "encoding coworkers To -1, 0, 1\n",
      "encoding supervisor To -1, 0, 1\n",
      "encoding mental_health_interview To -1, 0, 1\n",
      "encoding phys_health_interview To -1, 0, 1\n",
      "encoding mental_vs_physical To -1, 0, 1\n"
     ]
    }
   ],
   "source": [
    "# There is another pattern here. We take advantage of that:\n",
    "option_map = {'Yes': 1, 'No': -1, \"Don't know\": 0,\n",
    "              'Not sure': 0, 'Maybe': 0, 'Some of them': 0}\n",
    "ynns = {'Yes': 1, 'No': -1, 'Not sure': 0}\n",
    "for col in df.select_dtypes(include=['object']):\n",
    "    uniques = set(df[col].unique())\n",
    "    if (uniques == {'Yes', 'No', \"Don't know\"} or\n",
    "        uniques == {'Yes', 'No', 'Not sure'} or\n",
    "        uniques == {'Yes', 'No', 'Maybe'} or\n",
    "        uniques == {'Yes', 'No', 'Some of them'}):\n",
    "        print('encoding', col, 'To -1, 0, 1')\n",
    "        df[col] = df[col].map(option_map)"
   ]
  },
  {
   "cell_type": "code",
   "execution_count": 15,
   "metadata": {
    "_cell_guid": "11a96a55-0971-63c4-96b9-8ac64ad32e57"
   },
   "outputs": [
    {
     "data": {
      "text/html": [
       "<div>\n",
       "<style scoped>\n",
       "    .dataframe tbody tr th:only-of-type {\n",
       "        vertical-align: middle;\n",
       "    }\n",
       "\n",
       "    .dataframe tbody tr th {\n",
       "        vertical-align: top;\n",
       "    }\n",
       "\n",
       "    .dataframe thead th {\n",
       "        text-align: right;\n",
       "    }\n",
       "</style>\n",
       "<table border=\"1\" class=\"dataframe\">\n",
       "  <thead>\n",
       "    <tr style=\"text-align: right;\">\n",
       "      <th></th>\n",
       "      <th>Timestamp</th>\n",
       "      <th>Gender</th>\n",
       "      <th>Country</th>\n",
       "      <th>state</th>\n",
       "      <th>leave</th>\n",
       "      <th>comments</th>\n",
       "    </tr>\n",
       "  </thead>\n",
       "  <tbody>\n",
       "    <tr>\n",
       "      <th>count</th>\n",
       "      <td>1259</td>\n",
       "      <td>1259</td>\n",
       "      <td>1259</td>\n",
       "      <td>744</td>\n",
       "      <td>1259</td>\n",
       "      <td>164</td>\n",
       "    </tr>\n",
       "    <tr>\n",
       "      <th>unique</th>\n",
       "      <td>1246</td>\n",
       "      <td>41</td>\n",
       "      <td>48</td>\n",
       "      <td>45</td>\n",
       "      <td>5</td>\n",
       "      <td>160</td>\n",
       "    </tr>\n",
       "    <tr>\n",
       "      <th>top</th>\n",
       "      <td>2014-08-27 12:44:51</td>\n",
       "      <td>male</td>\n",
       "      <td>United States</td>\n",
       "      <td>CA</td>\n",
       "      <td>Don't know</td>\n",
       "      <td>* Small family business - YMMV.</td>\n",
       "    </tr>\n",
       "    <tr>\n",
       "      <th>freq</th>\n",
       "      <td>2</td>\n",
       "      <td>971</td>\n",
       "      <td>751</td>\n",
       "      <td>138</td>\n",
       "      <td>563</td>\n",
       "      <td>5</td>\n",
       "    </tr>\n",
       "  </tbody>\n",
       "</table>\n",
       "</div>"
      ],
      "text/plain": [
       "                  Timestamp Gender        Country state       leave  \\\n",
       "count                  1259   1259           1259   744        1259   \n",
       "unique                 1246     41             48    45           5   \n",
       "top     2014-08-27 12:44:51   male  United States    CA  Don't know   \n",
       "freq                      2    971            751   138         563   \n",
       "\n",
       "                               comments  \n",
       "count                               164  \n",
       "unique                              160  \n",
       "top     * Small family business - YMMV.  \n",
       "freq                                  5  "
      ]
     },
     "execution_count": 15,
     "metadata": {},
     "output_type": "execute_result"
    }
   ],
   "source": [
    "df.describe(include=['O'])"
   ]
  },
  {
   "cell_type": "code",
   "execution_count": 16,
   "metadata": {
    "_cell_guid": "c5b69b64-4427-8b8a-9fbc-b2eb07aac7f1"
   },
   "outputs": [
    {
     "data": {
      "text/plain": [
       "array(['Somewhat easy', \"Don't know\", 'Somewhat difficult',\n",
       "       'Very difficult', 'Very easy'], dtype=object)"
      ]
     },
     "execution_count": 16,
     "metadata": {},
     "output_type": "execute_result"
    }
   ],
   "source": [
    "df.leave.unique()"
   ]
  },
  {
   "cell_type": "code",
   "execution_count": 17,
   "metadata": {
    "_cell_guid": "b8857aa2-2d6b-dd2b-3e66-ae95bd4c3afa"
   },
   "outputs": [],
   "source": [
    "df.leave = df.leave.map({'Very easy': 0, 'Somewhat easy': 1, \"Don't know\": 2, 'Somewhat difficult': 3,\n",
    "                         'Very difficult': 4\n",
    "                        })\n",
    "# this leaves comments as the only string data. Since it's quiet small in number, we'll drop it"
   ]
  },
  {
   "cell_type": "code",
   "execution_count": 18,
   "metadata": {
    "_cell_guid": "2ec72b3a-be12-78fe-0e0e-bea50ce2fc72"
   },
   "outputs": [
    {
     "name": "stdout",
     "output_type": "stream",
     "text": [
      "<class 'pandas.core.frame.DataFrame'>\n",
      "RangeIndex: 1259 entries, 0 to 1258\n",
      "Columns: 124 entries, Timestamp to state_ME\n",
      "dtypes: bool(3), int64(116), object(5)\n",
      "memory usage: 1.2+ MB\n"
     ]
    }
   ],
   "source": [
    "to_drop.append('comments')\n",
    "df.info()"
   ]
  },
  {
   "cell_type": "code",
   "execution_count": 19,
   "metadata": {
    "_cell_guid": "b6aafaad-c132-7800-2890-5e661e3b274d"
   },
   "outputs": [
    {
     "name": "stdout",
     "output_type": "stream",
     "text": [
      "['Timestamp', 'Gender', 'Country', 'state', 'comments']\n",
      "<class 'pandas.core.frame.DataFrame'>\n",
      "RangeIndex: 1259 entries, 0 to 1258\n",
      "Columns: 119 entries, Age to state_ME\n",
      "dtypes: bool(3), int64(116)\n",
      "memory usage: 1.1 MB\n"
     ]
    }
   ],
   "source": [
    "# We obtain a clean dataset. Now we can try predicting stuff.\n",
    "print(to_drop)\n",
    "data = df.drop(to_drop, axis=1)\n",
    "data.info()"
   ]
  },
  {
   "cell_type": "markdown",
   "metadata": {
    "_cell_guid": "3a04d2b1-991b-79e1-88da-b2477b9e6832"
   },
   "source": [
    "# Since we have nothing to classify/ regress, we choose some"
   ]
  },
  {
   "cell_type": "code",
   "execution_count": 20,
   "metadata": {
    "_cell_guid": "e9617665-2511-191f-7217-6a20e3348464"
   },
   "outputs": [],
   "source": [
    "# Thos who have shought treatment\n",
    "x, y = data.drop('treatment', axis=1), data.treatment\n",
    "\n",
    "# FIRST-AUTHOR: remove ML code\n",
    "# from sklearn.ensemble import RandomForestClassifier\n",
    "# from sklearn.model_selection import cross_val_score\n",
    "# model = RandomForestClassifier(n_jobs=-1, n_estimators=200, class_weight='balanced')\n",
    "# scores = cross_val_score(model, x, y, scoring='roc_auc', cv=5)\n",
    "# print(scores.mean())"
   ]
  },
  {
   "cell_type": "code",
   "execution_count": 21,
   "metadata": {
    "_cell_guid": "1a1b9d57-2a90-3594-9deb-d1376461bff9"
   },
   "outputs": [],
   "source": [
    "# Family history\n",
    "x, y = data.drop('family_history', axis=1), data.family_history\n",
    "# FIRST-AUTHOR: remove ML code\n",
    "# model = RandomForestClassifier(n_jobs=-1, n_estimators=200, class_weight='balanced')\n",
    "# scores = cross_val_score(model, x, y, scoring='roc_auc', cv=5)\n",
    "# print(scores.mean())"
   ]
  },
  {
   "cell_type": "markdown",
   "metadata": {
    "_cell_guid": "5f41dee5-9313-5081-43a3-a8dab6dd1e26"
   },
   "source": [
    "We leave it at that for now."
   ]
  }
 ],
 "metadata": {
  "_change_revision": 1742,
  "_is_fork": false,
  "kernelspec": {
   "display_name": "Python 3 (ipykernel)",
   "language": "python",
   "name": "python3"
  },
  "language_info": {
   "codemirror_mode": {
    "name": "ipython",
    "version": 3
   },
   "file_extension": ".py",
   "mimetype": "text/x-python",
   "name": "python",
   "nbconvert_exporter": "python",
   "pygments_lexer": "ipython3",
   "version": "3.10.16"
  }
 },
 "nbformat": 4,
 "nbformat_minor": 1
}