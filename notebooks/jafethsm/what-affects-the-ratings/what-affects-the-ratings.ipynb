{
 "cells": [
  {
   "cell_type": "code",
   "execution_count": 2,
   "metadata": {},
   "outputs": [],
   "source": [
    "import os\n",
    "\n",
    "def scale_input_data(scale_factor):\n",
    "  file_bases = ['./input/chefmozaccepts', './input/chefmozcuisine', './input/chefmozhours4',\n",
    "                './input/chefmozparking', './input/geoplaces2', './input/usercuisine',\n",
    "                './input/userpayment', './input/userprofile', './input/rating_final']\n",
    "  for file_base in file_bases:\n",
    "    import pandas as pd\n",
    "    import shutil\n",
    "    if scale_factor == 1.0:\n",
    "      shutil.copyfile(file_base + '.csv', file_base + '.scaled.csv')\n",
    "      continue\n",
    "    df_to_scale = pd.read_csv(file_base + '.csv')\n",
    "    new_num_rows = int(scale_factor * len(df_to_scale))\n",
    "    if scale_factor <= 1.0:\n",
    "      df_to_scale = df_to_scale.iloc[:new_num_rows]\n",
    "    else:\n",
    "      while len(df_to_scale) < new_num_rows:\n",
    "        df_to_scale = pd.concat([df_to_scale, df_to_scale[:min(new_num_rows - len(df_to_scale), len(df_to_scale))]])\n",
    "    df_to_scale.to_csv(file_base + '.scaled.csv', index=False)\n",
    "\n",
    "if 'INPUT_SCALE_FACTOR' in os.environ:\n",
    "  scale_input_data(float(os.environ['INPUT_SCALE_FACTOR']))"
   ]
  },
  {
   "cell_type": "markdown",
   "metadata": {
    "_cell_guid": "de1d9e9f-96b6-497b-805a-c335f9b882b8",
    "_uuid": "291b5ef28fe537e33171f1e5bf7b1b2f23600952"
   },
   "source": [
    "# What Affects the Ratings?\n",
    "\n",
    "**By Li-Yen Hsu (11/08/2017)**\n",
    "<br><br>\n",
    "  In another [kernel](https://www.kaggle.com/liyenhsu/simple-content-based-recommenders), I implemented two content-based recommender systems and tried the [SVD algorithm](http://sifter.org/simon/journal/20061211.html) using [Surprise](http://surpriselib.com/). In this kernel, I will focus on data exploration, looking for correlations within the data.\n",
    "<br><br>\n",
    "  It's obvious that the main factors that affect the ratings are (1) how delicious the food is, and (2) how well a customer is served. These two are definitely not something that are in the data. But some of the features of a restaurant still have some influence on the ratings. For a content-based approach, selecting the relevant features is important for the rating prediction."
   ]
  },
  {
   "cell_type": "code",
   "execution_count": 4,
   "metadata": {
    "_cell_guid": "f368523d-9435-45de-a458-04ed5202342b",
    "_uuid": "3588092b447848f3682e38030fbf5944591554e0"
   },
   "outputs": [],
   "source": [
    "import numpy as np \n",
    "# import pandas as pd\n",
    "exec(os.environ['IREWR_IMPORTS'])\n",
    "# FIRST-AUTHOR: remove plotting\n",
    "# import matplotlib.pyplot as plt\n",
    "# import random\n",
    "\n",
    "pd.set_option('mode.chained_assignment', None)\n",
    "\n",
    "# Note that there are no NANs in these data; '?' is\n",
    "# used when there is missing information\n",
    "accepts = pd.read_csv('./input/chefmozaccepts.scaled.csv')\n",
    "cuisine = pd.read_csv('./input/chefmozcuisine.scaled.csv')\n",
    "hours = pd.read_csv('./input/chefmozhours4.scaled.csv')\n",
    "parking = pd.read_csv('./input/chefmozparking.scaled.csv')\n",
    "geo = pd.read_csv('./input/geoplaces2.scaled.csv') \n",
    "usercuisine = pd.read_csv('./input/usercuisine.scaled.csv')\n",
    "payment = pd.read_csv('./input/userpayment.scaled.csv')\n",
    "profile = pd.read_csv('./input/userprofile.scaled.csv')\n",
    "rating = pd.read_csv('./input/rating_final.scaled.csv')"
   ]
  },
  {
   "cell_type": "markdown",
   "metadata": {
    "_cell_guid": "ba0bb5c5-15bc-4b56-bb9c-18d546b84ce1",
    "_uuid": "7828d58da4e7588a685c2bbdf49e6c7546a6b0b7"
   },
   "source": [
    "## Data Preprocessing ##\n",
    "This part is pretty much the same as another [kernel](https://www.kaggle.com/liyenhsu/simple-content-based-recommenders) I posted. Please go there for a more complete description."
   ]
  },
  {
   "cell_type": "code",
   "execution_count": 5,
   "metadata": {
    "_cell_guid": "99b4a571-3cba-4fb3-9c7a-71e45c78f394",
    "_uuid": "d4fc47f581b7d3a5024e0a05c0be53b3d462f5a5"
   },
   "outputs": [
    {
     "name": "stdout",
     "output_type": "stream",
     "text": [
      "There are 322 restaurants.\n"
     ]
    }
   ],
   "source": [
    "res_all = np.concatenate((accepts.placeID, cuisine.placeID, \n",
    "                          hours.placeID, parking.placeID, geo.placeID))\n",
    "res_all = np.sort( np.unique(res_all) ) # All the placeID's\n",
    "\n",
    "print(\"There are {} restaurants.\".format(len(res_all)))"
   ]
  },
  {
   "cell_type": "code",
   "execution_count": 6,
   "metadata": {
    "_cell_guid": "2b13516a-7b86-47b1-9502-9c8b93eea7fc",
    "_uuid": "93d32bf55ae31fbf8b6dc9731ee97246142459d6"
   },
   "outputs": [
    {
     "name": "stdout",
     "output_type": "stream",
     "text": [
      "There are 56 users.\n"
     ]
    }
   ],
   "source": [
    "user_all = np.concatenate((usercuisine.userID, payment.userID, profile.userID))\n",
    "user_all = np.sort( np.unique(user_all) ) # All the userID's\n",
    "\n",
    "print(\"There are {} users.\".format(len(user_all)))"
   ]
  },
  {
   "cell_type": "code",
   "execution_count": 7,
   "metadata": {
    "_cell_guid": "70bab38b-d3ba-4e02-90d7-68bfb7683562",
    "_uuid": "e51cec9636794fadda203e987d40b88e7593051f"
   },
   "outputs": [
    {
     "data": {
      "text/html": [
       "<div>\n",
       "<style scoped>\n",
       "    .dataframe tbody tr th:only-of-type {\n",
       "        vertical-align: middle;\n",
       "    }\n",
       "\n",
       "    .dataframe tbody tr th {\n",
       "        vertical-align: top;\n",
       "    }\n",
       "\n",
       "    .dataframe thead th {\n",
       "        text-align: right;\n",
       "    }\n",
       "</style>\n",
       "<table border=\"1\" class=\"dataframe\">\n",
       "  <thead>\n",
       "    <tr style=\"text-align: right;\">\n",
       "      <th></th>\n",
       "      <th>userID</th>\n",
       "      <th>placeID</th>\n",
       "      <th>rating</th>\n",
       "      <th>food_rating</th>\n",
       "      <th>service_rating</th>\n",
       "    </tr>\n",
       "  </thead>\n",
       "  <tbody>\n",
       "    <tr>\n",
       "      <th>0</th>\n",
       "      <td>U1077</td>\n",
       "      <td>135085</td>\n",
       "      <td>2</td>\n",
       "      <td>2</td>\n",
       "      <td>2</td>\n",
       "    </tr>\n",
       "    <tr>\n",
       "      <th>1</th>\n",
       "      <td>U1077</td>\n",
       "      <td>135038</td>\n",
       "      <td>2</td>\n",
       "      <td>2</td>\n",
       "      <td>1</td>\n",
       "    </tr>\n",
       "    <tr>\n",
       "      <th>2</th>\n",
       "      <td>U1077</td>\n",
       "      <td>132825</td>\n",
       "      <td>2</td>\n",
       "      <td>2</td>\n",
       "      <td>2</td>\n",
       "    </tr>\n",
       "    <tr>\n",
       "      <th>3</th>\n",
       "      <td>U1077</td>\n",
       "      <td>135060</td>\n",
       "      <td>1</td>\n",
       "      <td>2</td>\n",
       "      <td>2</td>\n",
       "    </tr>\n",
       "    <tr>\n",
       "      <th>4</th>\n",
       "      <td>U1068</td>\n",
       "      <td>135104</td>\n",
       "      <td>1</td>\n",
       "      <td>1</td>\n",
       "      <td>2</td>\n",
       "    </tr>\n",
       "    <tr>\n",
       "      <th>5</th>\n",
       "      <td>U1068</td>\n",
       "      <td>132740</td>\n",
       "      <td>0</td>\n",
       "      <td>0</td>\n",
       "      <td>0</td>\n",
       "    </tr>\n",
       "    <tr>\n",
       "      <th>6</th>\n",
       "      <td>U1068</td>\n",
       "      <td>132663</td>\n",
       "      <td>1</td>\n",
       "      <td>1</td>\n",
       "      <td>1</td>\n",
       "    </tr>\n",
       "    <tr>\n",
       "      <th>7</th>\n",
       "      <td>U1068</td>\n",
       "      <td>132732</td>\n",
       "      <td>0</td>\n",
       "      <td>0</td>\n",
       "      <td>0</td>\n",
       "    </tr>\n",
       "    <tr>\n",
       "      <th>8</th>\n",
       "      <td>U1068</td>\n",
       "      <td>132630</td>\n",
       "      <td>1</td>\n",
       "      <td>1</td>\n",
       "      <td>1</td>\n",
       "    </tr>\n",
       "    <tr>\n",
       "      <th>9</th>\n",
       "      <td>U1067</td>\n",
       "      <td>132584</td>\n",
       "      <td>2</td>\n",
       "      <td>2</td>\n",
       "      <td>2</td>\n",
       "    </tr>\n",
       "  </tbody>\n",
       "</table>\n",
       "</div>"
      ],
      "text/plain": [
       "  userID  placeID  rating  food_rating  service_rating\n",
       "0  U1077   135085       2            2               2\n",
       "1  U1077   135038       2            2               1\n",
       "2  U1077   132825       2            2               2\n",
       "3  U1077   135060       1            2               2\n",
       "4  U1068   135104       1            1               2\n",
       "5  U1068   132740       0            0               0\n",
       "6  U1068   132663       1            1               1\n",
       "7  U1068   132732       0            0               0\n",
       "8  U1068   132630       1            1               1\n",
       "9  U1067   132584       2            2               2"
      ]
     },
     "execution_count": 7,
     "metadata": {},
     "output_type": "execute_result"
    }
   ],
   "source": [
    "rating.head(10) # There are three types of ratings"
   ]
  },
  {
   "cell_type": "code",
   "execution_count": 8,
   "metadata": {
    "_cell_guid": "e5111cbf-22aa-40d6-aeda-1d70b9474a89",
    "_uuid": "fe933141714d9843958331f58c0f030adb3ca78a"
   },
   "outputs": [
    {
     "name": "stdout",
     "output_type": "stream",
     "text": [
      "There are 103 restaurants with ratings.\n",
      "There are 53 users who gave ratings.\n"
     ]
    }
   ],
   "source": [
    "print(\"There are {} restaurants with ratings.\".format(len(rating.placeID.unique())))\n",
    "print(\"There are {} users who gave ratings.\".format(len(rating.userID.unique())))"
   ]
  },
  {
   "cell_type": "markdown",
   "metadata": {
    "_cell_guid": "86d3c41e-07d2-47a3-90f3-7da67528b7c4",
    "_uuid": "528cf2592ca4016eb1f1df63d9500a64d3883e38"
   },
   "source": [
    "I will now create three data frames for the three types of rating, each of which will have a shape of (938, 138). A restaurant-user pair without a rating will be recorded as -1 (to be different from 0, the lowest rating)."
   ]
  },
  {
   "cell_type": "code",
   "execution_count": 12,
   "metadata": {
    "_cell_guid": "04237c0c-47a7-4d47-b965-736d748a026b",
    "_uuid": "725e60c128515d6d3b313900b39518a36b2e92db"
   },
   "outputs": [
    {
     "name": "stdout",
     "output_type": "stream",
     "text": [
      "(322, 56)\n",
      "True\n",
      "True\n",
      "True\n",
      "True\n",
      "True\n",
      "False\n",
      "False\n",
      "True\n",
      "False\n",
      "False\n",
      "False\n",
      "True\n",
      "True\n",
      "True\n",
      "False\n",
      "True\n",
      "True\n",
      "True\n",
      "True\n",
      "True\n",
      "True\n",
      "True\n",
      "True\n",
      "False\n",
      "True\n",
      "True\n",
      "True\n",
      "False\n",
      "False\n",
      "True\n",
      "True\n",
      "True\n",
      "False\n",
      "True\n",
      "True\n",
      "False\n",
      "False\n",
      "True\n",
      "False\n",
      "True\n",
      "True\n",
      "True\n",
      "True\n",
      "False\n",
      "True\n",
      "True\n",
      "True\n",
      "True\n",
      "True\n",
      "True\n",
      "True\n",
      "True\n",
      "True\n",
      "True\n",
      "True\n",
      "True\n",
      "True\n",
      "False\n",
      "True\n",
      "True\n",
      "True\n",
      "True\n",
      "False\n",
      "True\n",
      "True\n",
      "False\n",
      "True\n",
      "True\n",
      "True\n",
      "True\n",
      "True\n",
      "True\n",
      "True\n",
      "True\n",
      "True\n",
      "True\n",
      "True\n",
      "True\n",
      "True\n",
      "True\n",
      "True\n",
      "True\n",
      "True\n",
      "True\n",
      "True\n",
      "True\n",
      "True\n",
      "True\n",
      "False\n",
      "True\n",
      "True\n",
      "True\n",
      "True\n",
      "True\n",
      "True\n",
      "True\n",
      "True\n",
      "True\n",
      "True\n",
      "True\n",
      "True\n",
      "True\n",
      "True\n",
      "True\n",
      "True\n",
      "True\n",
      "True\n",
      "True\n",
      "True\n",
      "True\n",
      "True\n",
      "True\n",
      "True\n",
      "True\n",
      "True\n",
      "False\n",
      "True\n",
      "True\n",
      "True\n",
      "True\n",
      "True\n",
      "True\n",
      "True\n",
      "True\n",
      "False\n",
      "True\n",
      "True\n",
      "False\n",
      "False\n",
      "True\n",
      "True\n",
      "True\n",
      "True\n",
      "True\n",
      "True\n",
      "True\n",
      "True\n",
      "True\n",
      "True\n",
      "True\n",
      "True\n",
      "True\n",
      "True\n",
      "True\n",
      "True\n",
      "True\n",
      "True\n",
      "True\n",
      "True\n",
      "True\n",
      "True\n",
      "True\n",
      "True\n",
      "True\n",
      "True\n",
      "True\n",
      "True\n",
      "True\n",
      "True\n",
      "True\n",
      "True\n",
      "True\n",
      "True\n",
      "True\n",
      "True\n",
      "True\n",
      "True\n",
      "True\n",
      "True\n",
      "True\n",
      "True\n",
      "True\n",
      "True\n",
      "True\n",
      "True\n",
      "True\n",
      "True\n",
      "False\n",
      "True\n",
      "True\n",
      "True\n",
      "False\n",
      "True\n",
      "True\n",
      "True\n",
      "True\n",
      "True\n",
      "True\n",
      "True\n",
      "True\n",
      "True\n",
      "True\n",
      "True\n",
      "True\n",
      "True\n",
      "True\n",
      "True\n",
      "True\n",
      "True\n",
      "True\n",
      "True\n",
      "True\n",
      "True\n",
      "True\n",
      "True\n",
      "True\n",
      "True\n",
      "True\n",
      "True\n",
      "True\n",
      "True\n",
      "True\n",
      "True\n",
      "True\n",
      "True\n",
      "False\n",
      "True\n",
      "True\n",
      "True\n",
      "True\n",
      "True\n",
      "True\n",
      "True\n",
      "True\n",
      "True\n",
      "True\n",
      "True\n",
      "True\n",
      "True\n",
      "True\n",
      "True\n",
      "True\n",
      "True\n",
      "True\n",
      "True\n",
      "True\n",
      "True\n",
      "True\n",
      "True\n",
      "True\n",
      "True\n",
      "True\n",
      "True\n",
      "True\n",
      "True\n",
      "True\n",
      "True\n",
      "True\n",
      "True\n",
      "True\n",
      "True\n",
      "True\n",
      "True\n",
      "True\n",
      "True\n",
      "True\n",
      "True\n",
      "True\n",
      "True\n",
      "True\n",
      "True\n",
      "True\n",
      "True\n",
      "True\n",
      "True\n",
      "True\n",
      "True\n",
      "True\n",
      "True\n",
      "True\n",
      "True\n",
      "True\n",
      "True\n",
      "True\n",
      "True\n",
      "True\n",
      "True\n",
      "True\n",
      "True\n",
      "True\n",
      "True\n",
      "True\n",
      "True\n",
      "True\n",
      "True\n",
      "True\n",
      "True\n",
      "True\n",
      "True\n",
      "True\n",
      "True\n",
      "True\n",
      "True\n",
      "True\n",
      "True\n",
      "True\n",
      "True\n",
      "True\n",
      "True\n",
      "True\n",
      "True\n",
      "True\n",
      "True\n",
      "True\n",
      "True\n",
      "True\n",
      "True\n",
      "True\n",
      "True\n",
      "True\n",
      "True\n",
      "True\n",
      "True\n",
      "True\n",
      "True\n",
      "True\n",
      "True\n",
      "True\n",
      "True\n",
      "True\n",
      "True\n",
      "True\n",
      "True\n",
      "True\n",
      "True\n",
      "True\n",
      "True\n",
      "True\n",
      "True\n",
      "True\n",
      "True\n",
      "True\n",
      "True\n",
      "True\n",
      "True\n",
      "True\n",
      "True\n",
      "True\n",
      "True\n",
      "True\n",
      "True\n",
      "True\n",
      "True\n",
      "True\n",
      "True\n",
      "True\n",
      "True\n",
      "True\n",
      "(347, 90) (56,)\n"
     ]
    },
    {
     "ename": "ValueError",
     "evalue": "Shape of passed values is (347, 90), indices imply (322, 56)",
     "output_type": "error",
     "traceback": [
      "\u001b[0;31m---------------------------------------------------------------------------\u001b[0m",
      "\u001b[0;31mValueError\u001b[0m                                Traceback (most recent call last)",
      "Cell \u001b[0;32mIn[12], line 16\u001b[0m\n\u001b[1;32m     14\u001b[0m \u001b[38;5;66;03m# This tells us whether a restaurant-user pair has a rating. 0 means No and 1 means Yes.\u001b[39;00m\n\u001b[1;32m     15\u001b[0m \u001b[38;5;28mprint\u001b[39m(overall_rating\u001b[38;5;241m.\u001b[39mshape, user_all\u001b[38;5;241m.\u001b[39mshape)\n\u001b[0;32m---> 16\u001b[0m review \u001b[38;5;241m=\u001b[39m \u001b[43mpd\u001b[49m\u001b[38;5;241;43m.\u001b[39;49m\u001b[43mDataFrame\u001b[49m\u001b[43m(\u001b[49m\u001b[43m \u001b[49m\u001b[43mnp\u001b[49m\u001b[38;5;241;43m.\u001b[39;49m\u001b[43mzeros\u001b[49m\u001b[43m(\u001b[49m\u001b[43moverall_rating\u001b[49m\u001b[38;5;241;43m.\u001b[39;49m\u001b[43mshape\u001b[49m\u001b[43m)\u001b[49m\u001b[43m,\u001b[49m\u001b[43m \u001b[49m\u001b[43mcolumns\u001b[49m\u001b[38;5;241;43m=\u001b[39;49m\u001b[43muser_all\u001b[49m\u001b[43m,\u001b[49m\u001b[43m \u001b[49m\u001b[43mindex\u001b[49m\u001b[38;5;241;43m=\u001b[39;49m\u001b[43mres_all\u001b[49m\u001b[43m)\u001b[49m\n\u001b[1;32m     17\u001b[0m review[overall_rating \u001b[38;5;241m>\u001b[39m\u001b[38;5;241m=\u001b[39m \u001b[38;5;241m0\u001b[39m] \u001b[38;5;241m=\u001b[39m \u001b[38;5;241m1\u001b[39m\n",
      "File \u001b[0;32m~/Programs/python/dias/.venv/lib64/python3.10/site-packages/pandas/core/frame.py:720\u001b[0m, in \u001b[0;36mDataFrame.__init__\u001b[0;34m(self, data, index, columns, dtype, copy)\u001b[0m\n\u001b[1;32m    710\u001b[0m         mgr \u001b[38;5;241m=\u001b[39m dict_to_mgr(\n\u001b[1;32m    711\u001b[0m             \u001b[38;5;66;03m# error: Item \"ndarray\" of \"Union[ndarray, Series, Index]\" has no\u001b[39;00m\n\u001b[1;32m    712\u001b[0m             \u001b[38;5;66;03m# attribute \"name\"\u001b[39;00m\n\u001b[0;32m   (...)\u001b[0m\n\u001b[1;32m    717\u001b[0m             typ\u001b[38;5;241m=\u001b[39mmanager,\n\u001b[1;32m    718\u001b[0m         )\n\u001b[1;32m    719\u001b[0m     \u001b[38;5;28;01melse\u001b[39;00m:\n\u001b[0;32m--> 720\u001b[0m         mgr \u001b[38;5;241m=\u001b[39m \u001b[43mndarray_to_mgr\u001b[49m\u001b[43m(\u001b[49m\n\u001b[1;32m    721\u001b[0m \u001b[43m            \u001b[49m\u001b[43mdata\u001b[49m\u001b[43m,\u001b[49m\n\u001b[1;32m    722\u001b[0m \u001b[43m            \u001b[49m\u001b[43mindex\u001b[49m\u001b[43m,\u001b[49m\n\u001b[1;32m    723\u001b[0m \u001b[43m            \u001b[49m\u001b[43mcolumns\u001b[49m\u001b[43m,\u001b[49m\n\u001b[1;32m    724\u001b[0m \u001b[43m            \u001b[49m\u001b[43mdtype\u001b[49m\u001b[38;5;241;43m=\u001b[39;49m\u001b[43mdtype\u001b[49m\u001b[43m,\u001b[49m\n\u001b[1;32m    725\u001b[0m \u001b[43m            \u001b[49m\u001b[43mcopy\u001b[49m\u001b[38;5;241;43m=\u001b[39;49m\u001b[43mcopy\u001b[49m\u001b[43m,\u001b[49m\n\u001b[1;32m    726\u001b[0m \u001b[43m            \u001b[49m\u001b[43mtyp\u001b[49m\u001b[38;5;241;43m=\u001b[39;49m\u001b[43mmanager\u001b[49m\u001b[43m,\u001b[49m\n\u001b[1;32m    727\u001b[0m \u001b[43m        \u001b[49m\u001b[43m)\u001b[49m\n\u001b[1;32m    729\u001b[0m \u001b[38;5;66;03m# For data is list-like, or Iterable (will consume into list)\u001b[39;00m\n\u001b[1;32m    730\u001b[0m \u001b[38;5;28;01melif\u001b[39;00m is_list_like(data):\n",
      "File \u001b[0;32m~/Programs/python/dias/.venv/lib64/python3.10/site-packages/pandas/core/internals/construction.py:349\u001b[0m, in \u001b[0;36mndarray_to_mgr\u001b[0;34m(values, index, columns, dtype, copy, typ)\u001b[0m\n\u001b[1;32m    344\u001b[0m \u001b[38;5;66;03m# _prep_ndarraylike ensures that values.ndim == 2 at this point\u001b[39;00m\n\u001b[1;32m    345\u001b[0m index, columns \u001b[38;5;241m=\u001b[39m _get_axes(\n\u001b[1;32m    346\u001b[0m     values\u001b[38;5;241m.\u001b[39mshape[\u001b[38;5;241m0\u001b[39m], values\u001b[38;5;241m.\u001b[39mshape[\u001b[38;5;241m1\u001b[39m], index\u001b[38;5;241m=\u001b[39mindex, columns\u001b[38;5;241m=\u001b[39mcolumns\n\u001b[1;32m    347\u001b[0m )\n\u001b[0;32m--> 349\u001b[0m \u001b[43m_check_values_indices_shape_match\u001b[49m\u001b[43m(\u001b[49m\u001b[43mvalues\u001b[49m\u001b[43m,\u001b[49m\u001b[43m \u001b[49m\u001b[43mindex\u001b[49m\u001b[43m,\u001b[49m\u001b[43m \u001b[49m\u001b[43mcolumns\u001b[49m\u001b[43m)\u001b[49m\n\u001b[1;32m    351\u001b[0m \u001b[38;5;28;01mif\u001b[39;00m typ \u001b[38;5;241m==\u001b[39m \u001b[38;5;124m\"\u001b[39m\u001b[38;5;124marray\u001b[39m\u001b[38;5;124m\"\u001b[39m:\n\u001b[1;32m    353\u001b[0m     \u001b[38;5;28;01mif\u001b[39;00m \u001b[38;5;28missubclass\u001b[39m(values\u001b[38;5;241m.\u001b[39mdtype\u001b[38;5;241m.\u001b[39mtype, \u001b[38;5;28mstr\u001b[39m):\n",
      "File \u001b[0;32m~/Programs/python/dias/.venv/lib64/python3.10/site-packages/pandas/core/internals/construction.py:420\u001b[0m, in \u001b[0;36m_check_values_indices_shape_match\u001b[0;34m(values, index, columns)\u001b[0m\n\u001b[1;32m    418\u001b[0m passed \u001b[38;5;241m=\u001b[39m values\u001b[38;5;241m.\u001b[39mshape\n\u001b[1;32m    419\u001b[0m implied \u001b[38;5;241m=\u001b[39m (\u001b[38;5;28mlen\u001b[39m(index), \u001b[38;5;28mlen\u001b[39m(columns))\n\u001b[0;32m--> 420\u001b[0m \u001b[38;5;28;01mraise\u001b[39;00m \u001b[38;5;167;01mValueError\u001b[39;00m(\u001b[38;5;124mf\u001b[39m\u001b[38;5;124m\"\u001b[39m\u001b[38;5;124mShape of passed values is \u001b[39m\u001b[38;5;132;01m{\u001b[39;00mpassed\u001b[38;5;132;01m}\u001b[39;00m\u001b[38;5;124m, indices imply \u001b[39m\u001b[38;5;132;01m{\u001b[39;00mimplied\u001b[38;5;132;01m}\u001b[39;00m\u001b[38;5;124m\"\u001b[39m)\n",
      "\u001b[0;31mValueError\u001b[0m: Shape of passed values is (347, 90), indices imply (322, 56)"
     ]
    }
   ],
   "source": [
    "overall_rating = pd.DataFrame( np.zeros((len(res_all),len(user_all)))-1.0, \n",
    "                              columns=user_all, index=res_all )\n",
    "food_rating = overall_rating.copy()\n",
    "service_rating = overall_rating.copy() \n",
    "\n",
    "for r, u, o, f, s in zip(rating.placeID, rating.userID, rating.rating, rating.food_rating, \n",
    "                         rating.service_rating):\n",
    "    overall_rating.loc[r,u] = o\n",
    "    food_rating.loc[r,u] = f\n",
    "    service_rating.loc[r,u] = s\n",
    "\n",
    "# This tells us whether a restaurant-user pair has a rating. 0 means No and 1 means Yes.\n",
    "review = pd.DataFrame( np.zeros(overall_rating.shape), columns=user_all, index=res_all)\n",
    "review[overall_rating >= 0] = 1"
   ]
  },
  {
   "cell_type": "markdown",
   "metadata": {
    "_cell_guid": "f6fc5d32-210d-4498-9d92-05cc1da78aa3",
    "_uuid": "b7ffd05f51da5a06a8e96b24ae77bece4ccb9cff"
   },
   "source": [
    "I'll be looking at the restaurant features from **cuisine, parking** and **geo**. The payment options and business hours should have very little effects on the rating, so I won't look into **accepts** and **hours** here."
   ]
  },
  {
   "cell_type": "code",
   "execution_count": 7,
   "metadata": {
    "_cell_guid": "14685408-bfad-4ec7-8e38-aea1dc011fae",
    "_uuid": "9be903d51b85d8d32ce0ed284be2fbb09c1069aa"
   },
   "outputs": [
    {
     "data": {
      "text/html": [
       "<div>\n",
       "<style scoped>\n",
       "    .dataframe tbody tr th:only-of-type {\n",
       "        vertical-align: middle;\n",
       "    }\n",
       "\n",
       "    .dataframe tbody tr th {\n",
       "        vertical-align: top;\n",
       "    }\n",
       "\n",
       "    .dataframe thead th {\n",
       "        text-align: right;\n",
       "    }\n",
       "</style>\n",
       "<table border=\"1\" class=\"dataframe\">\n",
       "  <thead>\n",
       "    <tr style=\"text-align: right;\">\n",
       "      <th></th>\n",
       "      <th>placeID</th>\n",
       "      <th>Rcuisine</th>\n",
       "    </tr>\n",
       "  </thead>\n",
       "  <tbody>\n",
       "    <tr>\n",
       "      <th>0</th>\n",
       "      <td>135110</td>\n",
       "      <td>Spanish</td>\n",
       "    </tr>\n",
       "    <tr>\n",
       "      <th>1</th>\n",
       "      <td>135109</td>\n",
       "      <td>Italian</td>\n",
       "    </tr>\n",
       "    <tr>\n",
       "      <th>2</th>\n",
       "      <td>135107</td>\n",
       "      <td>Latin_American</td>\n",
       "    </tr>\n",
       "    <tr>\n",
       "      <th>3</th>\n",
       "      <td>135106</td>\n",
       "      <td>Mexican</td>\n",
       "    </tr>\n",
       "    <tr>\n",
       "      <th>4</th>\n",
       "      <td>135105</td>\n",
       "      <td>Fast_Food</td>\n",
       "    </tr>\n",
       "    <tr>\n",
       "      <th>5</th>\n",
       "      <td>135104</td>\n",
       "      <td>Mexican</td>\n",
       "    </tr>\n",
       "    <tr>\n",
       "      <th>6</th>\n",
       "      <td>135103</td>\n",
       "      <td>Burgers</td>\n",
       "    </tr>\n",
       "    <tr>\n",
       "      <th>7</th>\n",
       "      <td>135103</td>\n",
       "      <td>Dessert-Ice_Cream</td>\n",
       "    </tr>\n",
       "    <tr>\n",
       "      <th>8</th>\n",
       "      <td>135103</td>\n",
       "      <td>Fast_Food</td>\n",
       "    </tr>\n",
       "    <tr>\n",
       "      <th>9</th>\n",
       "      <td>135103</td>\n",
       "      <td>Hot_Dogs</td>\n",
       "    </tr>\n",
       "  </tbody>\n",
       "</table>\n",
       "</div>"
      ],
      "text/plain": [
       "   placeID           Rcuisine\n",
       "0   135110            Spanish\n",
       "1   135109            Italian\n",
       "2   135107     Latin_American\n",
       "3   135106            Mexican\n",
       "4   135105          Fast_Food\n",
       "5   135104            Mexican\n",
       "6   135103            Burgers\n",
       "7   135103  Dessert-Ice_Cream\n",
       "8   135103          Fast_Food\n",
       "9   135103           Hot_Dogs"
      ]
     },
     "execution_count": 7,
     "metadata": {},
     "output_type": "execute_result"
    }
   ],
   "source": [
    "cuisine.head(10)"
   ]
  },
  {
   "cell_type": "code",
   "execution_count": 8,
   "metadata": {
    "_cell_guid": "a3c240fc-03e3-4dfb-9c1f-b602c6601657",
    "_uuid": "3fa4e11df554f63e198892d9e75c3e90fca7fd01"
   },
   "outputs": [],
   "source": [
    "# use dummy variables for different cuisine categories of the restaurants\n",
    "res_cuisine = pd.get_dummies(cuisine,columns=['Rcuisine'])\n",
    "\n",
    "# remove duplicate restaurant ID's. \n",
    "# A restaurant with multiple cuisine categories would have multiple columns equal 1\n",
    "res_cuisine = res_cuisine.groupby('placeID',as_index=False).sum()"
   ]
  },
  {
   "cell_type": "code",
   "execution_count": 9,
   "metadata": {
    "_cell_guid": "eae5e8c8-789e-4aea-a0cd-9f178801fb73",
    "_uuid": "d041d40efca3fc0bc27fb026b6a62158e8846ead"
   },
   "outputs": [
    {
     "data": {
      "text/html": [
       "<div>\n",
       "<style scoped>\n",
       "    .dataframe tbody tr th:only-of-type {\n",
       "        vertical-align: middle;\n",
       "    }\n",
       "\n",
       "    .dataframe tbody tr th {\n",
       "        vertical-align: top;\n",
       "    }\n",
       "\n",
       "    .dataframe thead th {\n",
       "        text-align: right;\n",
       "    }\n",
       "</style>\n",
       "<table border=\"1\" class=\"dataframe\">\n",
       "  <thead>\n",
       "    <tr style=\"text-align: right;\">\n",
       "      <th></th>\n",
       "      <th>placeID</th>\n",
       "      <th>parking_lot</th>\n",
       "    </tr>\n",
       "  </thead>\n",
       "  <tbody>\n",
       "    <tr>\n",
       "      <th>0</th>\n",
       "      <td>135111</td>\n",
       "      <td>public</td>\n",
       "    </tr>\n",
       "    <tr>\n",
       "      <th>1</th>\n",
       "      <td>135110</td>\n",
       "      <td>none</td>\n",
       "    </tr>\n",
       "    <tr>\n",
       "      <th>2</th>\n",
       "      <td>135109</td>\n",
       "      <td>none</td>\n",
       "    </tr>\n",
       "    <tr>\n",
       "      <th>3</th>\n",
       "      <td>135108</td>\n",
       "      <td>none</td>\n",
       "    </tr>\n",
       "    <tr>\n",
       "      <th>4</th>\n",
       "      <td>135107</td>\n",
       "      <td>none</td>\n",
       "    </tr>\n",
       "    <tr>\n",
       "      <th>5</th>\n",
       "      <td>135106</td>\n",
       "      <td>none</td>\n",
       "    </tr>\n",
       "    <tr>\n",
       "      <th>6</th>\n",
       "      <td>135105</td>\n",
       "      <td>none</td>\n",
       "    </tr>\n",
       "    <tr>\n",
       "      <th>7</th>\n",
       "      <td>135104</td>\n",
       "      <td>yes</td>\n",
       "    </tr>\n",
       "    <tr>\n",
       "      <th>8</th>\n",
       "      <td>135103</td>\n",
       "      <td>valet parking</td>\n",
       "    </tr>\n",
       "    <tr>\n",
       "      <th>9</th>\n",
       "      <td>135102</td>\n",
       "      <td>valet parking</td>\n",
       "    </tr>\n",
       "  </tbody>\n",
       "</table>\n",
       "</div>"
      ],
      "text/plain": [
       "   placeID    parking_lot\n",
       "0   135111         public\n",
       "1   135110           none\n",
       "2   135109           none\n",
       "3   135108           none\n",
       "4   135107           none\n",
       "5   135106           none\n",
       "6   135105           none\n",
       "7   135104            yes\n",
       "8   135103  valet parking\n",
       "9   135102  valet parking"
      ]
     },
     "execution_count": 9,
     "metadata": {},
     "output_type": "execute_result"
    }
   ],
   "source": [
    "parking.head(10)"
   ]
  },
  {
   "cell_type": "code",
   "execution_count": 10,
   "metadata": {
    "_cell_guid": "d4b245a6-33b1-46a6-9796-3cc5e43bf1ac",
    "_uuid": "40965682fc222cec31b279825a7bc527eb880792"
   },
   "outputs": [],
   "source": [
    "# use dummy variables for different cuisine categories of the restaurants\n",
    "res_parking = pd.get_dummies(parking,columns=['parking_lot'])\n",
    "\n",
    "# remove duplicate restaurant ID's. \n",
    "# A restaurant with multiple parking options would have multiple columns equal 1\n",
    "res_parking = res_parking.groupby('placeID',as_index=False).sum()"
   ]
  },
  {
   "cell_type": "markdown",
   "metadata": {
    "_cell_guid": "1ae7e2a1-293c-4d08-bc50-98e829a247a9",
    "_uuid": "cfc84026dfea1a1fad733e1173a7408727c6dcc9"
   },
   "source": [
    "Let's select some columns from **geo** that might affect the ratings."
   ]
  },
  {
   "cell_type": "code",
   "execution_count": 11,
   "metadata": {
    "_cell_guid": "83d6bdff-f29a-4ed8-8719-a35ac5c51d0e",
    "_uuid": "50a8cfd5cc730797b5ee470051e7537f42a713ec"
   },
   "outputs": [
    {
     "data": {
      "text/plain": [
       "array(['placeID', 'latitude', 'longitude', 'the_geom_meter', 'name',\n",
       "       'address', 'city', 'state', 'country', 'fax', 'zip', 'alcohol',\n",
       "       'smoking_area', 'dress_code', 'accessibility', 'price', 'url',\n",
       "       'Rambience', 'franchise', 'area', 'other_services'], dtype=object)"
      ]
     },
     "execution_count": 11,
     "metadata": {},
     "output_type": "execute_result"
    }
   ],
   "source": [
    "geo.columns.values"
   ]
  },
  {
   "cell_type": "code",
   "execution_count": 12,
   "metadata": {
    "_cell_guid": "7b79c0e8-4e72-4cce-8184-2f6ffbbbb360",
    "_uuid": "eaa71a921fed1fbb8cd449d51a469e26187d12f7"
   },
   "outputs": [
    {
     "data": {
      "text/html": [
       "<div>\n",
       "<style scoped>\n",
       "    .dataframe tbody tr th:only-of-type {\n",
       "        vertical-align: middle;\n",
       "    }\n",
       "\n",
       "    .dataframe tbody tr th {\n",
       "        vertical-align: top;\n",
       "    }\n",
       "\n",
       "    .dataframe thead th {\n",
       "        text-align: right;\n",
       "    }\n",
       "</style>\n",
       "<table border=\"1\" class=\"dataframe\">\n",
       "  <thead>\n",
       "    <tr style=\"text-align: right;\">\n",
       "      <th></th>\n",
       "      <th>placeID</th>\n",
       "      <th>latitude</th>\n",
       "      <th>longitude</th>\n",
       "      <th>the_geom_meter</th>\n",
       "      <th>name</th>\n",
       "      <th>address</th>\n",
       "      <th>city</th>\n",
       "      <th>state</th>\n",
       "      <th>country</th>\n",
       "      <th>fax</th>\n",
       "      <th>...</th>\n",
       "      <th>alcohol</th>\n",
       "      <th>smoking_area</th>\n",
       "      <th>dress_code</th>\n",
       "      <th>accessibility</th>\n",
       "      <th>price</th>\n",
       "      <th>url</th>\n",
       "      <th>Rambience</th>\n",
       "      <th>franchise</th>\n",
       "      <th>area</th>\n",
       "      <th>other_services</th>\n",
       "    </tr>\n",
       "  </thead>\n",
       "  <tbody>\n",
       "    <tr>\n",
       "      <th>0</th>\n",
       "      <td>134999</td>\n",
       "      <td>18.915421</td>\n",
       "      <td>-99.184871</td>\n",
       "      <td>0101000020957F000088568DE356715AC138C0A525FC46...</td>\n",
       "      <td>Kiku Cuernavaca</td>\n",
       "      <td>Revolucion</td>\n",
       "      <td>Cuernavaca</td>\n",
       "      <td>Morelos</td>\n",
       "      <td>Mexico</td>\n",
       "      <td>?</td>\n",
       "      <td>...</td>\n",
       "      <td>No_Alcohol_Served</td>\n",
       "      <td>none</td>\n",
       "      <td>informal</td>\n",
       "      <td>no_accessibility</td>\n",
       "      <td>medium</td>\n",
       "      <td>kikucuernavaca.com.mx</td>\n",
       "      <td>familiar</td>\n",
       "      <td>f</td>\n",
       "      <td>closed</td>\n",
       "      <td>none</td>\n",
       "    </tr>\n",
       "    <tr>\n",
       "      <th>1</th>\n",
       "      <td>132825</td>\n",
       "      <td>22.147392</td>\n",
       "      <td>-100.983092</td>\n",
       "      <td>0101000020957F00001AD016568C4858C1243261274BA5...</td>\n",
       "      <td>puesto de tacos</td>\n",
       "      <td>esquina santos degollado y leon guzman</td>\n",
       "      <td>s.l.p.</td>\n",
       "      <td>s.l.p.</td>\n",
       "      <td>mexico</td>\n",
       "      <td>?</td>\n",
       "      <td>...</td>\n",
       "      <td>No_Alcohol_Served</td>\n",
       "      <td>none</td>\n",
       "      <td>informal</td>\n",
       "      <td>completely</td>\n",
       "      <td>low</td>\n",
       "      <td>?</td>\n",
       "      <td>familiar</td>\n",
       "      <td>f</td>\n",
       "      <td>open</td>\n",
       "      <td>none</td>\n",
       "    </tr>\n",
       "    <tr>\n",
       "      <th>2</th>\n",
       "      <td>135106</td>\n",
       "      <td>22.149709</td>\n",
       "      <td>-100.976093</td>\n",
       "      <td>0101000020957F0000649D6F21634858C119AE9BF528A3...</td>\n",
       "      <td>El Rinc�n de San Francisco</td>\n",
       "      <td>Universidad 169</td>\n",
       "      <td>San Luis Potosi</td>\n",
       "      <td>San Luis Potosi</td>\n",
       "      <td>Mexico</td>\n",
       "      <td>?</td>\n",
       "      <td>...</td>\n",
       "      <td>Wine-Beer</td>\n",
       "      <td>only at bar</td>\n",
       "      <td>informal</td>\n",
       "      <td>partially</td>\n",
       "      <td>medium</td>\n",
       "      <td>?</td>\n",
       "      <td>familiar</td>\n",
       "      <td>f</td>\n",
       "      <td>open</td>\n",
       "      <td>none</td>\n",
       "    </tr>\n",
       "    <tr>\n",
       "      <th>3</th>\n",
       "      <td>132667</td>\n",
       "      <td>23.752697</td>\n",
       "      <td>-99.163359</td>\n",
       "      <td>0101000020957F00005D67BCDDED8157C1222A2DC8D84D...</td>\n",
       "      <td>little pizza Emilio Portes Gil</td>\n",
       "      <td>calle emilio portes gil</td>\n",
       "      <td>victoria</td>\n",
       "      <td>tamaulipas</td>\n",
       "      <td>?</td>\n",
       "      <td>?</td>\n",
       "      <td>...</td>\n",
       "      <td>No_Alcohol_Served</td>\n",
       "      <td>none</td>\n",
       "      <td>informal</td>\n",
       "      <td>completely</td>\n",
       "      <td>low</td>\n",
       "      <td>?</td>\n",
       "      <td>familiar</td>\n",
       "      <td>t</td>\n",
       "      <td>closed</td>\n",
       "      <td>none</td>\n",
       "    </tr>\n",
       "    <tr>\n",
       "      <th>4</th>\n",
       "      <td>132613</td>\n",
       "      <td>23.752903</td>\n",
       "      <td>-99.165076</td>\n",
       "      <td>0101000020957F00008EBA2D06DC8157C194E03B7B504E...</td>\n",
       "      <td>carnitas_mata</td>\n",
       "      <td>lic. Emilio portes gil</td>\n",
       "      <td>victoria</td>\n",
       "      <td>Tamaulipas</td>\n",
       "      <td>Mexico</td>\n",
       "      <td>?</td>\n",
       "      <td>...</td>\n",
       "      <td>No_Alcohol_Served</td>\n",
       "      <td>permitted</td>\n",
       "      <td>informal</td>\n",
       "      <td>completely</td>\n",
       "      <td>medium</td>\n",
       "      <td>?</td>\n",
       "      <td>familiar</td>\n",
       "      <td>t</td>\n",
       "      <td>closed</td>\n",
       "      <td>none</td>\n",
       "    </tr>\n",
       "  </tbody>\n",
       "</table>\n",
       "<p>5 rows × 21 columns</p>\n",
       "</div>"
      ],
      "text/plain": [
       "   placeID   latitude   longitude  \\\n",
       "0   134999  18.915421  -99.184871   \n",
       "1   132825  22.147392 -100.983092   \n",
       "2   135106  22.149709 -100.976093   \n",
       "3   132667  23.752697  -99.163359   \n",
       "4   132613  23.752903  -99.165076   \n",
       "\n",
       "                                      the_geom_meter  \\\n",
       "0  0101000020957F000088568DE356715AC138C0A525FC46...   \n",
       "1  0101000020957F00001AD016568C4858C1243261274BA5...   \n",
       "2  0101000020957F0000649D6F21634858C119AE9BF528A3...   \n",
       "3  0101000020957F00005D67BCDDED8157C1222A2DC8D84D...   \n",
       "4  0101000020957F00008EBA2D06DC8157C194E03B7B504E...   \n",
       "\n",
       "                             name                                 address  \\\n",
       "0                 Kiku Cuernavaca                              Revolucion   \n",
       "1                 puesto de tacos  esquina santos degollado y leon guzman   \n",
       "2      El Rinc�n de San Francisco                         Universidad 169   \n",
       "3  little pizza Emilio Portes Gil                 calle emilio portes gil   \n",
       "4                   carnitas_mata                  lic. Emilio portes gil   \n",
       "\n",
       "              city            state country fax  ...            alcohol  \\\n",
       "0       Cuernavaca          Morelos  Mexico   ?  ...  No_Alcohol_Served   \n",
       "1           s.l.p.           s.l.p.  mexico   ?  ...  No_Alcohol_Served   \n",
       "2  San Luis Potosi  San Luis Potosi  Mexico   ?  ...          Wine-Beer   \n",
       "3        victoria        tamaulipas       ?   ?  ...  No_Alcohol_Served   \n",
       "4         victoria       Tamaulipas  Mexico   ?  ...  No_Alcohol_Served   \n",
       "\n",
       "  smoking_area dress_code     accessibility   price                    url  \\\n",
       "0         none   informal  no_accessibility  medium  kikucuernavaca.com.mx   \n",
       "1         none   informal        completely     low                      ?   \n",
       "2  only at bar   informal         partially  medium                      ?   \n",
       "3         none   informal        completely     low                      ?   \n",
       "4    permitted   informal        completely  medium                      ?   \n",
       "\n",
       "  Rambience franchise    area other_services  \n",
       "0  familiar         f  closed           none  \n",
       "1  familiar         f    open           none  \n",
       "2  familiar         f    open           none  \n",
       "3  familiar         t  closed           none  \n",
       "4  familiar         t  closed           none  \n",
       "\n",
       "[5 rows x 21 columns]"
      ]
     },
     "execution_count": 12,
     "metadata": {},
     "output_type": "execute_result"
    }
   ],
   "source": [
    "geo.head()"
   ]
  },
  {
   "cell_type": "code",
   "execution_count": 13,
   "metadata": {
    "_cell_guid": "b476f298-8f14-49eb-93e4-f820eebc2a2e",
    "_uuid": "37408fcb032835dc67b5ce4c0dc1b87b490a3a4b"
   },
   "outputs": [],
   "source": [
    "# These are the ones that I think might be relevant\n",
    "res_features = geo[['placeID','alcohol','smoking_area','other_services','price','dress_code',\n",
    "                         'accessibility','area']]\n",
    "\n",
    "df_res = pd.DataFrame({'placeID': res_all})\n",
    "df_res = pd.merge(left=df_res, right=res_cuisine, how=\"left\", on=\"placeID\")\n",
    "df_res = pd.merge(left=df_res, right=res_parking, how=\"left\", on=\"placeID\")\n",
    "df_res = pd.merge(left=df_res, right=res_features, how=\"left\", on=\"placeID\")"
   ]
  },
  {
   "cell_type": "markdown",
   "metadata": {
    "_cell_guid": "6c8062a1-b386-48b7-9fed-6075f53cc525",
    "_uuid": "b5e5776e024068c612aa2a041def59dcb64ef2c1"
   },
   "source": [
    "From now on I will use four (130,138) arrays, **R, Y_overall, Y_food** and **Y_service**, for their ratings, where the axis=0 dimension is for the restaurants and the axis=1 dimension is for the consumers. The elements of **R** are either 0 or 1, showing whether a restaurant-user pair has a rating. The information of the restaurants will be recorded in a (130,n_feature) array, **X**."
   ]
  },
  {
   "cell_type": "code",
   "execution_count": 14,
   "metadata": {
    "_cell_guid": "685b28a5-3f89-4d0d-a1ec-cb850d9d831d",
    "_uuid": "ea32aae3cc20f8ed85f8a83060aee4073af7e398"
   },
   "outputs": [
    {
     "data": {
      "text/plain": [
       "placeID               0\n",
       "Rcuisine_Afghan      35\n",
       "Rcuisine_African     35\n",
       "Rcuisine_American    35\n",
       "Rcuisine_Armenian    35\n",
       "                     ..\n",
       "other_services        0\n",
       "price                 0\n",
       "dress_code            0\n",
       "accessibility         0\n",
       "area                  0\n",
       "Length: 74, dtype: int64"
      ]
     },
     "execution_count": 14,
     "metadata": {},
     "output_type": "execute_result"
    }
   ],
   "source": [
    "# The placeID's for the 130 restaurants with ratings\n",
    "res_rated = res_all[np.sum(review,axis=1) > 0] \n",
    "\n",
    "# tells us whether a restaurant-user pair has a rating. 0 means No and 1 means Yes.\n",
    "R = review.loc[res_rated].values  # shape = (130,138)\n",
    "\n",
    "# Now these have a shape of (130, 138) too\n",
    "Y_overall = overall_rating.loc[res_rated].values\n",
    "Y_food  = food_rating.loc[res_rated].values\n",
    "Y_service = service_rating.loc[res_rated].values\n",
    "\n",
    "# select the indices of \"df_res\" where a restaurant has ratings\n",
    "index = [x in res_rated for x in df_res['placeID'].values] #np.array()\n",
    "\n",
    "# restaurant features for the 130 restaurants with ratings\n",
    "X = df_res.loc[index, :].reset_index(drop=True)\n",
    "\n",
    "X.isnull().sum() # all the NANs are from cuisine "
   ]
  },
  {
   "cell_type": "code",
   "execution_count": 15,
   "metadata": {
    "_cell_guid": "92606f54-d472-4b93-85dd-0a4a116522a7",
    "_uuid": "ac4bf89deba2256fe879a8c08ec5a26ff47fe8be"
   },
   "outputs": [
    {
     "data": {
      "text/plain": [
       "array(['Rcuisine_American', 'Rcuisine_Armenian', 'Rcuisine_Bakery',\n",
       "       'Rcuisine_Bar', 'Rcuisine_Bar_Pub_Brewery',\n",
       "       'Rcuisine_Breakfast-Brunch', 'Rcuisine_Burgers',\n",
       "       'Rcuisine_Cafe-Coffee_Shop', 'Rcuisine_Cafeteria',\n",
       "       'Rcuisine_Chinese', 'Rcuisine_Contemporary', 'Rcuisine_Family',\n",
       "       'Rcuisine_Fast_Food', 'Rcuisine_Game', 'Rcuisine_International',\n",
       "       'Rcuisine_Italian', 'Rcuisine_Japanese', 'Rcuisine_Mediterranean',\n",
       "       'Rcuisine_Mexican', 'Rcuisine_Pizzeria', 'Rcuisine_Regional',\n",
       "       'Rcuisine_Seafood', 'Rcuisine_Vietnamese', 'parking_lot_none',\n",
       "       'parking_lot_public', 'parking_lot_valet parking',\n",
       "       'parking_lot_yes', 'alcohol', 'smoking_area', 'other_services',\n",
       "       'price', 'dress_code', 'accessibility', 'area'], dtype=object)"
      ]
     },
     "execution_count": 15,
     "metadata": {},
     "output_type": "execute_result"
    }
   ],
   "source": [
    "# fill all NANs with 0\n",
    "X = X.fillna(0) \n",
    "\n",
    "# drop a feature if the entire column are 0\n",
    "features_to_drop = X.columns.values[np.sum(X,axis=0) == 0] \n",
    "X = X.drop(features_to_drop, axis=1)\n",
    "\n",
    "# drop placeID\n",
    "X = X.drop(['placeID'], axis=1)\n",
    "\n",
    "# There are the restaurant features we'll explore\n",
    "X.columns.values "
   ]
  },
  {
   "cell_type": "markdown",
   "metadata": {
    "_cell_guid": "f57247ad-b6f5-4707-be19-0031c504cc2b",
    "_uuid": "018cb058c004a234934feeb914663bde7da3e086"
   },
   "source": [
    "Now let's select some of the user features that are related to the restaurant features"
   ]
  },
  {
   "cell_type": "code",
   "execution_count": 16,
   "metadata": {
    "_cell_guid": "8a8b125c-d9ef-4adf-90fb-2a6841bfba11",
    "_uuid": "3a52864b5d59eed33912161037069cca0cddc273"
   },
   "outputs": [
    {
     "data": {
      "text/plain": [
       "array(['userID', 'latitude', 'longitude', 'smoker', 'drink_level',\n",
       "       'dress_preference', 'ambience', 'transport', 'marital_status',\n",
       "       'hijos', 'birth_year', 'interest', 'personality', 'religion',\n",
       "       'activity', 'color', 'weight', 'budget', 'height'], dtype=object)"
      ]
     },
     "execution_count": 16,
     "metadata": {},
     "output_type": "execute_result"
    }
   ],
   "source": [
    "profile.columns.values"
   ]
  },
  {
   "cell_type": "markdown",
   "metadata": {
    "_cell_guid": "2f5c7657-03d9-4066-a5bc-5d8e34a6a7f0",
    "_uuid": "56b086cb5750a514e27f39831f3ffc3e47fe440a"
   },
   "source": [
    "So **smoker**, **drink_level**, **transport**, **budget** and **dress_preference** are related to **smoking_area**, **alcohol**, **parking options** (**parking_lot_none**, **parking_lot_public**, **parking_lot_valet parking** and **parking_lot_yes**), **price**, and **dress_code**"
   ]
  },
  {
   "cell_type": "code",
   "execution_count": 17,
   "metadata": {
    "_cell_guid": "55abce8e-6caf-4224-9e64-e1ce80cf552e",
    "_uuid": "b5ae026ca59f5553c3c07a06a79a3f9da126191a"
   },
   "outputs": [
    {
     "name": "stdout",
     "output_type": "stream",
     "text": [
      "false    109\n",
      "true      26\n",
      "?          3\n",
      "Name: smoker, dtype: int64\n",
      "\n",
      "\n",
      "abstemious        51\n",
      "casual drinker    47\n",
      "social drinker    40\n",
      "Name: drink_level, dtype: int64\n",
      "\n",
      "\n",
      "public       82\n",
      "car owner    35\n",
      "on foot      14\n",
      "?             7\n",
      "Name: transport, dtype: int64\n",
      "\n",
      "\n",
      "medium    91\n",
      "low       35\n",
      "?          7\n",
      "high       5\n",
      "Name: budget, dtype: int64\n",
      "\n",
      "\n",
      "no preference    53\n",
      "formal           41\n",
      "informal         35\n",
      "?                 5\n",
      "elegant           4\n",
      "Name: dress_preference, dtype: int64\n"
     ]
    }
   ],
   "source": [
    "user_info = profile[['smoker','drink_level','transport','budget','dress_preference']] \n",
    "\n",
    "print(user_info.smoker.value_counts())\n",
    "print('\\n')\n",
    "print(user_info.drink_level.value_counts())\n",
    "print('\\n')\n",
    "print(user_info.transport.value_counts())\n",
    "print('\\n')\n",
    "print(user_info.budget.value_counts())\n",
    "print('\\n')\n",
    "print(user_info.dress_preference.value_counts())"
   ]
  },
  {
   "cell_type": "markdown",
   "metadata": {
    "_cell_guid": "50620e71-fb6a-4474-b291-33ff06e9093b",
    "_uuid": "3c7cc5d242fe4cd8d114f04d3dfbafd1ed0b3344"
   },
   "source": [
    "Before exploring these data, I will combine 'public' and 'on foot' of **transport** into just one category, 'no car', because these two types of people would feel the same about whether there is a parking lot. Similarly, 'elegant' and 'formal' of **dress_preference** will be merged to just one category, 'formal'."
   ]
  },
  {
   "cell_type": "code",
   "execution_count": 18,
   "metadata": {
    "_cell_guid": "e10c8282-2fa0-43ce-b3c9-3090a525bde7",
    "_uuid": "5d10198bc4d9a3f1d788a4b007850346a4e0fa9c"
   },
   "outputs": [],
   "source": [
    "user_info.transport = user_info.transport.replace({'public':'no car', 'on foot':'no car'})\n",
    "user_info.dress_preference = user_info.dress_preference.replace({'elegant':'formal'})"
   ]
  },
  {
   "cell_type": "markdown",
   "metadata": {
    "_cell_guid": "47dd38dd-1e13-44b0-b2a2-cdb41c717a98",
    "_uuid": "70356dae00135248449b7d468781af364616a220"
   },
   "source": [
    "## Exploratory Visualization\n",
    "In order to see how the restaurant features affect the ratings, I will first get the mean rating for each restaurant. And then for each feature, I will show how the rating changes with different feature values. To do this, I will group the restaurants based on the different feature values and then average the mean ratings mentioned above for each group. Notice that what I do is **NOT** averaging all the ratings with the feature equals to a certain value. Instead, it is first getting the mean rating for each restaurant and then grouping. If I used the former approach, the mean rating of a group would be biased towards the restaurants with more ratings. This should be avoided because we want to treat every restaurant equally."
   ]
  },
  {
   "cell_type": "code",
   "execution_count": 19,
   "metadata": {
    "_cell_guid": "e5ba4972-6d2a-43ee-9852-0a494ba81846",
    "_uuid": "e778d6d4702fc23b4a3d3f723d3a02799078dd0e"
   },
   "outputs": [],
   "source": [
    "# Calculate the mean rating for each restaurant\n",
    "def GetMean(Y,R):\n",
    "\n",
    "    Y = Y*R\n",
    "    mean =  (np.sum(Y, axis=1)/np.sum((R == 1.0), axis=1)).reshape(Y.shape[0],1)\n",
    "    return mean\n",
    "\n",
    "Y_overall_mean = GetMean(Y_overall,R)\n",
    "Y_food_mean = GetMean(Y_food,R)\n",
    "Y_service_mean = GetMean(Y_service,R)"
   ]
  },
  {
   "cell_type": "code",
   "execution_count": 20,
   "metadata": {
    "_cell_guid": "970bbe5a-2645-4cde-9f01-c14532a31fae",
    "_uuid": "05b937abde24869d95c75fa47cb754503e2df8c3"
   },
   "outputs": [],
   "source": [
    "# This is the function I'll use to plot and print the mean ratings of different \n",
    "# groups of restaurants based on different values of a given feature\n",
    "def plot_mean_rating(df,rotate=False):\n",
    "    \n",
    "    n = df.shape[1]\n",
    "    columns = df.columns.values\n",
    "    \n",
    "    if n > 1:\n",
    "        y_overall = [ Y_overall_mean[df[i] == 1].mean() for i in columns ]\n",
    "        y_food = [ Y_food_mean[df[i] == 1].mean() for i in columns ]\n",
    "        y_service = [ Y_service_mean[df[i] == 1].mean() for i in columns ] \n",
    "        y = pd.DataFrame({'overall':y_overall, 'food':y_food, 'service':y_service},\n",
    "                         columns=['overall','food','service'],index=columns) \n",
    "        ticks = columns\n",
    "        \n",
    "    else:\n",
    "        values = df[columns[0]].unique()\n",
    "        values = values[values != '?']\n",
    "        y_overall = [ Y_overall_mean[df[columns[0]] == i].mean() for i in values ]\n",
    "        y_food = [ Y_food_mean[df[columns[0]] == i].mean() for i in values ]\n",
    "        y_service = [ Y_service_mean[df[columns[0]] == i].mean() for i in values ] \n",
    "        y = pd.DataFrame({'overall':y_overall, 'food':y_food, 'service':y_service},\n",
    "                         columns=['overall','food','service'],index=values) \n",
    "        ticks = values\n",
    "   \n",
    "# FIRST-AUTHOR: remove plotting\n",
    "#     fig = plt.figure()\n",
    "#     plt.plot(range(y.shape[0]),y['overall'],'-o',c='k',label='overall')\n",
    "#     plt.plot(range(y.shape[0]),y['food'],'-o',c='r',label='food')   \n",
    "#     plt.plot(range(y.shape[0]),y['service'],'-o',c='b',label='service')\n",
    "#     plt.xticks(range(y.shape[0]),ticks,fontsize=13)\n",
    "#     if rotate: plt.xticks(rotation=40)\n",
    "#     plt.yticks(fontsize=13) \n",
    "#     if n == 1: plt.xlabel(columns[0],fontsize=15)\n",
    "#     plt.ylabel('mean rating',fontsize=15)\n",
    "#     plt.legend(fontsize=15,frameon=False)\n",
    "#     plt.show()\n",
    "    _ = y.shape[0]\n",
    "    _ = y['overall']\n",
    "    _ = y.shape[0]\n",
    "    _ = y['food']\n",
    "    _ = y.shape[0]\n",
    "    _ = y['service']\n",
    "    _ = y.shape[0]\n",
    "    \n",
    "    print(y)"
   ]
  },
  {
   "cell_type": "code",
   "execution_count": 21,
   "metadata": {
    "_cell_guid": "8a4c6ed0-d43d-43bb-ab24-24fe5177982d",
    "_uuid": "45523b8f82e3b77c9d52e9e069e87e1c9cff1ecf"
   },
   "outputs": [],
   "source": [
    "# This function is similar to the one above, but this time the result is split\n",
    "# into different groups of users as well\n",
    "def plot_mean_rating_split(df,userinfo,rotate=False):\n",
    "    \n",
    "    n = df.shape[1]\n",
    "    columns = df.columns.values\n",
    "    \n",
    "    cases = userinfo.unique()\n",
    "    cases = cases[cases != '?']\n",
    "    \n",
    "    num = len(cases)\n",
    "    y = {}\n",
    "    \n",
    "    if n > 1:\n",
    "        \n",
    "        for i in range(num):\n",
    "            \n",
    "            index = (userinfo == cases[i])\n",
    "            R_case = np.zeros(R.shape)\n",
    "            R_case[:,index] = R[:,index]\n",
    "\n",
    "            Y_overall_case = GetMean(Y_overall,R_case)\n",
    "            Y_food_case = GetMean(Y_food,R_case)\n",
    "            Y_service_case = GetMean(Y_service,R_case)\n",
    "        \n",
    "            isnan = np.isnan(Y_overall_case).reshape(-1)\n",
    "            y_overall = [Y_overall_case[(df[j] == 1) & \n",
    "                        (isnan == False)].mean() for j in columns]\n",
    "            y_food = [Y_food_case[(df[j] == 1) & \n",
    "                     (isnan == False)].mean() for j in columns]\n",
    "            y_service = [Y_service_case[(df[j] == 1) & \n",
    "                        (isnan == False)].mean() for j in columns]\n",
    "            \n",
    "            y[cases[i]] = pd.DataFrame({'overall':y_overall, 'food':y_food, 'service':\n",
    "                          y_service}, columns=['overall','food','service'],index=columns)\n",
    "            \n",
    "        ticks = columns\n",
    "\n",
    "     \n",
    "    else:\n",
    "        \n",
    "        for i in range(num):\n",
    "            \n",
    "            values = df[columns[0]].unique()\n",
    "            values = values[values != '?']\n",
    "            \n",
    "            index = (userinfo == cases[i])\n",
    "            R_case = np.zeros(R.shape)\n",
    "            R_case[:,index] = R[:,index]\n",
    "\n",
    "            Y_overall_case = GetMean(Y_overall,R_case)\n",
    "            Y_food_case = GetMean(Y_food,R_case)\n",
    "            Y_service_case = GetMean(Y_service,R_case)\n",
    "        \n",
    "            isnan = np.isnan(Y_overall_case).reshape(-1)\n",
    "            y_overall = [Y_overall_case[(df[columns[0]] == j) & \n",
    "                        (isnan == False)].mean() for j in values]\n",
    "            y_food = [Y_food_case[(df[columns[0]] == j) & \n",
    "                     (isnan == False)].mean() for j in values]\n",
    "            y_service = [Y_service_case[(df[columns[0]] == j) & \n",
    "                        (isnan == False)].mean() for j in values]\n",
    "                        \n",
    "            y[cases[i]] = pd.DataFrame({'overall':y_overall, 'food':y_food, 'service':\n",
    "                          y_service}, columns=['overall','food','service'],index=values)\n",
    "\n",
    "        ticks = values\n",
    "   \n",
    "\n",
    "# FIRST-AUTHOR: remove plotting\n",
    "#     f, (ax1, ax2, ax3) = plt.subplots(1,3, sharex=True, sharey=True, figsize=(24,6))\n",
    " \n",
    "#     color = ['k','r','b'] \n",
    "\n",
    "    for i in range(num):\n",
    "# FIRST-AUTHOR: remove plotting\n",
    "#         ax1.plot(range(len(ticks)),y[cases[i]]['overall'],'-o',c=color[i],label=cases[i])\n",
    "#         ax2.plot(range(len(ticks)),y[cases[i]]['food'],'-o',c=color[i],label=cases[i])\n",
    "#         ax3.plot(range(len(ticks)),y[cases[i]]['service'],'-o',c=color[i],label=cases[i])\n",
    "        _ = y[cases[i]]['overall']\n",
    "        _ = cases[i]\n",
    "        _ = y[cases[i]]['food']\n",
    "        _ = cases[i]\n",
    "        _ = y[cases[i]]['service']\n",
    "    \n",
    "# FIRST-AUTHOR: remove plotting\n",
    "#     ax1.set_title('overall',fontsize=20)\n",
    "#     ax2.set_title('food',fontsize=20)\n",
    "#     ax3.set_title('service',fontsize=20)\n",
    "\n",
    "#     ax1.tick_params(labelsize=16)\n",
    "#     ax2.tick_params(labelsize=16)\n",
    "#     ax3.tick_params(labelsize=16)\n",
    "    \n",
    "#     if rotate:\n",
    "#         ax1.set_xticks(range(len(ticks)))\n",
    "#         ax1.set_xticklabels(ticks, rotation=40)\n",
    "#         ax2.set_xticks(range(len(ticks)))\n",
    "#         ax2.set_xticklabels(ticks, rotation=40)\n",
    "#         ax3.set_xticks(range(len(ticks)))\n",
    "#         ax3.set_xticklabels(ticks, rotation=40)\n",
    "#     else:\n",
    "#         plt.xticks(range(len(ticks)),ticks)\n",
    "                           \n",
    "#     if n == 1: \n",
    "#         ax2.set_xlabel(columns[0],fontsize=20)\n",
    "    \n",
    "#     ax1.set_ylabel('mean rating',fontsize=20)\n",
    "    \n",
    "#     plt.legend(fontsize=20,frameon=False)\n",
    "#     plt.show()\n",
    "    \n",
    "    return y"
   ]
  },
  {
   "cell_type": "markdown",
   "metadata": {
    "_cell_guid": "0b2f2665-6751-4c73-8584-1da64efeb59a",
    "_uuid": "cc7bcc1fc7927dbe04c3dbc18fe9e4374c221686"
   },
   "source": [
    "Now I'll go over all the restaurant features that are stored in **X**\n",
    "\n",
    "### Price"
   ]
  },
  {
   "cell_type": "code",
   "execution_count": 22,
   "metadata": {
    "_cell_guid": "cc440268-3ac0-4512-90fc-cf814d7a1bdf",
    "_uuid": "901893dd2e3638ce6f64788f0210f84ef3107eca"
   },
   "outputs": [
    {
     "data": {
      "text/plain": [
       "medium    60\n",
       "low       45\n",
       "high      25\n",
       "Name: price, dtype: int64"
      ]
     },
     "execution_count": 22,
     "metadata": {},
     "output_type": "execute_result"
    }
   ],
   "source": [
    "X.price.value_counts()"
   ]
  },
  {
   "cell_type": "code",
   "execution_count": 23,
   "metadata": {
    "_cell_guid": "71fdc91f-1c6a-42eb-8d1b-686b5a0d9421",
    "_uuid": "b5af58f484acbb445ff8987b3a4558ed9f2461fb"
   },
   "outputs": [
    {
     "data": {
      "text/plain": [
       "medium    91\n",
       "low       35\n",
       "?          7\n",
       "high       5\n",
       "Name: budget, dtype: int64"
      ]
     },
     "execution_count": 23,
     "metadata": {},
     "output_type": "execute_result"
    }
   ],
   "source": [
    "user_info.budget.value_counts()"
   ]
  },
  {
   "cell_type": "code",
   "execution_count": 24,
   "metadata": {
    "_cell_guid": "854b86d7-f734-4391-8d2d-00bd9aa5eca1",
    "_uuid": "e000a7e608945e9e0f6819a485ab92fd3b003258"
   },
   "outputs": [
    {
     "name": "stdout",
     "output_type": "stream",
     "text": [
      "         overall      food   service\n",
      "low     1.063059  1.135805  0.935632\n",
      "medium  1.234342  1.255871  1.161361\n",
      "high    1.258106  1.253816  1.174754\n"
     ]
    }
   ],
   "source": [
    "# mean rating as a function of price\n",
    "plot_mean_rating(X[['price']])"
   ]
  },
  {
   "cell_type": "code",
   "execution_count": 25,
   "metadata": {
    "_cell_guid": "f8e044e4-7ccd-492d-818a-4289a260f351",
    "_uuid": "deac4fed539c0feac45875800df3adecab732157"
   },
   "outputs": [
    {
     "name": "stdout",
     "output_type": "stream",
     "text": [
      "low budget:\n",
      "         overall      food   service\n",
      "low     1.114693  1.061776  0.966924\n",
      "medium  1.156722  1.110335  1.129481\n",
      "high    1.064394  1.090909  1.140152\n",
      "\n",
      "medium budget:\n",
      "         overall      food   service\n",
      "low     1.040752  1.096643  0.902340\n",
      "medium  1.251914  1.285747  1.151604\n",
      "high    1.315073  1.265112  1.184063\n",
      "\n",
      "high budget:\n",
      "         overall     food   service\n",
      "low     1.458333  1.56250  1.145833\n",
      "medium  1.635417  1.71875  1.718750\n",
      "high    1.187500  1.37500  1.125000\n"
     ]
    },
    {
     "name": "stderr",
     "output_type": "stream",
     "text": [
      "/tmp/ipykernel_62006/251077916.py:5: RuntimeWarning: invalid value encountered in divide\n",
      "  mean =  (np.sum(Y, axis=1)/np.sum((R == 1.0), axis=1)).reshape(Y.shape[0],1)\n",
      "/tmp/ipykernel_62006/251077916.py:5: RuntimeWarning: invalid value encountered in divide\n",
      "  mean =  (np.sum(Y, axis=1)/np.sum((R == 1.0), axis=1)).reshape(Y.shape[0],1)\n"
     ]
    }
   ],
   "source": [
    "# mean rating as a function of price, split into three groups of consumers\n",
    "# with low, medium, and high budget\n",
    "y = plot_mean_rating_split(X[['price']],user_info.budget)\n",
    "\n",
    "print('low budget:')\n",
    "print(y['low'])\n",
    "print('\\nmedium budget:')\n",
    "print(y['medium'])\n",
    "print('\\nhigh budget:')\n",
    "print(y['high'])"
   ]
  },
  {
   "cell_type": "markdown",
   "metadata": {
    "_cell_guid": "8e9c7a8d-24e5-4fc2-93b2-311329ef1aa4",
    "_uuid": "04ea7c632d6a06079872576741f0da3fcc81bc98"
   },
   "source": [
    "**Observations: ** You get what you pay for? In general, restaurants with medium or high price have higher ratings (high ~ medium > low). However, the consumers with high budget actually prefer medium-price restaurants over high-price ones."
   ]
  },
  {
   "cell_type": "markdown",
   "metadata": {
    "_cell_guid": "4b68c31a-68af-4a27-89b0-6e5be7a6405d",
    "_uuid": "d3c3a5e43e1c14d9e8e72175461d918f8afca50b"
   },
   "source": [
    "### Parking Options"
   ]
  },
  {
   "cell_type": "code",
   "execution_count": 26,
   "metadata": {
    "_cell_guid": "1f6ea1c7-f00c-4da3-9f85-ee161b19ddda",
    "_uuid": "b3f27f9a87d7ae5a6a49282be846c6334657987e"
   },
   "outputs": [
    {
     "data": {
      "text/plain": [
       "parking_lot_none             65.0\n",
       "parking_lot_public           16.0\n",
       "parking_lot_valet parking     3.0\n",
       "parking_lot_yes              46.0\n",
       "dtype: float64"
      ]
     },
     "execution_count": 26,
     "metadata": {},
     "output_type": "execute_result"
    }
   ],
   "source": [
    "columns = ['parking_lot_none','parking_lot_public', 'parking_lot_valet parking','parking_lot_yes']\n",
    "X[columns].sum()"
   ]
  },
  {
   "cell_type": "code",
   "execution_count": 27,
   "metadata": {
    "_cell_guid": "69c277d9-dc87-4aae-9aca-088effb1ec46",
    "_uuid": "4fc4bac921d277d534e8b0a083278e9f6cce4926"
   },
   "outputs": [
    {
     "data": {
      "text/plain": [
       "130.0"
      ]
     },
     "execution_count": 27,
     "metadata": {},
     "output_type": "execute_result"
    }
   ],
   "source": [
    "X[columns].sum().sum()"
   ]
  },
  {
   "cell_type": "markdown",
   "metadata": {
    "_cell_guid": "bd249812-a59a-4975-b5f6-60e3d0932d03",
    "_uuid": "38d2ad0aced320a28b35a355abe1300851f8272b"
   },
   "source": [
    "The sum is 130, which means each of these 130 restaurants actually only has one parking option (there were restaurants without ratings that have multiple parking options)."
   ]
  },
  {
   "cell_type": "code",
   "execution_count": 28,
   "metadata": {
    "_cell_guid": "1e75b52d-3d14-4cab-a731-77f3bd5887c1",
    "_uuid": "269a5a3f7b220028f7626ed7a06fd34b05d16e66"
   },
   "outputs": [
    {
     "data": {
      "text/plain": [
       "no car       96\n",
       "car owner    35\n",
       "?             7\n",
       "Name: transport, dtype: int64"
      ]
     },
     "execution_count": 28,
     "metadata": {},
     "output_type": "execute_result"
    }
   ],
   "source": [
    "user_info.transport.value_counts()"
   ]
  },
  {
   "cell_type": "code",
   "execution_count": 29,
   "metadata": {
    "_cell_guid": "ea003717-15b4-41b9-bca8-6b8b73457dc5",
    "_uuid": "a42a0b1b1b9fdf3366edfdef3e8de2d4792a4b63"
   },
   "outputs": [
    {
     "name": "stdout",
     "output_type": "stream",
     "text": [
      "                            overall      food   service\n",
      "parking_lot_none           1.170202  1.194014  1.097035\n",
      "parking_lot_public         1.101438  1.233839  0.977173\n",
      "parking_lot_valet parking  1.393519  1.324074  1.300926\n",
      "parking_lot_yes            1.206176  1.227920  1.093676\n"
     ]
    }
   ],
   "source": [
    "# mean rating as a function of parking option\n",
    "plot_mean_rating(X[columns], rotate=True)"
   ]
  },
  {
   "cell_type": "code",
   "execution_count": 30,
   "metadata": {
    "_cell_guid": "f1ef384c-6b0b-473b-b8a9-a821641bb9ec",
    "_uuid": "a447ccd645eb065960fff843221dc26ec4aff536"
   },
   "outputs": [
    {
     "name": "stdout",
     "output_type": "stream",
     "text": [
      "no car:\n",
      "                            overall      food   service\n",
      "parking_lot_none           1.138341  1.171273  1.052087\n",
      "parking_lot_public         1.151683  1.194685  0.962748\n",
      "parking_lot_valet parking  1.444444  1.277778  1.250000\n",
      "parking_lot_yes            1.181364  1.159907  1.025061\n",
      "\n",
      "car owner:\n",
      "                            overall      food   service\n",
      "parking_lot_none           1.389495  1.312778  1.236010\n",
      "parking_lot_public         0.905782  1.297959  0.868027\n",
      "parking_lot_valet parking  1.333333  1.500000  1.500000\n",
      "parking_lot_yes            1.325813  1.341057  1.264634\n"
     ]
    },
    {
     "name": "stderr",
     "output_type": "stream",
     "text": [
      "/tmp/ipykernel_62006/251077916.py:5: RuntimeWarning: invalid value encountered in divide\n",
      "  mean =  (np.sum(Y, axis=1)/np.sum((R == 1.0), axis=1)).reshape(Y.shape[0],1)\n",
      "/tmp/ipykernel_62006/251077916.py:5: RuntimeWarning: invalid value encountered in divide\n",
      "  mean =  (np.sum(Y, axis=1)/np.sum((R == 1.0), axis=1)).reshape(Y.shape[0],1)\n"
     ]
    }
   ],
   "source": [
    "# mean rating as a function of parking option, split into car owners and\n",
    "# non car owners\n",
    "y = plot_mean_rating_split(X[columns],user_info.transport,rotate=True)\n",
    "\n",
    "print('no car:')\n",
    "print(y['no car'])\n",
    "print('\\ncar owner:')\n",
    "print(y['car owner'])"
   ]
  },
  {
   "cell_type": "markdown",
   "metadata": {
    "_cell_guid": "d9d3dc68-d327-47a3-8cb3-b74a523989ca",
    "_uuid": "720f0395cbecc8bde782be1b29608016370f1735"
   },
   "source": [
    "**Observations: ** (1) Surprisingly, public parking is the least popular one, and it's worse than no parking. (2) Valet parking is the most popular one, although there are only three restaurants with this option. (3) Food rating changes the least among all three types of ratings, which makes sense since it shouldn't be affected by parking options at all. (4) The trend of ratings from car owners is actually not very different from non car owners.\n",
    "<br><br>\n",
    "Is it possible that parking options don't matter? Let's see if the trend we see above can be explained by **price**, as we found previously that restaurants with medium or high price generally get higher ratings.\n"
   ]
  },
  {
   "cell_type": "code",
   "execution_count": 31,
   "metadata": {
    "_cell_guid": "44436a1d-985c-4253-b814-47fcb9d2062c",
    "_uuid": "0e2d863ff86aedec07c015d9d04bae261e8c2cee"
   },
   "outputs": [
    {
     "data": {
      "text/plain": [
       "high    3\n",
       "Name: price, dtype: int64"
      ]
     },
     "execution_count": 31,
     "metadata": {},
     "output_type": "execute_result"
    }
   ],
   "source": [
    "X.price[X['parking_lot_valet parking']==1].value_counts()"
   ]
  },
  {
   "cell_type": "code",
   "execution_count": 32,
   "metadata": {
    "_cell_guid": "651f493d-66a3-4a0a-811a-efdd3956dd6f",
    "_uuid": "523bf58613fe6d06049de031bfc3b66fb90a03b1"
   },
   "outputs": [
    {
     "data": {
      "text/plain": [
       "medium    8\n",
       "low       7\n",
       "high      1\n",
       "Name: price, dtype: int64"
      ]
     },
     "execution_count": 32,
     "metadata": {},
     "output_type": "execute_result"
    }
   ],
   "source": [
    "X.price[X['parking_lot_public']==1].value_counts()"
   ]
  },
  {
   "cell_type": "code",
   "execution_count": 33,
   "metadata": {
    "_cell_guid": "9e2c120a-ce28-4357-96a1-cfd8dc7f968f",
    "_uuid": "6df5bd5f270213b3d21a4afb454d78208243213a"
   },
   "outputs": [
    {
     "data": {
      "text/plain": [
       "low       31\n",
       "medium    29\n",
       "high       5\n",
       "Name: price, dtype: int64"
      ]
     },
     "execution_count": 33,
     "metadata": {},
     "output_type": "execute_result"
    }
   ],
   "source": [
    "X.price[X['parking_lot_none']==1].value_counts()"
   ]
  },
  {
   "cell_type": "markdown",
   "metadata": {
    "_cell_guid": "cf02da10-480b-4365-b67d-904ec84a4ec5",
    "_uuid": "d1ecc4fa5a54b099e865696c95c856c7ac1e42d4"
   },
   "source": [
    "**Observations: ** Apparently the restaurants with valet parking are the expensive/high-class ones, which is why they are highly rated. The compositions of the restaurants with public parking and no parking are similar; about half of either group are low-price restaurants. So the different ratings between these two groups given by car owners might be real. Maybe it's because public parking is expensive? "
   ]
  },
  {
   "cell_type": "markdown",
   "metadata": {
    "_cell_guid": "7f9f4791-708e-4b4f-9514-09fcf7837db0",
    "_uuid": "fd78c3073a19d9fb89e250bf3fac3d35d3ede90c"
   },
   "source": [
    "### Smoking Area"
   ]
  },
  {
   "cell_type": "code",
   "execution_count": 34,
   "metadata": {
    "_cell_guid": "da83ed36-2286-4c3b-b5ab-e427b77c46e2",
    "_uuid": "51ac1bc62dec2dd4f2b350f0fce8e7961b064fb3"
   },
   "outputs": [
    {
     "data": {
      "text/plain": [
       "none             70\n",
       "not permitted    25\n",
       "section          24\n",
       "permitted         9\n",
       "only at bar       2\n",
       "Name: smoking_area, dtype: int64"
      ]
     },
     "execution_count": 34,
     "metadata": {},
     "output_type": "execute_result"
    }
   ],
   "source": [
    "X.smoking_area.value_counts()"
   ]
  },
  {
   "cell_type": "code",
   "execution_count": 35,
   "metadata": {
    "_cell_guid": "f74993b6-2a73-4c11-ad44-6a0237e6f1e2",
    "_uuid": "36becf4779f582101feb1c7f258fbf5c1200db00"
   },
   "outputs": [
    {
     "data": {
      "text/plain": [
       "false    109\n",
       "true      26\n",
       "?          3\n",
       "Name: smoker, dtype: int64"
      ]
     },
     "execution_count": 35,
     "metadata": {},
     "output_type": "execute_result"
    }
   ],
   "source": [
    "user_info.smoker.value_counts()"
   ]
  },
  {
   "cell_type": "code",
   "execution_count": 36,
   "metadata": {
    "_cell_guid": "87ee0131-3b1e-4514-8476-41451338cfe3",
    "_uuid": "b29226cad3d111951d6e2393fee425067079342b"
   },
   "outputs": [
    {
     "name": "stdout",
     "output_type": "stream",
     "text": [
      "                overall      food   service\n",
      "permitted      1.201852  1.331481  1.128704\n",
      "none           1.171497  1.208648  1.086371\n",
      "not permitted  1.071238  1.175244  0.986184\n",
      "section        1.291368  1.221073  1.147479\n",
      "only at bar    1.377778  1.266667  1.377778\n"
     ]
    }
   ],
   "source": [
    "# mean rating as a function of smoking area\n",
    "plot_mean_rating(X[['smoking_area']])"
   ]
  },
  {
   "cell_type": "code",
   "execution_count": 37,
   "metadata": {
    "_cell_guid": "116727a1-e718-4b94-a6c1-3c3ec9066eee",
    "_uuid": "b5fd4d90394f7efa53ad18ce7df6e72514ef0738"
   },
   "outputs": [
    {
     "name": "stdout",
     "output_type": "stream",
     "text": [
      "false:\n",
      "                overall      food   service\n",
      "permitted      1.246296  1.420370  1.160185\n",
      "none           1.189544  1.224518  1.093734\n",
      "not permitted  1.176252  1.265963  1.015098\n",
      "section        1.333201  1.230433  1.166364\n",
      "only at bar    1.276786  1.205357  1.276786\n",
      "\n",
      "true:\n",
      "                overall      food   service\n",
      "permitted      1.071429  1.000000  1.071429\n",
      "none           1.200585  1.183041  1.185965\n",
      "not permitted  0.921190  0.822976  0.882024\n",
      "section        1.085000  1.016667  1.000000\n",
      "only at bar    2.000000  1.750000  2.000000\n"
     ]
    },
    {
     "name": "stderr",
     "output_type": "stream",
     "text": [
      "/tmp/ipykernel_62006/251077916.py:5: RuntimeWarning: invalid value encountered in divide\n",
      "  mean =  (np.sum(Y, axis=1)/np.sum((R == 1.0), axis=1)).reshape(Y.shape[0],1)\n"
     ]
    }
   ],
   "source": [
    "# mean rating as a function of smoking area, split into smokers and\n",
    "# non smokers\n",
    "y = plot_mean_rating_split(X[['smoking_area']],user_info.smoker)\n",
    "\n",
    "print('false:')\n",
    "print(y['false'])\n",
    "print('\\ntrue:')\n",
    "print(y['true'])"
   ]
  },
  {
   "cell_type": "markdown",
   "metadata": {
    "_cell_guid": "52ee4d30-3ee4-4aaf-a8e8-38b13523a92b",
    "_uuid": "7dbf01f251784fd2aa3d841907c7ae80a184b528"
   },
   "source": [
    "**Observations: ** (1) Non smokers do not care much about smoking area. (2) For smokers, **only at bar** is very popular, while **not permitted** leads to very low ratings. (3) Surprisingly, **none** and **not permitted** have very different mean ratings. Originally I thought these two mean the same thing. It's probably because smokers can still find a place to smoke at those restaurants without a smoking area but are completely not allowed to do so at those **not permitted** ones."
   ]
  },
  {
   "cell_type": "markdown",
   "metadata": {
    "_cell_guid": "d906a2e8-d698-43db-ab34-e7059fcb4130",
    "_uuid": "86592d57c3f8fa624374e7b7681ec2ea17baa3d6"
   },
   "source": [
    "### Alcohol"
   ]
  },
  {
   "cell_type": "code",
   "execution_count": 38,
   "metadata": {
    "_cell_guid": "e3cfa6e4-9130-4c87-b5e2-f162f4254073",
    "_uuid": "f0df01a87028fd4833962dbf8235c45e71860f08"
   },
   "outputs": [
    {
     "data": {
      "text/plain": [
       "No_Alcohol_Served    87\n",
       "Wine-Beer            34\n",
       "Full_Bar              9\n",
       "Name: alcohol, dtype: int64"
      ]
     },
     "execution_count": 38,
     "metadata": {},
     "output_type": "execute_result"
    }
   ],
   "source": [
    "X.alcohol.value_counts()"
   ]
  },
  {
   "cell_type": "code",
   "execution_count": 39,
   "metadata": {
    "_cell_guid": "169ca6be-a7ff-4a89-87ee-896698418db1",
    "_uuid": "303ba080f65ed1ac46aa9188c7d940ad099b777f"
   },
   "outputs": [
    {
     "data": {
      "text/plain": [
       "abstemious        51\n",
       "casual drinker    47\n",
       "social drinker    40\n",
       "Name: drink_level, dtype: int64"
      ]
     },
     "execution_count": 39,
     "metadata": {},
     "output_type": "execute_result"
    }
   ],
   "source": [
    "user_info.drink_level.value_counts()"
   ]
  },
  {
   "cell_type": "code",
   "execution_count": 40,
   "metadata": {
    "_cell_guid": "f636a9d0-d227-4182-8d4e-be4348f0087e",
    "_uuid": "e57ada988595664176c30dbbca1e54b9ed120796"
   },
   "outputs": [
    {
     "name": "stdout",
     "output_type": "stream",
     "text": [
      "                    overall      food   service\n",
      "No_Alcohol_Served  1.148075  1.194730  1.042417\n",
      "Full_Bar           1.287124  1.218315  1.170311\n",
      "Wine-Beer          1.231887  1.261840  1.174437\n"
     ]
    }
   ],
   "source": [
    "# mean rating as a function of alcohol\n",
    "plot_mean_rating(X[['alcohol']])"
   ]
  },
  {
   "cell_type": "code",
   "execution_count": 41,
   "metadata": {
    "_cell_guid": "bd9dd97b-f255-425c-8784-a69adb3c5cab",
    "_uuid": "bc736f6551cb5555ecd1976c675386cac7d1eaaa"
   },
   "outputs": [
    {
     "name": "stdout",
     "output_type": "stream",
     "text": [
      "abstemious:\n",
      "                    overall      food   service\n",
      "No_Alcohol_Served  1.152724  1.235381  1.007545\n",
      "Full_Bar           1.131250  1.154167  0.981250\n",
      "Wine-Beer          1.416558  1.446861  1.235245\n",
      "\n",
      "casual drinker:\n",
      "                    overall      food   service\n",
      "No_Alcohol_Served  1.011874  0.946976  0.868174\n",
      "Full_Bar           1.272222  1.105556  1.253704\n",
      "Wine-Beer          1.045852  0.967113  0.928460\n",
      "\n",
      "social drinker:\n",
      "                    overall      food   service\n",
      "No_Alcohol_Served  1.268686  1.390192  1.243299\n",
      "Full_Bar           1.577778  1.337778  1.315556\n",
      "Wine-Beer          1.290646  1.343963  1.332653\n"
     ]
    },
    {
     "name": "stderr",
     "output_type": "stream",
     "text": [
      "/tmp/ipykernel_62006/251077916.py:5: RuntimeWarning: invalid value encountered in divide\n",
      "  mean =  (np.sum(Y, axis=1)/np.sum((R == 1.0), axis=1)).reshape(Y.shape[0],1)\n",
      "/tmp/ipykernel_62006/251077916.py:5: RuntimeWarning: invalid value encountered in divide\n",
      "  mean =  (np.sum(Y, axis=1)/np.sum((R == 1.0), axis=1)).reshape(Y.shape[0],1)\n",
      "/tmp/ipykernel_62006/251077916.py:5: RuntimeWarning: invalid value encountered in divide\n",
      "  mean =  (np.sum(Y, axis=1)/np.sum((R == 1.0), axis=1)).reshape(Y.shape[0],1)\n"
     ]
    }
   ],
   "source": [
    "# mean rating as a function of smoking alcohol, split into abstemious, \n",
    "# casual and social drinkers\n",
    "y = plot_mean_rating_split(X[['alcohol']],user_info.drink_level)\n",
    "\n",
    "print('abstemious:')\n",
    "print(y['abstemious'])\n",
    "print('\\ncasual drinker:')\n",
    "print(y['casual drinker'])\n",
    "print('\\nsocial drinker:')\n",
    "print(y['social drinker'])"
   ]
  },
  {
   "cell_type": "markdown",
   "metadata": {
    "_cell_guid": "bb8649cb-1ef0-4b1d-ae26-3dc580dc1dcf",
    "_uuid": "bcc8b87a57629d261d667e607b0cfe5582850493"
   },
   "source": [
    "**Observations: ** Abstemious drinkers prefer **Wine-Beer**; casual drinkers prefer **Full_Bar**; but it's not so clear for social drinkers.\n",
    "<br><br>\n",
    "Let's check again if the trend we see above can be explained by **price**."
   ]
  },
  {
   "cell_type": "code",
   "execution_count": 42,
   "metadata": {
    "_cell_guid": "11690bd3-a350-42f9-916a-875c42f0cdb4",
    "_uuid": "f7b0eb9d2839e4b6be6942201c98ac06289a2356"
   },
   "outputs": [
    {
     "data": {
      "text/plain": [
       "medium    41\n",
       "low       39\n",
       "high       7\n",
       "Name: price, dtype: int64"
      ]
     },
     "execution_count": 42,
     "metadata": {},
     "output_type": "execute_result"
    }
   ],
   "source": [
    "X.price[X.alcohol == 'No_Alcohol_Served'].value_counts()"
   ]
  },
  {
   "cell_type": "code",
   "execution_count": 43,
   "metadata": {
    "_cell_guid": "509361fa-dce5-449b-9ef7-aeae8ae3aad8",
    "_uuid": "c31b0f03269641e933b3462cd747b96dfb5ed0ef"
   },
   "outputs": [
    {
     "data": {
      "text/plain": [
       "medium    15\n",
       "high      14\n",
       "low        5\n",
       "Name: price, dtype: int64"
      ]
     },
     "execution_count": 43,
     "metadata": {},
     "output_type": "execute_result"
    }
   ],
   "source": [
    "X.price[X.alcohol == 'Wine-Beer'].value_counts()"
   ]
  },
  {
   "cell_type": "code",
   "execution_count": 44,
   "metadata": {
    "_cell_guid": "b638efc1-8a38-4548-b8b1-7c18e548cc1e",
    "_uuid": "04c7fc028f908e5acd5446bfca6e415587abc78a"
   },
   "outputs": [
    {
     "data": {
      "text/plain": [
       "medium    4\n",
       "high      4\n",
       "low       1\n",
       "Name: price, dtype: int64"
      ]
     },
     "execution_count": 44,
     "metadata": {},
     "output_type": "execute_result"
    }
   ],
   "source": [
    "X.price[X.alcohol == 'Full_Bar'].value_counts()"
   ]
  },
  {
   "cell_type": "markdown",
   "metadata": {
    "_cell_guid": "74c485fd-72a4-40b3-a86b-4c4e1d2a0fc4",
    "_uuid": "3e47a3d96ea64c374180066ec124c149a19ca0b4"
   },
   "source": [
    "**Observations: ** On average, the order of price is **Full_Bar** > **Wine-Beer** > **No_Alcohol_Served**, which does not explain the ratings drinkers of abstemious and social drinkers."
   ]
  },
  {
   "cell_type": "markdown",
   "metadata": {
    "_cell_guid": "f8792fe4-0bd4-48cb-a96d-1a38fd8e1fe3",
    "_uuid": "69cef65aa6b9a0bc64513202923fc1831b55d3c6"
   },
   "source": [
    "### Other Services"
   ]
  },
  {
   "cell_type": "code",
   "execution_count": 45,
   "metadata": {
    "_cell_guid": "e47127fe-1f6e-4b2c-9068-23c1c638196e",
    "_uuid": "f1792dbd892bf852d6a6e0e09b980bc209725119"
   },
   "outputs": [
    {
     "data": {
      "text/plain": [
       "none        119\n",
       "variety       7\n",
       "Internet      4\n",
       "Name: other_services, dtype: int64"
      ]
     },
     "execution_count": 45,
     "metadata": {},
     "output_type": "execute_result"
    }
   ],
   "source": [
    "X.other_services.value_counts()"
   ]
  },
  {
   "cell_type": "code",
   "execution_count": 46,
   "metadata": {
    "_cell_guid": "e51a2693-c903-4235-8791-b2b90f874f26",
    "_uuid": "4757787701000c00e7fa3ce94336ef510b73d13d"
   },
   "outputs": [
    {
     "name": "stdout",
     "output_type": "stream",
     "text": [
      "           overall      food   service\n",
      "none      1.156273  1.193252  1.067643\n",
      "variety   1.498639  1.520748  1.322449\n",
      "Internet  1.315972  1.291667  1.211806\n"
     ]
    }
   ],
   "source": [
    "# mean rating as a function of other_services\n",
    "plot_mean_rating(X[['other_services']])"
   ]
  },
  {
   "cell_type": "markdown",
   "metadata": {
    "_cell_guid": "2f5e2304-34ed-4e37-ba27-b0a754b63910",
    "_uuid": "3a4e58fd227d0d64df296da20da391218ae25e51"
   },
   "source": [
    "**Observations: ** The order of rating is **Variety** > **Internet** > **None**, consistent with the amount of other service provided.\n",
    "<br><br>\n",
    "Again, is it just caused by **price**?"
   ]
  },
  {
   "cell_type": "code",
   "execution_count": 47,
   "metadata": {
    "_cell_guid": "369dda96-53d0-41f1-9b21-bbea97002fcc",
    "_uuid": "2329f272a5e48ea1cd7ec338b97b0e8bb60bd3c5"
   },
   "outputs": [
    {
     "data": {
      "text/plain": [
       "medium    4\n",
       "low       2\n",
       "high      1\n",
       "Name: price, dtype: int64"
      ]
     },
     "execution_count": 47,
     "metadata": {},
     "output_type": "execute_result"
    }
   ],
   "source": [
    "X.price[X.other_services == 'variety'].value_counts()"
   ]
  },
  {
   "cell_type": "code",
   "execution_count": 48,
   "metadata": {
    "_cell_guid": "c2c73e99-6b2c-499a-93d8-958518372163",
    "_uuid": "bf8dba9ca6aea16b1220f3acfbdddfeab1ae62b0"
   },
   "outputs": [
    {
     "data": {
      "text/plain": [
       "medium    3\n",
       "high      1\n",
       "Name: price, dtype: int64"
      ]
     },
     "execution_count": 48,
     "metadata": {},
     "output_type": "execute_result"
    }
   ],
   "source": [
    "X.price[X.other_services == 'Internet'].value_counts()"
   ]
  },
  {
   "cell_type": "code",
   "execution_count": 49,
   "metadata": {
    "_cell_guid": "99d4b260-af52-4f5c-9315-b778b1a09902",
    "_uuid": "64e27c9abb114249e3b283a685ea49dbd1e8ce9a"
   },
   "outputs": [
    {
     "data": {
      "text/plain": [
       "medium    53\n",
       "low       43\n",
       "high      23\n",
       "Name: price, dtype: int64"
      ]
     },
     "execution_count": 49,
     "metadata": {},
     "output_type": "execute_result"
    }
   ],
   "source": [
    "X.price[X.other_services == 'none'].value_counts()"
   ]
  },
  {
   "cell_type": "markdown",
   "metadata": {
    "_cell_guid": "97f089b5-5e3a-477c-bce6-8bcce451a9d9",
    "_uuid": "5c025e24c1f98171f407130012d1fe243e47ad44"
   },
   "source": [
    "**Observations: ** Restaurants with **Internet** actually have a higher mean price than those with **Variety**. So the ratings are indeed affected by the amount of other service provided."
   ]
  },
  {
   "cell_type": "markdown",
   "metadata": {
    "_cell_guid": "0ab52564-ba74-4a25-b648-d8bd3c0787c7",
    "_uuid": "f7e7f792c3af2aa32450c3e72e8cf48047bc12d3"
   },
   "source": [
    "### Dress Code"
   ]
  },
  {
   "cell_type": "code",
   "execution_count": 50,
   "metadata": {
    "_cell_guid": "b1a25d2d-bf55-478a-8632-5d1ec7b7a221",
    "_uuid": "c59c4a1242696518ede953df82799b44ca69cf04"
   },
   "outputs": [
    {
     "data": {
      "text/plain": [
       "informal    118\n",
       "casual       10\n",
       "formal        2\n",
       "Name: dress_code, dtype: int64"
      ]
     },
     "execution_count": 50,
     "metadata": {},
     "output_type": "execute_result"
    }
   ],
   "source": [
    "X.dress_code.value_counts()"
   ]
  },
  {
   "cell_type": "code",
   "execution_count": 51,
   "metadata": {
    "_cell_guid": "aa2518d7-cdd8-447c-960b-bbd22be86df9",
    "_uuid": "92fe45a8ef3aaa965d34f83d960198a98e6ce911"
   },
   "outputs": [
    {
     "name": "stdout",
     "output_type": "stream",
     "text": [
      "           overall      food   service\n",
      "informal  1.166441  1.200562  1.068978\n",
      "casual    1.187739  1.264256  1.118116\n",
      "formal    1.916667  1.750000  1.916667\n"
     ]
    }
   ],
   "source": [
    "# mean rating as a function of dress code\n",
    "plot_mean_rating(X[['dress_code']])"
   ]
  },
  {
   "cell_type": "code",
   "execution_count": 52,
   "metadata": {
    "_cell_guid": "568b1690-c8e1-4009-a0af-5f4b97f00440",
    "_uuid": "8ab14b5bcbc47ebc46ed9d0af5efffc510869234"
   },
   "outputs": [
    {
     "name": "stdout",
     "output_type": "stream",
     "text": [
      "no preference:\n",
      "           overall      food   service\n",
      "informal  1.190018  1.214167  1.091982\n",
      "casual    1.363889  1.470159  1.297381\n",
      "formal    2.000000  1.666667  2.000000\n",
      "\n",
      "informal:\n",
      "          overall      food   service\n",
      "informal  0.93213  0.991930  0.887945\n",
      "casual    0.86000  0.970952  0.750952\n",
      "formal    2.00000  2.000000  2.000000\n",
      "\n",
      "formal:\n",
      "           overall      food   service\n",
      "informal  1.265572  1.229176  1.128978\n",
      "casual    1.185802  1.099383  1.278395\n",
      "formal    1.833333  1.833333  1.833333\n"
     ]
    },
    {
     "name": "stderr",
     "output_type": "stream",
     "text": [
      "/tmp/ipykernel_62006/251077916.py:5: RuntimeWarning: invalid value encountered in divide\n",
      "  mean =  (np.sum(Y, axis=1)/np.sum((R == 1.0), axis=1)).reshape(Y.shape[0],1)\n",
      "/tmp/ipykernel_62006/251077916.py:5: RuntimeWarning: invalid value encountered in divide\n",
      "  mean =  (np.sum(Y, axis=1)/np.sum((R == 1.0), axis=1)).reshape(Y.shape[0],1)\n",
      "/tmp/ipykernel_62006/251077916.py:5: RuntimeWarning: invalid value encountered in divide\n",
      "  mean =  (np.sum(Y, axis=1)/np.sum((R == 1.0), axis=1)).reshape(Y.shape[0],1)\n"
     ]
    }
   ],
   "source": [
    "# mean rating as a function of smoking alcohol, split into different \n",
    "# groups of consumers with different dress preferences\n",
    "y = plot_mean_rating_split(X[['dress_code']],user_info.dress_preference)\n",
    "\n",
    "print('no preference:')\n",
    "print(y['no preference'])\n",
    "print('\\ninformal:')\n",
    "print(y['informal'])\n",
    "print('\\nformal:')\n",
    "print(y['formal'])"
   ]
  },
  {
   "cell_type": "markdown",
   "metadata": {
    "_cell_guid": "b86606d0-c741-4959-8917-6e4695c86bb9",
    "_uuid": "a1c20bd7e1fbe7b458164a4f612272b255ddc5b7"
   },
   "source": [
    "**Observations: ** Restaurants that require the customers to dress formally have the highest ratings. This is not a surprise because they should be expensive/high-class restaurants. Again, we can check the corresponding price in the following."
   ]
  },
  {
   "cell_type": "code",
   "execution_count": 53,
   "metadata": {
    "_cell_guid": "0b47f5ca-1061-44bb-a3bd-9f9ed0e023d2",
    "_uuid": "0b74b5d481782e9b64eecd1ee9a444c9d1e780b0"
   },
   "outputs": [
    {
     "data": {
      "text/plain": [
       "medium    1\n",
       "high      1\n",
       "Name: price, dtype: int64"
      ]
     },
     "execution_count": 53,
     "metadata": {},
     "output_type": "execute_result"
    }
   ],
   "source": [
    "X.price[X.dress_code == 'formal'].value_counts()"
   ]
  },
  {
   "cell_type": "code",
   "execution_count": 54,
   "metadata": {
    "_cell_guid": "90e18a9c-cb1b-45e3-8359-44fdb0e592fd",
    "_uuid": "147cfc9f8bcc5c65ff403f9dcda28aa87c5b52d6"
   },
   "outputs": [
    {
     "data": {
      "text/plain": [
       "medium    57\n",
       "low       40\n",
       "high      21\n",
       "Name: price, dtype: int64"
      ]
     },
     "execution_count": 54,
     "metadata": {},
     "output_type": "execute_result"
    }
   ],
   "source": [
    "X.price[X.dress_code == 'informal'].value_counts()"
   ]
  },
  {
   "cell_type": "code",
   "execution_count": 55,
   "metadata": {
    "_cell_guid": "a6d8b620-90ba-4f7b-8863-5bea5e2b7217",
    "_uuid": "eb43ee5e3af3019097161ccf05965f352bbe9887"
   },
   "outputs": [
    {
     "data": {
      "text/plain": [
       "low       5\n",
       "high      3\n",
       "medium    2\n",
       "Name: price, dtype: int64"
      ]
     },
     "execution_count": 55,
     "metadata": {},
     "output_type": "execute_result"
    }
   ],
   "source": [
    "X.price[X.dress_code == 'casual'].value_counts()"
   ]
  },
  {
   "cell_type": "markdown",
   "metadata": {
    "_cell_guid": "2524be32-0666-4529-b88a-059e2650843a",
    "_uuid": "5d5edda827f0182dc6183bf8c4363d49e190a38b"
   },
   "source": [
    "### Accessibility"
   ]
  },
  {
   "cell_type": "code",
   "execution_count": 56,
   "metadata": {
    "_cell_guid": "31e3497f-94d5-4c75-b0a5-f30633b5bf58",
    "_uuid": "a1b9d3cb41f98610f0c74c7c2719d3436c8fd5f9"
   },
   "outputs": [
    {
     "data": {
      "text/plain": [
       "no_accessibility    76\n",
       "completely          45\n",
       "partially            9\n",
       "Name: accessibility, dtype: int64"
      ]
     },
     "execution_count": 56,
     "metadata": {},
     "output_type": "execute_result"
    }
   ],
   "source": [
    "X.accessibility.value_counts()"
   ]
  },
  {
   "cell_type": "code",
   "execution_count": 57,
   "metadata": {
    "_cell_guid": "aee4b3de-dee6-44ec-91ea-de2eb47ade11",
    "_uuid": "48a22bbff10d64af69ecbddd92245025ac5c7be3"
   },
   "outputs": [
    {
     "name": "stdout",
     "output_type": "stream",
     "text": [
      "                   overall      food   service\n",
      "no_accessibility  1.196189  1.206242  1.091278\n",
      "completely        1.132494  1.203597  1.049709\n",
      "partially         1.275356  1.330294  1.219991\n"
     ]
    }
   ],
   "source": [
    "# mean rating as a function of dress accessibility\n",
    "plot_mean_rating(X[['accessibility']])"
   ]
  },
  {
   "cell_type": "markdown",
   "metadata": {
    "_cell_guid": "bf5815f4-3282-4fd6-8a69-64843abeea92",
    "_uuid": "5de302cfb97fd1c207d95bd6657405fc9a8f66e4"
   },
   "source": [
    "**Observations: ** If accessibility could affect the rating, we would expect **completely > partially > no_accessibility**. However, this is not we see here. In the following, we can see that the trend is simply due to price again."
   ]
  },
  {
   "cell_type": "code",
   "execution_count": 58,
   "metadata": {
    "_cell_guid": "7139e9c9-035f-472f-9d1e-844d271d4dd0",
    "_uuid": "8440fbe6bd31bea194533fb8c291f62368bdb508"
   },
   "outputs": [
    {
     "data": {
      "text/plain": [
       "medium    8\n",
       "low       1\n",
       "Name: price, dtype: int64"
      ]
     },
     "execution_count": 58,
     "metadata": {},
     "output_type": "execute_result"
    }
   ],
   "source": [
    "X.price[X.accessibility == 'partially'].value_counts()"
   ]
  },
  {
   "cell_type": "code",
   "execution_count": 59,
   "metadata": {
    "_cell_guid": "ab3e4112-97b0-4184-a3a2-e2b1ba21d89c",
    "_uuid": "54771a6522dfb6b0d7c8ff08acc9e1ad0eaa147b"
   },
   "outputs": [
    {
     "data": {
      "text/plain": [
       "medium    39\n",
       "high      23\n",
       "low       14\n",
       "Name: price, dtype: int64"
      ]
     },
     "execution_count": 59,
     "metadata": {},
     "output_type": "execute_result"
    }
   ],
   "source": [
    "X.price[X.accessibility == 'no_accessibility'].value_counts()"
   ]
  },
  {
   "cell_type": "code",
   "execution_count": 60,
   "metadata": {
    "_cell_guid": "23459ede-3085-4789-b9e7-f46dde724b2d",
    "_uuid": "1d4205da40c09d85dffe0e7c2d35ec7c5fe80cb0"
   },
   "outputs": [
    {
     "data": {
      "text/plain": [
       "low       30\n",
       "medium    13\n",
       "high       2\n",
       "Name: price, dtype: int64"
      ]
     },
     "execution_count": 60,
     "metadata": {},
     "output_type": "execute_result"
    }
   ],
   "source": [
    "X.price[X.accessibility == 'completely'].value_counts()"
   ]
  },
  {
   "cell_type": "markdown",
   "metadata": {
    "_cell_guid": "ebcb6dfa-742d-4140-a041-a20e65123a12",
    "_uuid": "31fb56e00024a23b91d73b4fdaa26b1d6aaa165b"
   },
   "source": [
    "### Area"
   ]
  },
  {
   "cell_type": "code",
   "execution_count": 61,
   "metadata": {
    "_cell_guid": "c5b821ef-fe3a-4756-8cd0-7e4c88b5cd7f",
    "_uuid": "9812c53d15a068d6dc1593ed1fedfe93fa253d4f"
   },
   "outputs": [
    {
     "data": {
      "text/plain": [
       "closed    115\n",
       "open       15\n",
       "Name: area, dtype: int64"
      ]
     },
     "execution_count": 61,
     "metadata": {},
     "output_type": "execute_result"
    }
   ],
   "source": [
    "X.area.value_counts()"
   ]
  },
  {
   "cell_type": "code",
   "execution_count": 62,
   "metadata": {
    "_cell_guid": "e282383b-949a-4deb-a249-2123166e1a87",
    "_uuid": "485db0a83366ea5d23c3a9e6df24ed86ed880145"
   },
   "outputs": [
    {
     "name": "stdout",
     "output_type": "stream",
     "text": [
      "         overall      food   service\n",
      "open    1.069992  1.231315  0.949101\n",
      "closed  1.193921  1.211645  1.103630\n"
     ]
    }
   ],
   "source": [
    "# mean rating as a function of area\n",
    "plot_mean_rating(X[['area']])"
   ]
  },
  {
   "cell_type": "markdown",
   "metadata": {
    "_cell_guid": "d7d15357-50ac-47dc-92da-ebb79e968905",
    "_uuid": "10805ff2229123deb690886b37ff33938a5f1cd6"
   },
   "source": [
    "**Observations: ** Food rating does not depend on **area**, but from overall and service ratings, we can tell that consumers still prefer closed area over open area."
   ]
  },
  {
   "cell_type": "markdown",
   "metadata": {
    "_cell_guid": "7ef76451-055f-41fc-ad06-721498417fba",
    "_uuid": "896088485769eefb59cfa5535fcba2a1d96e25c6"
   },
   "source": [
    "### Cuisine"
   ]
  },
  {
   "cell_type": "code",
   "execution_count": 63,
   "metadata": {
    "_cell_guid": "d4a2bc9f-6a25-474e-b615-09ae9c96f423",
    "_uuid": "6df5f7fac13eebd68c8bc93177b8737863ed396b"
   },
   "outputs": [
    {
     "data": {
      "text/plain": [
       "Rcuisine_American             5.0\n",
       "Rcuisine_Armenian             1.0\n",
       "Rcuisine_Bakery               1.0\n",
       "Rcuisine_Bar                 13.0\n",
       "Rcuisine_Bar_Pub_Brewery      6.0\n",
       "Rcuisine_Breakfast-Brunch     1.0\n",
       "Rcuisine_Burgers              5.0\n",
       "Rcuisine_Cafe-Coffee_Shop     1.0\n",
       "Rcuisine_Cafeteria            9.0\n",
       "Rcuisine_Chinese              3.0\n",
       "Rcuisine_Contemporary         2.0\n",
       "Rcuisine_Family               2.0\n",
       "Rcuisine_Fast_Food            8.0\n",
       "Rcuisine_Game                 1.0\n",
       "Rcuisine_International        4.0\n",
       "Rcuisine_Italian              4.0\n",
       "Rcuisine_Japanese             5.0\n",
       "Rcuisine_Mediterranean        1.0\n",
       "Rcuisine_Mexican             28.0\n",
       "Rcuisine_Pizzeria             5.0\n",
       "Rcuisine_Regional             1.0\n",
       "Rcuisine_Seafood              5.0\n",
       "Rcuisine_Vietnamese           1.0\n",
       "dtype: float64"
      ]
     },
     "execution_count": 63,
     "metadata": {},
     "output_type": "execute_result"
    }
   ],
   "source": [
    "# the number of restaurants for each cuisine type \n",
    "X.iloc[:,:23].sum()"
   ]
  },
  {
   "cell_type": "code",
   "execution_count": 64,
   "metadata": {
    "_cell_guid": "ba9fd2fe-0f80-45bd-b628-fdec38822885",
    "_uuid": "25090b52b9f28cf79e1cba8ea193dde32c9f3255"
   },
   "outputs": [],
   "source": [
    "# Besides Mexican, Cafeteria and Fast_Food, group the other types into \n",
    "# the following 5 types\n",
    "\n",
    "X['Rcuisine_Bar_Pub'] = np.zeros(X.shape[0])\n",
    "index = ((X.Rcuisine_Bar == 1) | (X.Rcuisine_Bar_Pub_Brewery == 1))\n",
    "X.loc[index,'Rcuisine_Bar_Pub'] = 1\n",
    "\n",
    "X['Rcuisine_Asian'] = np.zeros(X.shape[0])\n",
    "index = ((X.Rcuisine_Chinese == 1) | (X.Rcuisine_Japanese == 1) | (X.Rcuisine_Vietnamese == 1))\n",
    "X.loc[index,'Rcuisine_Asian'] = 1\n",
    "\n",
    "X['Rcuisine_Western'] = np.zeros(X.shape[0])\n",
    "index = ((X.Rcuisine_Armenian == 1) | (X.Rcuisine_Italian == 1) | (X.Rcuisine_Mediterranean == 1) \n",
    "         | (X.Rcuisine_Pizzeria == 1) | (X.Rcuisine_Seafood == 1))\n",
    "X.loc[index,'Rcuisine_Western'] = 1\n",
    "\n",
    "X['Rcuisine_American_Burgers'] = np.zeros(X.shape[0])\n",
    "index = ((X.Rcuisine_American == 1) | (X.Rcuisine_Burgers == 1))\n",
    "X.loc[index,'Rcuisine_American_Burgers'] = 1\n",
    "\n",
    "X['Rcuisine_Others'] = np.zeros(X.shape[0])\n",
    "index = (((X.Rcuisine_Bakery == 1) | (X[\"Rcuisine_Breakfast-Brunch\"] == 1) | (X[\"Rcuisine_Cafe-Coffee_Shop\"] == 1) \n",
    "        | (X.Rcuisine_Contemporary == 1) | (X.Rcuisine_Family == 1) | (X.Rcuisine_Game == 1) \n",
    "        | (X.Rcuisine_International == 1) | (X.Rcuisine_Regional == 1)))\n",
    "X.loc[index,'Rcuisine_Others'] = 1"
   ]
  },
  {
   "cell_type": "code",
   "execution_count": 65,
   "metadata": {
    "_cell_guid": "52af07a1-80a5-404c-badb-95060c32924b",
    "_uuid": "af4aa1515f4d650abaa30936ad286509ef6e7a47"
   },
   "outputs": [
    {
     "name": "stdout",
     "output_type": "stream",
     "text": [
      "Number of restaurants for each type\n",
      "Mexican: 28\n",
      "American/Burgers: 10\n",
      "Asian: 9\n",
      "Bar/Pub: 14\n",
      "Cafeteria: 9\n",
      "Fast Food: 8\n",
      "Others: 13\n",
      "Western: 16\n"
     ]
    }
   ],
   "source": [
    "print(\"Number of restaurants for each type\")\n",
    "print(\"Mexican: {}\".format(int(X.Rcuisine_Mexican.sum())))\n",
    "print(\"American/Burgers: {}\".format(int(X.Rcuisine_American_Burgers.sum())))\n",
    "print(\"Asian: {}\".format(int(X.Rcuisine_Asian.sum()))) \n",
    "print(\"Bar/Pub: {}\".format(int(X.Rcuisine_Bar_Pub.sum()))) \n",
    "print(\"Cafeteria: {}\".format(int(X.Rcuisine_Cafeteria.sum()))) \n",
    "print(\"Fast Food: {}\".format(int(X.Rcuisine_Fast_Food.sum()))) \n",
    "print(\"Others: {}\".format(int(X.Rcuisine_Others.sum())))\n",
    "print(\"Western: {}\".format(int(X.Rcuisine_Western.sum())))"
   ]
  },
  {
   "cell_type": "code",
   "execution_count": 66,
   "metadata": {
    "_cell_guid": "3719e1e7-72b7-49b7-ab6d-86333105bca4",
    "_uuid": "08eb898efdcaf92b12eeef64d8bf27d0876a293f"
   },
   "outputs": [
    {
     "name": "stdout",
     "output_type": "stream",
     "text": [
      "                            overall      food   service\n",
      "Rcuisine_Mexican           1.144555  1.265529  1.074582\n",
      "Rcuisine_American_Burgers  1.139048  1.188810  1.004524\n",
      "Rcuisine_Asian             1.276089  1.352887  1.166612\n",
      "Rcuisine_Bar_Pub           1.273005  1.201773  1.132715\n",
      "Rcuisine_Cafeteria         1.210745  1.138655  1.089418\n",
      "Rcuisine_Fast_Food         1.085827  1.062563  0.864078\n",
      "Rcuisine_Others            1.389438  1.364469  1.287546\n",
      "Rcuisine_Western           1.204843  1.236983  1.077241\n"
     ]
    }
   ],
   "source": [
    "columns = ['Rcuisine_Mexican','Rcuisine_American_Burgers', 'Rcuisine_Asian','Rcuisine_Bar_Pub', 'Rcuisine_Cafeteria',\n",
    "           'Rcuisine_Fast_Food','Rcuisine_Others','Rcuisine_Western']\n",
    "plot_mean_rating(X[columns],rotate=True)"
   ]
  },
  {
   "cell_type": "markdown",
   "metadata": {
    "_cell_guid": "b09a8232-9fcd-4487-91a3-9b23e566a9b4",
    "_uuid": "412c37fd74475c8c992a31999473f84bfec8929b"
   },
   "source": [
    "Let's also check the correlation coefficients between these cuisine types and the ratings"
   ]
  },
  {
   "cell_type": "code",
   "execution_count": 67,
   "metadata": {
    "_cell_guid": "ccf33476-7ec8-4f70-b347-95ab3eb05f6c",
    "_uuid": "7486464786dd05da9ba401085f4431063487e28a"
   },
   "outputs": [],
   "source": [
    "X_cuisine = X[['Rcuisine_Mexican','Rcuisine_American_Burgers','Rcuisine_Asian','Rcuisine_Bar_Pub','Rcuisine_Cafeteria',\n",
    "           'Rcuisine_Fast_Food','Rcuisine_Western','Rcuisine_Others']]\n",
    "\n",
    "X_cuisine['Y_food'] = Y_food_mean\n",
    "X_cuisine['Y_overall'] = Y_overall_mean\n",
    "X_cuisine['Y_service'] = Y_service_mean"
   ]
  },
  {
   "cell_type": "code",
   "execution_count": 68,
   "metadata": {
    "_cell_guid": "d24e3f73-1ff5-42c3-a041-2aa26daafa19",
    "_uuid": "9a7542e0ac3aafafe586bed62c17328ae76b773a"
   },
   "outputs": [
    {
     "name": "stdout",
     "output_type": "stream",
     "text": [
      "Rcuisine_Mexican            -0.052793\n",
      "Rcuisine_American_Burgers   -0.033656\n",
      "Rcuisine_Asian               0.075600\n",
      "Rcuisine_Bar_Pub             0.093221\n",
      "Rcuisine_Cafeteria           0.024391\n",
      "Rcuisine_Fast_Food          -0.069017\n",
      "Rcuisine_Western             0.027151\n",
      "Rcuisine_Others              0.200969\n",
      "Name: Y_overall, dtype: float64\n",
      "\n",
      "\n",
      "Rcuisine_Mexican             0.080017\n",
      "Rcuisine_American_Burgers   -0.021444\n",
      "Rcuisine_Asian               0.112147\n",
      "Rcuisine_Bar_Pub            -0.012480\n",
      "Rcuisine_Cafeteria          -0.060732\n",
      "Rcuisine_Fast_Food          -0.114679\n",
      "Rcuisine_Western             0.025572\n",
      "Rcuisine_Others              0.148492\n",
      "Name: Y_food, dtype: float64\n",
      "\n",
      "\n",
      "Rcuisine_Mexican            -0.017664\n",
      "Rcuisine_American_Burgers   -0.070513\n",
      "Rcuisine_Asian               0.066238\n",
      "Rcuisine_Bar_Pub             0.048983\n",
      "Rcuisine_Cafeteria           0.002966\n",
      "Rcuisine_Fast_Food          -0.170635\n",
      "Rcuisine_Western            -0.009636\n",
      "Rcuisine_Others              0.202107\n",
      "Name: Y_service, dtype: float64\n",
      "\n",
      "\n"
     ]
    }
   ],
   "source": [
    "print(X_cuisine.corr()['Y_overall'][:-3])\n",
    "print('\\n')\n",
    "print(X_cuisine.corr()['Y_food'][:-3])\n",
    "print('\\n')\n",
    "print(X_cuisine.corr()['Y_service'][:-3])\n",
    "print('\\n')"
   ]
  },
  {
   "cell_type": "markdown",
   "metadata": {
    "_cell_guid": "ff9ba7a0-bab7-49e9-9404-37d68655ea1e",
    "_uuid": "207dc0ce42682631dc4d5fe4054d7441dba6f69d",
    "collapsed": true
   },
   "source": [
    "**Observations: ** Although the correlations are slightly different between different ratings, **Rcuisine_Others** generally gets higher ratings and **Rcuisine_Fast_Food** generally gets lower ratings. Asian restaurants perform really well at food rating. Interestingly, Mexican restaurants have above than average food rating but just roughly average overall and service ratings.  "
   ]
  },
  {
   "cell_type": "markdown",
   "metadata": {
    "_cell_guid": "ad8fac6b-6b70-4769-a2b2-1cb93f64bc34",
    "_uuid": "e3ea9535d3a99c4e3fcf3dfc1583ead3156affdf"
   },
   "source": [
    "## Conclusion"
   ]
  },
  {
   "cell_type": "markdown",
   "metadata": {
    "_cell_guid": "696bedfd-e2af-4174-8f86-b652fda4d3ce",
    "_uuid": "c3e91e0abaaa25c43996b6dec7715b6b3e03f22e"
   },
   "source": [
    "So what features affect the ratings? \n",
    "- **Price** is definitely one. Generally medium and high-price restaurants have better rating. However, it may be better to transform the original categories (low, medium, high) using dummy variables (one-hot encoding) instead of directly mapping them to numbers (such as 1,2,3). This is because we saw that people with different budget actually react differently on the price change.\n",
    "<br><br>\n",
    "- **Parking options** can affect the ratings too, but not the food rating. Also, it only matters to car owners. It's probably only necessary to distinguish between public parking and the other options (including no parking) because we saw that restaurants with public parking have significantly lower overall and service ratings.\n",
    "<br><br>\n",
    "- **Smoking Area** is only important for smokers. Especially, restaurants that do not allow smoking are low rated, and restaurants with their smoking area located at bar are highly rated.\n",
    "<br><br>\n",
    "- **Alcohol** is also relevant but different types of drinkers react differently on the change of alcohol service (No_Alcohol_Served, Wine-Beer, Full_Bar). Similar to **Price**, it may be better to transform the original three categories using dummy variables.\n",
    "<br><br>\n",
    "- **Other Services** has influence on the ratings. We saw that restaurants with a variety of other service perform better than those with only Internet. And those with Internet are better than those without other services. \n",
    "<br><br>\n",
    "- The effect of **Dress Code** on the ratings is probably due to **Price**. However, there are only two restaurants that require the customers to dress formally and their ratings are close to 2. I would keep a feature (0 or 1) to show whether a restaurant has formal dress code because when this condition is true, the ratings are essentially guaranteed to be very good.\n",
    "<br><br>\n",
    "- **Accessibility** does not affect the ratings. For **Area**, people prefer closed space over open space. For **Cuisine**, what restaurant/food types are relevant depend on which rating we are trying to predict. But in general, some types have significant influence. For example, fast food restaurants generally have low ratings. "
   ]
  }
 ],
 "metadata": {
  "kernelspec": {
   "display_name": "Python 3 (ipykernel)",
   "language": "python",
   "name": "python3"
  },
  "language_info": {
   "codemirror_mode": {
    "name": "ipython",
    "version": 3
   },
   "file_extension": ".py",
   "mimetype": "text/x-python",
   "name": "python",
   "nbconvert_exporter": "python",
   "pygments_lexer": "ipython3",
   "version": "3.10.16"
  }
 },
 "nbformat": 4,
 "nbformat_minor": 1
}
